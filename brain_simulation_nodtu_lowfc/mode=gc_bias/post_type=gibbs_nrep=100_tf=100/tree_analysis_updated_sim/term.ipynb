{
 "cells": [
  {
   "cell_type": "code",
   "execution_count": null,
   "id": "3550d645",
   "metadata": {},
   "outputs": [],
   "source": [
    "setwd('/fs/cbcb-lab/rob/students/noor/Uncertainity/treeTerminusScripts')\n",
    "suppressPackageStartupMessages(source(\"old_terminus_helper.R\"))\n",
    "\n",
    "quantDir <- \"/fs/cbcb-scratch/jfan03/treeterm-paper/output/seed=1_fc=1.4:2.8/post_type=gibbs_nrep=100_tf=100/salmon_quants\"\n",
    "samples <- as.vector(outer(c(1:6), c(1,2), function(x,y) paste(x,y,sep=\"_\")))                           \n",
    "files <- file.path(quantDir, samples, \"quant.sf\")\n",
    "coldata <- data.frame(files = files, names = samples, condition = as.factor(rep(c(1,2),each=6)))\n",
    "\n",
    "termFile <- \"/fs/cbcb-scratch/jfan03/treeterm-paper/output/seed=1_fc=1.4:2.8\"\n",
    "seBrainSim <- tximeta(coldata)\n",
    "yTermThrNS <- seBrainSim[rownames(tse)[1:l],]\n",
    "groupsClust <- parseClustFile(file.path(dir, \"old\", \"1_1\", \"clusters.txt\"), yTermThrNS)\n",
    "mInds <- seq(nrow(yTermThrNS) + length(groupsClust))\n",
    "yAggTermThrNS <- prepOSwish(yTermThrNS, mInds, groupsClust)\n",
    "\n",
    "rownames(yAggTermThrNS)[l+1:length(groupsClust)] <- paste(\"Node\", as.character(l+1:length(groupsClust)),sep=\"\")\n",
    "metadata(yAggTermThrNS)[[\"txpsAnn\"]] <- rowData(yTermThrNS)\n",
    "yAggTermThrNS <- yAggTermThrNS[-unlist(groupsClust),]\n",
    "dim(yAggTermThrNS)"
   ]
  },
  {
   "cell_type": "code",
   "execution_count": 2,
   "id": "0677c306",
   "metadata": {},
   "outputs": [],
   "source": [
    "setwd('/fs/cbcb-lab/rob/students/noor/Uncertainity/treeTerminusScripts')\n",
    "suppressPackageStartupMessages(source(\"old_terminus_helper.R\"))"
   ]
  },
  {
   "cell_type": "code",
   "execution_count": null,
   "id": "78b590a1",
   "metadata": {},
   "outputs": [],
   "source": [
    "                               "
   ]
  }
 ],
 "metadata": {
  "kernelspec": {
   "display_name": "R",
   "language": "R",
   "name": "ir"
  },
  "language_info": {
   "codemirror_mode": "r",
   "file_extension": ".r",
   "mimetype": "text/x-r-source",
   "name": "R",
   "pygments_lexer": "r",
   "version": "4.3.0"
  }
 },
 "nbformat": 4,
 "nbformat_minor": 5
}
