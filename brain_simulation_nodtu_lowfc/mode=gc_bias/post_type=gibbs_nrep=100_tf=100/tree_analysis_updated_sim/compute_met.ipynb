{
 "cells": [
  {
   "cell_type": "markdown",
   "id": "6d08f864",
   "metadata": {},
   "source": [
    "### Consensus"
   ]
  },
  {
   "cell_type": "code",
   "execution_count": 4,
   "id": "87c6101a",
   "metadata": {},
   "outputs": [
    {
     "name": "stderr",
     "output_type": "stream",
     "text": [
      "reading tree\n",
      "\n",
      "importing quantifications\n",
      "\n",
      "reading in files with read_tsv\n",
      "\n",
      "1 \n",
      "2 \n",
      "3 \n",
      "4 \n",
      "5 \n",
      "6 \n",
      "7 \n",
      "8 \n",
      "9 \n",
      "10 \n",
      "11 \n",
      "12 \n",
      "\n",
      "\n",
      "found matching transcriptome:\n",
      "[ GENCODE - Homo sapiens - release 26 ]\n",
      "\n",
      "loading existing TxDb created: 2023-03-02 17:08:07\n",
      "\n",
      "Loading required package: GenomicFeatures\n",
      "\n",
      "Loading required package: AnnotationDbi\n",
      "\n",
      "loading existing transcript ranges created: 2023-03-02 21:45:10\n",
      "\n",
      "Missing txps 3911\n",
      "\n",
      "Aggregation Started\n",
      "\n",
      "Aggregation Ended\n",
      "\n"
     ]
    }
   ],
   "source": [
    "setwd('/fs/cbcb-lab/rob/students/noor/Uncertainity/treeTerminusScripts')\n",
    "\n",
    "suppressPackageStartupMessages(source(\"tree_helper_function.R\"))\n",
    "suppressPackageStartupMessages(source(\"tree_term_climb.R\"))\n",
    "suppressPackageStartupMessages(library(beaveR))\n",
    "quantDir <- \"/fs/cbcb-scratch/jfan03/treeterm-paper/output/seed=1_fc=1.4:2.8/post_type=gibbs_nrep=100_tf=100/salmon_quants\"\n",
    "saveDir <- \"environment/brain_sim_nodtu_lowfc/mode=gc_bias/post_type=gibbs_nrep=100_tf=100/comp_trees_updated_sim\"\n",
    "samples <- as.vector(outer(c(1:6), c(1,2), function(x,y) paste(x,y,sep=\"_\")))\n",
    "                           \n",
    "files <- file.path(quantDir, samples, \"quant.sf\")\n",
    "coldata <- data.frame(files = files, names = samples, condition = as.factor(rep(c(1,2),each=6)))\n",
    "clustFile <- \"/fs/cbcb-scratch/jfan03/treeterm-paper/output/seed=1_fc=1.4:2.8/post_type=gibbs_nrep=100_tf=100/terminus/no_threshold0/cluster_nwk.txt\"\n",
    "tseCons <- buildTSE(treeTermFile = clustFile, coldata = coldata)\n",
    "treeCons <- rowTree(tseCons)\n",
    "l <- length(treeCons$tip)\n",
    "\n",
    "termFile <- \"/fs/cbcb-scratch/jfan03/treeterm-paper/output/seed=1_fc=1.4:2.8/post_type=gibbs_nrep=100_tf=100/terminus/old/1_1/clusters.txt\""
   ]
  },
  {
   "cell_type": "code",
   "execution_count": 5,
   "id": "2633124f",
   "metadata": {},
   "outputs": [],
   "source": [
    "load(file.path(saveDir, \"treeDEFDR_OL.RData\"))\n",
    "# load(file.path(saveDir, \"tAfterBHMoreClimbMIRVUp.RData\"))\n",
    "# load(file.path(saveDir, \"treeDEFDR.RData\"))\n",
    "# load(file.path(saveDir, \"treeDEFDR_OL.RData\"))\n",
    "load(file.path(saveDir, \"bouthBrain.RData\"))\n",
    "load(file.path(saveDir, \"bSwishCons.RData\"))"
   ]
  },
  {
   "cell_type": "code",
   "execution_count": 3,
   "id": "c367f9b0",
   "metadata": {},
   "outputs": [
    {
     "data": {
      "text/html": [
       "1"
      ],
      "text/latex": [
       "1"
      ],
      "text/markdown": [
       "1"
      ],
      "text/plain": [
       "[1] 1"
      ]
     },
     "metadata": {},
     "output_type": "display_data"
    },
    {
     "data": {
      "text/html": [
       "1"
      ],
      "text/latex": [
       "1"
      ],
      "text/markdown": [
       "1"
      ],
      "text/plain": [
       "[1] 1"
      ]
     },
     "metadata": {},
     "output_type": "display_data"
    },
    {
     "data": {
      "text/html": [
       "1"
      ],
      "text/latex": [
       "1"
      ],
      "text/markdown": [
       "1"
      ],
      "text/plain": [
       "[1] 1"
      ]
     },
     "metadata": {},
     "output_type": "display_data"
    }
   ],
   "source": [
    "which(bouthBrain[[1]][[\"results.by.node\"]][[\"is.driver\"]])\n",
    "which(bouthBrain[[2]][[\"results.by.node\"]][[\"is.driver\"]])\n",
    "which(bouthBrain[[3]][[\"results.by.node\"]][[\"is.driver\"]])"
   ]
  },
  {
   "cell_type": "code",
   "execution_count": 6,
   "id": "89f405ec",
   "metadata": {},
   "outputs": [],
   "source": [
    "load(\"/fs/cbcb-scratch/jfan03/treeterm-paper/output/seed=1_fc=1.4:2.8/sim_expr.rda\")\n",
    "suppressPackageStartupMessages(library(TreeSummarizedExperiment))\n",
    "suppressPackageStartupMessages(library(ape))\n",
    "\n",
    "missingTxps <- setdiff(treeCons$tip.label, rownames(sim.counts.mat))\n",
    "dts <- Reduce(union, c(names(iso.dge)[iso.dge], names(iso.dte)[iso.dte], names(iso.dte.only)[iso.dte.only], \n",
    "                       names(iso.dtu)[iso.dtu]))\n",
    "dts <- intersect(dts, rownames(sim.counts.mat))\n",
    "sim.counts.mat <- rbind(sim.counts.mat, matrix(0, nrow = length(missingTxps), ncol = ncol(sim.counts.mat),\n",
    "                                               dimnames = list(missingTxps, colnames(sim.counts.mat))))\n",
    "sim.counts.mat <- sim.counts.mat[treeCons$tip.label,]\n",
    "dts <- intersect(dts, rownames(sim.counts.mat))\n",
    "\n",
    "innNodes <- l+1:treeCons$Nnode\n",
    "aggCountsNodes <- computeAggNodesU(treeCons, c(1:length(treeCons$tip),innNodes), sim.counts.mat)\n",
    "logFCNodes <- ifelse(rowSums(aggCountsNodes)==0, 0, log2(aggCountsNodes[,2]+1)-log2(aggCountsNodes[,1]+1))\n",
    "names(logFCNodes)[(l+1):length(logFCNodes)] <- paste(\"Node\", names(logFCNodes)[(l+1):length(logFCNodes)], sep=\"\")\n",
    "rootFC <- abs(logFCNodes[l+1])"
   ]
  },
  {
   "cell_type": "code",
   "execution_count": 5,
   "id": "5d9ad584",
   "metadata": {},
   "outputs": [
    {
     "data": {
      "text/html": [
       "0"
      ],
      "text/latex": [
       "0"
      ],
      "text/markdown": [
       "0"
      ],
      "text/plain": [
       "[1] 0"
      ]
     },
     "metadata": {},
     "output_type": "display_data"
    }
   ],
   "source": [
    "mean(abs(logFCNodes[setdiff(seq(l),match(dts, names(logFCNodes)))])>rootFC)"
   ]
  },
  {
   "cell_type": "code",
   "execution_count": 6,
   "id": "1562b165",
   "metadata": {},
   "outputs": [
    {
     "data": {
      "text/html": [
       "<strong>Node138328:</strong> 0.0127026262561536"
      ],
      "text/latex": [
       "\\textbf{Node138328:} 0.0127026262561536"
      ],
      "text/markdown": [
       "**Node138328:** 0.0127026262561536"
      ],
      "text/plain": [
       "Node138328 \n",
       "0.01270263 "
      ]
     },
     "metadata": {},
     "output_type": "display_data"
    }
   ],
   "source": [
    "rootFC"
   ]
  },
  {
   "cell_type": "code",
   "execution_count": 11,
   "id": "f8360362",
   "metadata": {},
   "outputs": [],
   "source": [
    "y <- fishpond::scaleInfReps(tseCons[1:l,])\n",
    "y <- labelKeep(y)\n",
    "set.seed(10)\n",
    "y <- swish(y, x=\"condition\")"
   ]
  },
  {
   "cell_type": "markdown",
   "id": "6d230809",
   "metadata": {},
   "source": [
    "#### Terminus"
   ]
  },
  {
   "cell_type": "code",
   "execution_count": 7,
   "id": "f22dc190",
   "metadata": {},
   "outputs": [],
   "source": [
    "suppressPackageStartupMessages(source(\"old_terminus_helper.R\"))\n",
    "yTermThrNS <- tseCons[1:l,]\n",
    "groupsClust <- parseClustFile(termFile, yTermThrNS)\n",
    "mInds <- seq(nrow(yTermThrNS) + length(groupsClust))\n",
    "yAggTermThrNS <- prepOSwish(yTermThrNS, mInds, groupsClust)\n",
    "yAggTermThrNS <- yAggTermThrNS[-unlist(groupsClust),]\n",
    "yTerm <- fishpond::scaleInfReps(yAggTermThrNS)\n",
    "yTerm <- labelKeep(yTerm)\n",
    "set.seed(10)\n",
    "yTerm <- swish(yTerm, x=\"condition\")"
   ]
  },
  {
   "cell_type": "code",
   "execution_count": 8,
   "id": "f6ad0874",
   "metadata": {},
   "outputs": [],
   "source": [
    "aggCountsNodes <- computeOAggNodesU(groupsClust, mInds, sim.counts.mat)\n",
    "logFCNodesTerm <- ifelse(rowSums(aggCountsNodes)==0, 0, log2(aggCountsNodes[,2]+1)-log2(aggCountsNodes[,1]+1))"
   ]
  },
  {
   "cell_type": "markdown",
   "id": "dfa4e9be",
   "metadata": {},
   "source": [
    "#### Gene Level"
   ]
  },
  {
   "cell_type": "code",
   "execution_count": 9,
   "id": "8062968e",
   "metadata": {},
   "outputs": [
    {
     "name": "stderr",
     "output_type": "stream",
     "text": [
      "loading existing TxDb created: 2023-03-02 17:08:07\n",
      "\n",
      "obtaining transcript-to-gene mapping from database\n",
      "\n",
      "loading existing gene ranges created: 2023-03-02 17:08:18\n",
      "\n",
      "summarizing abundance\n",
      "\n",
      "summarizing counts\n",
      "\n",
      "summarizing length\n",
      "\n",
      "summarizing inferential replicates\n",
      "\n"
     ]
    }
   ],
   "source": [
    "gse <- summarizeToGene(tseCons[1:l,])\n",
    "gy <- fishpond::scaleInfReps(gse)\n",
    "set.seed(10)\n",
    "gy <- labelKeep(gy)\n",
    "gy <- swish(gy, x=\"condition\")"
   ]
  },
  {
   "cell_type": "code",
   "execution_count": 12,
   "id": "d8f7cc39",
   "metadata": {},
   "outputs": [],
   "source": [
    "detNodes <- list()\n",
    "detNodes[[\"Txps\"]] <- lapply(c(0.01, 0.05, 0.1), function(x) which(mcols(y)[,\"qvalue\"] <= x ))\n",
    "detNodes[[\"treeDEFDR_OL\"]] <- lapply(treeDEFDR_OL[[\"mIRV=0.4\"]], function(ta) ta)\n",
    "detNodes[[\"treeClimbR\"]] <- lapply(bSwish, function(sw) sw$output[sw$output$signal.node,][[\"node\"]])\n",
    "detNodes[[\"treeClimbRO\"]] <- lapply(bSwish, function(sw) unlist(Descendants(treeCons,sw$output[sw$output$signal.node,][[\"node\"]])))\n",
    "\n",
    "negNodes <- list()\n",
    "negNodes[[\"Txps\"]] <- lapply(detNodes[[\"Txps\"]], function(nodes) setdiff(seq(l), nodes))\n",
    "negNodes[[\"treeDEFDR_OL\"]] <- lapply(detNodes[[\"treeDEFDR_OL\"]], function(nodes) setdiff(seq(nrow(y)), unlist(Descendants(treeCons, nodes))))\n",
    "negNodes[[\"treeClimbR\"]] <- lapply(detNodes[[\"treeClimbR\"]], function(det) setdiff(seq(nrow(y)), unlist(Descendants(treeCons, det))))\n",
    "negNodes[[\"treeClimbRO\"]] <- lapply(detNodes[[\"treeClimbRO\"]], function(det) setdiff(seq(nrow(y)), det))"
   ]
  },
  {
   "cell_type": "code",
   "execution_count": 13,
   "id": "7fd5acfa",
   "metadata": {},
   "outputs": [
    {
     "name": "stdout",
     "output_type": "stream",
     "text": [
      "[1] \"Txps\"\n",
      "[1] \"tp 0.992961559285328\"\n",
      "[1] \"tp 0.957336780866193\"\n",
      "[1] \"tp 0.919309100283578\"\n",
      "[1] \"treeDEFDR_OL\"\n",
      "[1] \"tp 0.9931650893796\"\n",
      "[1] \"tp 0.951822916666667\"\n",
      "[1] \"tp 0.911987464089841\"\n",
      "[1] \"treeClimbR\"\n",
      "[1] \"tp 0.992805755395683\"\n",
      "[1] \"tp 0.958300857365549\"\n",
      "[1] \"tp 0.917063222297757\"\n",
      "[1] \"treeClimbRO\"\n",
      "[1] \"tp 0.934312878133103\"\n",
      "[1] \"tp 0.888772845953003\"\n",
      "[1] \"tp 0.804462180301106\"\n",
      "           Method Metric FDR_0.01 FDR_0.05 FDR_0.10\n",
      "fdr          Txps    FDR    0.007    0.043    0.081\n",
      "tpr          Txps    TPR    0.209    0.337    0.406\n",
      "fdr1 treeDEFDR_OL    FDR    0.007    0.048    0.088\n",
      "tpr1 treeDEFDR_OL    TPR    0.244    0.382    0.458\n",
      "fdr2   treeClimbR    FDR    0.007    0.042    0.083\n",
      "tpr2   treeClimbR    TPR      0.2    0.314    0.383\n",
      "fdr3  treeClimbRO    FDR    0.066    0.111    0.196\n",
      "tpr3  treeClimbRO    TPR    0.246    0.388    0.505\n"
     ]
    }
   ],
   "source": [
    "df <- data.frame(Method=character(), Metric=character(), FDR_0.01 = numeric(), FDR_0.05 = numeric(), FDR_0.10 = numeric())\n",
    "for(n in names(detNodes))\n",
    "{    \n",
    "    print(n)\n",
    "    if(!n %in% c(\"term\", 'genes')) {\n",
    "        stats <-  sapply(seq_along(detNodes[[n]]), function(i) computeMetOut(detNodes[[n]][[i]], logFCNodes, tree = tree, negNodes = negNodes[[n]][[i]], lfcThresh = rootFC))\n",
    "        for(i in seq(ncol(stats)))\n",
    "            stats[,i] <- round(unlist(stats[,i]),3)                 \n",
    "        colnames(stats) <- colnames(df)[c(3:5)]\n",
    "        stats <- cbind(Method=rep(n,2), Metric = c(\"FDR\", \"TPR\"), stats)\n",
    "        df <- rbind(df, stats)\n",
    "    }\n",
    "\n",
    "}\n",
    "print(df)"
   ]
  },
  {
   "cell_type": "code",
   "execution_count": 14,
   "id": "c5581543",
   "metadata": {},
   "outputs": [
    {
     "name": "stdout",
     "output_type": "stream",
     "text": [
      "[1] \"tp 0.992708917554683\"\n",
      "[1] \"tp 0.959641255605381\"\n",
      "[1] \"tp 0.924517752306402\"\n"
     ]
    }
   ],
   "source": [
    "detNodes[[\"term\"]] <- lapply(c(0.01, 0.05, 0.1), function(x) {\n",
    "        nodes <- rownames(yTerm)[which(mcols(yTerm)[,\"qvalue\"] <= x)]\n",
    "        match(nodes, names(logFCNodesTerm))\n",
    "    })\n",
    "negNodes[[\"term\"]] <- lapply(c(0.01, 0.05, 0.1), function(x) {\n",
    "        nodes <- rownames(yTerm)[setdiff(seq(nrow(yTerm)),\n",
    "                                                 which(mcols(yTerm)[,\"qvalue\"] <= x))]\n",
    "        match(nodes, names(logFCNodesTerm))\n",
    "    })\n",
    "stats <-  sapply(seq_along(detNodes[[\"term\"]]), function(i) computeMetOut(detNodes[[\"term\"]][[i]], \n",
    "                                                                          logFCNodesTerm, tree = NULL, \n",
    "                                                                          negNodes = negNodes[[\"term\"]][[i]],\n",
    "                                                                          lfcThresh = rootFC))\n",
    "for(i in seq(ncol(stats)))\n",
    "    stats[,i] <- round(unlist(stats[,i]),3)                 \n",
    "colnames(stats) <- colnames(df)[c(3:5)]\n",
    "stats <- cbind(Method=rep(\"term\",2), Metric = c(\"FDR\", \"TPR\"), stats)\n",
    "df <- rbind(df, stats)"
   ]
  },
  {
   "cell_type": "code",
   "execution_count": 14,
   "id": "c26bfca9",
   "metadata": {},
   "outputs": [
    {
     "data": {
      "text/html": [
       "<table class=\"dataframe\">\n",
       "<caption>A data.frame: 10 × 5</caption>\n",
       "<thead>\n",
       "\t<tr><th></th><th scope=col>Method</th><th scope=col>Metric</th><th scope=col>FDR_0.01</th><th scope=col>FDR_0.05</th><th scope=col>FDR_0.10</th></tr>\n",
       "\t<tr><th></th><th scope=col>&lt;named list&gt;</th><th scope=col>&lt;named list&gt;</th><th scope=col>&lt;named list&gt;</th><th scope=col>&lt;named list&gt;</th><th scope=col>&lt;named list&gt;</th></tr>\n",
       "</thead>\n",
       "<tbody>\n",
       "\t<tr><th scope=row>fdr</th><td>        Txps</td><td>FDR</td><td>0.007</td><td>0.043</td><td>0.081</td></tr>\n",
       "\t<tr><th scope=row>tpr</th><td>        Txps</td><td>TPR</td><td>0.209</td><td>0.337</td><td>0.406</td></tr>\n",
       "\t<tr><th scope=row>fdr1</th><td>treeDEFDR_OL</td><td>FDR</td><td>0.007</td><td>0.048</td><td>0.088</td></tr>\n",
       "\t<tr><th scope=row>tpr1</th><td>treeDEFDR_OL</td><td>TPR</td><td>0.244</td><td>0.382</td><td>0.458</td></tr>\n",
       "\t<tr><th scope=row>fdr2</th><td>  treeClimbR</td><td>FDR</td><td>0.007</td><td>0.042</td><td>0.083</td></tr>\n",
       "\t<tr><th scope=row>tpr2</th><td>  treeClimbR</td><td>TPR</td><td>  0.2</td><td>0.314</td><td>0.383</td></tr>\n",
       "\t<tr><th scope=row>fdr3</th><td> treeClimbRO</td><td>FDR</td><td>0.066</td><td>0.111</td><td>0.196</td></tr>\n",
       "\t<tr><th scope=row>tpr3</th><td> treeClimbRO</td><td>TPR</td><td>0.246</td><td>0.388</td><td>0.505</td></tr>\n",
       "\t<tr><th scope=row>fdr4</th><td>        term</td><td>FDR</td><td>0.007</td><td> 0.04</td><td>0.075</td></tr>\n",
       "\t<tr><th scope=row>tpr4</th><td>        term</td><td>TPR</td><td>0.218</td><td>0.342</td><td>0.407</td></tr>\n",
       "</tbody>\n",
       "</table>\n"
      ],
      "text/latex": [
       "A data.frame: 10 × 5\n",
       "\\begin{tabular}{r|lllll}\n",
       "  & Method & Metric & FDR\\_0.01 & FDR\\_0.05 & FDR\\_0.10\\\\\n",
       "  & <named list> & <named list> & <named list> & <named list> & <named list>\\\\\n",
       "\\hline\n",
       "\tfdr &         Txps & FDR & 0.007 & 0.043 & 0.081\\\\\n",
       "\ttpr &         Txps & TPR & 0.209 & 0.337 & 0.406\\\\\n",
       "\tfdr1 & treeDEFDR\\_OL & FDR & 0.007 & 0.048 & 0.088\\\\\n",
       "\ttpr1 & treeDEFDR\\_OL & TPR & 0.244 & 0.382 & 0.458\\\\\n",
       "\tfdr2 &   treeClimbR & FDR & 0.007 & 0.042 & 0.083\\\\\n",
       "\ttpr2 &   treeClimbR & TPR &   0.2 & 0.314 & 0.383\\\\\n",
       "\tfdr3 &  treeClimbRO & FDR & 0.066 & 0.111 & 0.196\\\\\n",
       "\ttpr3 &  treeClimbRO & TPR & 0.246 & 0.388 & 0.505\\\\\n",
       "\tfdr4 &         term & FDR & 0.007 &  0.04 & 0.075\\\\\n",
       "\ttpr4 &         term & TPR & 0.218 & 0.342 & 0.407\\\\\n",
       "\\end{tabular}\n"
      ],
      "text/markdown": [
       "\n",
       "A data.frame: 10 × 5\n",
       "\n",
       "| <!--/--> | Method &lt;named list&gt; | Metric &lt;named list&gt; | FDR_0.01 &lt;named list&gt; | FDR_0.05 &lt;named list&gt; | FDR_0.10 &lt;named list&gt; |\n",
       "|---|---|---|---|---|---|\n",
       "| fdr |         Txps | FDR | 0.007 | 0.043 | 0.081 |\n",
       "| tpr |         Txps | TPR | 0.209 | 0.337 | 0.406 |\n",
       "| fdr1 | treeDEFDR_OL | FDR | 0.007 | 0.048 | 0.088 |\n",
       "| tpr1 | treeDEFDR_OL | TPR | 0.244 | 0.382 | 0.458 |\n",
       "| fdr2 |   treeClimbR | FDR | 0.007 | 0.042 | 0.083 |\n",
       "| tpr2 |   treeClimbR | TPR |   0.2 | 0.314 | 0.383 |\n",
       "| fdr3 |  treeClimbRO | FDR | 0.066 | 0.111 | 0.196 |\n",
       "| tpr3 |  treeClimbRO | TPR | 0.246 | 0.388 | 0.505 |\n",
       "| fdr4 |         term | FDR | 0.007 |  0.04 | 0.075 |\n",
       "| tpr4 |         term | TPR | 0.218 | 0.342 | 0.407 |\n",
       "\n"
      ],
      "text/plain": [
       "     Method       Metric FDR_0.01 FDR_0.05 FDR_0.10\n",
       "fdr          Txps FDR    0.007    0.043    0.081   \n",
       "tpr          Txps TPR    0.209    0.337    0.406   \n",
       "fdr1 treeDEFDR_OL FDR    0.007    0.048    0.088   \n",
       "tpr1 treeDEFDR_OL TPR    0.244    0.382    0.458   \n",
       "fdr2   treeClimbR FDR    0.007    0.042    0.083   \n",
       "tpr2   treeClimbR TPR      0.2    0.314    0.383   \n",
       "fdr3  treeClimbRO FDR    0.066    0.111    0.196   \n",
       "tpr3  treeClimbRO TPR    0.246    0.388    0.505   \n",
       "fdr4         term FDR    0.007     0.04    0.075   \n",
       "tpr4         term TPR    0.218    0.342    0.407   "
      ]
     },
     "metadata": {},
     "output_type": "display_data"
    }
   ],
   "source": [
    "df"
   ]
  },
  {
   "cell_type": "code",
   "execution_count": 15,
   "id": "0288ee7f",
   "metadata": {},
   "outputs": [
    {
     "data": {
      "text/html": [
       "4150"
      ],
      "text/latex": [
       "4150"
      ],
      "text/markdown": [
       "4150"
      ],
      "text/plain": [
       "[1] 4150"
      ]
     },
     "metadata": {},
     "output_type": "display_data"
    },
    {
     "data": {
      "text/html": [
       "0.986265060240964"
      ],
      "text/latex": [
       "0.986265060240964"
      ],
      "text/markdown": [
       "0.986265060240964"
      ],
      "text/plain": [
       "[1] 0.9862651"
      ]
     },
     "metadata": {},
     "output_type": "display_data"
    },
    {
     "data": {
      "text/html": [
       "4093"
      ],
      "text/latex": [
       "4093"
      ],
      "text/markdown": [
       "4093"
      ],
      "text/plain": [
       "[1] 4093"
      ]
     },
     "metadata": {},
     "output_type": "display_data"
    },
    {
     "data": {
      "text/html": [
       "<table class=\"dataframe\">\n",
       "<caption>A data.frame: 12 × 5</caption>\n",
       "<thead>\n",
       "\t<tr><th></th><th scope=col>Method</th><th scope=col>Metric</th><th scope=col>FDR_0.01</th><th scope=col>FDR_0.05</th><th scope=col>FDR_0.10</th></tr>\n",
       "\t<tr><th></th><th scope=col>&lt;named list&gt;</th><th scope=col>&lt;named list&gt;</th><th scope=col>&lt;named list&gt;</th><th scope=col>&lt;named list&gt;</th><th scope=col>&lt;named list&gt;</th></tr>\n",
       "</thead>\n",
       "<tbody>\n",
       "\t<tr><th scope=row>fdr</th><td>        Txps</td><td>FDR</td><td>0.007</td><td>0.043</td><td>0.081</td></tr>\n",
       "\t<tr><th scope=row>tpr</th><td>        Txps</td><td>TPR</td><td>0.209</td><td>0.337</td><td>0.406</td></tr>\n",
       "\t<tr><th scope=row>fdr1</th><td>treeDEFDR_OL</td><td>FDR</td><td>0.007</td><td>0.048</td><td>0.088</td></tr>\n",
       "\t<tr><th scope=row>tpr1</th><td>treeDEFDR_OL</td><td>TPR</td><td>0.244</td><td>0.382</td><td>0.458</td></tr>\n",
       "\t<tr><th scope=row>fdr2</th><td>  treeClimbR</td><td>FDR</td><td>0.007</td><td>0.042</td><td>0.083</td></tr>\n",
       "\t<tr><th scope=row>tpr2</th><td>  treeClimbR</td><td>TPR</td><td>  0.2</td><td>0.314</td><td>0.383</td></tr>\n",
       "\t<tr><th scope=row>fdr3</th><td> treeClimbRO</td><td>FDR</td><td>0.066</td><td>0.111</td><td>0.196</td></tr>\n",
       "\t<tr><th scope=row>tpr3</th><td> treeClimbRO</td><td>TPR</td><td>0.246</td><td>0.388</td><td>0.505</td></tr>\n",
       "\t<tr><th scope=row>fdr4</th><td>        term</td><td>FDR</td><td>0.007</td><td> 0.04</td><td>0.075</td></tr>\n",
       "\t<tr><th scope=row>tpr4</th><td>        term</td><td>TPR</td><td>0.218</td><td>0.342</td><td>0.407</td></tr>\n",
       "\t<tr><th scope=row>fdr5</th><td>       genes</td><td>FDR</td><td>0.007</td><td>0.042</td><td>0.075</td></tr>\n",
       "\t<tr><th scope=row>tpr5</th><td>       genes</td><td>TPR</td><td>0.334</td><td>0.448</td><td>0.509</td></tr>\n",
       "</tbody>\n",
       "</table>\n"
      ],
      "text/latex": [
       "A data.frame: 12 × 5\n",
       "\\begin{tabular}{r|lllll}\n",
       "  & Method & Metric & FDR\\_0.01 & FDR\\_0.05 & FDR\\_0.10\\\\\n",
       "  & <named list> & <named list> & <named list> & <named list> & <named list>\\\\\n",
       "\\hline\n",
       "\tfdr &         Txps & FDR & 0.007 & 0.043 & 0.081\\\\\n",
       "\ttpr &         Txps & TPR & 0.209 & 0.337 & 0.406\\\\\n",
       "\tfdr1 & treeDEFDR\\_OL & FDR & 0.007 & 0.048 & 0.088\\\\\n",
       "\ttpr1 & treeDEFDR\\_OL & TPR & 0.244 & 0.382 & 0.458\\\\\n",
       "\tfdr2 &   treeClimbR & FDR & 0.007 & 0.042 & 0.083\\\\\n",
       "\ttpr2 &   treeClimbR & TPR &   0.2 & 0.314 & 0.383\\\\\n",
       "\tfdr3 &  treeClimbRO & FDR & 0.066 & 0.111 & 0.196\\\\\n",
       "\ttpr3 &  treeClimbRO & TPR & 0.246 & 0.388 & 0.505\\\\\n",
       "\tfdr4 &         term & FDR & 0.007 &  0.04 & 0.075\\\\\n",
       "\ttpr4 &         term & TPR & 0.218 & 0.342 & 0.407\\\\\n",
       "\tfdr5 &        genes & FDR & 0.007 & 0.042 & 0.075\\\\\n",
       "\ttpr5 &        genes & TPR & 0.334 & 0.448 & 0.509\\\\\n",
       "\\end{tabular}\n"
      ],
      "text/markdown": [
       "\n",
       "A data.frame: 12 × 5\n",
       "\n",
       "| <!--/--> | Method &lt;named list&gt; | Metric &lt;named list&gt; | FDR_0.01 &lt;named list&gt; | FDR_0.05 &lt;named list&gt; | FDR_0.10 &lt;named list&gt; |\n",
       "|---|---|---|---|---|---|\n",
       "| fdr |         Txps | FDR | 0.007 | 0.043 | 0.081 |\n",
       "| tpr |         Txps | TPR | 0.209 | 0.337 | 0.406 |\n",
       "| fdr1 | treeDEFDR_OL | FDR | 0.007 | 0.048 | 0.088 |\n",
       "| tpr1 | treeDEFDR_OL | TPR | 0.244 | 0.382 | 0.458 |\n",
       "| fdr2 |   treeClimbR | FDR | 0.007 | 0.042 | 0.083 |\n",
       "| tpr2 |   treeClimbR | TPR |   0.2 | 0.314 | 0.383 |\n",
       "| fdr3 |  treeClimbRO | FDR | 0.066 | 0.111 | 0.196 |\n",
       "| tpr3 |  treeClimbRO | TPR | 0.246 | 0.388 | 0.505 |\n",
       "| fdr4 |         term | FDR | 0.007 |  0.04 | 0.075 |\n",
       "| tpr4 |         term | TPR | 0.218 | 0.342 | 0.407 |\n",
       "| fdr5 |        genes | FDR | 0.007 | 0.042 | 0.075 |\n",
       "| tpr5 |        genes | TPR | 0.334 | 0.448 | 0.509 |\n",
       "\n"
      ],
      "text/plain": [
       "     Method       Metric FDR_0.01 FDR_0.05 FDR_0.10\n",
       "fdr          Txps FDR    0.007    0.043    0.081   \n",
       "tpr          Txps TPR    0.209    0.337    0.406   \n",
       "fdr1 treeDEFDR_OL FDR    0.007    0.048    0.088   \n",
       "tpr1 treeDEFDR_OL TPR    0.244    0.382    0.458   \n",
       "fdr2   treeClimbR FDR    0.007    0.042    0.083   \n",
       "tpr2   treeClimbR TPR      0.2    0.314    0.383   \n",
       "fdr3  treeClimbRO FDR    0.066    0.111    0.196   \n",
       "tpr3  treeClimbRO TPR    0.246    0.388    0.505   \n",
       "fdr4         term FDR    0.007     0.04    0.075   \n",
       "tpr4         term TPR    0.218    0.342    0.407   \n",
       "fdr5        genes FDR    0.007    0.042    0.075   \n",
       "tpr5        genes TPR    0.334    0.448    0.509   "
      ]
     },
     "metadata": {},
     "output_type": "display_data"
    }
   ],
   "source": [
    "detNodes[[\"genes\"]] <- lapply(c(0.01, 0.05, 0.1), function(x) which(mcols(gy)[,\"qvalue\"] <= x ))\n",
    "negNodes[[\"genes\"]] <- lapply(detNodes[[\"Genes\"]], function(nodes) setdiff(seq(nrow(gy)), nodes))\n",
    "dg <- union(dge.genes, dte.genes)\n",
    "length(dg)\n",
    "mean(dg %in% rownames(gse))\n",
    "dg <- intersect(dg, rownames(gse))\n",
    "length(dg)\n",
    "tG <- match(dg, rownames(gse))\n",
    "                              \n",
    "stats <- sapply(detNodes[[\"genes\"]], function(genes) {\n",
    "    computeTPFP(tG, genes, seq(nrow(gse)), seq(nrow(gse)))\n",
    "})\n",
    "for(i in seq(ncol(stats)))\n",
    "    stats[,i] <- round(unlist(stats[,i]),3)\n",
    "colnames(stats) <- colnames(df)[c(3:5)]\n",
    "stats <- cbind(Method=rep(\"genes\",2), Metric = c(\"FDR\", \"TPR\"), stats)\n",
    "df <- rbind(df, stats)\n",
    "df"
   ]
  },
  {
   "cell_type": "code",
   "execution_count": 26,
   "id": "10f75ee6",
   "metadata": {},
   "outputs": [
    {
     "data": {
      "text/html": [
       "4608"
      ],
      "text/latex": [
       "4608"
      ],
      "text/markdown": [
       "4608"
      ],
      "text/plain": [
       "[1] 4608"
      ]
     },
     "metadata": {},
     "output_type": "display_data"
    },
    {
     "data": {
      "text/html": [
       "4608"
      ],
      "text/latex": [
       "4608"
      ],
      "text/markdown": [
       "4608"
      ],
      "text/plain": [
       "[1] 4608"
      ]
     },
     "metadata": {},
     "output_type": "display_data"
    }
   ],
   "source": [
    "dN <- detNodes[[\"term\"]][[3]]\n",
    "\n",
    "termTxps <- c(names(logFCNodesTerm)[dN][startsWith(names(logFCNodesTerm)[dN], \"ENS\")],\n",
    "  names(logFCNodesTerm)[as.numeric(unlist(groupsClust[names(logFCNodesTerm)[dN][!startsWith(names(logFCNodesTerm)[dN], \"ENS\")]]))])\n",
    "\n",
    "length(termTxps)\n",
    "length(unique(termTxps))"
   ]
  },
  {
   "cell_type": "code",
   "execution_count": 10,
   "id": "b37dd415",
   "metadata": {},
   "outputs": [],
   "source": [
    "treeDETxps <- rownames(tseCons)[unlist(Descendants(treeCons, detNodes[[\"treeDEFDR_OL\"]][[3]]))]\n",
    "treeClimbTxps <- rownames(tseCons)[unlist(Descendants(treeCons, detNodes[[\"treeClimbR\"]][[3]]))]"
   ]
  },
  {
   "cell_type": "code",
   "execution_count": 16,
   "id": "4d25a57e",
   "metadata": {},
   "outputs": [
    {
     "data": {
      "text/html": [
       "<table class=\"dataframe\">\n",
       "<caption>A tibble: 6 × 7</caption>\n",
       "<thead>\n",
       "\t<tr><th scope=col>Method</th><th scope=col>FDR_0.01_FDR</th><th scope=col>FDR_0.05_FDR</th><th scope=col>FDR_0.10_FDR</th><th scope=col>FDR_0.01_TPR</th><th scope=col>FDR_0.05_TPR</th><th scope=col>FDR_0.10_TPR</th></tr>\n",
       "\t<tr><th scope=col>&lt;named list&gt;</th><th scope=col>&lt;named list&gt;</th><th scope=col>&lt;named list&gt;</th><th scope=col>&lt;named list&gt;</th><th scope=col>&lt;named list&gt;</th><th scope=col>&lt;named list&gt;</th><th scope=col>&lt;named list&gt;</th></tr>\n",
       "</thead>\n",
       "<tbody>\n",
       "\t<tr><td>        Txps</td><td>0.007</td><td>0.043</td><td>0.081</td><td>0.209</td><td>0.337</td><td>0.406</td></tr>\n",
       "\t<tr><td>treeDEFDR_OL</td><td>0.007</td><td>0.048</td><td>0.088</td><td>0.244</td><td>0.382</td><td>0.458</td></tr>\n",
       "\t<tr><td>  treeClimbR</td><td>0.007</td><td>0.042</td><td>0.083</td><td>  0.2</td><td>0.314</td><td>0.383</td></tr>\n",
       "\t<tr><td> treeClimbRO</td><td>0.066</td><td>0.111</td><td>0.196</td><td>0.246</td><td>0.388</td><td>0.505</td></tr>\n",
       "\t<tr><td>        term</td><td>0.007</td><td> 0.04</td><td>0.075</td><td>0.218</td><td>0.342</td><td>0.407</td></tr>\n",
       "\t<tr><td>       genes</td><td>0.007</td><td>0.042</td><td>0.075</td><td>0.334</td><td>0.448</td><td>0.509</td></tr>\n",
       "</tbody>\n",
       "</table>\n"
      ],
      "text/latex": [
       "A tibble: 6 × 7\n",
       "\\begin{tabular}{lllllll}\n",
       " Method & FDR\\_0.01\\_FDR & FDR\\_0.05\\_FDR & FDR\\_0.10\\_FDR & FDR\\_0.01\\_TPR & FDR\\_0.05\\_TPR & FDR\\_0.10\\_TPR\\\\\n",
       " <named list> & <named list> & <named list> & <named list> & <named list> & <named list> & <named list>\\\\\n",
       "\\hline\n",
       "\t         Txps & 0.007 & 0.043 & 0.081 & 0.209 & 0.337 & 0.406\\\\\n",
       "\t treeDEFDR\\_OL & 0.007 & 0.048 & 0.088 & 0.244 & 0.382 & 0.458\\\\\n",
       "\t   treeClimbR & 0.007 & 0.042 & 0.083 &   0.2 & 0.314 & 0.383\\\\\n",
       "\t  treeClimbRO & 0.066 & 0.111 & 0.196 & 0.246 & 0.388 & 0.505\\\\\n",
       "\t         term & 0.007 &  0.04 & 0.075 & 0.218 & 0.342 & 0.407\\\\\n",
       "\t        genes & 0.007 & 0.042 & 0.075 & 0.334 & 0.448 & 0.509\\\\\n",
       "\\end{tabular}\n"
      ],
      "text/markdown": [
       "\n",
       "A tibble: 6 × 7\n",
       "\n",
       "| Method &lt;named list&gt; | FDR_0.01_FDR &lt;named list&gt; | FDR_0.05_FDR &lt;named list&gt; | FDR_0.10_FDR &lt;named list&gt; | FDR_0.01_TPR &lt;named list&gt; | FDR_0.05_TPR &lt;named list&gt; | FDR_0.10_TPR &lt;named list&gt; |\n",
       "|---|---|---|---|---|---|---|\n",
       "|         Txps | 0.007 | 0.043 | 0.081 | 0.209 | 0.337 | 0.406 |\n",
       "| treeDEFDR_OL | 0.007 | 0.048 | 0.088 | 0.244 | 0.382 | 0.458 |\n",
       "|   treeClimbR | 0.007 | 0.042 | 0.083 |   0.2 | 0.314 | 0.383 |\n",
       "|  treeClimbRO | 0.066 | 0.111 | 0.196 | 0.246 | 0.388 | 0.505 |\n",
       "|         term | 0.007 |  0.04 | 0.075 | 0.218 | 0.342 | 0.407 |\n",
       "|        genes | 0.007 | 0.042 | 0.075 | 0.334 | 0.448 | 0.509 |\n",
       "\n"
      ],
      "text/plain": [
       "  Method       FDR_0.01_FDR FDR_0.05_FDR FDR_0.10_FDR FDR_0.01_TPR FDR_0.05_TPR\n",
       "1         Txps 0.007        0.043        0.081        0.209        0.337       \n",
       "2 treeDEFDR_OL 0.007        0.048        0.088        0.244        0.382       \n",
       "3   treeClimbR 0.007        0.042        0.083          0.2        0.314       \n",
       "4  treeClimbRO 0.066        0.111        0.196        0.246        0.388       \n",
       "5         term 0.007         0.04        0.075        0.218        0.342       \n",
       "6        genes 0.007        0.042        0.075        0.334        0.448       \n",
       "  FDR_0.10_TPR\n",
       "1 0.406       \n",
       "2 0.458       \n",
       "3 0.383       \n",
       "4 0.505       \n",
       "5 0.407       \n",
       "6 0.509       "
      ]
     },
     "metadata": {},
     "output_type": "display_data"
    }
   ],
   "source": [
    "suppressPackageStartupMessages(library(tidyr))\n",
    "dfA <- df %>% pivot_wider(names_from = Metric, values_from = c(3:5))\n",
    "dfA <- dfA[,c(1,seq(2,7,2),seq(3,7,2))]\n",
    "dfA"
   ]
  },
  {
   "cell_type": "code",
   "execution_count": 18,
   "id": "4102b783",
   "metadata": {},
   "outputs": [],
   "source": [
    "save(detNodes, file = \"treeDE_Paper/brain_sim_notdu_lowfc/detNodes.RData\")\n",
    "save(negNodes, file = \"treeDE_Paper/brain_sim_notdu_lowfc/negNodes.RData\")\n",
    "save(dfA, file = \"treeDE_Paper/brain_sim_notdu_lowfc/dfA.RData\")"
   ]
  },
  {
   "cell_type": "code",
   "execution_count": 19,
   "id": "8c594f76",
   "metadata": {},
   "outputs": [
    {
     "data": {
      "text/html": [
       "<table class=\"dataframe\">\n",
       "<caption>A tibble: 6 × 7</caption>\n",
       "<thead>\n",
       "\t<tr><th scope=col>Method</th><th scope=col>FDR_0.01_FDR</th><th scope=col>FDR_0.05_FDR</th><th scope=col>FDR_0.10_FDR</th><th scope=col>FDR_0.01_TPR</th><th scope=col>FDR_0.05_TPR</th><th scope=col>FDR_0.10_TPR</th></tr>\n",
       "\t<tr><th scope=col>&lt;named list&gt;</th><th scope=col>&lt;named list&gt;</th><th scope=col>&lt;named list&gt;</th><th scope=col>&lt;named list&gt;</th><th scope=col>&lt;named list&gt;</th><th scope=col>&lt;named list&gt;</th><th scope=col>&lt;named list&gt;</th></tr>\n",
       "</thead>\n",
       "<tbody>\n",
       "\t<tr><td>        Txps</td><td>0.007</td><td>0.043</td><td>0.081</td><td>0.209</td><td>0.337</td><td>0.406</td></tr>\n",
       "\t<tr><td>treeDEFDR_OL</td><td>0.007</td><td>0.048</td><td>0.088</td><td>0.244</td><td>0.382</td><td>0.458</td></tr>\n",
       "\t<tr><td>  treeClimbR</td><td>0.007</td><td>0.042</td><td>0.083</td><td>  0.2</td><td>0.314</td><td>0.383</td></tr>\n",
       "\t<tr><td> treeClimbRO</td><td>0.066</td><td>0.111</td><td>0.196</td><td>0.246</td><td>0.388</td><td>0.505</td></tr>\n",
       "\t<tr><td>        term</td><td>0.007</td><td> 0.04</td><td>0.075</td><td>0.218</td><td>0.342</td><td>0.407</td></tr>\n",
       "\t<tr><td>       genes</td><td>0.007</td><td>0.042</td><td>0.075</td><td>0.334</td><td>0.448</td><td>0.509</td></tr>\n",
       "</tbody>\n",
       "</table>\n"
      ],
      "text/latex": [
       "A tibble: 6 × 7\n",
       "\\begin{tabular}{lllllll}\n",
       " Method & FDR\\_0.01\\_FDR & FDR\\_0.05\\_FDR & FDR\\_0.10\\_FDR & FDR\\_0.01\\_TPR & FDR\\_0.05\\_TPR & FDR\\_0.10\\_TPR\\\\\n",
       " <named list> & <named list> & <named list> & <named list> & <named list> & <named list> & <named list>\\\\\n",
       "\\hline\n",
       "\t         Txps & 0.007 & 0.043 & 0.081 & 0.209 & 0.337 & 0.406\\\\\n",
       "\t treeDEFDR\\_OL & 0.007 & 0.048 & 0.088 & 0.244 & 0.382 & 0.458\\\\\n",
       "\t   treeClimbR & 0.007 & 0.042 & 0.083 &   0.2 & 0.314 & 0.383\\\\\n",
       "\t  treeClimbRO & 0.066 & 0.111 & 0.196 & 0.246 & 0.388 & 0.505\\\\\n",
       "\t         term & 0.007 &  0.04 & 0.075 & 0.218 & 0.342 & 0.407\\\\\n",
       "\t        genes & 0.007 & 0.042 & 0.075 & 0.334 & 0.448 & 0.509\\\\\n",
       "\\end{tabular}\n"
      ],
      "text/markdown": [
       "\n",
       "A tibble: 6 × 7\n",
       "\n",
       "| Method &lt;named list&gt; | FDR_0.01_FDR &lt;named list&gt; | FDR_0.05_FDR &lt;named list&gt; | FDR_0.10_FDR &lt;named list&gt; | FDR_0.01_TPR &lt;named list&gt; | FDR_0.05_TPR &lt;named list&gt; | FDR_0.10_TPR &lt;named list&gt; |\n",
       "|---|---|---|---|---|---|---|\n",
       "|         Txps | 0.007 | 0.043 | 0.081 | 0.209 | 0.337 | 0.406 |\n",
       "| treeDEFDR_OL | 0.007 | 0.048 | 0.088 | 0.244 | 0.382 | 0.458 |\n",
       "|   treeClimbR | 0.007 | 0.042 | 0.083 |   0.2 | 0.314 | 0.383 |\n",
       "|  treeClimbRO | 0.066 | 0.111 | 0.196 | 0.246 | 0.388 | 0.505 |\n",
       "|         term | 0.007 |  0.04 | 0.075 | 0.218 | 0.342 | 0.407 |\n",
       "|        genes | 0.007 | 0.042 | 0.075 | 0.334 | 0.448 | 0.509 |\n",
       "\n"
      ],
      "text/plain": [
       "  Method       FDR_0.01_FDR FDR_0.05_FDR FDR_0.10_FDR FDR_0.01_TPR FDR_0.05_TPR\n",
       "1         Txps 0.007        0.043        0.081        0.209        0.337       \n",
       "2 treeDEFDR_OL 0.007        0.048        0.088        0.244        0.382       \n",
       "3   treeClimbR 0.007        0.042        0.083          0.2        0.314       \n",
       "4  treeClimbRO 0.066        0.111        0.196        0.246        0.388       \n",
       "5         term 0.007         0.04        0.075        0.218        0.342       \n",
       "6        genes 0.007        0.042        0.075        0.334        0.448       \n",
       "  FDR_0.10_TPR\n",
       "1 0.406       \n",
       "2 0.458       \n",
       "3 0.383       \n",
       "4 0.505       \n",
       "5 0.407       \n",
       "6 0.509       "
      ]
     },
     "metadata": {},
     "output_type": "display_data"
    }
   ],
   "source": [
    "dfA %>% gather(FDR)"
   ]
  },
  {
   "cell_type": "code",
   "execution_count": 27,
   "id": "c0ec6bf3",
   "metadata": {},
   "outputs": [
    {
     "data": {
      "image/png": "[encoded data removed]",
      "text/plain": [
       "plot without title"
      ]
     },
     "metadata": {
      "image/png": {
       "height": 420,
       "width": 420
      }
     },
     "output_type": "display_data"
    }
   ],
   "source": [
    "library(VennDiagram)\n",
    "ve <- venn.diagram(\n",
    "  x = list(Txps = rownames(tseCons)[detNodes[[1]][[3]]], treeDE = treeDETxps, treeClimbR = treeClimbTxps, term = termTxps),\n",
    "  category.names = c(\"Txps\", \"treeDE\", \"treeClimbR\", \"termTxps\"),\n",
    "  filename = NULL  # Specify the output file name\n",
    ")\n",
    "grid.draw(ve)"
   ]
  },
  {
   "cell_type": "code",
   "execution_count": 28,
   "id": "75d09f82",
   "metadata": {},
   "outputs": [
    {
     "data": {
      "image/png": "[encoded data removed]",
      "text/plain": [
       "plot without title"
      ]
     },
     "metadata": {
      "image/png": {
       "height": 420,
       "width": 420
      }
     },
     "output_type": "display_data"
    }
   ],
   "source": [
    "library(VennDiagram)\n",
    "ve2 <- venn.diagram(\n",
    "  x = lapply(list(Txps = rownames(tseCons)[detNodes[[1]][[3]]], \n",
    "           treeDE = treeDETxps,\n",
    "           treeClimbR = treeClimbTxps,\n",
    "           term = termTxps), function(x) intersect(x, dts)),\n",
    "      category.names = c(\"Txps\", \"treeDE\", \"treeClimbR\", \"termTxps\"),\n",
    "      filename = NULL  # Specify the output file name\n",
    ")\n",
    "grid.draw(ve2)"
   ]
  },
  {
   "cell_type": "markdown",
   "id": "9235a5b4",
   "metadata": {},
   "source": [
    "##### FDR at leaf and transcript level"
   ]
  },
  {
   "cell_type": "code",
   "execution_count": 30,
   "id": "f84baca7",
   "metadata": {},
   "outputs": [
    {
     "data": {
      "text/html": [
       "322"
      ],
      "text/latex": [
       "322"
      ],
      "text/markdown": [
       "322"
      ],
      "text/plain": [
       "[1] 322"
      ]
     },
     "metadata": {},
     "output_type": "display_data"
    },
    {
     "data": {
      "text/html": [
       "0"
      ],
      "text/latex": [
       "0"
      ],
      "text/markdown": [
       "0"
      ],
      "text/plain": [
       "[1] 0"
      ]
     },
     "metadata": {},
     "output_type": "display_data"
    },
    {
     "data": {
      "text/html": [
       "1346"
      ],
      "text/latex": [
       "1346"
      ],
      "text/markdown": [
       "1346"
      ],
      "text/plain": [
       "[1] 1346"
      ]
     },
     "metadata": {},
     "output_type": "display_data"
    },
    {
     "data": {
      "text/html": [
       "0.00891530460624071"
      ],
      "text/latex": [
       "0.00891530460624071"
      ],
      "text/markdown": [
       "0.00891530460624071"
      ],
      "text/plain": [
       "[1] 0.008915305"
      ]
     },
     "metadata": {},
     "output_type": "display_data"
    }
   ],
   "source": [
    "i <- 1\n",
    "n <- \"treeClimbR\"\n",
    "sum(detNodes[[n]][[i]] > l)\n",
    "iNodes <- detNodes[[n]][[i]][detNodes[[n]][[i]] > l]\n",
    "mean(abs(logFCNodes[iNodes]) <= rootFC)\n",
    "\n",
    "sum(detNodes[[n]][[i]] <= l)\n",
    "lNodes <- detNodes[[n]][[i]][detNodes[[n]][[i]] <= l]\n",
    "mean(abs(logFCNodes[lNodes]) <= rootFC)"
   ]
  },
  {
   "cell_type": "code",
   "execution_count": 46,
   "id": "68107dc2",
   "metadata": {},
   "outputs": [
    {
     "data": {
      "text/html": [
       "<style>\n",
       ".list-inline {list-style: none; margin:0; padding: 0}\n",
       ".list-inline>li {display: inline-block}\n",
       ".list-inline>li:not(:last-child)::after {content: \"\\00b7\"; padding: 0 .5ex}\n",
       "</style>\n",
       "<ol class=list-inline><li>'143779'</li><li>'143780'</li><li>'143781'</li><li>'143782'</li><li>'143783'</li><li>'143784'</li></ol>\n"
      ],
      "text/latex": [
       "\\begin{enumerate*}\n",
       "\\item '143779'\n",
       "\\item '143780'\n",
       "\\item '143781'\n",
       "\\item '143782'\n",
       "\\item '143783'\n",
       "\\item '143784'\n",
       "\\end{enumerate*}\n"
      ],
      "text/markdown": [
       "1. '143779'\n",
       "2. '143780'\n",
       "3. '143781'\n",
       "4. '143782'\n",
       "5. '143783'\n",
       "6. '143784'\n",
       "\n",
       "\n"
      ],
      "text/plain": [
       "[1] \"143779\" \"143780\" \"143781\" \"143782\" \"143783\" \"143784\""
      ]
     },
     "metadata": {},
     "output_type": "display_data"
    },
    {
     "data": {
      "text/html": [
       "<style>\n",
       ".list-inline {list-style: none; margin:0; padding: 0}\n",
       ".list-inline>li {display: inline-block}\n",
       ".list-inline>li:not(:last-child)::after {content: \"\\00b7\"; padding: 0 .5ex}\n",
       "</style>\n",
       "<ol class=list-inline><li>143750</li><li>143757</li><li>143759</li><li>143766</li><li>143777</li><li>143782</li></ol>\n"
      ],
      "text/latex": [
       "\\begin{enumerate*}\n",
       "\\item 143750\n",
       "\\item 143757\n",
       "\\item 143759\n",
       "\\item 143766\n",
       "\\item 143777\n",
       "\\item 143782\n",
       "\\end{enumerate*}\n"
      ],
      "text/markdown": [
       "1. 143750\n",
       "2. 143757\n",
       "3. 143759\n",
       "4. 143766\n",
       "5. 143777\n",
       "6. 143782\n",
       "\n",
       "\n"
      ],
      "text/plain": [
       "[1] 143750 143757 143759 143766 143777 143782"
      ]
     },
     "metadata": {},
     "output_type": "display_data"
    }
   ],
   "source": [
    "tail(names(logFCNodesTerm))\n",
    "tail(detNodes[[\"term\"]][[3]])"
   ]
  },
  {
   "cell_type": "code",
   "execution_count": null,
   "id": "cdc0f6ed",
   "metadata": {},
   "outputs": [],
   "source": [
    "library(VennDiagram)\n",
    "txps <- list()\n",
    "for(n in names(detNodes)[c(1,2)])"
   ]
  },
  {
   "cell_type": "markdown",
   "id": "6b3361a7",
   "metadata": {},
   "source": [
    "#### Transcripts unique to treeDE"
   ]
  },
  {
   "cell_type": "code",
   "execution_count": null,
   "id": "f4b1bed2",
   "metadata": {},
   "outputs": [],
   "source": [
    "i <- 3\n",
    "uniTreeDEFDR <- setdiff(unlist(Descendants(treeCons,detNodes[[\"treeDEFDR_OL\"]][[i]])), detNodes[[\"Txps\"]][[i]])\n",
    "uniTreeDEFDRTP <- uniTreeDEFDR[abs(logFCNodes[uniTreeDEFDRTP]) > rootFC]\n",
    "length(uniTree)"
   ]
  },
  {
   "cell_type": "code",
   "execution_count": 33,
   "id": "a1cf4d9f",
   "metadata": {},
   "outputs": [
    {
     "name": "stderr",
     "output_type": "stream",
     "text": [
      "Updating HTML index of packages in '.Library'\n",
      "\n",
      "Making 'packages.html' ...\n",
      " done\n",
      "\n"
     ]
    }
   ],
   "source": [
    "install.packages(\"VennDiagram\")\n"
   ]
  },
  {
   "cell_type": "code",
   "execution_count": 32,
   "id": "303876d0",
   "metadata": {},
   "outputs": [
    {
     "data": {
      "text/html": [
       "0"
      ],
      "text/latex": [
       "0"
      ],
      "text/markdown": [
       "0"
      ],
      "text/plain": [
       "[1] 0"
      ]
     },
     "metadata": {},
     "output_type": "display_data"
    },
    {
     "data": {
      "text/html": [
       "0"
      ],
      "text/latex": [
       "0"
      ],
      "text/markdown": [
       "0"
      ],
      "text/plain": [
       "[1] 0"
      ]
     },
     "metadata": {},
     "output_type": "display_data"
    }
   ],
   "source": [
    "missP <- setdiff(unlist(Descendants(treeCons,detNodes[[\"\"]][[2]])), detNodes[[1]][[2]])\n",
    "missTP <- missP[abs(logFCNodes[missP]) > rootFC] ##True positive transcripts that have an internal node\n",
    "length(missP)\n",
    "length(missTP)\n",
    "# missInTreeDE <- setdiff(detNodes[[1]][[2]], unlist(Descendants(tree,detNodes[[3]][[2]])))\n",
    "# missTPInTreeDE <- missInTreeDE[abs(logFCNodes[missInTreeDE]) > rootFC] ##True positive transcripts that have an internal node\n",
    "# sum(unique(unlist(Ancestors(tree, missTP))) %in% detNodes[[3]][[2]]) ### Nodes of these additional ancestors "
   ]
  },
  {
   "cell_type": "code",
   "execution_count": 14,
   "id": "5a047c7a",
   "metadata": {},
   "outputs": [],
   "source": [
    "missP <- setdiff(unlist(Descendants(tree,detNodes[[\"treeDEFDR_OL\"]][[2]])), detNodes[[1]][[2]])"
   ]
  },
  {
   "cell_type": "code",
   "execution_count": 15,
   "id": "c93844d7",
   "metadata": {},
   "outputs": [
    {
     "data": {
      "text/html": [
       "2219"
      ],
      "text/latex": [
       "2219"
      ],
      "text/markdown": [
       "2219"
      ],
      "text/plain": [
       "[1] 2219"
      ]
     },
     "metadata": {},
     "output_type": "display_data"
    },
    {
     "data": {
      "text/html": [
       "790"
      ],
      "text/latex": [
       "790"
      ],
      "text/markdown": [
       "790"
      ],
      "text/plain": [
       "[1] 790"
      ]
     },
     "metadata": {},
     "output_type": "display_data"
    },
    {
     "data": {
      "text/html": [
       "284"
      ],
      "text/latex": [
       "284"
      ],
      "text/markdown": [
       "284"
      ],
      "text/plain": [
       "[1] 284"
      ]
     },
     "metadata": {},
     "output_type": "display_data"
    },
    {
     "data": {
      "text/html": [
       "204"
      ],
      "text/latex": [
       "204"
      ],
      "text/markdown": [
       "204"
      ],
      "text/plain": [
       "[1] 204"
      ]
     },
     "metadata": {},
     "output_type": "display_data"
    }
   ],
   "source": [
    "length(missP)\n",
    "length(missTP)\n",
    "length(missInTreeDE)\n",
    "length(missTPInTreeDE)"
   ]
  },
  {
   "cell_type": "code",
   "execution_count": 16,
   "id": "5305bd68",
   "metadata": {},
   "outputs": [],
   "source": [
    "dd <- sapply(Descendants(tree, detInnerNodes[[2]]), function(nodes) {\n",
    "    if(length(nodes) > 1) {\n",
    "        all(abs(logFCNodes)[nodes] > rootFC) & (sum(nodes %in% detNodes[[1]][[2]])==0)\n",
    "    }\n",
    "})"
   ]
  },
  {
   "cell_type": "code",
   "execution_count": 26,
   "id": "641eb935",
   "metadata": {},
   "outputs": [
    {
     "data": {
      "text/plain": [
       "DataFrame with 2 rows and 8 columns\n",
       "                  meanInfRV log10mean      keep      stat    log2FC     pvalue\n",
       "                  <numeric> <numeric> <logical> <numeric> <numeric>  <numeric>\n",
       "ENST00000508457.1   3.14153   1.63351      TRUE    -13.90  -1.00361 0.00815617\n",
       "ENST00000379205.4   3.06227   1.65498      TRUE    -13.01  -0.90171 0.01409578\n",
       "                     locfdr    qvalue\n",
       "                  <numeric> <numeric>\n",
       "ENST00000508457.1  0.517371 0.0744448\n",
       "ENST00000379205.4  0.686017 0.1185206"
      ]
     },
     "metadata": {},
     "output_type": "display_data"
    }
   ],
   "source": [
    "mcols(y)[Descendants(tree, detInnerNodes[[2]])[[146]],]"
   ]
  },
  {
   "cell_type": "code",
   "execution_count": 81,
   "id": "81efbd17",
   "metadata": {},
   "outputs": [
    {
     "data": {
      "text/html": [
       "<style>\n",
       ".list-inline {list-style: none; margin:0; padding: 0}\n",
       ".list-inline>li {display: inline-block}\n",
       ".list-inline>li:not(:last-child)::after {content: \"\\00b7\"; padding: 0 .5ex}\n",
       "</style>\n",
       "<ol class=list-inline><li>1122</li><li>1200</li><li>1251</li></ol>\n"
      ],
      "text/latex": [
       "\\begin{enumerate*}\n",
       "\\item 1122\n",
       "\\item 1200\n",
       "\\item 1251\n",
       "\\end{enumerate*}\n"
      ],
      "text/markdown": [
       "1. 1122\n",
       "2. 1200\n",
       "3. 1251\n",
       "\n",
       "\n"
      ],
      "text/plain": [
       "[1] 1122 1200 1251"
      ]
     },
     "metadata": {},
     "output_type": "display_data"
    },
    {
     "data": {
      "text/html": [
       "<style>\n",
       ".list-inline {list-style: none; margin:0; padding: 0}\n",
       ".list-inline>li {display: inline-block}\n",
       ".list-inline>li:not(:last-child)::after {content: \"\\00b7\"; padding: 0 .5ex}\n",
       "</style>\n",
       "<ol class=list-inline><li>0.0115864527629234</li><li>0.0591666666666667</li><li>0.104716227018385</li></ol>\n"
      ],
      "text/latex": [
       "\\begin{enumerate*}\n",
       "\\item 0.0115864527629234\n",
       "\\item 0.0591666666666667\n",
       "\\item 0.104716227018385\n",
       "\\end{enumerate*}\n"
      ],
      "text/markdown": [
       "1. 0.0115864527629234\n",
       "2. 0.0591666666666667\n",
       "3. 0.104716227018385\n",
       "\n",
       "\n"
      ],
      "text/plain": [
       "[1] 0.01158645 0.05916667 0.10471623"
      ]
     },
     "metadata": {},
     "output_type": "display_data"
    }
   ],
   "source": [
    "detInnerNodes <- sapply(detNodes[[\"tAfterBHMoreClimbMIRV=0.4\"]], function(nodes) nodes[nodes > l])\n",
    "sapply(detInnerNodes, length)\n",
    "sapply(seq_along(detInnerNodes), function(i) mean(abs(logFCNodes[detInnerNodes[[i]]]) < rootFC))"
   ]
  },
  {
   "cell_type": "code",
   "execution_count": 78,
   "id": "d5be9dab",
   "metadata": {},
   "outputs": [],
   "source": [
    "tAfterBHMoreClimbMIRV[[1]] <- lapply(tAfterBHMoreClimbMIRV[[1]], function(nodes) nodes[!is.na(nodes)])\n",
    "tAfterBHMoreClimbMIRV[[2]] <- lapply(tAfterBHMoreClimbMIRV[[2]], function(nodes) nodes[!is.na(nodes)])\n",
    "tAfterBHMoreClimbMIRV[[3]] <- lapply(tAfterBHMoreClimbMIRV[[3]], function(nodes) nodes[!is.na(nodes)])"
   ]
  },
  {
   "cell_type": "code",
   "execution_count": 82,
   "id": "ce9c0761",
   "metadata": {},
   "outputs": [
    {
     "data": {
      "text/html": [
       "548"
      ],
      "text/latex": [
       "548"
      ],
      "text/markdown": [
       "548"
      ],
      "text/plain": [
       "[1] 548"
      ]
     },
     "metadata": {},
     "output_type": "display_data"
    },
    {
     "data": {
      "text/html": [
       "2204"
      ],
      "text/latex": [
       "2204"
      ],
      "text/markdown": [
       "2204"
      ],
      "text/plain": [
       "[1] 2204"
      ]
     },
     "metadata": {},
     "output_type": "display_data"
    },
    {
     "data": {
      "text/html": [
       "789"
      ],
      "text/latex": [
       "789"
      ],
      "text/markdown": [
       "789"
      ],
      "text/plain": [
       "[1] 789"
      ]
     },
     "metadata": {},
     "output_type": "display_data"
    },
    {
     "data": {
      "text/html": [
       "194"
      ],
      "text/latex": [
       "194"
      ],
      "text/markdown": [
       "194"
      ],
      "text/plain": [
       "[1] 194"
      ]
     },
     "metadata": {},
     "output_type": "display_data"
    },
    {
     "data": {
      "text/html": [
       "135"
      ],
      "text/latex": [
       "135"
      ],
      "text/markdown": [
       "135"
      ],
      "text/plain": [
       "[1] 135"
      ]
     },
     "metadata": {},
     "output_type": "display_data"
    }
   ],
   "source": [
    "missP <- setdiff(unlist(Descendants(tree,detNodes[[3]][[2]])), detNodes[[1]][[2]])\n",
    "missTP <- missP[abs(logFCNodes[missP]) > rootFC] ##True positive transcripts that have an internal node\n",
    "\n",
    "missInTreeDE <- setdiff(detNodes[[1]][[2]], unlist(Descendants(tree,detNodes[[3]][[2]])))\n",
    "missTPInTreeDE <- missInTreeDE[abs(logFCNodes[missInTreeDE]) > rootFC] ##True positive transcripts that have an internal node\n",
    "\n",
    "sum(unique(unlist(Ancestors(tree, missTP))) %in% detNodes[[3]][[2]]) ### Nodes of these additional ancestors \n",
    "length(missP)\n",
    "length(missTP)\n",
    "length(missInTreeDE)\n",
    "length(missTPInTreeDE)"
   ]
  },
  {
   "cell_type": "code",
   "execution_count": null,
   "id": "9e3df04e",
   "metadata": {},
   "outputs": [],
   "source": []
  }
 ],
 "metadata": {
  "kernelspec": {
   "display_name": "R",
   "language": "R",
   "name": "ir"
  },
  "language_info": {
   "codemirror_mode": "r",
   "file_extension": ".r",
   "mimetype": "text/x-r-source",
   "name": "R",
   "pygments_lexer": "r",
   "version": "4.3.0"
  }
 },
 "nbformat": 4,
 "nbformat_minor": 5
}
