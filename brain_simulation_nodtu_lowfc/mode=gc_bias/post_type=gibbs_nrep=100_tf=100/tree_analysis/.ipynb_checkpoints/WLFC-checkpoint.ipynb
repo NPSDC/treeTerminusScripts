{
 "cells": [
  {
   "cell_type": "code",
   "execution_count": 1,
   "id": "a5623f89",
   "metadata": {},
   "outputs": [],
   "source": [
    "setwd('/fs/cbcb-lab/rob/students/noor/Uncertainity/treeTerminusScripts')\n",
    "dir <- \"environment/Chimp/mode=gcbias/post_type=gibbs_nrep=100_tf=100/tree_analysis\"\n",
    "suppressPackageStartupMessages(source(\"tree_helper_function.R\"))\n",
    "load(\"environment/Chimp/mapDf.RData\")\n",
    "load(file.path(dir, \"treeCons.RData\"))\n",
    "load(file.path(dir, \"yAggConsNS.RData\"))\n",
    "load(file.path(dir, \"treeCor.RData\"))\n",
    "load(file.path(dir, \"yAggCorNS.RData\"))\n",
    "load(file.path(dir, \"treeCons0.RData\"))\n",
    "load(file.path(dir, \"yAggConsNS0.RData\"))\n",
    "load(file.path(dir, \"treeMeanInf0.RData\"))\n",
    "load(file.path(dir, \"yAggMeanInfNS0.RData\"))\n",
    "load(file.path(dir, \"treeThr.RData\"))\n",
    "load(file.path(dir, \"yAggThrNS.RData\"))\n",
    "suppressPackageStartupMessages(source(\"brain_simulation_nodtu/mode=gc_bias/post_type=gibbs_nrep=100_tf=100/tree_analysis/tree_filter.R\"))"
   ]
  },
  {
   "cell_type": "code",
   "execution_count": 3,
   "id": "2b2abe95",
   "metadata": {
    "scrolled": true
   },
   "outputs": [
    {
     "name": "stdout",
     "output_type": "stream",
     "text": [
      "         Type      Value nCuts gamma\n",
      "1   Consensus  520295.35 19985   0.1\n",
      "2  Consensus0  532940.42 18961   0.1\n",
      "3    MeanInf0  534723.89 18777   0.1\n",
      "4         Cor  476677.45 20151   0.1\n",
      "5         Thr  239300.09 36519   0.1\n",
      "6   Consensus  463559.03 22400   0.5\n",
      "7  Consensus0  472267.77 21680   0.5\n",
      "8    MeanInf0  473460.62 21540   0.5\n",
      "9         Cor  417987.07 22851   0.5\n",
      "10        Thr  211361.47 38190   0.5\n",
      "11  Consensus  400003.97 25403   1.0\n",
      "12 Consensus0  405723.30 24994   1.0\n",
      "13   MeanInf0  406691.44 24834   1.0\n",
      "14        Cor  355584.17 26020   1.0\n",
      "15        Thr  178801.48 39511   1.0\n",
      "16  Consensus   57203.93 38183   5.0\n",
      "17 Consensus0   58524.03 38083   5.0\n",
      "18   MeanInf0   58430.45 38014   5.0\n",
      "19        Cor   26127.15 38698   5.0\n",
      "20        Thr  -41237.52 43312   5.0\n",
      "21  Consensus -233945.98 42411  10.0\n",
      "22 Consensus0 -233266.87 42420  10.0\n",
      "23   MeanInf0 -233405.30 42415  10.0\n",
      "24        Cor -255577.81 42843  10.0\n",
      "25        Thr -284631.17 44509  10.0\n"
     ]
    }
   ],
   "source": [
    "dfDepth <- data.frame(matrix(nrow=0, ncol=4))\n",
    "colnames(dfDepth) <- c(\"Type\", \"Value\", \"nCuts\", \"gamma\")\n",
    "\n",
    "l <- length(treeCons$tip)\n",
    "trees <- list(treeCons, treeCons0, treeMeanInf0, treeCor, treeThr)\n",
    "names(trees) <- c(\"Consensus\", \"Consensus0\", \"MeanInf0\", \"Cor\", \"Thr\")\n",
    "yAgg <- list(yAggConsNS, yAggConsNS0, yAggMeanInfNS0, yAggCorNS, yAggThrNS)\n",
    "names(yAgg) <- c(\"Consensus\", \"Consensus0\", \"MeanInf0\", \"Cor\", \"Thr\")\n",
    "\n",
    "dCutsDLFC <- vector(mode = \"list\", length=length(yAgg))\n",
    "names(dCutsDLFC) <- paste(\"gamma=\", c(0.1,0.5,1,5,10), sep=\"\")\n",
    "for(j in seq_along(dCutsDLFC)) {\n",
    "    gamma <- c(0.1,0.5,1,5,10)[j]\n",
    "    dCutsDLFC[[j]] <- vector(mode=\"list\", length(trees))\n",
    "    names(dCutsDLFC[[j]]) <- names(trees)\n",
    "    for(i in seq(trees)) {\n",
    "        globArr <- rep(-100, l+trees[[i]]$Nnode)\n",
    "        descL <- sapply(Descendants(trees[[i]], seq(l+trees[[i]]$Nnode)), length)\n",
    "        infReps <- assays(yAgg[[i]])[grep(\"infRep\", assayNames(yAgg[[i]]))]\n",
    "        infReps <- abind::abind(as.list(infReps), along = 3)\n",
    "        lfc <- getLog2FC(infReps, colData(yAgg[[i]])[[\"condition\"]])\n",
    "        obj <- abs(lfc/mcols(yAgg[[i]])[[\"meanInfRV\"]]) - gamma*node.depth(trees[[i]],2)\n",
    "        val <- findMaxSum(trees[[i]], obj, l+1, descL)\n",
    "        gc()\n",
    "        dCutsDLFC[[j]][[i]] <- findCuts(trees[[i]], globArr, obj, l+1, descL)\n",
    "        gc()\n",
    "        dfDepth <- rbind(dfDepth, data.frame(Type = names(trees)[i], Value = val,\n",
    "               nCuts = length(dCutsDLFC[[j]][[i]]), gamma=gamma))\n",
    "    }\n",
    "}\n",
    "print(dfDepth)\n",
    "save(dfDepth, file=file.path(dir, \"dCutsDLFC.RData\"))\n",
    "save(dCutsDLFC, file=file.path(dir, \"dCutsDLFC.RData\"))"
   ]
  }
 ],
 "metadata": {
  "kernelspec": {
   "display_name": "R",
   "language": "R",
   "name": "ir"
  },
  "language_info": {
   "codemirror_mode": "r",
   "file_extension": ".r",
   "mimetype": "text/x-r-source",
   "name": "R",
   "pygments_lexer": "r",
   "version": "4.1.1"
  }
 },
 "nbformat": 4,
 "nbformat_minor": 5
}
