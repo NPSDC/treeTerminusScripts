{
 "cells": [
  {
   "cell_type": "markdown",
   "id": "27ba1dc9",
   "metadata": {},
   "source": [
    "#### Loading Data"
   ]
  },
  {
   "cell_type": "code",
   "execution_count": 1,
   "id": "14cb5599",
   "metadata": {},
   "outputs": [],
   "source": [
    "setwd('/fs/cbcb-lab/rob/students/noor/Uncertainity/treeTerminusScripts')\n",
    "suppressPackageStartupMessages(source(\"brain_simulation_nodtu/mode=gc_bias/post_type=gibbs_nrep=100_tf=100/tree_analysis/tree_filter.R\"))\n",
    "suppressPackageStartupMessages(source(\"tree_helper_function.R\"))\n",
    "suppressPackageStartupMessages(library(ggplot2))\n",
    "suppressPackageStartupMessages(library(ggpubr))\n",
    "suppressPackageStartupMessages(library(dplyr))\n",
    "load(\"environment/brain_sim_nodtu_lowfc/mode=gc_bias/post_type=gibbs_nrep=100_tf=100/seBrainSim.RData\")\n",
    "load(\"environment/brain_sim_nodtu/mode=gc_bias/mapDf.RData\")\n",
    "load(\"environment/brain_sim_nodtu_lowfc/mode=gc_bias/post_type=gibbs_nrep=100_tf=100/comp_trees/trMeanCorUPGMANorm.RData\")"
   ]
  },
  {
   "cell_type": "markdown",
   "id": "51dc865a",
   "metadata": {},
   "source": [
    "#### Reading all the nwk files for the trees"
   ]
  },
  {
   "cell_type": "code",
   "execution_count": 13,
   "id": "339d7974",
   "metadata": {},
   "outputs": [],
   "source": [
    "dir <- \"/fs/cbcb-lab/rob/students/noor/Uncertainity/brain_sim_nodtu_lowfc/mode=gc_bias/post_type=gibbs_nrep=100_tf=100/terminus/\"\n",
    "treesCons0 <- read.tree(file.path(dir, \"no_threshold0\", \"cluster_nwk.txt\"))\n",
    "txpsCons0 <- rownames(seBrainSim)[as.numeric(unlist(lapply(treesCons0, function(tr) tr$tip)))+1]\n",
    "\n",
    "treesCons <- read.tree(file.path(dir, \"no_threshold\", \"cluster_nwk.txt\"))\n",
    "txpsCons <- rownames(seBrainSim)[as.numeric(unlist(lapply(treesCons, function(tr) tr$tip)))+1]\n",
    "\n",
    "treesMeanInf0 <- read.tree(file.path(dir, \"no_threshold_meaninf_0\", \"group_nwk.txt\"))\n",
    "txpsMeanInf0 <- rownames(seBrainSim)[as.numeric(unlist(lapply(treesMeanInf0, function(tr) tr$tip)))+1]\n",
    "\n",
    "treesThr <- read.tree(file.path(dir, \"threshold\", \"cluster_nwk.txt\"))\n",
    "txpsThr <- rownames(seBrainSim)[as.numeric(unlist(lapply(treesThr, function(tr) tr$tip)))+1]\n",
    "                                                       \n",
    "groupsThr <- read.delim(file.path(dir, \"old\", \"1_1\", \"clusters.txt\"), header = F)\n",
    "txpsOld <- unlist(sapply(strsplit(groupsThr$V1, split=\",\", fixed=T), function(x) x[2:length(x)]))\n",
    "txpsOld <- gsub(\"\\\\.[0-9]+\", \"\", txpsOld)\n",
    "txpsCor <- trMeanCorUPGMANorm$tip"
   ]
  },
  {
   "cell_type": "code",
   "execution_count": 14,
   "id": "d12ffe25",
   "metadata": {},
   "outputs": [],
   "source": [
    "se <- labelKeep(seBrainSim)"
   ]
  },
  {
   "cell_type": "code",
   "execution_count": 15,
   "id": "f326c962",
   "metadata": {},
   "outputs": [
    {
     "data": {
      "text/html": [
       "15773"
      ],
      "text/latex": [
       "15773"
      ],
      "text/markdown": [
       "15773"
      ],
      "text/plain": [
       "[1] 15773"
      ]
     },
     "metadata": {},
     "output_type": "display_data"
    },
    {
     "data": {
      "text/html": [
       "5428"
      ],
      "text/latex": [
       "5428"
      ],
      "text/markdown": [
       "5428"
      ],
      "text/plain": [
       "[1] 5428"
      ]
     },
     "metadata": {},
     "output_type": "display_data"
    },
    {
     "data": {
      "text/html": [
       "39856"
      ],
      "text/latex": [
       "39856"
      ],
      "text/markdown": [
       "39856"
      ],
      "text/plain": [
       "[1] 39856"
      ]
     },
     "metadata": {},
     "output_type": "display_data"
    },
    {
     "data": {
      "text/html": [
       "39491"
      ],
      "text/latex": [
       "39491"
      ],
      "text/markdown": [
       "39491"
      ],
      "text/plain": [
       "[1] 39491"
      ]
     },
     "metadata": {},
     "output_type": "display_data"
    },
    {
     "data": {
      "text/html": [
       "37858"
      ],
      "text/latex": [
       "37858"
      ],
      "text/markdown": [
       "37858"
      ],
      "text/plain": [
       "[1] 37858"
      ]
     },
     "metadata": {},
     "output_type": "display_data"
    },
    {
     "data": {
      "text/html": [
       "35114"
      ],
      "text/latex": [
       "35114"
      ],
      "text/markdown": [
       "35114"
      ],
      "text/plain": [
       "[1] 35114"
      ]
     },
     "metadata": {},
     "output_type": "display_data"
    },
    {
     "data": {
      "text/html": [
       "31185"
      ],
      "text/latex": [
       "31185"
      ],
      "text/markdown": [
       "31185"
      ],
      "text/plain": [
       "[1] 31185"
      ]
     },
     "metadata": {},
     "output_type": "display_data"
    }
   ],
   "source": [
    "length(txpsThr)\n",
    "length(txpsOld)\n",
    "length(txpsMeanInf0)\n",
    "length(txpsCons0)\n",
    "length(txpsCons)\n",
    "length(txpsCor)\n",
    "length(rownames(se)[mcols(se)[[\"keep\"]]])"
   ]
  },
  {
   "cell_type": "code",
   "execution_count": 16,
   "id": "fe0fe1db",
   "metadata": {},
   "outputs": [
    {
     "data": {
      "text/html": [
       "45375"
      ],
      "text/latex": [
       "45375"
      ],
      "text/markdown": [
       "45375"
      ],
      "text/plain": [
       "[1] 45375"
      ]
     },
     "metadata": {},
     "output_type": "display_data"
    }
   ],
   "source": [
    "txpsAll <- Reduce(union,list(txpsCons0, txpsCons, txpsThr, txpsMeanInf0, txpsOld, txpsCor, rownames(se)[mcols(se)[[\"keep\"]]]))\n",
    "length(txpsAll)\n",
    "save_dir <- \"environment/brain_sim_nodtu_lowfc/mode=gc_bias/post_type=gibbs_nrep=100_tf=100/comp_trees\""
   ]
  },
  {
   "cell_type": "markdown",
   "id": "794de85a",
   "metadata": {},
   "source": [
    "#### Consensus Tree"
   ]
  },
  {
   "cell_type": "code",
   "execution_count": 31,
   "id": "3e95de06",
   "metadata": {},
   "outputs": [
    {
     "name": "stdout",
     "output_type": "stream",
     "text": [
      "[1] \"Missing txps 7517\"\n"
     ]
    },
    {
     "data": {
      "text/html": [
       "<table class=\"dataframe\">\n",
       "<caption>A matrix: 2 × 6 of type dbl</caption>\n",
       "<thead>\n",
       "\t<tr><th></th><th scope=col>used</th><th scope=col>(Mb)</th><th scope=col>gc trigger</th><th scope=col>(Mb)</th><th scope=col>max used</th><th scope=col>(Mb)</th></tr>\n",
       "</thead>\n",
       "<tbody>\n",
       "\t<tr><th scope=row>Ncells</th><td>  10670779</td><td>  569.9</td><td>  27719894</td><td> 1480.5</td><td>  27719894</td><td> 1480.5</td></tr>\n",
       "\t<tr><th scope=row>Vcells</th><td>5058376664</td><td>38592.4</td><td>8794373681</td><td>67095.8</td><td>8048195828</td><td>61402.9</td></tr>\n",
       "</tbody>\n",
       "</table>\n"
      ],
      "text/latex": [
       "A matrix: 2 × 6 of type dbl\n",
       "\\begin{tabular}{r|llllll}\n",
       "  & used & (Mb) & gc trigger & (Mb) & max used & (Mb)\\\\\n",
       "\\hline\n",
       "\tNcells &   10670779 &   569.9 &   27719894 &  1480.5 &   27719894 &  1480.5\\\\\n",
       "\tVcells & 5058376664 & 38592.4 & 8794373681 & 67095.8 & 8048195828 & 61402.9\\\\\n",
       "\\end{tabular}\n"
      ],
      "text/markdown": [
       "\n",
       "A matrix: 2 × 6 of type dbl\n",
       "\n",
       "| <!--/--> | used | (Mb) | gc trigger | (Mb) | max used | (Mb) |\n",
       "|---|---|---|---|---|---|---|\n",
       "| Ncells |   10670779 |   569.9 |   27719894 |  1480.5 |   27719894 |  1480.5 |\n",
       "| Vcells | 5058376664 | 38592.4 | 8794373681 | 67095.8 | 8048195828 | 61402.9 |\n",
       "\n"
      ],
      "text/plain": [
       "       used       (Mb)    gc trigger (Mb)    max used   (Mb)   \n",
       "Ncells   10670779   569.9   27719894  1480.5   27719894  1480.5\n",
       "Vcells 5058376664 38592.4 8794373681 67095.8 8048195828 61402.9"
      ]
     },
     "metadata": {},
     "output_type": "display_data"
    },
    {
     "data": {
      "text/html": [
       "0"
      ],
      "text/latex": [
       "0"
      ],
      "text/markdown": [
       "0"
      ],
      "text/plain": [
       "[1] 0"
      ]
     },
     "metadata": {},
     "output_type": "display_data"
    },
    {
     "data": {
      "text/html": [
       "<table class=\"dataframe\">\n",
       "<caption>A matrix: 2 × 6 of type dbl</caption>\n",
       "<thead>\n",
       "\t<tr><th></th><th scope=col>used</th><th scope=col>(Mb)</th><th scope=col>gc trigger</th><th scope=col>(Mb)</th><th scope=col>max used</th><th scope=col>(Mb)</th></tr>\n",
       "</thead>\n",
       "<tbody>\n",
       "\t<tr><th scope=row>Ncells</th><td>  10671622</td><td>  570.0</td><td>   27719894</td><td> 1480.5</td><td>  27719894</td><td> 1480.5</td></tr>\n",
       "\t<tr><th scope=row>Vcells</th><td>5606784538</td><td>42776.4</td><td>10553328417</td><td>80515.6</td><td>9887100224</td><td>75432.6</td></tr>\n",
       "</tbody>\n",
       "</table>\n"
      ],
      "text/latex": [
       "A matrix: 2 × 6 of type dbl\n",
       "\\begin{tabular}{r|llllll}\n",
       "  & used & (Mb) & gc trigger & (Mb) & max used & (Mb)\\\\\n",
       "\\hline\n",
       "\tNcells &   10671622 &   570.0 &    27719894 &  1480.5 &   27719894 &  1480.5\\\\\n",
       "\tVcells & 5606784538 & 42776.4 & 10553328417 & 80515.6 & 9887100224 & 75432.6\\\\\n",
       "\\end{tabular}\n"
      ],
      "text/markdown": [
       "\n",
       "A matrix: 2 × 6 of type dbl\n",
       "\n",
       "| <!--/--> | used | (Mb) | gc trigger | (Mb) | max used | (Mb) |\n",
       "|---|---|---|---|---|---|---|\n",
       "| Ncells |   10671622 |   570.0 |    27719894 |  1480.5 |   27719894 |  1480.5 |\n",
       "| Vcells | 5606784538 | 42776.4 | 10553328417 | 80515.6 | 9887100224 | 75432.6 |\n",
       "\n"
      ],
      "text/plain": [
       "       used       (Mb)    gc trigger  (Mb)    max used   (Mb)   \n",
       "Ncells   10671622   570.0    27719894  1480.5   27719894  1480.5\n",
       "Vcells 5606784538 42776.4 10553328417 80515.6 9887100224 75432.6"
      ]
     },
     "metadata": {},
     "output_type": "display_data"
    }
   ],
   "source": [
    "treeCons <- mergeTree(treesCons, se = mapDf)\n",
    "mb <- mergeLeaves(treeCons, seBrainSim[txpsAll,])\n",
    "treeCons <- mb[[\"tree\"]]\n",
    "yConsNS <- mb[[\"ySwish\"]]\n",
    "rm(mb)\n",
    "gc()\n",
    "sum(rownames(yConsNS) != treeCons$tip)\n",
    "yAggConsNS <- prepSwish(treeCons, seBrainSim[treeCons$tip,])\n",
    "yAggConsNS <- fishpond::computeInfRV(yAggConsNS, meanVariance=F)\n",
    "yAggCons <- prepSwish(treeCons, seBrainSimScaled[treeCons$tip,])\n",
    "infReps <- assays(yAggCons)[grep(\"infRep\", assayNames(yAggCons))]\n",
    "infReps <- abind::abind(as.list(infReps), along = 3)\n",
    "mcols(yAggConsNS)[[\"LFC\"]] <- getLog2FC(infReps, colData(yAggCons)[[\"condition\"]])\n",
    "rm(yAggCons)\n",
    "gc()\n",
    "save(yAggConsNS, file=file.path(save_dir, \"yAggConsNS.RData\"))\n",
    "save(treeCons, file=file.path(save_dir, \"treeCons.RData\"))"
   ]
  },
  {
   "cell_type": "markdown",
   "id": "173d541e",
   "metadata": {},
   "source": [
    "#### Consensus Tree 0"
   ]
  },
  {
   "cell_type": "code",
   "execution_count": 30,
   "id": "1dc970eb",
   "metadata": {},
   "outputs": [
    {
     "name": "stdout",
     "output_type": "stream",
     "text": [
      "[1] \"Missing txps 5884\"\n"
     ]
    },
    {
     "data": {
      "text/html": [
       "<table class=\"dataframe\">\n",
       "<caption>A matrix: 2 × 6 of type dbl</caption>\n",
       "<thead>\n",
       "\t<tr><th></th><th scope=col>used</th><th scope=col>(Mb)</th><th scope=col>gc trigger</th><th scope=col>(Mb)</th><th scope=col>max used</th><th scope=col>(Mb)</th></tr>\n",
       "</thead>\n",
       "<tbody>\n",
       "\t<tr><th scope=row>Ncells</th><td>  10669151</td><td>  569.8</td><td>  27719894</td><td> 1480.5</td><td>  27719894</td><td> 1480.5</td></tr>\n",
       "\t<tr><th scope=row>Vcells</th><td>4144684381</td><td>31621.5</td><td>7328578068</td><td>55912.7</td><td>7325005957</td><td>55885.4</td></tr>\n",
       "</tbody>\n",
       "</table>\n"
      ],
      "text/latex": [
       "A matrix: 2 × 6 of type dbl\n",
       "\\begin{tabular}{r|llllll}\n",
       "  & used & (Mb) & gc trigger & (Mb) & max used & (Mb)\\\\\n",
       "\\hline\n",
       "\tNcells &   10669151 &   569.8 &   27719894 &  1480.5 &   27719894 &  1480.5\\\\\n",
       "\tVcells & 4144684381 & 31621.5 & 7328578068 & 55912.7 & 7325005957 & 55885.4\\\\\n",
       "\\end{tabular}\n"
      ],
      "text/markdown": [
       "\n",
       "A matrix: 2 × 6 of type dbl\n",
       "\n",
       "| <!--/--> | used | (Mb) | gc trigger | (Mb) | max used | (Mb) |\n",
       "|---|---|---|---|---|---|---|\n",
       "| Ncells |   10669151 |   569.8 |   27719894 |  1480.5 |   27719894 |  1480.5 |\n",
       "| Vcells | 4144684381 | 31621.5 | 7328578068 | 55912.7 | 7325005957 | 55885.4 |\n",
       "\n"
      ],
      "text/plain": [
       "       used       (Mb)    gc trigger (Mb)    max used   (Mb)   \n",
       "Ncells   10669151   569.8   27719894  1480.5   27719894  1480.5\n",
       "Vcells 4144684381 31621.5 7328578068 55912.7 7325005957 55885.4"
      ]
     },
     "metadata": {},
     "output_type": "display_data"
    },
    {
     "data": {
      "text/html": [
       "0"
      ],
      "text/latex": [
       "0"
      ],
      "text/markdown": [
       "0"
      ],
      "text/plain": [
       "[1] 0"
      ]
     },
     "metadata": {},
     "output_type": "display_data"
    },
    {
     "data": {
      "text/html": [
       "<table class=\"dataframe\">\n",
       "<caption>A matrix: 2 × 6 of type dbl</caption>\n",
       "<thead>\n",
       "\t<tr><th></th><th scope=col>used</th><th scope=col>(Mb)</th><th scope=col>gc trigger</th><th scope=col>(Mb)</th><th scope=col>max used</th><th scope=col>(Mb)</th></tr>\n",
       "</thead>\n",
       "<tbody>\n",
       "\t<tr><th scope=row>Ncells</th><td>  10669997</td><td>  569.9</td><td>  27719894</td><td> 1480.5</td><td>  27719894</td><td> 1480.5</td></tr>\n",
       "\t<tr><th scope=row>Vcells</th><td>4711983266</td><td>35949.6</td><td>8794373681</td><td>67095.8</td><td>8048195828</td><td>61402.9</td></tr>\n",
       "</tbody>\n",
       "</table>\n"
      ],
      "text/latex": [
       "A matrix: 2 × 6 of type dbl\n",
       "\\begin{tabular}{r|llllll}\n",
       "  & used & (Mb) & gc trigger & (Mb) & max used & (Mb)\\\\\n",
       "\\hline\n",
       "\tNcells &   10669997 &   569.9 &   27719894 &  1480.5 &   27719894 &  1480.5\\\\\n",
       "\tVcells & 4711983266 & 35949.6 & 8794373681 & 67095.8 & 8048195828 & 61402.9\\\\\n",
       "\\end{tabular}\n"
      ],
      "text/markdown": [
       "\n",
       "A matrix: 2 × 6 of type dbl\n",
       "\n",
       "| <!--/--> | used | (Mb) | gc trigger | (Mb) | max used | (Mb) |\n",
       "|---|---|---|---|---|---|---|\n",
       "| Ncells |   10669997 |   569.9 |   27719894 |  1480.5 |   27719894 |  1480.5 |\n",
       "| Vcells | 4711983266 | 35949.6 | 8794373681 | 67095.8 | 8048195828 | 61402.9 |\n",
       "\n"
      ],
      "text/plain": [
       "       used       (Mb)    gc trigger (Mb)    max used   (Mb)   \n",
       "Ncells   10669997   569.9   27719894  1480.5   27719894  1480.5\n",
       "Vcells 4711983266 35949.6 8794373681 67095.8 8048195828 61402.9"
      ]
     },
     "metadata": {},
     "output_type": "display_data"
    }
   ],
   "source": [
    "treeCons0 <- mergeTree(treesCons0, se = mapDf)\n",
    "mb <- mergeLeaves(treeCons0, seBrainSim[txpsAll,])\n",
    "treeCons0 <- mb[[\"tree\"]]\n",
    "yConsNS0 <- mb[[\"ySwish\"]]\n",
    "rm(mb)\n",
    "gc()\n",
    "sum(rownames(yConsNS0) != treeCons0$tip)\n",
    "yAggConsNS0 <- prepSwish(treeCons0, seBrainSim[treeCons0$tip,])\n",
    "yAggConsNS0 <- fishpond::computeInfRV(yAggConsNS0, meanVariance=F)\n",
    "yAggCons0 <- prepSwish(treeCons0, seBrainSimScaled[treeCons0$tip,])\n",
    "\n",
    "infReps <- assays(yAggCons0)[grep(\"infRep\", assayNames(yAggCons0))]\n",
    "infReps <- abind::abind(as.list(infReps), along = 3)\n",
    "mcols(yAggConsNS0)[[\"LFC\"]] <- getLog2FC(infReps, colData(yAggCons0)[[\"condition\"]])\n",
    "rm(yAggCons0)\n",
    "gc()\n",
    "\n",
    "save(yAggConsNS0, file=file.path(save_dir, \"yAggConsNS0.RData\"))\n",
    "save(treeCons0, file=file.path(save_dir, \"treeCons0.RData\"))"
   ]
  },
  {
   "cell_type": "markdown",
   "id": "be968a9d",
   "metadata": {},
   "source": [
    "#### Mean Inf Tree 0"
   ]
  },
  {
   "cell_type": "code",
   "execution_count": 29,
   "id": "3f5afc7e",
   "metadata": {},
   "outputs": [
    {
     "name": "stdout",
     "output_type": "stream",
     "text": [
      "[1] \"Missing txps 5519\"\n"
     ]
    },
    {
     "data": {
      "text/html": [
       "<table class=\"dataframe\">\n",
       "<caption>A matrix: 2 × 6 of type dbl</caption>\n",
       "<thead>\n",
       "\t<tr><th></th><th scope=col>used</th><th scope=col>(Mb)</th><th scope=col>gc trigger</th><th scope=col>(Mb)</th><th scope=col>max used</th><th scope=col>(Mb)</th></tr>\n",
       "</thead>\n",
       "<tbody>\n",
       "\t<tr><th scope=row>Ncells</th><td>  10667523</td><td>  569.8</td><td>  27719894</td><td> 1480.5</td><td>  27719894</td><td> 1480.5</td></tr>\n",
       "\t<tr><th scope=row>Vcells</th><td>3278129542</td><td>25010.2</td><td>6107081724</td><td>46593.4</td><td>5595482190</td><td>42690.2</td></tr>\n",
       "</tbody>\n",
       "</table>\n"
      ],
      "text/latex": [
       "A matrix: 2 × 6 of type dbl\n",
       "\\begin{tabular}{r|llllll}\n",
       "  & used & (Mb) & gc trigger & (Mb) & max used & (Mb)\\\\\n",
       "\\hline\n",
       "\tNcells &   10667523 &   569.8 &   27719894 &  1480.5 &   27719894 &  1480.5\\\\\n",
       "\tVcells & 3278129542 & 25010.2 & 6107081724 & 46593.4 & 5595482190 & 42690.2\\\\\n",
       "\\end{tabular}\n"
      ],
      "text/markdown": [
       "\n",
       "A matrix: 2 × 6 of type dbl\n",
       "\n",
       "| <!--/--> | used | (Mb) | gc trigger | (Mb) | max used | (Mb) |\n",
       "|---|---|---|---|---|---|---|\n",
       "| Ncells |   10667523 |   569.8 |   27719894 |  1480.5 |   27719894 |  1480.5 |\n",
       "| Vcells | 3278129542 | 25010.2 | 6107081724 | 46593.4 | 5595482190 | 42690.2 |\n",
       "\n"
      ],
      "text/plain": [
       "       used       (Mb)    gc trigger (Mb)    max used   (Mb)   \n",
       "Ncells   10667523   569.8   27719894  1480.5   27719894  1480.5\n",
       "Vcells 3278129542 25010.2 6107081724 46593.4 5595482190 42690.2"
      ]
     },
     "metadata": {},
     "output_type": "display_data"
    },
    {
     "data": {
      "text/html": [
       "0"
      ],
      "text/latex": [
       "0"
      ],
      "text/markdown": [
       "0"
      ],
      "text/plain": [
       "[1] 0"
      ]
     },
     "metadata": {},
     "output_type": "display_data"
    },
    {
     "data": {
      "text/html": [
       "<table class=\"dataframe\">\n",
       "<caption>A matrix: 2 × 6 of type dbl</caption>\n",
       "<thead>\n",
       "\t<tr><th></th><th scope=col>used</th><th scope=col>(Mb)</th><th scope=col>gc trigger</th><th scope=col>(Mb)</th><th scope=col>max used</th><th scope=col>(Mb)</th></tr>\n",
       "</thead>\n",
       "<tbody>\n",
       "\t<tr><th scope=row>Ncells</th><td>  10668378</td><td>  569.8</td><td>  27719894</td><td> 1480.5</td><td>  27719894</td><td> 1480.5</td></tr>\n",
       "\t<tr><th scope=row>Vcells</th><td>3798288646</td><td>28978.7</td><td>7328578068</td><td>55912.7</td><td>7325005957</td><td>55885.4</td></tr>\n",
       "</tbody>\n",
       "</table>\n"
      ],
      "text/latex": [
       "A matrix: 2 × 6 of type dbl\n",
       "\\begin{tabular}{r|llllll}\n",
       "  & used & (Mb) & gc trigger & (Mb) & max used & (Mb)\\\\\n",
       "\\hline\n",
       "\tNcells &   10668378 &   569.8 &   27719894 &  1480.5 &   27719894 &  1480.5\\\\\n",
       "\tVcells & 3798288646 & 28978.7 & 7328578068 & 55912.7 & 7325005957 & 55885.4\\\\\n",
       "\\end{tabular}\n"
      ],
      "text/markdown": [
       "\n",
       "A matrix: 2 × 6 of type dbl\n",
       "\n",
       "| <!--/--> | used | (Mb) | gc trigger | (Mb) | max used | (Mb) |\n",
       "|---|---|---|---|---|---|---|\n",
       "| Ncells |   10668378 |   569.8 |   27719894 |  1480.5 |   27719894 |  1480.5 |\n",
       "| Vcells | 3798288646 | 28978.7 | 7328578068 | 55912.7 | 7325005957 | 55885.4 |\n",
       "\n"
      ],
      "text/plain": [
       "       used       (Mb)    gc trigger (Mb)    max used   (Mb)   \n",
       "Ncells   10668378   569.8   27719894  1480.5   27719894  1480.5\n",
       "Vcells 3798288646 28978.7 7328578068 55912.7 7325005957 55885.4"
      ]
     },
     "metadata": {},
     "output_type": "display_data"
    }
   ],
   "source": [
    "treeMeanInf0 <- mergeTree(treesMeanInf0, se = mapDf)\n",
    "mb <- mergeLeaves(treeMeanInf0, seBrainSim[txpsAll,])\n",
    "treeMeanInf0 <- mb[[\"tree\"]]\n",
    "yMeanInfNS0 <- mb[[\"ySwish\"]]\n",
    "rm(mb)\n",
    "gc()\n",
    "sum(rownames(yMeanInfNS0) != treeMeanInf0$tip)\n",
    "\n",
    "yAggMeanInfNS0 <- prepSwish(treeMeanInf0, seBrainSim[treeMeanInf0$tip,])\n",
    "yAggMeanInfNS0 <- fishpond::computeInfRV(yAggMeanInfNS0, meanVariance=F)\n",
    "\n",
    "yAggMeanInf0 <- prepSwish(treeMeanInf0, seBrainSimScaled[treeMeanInf0$tip,])\n",
    "\n",
    "infReps <- assays(yAggMeanInf0)[grep(\"infRep\", assayNames(yAggMeanInf0))]\n",
    "infReps <- abind::abind(as.list(infReps), along = 3)\n",
    "mcols(yAggMeanInfNS0)[[\"LFC\"]] <- getLog2FC(infReps, colData(yAggMeanInf0)[[\"condition\"]])\n",
    "\n",
    "rm(yAggMeanInf0)\n",
    "gc()\n",
    "\n",
    "save(yAggMeanInfNS0, file=file.path(save_dir, \"yAggMeanInfNS0.RData\"))\n",
    "save(treeMeanInf0, file=file.path(save_dir, \"treeMeanInf0.RData\"))"
   ]
  },
  {
   "cell_type": "markdown",
   "id": "af42c0f4",
   "metadata": {},
   "source": [
    "#### Correlation"
   ]
  },
  {
   "cell_type": "code",
   "execution_count": 28,
   "id": "efa8f0db",
   "metadata": {},
   "outputs": [
    {
     "data": {
      "text/html": [
       "<table class=\"dataframe\">\n",
       "<caption>A matrix: 2 × 6 of type dbl</caption>\n",
       "<thead>\n",
       "\t<tr><th></th><th scope=col>used</th><th scope=col>(Mb)</th><th scope=col>gc trigger</th><th scope=col>(Mb)</th><th scope=col>max used</th><th scope=col>(Mb)</th></tr>\n",
       "</thead>\n",
       "<tbody>\n",
       "\t<tr><th scope=row>Ncells</th><td>  10666619</td><td>  569.7</td><td>  27719894</td><td> 1480.5</td><td>  27719894</td><td> 1480.5</td></tr>\n",
       "\t<tr><th scope=row>Vcells</th><td>2931805877</td><td>22368.0</td><td>6107081724</td><td>46593.4</td><td>5595482190</td><td>42690.2</td></tr>\n",
       "</tbody>\n",
       "</table>\n"
      ],
      "text/latex": [
       "A matrix: 2 × 6 of type dbl\n",
       "\\begin{tabular}{r|llllll}\n",
       "  & used & (Mb) & gc trigger & (Mb) & max used & (Mb)\\\\\n",
       "\\hline\n",
       "\tNcells &   10666619 &   569.7 &   27719894 &  1480.5 &   27719894 &  1480.5\\\\\n",
       "\tVcells & 2931805877 & 22368.0 & 6107081724 & 46593.4 & 5595482190 & 42690.2\\\\\n",
       "\\end{tabular}\n"
      ],
      "text/markdown": [
       "\n",
       "A matrix: 2 × 6 of type dbl\n",
       "\n",
       "| <!--/--> | used | (Mb) | gc trigger | (Mb) | max used | (Mb) |\n",
       "|---|---|---|---|---|---|---|\n",
       "| Ncells |   10666619 |   569.7 |   27719894 |  1480.5 |   27719894 |  1480.5 |\n",
       "| Vcells | 2931805877 | 22368.0 | 6107081724 | 46593.4 | 5595482190 | 42690.2 |\n",
       "\n"
      ],
      "text/plain": [
       "       used       (Mb)    gc trigger (Mb)    max used   (Mb)   \n",
       "Ncells   10666619   569.7   27719894  1480.5   27719894  1480.5\n",
       "Vcells 2931805877 22368.0 6107081724 46593.4 5595482190 42690.2"
      ]
     },
     "metadata": {},
     "output_type": "display_data"
    }
   ],
   "source": [
    "mb <- mergeLeaves(trMeanCorUPGMA, seBrainSim[txpsAll,])\n",
    "treeCor <- mb[[\"tree\"]]\n",
    "rm(mb)\n",
    "gc()\n",
    "\n",
    "yAggCorNS <- prepSwish(treeCor, seBrainSim[treeCor$tip,])\n",
    "yAggCorNS <- fishpond::computeInfRV(yAggCorNS, meanVariance=F)\n",
    "\n",
    "yAggCor <- prepSwish(treeCor, seBrainSimScaled[treeCor$tip,])\n",
    "\n",
    "infReps <- assays(yAggCor)[grep(\"infRep\", assayNames(yAggCor))]\n",
    "infReps <- abind::abind(as.list(infReps), along = 3)\n",
    "\n",
    "mcols(yAggCorNS)[[\"LFC\"]] <- getLog2FC(infReps, colData(yAggCor)[[\"condition\"]])\n",
    "rm(yAggCor)\n",
    "gc()\n",
    "\n",
    "save(yAggCorNS, file=file.path(save_dir, \"yAggCorNS.RData\"))\n",
    "save(treeCor, file=file.path(save_dir, \"treeCor.RData\"))"
   ]
  },
  {
   "cell_type": "markdown",
   "id": "6f6d5d26",
   "metadata": {},
   "source": [
    "#### Threshold"
   ]
  },
  {
   "cell_type": "code",
   "execution_count": 26,
   "id": "bac7e09f",
   "metadata": {},
   "outputs": [
    {
     "data": {
      "text/html": [
       "<table class=\"dataframe\">\n",
       "<caption>A matrix: 2 × 6 of type dbl</caption>\n",
       "<thead>\n",
       "\t<tr><th></th><th scope=col>used</th><th scope=col>(Mb)</th><th scope=col>gc trigger</th><th scope=col>(Mb)</th><th scope=col>max used</th><th scope=col>(Mb)</th></tr>\n",
       "</thead>\n",
       "<tbody>\n",
       "\t<tr><th scope=row>Ncells</th><td>  10640768</td><td>  568.3</td><td>  27719894</td><td> 1480.5</td><td>  27719894</td><td> 1480.5</td></tr>\n",
       "\t<tr><th scope=row>Vcells</th><td>2120494503</td><td>16178.1</td><td>4240906754</td><td>32355.6</td><td>4239696840</td><td>32346.4</td></tr>\n",
       "</tbody>\n",
       "</table>\n"
      ],
      "text/latex": [
       "A matrix: 2 × 6 of type dbl\n",
       "\\begin{tabular}{r|llllll}\n",
       "  & used & (Mb) & gc trigger & (Mb) & max used & (Mb)\\\\\n",
       "\\hline\n",
       "\tNcells &   10640768 &   568.3 &   27719894 &  1480.5 &   27719894 &  1480.5\\\\\n",
       "\tVcells & 2120494503 & 16178.1 & 4240906754 & 32355.6 & 4239696840 & 32346.4\\\\\n",
       "\\end{tabular}\n"
      ],
      "text/markdown": [
       "\n",
       "A matrix: 2 × 6 of type dbl\n",
       "\n",
       "| <!--/--> | used | (Mb) | gc trigger | (Mb) | max used | (Mb) |\n",
       "|---|---|---|---|---|---|---|\n",
       "| Ncells |   10640768 |   568.3 |   27719894 |  1480.5 |   27719894 |  1480.5 |\n",
       "| Vcells | 2120494503 | 16178.1 | 4240906754 | 32355.6 | 4239696840 | 32346.4 |\n",
       "\n"
      ],
      "text/plain": [
       "       used       (Mb)    gc trigger (Mb)    max used   (Mb)   \n",
       "Ncells   10640768   568.3   27719894  1480.5   27719894  1480.5\n",
       "Vcells 2120494503 16178.1 4240906754 32355.6 4239696840 32346.4"
      ]
     },
     "metadata": {},
     "output_type": "display_data"
    }
   ],
   "source": [
    "treeThr <- mergeTree(treesThr, se = mapDf)\n",
    "mb <- mergeLeaves(treeThr, seBrainSim[txpsAll,])\n",
    "treeThr<- mb[[\"tree\"]]\n",
    "yThrNS <- mb[[\"ySwish\"]]\n",
    "rm(mb)\n",
    "gc()\n",
    "sum(rownames(yThrNS) != treeThr$tip)\n",
    "\n",
    "yAggThrNS <- prepSwish(treeThr, seBrainSim[treeThr$tip,])\n",
    "yAggThrNS <- fishpond::computeInfRV(yAggThrNS, meanVariance=F)\n",
    "\n",
    "yAggThr <- prepSwish(treeThr, seBrainSimScaled[treeThr$tip,])\n",
    "\n",
    "infReps <- assays(yAggThr)[grep(\"infRep\", assayNames(yAggThr))]\n",
    "infReps <- abind::abind(as.list(infReps), along = 3)\n",
    "mcols(yAggThrNS)[[\"LFC\"]] <- getLog2FC(infReps, colData(yAggThrNS)[[\"condition\"]])\n",
    "\n",
    "rm(yAggThr)\n",
    "gc()\n",
    "\n",
    "save(yAggThrNS, file=file.path(save_dir, \"yAggThrNS.RData\"))\n",
    "save(treeThr, file=file.path(save_dir, \"treeThr.RData\"))"
   ]
  },
  {
   "cell_type": "code",
   "execution_count": null,
   "id": "5fe81f20",
   "metadata": {},
   "outputs": [],
   "source": [
    "depth <- node.depth(treeCons0,2)\n",
    "modDep <- depth\n",
    "modDep[modDep > 6] = 7\n",
    "dfInfRV <- data.frame(infRV = mcols(yAggConsNS0)[[\"meanInfRV\"]], depth = depth, modDep = modDep, type=\"Consensus0\")"
   ]
  },
  {
   "cell_type": "code",
   "execution_count": null,
   "id": "427d5282",
   "metadata": {},
   "outputs": [],
   "source": [
    "depth <- node.depth(treeCons,2)\n",
    "modDep <- depth\n",
    "modDep[modDep > 6] = 7\n",
    "dfInfRV <- rbind(dfInfRV,data.frame(infRV = mcols(yAggConsNS)[[\"meanInfRV\"]], depth = depth, modDep = modDep, type=\"Consensus\"))"
   ]
  },
  {
   "cell_type": "code",
   "execution_count": null,
   "id": "779dfaa2",
   "metadata": {},
   "outputs": [],
   "source": [
    "depth <- node.depth(treeMeanInf0,2)\n",
    "modDep <- depth\n",
    "modDep[modDep > 6] = 7\n",
    "dfInfRV <- rbind(dfInfRV,data.frame(infRV = mcols(yAggMeanInfNS0)[[\"meanInfRV\"]], depth = depth, modDep = modDep, type=\"MeanInf0\"))"
   ]
  },
  {
   "cell_type": "code",
   "execution_count": null,
   "id": "20be2e9c",
   "metadata": {},
   "outputs": [],
   "source": [
    "depth <- node.depth(treeCor,2)\n",
    "modDep <- depth\n",
    "modDep[modDep > 6] = 7\n",
    "dfInfRV <- rbind(dfInfRV,data.frame(infRV = mcols(yAggCorNS)[[\"meanInfRV\"]], depth = depth, modDep = modDep, type=\"Anti-Correlation\"))"
   ]
  },
  {
   "cell_type": "code",
   "execution_count": null,
   "id": "c4ca3af1",
   "metadata": {},
   "outputs": [],
   "source": [
    "options(repr.plot.width=12, repr.plot.height=12)\n",
    "dfInfRV %>% filter(depth!=1) %>% ggplot(aes(x=factor(type), y=log2(infRV))) + geom_violin() + facet_wrap(vars(modDep))"
   ]
  },
  {
   "cell_type": "code",
   "execution_count": null,
   "id": "665f649a",
   "metadata": {},
   "outputs": [],
   "source": [
    "reshape::cast(dfInfRV %>% filter(depth!=1) %>% group_by(type,modDep), type~modDep, max, value=\"infRV\")"
   ]
  },
  {
   "cell_type": "code",
   "execution_count": null,
   "id": "05e24721",
   "metadata": {},
   "outputs": [],
   "source": [
    "### Threshold"
   ]
  },
  {
   "cell_type": "code",
   "execution_count": null,
   "id": "4473e1e0",
   "metadata": {},
   "outputs": [],
   "source": [
    "#### NGenes\n",
    "nNodes <- length(treeCons$tip)+1:treeCons$Nnode\n",
    "desc <- Descendants(treeCons, nNodes)\n",
    "genesCons <- mclapply(desc, function(txps) unique(mapDf[treeCons$tip.label[txps],\"gene_id\"]), mc.cores=1)\n",
    "save(genesCons, file=file.path(save_dir,\"genesCons.RData\"))"
   ]
  },
  {
   "cell_type": "code",
   "execution_count": null,
   "id": "e74e1f89",
   "metadata": {},
   "outputs": [],
   "source": [
    "#### NGenes\n",
    "nNodes <- length(treeCons0$tip)+1:treeCons0$Nnode\n",
    "desc <- Descendants(treeCons0, nNodes)\n",
    "genesCons0 <- mclapply(desc, function(txps) unique(mapDf[treeCons0$tip.label[txps],\"gene_id\"]), mc.cores=1)\n",
    "save(genesCons0, file=file.path(save_dir,\"genesCons0.RData\"))"
   ]
  },
  {
   "cell_type": "code",
   "execution_count": null,
   "id": "aaf10c26",
   "metadata": {},
   "outputs": [],
   "source": [
    "#### NGenes\n",
    "nNodes <- length(treeMeanInf0$tip)+1:treeMeanInf0$Nnode\n",
    "desc <- Descendants(treeMeanInf0, nNodes)\n",
    "genesMeanInf0 <- mclapply(desc, function(txps) unique(mapDf[treeMeanInf0$tip.label[txps],\"gene_id\"]), mc.cores=1)\n",
    "save(genesMeanInf0, file=file.path(save_dir,\"genesMeanInf0.RData\"))"
   ]
  },
  {
   "cell_type": "code",
   "execution_count": null,
   "id": "eecf9fe1",
   "metadata": {},
   "outputs": [],
   "source": [
    "#### NGenes\n",
    "nNodes <- length(treeCor$tip)+1:treeCor$Nnode\n",
    "desc <- Descendants(treeCor, nNodes)\n",
    "genesCor <- mclapply(desc, function(txps) unique(mapDf[treeCor$tip.label[txps],1]), mc.cores=1)\n",
    "save(genesCor, file=file.path(save_dir,\"genesCor.RData\"))"
   ]
  },
  {
   "cell_type": "code",
   "execution_count": null,
   "id": "97657384",
   "metadata": {},
   "outputs": [],
   "source": [
    "#### NGenes\n",
    "nNodes <- length(treeThr$tip)+1:treeThr$Nnode\n",
    "desc <- Descendants(treeThr, nNodes)\n",
    "genesThr <- mclapply(desc, function(txps) unique(mapDf[treeThr$tip.label[txps],1]), mc.cores=1)\n",
    "save(genesThr, file=file.path(save_dir,\"genesThr.RData\"))"
   ]
  }
 ],
 "metadata": {
  "kernelspec": {
   "display_name": "R",
   "language": "R",
   "name": "ir"
  },
  "language_info": {
   "codemirror_mode": "r",
   "file_extension": ".r",
   "mimetype": "text/x-r-source",
   "name": "R",
   "pygments_lexer": "r",
   "version": "4.1.1"
  }
 },
 "nbformat": 4,
 "nbformat_minor": 5
}
