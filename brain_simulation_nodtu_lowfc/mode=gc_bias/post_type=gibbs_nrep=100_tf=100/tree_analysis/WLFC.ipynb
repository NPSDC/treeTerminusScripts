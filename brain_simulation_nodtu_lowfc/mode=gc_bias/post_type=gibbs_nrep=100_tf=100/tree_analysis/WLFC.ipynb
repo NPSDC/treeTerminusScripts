{
 "cells": [
  {
   "cell_type": "code",
   "execution_count": 1,
   "id": "a5623f89",
   "metadata": {},
   "outputs": [],
   "source": [
    "setwd('/fs/cbcb-lab/rob/students/noor/Uncertainity/treeTerminusScripts')\n",
    "dir <- \"environment/brain_sim_nodtu_lowfc/mode=gc_bias/post_type=gibbs_nrep=100_tf=100/comp_trees\"\n",
    "suppressPackageStartupMessages(source(\"tree_helper_function.R\"))\n",
    "load(\"environment/brain_sim_nodtu/mode=gc_bias/mapDf.RData\")\n",
    "load(file.path(dir, \"treeCons.RData\"))\n",
    "load(file.path(dir, \"yAggConsNS.RData\"))\n",
    "load(file.path(dir, \"treeCor.RData\"))\n",
    "load(file.path(dir, \"yAggCorNS.RData\"))\n",
    "load(file.path(dir, \"treeCons0.RData\"))\n",
    "load(file.path(dir, \"yAggConsNS0.RData\"))\n",
    "load(file.path(dir, \"treeMeanInf0.RData\"))\n",
    "load(file.path(dir, \"yAggMeanInfNS0.RData\"))\n",
    "load(file.path(dir, \"treeThr.RData\"))\n",
    "load(file.path(dir, \"yAggThrNS.RData\"))\n",
    "suppressPackageStartupMessages(source(\"brain_simulation_nodtu/mode=gc_bias/post_type=gibbs_nrep=100_tf=100/tree_analysis/tree_filter.R\"))"
   ]
  },
  {
   "cell_type": "code",
   "execution_count": null,
   "id": "2b2abe95",
   "metadata": {
    "scrolled": true
   },
   "outputs": [],
   "source": [
    "dfDepth <- data.frame(matrix(nrow=0, ncol=4))\n",
    "colnames(dfDepth) <- c(\"Type\", \"Value\", \"nCuts\", \"gamma\")\n",
    "\n",
    "l <- length(treeCons$tip)\n",
    "trees <- list(treeCons, treeCons0, treeMeanInf0, treeCor, treeThr)\n",
    "names(trees) <- c(\"Consensus\", \"Consensus0\", \"MeanInf0\", \"Cor\", \"Thr\")\n",
    "yAgg <- list(yAggConsNS, yAggConsNS0, yAggMeanInfNS0, yAggCorNS, yAggThrNS)\n",
    "names(yAgg) <- c(\"Consensus\", \"Consensus0\", \"MeanInf0\", \"Cor\", \"Thr\")\n",
    "\n",
    "dCutsDLFC <- vector(mode = \"list\", length=length(yAgg))\n",
    "names(dCutsDLFC) <- paste(\"gamma=\", c(0.1,0.5,1,5,10), sep=\"\")\n",
    "for(j in seq_along(dCutsDLFC)) {\n",
    "    gamma <- c(0.1,0.5,1,5,10)[j]\n",
    "    dCutsDLFC[[j]] <- vector(mode=\"list\", length(trees))\n",
    "    names(dCutsDLFC[[j]]) <- names(trees)\n",
    "    for(i in seq(trees)) {\n",
    "        globArr <- rep(-100, l+trees[[i]]$Nnode)\n",
    "        descL <- sapply(Descendants(trees[[i]], seq(l+trees[[i]]$Nnode)), length)\n",
    "        infReps <- assays(yAgg[[i]])[grep(\"infRep\", assayNames(yAgg[[i]]))]\n",
    "        infReps <- abind::abind(as.list(infReps), along = 3)\n",
    "        lfc <- getLog2FC(infReps, colData(yAgg[[i]])[[\"condition\"]])\n",
    "        obj <- abs(lfc/mcols(yAgg[[i]])[[\"meanInfRV\"]]) - gamma*node.depth(trees[[i]],2)\n",
    "        val <- findMaxSum(trees[[i]], obj, l+1, descL)\n",
    "        gc()\n",
    "        dCutsDLFC[[j]][[i]] <- findCuts(trees[[i]], globArr, obj, l+1, descL)\n",
    "        gc()\n",
    "        dfDepth <- rbind(dfDepth, data.frame(Type = names(trees)[i], Value = val,\n",
    "               nCuts = length(dCutsDLFC[[j]][[i]]), gamma=gamma))\n",
    "    }\n",
    "}\n",
    "print(dfDepth)\n",
    "save(dfDepth, file=file.path(dir, \"dfLFC.RData\"))\n",
    "save(dCutsDLFC, file=file.path(dir, \"dCutsDLFC.RData\"))"
   ]
  },
  {
   "cell_type": "code",
   "execution_count": null,
   "id": "59e7409a",
   "metadata": {},
   "outputs": [],
   "source": []
  }
 ],
 "metadata": {
  "kernelspec": {
   "display_name": "R",
   "language": "R",
   "name": "ir"
  },
  "language_info": {
   "codemirror_mode": "r",
   "file_extension": ".r",
   "mimetype": "text/x-r-source",
   "name": "R",
   "pygments_lexer": "r",
   "version": "4.1.1"
  }
 },
 "nbformat": 4,
 "nbformat_minor": 5
}
