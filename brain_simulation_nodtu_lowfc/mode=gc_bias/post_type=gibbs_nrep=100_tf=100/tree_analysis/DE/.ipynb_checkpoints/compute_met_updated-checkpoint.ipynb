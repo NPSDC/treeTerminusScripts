{
 "cells": [
  {
   "cell_type": "code",
   "execution_count": 3,
   "id": "4d18fba3",
   "metadata": {},
   "outputs": [],
   "source": [
    "setwd('/fs/cbcb-lab/rob/students/noor/Uncertainity/treeTerminusScripts')\n",
    "saveDir <- \"environment/brain_sim_nodtu_lowfc/mode=gc_bias/post_type=gibbs_nrep=100_tf=100/comp_trees/DE\"\n",
    "# load(file=file.path(saveDir, \"tseCons.RData\"))\n",
    "suppressPackageStartupMessages(source(\"tree_helper_function.R\"))"
   ]
  },
  {
   "cell_type": "code",
   "execution_count": 4,
   "id": "f7ea0b84",
   "metadata": {},
   "outputs": [],
   "source": [
    "load(file.path(saveDir, \"tAfterBHMoreClimbMIRV.RData\"))\n",
    "load(file.path(saveDir, \"tAfter.RData\"))\n",
    "load(file.path(saveDir, \"tAfterNoSign.RData\"))\n",
    "load(file.path(saveDir, \"tAfterNoStop.RData\"))\n",
    "load(file.path(saveDir, \"bouthBrain.RData\"))"
   ]
  },
  {
   "cell_type": "code",
   "execution_count": 5,
   "id": "f9533286",
   "metadata": {},
   "outputs": [
    {
     "data": {
      "text/html": [
       "1"
      ],
      "text/latex": [
       "1"
      ],
      "text/markdown": [
       "1"
      ],
      "text/plain": [
       "[1] 1"
      ]
     },
     "metadata": {},
     "output_type": "display_data"
    },
    {
     "data": {
      "text/html": [
       "1"
      ],
      "text/latex": [
       "1"
      ],
      "text/markdown": [
       "1"
      ],
      "text/plain": [
       "[1] 1"
      ]
     },
     "metadata": {},
     "output_type": "display_data"
    },
    {
     "data": {
      "text/html": [
       "1"
      ],
      "text/latex": [
       "1"
      ],
      "text/markdown": [
       "1"
      ],
      "text/plain": [
       "[1] 1"
      ]
     },
     "metadata": {},
     "output_type": "display_data"
    }
   ],
   "source": [
    "which(bouthBrain[[1]][[\"results.by.node\"]][[\"is.driver\"]])\n",
    "which(bouthBrain[[2]][[\"results.by.node\"]][[\"is.driver\"]])\n",
    "which(bouthBrain[[3]][[\"results.by.node\"]][[\"is.driver\"]])"
   ]
  },
  {
   "cell_type": "code",
   "execution_count": 5,
   "id": "62330b0b",
   "metadata": {},
   "outputs": [],
   "source": [
    "load(\"environment/brain_sim_nodtu_lowfc/simulate.rda\")\n",
    "suppressPackageStartupMessages(library(TreeSummarizedExperiment))\n",
    "suppressPackageStartupMessages(library(ape))\n",
    "tree <- rowTree(tse)\n",
    "l <- length(tree$tip)\n",
    "missingTxps <- setdiff(rownames(tse)[1:l], rownames(sim.counts.mat))\n",
    "dts <- Reduce(union, c(names(iso.dge)[iso.dge], names(iso.dte)[iso.dte], names(iso.dte.only)[iso.dte.only], \n",
    "                       names(iso.dtu)[iso.dtu]))\n",
    "dts <- intersect(dts, rownames(sim.counts.mat))\n",
    "sim.counts.mat <- rbind(sim.counts.mat, matrix(0, nrow = length(missingTxps), ncol = ncol(sim.counts.mat),\n",
    "                                               dimnames = list(missingTxps, colnames(sim.counts.mat))))\n",
    "sim.counts.mat <- sim.counts.mat[rownames(tse)[1:l],]\n",
    "dts <- intersect(dts, rownames(sim.counts.mat))\n",
    "\n",
    "innNodes <- l+1:tree$Nnode\n",
    "aggCountsNodes <- computeAggNodesU(tree, c(1:length(tree$tip),innNodes), sim.counts.mat)\n",
    "logFCNodes <- ifelse(rowSums(aggCountsNodes)==0, 0, log2(aggCountsNodes[,2]+1)-log2(aggCountsNodes[,1]+1))\n",
    "names(logFCNodes)[(l+1):length(logFCNodes)] <- paste(\"Node\", names(logFCNodes)[(l+1):length(logFCNodes)], sep=\"\")\n",
    "rootFC <- abs(logFCNodes[l+1])"
   ]
  },
  {
   "cell_type": "code",
   "execution_count": 18,
   "id": "c8682826",
   "metadata": {},
   "outputs": [],
   "source": [
    "y <- tse[1:l,]\n",
    "y <- fishpond::scaleInfReps(y)\n",
    "y <- labelKeep(y)\n",
    "set.seed(1)\n",
    "y <- swish(y, x=\"condition\")\n",
    "detNodes <- list()\n",
    "detNodes[[\"Txps\"]] <- lapply(c(0.01, 0.05, 0.1), function(x) which(mcols(y)[,\"qvalue\"] <= x ))\n",
    "detNodes[[\"tAfterBHMoreClimbMIRV=0\"]] <- lapply(tAfterBHMoreClimbMIRV[[1]], function(ta) ta)\n",
    "detNodes[[\"tAfterBHMoreClimbMIRV=0.4\"]] <- lapply(tAfterBHMoreClimbMIRV[[2]], function(ta) ta)\n",
    "detNodes[[\"tAfterBHMoreClimbMIRV=1\"]] <- lapply(tAfterBHMoreClimbMIRV[[3]], function(ta) ta)\n",
    "detNodes[[\"tAfter\"]] <- lapply(tAfter, function(ta) ta[[\"candNodeO\"]])\n",
    "detNodes[[\"tAfterNoSign\"]] <- lapply(tAfterNoSign, function(ta) ta[[\"candNodeO\"]])\n",
    "detNodes[[\"tAfterNoStop\"]] <- lapply(tAfterNoStop, function(ta) ta[[\"candNodeO\"]])\n",
    "\n",
    "negNodes <- list()\n",
    "negNodes[[\"Txps\"]] <- lapply(detNodes[[\"Txps\"]], function(nodes) setdiff(seq(l), nodes))\n",
    "negNodes[[\"tAfterBHMoreClimbMIRV=0\"]] <- lapply(detNodes[[\"tAfterBHMoreClimbMIRV=0\"]], function(nodes) setdiff(seq(nrow(y)), unlist(Descendants(tree, nodes)))) \n",
    "negNodes[[\"tAfterBHMoreClimbMIRV=0.4\"]] <- lapply(detNodes[[\"tAfterBHMoreClimbMIRV=0.4\"]], function(nodes) setdiff(seq(nrow(y)), unlist(Descendants(tree, nodes)))) \n",
    "negNodes[[\"tAfterBHMoreClimbMIRV=1\"]] <- lapply(detNodes[[\"tAfterBHMoreClimbMIRV=1\"]], function(nodes) setdiff(seq(nrow(y)), unlist(Descendants(tree, nodes)))) \n",
    "negNodes[[\"tAfter\"]] <- lapply(tAfter, function(ta) unlist(Descendants(tree,c(ta[[\"naNodeO\"]],ta[[\"negNodeO\"]]))))\n",
    "negNodes[[\"tAfterNoSign\"]] <- lapply(tAfterNoSign, function(ta) unlist(Descendants(tree,c(ta[[\"naNodeO\"]],ta[[\"negNodeO\"]]))))\n",
    "negNodes[[\"tAfterNoStop\"]] <- lapply(tAfterNoStop, function(ta) unlist(Descendants(tree,c(ta[[\"naNodeO\"]],ta[[\"negNodeO\"]]))))"
   ]
  },
  {
   "cell_type": "code",
   "execution_count": 7,
   "id": "9281ac04",
   "metadata": {},
   "outputs": [
    {
     "name": "stdout",
     "output_type": "stream",
     "text": [
      "[1] \"Txps\"\n",
      "[1] \"tp 0.99185667752443\"\n",
      "[1] \"tp 0.960964773087909\"\n",
      "[1] \"tp 0.920679886685552\"\n",
      "[1] \"tAfterBHMoreClimbMIRV=0\"\n",
      "[1] \"tp 0.989399293286219\"\n",
      "[1] \"tp 0.936127744510978\"\n",
      "[1] \"tp 0.878797886393659\"\n",
      "[1] \"tAfterBHMoreClimbMIRV=0.4\"\n",
      "[1] \"tp 0.992211838006231\"\n",
      "[1] \"tp 0.954972465176547\"\n",
      "[1] \"tp 0.911593435680254\"\n",
      "[1] \"tAfterBHMoreClimbMIRV=1\"\n",
      "[1] \"tp 0.992704533611256\"\n",
      "[1] \"tp 0.959424920127796\"\n",
      "[1] \"tp 0.917361835245047\"\n",
      "[1] \"tAfter\"\n",
      "[1] \"tp 0.998056994818653\"\n",
      "[1] \"tp 0.980121703853955\"\n",
      "[1] \"tp 0.958161648177496\"\n",
      "[1] \"tAfterNoSign\"\n",
      "[1] \"tp 0.998567335243553\"\n",
      "[1] \"tp 0.983678870754301\"\n",
      "[1] \"tp 0.96448087431694\"\n",
      "[1] \"tAfterNoStop\"\n",
      "[1] \"tp 0.997576736672052\"\n",
      "[1] \"tp 0.990038738240177\"\n",
      "[1] \"tp 0.979399141630901\"\n"
     ]
    },
    {
     "data": {
      "text/html": [
       "<table class=\"dataframe\">\n",
       "<caption>A tibble: 7 × 7</caption>\n",
       "<thead>\n",
       "\t<tr><th scope=col>Method</th><th scope=col>FDR_0.01_FDR</th><th scope=col>FDR_0.05_FDR</th><th scope=col>FDR_0.10_FDR</th><th scope=col>FDR_0.01_TPR</th><th scope=col>FDR_0.05_TPR</th><th scope=col>FDR_0.10_TPR</th></tr>\n",
       "\t<tr><th scope=col>&lt;named list&gt;</th><th scope=col>&lt;named list&gt;</th><th scope=col>&lt;named list&gt;</th><th scope=col>&lt;named list&gt;</th><th scope=col>&lt;named list&gt;</th><th scope=col>&lt;named list&gt;</th><th scope=col>&lt;named list&gt;</th></tr>\n",
       "</thead>\n",
       "<tbody>\n",
       "\t<tr><td>Txps</td><td>0.008143322</td><td>0.03903523</td><td>0.07932011</td><td>0.2081577</td><td>0.3449926</td><td>0.4073146</td></tr>\n",
       "\t<tr><td>tAfterBHMoreClimbMIRV=0</td><td>0.01060071</td><td>0.06387226</td><td>0.1212021</td><td>0.2905569</td><td>0.4298021</td><td>0.4959925</td></tr>\n",
       "\t<tr><td>tAfterBHMoreClimbMIRV=0.4</td><td>0.007788162</td><td>0.04502753</td><td>0.08840656</td><td>0.2515798</td><td>0.3883035</td><td>0.4525624</td></tr>\n",
       "\t<tr><td>tAfterBHMoreClimbMIRV=1</td><td>0.007295466</td><td>0.04057508</td><td>0.08263816</td><td>0.2358257</td><td>0.3717965</td><td>0.4343372</td></tr>\n",
       "\t<tr><td>tAfter</td><td>0.001943005</td><td>0.0198783</td><td>0.04183835</td><td>0.183978</td><td>0.2808976</td><td>0.3493182</td></tr>\n",
       "\t<tr><td>tAfterNoSign</td><td>0.001432665</td><td>0.01632113</td><td>0.03551913</td><td>0.1650095</td><td>0.2585208</td><td>0.325796</td></tr>\n",
       "\t<tr><td>tAfterNoStop</td><td>0.002423263</td><td>0.009961262</td><td>0.02060086</td><td>0.1463444</td><td>0.2064151</td><td>0.2622084</td></tr>\n",
       "</tbody>\n",
       "</table>\n"
      ],
      "text/latex": [
       "A tibble: 7 × 7\n",
       "\\begin{tabular}{lllllll}\n",
       " Method & FDR\\_0.01\\_FDR & FDR\\_0.05\\_FDR & FDR\\_0.10\\_FDR & FDR\\_0.01\\_TPR & FDR\\_0.05\\_TPR & FDR\\_0.10\\_TPR\\\\\n",
       " <named list> & <named list> & <named list> & <named list> & <named list> & <named list> & <named list>\\\\\n",
       "\\hline\n",
       "\t Txps & 0.008143322 & 0.03903523 & 0.07932011 & 0.2081577 & 0.3449926 & 0.4073146\\\\\n",
       "\t tAfterBHMoreClimbMIRV=0 & 0.01060071 & 0.06387226 & 0.1212021 & 0.2905569 & 0.4298021 & 0.4959925\\\\\n",
       "\t tAfterBHMoreClimbMIRV=0.4 & 0.007788162 & 0.04502753 & 0.08840656 & 0.2515798 & 0.3883035 & 0.4525624\\\\\n",
       "\t tAfterBHMoreClimbMIRV=1 & 0.007295466 & 0.04057508 & 0.08263816 & 0.2358257 & 0.3717965 & 0.4343372\\\\\n",
       "\t tAfter & 0.001943005 & 0.0198783 & 0.04183835 & 0.183978 & 0.2808976 & 0.3493182\\\\\n",
       "\t tAfterNoSign & 0.001432665 & 0.01632113 & 0.03551913 & 0.1650095 & 0.2585208 & 0.325796\\\\\n",
       "\t tAfterNoStop & 0.002423263 & 0.009961262 & 0.02060086 & 0.1463444 & 0.2064151 & 0.2622084\\\\\n",
       "\\end{tabular}\n"
      ],
      "text/markdown": [
       "\n",
       "A tibble: 7 × 7\n",
       "\n",
       "| Method &lt;named list&gt; | FDR_0.01_FDR &lt;named list&gt; | FDR_0.05_FDR &lt;named list&gt; | FDR_0.10_FDR &lt;named list&gt; | FDR_0.01_TPR &lt;named list&gt; | FDR_0.05_TPR &lt;named list&gt; | FDR_0.10_TPR &lt;named list&gt; |\n",
       "|---|---|---|---|---|---|---|\n",
       "| Txps | 0.008143322 | 0.03903523 | 0.07932011 | 0.2081577 | 0.3449926 | 0.4073146 |\n",
       "| tAfterBHMoreClimbMIRV=0 | 0.01060071 | 0.06387226 | 0.1212021 | 0.2905569 | 0.4298021 | 0.4959925 |\n",
       "| tAfterBHMoreClimbMIRV=0.4 | 0.007788162 | 0.04502753 | 0.08840656 | 0.2515798 | 0.3883035 | 0.4525624 |\n",
       "| tAfterBHMoreClimbMIRV=1 | 0.007295466 | 0.04057508 | 0.08263816 | 0.2358257 | 0.3717965 | 0.4343372 |\n",
       "| tAfter | 0.001943005 | 0.0198783 | 0.04183835 | 0.183978 | 0.2808976 | 0.3493182 |\n",
       "| tAfterNoSign | 0.001432665 | 0.01632113 | 0.03551913 | 0.1650095 | 0.2585208 | 0.325796 |\n",
       "| tAfterNoStop | 0.002423263 | 0.009961262 | 0.02060086 | 0.1463444 | 0.2064151 | 0.2622084 |\n",
       "\n"
      ],
      "text/plain": [
       "  Method                    FDR_0.01_FDR FDR_0.05_FDR FDR_0.10_FDR FDR_0.01_TPR\n",
       "1 Txps                      0.008143322  0.03903523   0.07932011   0.2081577   \n",
       "2 tAfterBHMoreClimbMIRV=0   0.01060071   0.06387226   0.1212021    0.2905569   \n",
       "3 tAfterBHMoreClimbMIRV=0.4 0.007788162  0.04502753   0.08840656   0.2515798   \n",
       "4 tAfterBHMoreClimbMIRV=1   0.007295466  0.04057508   0.08263816   0.2358257   \n",
       "5 tAfter                    0.001943005  0.0198783    0.04183835   0.183978    \n",
       "6 tAfterNoSign              0.001432665  0.01632113   0.03551913   0.1650095   \n",
       "7 tAfterNoStop              0.002423263  0.009961262  0.02060086   0.1463444   \n",
       "  FDR_0.05_TPR FDR_0.10_TPR\n",
       "1 0.3449926    0.4073146   \n",
       "2 0.4298021    0.4959925   \n",
       "3 0.3883035    0.4525624   \n",
       "4 0.3717965    0.4343372   \n",
       "5 0.2808976    0.3493182   \n",
       "6 0.2585208    0.325796    \n",
       "7 0.2064151    0.2622084   "
      ]
     },
     "metadata": {},
     "output_type": "display_data"
    }
   ],
   "source": [
    "df <- data.frame(Method=character(), Metric=character(), FDR_0.01 = numeric(), FDR_0.05 = numeric(), FDR_0.10 = numeric())\n",
    "for(n in names(detNodes))\n",
    "{    \n",
    "    print(n)\n",
    "    stats <-  sapply(seq_along(detNodes[[n]]), function(i) computeMetOut(detNodes[[n]][[i]], logFCNodes, tree = tree, negNodes = negNodes[[n]][[i]], lfcThresh = rootFC))\n",
    "    colnames(stats) <- colnames(df)[c(3:5)]\n",
    "    stats <- cbind(Method=rep(n,2), Metric = c(\"FDR\", \"TPR\"), stats)\n",
    "    df <- rbind(df, stats)\n",
    "}\n",
    "suppressPackageStartupMessages(library(tidyr))\n",
    "dfA <- df %>% pivot_wider(names_from = Metric, values_from = c(3:5))\n",
    "dfA <- dfA[,c(1,seq(2,7,2),seq(3,7,2))]\n",
    "dfA"
   ]
  },
  {
   "cell_type": "code",
   "execution_count": 23,
   "id": "1eaed759",
   "metadata": {},
   "outputs": [],
   "source": [
    "detInnerNodes <- sapply(detNodes[[\"tAfterBHMoreClimbMIRV=0.4\"]], function(nodes) nodes[nodes > l])"
   ]
  },
  {
   "cell_type": "code",
   "execution_count": 28,
   "id": "78c4325c",
   "metadata": {},
   "outputs": [
    {
     "data": {
      "text/html": [
       "<style>\n",
       ".list-inline {list-style: none; margin:0; padding: 0}\n",
       ".list-inline>li {display: inline-block}\n",
       ".list-inline>li:not(:last-child)::after {content: \"\\00b7\"; padding: 0 .5ex}\n",
       "</style>\n",
       "<ol class=list-inline><li>568</li><li>911</li><li>1020</li></ol>\n"
      ],
      "text/latex": [
       "\\begin{enumerate*}\n",
       "\\item 568\n",
       "\\item 911\n",
       "\\item 1020\n",
       "\\end{enumerate*}\n"
      ],
      "text/markdown": [
       "1. 568\n",
       "2. 911\n",
       "3. 1020\n",
       "\n",
       "\n"
      ],
      "text/plain": [
       "[1]  568  911 1020"
      ]
     },
     "metadata": {},
     "output_type": "display_data"
    }
   ],
   "source": [
    "sapply(detInnerNodes, length)"
   ]
  },
  {
   "cell_type": "code",
   "execution_count": 26,
   "id": "8c463356",
   "metadata": {},
   "outputs": [
    {
     "data": {
      "text/html": [
       "<style>\n",
       ".list-inline {list-style: none; margin:0; padding: 0}\n",
       ".list-inline>li {display: inline-block}\n",
       ".list-inline>li:not(:last-child)::after {content: \"\\00b7\"; padding: 0 .5ex}\n",
       "</style>\n",
       "<ol class=list-inline><li>0.00176056338028169</li><li>0.0373216245883644</li><li>0.0892156862745098</li></ol>\n"
      ],
      "text/latex": [
       "\\begin{enumerate*}\n",
       "\\item 0.00176056338028169\n",
       "\\item 0.0373216245883644\n",
       "\\item 0.0892156862745098\n",
       "\\end{enumerate*}\n"
      ],
      "text/markdown": [
       "1. 0.00176056338028169\n",
       "2. 0.0373216245883644\n",
       "3. 0.0892156862745098\n",
       "\n",
       "\n"
      ],
      "text/plain": [
       "[1] 0.001760563 0.037321625 0.089215686"
      ]
     },
     "metadata": {},
     "output_type": "display_data"
    }
   ],
   "source": [
    "sapply(seq_along(detInnerNodes), function(i) mean(abs(logFCNodes[detInnerNodes[[i]]]) < rootFC))"
   ]
  },
  {
   "cell_type": "code",
   "execution_count": 38,
   "id": "d31a617e",
   "metadata": {},
   "outputs": [],
   "source": [
    "missP <- setdiff(unlist(Descendants(tree,detNodes[[3]][[2]])), detNodes[[1]][[2]])\n",
    "missTP <- missP[abs(logFCNodes[missP]) > rootFC] ##True positive transcripts that have an internal node\n",
    "\n",
    "missInTreeDE <- setdiff(detNodes[[1]][[2]], unlist(Descendants(tree,detNodes[[3]][[2]])))\n",
    "missTPInTreeDE <- missInTreeDE[abs(logFCNodes[missInTreeDE]) > rootFC] ##True positive transcripts that have an internal node"
   ]
  },
  {
   "cell_type": "code",
   "execution_count": 39,
   "id": "45f4f690",
   "metadata": {},
   "outputs": [
    {
     "data": {
      "text/html": [
       "1984"
      ],
      "text/latex": [
       "1984"
      ],
      "text/markdown": [
       "1984"
      ],
      "text/plain": [
       "[1] 1984"
      ]
     },
     "metadata": {},
     "output_type": "display_data"
    },
    {
     "data": {
      "text/html": [
       "1136"
      ],
      "text/latex": [
       "1136"
      ],
      "text/markdown": [
       "1136"
      ],
      "text/plain": [
       "[1] 1136"
      ]
     },
     "metadata": {},
     "output_type": "display_data"
    },
    {
     "data": {
      "text/html": [
       "285"
      ],
      "text/latex": [
       "285"
      ],
      "text/markdown": [
       "285"
      ],
      "text/plain": [
       "[1] 285"
      ]
     },
     "metadata": {},
     "output_type": "display_data"
    },
    {
     "data": {
      "text/html": [
       "238"
      ],
      "text/latex": [
       "238"
      ],
      "text/markdown": [
       "238"
      ],
      "text/plain": [
       "[1] 238"
      ]
     },
     "metadata": {},
     "output_type": "display_data"
    }
   ],
   "source": [
    "length(missP)\n",
    "length(missTP)\n",
    "length(missInTreeDE)\n",
    "length(missTPInTreeDE)"
   ]
  },
  {
   "cell_type": "code",
   "execution_count": 35,
   "id": "c018696c",
   "metadata": {},
   "outputs": [
    {
     "data": {
      "text/html": [
       "438"
      ],
      "text/latex": [
       "438"
      ],
      "text/markdown": [
       "438"
      ],
      "text/plain": [
       "[1] 438"
      ]
     },
     "metadata": {},
     "output_type": "display_data"
    }
   ],
   "source": [
    "sum(unique(unlist(Ancestors(tree, missTP))) %in% detNodes[[3]][[2]]) ### Nodes of these additional ancestors "
   ]
  },
  {
   "cell_type": "code",
   "execution_count": 37,
   "id": "6279d516",
   "metadata": {},
   "outputs": [
    {
     "data": {
      "text/html": [
       "<style>\n",
       ".list-inline {list-style: none; margin:0; padding: 0}\n",
       ".list-inline>li {display: inline-block}\n",
       ".list-inline>li:not(:last-child)::after {content: \"\\00b7\"; padding: 0 .5ex}\n",
       "</style>\n",
       "<ol class=list-inline><li>'Txps'</li><li>'tAfterBHMoreClimbMIRV=0'</li><li>'tAfterBHMoreClimbMIRV=0.4'</li><li>'tAfterBHMoreClimbMIRV=1'</li><li>'tAfter'</li><li>'tAfterNoSign'</li><li>'tAfterNoStop'</li></ol>\n"
      ],
      "text/latex": [
       "\\begin{enumerate*}\n",
       "\\item 'Txps'\n",
       "\\item 'tAfterBHMoreClimbMIRV=0'\n",
       "\\item 'tAfterBHMoreClimbMIRV=0.4'\n",
       "\\item 'tAfterBHMoreClimbMIRV=1'\n",
       "\\item 'tAfter'\n",
       "\\item 'tAfterNoSign'\n",
       "\\item 'tAfterNoStop'\n",
       "\\end{enumerate*}\n"
      ],
      "text/markdown": [
       "1. 'Txps'\n",
       "2. 'tAfterBHMoreClimbMIRV=0'\n",
       "3. 'tAfterBHMoreClimbMIRV=0.4'\n",
       "4. 'tAfterBHMoreClimbMIRV=1'\n",
       "5. 'tAfter'\n",
       "6. 'tAfterNoSign'\n",
       "7. 'tAfterNoStop'\n",
       "\n",
       "\n"
      ],
      "text/plain": [
       "[1] \"Txps\"                      \"tAfterBHMoreClimbMIRV=0\"  \n",
       "[3] \"tAfterBHMoreClimbMIRV=0.4\" \"tAfterBHMoreClimbMIRV=1\"  \n",
       "[5] \"tAfter\"                    \"tAfterNoSign\"             \n",
       "[7] \"tAfterNoStop\"             "
      ]
     },
     "metadata": {},
     "output_type": "display_data"
    }
   ],
   "source": [
    "names(detNodes)"
   ]
  },
  {
   "cell_type": "code",
   "execution_count": 34,
   "id": "6a5339b8",
   "metadata": {},
   "outputs": [
    {
     "data": {
      "text/html": [
       "1984"
      ],
      "text/latex": [
       "1984"
      ],
      "text/markdown": [
       "1984"
      ],
      "text/plain": [
       "[1] 1984"
      ]
     },
     "metadata": {},
     "output_type": "display_data"
    },
    {
     "data": {
      "text/html": [
       "1136"
      ],
      "text/latex": [
       "1136"
      ],
      "text/markdown": [
       "1136"
      ],
      "text/plain": [
       "[1] 1136"
      ]
     },
     "metadata": {},
     "output_type": "display_data"
    },
    {
     "data": {
      "text/html": [
       "285"
      ],
      "text/latex": [
       "285"
      ],
      "text/markdown": [
       "285"
      ],
      "text/plain": [
       "[1] 285"
      ]
     },
     "metadata": {},
     "output_type": "display_data"
    },
    {
     "data": {
      "text/html": [
       "238"
      ],
      "text/latex": [
       "238"
      ],
      "text/markdown": [
       "238"
      ],
      "text/plain": [
       "[1] 238"
      ]
     },
     "metadata": {},
     "output_type": "display_data"
    }
   ],
   "source": [
    "length(missP)\n",
    "length(missTP)\n",
    "length(missInTreeDE)\n",
    "length(missTPInTreeDE)\n",
    "\n"
   ]
  },
  {
   "cell_type": "markdown",
   "id": "d53dd2be",
   "metadata": {},
   "source": [
    "#### Mean"
   ]
  },
  {
   "cell_type": "code",
   "execution_count": 14,
   "id": "11ee34e2",
   "metadata": {},
   "outputs": [],
   "source": [
    "load(file=file.path(saveDir, \"tseMean.RData\"))\n",
    "load(\"environment/brain_sim_nodtu_lowfc/simulate.rda\")\n",
    "suppressPackageStartupMessages(library(TreeSummarizedExperiment))\n",
    "suppressPackageStartupMessages(library(ape))\n",
    "tree <- rowTree(tse)\n",
    "l <- length(tree$tip)\n",
    "missingTxps <- setdiff(rownames(tse)[1:l], rownames(sim.counts.mat))\n",
    "dts <- Reduce(union, c(names(iso.dge)[iso.dge], names(iso.dte)[iso.dte], names(iso.dte.only)[iso.dte.only], \n",
    "                       names(iso.dtu)[iso.dtu]))\n",
    "dts <- intersect(dts, rownames(sim.counts.mat))\n",
    "sim.counts.mat <- rbind(sim.counts.mat, matrix(0, nrow = length(missingTxps), ncol = ncol(sim.counts.mat),\n",
    "                                               dimnames = list(missingTxps, colnames(sim.counts.mat))))\n",
    "sim.counts.mat <- sim.counts.mat[rownames(tse)[1:l],]\n",
    "dts <- intersect(dts, rownames(sim.counts.mat))\n",
    "\n",
    "innNodes <- l+1:tree$Nnode\n",
    "aggCountsNodes <- computeAggNodesU(tree, c(1:length(tree$tip),innNodes), sim.counts.mat)\n",
    "logFCNodes <- ifelse(rowSums(aggCountsNodes)==0, 0, log2(aggCountsNodes[,2]+1)-log2(aggCountsNodes[,1]+1))\n",
    "names(logFCNodes)[(l+1):length(logFCNodes)] <- paste(\"Node\", names(logFCNodes)[(l+1):length(logFCNodes)], sep=\"\")\n",
    "rootFC <- abs(logFCNodes[l+1])"
   ]
  },
  {
   "cell_type": "code",
   "execution_count": 15,
   "id": "eb74d8a3",
   "metadata": {},
   "outputs": [],
   "source": [
    "load(file.path(saveDir, \"tAfterBHMoreClimbMIRVMean.RData\"))\n",
    "y <- tse[1:l,]\n",
    "y <- fishpond::scaleInfReps(y)\n",
    "y <- labelKeep(y)\n",
    "set.seed(1)\n",
    "y <- swish(y, x=\"condition\")"
   ]
  },
  {
   "cell_type": "code",
   "execution_count": 16,
   "id": "f4897c66",
   "metadata": {},
   "outputs": [],
   "source": [
    "detNodes <- list()\n",
    "detNodes[[\"Txps\"]] <- lapply(c(0.01, 0.05, 0.1), function(x) which(mcols(y)[,\"qvalue\"] <= x ))\n",
    "detNodes[[\"tAfterBHMoreClimbMIRV=0\"]] <- lapply(tAfterBHMoreClimbMIRV[[1]], function(ta) ta)\n",
    "detNodes[[\"tAfterBHMoreClimbMIRV=0.4\"]] <- lapply(tAfterBHMoreClimbMIRV[[2]], function(ta) ta)\n",
    "detNodes[[\"tAfterBHMoreClimbMIRV=1\"]] <- lapply(tAfterBHMoreClimbMIRV[[3]], function(ta) ta)\n",
    "\n",
    "negNodes <- list()\n",
    "negNodes[[\"Txps\"]] <- lapply(detNodes[[\"Txps\"]], function(nodes) setdiff(seq(l), nodes))\n",
    "negNodes[[\"tAfterBHMoreClimbMIRV=0\"]] <- lapply(detNodes[[\"tAfterBHMoreClimbMIRV=0\"]], function(nodes) setdiff(seq(nrow(y)), unlist(Descendants(tree, nodes))))\n",
    "negNodes[[\"tAfterBHMoreClimbMIRV=0.4\"]] <- lapply(detNodes[[\"tAfterBHMoreClimbMIRV=0.4\"]], function(nodes) setdiff(seq(nrow(y)), unlist(Descendants(tree, nodes)))) \n",
    "negNodes[[\"tAfterBHMoreClimbMIRV=1\"]] <- lapply(detNodes[[\"tAfterBHMoreClimbMIRV=1\"]], function(nodes) setdiff(seq(nrow(y)), unlist(Descendants(tree, nodes)))) \n"
   ]
  },
  {
   "cell_type": "code",
   "execution_count": 17,
   "id": "77645be2",
   "metadata": {},
   "outputs": [
    {
     "name": "stdout",
     "output_type": "stream",
     "text": [
      "[1] \"Txps\"\n",
      "[1] \"tp 0.991852254209669\"\n",
      "[1] \"tp 0.960747071858183\"\n",
      "[1] \"tp 0.92046332046332\"\n",
      "[1] \"tAfterBHMoreClimbMIRV=0\"\n",
      "[1] \"tp 0.998370008149959\"\n",
      "[1] \"tp 0.950342465753425\"\n",
      "[1] \"tp 0.897489539748954\"\n",
      "[1] \"tAfterBHMoreClimbMIRV=0.4\"\n",
      "[1] \"tp 0.999211356466877\"\n",
      "[1] \"tp 0.964801126363956\"\n",
      "[1] \"tp 0.925688839409964\"\n",
      "[1] \"tAfterBHMoreClimbMIRV=1\"\n",
      "[1] \"tp 0.999174236168456\"\n",
      "[1] \"tp 0.968443197755961\"\n",
      "[1] \"tp 0.931119648737651\"\n"
     ]
    },
    {
     "data": {
      "text/html": [
       "<table class=\"dataframe\">\n",
       "<caption>A tibble: 4 × 7</caption>\n",
       "<thead>\n",
       "\t<tr><th scope=col>Method</th><th scope=col>FDR_0.01_FDR</th><th scope=col>FDR_0.05_FDR</th><th scope=col>FDR_0.10_FDR</th><th scope=col>FDR_0.01_TPR</th><th scope=col>FDR_0.05_TPR</th><th scope=col>FDR_0.10_TPR</th></tr>\n",
       "\t<tr><th scope=col>&lt;named list&gt;</th><th scope=col>&lt;named list&gt;</th><th scope=col>&lt;named list&gt;</th><th scope=col>&lt;named list&gt;</th><th scope=col>&lt;named list&gt;</th><th scope=col>&lt;named list&gt;</th><th scope=col>&lt;named list&gt;</th></tr>\n",
       "</thead>\n",
       "<tbody>\n",
       "\t<tr><td>Txps</td><td>0.008147746</td><td>0.03925293</td><td>0.07953668</td><td>0.2080201</td><td>0.3457507</td><td>0.4073821</td></tr>\n",
       "\t<tr><td>tAfterBHMoreClimbMIRV=0</td><td>0.001629992</td><td>0.04965753</td><td>0.1025105</td><td>0.2019786</td><td>0.4026115</td><td>0.4796869</td></tr>\n",
       "\t<tr><td>tAfterBHMoreClimbMIRV=0.4</td><td>0.0007886435</td><td>0.03519887</td><td>0.07431116</td><td>0.1634839</td><td>0.3613235</td><td>0.4369991</td></tr>\n",
       "\t<tr><td>tAfterBHMoreClimbMIRV=1</td><td>0.0008257638</td><td>0.0315568</td><td>0.06888035</td><td>0.1471661</td><td>0.3424675</td><td>0.419303</td></tr>\n",
       "</tbody>\n",
       "</table>\n"
      ],
      "text/latex": [
       "A tibble: 4 × 7\n",
       "\\begin{tabular}{lllllll}\n",
       " Method & FDR\\_0.01\\_FDR & FDR\\_0.05\\_FDR & FDR\\_0.10\\_FDR & FDR\\_0.01\\_TPR & FDR\\_0.05\\_TPR & FDR\\_0.10\\_TPR\\\\\n",
       " <named list> & <named list> & <named list> & <named list> & <named list> & <named list> & <named list>\\\\\n",
       "\\hline\n",
       "\t Txps & 0.008147746 & 0.03925293 & 0.07953668 & 0.2080201 & 0.3457507 & 0.4073821\\\\\n",
       "\t tAfterBHMoreClimbMIRV=0 & 0.001629992 & 0.04965753 & 0.1025105 & 0.2019786 & 0.4026115 & 0.4796869\\\\\n",
       "\t tAfterBHMoreClimbMIRV=0.4 & 0.0007886435 & 0.03519887 & 0.07431116 & 0.1634839 & 0.3613235 & 0.4369991\\\\\n",
       "\t tAfterBHMoreClimbMIRV=1 & 0.0008257638 & 0.0315568 & 0.06888035 & 0.1471661 & 0.3424675 & 0.419303\\\\\n",
       "\\end{tabular}\n"
      ],
      "text/markdown": [
       "\n",
       "A tibble: 4 × 7\n",
       "\n",
       "| Method &lt;named list&gt; | FDR_0.01_FDR &lt;named list&gt; | FDR_0.05_FDR &lt;named list&gt; | FDR_0.10_FDR &lt;named list&gt; | FDR_0.01_TPR &lt;named list&gt; | FDR_0.05_TPR &lt;named list&gt; | FDR_0.10_TPR &lt;named list&gt; |\n",
       "|---|---|---|---|---|---|---|\n",
       "| Txps | 0.008147746 | 0.03925293 | 0.07953668 | 0.2080201 | 0.3457507 | 0.4073821 |\n",
       "| tAfterBHMoreClimbMIRV=0 | 0.001629992 | 0.04965753 | 0.1025105 | 0.2019786 | 0.4026115 | 0.4796869 |\n",
       "| tAfterBHMoreClimbMIRV=0.4 | 0.0007886435 | 0.03519887 | 0.07431116 | 0.1634839 | 0.3613235 | 0.4369991 |\n",
       "| tAfterBHMoreClimbMIRV=1 | 0.0008257638 | 0.0315568 | 0.06888035 | 0.1471661 | 0.3424675 | 0.419303 |\n",
       "\n"
      ],
      "text/plain": [
       "  Method                    FDR_0.01_FDR FDR_0.05_FDR FDR_0.10_FDR FDR_0.01_TPR\n",
       "1 Txps                      0.008147746  0.03925293   0.07953668   0.2080201   \n",
       "2 tAfterBHMoreClimbMIRV=0   0.001629992  0.04965753   0.1025105    0.2019786   \n",
       "3 tAfterBHMoreClimbMIRV=0.4 0.0007886435 0.03519887   0.07431116   0.1634839   \n",
       "4 tAfterBHMoreClimbMIRV=1   0.0008257638 0.0315568    0.06888035   0.1471661   \n",
       "  FDR_0.05_TPR FDR_0.10_TPR\n",
       "1 0.3457507    0.4073821   \n",
       "2 0.4026115    0.4796869   \n",
       "3 0.3613235    0.4369991   \n",
       "4 0.3424675    0.419303    "
      ]
     },
     "metadata": {},
     "output_type": "display_data"
    }
   ],
   "source": [
    "df <- data.frame(Method=character(), Metric=character(), FDR_0.01 = numeric(), FDR_0.05 = numeric(), FDR_0.10 = numeric())\n",
    "for(n in names(detNodes))\n",
    "{    \n",
    "    print(n)\n",
    "    stats <-  sapply(seq_along(detNodes[[n]]), function(i) computeMetOut(detNodes[[n]][[i]], logFCNodes, tree = tree, negNodes = negNodes[[n]][[i]], lfcThresh = rootFC))\n",
    "    colnames(stats) <- colnames(df)[c(3:5)]\n",
    "    stats <- cbind(Method=rep(n,2), Metric = c(\"FDR\", \"TPR\"), stats)\n",
    "    df <- rbind(df, stats)\n",
    "}\n",
    "dfA <- df %>% pivot_wider(names_from = Metric, values_from = c(3:5))\n",
    "dfA <- dfA[,c(1,seq(2,7,2),seq(3,7,2))]\n",
    "dfA                     "
   ]
  }
 ],
 "metadata": {
  "kernelspec": {
   "display_name": "R",
   "language": "R",
   "name": "ir"
  },
  "language_info": {
   "codemirror_mode": "r",
   "file_extension": ".r",
   "mimetype": "text/x-r-source",
   "name": "R",
   "pygments_lexer": "r",
   "version": "4.1.1"
  }
 },
 "nbformat": 4,
 "nbformat_minor": 5
}
