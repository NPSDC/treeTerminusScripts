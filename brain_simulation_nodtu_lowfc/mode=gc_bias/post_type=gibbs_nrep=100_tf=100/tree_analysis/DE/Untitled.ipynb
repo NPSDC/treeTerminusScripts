{
 "cells": [
  {
   "cell_type": "code",
   "execution_count": 1,
   "id": "6fde1941",
   "metadata": {},
   "outputs": [
    {
     "name": "stderr",
     "output_type": "stream",
     "text": [
      "Downloading GitHub repo NPSDC/beaveR@dev\n",
      "\n"
     ]
    },
    {
     "name": "stdout",
     "output_type": "stream",
     "text": [
      "\n"
     ]
    },
    {
     "name": "stderr",
     "output_type": "stream",
     "text": [
      "Skipping 5 packages not available: S4Vectors, tximeta, TreeSummarizedExperiment, SingleCellExperiment, SummarizedExperiment\n",
      "\n"
     ]
    },
    {
     "name": "stdout",
     "output_type": "stream",
     "text": [
      "\u001b[36m──\u001b[39m \u001b[36mR CMD build\u001b[39m \u001b[36m────────────────────────────────────────────────────────────────────────────────────────────────────────────────────────────────────────────────────────────────────────────────────────────\u001b[39m\n",
      "\u001b[32m✔\u001b[39m  \u001b[90mchecking for file ‘/cbcbhomes/npsingh/.tmp/Rtmp1Lf46w/remotesa8e746f5835/NPSDC-beaveR-55f74bc/DESCRIPTION’\u001b[39m\u001b[36m\u001b[36m (592ms)\u001b[36m\u001b[39m\n",
      "\u001b[90m─\u001b[39m\u001b[90m  \u001b[39m\u001b[90mpreparing ‘beaveR’:\u001b[39m\u001b[36m\u001b[39m\n",
      "\u001b[32m✔\u001b[39m  \u001b[90mchecking DESCRIPTION meta-information\u001b[39m\u001b[36m\u001b[39m\n",
      "\u001b[90m─\u001b[39m\u001b[90m  \u001b[39m\u001b[90mchecking for LF line-endings in source and make files and shell scripts\u001b[39m\u001b[36m\u001b[39m\n",
      "\u001b[90m─\u001b[39m\u001b[90m  \u001b[39m\u001b[90mchecking for empty or unneeded directories\u001b[39m\u001b[36m\u001b[39m\n",
      "\u001b[90m─\u001b[39m\u001b[90m  \u001b[39m\u001b[90mbuilding ‘beaveR_0.99.0.tar.gz’\u001b[39m\u001b[36m\u001b[39m\n",
      "   \n",
      "\r"
     ]
    },
    {
     "name": "stderr",
     "output_type": "stream",
     "text": [
      "Warning message in i.p(...):\n",
      "“installation of package ‘/cbcbhomes/npsingh/.tmp/Rtmp1Lf46w/filea8e7661d5d90/beaveR_0.99.0.tar.gz’ had non-zero exit status”\n"
     ]
    }
   ],
   "source": [
    "devtools::install_github(\"NPSDC/beaveR\", ref = \"dev\")\n",
    "setwd('/fs/cbcb-lab/rob/students/noor/Uncertainity/treeTerminusScripts')\n",
    "suppressPackageStartupMessages(source(\"tree_helper_function.R\"))\n",
    "suppressPackageStartupMessages(library(beaveR))\n",
    "clustFile <- \"../brain_sim_nodtu_lowfc/mode=gc_bias/post_type=gibbs_nrep=100_tf=100/terminus/no_threshold0/cluster_nwk.txt\"\n",
    "quantDir <- file.path(\"../brain_sim_nodtu_lowfc/mode=gc_bias/post_type=gibbs_nrep=100_tf=100/out_sal\") \n",
    "samples <- as.vector(outer(c(1:6), c(1,2), function(x,y) paste(x,y,sep='_')))\n",
    "quantFiles <- file.path(quantDir, samples, 'quant.sf')\n",
    "coldata <- data.frame(files=quantFiles, names=samples, condition=factor(rep(1:2, each=6)))\n",
    "# tse <- buildTSE(treeTermFile = clustFile, coldata = coldata)"
   ]
  },
  {
   "cell_type": "code",
   "execution_count": 5,
   "id": "0b120978",
   "metadata": {},
   "outputs": [],
   "source": [
    "saveDir <- \"environment/brain_sim_nodtu_lowfc/mode=gc_bias/post_type=gibbs_nrep=100_tf=100/comp_trees/DE\"\n",
    "# save(tse, file=file.path(saveDir, \"tseCons.RData\"))\n",
    "load(file=file.path(saveDir, \"tseCons.RData\"))"
   ]
  },
  {
   "cell_type": "code",
   "execution_count": 7,
   "id": "f4c207a3",
   "metadata": {},
   "outputs": [],
   "source": [
    "load(\"environment/brain_sim_nodtu_lowfc/simulate.rda\")\n",
    "suppressPackageStartupMessages(library(TreeSummarizedExperiment))\n",
    "suppressPackageStartupMessages(library(ape))\n",
    "\n",
    "tree <- rowTree(tse)\n",
    "l <- length(tree$tip)\n",
    "missingTxps <- setdiff(rownames(tse)[1:l], rownames(sim.counts.mat))\n",
    "dts <- Reduce(union, c(names(iso.dge)[iso.dge], names(iso.dte)[iso.dte], names(iso.dte.only)[iso.dte.only], \n",
    "                       names(iso.dtu)[iso.dtu]))\n",
    "dts <- intersect(dts, rownames(sim.counts.mat))\n",
    "sim.counts.mat <- rbind(sim.counts.mat, matrix(0, nrow = length(missingTxps), ncol = ncol(sim.counts.mat),\n",
    "                                               dimnames = list(missingTxps, colnames(sim.counts.mat))))\n",
    "sim.counts.mat <- sim.counts.mat[rownames(tse)[1:l],]\n",
    "dts <- intersect(dts, rownames(sim.counts.mat))\n",
    "\n",
    "innNodes <- l+1:tree$Nnode\n",
    "aggCountsNodes <- computeAggNodesU(tree, c(1:length(tree$tip),innNodes), sim.counts.mat)\n",
    "logFCNodes <- ifelse(rowSums(aggCountsNodes)==0, 0, log2(aggCountsNodes[,2]+1)-log2(aggCountsNodes[,1]+1))\n",
    "names(logFCNodes)[(l+1):length(logFCNodes)] <- paste(\"Node\", names(logFCNodes)[(l+1):length(logFCNodes)], sep=\"\")\n",
    "rootFC <- abs(logFCNodes[l+1])\n",
    "tps <- which(abs(logFCNodes) > rootFC)"
   ]
  },
  {
   "cell_type": "code",
   "execution_count": 8,
   "id": "e32de990",
   "metadata": {},
   "outputs": [],
   "source": [
    "load(file=file.path(saveDir, \"cutsCons.RData\"))\n",
    "load(file=file.path(saveDir, \"negNodesCons.RData\"))\n",
    "load(file=file.path(saveDir, \"detNodesCons.RData\"))"
   ]
  },
  {
   "cell_type": "code",
   "execution_count": 9,
   "id": "febaf6f4",
   "metadata": {},
   "outputs": [],
   "source": [
    "y <- fishpond::scaleInfReps(tse[cuts[[\"lfcTD\"]],])\n",
    "y <- labelKeep(y)\n",
    "set.seed(1)\n",
    "y <- swish(y, x=\"condition\")"
   ]
  },
  {
   "cell_type": "code",
   "execution_count": 26,
   "id": "88d64a0c",
   "metadata": {},
   "outputs": [
    {
     "data": {
      "text/html": [
       "79321"
      ],
      "text/latex": [
       "79321"
      ],
      "text/markdown": [
       "79321"
      ],
      "text/plain": [
       "[1] 79321"
      ]
     },
     "metadata": {},
     "output_type": "display_data"
    },
    {
     "data": {
      "text/html": [
       "31545"
      ],
      "text/latex": [
       "31545"
      ],
      "text/markdown": [
       "31545"
      ],
      "text/plain": [
       "[1] 31545"
      ]
     },
     "metadata": {},
     "output_type": "display_data"
    }
   ],
   "source": [
    "length(cuts[[\"lfcTD\"]])\n",
    "length(cuts[[\"lfcTPMDesc\"]])"
   ]
  },
  {
   "cell_type": "code",
   "execution_count": 23,
   "id": "0431cd43",
   "metadata": {},
   "outputs": [],
   "source": [
    "# lfcTPM <- getTPMLFC(tse, \"condition\")\n",
    "# descSize <- sapply(Descendants(tree, seq(nrow(tse))),length)\n",
    "# metric <- abs(lfcTPM)*descSize\n",
    "objS <- solveForOptimalCut(tse, metVec = metric, type = 'max')\n",
    "cs <- objS[[\"cut\"]]\n"
   ]
  },
  {
   "cell_type": "code",
   "execution_count": 25,
   "id": "d8fcfed6",
   "metadata": {},
   "outputs": [
    {
     "data": {
      "text/html": [
       "79321"
      ],
      "text/latex": [
       "79321"
      ],
      "text/markdown": [
       "79321"
      ],
      "text/plain": [
       "[1] 79321"
      ]
     },
     "metadata": {},
     "output_type": "display_data"
    }
   ],
   "source": [
    "length(cs)"
   ]
  },
  {
   "cell_type": "code",
   "execution_count": 27,
   "id": "93fad958",
   "metadata": {},
   "outputs": [
    {
     "name": "stdout",
     "output_type": "stream",
     "text": [
      "[1] \"Txps\"\n"
     ]
    },
    {
     "ename": "ERROR",
     "evalue": "Error in `colnames<-`(`*tmp*`, value = colnames(df)[c(3:5)]): attempt to set 'colnames' on an object with less than two dimensions\n",
     "output_type": "error",
     "traceback": [
      "Error in `colnames<-`(`*tmp*`, value = colnames(df)[c(3:5)]): attempt to set 'colnames' on an object with less than two dimensions\nTraceback:\n",
      "1. `colnames<-`(`*tmp*`, value = colnames(df)[c(3:5)])",
      "2. `colnames<-`(`*tmp*`, value = colnames(df)[c(3:5)])",
      "3. stop(\"attempt to set 'colnames' on an object with less than two dimensions\")"
     ]
    }
   ],
   "source": [
    "y <- fishpond::scaleInfReps(tse[cs,])\n",
    "y <- labelKeep(y)\n",
    "set.seed(1)\n",
    "y <- swish(y, x=\"condition\")\n",
    "dN <- lapply(c(0.01, 0.05, 0.1), function(x) {\n",
    "    nodes <- rownames(y)[which(mcols(y)[,\"qvalue\"] <= x)]\n",
    "    match(nodes, names(logFCNodes))\n",
    "})\n",
    "nN <- lapply(c(0.01, 0.05, 0.1), function(x) {\n",
    "        nodes <- rownames(y)[setdiff(seq(nrow(y)), which(mcols(y)[,\"qvalue\"] <= x))]\n",
    "        match(nodes, names(logFCNodes))\n",
    "    })\n",
    "\n",
    "df <- data.frame(Method=character(), Metric=character(), FDR_0.01 = numeric(), FDR_0.05 = numeric(), FDR_0.10 = numeric())\n",
    "for(n in names(detNodes))\n",
    "{\n",
    "    if(!n%in%c(\"term\", \"Genes\")) {\n",
    "        print(n)\n",
    "        stats <-  sapply(seq_along(dN[[n]]), function(i) computeMetOut(dN[[n]][[i]], logFCNodes, tree = tree, negNodes = nN[[n]][[i]], lfcThresh = rootFC))\n",
    "        colnames(stats) <- colnames(df)[c(3:5)]\n",
    "        stats <- cbind(Method=rep(n,2), Metric = c(\"FDR\", \"TPR\"), stats)\n",
    "        df <- rbind(df, stats)\n",
    "        \n",
    "    }\n",
    "    \n",
    "}\n",
    "print(df)\n",
    "comp"
   ]
  },
  {
   "cell_type": "code",
   "execution_count": 42,
   "id": "995668c7",
   "metadata": {},
   "outputs": [
    {
     "name": "stderr",
     "output_type": "stream",
     "text": [
      "Skipping install of 'beaveR' from a github remote, the SHA1 (55f74bc0) has not changed since last install.\n",
      "  Use `force = TRUE` to force installation\n",
      "\n",
      "Setting inf rep depth to mean depth\n",
      "\n"
     ]
    },
    {
     "name": "stdout",
     "output_type": "stream",
     "text": [
      "Progress:   1 on 100Progress:   2 on 100Progress:   3 on 100Progress:   4 on 100Progress:   5 on 100Progress:   6 on 100Progress:   7 on 100Progress:   8 on 100Progress:   9 on 100Progress:  10 on 100Progress:  11 on 100Progress:  12 on 100Progress:  13 on 100Progress:  14 on 100Progress:  15 on 100Progress:  16 on 100Progress:  17 on 100Progress:  18 on 100Progress:  19 on 100Progress:  20 on 100Progress:  21 on 100Progress:  22 on 100Progress:  23 on 100Progress:  24 on 100Progress:  25 on 100Progress:  26 on 100Progress:  27 on 100Progress:  28 on 100Progress:  29 on 100Progress:  30 on 100Progress:  31 on 100Progress:  32 on 100Progress:  33 on 100Progress:  34 on 100Progress:  35 on 100Progress:  36 on 100Progress:  37 on 100Progress:  38 on 100Progress:  39 on 100Progress:  40 on 100Progress:  41 on 100Progress:  42 on 100Progress:  43 on 100Progress:  44 on 100Progress:  45 on 100Progress:  46 on 100Progress:  47 on 100Progress:  48 on 100Progress:  49 on 100Progress:  50 on 100Progress:  51 on 100Progress:  52 on 100Progress:  53 on 100Progress:  54 on 100Progress:  55 on 100Progress:  56 on 100Progress:  57 on 100Progress:  58 on 100Progress:  59 on 100Progress:  60 on 100Progress:  61 on 100Progress:  62 on 100Progress:  63 on 100Progress:  64 on 100Progress:  65 on 100Progress:  66 on 100Progress:  67 on 100Progress:  68 on 100Progress:  69 on 100Progress:  70 on 100Progress:  71 on 100Progress:  72 on 100Progress:  73 on 100Progress:  74 on 100Progress:  75 on 100Progress:  76 on 100Progress:  77 on 100Progress:  78 on 100Progress:  79 on 100Progress:  80 on 100Progress:  81 on 100Progress:  82 on 100Progress:  83 on 100Progress:  84 on 100Progress:  85 on 100Progress:  86 on 100Progress:  87 on 100Progress:  88 on 100Progress:  89 on 100Progress:  90 on 100Progress:  91 on 100Progress:  92 on 100Progress:  93 on 100Progress:  94 on 100Progress:  95 on 100Progress:  96 on 100Progress:  97 on 100Progress:  98 on 100Progress:  99 on 100Progress: 100 on 100  "
     ]
    },
    {
     "name": "stderr",
     "output_type": "stream",
     "text": [
      "\n",
      "\n"
     ]
    }
   ],
   "source": [
    "devtools::install_github(\"NPSDC/beaveR\", ref = \"dev\")\n",
    "library(beaveR)\n",
    "y2 <- computeSizeFactors(tse, type = \"txp\")\n",
    "y2 <- scaleInfReps(y2)\n",
    "y2 <- labelKeep(y2)\n",
    "set.seed(1)\n",
    "y2 <- swish(y2, x=\"condition\")"
   ]
  },
  {
   "cell_type": "code",
   "execution_count": 44,
   "id": "b34ca161",
   "metadata": {},
   "outputs": [
    {
     "data": {
      "text/html": [
       "<style>\n",
       ".list-inline {list-style: none; margin:0; padding: 0}\n",
       ".list-inline>li {display: inline-block}\n",
       ".list-inline>li:not(:last-child)::after {content: \"\\00b7\"; padding: 0 .5ex}\n",
       "</style>\n",
       "<ol class=list-inline><li>130016</li><li>12</li></ol>\n"
      ],
      "text/latex": [
       "\\begin{enumerate*}\n",
       "\\item 130016\n",
       "\\item 12\n",
       "\\end{enumerate*}\n"
      ],
      "text/markdown": [
       "1. 130016\n",
       "2. 12\n",
       "\n",
       "\n"
      ],
      "text/plain": [
       "[1] 130016     12"
      ]
     },
     "metadata": {},
     "output_type": "display_data"
    }
   ],
   "source": [
    "suppressPackageStartupMessages(source(\"old_terminus_helper.R\"))\n",
    "dir <- \"/fs/cbcb-lab/rob/students/noor/Uncertainity/brain_sim_nodtu_lowfc/mode=gc_bias/post_type=gibbs_nrep=100_tf=100/terminus/\"\n",
    "# seBrainSim <- tximeta(coldata)\n",
    "yTermThrNS <- tse[1:l,]\n",
    "groupsClust <- parseClustFile(file.path(dir, \"old\", \"1_1\", \"clusters.txt\"), yTermThrNS)\n",
    "mInds <- seq(nrow(yTermThrNS) + length(groupsClust))\n",
    "yAggTermThrNS <- prepOSwish(yTermThrNS, mInds, groupsClust)\n",
    "\n",
    "rownames(yAggTermThrNS)[l+1:length(groupsClust)] <- paste(\"Node\", as.character(l+1:length(groupsClust)),sep=\"\")\n",
    "metadata(yAggTermThrNS)[[\"txpsAnn\"]] <- rowData(yTermThrNS)\n",
    "yAggTermThrNS <- yAggTermThrNS[-unlist(groupsClust),]\n",
    "dim(yAggTermThrNS)"
   ]
  },
  {
   "cell_type": "code",
   "execution_count": 48,
   "id": "6976927d",
   "metadata": {},
   "outputs": [],
   "source": [
    "yAggTermThrNS <- fishpond::scaleInfReps(yAggTermThrNS)\n",
    "yAggTermThrNS <- labelKeep(yAggTermThrNS)\n",
    "set.seed(1)\n",
    "yAggTermThrNS <- swish(yAggTermThrNS, x=\"condition\")"
   ]
  },
  {
   "cell_type": "code",
   "execution_count": 49,
   "id": "2b237f9d",
   "metadata": {},
   "outputs": [],
   "source": [
    "aggCountsNodes <- computeOAggNodesU(groupsClust, mInds, sim.counts.mat)\n",
    "logFCNodesTerm <- ifelse(rowSums(aggCountsNodes)==0, 0, log2(aggCountsNodes[,2]+1)-log2(aggCountsNodes[,1]+1))\n",
    "names(logFCNodesTerm)[(l+1):length(logFCNodesTerm)] <- paste(\"Node\", names(logFCNodesTerm)[(l+1):length(logFCNodesTerm)], sep=\"\")"
   ]
  },
  {
   "cell_type": "code",
   "execution_count": 50,
   "id": "cddd75a4",
   "metadata": {},
   "outputs": [],
   "source": [
    "desc <- unlist(Descendants(tree, cuts[[\"lfcTD\"]]))"
   ]
  },
  {
   "cell_type": "code",
   "execution_count": 51,
   "id": "1196ca8b",
   "metadata": {},
   "outputs": [
    {
     "data": {
      "text/html": [
       "2444"
      ],
      "text/latex": [
       "2444"
      ],
      "text/markdown": [
       "2444"
      ],
      "text/plain": [
       "[1] 2444"
      ]
     },
     "metadata": {},
     "output_type": "display_data"
    },
    {
     "data": {
      "text/html": [
       "2575"
      ],
      "text/latex": [
       "2575"
      ],
      "text/markdown": [
       "2575"
      ],
      "text/plain": [
       "[1] 2575"
      ]
     },
     "metadata": {},
     "output_type": "display_data"
    }
   ],
   "source": [
    "sum(mcols(y)[rownames(tse)[cuts[[\"lfcTD\"]]],\"qvalue\"] < 0.1,na.rm=T)\n",
    "sum(mcols(y2)[cuts[[\"lfcTD\"]],\"qvalue\"] < 0.1,na.rm=T)"
   ]
  },
  {
   "cell_type": "code",
   "execution_count": 52,
   "id": "be66133c",
   "metadata": {},
   "outputs": [
    {
     "data": {
      "text/html": [
       "122191"
      ],
      "text/latex": [
       "122191"
      ],
      "text/markdown": [
       "122191"
      ],
      "text/plain": [
       "[1] 122191"
      ]
     },
     "metadata": {},
     "output_type": "display_data"
    },
    {
     "data": {
      "text/html": [
       "2797"
      ],
      "text/latex": [
       "2797"
      ],
      "text/markdown": [
       "2797"
      ],
      "text/plain": [
       "[1] 2797"
      ]
     },
     "metadata": {},
     "output_type": "display_data"
    }
   ],
   "source": [
    "desc <- unlist(Descendants(tree, negNodes[[\"lfcTD\"]][[3]]))\n",
    "length(desc)\n",
    "sum(desc %in% tps[tps < l])"
   ]
  },
  {
   "cell_type": "code",
   "execution_count": 12,
   "id": "5c49b0ba",
   "metadata": {},
   "outputs": [
    {
     "data": {
      "text/plain": [
       "   Min. 1st Qu.  Median    Mean 3rd Qu.    Max.    NA's \n",
       "0.00043 0.40797 0.65273 0.71039 0.95034 3.46999     176 "
      ]
     },
     "metadata": {},
     "output_type": "display_data"
    },
    {
     "data": {
      "text/html": [
       "230"
      ],
      "text/latex": [
       "230"
      ],
      "text/markdown": [
       "230"
      ],
      "text/plain": [
       "[1] 230"
      ]
     },
     "metadata": {},
     "output_type": "display_data"
    },
    {
     "data": {
      "text/html": [
       "0"
      ],
      "text/latex": [
       "0"
      ],
      "text/markdown": [
       "0"
      ],
      "text/plain": [
       "[1] 0"
      ]
     },
     "metadata": {},
     "output_type": "display_data"
    },
    {
     "data": {
      "text/html": [
       "179"
      ],
      "text/latex": [
       "179"
      ],
      "text/markdown": [
       "179"
      ],
      "text/plain": [
       "[1] 179"
      ]
     },
     "metadata": {},
     "output_type": "display_data"
    },
    {
     "data": {
      "text/html": [
       "179"
      ],
      "text/latex": [
       "179"
      ],
      "text/markdown": [
       "179"
      ],
      "text/plain": [
       "[1] 179"
      ]
     },
     "metadata": {},
     "output_type": "display_data"
    }
   ],
   "source": [
    "summary(abs(mcols(y2)[[\"log2FC\"]])[desc[desc %in% tps[tps < l]]])\n",
    "t2 <- desc[which(mcols(y2)[desc,\"qvalue\"] < 0.1)] ## positive nodes of negative inner nodes\n",
    "length(t2)\n",
    "sum(Ancestors(tree, t2, \"parent\") == (l+1)) ## positive nodes that have root as parent\n",
    "t2 <- t2[Ancestors(tree, t2, \"parent\") != (l+1)]\n",
    "sum(t2 %in% tps) ## Txps that are false negative\n",
    "t2 <- t2[t2 %in% tps]\n",
    "t2 <- t2[!t2 %in% cuts[[\"lfcTPM\"]]]\n",
    "length(t2)"
   ]
  },
  {
   "cell_type": "code",
   "execution_count": 21,
   "id": "bb77b4ac",
   "metadata": {},
   "outputs": [
    {
     "name": "stdout",
     "output_type": "stream",
     "text": [
      "[1] \"new\"\n",
      "DataFrame with 8 rows and 8 columns\n",
      "                  meanInfRV log10mean      keep      stat    log2FC     pvalue\n",
      "                  <numeric> <numeric> <logical> <numeric> <numeric>  <numeric>\n",
      "ENST00000495891.1 4.5605685   2.44361      TRUE     15.29  1.119270 0.00773044\n",
      "Node138608        4.0222251   2.66539      TRUE     13.37  1.124385 0.02023818\n",
      "Node138607        1.0498666   2.77333      TRUE     13.83  0.977281 0.01632057\n",
      "Node138606        0.3292864   2.79665      TRUE     13.05  0.966811 0.02352192\n",
      "Node138605        0.2061407   2.80357      TRUE     13.00  0.957349 0.02412484\n",
      "Node138604        0.1246748   2.80817      TRUE     13.21  0.948177 0.02180659\n",
      "Node138603        0.0663178   2.81286      TRUE     13.22  0.943573 0.02170472\n",
      "Node138290        0.0100000   7.49670      TRUE      2.93  0.016246 0.61764653\n",
      "                     locfdr    qvalue\n",
      "                  <numeric> <numeric>\n",
      "ENST00000495891.1  0.369410 0.0902269\n",
      "Node138608         0.660461 0.1871298\n",
      "Node138607         0.600846 0.1598280\n",
      "Node138606         0.704362 0.2080396\n",
      "Node138605         0.712032 0.2114319\n",
      "Node138604         0.681923 0.1974888\n",
      "Node138603         0.680558 0.1968406\n",
      "Node138290         1.000000 0.9327711\n",
      "DataFrame with 1 row and 8 columns\n",
      "           meanInfRV log10mean      keep      stat    log2FC    pvalue\n",
      "           <numeric> <numeric> <logical> <numeric> <numeric> <numeric>\n",
      "Node138603 0.0663178   2.81286      TRUE     13.22  0.943573 0.0217047\n",
      "              locfdr    qvalue\n",
      "           <numeric> <numeric>\n",
      "Node138603  0.680558  0.196841\n",
      "[1] \"new\"\n",
      "DataFrame with 6 rows and 8 columns\n",
      "                   meanInfRV log10mean      keep      stat    log2FC    pvalue\n",
      "                   <numeric> <numeric> <logical> <numeric> <numeric> <numeric>\n",
      "ENST00000314607.10  3.025099   2.90039      TRUE     16.63  0.693221 0.0038663\n",
      "Node138612          0.105788   3.31221      TRUE     12.03  0.496194 0.0377205\n",
      "Node138611          0.103589   3.31258      TRUE     12.03  0.495774 0.0377205\n",
      "Node138610          0.102492   3.31290      TRUE     12.03  0.495799 0.0377205\n",
      "Node138609          0.104584   3.31321      TRUE     12.03  0.495421 0.0377205\n",
      "Node138290          0.010000   7.49670      TRUE      2.93  0.016246 0.6176465\n",
      "                      locfdr    qvalue\n",
      "                   <numeric> <numeric>\n",
      "ENST00000314607.10  0.175037 0.0539238\n",
      "Node138612          0.851395 0.2875933\n",
      "Node138611          0.851395 0.2875933\n",
      "Node138610          0.851395 0.2875933\n",
      "Node138609          0.851395 0.2875933\n",
      "Node138290          1.000000 0.9327711\n",
      "DataFrame with 1 row and 8 columns\n",
      "           meanInfRV log10mean      keep      stat    log2FC    pvalue\n",
      "           <numeric> <numeric> <logical> <numeric> <numeric> <numeric>\n",
      "Node138612  0.105788   3.31221      TRUE     12.03  0.496194 0.0377205\n",
      "              locfdr    qvalue\n",
      "           <numeric> <numeric>\n",
      "Node138612  0.851395  0.287593\n",
      "[1] \"new\"\n",
      "DataFrame with 8 rows and 8 columns\n",
      "                  meanInfRV log10mean      keep      stat    log2FC     pvalue\n",
      "                  <numeric> <numeric> <logical> <numeric> <numeric>  <numeric>\n",
      "ENST00000484247.1 0.8354011   2.08302      TRUE    -16.44 -0.626409 0.00423064\n",
      "Node139083        0.0956293   2.41793      TRUE    -13.37 -0.314585 0.02023818\n",
      "Node139082        0.1010276   2.42280      TRUE    -13.38 -0.315326 0.02014674\n",
      "Node139081        0.0906817   2.42571      TRUE    -13.52 -0.314951 0.01888440\n",
      "Node139080        0.0859858   2.42841      TRUE    -13.44 -0.313743 0.01958766\n",
      "Node139079        0.0858976   2.43003      TRUE    -13.43 -0.310930 0.01968132\n",
      "Node139078        0.0869847   2.43069      TRUE    -13.41 -0.311234 0.01986255\n",
      "Node138290        0.0100000   7.49670      TRUE      2.93  0.016246 0.61764653\n",
      "                     locfdr    qvalue\n",
      "                  <numeric> <numeric>\n",
      "ENST00000484247.1  0.193899 0.0575859\n",
      "Node139083         0.660461 0.1871298\n",
      "Node139082         0.659178 0.1864416\n",
      "Node139081         0.641037 0.1778848\n",
      "Node139080         0.651246 0.1827136\n",
      "Node139079         0.652585 0.1834020\n",
      "Node139078         0.655165 0.1846103\n",
      "Node138290         1.000000 0.9327711\n",
      "DataFrame with 1 row and 8 columns\n",
      "           meanInfRV log10mean      keep      stat    log2FC    pvalue\n",
      "           <numeric> <numeric> <logical> <numeric> <numeric> <numeric>\n",
      "Node139083 0.0956293   2.41793      TRUE    -13.37 -0.314585 0.0202382\n",
      "              locfdr    qvalue\n",
      "           <numeric> <numeric>\n",
      "Node139083  0.660461   0.18713\n",
      "[1] \"new\"\n",
      "DataFrame with 17 rows and 8 columns\n",
      "                  meanInfRV log10mean      keep      stat    log2FC     pvalue\n",
      "                  <numeric> <numeric> <logical> <numeric> <numeric>  <numeric>\n",
      "ENST00000424352.6  1.833782   2.09433      TRUE    -16.22 -1.518271 0.00471658\n",
      "Node140830         0.283660   2.83972      TRUE     -4.57 -0.306410 0.43627519\n",
      "Node140829         0.210185   2.84520      TRUE     -5.15 -0.295565 0.38008129\n",
      "Node140828         0.179760   2.84804      TRUE     -5.22 -0.295040 0.37371364\n",
      "Node140827         0.130645   2.87864      TRUE     -5.44 -0.285672 0.35421611\n",
      "...                     ...       ...       ...       ...       ...        ...\n",
      "Node140819        0.0840723   2.91785      TRUE     -4.41 -0.178278   0.452218\n",
      "Node140818        0.0818790   2.91850      TRUE     -4.41 -0.177445   0.452218\n",
      "Node140817        0.0801726   2.91900      TRUE     -4.41 -0.177328   0.452218\n",
      "Node140816        0.0809884   2.91924      TRUE     -4.43 -0.178590   0.450207\n",
      "Node138290        0.0100000   7.49670      TRUE      2.93  0.016246   0.617647\n",
      "                     locfdr    qvalue\n",
      "                  <numeric> <numeric>\n",
      "ENST00000424352.6  0.219713 0.0622911\n",
      "Node140830         1.000000 0.8724857\n",
      "Node140829         1.000000 0.8434908\n",
      "Node140828         1.000000 0.8404604\n",
      "Node140827         1.000000 0.8277815\n",
      "...                     ...       ...\n",
      "Node140819                1  0.879278\n",
      "Node140818                1  0.879278\n",
      "Node140817                1  0.879278\n",
      "Node140816                1  0.878591\n",
      "Node138290                1  0.932771\n",
      "DataFrame with 1 row and 8 columns\n",
      "           meanInfRV log10mean      keep      stat    log2FC    pvalue\n",
      "           <numeric> <numeric> <logical> <numeric> <numeric> <numeric>\n",
      "Node140827  0.130645   2.87864      TRUE     -5.44 -0.285672  0.354216\n",
      "              locfdr    qvalue\n",
      "           <numeric> <numeric>\n",
      "Node140827         1  0.827782\n",
      "[1] \"new\"\n",
      "DataFrame with 6 rows and 8 columns\n",
      "                  meanInfRV log10mean      keep      stat    log2FC    pvalue\n",
      "                  <numeric> <numeric> <logical> <numeric> <numeric> <numeric>\n",
      "ENST00000360121.4 0.2031285   1.10678      TRUE     15.19  0.947691 0.0081311\n",
      "Node141478        0.0896049   1.19594      TRUE     11.65  0.651494 0.0452842\n",
      "Node141477        0.0751722   1.25766      TRUE      9.29  0.334458 0.1123335\n",
      "Node141476        0.0588942   1.30570      TRUE      8.72  0.251815 0.1367793\n",
      "Node141475        0.0510485   1.33939      TRUE      8.59  0.191598 0.1426919\n",
      "Node138290        0.0100000   7.49670      TRUE      2.93  0.016246 0.6176465\n",
      "                     locfdr    qvalue\n",
      "                  <numeric> <numeric>\n",
      "ENST00000360121.4  0.386420 0.0937061\n",
      "Node141478         0.900923 0.3247522\n",
      "Node141477         1.000000 0.5458228\n",
      "Node141476         1.000000 0.5987736\n",
      "Node141475         1.000000 0.6088992\n",
      "Node138290         1.000000 0.9327711\n",
      "DataFrame with 1 row and 8 columns\n",
      "           meanInfRV log10mean      keep      stat    log2FC    pvalue\n",
      "           <numeric> <numeric> <logical> <numeric> <numeric> <numeric>\n",
      "Node141475 0.0510485   1.33939      TRUE      8.59  0.191598  0.142692\n",
      "              locfdr    qvalue\n",
      "           <numeric> <numeric>\n",
      "Node141475         1  0.608899\n",
      "[1] \"new\"\n",
      "DataFrame with 23 rows and 8 columns\n",
      "                  meanInfRV log10mean      keep      stat    log2FC     pvalue\n",
      "                  <numeric> <numeric> <logical> <numeric> <numeric>  <numeric>\n",
      "ENST00000585291.5 11.531573   3.40791      TRUE    -17.81 -0.759702 0.00202864\n",
      "Node142180         1.646288   3.90700      TRUE    -10.39 -0.164264 0.07503703\n",
      "Node142179         0.187182   3.95368      TRUE    -10.57 -0.153173 0.07011504\n",
      "Node142178         0.174099   3.95529      TRUE    -10.33 -0.154942 0.07672573\n",
      "Node142177         0.148414   3.95622      TRUE    -10.33 -0.154179 0.07672573\n",
      "...                     ...       ...       ...       ...       ...        ...\n",
      "Node142163        0.0614123   3.96512      TRUE    -10.12 -0.172335  0.0829928\n",
      "Node142162        0.0597804   3.96521      TRUE    -10.10 -0.172291  0.0836090\n",
      "Node142161        0.0592527   3.96528      TRUE    -10.12 -0.172167  0.0829928\n",
      "Node142160        0.0584467   3.96535      TRUE    -10.10 -0.172087  0.0836090\n",
      "Node138290        0.0100000   7.49670      TRUE      2.93  0.016246  0.6176465\n",
      "                     locfdr    qvalue\n",
      "                  <numeric> <numeric>\n",
      "ENST00000585291.5  0.111438  0.036171\n",
      "Node142180         1.000000  0.441827\n",
      "Node142179         0.989609  0.425559\n",
      "Node142178         1.000000  0.447133\n",
      "Node142177         1.000000  0.447133\n",
      "...                     ...       ...\n",
      "Node142163                1  0.466245\n",
      "Node142162                1  0.467819\n",
      "Node142161                1  0.466245\n",
      "Node142160                1  0.467819\n",
      "Node138290                1  0.932771\n",
      "DataFrame with 1 row and 8 columns\n",
      "           meanInfRV log10mean      keep      stat    log2FC    pvalue\n",
      "           <numeric> <numeric> <logical> <numeric> <numeric> <numeric>\n",
      "Node142172 0.0638048   3.96294      TRUE     -9.98 -0.179259 0.0878231\n",
      "              locfdr    qvalue\n",
      "           <numeric> <numeric>\n",
      "Node142172         1   0.48035\n",
      "[1] \"new\"\n",
      "DataFrame with 5 rows and 8 columns\n",
      "                  meanInfRV log10mean      keep      stat    log2FC     pvalue\n",
      "                  <numeric> <numeric> <logical> <numeric> <numeric>  <numeric>\n",
      "ENST00000493196.1 0.9082349   2.11580      TRUE     15.92 0.8992245 0.00559867\n",
      "Node142550        0.0649502   2.62272      TRUE      8.08 0.1898867 0.16778831\n",
      "Node142549        0.0526242   2.64104      TRUE      8.11 0.1241497 0.16619367\n",
      "Node142548        0.0343519   2.64808      TRUE      4.73 0.0816211 0.42059254\n",
      "Node138290        0.0100000   7.49670      TRUE      2.93 0.0162460 0.61764653\n",
      "                     locfdr    qvalue\n",
      "                  <numeric> <numeric>\n",
      "ENST00000493196.1  0.266464  0.070755\n",
      "Node142550         1.000000  0.650537\n",
      "Node142549         1.000000  0.647906\n",
      "Node142548         1.000000  0.864988\n",
      "Node138290         1.000000  0.932771\n",
      "DataFrame with 1 row and 8 columns\n",
      "           meanInfRV log10mean      keep      stat    log2FC    pvalue\n",
      "           <numeric> <numeric> <logical> <numeric> <numeric> <numeric>\n",
      "Node142548 0.0343519   2.64808      TRUE      4.73 0.0816211  0.420593\n",
      "              locfdr    qvalue\n",
      "           <numeric> <numeric>\n",
      "Node142548         1  0.864988\n",
      "[1] \"new\"\n",
      "DataFrame with 19 rows and 8 columns\n",
      "                  meanInfRV log10mean      keep      stat    log2FC     pvalue\n",
      "                  <numeric> <numeric> <logical> <numeric> <numeric>  <numeric>\n",
      "ENST00000260282.8 5.2081395   2.48704      TRUE     17.28   1.30251 0.00273976\n",
      "Node144328        0.6700611   4.64891      TRUE     10.83   1.18016 0.06346377\n",
      "Node144327        0.0996731   4.68646      TRUE     12.06   1.20561 0.03718812\n",
      "Node144326        0.0970198   4.68657      TRUE     12.05   1.20526 0.03736308\n",
      "Node144325        0.0964796   4.68658      TRUE     12.09   1.20571 0.03667470\n",
      "...                     ...       ...       ...       ...       ...        ...\n",
      "Node144315        0.0920023   4.68625      TRUE     13.00  1.210597  0.0241248\n",
      "Node144314        0.0919144   4.68626      TRUE     13.00  1.210593  0.0241248\n",
      "Node144313        0.0921433   4.68627      TRUE     13.00  1.210521  0.0241248\n",
      "Node144312        0.0927077   4.68607      TRUE     13.00  1.208157  0.0241248\n",
      "Node138290        0.0100000   7.49670      TRUE      2.93  0.016246  0.6176465\n",
      "                     locfdr    qvalue\n",
      "                  <numeric> <numeric>\n",
      "ENST00000260282.8  0.124243 0.0431487\n",
      "Node144328         0.972712 0.4000996\n",
      "Node144327         0.847228 0.2851956\n",
      "Node144326         0.848608 0.2859623\n",
      "Node144325         0.843114 0.2826298\n",
      "...                     ...       ...\n",
      "Node144315         0.712032  0.211432\n",
      "Node144314         0.712032  0.211432\n",
      "Node144313         0.712032  0.211432\n",
      "Node144312         0.712032  0.211432\n",
      "Node138290         1.000000  0.932771\n",
      "DataFrame with 1 row and 8 columns\n",
      "           meanInfRV log10mean      keep      stat    log2FC    pvalue\n",
      "           <numeric> <numeric> <logical> <numeric> <numeric> <numeric>\n",
      "Node144326 0.0970198   4.68657      TRUE     12.05   1.20526 0.0373631\n",
      "              locfdr    qvalue\n",
      "           <numeric> <numeric>\n",
      "Node144326  0.848608  0.285962\n",
      "[1] \"new\"\n",
      "DataFrame with 18 rows and 8 columns\n",
      "                  meanInfRV log10mean      keep      stat    log2FC      pvalue\n",
      "                  <numeric> <numeric> <logical> <numeric> <numeric>   <numeric>\n",
      "ENST00000526014.5 3.8184369   3.57978      TRUE     18.00   1.53957 5.70083e-08\n",
      "Node144327        0.0996731   4.68646      TRUE     12.06   1.20561 3.71881e-02\n",
      "Node144326        0.0970198   4.68657      TRUE     12.05   1.20526 3.73631e-02\n",
      "Node144325        0.0964796   4.68658      TRUE     12.09   1.20571 3.66747e-02\n",
      "Node144324        0.0935094   4.68681      TRUE     12.45   1.20758 3.13272e-02\n",
      "...                     ...       ...       ...       ...       ...         ...\n",
      "Node144315        0.0920023   4.68625      TRUE     13.00  1.210597   0.0241248\n",
      "Node144314        0.0919144   4.68626      TRUE     13.00  1.210593   0.0241248\n",
      "Node144313        0.0921433   4.68627      TRUE     13.00  1.210521   0.0241248\n",
      "Node144312        0.0927077   4.68607      TRUE     13.00  1.208157   0.0241248\n",
      "Node138290        0.0100000   7.49670      TRUE      2.93  0.016246   0.6176465\n",
      "                       locfdr      qvalue\n",
      "                    <numeric>   <numeric>\n",
      "ENST00000526014.5 2.37965e-06 1.21847e-06\n",
      "Node144327        8.47228e-01 2.85196e-01\n",
      "Node144326        8.48608e-01 2.85962e-01\n",
      "Node144325        8.43114e-01 2.82630e-01\n",
      "Node144324        7.94360e-01 2.53316e-01\n",
      "...                       ...         ...\n",
      "Node144315           0.712032    0.211432\n",
      "Node144314           0.712032    0.211432\n",
      "Node144313           0.712032    0.211432\n",
      "Node144312           0.712032    0.211432\n",
      "Node138290           1.000000    0.932771\n",
      "DataFrame with 1 row and 8 columns\n",
      "           meanInfRV log10mean      keep      stat    log2FC    pvalue\n",
      "           <numeric> <numeric> <logical> <numeric> <numeric> <numeric>\n",
      "Node144326 0.0970198   4.68657      TRUE     12.05   1.20526 0.0373631\n",
      "              locfdr    qvalue\n",
      "           <numeric> <numeric>\n",
      "Node144326  0.848608  0.285962\n",
      "[1] \"new\"\n",
      "DataFrame with 5 rows and 8 columns\n",
      "                  meanInfRV log10mean      keep      stat    log2FC     pvalue\n",
      "                  <numeric> <numeric> <logical> <numeric> <numeric>  <numeric>\n",
      "ENST00000466620.5 1.1624599   2.31470      TRUE    -16.45 -1.090436 0.00420875\n",
      "Node144570        0.2177473   2.58505      TRUE    -14.78 -0.590171 0.01011345\n",
      "Node144569        0.1399932   2.66807      TRUE    -12.94 -0.470340 0.02504632\n",
      "Node144568        0.0927845   2.71813      TRUE    -13.02 -0.413063 0.02387166\n",
      "Node138290        0.0100000   7.49670      TRUE      2.93  0.016246 0.61764653\n",
      "                     locfdr    qvalue\n",
      "                  <numeric> <numeric>\n",
      "ENST00000466620.5  0.192749 0.0573235\n",
      "Node144570         0.459213 0.1113641\n",
      "Node144569         0.723543 0.2170462\n",
      "Node144568         0.708824 0.2099789\n",
      "Node138290         1.000000 0.9327711\n",
      "DataFrame with 1 row and 8 columns\n",
      "           meanInfRV log10mean      keep      stat    log2FC    pvalue\n",
      "           <numeric> <numeric> <logical> <numeric> <numeric> <numeric>\n",
      "Node144568 0.0927845   2.71813      TRUE    -13.02 -0.413063 0.0238717\n",
      "              locfdr    qvalue\n",
      "           <numeric> <numeric>\n",
      "Node144568  0.708824  0.209979\n"
     ]
    }
   ],
   "source": [
    "for(i in seq(10)) {\n",
    "        print(\"new\")\n",
    "        print(mcols(y2)[c(t2[i], Ancestors(tree, t2[i])),])\n",
    "        print(mcols(y2)[Ancestors(tree, t2[i])[Ancestors(tree, t2[i]) %in% cuts[[\"lfcTPM\"]]],])\n",
    "        \n",
    "}\n"
   ]
  },
  {
   "cell_type": "code",
   "execution_count": 112,
   "id": "2ee6f534",
   "metadata": {},
   "outputs": [
    {
     "data": {
      "text/html": [
       "<style>\n",
       ".dl-inline {width: auto; margin:0; padding: 0}\n",
       ".dl-inline>dt, .dl-inline>dd {float: none; width: auto; display: inline-block}\n",
       ".dl-inline>dt::after {content: \":\\0020\"; padding-right: .5ex}\n",
       ".dl-inline>dt:not(:first-of-type) {padding-left: .5ex}\n",
       "</style><dl class=dl-inline><dt>ENST00000495891.1</dt><dd>1.02706126834251</dd><dt>ENST00000542783.5</dt><dd>1.02848043514859</dd></dl>\n"
      ],
      "text/latex": [
       "\\begin{description*}\n",
       "\\item[ENST00000495891.1] 1.02706126834251\n",
       "\\item[ENST00000542783.5] 1.02848043514859\n",
       "\\end{description*}\n"
      ],
      "text/markdown": [
       "ENST00000495891.1\n",
       ":   1.02706126834251ENST00000542783.5\n",
       ":   1.02848043514859\n",
       "\n"
      ],
      "text/plain": [
       "ENST00000495891.1 ENST00000542783.5 \n",
       "         1.027061          1.028480 "
      ]
     },
     "metadata": {},
     "output_type": "display_data"
    }
   ],
   "source": [
    "logFCNodes[c(t2[i],Siblings(tree, t2[i]))]"
   ]
  },
  {
   "cell_type": "code",
   "execution_count": 68,
   "id": "75dda16f",
   "metadata": {},
   "outputs": [
    {
     "data": {
      "text/html": [
       "3935"
      ],
      "text/latex": [
       "3935"
      ],
      "text/markdown": [
       "3935"
      ],
      "text/plain": [
       "[1] 3935"
      ]
     },
     "metadata": {},
     "output_type": "display_data"
    },
    {
     "data": {
      "text/html": [
       "5980"
      ],
      "text/latex": [
       "5980"
      ],
      "text/markdown": [
       "5980"
      ],
      "text/plain": [
       "[1] 5980"
      ]
     },
     "metadata": {},
     "output_type": "display_data"
    },
    {
     "data": {
      "text/html": [
       "3575"
      ],
      "text/latex": [
       "3575"
      ],
      "text/markdown": [
       "3575"
      ],
      "text/plain": [
       "[1] 3575"
      ]
     },
     "metadata": {},
     "output_type": "display_data"
    },
    {
     "data": {
      "text/html": [
       "278"
      ],
      "text/latex": [
       "278"
      ],
      "text/markdown": [
       "278"
      ],
      "text/plain": [
       "[1] 278"
      ]
     },
     "metadata": {},
     "output_type": "display_data"
    },
    {
     "data": {
      "text/html": [
       "300"
      ],
      "text/latex": [
       "300"
      ],
      "text/markdown": [
       "300"
      ],
      "text/plain": [
       "[1] 300"
      ]
     },
     "metadata": {},
     "output_type": "display_data"
    },
    {
     "data": {
      "text/html": [
       "2705"
      ],
      "text/latex": [
       "2705"
      ],
      "text/markdown": [
       "2705"
      ],
      "text/plain": [
       "[1] 2705"
      ]
     },
     "metadata": {},
     "output_type": "display_data"
    },
    {
     "data": {
      "text/html": [
       "2323"
      ],
      "text/latex": [
       "2323"
      ],
      "text/markdown": [
       "2323"
      ],
      "text/plain": [
       "[1] 2323"
      ]
     },
     "metadata": {},
     "output_type": "display_data"
    },
    {
     "data": {
      "text/html": [
       "2276"
      ],
      "text/latex": [
       "2276"
      ],
      "text/markdown": [
       "2276"
      ],
      "text/plain": [
       "[1] 2276"
      ]
     },
     "metadata": {},
     "output_type": "display_data"
    }
   ],
   "source": [
    "tpsTerm <- intersect(tps, c(detNodes[[\"term\"]][[3]][detNodes[[\"term\"]][[3]] <= l],\n",
    "                       unlist(groupsClust[detNodes[[\"term\"]][[3]][detNodes[[\"term\"]][[3]] >= l] - l])))\n",
    "tpsTPMTD <- intersect(tps, unlist(Descendants(tree, detNodes[[\"lfcTD\"]][[3]])))\n",
    "tpsTxp <- intersect(tps, detNodes[[\"Txps\"]][[3]])\n",
    "length(tpsTerm)\n",
    "length(tpsTPMTD)\n",
    "length(tpsTxp)\n",
    "length(setdiff(tpsTerm, tpsTPMTD))\n",
    "length(setdiff(tpsTxp, tpsTPMTD))\n",
    "length(setdiff(tpsTPMTD, tpsTxp))\n",
    "length(setdiff(tpsTPMTD, tpsTerm))\n",
    "length(setdiff(tpsTPMTD, union(tpsTxp, tpsTerm)))"
   ]
  },
  {
   "cell_type": "code",
   "execution_count": 67,
   "id": "dd15d4f5",
   "metadata": {},
   "outputs": [
    {
     "data": {
      "text/html": [
       "1"
      ],
      "text/latex": [
       "1"
      ],
      "text/markdown": [
       "1"
      ],
      "text/plain": [
       "[1] 1"
      ]
     },
     "metadata": {},
     "output_type": "display_data"
    }
   ],
   "source": [
    "1"
   ]
  },
  {
   "cell_type": "code",
   "execution_count": 70,
   "id": "98077693",
   "metadata": {},
   "outputs": [
    {
     "data": {
      "text/html": [
       "828"
      ],
      "text/latex": [
       "828"
      ],
      "text/markdown": [
       "828"
      ],
      "text/plain": [
       "[1] 828"
      ]
     },
     "metadata": {},
     "output_type": "display_data"
    },
    {
     "data": {
      "text/html": [
       "9525"
      ],
      "text/latex": [
       "9525"
      ],
      "text/markdown": [
       "9525"
      ],
      "text/plain": [
       "[1] 9525"
      ]
     },
     "metadata": {},
     "output_type": "display_data"
    }
   ],
   "source": [
    "ancTPM <- cuts[[\"lfcTD\"]][cuts[[\"lfcTD\"]] %in% unique(unlist(Ancestors(tree, setdiff(tpsTPMTD, union(tpsTxp, tpsTerm)))))]\n",
    "length(ancTPM)\n",
    "length(unlist(Descendants(tree, ancTPM)))"
   ]
  },
  {
   "cell_type": "code",
   "execution_count": 64,
   "id": "8d3c0bec",
   "metadata": {},
   "outputs": [
    {
     "data": {
      "text/html": [
       "4285"
      ],
      "text/latex": [
       "4285"
      ],
      "text/markdown": [
       "4285"
      ],
      "text/plain": [
       "[1] 4285"
      ]
     },
     "metadata": {},
     "output_type": "display_data"
    },
    {
     "data": {
      "text/html": [
       "2310"
      ],
      "text/latex": [
       "2310"
      ],
      "text/markdown": [
       "2310"
      ],
      "text/plain": [
       "[1] 2310"
      ]
     },
     "metadata": {},
     "output_type": "display_data"
    }
   ],
   "source": [
    "length(intersect(unlist(Descendants(tree, ancTPM)), tps))\n",
    "length(setdiff(intersect(unlist(Descendants(tree, detInnTPMNodes)), tps), tpsTerm))"
   ]
  },
  {
   "cell_type": "code",
   "execution_count": 9,
   "id": "d7126d47",
   "metadata": {},
   "outputs": [],
   "source": [
    "lfcTPM <- getScaledLFC(tse, \"condition\")\n",
    "objS <- solveForOptimalCut(tse, metVec = abs(lfcTPM)*descSize, type = 'max')\n",
    "cuts[[\"lfcTD\"]] <- objS[[\"cut\"]]\n",
    "objS <- solveForOptimalCut(tse, metVec = abs(lfcTPM), type = 'max')\n",
    "cuts[[\"lfcT\"]] <- objS[[\"cut\"]]"
   ]
  },
  {
   "cell_type": "code",
   "execution_count": 10,
   "id": "577b5b70",
   "metadata": {},
   "outputs": [],
   "source": [
    "getLog2FC <- function(tse, condition, pc=5, array=FALSE) {\n",
    "  infRepIdx <- grep(\"infRep\", assayNames(tse))\n",
    "  infReps <- assays(tse)[infRepIdx]\n",
    "  infRepsArray <- abind::abind(as.list(infReps), along=3)\n",
    "  dims <- dim(infRepsArray)\n",
    "    \n",
    "  cond1 <- condition == levels(condition)[1]\n",
    "  cond2 <- condition == levels(condition)[2]\n",
    "\n",
    "  diffs <- matrix(nrow=dims[1],ncol=dims[3])\n",
    "  for (k in seq_len(dims[3])) {\n",
    "    diffs[,k] <- log2(rowMeans(infRepsArray[,cond2,k]) + pc) -\n",
    "                 log2(rowMeans(infRepsArray[,cond1,k]) + pc)\n",
    "  }\n",
    "  if (array) {\n",
    "    return(diffs)\n",
    "  }\n",
    "  # median over inferential replicates\n",
    "  rowMedians(diffs)\n",
    "}"
   ]
  },
  {
   "cell_type": "code",
   "execution_count": 52,
   "id": "de40001e",
   "metadata": {},
   "outputs": [
    {
     "name": "stderr",
     "output_type": "stream",
     "text": [
      "loading existing TxDb created: 2022-08-19 22:12:59\n",
      "\n",
      "obtaining transcript-to-gene mapping from database\n",
      "\n",
      "loading existing gene ranges created: 2022-08-26 02:08:58\n",
      "\n",
      "summarizing abundance\n",
      "\n",
      "summarizing counts\n",
      "\n",
      "summarizing length\n",
      "\n",
      "summarizing inferential replicates\n",
      "\n"
     ]
    },
    {
     "data": {
      "text/html": [
       "<table class=\"dataframe\">\n",
       "<caption>A matrix: 6 × 12 of type dbl</caption>\n",
       "<tbody>\n",
       "\t<tr><td>1.061562</td><td>1.044234</td><td>1.075860</td><td>1.068837</td><td>1.072721</td><td>1.083489</td><td>1.069820</td><td>1.082284</td><td>1.076877</td><td>1.067842</td><td>1.066236</td><td>1.019739</td></tr>\n",
       "\t<tr><td>1.058253</td><td>1.045463</td><td>1.080662</td><td>1.066894</td><td>1.075540</td><td>1.081470</td><td>1.071871</td><td>1.081743</td><td>1.078637</td><td>1.068676</td><td>1.064942</td><td>1.022908</td></tr>\n",
       "\t<tr><td>1.059917</td><td>1.043573</td><td>1.078233</td><td>1.069372</td><td>1.074577</td><td>1.080657</td><td>1.070616</td><td>1.083024</td><td>1.077796</td><td>1.070355</td><td>1.066477</td><td>1.019795</td></tr>\n",
       "\t<tr><td>1.060829</td><td>1.043854</td><td>1.075131</td><td>1.068136</td><td>1.072915</td><td>1.081361</td><td>1.071144</td><td>1.083654</td><td>1.079466</td><td>1.068916</td><td>1.065524</td><td>1.023065</td></tr>\n",
       "\t<tr><td>1.062674</td><td>1.046074</td><td>1.081494</td><td>1.068471</td><td>1.073142</td><td>1.081804</td><td>1.071203</td><td>1.082600</td><td>1.079018</td><td>1.068460</td><td>1.063230</td><td>1.020367</td></tr>\n",
       "\t<tr><td>1.061258</td><td>1.045369</td><td>1.080298</td><td>1.067462</td><td>1.071060</td><td>1.085672</td><td>1.067514</td><td>1.085747</td><td>1.076454</td><td>1.068918</td><td>1.063508</td><td>1.020668</td></tr>\n",
       "</tbody>\n",
       "</table>\n"
      ],
      "text/latex": [
       "A matrix: 6 × 12 of type dbl\n",
       "\\begin{tabular}{llllllllllll}\n",
       "\t 1.061562 & 1.044234 & 1.075860 & 1.068837 & 1.072721 & 1.083489 & 1.069820 & 1.082284 & 1.076877 & 1.067842 & 1.066236 & 1.019739\\\\\n",
       "\t 1.058253 & 1.045463 & 1.080662 & 1.066894 & 1.075540 & 1.081470 & 1.071871 & 1.081743 & 1.078637 & 1.068676 & 1.064942 & 1.022908\\\\\n",
       "\t 1.059917 & 1.043573 & 1.078233 & 1.069372 & 1.074577 & 1.080657 & 1.070616 & 1.083024 & 1.077796 & 1.070355 & 1.066477 & 1.019795\\\\\n",
       "\t 1.060829 & 1.043854 & 1.075131 & 1.068136 & 1.072915 & 1.081361 & 1.071144 & 1.083654 & 1.079466 & 1.068916 & 1.065524 & 1.023065\\\\\n",
       "\t 1.062674 & 1.046074 & 1.081494 & 1.068471 & 1.073142 & 1.081804 & 1.071203 & 1.082600 & 1.079018 & 1.068460 & 1.063230 & 1.020367\\\\\n",
       "\t 1.061258 & 1.045369 & 1.080298 & 1.067462 & 1.071060 & 1.085672 & 1.067514 & 1.085747 & 1.076454 & 1.068918 & 1.063508 & 1.020668\\\\\n",
       "\\end{tabular}\n"
      ],
      "text/markdown": [
       "\n",
       "A matrix: 6 × 12 of type dbl\n",
       "\n",
       "| 1.061562 | 1.044234 | 1.075860 | 1.068837 | 1.072721 | 1.083489 | 1.069820 | 1.082284 | 1.076877 | 1.067842 | 1.066236 | 1.019739 |\n",
       "| 1.058253 | 1.045463 | 1.080662 | 1.066894 | 1.075540 | 1.081470 | 1.071871 | 1.081743 | 1.078637 | 1.068676 | 1.064942 | 1.022908 |\n",
       "| 1.059917 | 1.043573 | 1.078233 | 1.069372 | 1.074577 | 1.080657 | 1.070616 | 1.083024 | 1.077796 | 1.070355 | 1.066477 | 1.019795 |\n",
       "| 1.060829 | 1.043854 | 1.075131 | 1.068136 | 1.072915 | 1.081361 | 1.071144 | 1.083654 | 1.079466 | 1.068916 | 1.065524 | 1.023065 |\n",
       "| 1.062674 | 1.046074 | 1.081494 | 1.068471 | 1.073142 | 1.081804 | 1.071203 | 1.082600 | 1.079018 | 1.068460 | 1.063230 | 1.020367 |\n",
       "| 1.061258 | 1.045369 | 1.080298 | 1.067462 | 1.071060 | 1.085672 | 1.067514 | 1.085747 | 1.076454 | 1.068918 | 1.063508 | 1.020668 |\n",
       "\n"
      ],
      "text/plain": [
       "     [,1]     [,2]     [,3]     [,4]     [,5]     [,6]     [,7]     [,8]    \n",
       "[1,] 1.061562 1.044234 1.075860 1.068837 1.072721 1.083489 1.069820 1.082284\n",
       "[2,] 1.058253 1.045463 1.080662 1.066894 1.075540 1.081470 1.071871 1.081743\n",
       "[3,] 1.059917 1.043573 1.078233 1.069372 1.074577 1.080657 1.070616 1.083024\n",
       "[4,] 1.060829 1.043854 1.075131 1.068136 1.072915 1.081361 1.071144 1.083654\n",
       "[5,] 1.062674 1.046074 1.081494 1.068471 1.073142 1.081804 1.071203 1.082600\n",
       "[6,] 1.061258 1.045369 1.080298 1.067462 1.071060 1.085672 1.067514 1.085747\n",
       "     [,9]     [,10]    [,11]    [,12]   \n",
       "[1,] 1.076877 1.067842 1.066236 1.019739\n",
       "[2,] 1.078637 1.068676 1.064942 1.022908\n",
       "[3,] 1.077796 1.070355 1.066477 1.019795\n",
       "[4,] 1.079466 1.068916 1.065524 1.023065\n",
       "[5,] 1.079018 1.068460 1.063230 1.020367\n",
       "[6,] 1.076454 1.068918 1.063508 1.020668"
      ]
     },
     "metadata": {},
     "output_type": "display_data"
    },
    {
     "data": {
      "text/html": [
       "<table class=\"dataframe\">\n",
       "<caption>A matrix: 6 × 12 of type dbl</caption>\n",
       "<tbody>\n",
       "\t<tr><td>1.002113</td><td>0.9883031</td><td>1.020161</td><td>1.007615</td><td>1.018721</td><td>1.032465</td><td>1.011108</td><td>1.024619</td><td>1.019133</td><td>1.009610</td><td>1.015654</td><td>0.9707576</td></tr>\n",
       "\t<tr><td>1.004378</td><td>0.9869173</td><td>1.019453</td><td>1.007202</td><td>1.021940</td><td>1.030819</td><td>1.009343</td><td>1.023453</td><td>1.019948</td><td>1.009705</td><td>1.012208</td><td>0.9704418</td></tr>\n",
       "\t<tr><td>1.003430</td><td>0.9869121</td><td>1.019695</td><td>1.006203</td><td>1.021818</td><td>1.030183</td><td>1.010917</td><td>1.024761</td><td>1.021206</td><td>1.012103</td><td>1.012285</td><td>0.9703761</td></tr>\n",
       "\t<tr><td>1.004075</td><td>0.9885824</td><td>1.018313</td><td>1.005689</td><td>1.018024</td><td>1.029205</td><td>1.006626</td><td>1.023705</td><td>1.016882</td><td>1.010631</td><td>1.015338</td><td>0.9716320</td></tr>\n",
       "\t<tr><td>1.002327</td><td>0.9863272</td><td>1.019272</td><td>1.004953</td><td>1.019325</td><td>1.029188</td><td>1.009281</td><td>1.022419</td><td>1.020187</td><td>1.008550</td><td>1.015466</td><td>0.9710223</td></tr>\n",
       "\t<tr><td>1.004711</td><td>0.9862580</td><td>1.019774</td><td>1.007414</td><td>1.019463</td><td>1.030103</td><td>1.008235</td><td>1.023228</td><td>1.020001</td><td>1.010584</td><td>1.011943</td><td>0.9713567</td></tr>\n",
       "</tbody>\n",
       "</table>\n"
      ],
      "text/latex": [
       "A matrix: 6 × 12 of type dbl\n",
       "\\begin{tabular}{llllllllllll}\n",
       "\t 1.002113 & 0.9883031 & 1.020161 & 1.007615 & 1.018721 & 1.032465 & 1.011108 & 1.024619 & 1.019133 & 1.009610 & 1.015654 & 0.9707576\\\\\n",
       "\t 1.004378 & 0.9869173 & 1.019453 & 1.007202 & 1.021940 & 1.030819 & 1.009343 & 1.023453 & 1.019948 & 1.009705 & 1.012208 & 0.9704418\\\\\n",
       "\t 1.003430 & 0.9869121 & 1.019695 & 1.006203 & 1.021818 & 1.030183 & 1.010917 & 1.024761 & 1.021206 & 1.012103 & 1.012285 & 0.9703761\\\\\n",
       "\t 1.004075 & 0.9885824 & 1.018313 & 1.005689 & 1.018024 & 1.029205 & 1.006626 & 1.023705 & 1.016882 & 1.010631 & 1.015338 & 0.9716320\\\\\n",
       "\t 1.002327 & 0.9863272 & 1.019272 & 1.004953 & 1.019325 & 1.029188 & 1.009281 & 1.022419 & 1.020187 & 1.008550 & 1.015466 & 0.9710223\\\\\n",
       "\t 1.004711 & 0.9862580 & 1.019774 & 1.007414 & 1.019463 & 1.030103 & 1.008235 & 1.023228 & 1.020001 & 1.010584 & 1.011943 & 0.9713567\\\\\n",
       "\\end{tabular}\n"
      ],
      "text/markdown": [
       "\n",
       "A matrix: 6 × 12 of type dbl\n",
       "\n",
       "| 1.002113 | 0.9883031 | 1.020161 | 1.007615 | 1.018721 | 1.032465 | 1.011108 | 1.024619 | 1.019133 | 1.009610 | 1.015654 | 0.9707576 |\n",
       "| 1.004378 | 0.9869173 | 1.019453 | 1.007202 | 1.021940 | 1.030819 | 1.009343 | 1.023453 | 1.019948 | 1.009705 | 1.012208 | 0.9704418 |\n",
       "| 1.003430 | 0.9869121 | 1.019695 | 1.006203 | 1.021818 | 1.030183 | 1.010917 | 1.024761 | 1.021206 | 1.012103 | 1.012285 | 0.9703761 |\n",
       "| 1.004075 | 0.9885824 | 1.018313 | 1.005689 | 1.018024 | 1.029205 | 1.006626 | 1.023705 | 1.016882 | 1.010631 | 1.015338 | 0.9716320 |\n",
       "| 1.002327 | 0.9863272 | 1.019272 | 1.004953 | 1.019325 | 1.029188 | 1.009281 | 1.022419 | 1.020187 | 1.008550 | 1.015466 | 0.9710223 |\n",
       "| 1.004711 | 0.9862580 | 1.019774 | 1.007414 | 1.019463 | 1.030103 | 1.008235 | 1.023228 | 1.020001 | 1.010584 | 1.011943 | 0.9713567 |\n",
       "\n"
      ],
      "text/plain": [
       "     [,1]     [,2]      [,3]     [,4]     [,5]     [,6]     [,7]     [,8]    \n",
       "[1,] 1.002113 0.9883031 1.020161 1.007615 1.018721 1.032465 1.011108 1.024619\n",
       "[2,] 1.004378 0.9869173 1.019453 1.007202 1.021940 1.030819 1.009343 1.023453\n",
       "[3,] 1.003430 0.9869121 1.019695 1.006203 1.021818 1.030183 1.010917 1.024761\n",
       "[4,] 1.004075 0.9885824 1.018313 1.005689 1.018024 1.029205 1.006626 1.023705\n",
       "[5,] 1.002327 0.9863272 1.019272 1.004953 1.019325 1.029188 1.009281 1.022419\n",
       "[6,] 1.004711 0.9862580 1.019774 1.007414 1.019463 1.030103 1.008235 1.023228\n",
       "     [,9]     [,10]    [,11]    [,12]    \n",
       "[1,] 1.019133 1.009610 1.015654 0.9707576\n",
       "[2,] 1.019948 1.009705 1.012208 0.9704418\n",
       "[3,] 1.021206 1.012103 1.012285 0.9703761\n",
       "[4,] 1.016882 1.010631 1.015338 0.9716320\n",
       "[5,] 1.020187 1.008550 1.015466 0.9710223\n",
       "[6,] 1.020001 1.010584 1.011943 0.9713567"
      ]
     },
     "metadata": {},
     "output_type": "display_data"
    }
   ],
   "source": [
    "sfTxp <-  metadata(computeSizeFactors(tse, type=\"txp\"))[[\"sf\"]]\n",
    "sfGene <-  metadata(computeSizeFactors(tse, type=\"gene\"))[[\"sf\"]]\n",
    "head(sfTxp)\n",
    "head(sfGene)\n",
    "# metric <- abs(lfc)\n",
    "# objS <- solveForOptimalCut(tse, metVec = metric, type = 'max')\n",
    "# cuts[[\"LFC\"]] <- objS[[\"cut\"]]\n",
    "\n",
    "# metric <- abs(lfc)*descSize\n",
    "# objS <- solveForOptimalCut(tse, metVec = metric, type = 'max')\n",
    "# cuts[[\"LFCD\"]] <- objS[[\"cut\"]]"
   ]
  },
  {
   "cell_type": "code",
   "execution_count": 60,
   "id": "342d2617",
   "metadata": {},
   "outputs": [
    {
     "ename": "ERROR",
     "evalue": "Error in h(simpleError(msg, call)): error in evaluating the argument 'x' in selecting a method for function 'nrow': argument \"colData\" is missing, with no default\n",
     "output_type": "error",
     "traceback": [
      "Error in h(simpleError(msg, call)): error in evaluating the argument 'x' in selecting a method for function 'nrow': argument \"colData\" is missing, with no default\nTraceback:\n",
      "1. DESeqDataSetFromTximport(txi)",
      "2. DESeqDataSetFromMatrix(countData = counts, colData = colData, \n .     design = design, ...)",
      "3. stopifnot(ncol(countData) == nrow(colData))",
      "4. nrow(colData)",
      "5. .handleSimpleError(function (cond) \n . .Internal(C_tryCatchHelper(addr, 1L, cond)), \"argument \\\"colData\\\" is missing, with no default\", \n .     base::quote(DESeqDataSetFromMatrix(countData = counts, colData = colData, \n .         design = design, ...)))",
      "6. h(simpleError(msg, call))"
     ]
    }
   ],
   "source": [
    "# txi <- tximport(files = coldata$files, type=\"salmon\", txOut = T)\n",
    "dds <- DESeqDataSetFromTximport(txi)"
   ]
  },
  {
   "cell_type": "code",
   "execution_count": 27,
   "id": "09b24be7",
   "metadata": {},
   "outputs": [
    {
     "name": "stdout",
     "output_type": "stream",
     "text": [
      "[1] \"tp 0.993719469644103\"\n",
      "[1] \"tp 0.962639495390587\"\n",
      "[1] \"tp 0.919328419328419\"\n",
      "    Method  Metric FDR_0.01   FDR_0.05  FDR_0.10  \n",
      "fdr \"lfcTD\" \"FDR\"  0.00628053 0.0373605 0.08067158\n",
      "tpr \"lfcTD\" \"TPR\"  0.3140022  0.4374862 0.4950386 \n",
      "[1] \"tp 0.992303463441451\"\n",
      "[1] \"tp 0.962640901771337\"\n",
      "[1] \"tp 0.922936259143156\"\n",
      "    Method Metric FDR_0.01    FDR_0.05  FDR_0.10  \n",
      "fdr \"lfcT\" \"FDR\"  0.007696537 0.0373591 0.07706374\n",
      "tpr \"lfcT\" \"TPR\"  0.2056511   0.3405492 0.4025293 \n",
      "[1] \"tp 0.991052993805919\"\n",
      "[1] \"tp 0.955938697318008\"\n",
      "[1] \"tp 0.909127462806594\"\n",
      "    Method Metric FDR_0.01    FDR_0.05  FDR_0.10  \n",
      "fdr \"LFCD\" \"FDR\"  0.008947006 0.0440613 0.09087254\n",
      "tpr \"LFCD\" \"TPR\"  0.3197158   0.4431616 0.5019982 \n"
     ]
    }
   ],
   "source": [
    "# detNodes <- list()\n",
    "# negNodes <- list()\n",
    "# for(n in names(cuts)) {\n",
    "#     y <- tse[sort(cuts[[n]]),]\n",
    "#     y <- fishpond::scaleInfReps(y)\n",
    "#     y <- labelKeep(y)\n",
    "#     set.seed(1)\n",
    "#     y <- swish(y, x=\"condition\")\n",
    "#     detNodes[[n]] <- lapply(c(0.01, 0.05, 0.1), function(x) {\n",
    "#         nodes <- rownames(y)[which(mcols(y)[,\"qvalue\"] <= x)]\n",
    "#         match(nodes, names(logFCNodes))\n",
    "#     })\n",
    "#     negNodes[[n]] <- lapply(c(0.01, 0.05, 0.1), function(x) {\n",
    "#             nodes <- rownames(y)[setdiff(seq(nrow(y)), which(mcols(y)[,\"qvalue\"] <= x))]\n",
    "#             match(nodes, names(logFCNodes))\n",
    "#         })\n",
    "# }\n",
    "df <- data.frame(Method=character(), Metric=character(), FDR_0.01 = numeric(), FDR_0.05 = numeric(), FDR_0.10 = numeric())\n",
    "for(n in names(cuts)) {\n",
    "        stats <-  sapply(seq_along(detNodes[[n]]), function(i) computeMetOut(detNodes[[n]][[i]], logFCNodes, tree = tree, negNodes = negNodes[[n]][[i]], lfcThresh = rootFC))\n",
    "        colnames(stats) <- colnames(df)[c(3:5)]\n",
    "        stats <- cbind(Method=rep(n,2), Metric = c(\"FDR\", \"TPR\"), stats)\n",
    "        print(stats)                 \n",
    "        df <- rbind(df, stats)\n",
    "}"
   ]
  },
  {
   "cell_type": "code",
   "execution_count": 29,
   "id": "27718db5",
   "metadata": {},
   "outputs": [
    {
     "name": "stdout",
     "output_type": "stream",
     "text": [
      "[1] \"tp 0.993719469644103\"\n",
      "[1] \"tp 0.962639495390587\"\n",
      "[1] \"tp 0.919328419328419\"\n",
      "    Method  Metric FDR_0.01   FDR_0.05  FDR_0.10  \n",
      "fdr \"lfcTD\" \"FDR\"  0.00628053 0.0373605 0.08067158\n",
      "tpr \"lfcTD\" \"TPR\"  0.2539683  0.3829377 0.4452598 \n",
      "[1] \"tp 0.992303463441451\"\n",
      "[1] \"tp 0.962640901771337\"\n",
      "[1] \"tp 0.922936259143156\"\n",
      "    Method Metric FDR_0.01    FDR_0.05  FDR_0.10  \n",
      "fdr \"lfcT\" \"FDR\"  0.007696537 0.0373591 0.07706374\n",
      "tpr \"lfcT\" \"TPR\"  0.2056511   0.3405492 0.4025293 \n",
      "[1] \"tp 0.991052993805919\"\n",
      "[1] \"tp 0.955938697318008\"\n",
      "[1] \"tp 0.909127462806594\"\n",
      "    Method Metric FDR_0.01    FDR_0.05  FDR_0.10  \n",
      "fdr \"LFCD\" \"FDR\"  0.008947006 0.0440613 0.09087254\n",
      "tpr \"LFCD\" \"TPR\"  0.2592259   0.3875728 0.4521096 \n"
     ]
    },
    {
     "data": {
      "text/html": [
       "<table class=\"dataframe\">\n",
       "<caption>A data.frame: 6 × 5</caption>\n",
       "<thead>\n",
       "\t<tr><th></th><th scope=col>Method</th><th scope=col>Metric</th><th scope=col>FDR_0.01</th><th scope=col>FDR_0.05</th><th scope=col>FDR_0.10</th></tr>\n",
       "\t<tr><th></th><th scope=col>&lt;named list&gt;</th><th scope=col>&lt;named list&gt;</th><th scope=col>&lt;named list&gt;</th><th scope=col>&lt;named list&gt;</th><th scope=col>&lt;named list&gt;</th></tr>\n",
       "</thead>\n",
       "<tbody>\n",
       "\t<tr><th scope=row>fdr</th><td>lfcTD</td><td>FDR</td><td>0.00628053</td><td>0.0373605</td><td>0.08067158</td></tr>\n",
       "\t<tr><th scope=row>tpr</th><td>lfcTD</td><td>TPR</td><td>0.3140022</td><td>0.4374862</td><td>0.4950386</td></tr>\n",
       "\t<tr><th scope=row>fdr1</th><td>lfcT</td><td>FDR</td><td>0.007696537</td><td>0.0373591</td><td>0.07706374</td></tr>\n",
       "\t<tr><th scope=row>tpr1</th><td>lfcT</td><td>TPR</td><td>0.2056511</td><td>0.3405492</td><td>0.4025293</td></tr>\n",
       "\t<tr><th scope=row>fdr2</th><td>LFCD</td><td>FDR</td><td>0.008947006</td><td>0.0440613</td><td>0.09087254</td></tr>\n",
       "\t<tr><th scope=row>tpr2</th><td>LFCD</td><td>TPR</td><td>0.3197158</td><td>0.4431616</td><td>0.5019982</td></tr>\n",
       "</tbody>\n",
       "</table>\n"
      ],
      "text/latex": [
       "A data.frame: 6 × 5\n",
       "\\begin{tabular}{r|lllll}\n",
       "  & Method & Metric & FDR\\_0.01 & FDR\\_0.05 & FDR\\_0.10\\\\\n",
       "  & <named list> & <named list> & <named list> & <named list> & <named list>\\\\\n",
       "\\hline\n",
       "\tfdr & lfcTD & FDR & 0.00628053 & 0.0373605 & 0.08067158\\\\\n",
       "\ttpr & lfcTD & TPR & 0.3140022 & 0.4374862 & 0.4950386\\\\\n",
       "\tfdr1 & lfcT & FDR & 0.007696537 & 0.0373591 & 0.07706374\\\\\n",
       "\ttpr1 & lfcT & TPR & 0.2056511 & 0.3405492 & 0.4025293\\\\\n",
       "\tfdr2 & LFCD & FDR & 0.008947006 & 0.0440613 & 0.09087254\\\\\n",
       "\ttpr2 & LFCD & TPR & 0.3197158 & 0.4431616 & 0.5019982\\\\\n",
       "\\end{tabular}\n"
      ],
      "text/markdown": [
       "\n",
       "A data.frame: 6 × 5\n",
       "\n",
       "| <!--/--> | Method &lt;named list&gt; | Metric &lt;named list&gt; | FDR_0.01 &lt;named list&gt; | FDR_0.05 &lt;named list&gt; | FDR_0.10 &lt;named list&gt; |\n",
       "|---|---|---|---|---|---|\n",
       "| fdr | lfcTD | FDR | 0.00628053 | 0.0373605 | 0.08067158 |\n",
       "| tpr | lfcTD | TPR | 0.3140022 | 0.4374862 | 0.4950386 |\n",
       "| fdr1 | lfcT | FDR | 0.007696537 | 0.0373591 | 0.07706374 |\n",
       "| tpr1 | lfcT | TPR | 0.2056511 | 0.3405492 | 0.4025293 |\n",
       "| fdr2 | LFCD | FDR | 0.008947006 | 0.0440613 | 0.09087254 |\n",
       "| tpr2 | LFCD | TPR | 0.3197158 | 0.4431616 | 0.5019982 |\n",
       "\n"
      ],
      "text/plain": [
       "     Method Metric FDR_0.01    FDR_0.05  FDR_0.10  \n",
       "fdr  lfcTD  FDR    0.00628053  0.0373605 0.08067158\n",
       "tpr  lfcTD  TPR    0.3140022   0.4374862 0.4950386 \n",
       "fdr1 lfcT   FDR    0.007696537 0.0373591 0.07706374\n",
       "tpr1 lfcT   TPR    0.2056511   0.3405492 0.4025293 \n",
       "fdr2 LFCD   FDR    0.008947006 0.0440613 0.09087254\n",
       "tpr2 LFCD   TPR    0.3197158   0.4431616 0.5019982 "
      ]
     },
     "metadata": {},
     "output_type": "display_data"
    }
   ],
   "source": [
    "negNodesDesc <- list()\n",
    "for(n in names(negNodes)) {\n",
    "    if(n == \"Swish\")\n",
    "        negNodesDesc[[n]] <- negNodes[[n]]\n",
    "    if(n != \"term\")\n",
    "        negNodesDesc[[n]] <- lapply(negNodes[[n]], function(x) unlist(Descendants(tree, x)))\n",
    "}\n",
    "dfD <- data.frame(Method=character(), Metric=character(), FDR_0.01 = numeric(), FDR_0.05 = numeric(), FDR_0.10 = numeric())\n",
    "for(n in names(detNodes)) {\n",
    "        stats <-  sapply(seq_along(detNodes[[n]]), function(i) computeMetOut(detNodes[[n]][[i]], logFCNodes, tree = tree, negNodes = negNodesDesc[[n]][[i]], lfcThresh = rootFC))\n",
    "        colnames(stats) <- colnames(df)[c(3:5)]\n",
    "        stats <- cbind(Method=rep(n,2), Metric = c(\"FDR\", \"TPR\"), stats)\n",
    "        print(stats)                 \n",
    "        dfD <- rbind(dfD, stats)\n",
    "}\n",
    "df"
   ]
  },
  {
   "cell_type": "code",
   "execution_count": 28,
   "id": "1c672a2e",
   "metadata": {},
   "outputs": [
    {
     "data": {
      "text/html": [
       "<table class=\"dataframe\">\n",
       "<caption>A tibble: 3 × 7</caption>\n",
       "<thead>\n",
       "\t<tr><th scope=col>Method</th><th scope=col>0.01_FDR</th><th scope=col>0.05_FDR</th><th scope=col>0.1_FDR</th><th scope=col>0.01_TPR</th><th scope=col>0.05_TPR</th><th scope=col>0.1_TPR</th></tr>\n",
       "\t<tr><th scope=col>&lt;named list&gt;</th><th scope=col>&lt;dbl&gt;</th><th scope=col>&lt;dbl&gt;</th><th scope=col>&lt;dbl&gt;</th><th scope=col>&lt;dbl&gt;</th><th scope=col>&lt;dbl&gt;</th><th scope=col>&lt;dbl&gt;</th></tr>\n",
       "</thead>\n",
       "<tbody>\n",
       "\t<tr><td>LFCD</td><td>0.009</td><td>0.044</td><td>0.091</td><td>0.320</td><td>0.443</td><td>0.502</td></tr>\n",
       "\t<tr><td>lfcT</td><td>0.008</td><td>0.037</td><td>0.077</td><td>0.206</td><td>0.341</td><td>0.403</td></tr>\n",
       "\t<tr><td>lfcTD</td><td>0.006</td><td>0.037</td><td>0.081</td><td>0.314</td><td>0.437</td><td>0.495</td></tr>\n",
       "</tbody>\n",
       "</table>\n"
      ],
      "text/latex": [
       "A tibble: 3 × 7\n",
       "\\begin{tabular}{lllllll}\n",
       " Method & 0.01\\_FDR & 0.05\\_FDR & 0.1\\_FDR & 0.01\\_TPR & 0.05\\_TPR & 0.1\\_TPR\\\\\n",
       " <named list> & <dbl> & <dbl> & <dbl> & <dbl> & <dbl> & <dbl>\\\\\n",
       "\\hline\n",
       "\t LFCD & 0.009 & 0.044 & 0.091 & 0.320 & 0.443 & 0.502\\\\\n",
       "\t lfcT & 0.008 & 0.037 & 0.077 & 0.206 & 0.341 & 0.403\\\\\n",
       "\t lfcTD & 0.006 & 0.037 & 0.081 & 0.314 & 0.437 & 0.495\\\\\n",
       "\\end{tabular}\n"
      ],
      "text/markdown": [
       "\n",
       "A tibble: 3 × 7\n",
       "\n",
       "| Method &lt;named list&gt; | 0.01_FDR &lt;dbl&gt; | 0.05_FDR &lt;dbl&gt; | 0.1_FDR &lt;dbl&gt; | 0.01_TPR &lt;dbl&gt; | 0.05_TPR &lt;dbl&gt; | 0.1_TPR &lt;dbl&gt; |\n",
       "|---|---|---|---|---|---|---|\n",
       "| LFCD | 0.009 | 0.044 | 0.091 | 0.320 | 0.443 | 0.502 |\n",
       "| lfcT | 0.008 | 0.037 | 0.077 | 0.206 | 0.341 | 0.403 |\n",
       "| lfcTD | 0.006 | 0.037 | 0.081 | 0.314 | 0.437 | 0.495 |\n",
       "\n"
      ],
      "text/plain": [
       "  Method 0.01_FDR 0.05_FDR 0.1_FDR 0.01_TPR 0.05_TPR 0.1_TPR\n",
       "1 LFCD   0.009    0.044    0.091   0.320    0.443    0.502  \n",
       "2 lfcT   0.008    0.037    0.077   0.206    0.341    0.403  \n",
       "3 lfcTD  0.006    0.037    0.081   0.314    0.437    0.495  "
      ]
     },
     "metadata": {},
     "output_type": "display_data"
    }
   ],
   "source": [
    "suppressPackageStartupMessages(library(tidyr))\n",
    "dfA <- df %>% pivot_wider(names_from = Metric, values_from = c(3:5))\n",
    "dfA <- dfA[,c(1,seq(2,7,2),seq(3,7,2))]\n",
    "colnames(dfA)[c(2:7)] <- as.vector(outer(c(0.01,0.05,0.1), c(\"FDR\",\"TPR\"), function(x,y) paste(x,y,sep=\"_\")))\n",
    "for(i in seq(ncol(dfA)-1))\n",
    "    dfA[,i+1] <- round(as.numeric(unlist(dfA[,i+1])),3)\n",
    "dfA <- dfA[order(unlist(dfA$Method)),]\n",
    "dfA"
   ]
  },
  {
   "cell_type": "code",
   "execution_count": 23,
   "id": "f9027286",
   "metadata": {},
   "outputs": [
    {
     "data": {
      "text/html": [
       "<table class=\"dataframe\">\n",
       "<caption>A tibble: 3 × 7</caption>\n",
       "<thead>\n",
       "\t<tr><th scope=col>Method</th><th scope=col>0.01_FDR</th><th scope=col>0.05_FDR</th><th scope=col>0.1_FDR</th><th scope=col>0.01_TPR</th><th scope=col>0.05_TPR</th><th scope=col>0.1_TPR</th></tr>\n",
       "\t<tr><th scope=col>&lt;named list&gt;</th><th scope=col>&lt;dbl&gt;</th><th scope=col>&lt;dbl&gt;</th><th scope=col>&lt;dbl&gt;</th><th scope=col>&lt;dbl&gt;</th><th scope=col>&lt;dbl&gt;</th><th scope=col>&lt;dbl&gt;</th></tr>\n",
       "</thead>\n",
       "<tbody>\n",
       "\t<tr><td>LFCD</td><td>0.009</td><td>0.044</td><td>0.091</td><td>0.259</td><td>0.388</td><td>0.452</td></tr>\n",
       "\t<tr><td>lfcT</td><td>0.008</td><td>0.037</td><td>0.077</td><td>0.206</td><td>0.341</td><td>0.403</td></tr>\n",
       "\t<tr><td>lfcTD</td><td>0.006</td><td>0.037</td><td>0.081</td><td>0.254</td><td>0.383</td><td>0.445</td></tr>\n",
       "</tbody>\n",
       "</table>\n"
      ],
      "text/latex": [
       "A tibble: 3 × 7\n",
       "\\begin{tabular}{lllllll}\n",
       " Method & 0.01\\_FDR & 0.05\\_FDR & 0.1\\_FDR & 0.01\\_TPR & 0.05\\_TPR & 0.1\\_TPR\\\\\n",
       " <named list> & <dbl> & <dbl> & <dbl> & <dbl> & <dbl> & <dbl>\\\\\n",
       "\\hline\n",
       "\t LFCD & 0.009 & 0.044 & 0.091 & 0.259 & 0.388 & 0.452\\\\\n",
       "\t lfcT & 0.008 & 0.037 & 0.077 & 0.206 & 0.341 & 0.403\\\\\n",
       "\t lfcTD & 0.006 & 0.037 & 0.081 & 0.254 & 0.383 & 0.445\\\\\n",
       "\\end{tabular}\n"
      ],
      "text/markdown": [
       "\n",
       "A tibble: 3 × 7\n",
       "\n",
       "| Method &lt;named list&gt; | 0.01_FDR &lt;dbl&gt; | 0.05_FDR &lt;dbl&gt; | 0.1_FDR &lt;dbl&gt; | 0.01_TPR &lt;dbl&gt; | 0.05_TPR &lt;dbl&gt; | 0.1_TPR &lt;dbl&gt; |\n",
       "|---|---|---|---|---|---|---|\n",
       "| LFCD | 0.009 | 0.044 | 0.091 | 0.259 | 0.388 | 0.452 |\n",
       "| lfcT | 0.008 | 0.037 | 0.077 | 0.206 | 0.341 | 0.403 |\n",
       "| lfcTD | 0.006 | 0.037 | 0.081 | 0.254 | 0.383 | 0.445 |\n",
       "\n"
      ],
      "text/plain": [
       "  Method 0.01_FDR 0.05_FDR 0.1_FDR 0.01_TPR 0.05_TPR 0.1_TPR\n",
       "1 LFCD   0.009    0.044    0.091   0.259    0.388    0.452  \n",
       "2 lfcT   0.008    0.037    0.077   0.206    0.341    0.403  \n",
       "3 lfcTD  0.006    0.037    0.081   0.254    0.383    0.445  "
      ]
     },
     "metadata": {},
     "output_type": "display_data"
    }
   ],
   "source": [
    "suppressPackageStartupMessages(library(tidyr))\n",
    "dfA <- dfD %>% pivot_wider(names_from = Metric, values_from = c(3:5))\n",
    "dfA <- dfA[,c(1,seq(2,7,2),seq(3,7,2))]\n",
    "colnames(dfA)[c(2:7)] <- as.vector(outer(c(0.01,0.05,0.1), c(\"FDR\",\"TPR\"), function(x,y) paste(x,y,sep=\"_\")))\n",
    "for(i in seq(ncol(dfA)-1))\n",
    "    dfA[,i+1] <- round(as.numeric(unlist(dfA[,i+1])),3)\n",
    "dfA <- dfA[order(unlist(dfA$Method)),]\n",
    "dfA"
   ]
  },
  {
   "cell_type": "code",
   "execution_count": 30,
   "id": "59c39cd4",
   "metadata": {},
   "outputs": [],
   "source": [
    "cutsY <- cuts\n",
    "detNodesY <- detNodes\n",
    "negNodesY <- negNodes"
   ]
  },
  {
   "cell_type": "code",
   "execution_count": 36,
   "id": "b7a45c4f",
   "metadata": {},
   "outputs": [],
   "source": [
    "load(file=file.path(saveDir, \"cutsCons.RData\"))\n",
    "load(file=file.path(saveDir, \"negNodesCons.RData\"))\n",
    "load(file=file.path(saveDir, \"detNodesCons.RData\"))"
   ]
  },
  {
   "cell_type": "code",
   "execution_count": 38,
   "id": "5ce6d462",
   "metadata": {},
   "outputs": [],
   "source": [
    "cuts <- append(cuts, cutsY)\n",
    "detNodes <- append(detNodes, detNodesY)\n",
    "negNodes <- append(negNodes, negNodesY)"
   ]
  },
  {
   "cell_type": "code",
   "execution_count": 40,
   "id": "4d0cda1f",
   "metadata": {},
   "outputs": [],
   "source": [
    "save(cuts, file = file.path(saveDir, \"cutsCons.RData\"))\n",
    "save(negNodes, file = file.path(saveDir, \"negNodesCons.RData\"))\n",
    "save(detNodes, file = file.path(saveDir, \"detNodesCons.RData\"))"
   ]
  }
 ],
 "metadata": {
  "kernelspec": {
   "display_name": "R",
   "language": "R",
   "name": "ir"
  },
  "language_info": {
   "codemirror_mode": "r",
   "file_extension": ".r",
   "mimetype": "text/x-r-source",
   "name": "R",
   "pygments_lexer": "r",
   "version": "4.1.1"
  }
 },
 "nbformat": 4,
 "nbformat_minor": 5
}
