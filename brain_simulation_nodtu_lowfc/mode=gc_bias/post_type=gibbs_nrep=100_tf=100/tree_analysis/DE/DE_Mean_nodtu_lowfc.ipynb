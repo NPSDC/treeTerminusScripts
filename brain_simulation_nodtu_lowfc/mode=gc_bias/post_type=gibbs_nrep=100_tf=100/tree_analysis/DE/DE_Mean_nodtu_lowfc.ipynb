{
 "cells": [
  {
   "cell_type": "code",
   "execution_count": 5,
   "id": "662a6df6",
   "metadata": {
    "scrolled": false
   },
   "outputs": [
    {
     "name": "stderr",
     "output_type": "stream",
     "text": [
      "Skipping install of 'beaveR' from a github remote, the SHA1 (55f74bc0) has not changed since last install.\n",
      "  Use `force = TRUE` to force installation\n",
      "\n"
     ]
    }
   ],
   "source": [
    "devtools::install_github(\"NPSDC/beaveR\", ref = \"dev\")\n",
    "setwd('/fs/cbcb-lab/rob/students/noor/Uncertainity/treeTerminusScripts')\n",
    "suppressPackageStartupMessages(source(\"tree_helper_function.R\"))\n",
    "suppressPackageStartupMessages(library(beaveR))\n",
    "clustFile <- \"../brain_sim_nodtu_lowfc/mode=gc_bias/post_type=gibbs_nrep=100_tf=100/terminus/no_threshold_meaninf_0/group_nwk.txt\"\n",
    "quantDir <- file.path(\"../brain_sim_nodtu_lowfc/mode=gc_bias/post_type=gibbs_nrep=100_tf=100/out_sal\") \n",
    "samples <- as.vector(outer(c(1:6), c(1,2), function(x,y) paste(x,y,sep='_')))\n",
    "quantFiles <- file.path(quantDir, samples, 'quant.sf')\n",
    "coldata <- data.frame(files=quantFiles, names=samples, condition=factor(rep(1:2, each=6)))\n",
    "# tse <- buildTSE(treeTermFile = clustFile, coldata = coldata)"
   ]
  },
  {
   "cell_type": "code",
   "execution_count": 6,
   "id": "a27f9aba",
   "metadata": {},
   "outputs": [
    {
     "data": {
      "text/html": [
       "<table class=\"dataframe\">\n",
       "<caption>A matrix: 2 × 6 of type dbl</caption>\n",
       "<thead>\n",
       "\t<tr><th></th><th scope=col>used</th><th scope=col>(Mb)</th><th scope=col>gc trigger</th><th scope=col>(Mb)</th><th scope=col>max used</th><th scope=col>(Mb)</th></tr>\n",
       "</thead>\n",
       "<tbody>\n",
       "\t<tr><th scope=row>Ncells</th><td>10084784</td><td>538.6</td><td>17397597</td><td>929.2</td><td>11659925</td><td>622.8</td></tr>\n",
       "\t<tr><th scope=row>Vcells</th><td>17182504</td><td>131.1</td><td>26637336</td><td>203.3</td><td>22094052</td><td>168.6</td></tr>\n",
       "</tbody>\n",
       "</table>\n"
      ],
      "text/latex": [
       "A matrix: 2 × 6 of type dbl\n",
       "\\begin{tabular}{r|llllll}\n",
       "  & used & (Mb) & gc trigger & (Mb) & max used & (Mb)\\\\\n",
       "\\hline\n",
       "\tNcells & 10084784 & 538.6 & 17397597 & 929.2 & 11659925 & 622.8\\\\\n",
       "\tVcells & 17182504 & 131.1 & 26637336 & 203.3 & 22094052 & 168.6\\\\\n",
       "\\end{tabular}\n"
      ],
      "text/markdown": [
       "\n",
       "A matrix: 2 × 6 of type dbl\n",
       "\n",
       "| <!--/--> | used | (Mb) | gc trigger | (Mb) | max used | (Mb) |\n",
       "|---|---|---|---|---|---|---|\n",
       "| Ncells | 10084784 | 538.6 | 17397597 | 929.2 | 11659925 | 622.8 |\n",
       "| Vcells | 17182504 | 131.1 | 26637336 | 203.3 | 22094052 | 168.6 |\n",
       "\n"
      ],
      "text/plain": [
       "       used     (Mb)  gc trigger (Mb)  max used (Mb) \n",
       "Ncells 10084784 538.6 17397597   929.2 11659925 622.8\n",
       "Vcells 17182504 131.1 26637336   203.3 22094052 168.6"
      ]
     },
     "metadata": {},
     "output_type": "display_data"
    }
   ],
   "source": [
    "gc()"
   ]
  },
  {
   "cell_type": "code",
   "execution_count": 31,
   "id": "ab5aeff8",
   "metadata": {},
   "outputs": [],
   "source": [
    "saveDir <- \"environment/brain_sim_nodtu_lowfc/mode=gc_bias/post_type=gibbs_nrep=100_tf=100/comp_trees/DE\"\n",
    "# save(tse, file=file.path(saveDir, \"tseMean.RData\"))\n",
    "load(file=file.path(saveDir, \"tseMean.RData\"))"
   ]
  },
  {
   "cell_type": "code",
   "execution_count": 32,
   "id": "8d0c02f0",
   "metadata": {},
   "outputs": [],
   "source": [
    "temp <- tse"
   ]
  },
  {
   "cell_type": "code",
   "execution_count": 9,
   "id": "c3d475be",
   "metadata": {},
   "outputs": [],
   "source": [
    "load(\"environment/brain_sim_nodtu_lowfc/simulate.rda\")\n",
    "suppressPackageStartupMessages(library(TreeSummarizedExperiment))\n",
    "suppressPackageStartupMessages(library(ape))\n",
    "tree <- rowTree(tse)\n",
    "l <- length(tree$tip)\n",
    "missingTxps <- setdiff(rownames(tse)[1:l], rownames(sim.counts.mat))\n",
    "dts <- Reduce(union, c(names(iso.dge)[iso.dge], names(iso.dte)[iso.dte], names(iso.dte.only)[iso.dte.only], \n",
    "                       names(iso.dtu)[iso.dtu]))\n",
    "dts <- intersect(dts, rownames(sim.counts.mat))\n",
    "sim.counts.mat <- rbind(sim.counts.mat, matrix(0, nrow = length(missingTxps), ncol = ncol(sim.counts.mat),\n",
    "                                               dimnames = list(missingTxps, colnames(sim.counts.mat))))\n",
    "sim.counts.mat <- sim.counts.mat[rownames(tse)[1:l],]\n",
    "dts <- intersect(dts, rownames(sim.counts.mat))\n",
    "\n",
    "innNodes <- l+1:tree$Nnode\n",
    "aggCountsNodes <- computeAggNodesU(tree, c(1:length(tree$tip),innNodes), sim.counts.mat)\n",
    "logFCNodes <- ifelse(rowSums(aggCountsNodes)==0, 0, log2(aggCountsNodes[,2]+1)-log2(aggCountsNodes[,1]+1))\n",
    "names(logFCNodes)[(l+1):length(logFCNodes)] <- paste(\"Node\", names(logFCNodes)[(l+1):length(logFCNodes)], sep=\"\")\n",
    "rootFC <- abs(logFCNodes[l+1])\n"
   ]
  },
  {
   "cell_type": "code",
   "execution_count": 10,
   "id": "0ab1e57f",
   "metadata": {},
   "outputs": [
    {
     "data": {
      "text/html": [
       "8778"
      ],
      "text/latex": [
       "8778"
      ],
      "text/markdown": [
       "8778"
      ],
      "text/plain": [
       "[1] 8778"
      ]
     },
     "metadata": {},
     "output_type": "display_data"
    },
    {
     "data": {
      "text/plain": [
       "   Min. 1st Qu.  Median    Mean 3rd Qu.    Max. \n",
       " 0.4257  0.7805  1.0275  1.0097  1.2607  1.4836 "
      ]
     },
     "metadata": {},
     "output_type": "display_data"
    },
    {
     "name": "stdout",
     "output_type": "stream",
     "text": [
      "[1] 1\n"
     ]
    },
    {
     "data": {
      "text/html": [
       "<strong>Node138894:</strong> 0.0127021344691656"
      ],
      "text/latex": [
       "\\textbf{Node138894:} 0.0127021344691656"
      ],
      "text/markdown": [
       "**Node138894:** 0.0127021344691656"
      ],
      "text/plain": [
       "Node138894 \n",
       "0.01270213 "
      ]
     },
     "metadata": {},
     "output_type": "display_data"
    },
    {
     "data": {
      "text/html": [
       "<strong>Node138894:</strong> 0.01"
      ],
      "text/latex": [
       "\\textbf{Node138894:} 0.01"
      ],
      "text/markdown": [
       "**Node138894:** 0.01"
      ],
      "text/plain": [
       "Node138894 \n",
       "      0.01 "
      ]
     },
     "metadata": {},
     "output_type": "display_data"
    }
   ],
   "source": [
    "length(dts)\n",
    "summary(abs(logFCNodes[dts]))\n",
    "print(mean(abs(logFCNodes[dts]) >= rootFC))\n",
    "rootFC\n",
    "mcols(tse)[[\"meanInfRV\"]][l+1]"
   ]
  },
  {
   "cell_type": "markdown",
   "id": "c7986b04",
   "metadata": {},
   "source": [
    "#### Run Swish"
   ]
  },
  {
   "cell_type": "code",
   "execution_count": 11,
   "id": "f527e0e6",
   "metadata": {},
   "outputs": [],
   "source": [
    "set.seed(1)\n",
    "y <- fishpond::scaleInfReps(temp[1:l,])\n",
    "y <- labelKeep(y)\n",
    "y <- swish(y, x=\"condition\")"
   ]
  },
  {
   "cell_type": "code",
   "execution_count": 12,
   "id": "16899e4e",
   "metadata": {},
   "outputs": [
    {
     "data": {
      "text/plain": [
       "class: TreeSummarizedExperiment \n",
       "dim: 258923 12 \n",
       "metadata(8): tximetaInfo quantInfo ... txpsAnn infRepsScaled\n",
       "assays(105): counts abundance ... mean variance\n",
       "rownames(258923): ENST00000484859.1 ENST00000601814.5 ... Node258922\n",
       "  Node258923\n",
       "rowData names(1): meanInfRV\n",
       "colnames(12): 1_1 2_1 ... 5_2 6_2\n",
       "colData names(2): names condition\n",
       "reducedDimNames(0):\n",
       "mainExpName: NULL\n",
       "altExpNames(0):\n",
       "rowLinks: a LinkDataFrame (258923 rows)\n",
       "rowTree: 1 phylo tree(s) (138893 leaves)\n",
       "colLinks: NULL\n",
       "colTree: NULL"
      ]
     },
     "metadata": {},
     "output_type": "display_data"
    },
    {
     "data": {
      "text/plain": [
       "DataFrame with 138893 rows and 8 columns\n",
       "                  meanInfRV log10mean      keep      stat     log2FC\n",
       "                  <numeric> <numeric> <logical> <numeric>  <numeric>\n",
       "ENST00000484859.1 0.0628568   1.69061      TRUE      6.13 -0.0498665\n",
       "ENST00000601814.5 0.0692570   1.01785      TRUE     16.75  1.0137584\n",
       "ENST00000419160.3 0.0629660   1.02768      TRUE     15.96  0.8947338\n",
       "ENST00000416931.1 0.1089655   3.82013      TRUE     -1.23 -0.1046560\n",
       "ENST00000457540.1 0.1041238   4.13343      TRUE      9.77  0.2921604\n",
       "...                     ...       ...       ...       ...        ...\n",
       "ENST00000583407.1  6.189095   2.09033      TRUE     -5.17 -0.2698960\n",
       "ENST00000579002.5  1.475034   2.19953      TRUE     -1.38 -0.0765274\n",
       "ENST00000581993.5  1.671231   1.46147      TRUE      3.14  0.2845811\n",
       "ENST00000584678.1  1.417356   1.09895      TRUE      7.35  0.5233134\n",
       "ENST00000579761.5  0.385673   1.14573      TRUE      0.12 -0.0426913\n",
       "                       pvalue    locfdr    qvalue\n",
       "                    <numeric> <numeric> <numeric>\n",
       "ENST00000484859.1 0.244740230 1.0000000 0.7732614\n",
       "ENST00000601814.5 0.000668345 0.0734399 0.0185537\n",
       "ENST00000419160.3 0.001420173 0.1306103 0.0324263\n",
       "ENST00000416931.1 0.813464241 1.0000000 0.9733070\n",
       "ENST00000457540.1 0.063106250 0.9205802 0.4501637\n",
       "...                       ...       ...       ...\n",
       "ENST00000583407.1    0.326014         1  0.827722\n",
       "ENST00000579002.5    0.791385         1  0.971939\n",
       "ENST00000581993.5    0.549215         1  0.919097\n",
       "ENST00000584678.1    0.163330         1  0.680005\n",
       "ENST00000579761.5    0.980772         1  0.995716"
      ]
     },
     "metadata": {},
     "output_type": "display_data"
    }
   ],
   "source": [
    "temp\n",
    "mcols(y)"
   ]
  },
  {
   "cell_type": "code",
   "execution_count": 13,
   "id": "a7642929",
   "metadata": {},
   "outputs": [],
   "source": [
    "detNodes <- list()\n",
    "detNodes[[\"Txps\"]] <- lapply(c(0.01, 0.05, 0.1), function(x) which(mcols(y)[,\"qvalue\"] <= x ))\n",
    "\n",
    "negNodes <- list()\n",
    "negNodes[[\"Txps\"]] <- lapply(detNodes[[\"Txps\"]], function(nodes) setdiff(seq(l), \n",
    "                                                          unlist(Descendants(tree, nodes))))"
   ]
  },
  {
   "cell_type": "markdown",
   "id": "7953c106",
   "metadata": {},
   "source": [
    "#### Run Genes"
   ]
  },
  {
   "cell_type": "code",
   "execution_count": 14,
   "id": "05c8bf9a",
   "metadata": {},
   "outputs": [
    {
     "name": "stderr",
     "output_type": "stream",
     "text": [
      "loading existing TxDb created: 2022-08-19 22:12:59\n",
      "\n",
      "Loading required package: GenomicFeatures\n",
      "\n",
      "Loading required package: AnnotationDbi\n",
      "\n",
      "obtaining transcript-to-gene mapping from database\n",
      "\n",
      "loading existing gene ranges created: 2022-08-26 02:08:58\n",
      "\n",
      "summarizing abundance\n",
      "\n",
      "summarizing counts\n",
      "\n",
      "summarizing length\n",
      "\n",
      "summarizing inferential replicates\n",
      "\n"
     ]
    }
   ],
   "source": [
    "gse <- summarizeToGene(tse[1:l,])\n",
    "gse <- fishpond::scaleInfReps(gse)\n",
    "gse <- labelKeep(gse)\n",
    "set.seed(1)\n",
    "gse <- swish(gse, x=\"condition\")\n",
    "detNodes[[\"Genes\"]] <- lapply(c(0.01, 0.05, 0.1), function(x) which(mcols(gse)[,\"qvalue\"] <= x ))\n",
    "negNodes[[\"Genes\"]] <- lapply(detNodes[[\"Genes\"]], function(nodes) setdiff(seq(nrow(gse)), nodes))"
   ]
  },
  {
   "cell_type": "markdown",
   "id": "98f35cb9",
   "metadata": {},
   "source": [
    "#### Min meanInfRV and Height"
   ]
  },
  {
   "cell_type": "code",
   "execution_count": 4,
   "id": "029dbea1",
   "metadata": {},
   "outputs": [],
   "source": [
    "lambda <- c(0.05, 0.1, 1, 5, 10)"
   ]
  },
  {
   "cell_type": "code",
   "execution_count": 10,
   "id": "86fa911d",
   "metadata": {},
   "outputs": [
    {
     "data": {
      "text/html": [
       "<style>\n",
       ".dl-inline {width: auto; margin:0; padding: 0}\n",
       ".dl-inline>dt, .dl-inline>dd {float: none; width: auto; display: inline-block}\n",
       ".dl-inline>dt::after {content: \":\\0020\"; padding-right: .5ex}\n",
       ".dl-inline>dt:not(:first-of-type) {padding-left: .5ex}\n",
       "</style><dl class=dl-inline><dt>irv_height_0.05</dt><dd>78314</dd><dt>irv_height_0.1</dt><dd>89155</dd><dt>irv_height_1</dt><dd>120488</dd><dt>irv_height_5</dt><dd>134045</dd><dt>irv_height_10</dt><dd>136828</dd></dl>\n"
      ],
      "text/latex": [
       "\\begin{description*}\n",
       "\\item[irv\\textbackslash{}\\_height\\textbackslash{}\\_0.05] 78314\n",
       "\\item[irv\\textbackslash{}\\_height\\textbackslash{}\\_0.1] 89155\n",
       "\\item[irv\\textbackslash{}\\_height\\textbackslash{}\\_1] 120488\n",
       "\\item[irv\\textbackslash{}\\_height\\textbackslash{}\\_5] 134045\n",
       "\\item[irv\\textbackslash{}\\_height\\textbackslash{}\\_10] 136828\n",
       "\\end{description*}\n"
      ],
      "text/markdown": [
       "irv_height_0.05\n",
       ":   78314irv_height_0.1\n",
       ":   89155irv_height_1\n",
       ":   120488irv_height_5\n",
       ":   134045irv_height_10\n",
       ":   136828\n",
       "\n"
      ],
      "text/plain": [
       "irv_height_0.05  irv_height_0.1    irv_height_1    irv_height_5   irv_height_10 \n",
       "          78314           89155          120488          134045          136828 "
      ]
     },
     "metadata": {},
     "output_type": "display_data"
    }
   ],
   "source": [
    "# cuts <- list()\n",
    "# for(i in lambda) {\n",
    "#     descSize <- sapply(Descendants(tree, seq(nrow(tse))), length)\n",
    "#     metric <- (mcols(temp)[['meanInfRV']] + node.depth(tree, 2)*i) *descSize\n",
    "#     objS <- solveForOptimalCut(tse, metVec = metric, type = 'min')\n",
    "#     gammaN <- paste(\"gamma\",i,sep=\"=\")\n",
    "#     cuts[[gammaN]] <- objS[[\"cut\"]]\n",
    "# }\n",
    "names(cuts) <- paste(\"irv\", \"height\", lambda, sep = \"_\") \n",
    "sapply(cuts,length)"
   ]
  },
  {
   "cell_type": "code",
   "execution_count": 11,
   "id": "16745354",
   "metadata": {},
   "outputs": [],
   "source": [
    "save(cuts, file = file.path(saveDir, \"cutsMean.RData\"))"
   ]
  },
  {
   "cell_type": "code",
   "execution_count": 17,
   "id": "a5cb5e95",
   "metadata": {},
   "outputs": [],
   "source": [
    "load(file = file.path(saveDir, \"cutsMean.RData\"))"
   ]
  },
  {
   "cell_type": "code",
   "execution_count": 18,
   "id": "1a01b878",
   "metadata": {},
   "outputs": [],
   "source": [
    "for(i in seq_along(lambda)) {\n",
    "     ihname <- paste(\"irv\", \"height\", lambda[i], sep = \"_\") \n",
    "     y <- temp[sort(cuts[[ihname]]),]\n",
    "     y <- fishpond::scaleInfReps(y)\n",
    "     y <- labelKeep(y)\n",
    "     set.seed(1)\n",
    "     y <- swish(y, x=\"condition\")\n",
    "#      dim(y)\n",
    "     detNodes[[ihname]] <- lapply(c(0.01, 0.05, 0.1), function(x) {\n",
    "        nodes <- rownames(y)[which(mcols(y)[,\"qvalue\"] <= x)]\n",
    "#         txps <- match(nodes[grep(\"ENST\", nodes)], rownames(tse))\n",
    "#         iNodes <- match(nodes[grep(\"Node\", nodes)], rownames(tse))\n",
    "         match(nodes, names(logFCNodes))\n",
    "        \n",
    "#         c(txps,iNodes)\n",
    "    })\n",
    "    negNodes[[ihname]] <- lapply(c(0.01, 0.05, 0.1), function(x) {\n",
    "        nodes <- rownames(y)[setdiff(seq(nrow(y)), which(mcols(y)[,\"qvalue\"] <= x))]\n",
    "        match(nodes, names(logFCNodes))\n",
    "    })\n",
    "}"
   ]
  },
  {
   "cell_type": "code",
   "execution_count": 19,
   "id": "e374a34a",
   "metadata": {},
   "outputs": [
    {
     "data": {
      "text/html": [
       "<style>\n",
       ".list-inline {list-style: none; margin:0; padding: 0}\n",
       ".list-inline>li {display: inline-block}\n",
       ".list-inline>li:not(:last-child)::after {content: \"\\00b7\"; padding: 0 .5ex}\n",
       "</style>\n",
       "<ol class=list-inline><li>'Txps'</li><li>'Genes'</li><li>'irv_height_0.05'</li><li>'irv_height_0.1'</li><li>'irv_height_1'</li><li>'irv_height_5'</li><li>'irv_height_10'</li></ol>\n"
      ],
      "text/latex": [
       "\\begin{enumerate*}\n",
       "\\item 'Txps'\n",
       "\\item 'Genes'\n",
       "\\item 'irv\\_height\\_0.05'\n",
       "\\item 'irv\\_height\\_0.1'\n",
       "\\item 'irv\\_height\\_1'\n",
       "\\item 'irv\\_height\\_5'\n",
       "\\item 'irv\\_height\\_10'\n",
       "\\end{enumerate*}\n"
      ],
      "text/markdown": [
       "1. 'Txps'\n",
       "2. 'Genes'\n",
       "3. 'irv_height_0.05'\n",
       "4. 'irv_height_0.1'\n",
       "5. 'irv_height_1'\n",
       "6. 'irv_height_5'\n",
       "7. 'irv_height_10'\n",
       "\n",
       "\n"
      ],
      "text/plain": [
       "[1] \"Txps\"            \"Genes\"           \"irv_height_0.05\" \"irv_height_0.1\" \n",
       "[5] \"irv_height_1\"    \"irv_height_5\"    \"irv_height_10\"  "
      ]
     },
     "metadata": {},
     "output_type": "display_data"
    },
    {
     "data": {
      "text/html": [
       "<style>\n",
       ".list-inline {list-style: none; margin:0; padding: 0}\n",
       ".list-inline>li {display: inline-block}\n",
       ".list-inline>li:not(:last-child)::after {content: \"\\00b7\"; padding: 0 .5ex}\n",
       "</style>\n",
       "<ol class=list-inline><li>'Txps'</li><li>'Genes'</li><li>'irv_height_0.05'</li><li>'irv_height_0.1'</li><li>'irv_height_1'</li><li>'irv_height_5'</li><li>'irv_height_10'</li></ol>\n"
      ],
      "text/latex": [
       "\\begin{enumerate*}\n",
       "\\item 'Txps'\n",
       "\\item 'Genes'\n",
       "\\item 'irv\\_height\\_0.05'\n",
       "\\item 'irv\\_height\\_0.1'\n",
       "\\item 'irv\\_height\\_1'\n",
       "\\item 'irv\\_height\\_5'\n",
       "\\item 'irv\\_height\\_10'\n",
       "\\end{enumerate*}\n"
      ],
      "text/markdown": [
       "1. 'Txps'\n",
       "2. 'Genes'\n",
       "3. 'irv_height_0.05'\n",
       "4. 'irv_height_0.1'\n",
       "5. 'irv_height_1'\n",
       "6. 'irv_height_5'\n",
       "7. 'irv_height_10'\n",
       "\n",
       "\n"
      ],
      "text/plain": [
       "[1] \"Txps\"            \"Genes\"           \"irv_height_0.05\" \"irv_height_0.1\" \n",
       "[5] \"irv_height_1\"    \"irv_height_5\"    \"irv_height_10\"  "
      ]
     },
     "metadata": {},
     "output_type": "display_data"
    }
   ],
   "source": [
    "names(detNodes)\n",
    "names(negNodes)"
   ]
  },
  {
   "cell_type": "markdown",
   "id": "828169d1",
   "metadata": {},
   "source": [
    "#### Max Weighted Log Fold Change"
   ]
  },
  {
   "cell_type": "code",
   "execution_count": 25,
   "id": "65fbd7f2",
   "metadata": {},
   "outputs": [],
   "source": [
    "getLog2FC <- function(tse, condition, pc=5, array=FALSE) {\n",
    "  infRepIdx <- grep(\"infRep\", assayNames(tse))\n",
    "  infReps <- assays(tse)[infRepIdx]\n",
    "  infRepsArray <- abind::abind(as.list(infReps), along=3)\n",
    "  dims <- dim(infRepsArray)\n",
    "    \n",
    "  cond1 <- condition == levels(condition)[1]\n",
    "  cond2 <- condition == levels(condition)[2]\n",
    "\n",
    "  diffs <- matrix(nrow=dims[1],ncol=dims[3])\n",
    "  for (k in seq_len(dims[3])) {\n",
    "    diffs[,k] <- log2(rowMeans(infRepsArray[,cond2,k]) + pc) -\n",
    "                 log2(rowMeans(infRepsArray[,cond1,k]) + pc)\n",
    "  }\n",
    "  if (array) {\n",
    "    return(diffs)\n",
    "  }\n",
    "  # median over inferential replicates\n",
    "  rowMedians(diffs)\n",
    "}"
   ]
  },
  {
   "cell_type": "code",
   "execution_count": 26,
   "id": "459c5328",
   "metadata": {},
   "outputs": [
    {
     "name": "stderr",
     "output_type": "stream",
     "text": [
      "Setting inf rep depth to mean depth\n",
      "\n"
     ]
    },
    {
     "name": "stdout",
     "output_type": "stream",
     "text": [
      "Progress:   1 on 100Progress:   2 on 100Progress:   3 on 100Progress:   4 on 100Progress:   5 on 100Progress:   6 on 100Progress:   7 on 100Progress:   8 on 100Progress:   9 on 100Progress:  10 on 100Progress:  11 on 100Progress:  12 on 100Progress:  13 on 100Progress:  14 on 100Progress:  15 on 100Progress:  16 on 100Progress:  17 on 100Progress:  18 on 100Progress:  19 on 100Progress:  20 on 100Progress:  21 on 100Progress:  22 on 100Progress:  23 on 100Progress:  24 on 100Progress:  25 on 100Progress:  26 on 100Progress:  27 on 100Progress:  28 on 100Progress:  29 on 100Progress:  30 on 100Progress:  31 on 100Progress:  32 on 100Progress:  33 on 100Progress:  34 on 100Progress:  35 on 100Progress:  36 on 100Progress:  37 on 100Progress:  38 on 100Progress:  39 on 100Progress:  40 on 100Progress:  41 on 100Progress:  42 on 100Progress:  43 on 100Progress:  44 on 100Progress:  45 on 100Progress:  46 on 100Progress:  47 on 100Progress:  48 on 100Progress:  49 on 100Progress:  50 on 100Progress:  51 on 100Progress:  52 on 100Progress:  53 on 100Progress:  54 on 100Progress:  55 on 100Progress:  56 on 100Progress:  57 on 100Progress:  58 on 100Progress:  59 on 100Progress:  60 on 100Progress:  61 on 100Progress:  62 on 100Progress:  63 on 100Progress:  64 on 100Progress:  65 on 100Progress:  66 on 100Progress:  67 on 100Progress:  68 on 100Progress:  69 on 100Progress:  70 on 100Progress:  71 on 100Progress:  72 on 100Progress:  73 on 100Progress:  74 on 100Progress:  75 on 100Progress:  76 on 100Progress:  77 on 100Progress:  78 on 100Progress:  79 on 100Progress:  80 on 100Progress:  81 on 100Progress:  82 on 100Progress:  83 on 100Progress:  84 on 100Progress:  85 on 100Progress:  86 on 100Progress:  87 on 100Progress:  88 on 100Progress:  89 on 100Progress:  90 on 100Progress:  91 on 100Progress:  92 on 100Progress:  93 on 100Progress:  94 on 100Progress:  95 on 100Progress:  96 on 100Progress:  97 on 100Progress:  98 on 100Progress:  99 on 100Progress: 100 on 100  "
     ]
    },
    {
     "name": "stderr",
     "output_type": "stream",
     "text": [
      "\n",
      "\n"
     ]
    }
   ],
   "source": [
    "tse <- computeSizeFactors(tse, type=\"txp\")\n",
    "tse <- scaleInfReps(tse)\n",
    "lfc <- getLog2FC(tse, colData(tse)[[\"condition\"]])\n",
    "descSize <- sapply(phangorn::Descendants(tree, seq(nrow(tse))), length)\n",
    "metric <- abs(lfc)/mcols(tse)[['meanInfRV']]\n",
    "objS <- solveForOptimalCut(tse, metVec = metric, type = 'max')\n",
    "cuts[[\"LFC\"]] <- objS[[\"cut\"]]"
   ]
  },
  {
   "cell_type": "code",
   "execution_count": 27,
   "id": "ae76f07e",
   "metadata": {},
   "outputs": [],
   "source": [
    "y <- temp[sort(cuts[[\"LFC\"]]),]\n",
    "y <- fishpond::scaleInfReps(y)\n",
    "y <- labelKeep(y)\n",
    "set.seed(1)\n",
    "y <- swish(y, x=\"condition\")\n",
    "\n",
    "detNodes[[\"LFC\"]] <- lapply(c(0.01, 0.05, 0.1), function(x) {\n",
    "    nodes <- rownames(y)[which(mcols(y)[,\"qvalue\"] <= x)]\n",
    "    match(nodes, names(logFCNodes))\n",
    "})\n",
    "negNodes[[\"LFC\"]] <- lapply(c(0.01, 0.05, 0.1), function(x) {\n",
    "        nodes <- rownames(y)[setdiff(seq(nrow(y)), which(mcols(y)[,\"qvalue\"] <= x))]\n",
    "        match(nodes, names(logFCNodes))\n",
    "})"
   ]
  },
  {
   "cell_type": "markdown",
   "id": "d2603245",
   "metadata": {},
   "source": [
    "#### TPM LFC Desc"
   ]
  },
  {
   "cell_type": "code",
   "execution_count": 28,
   "id": "cd32f5a7",
   "metadata": {},
   "outputs": [],
   "source": [
    "lfcTPM <- getScaledLFC(temp, \"condition\")\n",
    "metric <- abs(lfcTPM)/mcols(tse)[['meanInfRV']]*descSize\n",
    "objS <- solveForOptimalCut(tse, metVec = metric, type = 'max')\n",
    "cuts[[\"lfcTPMDesc\"]] <- objS[[\"cut\"]]\n",
    "y <- temp[sort(cuts[[\"lfcTPMDesc\"]]),]\n",
    "y <- fishpond::scaleInfReps(y)\n",
    "y <- labelKeep(y)\n",
    "set.seed(1)\n",
    "y <- swish(y, x=\"condition\")\n",
    "\n",
    "detNodes[[\"lfcTPMDesc\"]] <- lapply(c(0.01, 0.05, 0.1), function(x) {\n",
    "    nodes <- rownames(y)[which(mcols(y)[,\"qvalue\"] <= x)]\n",
    "    match(nodes, names(logFCNodes))\n",
    "})\n",
    "negNodes[[\"lfcTPMDesc\"]] <- lapply(c(0.01, 0.05, 0.1), function(x) {\n",
    "        nodes <- rownames(y)[setdiff(seq(nrow(y)), which(mcols(y)[,\"qvalue\"] <= x))]\n",
    "        match(nodes, names(logFCNodes))\n",
    "    })"
   ]
  },
  {
   "cell_type": "markdown",
   "id": "05f85c53",
   "metadata": {},
   "source": [
    "#### TPM LFC"
   ]
  },
  {
   "cell_type": "code",
   "execution_count": 33,
   "id": "a90240b4",
   "metadata": {},
   "outputs": [],
   "source": [
    "# lfcTPM <- getScaledLFC(temp, \"condition\")\n",
    "# metric <- abs(lfcTPM)/mcols(tse)[['meanInfRV']]\n",
    "# objS <- solveForOptimalCut(tse, metVec = metric, type = 'max')\n",
    "# cuts[[\"lfcTPM\"]] <- objS[[\"cut\"]]\n",
    "y <- temp[sort(cuts[[\"lfcTPM\"]]),]\n",
    "y <- fishpond::scaleInfReps(y)\n",
    "y <- labelKeep(y)\n",
    "set.seed(1)\n",
    "y <- swish(y, x=\"condition\")\n",
    "\n",
    "detNodes[[\"lfcTPM\"]] <- lapply(c(0.01, 0.05, 0.1), function(x) {\n",
    "    nodes <- rownames(y)[which(mcols(y)[,\"qvalue\"] <= x)]\n",
    "    match(nodes, names(logFCNodes))\n",
    "})\n",
    "negNodes[[\"lfcTPM\"]] <- lapply(c(0.01, 0.05, 0.1), function(x) {\n",
    "        nodes <- rownames(y)[setdiff(seq(nrow(y)), which(mcols(y)[,\"qvalue\"] <= x))]\n",
    "        match(nodes, names(logFCNodes))\n",
    "    })"
   ]
  },
  {
   "cell_type": "code",
   "execution_count": 34,
   "id": "a49f476f",
   "metadata": {},
   "outputs": [
    {
     "name": "stdout",
     "output_type": "stream",
     "text": [
      "[1] \"Txps\"\n",
      "[1] \"tp 0.991852254209669\"\n",
      "[1] \"tp 0.960747071858183\"\n",
      "[1] \"tp 0.92046332046332\"\n",
      "[1] \"irv_height_0.05\"\n",
      "[1] \"tp 0.994401679496151\"\n",
      "[1] \"tp 0.969097054563013\"\n",
      "[1] \"tp 0.930008045052293\"\n",
      "[1] \"irv_height_0.1\"\n",
      "[1] \"tp 0.994659546061415\"\n",
      "[1] \"tp 0.967406066093255\"\n",
      "[1] \"tp 0.928517964071856\"\n",
      "[1] \"irv_height_1\"\n",
      "[1] \"tp 0.998225377107365\"\n",
      "[1] \"tp 0.970499243570348\"\n",
      "[1] \"tp 0.930379746835443\"\n",
      "[1] \"irv_height_5\"\n",
      "[1] \"tp 0.993513513513513\"\n",
      "[1] \"tp 0.961702127659574\"\n",
      "[1] \"tp 0.919787516600266\"\n",
      "[1] \"irv_height_10\"\n",
      "[1] \"tp 0.99906629318394\"\n",
      "[1] \"tp 0.971338692764768\"\n",
      "[1] \"tp 0.93026423317897\"\n",
      "[1] \"LFC\"\n",
      "[1] \"tp 0.991973244147157\"\n",
      "[1] \"tp 0.963794683776352\"\n",
      "[1] \"tp 0.917834153729648\"\n",
      "[1] \"lfcTPMDesc\"\n",
      "[1] \"tp 0.994772218073189\"\n",
      "[1] \"tp 0.959728033472803\"\n",
      "[1] \"tp 0.919133893062307\"\n",
      "[1] \"lfcTPM\"\n",
      "[1] \"tp 0.993931220498989\"\n",
      "[1] \"tp 0.96228150873965\"\n",
      "[1] \"tp 0.917620137299771\"\n",
      "              Method Metric     FDR_0.01   FDR_0.05   FDR_0.10\n",
      "fdr             Txps    FDR  0.008147746 0.03925293 0.07953668\n",
      "tpr             Txps    TPR    0.2080201  0.3457507  0.4073821\n",
      "fdr1 irv_height_0.05    FDR  0.005598321 0.03090295 0.06999195\n",
      "tpr1 irv_height_0.05    TPR    0.2795043  0.3947679    0.45476\n",
      "fdr2  irv_height_0.1    FDR  0.005340454 0.03259393 0.07148204\n",
      "tpr2  irv_height_0.1    TPR    0.2688075  0.3855313  0.4475916\n",
      "fdr3    irv_height_1    FDR  0.001774623 0.02950076 0.06962025\n",
      "tpr3    irv_height_1    TPR    0.1521092  0.3469443  0.4173878\n",
      "fdr4    irv_height_5    FDR  0.006486486 0.03829787 0.08021248\n",
      "tpr4    irv_height_5    TPR    0.2194365  0.3507641  0.4134432\n",
      "fdr5   irv_height_10    FDR 0.0009337068 0.02866131 0.06973577\n",
      "tpr5   irv_height_10    TPR    0.1243174  0.3228767  0.3967701\n",
      "fdr6             LFC    FDR  0.008026756 0.03620532 0.08216585\n",
      "tpr6             LFC    TPR    0.2830153  0.4013359  0.4625954\n",
      "fdr7      lfcTPMDesc    FDR  0.005227782 0.04027197 0.08086611\n",
      "tpr7      lfcTPMDesc    TPR    0.3306852  0.4555611  0.5163853\n",
      "fdr8          lfcTPM    FDR   0.00606878 0.03771849 0.08237986\n",
      "tpr8          lfcTPM    TPR    0.2811904  0.3990843  0.4589851\n"
     ]
    }
   ],
   "source": [
    "df <- data.frame(Method=character(), Metric=character(), FDR_0.01 = numeric(), FDR_0.05 = numeric(), FDR_0.10 = numeric())\n",
    "for(n in names(detNodes))\n",
    "{\n",
    "    if(!n%in%c(\"term\", \"Genes\")) {\n",
    "        print(n)\n",
    "        stats <-  sapply(seq_along(detNodes[[n]]), function(i) computeMetOut(detNodes[[n]][[i]], logFCNodes, tree = tree, negNodes = negNodes[[n]][[i]], lfcThresh = rootFC))\n",
    "        colnames(stats) <- colnames(df)[c(3:5)]\n",
    "        stats <- cbind(Method=rep(n,2), Metric = c(\"FDR\", \"TPR\"), stats)\n",
    "        df <- rbind(df, stats)\n",
    "        \n",
    "    }\n",
    "    \n",
    "}\n",
    "print(df)"
   ]
  },
  {
   "cell_type": "markdown",
   "id": "cbe3bdd2",
   "metadata": {},
   "source": [
    "#### Parse Terminus"
   ]
  },
  {
   "cell_type": "code",
   "execution_count": 35,
   "id": "efa77bf7",
   "metadata": {},
   "outputs": [
    {
     "name": "stderr",
     "output_type": "stream",
     "text": [
      "importing quantifications\n",
      "\n",
      "reading in files with read_tsv\n",
      "\n",
      "1 \n",
      "2 \n",
      "3 \n",
      "4 \n",
      "5 \n",
      "6 \n",
      "7 \n",
      "8 \n",
      "9 \n",
      "10 \n",
      "11 \n",
      "12 \n",
      "\n",
      "\n",
      "found matching transcriptome:\n",
      "[ GENCODE - Homo sapiens - release 26 ]\n",
      "\n",
      "loading existing TxDb created: 2022-08-19 22:12:59\n",
      "\n",
      "loading existing transcript ranges created: 2022-08-19 22:13:01\n",
      "\n"
     ]
    },
    {
     "data": {
      "text/html": [
       "<style>\n",
       ".list-inline {list-style: none; margin:0; padding: 0}\n",
       ".list-inline>li {display: inline-block}\n",
       ".list-inline>li:not(:last-child)::after {content: \"\\00b7\"; padding: 0 .5ex}\n",
       "</style>\n",
       "<ol class=list-inline><li>130620</li><li>12</li></ol>\n"
      ],
      "text/latex": [
       "\\begin{enumerate*}\n",
       "\\item 130620\n",
       "\\item 12\n",
       "\\end{enumerate*}\n"
      ],
      "text/markdown": [
       "1. 130620\n",
       "2. 12\n",
       "\n",
       "\n"
      ],
      "text/plain": [
       "[1] 130620     12"
      ]
     },
     "metadata": {},
     "output_type": "display_data"
    }
   ],
   "source": [
    "suppressPackageStartupMessages(source(\"old_terminus_helper.R\"))\n",
    "dir <- \"/fs/cbcb-lab/rob/students/noor/Uncertainity/brain_sim_nodtu_lowfc/mode=gc_bias/post_type=gibbs_nrep=100_tf=100/terminus/\"\n",
    "seBrainSim <- tximeta(coldata)\n",
    "yTermThrNS <- seBrainSim[rownames(tse)[1:l],]\n",
    "groupsClust <- parseClustFile(file.path(dir, \"old\", \"1_1\", \"clusters.txt\"), yTermThrNS)\n",
    "mInds <- seq(nrow(yTermThrNS) + length(groupsClust))\n",
    "yAggTermThrNS <- prepOSwish(yTermThrNS, mInds, groupsClust)\n",
    "\n",
    "rownames(yAggTermThrNS)[l+1:length(groupsClust)] <- paste(\"Node\", as.character(l+1:length(groupsClust)),sep=\"\")\n",
    "metadata(yAggTermThrNS)[[\"txpsAnn\"]] <- rowData(yTermThrNS)\n",
    "yAggTermThrNS <- yAggTermThrNS[-unlist(groupsClust),]\n",
    "dim(yAggTermThrNS)"
   ]
  },
  {
   "cell_type": "code",
   "execution_count": 36,
   "id": "466494f9",
   "metadata": {},
   "outputs": [],
   "source": [
    "aggCountsNodes <- computeOAggNodesU(groupsClust, mInds, sim.counts.mat)\n",
    "logFCNodesTerm <- ifelse(rowSums(aggCountsNodes)==0, 0, log2(aggCountsNodes[,2]+1)-log2(aggCountsNodes[,1]+1))\n",
    "names(logFCNodesTerm)[(l+1):length(logFCNodesTerm)] <- paste(\"Node\", names(logFCNodesTerm)[(l+1):length(logFCNodesTerm)], sep=\"\")\n"
   ]
  },
  {
   "cell_type": "code",
   "execution_count": 37,
   "id": "98b6cd7f",
   "metadata": {},
   "outputs": [],
   "source": [
    "yAggTermThrNS <- fishpond::scaleInfReps(yAggTermThrNS)\n",
    "yAggTermThrNS <- labelKeep(yAggTermThrNS)\n",
    "set.seed(1)\n",
    "yAggTermThrNS <- swish(yAggTermThrNS, x=\"condition\")"
   ]
  },
  {
   "cell_type": "code",
   "execution_count": 38,
   "id": "2981b281",
   "metadata": {},
   "outputs": [
    {
     "name": "stdout",
     "output_type": "stream",
     "text": [
      "[1] \"tp 0.992864983534577\"\n",
      "[1] \"tp 0.961667787491594\"\n",
      "[1] \"tp 0.920218579234973\"\n"
     ]
    }
   ],
   "source": [
    "detNodes[[\"term\"]] <- lapply(c(0.01, 0.05, 0.1), function(x) {\n",
    "        nodes <- rownames(yAggTermThrNS)[which(mcols(yAggTermThrNS)[,\"qvalue\"] <= x)]\n",
    "        match(nodes, names(logFCNodesTerm))\n",
    "    })\n",
    "negNodes[[\"term\"]] <- lapply(c(0.01, 0.05, 0.1), function(x) {\n",
    "        nodes <- rownames(yAggTermThrNS)[setdiff(seq(nrow(yAggTermThrNS)),\n",
    "                                                 which(mcols(yAggTermThrNS)[,\"qvalue\"] <= x))]\n",
    "        match(nodes, names(logFCNodesTerm))\n",
    "    })\n",
    "stats <-  sapply(seq_along(detNodes[[\"term\"]]), function(i) computeMetOut(detNodes[[\"term\"]][[i]], \n",
    "                                                                          logFCNodesTerm, tree = NULL, \n",
    "                                                                          negNodes = negNodes[[\"term\"]][[i]],\n",
    "                                                                          lfcThresh = rootFC))\n",
    "colnames(stats) <- colnames(df)[c(3:5)]\n",
    "stats <- cbind(Method=rep(\"term\",2), Metric = c(\"FDR\", \"TPR\"), stats)\n",
    "df <- rbind(df, stats)\n"
   ]
  },
  {
   "cell_type": "code",
   "execution_count": 39,
   "id": "6dbaa560",
   "metadata": {},
   "outputs": [
    {
     "data": {
      "text/html": [
       "4122"
      ],
      "text/latex": [
       "4122"
      ],
      "text/markdown": [
       "4122"
      ],
      "text/plain": [
       "[1] 4122"
      ]
     },
     "metadata": {},
     "output_type": "display_data"
    },
    {
     "data": {
      "text/html": [
       "4097"
      ],
      "text/latex": [
       "4097"
      ],
      "text/markdown": [
       "4097"
      ],
      "text/plain": [
       "[1] 4097"
      ]
     },
     "metadata": {},
     "output_type": "display_data"
    },
    {
     "data": {
      "text/html": [
       "4122"
      ],
      "text/latex": [
       "4122"
      ],
      "text/markdown": [
       "4122"
      ],
      "text/plain": [
       "[1] 4122"
      ]
     },
     "metadata": {},
     "output_type": "display_data"
    }
   ],
   "source": [
    "dg <- union(dge.genes, dte.genes)\n",
    "length(dg)\n",
    "sum(dg %in% rownames(gse))\n",
    "dge.genes <- intersect(dge.genes, rownames(gse))\n",
    "tG <- match(dg, rownames(gse))\n",
    "length(tG)\n",
    "stats <- sapply(detNodes[[\"Genes\"]], function(genes) {\n",
    "    computeTPFP(tG, genes, seq(nrow(gse)), seq(nrow(gse)))\n",
    "})\n",
    "colnames(stats) <- colnames(df)[c(3:5)]\n",
    "stats <- cbind(Method=rep(\"Gene\",2), Metric = c(\"FDR\", \"TPR\"), stats)\n",
    "df <- rbind(df, stats)"
   ]
  },
  {
   "cell_type": "code",
   "execution_count": 40,
   "id": "7f165ca6",
   "metadata": {},
   "outputs": [
    {
     "data": {
      "text/html": [
       "<table class=\"dataframe\">\n",
       "<caption>A tibble: 11 × 7</caption>\n",
       "<thead>\n",
       "\t<tr><th scope=col>Method</th><th scope=col>0.01_FDR</th><th scope=col>0.05_FDR</th><th scope=col>0.1_FDR</th><th scope=col>0.01_TPR</th><th scope=col>0.05_TPR</th><th scope=col>0.1_TPR</th></tr>\n",
       "\t<tr><th scope=col>&lt;named list&gt;</th><th scope=col>&lt;dbl&gt;</th><th scope=col>&lt;dbl&gt;</th><th scope=col>&lt;dbl&gt;</th><th scope=col>&lt;dbl&gt;</th><th scope=col>&lt;dbl&gt;</th><th scope=col>&lt;dbl&gt;</th></tr>\n",
       "</thead>\n",
       "<tbody>\n",
       "\t<tr><td>Txps</td><td>0.008</td><td>0.039</td><td>0.080</td><td>0.208</td><td>0.346</td><td>0.407</td></tr>\n",
       "\t<tr><td>irv_height_0.05</td><td>0.006</td><td>0.031</td><td>0.070</td><td>0.280</td><td>0.395</td><td>0.455</td></tr>\n",
       "\t<tr><td>irv_height_0.1</td><td>0.005</td><td>0.033</td><td>0.071</td><td>0.269</td><td>0.386</td><td>0.448</td></tr>\n",
       "\t<tr><td>irv_height_1</td><td>0.002</td><td>0.030</td><td>0.070</td><td>0.152</td><td>0.347</td><td>0.417</td></tr>\n",
       "\t<tr><td>irv_height_5</td><td>0.006</td><td>0.038</td><td>0.080</td><td>0.219</td><td>0.351</td><td>0.413</td></tr>\n",
       "\t<tr><td>irv_height_10</td><td>0.001</td><td>0.029</td><td>0.070</td><td>0.124</td><td>0.323</td><td>0.397</td></tr>\n",
       "\t<tr><td>LFC</td><td>0.008</td><td>0.036</td><td>0.082</td><td>0.283</td><td>0.401</td><td>0.463</td></tr>\n",
       "\t<tr><td>lfcTPMDesc</td><td>0.005</td><td>0.040</td><td>0.081</td><td>0.331</td><td>0.456</td><td>0.516</td></tr>\n",
       "\t<tr><td>lfcTPM</td><td>0.006</td><td>0.038</td><td>0.082</td><td>0.281</td><td>0.399</td><td>0.459</td></tr>\n",
       "\t<tr><td>term</td><td>0.007</td><td>0.038</td><td>0.080</td><td>0.223</td><td>0.352</td><td>0.415</td></tr>\n",
       "\t<tr><td>Gene</td><td>0.002</td><td>0.025</td><td>0.061</td><td>0.255</td><td>0.413</td><td>0.491</td></tr>\n",
       "</tbody>\n",
       "</table>\n"
      ],
      "text/latex": [
       "A tibble: 11 × 7\n",
       "\\begin{tabular}{lllllll}\n",
       " Method & 0.01\\_FDR & 0.05\\_FDR & 0.1\\_FDR & 0.01\\_TPR & 0.05\\_TPR & 0.1\\_TPR\\\\\n",
       " <named list> & <dbl> & <dbl> & <dbl> & <dbl> & <dbl> & <dbl>\\\\\n",
       "\\hline\n",
       "\t Txps & 0.008 & 0.039 & 0.080 & 0.208 & 0.346 & 0.407\\\\\n",
       "\t irv\\_height\\_0.05 & 0.006 & 0.031 & 0.070 & 0.280 & 0.395 & 0.455\\\\\n",
       "\t irv\\_height\\_0.1 & 0.005 & 0.033 & 0.071 & 0.269 & 0.386 & 0.448\\\\\n",
       "\t irv\\_height\\_1 & 0.002 & 0.030 & 0.070 & 0.152 & 0.347 & 0.417\\\\\n",
       "\t irv\\_height\\_5 & 0.006 & 0.038 & 0.080 & 0.219 & 0.351 & 0.413\\\\\n",
       "\t irv\\_height\\_10 & 0.001 & 0.029 & 0.070 & 0.124 & 0.323 & 0.397\\\\\n",
       "\t LFC & 0.008 & 0.036 & 0.082 & 0.283 & 0.401 & 0.463\\\\\n",
       "\t lfcTPMDesc & 0.005 & 0.040 & 0.081 & 0.331 & 0.456 & 0.516\\\\\n",
       "\t lfcTPM & 0.006 & 0.038 & 0.082 & 0.281 & 0.399 & 0.459\\\\\n",
       "\t term & 0.007 & 0.038 & 0.080 & 0.223 & 0.352 & 0.415\\\\\n",
       "\t Gene & 0.002 & 0.025 & 0.061 & 0.255 & 0.413 & 0.491\\\\\n",
       "\\end{tabular}\n"
      ],
      "text/markdown": [
       "\n",
       "A tibble: 11 × 7\n",
       "\n",
       "| Method &lt;named list&gt; | 0.01_FDR &lt;dbl&gt; | 0.05_FDR &lt;dbl&gt; | 0.1_FDR &lt;dbl&gt; | 0.01_TPR &lt;dbl&gt; | 0.05_TPR &lt;dbl&gt; | 0.1_TPR &lt;dbl&gt; |\n",
       "|---|---|---|---|---|---|---|\n",
       "| Txps | 0.008 | 0.039 | 0.080 | 0.208 | 0.346 | 0.407 |\n",
       "| irv_height_0.05 | 0.006 | 0.031 | 0.070 | 0.280 | 0.395 | 0.455 |\n",
       "| irv_height_0.1 | 0.005 | 0.033 | 0.071 | 0.269 | 0.386 | 0.448 |\n",
       "| irv_height_1 | 0.002 | 0.030 | 0.070 | 0.152 | 0.347 | 0.417 |\n",
       "| irv_height_5 | 0.006 | 0.038 | 0.080 | 0.219 | 0.351 | 0.413 |\n",
       "| irv_height_10 | 0.001 | 0.029 | 0.070 | 0.124 | 0.323 | 0.397 |\n",
       "| LFC | 0.008 | 0.036 | 0.082 | 0.283 | 0.401 | 0.463 |\n",
       "| lfcTPMDesc | 0.005 | 0.040 | 0.081 | 0.331 | 0.456 | 0.516 |\n",
       "| lfcTPM | 0.006 | 0.038 | 0.082 | 0.281 | 0.399 | 0.459 |\n",
       "| term | 0.007 | 0.038 | 0.080 | 0.223 | 0.352 | 0.415 |\n",
       "| Gene | 0.002 | 0.025 | 0.061 | 0.255 | 0.413 | 0.491 |\n",
       "\n"
      ],
      "text/plain": [
       "   Method          0.01_FDR 0.05_FDR 0.1_FDR 0.01_TPR 0.05_TPR 0.1_TPR\n",
       "1  Txps            0.008    0.039    0.080   0.208    0.346    0.407  \n",
       "2  irv_height_0.05 0.006    0.031    0.070   0.280    0.395    0.455  \n",
       "3  irv_height_0.1  0.005    0.033    0.071   0.269    0.386    0.448  \n",
       "4  irv_height_1    0.002    0.030    0.070   0.152    0.347    0.417  \n",
       "5  irv_height_5    0.006    0.038    0.080   0.219    0.351    0.413  \n",
       "6  irv_height_10   0.001    0.029    0.070   0.124    0.323    0.397  \n",
       "7  LFC             0.008    0.036    0.082   0.283    0.401    0.463  \n",
       "8  lfcTPMDesc      0.005    0.040    0.081   0.331    0.456    0.516  \n",
       "9  lfcTPM          0.006    0.038    0.082   0.281    0.399    0.459  \n",
       "10 term            0.007    0.038    0.080   0.223    0.352    0.415  \n",
       "11 Gene            0.002    0.025    0.061   0.255    0.413    0.491  "
      ]
     },
     "metadata": {},
     "output_type": "display_data"
    }
   ],
   "source": [
    "suppressPackageStartupMessages(library(tidyr))\n",
    "dfA <- df %>% pivot_wider(names_from = Metric, values_from = c(3:5))\n",
    "dfA <- dfA[,c(1,seq(2,7,2),seq(3,7,2))]\n",
    "colnames(dfA)[c(2:7)] <- as.vector(outer(c(0.01,0.05,0.1), c(\"FDR\",\"TPR\"), function(x,y) paste(x,y,sep=\"_\")))\n",
    "for(i in seq(ncol(dfA)-1))\n",
    "    dfA[,i+1] <- round(as.numeric(unlist(dfA[,i+1])),3)\n",
    "dfA"
   ]
  },
  {
   "cell_type": "code",
   "execution_count": null,
   "id": "22b6ef32",
   "metadata": {},
   "outputs": [],
   "source": [
    "sum(cuts$irv_height_0.05 > l)"
   ]
  },
  {
   "cell_type": "code",
   "execution_count": null,
   "id": "e5818349",
   "metadata": {},
   "outputs": [],
   "source": [
    "length(unlist(groupsClust))"
   ]
  },
  {
   "cell_type": "code",
   "execution_count": 41,
   "id": "d70270f9",
   "metadata": {},
   "outputs": [],
   "source": [
    "saveDir <- \"environment/brain_sim_nodtu_lowfc/mode=gc_bias/post_type=gibbs_nrep=100_tf=100/comp_trees/DE\"\n",
    "save(negNodes, file = file.path(saveDir, \"negNodesMean.RData\"))\n",
    "save(detNodes, file = file.path(saveDir, \"detNodesMean.RData\"))\n",
    "save(cuts, file=file.path(saveDir, \"cutsMean.RData\"))\n",
    "save(df, file=file.path(saveDir, \"dfMean.RData\"))"
   ]
  },
  {
   "cell_type": "code",
   "execution_count": null,
   "id": "efbb99e3",
   "metadata": {},
   "outputs": [],
   "source": [
    "suppressPackageStartupMessages(library(tidyr))\n",
    "suppressPackageStartupMessages(library(ggplot2))\n",
    "suppressPackageStartupMessages(library(ggpubr))\n",
    "load(file=file.path(saveDir, \"dfCons.RData\"))\n",
    "dfB <- cbind(gather(df[seq(1, nrow(df), 2),], key = \"NFDR\", value = \"FDR\", 3:5),\n",
    "gather(df[seq(2, nrow(df), 2),], key = \"NFDR\", value = \"TPR\", 3:5))\n",
    "dfB <- dfB[, c(1,3,4,8)]\n",
    "dfB[[\"meetCriteria\"]] <- rep(FALSE, nrow(dfB))\n",
    "l <- length(unique(df$Method))\n",
    "for(i in seq(3)) {\n",
    "    start <- (i-1)*l+1\n",
    "    end <- start+l-1\n",
    "    dfB$meetCriteria[start:end] <- dfB$FDR[start:end] <= c(0.01,0.05,0.1)[i]\n",
    "}\n",
    "\n",
    "dfB <- data.frame(do.call(cbind, lapply(dfB, unlist)))\n",
    "dfB[,c(3)] <- as.numeric(dfB[,c(3)])\n",
    "dfB[,c(4)] <- as.numeric(dfB[,c(4)])\n",
    "dfB"
   ]
  },
  {
   "cell_type": "code",
   "execution_count": null,
   "id": "936e03b0",
   "metadata": {},
   "outputs": [],
   "source": [
    "options(repr.plot.width=15, repr.plot.height=10)\n",
    "size <- 20\n",
    "pMean <- ggplot(dfB, aes(x = FDR, y = TPR, \n",
    "                             color = Method,\n",
    "                             fill = ifelse(meetCriteria, Method, NA))) + \n",
    "                geom_point(size=5,shape=21) + \n",
    "                scale_fill_discrete(na.value = \"transparent\") +\n",
    "                geom_line() +\n",
    "                theme_bw() +\n",
    "                geom_vline(xintercept = c(0.01, 0.05, 0.1), linetype = \"dashed\") +\n",
    "                ggtitle(\"BrSimNorm Dataset\") +\n",
    "                theme(axis.title = element_text(size = size),\n",
    "                plot.title = element_text(size = size + 1, hjust=0.5),\n",
    "                axis.text = element_text(size = size),\n",
    "                legend.text = element_text(size = size),\n",
    "                legend.title = element_text(size = size),\n",
    "                legend.position = \"bottom\") +\n",
    "                guides(fill = \"none\")\n",
    "pCons"
   ]
  },
  {
   "cell_type": "code",
   "execution_count": 42,
   "id": "8fc41e53",
   "metadata": {},
   "outputs": [],
   "source": [
    "negNodesDesc <- list()\n",
    "for(n in names(negNodes)) {\n",
    "    if(n == \"Swish\")\n",
    "        negNodesDesc[[n]] <- negNodes[[n]]\n",
    "    if(n != \"term\")\n",
    "        negNodesDesc[[n]] <- lapply(negNodes[[n]], function(x) unlist(Descendants(tree, x)))\n",
    "}\n",
    "negNodesDesc[[\"term\"]] <- lapply(negNodes[[\"term\"]], function(x) {\n",
    "    dd <- x[x>l]\n",
    "    r <- setdiff(x, dd)\n",
    "    dd <- dd - l\n",
    "    c(unlist(groupsClust[dd]), r) \n",
    "})"
   ]
  },
  {
   "cell_type": "code",
   "execution_count": null,
   "id": "ad3b1362",
   "metadata": {},
   "outputs": [],
   "source": [
    "sapply(negNodes[[\"lfcTPM\"]],length)\n",
    "sapply(negNodesDesc[[\"lfcTPM\"]],length)\n"
   ]
  },
  {
   "cell_type": "code",
   "execution_count": 43,
   "id": "391dd6c0",
   "metadata": {},
   "outputs": [
    {
     "name": "stdout",
     "output_type": "stream",
     "text": [
      "[1] \"Txps\"\n",
      "[1] \"tp 0.991852254209669\"\n",
      "[1] \"tp 0.960747071858183\"\n",
      "[1] \"tp 0.92046332046332\"\n",
      "[1] \"Genes\"\n",
      "[1] \"irv_height_0.05\"\n",
      "[1] \"tp 0.994401679496151\"\n",
      "[1] \"tp 0.969097054563013\"\n",
      "[1] \"tp 0.930008045052293\"\n",
      "[1] \"irv_height_0.1\"\n",
      "[1] \"tp 0.994659546061415\"\n",
      "[1] \"tp 0.967406066093255\"\n",
      "[1] \"tp 0.928517964071856\"\n",
      "[1] \"irv_height_1\"\n",
      "[1] \"tp 0.998225377107365\"\n",
      "[1] \"tp 0.970499243570348\"\n",
      "[1] \"tp 0.930379746835443\"\n",
      "[1] \"irv_height_5\"\n",
      "[1] \"tp 0.993513513513513\"\n",
      "[1] \"tp 0.961702127659574\"\n",
      "[1] \"tp 0.919787516600266\"\n",
      "[1] \"irv_height_10\"\n",
      "[1] \"tp 0.99906629318394\"\n",
      "[1] \"tp 0.971338692764768\"\n",
      "[1] \"tp 0.93026423317897\"\n",
      "[1] \"LFC\"\n",
      "[1] \"tp 0.991973244147157\"\n",
      "[1] \"tp 0.963794683776352\"\n",
      "[1] \"tp 0.917834153729648\"\n",
      "[1] \"lfcTPMDesc\"\n",
      "[1] \"tp 0.994772218073189\"\n",
      "[1] \"tp 0.959728033472803\"\n",
      "[1] \"tp 0.919133893062307\"\n",
      "[1] \"lfcTPM\"\n",
      "[1] \"tp 0.993931220498989\"\n",
      "[1] \"tp 0.96228150873965\"\n",
      "[1] \"tp 0.917620137299771\"\n",
      "[1] \"term\"\n",
      "[1] \"tp 0.992864983534577\"\n",
      "[1] \"tp 0.961667787491594\"\n",
      "[1] \"tp 0.920218579234973\"\n",
      "               Method Metric     FDR_0.01   FDR_0.05   FDR_0.10\n",
      "fdr              Txps    FDR  0.008147746 0.03925293 0.07953668\n",
      "tpr              Txps    TPR    0.2080201  0.3457507  0.4073821\n",
      "fdr1  irv_height_0.05    FDR  0.005598321 0.03090295 0.06999195\n",
      "tpr1  irv_height_0.05    TPR    0.2287508  0.3410365   0.402017\n",
      "fdr2   irv_height_0.1    FDR  0.005340454 0.03259393 0.07148204\n",
      "tpr2   irv_height_0.1    TPR    0.2275504  0.3419747  0.4044669\n",
      "fdr3     irv_height_1    FDR  0.001774623 0.02950076 0.06962025\n",
      "tpr3     irv_height_1    TPR    0.1397342  0.3325126  0.4034239\n",
      "fdr4     irv_height_5    FDR  0.006486486 0.03829787 0.08021248\n",
      "tpr4     irv_height_5    TPR    0.2163626   0.347857   0.410454\n",
      "fdr5    irv_height_10    FDR 0.0009337068 0.02866131 0.06973577\n",
      "tpr5    irv_height_10    TPR      0.12313  0.3213831  0.3954835\n",
      "fdr6              LFC    FDR  0.008026756 0.03620532 0.08216585\n",
      "tpr6              LFC    TPR    0.2389623  0.3580184  0.4209795\n",
      "fdr7       lfcTPMDesc    FDR  0.005227782 0.04027197 0.08086611\n",
      "tpr7       lfcTPMDesc    TPR    0.2396977  0.3640151  0.4278075\n",
      "fdr8           lfcTPM    FDR   0.00606878 0.03771849 0.08237986\n",
      "tpr8           lfcTPM    TPR    0.2372063  0.3554196  0.4165512\n",
      "fdr9             term    FDR  0.007135016 0.03833221 0.07978142\n",
      "tpr9             term    TPR    0.2178731  0.3473825  0.4100816\n",
      "fdr10           Genes    FDR  0.001908397 0.02533103 0.06110075\n",
      "tpr10           Genes    TPR    0.2553088  0.4132292  0.4913351\n"
     ]
    }
   ],
   "source": [
    "dfO <- data.frame(Method=character(), Metric=character(), FDR_0.01 = numeric(), FDR_0.05 = numeric(), FDR_0.10 = numeric())\n",
    "for(n in names(detNodes))\n",
    "{\n",
    "    print(n)\n",
    "    if(!n %in% c(\"term\", \"Genes\")) {\n",
    "        stats <-  sapply(seq_along(detNodes[[n]]), function(i) computeMetOut(detNodes[[n]][[i]], \n",
    "                                                                             logFCNodes, tree = tree, \n",
    "                                                                             negNodes = negNodesDesc[[n]][[i]], \n",
    "                                                                             lfcThresh = rootFC))\n",
    "        colnames(stats) <- colnames(df)[c(3:5)]\n",
    "        stats <- cbind(Method=rep(n,2), Metric = c(\"FDR\", \"TPR\"), stats)\n",
    "        dfO <- rbind(dfO, stats)\n",
    "    }\n",
    "    \n",
    "}\n",
    "stats <-  sapply(seq_along(detNodes[[\"term\"]]), function(i) computeMetOut(detNodes[[\"term\"]][[i]], \n",
    "                                              logFCNodesTerm, tree = NULL, \n",
    "                                              negNodes = negNodesDesc[[\"term\"]][[i]],\n",
    "                                              lfcThresh = rootFC))\n",
    "colnames(stats) <- colnames(df)[c(3:5)]\n",
    "stats <- cbind(Method=rep(\"term\",2), Metric = c(\"FDR\", \"TPR\"), stats)\n",
    "dfO <- rbind(dfO, stats)\n",
    "\n",
    "tG <- match(dg, rownames(gse))\n",
    "stats <- sapply(detNodes[[\"Genes\"]], function(genes) {\n",
    "    computeTPFP(tG, genes, seq(nrow(gse)), seq(nrow(gse)))\n",
    "})\n",
    "colnames(stats) <- colnames(df)[c(3:5)]\n",
    "stats <- cbind(Method=rep(\"Genes\",2), Metric = c(\"FDR\", \"TPR\"), stats)\n",
    "dfO <- rbind(dfO, stats)\n",
    "\n",
    "print(dfO)"
   ]
  },
  {
   "cell_type": "code",
   "execution_count": null,
   "id": "0bc9f872",
   "metadata": {},
   "outputs": [],
   "source": [
    "dfO"
   ]
  },
  {
   "cell_type": "code",
   "execution_count": 44,
   "id": "78cb5127",
   "metadata": {},
   "outputs": [],
   "source": [
    "save(dfO, file=file.path(saveDir, \"dfConsO.RData\"))"
   ]
  },
  {
   "cell_type": "code",
   "execution_count": 45,
   "id": "99418e1a",
   "metadata": {},
   "outputs": [
    {
     "data": {
      "text/html": [
       "<table class=\"dataframe\">\n",
       "<caption>A tibble: 11 × 7</caption>\n",
       "<thead>\n",
       "\t<tr><th scope=col>Method</th><th scope=col>0.01_FDR</th><th scope=col>0.05_FDR</th><th scope=col>0.1_FDR</th><th scope=col>0.01_TPR</th><th scope=col>0.05_TPR</th><th scope=col>0.1_TPR</th></tr>\n",
       "\t<tr><th scope=col>&lt;named list&gt;</th><th scope=col>&lt;dbl&gt;</th><th scope=col>&lt;dbl&gt;</th><th scope=col>&lt;dbl&gt;</th><th scope=col>&lt;dbl&gt;</th><th scope=col>&lt;dbl&gt;</th><th scope=col>&lt;dbl&gt;</th></tr>\n",
       "</thead>\n",
       "<tbody>\n",
       "\t<tr><td>Txps</td><td>0.008</td><td>0.039</td><td>0.080</td><td>0.208</td><td>0.346</td><td>0.407</td></tr>\n",
       "\t<tr><td>irv_height_0.05</td><td>0.006</td><td>0.031</td><td>0.070</td><td>0.229</td><td>0.341</td><td>0.402</td></tr>\n",
       "\t<tr><td>irv_height_0.1</td><td>0.005</td><td>0.033</td><td>0.071</td><td>0.228</td><td>0.342</td><td>0.404</td></tr>\n",
       "\t<tr><td>irv_height_1</td><td>0.002</td><td>0.030</td><td>0.070</td><td>0.140</td><td>0.333</td><td>0.403</td></tr>\n",
       "\t<tr><td>irv_height_5</td><td>0.006</td><td>0.038</td><td>0.080</td><td>0.216</td><td>0.348</td><td>0.410</td></tr>\n",
       "\t<tr><td>irv_height_10</td><td>0.001</td><td>0.029</td><td>0.070</td><td>0.123</td><td>0.321</td><td>0.395</td></tr>\n",
       "\t<tr><td>LFC</td><td>0.008</td><td>0.036</td><td>0.082</td><td>0.239</td><td>0.358</td><td>0.421</td></tr>\n",
       "\t<tr><td>lfcTPMDesc</td><td>0.005</td><td>0.040</td><td>0.081</td><td>0.240</td><td>0.364</td><td>0.428</td></tr>\n",
       "\t<tr><td>lfcTPM</td><td>0.006</td><td>0.038</td><td>0.082</td><td>0.237</td><td>0.355</td><td>0.417</td></tr>\n",
       "\t<tr><td>term</td><td>0.007</td><td>0.038</td><td>0.080</td><td>0.218</td><td>0.347</td><td>0.410</td></tr>\n",
       "\t<tr><td>Genes</td><td>0.002</td><td>0.025</td><td>0.061</td><td>0.255</td><td>0.413</td><td>0.491</td></tr>\n",
       "</tbody>\n",
       "</table>\n"
      ],
      "text/latex": [
       "A tibble: 11 × 7\n",
       "\\begin{tabular}{lllllll}\n",
       " Method & 0.01\\_FDR & 0.05\\_FDR & 0.1\\_FDR & 0.01\\_TPR & 0.05\\_TPR & 0.1\\_TPR\\\\\n",
       " <named list> & <dbl> & <dbl> & <dbl> & <dbl> & <dbl> & <dbl>\\\\\n",
       "\\hline\n",
       "\t Txps & 0.008 & 0.039 & 0.080 & 0.208 & 0.346 & 0.407\\\\\n",
       "\t irv\\_height\\_0.05 & 0.006 & 0.031 & 0.070 & 0.229 & 0.341 & 0.402\\\\\n",
       "\t irv\\_height\\_0.1 & 0.005 & 0.033 & 0.071 & 0.228 & 0.342 & 0.404\\\\\n",
       "\t irv\\_height\\_1 & 0.002 & 0.030 & 0.070 & 0.140 & 0.333 & 0.403\\\\\n",
       "\t irv\\_height\\_5 & 0.006 & 0.038 & 0.080 & 0.216 & 0.348 & 0.410\\\\\n",
       "\t irv\\_height\\_10 & 0.001 & 0.029 & 0.070 & 0.123 & 0.321 & 0.395\\\\\n",
       "\t LFC & 0.008 & 0.036 & 0.082 & 0.239 & 0.358 & 0.421\\\\\n",
       "\t lfcTPMDesc & 0.005 & 0.040 & 0.081 & 0.240 & 0.364 & 0.428\\\\\n",
       "\t lfcTPM & 0.006 & 0.038 & 0.082 & 0.237 & 0.355 & 0.417\\\\\n",
       "\t term & 0.007 & 0.038 & 0.080 & 0.218 & 0.347 & 0.410\\\\\n",
       "\t Genes & 0.002 & 0.025 & 0.061 & 0.255 & 0.413 & 0.491\\\\\n",
       "\\end{tabular}\n"
      ],
      "text/markdown": [
       "\n",
       "A tibble: 11 × 7\n",
       "\n",
       "| Method &lt;named list&gt; | 0.01_FDR &lt;dbl&gt; | 0.05_FDR &lt;dbl&gt; | 0.1_FDR &lt;dbl&gt; | 0.01_TPR &lt;dbl&gt; | 0.05_TPR &lt;dbl&gt; | 0.1_TPR &lt;dbl&gt; |\n",
       "|---|---|---|---|---|---|---|\n",
       "| Txps | 0.008 | 0.039 | 0.080 | 0.208 | 0.346 | 0.407 |\n",
       "| irv_height_0.05 | 0.006 | 0.031 | 0.070 | 0.229 | 0.341 | 0.402 |\n",
       "| irv_height_0.1 | 0.005 | 0.033 | 0.071 | 0.228 | 0.342 | 0.404 |\n",
       "| irv_height_1 | 0.002 | 0.030 | 0.070 | 0.140 | 0.333 | 0.403 |\n",
       "| irv_height_5 | 0.006 | 0.038 | 0.080 | 0.216 | 0.348 | 0.410 |\n",
       "| irv_height_10 | 0.001 | 0.029 | 0.070 | 0.123 | 0.321 | 0.395 |\n",
       "| LFC | 0.008 | 0.036 | 0.082 | 0.239 | 0.358 | 0.421 |\n",
       "| lfcTPMDesc | 0.005 | 0.040 | 0.081 | 0.240 | 0.364 | 0.428 |\n",
       "| lfcTPM | 0.006 | 0.038 | 0.082 | 0.237 | 0.355 | 0.417 |\n",
       "| term | 0.007 | 0.038 | 0.080 | 0.218 | 0.347 | 0.410 |\n",
       "| Genes | 0.002 | 0.025 | 0.061 | 0.255 | 0.413 | 0.491 |\n",
       "\n"
      ],
      "text/plain": [
       "   Method          0.01_FDR 0.05_FDR 0.1_FDR 0.01_TPR 0.05_TPR 0.1_TPR\n",
       "1  Txps            0.008    0.039    0.080   0.208    0.346    0.407  \n",
       "2  irv_height_0.05 0.006    0.031    0.070   0.229    0.341    0.402  \n",
       "3  irv_height_0.1  0.005    0.033    0.071   0.228    0.342    0.404  \n",
       "4  irv_height_1    0.002    0.030    0.070   0.140    0.333    0.403  \n",
       "5  irv_height_5    0.006    0.038    0.080   0.216    0.348    0.410  \n",
       "6  irv_height_10   0.001    0.029    0.070   0.123    0.321    0.395  \n",
       "7  LFC             0.008    0.036    0.082   0.239    0.358    0.421  \n",
       "8  lfcTPMDesc      0.005    0.040    0.081   0.240    0.364    0.428  \n",
       "9  lfcTPM          0.006    0.038    0.082   0.237    0.355    0.417  \n",
       "10 term            0.007    0.038    0.080   0.218    0.347    0.410  \n",
       "11 Genes           0.002    0.025    0.061   0.255    0.413    0.491  "
      ]
     },
     "metadata": {},
     "output_type": "display_data"
    }
   ],
   "source": [
    "dfB <- dfO %>% pivot_wider(names_from = Metric, values_from = c(3:5))\n",
    "dfB <- dfB[,c(1,seq(2,7,2),seq(3,7,2))]\n",
    "colnames(dfB)[c(2:7)] <- as.vector(outer(c(0.01,0.05,0.1), c(\"FDR\",\"TPR\"), function(x,y) paste(x,y,sep=\"_\")))\n",
    "for(i in seq(ncol(dfB)-1))\n",
    "    dfB[,i+1] <- round(as.numeric(unlist(dfB[,i+1])),3)\n",
    "dfB"
   ]
  },
  {
   "cell_type": "code",
   "execution_count": 46,
   "id": "117818eb",
   "metadata": {},
   "outputs": [
    {
     "data": {
      "text/plain": [
       "class: TreeSummarizedExperiment \n",
       "dim: 258923 12 \n",
       "metadata(8): tximetaInfo quantInfo ... txpsAnn infRepsScaled\n",
       "assays(105): counts abundance ... mean variance\n",
       "rownames(258923): ENST00000484859.1 ENST00000601814.5 ... Node258922\n",
       "  Node258923\n",
       "rowData names(1): meanInfRV\n",
       "colnames(12): 1_1 2_1 ... 5_2 6_2\n",
       "colData names(2): names condition\n",
       "reducedDimNames(0):\n",
       "mainExpName: NULL\n",
       "altExpNames(0):\n",
       "rowLinks: a LinkDataFrame (258923 rows)\n",
       "rowTree: 1 phylo tree(s) (138893 leaves)\n",
       "colLinks: NULL\n",
       "colTree: NULL"
      ]
     },
     "metadata": {},
     "output_type": "display_data"
    }
   ],
   "source": [
    "tse"
   ]
  },
  {
   "cell_type": "code",
   "execution_count": null,
   "id": "380c616a",
   "metadata": {},
   "outputs": [],
   "source": [
    "load(file=file.path(saveDir, \"dfConsO.RData\"))\n",
    "dfB <- cbind(gather(dfO[seq(1, nrow(dfO), 2),], key = \"NFDR\", value = \"FDR\", 3:5),\n",
    "gather(dfO[seq(2, nrow(dfO), 2),], key = \"NFDR\", value = \"TPR\", 3:5))\n",
    "dfB <- dfB[, c(1,3,4,8)]\n",
    "dfB[[\"meetCriteria\"]] <- rep(FALSE, nrow(dfB))\n",
    "l <- length(unique(df$Method))\n",
    "for(i in seq(3)) {\n",
    "    start <- (i-1)*l+1\n",
    "    end <- start+l-1\n",
    "    dfB$meetCriteria[start:end] <- dfB$FDR[start:end] <= c(0.01,0.05,0.1)[i]\n",
    "}\n",
    "\n",
    "dfB <- data.frame(do.call(cbind, lapply(dfB, unlist)))\n",
    "dfB[,c(3)] <- as.numeric(dfB[,c(3)])\n",
    "dfB[,c(4)] <- as.numeric(dfB[,c(4)])\n",
    "dfB"
   ]
  },
  {
   "cell_type": "code",
   "execution_count": null,
   "id": "7fb8378c",
   "metadata": {},
   "outputs": [],
   "source": [
    "options(repr.plot.width=15, repr.plot.height=10)\n",
    "size <- 20\n",
    "pConsDesc <- ggplot(dfB, aes(x = FDR, y = TPR, \n",
    "                             color = Method,\n",
    "                             fill = ifelse(meetCriteria, Method, NA))) + \n",
    "                geom_point(size=5,shape=21) + \n",
    "                scale_fill_discrete(na.value = \"transparent\") +\n",
    "                geom_line() +\n",
    "                theme_bw() +\n",
    "                geom_vline(xintercept = c(0.01, 0.05, 0.1), linetype = \"dashed\") +\n",
    "                ggtitle(\"BrSimNorm Dataset\") +\n",
    "                theme(axis.title = element_text(size = size),\n",
    "                plot.title = element_text(size = size + 1, hjust=0.5),\n",
    "                axis.text = element_text(size = size),\n",
    "                legend.text = element_text(size = size),\n",
    "                legend.title = element_text(size = size),\n",
    "                legend.position = \"bottom\") +\n",
    "                guides(fill = \"none\")\n",
    "pConsDesc"
   ]
  },
  {
   "cell_type": "code",
   "execution_count": null,
   "id": "3f4c6eed",
   "metadata": {},
   "outputs": [],
   "source": [
    "ggarrange(pCons, pConsDesc, common.legend = T, labels = c(\"Nodes\", \"Desc Leaves\"), legend = \"bottom\")"
   ]
  },
  {
   "cell_type": "code",
   "execution_count": null,
   "id": "d823373a",
   "metadata": {},
   "outputs": [],
   "source": [
    "lambda <- c(0.1, 0.5, 1, 5)\n",
    "gamma <- c(0.1,1,5)\n",
    "for(i in lambda) {\n",
    "    for(j in gamma) {\n",
    "            name <- paste(\"irv\", paste(\"height\",i,sep=\"=\"), paste(\"LFC\",j,sep=\"=\"), sep=\"_\")\n",
    "            print(name)\n",
    "    }\n",
    "    \n",
    "}\n"
   ]
  },
  {
   "cell_type": "code",
   "execution_count": null,
   "id": "2214ebf9",
   "metadata": {},
   "outputs": [],
   "source": []
  }
 ],
 "metadata": {
  "kernelspec": {
   "display_name": "R",
   "language": "R",
   "name": "ir"
  },
  "language_info": {
   "codemirror_mode": "r",
   "file_extension": ".r",
   "mimetype": "text/x-r-source",
   "name": "R",
   "pygments_lexer": "r",
   "version": "4.1.1"
  }
 },
 "nbformat": 4,
 "nbformat_minor": 5
}
