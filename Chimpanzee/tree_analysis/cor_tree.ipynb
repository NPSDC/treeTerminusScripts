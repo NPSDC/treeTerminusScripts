{
 "cells": [
  {
   "cell_type": "code",
   "execution_count": 1,
   "id": "8d5d5e29",
   "metadata": {},
   "outputs": [],
   "source": [
    "setwd('/fs/cbcb-lab/rob/students/noor/Uncertainity/treeTerminusScripts')\n",
    "suppressPackageStartupMessages(library(SummarizedExperiment))\n",
    "suppressPackageStartupMessages(library(DESeq2))\n",
    "suppressPackageStartupMessages(library(ggplot2))\n",
    "suppressPackageStartupMessages(library(ggpubr))\n",
    "suppressPackageStartupMessages(library(HDF5Array))\n",
    "suppressPackageStartupMessages(library(dplyr))\n",
    "suppressPackageStartupMessages(library(BiocParallel))\n",
    "suppressPackageStartupMessages(source(\"tree_helper_function.R\"))\n",
    "load(\"environment/Chimp/se_chimp.RData\")\n",
    "load(\"environment/Chimp/mode=gcbias/post_type=gibbs_nrep=100_tf=100/seChimpScaled.RData\")\n",
    "load(\"environment/Chimp/mapDf.RData\")\n",
    "suppressPackageStartupMessages(source(\"brain_simulation_nodtu/mode=gc_bias/post_type=gibbs_nrep=100_tf=100/tree_analysis/tree_filter.R\"))"
   ]
  },
  {
   "cell_type": "code",
   "execution_count": 2,
   "id": "2ac6fa00",
   "metadata": {},
   "outputs": [],
   "source": [
    "UPGMA <- function (D, method = \"average\", ...) \n",
    "{\n",
    "    DD <- as.dist(D)\n",
    "    hc <- fastcluster::hclust(DD, method = method, ...)\n",
    "    result <- as.phylo(hc)\n",
    "    result <- reorder(result, \"postorder\")\n",
    "    result\n",
    "}\n"
   ]
  },
  {
   "cell_type": "code",
   "execution_count": null,
   "id": "33a9165d",
   "metadata": {},
   "outputs": [],
   "source": [
    "sampDorNucl <- data.frame(colData(seChimp)) %>% filter(tissue == \"medial dorsal nucleus of thalamus\") %>% dplyr::select(names) %>% unlist\n",
    "seChimp <- seChimp[,!(colnames(seChimp) %in% sampDorNucl)]\n",
    "infReps <- assays(seChimp)[grep(\"infRep\", assayNames(seChimp))]\n",
    "infReps <- abind::abind(as.list(infReps), along = 3)\n",
    "tInds <- lapply(seq(12), function(i) which(rowSums(infReps[,i,]) == 0))\n",
    "rInds <- which(rowSums(assays(seChimp)[[\"counts\"]]) == 0)\n",
    "tInds <- Reduce(union,tInds)\n",
    "tInds <- union(rInds, tInds)\n",
    "rm(seChimp)\n",
    "infReps <- assays(seChimpScaled)[grep(\"infRep\", assayNames(seChimpScaled))]\n",
    "infReps <- abind::abind(as.list(infReps), along = 3)\n",
    "infReps <- infReps[-tInds,,]\n",
    "\n",
    "corMean <- matrix(0, dim(infReps)[1], dim(infReps)[1])\n",
    "for(i in seq(ncol(seChimpScaled))) {\n",
    "     corTxps <- cor(t(infReps[,i,]))\n",
    "     corMean <- corMean + corTxps\n",
    "     ###Building on anticorrelation\n",
    "     rm(corTxps)\n",
    "     gc()\n",
    "}\n",
    "corMean <- corMean/ncol(seChimpScaled)"
   ]
  },
  {
   "cell_type": "code",
   "execution_count": 16,
   "id": "20f68484",
   "metadata": {},
   "outputs": [
    {
     "data": {
      "text/html": [
       "24902"
      ],
      "text/latex": [
       "24902"
      ],
      "text/markdown": [
       "24902"
      ],
      "text/plain": [
       "[1] 24902"
      ]
     },
     "metadata": {},
     "output_type": "display_data"
    }
   ],
   "source": [
    "save(corMean, file = \"environment/Chimp/mode=gcbias/post_type=gibbs_nrep=100_tf=100/tree_analysis/cor_mean.RData\")"
   ]
  },
  {
   "cell_type": "code",
   "execution_count": 18,
   "id": "154eff11",
   "metadata": {},
   "outputs": [],
   "source": [
    "d <- (1+corMean)/2\n",
    "trMeanCorUPGMA <- UPGMA(d)\n",
    "trMeanCorUPGMA$tip.label <- rownames(infReps)\n",
    "save(trMeanCorUPGMA, file=\"environment/Chimp/mode=gcbias/post_type=gibbs_nrep=100_tf=100/tree_analysis/trMeanCorUPGMA.RData\")"
   ]
  },
  {
   "cell_type": "code",
   "execution_count": 26,
   "id": "cd222a46",
   "metadata": {},
   "outputs": [],
   "source": [
    "cMean <- matrix(0, nrow = 100, ncol = 100)\n",
    "for(i in seq(ncol(seChimpScaled))) {\n",
    "     corTxps <- cor(t(infReps[(35114-100)+1:100,i,]))\n",
    "     cMean <- cMean + corTxps\n",
    "     ###Building on anticorrelation\n",
    "     rm(corTxps)\n",
    "     gc()\n",
    "}\n",
    "cMean <- cMean/ncol(seChimpScaled)"
   ]
  },
  {
   "cell_type": "code",
   "execution_count": 27,
   "id": "f9354f1f",
   "metadata": {},
   "outputs": [
    {
     "data": {
      "text/html": [
       "<table class=\"dataframe\">\n",
       "<caption>A matrix: 6 × 100 of type dbl</caption>\n",
       "<thead>\n",
       "\t<tr><th></th><th scope=col>ENSPTRT00000111746</th><th scope=col>ENSPTRT00000113487</th><th scope=col>ENSPTRT00000113238</th><th scope=col>ENSPTRT00000112536</th><th scope=col>ENSPTRT00000112558</th><th scope=col>ENSPTRT00000111512</th><th scope=col>ENSPTRT00000113580</th><th scope=col>ENSPTRT00000113890</th><th scope=col>ENSPTRT00000113150</th><th scope=col>ENSPTRT00000114242</th><th scope=col>⋯</th><th scope=col>ENSPTRT00000108032</th><th scope=col>ENSPTRT00000088076</th><th scope=col>ENSPTRT00000073764</th><th scope=col>ENSPTRT00000085536</th><th scope=col>ENSPTRT00000063068</th><th scope=col>ENSPTRT00000078427</th><th scope=col>ENSPTRT00000104116</th><th scope=col>ENSPTRT00000085765</th><th scope=col>ENSPTRT00000073765</th><th scope=col>ENSPTRT00000097161</th></tr>\n",
       "</thead>\n",
       "<tbody>\n",
       "\t<tr><th scope=row>ENSPTRT00000111746</th><td> 1.000000000</td><td> 0.012424312</td><td> 0.012428841</td><td>-0.001435722</td><td> 0.012442741</td><td>-0.008379118</td><td> 0.007362349</td><td>-0.0106528767</td><td> 0.002518245</td><td> 0.001176296</td><td>⋯</td><td> 0.001008771</td><td>-0.004814583</td><td>-0.0003702714</td><td> 0.0048507962</td><td>-0.0061747582</td><td> 0.028000583</td><td> 0.014763721</td><td> 0.0121788267</td><td> 0.005707704</td><td> 0.0032907503</td></tr>\n",
       "\t<tr><th scope=row>ENSPTRT00000113487</th><td> 0.012424312</td><td> 1.000000000</td><td>-0.005330928</td><td>-0.004372939</td><td>-0.006359708</td><td>-0.006760764</td><td>-0.030177258</td><td>-0.0221466577</td><td> 0.003593909</td><td> 0.005319247</td><td>⋯</td><td>-0.004270237</td><td> 0.009889095</td><td>-0.0019998675</td><td>-0.0145060587</td><td>-0.0134445610</td><td> 0.003906392</td><td> 0.001047298</td><td> 0.0138654508</td><td> 0.002085991</td><td> 0.0025299773</td></tr>\n",
       "\t<tr><th scope=row>ENSPTRT00000113238</th><td> 0.012428841</td><td>-0.005330928</td><td> 1.000000000</td><td> 0.004514428</td><td>-0.014677783</td><td> 0.017966661</td><td> 0.001783849</td><td> 0.0165296174</td><td>-0.019229573</td><td> 0.012496795</td><td>⋯</td><td> 0.005594377</td><td>-0.001688677</td><td>-0.0038498261</td><td> 0.0005806746</td><td> 0.0107487452</td><td>-0.014998521</td><td> 0.006675149</td><td>-0.0180557571</td><td>-0.008150859</td><td> 0.0088981050</td></tr>\n",
       "\t<tr><th scope=row>ENSPTRT00000112536</th><td>-0.001435722</td><td>-0.004372939</td><td> 0.004514428</td><td> 1.000000000</td><td>-0.005625250</td><td> 0.017028296</td><td>-0.028217166</td><td> 0.0246684846</td><td> 0.007721958</td><td>-0.013068137</td><td>⋯</td><td> 0.005378231</td><td> 0.016263286</td><td> 0.0168051283</td><td>-0.0048889108</td><td>-0.0006481005</td><td>-0.007011423</td><td> 0.004718276</td><td> 0.0006169429</td><td>-0.011134328</td><td>-0.0088276209</td></tr>\n",
       "\t<tr><th scope=row>ENSPTRT00000112558</th><td> 0.012442741</td><td>-0.006359708</td><td>-0.014677783</td><td>-0.005625250</td><td> 1.000000000</td><td>-0.390962249</td><td> 0.003309402</td><td>-0.0005645396</td><td> 0.036015474</td><td> 0.006961703</td><td>⋯</td><td>-0.018979105</td><td>-0.014475376</td><td>-0.0070753565</td><td> 0.0057703451</td><td>-0.0202280085</td><td> 0.010370382</td><td>-0.007490046</td><td> 0.0131198801</td><td> 0.011853786</td><td> 0.0046314672</td></tr>\n",
       "\t<tr><th scope=row>ENSPTRT00000111512</th><td>-0.008379118</td><td>-0.006760764</td><td> 0.017966661</td><td> 0.017028296</td><td>-0.390962249</td><td> 1.000000000</td><td>-0.024555135</td><td>-0.0014291492</td><td>-0.032174196</td><td> 0.006986761</td><td>⋯</td><td>-0.001122883</td><td> 0.026182999</td><td> 0.0109673576</td><td>-0.0012342969</td><td>-0.0086574778</td><td> 0.006259000</td><td> 0.015243868</td><td>-0.0273807260</td><td>-0.022492844</td><td>-0.0002115335</td></tr>\n",
       "</tbody>\n",
       "</table>\n"
      ],
      "text/latex": [
       "A matrix: 6 × 100 of type dbl\n",
       "\\begin{tabular}{r|lllllllllllllllllllll}\n",
       "  & ENSPTRT00000111746 & ENSPTRT00000113487 & ENSPTRT00000113238 & ENSPTRT00000112536 & ENSPTRT00000112558 & ENSPTRT00000111512 & ENSPTRT00000113580 & ENSPTRT00000113890 & ENSPTRT00000113150 & ENSPTRT00000114242 & ⋯ & ENSPTRT00000108032 & ENSPTRT00000088076 & ENSPTRT00000073764 & ENSPTRT00000085536 & ENSPTRT00000063068 & ENSPTRT00000078427 & ENSPTRT00000104116 & ENSPTRT00000085765 & ENSPTRT00000073765 & ENSPTRT00000097161\\\\\n",
       "\\hline\n",
       "\tENSPTRT00000111746 &  1.000000000 &  0.012424312 &  0.012428841 & -0.001435722 &  0.012442741 & -0.008379118 &  0.007362349 & -0.0106528767 &  0.002518245 &  0.001176296 & ⋯ &  0.001008771 & -0.004814583 & -0.0003702714 &  0.0048507962 & -0.0061747582 &  0.028000583 &  0.014763721 &  0.0121788267 &  0.005707704 &  0.0032907503\\\\\n",
       "\tENSPTRT00000113487 &  0.012424312 &  1.000000000 & -0.005330928 & -0.004372939 & -0.006359708 & -0.006760764 & -0.030177258 & -0.0221466577 &  0.003593909 &  0.005319247 & ⋯ & -0.004270237 &  0.009889095 & -0.0019998675 & -0.0145060587 & -0.0134445610 &  0.003906392 &  0.001047298 &  0.0138654508 &  0.002085991 &  0.0025299773\\\\\n",
       "\tENSPTRT00000113238 &  0.012428841 & -0.005330928 &  1.000000000 &  0.004514428 & -0.014677783 &  0.017966661 &  0.001783849 &  0.0165296174 & -0.019229573 &  0.012496795 & ⋯ &  0.005594377 & -0.001688677 & -0.0038498261 &  0.0005806746 &  0.0107487452 & -0.014998521 &  0.006675149 & -0.0180557571 & -0.008150859 &  0.0088981050\\\\\n",
       "\tENSPTRT00000112536 & -0.001435722 & -0.004372939 &  0.004514428 &  1.000000000 & -0.005625250 &  0.017028296 & -0.028217166 &  0.0246684846 &  0.007721958 & -0.013068137 & ⋯ &  0.005378231 &  0.016263286 &  0.0168051283 & -0.0048889108 & -0.0006481005 & -0.007011423 &  0.004718276 &  0.0006169429 & -0.011134328 & -0.0088276209\\\\\n",
       "\tENSPTRT00000112558 &  0.012442741 & -0.006359708 & -0.014677783 & -0.005625250 &  1.000000000 & -0.390962249 &  0.003309402 & -0.0005645396 &  0.036015474 &  0.006961703 & ⋯ & -0.018979105 & -0.014475376 & -0.0070753565 &  0.0057703451 & -0.0202280085 &  0.010370382 & -0.007490046 &  0.0131198801 &  0.011853786 &  0.0046314672\\\\\n",
       "\tENSPTRT00000111512 & -0.008379118 & -0.006760764 &  0.017966661 &  0.017028296 & -0.390962249 &  1.000000000 & -0.024555135 & -0.0014291492 & -0.032174196 &  0.006986761 & ⋯ & -0.001122883 &  0.026182999 &  0.0109673576 & -0.0012342969 & -0.0086574778 &  0.006259000 &  0.015243868 & -0.0273807260 & -0.022492844 & -0.0002115335\\\\\n",
       "\\end{tabular}\n"
      ],
      "text/markdown": [
       "\n",
       "A matrix: 6 × 100 of type dbl\n",
       "\n",
       "| <!--/--> | ENSPTRT00000111746 | ENSPTRT00000113487 | ENSPTRT00000113238 | ENSPTRT00000112536 | ENSPTRT00000112558 | ENSPTRT00000111512 | ENSPTRT00000113580 | ENSPTRT00000113890 | ENSPTRT00000113150 | ENSPTRT00000114242 | ⋯ | ENSPTRT00000108032 | ENSPTRT00000088076 | ENSPTRT00000073764 | ENSPTRT00000085536 | ENSPTRT00000063068 | ENSPTRT00000078427 | ENSPTRT00000104116 | ENSPTRT00000085765 | ENSPTRT00000073765 | ENSPTRT00000097161 |\n",
       "|---|---|---|---|---|---|---|---|---|---|---|---|---|---|---|---|---|---|---|---|---|---|\n",
       "| ENSPTRT00000111746 |  1.000000000 |  0.012424312 |  0.012428841 | -0.001435722 |  0.012442741 | -0.008379118 |  0.007362349 | -0.0106528767 |  0.002518245 |  0.001176296 | ⋯ |  0.001008771 | -0.004814583 | -0.0003702714 |  0.0048507962 | -0.0061747582 |  0.028000583 |  0.014763721 |  0.0121788267 |  0.005707704 |  0.0032907503 |\n",
       "| ENSPTRT00000113487 |  0.012424312 |  1.000000000 | -0.005330928 | -0.004372939 | -0.006359708 | -0.006760764 | -0.030177258 | -0.0221466577 |  0.003593909 |  0.005319247 | ⋯ | -0.004270237 |  0.009889095 | -0.0019998675 | -0.0145060587 | -0.0134445610 |  0.003906392 |  0.001047298 |  0.0138654508 |  0.002085991 |  0.0025299773 |\n",
       "| ENSPTRT00000113238 |  0.012428841 | -0.005330928 |  1.000000000 |  0.004514428 | -0.014677783 |  0.017966661 |  0.001783849 |  0.0165296174 | -0.019229573 |  0.012496795 | ⋯ |  0.005594377 | -0.001688677 | -0.0038498261 |  0.0005806746 |  0.0107487452 | -0.014998521 |  0.006675149 | -0.0180557571 | -0.008150859 |  0.0088981050 |\n",
       "| ENSPTRT00000112536 | -0.001435722 | -0.004372939 |  0.004514428 |  1.000000000 | -0.005625250 |  0.017028296 | -0.028217166 |  0.0246684846 |  0.007721958 | -0.013068137 | ⋯ |  0.005378231 |  0.016263286 |  0.0168051283 | -0.0048889108 | -0.0006481005 | -0.007011423 |  0.004718276 |  0.0006169429 | -0.011134328 | -0.0088276209 |\n",
       "| ENSPTRT00000112558 |  0.012442741 | -0.006359708 | -0.014677783 | -0.005625250 |  1.000000000 | -0.390962249 |  0.003309402 | -0.0005645396 |  0.036015474 |  0.006961703 | ⋯ | -0.018979105 | -0.014475376 | -0.0070753565 |  0.0057703451 | -0.0202280085 |  0.010370382 | -0.007490046 |  0.0131198801 |  0.011853786 |  0.0046314672 |\n",
       "| ENSPTRT00000111512 | -0.008379118 | -0.006760764 |  0.017966661 |  0.017028296 | -0.390962249 |  1.000000000 | -0.024555135 | -0.0014291492 | -0.032174196 |  0.006986761 | ⋯ | -0.001122883 |  0.026182999 |  0.0109673576 | -0.0012342969 | -0.0086574778 |  0.006259000 |  0.015243868 | -0.0273807260 | -0.022492844 | -0.0002115335 |\n",
       "\n"
      ],
      "text/plain": [
       "                   ENSPTRT00000111746 ENSPTRT00000113487 ENSPTRT00000113238\n",
       "ENSPTRT00000111746  1.000000000        0.012424312        0.012428841      \n",
       "ENSPTRT00000113487  0.012424312        1.000000000       -0.005330928      \n",
       "ENSPTRT00000113238  0.012428841       -0.005330928        1.000000000      \n",
       "ENSPTRT00000112536 -0.001435722       -0.004372939        0.004514428      \n",
       "ENSPTRT00000112558  0.012442741       -0.006359708       -0.014677783      \n",
       "ENSPTRT00000111512 -0.008379118       -0.006760764        0.017966661      \n",
       "                   ENSPTRT00000112536 ENSPTRT00000112558 ENSPTRT00000111512\n",
       "ENSPTRT00000111746 -0.001435722        0.012442741       -0.008379118      \n",
       "ENSPTRT00000113487 -0.004372939       -0.006359708       -0.006760764      \n",
       "ENSPTRT00000113238  0.004514428       -0.014677783        0.017966661      \n",
       "ENSPTRT00000112536  1.000000000       -0.005625250        0.017028296      \n",
       "ENSPTRT00000112558 -0.005625250        1.000000000       -0.390962249      \n",
       "ENSPTRT00000111512  0.017028296       -0.390962249        1.000000000      \n",
       "                   ENSPTRT00000113580 ENSPTRT00000113890 ENSPTRT00000113150\n",
       "ENSPTRT00000111746  0.007362349       -0.0106528767       0.002518245      \n",
       "ENSPTRT00000113487 -0.030177258       -0.0221466577       0.003593909      \n",
       "ENSPTRT00000113238  0.001783849        0.0165296174      -0.019229573      \n",
       "ENSPTRT00000112536 -0.028217166        0.0246684846       0.007721958      \n",
       "ENSPTRT00000112558  0.003309402       -0.0005645396       0.036015474      \n",
       "ENSPTRT00000111512 -0.024555135       -0.0014291492      -0.032174196      \n",
       "                   ENSPTRT00000114242 ⋯ ENSPTRT00000108032 ENSPTRT00000088076\n",
       "ENSPTRT00000111746  0.001176296       ⋯  0.001008771       -0.004814583      \n",
       "ENSPTRT00000113487  0.005319247       ⋯ -0.004270237        0.009889095      \n",
       "ENSPTRT00000113238  0.012496795       ⋯  0.005594377       -0.001688677      \n",
       "ENSPTRT00000112536 -0.013068137       ⋯  0.005378231        0.016263286      \n",
       "ENSPTRT00000112558  0.006961703       ⋯ -0.018979105       -0.014475376      \n",
       "ENSPTRT00000111512  0.006986761       ⋯ -0.001122883        0.026182999      \n",
       "                   ENSPTRT00000073764 ENSPTRT00000085536 ENSPTRT00000063068\n",
       "ENSPTRT00000111746 -0.0003702714       0.0048507962      -0.0061747582     \n",
       "ENSPTRT00000113487 -0.0019998675      -0.0145060587      -0.0134445610     \n",
       "ENSPTRT00000113238 -0.0038498261       0.0005806746       0.0107487452     \n",
       "ENSPTRT00000112536  0.0168051283      -0.0048889108      -0.0006481005     \n",
       "ENSPTRT00000112558 -0.0070753565       0.0057703451      -0.0202280085     \n",
       "ENSPTRT00000111512  0.0109673576      -0.0012342969      -0.0086574778     \n",
       "                   ENSPTRT00000078427 ENSPTRT00000104116 ENSPTRT00000085765\n",
       "ENSPTRT00000111746  0.028000583        0.014763721        0.0121788267     \n",
       "ENSPTRT00000113487  0.003906392        0.001047298        0.0138654508     \n",
       "ENSPTRT00000113238 -0.014998521        0.006675149       -0.0180557571     \n",
       "ENSPTRT00000112536 -0.007011423        0.004718276        0.0006169429     \n",
       "ENSPTRT00000112558  0.010370382       -0.007490046        0.0131198801     \n",
       "ENSPTRT00000111512  0.006259000        0.015243868       -0.0273807260     \n",
       "                   ENSPTRT00000073765 ENSPTRT00000097161\n",
       "ENSPTRT00000111746  0.005707704        0.0032907503     \n",
       "ENSPTRT00000113487  0.002085991        0.0025299773     \n",
       "ENSPTRT00000113238 -0.008150859        0.0088981050     \n",
       "ENSPTRT00000112536 -0.011134328       -0.0088276209     \n",
       "ENSPTRT00000112558  0.011853786        0.0046314672     \n",
       "ENSPTRT00000111512 -0.022492844       -0.0002115335     "
      ]
     },
     "metadata": {},
     "output_type": "display_data"
    }
   ],
   "source": [
    "sampDorNucl <- data.frame(colData(seChimp)) %>% filter(tissue == \"medial dorsal nucleus of thalamus\") %>% dplyr::select(names) %>% unlist\n",
    "seChimp <- seChimp[,!(colnames(seChimp) %in% sampDorNucl)]\n",
    "infReps <- assays(seChimp)[grep(\"infRep\", assayNames(seChimp))]\n",
    "infReps <- abind::abind(as.list(infReps), along = 3)\n",
    "tInds <- lapply(seq(12), function(i) which(rowSums(infReps[,i,]) == 0))\n",
    "rInds <- which(rowSums(assays(seChimp)[[\"counts\"]]) == 0)\n",
    "tInds <- Reduce(union,tInds)\n",
    "tInds <- union(rInds, tInds)\n",
    "# rm(seChimp)\n",
    "# infReps <- assays(seChimpScaled)[grep(\"infRep\", assayNames(seChimpScaled))]\n",
    "# infReps <- abind::abind(as.list(infReps), along = 3)\n",
    "infReps <- infReps[-tInds,,]\n",
    "\n",
    "corMean <- matrix(0, dim(infReps)[1], dim(infReps)[1])\n",
    "for(i in seq(ncol(seChimpScaled))) {\n",
    "     corTxps <- cor(t(infReps[,i,]))\n",
    "     corMean <- corMean + corTxps\n",
    "     ###Building on anticorrelation\n",
    "     rm(corTxps)\n",
    "     gc()\n",
    "}\n",
    "corMean <- corMean/ncol(seChimpScaled)"
   ]
  },
  {
   "cell_type": "code",
   "execution_count": 21,
   "id": "8426517a",
   "metadata": {},
   "outputs": [],
   "source": [
    "load(\"environment/Chimp/mode=gcbias/post_type=gibbs_nrep=100_tf=100/tree_analysis/cor_tree.RData\")"
   ]
  }
 ],
 "metadata": {
  "kernelspec": {
   "display_name": "R",
   "language": "R",
   "name": "ir"
  },
  "language_info": {
   "codemirror_mode": "r",
   "file_extension": ".r",
   "mimetype": "text/x-r-source",
   "name": "R",
   "pygments_lexer": "r",
   "version": "4.1.1"
  }
 },
 "nbformat": 4,
 "nbformat_minor": 5
}
