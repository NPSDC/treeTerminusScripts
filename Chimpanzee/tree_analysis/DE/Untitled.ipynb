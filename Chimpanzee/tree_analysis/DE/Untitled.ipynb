{
 "cells": [
  {
   "cell_type": "code",
   "execution_count": null,
   "id": "1b6d5c23",
   "metadata": {},
   "outputs": [],
   "source": [
    "if (is(db, \"EnsDb\")) {\n",
    "    if (!requireNamespace(\"ensembldb\", quietly=TRUE)) {\n",
    "      stop(\"db=EnsDb requires 'ensembldb' Bioconductor package\")\n",
    "    }\n",
    "    GenomeInfoDb::seqlevelsStyle(db) <- \"UCSC\"\n",
    "    # warning is also showing up on ensembldb vignette...\n",
    "    suppressWarnings({\n",
    "      gene_region <- ensembldb::getGeneRegionTrackForGviz(\n",
    "        db,\n",
    "        chromosome=chr,\n",
    "        start=start(region)+10,\n",
    "        end=end(region)-10)\n",
    "    })\n",
    "    gene_track <- Gviz::GeneRegionTrack(\n",
    "      range=gene_region,\n",
    "      name=\"gene model\",\n",
    "      transcriptAnnotation=transcriptAnnotation,\n",
    "      col=geneBorderCol, col.line=geneBorderCol,\n",
    "      fontcolor.group=geneBorderCol, fill=geneFillCol)\n",
    "  } else {\n",
    "    message(\"using TxDb, assuming UCSC seqlevelsStyle\")\n",
    "    gene_track <- Gviz::GeneRegionTrack(\n",
    "      range=db,\n",
    "      chromosome=chr,\n",
    "      start=start(region)+10,\n",
    "      end=end(region)-10,\n",
    "      name=\"gene model\",\n",
    "      transcriptAnnotation=transcriptAnnotation,\n",
    "      col=geneBorderCol, col.line=geneBorderCol,\n",
    "      fontcolor.group=geneBorderCol, fill=geneFillCol)\n",
    "  }"
   ]
  },
  {
   "cell_type": "code",
   "execution_count": 4,
   "id": "6b6bb655",
   "metadata": {},
   "outputs": [],
   "source": [
    "library(GenomeInfoDb)"
   ]
  },
  {
   "cell_type": "code",
   "execution_count": 8,
   "id": "acd1efba",
   "metadata": {},
   "outputs": [],
   "source": [
    "setwd('/fs/cbcb-lab/rob/students/noor/Uncertainity/treeTerminusScripts')\n",
    "saveDir <- \"environment/Chimp/DE\"\n",
    "load(file.path(saveDir, \"gy.RData\"))"
   ]
  },
  {
   "cell_type": "code",
   "execution_count": 13,
   "id": "4372ac3a",
   "metadata": {},
   "outputs": [],
   "source": [
    "gr <- GenomeInfoDb::keepStandardChromosomes(\n",
    "                        gr, pruning.mode=\"coarse\")"
   ]
  },
  {
   "cell_type": "code",
   "execution_count": 14,
   "id": "cf8ac96f",
   "metadata": {},
   "outputs": [],
   "source": [
    "GenomeInfoDb::seqlevelsStyle(gr) <- \"UCSC\"\n",
    "    "
   ]
  },
  {
   "cell_type": "code",
   "execution_count": 17,
   "id": "29e7ff78",
   "metadata": {},
   "outputs": [],
   "source": [
    "gene <- \"ENSPTRG00000017182\"\n",
    "gr <- gr[gr$gene_id == gene]\n",
    "region <- range(gr)\n",
    "total_width <- width(region)"
   ]
  },
  {
   "cell_type": "code",
   "execution_count": null,
   "id": "f9c31183",
   "metadata": {},
   "outputs": [],
   "source": []
  }
 ],
 "metadata": {
  "kernelspec": {
   "display_name": "R",
   "language": "R",
   "name": "ir"
  },
  "language_info": {
   "codemirror_mode": "r",
   "file_extension": ".r",
   "mimetype": "text/x-r-source",
   "name": "R",
   "pygments_lexer": "r",
   "version": "4.1.1"
  }
 },
 "nbformat": 4,
 "nbformat_minor": 5
}
