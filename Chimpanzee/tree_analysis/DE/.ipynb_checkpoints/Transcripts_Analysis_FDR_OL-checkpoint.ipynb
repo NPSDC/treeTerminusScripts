{
 "cells": [
  {
   "cell_type": "markdown",
   "id": "c7b3dfd9",
   "metadata": {},
   "source": [
    "### Loading Dataset"
   ]
  },
  {
   "cell_type": "code",
   "execution_count": 1,
   "id": "3b7f6825",
   "metadata": {},
   "outputs": [],
   "source": [
    "setwd('/fs/cbcb-lab/rob/students/noor/Uncertainity/treeTerminusScripts')\n",
    "suppressPackageStartupMessages(source(\"tree_helper_function.R\"))\n",
    "suppressPackageStartupMessages(source(\"tree_term_climb.R\"))\n",
    "suppressPackageStartupMessages(library(beaveR))\n",
    "suppressPackageStartupMessages(library(TreeSummarizedExperiment))\n",
    "\n",
    "saveDir <- \"environment/Chimp/DE\"\n",
    "load(file.path(saveDir, \"tseChimp.RData\"))\n",
    "load(file.path(saveDir, \"yAll.RData\"))\n",
    "load(file.path(saveDir, \"y.RData\"))\n",
    "load(file.path(saveDir, \"gy.RData\"))\n",
    "treeCons <- rowTree(tseChimp)\n",
    "nleaves <- length(treeCons$tip)\n",
    "\n",
    "# metaData <- read.delim(\"/fs/cbcb-lab/rob/students/noor/Uncertainity/real_datasets/GSE100505_EDL_MAST/SRR_Acc_List.txt\")\n",
    "# quantDir <- \"/fs/cbcb-lab/rob/students/noor/Uncertainity/real_datasets/GSE100505_EDL_MAST/sal_out/mode_gcbias=True/posttype=gibbs_npost=100_tf=100\"\n",
    "# samples <- metaData$RUN\n",
    "# files <- file.path(quantDir, samples, \"quant.sf\")\n",
    "# colData <- cbind(data.frame(files = files, names = samples), condition = as.factor(metaData$TissueName))\n",
    "# seMuscle <- tximeta::tximeta(colData)"
   ]
  },
  {
   "cell_type": "code",
   "execution_count": 2,
   "id": "f2cc9e0c",
   "metadata": {},
   "outputs": [],
   "source": [
    "treeCons <- rowTree(yAll)\n",
    "nleaves <- length(treeCons$tip)"
   ]
  },
  {
   "cell_type": "markdown",
   "id": "1d7ba02d",
   "metadata": {},
   "source": [
    "#### Transcript level analysis"
   ]
  },
  {
   "cell_type": "code",
   "execution_count": 3,
   "id": "502afa9b",
   "metadata": {},
   "outputs": [
    {
     "data": {
      "text/html": [
       "25236"
      ],
      "text/latex": [
       "25236"
      ],
      "text/markdown": [
       "25236"
      ],
      "text/plain": [
       "[1] 25236"
      ]
     },
     "metadata": {},
     "output_type": "display_data"
    },
    {
     "data": {
      "text/html": [
       "49951"
      ],
      "text/latex": [
       "49951"
      ],
      "text/markdown": [
       "49951"
      ],
      "text/plain": [
       "[1] 49951"
      ]
     },
     "metadata": {},
     "output_type": "display_data"
    },
    {
     "data": {
      "text/html": [
       "13831"
      ],
      "text/latex": [
       "13831"
      ],
      "text/markdown": [
       "13831"
      ],
      "text/plain": [
       "[1] 13831"
      ]
     },
     "metadata": {},
     "output_type": "display_data"
    },
    {
     "data": {
      "text/html": [
       "13496"
      ],
      "text/latex": [
       "13496"
      ],
      "text/markdown": [
       "13496"
      ],
      "text/plain": [
       "[1] 13496"
      ]
     },
     "metadata": {},
     "output_type": "display_data"
    },
    {
     "data": {
      "text/html": [
       "11886"
      ],
      "text/latex": [
       "11886"
      ],
      "text/markdown": [
       "11886"
      ],
      "text/plain": [
       "[1] 11886"
      ]
     },
     "metadata": {},
     "output_type": "display_data"
    },
    {
     "data": {
      "text/html": [
       "11813"
      ],
      "text/latex": [
       "11813"
      ],
      "text/markdown": [
       "11813"
      ],
      "text/plain": [
       "[1] 11813"
      ]
     },
     "metadata": {},
     "output_type": "display_data"
    }
   ],
   "source": [
    "sum(mcols(y)[[\"keep\"]])\n",
    "sum(mcols(yAll)[[\"keep\"]])\n",
    "sum(mcols(y)[[\"pvalue\"]] < 0.1, na.rm=T)\n",
    "sum(mcols(yAll)[treeCons$tip.label,\"pvalue\"] < 0.1, na.rm=T)\n",
    "\n",
    "sum(mcols(y)[[\"qvalue\"]] < 0.1, na.rm=T)\n",
    "sum(mcols(yAll)[treeCons$tip.label,\"qvalue\"] < 0.1, na.rm=T)"
   ]
  },
  {
   "cell_type": "markdown",
   "id": "dffdf328",
   "metadata": {},
   "source": [
    "##### Differentially Expressed Transcripts"
   ]
  },
  {
   "cell_type": "code",
   "execution_count": 4,
   "id": "73585db6",
   "metadata": {},
   "outputs": [
    {
     "data": {
      "text/html": [
       "<style>\n",
       ".list-inline {list-style: none; margin:0; padding: 0}\n",
       ".list-inline>li {display: inline-block}\n",
       ".list-inline>li:not(:last-child)::after {content: \"\\00b7\"; padding: 0 .5ex}\n",
       "</style>\n",
       "<ol class=list-inline><li>3539</li><li>10133</li><li>11886</li></ol>\n"
      ],
      "text/latex": [
       "\\begin{enumerate*}\n",
       "\\item 3539\n",
       "\\item 10133\n",
       "\\item 11886\n",
       "\\end{enumerate*}\n"
      ],
      "text/markdown": [
       "1. 3539\n",
       "2. 10133\n",
       "3. 11886\n",
       "\n",
       "\n"
      ],
      "text/plain": [
       "[1]  3539 10133 11886"
      ]
     },
     "metadata": {},
     "output_type": "display_data"
    }
   ],
   "source": [
    "sapply(c(0.01,0.05,0.1), function(x) sum(mcols(y)[[\"qvalue\"]] <= x, na.rm=T))\n",
    "dTxps <- lapply(c(0.01,0.05,0.1), function(x) rownames(y)[which(mcols(y)[[\"qvalue\"]] <= x)])"
   ]
  },
  {
   "cell_type": "markdown",
   "id": "6d418fa0",
   "metadata": {},
   "source": [
    "##### Genes Mapping to those transcripts"
   ]
  },
  {
   "cell_type": "code",
   "execution_count": 5,
   "id": "289e48ec",
   "metadata": {},
   "outputs": [
    {
     "data": {
      "text/html": [
       "<style>\n",
       ".list-inline {list-style: none; margin:0; padding: 0}\n",
       ".list-inline>li {display: inline-block}\n",
       ".list-inline>li:not(:last-child)::after {content: \"\\00b7\"; padding: 0 .5ex}\n",
       "</style>\n",
       "<ol class=list-inline><li>3236</li><li>8304</li><li>9492</li></ol>\n"
      ],
      "text/latex": [
       "\\begin{enumerate*}\n",
       "\\item 3236\n",
       "\\item 8304\n",
       "\\item 9492\n",
       "\\end{enumerate*}\n"
      ],
      "text/markdown": [
       "1. 3236\n",
       "2. 8304\n",
       "3. 9492\n",
       "\n",
       "\n"
      ],
      "text/plain": [
       "[1] 3236 8304 9492"
      ]
     },
     "metadata": {},
     "output_type": "display_data"
    }
   ],
   "source": [
    "mapDf <- rowData(tseChimp)\n",
    "txpGenes <- lapply(dTxps, function(txps) unique(unlist(mapDf[txps, \"GENEID\"])))##Genes that map to transcripts\n",
    "sapply(txpGenes, length)"
   ]
  },
  {
   "cell_type": "markdown",
   "id": "0dafc6aa",
   "metadata": {},
   "source": [
    "#### Gene Level"
   ]
  },
  {
   "cell_type": "markdown",
   "id": "f85f136a",
   "metadata": {},
   "source": [
    "##### Differentially expressed genes"
   ]
  },
  {
   "cell_type": "code",
   "execution_count": 6,
   "id": "aaf36c52",
   "metadata": {},
   "outputs": [
    {
     "data": {
      "text/html": [
       "<style>\n",
       ".list-inline {list-style: none; margin:0; padding: 0}\n",
       ".list-inline>li {display: inline-block}\n",
       ".list-inline>li:not(:last-child)::after {content: \"\\00b7\"; padding: 0 .5ex}\n",
       "</style>\n",
       "<ol class=list-inline><li>3786</li><li>6011</li><li>7331</li></ol>\n"
      ],
      "text/latex": [
       "\\begin{enumerate*}\n",
       "\\item 3786\n",
       "\\item 6011\n",
       "\\item 7331\n",
       "\\end{enumerate*}\n"
      ],
      "text/markdown": [
       "1. 3786\n",
       "2. 6011\n",
       "3. 7331\n",
       "\n",
       "\n"
      ],
      "text/plain": [
       "[1] 3786 6011 7331"
      ]
     },
     "metadata": {},
     "output_type": "display_data"
    }
   ],
   "source": [
    "dges <- lapply(c(0.01,0.05,0.1), function(x) rownames(gy)[which(mcols(gy)[[\"qvalue\"]] <= x)])\n",
    "sapply(dges, length)"
   ]
  },
  {
   "cell_type": "markdown",
   "id": "bb734693",
   "metadata": {},
   "source": [
    "### Genes that are considered differentially expressed in gene level analysis but don't contain a single differentially expressed transcript"
   ]
  },
  {
   "cell_type": "code",
   "execution_count": 7,
   "id": "6033fad2",
   "metadata": {},
   "outputs": [
    {
     "data": {
      "text/html": [
       "<style>\n",
       ".list-inline {list-style: none; margin:0; padding: 0}\n",
       ".list-inline>li {display: inline-block}\n",
       ".list-inline>li:not(:last-child)::after {content: \"\\00b7\"; padding: 0 .5ex}\n",
       "</style>\n",
       "<ol class=list-inline><li>1173</li><li>255</li><li>266</li></ol>\n"
      ],
      "text/latex": [
       "\\begin{enumerate*}\n",
       "\\item 1173\n",
       "\\item 255\n",
       "\\item 266\n",
       "\\end{enumerate*}\n"
      ],
      "text/markdown": [
       "1. 1173\n",
       "2. 255\n",
       "3. 266\n",
       "\n",
       "\n"
      ],
      "text/plain": [
       "[1] 1173  255  266"
      ]
     },
     "metadata": {},
     "output_type": "display_data"
    },
    {
     "data": {
      "text/html": [
       "<style>\n",
       ".list-inline {list-style: none; margin:0; padding: 0}\n",
       ".list-inline>li {display: inline-block}\n",
       ".list-inline>li:not(:last-child)::after {content: \"\\00b7\"; padding: 0 .5ex}\n",
       "</style>\n",
       "<ol class=list-inline><li>623</li><li>2548</li><li>2427</li></ol>\n"
      ],
      "text/latex": [
       "\\begin{enumerate*}\n",
       "\\item 623\n",
       "\\item 2548\n",
       "\\item 2427\n",
       "\\end{enumerate*}\n"
      ],
      "text/markdown": [
       "1. 623\n",
       "2. 2548\n",
       "3. 2427\n",
       "\n",
       "\n"
      ],
      "text/plain": [
       "[1]  623 2548 2427"
      ]
     },
     "metadata": {},
     "output_type": "display_data"
    }
   ],
   "source": [
    "diffGenes <- lapply(seq_along(dges), function(i) setdiff(dges[[i]], txpGenes[[i]])) ## dges that are missing in genes mapped by differential transcripts\n",
    "sapply(diffGenes, length)\n",
    "diffGenes2 <- lapply(seq_along(dges), function(i) setdiff(txpGenes[[i]], dges[[i]])) ## Genes that are mapped to differential transcripts but not mapped by genes\n",
    "sapply(diffGenes2, length)\n",
    "# sum(mcols(y)[unlist(mcols(yg)[diffGenes[[2]],\"tx_ids\"]), \"qvalue\"] < 0.05, na.rm=T)==0 ## None of the diffGenes should contain a differential transcript"
   ]
  },
  {
   "cell_type": "markdown",
   "id": "2a62afd4",
   "metadata": {},
   "source": [
    "#### TreeDE, with the total number of nodes, inner nodes and their height distribution"
   ]
  },
  {
   "cell_type": "code",
   "execution_count": 8,
   "id": "c6645904",
   "metadata": {},
   "outputs": [
    {
     "data": {
      "text/html": [
       "<style>\n",
       ".list-inline {list-style: none; margin:0; padding: 0}\n",
       ".list-inline>li {display: inline-block}\n",
       ".list-inline>li:not(:last-child)::after {content: \"\\00b7\"; padding: 0 .5ex}\n",
       "</style>\n",
       "<ol class=list-inline><li>7340</li><li>10378</li><li>12054</li></ol>\n"
      ],
      "text/latex": [
       "\\begin{enumerate*}\n",
       "\\item 7340\n",
       "\\item 10378\n",
       "\\item 12054\n",
       "\\end{enumerate*}\n"
      ],
      "text/markdown": [
       "1. 7340\n",
       "2. 10378\n",
       "3. 12054\n",
       "\n",
       "\n"
      ],
      "text/plain": [
       "[1]  7340 10378 12054"
      ]
     },
     "metadata": {},
     "output_type": "display_data"
    },
    {
     "data": {
      "text/html": [
       "<style>\n",
       ".list-inline {list-style: none; margin:0; padding: 0}\n",
       ".list-inline>li {display: inline-block}\n",
       ".list-inline>li:not(:last-child)::after {content: \"\\00b7\"; padding: 0 .5ex}\n",
       "</style>\n",
       "<ol class=list-inline><li>2156</li><li>2693</li><li>2944</li></ol>\n"
      ],
      "text/latex": [
       "\\begin{enumerate*}\n",
       "\\item 2156\n",
       "\\item 2693\n",
       "\\item 2944\n",
       "\\end{enumerate*}\n"
      ],
      "text/markdown": [
       "1. 2156\n",
       "2. 2693\n",
       "3. 2944\n",
       "\n",
       "\n"
      ],
      "text/plain": [
       "[1] 2156 2693 2944"
      ]
     },
     "metadata": {},
     "output_type": "display_data"
    },
    {
     "data": {
      "text/plain": [
       "[[1]]\n",
       "\n",
       "   1    2    3    4    5    6    7    8    9 \n",
       "5184 1294  536  189   86   27   15    4    5 \n",
       "\n",
       "[[2]]\n",
       "\n",
       "   1    2    3    4    5    6    7    8    9 \n",
       "7685 1688  634  229   81   35   17    6    3 \n",
       "\n",
       "[[3]]\n",
       "\n",
       "   1    2    3    4    5    6    7    8    9 \n",
       "9110 1882  683  232   81   38   18    7    3 \n"
      ]
     },
     "metadata": {},
     "output_type": "display_data"
    }
   ],
   "source": [
    "load(file.path(saveDir, \"tAfterBHMoreClimbMIRV.RData\"))\n",
    "treeDE <- tAfterBHMoreClimbMIRV[[\"mIRV=0.4\"]] ## renaming the treeDE variable\n",
    "sapply(treeDE, length) ## number of differentially expressed nodes\n",
    "sapply(treeDE, function(nodes) sum(nodes > nleaves)) ## number of inner nodes\n",
    "lapply(treeDE, function(nodes) table(node.depth(treeCons,2)[nodes])) ## Distribution of node heights"
   ]
  },
  {
   "cell_type": "markdown",
   "id": "34c59525",
   "metadata": {},
   "source": [
    "##### Genes mapping to the treeDE nodes and their number"
   ]
  },
  {
   "cell_type": "code",
   "execution_count": 9,
   "id": "e34b615d",
   "metadata": {},
   "outputs": [
    {
     "data": {
      "text/html": [
       "<style>\n",
       ".list-inline {list-style: none; margin:0; padding: 0}\n",
       ".list-inline>li {display: inline-block}\n",
       ".list-inline>li:not(:last-child)::after {content: \"\\00b7\"; padding: 0 .5ex}\n",
       "</style>\n",
       "<ol class=list-inline><li>6485</li><li>8770</li><li>9944</li></ol>\n"
      ],
      "text/latex": [
       "\\begin{enumerate*}\n",
       "\\item 6485\n",
       "\\item 8770\n",
       "\\item 9944\n",
       "\\end{enumerate*}\n"
      ],
      "text/markdown": [
       "1. 6485\n",
       "2. 8770\n",
       "3. 9944\n",
       "\n",
       "\n"
      ],
      "text/plain": [
       "[1] 6485 8770 9944"
      ]
     },
     "metadata": {},
     "output_type": "display_data"
    },
    {
     "data": {
      "text/html": [
       "<table class=\"dataframe\">\n",
       "<caption>A matrix: 3 × 3 of type int</caption>\n",
       "<tbody>\n",
       "\t<tr><th scope=row>1</th><td>7220</td><td>10215</td><td>11871</td></tr>\n",
       "\t<tr><th scope=row>2</th><td> 119</td><td>  162</td><td>  182</td></tr>\n",
       "\t<tr><th scope=row>3</th><td>   1</td><td>    1</td><td>    1</td></tr>\n",
       "</tbody>\n",
       "</table>\n"
      ],
      "text/latex": [
       "A matrix: 3 × 3 of type int\n",
       "\\begin{tabular}{r|lll}\n",
       "\t1 & 7220 & 10215 & 11871\\\\\n",
       "\t2 &  119 &   162 &   182\\\\\n",
       "\t3 &    1 &     1 &     1\\\\\n",
       "\\end{tabular}\n"
      ],
      "text/markdown": [
       "\n",
       "A matrix: 3 × 3 of type int\n",
       "\n",
       "| 1 | 7220 | 10215 | 11871 |\n",
       "| 2 |  119 |   162 |   182 |\n",
       "| 3 |    1 |     1 |     1 |\n",
       "\n"
      ],
      "text/plain": [
       "  [,1] [,2]  [,3] \n",
       "1 7220 10215 11871\n",
       "2  119   162   182\n",
       "3    1     1     1"
      ]
     },
     "metadata": {},
     "output_type": "display_data"
    }
   ],
   "source": [
    "genesTreeDE <- lapply(treeDE, function(nodes) {\n",
    "    lapply(Descendants(treeCons,nodes), function(desc) unique(unlist(mapDf[treeCons$tip[desc],\"GENEID\"])))})\n",
    "sapply(genesTreeDE, function(genes) length(unique(unlist(genes)))) ## Number of genes mapping to treeDE nodes\n",
    "sapply(genesTreeDE, function(nodes) table(sapply(nodes,length))) ## Distribution of number of genes and nodes"
   ]
  },
  {
   "cell_type": "markdown",
   "id": "31648cb4",
   "metadata": {},
   "source": [
    "#### Genes that map only to treeDE but are neither DE or covered by differential transcripts"
   ]
  },
  {
   "cell_type": "code",
   "execution_count": 10,
   "id": "5ca143b9",
   "metadata": {},
   "outputs": [
    {
     "data": {
      "text/html": [
       "<style>\n",
       ".list-inline {list-style: none; margin:0; padding: 0}\n",
       ".list-inline>li {display: inline-block}\n",
       ".list-inline>li:not(:last-child)::after {content: \"\\00b7\"; padding: 0 .5ex}\n",
       "</style>\n",
       "<ol class=list-inline><li>'ENSPTRG00000019904'</li><li>'ENSPTRG00000050773'</li><li>'ENSPTRG00000019837'</li><li>'ENSPTRG00000043336'</li><li>'ENSPTRG00000016440'</li><li>'ENSPTRG00000003776'</li></ol>\n"
      ],
      "text/latex": [
       "\\begin{enumerate*}\n",
       "\\item 'ENSPTRG00000019904'\n",
       "\\item 'ENSPTRG00000050773'\n",
       "\\item 'ENSPTRG00000019837'\n",
       "\\item 'ENSPTRG00000043336'\n",
       "\\item 'ENSPTRG00000016440'\n",
       "\\item 'ENSPTRG00000003776'\n",
       "\\end{enumerate*}\n"
      ],
      "text/markdown": [
       "1. 'ENSPTRG00000019904'\n",
       "2. 'ENSPTRG00000050773'\n",
       "3. 'ENSPTRG00000019837'\n",
       "4. 'ENSPTRG00000043336'\n",
       "5. 'ENSPTRG00000016440'\n",
       "6. 'ENSPTRG00000003776'\n",
       "\n",
       "\n"
      ],
      "text/plain": [
       "[1] \"ENSPTRG00000019904\" \"ENSPTRG00000050773\" \"ENSPTRG00000019837\"\n",
       "[4] \"ENSPTRG00000043336\" \"ENSPTRG00000016440\" \"ENSPTRG00000003776\""
      ]
     },
     "metadata": {},
     "output_type": "display_data"
    },
    {
     "data": {
      "text/html": [
       "<style>\n",
       ".list-inline {list-style: none; margin:0; padding: 0}\n",
       ".list-inline>li {display: inline-block}\n",
       ".list-inline>li:not(:last-child)::after {content: \"\\00b7\"; padding: 0 .5ex}\n",
       "</style>\n",
       "<ol class=list-inline><li>2166</li><li>395</li><li>362</li></ol>\n"
      ],
      "text/latex": [
       "\\begin{enumerate*}\n",
       "\\item 2166\n",
       "\\item 395\n",
       "\\item 362\n",
       "\\end{enumerate*}\n"
      ],
      "text/markdown": [
       "1. 2166\n",
       "2. 395\n",
       "3. 362\n",
       "\n",
       "\n"
      ],
      "text/plain": [
       "[1] 2166  395  362"
      ]
     },
     "metadata": {},
     "output_type": "display_data"
    }
   ],
   "source": [
    "innerNodesUniqueGenes <- lapply(seq_along(genesTreeDE), function(i) setdiff(unlist(genesTreeDE[[i]]), union(dges[[i]], txpGenes[[i]])))\n",
    "head(innerNodesUniqueGenes[[2]]) \n",
    "sapply(innerNodesUniqueGenes, length)"
   ]
  },
  {
   "cell_type": "code",
   "execution_count": 13,
   "id": "78a68b59",
   "metadata": {},
   "outputs": [],
   "source": [
    "unGenesSNode <- lapply(seq_along(innerNodesUniqueGenes), function(i) {\n",
    "        gNodes <- innerNodesUniqueGenes[[i]]\n",
    "        gNodes[sapply(gNodes, function(gene) {\n",
    "    sum(sapply(genesTreeDE[[i]], function(g) sum(gene %in% g) > 0 & length(g)>1)) == 0 ##gene maps unique to a single node\n",
    "})]\n",
    "})\n",
    "# innerNodesUniqueGenes[[2]][sapply(innerNodesUniqueGenes[[2]], function(gene) {\n",
    "#     sum(sapply(genesTreeDE[[2]], function(g) sum(gene %in% g) > 0 & length(g)>1)) == 0\n",
    "# })]"
   ]
  },
  {
   "cell_type": "code",
   "execution_count": 14,
   "id": "7dac0c07",
   "metadata": {},
   "outputs": [
    {
     "data": {
      "text/html": [
       "<style>\n",
       ".list-inline {list-style: none; margin:0; padding: 0}\n",
       ".list-inline>li {display: inline-block}\n",
       ".list-inline>li:not(:last-child)::after {content: \"\\00b7\"; padding: 0 .5ex}\n",
       "</style>\n",
       "<ol class=list-inline><li>1992</li><li>217</li><li>175</li></ol>\n"
      ],
      "text/latex": [
       "\\begin{enumerate*}\n",
       "\\item 1992\n",
       "\\item 217\n",
       "\\item 175\n",
       "\\end{enumerate*}\n"
      ],
      "text/markdown": [
       "1. 1992\n",
       "2. 217\n",
       "3. 175\n",
       "\n",
       "\n"
      ],
      "text/plain": [
       "[1] 1992  217  175"
      ]
     },
     "metadata": {},
     "output_type": "display_data"
    }
   ],
   "source": [
    "sapply(unGenesSNode, length) ### Nodes that map to a single gene"
   ]
  },
  {
   "cell_type": "markdown",
   "id": "bf1b1316",
   "metadata": {},
   "source": [
    "Such inner nodes can be possible DTUs. We thus extract the treeDE nodes to which these genes map to and try to see if there are multiple such tree DE nodes that map to same gene.Looking at the 0.05 threshold change, we find only 0 gene for which a dtu on the inner nodes is observed.\n",
    "\n",
    "For the remaining that have map to inner node, infRV decreases compared to their children though the logFC is lower compared to children. logFC though definitely decreases at gene."
   ]
  },
  {
   "cell_type": "code",
   "execution_count": 15,
   "id": "6bfe25cd",
   "metadata": {},
   "outputs": [
    {
     "data": {
      "text/html": [
       "106"
      ],
      "text/latex": [
       "106"
      ],
      "text/markdown": [
       "106"
      ],
      "text/plain": [
       "[1] 106"
      ]
     },
     "metadata": {},
     "output_type": "display_data"
    },
    {
     "data": {
      "text/html": [
       "0"
      ],
      "text/latex": [
       "0"
      ],
      "text/markdown": [
       "0"
      ],
      "text/plain": [
       "[1] 0"
      ]
     },
     "metadata": {},
     "output_type": "display_data"
    },
    {
     "data": {
      "text/html": [
       "101"
      ],
      "text/latex": [
       "101"
      ],
      "text/markdown": [
       "101"
      ],
      "text/plain": [
       "[1] 101"
      ]
     },
     "metadata": {},
     "output_type": "display_data"
    }
   ],
   "source": [
    "qval <- 0.15\n",
    "i <- 2\n",
    "gN <- unGenesSNode[[i]][which(mcols(gy)[unGenesSNode[[i]],\"qvalue\"] > qval)]\n",
    "length(gN) ## genes belonging to the unique treeDE nodes that have qvalue > 0.15 when doing gene level DE analysis\n",
    "\n",
    "# extracting genes unique to treeDE and have logFC > 0.2 or have atleast two sig nodes\n",
    "twoNodes <- list() \n",
    "lfcNodes <- c()\n",
    "j <- 1\n",
    "for(g in gN) {\n",
    "    iid <- which(sapply(genesTreeDE[[i]], function(genes) sum(g %in%  genes) > 0))\n",
    "    if(length(iid) > 1) {\n",
    "        twoNodes[[j]] <- iid\n",
    "        j <- j + 1\n",
    "    }\n",
    "    else if(length(which(abs(mcols(yAll)[treeDE[[2]][iid],\"log2FC\"]) > 0.2)) > 0) {\n",
    "        lfcNodes <- c(lfcNodes, iid)\n",
    "    }\n",
    "}\n",
    "length(twoNodes)\n",
    "length(lfcNodes)"
   ]
  },
  {
   "cell_type": "markdown",
   "id": "c7d49773",
   "metadata": {},
   "source": [
    "##### Other example of the above genes that however show no dtu"
   ]
  },
  {
   "cell_type": "code",
   "execution_count": 20,
   "id": "5c98db53",
   "metadata": {},
   "outputs": [
    {
     "data": {
      "text/html": [
       "<style>\n",
       ".list-inline {list-style: none; margin:0; padding: 0}\n",
       ".list-inline>li {display: inline-block}\n",
       ".list-inline>li:not(:last-child)::after {content: \"\\00b7\"; padding: 0 .5ex}\n",
       "</style>\n",
       "<ol class=list-inline><li>7</li><li>60</li><li>101</li><li>17</li><li>80</li><li>71</li><li>43</li><li>12</li><li>59</li><li>42</li><li>79</li><li>32</li><li>74</li><li>5</li><li>34</li><li>63</li><li>65</li><li>40</li><li>45</li><li>51</li><li>1</li><li>41</li><li>91</li><li>99</li><li>15</li><li>4</li><li>83</li><li>16</li><li>8</li><li>86</li></ol>\n"
      ],
      "text/latex": [
       "\\begin{enumerate*}\n",
       "\\item 7\n",
       "\\item 60\n",
       "\\item 101\n",
       "\\item 17\n",
       "\\item 80\n",
       "\\item 71\n",
       "\\item 43\n",
       "\\item 12\n",
       "\\item 59\n",
       "\\item 42\n",
       "\\item 79\n",
       "\\item 32\n",
       "\\item 74\n",
       "\\item 5\n",
       "\\item 34\n",
       "\\item 63\n",
       "\\item 65\n",
       "\\item 40\n",
       "\\item 45\n",
       "\\item 51\n",
       "\\item 1\n",
       "\\item 41\n",
       "\\item 91\n",
       "\\item 99\n",
       "\\item 15\n",
       "\\item 4\n",
       "\\item 83\n",
       "\\item 16\n",
       "\\item 8\n",
       "\\item 86\n",
       "\\end{enumerate*}\n"
      ],
      "text/markdown": [
       "1. 7\n",
       "2. 60\n",
       "3. 101\n",
       "4. 17\n",
       "5. 80\n",
       "6. 71\n",
       "7. 43\n",
       "8. 12\n",
       "9. 59\n",
       "10. 42\n",
       "11. 79\n",
       "12. 32\n",
       "13. 74\n",
       "14. 5\n",
       "15. 34\n",
       "16. 63\n",
       "17. 65\n",
       "18. 40\n",
       "19. 45\n",
       "20. 51\n",
       "21. 1\n",
       "22. 41\n",
       "23. 91\n",
       "24. 99\n",
       "25. 15\n",
       "26. 4\n",
       "27. 83\n",
       "28. 16\n",
       "29. 8\n",
       "30. 86\n",
       "\n",
       "\n"
      ],
      "text/plain": [
       " [1]   7  60 101  17  80  71  43  12  59  42  79  32  74   5  34  63  65  40  45\n",
       "[20]  51   1  41  91  99  15   4  83  16   8  86"
      ]
     },
     "metadata": {},
     "output_type": "display_data"
    },
    {
     "name": "stdout",
     "output_type": "stream",
     "text": [
      "[1] \"ENSPTRG00000003756\"\n"
     ]
    }
   ],
   "source": [
    "head(order(mcols(yAll)[treeDE[[2]][lfcNodes],\"qvalue\"]), 30)"
   ]
  },
  {
   "cell_type": "code",
   "execution_count": 16,
   "id": "80a24ec5",
   "metadata": {},
   "outputs": [],
   "source": [
    "tnames <- sapply(strsplit(rownames(y), \".\", fixed=T), function(g) g[1])\n",
    "rnames <- rownames(y)\n",
    "names(rnames) <- tnames"
   ]
  },
  {
   "cell_type": "code",
   "execution_count": 58,
   "id": "b774ff7a",
   "metadata": {},
   "outputs": [
    {
     "name": "stdout",
     "output_type": "stream",
     "text": [
      "[1] \"ENSPTRG00000017289\"\n"
     ]
    },
    {
     "data": {
      "text/plain": [
       "DataFrame with 1 row and 3 columns\n",
       "                   log10mean    log2FC    qvalue\n",
       "                   <numeric> <numeric> <numeric>\n",
       "ENSPTRG00000017289   2.92595  0.200591  0.478691"
      ]
     },
     "metadata": {},
     "output_type": "display_data"
    },
    {
     "data": {
      "text/plain": [
       "DataFrame with 1 row and 4 columns\n",
       "          meanInfRV log10mean    log2FC      qvalue\n",
       "          <numeric> <numeric> <numeric>   <numeric>\n",
       "Node47106  0.121311   2.87189  0.430705 1.09745e-06"
      ]
     },
     "metadata": {},
     "output_type": "display_data"
    },
    {
     "data": {
      "text/plain": [
       "DataFrame with 3 rows and 4 columns\n",
       "                     meanInfRV log10mean    log2FC    qvalue\n",
       "                     <numeric> <numeric> <numeric> <numeric>\n",
       "ENSPTRT00000031995.4 19.795755   2.63370 0.3996194  0.194952\n",
       "ENSPTRT00000077169.1  0.203219   1.66853 0.0648727  0.790782\n",
       "ENSPTRT00000083497.1 29.756853   2.49691 0.4781580  0.365346"
      ]
     },
     "metadata": {},
     "output_type": "display_data"
    },
    {
     "data": {
      "text/html": [
       "<style>\n",
       ".list-inline {list-style: none; margin:0; padding: 0}\n",
       ".list-inline>li {display: inline-block}\n",
       ".list-inline>li:not(:last-child)::after {content: \"\\00b7\"; padding: 0 .5ex}\n",
       "</style>\n",
       "<ol class=list-inline><li>'ENSPTRT00000083497.1'</li><li>'ENSPTRT00000031995.4'</li></ol>\n"
      ],
      "text/latex": [
       "\\begin{enumerate*}\n",
       "\\item 'ENSPTRT00000083497.1'\n",
       "\\item 'ENSPTRT00000031995.4'\n",
       "\\end{enumerate*}\n"
      ],
      "text/markdown": [
       "1. 'ENSPTRT00000083497.1'\n",
       "2. 'ENSPTRT00000031995.4'\n",
       "\n",
       "\n"
      ],
      "text/plain": [
       "[1] \"ENSPTRT00000083497.1\" \"ENSPTRT00000031995.4\""
      ]
     },
     "metadata": {},
     "output_type": "display_data"
    },
    {
     "name": "stdout",
     "output_type": "stream",
     "text": [
      "[1] \"ENSPTRG00000015426\"\n"
     ]
    },
    {
     "data": {
      "text/plain": [
       "DataFrame with 1 row and 3 columns\n",
       "                   log10mean    log2FC    qvalue\n",
       "                   <numeric> <numeric> <numeric>\n",
       "ENSPTRG00000015426   2.24483 -0.653918   0.22476"
      ]
     },
     "metadata": {},
     "output_type": "display_data"
    },
    {
     "data": {
      "text/plain": [
       "DataFrame with 1 row and 4 columns\n",
       "          meanInfRV log10mean    log2FC      qvalue\n",
       "          <numeric> <numeric> <numeric>   <numeric>\n",
       "Node62547 0.0645414   2.42287  -1.34843 1.09745e-06"
      ]
     },
     "metadata": {},
     "output_type": "display_data"
    },
    {
     "data": {
      "text/plain": [
       "DataFrame with 3 rows and 4 columns\n",
       "                     meanInfRV log10mean    log2FC    qvalue\n",
       "                     <numeric> <numeric> <numeric> <numeric>\n",
       "ENSPTRT00000028805.4  28.29357   2.03134 -1.377275  0.067869\n",
       "ENSPTRT00000097652.1  22.69226   2.19954 -1.247895  0.110589\n",
       "ENSPTRT00000099869.1   1.11857   1.28221  0.222684  0.707436"
      ]
     },
     "metadata": {},
     "output_type": "display_data"
    },
    {
     "data": {
      "text/html": [
       "<style>\n",
       ".list-inline {list-style: none; margin:0; padding: 0}\n",
       ".list-inline>li {display: inline-block}\n",
       ".list-inline>li:not(:last-child)::after {content: \"\\00b7\"; padding: 0 .5ex}\n",
       "</style>\n",
       "<ol class=list-inline><li>'ENSPTRT00000097652.1'</li><li>'ENSPTRT00000028805.4'</li></ol>\n"
      ],
      "text/latex": [
       "\\begin{enumerate*}\n",
       "\\item 'ENSPTRT00000097652.1'\n",
       "\\item 'ENSPTRT00000028805.4'\n",
       "\\end{enumerate*}\n"
      ],
      "text/markdown": [
       "1. 'ENSPTRT00000097652.1'\n",
       "2. 'ENSPTRT00000028805.4'\n",
       "\n",
       "\n"
      ],
      "text/plain": [
       "[1] \"ENSPTRT00000097652.1\" \"ENSPTRT00000028805.4\""
      ]
     },
     "metadata": {},
     "output_type": "display_data"
    },
    {
     "name": "stdout",
     "output_type": "stream",
     "text": [
      "[1] \"ENSPTRG00000023677\"\n"
     ]
    },
    {
     "data": {
      "text/plain": [
       "DataFrame with 1 row and 3 columns\n",
       "                   log10mean    log2FC    qvalue\n",
       "                   <numeric> <numeric> <numeric>\n",
       "ENSPTRG00000023677   2.43462  0.710787  0.320308"
      ]
     },
     "metadata": {},
     "output_type": "display_data"
    },
    {
     "data": {
      "text/plain": [
       "DataFrame with 1 row and 4 columns\n",
       "          meanInfRV log10mean    log2FC      qvalue\n",
       "          <numeric> <numeric> <numeric>   <numeric>\n",
       "Node72091 0.0884303   2.32831  0.678564 1.09745e-06"
      ]
     },
     "metadata": {},
     "output_type": "display_data"
    },
    {
     "data": {
      "text/plain": [
       "DataFrame with 3 rows and 4 columns\n",
       "                     meanInfRV log10mean    log2FC    qvalue\n",
       "                     <numeric> <numeric> <numeric> <numeric>\n",
       "ENSPTRT00000050834.4   3.23270   1.56306  0.618052 0.1808838\n",
       "ENSPTRT00000082175.1  17.39499   1.48775        NA        NA\n",
       "ENSPTRT00000107623.1   6.50804   2.15382  0.581682 0.0883205"
      ]
     },
     "metadata": {},
     "output_type": "display_data"
    },
    {
     "data": {
      "text/html": [
       "<style>\n",
       ".list-inline {list-style: none; margin:0; padding: 0}\n",
       ".list-inline>li {display: inline-block}\n",
       ".list-inline>li:not(:last-child)::after {content: \"\\00b7\"; padding: 0 .5ex}\n",
       "</style>\n",
       "<ol class=list-inline><li>'ENSPTRT00000107623.1'</li><li>'ENSPTRT00000082175.1'</li><li>'ENSPTRT00000050834.4'</li></ol>\n"
      ],
      "text/latex": [
       "\\begin{enumerate*}\n",
       "\\item 'ENSPTRT00000107623.1'\n",
       "\\item 'ENSPTRT00000082175.1'\n",
       "\\item 'ENSPTRT00000050834.4'\n",
       "\\end{enumerate*}\n"
      ],
      "text/markdown": [
       "1. 'ENSPTRT00000107623.1'\n",
       "2. 'ENSPTRT00000082175.1'\n",
       "3. 'ENSPTRT00000050834.4'\n",
       "\n",
       "\n"
      ],
      "text/plain": [
       "[1] \"ENSPTRT00000107623.1\" \"ENSPTRT00000082175.1\" \"ENSPTRT00000050834.4\""
      ]
     },
     "metadata": {},
     "output_type": "display_data"
    },
    {
     "name": "stdout",
     "output_type": "stream",
     "text": [
      "[1] \"ENSPTRG00000007533\"\n"
     ]
    },
    {
     "data": {
      "text/plain": [
       "DataFrame with 1 row and 3 columns\n",
       "                   log10mean    log2FC    qvalue\n",
       "                   <numeric> <numeric> <numeric>\n",
       "ENSPTRG00000007533   2.72469 -0.499219   0.22207"
      ]
     },
     "metadata": {},
     "output_type": "display_data"
    },
    {
     "data": {
      "text/plain": [
       "DataFrame with 1 row and 4 columns\n",
       "          meanInfRV log10mean    log2FC     qvalue\n",
       "          <numeric> <numeric> <numeric>  <numeric>\n",
       "Node48252 0.0731386   2.78153 -0.501752 0.00193015"
      ]
     },
     "metadata": {},
     "output_type": "display_data"
    },
    {
     "data": {
      "text/plain": [
       "DataFrame with 3 rows and 4 columns\n",
       "                     meanInfRV log10mean    log2FC    qvalue\n",
       "                     <numeric> <numeric> <numeric> <numeric>\n",
       "ENSPTRT00000013883.5  12.09973   2.30319 -0.889919  0.136598\n",
       "ENSPTRT00000079623.1  12.86019   2.31672 -0.439393  0.256928\n",
       "ENSPTRT00000100721.1   8.33453   2.29293 -0.351177  0.201557"
      ]
     },
     "metadata": {},
     "output_type": "display_data"
    },
    {
     "data": {
      "text/html": [
       "<style>\n",
       ".list-inline {list-style: none; margin:0; padding: 0}\n",
       ".list-inline>li {display: inline-block}\n",
       ".list-inline>li:not(:last-child)::after {content: \"\\00b7\"; padding: 0 .5ex}\n",
       "</style>\n",
       "<ol class=list-inline><li>'ENSPTRT00000079623.1'</li><li>'ENSPTRT00000013883.5'</li><li>'ENSPTRT00000100721.1'</li></ol>\n"
      ],
      "text/latex": [
       "\\begin{enumerate*}\n",
       "\\item 'ENSPTRT00000079623.1'\n",
       "\\item 'ENSPTRT00000013883.5'\n",
       "\\item 'ENSPTRT00000100721.1'\n",
       "\\end{enumerate*}\n"
      ],
      "text/markdown": [
       "1. 'ENSPTRT00000079623.1'\n",
       "2. 'ENSPTRT00000013883.5'\n",
       "3. 'ENSPTRT00000100721.1'\n",
       "\n",
       "\n"
      ],
      "text/plain": [
       "[1] \"ENSPTRT00000079623.1\" \"ENSPTRT00000013883.5\" \"ENSPTRT00000100721.1\""
      ]
     },
     "metadata": {},
     "output_type": "display_data"
    }
   ],
   "source": [
    "## A lowering of the LFC but also along with a substantial decrease in infRV\n",
    "## Some of these nodes map to multiple genes some of which are DEs\n",
    "\n",
    "### Show 10, 96, 129, 60\n",
    "j <- 7\n",
    "gs <- genesTreeDE[[2]][[lfcNodes[j]]]\n",
    "print(gs)\n",
    "mcols(gy)[gs,c(\"log10mean\", \"log2FC\", \"qvalue\")]\n",
    "mcols(yAll)[treeDE[[2]][lfcNodes[j]],c(\"meanInfRV\", \"log10mean\", \"log2FC\", \"qvalue\")]\n",
    "txps <- rnames[unlist(rowData(gy)[gs,\"tx_ids\"])]\n",
    "mcols(y)[txps, c(\"meanInfRV\", \"log10mean\", \"log2FC\", \"qvalue\")]\n",
    "treeCons$tip[unlist(Descendants(treeCons, treeDE[[2]][lfcNodes[j]]))]\n",
    "\n",
    "j <- 60\n",
    "gs <- genesTreeDE[[2]][[lfcNodes[j]]]\n",
    "print(gs)\n",
    "mcols(gy)[gs,c(\"log10mean\", \"log2FC\", \"qvalue\")]\n",
    "mcols(yAll)[treeDE[[2]][lfcNodes[j]],c(\"meanInfRV\", \"log10mean\", \"log2FC\", \"qvalue\")]\n",
    "txps <- rnames[unlist(rowData(gy)[gs,\"tx_ids\"])]\n",
    "mcols(y)[txps, c(\"meanInfRV\", \"log10mean\", \"log2FC\", \"qvalue\")]\n",
    "treeCons$tip[unlist(Descendants(treeCons, treeDE[[2]][lfcNodes[j]]))]\n",
    "\n",
    "\n",
    "j <- 101\n",
    "gs <- genesTreeDE[[2]][[lfcNodes[j]]]\n",
    "print(gs)\n",
    "mcols(gy)[gs,c(\"log10mean\", \"log2FC\", \"qvalue\")]\n",
    "mcols(yAll)[treeDE[[2]][lfcNodes[j]],c(\"meanInfRV\", \"log10mean\", \"log2FC\", \"qvalue\")]\n",
    "txps <- rnames[unlist(rowData(gy)[gs,\"tx_ids\"])]\n",
    "mcols(y)[txps, c(\"meanInfRV\", \"log10mean\", \"log2FC\", \"qvalue\")]\n",
    "treeCons$tip[unlist(Descendants(treeCons, treeDE[[2]][lfcNodes[j]]))]\n",
    "\n",
    "j <- 17\n",
    "gs <- genesTreeDE[[2]][[lfcNodes[j]]]\n",
    "print(gs)\n",
    "mcols(gy)[gs,c(\"log10mean\", \"log2FC\", \"qvalue\")]\n",
    "mcols(yAll)[treeDE[[2]][lfcNodes[j]],c(\"meanInfRV\", \"log10mean\", \"log2FC\", \"qvalue\")]\n",
    "txps <- rnames[unlist(rowData(gy)[gs,\"tx_ids\"])]\n",
    "mcols(y)[txps, c(\"meanInfRV\", \"log10mean\", \"log2FC\", \"qvalue\")]\n",
    "treeCons$tip[unlist(Descendants(treeCons, treeDE[[2]][lfcNodes[j]]))]\n",
    "\n",
    "\n",
    "# j <- 140\n",
    "# gs <- genesTreeDE[[2]][[lfcNodes[j]]]\n",
    "# print(gs)\n",
    "# mcols(yg)[gs,c(\"log10mean\", \"log2FC\", \"qvalue\")]\n",
    "# mcols(yAll)[treeDE[[2]][lfcNodes[j]],c(\"meanInfRV\", \"log10mean\", \"log2FC\", \"qvalue\")]\n",
    "# txps <- intersect(unlist(rowData(yg)[gs,\"tx_ids\"]), rownames(y))\n",
    "# mcols(y)[txps, c(\"meanInfRV\", \"log10mean\", \"log2FC\", \"qvalue\")]\n",
    "# treeCons$tip[unlist(Descendants(treeCons, treeDE[[2]][lfcNodes[j]]))]\n",
    "\n",
    "# j <- 6\n",
    "# gs <- genesTreeDE[[2]][[lfcNodes[j]]]\n",
    "# print(gs)\n",
    "# mcols(yg)[gs,c(\"log10mean\", \"log2FC\", \"qvalue\")]\n",
    "# mcols(yAll)[treeDE[[2]][lfcNodes[j]],c(\"meanInfRV\", \"log10mean\", \"log2FC\", \"qvalue\")]\n",
    "# txps <- intersect(unlist(rowData(yg)[gs,\"tx_ids\"]), rownames(y))\n",
    "# mcols(y)[txps, c(\"meanInfRV\", \"log10mean\", \"log2FC\", \"qvalue\")]\n",
    "# treeCons$tip[unlist(Descendants(treeCons, treeDE[[2]][lfcNodes[j]]))]\n",
    "\n",
    "# j <- 144\n",
    "# gs <- genesTreeDE[[2]][[lfcNodes[j]]]\n",
    "# print(gs)\n",
    "# mcols(yg)[gs,c(\"log10mean\", \"log2FC\", \"qvalue\")]\n",
    "# mcols(yAll)[treeDE[[2]][lfcNodes[j]],c(\"meanInfRV\", \"log10mean\", \"log2FC\", \"qvalue\")]\n",
    "# txps <- intersect(unlist(rowData(yg)[gs,\"tx_ids\"]), rownames(y))\n",
    "# mcols(y)[txps, c(\"meanInfRV\", \"log10mean\", \"log2FC\", \"qvalue\")]\n",
    "# treeCons$tip[unlist(Descendants(treeCons, treeDE[[2]][lfcNodes[j]]))]\n",
    "\n",
    "# j <- 77\n",
    "# gs <- genesTreeDE[[2]][[lfcNodes[j]]]\n",
    "# print(gs)\n",
    "# mcols(yg)[gs,c(\"log10mean\", \"log2FC\", \"qvalue\")]\n",
    "# mcols(yAll)[treeDE[[2]][lfcNodes[j]],c(\"meanInfRV\", \"log10mean\", \"log2FC\", \"qvalue\")]\n",
    "# txps <- intersect(unlist(rowData(yg)[gs,\"tx_ids\"]), rownames(y))\n",
    "# mcols(y)[txps, c(\"meanInfRV\", \"log10mean\", \"log2FC\", \"qvalue\")]\n",
    "# treeCons$tip[unlist(Descendants(treeCons, treeDE[[2]][lfcNodes[j]]))]\n",
    "\n",
    "# j <- 12\n",
    "# gs <- genesTreeDE[[2]][[lfcNodes[j]]]\n",
    "# print(gs)\n",
    "# mcols(yg)[gs,c(\"log10mean\", \"log2FC\", \"qvalue\")]\n",
    "# mcols(yAll)[treeDE[[2]][lfcNodes[j]],c(\"meanInfRV\", \"log10mean\", \"log2FC\", \"qvalue\")]\n",
    "# txps <- intersect(unlist(rowData(yg)[gs,\"tx_ids\"]), rownames(y))\n",
    "# mcols(y)[txps, c(\"meanInfRV\", \"log10mean\", \"log2FC\", \"qvalue\")]\n",
    "# treeCons$tip[unlist(Descendants(treeCons, treeDE[[2]][lfcNodes[j]]))]"
   ]
  },
  {
   "cell_type": "markdown",
   "id": "6f112f5f",
   "metadata": {},
   "source": [
    "Transcript end side different\n",
    "https://useast.ensembl.org/Mus_musculus/Gene/Summary?db=core;g=ENSMUSG00000028936;r=4:152410199-152418528 \n",
    "Mutually exclusive exon(start)\n",
    "https://useast.ensembl.org/Mus_musculus/Gene/Summary?db=core;g=ENSMUSG00000045917;r=4:63477018-63504594\n",
    "Transcript end side different\n",
    "https://useast.ensembl.org/Mus_musculus/Gene/Summary?db=core;g=ENSMUSG00000030678;r=7:126621302-126626209\n",
    "Different start side\n",
    "https://useast.ensembl.org/Mus_musculus/Gene/Summary?db=core;g=ENSMUSG00000058881;r=18:82928788-83023439\n",
    "Skipped Exon\n",
    "https://useast.ensembl.org/Mus_musculus/Gene/Summary?db=core;g=ENSMUSG00000002546;r=2:32177396-32197933"
   ]
  },
  {
   "cell_type": "markdown",
   "id": "507ca5b4",
   "metadata": {},
   "source": [
    "#### Genes belonging to treeDE nodes that intersect with differentially expressed genes but are not covered by transcripts.'\n",
    "We see many such genes that contain differential nodes but no differentially expressed transcripts. The magnitude of logFC in most cases though decreases from trancript to gene."
   ]
  },
  {
   "cell_type": "code",
   "execution_count": 17,
   "id": "3fef563e",
   "metadata": {},
   "outputs": [
    {
     "data": {
      "text/html": [
       "<style>\n",
       ".list-inline {list-style: none; margin:0; padding: 0}\n",
       ".list-inline>li {display: inline-block}\n",
       ".list-inline>li:not(:last-child)::after {content: \"\\00b7\"; padding: 0 .5ex}\n",
       "</style>\n",
       "<ol class=list-inline><li>1217</li><li>151</li><li>131</li></ol>\n"
      ],
      "text/latex": [
       "\\begin{enumerate*}\n",
       "\\item 1217\n",
       "\\item 151\n",
       "\\item 131\n",
       "\\end{enumerate*}\n"
      ],
      "text/markdown": [
       "1. 1217\n",
       "2. 151\n",
       "3. 131\n",
       "\n",
       "\n"
      ],
      "text/plain": [
       "[1] 1217  151  131"
      ]
     },
     "metadata": {},
     "output_type": "display_data"
    }
   ],
   "source": [
    "genesNodeCommonDGE <- lapply(seq_along(diffGenes), function(i) unlist(genesTreeDE[[i]])[unlist(genesTreeDE[[i]]) %in% diffGenes[[i]]]) ## Number of genes mapping to inner nodes that also map to dges but not dtes\n",
    "                             \n",
    "#### Extracting the index in geneTreeDE                      \n",
    "treeDECommonInds <- lapply(seq_along(genesNodeCommonDGE), function(i) {\n",
    "    sapply(genesNodeCommonDGE[[i]], function(genes) {\n",
    "        sapply(genes, function(gene) {\n",
    "            which(sapply(genesTreeDE[[i]], function(gs) sum(gene %in% gs) > 0))\n",
    "        })\n",
    "    })\n",
    "})\n",
    "sapply(genesNodeCommonDGE, length)"
   ]
  },
  {
   "cell_type": "code",
   "execution_count": 18,
   "id": "dff48f92",
   "metadata": {},
   "outputs": [
    {
     "data": {
      "text/html": [
       "<style>\n",
       ".list-inline {list-style: none; margin:0; padding: 0}\n",
       ".list-inline>li {display: inline-block}\n",
       ".list-inline>li:not(:last-child)::after {content: \"\\00b7\"; padding: 0 .5ex}\n",
       "</style>\n",
       "<ol class=list-inline><li>1180</li><li>146</li><li>128</li></ol>\n"
      ],
      "text/latex": [
       "\\begin{enumerate*}\n",
       "\\item 1180\n",
       "\\item 146\n",
       "\\item 128\n",
       "\\end{enumerate*}\n"
      ],
      "text/markdown": [
       "1. 1180\n",
       "2. 146\n",
       "3. 128\n",
       "\n",
       "\n"
      ],
      "text/plain": [
       "[1] 1180  146  128"
      ]
     },
     "metadata": {},
     "output_type": "display_data"
    }
   ],
   "source": [
    "#### Extracting the gene nodes that are unique aka they map to only 1 gene\n",
    "#### Note that single gene can map to multiple nodes within treeDE, so we need to remove that at well\n",
    "treeDECommonInds <- lapply(seq_along(treeDECommonInds), function(i) {\n",
    "    iList <- treeDECommonInds[[i]]\n",
    "    inds <- which(sapply(iList, function(iL) {\n",
    "        length(unique(unlist(genesTreeDE[[i]][iL])))==1\n",
    "    }))\n",
    "    iList[names(iList)[inds]]\n",
    "})\n",
    "sapply(treeDECommonInds, length)"
   ]
  },
  {
   "cell_type": "code",
   "execution_count": 62,
   "id": "4a0fcaf2",
   "metadata": {},
   "outputs": [
    {
     "data": {
      "text/html": [
       "<style>\n",
       ".list-inline {list-style: none; margin:0; padding: 0}\n",
       ".list-inline>li {display: inline-block}\n",
       ".list-inline>li:not(:last-child)::after {content: \"\\00b7\"; padding: 0 .5ex}\n",
       "</style>\n",
       "<ol class=list-inline><li>23</li><li>43</li><li>62</li><li>73</li><li>74</li><li>97</li><li>98</li><li>101</li><li>102</li><li>127</li><li>136</li><li>14</li><li>69</li><li>140</li><li>9</li><li>125</li><li>81</li><li>93</li><li>28</li><li>68</li><li>138</li><li>18</li><li>94</li><li>35</li><li>40</li><li>122</li><li>105</li><li>119</li><li>57</li><li>55</li></ol>\n"
      ],
      "text/latex": [
       "\\begin{enumerate*}\n",
       "\\item 23\n",
       "\\item 43\n",
       "\\item 62\n",
       "\\item 73\n",
       "\\item 74\n",
       "\\item 97\n",
       "\\item 98\n",
       "\\item 101\n",
       "\\item 102\n",
       "\\item 127\n",
       "\\item 136\n",
       "\\item 14\n",
       "\\item 69\n",
       "\\item 140\n",
       "\\item 9\n",
       "\\item 125\n",
       "\\item 81\n",
       "\\item 93\n",
       "\\item 28\n",
       "\\item 68\n",
       "\\item 138\n",
       "\\item 18\n",
       "\\item 94\n",
       "\\item 35\n",
       "\\item 40\n",
       "\\item 122\n",
       "\\item 105\n",
       "\\item 119\n",
       "\\item 57\n",
       "\\item 55\n",
       "\\end{enumerate*}\n"
      ],
      "text/markdown": [
       "1. 23\n",
       "2. 43\n",
       "3. 62\n",
       "4. 73\n",
       "5. 74\n",
       "6. 97\n",
       "7. 98\n",
       "8. 101\n",
       "9. 102\n",
       "10. 127\n",
       "11. 136\n",
       "12. 14\n",
       "13. 69\n",
       "14. 140\n",
       "15. 9\n",
       "16. 125\n",
       "17. 81\n",
       "18. 93\n",
       "19. 28\n",
       "20. 68\n",
       "21. 138\n",
       "22. 18\n",
       "23. 94\n",
       "24. 35\n",
       "25. 40\n",
       "26. 122\n",
       "27. 105\n",
       "28. 119\n",
       "29. 57\n",
       "30. 55\n",
       "\n",
       "\n"
      ],
      "text/plain": [
       " [1]  23  43  62  73  74  97  98 101 102 127 136  14  69 140   9 125  81  93  28\n",
       "[20]  68 138  18  94  35  40 122 105 119  57  55"
      ]
     },
     "metadata": {},
     "output_type": "display_data"
    }
   ],
   "source": [
    "head(order(mcols(gy)[names(treeDECommonInds[[2]]), \"qvalue\"]),30)"
   ]
  },
  {
   "cell_type": "code",
   "execution_count": 53,
   "id": "1a33c86b",
   "metadata": {},
   "outputs": [
    {
     "name": "stdout",
     "output_type": "stream",
     "text": [
      "[1] \"ENSPTRG00000017182\"\n",
      "DataFrame with 1 row and 3 columns\n",
      "                   log10mean    log2FC      qvalue\n",
      "                   <numeric> <numeric>   <numeric>\n",
      "ENSPTRG00000017182   2.74239 -0.511141 4.19463e-06\n",
      "DataFrame with 2 rows and 4 columns\n",
      "          meanInfRV log10mean    log2FC     qvalue\n",
      "          <numeric> <numeric> <numeric>  <numeric>\n",
      "Node57641   3.68507   2.04386 -0.599623 0.04828378\n",
      "Node57643   0.36223   2.69548 -0.393650 0.00193015\n",
      "DataFrame with 6 rows and 4 columns\n",
      "                     meanInfRV log10mean    log2FC    qvalue\n",
      "                     <numeric> <numeric> <numeric> <numeric>\n",
      "ENSPTRT00000061959.3   7.77064   1.30743        NA        NA\n",
      "ENSPTRT00000080856.1  25.46061   2.09580 -1.245293 0.0893939\n",
      "ENSPTRT00000093587.1   8.14137   2.55154 -0.153924 0.3663176\n",
      "ENSPTRT00000102108.1   6.46997   1.46636 -0.479068 0.4863730\n",
      "ENSPTRT00000103985.1   5.06890   1.92007 -0.430987 0.3432334\n",
      "ENSPTRT00000106380.1  11.16375   1.24887        NA        NA\n",
      "[1] \"ENSPTRT00000103985.1\" \"ENSPTRT00000102108.1\" \"ENSPTRT00000080856.1\"\n",
      "[4] \"ENSPTRT00000093587.1\" \"ENSPTRT00000106380.1\"\n",
      "[1] \"next\"\n",
      "[1] \"ENSPTRG00000008167\"\n",
      "DataFrame with 1 row and 3 columns\n",
      "                   log10mean    log2FC      qvalue\n",
      "                   <numeric> <numeric>   <numeric>\n",
      "ENSPTRG00000008167   2.91254   1.40361 4.19463e-06\n",
      "DataFrame with 2 rows and 4 columns\n",
      "          meanInfRV log10mean    log2FC      qvalue\n",
      "          <numeric> <numeric> <numeric>   <numeric>\n",
      "Node62278   2.31272   2.70882   1.44980 1.09745e-06\n",
      "Node62280   5.29774   2.35148   1.27322 7.56902e-03\n",
      "DataFrame with 5 rows and 4 columns\n",
      "                     meanInfRV log10mean    log2FC    qvalue\n",
      "                     <numeric> <numeric> <numeric> <numeric>\n",
      "ENSPTRT00000015061.4   51.4146   2.27993  1.273847 0.1830613\n",
      "ENSPTRT00000077409.1   17.2599   1.82910  0.939878 0.2015574\n",
      "ENSPTRT00000080540.1   35.0813   2.02393  1.526865 0.2015574\n",
      "ENSPTRT00000083163.1   53.3941   2.33735  1.392967 0.0837105\n",
      "ENSPTRT00000107487.1   14.7322   2.19813  1.449883 0.1274757\n",
      "[1] \"ENSPTRT00000015061.4\" \"ENSPTRT00000083163.1\" \"ENSPTRT00000080540.1\"\n",
      "[4] \"ENSPTRT00000107487.1\" \"ENSPTRT00000077409.1\"\n",
      "[1] \"next\"\n",
      "[1] \"ENSPTRG00000011776\"\n",
      "DataFrame with 1 row and 3 columns\n",
      "                   log10mean    log2FC      qvalue\n",
      "                   <numeric> <numeric>   <numeric>\n",
      "ENSPTRG00000011776   2.76994 -0.573396 4.19463e-06\n",
      "DataFrame with 1 row and 4 columns\n",
      "          meanInfRV log10mean    log2FC      qvalue\n",
      "          <numeric> <numeric> <numeric>   <numeric>\n",
      "Node69226  0.216597   2.83481 -0.514135 1.09745e-06\n",
      "DataFrame with 4 rows and 4 columns\n",
      "                     meanInfRV log10mean    log2FC    qvalue\n",
      "                     <numeric> <numeric> <numeric> <numeric>\n",
      "ENSPTRT00000021925.3   4.99707  2.764855 -0.542500  0.108546\n",
      "ENSPTRT00000090966.1   6.61575  1.364225        NA        NA\n",
      "ENSPTRT00000101461.1  25.73744  2.013152 -0.646759  0.974214\n",
      "ENSPTRT00000104208.1   1.01975  0.650501        NA        NA\n",
      "[1] \"ENSPTRT00000101461.1\" \"ENSPTRT00000021925.3\"\n",
      "[1] \"next\"\n",
      "[1] \"ENSPTRG00000008182\"\n",
      "DataFrame with 1 row and 3 columns\n",
      "                   log10mean    log2FC     qvalue\n",
      "                   <numeric> <numeric>  <numeric>\n",
      "ENSPTRG00000008182   2.12221 -0.970222 0.00371291\n",
      "DataFrame with 1 row and 4 columns\n",
      "          meanInfRV log10mean    log2FC      qvalue\n",
      "          <numeric> <numeric> <numeric>   <numeric>\n",
      "Node57361  0.107913   2.33543  -0.96987 1.09745e-06\n",
      "DataFrame with 2 rows and 4 columns\n",
      "                     meanInfRV log10mean    log2FC    qvalue\n",
      "                     <numeric> <numeric> <numeric> <numeric>\n",
      "ENSPTRT00000015086.5   16.6761   2.17115  -1.12187 0.0584523\n",
      "ENSPTRT00000096947.1   22.6411   1.84036  -0.67024 0.4160370\n",
      "[1] \"ENSPTRT00000096947.1\" \"ENSPTRT00000015086.5\"\n",
      "[1] \"next\"\n",
      "[1] \"ENSPTRG00000000447\"\n",
      "DataFrame with 1 row and 3 columns\n",
      "                   log10mean    log2FC     qvalue\n",
      "                   <numeric> <numeric>  <numeric>\n",
      "ENSPTRG00000000447   2.89946  0.686615 0.00399566\n",
      "DataFrame with 1 row and 4 columns\n",
      "          meanInfRV log10mean    log2FC      qvalue\n",
      "          <numeric> <numeric> <numeric>   <numeric>\n",
      "Node45606  0.218256   2.92044  0.674305 1.09745e-06\n",
      "DataFrame with 4 rows and 4 columns\n",
      "                     meanInfRV log10mean    log2FC    qvalue\n",
      "                     <numeric> <numeric> <numeric> <numeric>\n",
      "ENSPTRT00000045323.6  43.69798   2.07729  0.607968 0.6138196\n",
      "ENSPTRT00000100582.1   9.14723   2.85379  0.651548 0.0620342\n",
      "ENSPTRT00000100610.1   5.09407   1.00033        NA        NA\n",
      "ENSPTRT00000103153.1   5.07659   1.31522  0.217235 0.7744186\n",
      "[1] \"ENSPTRT00000045323.6\" \"ENSPTRT00000100582.1\"\n",
      "[1] \"next\"\n",
      "[1] \"ENSPTRG00000012075\"\n",
      "DataFrame with 1 row and 3 columns\n",
      "                   log10mean    log2FC     qvalue\n",
      "                   <numeric> <numeric>  <numeric>\n",
      "ENSPTRG00000012075   2.28566 -0.877835 0.00505689\n",
      "DataFrame with 1 row and 4 columns\n",
      "          meanInfRV log10mean    log2FC      qvalue\n",
      "          <numeric> <numeric> <numeric>   <numeric>\n",
      "Node61366  0.969845   2.25937  -1.15612 1.09745e-06\n",
      "DataFrame with 4 rows and 4 columns\n",
      "                     meanInfRV log10mean    log2FC    qvalue\n",
      "                     <numeric> <numeric> <numeric> <numeric>\n",
      "ENSPTRT00000022461.6 14.176755  2.054303 -0.847907 0.1468579\n",
      "ENSPTRT00000088262.1 20.329529  1.843677 -1.576645 0.0924782\n",
      "ENSPTRT00000097967.1  0.974177  0.841204        NA        NA\n",
      "ENSPTRT00000100554.1  4.508655  1.331597  0.988179 0.1379661\n",
      "[1] \"ENSPTRT00000022461.6\" \"ENSPTRT00000088262.1\"\n",
      "[1] \"next\"\n"
     ]
    }
   ],
   "source": [
    "for(j in c(73, 97, 136, 69, 9, 93)) {\n",
    "        gs <- names(treeDECommonInds[[2]])[j]\n",
    "        print(gs)\n",
    "        print(mcols(gy)[gs,c(\"log10mean\", \"log2FC\", \"qvalue\")])\n",
    "        node <- treeDE[[2]][treeDECommonInds[[2]][[j]]]\n",
    "        print(mcols(yAll)[node,c(\"meanInfRV\", \"log10mean\", \"log2FC\", \"qvalue\")])\n",
    "        txps <- intersect(rnames[unlist(rowData(gy)[gs,\"tx_ids\"])], rownames(y))\n",
    "        print(mcols(y)[txps, c(\"meanInfRV\", \"log10mean\", \"log2FC\", \"qvalue\")])\n",
    "        print(treeCons$tip[unlist(Descendants(treeCons, node))])\n",
    "        print(\"next\")\n",
    "}\n"
   ]
  },
  {
   "cell_type": "markdown",
   "id": "50d1b15f",
   "metadata": {},
   "source": [
    "https://useast.ensembl.org/Pan_troglodytes/Gene/Summary?db=core;g=ENSPTRG00000017182;r=5:123343707-123449338 (missing exons)\n",
    "https://useast.ensembl.org/Pan_troglodytes/Gene/Summary?db=core;g=ENSPTRG00000008167;r=16:48444105-48488981 (different exons)\n",
    "https://useast.ensembl.org/Pan_troglodytes/Gene/Summary?db=core;g=ENSPTRG00000011776;r=2A:28200362-28222512 (skipped exons)\n",
    "https://useast.ensembl.org/Pan_troglodytes/Gene/Summary?db=core;g=ENSPTRG00000008182;r=16:49204939-49210491\n",
    "(Different exons)\n",
    "https://useast.ensembl.org/Pan_troglodytes/Gene/Summary?db=core;g=ENSPTRG00000008182;r=16:49204939-49210491\n",
    "(Skipped exons)"
   ]
  }
 ],
 "metadata": {
  "kernelspec": {
   "display_name": "R",
   "language": "R",
   "name": "ir"
  },
  "language_info": {
   "codemirror_mode": "r",
   "file_extension": ".r",
   "mimetype": "text/x-r-source",
   "name": "R",
   "pygments_lexer": "r",
   "version": "4.1.1"
  }
 },
 "nbformat": 4,
 "nbformat_minor": 5
}
