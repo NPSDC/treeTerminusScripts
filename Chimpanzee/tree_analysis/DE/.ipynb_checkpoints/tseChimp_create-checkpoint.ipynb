{
 "cells": [
  {
   "cell_type": "code",
   "execution_count": 2,
   "id": "be9ce9aa",
   "metadata": {},
   "outputs": [],
   "source": [
    "setwd(\"/fs/cbcb-lab/rob/students/noor/Uncertainity/treeTerminusScripts\")\n",
    "suppressPackageStartupMessages(source(\"tree_helper_function.R\"))\n",
    "suppressPackageStartupMessages(library(sva))\n",
    "suppressPackageStartupMessages(library(ggplot2))"
   ]
  },
  {
   "cell_type": "code",
   "execution_count": 11,
   "id": "74d2a986",
   "metadata": {},
   "outputs": [],
   "source": [
    "metaData <- read.delim(\"/fs/cbcb-lab/rob/students/noor/Uncertainity/ChimpData/SYNAPSE_METADATA_MANIFEST.tsv\")\n",
    "quantDir <- \"/fs/cbcb-lab/rob/students/noor/Uncertainity/ChimpData/sal_out/mode_gcbias=True/posttype=gibbs_npost=100_tf=100\""
   ]
  },
  {
   "cell_type": "code",
   "execution_count": 26,
   "id": "ce05cc08",
   "metadata": {},
   "outputs": [
    {
     "data": {
      "text/html": [
       "<table class=\"dataframe\">\n",
       "<caption>A data.frame: 10 × 24</caption>\n",
       "<thead>\n",
       "\t<tr><th scope=col>path</th><th scope=col>parent</th><th scope=col>name</th><th scope=col>synapseStore</th><th scope=col>contentType</th><th scope=col>used</th><th scope=col>executed</th><th scope=col>activityName</th><th scope=col>activityDescription</th><th scope=col>consortium</th><th scope=col>⋯</th><th scope=col>individualID</th><th scope=col>alignmentMethod</th><th scope=col>organ</th><th scope=col>study</th><th scope=col>specimenID</th><th scope=col>nucleicAcidSource</th><th scope=col>species</th><th scope=col>tissue</th><th scope=col>fileFormat</th><th scope=col>resourceType</th></tr>\n",
       "\t<tr><th scope=col>&lt;chr&gt;</th><th scope=col>&lt;chr&gt;</th><th scope=col>&lt;chr&gt;</th><th scope=col>&lt;chr&gt;</th><th scope=col>&lt;chr&gt;</th><th scope=col>&lt;lgl&gt;</th><th scope=col>&lt;lgl&gt;</th><th scope=col>&lt;lgl&gt;</th><th scope=col>&lt;lgl&gt;</th><th scope=col>&lt;chr&gt;</th><th scope=col>⋯</th><th scope=col>&lt;chr&gt;</th><th scope=col>&lt;chr&gt;</th><th scope=col>&lt;chr&gt;</th><th scope=col>&lt;chr&gt;</th><th scope=col>&lt;chr&gt;</th><th scope=col>&lt;chr&gt;</th><th scope=col>&lt;chr&gt;</th><th scope=col>&lt;chr&gt;</th><th scope=col>&lt;chr&gt;</th><th scope=col>&lt;chr&gt;</th></tr>\n",
       "</thead>\n",
       "<tbody>\n",
       "\t<tr><td>/fs/cbcb-lab/rob/students/noor/Uncertainity/ChimpData/PTB162LCBC.bam</td><td>syn7067061</td><td>PEC_NHP_Yale-UCSF_CBC_PTB162L.bam</td><td>True</td><td>application/octet-stream</td><td>NA</td><td>NA</td><td>NA</td><td>NA</td><td>PEC</td><td>⋯</td><td>PTB162</td><td>Tophat</td><td>brain</td><td>NHP-Chimpanzee</td><td>PTB162.CBC</td><td>bulk cell</td><td>Pan troglodytes</td><td>cerebellum                       </td><td>bam</td><td>experimentalData</td></tr>\n",
       "\t<tr><td>/fs/cbcb-lab/rob/students/noor/Uncertainity/ChimpData/PTB167RCBC.bam</td><td>syn7067061</td><td>PEC_NHP_Yale-UCSF_CBC_PTB167R.bam</td><td>True</td><td>application/octet-stream</td><td>NA</td><td>NA</td><td>NA</td><td>NA</td><td>PEC</td><td>⋯</td><td>PTB167</td><td>Tophat</td><td>brain</td><td>NHP-Chimpanzee</td><td>PTB167.CBC</td><td>bulk cell</td><td>Pan troglodytes</td><td>cerebellum                       </td><td>bam</td><td>experimentalData</td></tr>\n",
       "\t<tr><td>/fs/cbcb-lab/rob/students/noor/Uncertainity/ChimpData/PTB165RCBC.bam</td><td>syn7067061</td><td>PEC_NHP_Yale-UCSF_CBC_PTB165R.bam</td><td>True</td><td>application/octet-stream</td><td>NA</td><td>NA</td><td>NA</td><td>NA</td><td>PEC</td><td>⋯</td><td>PTB165</td><td>Tophat</td><td>brain</td><td>NHP-Chimpanzee</td><td>PTB165.CBC</td><td>bulk cell</td><td>Pan troglodytes</td><td>cerebellum                       </td><td>bam</td><td>experimentalData</td></tr>\n",
       "\t<tr><td>/fs/cbcb-lab/rob/students/noor/Uncertainity/ChimpData/PTB164RCBC.bam</td><td>syn7067061</td><td>PEC_NHP_Yale-UCSF_CBC_PTB164R.bam</td><td>True</td><td>application/octet-stream</td><td>NA</td><td>NA</td><td>NA</td><td>NA</td><td>PEC</td><td>⋯</td><td>PTB164</td><td>Tophat</td><td>brain</td><td>NHP-Chimpanzee</td><td>PTB164.CBC</td><td>bulk cell</td><td>Pan troglodytes</td><td>cerebellum                       </td><td>bam</td><td>experimentalData</td></tr>\n",
       "\t<tr><td>/fs/cbcb-lab/rob/students/noor/Uncertainity/ChimpData/PTB166RCBC.bam</td><td>syn7067061</td><td>PEC_NHP_Yale-UCSF_CBC_PTB166R.bam</td><td>True</td><td>application/octet-stream</td><td>NA</td><td>NA</td><td>NA</td><td>NA</td><td>PEC</td><td>⋯</td><td>PTB166</td><td>Tophat</td><td>brain</td><td>NHP-Chimpanzee</td><td>PTB166.CBC</td><td>bulk cell</td><td>Pan troglodytes</td><td>cerebellum                       </td><td>bam</td><td>experimentalData</td></tr>\n",
       "\t<tr><td>/fs/cbcb-lab/rob/students/noor/Uncertainity/ChimpData/PTB162LMD.bam </td><td>syn7067061</td><td>PEC_NHP_Yale-UCSF_MD_PTB162L.bam </td><td>True</td><td>application/octet-stream</td><td>NA</td><td>NA</td><td>NA</td><td>NA</td><td>PEC</td><td>⋯</td><td>PTB162</td><td>Tophat</td><td>brain</td><td>NHP-Chimpanzee</td><td>PTB162.MD </td><td>bulk cell</td><td>Pan troglodytes</td><td>medial dorsal nucleus of thalamus</td><td>bam</td><td>experimentalData</td></tr>\n",
       "\t<tr><td>/fs/cbcb-lab/rob/students/noor/Uncertainity/ChimpData/PTB164RMD.bam </td><td>syn7067061</td><td>PEC_NHP_Yale-UCSF_MD_PTB164R.bam </td><td>True</td><td>application/octet-stream</td><td>NA</td><td>NA</td><td>NA</td><td>NA</td><td>PEC</td><td>⋯</td><td>PTB164</td><td>Tophat</td><td>brain</td><td>NHP-Chimpanzee</td><td>PTB164.MD </td><td>bulk cell</td><td>Pan troglodytes</td><td>medial dorsal nucleus of thalamus</td><td>bam</td><td>experimentalData</td></tr>\n",
       "\t<tr><td>/fs/cbcb-lab/rob/students/noor/Uncertainity/ChimpData/PTB165RMD.bam </td><td>syn7067061</td><td>PEC_NHP_Yale-UCSF_MD_PTB165R.bam </td><td>True</td><td>application/octet-stream</td><td>NA</td><td>NA</td><td>NA</td><td>NA</td><td>PEC</td><td>⋯</td><td>PTB165</td><td>Tophat</td><td>brain</td><td>NHP-Chimpanzee</td><td>PTB165.MD </td><td>bulk cell</td><td>Pan troglodytes</td><td>medial dorsal nucleus of thalamus</td><td>bam</td><td>experimentalData</td></tr>\n",
       "\t<tr><td>/fs/cbcb-lab/rob/students/noor/Uncertainity/ChimpData/PTB167RMD.bam </td><td>syn7067061</td><td>PEC_NHP_Yale-UCSF_MD_PTB167R.bam </td><td>True</td><td>application/octet-stream</td><td>NA</td><td>NA</td><td>NA</td><td>NA</td><td>PEC</td><td>⋯</td><td>PTB167</td><td>Tophat</td><td>brain</td><td>NHP-Chimpanzee</td><td>PTB167.MD </td><td>bulk cell</td><td>Pan troglodytes</td><td>medial dorsal nucleus of thalamus</td><td>bam</td><td>experimentalData</td></tr>\n",
       "\t<tr><td>/fs/cbcb-lab/rob/students/noor/Uncertainity/ChimpData/PTB166RMD.bam </td><td>syn7067061</td><td>PEC_NHP_Yale-UCSF_MD_PTB166R.bam </td><td>True</td><td>application/octet-stream</td><td>NA</td><td>NA</td><td>NA</td><td>NA</td><td>PEC</td><td>⋯</td><td>PTB166</td><td>Tophat</td><td>brain</td><td>NHP-Chimpanzee</td><td>PTB166.MD </td><td>bulk cell</td><td>Pan troglodytes</td><td>medial dorsal nucleus of thalamus</td><td>bam</td><td>experimentalData</td></tr>\n",
       "</tbody>\n",
       "</table>\n"
      ],
      "text/latex": [
       "A data.frame: 10 × 24\n",
       "\\begin{tabular}{lllllllllllllllllllll}\n",
       " path & parent & name & synapseStore & contentType & used & executed & activityName & activityDescription & consortium & ⋯ & individualID & alignmentMethod & organ & study & specimenID & nucleicAcidSource & species & tissue & fileFormat & resourceType\\\\\n",
       " <chr> & <chr> & <chr> & <chr> & <chr> & <lgl> & <lgl> & <lgl> & <lgl> & <chr> & ⋯ & <chr> & <chr> & <chr> & <chr> & <chr> & <chr> & <chr> & <chr> & <chr> & <chr>\\\\\n",
       "\\hline\n",
       "\t /fs/cbcb-lab/rob/students/noor/Uncertainity/ChimpData/PTB162LCBC.bam & syn7067061 & PEC\\_NHP\\_Yale-UCSF\\_CBC\\_PTB162L.bam & True & application/octet-stream & NA & NA & NA & NA & PEC & ⋯ & PTB162 & Tophat & brain & NHP-Chimpanzee & PTB162.CBC & bulk cell & Pan troglodytes & cerebellum                        & bam & experimentalData\\\\\n",
       "\t /fs/cbcb-lab/rob/students/noor/Uncertainity/ChimpData/PTB167RCBC.bam & syn7067061 & PEC\\_NHP\\_Yale-UCSF\\_CBC\\_PTB167R.bam & True & application/octet-stream & NA & NA & NA & NA & PEC & ⋯ & PTB167 & Tophat & brain & NHP-Chimpanzee & PTB167.CBC & bulk cell & Pan troglodytes & cerebellum                        & bam & experimentalData\\\\\n",
       "\t /fs/cbcb-lab/rob/students/noor/Uncertainity/ChimpData/PTB165RCBC.bam & syn7067061 & PEC\\_NHP\\_Yale-UCSF\\_CBC\\_PTB165R.bam & True & application/octet-stream & NA & NA & NA & NA & PEC & ⋯ & PTB165 & Tophat & brain & NHP-Chimpanzee & PTB165.CBC & bulk cell & Pan troglodytes & cerebellum                        & bam & experimentalData\\\\\n",
       "\t /fs/cbcb-lab/rob/students/noor/Uncertainity/ChimpData/PTB164RCBC.bam & syn7067061 & PEC\\_NHP\\_Yale-UCSF\\_CBC\\_PTB164R.bam & True & application/octet-stream & NA & NA & NA & NA & PEC & ⋯ & PTB164 & Tophat & brain & NHP-Chimpanzee & PTB164.CBC & bulk cell & Pan troglodytes & cerebellum                        & bam & experimentalData\\\\\n",
       "\t /fs/cbcb-lab/rob/students/noor/Uncertainity/ChimpData/PTB166RCBC.bam & syn7067061 & PEC\\_NHP\\_Yale-UCSF\\_CBC\\_PTB166R.bam & True & application/octet-stream & NA & NA & NA & NA & PEC & ⋯ & PTB166 & Tophat & brain & NHP-Chimpanzee & PTB166.CBC & bulk cell & Pan troglodytes & cerebellum                        & bam & experimentalData\\\\\n",
       "\t /fs/cbcb-lab/rob/students/noor/Uncertainity/ChimpData/PTB162LMD.bam  & syn7067061 & PEC\\_NHP\\_Yale-UCSF\\_MD\\_PTB162L.bam  & True & application/octet-stream & NA & NA & NA & NA & PEC & ⋯ & PTB162 & Tophat & brain & NHP-Chimpanzee & PTB162.MD  & bulk cell & Pan troglodytes & medial dorsal nucleus of thalamus & bam & experimentalData\\\\\n",
       "\t /fs/cbcb-lab/rob/students/noor/Uncertainity/ChimpData/PTB164RMD.bam  & syn7067061 & PEC\\_NHP\\_Yale-UCSF\\_MD\\_PTB164R.bam  & True & application/octet-stream & NA & NA & NA & NA & PEC & ⋯ & PTB164 & Tophat & brain & NHP-Chimpanzee & PTB164.MD  & bulk cell & Pan troglodytes & medial dorsal nucleus of thalamus & bam & experimentalData\\\\\n",
       "\t /fs/cbcb-lab/rob/students/noor/Uncertainity/ChimpData/PTB165RMD.bam  & syn7067061 & PEC\\_NHP\\_Yale-UCSF\\_MD\\_PTB165R.bam  & True & application/octet-stream & NA & NA & NA & NA & PEC & ⋯ & PTB165 & Tophat & brain & NHP-Chimpanzee & PTB165.MD  & bulk cell & Pan troglodytes & medial dorsal nucleus of thalamus & bam & experimentalData\\\\\n",
       "\t /fs/cbcb-lab/rob/students/noor/Uncertainity/ChimpData/PTB167RMD.bam  & syn7067061 & PEC\\_NHP\\_Yale-UCSF\\_MD\\_PTB167R.bam  & True & application/octet-stream & NA & NA & NA & NA & PEC & ⋯ & PTB167 & Tophat & brain & NHP-Chimpanzee & PTB167.MD  & bulk cell & Pan troglodytes & medial dorsal nucleus of thalamus & bam & experimentalData\\\\\n",
       "\t /fs/cbcb-lab/rob/students/noor/Uncertainity/ChimpData/PTB166RMD.bam  & syn7067061 & PEC\\_NHP\\_Yale-UCSF\\_MD\\_PTB166R.bam  & True & application/octet-stream & NA & NA & NA & NA & PEC & ⋯ & PTB166 & Tophat & brain & NHP-Chimpanzee & PTB166.MD  & bulk cell & Pan troglodytes & medial dorsal nucleus of thalamus & bam & experimentalData\\\\\n",
       "\\end{tabular}\n"
      ],
      "text/markdown": [
       "\n",
       "A data.frame: 10 × 24\n",
       "\n",
       "| path &lt;chr&gt; | parent &lt;chr&gt; | name &lt;chr&gt; | synapseStore &lt;chr&gt; | contentType &lt;chr&gt; | used &lt;lgl&gt; | executed &lt;lgl&gt; | activityName &lt;lgl&gt; | activityDescription &lt;lgl&gt; | consortium &lt;chr&gt; | ⋯ ⋯ | individualID &lt;chr&gt; | alignmentMethod &lt;chr&gt; | organ &lt;chr&gt; | study &lt;chr&gt; | specimenID &lt;chr&gt; | nucleicAcidSource &lt;chr&gt; | species &lt;chr&gt; | tissue &lt;chr&gt; | fileFormat &lt;chr&gt; | resourceType &lt;chr&gt; |\n",
       "|---|---|---|---|---|---|---|---|---|---|---|---|---|---|---|---|---|---|---|---|---|\n",
       "| /fs/cbcb-lab/rob/students/noor/Uncertainity/ChimpData/PTB162LCBC.bam | syn7067061 | PEC_NHP_Yale-UCSF_CBC_PTB162L.bam | True | application/octet-stream | NA | NA | NA | NA | PEC | ⋯ | PTB162 | Tophat | brain | NHP-Chimpanzee | PTB162.CBC | bulk cell | Pan troglodytes | cerebellum                        | bam | experimentalData |\n",
       "| /fs/cbcb-lab/rob/students/noor/Uncertainity/ChimpData/PTB167RCBC.bam | syn7067061 | PEC_NHP_Yale-UCSF_CBC_PTB167R.bam | True | application/octet-stream | NA | NA | NA | NA | PEC | ⋯ | PTB167 | Tophat | brain | NHP-Chimpanzee | PTB167.CBC | bulk cell | Pan troglodytes | cerebellum                        | bam | experimentalData |\n",
       "| /fs/cbcb-lab/rob/students/noor/Uncertainity/ChimpData/PTB165RCBC.bam | syn7067061 | PEC_NHP_Yale-UCSF_CBC_PTB165R.bam | True | application/octet-stream | NA | NA | NA | NA | PEC | ⋯ | PTB165 | Tophat | brain | NHP-Chimpanzee | PTB165.CBC | bulk cell | Pan troglodytes | cerebellum                        | bam | experimentalData |\n",
       "| /fs/cbcb-lab/rob/students/noor/Uncertainity/ChimpData/PTB164RCBC.bam | syn7067061 | PEC_NHP_Yale-UCSF_CBC_PTB164R.bam | True | application/octet-stream | NA | NA | NA | NA | PEC | ⋯ | PTB164 | Tophat | brain | NHP-Chimpanzee | PTB164.CBC | bulk cell | Pan troglodytes | cerebellum                        | bam | experimentalData |\n",
       "| /fs/cbcb-lab/rob/students/noor/Uncertainity/ChimpData/PTB166RCBC.bam | syn7067061 | PEC_NHP_Yale-UCSF_CBC_PTB166R.bam | True | application/octet-stream | NA | NA | NA | NA | PEC | ⋯ | PTB166 | Tophat | brain | NHP-Chimpanzee | PTB166.CBC | bulk cell | Pan troglodytes | cerebellum                        | bam | experimentalData |\n",
       "| /fs/cbcb-lab/rob/students/noor/Uncertainity/ChimpData/PTB162LMD.bam  | syn7067061 | PEC_NHP_Yale-UCSF_MD_PTB162L.bam  | True | application/octet-stream | NA | NA | NA | NA | PEC | ⋯ | PTB162 | Tophat | brain | NHP-Chimpanzee | PTB162.MD  | bulk cell | Pan troglodytes | medial dorsal nucleus of thalamus | bam | experimentalData |\n",
       "| /fs/cbcb-lab/rob/students/noor/Uncertainity/ChimpData/PTB164RMD.bam  | syn7067061 | PEC_NHP_Yale-UCSF_MD_PTB164R.bam  | True | application/octet-stream | NA | NA | NA | NA | PEC | ⋯ | PTB164 | Tophat | brain | NHP-Chimpanzee | PTB164.MD  | bulk cell | Pan troglodytes | medial dorsal nucleus of thalamus | bam | experimentalData |\n",
       "| /fs/cbcb-lab/rob/students/noor/Uncertainity/ChimpData/PTB165RMD.bam  | syn7067061 | PEC_NHP_Yale-UCSF_MD_PTB165R.bam  | True | application/octet-stream | NA | NA | NA | NA | PEC | ⋯ | PTB165 | Tophat | brain | NHP-Chimpanzee | PTB165.MD  | bulk cell | Pan troglodytes | medial dorsal nucleus of thalamus | bam | experimentalData |\n",
       "| /fs/cbcb-lab/rob/students/noor/Uncertainity/ChimpData/PTB167RMD.bam  | syn7067061 | PEC_NHP_Yale-UCSF_MD_PTB167R.bam  | True | application/octet-stream | NA | NA | NA | NA | PEC | ⋯ | PTB167 | Tophat | brain | NHP-Chimpanzee | PTB167.MD  | bulk cell | Pan troglodytes | medial dorsal nucleus of thalamus | bam | experimentalData |\n",
       "| /fs/cbcb-lab/rob/students/noor/Uncertainity/ChimpData/PTB166RMD.bam  | syn7067061 | PEC_NHP_Yale-UCSF_MD_PTB166R.bam  | True | application/octet-stream | NA | NA | NA | NA | PEC | ⋯ | PTB166 | Tophat | brain | NHP-Chimpanzee | PTB166.MD  | bulk cell | Pan troglodytes | medial dorsal nucleus of thalamus | bam | experimentalData |\n",
       "\n"
      ],
      "text/plain": [
       "   path                                                                \n",
       "1  /fs/cbcb-lab/rob/students/noor/Uncertainity/ChimpData/PTB162LCBC.bam\n",
       "2  /fs/cbcb-lab/rob/students/noor/Uncertainity/ChimpData/PTB167RCBC.bam\n",
       "3  /fs/cbcb-lab/rob/students/noor/Uncertainity/ChimpData/PTB165RCBC.bam\n",
       "4  /fs/cbcb-lab/rob/students/noor/Uncertainity/ChimpData/PTB164RCBC.bam\n",
       "5  /fs/cbcb-lab/rob/students/noor/Uncertainity/ChimpData/PTB166RCBC.bam\n",
       "6  /fs/cbcb-lab/rob/students/noor/Uncertainity/ChimpData/PTB162LMD.bam \n",
       "7  /fs/cbcb-lab/rob/students/noor/Uncertainity/ChimpData/PTB164RMD.bam \n",
       "8  /fs/cbcb-lab/rob/students/noor/Uncertainity/ChimpData/PTB165RMD.bam \n",
       "9  /fs/cbcb-lab/rob/students/noor/Uncertainity/ChimpData/PTB167RMD.bam \n",
       "10 /fs/cbcb-lab/rob/students/noor/Uncertainity/ChimpData/PTB166RMD.bam \n",
       "   parent     name                              synapseStore\n",
       "1  syn7067061 PEC_NHP_Yale-UCSF_CBC_PTB162L.bam True        \n",
       "2  syn7067061 PEC_NHP_Yale-UCSF_CBC_PTB167R.bam True        \n",
       "3  syn7067061 PEC_NHP_Yale-UCSF_CBC_PTB165R.bam True        \n",
       "4  syn7067061 PEC_NHP_Yale-UCSF_CBC_PTB164R.bam True        \n",
       "5  syn7067061 PEC_NHP_Yale-UCSF_CBC_PTB166R.bam True        \n",
       "6  syn7067061 PEC_NHP_Yale-UCSF_MD_PTB162L.bam  True        \n",
       "7  syn7067061 PEC_NHP_Yale-UCSF_MD_PTB164R.bam  True        \n",
       "8  syn7067061 PEC_NHP_Yale-UCSF_MD_PTB165R.bam  True        \n",
       "9  syn7067061 PEC_NHP_Yale-UCSF_MD_PTB167R.bam  True        \n",
       "10 syn7067061 PEC_NHP_Yale-UCSF_MD_PTB166R.bam  True        \n",
       "   contentType              used executed activityName activityDescription\n",
       "1  application/octet-stream NA   NA       NA           NA                 \n",
       "2  application/octet-stream NA   NA       NA           NA                 \n",
       "3  application/octet-stream NA   NA       NA           NA                 \n",
       "4  application/octet-stream NA   NA       NA           NA                 \n",
       "5  application/octet-stream NA   NA       NA           NA                 \n",
       "6  application/octet-stream NA   NA       NA           NA                 \n",
       "7  application/octet-stream NA   NA       NA           NA                 \n",
       "8  application/octet-stream NA   NA       NA           NA                 \n",
       "9  application/octet-stream NA   NA       NA           NA                 \n",
       "10 application/octet-stream NA   NA       NA           NA                 \n",
       "   consortium ⋯ individualID alignmentMethod organ study          specimenID\n",
       "1  PEC        ⋯ PTB162       Tophat          brain NHP-Chimpanzee PTB162.CBC\n",
       "2  PEC        ⋯ PTB167       Tophat          brain NHP-Chimpanzee PTB167.CBC\n",
       "3  PEC        ⋯ PTB165       Tophat          brain NHP-Chimpanzee PTB165.CBC\n",
       "4  PEC        ⋯ PTB164       Tophat          brain NHP-Chimpanzee PTB164.CBC\n",
       "5  PEC        ⋯ PTB166       Tophat          brain NHP-Chimpanzee PTB166.CBC\n",
       "6  PEC        ⋯ PTB162       Tophat          brain NHP-Chimpanzee PTB162.MD \n",
       "7  PEC        ⋯ PTB164       Tophat          brain NHP-Chimpanzee PTB164.MD \n",
       "8  PEC        ⋯ PTB165       Tophat          brain NHP-Chimpanzee PTB165.MD \n",
       "9  PEC        ⋯ PTB167       Tophat          brain NHP-Chimpanzee PTB167.MD \n",
       "10 PEC        ⋯ PTB166       Tophat          brain NHP-Chimpanzee PTB166.MD \n",
       "   nucleicAcidSource species         tissue                           \n",
       "1  bulk cell         Pan troglodytes cerebellum                       \n",
       "2  bulk cell         Pan troglodytes cerebellum                       \n",
       "3  bulk cell         Pan troglodytes cerebellum                       \n",
       "4  bulk cell         Pan troglodytes cerebellum                       \n",
       "5  bulk cell         Pan troglodytes cerebellum                       \n",
       "6  bulk cell         Pan troglodytes medial dorsal nucleus of thalamus\n",
       "7  bulk cell         Pan troglodytes medial dorsal nucleus of thalamus\n",
       "8  bulk cell         Pan troglodytes medial dorsal nucleus of thalamus\n",
       "9  bulk cell         Pan troglodytes medial dorsal nucleus of thalamus\n",
       "10 bulk cell         Pan troglodytes medial dorsal nucleus of thalamus\n",
       "   fileFormat resourceType    \n",
       "1  bam        experimentalData\n",
       "2  bam        experimentalData\n",
       "3  bam        experimentalData\n",
       "4  bam        experimentalData\n",
       "5  bam        experimentalData\n",
       "6  bam        experimentalData\n",
       "7  bam        experimentalData\n",
       "8  bam        experimentalData\n",
       "9  bam        experimentalData\n",
       "10 bam        experimentalData"
      ]
     },
     "metadata": {},
     "output_type": "display_data"
    }
   ],
   "source": [
    "suppressPackageStartupMessages(library(dplyr))\n",
    "tissuesOfInt <- c(\"cerebellum\", \"medial dorsal nucleus of thalamus\")\n",
    "metaData %>% \n",
    "    filter(tissue %in% tissuesOfInt) %>%\n",
    "    select(tissue,)\n",
    "\n",
    "#colData[[\"condition\"]] <- as.factor(ifelse(colData[[\"tissue\"]] == \"cerebellum\", \"Cere\", \"Rest\"))\n",
    "#samples <- sapply(strsplit(metaData[,\"path\"], split = \"/\", fixed = T), function(x) x[[length(x)]])\n",
    "#samples <- sapply(strsplit(samples, \".\", fixed = T), function(x) x[[1]])\n"
   ]
  },
  {
   "cell_type": "code",
   "execution_count": 23,
   "id": "8e210d4f",
   "metadata": {},
   "outputs": [
    {
     "data": {
      "text/html": [
       "TRUE"
      ],
      "text/latex": [
       "TRUE"
      ],
      "text/markdown": [
       "TRUE"
      ],
      "text/plain": [
       "[1] TRUE"
      ]
     },
     "metadata": {},
     "output_type": "display_data"
    }
   ],
   "source": [
    "\"tissue\" %in% colnames(metaData)"
   ]
  },
  {
   "cell_type": "code",
   "execution_count": null,
   "id": "9999a7e8",
   "metadata": {},
   "outputs": [],
   "source": []
  }
 ],
 "metadata": {
  "kernelspec": {
   "display_name": "R",
   "language": "R",
   "name": "ir"
  }
 },
 "nbformat": 4,
 "nbformat_minor": 5
}
