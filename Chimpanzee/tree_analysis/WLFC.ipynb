{
 "cells": [
  {
   "cell_type": "code",
   "execution_count": 1,
   "id": "a5623f89",
   "metadata": {},
   "outputs": [],
   "source": [
    "setwd('/fs/cbcb-lab/rob/students/noor/Uncertainity/treeTerminusScripts')\n",
    "dir <- \"environment/Chimp/mode=gcbias/post_type=gibbs_nrep=100_tf=100/tree_analysis\"\n",
    "suppressPackageStartupMessages(source(\"tree_helper_function.R\"))\n",
    "load(\"environment/Chimp/mapDf.RData\")\n",
    "load(file.path(dir, \"treeCons.RData\"))\n",
    "load(file.path(dir, \"yAggConsNS.RData\"))\n",
    "load(file.path(dir, \"treeCor.RData\"))\n",
    "load(file.path(dir, \"yAggCorNS.RData\"))\n",
    "load(file.path(dir, \"treeCons0.RData\"))\n",
    "load(file.path(dir, \"yAggConsNS0.RData\"))\n",
    "load(file.path(dir, \"treeMeanInf0.RData\"))\n",
    "load(file.path(dir, \"yAggMeanInfNS0.RData\"))\n",
    "load(file.path(dir, \"treeThr.RData\"))\n",
    "load(file.path(dir, \"yAggThrNS.RData\"))\n",
    "suppressPackageStartupMessages(source(\"brain_simulation_nodtu/mode=gc_bias/post_type=gibbs_nrep=100_tf=100/tree_analysis/tree_filter.R\"))"
   ]
  },
  {
   "cell_type": "code",
   "execution_count": 5,
   "id": "2b2abe95",
   "metadata": {
    "scrolled": true
   },
   "outputs": [
    {
     "name": "stdout",
     "output_type": "stream",
     "text": [
      "         Type       Value nCuts gamma\n",
      "1   Consensus  573101.510     1   0.1\n",
      "2  Consensus0  568564.010     1   0.1\n",
      "3    MeanInf0  545876.510     1   0.1\n",
      "4         Cor  437571.267 20631   0.1\n",
      "5         Thr  573101.510     1   0.1\n",
      "6   Consensus  407664.311 23137   0.5\n",
      "7  Consensus0  412214.084 22508   0.5\n",
      "8    MeanInf0  412398.396 22439   0.5\n",
      "9         Cor  381656.688 23592   0.5\n",
      "10        Thr  300851.510     1   0.5\n",
      "11  Consensus  346029.825 26449   1.0\n",
      "12 Consensus0  348003.388 26113   1.0\n",
      "13   MeanInf0  348056.446 26037   1.0\n",
      "14        Cor  321007.745 26974   1.0\n",
      "15        Thr  155933.128 39864   1.0\n",
      "16  Consensus   18715.593 39109   5.0\n",
      "17 Consensus0   18584.639 39144   5.0\n",
      "18   MeanInf0   18308.689 39147   5.0\n",
      "19        Cor    1250.661 39212   5.0\n",
      "20        Thr  -61299.567 43516   5.0\n",
      "21  Consensus -263500.274 42831  10.0\n",
      "22 Consensus0 -263179.359 42842  10.0\n",
      "23   MeanInf0 -263318.600 42856  10.0\n",
      "24        Cor -276070.397 43030  10.0\n",
      "25        Thr -303596.619 44576  10.0\n"
     ]
    }
   ],
   "source": [
    "dfDepth <- data.frame(matrix(nrow=0, ncol=4))\n",
    "colnames(dfDepth) <- c(\"Type\", \"Value\", \"nCuts\", \"gamma\")\n",
    "\n",
    "l <- length(treeCons$tip)\n",
    "trees <- list(treeCons, treeCons0, treeMeanInf0, treeCor, treeThr)\n",
    "names(trees) <- c(\"Consensus\", \"Consensus0\", \"MeanInf0\", \"Cor\", \"Thr\")\n",
    "yAgg <- list(yAggConsNS, yAggConsNS0, yAggMeanInfNS0, yAggCorNS, yAggThrNS)\n",
    "names(yAgg) <- c(\"Consensus\", \"Consensus0\", \"MeanInf0\", \"Cor\", \"Thr\")\n",
    "\n",
    "gammas <- c(0.1,0.5,1,5,10)\n",
    "dCutsDLFC <- vector(mode = \"list\", length=length(gammas))\n",
    "names(dCutsDLFC) <- paste(\"gamma=\", c(0.1,0.5,1,5,10), sep=\"\")\n",
    "for(j in seq_along(dCutsDLFC)) {\n",
    "    gamma <- gammas[j]\n",
    "    dCutsDLFC[[j]] <- vector(mode=\"list\", length(trees))\n",
    "    names(dCutsDLFC[[j]]) <- names(trees)\n",
    "    for(i in seq(trees)) {\n",
    "        globArr <- rep(-100, l+trees[[i]]$Nnode)\n",
    "        descL <- sapply(Descendants(trees[[i]], seq(l+trees[[i]]$Nnode)), length)\n",
    "        obj <- abs(mcols(yAgg[[i]])[[\"LFC\"]]/mcols(yAgg[[i]])[[\"meanInfRV\"]]) - gamma*node.depth(trees[[i]],2)\n",
    "        val <- findMaxSum(trees[[i]], obj, l+1, descL)\n",
    "        gc()\n",
    "        dCutsDLFC[[j]][[i]] <- findCuts(trees[[i]], globArr, obj, l+1, descL)\n",
    "        gc()\n",
    "        dfDepth <- rbind(dfDepth, data.frame(Type = names(trees)[i], Value = val,\n",
    "               nCuts = length(dCutsDLFC[[j]][[i]]), gamma=gamma))\n",
    "    }\n",
    "}\n",
    "print(dfDepth)\n",
    "save(dfDepth, file=file.path(dir, \"dCutsDLFC.RData\"))\n",
    "save(dCutsDLFC, file=file.path(dir, \"dCutsDLFC.RData\"))"
   ]
  },
  {
   "cell_type": "code",
   "execution_count": 7,
   "id": "84e0f649",
   "metadata": {},
   "outputs": [
    {
     "data": {
      "text/plain": [
       "\n",
       "Phylogenetic tree with 45375 tips and 35113 internal nodes.\n",
       "\n",
       "Tip labels:\n",
       "  ENSPTRT00000100237, ENSPTRT00000103463, ENSPTRT00000107790, ENSPTRT00000075537, ENSPTRT00000095983, ENSPTRT00000005635, ...\n",
       "\n",
       "Unrooted; includes branch lengths."
      ]
     },
     "metadata": {},
     "output_type": "display_data"
    }
   ],
   "source": [
    "treeCor"
   ]
  },
  {
   "cell_type": "code",
   "execution_count": null,
   "id": "e82cedbf",
   "metadata": {},
   "outputs": [],
   "source": []
  }
 ],
 "metadata": {
  "kernelspec": {
   "display_name": "R",
   "language": "R",
   "name": "ir"
  },
  "language_info": {
   "codemirror_mode": "r",
   "file_extension": ".r",
   "mimetype": "text/x-r-source",
   "name": "R",
   "pygments_lexer": "r",
   "version": "4.1.1"
  }
 },
 "nbformat": 4,
 "nbformat_minor": 5
}
