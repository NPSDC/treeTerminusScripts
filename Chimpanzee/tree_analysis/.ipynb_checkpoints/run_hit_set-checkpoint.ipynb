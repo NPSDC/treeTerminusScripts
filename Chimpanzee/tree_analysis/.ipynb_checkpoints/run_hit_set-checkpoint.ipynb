{
 "cells": [
  {
   "cell_type": "code",
   "execution_count": 3,
   "id": "604a67fd",
   "metadata": {},
   "outputs": [],
   "source": [
    "from pysat.examples.hitman import Hitman\n",
    "import os"
   ]
  },
  {
   "cell_type": "code",
   "execution_count": 42,
   "id": "34417b8f",
   "metadata": {},
   "outputs": [],
   "source": [
    "def get_minhit_set_count(inp_file):\n",
    "    hit_sets = []\n",
    "    h = Hitman(solver='m22', htype='lbx')\n",
    "    i = 0\n",
    "    if os.path.exists(inp_file):\n",
    "        print(\"sup\")\n",
    "        with open(inp_file ,\"r\") as f:\n",
    "            h = Hitman(solver='m22', htype='lbx')\n",
    "            for l in f:\n",
    "                print(l)\n",
    "                if i >= 10:\n",
    "                    break\n",
    "                if l.strip()==\">>>\":\n",
    "                    print(i)\n",
    "                    i = i + 1\n",
    "                    hit_set = h.get()\n",
    "                    if hit_set:\n",
    "                        hit_sets.append(len(hit_set))\n",
    "                    h = Hitman(solver='m22', htype='lbx')    \n",
    "                else:\n",
    "#                      print(l)\n",
    "                     h.hit(list(map(int, l.strip().split(\" \"))))\n",
    "    else:\n",
    "        print(\"Invalid File\")\n",
    "                \n",
    "    return hit_sets\n",
    "                        "
   ]
  },
  {
   "cell_type": "code",
   "execution_count": 43,
   "id": "9cd84a58",
   "metadata": {},
   "outputs": [
    {
     "name": "stdout",
     "output_type": "stream",
     "text": [
      "0\n",
      "1\n",
      "2\n",
      "3\n",
      "4\n",
      "5\n",
      "6\n",
      "7\n",
      "8\n",
      "9\n"
     ]
    }
   ],
   "source": [
    "lCor = get_minhit_set_count(\"gene_dir/corHitInp0.txt\")"
   ]
  },
  {
   "cell_type": "code",
   "execution_count": 44,
   "id": "f5ffddb6",
   "metadata": {},
   "outputs": [
    {
     "data": {
      "text/plain": [
       "[11926, 11926, 11926, 11926, 11924, 11923, 11922, 11919, 11916]"
      ]
     },
     "execution_count": 44,
     "metadata": {},
     "output_type": "execute_result"
    }
   ],
   "source": [
    "lCor"
   ]
  },
  {
   "cell_type": "code",
   "execution_count": null,
   "id": "e0f2d836",
   "metadata": {},
   "outputs": [],
   "source": []
  }
 ],
 "metadata": {
  "kernelspec": {
   "display_name": "Python 3 (ipykernel)",
   "language": "python",
   "name": "python3"
  },
  "language_info": {
   "codemirror_mode": {
    "name": "ipython",
    "version": 3
   },
   "file_extension": ".py",
   "mimetype": "text/x-python",
   "name": "python",
   "nbconvert_exporter": "python",
   "pygments_lexer": "ipython3",
   "version": "3.9.13"
  }
 },
 "nbformat": 4,
 "nbformat_minor": 5
}
