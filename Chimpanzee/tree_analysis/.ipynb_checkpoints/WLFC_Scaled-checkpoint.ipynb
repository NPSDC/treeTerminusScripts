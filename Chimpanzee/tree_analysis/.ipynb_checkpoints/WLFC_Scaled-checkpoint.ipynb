{
 "cells": [
  {
   "cell_type": "code",
   "execution_count": 3,
   "id": "19c74342",
   "metadata": {},
   "outputs": [],
   "source": [
    "setwd('/fs/cbcb-lab/rob/students/noor/Uncertainity/treeTerminusScripts')\n",
    "dir <- \"environment/Chimp/mode=gcbias/post_type=gibbs_nrep=100_tf=100/tree_analysis\"\n",
    "term_dir <- \"/fs/cbcb-lab/rob/students/noor/Uncertainity/ChimpData/term_out/mode_gcbias=True/posttype=gibbs_npost=100_tf=100\"\n",
    "suppressPackageStartupMessages(source(\"tree_helper_function.R\"))\n",
    "suppressPackageStartupMessages(source(\"old_terminus_helper.R\"))\n",
    "load(\"environment/Chimp/mapDf.RData\")\n",
    "load(file.path(dir, \"treeCons.RData\"))\n",
    "load(file.path(dir, \"yAggConsNS.RData\"))\n",
    "load(file.path(dir, \"treeCor.RData\"))\n",
    "load(file.path(dir, \"yAggCorNS.RData\"))\n",
    "load(file.path(dir, \"treeCons0.RData\"))\n",
    "load(file.path(dir, \"yAggConsNS0.RData\"))\n",
    "load(file.path(dir, \"treeMeanInf0.RData\"))\n",
    "load(file.path(dir, \"yAggMeanInfNS0.RData\"))\n",
    "load(file.path(dir, \"treeThr.RData\"))\n",
    "load(file.path(dir, \"yAggThrNS.RData\"))\n",
    "load(file.path(dir, \"yAggTermThrNS.RData\"))\n",
    "suppressPackageStartupMessages(source(\"brain_simulation_nodtu/mode=gc_bias/post_type=gibbs_nrep=100_tf=100/tree_analysis/tree_filter.R\"))"
   ]
  },
  {
   "cell_type": "code",
   "execution_count": null,
   "id": "08cc830f",
   "metadata": {},
   "outputs": [],
   "source": [
    "globArr <- rep(-100, l+trees[[i]]$Nnode)\n",
    "descL <- sapply(Descendants(trees[[i]], seq(l+trees[[i]]$Nnode)), length)\n",
    "infReps <- assays(yAgg[[i]])[grep(\"infRep\", assayNames(yAgg[[i]]))]\n",
    "infReps <- abind::abind(as.list(infReps), along = 3)"
   ]
  },
  {
   "cell_type": "code",
   "execution_count": 70,
   "id": "31b646bd",
   "metadata": {},
   "outputs": [],
   "source": [
    "infReps <- assays(yAggConsNS)[grep(\"infRep\", assayNames(yAggConsNS))]\n",
    "infReps <- abind::abind(as.list(infReps), along = 3)\n",
    "iReps <- infReps\n",
    "mSf <- 0\n",
    "for(i in seq(dim(infReps)[3])) {\n",
    "        sf <- colSums(infReps[1:l,,i])\n",
    "        mSf <- mean(sf) + mSf\n",
    "        iReps[,,i] <- t(t(infReps[,,i])/sf)\n",
    "}\n",
    "mSf <- mSf/dim(inReps)[3]"
   ]
  },
  {
   "cell_type": "code",
   "execution_count": 71,
   "id": "ffce6df6",
   "metadata": {},
   "outputs": [],
   "source": [
    "lfc <- getLog2FC(iReps, colData(yAggConsNS)[[\"condition\"]], pc = 5/mSf)"
   ]
  },
  {
   "cell_type": "code",
   "execution_count": 76,
   "id": "fa9bebd4",
   "metadata": {},
   "outputs": [],
   "source": [
    "obj <- abs(lfc)/mcols(yAggConsNS)[[\"meanInfRV\"]]"
   ]
  },
  {
   "cell_type": "code",
   "execution_count": 79,
   "id": "16f25706",
   "metadata": {},
   "outputs": [],
   "source": [
    "globArr <- rep(-100, l+treeCons$Nnode)\n",
    "descL <- sapply(Descendants(treeCons, seq(l+treeCons$Nnode)), length)\n",
    "val <- findMaxSum(treeCons, obj, l+1, descL)"
   ]
  },
  {
   "cell_type": "code",
   "execution_count": 83,
   "id": "09054229",
   "metadata": {},
   "outputs": [
    {
     "data": {
      "text/html": [
       "535524.38798183"
      ],
      "text/latex": [
       "535524.38798183"
      ],
      "text/markdown": [
       "535524.38798183"
      ],
      "text/plain": [
       "[1] 535524.4"
      ]
     },
     "metadata": {},
     "output_type": "display_data"
    },
    {
     "data": {
      "text/html": [
       "<strong>45376:</strong> 0"
      ],
      "text/latex": [
       "\\textbf{45376:} 0"
      ],
      "text/markdown": [
       "**45376:** 0"
      ],
      "text/plain": [
       "45376 \n",
       "    0 "
      ]
     },
     "metadata": {},
     "output_type": "display_data"
    }
   ],
   "source": [
    "globArr[l+1]\n",
    "obj[l+1]*descL[l+1]"
   ]
  },
  {
   "cell_type": "code",
   "execution_count": 86,
   "id": "c12ad0f3",
   "metadata": {},
   "outputs": [],
   "source": [
    "cuts <- findCuts(treeCons, globArr, obj, l+1, descL)"
   ]
  },
  {
   "cell_type": "code",
   "execution_count": 43,
   "id": "9f54767d",
   "metadata": {},
   "outputs": [
    {
     "name": "stdout",
     "output_type": "stream",
     "text": [
      "        Type    Value nCuts\n",
      "1    ConsInd 535524.4 19419\n",
      "2       Cons 549330.8 18343\n",
      "3       Mean 551447.8 18138\n",
      "4         AC 488901.2 19508\n",
      "5 ConsRedInd 247252.8 35762\n",
      "6       Term 167713.2 42366\n",
      "7        Txp 148522.2 45375\n"
     ]
    }
   ],
   "source": [
    "dfScaledLFC <- data.frame(matrix(nrow=0, ncol=3))\n",
    "colnames(dfScaledLFC) <- c(\"Type\", \"Value\", \"nCuts\")\n",
    "\n",
    "l <- length(treeCons$tip)\n",
    "trees <- list(treeCons, treeCons0, treeMeanInf0, treeCor, treeThr)\n",
    "names(trees) <- c(\"ConsInd\", \"Cons\", \"Mean\", \"AC\", \"ConsRedInd\")\n",
    "yAgg <- list(yAggConsNS, yAggConsNS0, yAggMeanInfNS0, yAggCorNS, yAggThrNS, yAggTermThrNS)\n",
    "names(yAgg) <- c(\"ConsInd\", \"Cons\", \"Mean\", \"AC\", \"ConsRedInd\", \"Term\")\n",
    "\n",
    "dCutsSLFC <- vector(mode = \"list\", length=7)\n",
    "names(dCutsSLFC) <- c(names(yAgg), \"Txps\")\n",
    "for(i in seq_along(yAgg)) {\n",
    "    globArr <- rep(-100, l+trees[[i]]$Nnode)\n",
    "    if(i <= 5)\n",
    "        descL <- sapply(Descendants(trees[[i]], seq(l+trees[[i]]$Nnode)), length)\n",
    "    else {\n",
    "        groupsClust <- parseClustFile(file.path(term_dir, \"old\", \"PTB162LA1C\", \"clusters.txt\"), yAggTermThrNS, gsub=T)\n",
    "        mtxps <- setdiff(seq(l), unlist(groupsClust))\n",
    "        dCutsSLFC[[i]] <- c(mtxps, l+1:length(groupsClust))\n",
    "        descL <- c(rep(1, length(mtxps)), sapply(groupsClust, length))\n",
    "    }\n",
    "        \n",
    "    infReps <- assays(yAgg[[i]])[grep(\"infRep\", assayNames(yAgg[[i]]))]\n",
    "    infReps <- abind::abind(as.list(infReps), along = 3)\n",
    "    mSf <- 0\n",
    "    for(j in seq(dim(infReps)[3])) {\n",
    "            sf <- colSums(infReps[1:l,,j])\n",
    "            mSf <- mean(sf) + mSf\n",
    "            infReps[,,j] <- t(t(infReps[,,j])/sf)\n",
    "    }\n",
    "    mSf <- mSf/dim(infReps)[3]\n",
    "    print(mSf)\n",
    "    lfc <- getLog2FC(infReps, colData(yAgg[[i]])[[\"condition\"]], pc = 5/mSf)\n",
    "    obj <- abs(lfc)/mcols(yAgg[[i]])[[\"meanInfRV\"]]\n",
    "    if (i==6)         \n",
    "        val <- sum(obj[dCutsSLFC[[i]]]*descL)\n",
    "\n",
    "    else {\n",
    "            val <- findMaxSum(trees[[i]], obj, l+1, descL)\n",
    "            gc()\n",
    "            dCutsSLFC[[i]] <- findCuts(trees[[i]], globArr, obj, l+1, descL)\n",
    "            gc()\n",
    "    }\n",
    "    \n",
    "    dfScaledLFC <- rbind(dfScaledLFC, data.frame(Type = names(yAgg)[i], Value = val,\n",
    "           nCuts = length(dCutsSLFC[[i]])))\n",
    "\n",
    "}\n",
    "i <- 7\n",
    "dCutsSLFC[[i]] <- 1:l\n",
    "val <- sum(obj[dCutsSLFC[[i]]])\n",
    "dfScaledLFC <- rbind(dfScaledLFC, data.frame(Type = \"Txp\", Value = val,\n",
    "           nCuts = length(dCutsSLFC[[i]])))\n",
    "print(dfScaledLFC)\n",
    "save(dfScaledLFC, file=file.path(dir, \"dfScaledLFC.RData\"))\n",
    "save(dCutsSLFC, file=file.path(dir, \"dCutsSLFC.RData\"))"
   ]
  }
 ],
 "metadata": {
  "kernelspec": {
   "display_name": "R",
   "language": "R",
   "name": "ir"
  },
  "language_info": {
   "codemirror_mode": "r",
   "file_extension": ".r",
   "mimetype": "text/x-r-source",
   "name": "R",
   "pygments_lexer": "r",
   "version": "4.1.1"
  }
 },
 "nbformat": 4,
 "nbformat_minor": 5
}
