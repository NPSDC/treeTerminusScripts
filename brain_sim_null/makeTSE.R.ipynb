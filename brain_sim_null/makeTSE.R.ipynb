{
 "cells": [
  {
   "cell_type": "code",
   "execution_count": 1,
   "id": "9fb151cc",
   "metadata": {},
   "outputs": [],
   "source": [
    "library(beaveR)\n",
    "args <- commandArgs(trailingOnly = TRUE)\n",
    "\n",
    "treeFile <- args[1]\n",
    "quantDir <- args[2]\n",
    "savePath <- args[3]\n",
    "seed <- as.numeric(args[4])\n",
    "\n",
    "if(!(file.exists(treeFile))) {\n",
    "    stop(\"invalid tree file\")\n",
    "}\n",
    "if(!(dir.exists(quantDir))) {\n",
    "    stop(\"invalid quant dir\")\n",
    "}\n",
    "if(!(dir.exists(savePath))) {\n",
    "    stop(\"invalid save dor\")\n",
    "}\n",
    "samples <- as.vector(outer(c(1:6), c(1,2), function(x,y) paste(x,y,sep='_')))\n",
    "quantFiles <- file.path(quantDir, samples, 'quant.sf')\n",
    "coldata <- data.frame(files=quantFiles, names=samples, condition=factor(rep(1:2, each=6)))\n",
    "\n",
    "tse <- buildTSE(treeTermFile = treeFile, coldata = coldata)\n",
    "save(tse, file = file.path(savePath, paste(tse, \"seed.RData\", sep =\"_\")))"
   ]
  }
 ],
 "metadata": {
  "kernelspec": {
   "display_name": "R",
   "language": "R",
   "name": "ir"
  },
  "language_info": {
   "codemirror_mode": "r",
   "file_extension": ".r",
   "mimetype": "text/x-r-source",
   "name": "R",
   "pygments_lexer": "r",
   "version": "4.1.1"
  }
 },
 "nbformat": 4,
 "nbformat_minor": 5
}
