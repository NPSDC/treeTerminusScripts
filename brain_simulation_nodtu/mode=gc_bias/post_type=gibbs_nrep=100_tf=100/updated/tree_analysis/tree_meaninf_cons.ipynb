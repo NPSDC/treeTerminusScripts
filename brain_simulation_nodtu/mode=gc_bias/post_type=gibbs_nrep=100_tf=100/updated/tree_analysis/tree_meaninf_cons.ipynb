{
 "cells": [
  {
   "cell_type": "code",
   "execution_count": 2,
   "id": "d31f3e01",
   "metadata": {},
   "outputs": [],
   "source": [
    "setwd('/fs/cbcb-lab/rob/students/noor/Uncertainity/treeTerminusScripts')\n",
    "load(\"environment/brain_sim_nodtu/mode=gc_bias/mapDf.RData\")\n",
    "suppressPackageStartupMessages(source(\"tree_helper_function.R\"))\n",
    "treesMInf <- read.tree(\"/fs/cbcb-lab/rob/students/noor/Uncertainity/terminus/1_1/group_nwk.txt\")\n",
    "treesCons <- read.tree(\"/fs/cbcb-lab/rob/students/noor/Uncertainity/brain_sim_nodtu/mode=gc_bias/post_type=gibbs_nrep=100_tf=100/out_term/cluster_nwk.txt\")"
   ]
  },
  {
   "cell_type": "code",
   "execution_count": 8,
   "id": "9b01248b",
   "metadata": {},
   "outputs": [],
   "source": [
    "treesMInf <- lapply(treesMInf, function(tree) as.numeric(tree$tip))\n",
    "treesCons <- lapply(treesCons, function(tree) as.numeric(tree$tip))"
   ]
  },
  {
   "cell_type": "code",
   "execution_count": 10,
   "id": "4da8417c",
   "metadata": {},
   "outputs": [
    {
     "data": {
      "text/plain": [
       "\n",
       "    2     3     4     5     6     7     8     9    10    11    12    13    14 \n",
       "11531  4098  2250  1298   774   597   382   216   168   130    93    61    45 \n",
       "   15    16    17    18    19    20    21    22    23    24    25    26    27 \n",
       "   31    33    21    16     8    13     8     9     4     6     5     1     5 \n",
       "   28    31    32    34    36    37    39    42    47    58    60    61 \n",
       "    3     2     2     1     1     1     1     1     1     2     1     1 "
      ]
     },
     "metadata": {},
     "output_type": "display_data"
    },
    {
     "data": {
      "text/plain": [
       "\n",
       "   2    3    4    5    6    7    8    9   10   11   12   13   14   15   16   17 \n",
       "2875 1592 1305 1177 1081  896  778  715  632  534  430  373  296  288  234  202 \n",
       "  18   19   20   21   22   23   24   25   26   27   28   29   30   31   32   33 \n",
       " 165  149  139  127   92   80   74   74   47   57   44   40   27   31   31   21 \n",
       "  34   35   36   37   38   39   40   41   42   43   44   45   46   47   48   49 \n",
       "  17   12   12   11   17    8   12    6    4    8    8    5    4    5    6    3 \n",
       "  50   51   52   53   54   55   56   57   59   61   63   65   66   67   70   71 \n",
       "   3   10    9    3    1    1    2    3    2    3    1    1    1    4    2    1 \n",
       "  74   76   78   79   81   94   99  101  105  141  149  396 \n",
       "   2    1    2    1    1    2    1    2    1    1    1    1 "
      ]
     },
     "metadata": {},
     "output_type": "display_data"
    }
   ],
   "source": [
    "table(sapply(treesMInf,length))\n",
    "table(sapply(treesCons,length))"
   ]
  },
  {
   "cell_type": "code",
   "execution_count": 18,
   "id": "a4e9ef1b",
   "metadata": {},
   "outputs": [],
   "source": [
    "treeCommInds <- rep(-1, length(treesMInf))\n",
    "for(i in seq_along(treesMInf)) {\n",
    "    for(j in seq_along(treesCons)) {\n",
    "        if(sum(treesMInf[[i]] %in% treesCons[[j]]) > 0) {\n",
    "            treeCommInds[i] <- j\n",
    "            break()\n",
    "        }\n",
    "            \n",
    "    }\n",
    "}"
   ]
  },
  {
   "cell_type": "code",
   "execution_count": 21,
   "id": "811ec516",
   "metadata": {},
   "outputs": [
    {
     "data": {
      "text/html": [
       "<ol>\n",
       "\t<li><style>\n",
       ".list-inline {list-style: none; margin:0; padding: 0}\n",
       ".list-inline>li {display: inline-block}\n",
       ".list-inline>li:not(:last-child)::after {content: \"\\00b7\"; padding: 0 .5ex}\n",
       "</style>\n",
       "<ol class=list-inline><li>142990</li><li>142991</li></ol>\n",
       "</li>\n",
       "\t<li><style>\n",
       ".list-inline {list-style: none; margin:0; padding: 0}\n",
       ".list-inline>li {display: inline-block}\n",
       ".list-inline>li:not(:last-child)::after {content: \"\\00b7\"; padding: 0 .5ex}\n",
       "</style>\n",
       "<ol class=list-inline><li>16531</li><li>16532</li></ol>\n",
       "</li>\n",
       "\t<li><style>\n",
       ".list-inline {list-style: none; margin:0; padding: 0}\n",
       ".list-inline>li {display: inline-block}\n",
       ".list-inline>li:not(:last-child)::after {content: \"\\00b7\"; padding: 0 .5ex}\n",
       "</style>\n",
       "<ol class=list-inline><li>3176</li><li>3177</li></ol>\n",
       "</li>\n",
       "\t<li><style>\n",
       ".list-inline {list-style: none; margin:0; padding: 0}\n",
       ".list-inline>li {display: inline-block}\n",
       ".list-inline>li:not(:last-child)::after {content: \"\\00b7\"; padding: 0 .5ex}\n",
       "</style>\n",
       "<ol class=list-inline><li>162377</li><li>162378</li></ol>\n",
       "</li>\n",
       "\t<li><style>\n",
       ".list-inline {list-style: none; margin:0; padding: 0}\n",
       ".list-inline>li {display: inline-block}\n",
       ".list-inline>li:not(:last-child)::after {content: \"\\00b7\"; padding: 0 .5ex}\n",
       "</style>\n",
       "<ol class=list-inline><li>67413</li><li>67414</li></ol>\n",
       "</li>\n",
       "\t<li><style>\n",
       ".list-inline {list-style: none; margin:0; padding: 0}\n",
       ".list-inline>li {display: inline-block}\n",
       ".list-inline>li:not(:last-child)::after {content: \"\\00b7\"; padding: 0 .5ex}\n",
       "</style>\n",
       "<ol class=list-inline><li>465</li><li>466</li></ol>\n",
       "</li>\n",
       "\t<li><style>\n",
       ".list-inline {list-style: none; margin:0; padding: 0}\n",
       ".list-inline>li {display: inline-block}\n",
       ".list-inline>li:not(:last-child)::after {content: \"\\00b7\"; padding: 0 .5ex}\n",
       "</style>\n",
       "<ol class=list-inline><li>122986</li><li>122988</li></ol>\n",
       "</li>\n",
       "\t<li><style>\n",
       ".list-inline {list-style: none; margin:0; padding: 0}\n",
       ".list-inline>li {display: inline-block}\n",
       ".list-inline>li:not(:last-child)::after {content: \"\\00b7\"; padding: 0 .5ex}\n",
       "</style>\n",
       "<ol class=list-inline><li>49344</li><li>49347</li></ol>\n",
       "</li>\n",
       "\t<li><style>\n",
       ".list-inline {list-style: none; margin:0; padding: 0}\n",
       ".list-inline>li {display: inline-block}\n",
       ".list-inline>li:not(:last-child)::after {content: \"\\00b7\"; padding: 0 .5ex}\n",
       "</style>\n",
       "<ol class=list-inline><li>192416</li><li>192417</li></ol>\n",
       "</li>\n",
       "</ol>\n"
      ],
      "text/latex": [
       "\\begin{enumerate}\n",
       "\\item \\begin{enumerate*}\n",
       "\\item 142990\n",
       "\\item 142991\n",
       "\\end{enumerate*}\n",
       "\n",
       "\\item \\begin{enumerate*}\n",
       "\\item 16531\n",
       "\\item 16532\n",
       "\\end{enumerate*}\n",
       "\n",
       "\\item \\begin{enumerate*}\n",
       "\\item 3176\n",
       "\\item 3177\n",
       "\\end{enumerate*}\n",
       "\n",
       "\\item \\begin{enumerate*}\n",
       "\\item 162377\n",
       "\\item 162378\n",
       "\\end{enumerate*}\n",
       "\n",
       "\\item \\begin{enumerate*}\n",
       "\\item 67413\n",
       "\\item 67414\n",
       "\\end{enumerate*}\n",
       "\n",
       "\\item \\begin{enumerate*}\n",
       "\\item 465\n",
       "\\item 466\n",
       "\\end{enumerate*}\n",
       "\n",
       "\\item \\begin{enumerate*}\n",
       "\\item 122986\n",
       "\\item 122988\n",
       "\\end{enumerate*}\n",
       "\n",
       "\\item \\begin{enumerate*}\n",
       "\\item 49344\n",
       "\\item 49347\n",
       "\\end{enumerate*}\n",
       "\n",
       "\\item \\begin{enumerate*}\n",
       "\\item 192416\n",
       "\\item 192417\n",
       "\\end{enumerate*}\n",
       "\n",
       "\\end{enumerate}\n"
      ],
      "text/markdown": [
       "1. 1. 142990\n",
       "2. 142991\n",
       "\n",
       "\n",
       "\n",
       "2. 1. 16531\n",
       "2. 16532\n",
       "\n",
       "\n",
       "\n",
       "3. 1. 3176\n",
       "2. 3177\n",
       "\n",
       "\n",
       "\n",
       "4. 1. 162377\n",
       "2. 162378\n",
       "\n",
       "\n",
       "\n",
       "5. 1. 67413\n",
       "2. 67414\n",
       "\n",
       "\n",
       "\n",
       "6. 1. 465\n",
       "2. 466\n",
       "\n",
       "\n",
       "\n",
       "7. 1. 122986\n",
       "2. 122988\n",
       "\n",
       "\n",
       "\n",
       "8. 1. 49344\n",
       "2. 49347\n",
       "\n",
       "\n",
       "\n",
       "9. 1. 192416\n",
       "2. 192417\n",
       "\n",
       "\n",
       "\n",
       "\n",
       "\n"
      ],
      "text/plain": [
       "[[1]]\n",
       "[1] 142990 142991\n",
       "\n",
       "[[2]]\n",
       "[1] 16531 16532\n",
       "\n",
       "[[3]]\n",
       "[1] 3176 3177\n",
       "\n",
       "[[4]]\n",
       "[1] 162377 162378\n",
       "\n",
       "[[5]]\n",
       "[1] 67413 67414\n",
       "\n",
       "[[6]]\n",
       "[1] 465 466\n",
       "\n",
       "[[7]]\n",
       "[1] 122986 122988\n",
       "\n",
       "[[8]]\n",
       "[1] 49344 49347\n",
       "\n",
       "[[9]]\n",
       "[1] 192416 192417\n"
      ]
     },
     "metadata": {},
     "output_type": "display_data"
    }
   ],
   "source": [
    "treesMInf[treeCommInds==-1]"
   ]
  },
  {
   "cell_type": "code",
   "execution_count": 33,
   "id": "4f41ae54",
   "metadata": {},
   "outputs": [],
   "source": [
    "ratios <- sapply(seq_along(treeCommInds), function(i) {\n",
    "    ind <- treeCommInds[i]\n",
    "    if(ind != -1)\n",
    "        return(length(intersect(treesMInf[[i]], treesCons[[ind]]))/length(treesMInf[[i]]))\n",
    "    else\n",
    "        return(0)\n",
    "})"
   ]
  },
  {
   "cell_type": "code",
   "execution_count": 41,
   "id": "4b9d691b",
   "metadata": {},
   "outputs": [
    {
     "data": {
      "text/plain": [
       "   Min. 1st Qu.  Median    Mean 3rd Qu.    Max. \n",
       " 0.0000  1.0000  1.0000  0.9964  1.0000  1.0000 "
      ]
     },
     "metadata": {},
     "output_type": "display_data"
    },
    {
     "data": {
      "text/html": [
       "0.992300641613199"
      ],
      "text/latex": [
       "0.992300641613199"
      ],
      "text/markdown": [
       "0.992300641613199"
      ],
      "text/plain": [
       "[1] 0.9923006"
      ]
     },
     "metadata": {},
     "output_type": "display_data"
    },
    {
     "data": {
      "text/html": [
       "36"
      ],
      "text/latex": [
       "36"
      ],
      "text/markdown": [
       "36"
      ],
      "text/plain": [
       "[1] 36"
      ]
     },
     "metadata": {},
     "output_type": "display_data"
    }
   ],
   "source": [
    "summary(ratios)\n",
    "mean(ratios > 0.9)\n",
    "sum(ratios < 0.5)"
   ]
  },
  {
   "cell_type": "code",
   "execution_count": null,
   "id": "9489bd04",
   "metadata": {},
   "outputs": [],
   "source": []
  }
 ],
 "metadata": {
  "kernelspec": {
   "display_name": "R",
   "language": "R",
   "name": "ir"
  },
  "language_info": {
   "codemirror_mode": "r",
   "file_extension": ".r",
   "mimetype": "text/x-r-source",
   "name": "R",
   "pygments_lexer": "r",
   "version": "4.1.1"
  }
 },
 "nbformat": 4,
 "nbformat_minor": 5
}
