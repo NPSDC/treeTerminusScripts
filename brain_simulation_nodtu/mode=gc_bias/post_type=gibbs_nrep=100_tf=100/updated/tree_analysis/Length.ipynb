{
 "cells": [
  {
   "cell_type": "code",
   "execution_count": 1,
   "id": "81b77b62",
   "metadata": {},
   "outputs": [],
   "source": [
    "setwd('/fs/cbcb-lab/rob/students/noor/Uncertainity/treeTerminusScripts')\n",
    "load(\"environment/brain_sim_nodtu/mode=gc_bias/mapDf.RData\")\n",
    "load(\"environment/brain_sim_nodtu/mode=gc_bias/post_type=gibbs_nrep=100_tf=100/mean_cons/treeCons.RData\")\n",
    "load(\"environment/brain_sim_nodtu/mode=gc_bias/post_type=gibbs_nrep=100_tf=100/mean_cons/treeCons0.RData\")\n",
    "load(\"environment/brain_sim_nodtu/mode=gc_bias/post_type=gibbs_nrep=100_tf=100/mean_cons/treeMC0.RData\")\n",
    "load(\"environment/brain_sim_nodtu/mode=gc_bias/post_type=gibbs_nrep=100_tf=100/mean_cons/treeMC.RData\")\n",
    "load(\"environment/brain_sim_nodtu/mode=gc_bias/post_type=gibbs_nrep=100_tf=100/mean_cons/treeCor.RData\")\n",
    "suppressPackageStartupMessages(source(\"tree_helper_function.R\"))\n",
    "suppressPackageStartupMessages(source(\"brain_simulation_nodtu/mode=gc_bias/post_type=gibbs_nrep=100_tf=100/tree_analysis/tree_filter.R\"))"
   ]
  },
  {
   "cell_type": "code",
   "execution_count": 5,
   "id": "25611c8f",
   "metadata": {},
   "outputs": [],
   "source": [
    "load(\"environment/brain_sim_nodtu/mode=gc_bias/post_type=gibbs_nrep=100_tf=100/mean_cons/yAggConsNS0.RData\")"
   ]
  },
  {
   "cell_type": "code",
   "execution_count": 2,
   "id": "ed0f0ab8",
   "metadata": {},
   "outputs": [],
   "source": [
    "load(\"environment/brain_sim_nodtu/mode=gc_bias/post_type=gibbs_nrep=100_tf=100/mean_cons/cutsDepthPur.RData\")\n",
    "load(\"environment/brain_sim_nodtu/mode=gc_bias/post_type=gibbs_nrep=100_tf=100/mean_cons/cutsDepth.RData\")\n",
    "load(\"environment/brain_sim_nodtu/mode=gc_bias/post_type=gibbs_nrep=100_tf=100/mean_cons/cutsPur.RData\")"
   ]
  },
  {
   "cell_type": "code",
   "execution_count": 3,
   "id": "c19928ca",
   "metadata": {
    "scrolled": true
   },
   "outputs": [
    {
     "data": {
      "text/html": [
       "255721"
      ],
      "text/latex": [
       "255721"
      ],
      "text/markdown": [
       "255721"
      ],
      "text/plain": [
       "[1] 255721"
      ]
     },
     "metadata": {},
     "output_type": "display_data"
    }
   ],
   "source": [
    "descL <- sapply(Descendants(treeCons0, seq(length(treeCons0$tip) + treeCons0$Nnode)),length)\n",
    "gamma <- 1\n",
    "l <- length(treeCons0$tip)\n",
    "length(descL)"
   ]
  },
  {
   "cell_type": "code",
   "execution_count": 4,
   "id": "de642259",
   "metadata": {},
   "outputs": [],
   "source": [
    "compRedInfRV <- function(yAgg, tree, nodes) {\n",
    "    leaf <- nodes[nodes <= length(tree$tip)]\n",
    "    iNodes <- nodes[nodes > length(tree$tip)]\n",
    "    chNodes <- Descendants(tree, iNodes, \"children\")\n",
    "    redIRV <- sapply(seq_along(iNodes), function(i) mcols(yAgg)[iNodes[i], \"meanInfRV\"] - mean(mcols(yAgg)[chNodes[[i]], \"meanInfRV\"]))\n",
    "    redIRV\n",
    "}"
   ]
  },
  {
   "cell_type": "code",
   "execution_count": 21,
   "id": "426f9c7a",
   "metadata": {},
   "outputs": [],
   "source": [
    "rPurl1 <- compRedInfRV(yAggConsNS0, treeCons0, dCuts[[\"lambda=1\"]][[\"Cons0\"]])\n",
    "rPurl10 <- compRedInfRV(yAggConsNS0, treeCons0, dCuts[[\"lambda=10\"]][[\"Cons0\"]])"
   ]
  },
  {
   "cell_type": "code",
   "execution_count": 31,
   "id": "4772361c",
   "metadata": {},
   "outputs": [],
   "source": [
    "# rDg1 <- compRedInfRV(yAggConsNS0, treeCons0, dCutsD[[\"gamma=1\"]][[\"Cons0\"]])\n",
    "rDg0.1 <- compRedInfRV(yAggConsNS0, treeCons0, dCutsD[[\"gamma=0.1\"]][[\"Cons0\"]])"
   ]
  },
  {
   "cell_type": "code",
   "execution_count": 32,
   "id": "4ff4e82b",
   "metadata": {},
   "outputs": [],
   "source": [
    "rDg1l1 <- compRedInfRV(yAggConsNS0, treeCons0, dCutsDC[[\"gamma=1\"]][[\"lambda=1\"]][[\"Cons0\"]])\n"
   ]
  },
  {
   "cell_type": "code",
   "execution_count": 33,
   "id": "37daf717",
   "metadata": {},
   "outputs": [
    {
     "data": {
      "text/plain": [
       "      Min.    1st Qu.     Median       Mean    3rd Qu.       Max. \n",
       "-161.98940   -0.20458   -0.06469   -0.35084   -0.02012    0.03663 "
      ]
     },
     "metadata": {},
     "output_type": "display_data"
    },
    {
     "data": {
      "text/plain": [
       "      Min.    1st Qu.     Median       Mean    3rd Qu.       Max. \n",
       "-1200.2813    -0.2454    -0.0697    -0.5466    -0.0211     0.0366 "
      ]
     },
     "metadata": {},
     "output_type": "display_data"
    },
    {
     "data": {
      "text/plain": [
       "     Min.   1st Qu.    Median      Mean   3rd Qu.      Max. \n",
       "-1200.281    -4.290    -2.725    -4.296    -1.807    -1.000 "
      ]
     },
     "metadata": {},
     "output_type": "display_data"
    },
    {
     "data": {
      "text/plain": [
       "      Min.    1st Qu.     Median       Mean    3rd Qu.       Max. \n",
       "-161.98940   -0.95969   -0.56661   -0.99364   -0.34778   -0.08768 "
      ]
     },
     "metadata": {},
     "output_type": "display_data"
    },
    {
     "data": {
      "text/plain": [
       "     Min.   1st Qu.    Median      Mean   3rd Qu.      Max. \n",
       "-1200.281    -4.316    -2.747    -4.358    -1.829    -1.000 "
      ]
     },
     "metadata": {},
     "output_type": "display_data"
    }
   ],
   "source": [
    "summary(rPurl1)\n",
    "summary(rPurl10)\n",
    "summary(rDg1)\n",
    "summary(rDg0.1)\n",
    "summary(rDg1l1)"
   ]
  },
  {
   "cell_type": "code",
   "execution_count": 11,
   "id": "8a2834e3",
   "metadata": {},
   "outputs": [
    {
     "data": {
      "text/html": [
       "0.455269610239284"
      ],
      "text/latex": [
       "0.455269610239284"
      ],
      "text/markdown": [
       "0.455269610239284"
      ],
      "text/plain": [
       "[1] 0.4552696"
      ]
     },
     "metadata": {},
     "output_type": "display_data"
    },
    {
     "data": {
      "text/plain": [
       "   Min. 1st Qu.  Median    Mean 3rd Qu.    Max. \n",
       "  2.000   3.000   6.000   7.114   9.000  75.000 "
      ]
     },
     "metadata": {},
     "output_type": "display_data"
    },
    {
     "data": {
      "text/plain": [
       "   Min. 1st Qu.  Median    Mean 3rd Qu.    Max. \n",
       "  2.000   3.000   5.000   6.916   9.000  75.000 "
      ]
     },
     "metadata": {},
     "output_type": "display_data"
    },
    {
     "data": {
      "text/plain": [
       "   Min. 1st Qu.  Median    Mean 3rd Qu.    Max. \n",
       "  2.000   3.000   5.000   6.809   9.000  75.000 "
      ]
     },
     "metadata": {},
     "output_type": "display_data"
    },
    {
     "data": {
      "text/plain": [
       "   Min. 1st Qu.  Median    Mean 3rd Qu.    Max. \n",
       "   2.00    3.00    5.00    6.62    9.00   75.00 "
      ]
     },
     "metadata": {},
     "output_type": "display_data"
    },
    {
     "data": {
      "text/plain": [
       "   Min. 1st Qu.  Median    Mean 3rd Qu.    Max. \n",
       "   2.00    3.00    5.00    6.55    9.00   75.00 "
      ]
     },
     "metadata": {},
     "output_type": "display_data"
    }
   ],
   "source": [
    "dd <- node.depth(treeCons0,2)\n",
    "mean(dd > 1)\n",
    "cuts <- dCuts[[\"lambda=0.1\"]][[\"Cons0\"]]\n",
    "# summary(dd[cuts])\n",
    "summary(dd[cuts][dd[cuts] > 1])\n",
    "\n",
    "cuts <- dCuts[[\"lambda=0.5\"]][[\"Cons0\"]]\n",
    "# summary(dd[cuts])\n",
    "summary(dd[cuts][dd[cuts] > 1])\n",
    "\n",
    "### Depth of cp cuts\n",
    "cuts <- dCuts[[\"lambda=1\"]][[\"Cons0\"]]\n",
    "# summary(dd[cuts])\n",
    "summary(dd[cuts][dd[cuts] > 1])\n",
    "\n",
    "cuts <- dCuts[[\"lambda=5\"]][[\"Cons0\"]]\n",
    "# summary(dd[cuts])\n",
    "summary(dd[cuts][dd[cuts] > 1])\n",
    "\n",
    "cuts <- dCuts[[\"lambda=10\"]][[\"Cons0\"]]\n",
    "\n",
    "# summary(dd[cuts])\n",
    "summary(dd[cuts][dd[cuts] > 1])"
   ]
  },
  {
   "cell_type": "code",
   "execution_count": 13,
   "id": "d10fce2c",
   "metadata": {},
   "outputs": [
    {
     "data": {
      "text/plain": [
       "   Min. 1st Qu.  Median    Mean 3rd Qu.    Max. \n",
       "    2.0     2.0     4.0     4.1     5.0    28.0 "
      ]
     },
     "metadata": {},
     "output_type": "display_data"
    },
    {
     "data": {
      "text/plain": [
       "   Min. 1st Qu.  Median    Mean 3rd Qu.    Max. \n",
       "  2.000   2.000   3.000   2.971   4.000  16.000 "
      ]
     },
     "metadata": {},
     "output_type": "display_data"
    },
    {
     "data": {
      "text/plain": [
       "   Min. 1st Qu.  Median    Mean 3rd Qu.    Max. \n",
       "  2.000   2.000   2.000   2.635   3.000  11.000 "
      ]
     },
     "metadata": {},
     "output_type": "display_data"
    }
   ],
   "source": [
    "cuts <- dCutsD[[\"gamma=0.1\"]][[\"Cons0\"]]\n",
    "summary(dd[cuts][dd[cuts] > 1])\n",
    "cuts <- dCutsD[[\"gamma=0.5\"]][[\"Cons0\"]]\n",
    "summary(dd[cuts][dd[cuts] > 1])\n",
    "cuts <- dCutsD[[\"gamma=1\"]][[\"Cons0\"]]\n",
    "summary(dd[cuts][dd[cuts] > 1])"
   ]
  },
  {
   "cell_type": "code",
   "execution_count": 19,
   "id": "e0c100da",
   "metadata": {},
   "outputs": [
    {
     "data": {
      "text/plain": [
       "   Min. 1st Qu.  Median    Mean 3rd Qu.    Max. \n",
       "  2.000   2.000   2.000   2.638   3.000  11.000 "
      ]
     },
     "metadata": {},
     "output_type": "display_data"
    }
   ],
   "source": [
    "cuts <- dCutsDC[[\"gamma=1\"]][[\"lambda=0.5\"]][[\"Cons0\"]]\n",
    "summary(dd[cuts][dd[cuts] > 1])"
   ]
  },
  {
   "cell_type": "code",
   "execution_count": 36,
   "id": "7d7e87f5",
   "metadata": {},
   "outputs": [],
   "source": [
    "dd <- node.depth(treeCons0, 2)\n",
    "prop <- list()\n",
    "for(gamma in c(0.1, 0.5, 1)) {\n",
    "    cuts <- dCutsD[[paste(\"gamma\",gamma, sep=\"=\")]][[\"Cons0\"]]\n",
    "    prop[[paste(\"gamma\",gamma, sep=\"=\")]] <- c()\n",
    "    prop[[paste(\"gamma\",gamma, sep=\"=\")]] <- c(prop[[paste(\"gamma\",gamma, sep=\"=\")]], mean(dd[cuts]==1))\n",
    "    prop[[paste(\"gamma\",gamma, sep=\"=\")]] <- c(prop[[paste(\"gamma\",gamma, sep=\"=\")]], mean(dd[cuts]==2))\n",
    "    prop[[paste(\"gamma\",gamma, sep=\"=\")]] <- c(prop[[paste(\"gamma\",gamma, sep=\"=\")]], mean(dd[cuts]==3))\n",
    "    prop[[paste(\"gamma\",gamma, sep=\"=\")]] <- c(prop[[paste(\"gamma\",gamma, sep=\"=\")]], mean(dd[cuts]==4))\n",
    "    prop[[paste(\"gamma\",gamma, sep=\"=\")]] <- c(prop[[paste(\"gamma\",gamma, sep=\"=\")]], mean(dd[cuts]==5))\n",
    "    prop[[paste(\"gamma\",gamma, sep=\"=\")]] <- c(prop[[paste(\"gamma\",gamma, sep=\"=\")]], mean(dd[cuts]==6))\n",
    "    prop[[paste(\"gamma\",gamma, sep=\"=\")]] <- c(prop[[paste(\"gamma\",gamma, sep=\"=\")]], mean(dd[cuts]>=7))\n",
    "}"
   ]
  },
  {
   "cell_type": "code",
   "execution_count": 37,
   "id": "a02d1138",
   "metadata": {},
   "outputs": [
    {
     "data": {
      "text/html": [
       "<dl>\n",
       "\t<dt>$`gamma=0.1`</dt>\n",
       "\t\t<dd><style>\n",
       ".list-inline {list-style: none; margin:0; padding: 0}\n",
       ".list-inline>li {display: inline-block}\n",
       ".list-inline>li:not(:last-child)::after {content: \"\\00b7\"; padding: 0 .5ex}\n",
       "</style>\n",
       "<ol class=list-inline><li>0.827910274735788</li><li>0.0502988215961913</li><li>0.0354759198190188</li><li>0.0284077479769046</li><li>0.0207318033967743</li><li>0.0142376391405643</li><li>0.022937793334759</li></ol>\n",
       "</dd>\n",
       "\t<dt>$`gamma=0.5`</dt>\n",
       "\t\t<dd><style>\n",
       ".list-inline {list-style: none; margin:0; padding: 0}\n",
       ".list-inline>li {display: inline-block}\n",
       ".list-inline>li:not(:last-child)::after {content: \"\\00b7\"; padding: 0 .5ex}\n",
       "</style>\n",
       "<ol class=list-inline><li>0.883626173212935</li><li>0.0566611805524665</li><li>0.0300431475468173</li><li>0.0162003469596548</li><li>0.00766869801165429</li><li>0.00331835772430052</li><li>0.00248209599217117</li></ol>\n",
       "</dd>\n",
       "\t<dt>$`gamma=1`</dt>\n",
       "\t\t<dd><style>\n",
       ".list-inline {list-style: none; margin:0; padding: 0}\n",
       ".list-inline>li {display: inline-block}\n",
       ".list-inline>li:not(:last-child)::after {content: \"\\00b7\"; padding: 0 .5ex}\n",
       "</style>\n",
       "<ol class=list-inline><li>0.908894356221576</li><li>0.0539857683673385</li><li>0.0236172204411972</li><li>0.00877258381172494</li><li>0.00301531681536155</li><li>0.00115973723667752</li><li>0.000555017106124241</li></ol>\n",
       "</dd>\n",
       "</dl>\n"
      ],
      "text/latex": [
       "\\begin{description}\n",
       "\\item[\\$`gamma=0.1`] \\begin{enumerate*}\n",
       "\\item 0.827910274735788\n",
       "\\item 0.0502988215961913\n",
       "\\item 0.0354759198190188\n",
       "\\item 0.0284077479769046\n",
       "\\item 0.0207318033967743\n",
       "\\item 0.0142376391405643\n",
       "\\item 0.022937793334759\n",
       "\\end{enumerate*}\n",
       "\n",
       "\\item[\\$`gamma=0.5`] \\begin{enumerate*}\n",
       "\\item 0.883626173212935\n",
       "\\item 0.0566611805524665\n",
       "\\item 0.0300431475468173\n",
       "\\item 0.0162003469596548\n",
       "\\item 0.00766869801165429\n",
       "\\item 0.00331835772430052\n",
       "\\item 0.00248209599217117\n",
       "\\end{enumerate*}\n",
       "\n",
       "\\item[\\$`gamma=1`] \\begin{enumerate*}\n",
       "\\item 0.908894356221576\n",
       "\\item 0.0539857683673385\n",
       "\\item 0.0236172204411972\n",
       "\\item 0.00877258381172494\n",
       "\\item 0.00301531681536155\n",
       "\\item 0.00115973723667752\n",
       "\\item 0.000555017106124241\n",
       "\\end{enumerate*}\n",
       "\n",
       "\\end{description}\n"
      ],
      "text/markdown": [
       "$`gamma=0.1`\n",
       ":   1. 0.827910274735788\n",
       "2. 0.0502988215961913\n",
       "3. 0.0354759198190188\n",
       "4. 0.0284077479769046\n",
       "5. 0.0207318033967743\n",
       "6. 0.0142376391405643\n",
       "7. 0.022937793334759\n",
       "\n",
       "\n",
       "\n",
       "$`gamma=0.5`\n",
       ":   1. 0.883626173212935\n",
       "2. 0.0566611805524665\n",
       "3. 0.0300431475468173\n",
       "4. 0.0162003469596548\n",
       "5. 0.00766869801165429\n",
       "6. 0.00331835772430052\n",
       "7. 0.00248209599217117\n",
       "\n",
       "\n",
       "\n",
       "$`gamma=1`\n",
       ":   1. 0.908894356221576\n",
       "2. 0.0539857683673385\n",
       "3. 0.0236172204411972\n",
       "4. 0.00877258381172494\n",
       "5. 0.00301531681536155\n",
       "6. 0.00115973723667752\n",
       "7. 0.000555017106124241\n",
       "\n",
       "\n",
       "\n",
       "\n",
       "\n"
      ],
      "text/plain": [
       "$`gamma=0.1`\n",
       "[1] 0.82791027 0.05029882 0.03547592 0.02840775 0.02073180 0.01423764 0.02293779\n",
       "\n",
       "$`gamma=0.5`\n",
       "[1] 0.883626173 0.056661181 0.030043148 0.016200347 0.007668698 0.003318358\n",
       "[7] 0.002482096\n",
       "\n",
       "$`gamma=1`\n",
       "[1] 0.9088943562 0.0539857684 0.0236172204 0.0087725838 0.0030153168\n",
       "[6] 0.0011597372 0.0005550171\n"
      ]
     },
     "metadata": {},
     "output_type": "display_data"
    }
   ],
   "source": [
    "prop"
   ]
  },
  {
   "cell_type": "code",
   "execution_count": null,
   "id": "62401a76",
   "metadata": {},
   "outputs": [],
   "source": []
  }
 ],
 "metadata": {
  "kernelspec": {
   "display_name": "R",
   "language": "R",
   "name": "ir"
  },
  "language_info": {
   "codemirror_mode": "r",
   "file_extension": ".r",
   "mimetype": "text/x-r-source",
   "name": "R",
   "pygments_lexer": "r",
   "version": "4.1.1"
  }
 },
 "nbformat": 4,
 "nbformat_minor": 5
}
