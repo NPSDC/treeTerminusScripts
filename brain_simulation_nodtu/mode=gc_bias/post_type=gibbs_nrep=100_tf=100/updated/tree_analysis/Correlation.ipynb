{
 "cells": [
  {
   "cell_type": "code",
   "execution_count": 153,
   "id": "2da1faa3",
   "metadata": {},
   "outputs": [],
   "source": [
    "setwd('/fs/cbcb-lab/rob/students/noor/Uncertainity/treeTerminusScripts')\n",
    "suppressPackageStartupMessages(source(\"tree_helper_function.R\"))\n",
    "suppressPackageStartupMessages(library(ggplot2))\n",
    "suppressPackageStartupMessages(library(dplyr))\n",
    "load(\"environment/brain_sim_nodtu/mode=gc_bias/mapDf.RData\")\n",
    "# load(\"environment/brain_sim_nodtu/mode=gc_bias/post_type=gibbs_nrep=100_tf=100/seBrainSim.RData\")\n",
    "trueCountsDir <- \"/fs/cbcb-lab/rob/students/noor/Uncertainity/brain_sim_nodtu/mode=gc_bias/reads_fastq\"\n",
    "\n",
    "trueCountsDf <- lapply(seq(12), function(i) {\n",
    "    samp <- ifelse(i<=6,i,i-6)\n",
    "    rep <- ifelse(i<=6,1,2)\n",
    "    file <- file.path(trueCountsDir, samp, paste(paste(\"true_counts\", rep,sep=\"_\"),\"tsv\",sep=\".\"))\n",
    "    df <- read.delim(file, row.names = 1)\n",
    "})\n",
    "\n",
    "comp_mard <- function(x, y, cutoff = 0.01) {\n",
    "    if(length(x) != length(y))\n",
    "        stop(paste(length(x), length(y)))\n",
    "    relDiff <- rep(0, length(x))\n",
    "    zInds <- which(x <= cutoff & y <= cutoff)\n",
    "#     print(length(zInds)/length(x))\n",
    "    nzInds <- setdiff(seq_along(x), zInds)\n",
    "    relDiff[nzInds] <- abs(x[nzInds] - y[nzInds])/(x[nzInds] + y[nzInds])\n",
    "    return(sum(relDiff)/length(x))\n",
    "}"
   ]
  },
  {
   "cell_type": "code",
   "execution_count": 154,
   "id": "dbca12e4",
   "metadata": {},
   "outputs": [],
   "source": [
    "load(\"environment/brain_sim_nodtu/mode=gc_bias/post_type=gibbs_nrep=100_tf=100/seBrainSim.RData\")\n",
    "load(\"environment/brain_sim_nodtu/mode=gc_bias/post_type=gibbs_nrep=100_tf=100/mean_cons/treeCons.RData\")\n",
    "load(\"environment/brain_sim_nodtu/mode=gc_bias/post_type=gibbs_nrep=100_tf=100/mean_cons/treeCor.RData\")\n",
    "load(\"environment/brain_sim_nodtu/mode=gc_bias/post_type=gibbs_nrep=100_tf=100/mean_cons/treeMC.RData\")\n",
    "load(\"environment/brain_sim_nodtu/mode=gc_bias/post_type=gibbs_nrep=100_tf=100/mean_cons/treeMC0.RData\")\n",
    "load(\"environment/brain_sim_nodtu/mode=gc_bias/post_type=gibbs_nrep=100_tf=100/mean_cons/treeThr.RData\")\n",
    "load(\"environment/brain_sim_nodtu/mode=gc_bias/post_type=gibbs_nrep=100_tf=100/mean_cons/treeCons0.RData\")\n",
    "\n",
    "load(\"environment/brain_sim_nodtu/mode=gc_bias/post_type=gibbs_nrep=100_tf=100/mean_cons/cutsDepth.RData\")\n",
    "load(\"environment/brain_sim_nodtu/mode=gc_bias/post_type=gibbs_nrep=100_tf=100/updated/comp_trees/lfcCuts_len.RData\")"
   ]
  },
  {
   "cell_type": "code",
   "execution_count": 155,
   "id": "0296c927",
   "metadata": {},
   "outputs": [],
   "source": [
    "dfCor <- data.frame(matrix(nrow=ncol(seBrainSim),ncol=9))\n",
    "colnames(dfCor) <- c(\"Sample\", paste(\"Depth\",c(1:7), sep=\"_\"), \"Type\")\n",
    "\n",
    "dfMard <- data.frame(matrix(nrow=ncol(seBrainSim),ncol=9))\n",
    "colnames(dfMard) <- c(\"Sample\", paste(\"Depth\",c(1:7), sep=\"_\"), \"Type\")"
   ]
  },
  {
   "cell_type": "code",
   "execution_count": 156,
   "id": "ad09f902",
   "metadata": {},
   "outputs": [],
   "source": [
    "dfCorCuts <- data.frame(matrix(nrow=ncol(seBrainSim),ncol=7))\n",
    "colnames(dfCorCuts) <- c(\"Sample\", c(paste(\"Gamma\",c(0.1, 0.5, 1, 5), sep=\"_\"), \"LFC\"), \"Type\")\n",
    "\n",
    "dfMardCuts <- data.frame(matrix(nrow=ncol(seBrainSim),ncol=7))\n",
    "colnames(dfMardCuts) <- c(\"Sample\", c(paste(\"Gamma\",c(0.1, 0.5, 1, 5), sep=\"_\"), \"LFC\"), \"Type\")"
   ]
  },
  {
   "cell_type": "markdown",
   "id": "9a293837",
   "metadata": {},
   "source": [
    "#### Consensus"
   ]
  },
  {
   "cell_type": "code",
   "execution_count": 157,
   "id": "f7994829",
   "metadata": {},
   "outputs": [
    {
     "name": "stdout",
     "output_type": "stream",
     "text": [
      "[1] \"Missing txps 726\"\n"
     ]
    }
   ],
   "source": [
    "consTxps <- treeCons$tip.label\n",
    "trueTxps <- Reduce(union, lapply(trueCountsDf, function(df) rownames(df)))\n",
    "allTxps <- union(consTxps, trueTxps)\n",
    "mb <- mergeLeaves(treeCons, seBrainSim[allTxps,])\n",
    "yCons <- mb[[\"ySwish\"]]\n",
    "tr <- mb[[\"tree\"]]\n",
    "yAggCons <- computeAggNodesU(tree=tr, nodeID=seq(length(tr$tip)+tr$Nnode), se_counts=assays(yCons)[[\"counts\"]])"
   ]
  },
  {
   "cell_type": "code",
   "execution_count": 158,
   "id": "078fb2b0",
   "metadata": {},
   "outputs": [],
   "source": [
    "trueCountsDfU <- lapply(trueCountsDf, function(df) {\n",
    "    mtnames <- setdiff(allTxps, rownames(df))\n",
    "    rbind(df, data.frame(Counts=rep(0,length(mtnames)), row.names = mtnames))\n",
    "})\n",
    "rnames <- rownames(trueCountsDfU[[1]])\n",
    "trueCountsDfU <- lapply(trueCountsDfU, function(df) {\n",
    "    df <- df[rnames,]\n",
    "    df\n",
    "})\n",
    "trueCountsDfU <- do.call(cbind,trueCountsDfU)\n",
    "\n",
    "colnames(trueCountsDfU) <- colnames(seBrainSim)\n",
    "rownames(trueCountsDfU) <- rnames\n",
    "\n",
    "trueCountsDfU <- trueCountsDfU[tr$tip,]\n",
    "\n",
    "trueCountsAgg <- computeAggNodesU(tree=tr, nodeID=seq(length(tr$tip)+tr$Nnode), se_counts=trueCountsDfU)"
   ]
  },
  {
   "cell_type": "code",
   "execution_count": 159,
   "id": "f72cb53e",
   "metadata": {
    "scrolled": true
   },
   "outputs": [],
   "source": [
    "depth <- node.depth(tr,2)\n",
    "depth[depth > 6] = 7\n",
    "dfCor$Sample <- colnames(seBrainSim)\n",
    "dfCor$Type <- rep(\"Consensus\", ncol(seBrainSim))\n",
    "dfMard$Sample <- colnames(seBrainSim)\n",
    "dfMard$Type <- rep(\"Consensus\", ncol(seBrainSim))\n",
    "\n",
    "# head(dfCor)\n",
    "mat <- matrix(0, ncol=ncol(seBrainSim), nrow=7)\n",
    "for(i in seq(7)) {\n",
    "    mat[i,] = diag(cor(trueCountsAgg[depth==i,], yAggCons[depth==i,], method = \"spearman\"))\n",
    "    n <- paste(\"Depth\", i, sep=\"_\")\n",
    "    dfCor[[n]] <- mat[i,]\n",
    "    mat[i,] = sapply(seq_along(colnames(seBrainSim)), function(j) comp_mard(trueCountsAgg[depth==i,j], yAggCons[depth==i,j]))\n",
    "    dfMard[[n]] <- mat[i,]\n",
    "}\n",
    "\n"
   ]
  },
  {
   "cell_type": "code",
   "execution_count": 160,
   "id": "c638dc6e",
   "metadata": {},
   "outputs": [],
   "source": [
    "dfCorCuts$Sample <- colnames(seBrainSim)\n",
    "dfCorCuts$Type <- rep(\"Consensus\", ncol(seBrainSim))\n",
    "dfMardCuts$Sample <- colnames(seBrainSim)\n",
    "dfMardCuts$Type <- rep(\"Consensus\", ncol(seBrainSim))\n",
    "mat <- matrix(0, ncol=ncol(seBrainSim), nrow=4)\n",
    "for(i in seq_along(dCutsD)) {\n",
    "    dd <- dCutsD[[i]][[\"Cons\"]]\n",
    "    iCuts <- dd[dd > length(treeCons$tip)]\n",
    "    iCuts <- iCuts + length(tr$tip)-length(treeCons$tip)\n",
    "    leaves <- match(treeCons$tip[dd[dd <= length(treeCons$tip)]], tr$tip)\n",
    "    dd <- c(leaves, iCuts)\n",
    "    n <- paste(\"Gamma\",c(0.1, 0.5, 1, 5)[i], sep=\"_\")\n",
    "    mat[i,] <- diag(cor(trueCountsAgg[dd,], yAggCons[dd,],method=\"spearman\"))\n",
    "    dfCorCuts[[n]] <- mat[i,]\n",
    "    mat[i,] = sapply(seq_along(colnames(seBrainSim)), function(j) comp_mard(trueCountsAgg[dd,j], yAggCons[dd,j]))\n",
    "    dfMardCuts[[n]] <- mat[i,]\n",
    "}\n",
    "\n",
    "dd <- dCuts[[\"Consensus\"]]\n",
    "iCuts <- dd[dd > length(treeCons$tip)]\n",
    "iCuts <- iCuts + length(tr$tip)-length(treeCons$tip)\n",
    "leaves <- match(treeCons$tip[dd[dd <= length(treeCons$tip)]], tr$tip)\n",
    "dd <- c(leaves, iCuts)\n",
    "n <- \"LFC\"\n",
    "mat[i,] <- diag(cor(trueCountsAgg[dd,], yAggCons[dd,],method=\"spearman\"))\n",
    "dfCorCuts[[n]] <- mat[i,]\n",
    "mat[i,] = sapply(seq_along(colnames(seBrainSim)), function(j) comp_mard(trueCountsAgg[dd,j], yAggCons[dd,j]))\n",
    "dfMardCuts[[n]] <- mat[i,]"
   ]
  },
  {
   "cell_type": "code",
   "execution_count": 161,
   "id": "4617d9d9",
   "metadata": {},
   "outputs": [
    {
     "data": {
      "text/html": [
       "<table class=\"dataframe\">\n",
       "<caption>A data.frame: 12 × 7</caption>\n",
       "<thead>\n",
       "\t<tr><th scope=col>Sample</th><th scope=col>Gamma_0.1</th><th scope=col>Gamma_0.5</th><th scope=col>Gamma_1</th><th scope=col>Gamma_5</th><th scope=col>LFC</th><th scope=col>Type</th></tr>\n",
       "\t<tr><th scope=col>&lt;chr&gt;</th><th scope=col>&lt;dbl&gt;</th><th scope=col>&lt;dbl&gt;</th><th scope=col>&lt;dbl&gt;</th><th scope=col>&lt;dbl&gt;</th><th scope=col>&lt;dbl&gt;</th><th scope=col>&lt;chr&gt;</th></tr>\n",
       "</thead>\n",
       "<tbody>\n",
       "\t<tr><td>1_1</td><td>0.9872721</td><td>0.9719999</td><td>0.9660248</td><td>0.9533866</td><td>0.9949299</td><td>Consensus</td></tr>\n",
       "\t<tr><td>2_1</td><td>0.9874307</td><td>0.9725895</td><td>0.9668935</td><td>0.9534542</td><td>0.9949068</td><td>Consensus</td></tr>\n",
       "\t<tr><td>3_1</td><td>0.9884198</td><td>0.9748012</td><td>0.9695085</td><td>0.9582890</td><td>0.9954835</td><td>Consensus</td></tr>\n",
       "\t<tr><td>4_1</td><td>0.9877949</td><td>0.9726840</td><td>0.9668950</td><td>0.9545140</td><td>0.9953477</td><td>Consensus</td></tr>\n",
       "\t<tr><td>5_1</td><td>0.9880292</td><td>0.9749937</td><td>0.9699611</td><td>0.9593492</td><td>0.9954616</td><td>Consensus</td></tr>\n",
       "\t<tr><td>6_1</td><td>0.9883036</td><td>0.9750716</td><td>0.9701320</td><td>0.9592553</td><td>0.9955019</td><td>Consensus</td></tr>\n",
       "\t<tr><td>1_2</td><td>0.9879183</td><td>0.9726345</td><td>0.9664461</td><td>0.9523791</td><td>0.9952344</td><td>Consensus</td></tr>\n",
       "\t<tr><td>2_2</td><td>0.9874604</td><td>0.9723130</td><td>0.9663612</td><td>0.9535847</td><td>0.9948480</td><td>Consensus</td></tr>\n",
       "\t<tr><td>3_2</td><td>0.9886385</td><td>0.9745664</td><td>0.9689979</td><td>0.9571962</td><td>0.9954964</td><td>Consensus</td></tr>\n",
       "\t<tr><td>4_2</td><td>0.9876998</td><td>0.9726782</td><td>0.9671842</td><td>0.9542129</td><td>0.9954019</td><td>Consensus</td></tr>\n",
       "\t<tr><td>5_2</td><td>0.9886497</td><td>0.9759759</td><td>0.9708155</td><td>0.9598976</td><td>0.9954585</td><td>Consensus</td></tr>\n",
       "\t<tr><td>6_2</td><td>0.9887744</td><td>0.9755335</td><td>0.9699756</td><td>0.9584766</td><td>0.9957922</td><td>Consensus</td></tr>\n",
       "</tbody>\n",
       "</table>\n"
      ],
      "text/latex": [
       "A data.frame: 12 × 7\n",
       "\\begin{tabular}{lllllll}\n",
       " Sample & Gamma\\_0.1 & Gamma\\_0.5 & Gamma\\_1 & Gamma\\_5 & LFC & Type\\\\\n",
       " <chr> & <dbl> & <dbl> & <dbl> & <dbl> & <dbl> & <chr>\\\\\n",
       "\\hline\n",
       "\t 1\\_1 & 0.9872721 & 0.9719999 & 0.9660248 & 0.9533866 & 0.9949299 & Consensus\\\\\n",
       "\t 2\\_1 & 0.9874307 & 0.9725895 & 0.9668935 & 0.9534542 & 0.9949068 & Consensus\\\\\n",
       "\t 3\\_1 & 0.9884198 & 0.9748012 & 0.9695085 & 0.9582890 & 0.9954835 & Consensus\\\\\n",
       "\t 4\\_1 & 0.9877949 & 0.9726840 & 0.9668950 & 0.9545140 & 0.9953477 & Consensus\\\\\n",
       "\t 5\\_1 & 0.9880292 & 0.9749937 & 0.9699611 & 0.9593492 & 0.9954616 & Consensus\\\\\n",
       "\t 6\\_1 & 0.9883036 & 0.9750716 & 0.9701320 & 0.9592553 & 0.9955019 & Consensus\\\\\n",
       "\t 1\\_2 & 0.9879183 & 0.9726345 & 0.9664461 & 0.9523791 & 0.9952344 & Consensus\\\\\n",
       "\t 2\\_2 & 0.9874604 & 0.9723130 & 0.9663612 & 0.9535847 & 0.9948480 & Consensus\\\\\n",
       "\t 3\\_2 & 0.9886385 & 0.9745664 & 0.9689979 & 0.9571962 & 0.9954964 & Consensus\\\\\n",
       "\t 4\\_2 & 0.9876998 & 0.9726782 & 0.9671842 & 0.9542129 & 0.9954019 & Consensus\\\\\n",
       "\t 5\\_2 & 0.9886497 & 0.9759759 & 0.9708155 & 0.9598976 & 0.9954585 & Consensus\\\\\n",
       "\t 6\\_2 & 0.9887744 & 0.9755335 & 0.9699756 & 0.9584766 & 0.9957922 & Consensus\\\\\n",
       "\\end{tabular}\n"
      ],
      "text/markdown": [
       "\n",
       "A data.frame: 12 × 7\n",
       "\n",
       "| Sample &lt;chr&gt; | Gamma_0.1 &lt;dbl&gt; | Gamma_0.5 &lt;dbl&gt; | Gamma_1 &lt;dbl&gt; | Gamma_5 &lt;dbl&gt; | LFC &lt;dbl&gt; | Type &lt;chr&gt; |\n",
       "|---|---|---|---|---|---|---|\n",
       "| 1_1 | 0.9872721 | 0.9719999 | 0.9660248 | 0.9533866 | 0.9949299 | Consensus |\n",
       "| 2_1 | 0.9874307 | 0.9725895 | 0.9668935 | 0.9534542 | 0.9949068 | Consensus |\n",
       "| 3_1 | 0.9884198 | 0.9748012 | 0.9695085 | 0.9582890 | 0.9954835 | Consensus |\n",
       "| 4_1 | 0.9877949 | 0.9726840 | 0.9668950 | 0.9545140 | 0.9953477 | Consensus |\n",
       "| 5_1 | 0.9880292 | 0.9749937 | 0.9699611 | 0.9593492 | 0.9954616 | Consensus |\n",
       "| 6_1 | 0.9883036 | 0.9750716 | 0.9701320 | 0.9592553 | 0.9955019 | Consensus |\n",
       "| 1_2 | 0.9879183 | 0.9726345 | 0.9664461 | 0.9523791 | 0.9952344 | Consensus |\n",
       "| 2_2 | 0.9874604 | 0.9723130 | 0.9663612 | 0.9535847 | 0.9948480 | Consensus |\n",
       "| 3_2 | 0.9886385 | 0.9745664 | 0.9689979 | 0.9571962 | 0.9954964 | Consensus |\n",
       "| 4_2 | 0.9876998 | 0.9726782 | 0.9671842 | 0.9542129 | 0.9954019 | Consensus |\n",
       "| 5_2 | 0.9886497 | 0.9759759 | 0.9708155 | 0.9598976 | 0.9954585 | Consensus |\n",
       "| 6_2 | 0.9887744 | 0.9755335 | 0.9699756 | 0.9584766 | 0.9957922 | Consensus |\n",
       "\n"
      ],
      "text/plain": [
       "   Sample Gamma_0.1 Gamma_0.5 Gamma_1   Gamma_5   LFC       Type     \n",
       "1  1_1    0.9872721 0.9719999 0.9660248 0.9533866 0.9949299 Consensus\n",
       "2  2_1    0.9874307 0.9725895 0.9668935 0.9534542 0.9949068 Consensus\n",
       "3  3_1    0.9884198 0.9748012 0.9695085 0.9582890 0.9954835 Consensus\n",
       "4  4_1    0.9877949 0.9726840 0.9668950 0.9545140 0.9953477 Consensus\n",
       "5  5_1    0.9880292 0.9749937 0.9699611 0.9593492 0.9954616 Consensus\n",
       "6  6_1    0.9883036 0.9750716 0.9701320 0.9592553 0.9955019 Consensus\n",
       "7  1_2    0.9879183 0.9726345 0.9664461 0.9523791 0.9952344 Consensus\n",
       "8  2_2    0.9874604 0.9723130 0.9663612 0.9535847 0.9948480 Consensus\n",
       "9  3_2    0.9886385 0.9745664 0.9689979 0.9571962 0.9954964 Consensus\n",
       "10 4_2    0.9876998 0.9726782 0.9671842 0.9542129 0.9954019 Consensus\n",
       "11 5_2    0.9886497 0.9759759 0.9708155 0.9598976 0.9954585 Consensus\n",
       "12 6_2    0.9887744 0.9755335 0.9699756 0.9584766 0.9957922 Consensus"
      ]
     },
     "metadata": {},
     "output_type": "display_data"
    }
   ],
   "source": [
    "dfCorCuts"
   ]
  },
  {
   "cell_type": "markdown",
   "id": "a40ad7c9",
   "metadata": {},
   "source": [
    "#### Correlation Tree"
   ]
  },
  {
   "cell_type": "code",
   "execution_count": 162,
   "id": "34dd39d2",
   "metadata": {},
   "outputs": [
    {
     "name": "stdout",
     "output_type": "stream",
     "text": [
      "[1] \"Missing txps 726\"\n"
     ]
    }
   ],
   "source": [
    "corTxps <- treeCor$tip.label\n",
    "trueTxps <- Reduce(union, lapply(trueCountsDf, function(df) rownames(df)))\n",
    "allTxps <- union(corTxps, trueTxps)\n",
    "mb <- mergeLeaves(treeCor, seBrainSim[allTxps,])\n",
    "yCor <- mb[[\"ySwish\"]]\n",
    "tr <- mb[[\"tree\"]]\n",
    "yAggCor <- computeAggNodesU(tree=tr, nodeID=seq(length(tr$tip)+tr$Nnode), se_counts=assays(yCor)[[\"counts\"]])"
   ]
  },
  {
   "cell_type": "code",
   "execution_count": 163,
   "id": "9a42dde9",
   "metadata": {},
   "outputs": [],
   "source": [
    "trueCountsDfU <- lapply(trueCountsDf, function(df) {\n",
    "    mtnames <- setdiff(allTxps, rownames(df))\n",
    "    rbind(df, data.frame(Counts=rep(0,length(mtnames)), row.names = mtnames))\n",
    "})\n",
    "rnames <- rownames(trueCountsDfU[[1]])\n",
    "trueCountsDfU <- lapply(trueCountsDfU, function(df) {\n",
    "    df <- df[rnames,]\n",
    "    df\n",
    "})\n",
    "trueCountsDfU <- do.call(cbind,trueCountsDfU)\n",
    "\n",
    "colnames(trueCountsDfU) <- colnames(seBrainSim)\n",
    "rownames(trueCountsDfU) <- rnames\n",
    "\n",
    "trueCountsDfU <- trueCountsDfU[tr$tip,]\n",
    "\n",
    "trueCountsAgg <- computeAggNodesU(tree=tr, nodeID=seq(length(tr$tip)+tr$Nnode), se_counts=trueCountsDfU)"
   ]
  },
  {
   "cell_type": "code",
   "execution_count": 164,
   "id": "b96086e5",
   "metadata": {},
   "outputs": [],
   "source": [
    "depth <- node.depth(tr,2)\n",
    "depth[depth > 6] = 7\n",
    "\n",
    "dfT <- data.frame(matrix(nrow=ncol(seBrainSim),ncol=9))\n",
    "colnames(dfT) <- c(\"Sample\", paste(\"Depth\",c(1:7), sep=\"_\"), \"Type\")\n",
    "\n",
    "dfT2 <- data.frame(matrix(nrow=ncol(seBrainSim),ncol=9))\n",
    "colnames(dfT2) <- c(\"Sample\", paste(\"Depth\",c(1:7), sep=\"_\"), \"Type\")\n",
    "\n",
    "\n",
    "dfT$Sample <- colnames(seBrainSim)\n",
    "dfT$Type <- rep(\"Anti-Correlation\", ncol(seBrainSim))\n",
    "dfT2$Sample <- colnames(seBrainSim)\n",
    "dfT2$Type <- rep(\"Anti-Correlation\", ncol(seBrainSim))\n",
    "# head(dfCor)\n",
    "mat <- matrix(0, ncol=ncol(seBrainSim), nrow=7)\n",
    "for(i in seq(7)) {\n",
    "    mat[i,] = diag(cor(trueCountsAgg[depth==i,], yAggCor[depth==i,], method = \"spearman\"))\n",
    "    n <- paste(\"Depth\", i, sep=\"_\")\n",
    "    dfT[[n]] <- mat[i,]\n",
    "    mat[i,] = sapply(seq_along(colnames(seBrainSim)), function(j) comp_mard(trueCountsAgg[depth==i,j], yAggCor[depth==i,j]))\n",
    "    dfT2[[n]] <- mat[i,]\n",
    "}\n",
    "dfCor <- rbind(dfCor, dfT)\n",
    "dfMard <- rbind(dfMard, dfT2)\n"
   ]
  },
  {
   "cell_type": "code",
   "execution_count": 165,
   "id": "bed68d54",
   "metadata": {},
   "outputs": [],
   "source": [
    "dfT <- data.frame(matrix(nrow=ncol(seBrainSim),ncol=7))\n",
    "colnames(dfT) <- c(\"Sample\", c(paste(\"Gamma\",c(0.1, 0.5, 1, 5), sep=\"_\"), \"LFC\"), \"Type\")\n",
    "\n",
    "dfT2 <- data.frame(matrix(nrow=ncol(seBrainSim),ncol=7))\n",
    "colnames(dfT2) <- c(\"Sample\", c(paste(\"Gamma\",c(0.1, 0.5, 1, 5), sep=\"_\"), \"LFC\"), \"Type\")\n",
    "\n",
    "\n",
    "dfT$Sample <- colnames(seBrainSim)\n",
    "dfT$Type <- rep(\"Anti-Correlation\", ncol(seBrainSim))\n",
    "dfT2$Sample <- colnames(seBrainSim)\n",
    "dfT2$Type <- rep(\"Anti-Correlation\", ncol(seBrainSim))\n",
    "mat <- matrix(0, ncol=ncol(seBrainSim), nrow=4)\n",
    "for(i in seq_along(dCutsD)) {\n",
    "    dd <- dCutsD[[i]][[\"Cor\"]]\n",
    "    iCuts <- dd[dd > length(treeCons$tip)]\n",
    "    iCuts <- iCuts + length(tr$tip)-length(treeCor$tip)\n",
    "    leaves <- match(treeCor$tip[dd[dd <= length(treeCor$tip)]], tr$tip)\n",
    "    dd <- c(leaves, iCuts)\n",
    "    n <- paste(\"Gamma\",c(0.1, 0.5, 1, 5)[i], sep=\"_\")\n",
    "    mat[i,] <- diag(cor(trueCountsAgg[dd,], yAggCor[dd,],method=\"spearman\"))\n",
    "    dfT[[n]] <- mat[i,]\n",
    "    mat[i,] = sapply(seq_along(colnames(seBrainSim)), function(j) comp_mard(trueCountsAgg[dd,j], yAggCor[dd,j]))\n",
    "    dfT2[[n]] <- mat[i,]\n",
    "}\n",
    "\n",
    "dd <- dCuts[[\"Anti-Correlation\"]]\n",
    "iCuts <- dd[dd > length(treeCor$tip)]\n",
    "iCuts <- iCuts + length(tr$tip)-length(treeCor$tip)\n",
    "leaves <- match(treeCor$tip[dd[dd <= length(treeCor$tip)]], tr$tip)\n",
    "dd <- c(leaves, iCuts)\n",
    "n <- \"LFC\"\n",
    "mat[i,] <- diag(cor(trueCountsAgg[dd,], yAggCor[dd,],method=\"spearman\"))\n",
    "dfT[[n]] <- mat[i,]\n",
    "mat[i,] = sapply(seq_along(colnames(seBrainSim)), function(j) comp_mard(trueCountsAgg[dd,j], yAggCor[dd,j]))\n",
    "dfT2[[n]] <- mat[i,]\n",
    "\n",
    "dfCorCuts <- rbind(dfCorCuts, dfT)\n",
    "dfMardCuts <- rbind(dfMardCuts, dfT2)\n"
   ]
  },
  {
   "cell_type": "markdown",
   "id": "5ed4c550",
   "metadata": {},
   "source": [
    "#### Mean Consensus"
   ]
  },
  {
   "cell_type": "code",
   "execution_count": 166,
   "id": "411ca17d",
   "metadata": {},
   "outputs": [
    {
     "name": "stdout",
     "output_type": "stream",
     "text": [
      "[1] \"Missing txps 726\"\n"
     ]
    }
   ],
   "source": [
    "miTxps <- treeMeanInf$tip.label\n",
    "trueTxps <- Reduce(union, lapply(trueCountsDf, function(df) rownames(df)))\n",
    "allTxps <- union(miTxps, trueTxps)\n",
    "mb <- mergeLeaves(treeMeanInf, seBrainSim[allTxps,])\n",
    "yMI <- mb[[\"ySwish\"]]\n",
    "tr <- mb[[\"tree\"]]\n",
    "yAggMI <- computeAggNodesU(tree=tr, nodeID=seq(length(tr$tip)+tr$Nnode), se_counts=assays(yMI)[[\"counts\"]])"
   ]
  },
  {
   "cell_type": "code",
   "execution_count": 167,
   "id": "11b7e301",
   "metadata": {},
   "outputs": [],
   "source": [
    "trueCountsDfU <- lapply(trueCountsDf, function(df) {\n",
    "    mtnames <- setdiff(allTxps, rownames(df))\n",
    "    rbind(df, data.frame(Counts=rep(0,length(mtnames)), row.names = mtnames))\n",
    "})\n",
    "rnames <- rownames(trueCountsDfU[[1]])\n",
    "trueCountsDfU <- lapply(trueCountsDfU, function(df) {\n",
    "    df <- df[rnames,]\n",
    "    df\n",
    "})\n",
    "trueCountsDfU <- do.call(cbind,trueCountsDfU)\n",
    "\n",
    "colnames(trueCountsDfU) <- colnames(seBrainSim)\n",
    "rownames(trueCountsDfU) <- rnames\n",
    "\n",
    "trueCountsDfU <- trueCountsDfU[tr$tip,]\n",
    "\n",
    "trueCountsAgg <- computeAggNodesU(tree=tr, nodeID=seq(length(tr$tip)+tr$Nnode), se_counts=trueCountsDfU)"
   ]
  },
  {
   "cell_type": "code",
   "execution_count": 168,
   "id": "c719da15",
   "metadata": {},
   "outputs": [],
   "source": [
    "depth <- node.depth(tr,2)\n",
    "depth[depth > 6] = 7\n",
    "\n",
    "dfT <- data.frame(matrix(nrow=ncol(seBrainSim),ncol=9))\n",
    "colnames(dfT) <- c(\"Sample\", paste(\"Depth\",c(1:7), sep=\"_\"), \"Type\")\n",
    "\n",
    "dfT2 <- data.frame(matrix(nrow=ncol(seBrainSim),ncol=9))\n",
    "colnames(dfT2) <- c(\"Sample\", paste(\"Depth\",c(1:7), sep=\"_\"), \"Type\")\n",
    "\n",
    "dfT$Sample <- colnames(seBrainSim)\n",
    "dfT$Type <- rep(\"Mean Inf\", ncol(seBrainSim))\n",
    "dfT2$Sample <- colnames(seBrainSim)\n",
    "dfT2$Type <- rep(\"Mean Inf\", ncol(seBrainSim))\n",
    "\n",
    "# head(dfCor)\n",
    "mat <- matrix(0, ncol=ncol(seBrainSim), nrow=7)\n",
    "for(i in seq(7)) {\n",
    "    mat[i,] = diag(cor(trueCountsAgg[depth==i,], yAggMI[depth==i,], method = \"spearman\"))\n",
    "    n <- paste(\"Depth\", i, sep=\"_\")\n",
    "    dfT[[n]] <- mat[i,]\n",
    "    mat[i,] = sapply(seq_along(colnames(seBrainSim)), function(j) comp_mard(trueCountsAgg[depth==i,j], yAggMI[depth==i,j]))\n",
    "    dfT2[[n]] <- mat[i,]\n",
    "    mat[i,] = diag(cor(trueCountsAgg[depth==i,], yAggMI[depth==i,]))\n",
    "\n",
    "}\n",
    "\n",
    "dfCor <- rbind(dfCor, dfT)\n",
    "dfMard <- rbind(dfMard, dfT2)\n"
   ]
  },
  {
   "cell_type": "code",
   "execution_count": 169,
   "id": "d998fb01",
   "metadata": {},
   "outputs": [],
   "source": [
    "dfT <- data.frame(matrix(nrow=ncol(seBrainSim),ncol=7))\n",
    "colnames(dfT) <- c(\"Sample\", c(paste(\"Gamma\",c(0.1, 0.5, 1, 5), sep=\"_\"), \"LFC\"), \"Type\")\n",
    "\n",
    "dfT2 <- data.frame(matrix(nrow=ncol(seBrainSim),ncol=7))\n",
    "colnames(dfT2) <- c(\"Sample\", c(paste(\"Gamma\",c(0.1, 0.5, 1, 5), sep=\"_\"), \"LFC\"), \"Type\")\n",
    "\n",
    "\n",
    "dfT$Sample <- colnames(seBrainSim)\n",
    "dfT$Type <- rep(\"Mean Inf\", ncol(seBrainSim))\n",
    "dfT2$Sample <- colnames(seBrainSim)\n",
    "dfT2$Type <- rep(\"Mean Inf\", ncol(seBrainSim))\n",
    "mat <- matrix(0, ncol=ncol(seBrainSim), nrow=4)\n",
    "for(i in seq_along(dCutsD)) {\n",
    "    dd <- dCutsD[[i]][[\"MeanInf\"]]\n",
    "    iCuts <- dd[dd > length(treeMeanInf$tip)]\n",
    "    iCuts <- iCuts + length(tr$tip)-length(treeMeanInf$tip)\n",
    "    leaves <- match(treeMeanInf$tip[dd[dd <= length(treeMeanInf$tip)]], tr$tip)\n",
    "    dd <- c(leaves, iCuts)\n",
    "    n <- paste(\"Gamma\",c(0.1, 0.5, 1, 5)[i], sep=\"_\")\n",
    "    mat[i,] <- diag(cor(trueCountsAgg[dd,], yAggMI[dd,],method=\"spearman\"))\n",
    "    dfT[[n]] <- mat[i,]\n",
    "    mat[i,] = sapply(seq_along(colnames(seBrainSim)), function(j) comp_mard(trueCountsAgg[dd,j], yAggMI[dd,j]))\n",
    "    dfT2[[n]] <- mat[i,]\n",
    "}\n",
    "\n",
    "dd <- dCuts[[\"MeanInf\"]]\n",
    "iCuts <- dd[dd > length(treeCor$tip)]\n",
    "iCuts <- iCuts + length(tr$tip)-length(treeCor$tip)\n",
    "leaves <- match(treeMeanInf$tip[dd[dd <= length(treeCor$tip)]], tr$tip)\n",
    "dd <- c(leaves, iCuts)\n",
    "n <- \"LFC\"\n",
    "mat[i,] <- diag(cor(trueCountsAgg[dd,], yAggMI[dd,],method=\"spearman\"))\n",
    "dfT[[n]] <- mat[i,]\n",
    "mat[i,] = sapply(seq_along(colnames(seBrainSim)), function(j) comp_mard(trueCountsAgg[dd,j], yAggMI[dd,j]))\n",
    "dfT2[[n]] <- mat[i,]\n",
    "\n",
    "dfCorCuts <- rbind(dfCorCuts, dfT)\n",
    "dfMardCuts <- rbind(dfMardCuts, dfT2)\n"
   ]
  },
  {
   "cell_type": "markdown",
   "id": "b200e970",
   "metadata": {},
   "source": [
    "#### MeanInf0"
   ]
  },
  {
   "cell_type": "code",
   "execution_count": 170,
   "id": "bfc5938c",
   "metadata": {},
   "outputs": [
    {
     "name": "stdout",
     "output_type": "stream",
     "text": [
      "[1] \"Missing txps 726\"\n"
     ]
    }
   ],
   "source": [
    "mi0Txps <- treeMeanInf0$tip.label\n",
    "trueTxps <- Reduce(union, lapply(trueCountsDf, function(df) rownames(df)))\n",
    "allTxps <- union(mi0Txps, trueTxps)\n",
    "mb <- mergeLeaves(treeMeanInf0, seBrainSim[allTxps,])\n",
    "yMI0 <- mb[[\"ySwish\"]]\n",
    "tr <- mb[[\"tree\"]]\n",
    "yAggMI0 <- computeAggNodesU(tree=tr, nodeID=seq(length(tr$tip)+tr$Nnode), se_counts=assays(yMI0)[[\"counts\"]])"
   ]
  },
  {
   "cell_type": "code",
   "execution_count": 171,
   "id": "de619197",
   "metadata": {},
   "outputs": [],
   "source": [
    "trueCountsDfU <- lapply(trueCountsDf, function(df) {\n",
    "    mtnames <- setdiff(allTxps, rownames(df))\n",
    "    rbind(df, data.frame(Counts=rep(0,length(mtnames)), row.names = mtnames))\n",
    "})\n",
    "rnames <- rownames(trueCountsDfU[[1]])\n",
    "trueCountsDfU <- lapply(trueCountsDfU, function(df) {\n",
    "    df <- df[rnames,]\n",
    "    df\n",
    "})\n",
    "trueCountsDfU <- do.call(cbind,trueCountsDfU)\n",
    "\n",
    "colnames(trueCountsDfU) <- colnames(seBrainSim)\n",
    "rownames(trueCountsDfU) <- rnames\n",
    "\n",
    "trueCountsDfU <- trueCountsDfU[tr$tip,]\n",
    "\n",
    "trueCountsAgg <- computeAggNodesU(tree=tr, nodeID=seq(length(tr$tip)+tr$Nnode), se_counts=trueCountsDfU)"
   ]
  },
  {
   "cell_type": "code",
   "execution_count": 172,
   "id": "55847ed4",
   "metadata": {},
   "outputs": [],
   "source": [
    "depth <- node.depth(tr,2)\n",
    "depth[depth > 6] = 7\n",
    "\n",
    "dfT <- data.frame(matrix(nrow=ncol(seBrainSim),ncol=9))\n",
    "colnames(dfT) <- c(\"Sample\", paste(\"Depth\",c(1:7), sep=\"_\"), \"Type\")\n",
    "\n",
    "dfT2 <- data.frame(matrix(nrow=ncol(seBrainSim),ncol=9))\n",
    "colnames(dfT2) <- c(\"Sample\", paste(\"Depth\",c(1:7), sep=\"_\"), \"Type\")\n",
    "\n",
    "dfT$Sample <- colnames(seBrainSim)\n",
    "dfT$Type <- rep(\"Mean Inf0\", ncol(seBrainSim))\n",
    "dfT2$Sample <- colnames(seBrainSim)\n",
    "dfT2$Type <- rep(\"Mean Inf0\", ncol(seBrainSim))\n",
    "# head(dfCor)\n",
    "mat <- matrix(0, ncol=ncol(seBrainSim), nrow=7)\n",
    "for(i in seq(7)) {\n",
    "    mat[i,] = diag(cor(trueCountsAgg[depth==i,], yAggMI0[depth==i,], method = \"spearman\"))\n",
    "    n <- paste(\"Depth\", i, sep=\"_\")\n",
    "    dfT[[n]] <- mat[i,]\n",
    "    mat[i,] = sapply(seq_along(colnames(seBrainSim)), function(j) comp_mard(trueCountsAgg[depth==i,j], yAggMI0[depth==i,j]))\n",
    "    dfT2[[n]] <- mat[i,]\n",
    "}\n",
    "dfCor <- rbind(dfCor, dfT)\n",
    "dfMard <- rbind(dfMard, dfT2)\n"
   ]
  },
  {
   "cell_type": "code",
   "execution_count": 173,
   "id": "7881c95c",
   "metadata": {},
   "outputs": [],
   "source": [
    "dfT <- data.frame(matrix(nrow=ncol(seBrainSim),ncol=7))\n",
    "colnames(dfT) <- c(\"Sample\", c(paste(\"Gamma\",c(0.1, 0.5, 1, 5), sep=\"_\"), \"LFC\"), \"Type\")\n",
    "\n",
    "dfT2 <- data.frame(matrix(nrow=ncol(seBrainSim),ncol=7))\n",
    "colnames(dfT2) <- c(\"Sample\", c(paste(\"Gamma\",c(0.1, 0.5, 1, 5), sep=\"_\"), \"LFC\"), \"Type\")\n",
    "\n",
    "\n",
    "dfT$Sample <- colnames(seBrainSim)\n",
    "dfT$Type <- rep(\"Mean Inf0\", ncol(seBrainSim))\n",
    "dfT2$Sample <- colnames(seBrainSim)\n",
    "dfT2$Type <- rep(\"Mean Inf0\", ncol(seBrainSim))\n",
    "mat <- matrix(0, ncol=ncol(seBrainSim), nrow=4)\n",
    "for(i in seq_along(dCutsD)) {\n",
    "    dd <- dCutsD[[i]][[\"MeanInf0\"]]\n",
    "    iCuts <- dd[dd > length(treeMeanInf$tip)]\n",
    "    iCuts <- iCuts + length(tr$tip)-length(treeMeanInf$tip)\n",
    "    leaves <- match(treeMeanInf0$tip[dd[dd <= length(treeMeanInf0$tip)]], tr$tip)\n",
    "    dd <- c(leaves, iCuts)\n",
    "    n <- paste(\"Gamma\",c(0.1, 0.5, 1, 5)[i], sep=\"_\")\n",
    "    mat[i,] <- diag(cor(trueCountsAgg[dd,], yAggMI0[dd,],method=\"spearman\"))\n",
    "    dfT[[n]] <- mat[i,]\n",
    "    mat[i,] = sapply(seq_along(colnames(seBrainSim)), function(j) comp_mard(trueCountsAgg[dd,j], yAggMI0[dd,j]))\n",
    "    dfT2[[n]] <- mat[i,]\n",
    "}\n",
    "\n",
    "dd <- dCuts[[\"MeanInf0\"]]\n",
    "iCuts <- dd[dd > length(treeCor$tip)]\n",
    "iCuts <- iCuts + length(tr$tip)-length(treeCor$tip)\n",
    "leaves <- match(treeMeanInf0$tip[dd[dd <= length(treeMeanInf0$tip)]], tr$tip)\n",
    "dd <- c(leaves, iCuts)\n",
    "n <- \"LFC\"\n",
    "mat[i,] <- diag(cor(trueCountsAgg[dd,], yAggMI0[dd,],method=\"spearman\"))\n",
    "dfT[[n]] <- mat[i,]\n",
    "mat[i,] = sapply(seq_along(colnames(seBrainSim)), function(j) comp_mard(trueCountsAgg[dd,j], yAggMI0[dd,j]))\n",
    "dfT2[[n]] <- mat[i,]\n",
    "\n",
    "dfCorCuts <- rbind(dfCorCuts, dfT)\n",
    "dfMardCuts <- rbind(dfMardCuts, dfT2)\n"
   ]
  },
  {
   "cell_type": "code",
   "execution_count": 174,
   "id": "402dca2c",
   "metadata": {},
   "outputs": [
    {
     "data": {
      "text/html": [
       "0"
      ],
      "text/latex": [
       "0"
      ],
      "text/markdown": [
       "0"
      ],
      "text/plain": [
       "[1] 0"
      ]
     },
     "metadata": {},
     "output_type": "display_data"
    }
   ],
   "source": [
    "sum(treeCons0$tip.label ==treeMeanInf$tip.label)"
   ]
  },
  {
   "cell_type": "markdown",
   "id": "79402dad",
   "metadata": {},
   "source": [
    "#### Thr Terminus"
   ]
  },
  {
   "cell_type": "code",
   "execution_count": 175,
   "id": "c11c9ab1",
   "metadata": {},
   "outputs": [
    {
     "name": "stdout",
     "output_type": "stream",
     "text": [
      "[1] \"Missing txps 726\"\n"
     ]
    }
   ],
   "source": [
    "thrTxps <- treeThr$tip.label\n",
    "trueTxps <- Reduce(union, lapply(trueCountsDf, function(df) rownames(df)))\n",
    "allTxps <- union(thrTxps, trueTxps)\n",
    "mb <- mergeLeaves(treeThr, seBrainSim[allTxps,])\n",
    "yThr <- mb[[\"ySwish\"]]\n",
    "tr <- mb[[\"tree\"]]\n",
    "yAggThr <- computeAggNodesU(tree=tr, nodeID=seq(length(tr$tip)+tr$Nnode), se_counts=assays(yThr)[[\"counts\"]])"
   ]
  },
  {
   "cell_type": "code",
   "execution_count": 176,
   "id": "8b0333ff",
   "metadata": {},
   "outputs": [],
   "source": [
    "trueCountsDfU <- lapply(trueCountsDf, function(df) {\n",
    "    mtnames <- setdiff(allTxps, rownames(df))\n",
    "    rbind(df, data.frame(Counts=rep(0,length(mtnames)), row.names = mtnames))\n",
    "})\n",
    "rnames <- rownames(trueCountsDfU[[1]])\n",
    "trueCountsDfU <- lapply(trueCountsDfU, function(df) {\n",
    "    df <- df[rnames,]\n",
    "    df\n",
    "})\n",
    "trueCountsDfU <- do.call(cbind,trueCountsDfU)\n",
    "\n",
    "colnames(trueCountsDfU) <- colnames(seBrainSim)\n",
    "rownames(trueCountsDfU) <- rnames\n",
    "\n",
    "trueCountsDfU <- trueCountsDfU[tr$tip,]\n",
    "\n",
    "trueCountsAgg <- computeAggNodesU(tree=tr, nodeID=seq(length(tr$tip)+tr$Nnode), se_counts=trueCountsDfU)"
   ]
  },
  {
   "cell_type": "code",
   "execution_count": 177,
   "id": "28f22dbd",
   "metadata": {},
   "outputs": [],
   "source": [
    "depth <- node.depth(tr,2)\n",
    "depth[depth > 6] = 7\n",
    "\n",
    "dfT <- data.frame(matrix(nrow=ncol(seBrainSim),ncol=9))\n",
    "colnames(dfT) <- c(\"Sample\", paste(\"Depth\",c(1:7), sep=\"_\"), \"Type\")\n",
    "\n",
    "dfT2 <- data.frame(matrix(nrow=ncol(seBrainSim),ncol=9))\n",
    "colnames(dfT2) <- c(\"Sample\", paste(\"Depth\",c(1:7), sep=\"_\"), \"Type\")\n",
    "\n",
    "dfT$Sample <- colnames(seBrainSim)\n",
    "dfT$Type <- rep(\"Thr\", ncol(seBrainSim))\n",
    "dfT2$Sample <- colnames(seBrainSim)\n",
    "dfT2$Type <- rep(\"Thr\", ncol(seBrainSim))\n",
    "# head(dfCor)\n",
    "mat <- matrix(0, ncol=ncol(seBrainSim), nrow=7)\n",
    "for(i in seq(7)) {\n",
    "    mat[i,] = diag(cor(trueCountsAgg[depth==i,], yAggThr[depth==i,], method = \"spearman\"))\n",
    "    n <- paste(\"Depth\", i, sep=\"_\")\n",
    "    dfT[[n]] <- mat[i,]\n",
    "    mat[i,] = sapply(seq_along(colnames(seBrainSim)), function(j) comp_mard(trueCountsAgg[depth==i,j], yAggThr[depth==i,j]))\n",
    "    dfT2[[n]] <- mat[i,]\n",
    "}\n",
    "dfCor <- rbind(dfCor, dfT)\n",
    "dfMard <- rbind(dfMard, dfT2)\n"
   ]
  },
  {
   "cell_type": "markdown",
   "id": "cc946cce",
   "metadata": {},
   "source": [
    "#### Consensus0"
   ]
  },
  {
   "cell_type": "code",
   "execution_count": 178,
   "id": "3f6e9f4b",
   "metadata": {},
   "outputs": [
    {
     "name": "stdout",
     "output_type": "stream",
     "text": [
      "[1] \"Missing txps 726\"\n"
     ]
    }
   ],
   "source": [
    "cons0Txps <- treeCons0$tip.label\n",
    "trueTxps <- Reduce(union, lapply(trueCountsDf, function(df) rownames(df)))\n",
    "allTxps <- union(cons0Txps, trueTxps)\n",
    "mb <- mergeLeaves(treeCons0, seBrainSim[allTxps,])\n",
    "yCons0 <- mb[[\"ySwish\"]]\n",
    "tr <- mb[[\"tree\"]]\n",
    "yAggCons0 <- computeAggNodesU(tree=tr, nodeID=seq(length(tr$tip)+tr$Nnode), se_counts=assays(yCons0)[[\"counts\"]])"
   ]
  },
  {
   "cell_type": "code",
   "execution_count": 179,
   "id": "682ee663",
   "metadata": {},
   "outputs": [],
   "source": [
    "trueCountsDfU <- lapply(trueCountsDf, function(df) {\n",
    "    mtnames <- setdiff(allTxps, rownames(df))\n",
    "    rbind(df, data.frame(Counts=rep(0,length(mtnames)), row.names = mtnames))\n",
    "})\n",
    "rnames <- rownames(trueCountsDfU[[1]])\n",
    "trueCountsDfU <- lapply(trueCountsDfU, function(df) {\n",
    "    df <- df[rnames,]\n",
    "    df\n",
    "})\n",
    "trueCountsDfU <- do.call(cbind,trueCountsDfU)\n",
    "\n",
    "colnames(trueCountsDfU) <- colnames(seBrainSim)\n",
    "rownames(trueCountsDfU) <- rnames\n",
    "\n",
    "trueCountsDfU <- trueCountsDfU[tr$tip,]\n",
    "\n",
    "trueCountsAgg <- computeAggNodesU(tree=tr, nodeID=seq(length(tr$tip)+tr$Nnode), se_counts=trueCountsDfU)"
   ]
  },
  {
   "cell_type": "code",
   "execution_count": 180,
   "id": "b30b5db8",
   "metadata": {},
   "outputs": [],
   "source": [
    "depth <- node.depth(tr,2)\n",
    "depth[depth > 6] = 7\n",
    "\n",
    "dfT <- data.frame(matrix(nrow=ncol(seBrainSim),ncol=9))\n",
    "colnames(dfT) <- c(\"Sample\", paste(\"Depth\",c(1:7), sep=\"_\"), \"Type\")\n",
    "\n",
    "dfT2 <- data.frame(matrix(nrow=ncol(seBrainSim),ncol=9))\n",
    "colnames(dfT2) <- c(\"Sample\", paste(\"Depth\",c(1:7), sep=\"_\"), \"Type\")\n",
    "\n",
    "dfT$Sample <- colnames(seBrainSim)\n",
    "dfT$Type <- rep(\"Consensus0\", ncol(seBrainSim))\n",
    "dfT2$Sample <- colnames(seBrainSim)\n",
    "dfT2$Type <- rep(\"Consensus0\", ncol(seBrainSim))\n",
    "# head(dfCor)\n",
    "mat <- matrix(0, ncol=ncol(seBrainSim), nrow=7)\n",
    "for(i in seq(7)) {\n",
    "    mat[i,] = diag(cor(trueCountsAgg[depth==i,], yAggCons0[depth==i,], method = \"spearman\"))\n",
    "    n <- paste(\"Depth\", i, sep=\"_\")\n",
    "    dfT[[n]] <- mat[i,]\n",
    "    mat[i,] = sapply(seq_along(colnames(seBrainSim)), function(j) comp_mard(trueCountsAgg[depth==i,j], yAggCons0[depth==i,j]))\n",
    "    dfT2[[n]] <- mat[i,]\n",
    "}\n",
    "dfCor <- rbind(dfCor, dfT)\n",
    "dfMard <- rbind(dfMard, dfT2)\n"
   ]
  },
  {
   "cell_type": "code",
   "execution_count": 181,
   "id": "7ce38e8b",
   "metadata": {},
   "outputs": [],
   "source": [
    "dfT <- data.frame(matrix(nrow=ncol(seBrainSim),ncol=7))\n",
    "colnames(dfT) <- c(\"Sample\", c(paste(\"Gamma\",c(0.1, 0.5, 1, 5), sep=\"_\"), \"LFC\"), \"Type\")\n",
    "\n",
    "dfT2 <- data.frame(matrix(nrow=ncol(seBrainSim),ncol=7))\n",
    "colnames(dfT2) <- c(\"Sample\", c(paste(\"Gamma\",c(0.1, 0.5, 1, 5), sep=\"_\"), \"LFC\"), \"Type\")\n",
    "\n",
    "\n",
    "dfT$Sample <- colnames(seBrainSim)\n",
    "dfT$Type <- rep(\"Consensus0\", ncol(seBrainSim))\n",
    "dfT2$Sample <- colnames(seBrainSim)\n",
    "dfT2$Type <- rep(\"Consensus0\", ncol(seBrainSim))\n",
    "mat <- matrix(0, ncol=ncol(seBrainSim), nrow=4)\n",
    "for(i in seq_along(dCutsD)) {\n",
    "    dd <- dCutsD[[i]][[\"Cons0\"]]\n",
    "    iCuts <- dd[dd > length(treeMeanInf$tip)]\n",
    "    iCuts <- iCuts + length(tr$tip)-length(treeMeanInf$tip)\n",
    "    leaves <- match(treeCons0$tip[dd[dd <= length(treeCons0$tip)]], tr$tip)\n",
    "    dd <- c(leaves, iCuts)\n",
    "    n <- paste(\"Gamma\",c(0.1, 0.5, 1, 5)[i], sep=\"_\")\n",
    "    mat[i,] <- diag(cor(trueCountsAgg[dd,], yAggCons0[dd,],method=\"spearman\"))\n",
    "    dfT[[n]] <- mat[i,]\n",
    "    mat[i,] = sapply(seq_along(colnames(seBrainSim)), function(j) comp_mard(trueCountsAgg[dd,j], yAggCons0[dd,j]))\n",
    "    dfT2[[n]] <- mat[i,]\n",
    "}\n",
    "\n",
    "dd <- dCuts[[\"Consensus0\"]]\n",
    "iCuts <- dd[dd > length(treeCor$tip)]\n",
    "iCuts <- iCuts + length(tr$tip)-length(treeCor$tip)\n",
    "leaves <- match(treeCons0$tip[dd[dd <= length(treeCons0$tip)]], tr$tip)\n",
    "dd <- c(leaves, iCuts)\n",
    "n <- \"LFC\"\n",
    "mat[i,] <- diag(cor(trueCountsAgg[dd,], yAggCons0[dd,],method=\"spearman\"))\n",
    "dfT[[n]] <- mat[i,]\n",
    "mat[i,] = sapply(seq_along(colnames(seBrainSim)), function(j) comp_mard(trueCountsAgg[dd,j], yAggCons0[dd,j]))\n",
    "dfT2[[n]] <- mat[i,]\n",
    "\n",
    "dfCorCuts <- rbind(dfCorCuts, dfT)\n",
    "dfMardCuts <- rbind(dfMardCuts, dfT2)\n"
   ]
  },
  {
   "cell_type": "code",
   "execution_count": 182,
   "id": "3efe7fea",
   "metadata": {},
   "outputs": [
    {
     "name": "stderr",
     "output_type": "stream",
     "text": [
      "\u001b[1m\u001b[22mAdding missing grouping variables: `Type`\n"
     ]
    },
    {
     "data": {
      "text/html": [
       "<table class=\"dataframe\">\n",
       "<caption>A tibble: 6 × 8</caption>\n",
       "<thead>\n",
       "\t<tr><th scope=col>Type</th><th scope=col>Depth_1_mean</th><th scope=col>Depth_2_mean</th><th scope=col>Depth_3_mean</th><th scope=col>Depth_4_mean</th><th scope=col>Depth_5_mean</th><th scope=col>Depth_6_mean</th><th scope=col>Depth_7_mean</th></tr>\n",
       "\t<tr><th scope=col>&lt;chr&gt;</th><th scope=col>&lt;dbl&gt;</th><th scope=col>&lt;dbl&gt;</th><th scope=col>&lt;dbl&gt;</th><th scope=col>&lt;dbl&gt;</th><th scope=col>&lt;dbl&gt;</th><th scope=col>&lt;dbl&gt;</th><th scope=col>&lt;dbl&gt;</th></tr>\n",
       "</thead>\n",
       "<tbody>\n",
       "\t<tr><td>Anti-Correlation</td><td>0.9446778</td><td>0.9913943</td><td>0.9977744</td><td>0.9994178</td><td>0.9997756</td><td>0.9998456</td><td>0.9999731</td></tr>\n",
       "\t<tr><td>Consensus       </td><td>0.9446778</td><td>0.9910081</td><td>0.9955883</td><td>0.9976570</td><td>0.9986886</td><td>0.9992657</td><td>0.9997477</td></tr>\n",
       "\t<tr><td>Consensus0      </td><td>0.9446778</td><td>0.9982314</td><td>0.9996337</td><td>0.9998230</td><td>0.9998939</td><td>0.9999222</td><td>0.9999778</td></tr>\n",
       "\t<tr><td>Mean Inf        </td><td>0.9446778</td><td>0.9976634</td><td>0.9991590</td><td>0.9994891</td><td>0.9996490</td><td>0.9997309</td><td>0.9999152</td></tr>\n",
       "\t<tr><td>Mean Inf0       </td><td>0.9446778</td><td>0.9986109</td><td>0.9996749</td><td>0.9998361</td><td>0.9998941</td><td>0.9999174</td><td>0.9999696</td></tr>\n",
       "\t<tr><td>Thr             </td><td>0.9446778</td><td>0.9975392</td><td>0.9990993</td><td>0.9994557</td><td>0.9996700</td><td>0.9997474</td><td>0.9996629</td></tr>\n",
       "</tbody>\n",
       "</table>\n"
      ],
      "text/latex": [
       "A tibble: 6 × 8\n",
       "\\begin{tabular}{llllllll}\n",
       " Type & Depth\\_1\\_mean & Depth\\_2\\_mean & Depth\\_3\\_mean & Depth\\_4\\_mean & Depth\\_5\\_mean & Depth\\_6\\_mean & Depth\\_7\\_mean\\\\\n",
       " <chr> & <dbl> & <dbl> & <dbl> & <dbl> & <dbl> & <dbl> & <dbl>\\\\\n",
       "\\hline\n",
       "\t Anti-Correlation & 0.9446778 & 0.9913943 & 0.9977744 & 0.9994178 & 0.9997756 & 0.9998456 & 0.9999731\\\\\n",
       "\t Consensus        & 0.9446778 & 0.9910081 & 0.9955883 & 0.9976570 & 0.9986886 & 0.9992657 & 0.9997477\\\\\n",
       "\t Consensus0       & 0.9446778 & 0.9982314 & 0.9996337 & 0.9998230 & 0.9998939 & 0.9999222 & 0.9999778\\\\\n",
       "\t Mean Inf         & 0.9446778 & 0.9976634 & 0.9991590 & 0.9994891 & 0.9996490 & 0.9997309 & 0.9999152\\\\\n",
       "\t Mean Inf0        & 0.9446778 & 0.9986109 & 0.9996749 & 0.9998361 & 0.9998941 & 0.9999174 & 0.9999696\\\\\n",
       "\t Thr              & 0.9446778 & 0.9975392 & 0.9990993 & 0.9994557 & 0.9996700 & 0.9997474 & 0.9996629\\\\\n",
       "\\end{tabular}\n"
      ],
      "text/markdown": [
       "\n",
       "A tibble: 6 × 8\n",
       "\n",
       "| Type &lt;chr&gt; | Depth_1_mean &lt;dbl&gt; | Depth_2_mean &lt;dbl&gt; | Depth_3_mean &lt;dbl&gt; | Depth_4_mean &lt;dbl&gt; | Depth_5_mean &lt;dbl&gt; | Depth_6_mean &lt;dbl&gt; | Depth_7_mean &lt;dbl&gt; |\n",
       "|---|---|---|---|---|---|---|---|\n",
       "| Anti-Correlation | 0.9446778 | 0.9913943 | 0.9977744 | 0.9994178 | 0.9997756 | 0.9998456 | 0.9999731 |\n",
       "| Consensus        | 0.9446778 | 0.9910081 | 0.9955883 | 0.9976570 | 0.9986886 | 0.9992657 | 0.9997477 |\n",
       "| Consensus0       | 0.9446778 | 0.9982314 | 0.9996337 | 0.9998230 | 0.9998939 | 0.9999222 | 0.9999778 |\n",
       "| Mean Inf         | 0.9446778 | 0.9976634 | 0.9991590 | 0.9994891 | 0.9996490 | 0.9997309 | 0.9999152 |\n",
       "| Mean Inf0        | 0.9446778 | 0.9986109 | 0.9996749 | 0.9998361 | 0.9998941 | 0.9999174 | 0.9999696 |\n",
       "| Thr              | 0.9446778 | 0.9975392 | 0.9990993 | 0.9994557 | 0.9996700 | 0.9997474 | 0.9996629 |\n",
       "\n"
      ],
      "text/plain": [
       "  Type             Depth_1_mean Depth_2_mean Depth_3_mean Depth_4_mean\n",
       "1 Anti-Correlation 0.9446778    0.9913943    0.9977744    0.9994178   \n",
       "2 Consensus        0.9446778    0.9910081    0.9955883    0.9976570   \n",
       "3 Consensus0       0.9446778    0.9982314    0.9996337    0.9998230   \n",
       "4 Mean Inf         0.9446778    0.9976634    0.9991590    0.9994891   \n",
       "5 Mean Inf0        0.9446778    0.9986109    0.9996749    0.9998361   \n",
       "6 Thr              0.9446778    0.9975392    0.9990993    0.9994557   \n",
       "  Depth_5_mean Depth_6_mean Depth_7_mean\n",
       "1 0.9997756    0.9998456    0.9999731   \n",
       "2 0.9986886    0.9992657    0.9997477   \n",
       "3 0.9998939    0.9999222    0.9999778   \n",
       "4 0.9996490    0.9997309    0.9999152   \n",
       "5 0.9998941    0.9999174    0.9999696   \n",
       "6 0.9996700    0.9997474    0.9996629   "
      ]
     },
     "metadata": {},
     "output_type": "display_data"
    },
    {
     "name": "stderr",
     "output_type": "stream",
     "text": [
      "\u001b[1m\u001b[22mAdding missing grouping variables: `Type`\n"
     ]
    },
    {
     "data": {
      "text/html": [
       "<table class=\"dataframe\">\n",
       "<caption>A tibble: 6 × 8</caption>\n",
       "<thead>\n",
       "\t<tr><th scope=col>Type</th><th scope=col>Depth_1_mean</th><th scope=col>Depth_2_mean</th><th scope=col>Depth_3_mean</th><th scope=col>Depth_4_mean</th><th scope=col>Depth_5_mean</th><th scope=col>Depth_6_mean</th><th scope=col>Depth_7_mean</th></tr>\n",
       "\t<tr><th scope=col>&lt;chr&gt;</th><th scope=col>&lt;dbl&gt;</th><th scope=col>&lt;dbl&gt;</th><th scope=col>&lt;dbl&gt;</th><th scope=col>&lt;dbl&gt;</th><th scope=col>&lt;dbl&gt;</th><th scope=col>&lt;dbl&gt;</th><th scope=col>&lt;dbl&gt;</th></tr>\n",
       "</thead>\n",
       "<tbody>\n",
       "\t<tr><td>Anti-Correlation</td><td>0.09512794</td><td>0.06844116</td><td>0.02929967</td><td>0.013500659</td><td>0.006791058</td><td>0.004010136</td><td>0.002000134</td></tr>\n",
       "\t<tr><td>Consensus       </td><td>0.09512794</td><td>0.06253313</td><td>0.05639070</td><td>0.048312455</td><td>0.040397517</td><td>0.032071083</td><td>0.017485159</td></tr>\n",
       "\t<tr><td>Consensus0      </td><td>0.09512794</td><td>0.02979510</td><td>0.01372657</td><td>0.008009757</td><td>0.004917904</td><td>0.003577308</td><td>0.001467272</td></tr>\n",
       "\t<tr><td>Mean Inf        </td><td>0.09512794</td><td>0.03485119</td><td>0.02631151</td><td>0.022779845</td><td>0.019636236</td><td>0.017965069</td><td>0.010082454</td></tr>\n",
       "\t<tr><td>Mean Inf0       </td><td>0.09512794</td><td>0.02518964</td><td>0.01103742</td><td>0.006958612</td><td>0.004819988</td><td>0.003715719</td><td>0.001796846</td></tr>\n",
       "\t<tr><td>Thr             </td><td>0.09512794</td><td>0.04523547</td><td>0.01965747</td><td>0.012440287</td><td>0.007716122</td><td>0.005357956</td><td>0.005741053</td></tr>\n",
       "</tbody>\n",
       "</table>\n"
      ],
      "text/latex": [
       "A tibble: 6 × 8\n",
       "\\begin{tabular}{llllllll}\n",
       " Type & Depth\\_1\\_mean & Depth\\_2\\_mean & Depth\\_3\\_mean & Depth\\_4\\_mean & Depth\\_5\\_mean & Depth\\_6\\_mean & Depth\\_7\\_mean\\\\\n",
       " <chr> & <dbl> & <dbl> & <dbl> & <dbl> & <dbl> & <dbl> & <dbl>\\\\\n",
       "\\hline\n",
       "\t Anti-Correlation & 0.09512794 & 0.06844116 & 0.02929967 & 0.013500659 & 0.006791058 & 0.004010136 & 0.002000134\\\\\n",
       "\t Consensus        & 0.09512794 & 0.06253313 & 0.05639070 & 0.048312455 & 0.040397517 & 0.032071083 & 0.017485159\\\\\n",
       "\t Consensus0       & 0.09512794 & 0.02979510 & 0.01372657 & 0.008009757 & 0.004917904 & 0.003577308 & 0.001467272\\\\\n",
       "\t Mean Inf         & 0.09512794 & 0.03485119 & 0.02631151 & 0.022779845 & 0.019636236 & 0.017965069 & 0.010082454\\\\\n",
       "\t Mean Inf0        & 0.09512794 & 0.02518964 & 0.01103742 & 0.006958612 & 0.004819988 & 0.003715719 & 0.001796846\\\\\n",
       "\t Thr              & 0.09512794 & 0.04523547 & 0.01965747 & 0.012440287 & 0.007716122 & 0.005357956 & 0.005741053\\\\\n",
       "\\end{tabular}\n"
      ],
      "text/markdown": [
       "\n",
       "A tibble: 6 × 8\n",
       "\n",
       "| Type &lt;chr&gt; | Depth_1_mean &lt;dbl&gt; | Depth_2_mean &lt;dbl&gt; | Depth_3_mean &lt;dbl&gt; | Depth_4_mean &lt;dbl&gt; | Depth_5_mean &lt;dbl&gt; | Depth_6_mean &lt;dbl&gt; | Depth_7_mean &lt;dbl&gt; |\n",
       "|---|---|---|---|---|---|---|---|\n",
       "| Anti-Correlation | 0.09512794 | 0.06844116 | 0.02929967 | 0.013500659 | 0.006791058 | 0.004010136 | 0.002000134 |\n",
       "| Consensus        | 0.09512794 | 0.06253313 | 0.05639070 | 0.048312455 | 0.040397517 | 0.032071083 | 0.017485159 |\n",
       "| Consensus0       | 0.09512794 | 0.02979510 | 0.01372657 | 0.008009757 | 0.004917904 | 0.003577308 | 0.001467272 |\n",
       "| Mean Inf         | 0.09512794 | 0.03485119 | 0.02631151 | 0.022779845 | 0.019636236 | 0.017965069 | 0.010082454 |\n",
       "| Mean Inf0        | 0.09512794 | 0.02518964 | 0.01103742 | 0.006958612 | 0.004819988 | 0.003715719 | 0.001796846 |\n",
       "| Thr              | 0.09512794 | 0.04523547 | 0.01965747 | 0.012440287 | 0.007716122 | 0.005357956 | 0.005741053 |\n",
       "\n"
      ],
      "text/plain": [
       "  Type             Depth_1_mean Depth_2_mean Depth_3_mean Depth_4_mean\n",
       "1 Anti-Correlation 0.09512794   0.06844116   0.02929967   0.013500659 \n",
       "2 Consensus        0.09512794   0.06253313   0.05639070   0.048312455 \n",
       "3 Consensus0       0.09512794   0.02979510   0.01372657   0.008009757 \n",
       "4 Mean Inf         0.09512794   0.03485119   0.02631151   0.022779845 \n",
       "5 Mean Inf0        0.09512794   0.02518964   0.01103742   0.006958612 \n",
       "6 Thr              0.09512794   0.04523547   0.01965747   0.012440287 \n",
       "  Depth_5_mean Depth_6_mean Depth_7_mean\n",
       "1 0.006791058  0.004010136  0.002000134 \n",
       "2 0.040397517  0.032071083  0.017485159 \n",
       "3 0.004917904  0.003577308  0.001467272 \n",
       "4 0.019636236  0.017965069  0.010082454 \n",
       "5 0.004819988  0.003715719  0.001796846 \n",
       "6 0.007716122  0.005357956  0.005741053 "
      ]
     },
     "metadata": {},
     "output_type": "display_data"
    }
   ],
   "source": [
    "dfCor %>% group_by(Type) %>% select(starts_with(\"Depth\")) %>% summarise_all(.funs = c(mean=\"mean\"))\n",
    "dfMard %>% group_by(Type) %>% select(starts_with(\"Depth\")) %>% summarise_all(.funs = c(mean=\"mean\"))\n"
   ]
  },
  {
   "cell_type": "code",
   "execution_count": 183,
   "id": "e01b3b2a",
   "metadata": {},
   "outputs": [
    {
     "name": "stderr",
     "output_type": "stream",
     "text": [
      "\u001b[1m\u001b[22mAdding missing grouping variables: `Type`\n"
     ]
    },
    {
     "data": {
      "text/html": [
       "<table class=\"dataframe\">\n",
       "<caption>A tibble: 5 × 6</caption>\n",
       "<thead>\n",
       "\t<tr><th scope=col>Type</th><th scope=col>Gamma_0.1_mean</th><th scope=col>Gamma_0.5_mean</th><th scope=col>Gamma_1_mean</th><th scope=col>Gamma_5_mean</th><th scope=col>LFC_mean</th></tr>\n",
       "\t<tr><th scope=col>&lt;chr&gt;</th><th scope=col>&lt;dbl&gt;</th><th scope=col>&lt;dbl&gt;</th><th scope=col>&lt;dbl&gt;</th><th scope=col>&lt;dbl&gt;</th><th scope=col>&lt;dbl&gt;</th></tr>\n",
       "</thead>\n",
       "<tbody>\n",
       "\t<tr><td>Anti-Correlation</td><td>0.9852277</td><td>0.9741371</td><td>0.9680465</td><td>0.9554401</td><td>0.9667377</td></tr>\n",
       "\t<tr><td>Consensus       </td><td>0.9880326</td><td>0.9738201</td><td>0.9682663</td><td>0.9561663</td><td>0.9953219</td></tr>\n",
       "\t<tr><td>Consensus0      </td><td>0.9861347</td><td>0.9739568</td><td>0.9684485</td><td>0.9562235</td><td>0.9980551</td></tr>\n",
       "\t<tr><td>Mean Inf        </td><td>0.9848260</td><td>0.9733446</td><td>0.9681640</td><td>0.9561241</td><td>0.9921035</td></tr>\n",
       "\t<tr><td>Mean Inf0       </td><td>0.9855208</td><td>0.9734543</td><td>0.9681711</td><td>0.9561243</td><td>0.9984294</td></tr>\n",
       "</tbody>\n",
       "</table>\n"
      ],
      "text/latex": [
       "A tibble: 5 × 6\n",
       "\\begin{tabular}{llllll}\n",
       " Type & Gamma\\_0.1\\_mean & Gamma\\_0.5\\_mean & Gamma\\_1\\_mean & Gamma\\_5\\_mean & LFC\\_mean\\\\\n",
       " <chr> & <dbl> & <dbl> & <dbl> & <dbl> & <dbl>\\\\\n",
       "\\hline\n",
       "\t Anti-Correlation & 0.9852277 & 0.9741371 & 0.9680465 & 0.9554401 & 0.9667377\\\\\n",
       "\t Consensus        & 0.9880326 & 0.9738201 & 0.9682663 & 0.9561663 & 0.9953219\\\\\n",
       "\t Consensus0       & 0.9861347 & 0.9739568 & 0.9684485 & 0.9562235 & 0.9980551\\\\\n",
       "\t Mean Inf         & 0.9848260 & 0.9733446 & 0.9681640 & 0.9561241 & 0.9921035\\\\\n",
       "\t Mean Inf0        & 0.9855208 & 0.9734543 & 0.9681711 & 0.9561243 & 0.9984294\\\\\n",
       "\\end{tabular}\n"
      ],
      "text/markdown": [
       "\n",
       "A tibble: 5 × 6\n",
       "\n",
       "| Type &lt;chr&gt; | Gamma_0.1_mean &lt;dbl&gt; | Gamma_0.5_mean &lt;dbl&gt; | Gamma_1_mean &lt;dbl&gt; | Gamma_5_mean &lt;dbl&gt; | LFC_mean &lt;dbl&gt; |\n",
       "|---|---|---|---|---|---|\n",
       "| Anti-Correlation | 0.9852277 | 0.9741371 | 0.9680465 | 0.9554401 | 0.9667377 |\n",
       "| Consensus        | 0.9880326 | 0.9738201 | 0.9682663 | 0.9561663 | 0.9953219 |\n",
       "| Consensus0       | 0.9861347 | 0.9739568 | 0.9684485 | 0.9562235 | 0.9980551 |\n",
       "| Mean Inf         | 0.9848260 | 0.9733446 | 0.9681640 | 0.9561241 | 0.9921035 |\n",
       "| Mean Inf0        | 0.9855208 | 0.9734543 | 0.9681711 | 0.9561243 | 0.9984294 |\n",
       "\n"
      ],
      "text/plain": [
       "  Type             Gamma_0.1_mean Gamma_0.5_mean Gamma_1_mean Gamma_5_mean\n",
       "1 Anti-Correlation 0.9852277      0.9741371      0.9680465    0.9554401   \n",
       "2 Consensus        0.9880326      0.9738201      0.9682663    0.9561663   \n",
       "3 Consensus0       0.9861347      0.9739568      0.9684485    0.9562235   \n",
       "4 Mean Inf         0.9848260      0.9733446      0.9681640    0.9561241   \n",
       "5 Mean Inf0        0.9855208      0.9734543      0.9681711    0.9561243   \n",
       "  LFC_mean \n",
       "1 0.9667377\n",
       "2 0.9953219\n",
       "3 0.9980551\n",
       "4 0.9921035\n",
       "5 0.9984294"
      ]
     },
     "metadata": {},
     "output_type": "display_data"
    },
    {
     "name": "stderr",
     "output_type": "stream",
     "text": [
      "\u001b[1m\u001b[22mAdding missing grouping variables: `Type`\n"
     ]
    },
    {
     "data": {
      "text/html": [
       "<table class=\"dataframe\">\n",
       "<caption>A tibble: 5 × 6</caption>\n",
       "<thead>\n",
       "\t<tr><th scope=col>Type</th><th scope=col>Gamma_0.1_mean</th><th scope=col>Gamma_0.5_mean</th><th scope=col>Gamma_1_mean</th><th scope=col>Gamma_5_mean</th><th scope=col>LFC_mean</th></tr>\n",
       "\t<tr><th scope=col>&lt;chr&gt;</th><th scope=col>&lt;dbl&gt;</th><th scope=col>&lt;dbl&gt;</th><th scope=col>&lt;dbl&gt;</th><th scope=col>&lt;dbl&gt;</th><th scope=col>&lt;dbl&gt;</th></tr>\n",
       "</thead>\n",
       "<tbody>\n",
       "\t<tr><td>Anti-Correlation</td><td>0.01390588</td><td>0.04785584</td><td>0.06138730</td><td>0.08499604</td><td>0.02554406</td></tr>\n",
       "\t<tr><td>Consensus       </td><td>0.02933941</td><td>0.05457730</td><td>0.06476810</td><td>0.08471748</td><td>0.02414488</td></tr>\n",
       "\t<tr><td>Consensus0      </td><td>0.03056762</td><td>0.05379882</td><td>0.06419443</td><td>0.08468519</td><td>0.01798458</td></tr>\n",
       "\t<tr><td>Mean Inf        </td><td>0.03502843</td><td>0.05479817</td><td>0.06468651</td><td>0.08474657</td><td>0.02954133</td></tr>\n",
       "\t<tr><td>Mean Inf0       </td><td>0.03191872</td><td>0.05462998</td><td>0.06467484</td><td>0.08474499</td><td>0.01727838</td></tr>\n",
       "</tbody>\n",
       "</table>\n"
      ],
      "text/latex": [
       "A tibble: 5 × 6\n",
       "\\begin{tabular}{llllll}\n",
       " Type & Gamma\\_0.1\\_mean & Gamma\\_0.5\\_mean & Gamma\\_1\\_mean & Gamma\\_5\\_mean & LFC\\_mean\\\\\n",
       " <chr> & <dbl> & <dbl> & <dbl> & <dbl> & <dbl>\\\\\n",
       "\\hline\n",
       "\t Anti-Correlation & 0.01390588 & 0.04785584 & 0.06138730 & 0.08499604 & 0.02554406\\\\\n",
       "\t Consensus        & 0.02933941 & 0.05457730 & 0.06476810 & 0.08471748 & 0.02414488\\\\\n",
       "\t Consensus0       & 0.03056762 & 0.05379882 & 0.06419443 & 0.08468519 & 0.01798458\\\\\n",
       "\t Mean Inf         & 0.03502843 & 0.05479817 & 0.06468651 & 0.08474657 & 0.02954133\\\\\n",
       "\t Mean Inf0        & 0.03191872 & 0.05462998 & 0.06467484 & 0.08474499 & 0.01727838\\\\\n",
       "\\end{tabular}\n"
      ],
      "text/markdown": [
       "\n",
       "A tibble: 5 × 6\n",
       "\n",
       "| Type &lt;chr&gt; | Gamma_0.1_mean &lt;dbl&gt; | Gamma_0.5_mean &lt;dbl&gt; | Gamma_1_mean &lt;dbl&gt; | Gamma_5_mean &lt;dbl&gt; | LFC_mean &lt;dbl&gt; |\n",
       "|---|---|---|---|---|---|\n",
       "| Anti-Correlation | 0.01390588 | 0.04785584 | 0.06138730 | 0.08499604 | 0.02554406 |\n",
       "| Consensus        | 0.02933941 | 0.05457730 | 0.06476810 | 0.08471748 | 0.02414488 |\n",
       "| Consensus0       | 0.03056762 | 0.05379882 | 0.06419443 | 0.08468519 | 0.01798458 |\n",
       "| Mean Inf         | 0.03502843 | 0.05479817 | 0.06468651 | 0.08474657 | 0.02954133 |\n",
       "| Mean Inf0        | 0.03191872 | 0.05462998 | 0.06467484 | 0.08474499 | 0.01727838 |\n",
       "\n"
      ],
      "text/plain": [
       "  Type             Gamma_0.1_mean Gamma_0.5_mean Gamma_1_mean Gamma_5_mean\n",
       "1 Anti-Correlation 0.01390588     0.04785584     0.06138730   0.08499604  \n",
       "2 Consensus        0.02933941     0.05457730     0.06476810   0.08471748  \n",
       "3 Consensus0       0.03056762     0.05379882     0.06419443   0.08468519  \n",
       "4 Mean Inf         0.03502843     0.05479817     0.06468651   0.08474657  \n",
       "5 Mean Inf0        0.03191872     0.05462998     0.06467484   0.08474499  \n",
       "  LFC_mean  \n",
       "1 0.02554406\n",
       "2 0.02414488\n",
       "3 0.01798458\n",
       "4 0.02954133\n",
       "5 0.01727838"
      ]
     },
     "metadata": {},
     "output_type": "display_data"
    }
   ],
   "source": [
    "dfCorCuts %>% group_by(Type) %>% select(starts_with(\"Gamma\"), \"LFC\") %>% summarise_all(.funs = c(mean=\"mean\"))\n",
    "dfMardCuts %>% group_by(Type) %>% select(starts_with(\"Gamma\"), \"LFC\") %>% summarise_all(.funs = c(mean=\"mean\"))\n"
   ]
  },
  {
   "cell_type": "code",
   "execution_count": null,
   "id": "0290bcd9",
   "metadata": {},
   "outputs": [],
   "source": []
  }
 ],
 "metadata": {
  "kernelspec": {
   "display_name": "R",
   "language": "R",
   "name": "ir"
  },
  "language_info": {
   "codemirror_mode": "r",
   "file_extension": ".r",
   "mimetype": "text/x-r-source",
   "name": "R",
   "pygments_lexer": "r",
   "version": "4.1.1"
  }
 },
 "nbformat": 4,
 "nbformat_minor": 5
}
