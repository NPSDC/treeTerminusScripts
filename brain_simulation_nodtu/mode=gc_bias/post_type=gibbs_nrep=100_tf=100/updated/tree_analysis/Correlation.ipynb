{
 "cells": [
  {
   "cell_type": "code",
   "execution_count": 97,
   "id": "2da1faa3",
   "metadata": {},
   "outputs": [],
   "source": [
    "setwd('/fs/cbcb-lab/rob/students/noor/Uncertainity/treeTerminusScripts')\n",
    "suppressPackageStartupMessages(source(\"tree_helper_function.R\"))\n",
    "suppressPackageStartupMessages(library(ggplot2))\n",
    "suppressPackageStartupMessages(library(dplyr))\n",
    "load(\"environment/brain_sim_nodtu/mode=gc_bias/mapDf.RData\")\n",
    "# load(\"environment/brain_sim_nodtu/mode=gc_bias/post_type=gibbs_nrep=100_tf=100/seBrainSim.RData\")\n",
    "trueCountsDir <- \"/fs/cbcb-lab/rob/students/noor/Uncertainity/brain_sim_nodtu/mode=gc_bias/reads_fastq\"\n",
    "\n",
    "trueCountsDf <- lapply(seq(12), function(i) {\n",
    "    samp <- ifelse(i<=6,i,i-6)\n",
    "    rep <- ifelse(i<=6,1,2)\n",
    "    file <- file.path(trueCountsDir, samp, paste(paste(\"true_counts\", rep,sep=\"_\"),\"tsv\",sep=\".\"))\n",
    "    df <- read.delim(file, row.names = 1)\n",
    "})\n",
    "\n",
    "comp_mard <- function(x, y, cutoff = 0.01) {\n",
    "    if(length(x) != length(y))\n",
    "        stop(paste(length(x), length(y)))\n",
    "    relDiff <- rep(0, length(x))\n",
    "    zInds <- which(x <= cutoff & y <= cutoff)\n",
    "    print(length(zInds)/length(x))\n",
    "    nzInds <- setdiff(seq_along(x), zInds)\n",
    "    relDiff[nzInds] <- abs(x[nzInds] - y[nzInds])/(x[nzInds] + y[nzInds])\n",
    "    return(sum(relDiff)/length(x))\n",
    "}"
   ]
  },
  {
   "cell_type": "code",
   "execution_count": 98,
   "id": "dbca12e4",
   "metadata": {},
   "outputs": [],
   "source": [
    "load(\"environment/brain_sim_nodtu/mode=gc_bias/post_type=gibbs_nrep=100_tf=100/seBrainSim.RData\")\n",
    "load(\"environment/brain_sim_nodtu/mode=gc_bias/post_type=gibbs_nrep=100_tf=100/mean_cons/treeCons.RData\")\n",
    "load(\"environment/brain_sim_nodtu/mode=gc_bias/post_type=gibbs_nrep=100_tf=100/mean_cons/treeCor.RData\")\n",
    "load(\"environment/brain_sim_nodtu/mode=gc_bias/post_type=gibbs_nrep=100_tf=100/mean_cons/treeMC.RData\")\n",
    "load(\"environment/brain_sim_nodtu/mode=gc_bias/post_type=gibbs_nrep=100_tf=100/mean_cons/treeMC0.RData\")"
   ]
  },
  {
   "cell_type": "code",
   "execution_count": 99,
   "id": "0296c927",
   "metadata": {},
   "outputs": [],
   "source": [
    "dfCor <- data.frame(matrix(nrow=ncol(seBrainSim),ncol=9))\n",
    "colnames(dfCor) <- c(\"Sample\", paste(\"Depth\",c(1:7), sep=\"_\"), \"Type\")\n",
    "\n",
    "dfPCor <- data.frame(matrix(nrow=ncol(seBrainSim),ncol=9))\n",
    "colnames(dfPCor) <- c(\"Sample\", paste(\"Depth\",c(1:7), sep=\"_\"), \"Type\")\n",
    "\n",
    "dfMard <- data.frame(matrix(nrow=ncol(seBrainSim),ncol=9))\n",
    "colnames(dfMard) <- c(\"Sample\", paste(\"Depth\",c(1:7), sep=\"_\"), \"Type\")"
   ]
  },
  {
   "cell_type": "markdown",
   "id": "9a293837",
   "metadata": {},
   "source": [
    "#### Consensus"
   ]
  },
  {
   "cell_type": "code",
   "execution_count": 100,
   "id": "f7994829",
   "metadata": {},
   "outputs": [
    {
     "name": "stdout",
     "output_type": "stream",
     "text": [
      "[1] \"Missing txps 925\"\n"
     ]
    }
   ],
   "source": [
    "consTxps <- treeCons$tip.label\n",
    "trueTxps <- Reduce(union, lapply(trueCountsDf, function(df) rownames(df)))\n",
    "allTxps <- union(consTxps, trueTxps)\n",
    "mb <- mergeLeaves(treeCons, seBrainSim[allTxps,])\n",
    "yCons <- mb[[\"ySwish\"]]\n",
    "tr <- mb[[\"tree\"]]\n",
    "yAggCons <- computeAggNodesU(tree=tr, nodeID=seq(length(tr$tip)+tr$Nnode), se_counts=assays(yCons)[[\"counts\"]])"
   ]
  },
  {
   "cell_type": "code",
   "execution_count": 101,
   "id": "078fb2b0",
   "metadata": {},
   "outputs": [],
   "source": [
    "trueCountsDfU <- lapply(trueCountsDf, function(df) {\n",
    "    mtnames <- setdiff(allTxps, rownames(df))\n",
    "    rbind(df, data.frame(Counts=rep(0,length(mtnames)), row.names = mtnames))\n",
    "})\n",
    "rnames <- rownames(trueCountsDfU[[1]])\n",
    "trueCountsDfU <- lapply(trueCountsDfU, function(df) {\n",
    "    df <- df[rnames,]\n",
    "    df\n",
    "})\n",
    "trueCountsDfU <- do.call(cbind,trueCountsDfU)\n",
    "\n",
    "colnames(trueCountsDfU) <- colnames(seBrainSim)\n",
    "rownames(trueCountsDfU) <- rnames\n",
    "\n",
    "trueCountsDfU <- trueCountsDfU[tr$tip,]\n",
    "\n",
    "trueCountsAgg <- computeAggNodesU(tree=tr, nodeID=seq(length(tr$tip)+tr$Nnode), se_counts=trueCountsDfU)"
   ]
  },
  {
   "cell_type": "code",
   "execution_count": 102,
   "id": "f72cb53e",
   "metadata": {
    "scrolled": true
   },
   "outputs": [],
   "source": [
    "depth <- node.depth(tr,2)\n",
    "depth[depth > 6] = 7\n",
    "dfCor$Sample <- colnames(seBrainSim)\n",
    "dfCor$Type <- rep(\"Consensus\", ncol(seBrainSim))\n",
    "dfMard$Sample <- colnames(seBrainSim)\n",
    "dfMard$Type <- rep(\"Consensus\", ncol(seBrainSim))\n",
    "\n",
    "# head(dfCor)\n",
    "mat <- matrix(0, ncol=ncol(seBrainSim), nrow=7)\n",
    "for(i in seq(7)) {\n",
    "    mat[i,] = diag(cor(trueCountsAgg[depth==i,], yAggCons[depth==i,], method = \"spearman\"))\n",
    "    n <- paste(\"Depth\", i, sep=\"_\")\n",
    "    dfCor[[n]] <- mat[i,]\n",
    "    mat[i,] = diag(cor(trueCountsAgg[depth==i,], yAggCons[depth==i,]))\n",
    "    dfMard[[n]] <- mat[i,]\n",
    "}\n",
    "\n"
   ]
  },
  {
   "cell_type": "code",
   "execution_count": 103,
   "id": "f71eb585",
   "metadata": {},
   "outputs": [
    {
     "data": {
      "text/html": [
       "<style>\n",
       ".dl-inline {width: auto; margin:0; padding: 0}\n",
       ".dl-inline>dt, .dl-inline>dd {float: none; width: auto; display: inline-block}\n",
       ".dl-inline>dt::after {content: \":\\0020\"; padding-right: .5ex}\n",
       ".dl-inline>dt:not(:first-of-type) {padding-left: .5ex}\n",
       "</style><dl class=dl-inline><dt>1_1</dt><dd>0.999976863388079</dd><dt>2_1</dt><dd>0.999966141266157</dd><dt>3_1</dt><dd>0.999966218089628</dd><dt>4_1</dt><dd>0.999936991590354</dd><dt>5_1</dt><dd>0.999974807486341</dd><dt>6_1</dt><dd>0.999980676590776</dd><dt>1_2</dt><dd>0.999947371569211</dd><dt>2_2</dt><dd>0.999825771159759</dd><dt>3_2</dt><dd>0.999917719732764</dd><dt>4_2</dt><dd>0.999955100947163</dd><dt>5_2</dt><dd>0.999905072289532</dd><dt>6_2</dt><dd>0.999807271914611</dd></dl>\n"
      ],
      "text/latex": [
       "\\begin{description*}\n",
       "\\item[1\\textbackslash{}\\_1] 0.999976863388079\n",
       "\\item[2\\textbackslash{}\\_1] 0.999966141266157\n",
       "\\item[3\\textbackslash{}\\_1] 0.999966218089628\n",
       "\\item[4\\textbackslash{}\\_1] 0.999936991590354\n",
       "\\item[5\\textbackslash{}\\_1] 0.999974807486341\n",
       "\\item[6\\textbackslash{}\\_1] 0.999980676590776\n",
       "\\item[1\\textbackslash{}\\_2] 0.999947371569211\n",
       "\\item[2\\textbackslash{}\\_2] 0.999825771159759\n",
       "\\item[3\\textbackslash{}\\_2] 0.999917719732764\n",
       "\\item[4\\textbackslash{}\\_2] 0.999955100947163\n",
       "\\item[5\\textbackslash{}\\_2] 0.999905072289532\n",
       "\\item[6\\textbackslash{}\\_2] 0.999807271914611\n",
       "\\end{description*}\n"
      ],
      "text/markdown": [
       "1_1\n",
       ":   0.9999768633880792_1\n",
       ":   0.9999661412661573_1\n",
       ":   0.9999662180896284_1\n",
       ":   0.9999369915903545_1\n",
       ":   0.9999748074863416_1\n",
       ":   0.9999806765907761_2\n",
       ":   0.9999473715692112_2\n",
       ":   0.9998257711597593_2\n",
       ":   0.9999177197327644_2\n",
       ":   0.9999551009471635_2\n",
       ":   0.9999050722895326_2\n",
       ":   0.999807271914611\n",
       "\n"
      ],
      "text/plain": [
       "      1_1       2_1       3_1       4_1       5_1       6_1       1_2       2_2 \n",
       "0.9999769 0.9999661 0.9999662 0.9999370 0.9999748 0.9999807 0.9999474 0.9998258 \n",
       "      3_2       4_2       5_2       6_2 \n",
       "0.9999177 0.9999551 0.9999051 0.9998073 "
      ]
     },
     "metadata": {},
     "output_type": "display_data"
    }
   ],
   "source": [
    "depth <- node.depth(tr,2)\n",
    "depth[depth > 6] = 7\n",
    "diag(cor(trueCountsAgg[depth==1,], yAggCons[depth==1,]))"
   ]
  },
  {
   "cell_type": "markdown",
   "id": "a40ad7c9",
   "metadata": {},
   "source": [
    "#### Correlation Tree"
   ]
  },
  {
   "cell_type": "code",
   "execution_count": 104,
   "id": "34dd39d2",
   "metadata": {},
   "outputs": [
    {
     "name": "stdout",
     "output_type": "stream",
     "text": [
      "[1] \"Missing txps 925\"\n"
     ]
    }
   ],
   "source": [
    "corTxps <- treeCor$tip.label\n",
    "trueTxps <- Reduce(union, lapply(trueCountsDf, function(df) rownames(df)))\n",
    "allTxps <- union(corTxps, trueTxps)\n",
    "mb <- mergeLeaves(treeCor, seBrainSim[allTxps,])\n",
    "yCor <- mb[[\"ySwish\"]]\n",
    "tr <- mb[[\"tree\"]]\n",
    "yAggCor <- computeAggNodesU(tree=tr, nodeID=seq(length(tr$tip)+tr$Nnode), se_counts=assays(yCor)[[\"counts\"]])"
   ]
  },
  {
   "cell_type": "code",
   "execution_count": 105,
   "id": "9a42dde9",
   "metadata": {},
   "outputs": [],
   "source": [
    "trueCountsDfU <- lapply(trueCountsDf, function(df) {\n",
    "    mtnames <- setdiff(allTxps, rownames(df))\n",
    "    rbind(df, data.frame(Counts=rep(0,length(mtnames)), row.names = mtnames))\n",
    "})\n",
    "rnames <- rownames(trueCountsDfU[[1]])\n",
    "trueCountsDfU <- lapply(trueCountsDfU, function(df) {\n",
    "    df <- df[rnames,]\n",
    "    df\n",
    "})\n",
    "trueCountsDfU <- do.call(cbind,trueCountsDfU)\n",
    "\n",
    "colnames(trueCountsDfU) <- colnames(seBrainSim)\n",
    "rownames(trueCountsDfU) <- rnames\n",
    "\n",
    "trueCountsDfU <- trueCountsDfU[tr$tip,]\n",
    "\n",
    "trueCountsAgg <- computeAggNodesU(tree=tr, nodeID=seq(length(tr$tip)+tr$Nnode), se_counts=trueCountsDfU)"
   ]
  },
  {
   "cell_type": "code",
   "execution_count": 106,
   "id": "b96086e5",
   "metadata": {},
   "outputs": [
    {
     "name": "stdout",
     "output_type": "stream",
     "text": [
      "[1] 0.486135\n",
      "[1] 0.485918\n",
      "[1] 0.4852521\n",
      "[1] 0.4856636\n",
      "[1] 0.4846759\n",
      "[1] 0.4849902\n",
      "[1] 0.486337\n",
      "[1] 0.4858881\n",
      "[1] 0.4848705\n",
      "[1] 0.4853194\n",
      "[1] 0.4850725\n",
      "[1] 0.4849678\n",
      "[1] 0.003990878\n",
      "[1] 0.003720819\n",
      "[1] 0.003750825\n",
      "[1] 0.003930865\n",
      "[1] 0.003540779\n",
      "[1] 0.003990878\n",
      "[1] 0.004080898\n",
      "[1] 0.004020885\n",
      "[1] 0.004050891\n",
      "[1] 0.004140911\n",
      "[1] 0.003750825\n",
      "[1] 0.003960871\n",
      "[1] 5.846586e-05\n",
      "[1] 0\n",
      "[1] 0.0001169317\n",
      "[1] 0\n",
      "[1] 5.846586e-05\n",
      "[1] 5.846586e-05\n",
      "[1] 0.0001169317\n",
      "[1] 0.0002338634\n",
      "[1] 0.0001169317\n",
      "[1] 5.846586e-05\n",
      "[1] 0.0001169317\n",
      "[1] 0.0001753976\n",
      "[1] 0\n",
      "[1] 0\n",
      "[1] 0\n",
      "[1] 0\n",
      "[1] 0\n",
      "[1] 0\n",
      "[1] 0\n",
      "[1] 0\n",
      "[1] 0\n",
      "[1] 0\n",
      "[1] 0\n",
      "[1] 0\n",
      "[1] 0\n",
      "[1] 0\n",
      "[1] 0\n",
      "[1] 0\n",
      "[1] 0\n",
      "[1] 0\n",
      "[1] 0\n",
      "[1] 0\n",
      "[1] 0\n",
      "[1] 0\n",
      "[1] 0\n",
      "[1] 0\n",
      "[1] 0\n",
      "[1] 0\n",
      "[1] 0\n",
      "[1] 0\n",
      "[1] 0\n",
      "[1] 0\n",
      "[1] 0\n",
      "[1] 0\n",
      "[1] 0\n",
      "[1] 0\n",
      "[1] 0\n",
      "[1] 0\n",
      "[1] 0\n",
      "[1] 0\n",
      "[1] 0\n",
      "[1] 0\n",
      "[1] 0\n",
      "[1] 0\n",
      "[1] 0\n",
      "[1] 0\n",
      "[1] 0\n",
      "[1] 0\n",
      "[1] 0\n",
      "[1] 0\n"
     ]
    },
    {
     "data": {
      "text/html": [
       "<style>\n",
       ".dl-inline {width: auto; margin:0; padding: 0}\n",
       ".dl-inline>dt, .dl-inline>dd {float: none; width: auto; display: inline-block}\n",
       ".dl-inline>dt::after {content: \":\\0020\"; padding-right: .5ex}\n",
       ".dl-inline>dt:not(:first-of-type) {padding-left: .5ex}\n",
       "</style><dl class=dl-inline><dt>Depth_1</dt><dd>0.944814908942515</dd><dt>Depth_2</dt><dd>0.991394296398043</dd><dt>Depth_3</dt><dd>0.997774353935795</dd><dt>Depth_4</dt><dd>0.999417814212299</dd><dt>Depth_5</dt><dd>0.999775559198417</dd><dt>Depth_6</dt><dd>0.999845612433617</dd><dt>Depth_7</dt><dd>0.999973098912169</dd></dl>\n"
      ],
      "text/latex": [
       "\\begin{description*}\n",
       "\\item[Depth\\textbackslash{}\\_1] 0.944814908942515\n",
       "\\item[Depth\\textbackslash{}\\_2] 0.991394296398043\n",
       "\\item[Depth\\textbackslash{}\\_3] 0.997774353935795\n",
       "\\item[Depth\\textbackslash{}\\_4] 0.999417814212299\n",
       "\\item[Depth\\textbackslash{}\\_5] 0.999775559198417\n",
       "\\item[Depth\\textbackslash{}\\_6] 0.999845612433617\n",
       "\\item[Depth\\textbackslash{}\\_7] 0.999973098912169\n",
       "\\end{description*}\n"
      ],
      "text/markdown": [
       "Depth_1\n",
       ":   0.944814908942515Depth_2\n",
       ":   0.991394296398043Depth_3\n",
       ":   0.997774353935795Depth_4\n",
       ":   0.999417814212299Depth_5\n",
       ":   0.999775559198417Depth_6\n",
       ":   0.999845612433617Depth_7\n",
       ":   0.999973098912169\n",
       "\n"
      ],
      "text/plain": [
       "  Depth_1   Depth_2   Depth_3   Depth_4   Depth_5   Depth_6   Depth_7 \n",
       "0.9448149 0.9913943 0.9977744 0.9994178 0.9997756 0.9998456 0.9999731 "
      ]
     },
     "metadata": {},
     "output_type": "display_data"
    },
    {
     "data": {
      "text/html": [
       "<style>\n",
       ".dl-inline {width: auto; margin:0; padding: 0}\n",
       ".dl-inline>dt, .dl-inline>dd {float: none; width: auto; display: inline-block}\n",
       ".dl-inline>dt::after {content: \":\\0020\"; padding-right: .5ex}\n",
       ".dl-inline>dt:not(:first-of-type) {padding-left: .5ex}\n",
       "</style><dl class=dl-inline><dt>Depth_1</dt><dd>0.099400956506708</dd><dt>Depth_2</dt><dd>0.0684411617889004</dd><dt>Depth_3</dt><dd>0.0292996660071037</dd><dt>Depth_4</dt><dd>0.0135006594385376</dd><dt>Depth_5</dt><dd>0.00679105841929706</dd><dt>Depth_6</dt><dd>0.00401013635854049</dd><dt>Depth_7</dt><dd>0.00200013407188017</dd></dl>\n"
      ],
      "text/latex": [
       "\\begin{description*}\n",
       "\\item[Depth\\textbackslash{}\\_1] 0.099400956506708\n",
       "\\item[Depth\\textbackslash{}\\_2] 0.0684411617889004\n",
       "\\item[Depth\\textbackslash{}\\_3] 0.0292996660071037\n",
       "\\item[Depth\\textbackslash{}\\_4] 0.0135006594385376\n",
       "\\item[Depth\\textbackslash{}\\_5] 0.00679105841929706\n",
       "\\item[Depth\\textbackslash{}\\_6] 0.00401013635854049\n",
       "\\item[Depth\\textbackslash{}\\_7] 0.00200013407188017\n",
       "\\end{description*}\n"
      ],
      "text/markdown": [
       "Depth_1\n",
       ":   0.099400956506708Depth_2\n",
       ":   0.0684411617889004Depth_3\n",
       ":   0.0292996660071037Depth_4\n",
       ":   0.0135006594385376Depth_5\n",
       ":   0.00679105841929706Depth_6\n",
       ":   0.00401013635854049Depth_7\n",
       ":   0.00200013407188017\n",
       "\n"
      ],
      "text/plain": [
       "    Depth_1     Depth_2     Depth_3     Depth_4     Depth_5     Depth_6 \n",
       "0.099400957 0.068441162 0.029299666 0.013500659 0.006791058 0.004010136 \n",
       "    Depth_7 \n",
       "0.002000134 "
      ]
     },
     "metadata": {},
     "output_type": "display_data"
    }
   ],
   "source": [
    "depth <- node.depth(tr,2)\n",
    "depth[depth > 6] = 7\n",
    "\n",
    "dfT <- data.frame(matrix(nrow=ncol(seBrainSim),ncol=9))\n",
    "colnames(dfT) <- c(\"Sample\", paste(\"Depth\",c(1:7), sep=\"_\"), \"Type\")\n",
    "\n",
    "dfT2 <- data.frame(matrix(nrow=ncol(seBrainSim),ncol=9))\n",
    "colnames(dfT2) <- c(\"Sample\", paste(\"Depth\",c(1:7), sep=\"_\"), \"Type\")\n",
    "\n",
    "dfT3 <- data.frame(matrix(nrow=ncol(seBrainSim),ncol=9))\n",
    "colnames(dfT3) <- c(\"Sample\", paste(\"Depth\",c(1:7), sep=\"_\"), \"Type\")\n",
    "\n",
    "\n",
    "dfT$Sample <- colnames(seBrainSim)\n",
    "dfT$Type <- rep(\"Anti-Correlation\", ncol(seBrainSim))\n",
    "dfT2$Sample <- colnames(seBrainSim)\n",
    "dfT2$Type <- rep(\"Anti-Correlation\", ncol(seBrainSim))\n",
    "# head(dfCor)\n",
    "mat <- matrix(0, ncol=ncol(seBrainSim), nrow=7)\n",
    "for(i in seq(7)) {\n",
    "    mat[i,] = diag(cor(trueCountsAgg[depth==i,], yAggCor[depth==i,], method = \"spearman\"))\n",
    "    n <- paste(\"Depth\", i, sep=\"_\")\n",
    "    dfT[[n]] <- mat[i,]\n",
    "    mat[i,] = sapply(seq_along(colnames(seBrainSim)), function(j) comp_mard(trueCountsAgg[depth==i,j], yAggCor[depth==i,j]))\n",
    "    dfT2[[n]] <- mat[i,]\n",
    "}\n",
    "colMeans(dfT[,2:8])\n",
    "colMeans(dfT2[,2:8])\n",
    "\n",
    "dfCor <- rbind(dfCor, dfT)\n",
    "dfMard <- rbind(dfMard, dfT2)\n"
   ]
  },
  {
   "cell_type": "markdown",
   "id": "5ed4c550",
   "metadata": {},
   "source": [
    "#### Mean Consensus"
   ]
  },
  {
   "cell_type": "code",
   "execution_count": 107,
   "id": "411ca17d",
   "metadata": {},
   "outputs": [
    {
     "name": "stdout",
     "output_type": "stream",
     "text": [
      "[1] \"Missing txps 925\"\n"
     ]
    }
   ],
   "source": [
    "miTxps <- treeMC$tip.label\n",
    "trueTxps <- Reduce(union, lapply(trueCountsDf, function(df) rownames(df)))\n",
    "allTxps <- union(miTxps, trueTxps)\n",
    "mb <- mergeLeaves(treeMC, seBrainSim[allTxps,])\n",
    "yMI <- mb[[\"ySwish\"]]\n",
    "tr <- mb[[\"tree\"]]\n",
    "yAggMI <- computeAggNodesU(tree=tr, nodeID=seq(length(tr$tip)+tr$Nnode), se_counts=assays(yMI)[[\"counts\"]])"
   ]
  },
  {
   "cell_type": "code",
   "execution_count": 108,
   "id": "11b7e301",
   "metadata": {},
   "outputs": [],
   "source": [
    "trueCountsDfU <- lapply(trueCountsDf, function(df) {\n",
    "    mtnames <- setdiff(allTxps, rownames(df))\n",
    "    rbind(df, data.frame(Counts=rep(0,length(mtnames)), row.names = mtnames))\n",
    "})\n",
    "rnames <- rownames(trueCountsDfU[[1]])\n",
    "trueCountsDfU <- lapply(trueCountsDfU, function(df) {\n",
    "    df <- df[rnames,]\n",
    "    df\n",
    "})\n",
    "trueCountsDfU <- do.call(cbind,trueCountsDfU)\n",
    "\n",
    "colnames(trueCountsDfU) <- colnames(seBrainSim)\n",
    "rownames(trueCountsDfU) <- rnames\n",
    "\n",
    "trueCountsDfU <- trueCountsDfU[tr$tip,]\n",
    "\n",
    "trueCountsAgg <- computeAggNodesU(tree=tr, nodeID=seq(length(tr$tip)+tr$Nnode), se_counts=trueCountsDfU)"
   ]
  },
  {
   "cell_type": "code",
   "execution_count": 109,
   "id": "c719da15",
   "metadata": {},
   "outputs": [
    {
     "name": "stdout",
     "output_type": "stream",
     "text": [
      "[1] 0.486135\n",
      "[1] 0.485918\n",
      "[1] 0.4852521\n",
      "[1] 0.4856636\n",
      "[1] 0.4846759\n",
      "[1] 0.4849902\n",
      "[1] 0.486337\n",
      "[1] 0.4858881\n",
      "[1] 0.4848705\n",
      "[1] 0.4853194\n",
      "[1] 0.4850725\n",
      "[1] 0.4849678\n",
      "[1] 0.203475\n",
      "[1] 0.2032449\n",
      "[1] 0.2033983\n",
      "[1] 0.2028613\n",
      "[1] 0.2017106\n",
      "[1] 0.2017874\n",
      "[1] 0.2047024\n",
      "[1] 0.2032065\n",
      "[1] 0.2022093\n",
      "[1] 0.2040887\n",
      "[1] 0.2019024\n",
      "[1] 0.2020942\n",
      "[1] 0.1471943\n",
      "[1] 0.1464265\n",
      "[1] 0.1466627\n",
      "[1] 0.1469581\n",
      "[1] 0.1453633\n",
      "[1] 0.1456586\n",
      "[1] 0.1467218\n",
      "[1] 0.1466037\n",
      "[1] 0.1457177\n",
      "[1] 0.1468399\n",
      "[1] 0.1455995\n",
      "[1] 0.1457767\n",
      "[1] 0.1109586\n",
      "[1] 0.1108778\n",
      "[1] 0.1108778\n",
      "[1] 0.1103933\n",
      "[1] 0.110474\n",
      "[1] 0.1103125\n",
      "[1] 0.1116046\n",
      "[1] 0.1107163\n",
      "[1] 0.1109586\n",
      "[1] 0.1108778\n",
      "[1] 0.1102318\n",
      "[1] 0.110151\n",
      "[1] 0.08872618\n",
      "[1] 0.08915689\n",
      "[1] 0.08926456\n",
      "[1] 0.08926456\n",
      "[1] 0.08829547\n",
      "[1] 0.08851082\n",
      "[1] 0.08991063\n",
      "[1] 0.08872618\n",
      "[1] 0.08915689\n",
      "[1] 0.08872618\n",
      "[1] 0.08818779\n",
      "[1] 0.0876494\n",
      "[1] 0.0681915\n",
      "[1] 0.0686177\n",
      "[1] 0.06847564\n",
      "[1] 0.06918596\n",
      "[1] 0.0686177\n",
      "[1] 0.06748118\n",
      "[1] 0.06975423\n",
      "[1] 0.06847564\n",
      "[1] 0.0690439\n",
      "[1] 0.06804944\n",
      "[1] 0.06804944\n",
      "[1] 0.06733911\n",
      "[1] 0.02317928\n",
      "[1] 0.02346238\n",
      "[1] 0.02363932\n",
      "[1] 0.02349777\n",
      "[1] 0.02328544\n",
      "[1] 0.02314389\n",
      "[1] 0.0237101\n",
      "[1] 0.02388704\n",
      "[1] 0.02346238\n",
      "[1] 0.02325005\n",
      "[1] 0.02321466\n",
      "[1] 0.02349777\n"
     ]
    },
    {
     "data": {
      "text/html": [
       "<style>\n",
       ".dl-inline {width: auto; margin:0; padding: 0}\n",
       ".dl-inline>dt, .dl-inline>dd {float: none; width: auto; display: inline-block}\n",
       ".dl-inline>dt::after {content: \":\\0020\"; padding-right: .5ex}\n",
       ".dl-inline>dt:not(:first-of-type) {padding-left: .5ex}\n",
       "</style><dl class=dl-inline><dt>Depth_1</dt><dd>0.944814908942515</dd><dt>Depth_2</dt><dd>0.997663441882161</dd><dt>Depth_3</dt><dd>0.999159032661842</dd><dt>Depth_4</dt><dd>0.999489136231129</dd><dt>Depth_5</dt><dd>0.999649022701599</dd><dt>Depth_6</dt><dd>0.999730861076582</dd><dt>Depth_7</dt><dd>0.999915185582198</dd></dl>\n"
      ],
      "text/latex": [
       "\\begin{description*}\n",
       "\\item[Depth\\textbackslash{}\\_1] 0.944814908942515\n",
       "\\item[Depth\\textbackslash{}\\_2] 0.997663441882161\n",
       "\\item[Depth\\textbackslash{}\\_3] 0.999159032661842\n",
       "\\item[Depth\\textbackslash{}\\_4] 0.999489136231129\n",
       "\\item[Depth\\textbackslash{}\\_5] 0.999649022701599\n",
       "\\item[Depth\\textbackslash{}\\_6] 0.999730861076582\n",
       "\\item[Depth\\textbackslash{}\\_7] 0.999915185582198\n",
       "\\end{description*}\n"
      ],
      "text/markdown": [
       "Depth_1\n",
       ":   0.944814908942515Depth_2\n",
       ":   0.997663441882161Depth_3\n",
       ":   0.999159032661842Depth_4\n",
       ":   0.999489136231129Depth_5\n",
       ":   0.999649022701599Depth_6\n",
       ":   0.999730861076582Depth_7\n",
       ":   0.999915185582198\n",
       "\n"
      ],
      "text/plain": [
       "  Depth_1   Depth_2   Depth_3   Depth_4   Depth_5   Depth_6   Depth_7 \n",
       "0.9448149 0.9976634 0.9991590 0.9994891 0.9996490 0.9997309 0.9999152 "
      ]
     },
     "metadata": {},
     "output_type": "display_data"
    },
    {
     "data": {
      "text/html": [
       "<style>\n",
       ".dl-inline {width: auto; margin:0; padding: 0}\n",
       ".dl-inline>dt, .dl-inline>dd {float: none; width: auto; display: inline-block}\n",
       ".dl-inline>dt::after {content: \":\\0020\"; padding-right: .5ex}\n",
       ".dl-inline>dt:not(:first-of-type) {padding-left: .5ex}\n",
       "</style><dl class=dl-inline><dt>Depth_1</dt><dd>0.099400956506708</dd><dt>Depth_2</dt><dd>0.0348511907551859</dd><dt>Depth_3</dt><dd>0.0263115069715369</dd><dt>Depth_4</dt><dd>0.0227798445961952</dd><dt>Depth_5</dt><dd>0.019636236318563</dd><dt>Depth_6</dt><dd>0.0179650691018354</dd><dt>Depth_7</dt><dd>0.0100824541299507</dd></dl>\n"
      ],
      "text/latex": [
       "\\begin{description*}\n",
       "\\item[Depth\\textbackslash{}\\_1] 0.099400956506708\n",
       "\\item[Depth\\textbackslash{}\\_2] 0.0348511907551859\n",
       "\\item[Depth\\textbackslash{}\\_3] 0.0263115069715369\n",
       "\\item[Depth\\textbackslash{}\\_4] 0.0227798445961952\n",
       "\\item[Depth\\textbackslash{}\\_5] 0.019636236318563\n",
       "\\item[Depth\\textbackslash{}\\_6] 0.0179650691018354\n",
       "\\item[Depth\\textbackslash{}\\_7] 0.0100824541299507\n",
       "\\end{description*}\n"
      ],
      "text/markdown": [
       "Depth_1\n",
       ":   0.099400956506708Depth_2\n",
       ":   0.0348511907551859Depth_3\n",
       ":   0.0263115069715369Depth_4\n",
       ":   0.0227798445961952Depth_5\n",
       ":   0.019636236318563Depth_6\n",
       ":   0.0179650691018354Depth_7\n",
       ":   0.0100824541299507\n",
       "\n"
      ],
      "text/plain": [
       "   Depth_1    Depth_2    Depth_3    Depth_4    Depth_5    Depth_6    Depth_7 \n",
       "0.09940096 0.03485119 0.02631151 0.02277984 0.01963624 0.01796507 0.01008245 "
      ]
     },
     "metadata": {},
     "output_type": "display_data"
    }
   ],
   "source": [
    "depth <- node.depth(tr,2)\n",
    "depth[depth > 6] = 7\n",
    "\n",
    "dfT <- data.frame(matrix(nrow=ncol(seBrainSim),ncol=9))\n",
    "colnames(dfT) <- c(\"Sample\", paste(\"Depth\",c(1:7), sep=\"_\"), \"Type\")\n",
    "\n",
    "dfT2 <- data.frame(matrix(nrow=ncol(seBrainSim),ncol=9))\n",
    "colnames(dfT2) <- c(\"Sample\", paste(\"Depth\",c(1:7), sep=\"_\"), \"Type\")\n",
    "\n",
    "dfT$Sample <- colnames(seBrainSim)\n",
    "dfT$Type <- rep(\"Mean Inf\", ncol(seBrainSim))\n",
    "dfT2$Sample <- colnames(seBrainSim)\n",
    "dfT2$Type <- rep(\"Mean Inf\", ncol(seBrainSim))\n",
    "\n",
    "# head(dfCor)\n",
    "mat <- matrix(0, ncol=ncol(seBrainSim), nrow=7)\n",
    "for(i in seq(7)) {\n",
    "    mat[i,] = diag(cor(trueCountsAgg[depth==i,], yAggMI[depth==i,], method = \"spearman\"))\n",
    "    n <- paste(\"Depth\", i, sep=\"_\")\n",
    "    dfT[[n]] <- mat[i,]\n",
    "    mat[i,] = sapply(seq_along(colnames(seBrainSim)), function(j) comp_mard(trueCountsAgg[depth==i,j], yAggMI[depth==i,j]))\n",
    "    dfT2[[n]] <- mat[i,]\n",
    "    mat[i,] = diag(cor(trueCountsAgg[depth==i,], yAggMI[depth==i,]))\n",
    "    dfT3[[n]] <- mat[i,]\n",
    "}\n",
    "colMeans(dfT[,2:8])\n",
    "colMeans(dfT2[,2:8])\n",
    "\n",
    "dfCor <- rbind(dfCor, dfT)\n",
    "dfMard <- rbind(dfMard, dfT2)\n"
   ]
  },
  {
   "cell_type": "markdown",
   "id": "b200e970",
   "metadata": {},
   "source": [
    "#### MeanInf0"
   ]
  },
  {
   "cell_type": "code",
   "execution_count": 110,
   "id": "bfc5938c",
   "metadata": {},
   "outputs": [
    {
     "name": "stdout",
     "output_type": "stream",
     "text": [
      "[1] \"Missing txps 603\"\n"
     ]
    }
   ],
   "source": [
    "mi0Txps <- treeMC0$tip.label\n",
    "trueTxps <- Reduce(union, lapply(trueCountsDf, function(df) rownames(df)))\n",
    "allTxps <- union(mi0Txps, trueTxps)\n",
    "mb <- mergeLeaves(treeMC0, seBrainSim[allTxps,])\n",
    "yMI0 <- mb[[\"ySwish\"]]\n",
    "tr <- mb[[\"tree\"]]\n",
    "yAggMI0 <- computeAggNodesU(tree=tr, nodeID=seq(length(tr$tip)+tr$Nnode), se_counts=assays(yMI0)[[\"counts\"]])"
   ]
  },
  {
   "cell_type": "code",
   "execution_count": 111,
   "id": "de619197",
   "metadata": {},
   "outputs": [],
   "source": [
    "trueCountsDfU <- lapply(trueCountsDf, function(df) {\n",
    "    mtnames <- setdiff(allTxps, rownames(df))\n",
    "    rbind(df, data.frame(Counts=rep(0,length(mtnames)), row.names = mtnames))\n",
    "})\n",
    "rnames <- rownames(trueCountsDfU[[1]])\n",
    "trueCountsDfU <- lapply(trueCountsDfU, function(df) {\n",
    "    df <- df[rnames,]\n",
    "    df\n",
    "})\n",
    "trueCountsDfU <- do.call(cbind,trueCountsDfU)\n",
    "\n",
    "colnames(trueCountsDfU) <- colnames(seBrainSim)\n",
    "rownames(trueCountsDfU) <- rnames\n",
    "\n",
    "trueCountsDfU <- trueCountsDfU[tr$tip,]\n",
    "\n",
    "trueCountsAgg <- computeAggNodesU(tree=tr, nodeID=seq(length(tr$tip)+tr$Nnode), se_counts=trueCountsDfU)"
   ]
  },
  {
   "cell_type": "code",
   "execution_count": 112,
   "id": "55847ed4",
   "metadata": {},
   "outputs": [
    {
     "name": "stdout",
     "output_type": "stream",
     "text": [
      "[1] 0.508769\n",
      "[1] 0.5085474\n",
      "[1] 0.5078968\n",
      "[1] 0.5083186\n",
      "[1] 0.5073034\n",
      "[1] 0.5076465\n",
      "[1] 0.5089049\n",
      "[1] 0.5085188\n",
      "[1] 0.5076108\n",
      "[1] 0.5080183\n",
      "[1] 0.507811\n",
      "[1] 0.5076465\n",
      "[1] 0.02097721\n",
      "[1] 0.02097721\n",
      "[1] 0.02056182\n",
      "[1] 0.02082143\n",
      "[1] 0.02004258\n",
      "[1] 0.02014643\n",
      "[1] 0.02149644\n",
      "[1] 0.02087336\n",
      "[1] 0.0203022\n",
      "[1] 0.02128875\n",
      "[1] 0.01983488\n",
      "[1] 0.02004258\n",
      "[1] 0.005114736\n",
      "[1] 0.004700028\n",
      "[1] 0.004769146\n",
      "[1] 0.005045618\n",
      "[1] 0.004700028\n",
      "[1] 0.004561792\n",
      "[1] 0.005252972\n",
      "[1] 0.004907382\n",
      "[1] 0.004838264\n",
      "[1] 0.005114736\n",
      "[1] 0.004492673\n",
      "[1] 0.004354437\n",
      "[1] 0.001879085\n",
      "[1] 0.001470588\n",
      "[1] 0.001388889\n",
      "[1] 0.002124183\n",
      "[1] 0.001797386\n",
      "[1] 0.001633987\n",
      "[1] 0.002205882\n",
      "[1] 0.001715686\n",
      "[1] 0.001797386\n",
      "[1] 0.001715686\n",
      "[1] 0.001388889\n",
      "[1] 0.001470588\n",
      "[1] 0.001417769\n",
      "[1] 0.0008506616\n",
      "[1] 0.0009451796\n",
      "[1] 0.001323251\n",
      "[1] 0.001228733\n",
      "[1] 0.001323251\n",
      "[1] 0.001701323\n",
      "[1] 0.001134216\n",
      "[1] 0.001323251\n",
      "[1] 0.001134216\n",
      "[1] 0.001039698\n",
      "[1] 0.0008506616\n",
      "[1] 0.0009933775\n",
      "[1] 0.0005518764\n",
      "[1] 0.0005518764\n",
      "[1] 0.0009933775\n",
      "[1] 0.0009933775\n",
      "[1] 0.0009933775\n",
      "[1] 0.001324503\n",
      "[1] 0.0008830022\n",
      "[1] 0.0009933775\n",
      "[1] 0.0005518764\n",
      "[1] 0.0008830022\n",
      "[1] 0.0005518764\n",
      "[1] 0.0005288689\n",
      "[1] 0.0003465003\n",
      "[1] 0.0003465003\n",
      "[1] 0.0004923952\n",
      "[1] 0.0004741584\n",
      "[1] 0.0004741584\n",
      "[1] 0.0006930007\n",
      "[1] 0.0006382901\n",
      "[1] 0.000656527\n",
      "[1] 0.0005653427\n",
      "[1] 0.0003829741\n",
      "[1] 0.0003465003\n"
     ]
    },
    {
     "data": {
      "text/html": [
       "<style>\n",
       ".dl-inline {width: auto; margin:0; padding: 0}\n",
       ".dl-inline>dt, .dl-inline>dd {float: none; width: auto; display: inline-block}\n",
       ".dl-inline>dt::after {content: \":\\0020\"; padding-right: .5ex}\n",
       ".dl-inline>dt:not(:first-of-type) {padding-left: .5ex}\n",
       "</style><dl class=dl-inline><dt>Depth_1</dt><dd>0.944694853764317</dd><dt>Depth_2</dt><dd>0.998610888419853</dd><dt>Depth_3</dt><dd>0.99967486736855</dd><dt>Depth_4</dt><dd>0.999836102134025</dd><dt>Depth_5</dt><dd>0.999894136398977</dd><dt>Depth_6</dt><dd>0.999917365083241</dd><dt>Depth_7</dt><dd>0.999969628088513</dd></dl>\n"
      ],
      "text/latex": [
       "\\begin{description*}\n",
       "\\item[Depth\\textbackslash{}\\_1] 0.944694853764317\n",
       "\\item[Depth\\textbackslash{}\\_2] 0.998610888419853\n",
       "\\item[Depth\\textbackslash{}\\_3] 0.99967486736855\n",
       "\\item[Depth\\textbackslash{}\\_4] 0.999836102134025\n",
       "\\item[Depth\\textbackslash{}\\_5] 0.999894136398977\n",
       "\\item[Depth\\textbackslash{}\\_6] 0.999917365083241\n",
       "\\item[Depth\\textbackslash{}\\_7] 0.999969628088513\n",
       "\\end{description*}\n"
      ],
      "text/markdown": [
       "Depth_1\n",
       ":   0.944694853764317Depth_2\n",
       ":   0.998610888419853Depth_3\n",
       ":   0.99967486736855Depth_4\n",
       ":   0.999836102134025Depth_5\n",
       ":   0.999894136398977Depth_6\n",
       ":   0.999917365083241Depth_7\n",
       ":   0.999969628088513\n",
       "\n"
      ],
      "text/plain": [
       "  Depth_1   Depth_2   Depth_3   Depth_4   Depth_5   Depth_6   Depth_7 \n",
       "0.9446949 0.9986109 0.9996749 0.9998361 0.9998941 0.9999174 0.9999696 "
      ]
     },
     "metadata": {},
     "output_type": "display_data"
    },
    {
     "data": {
      "text/html": [
       "<style>\n",
       ".dl-inline {width: auto; margin:0; padding: 0}\n",
       ".dl-inline>dt, .dl-inline>dd {float: none; width: auto; display: inline-block}\n",
       ".dl-inline>dt::after {content: \":\\0020\"; padding-right: .5ex}\n",
       ".dl-inline>dt:not(:first-of-type) {padding-left: .5ex}\n",
       "</style><dl class=dl-inline><dt>Depth_1</dt><dd>0.0952085926865916</dd><dt>Depth_2</dt><dd>0.0251896400682606</dd><dt>Depth_3</dt><dd>0.0110374249598869</dd><dt>Depth_4</dt><dd>0.00695861182659889</dd><dt>Depth_5</dt><dd>0.0048199878069525</dd><dt>Depth_6</dt><dd>0.00371571937502839</dd><dt>Depth_7</dt><dd>0.00179684638072466</dd></dl>\n"
      ],
      "text/latex": [
       "\\begin{description*}\n",
       "\\item[Depth\\textbackslash{}\\_1] 0.0952085926865916\n",
       "\\item[Depth\\textbackslash{}\\_2] 0.0251896400682606\n",
       "\\item[Depth\\textbackslash{}\\_3] 0.0110374249598869\n",
       "\\item[Depth\\textbackslash{}\\_4] 0.00695861182659889\n",
       "\\item[Depth\\textbackslash{}\\_5] 0.0048199878069525\n",
       "\\item[Depth\\textbackslash{}\\_6] 0.00371571937502839\n",
       "\\item[Depth\\textbackslash{}\\_7] 0.00179684638072466\n",
       "\\end{description*}\n"
      ],
      "text/markdown": [
       "Depth_1\n",
       ":   0.0952085926865916Depth_2\n",
       ":   0.0251896400682606Depth_3\n",
       ":   0.0110374249598869Depth_4\n",
       ":   0.00695861182659889Depth_5\n",
       ":   0.0048199878069525Depth_6\n",
       ":   0.00371571937502839Depth_7\n",
       ":   0.00179684638072466\n",
       "\n"
      ],
      "text/plain": [
       "    Depth_1     Depth_2     Depth_3     Depth_4     Depth_5     Depth_6 \n",
       "0.095208593 0.025189640 0.011037425 0.006958612 0.004819988 0.003715719 \n",
       "    Depth_7 \n",
       "0.001796846 "
      ]
     },
     "metadata": {},
     "output_type": "display_data"
    }
   ],
   "source": [
    "depth <- node.depth(tr,2)\n",
    "depth[depth > 6] = 7\n",
    "\n",
    "dfT <- data.frame(matrix(nrow=ncol(seBrainSim),ncol=9))\n",
    "colnames(dfT) <- c(\"Sample\", paste(\"Depth\",c(1:7), sep=\"_\"), \"Type\")\n",
    "\n",
    "dfT2 <- data.frame(matrix(nrow=ncol(seBrainSim),ncol=9))\n",
    "colnames(dfT2) <- c(\"Sample\", paste(\"Depth\",c(1:7), sep=\"_\"), \"Type\")\n",
    "\n",
    "dfT$Sample <- colnames(seBrainSim)\n",
    "dfT$Type <- rep(\"Mean Inf0\", ncol(seBrainSim))\n",
    "dfT2$Sample <- colnames(seBrainSim)\n",
    "dfT2$Type <- rep(\"Mean Inf0\", ncol(seBrainSim))\n",
    "# head(dfCor)\n",
    "mat <- matrix(0, ncol=ncol(seBrainSim), nrow=7)\n",
    "for(i in seq(7)) {\n",
    "    mat[i,] = diag(cor(trueCountsAgg[depth==i,], yAggMI0[depth==i,], method = \"spearman\"))\n",
    "    n <- paste(\"Depth\", i, sep=\"_\")\n",
    "    dfT[[n]] <- mat[i,]\n",
    "    mat[i,] = sapply(seq_along(colnames(seBrainSim)), function(j) comp_mard(trueCountsAgg[depth==i,j], yAggMI0[depth==i,j]))\n",
    "    dfT2[[n]] <- mat[i,]\n",
    "}\n",
    "colMeans(dfT[,2:8])\n",
    "colMeans(dfT2[,2:8])\n",
    "\n",
    "dfCor <- rbind(dfCor, dfT)\n",
    "dfMard <- rbind(dfMard, dfT2)\n"
   ]
  },
  {
   "cell_type": "code",
   "execution_count": 114,
   "id": "3efe7fea",
   "metadata": {},
   "outputs": [
    {
     "name": "stderr",
     "output_type": "stream",
     "text": [
      "\u001b[1m\u001b[22mAdding missing grouping variables: `Type`\n"
     ]
    },
    {
     "data": {
      "text/html": [
       "<table class=\"dataframe\">\n",
       "<caption>A tibble: 4 × 8</caption>\n",
       "<thead>\n",
       "\t<tr><th scope=col>Type</th><th scope=col>Depth_1_mean</th><th scope=col>Depth_2_mean</th><th scope=col>Depth_3_mean</th><th scope=col>Depth_4_mean</th><th scope=col>Depth_5_mean</th><th scope=col>Depth_6_mean</th><th scope=col>Depth_7_mean</th></tr>\n",
       "\t<tr><th scope=col>&lt;chr&gt;</th><th scope=col>&lt;dbl&gt;</th><th scope=col>&lt;dbl&gt;</th><th scope=col>&lt;dbl&gt;</th><th scope=col>&lt;dbl&gt;</th><th scope=col>&lt;dbl&gt;</th><th scope=col>&lt;dbl&gt;</th><th scope=col>&lt;dbl&gt;</th></tr>\n",
       "</thead>\n",
       "<tbody>\n",
       "\t<tr><td>Anti-Correlation</td><td>0.9448149</td><td>0.9913943</td><td>0.9977744</td><td>0.9994178</td><td>0.9997756</td><td>0.9998456</td><td>0.9999731</td></tr>\n",
       "\t<tr><td>Consensus       </td><td>0.9448149</td><td>0.9910081</td><td>0.9955883</td><td>0.9976570</td><td>0.9986886</td><td>0.9992657</td><td>0.9997477</td></tr>\n",
       "\t<tr><td>Mean Inf        </td><td>0.9448149</td><td>0.9976634</td><td>0.9991590</td><td>0.9994891</td><td>0.9996490</td><td>0.9997309</td><td>0.9999152</td></tr>\n",
       "\t<tr><td>Mean Inf0       </td><td>0.9446949</td><td>0.9986109</td><td>0.9996749</td><td>0.9998361</td><td>0.9998941</td><td>0.9999174</td><td>0.9999696</td></tr>\n",
       "</tbody>\n",
       "</table>\n"
      ],
      "text/latex": [
       "A tibble: 4 × 8\n",
       "\\begin{tabular}{llllllll}\n",
       " Type & Depth\\_1\\_mean & Depth\\_2\\_mean & Depth\\_3\\_mean & Depth\\_4\\_mean & Depth\\_5\\_mean & Depth\\_6\\_mean & Depth\\_7\\_mean\\\\\n",
       " <chr> & <dbl> & <dbl> & <dbl> & <dbl> & <dbl> & <dbl> & <dbl>\\\\\n",
       "\\hline\n",
       "\t Anti-Correlation & 0.9448149 & 0.9913943 & 0.9977744 & 0.9994178 & 0.9997756 & 0.9998456 & 0.9999731\\\\\n",
       "\t Consensus        & 0.9448149 & 0.9910081 & 0.9955883 & 0.9976570 & 0.9986886 & 0.9992657 & 0.9997477\\\\\n",
       "\t Mean Inf         & 0.9448149 & 0.9976634 & 0.9991590 & 0.9994891 & 0.9996490 & 0.9997309 & 0.9999152\\\\\n",
       "\t Mean Inf0        & 0.9446949 & 0.9986109 & 0.9996749 & 0.9998361 & 0.9998941 & 0.9999174 & 0.9999696\\\\\n",
       "\\end{tabular}\n"
      ],
      "text/markdown": [
       "\n",
       "A tibble: 4 × 8\n",
       "\n",
       "| Type &lt;chr&gt; | Depth_1_mean &lt;dbl&gt; | Depth_2_mean &lt;dbl&gt; | Depth_3_mean &lt;dbl&gt; | Depth_4_mean &lt;dbl&gt; | Depth_5_mean &lt;dbl&gt; | Depth_6_mean &lt;dbl&gt; | Depth_7_mean &lt;dbl&gt; |\n",
       "|---|---|---|---|---|---|---|---|\n",
       "| Anti-Correlation | 0.9448149 | 0.9913943 | 0.9977744 | 0.9994178 | 0.9997756 | 0.9998456 | 0.9999731 |\n",
       "| Consensus        | 0.9448149 | 0.9910081 | 0.9955883 | 0.9976570 | 0.9986886 | 0.9992657 | 0.9997477 |\n",
       "| Mean Inf         | 0.9448149 | 0.9976634 | 0.9991590 | 0.9994891 | 0.9996490 | 0.9997309 | 0.9999152 |\n",
       "| Mean Inf0        | 0.9446949 | 0.9986109 | 0.9996749 | 0.9998361 | 0.9998941 | 0.9999174 | 0.9999696 |\n",
       "\n"
      ],
      "text/plain": [
       "  Type             Depth_1_mean Depth_2_mean Depth_3_mean Depth_4_mean\n",
       "1 Anti-Correlation 0.9448149    0.9913943    0.9977744    0.9994178   \n",
       "2 Consensus        0.9448149    0.9910081    0.9955883    0.9976570   \n",
       "3 Mean Inf         0.9448149    0.9976634    0.9991590    0.9994891   \n",
       "4 Mean Inf0        0.9446949    0.9986109    0.9996749    0.9998361   \n",
       "  Depth_5_mean Depth_6_mean Depth_7_mean\n",
       "1 0.9997756    0.9998456    0.9999731   \n",
       "2 0.9986886    0.9992657    0.9997477   \n",
       "3 0.9996490    0.9997309    0.9999152   \n",
       "4 0.9998941    0.9999174    0.9999696   "
      ]
     },
     "metadata": {},
     "output_type": "display_data"
    },
    {
     "name": "stderr",
     "output_type": "stream",
     "text": [
      "\u001b[1m\u001b[22mAdding missing grouping variables: `Type`\n"
     ]
    },
    {
     "data": {
      "text/html": [
       "<table class=\"dataframe\">\n",
       "<caption>A tibble: 4 × 8</caption>\n",
       "<thead>\n",
       "\t<tr><th scope=col>Type</th><th scope=col>Depth_1_mean</th><th scope=col>Depth_2_mean</th><th scope=col>Depth_3_mean</th><th scope=col>Depth_4_mean</th><th scope=col>Depth_5_mean</th><th scope=col>Depth_6_mean</th><th scope=col>Depth_7_mean</th></tr>\n",
       "\t<tr><th scope=col>&lt;chr&gt;</th><th scope=col>&lt;dbl&gt;</th><th scope=col>&lt;dbl&gt;</th><th scope=col>&lt;dbl&gt;</th><th scope=col>&lt;dbl&gt;</th><th scope=col>&lt;dbl&gt;</th><th scope=col>&lt;dbl&gt;</th><th scope=col>&lt;dbl&gt;</th></tr>\n",
       "</thead>\n",
       "<tbody>\n",
       "\t<tr><td>Anti-Correlation</td><td>0.09940096</td><td>0.06844116</td><td>0.02929967</td><td>0.013500659</td><td>0.006791058</td><td>0.004010136</td><td>0.002000134</td></tr>\n",
       "\t<tr><td>Consensus       </td><td>0.99993000</td><td>0.99955032</td><td>0.99992230</td><td>0.999961021</td><td>0.999964303</td><td>0.999986354</td><td>0.999999998</td></tr>\n",
       "\t<tr><td>Mean Inf        </td><td>0.09940096</td><td>0.03485119</td><td>0.02631151</td><td>0.022779845</td><td>0.019636236</td><td>0.017965069</td><td>0.010082454</td></tr>\n",
       "\t<tr><td>Mean Inf0       </td><td>0.09520859</td><td>0.02518964</td><td>0.01103742</td><td>0.006958612</td><td>0.004819988</td><td>0.003715719</td><td>0.001796846</td></tr>\n",
       "</tbody>\n",
       "</table>\n"
      ],
      "text/latex": [
       "A tibble: 4 × 8\n",
       "\\begin{tabular}{llllllll}\n",
       " Type & Depth\\_1\\_mean & Depth\\_2\\_mean & Depth\\_3\\_mean & Depth\\_4\\_mean & Depth\\_5\\_mean & Depth\\_6\\_mean & Depth\\_7\\_mean\\\\\n",
       " <chr> & <dbl> & <dbl> & <dbl> & <dbl> & <dbl> & <dbl> & <dbl>\\\\\n",
       "\\hline\n",
       "\t Anti-Correlation & 0.09940096 & 0.06844116 & 0.02929967 & 0.013500659 & 0.006791058 & 0.004010136 & 0.002000134\\\\\n",
       "\t Consensus        & 0.99993000 & 0.99955032 & 0.99992230 & 0.999961021 & 0.999964303 & 0.999986354 & 0.999999998\\\\\n",
       "\t Mean Inf         & 0.09940096 & 0.03485119 & 0.02631151 & 0.022779845 & 0.019636236 & 0.017965069 & 0.010082454\\\\\n",
       "\t Mean Inf0        & 0.09520859 & 0.02518964 & 0.01103742 & 0.006958612 & 0.004819988 & 0.003715719 & 0.001796846\\\\\n",
       "\\end{tabular}\n"
      ],
      "text/markdown": [
       "\n",
       "A tibble: 4 × 8\n",
       "\n",
       "| Type &lt;chr&gt; | Depth_1_mean &lt;dbl&gt; | Depth_2_mean &lt;dbl&gt; | Depth_3_mean &lt;dbl&gt; | Depth_4_mean &lt;dbl&gt; | Depth_5_mean &lt;dbl&gt; | Depth_6_mean &lt;dbl&gt; | Depth_7_mean &lt;dbl&gt; |\n",
       "|---|---|---|---|---|---|---|---|\n",
       "| Anti-Correlation | 0.09940096 | 0.06844116 | 0.02929967 | 0.013500659 | 0.006791058 | 0.004010136 | 0.002000134 |\n",
       "| Consensus        | 0.99993000 | 0.99955032 | 0.99992230 | 0.999961021 | 0.999964303 | 0.999986354 | 0.999999998 |\n",
       "| Mean Inf         | 0.09940096 | 0.03485119 | 0.02631151 | 0.022779845 | 0.019636236 | 0.017965069 | 0.010082454 |\n",
       "| Mean Inf0        | 0.09520859 | 0.02518964 | 0.01103742 | 0.006958612 | 0.004819988 | 0.003715719 | 0.001796846 |\n",
       "\n"
      ],
      "text/plain": [
       "  Type             Depth_1_mean Depth_2_mean Depth_3_mean Depth_4_mean\n",
       "1 Anti-Correlation 0.09940096   0.06844116   0.02929967   0.013500659 \n",
       "2 Consensus        0.99993000   0.99955032   0.99992230   0.999961021 \n",
       "3 Mean Inf         0.09940096   0.03485119   0.02631151   0.022779845 \n",
       "4 Mean Inf0        0.09520859   0.02518964   0.01103742   0.006958612 \n",
       "  Depth_5_mean Depth_6_mean Depth_7_mean\n",
       "1 0.006791058  0.004010136  0.002000134 \n",
       "2 0.999964303  0.999986354  0.999999998 \n",
       "3 0.019636236  0.017965069  0.010082454 \n",
       "4 0.004819988  0.003715719  0.001796846 "
      ]
     },
     "metadata": {},
     "output_type": "display_data"
    }
   ],
   "source": [
    "dfCor %>% group_by(Type) %>% select(starts_with(\"Depth\")) %>% summarise_all(.funs = c(mean=\"mean\"))\n",
    "dfMard %>% group_by(Type) %>% select(starts_with(\"Depth\")) %>% summarise_all(.funs = c(mean=\"mean\"))\n"
   ]
  },
  {
   "cell_type": "code",
   "execution_count": null,
   "id": "e01b3b2a",
   "metadata": {},
   "outputs": [],
   "source": []
  }
 ],
 "metadata": {
  "kernelspec": {
   "display_name": "R",
   "language": "R",
   "name": "ir"
  },
  "language_info": {
   "codemirror_mode": "r",
   "file_extension": ".r",
   "mimetype": "text/x-r-source",
   "name": "R",
   "pygments_lexer": "r",
   "version": "4.1.1"
  }
 },
 "nbformat": 4,
 "nbformat_minor": 5
}
