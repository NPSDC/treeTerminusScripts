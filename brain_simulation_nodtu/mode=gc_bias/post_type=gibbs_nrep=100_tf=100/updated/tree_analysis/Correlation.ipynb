{
 "cells": [
  {
   "cell_type": "code",
   "execution_count": 90,
   "id": "2da1faa3",
   "metadata": {},
   "outputs": [],
   "source": [
    "setwd('/fs/cbcb-lab/rob/students/noor/Uncertainity/treeTerminusScripts')\n",
    "suppressPackageStartupMessages(source(\"tree_helper_function.R\"))\n",
    "suppressPackageStartupMessages(library(ggplot2))\n",
    "suppressPackageStartupMessages(library(dplyr))\n",
    "load(\"environment/brain_sim_nodtu/mode=gc_bias/mapDf.RData\")\n",
    "# load(\"environment/brain_sim_nodtu/mode=gc_bias/post_type=gibbs_nrep=100_tf=100/seBrainSim.RData\")\n",
    "trueCountsDir <- \"/fs/cbcb-lab/rob/students/noor/Uncertainity/brain_sim_nodtu/mode=gc_bias/reads_fastq\"\n",
    "\n",
    "trueCountsDf <- lapply(seq(12), function(i) {\n",
    "    samp <- ifelse(i<=6,i,i-6)\n",
    "    rep <- ifelse(i<=6,1,2)\n",
    "    file <- file.path(trueCountsDir, samp, paste(paste(\"true_counts\", rep,sep=\"_\"),\"tsv\",sep=\".\"))\n",
    "    df <- read.delim(file, row.names = 1)\n",
    "})\n",
    "\n",
    "comp_mard <- function(x, y, cutoff = 0.01) {\n",
    "    if(length(x) != length(y))\n",
    "        stop(paste(length(x), length(y)))\n",
    "    relDiff <- rep(0, length(x))\n",
    "    zInds <- which(x <= cutoff & y <= cutoff)\n",
    "#     print(length(zInds)/length(x))\n",
    "    nzInds <- setdiff(seq_along(x), zInds)\n",
    "    relDiff[nzInds] <- abs(x[nzInds] - y[nzInds])/(x[nzInds] + y[nzInds])\n",
    "    return(sum(relDiff)/length(x))\n",
    "}"
   ]
  },
  {
   "cell_type": "code",
   "execution_count": 3,
   "id": "dbca12e4",
   "metadata": {},
   "outputs": [],
   "source": [
    "load(\"environment/brain_sim_nodtu/mode=gc_bias/post_type=gibbs_nrep=100_tf=100/seBrainSim.RData\")\n",
    "load(\"environment/brain_sim_nodtu/mode=gc_bias/post_type=gibbs_nrep=100_tf=100/mean_cons/treeCons.RData\")\n",
    "load(\"environment/brain_sim_nodtu/mode=gc_bias/post_type=gibbs_nrep=100_tf=100/mean_cons/treeCor.RData\")\n",
    "load(\"environment/brain_sim_nodtu/mode=gc_bias/post_type=gibbs_nrep=100_tf=100/mean_cons/treeMC.RData\")\n",
    "load(\"environment/brain_sim_nodtu/mode=gc_bias/post_type=gibbs_nrep=100_tf=100/mean_cons/treeMC0.RData\")\n",
    "load(\"environment/brain_sim_nodtu/mode=gc_bias/post_type=gibbs_nrep=100_tf=100/mean_cons/treeThr.RData\")\n",
    "load(\"environment/brain_sim_nodtu/mode=gc_bias/post_type=gibbs_nrep=100_tf=100/updated/comp_trees/lfcCuts_len.RData\")\n",
    "load(\"environment/brain_sim_nodtu/mode=gc_bias/post_type=gibbs_nrep=100_tf=100/updated/comp_trees/lfcCuts_nolen.RData\")"
   ]
  },
  {
   "cell_type": "code",
   "execution_count": 178,
   "id": "0296c927",
   "metadata": {},
   "outputs": [],
   "source": [
    "dfCor <- data.frame(matrix(nrow=ncol(seBrainSim),ncol=9))\n",
    "colnames(dfCor) <- c(\"Sample\", paste(\"Depth\",c(1:7), sep=\"_\"), \"Type\")\n",
    "\n",
    "dfMard <- data.frame(matrix(nrow=ncol(seBrainSim),ncol=9))\n",
    "colnames(dfMard) <- c(\"Sample\", paste(\"Depth\",c(1:7), sep=\"_\"), \"Type\")"
   ]
  },
  {
   "cell_type": "markdown",
   "id": "9a293837",
   "metadata": {},
   "source": [
    "#### Consensus"
   ]
  },
  {
   "cell_type": "code",
   "execution_count": 179,
   "id": "f7994829",
   "metadata": {},
   "outputs": [
    {
     "name": "stdout",
     "output_type": "stream",
     "text": [
      "[1] \"Missing txps 925\"\n"
     ]
    }
   ],
   "source": [
    "consTxps <- treeCons$tip.label\n",
    "trueTxps <- Reduce(union, lapply(trueCountsDf, function(df) rownames(df)))\n",
    "allTxps <- union(consTxps, trueTxps)\n",
    "mb <- mergeLeaves(treeCons, seBrainSim[allTxps,])\n",
    "yCons <- mb[[\"ySwish\"]]\n",
    "tr <- mb[[\"tree\"]]\n",
    "yAggCons <- computeAggNodesU(tree=tr, nodeID=seq(length(tr$tip)+tr$Nnode), se_counts=assays(yCons)[[\"counts\"]])"
   ]
  },
  {
   "cell_type": "code",
   "execution_count": 180,
   "id": "078fb2b0",
   "metadata": {},
   "outputs": [],
   "source": [
    "trueCountsDfU <- lapply(trueCountsDf, function(df) {\n",
    "    mtnames <- setdiff(allTxps, rownames(df))\n",
    "    rbind(df, data.frame(Counts=rep(0,length(mtnames)), row.names = mtnames))\n",
    "})\n",
    "rnames <- rownames(trueCountsDfU[[1]])\n",
    "trueCountsDfU <- lapply(trueCountsDfU, function(df) {\n",
    "    df <- df[rnames,]\n",
    "    df\n",
    "})\n",
    "trueCountsDfU <- do.call(cbind,trueCountsDfU)\n",
    "\n",
    "colnames(trueCountsDfU) <- colnames(seBrainSim)\n",
    "rownames(trueCountsDfU) <- rnames\n",
    "\n",
    "trueCountsDfU <- trueCountsDfU[tr$tip,]\n",
    "\n",
    "trueCountsAgg <- computeAggNodesU(tree=tr, nodeID=seq(length(tr$tip)+tr$Nnode), se_counts=trueCountsDfU)"
   ]
  },
  {
   "cell_type": "code",
   "execution_count": 181,
   "id": "f72cb53e",
   "metadata": {
    "scrolled": true
   },
   "outputs": [],
   "source": [
    "depth <- node.depth(tr,2)\n",
    "depth[depth > 6] = 7\n",
    "dfCor$Sample <- colnames(seBrainSim)\n",
    "dfCor$Type <- rep(\"Consensus\", ncol(seBrainSim))\n",
    "dfMard$Sample <- colnames(seBrainSim)\n",
    "dfMard$Type <- rep(\"Consensus\", ncol(seBrainSim))\n",
    "\n",
    "# head(dfCor)\n",
    "mat <- matrix(0, ncol=ncol(seBrainSim), nrow=7)\n",
    "for(i in seq(7)) {\n",
    "    mat[i,] = diag(cor(trueCountsAgg[depth==i,], yAggCons[depth==i,], method = \"spearman\"))\n",
    "    n <- paste(\"Depth\", i, sep=\"_\")\n",
    "    dfCor[[n]] <- mat[i,]\n",
    "    mat[i,] = sapply(seq_along(colnames(seBrainSim)), function(j) comp_mard(trueCountsAgg[depth==i,j], yAggCons[depth==i,j]))\n",
    "    dfMard[[n]] <- mat[i,]\n",
    "}\n",
    "\n"
   ]
  },
  {
   "cell_type": "code",
   "execution_count": 182,
   "id": "ea4a3d11",
   "metadata": {},
   "outputs": [
    {
     "data": {
      "text/html": [
       "87215"
      ],
      "text/latex": [
       "87215"
      ],
      "text/markdown": [
       "87215"
      ],
      "text/plain": [
       "[1] 87215"
      ]
     },
     "metadata": {},
     "output_type": "display_data"
    }
   ],
   "source": [
    "cons1 <- dCuts$Consensus\n",
    "cons1I <- cons1[cons1 > length(treeCons$tip)]\n",
    "cons1I <- cons1I + length(tr$tip)-length(treeCons$tip)\n",
    "\n",
    "cons2 <- dCutsNL$Consensus\n",
    "cons2I <- cons2[cons2 > length(treeCons$tip)]\n",
    "cons2I <- cons2I + length(tr$tip)-length(treeCons$tip)\n",
    "cons2L <- match(treeCons$tip[cons2[cons2 <= length(treeCons$tip)]], tr$tip)\n",
    "cons1L <- match(treeCons$tip[cons1[cons1 <= length(treeCons$tip)]], tr$tip)\n",
    "cons1 <- c(cons1L, cons1I)\n",
    "cons2 <- c(cons2L, cons2I)\n",
    "length(cons2)\n",
    "\n",
    "group <- Descendants(tr, length(tr$tip)+1, \"children\")\n",
    "\n",
    "dfCor <- cbind(dfCor, lfc_len=diag(cor(trueCountsAgg[cons1,], yAggCons[cons1,],method=\"spearman\")))\n",
    "dfCor <- cbind(dfCor, lfc_nlen=diag(cor(trueCountsAgg[cons2,], yAggCons[cons2,],method=\"spearman\")))\n",
    "dfCor <- cbind(dfCor, group=diag(cor(trueCountsAgg[group,], yAggCons[group,],method=\"spearman\")))\n",
    "\n",
    "dfMard <- cbind(dfMard, lfc_len=sapply(seq_along(colnames(seBrainSim)), function(j) comp_mard(trueCountsAgg[cons1,j], yAggCons[cons1,j])))\n",
    "dfMard <- cbind(dfMard, lfc_nlen=sapply(seq_along(colnames(seBrainSim)), function(j) comp_mard(trueCountsAgg[cons2,j], yAggCons[cons2,j])))\n",
    "dfMard <- cbind(dfMard, group=sapply(seq_along(colnames(seBrainSim)), function(j) comp_mard(trueCountsAgg[group,j], yAggCons[group,j])))\n",
    "rm(cons1,cons2,group)"
   ]
  },
  {
   "cell_type": "markdown",
   "id": "a40ad7c9",
   "metadata": {},
   "source": [
    "#### Correlation Tree"
   ]
  },
  {
   "cell_type": "code",
   "execution_count": 183,
   "id": "34dd39d2",
   "metadata": {},
   "outputs": [
    {
     "name": "stdout",
     "output_type": "stream",
     "text": [
      "[1] \"Missing txps 925\"\n"
     ]
    }
   ],
   "source": [
    "corTxps <- treeCor$tip.label\n",
    "trueTxps <- Reduce(union, lapply(trueCountsDf, function(df) rownames(df)))\n",
    "allTxps <- union(corTxps, trueTxps)\n",
    "mb <- mergeLeaves(treeCor, seBrainSim[allTxps,])\n",
    "yCor <- mb[[\"ySwish\"]]\n",
    "tr <- mb[[\"tree\"]]\n",
    "yAggCor <- computeAggNodesU(tree=tr, nodeID=seq(length(tr$tip)+tr$Nnode), se_counts=assays(yCor)[[\"counts\"]])"
   ]
  },
  {
   "cell_type": "code",
   "execution_count": 184,
   "id": "9a42dde9",
   "metadata": {},
   "outputs": [],
   "source": [
    "trueCountsDfU <- lapply(trueCountsDf, function(df) {\n",
    "    mtnames <- setdiff(allTxps, rownames(df))\n",
    "    rbind(df, data.frame(Counts=rep(0,length(mtnames)), row.names = mtnames))\n",
    "})\n",
    "rnames <- rownames(trueCountsDfU[[1]])\n",
    "trueCountsDfU <- lapply(trueCountsDfU, function(df) {\n",
    "    df <- df[rnames,]\n",
    "    df\n",
    "})\n",
    "trueCountsDfU <- do.call(cbind,trueCountsDfU)\n",
    "\n",
    "colnames(trueCountsDfU) <- colnames(seBrainSim)\n",
    "rownames(trueCountsDfU) <- rnames\n",
    "\n",
    "trueCountsDfU <- trueCountsDfU[tr$tip,]\n",
    "\n",
    "trueCountsAgg <- computeAggNodesU(tree=tr, nodeID=seq(length(tr$tip)+tr$Nnode), se_counts=trueCountsDfU)"
   ]
  },
  {
   "cell_type": "code",
   "execution_count": 185,
   "id": "b96086e5",
   "metadata": {},
   "outputs": [],
   "source": [
    "depth <- node.depth(tr,2)\n",
    "depth[depth > 6] = 7\n",
    "\n",
    "dfT <- data.frame(matrix(nrow=ncol(seBrainSim),ncol=9))\n",
    "colnames(dfT) <- c(\"Sample\", paste(\"Depth\",c(1:7), sep=\"_\"), \"Type\")\n",
    "\n",
    "dfT2 <- data.frame(matrix(nrow=ncol(seBrainSim),ncol=9))\n",
    "colnames(dfT2) <- c(\"Sample\", paste(\"Depth\",c(1:7), sep=\"_\"), \"Type\")\n",
    "\n",
    "\n",
    "dfT$Sample <- colnames(seBrainSim)\n",
    "dfT$Type <- rep(\"Anti-Correlation\", ncol(seBrainSim))\n",
    "dfT2$Sample <- colnames(seBrainSim)\n",
    "dfT2$Type <- rep(\"Anti-Correlation\", ncol(seBrainSim))\n",
    "# head(dfCor)\n",
    "mat <- matrix(0, ncol=ncol(seBrainSim), nrow=7)\n",
    "for(i in seq(7)) {\n",
    "    mat[i,] = diag(cor(trueCountsAgg[depth==i,], yAggCor[depth==i,], method = \"spearman\"))\n",
    "    n <- paste(\"Depth\", i, sep=\"_\")\n",
    "    dfT[[n]] <- mat[i,]\n",
    "    mat[i,] = sapply(seq_along(colnames(seBrainSim)), function(j) comp_mard(trueCountsAgg[depth==i,j], yAggCor[depth==i,j]))\n",
    "    dfT2[[n]] <- mat[i,]\n",
    "}\n"
   ]
  },
  {
   "cell_type": "code",
   "execution_count": 186,
   "id": "bed68d54",
   "metadata": {},
   "outputs": [
    {
     "data": {
      "text/html": [
       "61286"
      ],
      "text/latex": [
       "61286"
      ],
      "text/markdown": [
       "61286"
      ],
      "text/plain": [
       "[1] 61286"
      ]
     },
     "metadata": {},
     "output_type": "display_data"
    }
   ],
   "source": [
    "ac1 <- dCuts$`Anti-Correlation`\n",
    "ac1I <- ac1[ac1 > length(treeCor$tip)]\n",
    "ac1I <- ac1I + length(tr$tip)-length(treeCor$tip)\n",
    "ac1L <- match(treeCor$tip[ac1[ac1 <= length(treeCor$tip)]], tr$tip)\n",
    "ac1 <- c(ac1L, ac1I)\n",
    "\n",
    "ac2 <- dCutsNL$`Anti-Correlation`\n",
    "ac2I <- ac2[ac2 > length(treeCor$tip)]\n",
    "ac2I <- ac2I + length(tr$tip)-length(treeCor$tip)\n",
    "ac2L <- match(treeCor$tip[ac2[ac2 <= length(treeCor$tip)]], tr$tip)\n",
    "ac2 <- c(ac2L, ac2I)\n",
    "\n",
    "group <- Descendants(tr, length(tr$tip)+1, \"children\")\n",
    "\n",
    "dfT <- cbind(dfT, lfc_len=diag(cor(trueCountsAgg[ac1,], yAggCor[ac1,],method=\"spearman\")))\n",
    "dfT <- cbind(dfT, lfc_nlen=diag(cor(trueCountsAgg[ac2,], yAggCor[ac2,],method=\"spearman\")))\n",
    "dfT <- cbind(dfT, group=diag(cor(trueCountsAgg[group,], yAggCor[group,],method=\"spearman\")))\n",
    "\n",
    "dfT2 <- cbind(dfT2, lfc_len=sapply(seq_along(colnames(seBrainSim)), function(j) comp_mard(trueCountsAgg[ac1,j], yAggCor[ac1,j])))\n",
    "dfT2 <- cbind(dfT2, lfc_nlen=sapply(seq_along(colnames(seBrainSim)), function(j) comp_mard(trueCountsAgg[ac2,j], yAggCor[ac2,j])))\n",
    "dfT2 <- cbind(dfT2, group=sapply(seq_along(colnames(seBrainSim)), function(j) comp_mard(trueCountsAgg[group,j], yAggCor[group,j])))\n",
    "\n",
    "dfCor <- rbind(dfCor, dfT)\n",
    "dfMard <- rbind(dfMard, dfT2)\n",
    "length(group)\n",
    "rm(ac1, ac2,group)"
   ]
  },
  {
   "cell_type": "code",
   "execution_count": 187,
   "id": "ac3276f6",
   "metadata": {},
   "outputs": [
    {
     "name": "stderr",
     "output_type": "stream",
     "text": [
      "\u001b[1m\u001b[22mAdding missing grouping variables: `Type`\n"
     ]
    },
    {
     "data": {
      "text/html": [
       "<table class=\"dataframe\">\n",
       "<caption>A tibble: 2 × 8</caption>\n",
       "<thead>\n",
       "\t<tr><th scope=col>Type</th><th scope=col>Depth_1_mean</th><th scope=col>Depth_2_mean</th><th scope=col>Depth_3_mean</th><th scope=col>Depth_4_mean</th><th scope=col>Depth_5_mean</th><th scope=col>Depth_6_mean</th><th scope=col>Depth_7_mean</th></tr>\n",
       "\t<tr><th scope=col>&lt;chr&gt;</th><th scope=col>&lt;dbl&gt;</th><th scope=col>&lt;dbl&gt;</th><th scope=col>&lt;dbl&gt;</th><th scope=col>&lt;dbl&gt;</th><th scope=col>&lt;dbl&gt;</th><th scope=col>&lt;dbl&gt;</th><th scope=col>&lt;dbl&gt;</th></tr>\n",
       "</thead>\n",
       "<tbody>\n",
       "\t<tr><td>Anti-Correlation</td><td>0.9448149</td><td>0.9913943</td><td>0.9977744</td><td>0.9994178</td><td>0.9997756</td><td>0.9998456</td><td>0.9999731</td></tr>\n",
       "\t<tr><td>Consensus       </td><td>0.9448149</td><td>0.9910081</td><td>0.9955883</td><td>0.9976570</td><td>0.9986886</td><td>0.9992657</td><td>0.9997477</td></tr>\n",
       "</tbody>\n",
       "</table>\n"
      ],
      "text/latex": [
       "A tibble: 2 × 8\n",
       "\\begin{tabular}{llllllll}\n",
       " Type & Depth\\_1\\_mean & Depth\\_2\\_mean & Depth\\_3\\_mean & Depth\\_4\\_mean & Depth\\_5\\_mean & Depth\\_6\\_mean & Depth\\_7\\_mean\\\\\n",
       " <chr> & <dbl> & <dbl> & <dbl> & <dbl> & <dbl> & <dbl> & <dbl>\\\\\n",
       "\\hline\n",
       "\t Anti-Correlation & 0.9448149 & 0.9913943 & 0.9977744 & 0.9994178 & 0.9997756 & 0.9998456 & 0.9999731\\\\\n",
       "\t Consensus        & 0.9448149 & 0.9910081 & 0.9955883 & 0.9976570 & 0.9986886 & 0.9992657 & 0.9997477\\\\\n",
       "\\end{tabular}\n"
      ],
      "text/markdown": [
       "\n",
       "A tibble: 2 × 8\n",
       "\n",
       "| Type &lt;chr&gt; | Depth_1_mean &lt;dbl&gt; | Depth_2_mean &lt;dbl&gt; | Depth_3_mean &lt;dbl&gt; | Depth_4_mean &lt;dbl&gt; | Depth_5_mean &lt;dbl&gt; | Depth_6_mean &lt;dbl&gt; | Depth_7_mean &lt;dbl&gt; |\n",
       "|---|---|---|---|---|---|---|---|\n",
       "| Anti-Correlation | 0.9448149 | 0.9913943 | 0.9977744 | 0.9994178 | 0.9997756 | 0.9998456 | 0.9999731 |\n",
       "| Consensus        | 0.9448149 | 0.9910081 | 0.9955883 | 0.9976570 | 0.9986886 | 0.9992657 | 0.9997477 |\n",
       "\n"
      ],
      "text/plain": [
       "  Type             Depth_1_mean Depth_2_mean Depth_3_mean Depth_4_mean\n",
       "1 Anti-Correlation 0.9448149    0.9913943    0.9977744    0.9994178   \n",
       "2 Consensus        0.9448149    0.9910081    0.9955883    0.9976570   \n",
       "  Depth_5_mean Depth_6_mean Depth_7_mean\n",
       "1 0.9997756    0.9998456    0.9999731   \n",
       "2 0.9986886    0.9992657    0.9997477   "
      ]
     },
     "metadata": {},
     "output_type": "display_data"
    },
    {
     "name": "stderr",
     "output_type": "stream",
     "text": [
      "\u001b[1m\u001b[22mAdding missing grouping variables: `Type`\n"
     ]
    },
    {
     "data": {
      "text/html": [
       "<table class=\"dataframe\">\n",
       "<caption>A tibble: 2 × 8</caption>\n",
       "<thead>\n",
       "\t<tr><th scope=col>Type</th><th scope=col>Depth_1_mean</th><th scope=col>Depth_2_mean</th><th scope=col>Depth_3_mean</th><th scope=col>Depth_4_mean</th><th scope=col>Depth_5_mean</th><th scope=col>Depth_6_mean</th><th scope=col>Depth_7_mean</th></tr>\n",
       "\t<tr><th scope=col>&lt;chr&gt;</th><th scope=col>&lt;dbl&gt;</th><th scope=col>&lt;dbl&gt;</th><th scope=col>&lt;dbl&gt;</th><th scope=col>&lt;dbl&gt;</th><th scope=col>&lt;dbl&gt;</th><th scope=col>&lt;dbl&gt;</th><th scope=col>&lt;dbl&gt;</th></tr>\n",
       "</thead>\n",
       "<tbody>\n",
       "\t<tr><td>Anti-Correlation</td><td>0.09940096</td><td>0.06844116</td><td>0.02929967</td><td>0.01350066</td><td>0.006791058</td><td>0.004010136</td><td>0.002000134</td></tr>\n",
       "\t<tr><td>Consensus       </td><td>0.09940096</td><td>0.06253313</td><td>0.05639070</td><td>0.04831245</td><td>0.040397517</td><td>0.032071083</td><td>0.017485159</td></tr>\n",
       "</tbody>\n",
       "</table>\n"
      ],
      "text/latex": [
       "A tibble: 2 × 8\n",
       "\\begin{tabular}{llllllll}\n",
       " Type & Depth\\_1\\_mean & Depth\\_2\\_mean & Depth\\_3\\_mean & Depth\\_4\\_mean & Depth\\_5\\_mean & Depth\\_6\\_mean & Depth\\_7\\_mean\\\\\n",
       " <chr> & <dbl> & <dbl> & <dbl> & <dbl> & <dbl> & <dbl> & <dbl>\\\\\n",
       "\\hline\n",
       "\t Anti-Correlation & 0.09940096 & 0.06844116 & 0.02929967 & 0.01350066 & 0.006791058 & 0.004010136 & 0.002000134\\\\\n",
       "\t Consensus        & 0.09940096 & 0.06253313 & 0.05639070 & 0.04831245 & 0.040397517 & 0.032071083 & 0.017485159\\\\\n",
       "\\end{tabular}\n"
      ],
      "text/markdown": [
       "\n",
       "A tibble: 2 × 8\n",
       "\n",
       "| Type &lt;chr&gt; | Depth_1_mean &lt;dbl&gt; | Depth_2_mean &lt;dbl&gt; | Depth_3_mean &lt;dbl&gt; | Depth_4_mean &lt;dbl&gt; | Depth_5_mean &lt;dbl&gt; | Depth_6_mean &lt;dbl&gt; | Depth_7_mean &lt;dbl&gt; |\n",
       "|---|---|---|---|---|---|---|---|\n",
       "| Anti-Correlation | 0.09940096 | 0.06844116 | 0.02929967 | 0.01350066 | 0.006791058 | 0.004010136 | 0.002000134 |\n",
       "| Consensus        | 0.09940096 | 0.06253313 | 0.05639070 | 0.04831245 | 0.040397517 | 0.032071083 | 0.017485159 |\n",
       "\n"
      ],
      "text/plain": [
       "  Type             Depth_1_mean Depth_2_mean Depth_3_mean Depth_4_mean\n",
       "1 Anti-Correlation 0.09940096   0.06844116   0.02929967   0.01350066  \n",
       "2 Consensus        0.09940096   0.06253313   0.05639070   0.04831245  \n",
       "  Depth_5_mean Depth_6_mean Depth_7_mean\n",
       "1 0.006791058  0.004010136  0.002000134 \n",
       "2 0.040397517  0.032071083  0.017485159 "
      ]
     },
     "metadata": {},
     "output_type": "display_data"
    }
   ],
   "source": [
    "dfCor %>% group_by(Type) %>% select(starts_with(\"Depth\")) %>% summarise_all(.funs = c(mean=\"mean\"))\n",
    "dfMard %>% group_by(Type) %>% select(starts_with(\"Depth\")) %>% summarise_all(.funs = c(mean=\"mean\"))\n"
   ]
  },
  {
   "cell_type": "markdown",
   "id": "5ed4c550",
   "metadata": {},
   "source": [
    "#### Mean Consensus"
   ]
  },
  {
   "cell_type": "code",
   "execution_count": 188,
   "id": "411ca17d",
   "metadata": {},
   "outputs": [
    {
     "name": "stdout",
     "output_type": "stream",
     "text": [
      "[1] \"Missing txps 925\"\n"
     ]
    }
   ],
   "source": [
    "miTxps <- treeMC$tip.label\n",
    "trueTxps <- Reduce(union, lapply(trueCountsDf, function(df) rownames(df)))\n",
    "allTxps <- union(miTxps, trueTxps)\n",
    "mb <- mergeLeaves(treeMC, seBrainSim[allTxps,])\n",
    "yMI <- mb[[\"ySwish\"]]\n",
    "tr <- mb[[\"tree\"]]\n",
    "yAggMI <- computeAggNodesU(tree=tr, nodeID=seq(length(tr$tip)+tr$Nnode), se_counts=assays(yMI)[[\"counts\"]])"
   ]
  },
  {
   "cell_type": "code",
   "execution_count": 189,
   "id": "11b7e301",
   "metadata": {},
   "outputs": [],
   "source": [
    "trueCountsDfU <- lapply(trueCountsDf, function(df) {\n",
    "    mtnames <- setdiff(allTxps, rownames(df))\n",
    "    rbind(df, data.frame(Counts=rep(0,length(mtnames)), row.names = mtnames))\n",
    "})\n",
    "rnames <- rownames(trueCountsDfU[[1]])\n",
    "trueCountsDfU <- lapply(trueCountsDfU, function(df) {\n",
    "    df <- df[rnames,]\n",
    "    df\n",
    "})\n",
    "trueCountsDfU <- do.call(cbind,trueCountsDfU)\n",
    "\n",
    "colnames(trueCountsDfU) <- colnames(seBrainSim)\n",
    "rownames(trueCountsDfU) <- rnames\n",
    "\n",
    "trueCountsDfU <- trueCountsDfU[tr$tip,]\n",
    "\n",
    "trueCountsAgg <- computeAggNodesU(tree=tr, nodeID=seq(length(tr$tip)+tr$Nnode), se_counts=trueCountsDfU)"
   ]
  },
  {
   "cell_type": "code",
   "execution_count": 190,
   "id": "c719da15",
   "metadata": {},
   "outputs": [],
   "source": [
    "depth <- node.depth(tr,2)\n",
    "depth[depth > 6] = 7\n",
    "\n",
    "dfT <- data.frame(matrix(nrow=ncol(seBrainSim),ncol=9))\n",
    "colnames(dfT) <- c(\"Sample\", paste(\"Depth\",c(1:7), sep=\"_\"), \"Type\")\n",
    "\n",
    "dfT2 <- data.frame(matrix(nrow=ncol(seBrainSim),ncol=9))\n",
    "colnames(dfT2) <- c(\"Sample\", paste(\"Depth\",c(1:7), sep=\"_\"), \"Type\")\n",
    "\n",
    "dfT$Sample <- colnames(seBrainSim)\n",
    "dfT$Type <- rep(\"Mean Inf\", ncol(seBrainSim))\n",
    "dfT2$Sample <- colnames(seBrainSim)\n",
    "dfT2$Type <- rep(\"Mean Inf\", ncol(seBrainSim))\n",
    "\n",
    "# head(dfCor)\n",
    "mat <- matrix(0, ncol=ncol(seBrainSim), nrow=7)\n",
    "for(i in seq(7)) {\n",
    "    mat[i,] = diag(cor(trueCountsAgg[depth==i,], yAggMI[depth==i,], method = \"spearman\"))\n",
    "    n <- paste(\"Depth\", i, sep=\"_\")\n",
    "    dfT[[n]] <- mat[i,]\n",
    "    mat[i,] = sapply(seq_along(colnames(seBrainSim)), function(j) comp_mard(trueCountsAgg[depth==i,j], yAggMI[depth==i,j]))\n",
    "    dfT2[[n]] <- mat[i,]\n",
    "    mat[i,] = diag(cor(trueCountsAgg[depth==i,], yAggMI[depth==i,]))\n",
    "    dfT3[[n]] <- mat[i,]\n",
    "}\n",
    "\n"
   ]
  },
  {
   "cell_type": "code",
   "execution_count": 191,
   "id": "d998fb01",
   "metadata": {},
   "outputs": [
    {
     "data": {
      "text/html": [
       "33678"
      ],
      "text/latex": [
       "33678"
      ],
      "text/markdown": [
       "33678"
      ],
      "text/plain": [
       "[1] 33678"
      ]
     },
     "metadata": {},
     "output_type": "display_data"
    }
   ],
   "source": [
    "mi1 <- dCuts$MeanInf\n",
    "mi1I <- mi1[mi1 > length(treeMC$tip)]\n",
    "mi1I <- mi1I + length(tr$tip)-length(treeMC$tip)\n",
    "mi1L <- match(treeMC$tip[mi1[mi1 <= length(treeMC$tip)]], tr$tip)\n",
    "mi1 <- c(mi1L, mi1I)\n",
    "\n",
    "mi2 <- dCutsNL$MeanInf\n",
    "mi2I <- mi2[mi2 > length(treeMC$tip)]\n",
    "mi2I <- mi2I + length(tr$tip)-length(treeMC$tip)\n",
    "mi2L <- match(treeMC$tip[mi2[mi2 <= length(treeMC$tip)]], tr$tip)\n",
    "mi2 <- c(mi2L, mi2I)\n",
    "\n",
    "group <- Descendants(tr, length(tr$tip)+1, \"children\")\n",
    "\n",
    "dfT <- cbind(dfT, lfc_len=diag(cor(trueCountsAgg[mi1,], yAggMI[mi1,],method=\"spearman\")))\n",
    "dfT <- cbind(dfT, lfc_nlen=diag(cor(trueCountsAgg[mi2,], yAggMI[mi2,],method=\"spearman\")))\n",
    "dfT <- cbind(dfT, group=diag(cor(trueCountsAgg[group,], yAggMI[group,],method=\"spearman\")))\n",
    "\n",
    "dfT2 <- cbind(dfT2, lfc_len=sapply(seq_along(colnames(seBrainSim)), function(j) comp_mard(trueCountsAgg[mi1,j], yAggMI[mi1,j])))\n",
    "dfT2 <- cbind(dfT2, lfc_nlen=sapply(seq_along(colnames(seBrainSim)), function(j) comp_mard(trueCountsAgg[mi2,j], yAggMI[mi2,j])))\n",
    "dfT2 <- cbind(dfT2, group=sapply(seq_along(colnames(seBrainSim)), function(j) comp_mard(trueCountsAgg[group,j], yAggMI[group,j])))\n",
    "\n",
    "dfCor <- rbind(dfCor, dfT)\n",
    "dfMard <- rbind(dfMard, dfT2)\n",
    "length(group)\n",
    "rm(mi1, mi2,group)"
   ]
  },
  {
   "cell_type": "markdown",
   "id": "b200e970",
   "metadata": {},
   "source": [
    "#### MeanInf0"
   ]
  },
  {
   "cell_type": "code",
   "execution_count": 192,
   "id": "bfc5938c",
   "metadata": {},
   "outputs": [
    {
     "name": "stdout",
     "output_type": "stream",
     "text": [
      "[1] \"Missing txps 603\"\n"
     ]
    }
   ],
   "source": [
    "mi0Txps <- treeMC0$tip.label\n",
    "trueTxps <- Reduce(union, lapply(trueCountsDf, function(df) rownames(df)))\n",
    "allTxps <- union(mi0Txps, trueTxps)\n",
    "mb <- mergeLeaves(treeMC0, seBrainSim[allTxps,])\n",
    "yMI0 <- mb[[\"ySwish\"]]\n",
    "tr <- mb[[\"tree\"]]\n",
    "yAggMI0 <- computeAggNodesU(tree=tr, nodeID=seq(length(tr$tip)+tr$Nnode), se_counts=assays(yMI0)[[\"counts\"]])"
   ]
  },
  {
   "cell_type": "code",
   "execution_count": 193,
   "id": "de619197",
   "metadata": {},
   "outputs": [],
   "source": [
    "trueCountsDfU <- lapply(trueCountsDf, function(df) {\n",
    "    mtnames <- setdiff(allTxps, rownames(df))\n",
    "    rbind(df, data.frame(Counts=rep(0,length(mtnames)), row.names = mtnames))\n",
    "})\n",
    "rnames <- rownames(trueCountsDfU[[1]])\n",
    "trueCountsDfU <- lapply(trueCountsDfU, function(df) {\n",
    "    df <- df[rnames,]\n",
    "    df\n",
    "})\n",
    "trueCountsDfU <- do.call(cbind,trueCountsDfU)\n",
    "\n",
    "colnames(trueCountsDfU) <- colnames(seBrainSim)\n",
    "rownames(trueCountsDfU) <- rnames\n",
    "\n",
    "trueCountsDfU <- trueCountsDfU[tr$tip,]\n",
    "\n",
    "trueCountsAgg <- computeAggNodesU(tree=tr, nodeID=seq(length(tr$tip)+tr$Nnode), se_counts=trueCountsDfU)"
   ]
  },
  {
   "cell_type": "code",
   "execution_count": 194,
   "id": "55847ed4",
   "metadata": {},
   "outputs": [],
   "source": [
    "depth <- node.depth(tr,2)\n",
    "depth[depth > 6] = 7\n",
    "\n",
    "dfT <- data.frame(matrix(nrow=ncol(seBrainSim),ncol=9))\n",
    "colnames(dfT) <- c(\"Sample\", paste(\"Depth\",c(1:7), sep=\"_\"), \"Type\")\n",
    "\n",
    "dfT2 <- data.frame(matrix(nrow=ncol(seBrainSim),ncol=9))\n",
    "colnames(dfT2) <- c(\"Sample\", paste(\"Depth\",c(1:7), sep=\"_\"), \"Type\")\n",
    "\n",
    "dfT$Sample <- colnames(seBrainSim)\n",
    "dfT$Type <- rep(\"Mean Inf0\", ncol(seBrainSim))\n",
    "dfT2$Sample <- colnames(seBrainSim)\n",
    "dfT2$Type <- rep(\"Mean Inf0\", ncol(seBrainSim))\n",
    "# head(dfCor)\n",
    "mat <- matrix(0, ncol=ncol(seBrainSim), nrow=7)\n",
    "for(i in seq(7)) {\n",
    "    mat[i,] = diag(cor(trueCountsAgg[depth==i,], yAggMI0[depth==i,], method = \"spearman\"))\n",
    "    n <- paste(\"Depth\", i, sep=\"_\")\n",
    "    dfT[[n]] <- mat[i,]\n",
    "    mat[i,] = sapply(seq_along(colnames(seBrainSim)), function(j) comp_mard(trueCountsAgg[depth==i,j], yAggMI0[depth==i,j]))\n",
    "    dfT2[[n]] <- mat[i,]\n",
    "}\n"
   ]
  },
  {
   "cell_type": "code",
   "execution_count": 195,
   "id": "7881c95c",
   "metadata": {},
   "outputs": [
    {
     "data": {
      "text/html": [
       "19427"
      ],
      "text/latex": [
       "19427"
      ],
      "text/markdown": [
       "19427"
      ],
      "text/plain": [
       "[1] 19427"
      ]
     },
     "metadata": {},
     "output_type": "display_data"
    }
   ],
   "source": [
    "mi01 <- dCuts$MeanInf0\n",
    "mi01I <- mi01[mi01 > length(treeMC0$tip)]\n",
    "mi01I <- mi01I + length(tr$tip)-length(treeMC0$tip)\n",
    "mi01L <- match(treeMC0$tip[mi01[mi01 <= length(treeMC0$tip)]], tr$tip)\n",
    "mi01 <- c(mi01L, mi01I)\n",
    "\n",
    "mi02 <- dCutsNL$MeanInf0\n",
    "mi02I <- mi02[mi02 > length(treeMC0$tip)]\n",
    "mi02I <- mi02I + length(tr$tip)-length(treeMC0$tip)\n",
    "mi02L <- match(treeMC0$tip[mi02[mi02 <= length(treeMC0$tip)]], tr$tip)\n",
    "mi02 <- c(mi02L, mi02I)\n",
    "\n",
    "group <- Descendants(tr, length(tr$tip)+1, \"children\")\n",
    "\n",
    "dfT <- cbind(dfT, lfc_len=diag(cor(trueCountsAgg[mi01,], yAggMI0[mi01,],method=\"spearman\")))\n",
    "dfT <- cbind(dfT, lfc_nlen=diag(cor(trueCountsAgg[mi02,], yAggMI0[mi02,],method=\"spearman\")))\n",
    "dfT <- cbind(dfT, group=diag(cor(trueCountsAgg[group,], yAggMI0[group,],method=\"spearman\")))\n",
    "\n",
    "dfT2 <- cbind(dfT2, lfc_len=sapply(seq_along(colnames(seBrainSim)), function(j) comp_mard(trueCountsAgg[mi01,j], yAggMI0[mi01,j])))\n",
    "dfT2 <- cbind(dfT2, lfc_nlen=sapply(seq_along(colnames(seBrainSim)), function(j) comp_mard(trueCountsAgg[mi02,j], yAggMI0[mi02,j])))\n",
    "dfT2 <- cbind(dfT2, group=sapply(seq_along(colnames(seBrainSim)), function(j) comp_mard(trueCountsAgg[group,j], yAggMI0[group,j])))\n",
    "\n",
    "dfCor <- rbind(dfCor, dfT)\n",
    "dfMard <- rbind(dfMard, dfT2)\n",
    "length(group)\n",
    "rm(mi01, mi02,group)"
   ]
  },
  {
   "cell_type": "markdown",
   "id": "79402dad",
   "metadata": {},
   "source": [
    "#### Thr Terminus"
   ]
  },
  {
   "cell_type": "code",
   "execution_count": 196,
   "id": "c11c9ab1",
   "metadata": {},
   "outputs": [
    {
     "name": "stdout",
     "output_type": "stream",
     "text": [
      "[1] \"Missing txps 925\"\n"
     ]
    }
   ],
   "source": [
    "thrTxps <- treeThr$tip.label\n",
    "trueTxps <- Reduce(union, lapply(trueCountsDf, function(df) rownames(df)))\n",
    "allTxps <- union(thrTxps, trueTxps)\n",
    "mb <- mergeLeaves(treeThr, seBrainSim[allTxps,])\n",
    "yThr <- mb[[\"ySwish\"]]\n",
    "tr <- mb[[\"tree\"]]\n",
    "yAggThr <- computeAggNodesU(tree=tr, nodeID=seq(length(tr$tip)+tr$Nnode), se_counts=assays(yThr)[[\"counts\"]])"
   ]
  },
  {
   "cell_type": "code",
   "execution_count": 197,
   "id": "8b0333ff",
   "metadata": {},
   "outputs": [],
   "source": [
    "trueCountsDfU <- lapply(trueCountsDf, function(df) {\n",
    "    mtnames <- setdiff(allTxps, rownames(df))\n",
    "    rbind(df, data.frame(Counts=rep(0,length(mtnames)), row.names = mtnames))\n",
    "})\n",
    "rnames <- rownames(trueCountsDfU[[1]])\n",
    "trueCountsDfU <- lapply(trueCountsDfU, function(df) {\n",
    "    df <- df[rnames,]\n",
    "    df\n",
    "})\n",
    "trueCountsDfU <- do.call(cbind,trueCountsDfU)\n",
    "\n",
    "colnames(trueCountsDfU) <- colnames(seBrainSim)\n",
    "rownames(trueCountsDfU) <- rnames\n",
    "\n",
    "trueCountsDfU <- trueCountsDfU[tr$tip,]\n",
    "\n",
    "trueCountsAgg <- computeAggNodesU(tree=tr, nodeID=seq(length(tr$tip)+tr$Nnode), se_counts=trueCountsDfU)"
   ]
  },
  {
   "cell_type": "code",
   "execution_count": 198,
   "id": "28f22dbd",
   "metadata": {},
   "outputs": [],
   "source": [
    "depth <- node.depth(tr,2)\n",
    "depth[depth > 6] = 7\n",
    "\n",
    "dfT <- data.frame(matrix(nrow=ncol(seBrainSim),ncol=9))\n",
    "colnames(dfT) <- c(\"Sample\", paste(\"Depth\",c(1:7), sep=\"_\"), \"Type\")\n",
    "\n",
    "dfT2 <- data.frame(matrix(nrow=ncol(seBrainSim),ncol=9))\n",
    "colnames(dfT2) <- c(\"Sample\", paste(\"Depth\",c(1:7), sep=\"_\"), \"Type\")\n",
    "\n",
    "dfT$Sample <- colnames(seBrainSim)\n",
    "dfT$Type <- rep(\"Thr\", ncol(seBrainSim))\n",
    "dfT2$Sample <- colnames(seBrainSim)\n",
    "dfT2$Type <- rep(\"Thr\", ncol(seBrainSim))\n",
    "# head(dfCor)\n",
    "mat <- matrix(0, ncol=ncol(seBrainSim), nrow=7)\n",
    "for(i in seq(7)) {\n",
    "    mat[i,] = diag(cor(trueCountsAgg[depth==i,], yAggThr[depth==i,], method = \"spearman\"))\n",
    "    n <- paste(\"Depth\", i, sep=\"_\")\n",
    "    dfT[[n]] <- mat[i,]\n",
    "    mat[i,] = sapply(seq_along(colnames(seBrainSim)), function(j) comp_mard(trueCountsAgg[depth==i,j], yAggThr[depth==i,j]))\n",
    "    dfT2[[n]] <- mat[i,]\n",
    "}\n"
   ]
  },
  {
   "cell_type": "code",
   "execution_count": 199,
   "id": "d846c23c",
   "metadata": {},
   "outputs": [
    {
     "data": {
      "text/html": [
       "115824"
      ],
      "text/latex": [
       "115824"
      ],
      "text/markdown": [
       "115824"
      ],
      "text/plain": [
       "[1] 115824"
      ]
     },
     "metadata": {},
     "output_type": "display_data"
    }
   ],
   "source": [
    "thr1 <- dCuts$Cons_Thr\n",
    "thr1I <- thr1[thr1 > length(treeThr$tip)]\n",
    "thr1I <- thr1I + length(tr$tip)-length(treeThr$tip)\n",
    "thr1L <- match(treeThr$tip[thr1[thr1 <= length(treeThr$tip)]], tr$tip)\n",
    "thr1 <- c(thr1L, thr1I)\n",
    "\n",
    "thr2 <- dCutsNL$Cons_Thr\n",
    "thr2I <- thr2[thr2 > length(treeThr$tip)]\n",
    "thr2I <- thr2I + length(tr$tip)-length(treeThr$tip)\n",
    "thr2L <- match(treeThr$tip[thr2[thr2 <= length(treeThr$tip)]], tr$tip)\n",
    "thr2 <- c(thr2L, thr2I)\n",
    "\n",
    "group <- Descendants(tr, length(tr$tip)+1, \"children\")\n",
    "\n",
    "\n",
    "dfT <- cbind(dfT, lfc_len=diag(cor(trueCountsAgg[thr1,], yAggThr[thr1,],method=\"spearman\")))\n",
    "dfT <- cbind(dfT, lfc_nlen=diag(cor(trueCountsAgg[thr2,], yAggThr[thr2,],method=\"spearman\")))\n",
    "dfT <- cbind(dfT, group=diag(cor(trueCountsAgg[group,], yAggThr[group,],method=\"spearman\")))\n",
    "\n",
    "dfT2 <- cbind(dfT2, lfc_len=sapply(seq_along(colnames(seBrainSim)), function(j) comp_mard(trueCountsAgg[thr1,j], yAggThr[thr1,j])))\n",
    "dfT2 <- cbind(dfT2, lfc_nlen=sapply(seq_along(colnames(seBrainSim)), function(j) comp_mard(trueCountsAgg[thr2,j], yAggThr[thr2,j])))\n",
    "dfT2 <- cbind(dfT2, group=sapply(seq_along(colnames(seBrainSim)), function(j) comp_mard(trueCountsAgg[group,j], yAggThr[group,j])))\n",
    "\n",
    "dfCor <- rbind(dfCor, dfT)\n",
    "dfMard <- rbind(dfMard, dfT2)\n",
    "length(group)\n",
    "rm(thr1, thr2,group)"
   ]
  },
  {
   "cell_type": "code",
   "execution_count": 200,
   "id": "4bedcb30",
   "metadata": {},
   "outputs": [
    {
     "name": "stderr",
     "output_type": "stream",
     "text": [
      "\u001b[1m\u001b[22mAdding missing grouping variables: `Type`\n"
     ]
    },
    {
     "data": {
      "text/html": [
       "<table class=\"dataframe\">\n",
       "<caption>A tibble: 5 × 11</caption>\n",
       "<thead>\n",
       "\t<tr><th scope=col>Type</th><th scope=col>Depth_1_mean</th><th scope=col>Depth_2_mean</th><th scope=col>Depth_3_mean</th><th scope=col>Depth_4_mean</th><th scope=col>Depth_5_mean</th><th scope=col>Depth_6_mean</th><th scope=col>Depth_7_mean</th><th scope=col>lfc_len_mean</th><th scope=col>lfc_nlen_mean</th><th scope=col>group_mean</th></tr>\n",
       "\t<tr><th scope=col>&lt;chr&gt;</th><th scope=col>&lt;dbl&gt;</th><th scope=col>&lt;dbl&gt;</th><th scope=col>&lt;dbl&gt;</th><th scope=col>&lt;dbl&gt;</th><th scope=col>&lt;dbl&gt;</th><th scope=col>&lt;dbl&gt;</th><th scope=col>&lt;dbl&gt;</th><th scope=col>&lt;dbl&gt;</th><th scope=col>&lt;dbl&gt;</th><th scope=col>&lt;dbl&gt;</th></tr>\n",
       "</thead>\n",
       "<tbody>\n",
       "\t<tr><td>Anti-Correlation</td><td>0.9448149</td><td>0.9913943</td><td>0.9977744</td><td>0.9994178</td><td>0.9997756</td><td>0.9998456</td><td>0.9999731</td><td>0.9681152</td><td>0.9610979</td><td>0.8867660</td></tr>\n",
       "\t<tr><td>Consensus       </td><td>0.9448149</td><td>0.9910081</td><td>0.9955883</td><td>0.9976570</td><td>0.9986886</td><td>0.9992657</td><td>0.9997477</td><td>0.9965525</td><td>0.9741663</td><td>0.9992946</td></tr>\n",
       "\t<tr><td>Mean Inf        </td><td>0.9448149</td><td>0.9976634</td><td>0.9991590</td><td>0.9994891</td><td>0.9996490</td><td>0.9997309</td><td>0.9999152</td><td>0.9932190</td><td>0.9758522</td><td>0.9979927</td></tr>\n",
       "\t<tr><td>Mean Inf0       </td><td>0.9446949</td><td>0.9986109</td><td>0.9996749</td><td>0.9998361</td><td>0.9998941</td><td>0.9999174</td><td>0.9999696</td><td>0.9984601</td><td>0.9771004</td><td>0.9999409</td></tr>\n",
       "\t<tr><td>Thr             </td><td>0.9448149</td><td>0.9975392</td><td>0.9990993</td><td>0.9994557</td><td>0.9996700</td><td>0.9997474</td><td>0.9996629</td><td>1.0000000</td><td>0.9624155</td><td>0.9683735</td></tr>\n",
       "</tbody>\n",
       "</table>\n"
      ],
      "text/latex": [
       "A tibble: 5 × 11\n",
       "\\begin{tabular}{lllllllllll}\n",
       " Type & Depth\\_1\\_mean & Depth\\_2\\_mean & Depth\\_3\\_mean & Depth\\_4\\_mean & Depth\\_5\\_mean & Depth\\_6\\_mean & Depth\\_7\\_mean & lfc\\_len\\_mean & lfc\\_nlen\\_mean & group\\_mean\\\\\n",
       " <chr> & <dbl> & <dbl> & <dbl> & <dbl> & <dbl> & <dbl> & <dbl> & <dbl> & <dbl> & <dbl>\\\\\n",
       "\\hline\n",
       "\t Anti-Correlation & 0.9448149 & 0.9913943 & 0.9977744 & 0.9994178 & 0.9997756 & 0.9998456 & 0.9999731 & 0.9681152 & 0.9610979 & 0.8867660\\\\\n",
       "\t Consensus        & 0.9448149 & 0.9910081 & 0.9955883 & 0.9976570 & 0.9986886 & 0.9992657 & 0.9997477 & 0.9965525 & 0.9741663 & 0.9992946\\\\\n",
       "\t Mean Inf         & 0.9448149 & 0.9976634 & 0.9991590 & 0.9994891 & 0.9996490 & 0.9997309 & 0.9999152 & 0.9932190 & 0.9758522 & 0.9979927\\\\\n",
       "\t Mean Inf0        & 0.9446949 & 0.9986109 & 0.9996749 & 0.9998361 & 0.9998941 & 0.9999174 & 0.9999696 & 0.9984601 & 0.9771004 & 0.9999409\\\\\n",
       "\t Thr              & 0.9448149 & 0.9975392 & 0.9990993 & 0.9994557 & 0.9996700 & 0.9997474 & 0.9996629 & 1.0000000 & 0.9624155 & 0.9683735\\\\\n",
       "\\end{tabular}\n"
      ],
      "text/markdown": [
       "\n",
       "A tibble: 5 × 11\n",
       "\n",
       "| Type &lt;chr&gt; | Depth_1_mean &lt;dbl&gt; | Depth_2_mean &lt;dbl&gt; | Depth_3_mean &lt;dbl&gt; | Depth_4_mean &lt;dbl&gt; | Depth_5_mean &lt;dbl&gt; | Depth_6_mean &lt;dbl&gt; | Depth_7_mean &lt;dbl&gt; | lfc_len_mean &lt;dbl&gt; | lfc_nlen_mean &lt;dbl&gt; | group_mean &lt;dbl&gt; |\n",
       "|---|---|---|---|---|---|---|---|---|---|---|\n",
       "| Anti-Correlation | 0.9448149 | 0.9913943 | 0.9977744 | 0.9994178 | 0.9997756 | 0.9998456 | 0.9999731 | 0.9681152 | 0.9610979 | 0.8867660 |\n",
       "| Consensus        | 0.9448149 | 0.9910081 | 0.9955883 | 0.9976570 | 0.9986886 | 0.9992657 | 0.9997477 | 0.9965525 | 0.9741663 | 0.9992946 |\n",
       "| Mean Inf         | 0.9448149 | 0.9976634 | 0.9991590 | 0.9994891 | 0.9996490 | 0.9997309 | 0.9999152 | 0.9932190 | 0.9758522 | 0.9979927 |\n",
       "| Mean Inf0        | 0.9446949 | 0.9986109 | 0.9996749 | 0.9998361 | 0.9998941 | 0.9999174 | 0.9999696 | 0.9984601 | 0.9771004 | 0.9999409 |\n",
       "| Thr              | 0.9448149 | 0.9975392 | 0.9990993 | 0.9994557 | 0.9996700 | 0.9997474 | 0.9996629 | 1.0000000 | 0.9624155 | 0.9683735 |\n",
       "\n"
      ],
      "text/plain": [
       "  Type             Depth_1_mean Depth_2_mean Depth_3_mean Depth_4_mean\n",
       "1 Anti-Correlation 0.9448149    0.9913943    0.9977744    0.9994178   \n",
       "2 Consensus        0.9448149    0.9910081    0.9955883    0.9976570   \n",
       "3 Mean Inf         0.9448149    0.9976634    0.9991590    0.9994891   \n",
       "4 Mean Inf0        0.9446949    0.9986109    0.9996749    0.9998361   \n",
       "5 Thr              0.9448149    0.9975392    0.9990993    0.9994557   \n",
       "  Depth_5_mean Depth_6_mean Depth_7_mean lfc_len_mean lfc_nlen_mean group_mean\n",
       "1 0.9997756    0.9998456    0.9999731    0.9681152    0.9610979     0.8867660 \n",
       "2 0.9986886    0.9992657    0.9997477    0.9965525    0.9741663     0.9992946 \n",
       "3 0.9996490    0.9997309    0.9999152    0.9932190    0.9758522     0.9979927 \n",
       "4 0.9998941    0.9999174    0.9999696    0.9984601    0.9771004     0.9999409 \n",
       "5 0.9996700    0.9997474    0.9996629    1.0000000    0.9624155     0.9683735 "
      ]
     },
     "metadata": {},
     "output_type": "display_data"
    },
    {
     "name": "stderr",
     "output_type": "stream",
     "text": [
      "\u001b[1m\u001b[22mAdding missing grouping variables: `Type`\n"
     ]
    },
    {
     "data": {
      "text/html": [
       "<table class=\"dataframe\">\n",
       "<caption>A tibble: 5 × 11</caption>\n",
       "<thead>\n",
       "\t<tr><th scope=col>Type</th><th scope=col>Depth_1_mean</th><th scope=col>Depth_2_mean</th><th scope=col>Depth_3_mean</th><th scope=col>Depth_4_mean</th><th scope=col>Depth_5_mean</th><th scope=col>Depth_6_mean</th><th scope=col>Depth_7_mean</th><th scope=col>lfc_len_mean</th><th scope=col>lfc_nlen_mean</th><th scope=col>group_mean</th></tr>\n",
       "\t<tr><th scope=col>&lt;chr&gt;</th><th scope=col>&lt;dbl&gt;</th><th scope=col>&lt;dbl&gt;</th><th scope=col>&lt;dbl&gt;</th><th scope=col>&lt;dbl&gt;</th><th scope=col>&lt;dbl&gt;</th><th scope=col>&lt;dbl&gt;</th><th scope=col>&lt;dbl&gt;</th><th scope=col>&lt;dbl&gt;</th><th scope=col>&lt;dbl&gt;</th><th scope=col>&lt;dbl&gt;</th></tr>\n",
       "</thead>\n",
       "<tbody>\n",
       "\t<tr><td>Anti-Correlation</td><td>0.09940096</td><td>0.06844116</td><td>0.02929967</td><td>0.013500659</td><td>0.006791058</td><td>0.004010136</td><td>0.002000134</td><td>2.681367e-02</td><td>0.06782156</td><td>0.006241369</td></tr>\n",
       "\t<tr><td>Consensus       </td><td>0.09940096</td><td>0.06253313</td><td>0.05639070</td><td>0.048312455</td><td>0.040397517</td><td>0.032071083</td><td>0.017485159</td><td>2.671775e-02</td><td>0.06089270</td><td>0.012597737</td></tr>\n",
       "\t<tr><td>Mean Inf        </td><td>0.09940096</td><td>0.03485119</td><td>0.02631151</td><td>0.022779845</td><td>0.019636236</td><td>0.017965069</td><td>0.010082454</td><td>3.195391e-02</td><td>0.05452047</td><td>0.023760917</td></tr>\n",
       "\t<tr><td>Mean Inf0       </td><td>0.09520859</td><td>0.02518964</td><td>0.01103742</td><td>0.006958612</td><td>0.004819988</td><td>0.003715719</td><td>0.001796846</td><td>1.713703e-02</td><td>0.05024900</td><td>0.001945961</td></tr>\n",
       "\t<tr><td>Thr             </td><td>0.09940096</td><td>0.04523547</td><td>0.01965747</td><td>0.012440287</td><td>0.007716122</td><td>0.005357956</td><td>0.005741056</td><td>3.183546e-06</td><td>0.07873940</td><td>0.071476495</td></tr>\n",
       "</tbody>\n",
       "</table>\n"
      ],
      "text/latex": [
       "A tibble: 5 × 11\n",
       "\\begin{tabular}{lllllllllll}\n",
       " Type & Depth\\_1\\_mean & Depth\\_2\\_mean & Depth\\_3\\_mean & Depth\\_4\\_mean & Depth\\_5\\_mean & Depth\\_6\\_mean & Depth\\_7\\_mean & lfc\\_len\\_mean & lfc\\_nlen\\_mean & group\\_mean\\\\\n",
       " <chr> & <dbl> & <dbl> & <dbl> & <dbl> & <dbl> & <dbl> & <dbl> & <dbl> & <dbl> & <dbl>\\\\\n",
       "\\hline\n",
       "\t Anti-Correlation & 0.09940096 & 0.06844116 & 0.02929967 & 0.013500659 & 0.006791058 & 0.004010136 & 0.002000134 & 2.681367e-02 & 0.06782156 & 0.006241369\\\\\n",
       "\t Consensus        & 0.09940096 & 0.06253313 & 0.05639070 & 0.048312455 & 0.040397517 & 0.032071083 & 0.017485159 & 2.671775e-02 & 0.06089270 & 0.012597737\\\\\n",
       "\t Mean Inf         & 0.09940096 & 0.03485119 & 0.02631151 & 0.022779845 & 0.019636236 & 0.017965069 & 0.010082454 & 3.195391e-02 & 0.05452047 & 0.023760917\\\\\n",
       "\t Mean Inf0        & 0.09520859 & 0.02518964 & 0.01103742 & 0.006958612 & 0.004819988 & 0.003715719 & 0.001796846 & 1.713703e-02 & 0.05024900 & 0.001945961\\\\\n",
       "\t Thr              & 0.09940096 & 0.04523547 & 0.01965747 & 0.012440287 & 0.007716122 & 0.005357956 & 0.005741056 & 3.183546e-06 & 0.07873940 & 0.071476495\\\\\n",
       "\\end{tabular}\n"
      ],
      "text/markdown": [
       "\n",
       "A tibble: 5 × 11\n",
       "\n",
       "| Type &lt;chr&gt; | Depth_1_mean &lt;dbl&gt; | Depth_2_mean &lt;dbl&gt; | Depth_3_mean &lt;dbl&gt; | Depth_4_mean &lt;dbl&gt; | Depth_5_mean &lt;dbl&gt; | Depth_6_mean &lt;dbl&gt; | Depth_7_mean &lt;dbl&gt; | lfc_len_mean &lt;dbl&gt; | lfc_nlen_mean &lt;dbl&gt; | group_mean &lt;dbl&gt; |\n",
       "|---|---|---|---|---|---|---|---|---|---|---|\n",
       "| Anti-Correlation | 0.09940096 | 0.06844116 | 0.02929967 | 0.013500659 | 0.006791058 | 0.004010136 | 0.002000134 | 2.681367e-02 | 0.06782156 | 0.006241369 |\n",
       "| Consensus        | 0.09940096 | 0.06253313 | 0.05639070 | 0.048312455 | 0.040397517 | 0.032071083 | 0.017485159 | 2.671775e-02 | 0.06089270 | 0.012597737 |\n",
       "| Mean Inf         | 0.09940096 | 0.03485119 | 0.02631151 | 0.022779845 | 0.019636236 | 0.017965069 | 0.010082454 | 3.195391e-02 | 0.05452047 | 0.023760917 |\n",
       "| Mean Inf0        | 0.09520859 | 0.02518964 | 0.01103742 | 0.006958612 | 0.004819988 | 0.003715719 | 0.001796846 | 1.713703e-02 | 0.05024900 | 0.001945961 |\n",
       "| Thr              | 0.09940096 | 0.04523547 | 0.01965747 | 0.012440287 | 0.007716122 | 0.005357956 | 0.005741056 | 3.183546e-06 | 0.07873940 | 0.071476495 |\n",
       "\n"
      ],
      "text/plain": [
       "  Type             Depth_1_mean Depth_2_mean Depth_3_mean Depth_4_mean\n",
       "1 Anti-Correlation 0.09940096   0.06844116   0.02929967   0.013500659 \n",
       "2 Consensus        0.09940096   0.06253313   0.05639070   0.048312455 \n",
       "3 Mean Inf         0.09940096   0.03485119   0.02631151   0.022779845 \n",
       "4 Mean Inf0        0.09520859   0.02518964   0.01103742   0.006958612 \n",
       "5 Thr              0.09940096   0.04523547   0.01965747   0.012440287 \n",
       "  Depth_5_mean Depth_6_mean Depth_7_mean lfc_len_mean lfc_nlen_mean group_mean \n",
       "1 0.006791058  0.004010136  0.002000134  2.681367e-02 0.06782156    0.006241369\n",
       "2 0.040397517  0.032071083  0.017485159  2.671775e-02 0.06089270    0.012597737\n",
       "3 0.019636236  0.017965069  0.010082454  3.195391e-02 0.05452047    0.023760917\n",
       "4 0.004819988  0.003715719  0.001796846  1.713703e-02 0.05024900    0.001945961\n",
       "5 0.007716122  0.005357956  0.005741056  3.183546e-06 0.07873940    0.071476495"
      ]
     },
     "metadata": {},
     "output_type": "display_data"
    }
   ],
   "source": [
    "dfCor %>% group_by(Type) %>% select(starts_with(c(\"Depth\", \"lfc\", \"group\"))) %>% summarise_all(.funs = c(mean=\"mean\"))\n",
    "dfMard %>% group_by(Type) %>% select(starts_with(c(\"Depth\", \"lfc\", \"group\"))) %>% summarise_all(.funs = c(mean=\"mean\"))\n"
   ]
  },
  {
   "cell_type": "code",
   "execution_count": 114,
   "id": "3efe7fea",
   "metadata": {},
   "outputs": [
    {
     "name": "stderr",
     "output_type": "stream",
     "text": [
      "\u001b[1m\u001b[22mAdding missing grouping variables: `Type`\n"
     ]
    },
    {
     "data": {
      "text/html": [
       "<table class=\"dataframe\">\n",
       "<caption>A tibble: 4 × 8</caption>\n",
       "<thead>\n",
       "\t<tr><th scope=col>Type</th><th scope=col>Depth_1_mean</th><th scope=col>Depth_2_mean</th><th scope=col>Depth_3_mean</th><th scope=col>Depth_4_mean</th><th scope=col>Depth_5_mean</th><th scope=col>Depth_6_mean</th><th scope=col>Depth_7_mean</th></tr>\n",
       "\t<tr><th scope=col>&lt;chr&gt;</th><th scope=col>&lt;dbl&gt;</th><th scope=col>&lt;dbl&gt;</th><th scope=col>&lt;dbl&gt;</th><th scope=col>&lt;dbl&gt;</th><th scope=col>&lt;dbl&gt;</th><th scope=col>&lt;dbl&gt;</th><th scope=col>&lt;dbl&gt;</th></tr>\n",
       "</thead>\n",
       "<tbody>\n",
       "\t<tr><td>Anti-Correlation</td><td>0.9448149</td><td>0.9913943</td><td>0.9977744</td><td>0.9994178</td><td>0.9997756</td><td>0.9998456</td><td>0.9999731</td></tr>\n",
       "\t<tr><td>Consensus       </td><td>0.9448149</td><td>0.9910081</td><td>0.9955883</td><td>0.9976570</td><td>0.9986886</td><td>0.9992657</td><td>0.9997477</td></tr>\n",
       "\t<tr><td>Mean Inf        </td><td>0.9448149</td><td>0.9976634</td><td>0.9991590</td><td>0.9994891</td><td>0.9996490</td><td>0.9997309</td><td>0.9999152</td></tr>\n",
       "\t<tr><td>Mean Inf0       </td><td>0.9446949</td><td>0.9986109</td><td>0.9996749</td><td>0.9998361</td><td>0.9998941</td><td>0.9999174</td><td>0.9999696</td></tr>\n",
       "</tbody>\n",
       "</table>\n"
      ],
      "text/latex": [
       "A tibble: 4 × 8\n",
       "\\begin{tabular}{llllllll}\n",
       " Type & Depth\\_1\\_mean & Depth\\_2\\_mean & Depth\\_3\\_mean & Depth\\_4\\_mean & Depth\\_5\\_mean & Depth\\_6\\_mean & Depth\\_7\\_mean\\\\\n",
       " <chr> & <dbl> & <dbl> & <dbl> & <dbl> & <dbl> & <dbl> & <dbl>\\\\\n",
       "\\hline\n",
       "\t Anti-Correlation & 0.9448149 & 0.9913943 & 0.9977744 & 0.9994178 & 0.9997756 & 0.9998456 & 0.9999731\\\\\n",
       "\t Consensus        & 0.9448149 & 0.9910081 & 0.9955883 & 0.9976570 & 0.9986886 & 0.9992657 & 0.9997477\\\\\n",
       "\t Mean Inf         & 0.9448149 & 0.9976634 & 0.9991590 & 0.9994891 & 0.9996490 & 0.9997309 & 0.9999152\\\\\n",
       "\t Mean Inf0        & 0.9446949 & 0.9986109 & 0.9996749 & 0.9998361 & 0.9998941 & 0.9999174 & 0.9999696\\\\\n",
       "\\end{tabular}\n"
      ],
      "text/markdown": [
       "\n",
       "A tibble: 4 × 8\n",
       "\n",
       "| Type &lt;chr&gt; | Depth_1_mean &lt;dbl&gt; | Depth_2_mean &lt;dbl&gt; | Depth_3_mean &lt;dbl&gt; | Depth_4_mean &lt;dbl&gt; | Depth_5_mean &lt;dbl&gt; | Depth_6_mean &lt;dbl&gt; | Depth_7_mean &lt;dbl&gt; |\n",
       "|---|---|---|---|---|---|---|---|\n",
       "| Anti-Correlation | 0.9448149 | 0.9913943 | 0.9977744 | 0.9994178 | 0.9997756 | 0.9998456 | 0.9999731 |\n",
       "| Consensus        | 0.9448149 | 0.9910081 | 0.9955883 | 0.9976570 | 0.9986886 | 0.9992657 | 0.9997477 |\n",
       "| Mean Inf         | 0.9448149 | 0.9976634 | 0.9991590 | 0.9994891 | 0.9996490 | 0.9997309 | 0.9999152 |\n",
       "| Mean Inf0        | 0.9446949 | 0.9986109 | 0.9996749 | 0.9998361 | 0.9998941 | 0.9999174 | 0.9999696 |\n",
       "\n"
      ],
      "text/plain": [
       "  Type             Depth_1_mean Depth_2_mean Depth_3_mean Depth_4_mean\n",
       "1 Anti-Correlation 0.9448149    0.9913943    0.9977744    0.9994178   \n",
       "2 Consensus        0.9448149    0.9910081    0.9955883    0.9976570   \n",
       "3 Mean Inf         0.9448149    0.9976634    0.9991590    0.9994891   \n",
       "4 Mean Inf0        0.9446949    0.9986109    0.9996749    0.9998361   \n",
       "  Depth_5_mean Depth_6_mean Depth_7_mean\n",
       "1 0.9997756    0.9998456    0.9999731   \n",
       "2 0.9986886    0.9992657    0.9997477   \n",
       "3 0.9996490    0.9997309    0.9999152   \n",
       "4 0.9998941    0.9999174    0.9999696   "
      ]
     },
     "metadata": {},
     "output_type": "display_data"
    },
    {
     "name": "stderr",
     "output_type": "stream",
     "text": [
      "\u001b[1m\u001b[22mAdding missing grouping variables: `Type`\n"
     ]
    },
    {
     "data": {
      "text/html": [
       "<table class=\"dataframe\">\n",
       "<caption>A tibble: 4 × 8</caption>\n",
       "<thead>\n",
       "\t<tr><th scope=col>Type</th><th scope=col>Depth_1_mean</th><th scope=col>Depth_2_mean</th><th scope=col>Depth_3_mean</th><th scope=col>Depth_4_mean</th><th scope=col>Depth_5_mean</th><th scope=col>Depth_6_mean</th><th scope=col>Depth_7_mean</th></tr>\n",
       "\t<tr><th scope=col>&lt;chr&gt;</th><th scope=col>&lt;dbl&gt;</th><th scope=col>&lt;dbl&gt;</th><th scope=col>&lt;dbl&gt;</th><th scope=col>&lt;dbl&gt;</th><th scope=col>&lt;dbl&gt;</th><th scope=col>&lt;dbl&gt;</th><th scope=col>&lt;dbl&gt;</th></tr>\n",
       "</thead>\n",
       "<tbody>\n",
       "\t<tr><td>Anti-Correlation</td><td>0.09940096</td><td>0.06844116</td><td>0.02929967</td><td>0.013500659</td><td>0.006791058</td><td>0.004010136</td><td>0.002000134</td></tr>\n",
       "\t<tr><td>Consensus       </td><td>0.99993000</td><td>0.99955032</td><td>0.99992230</td><td>0.999961021</td><td>0.999964303</td><td>0.999986354</td><td>0.999999998</td></tr>\n",
       "\t<tr><td>Mean Inf        </td><td>0.09940096</td><td>0.03485119</td><td>0.02631151</td><td>0.022779845</td><td>0.019636236</td><td>0.017965069</td><td>0.010082454</td></tr>\n",
       "\t<tr><td>Mean Inf0       </td><td>0.09520859</td><td>0.02518964</td><td>0.01103742</td><td>0.006958612</td><td>0.004819988</td><td>0.003715719</td><td>0.001796846</td></tr>\n",
       "</tbody>\n",
       "</table>\n"
      ],
      "text/latex": [
       "A tibble: 4 × 8\n",
       "\\begin{tabular}{llllllll}\n",
       " Type & Depth\\_1\\_mean & Depth\\_2\\_mean & Depth\\_3\\_mean & Depth\\_4\\_mean & Depth\\_5\\_mean & Depth\\_6\\_mean & Depth\\_7\\_mean\\\\\n",
       " <chr> & <dbl> & <dbl> & <dbl> & <dbl> & <dbl> & <dbl> & <dbl>\\\\\n",
       "\\hline\n",
       "\t Anti-Correlation & 0.09940096 & 0.06844116 & 0.02929967 & 0.013500659 & 0.006791058 & 0.004010136 & 0.002000134\\\\\n",
       "\t Consensus        & 0.99993000 & 0.99955032 & 0.99992230 & 0.999961021 & 0.999964303 & 0.999986354 & 0.999999998\\\\\n",
       "\t Mean Inf         & 0.09940096 & 0.03485119 & 0.02631151 & 0.022779845 & 0.019636236 & 0.017965069 & 0.010082454\\\\\n",
       "\t Mean Inf0        & 0.09520859 & 0.02518964 & 0.01103742 & 0.006958612 & 0.004819988 & 0.003715719 & 0.001796846\\\\\n",
       "\\end{tabular}\n"
      ],
      "text/markdown": [
       "\n",
       "A tibble: 4 × 8\n",
       "\n",
       "| Type &lt;chr&gt; | Depth_1_mean &lt;dbl&gt; | Depth_2_mean &lt;dbl&gt; | Depth_3_mean &lt;dbl&gt; | Depth_4_mean &lt;dbl&gt; | Depth_5_mean &lt;dbl&gt; | Depth_6_mean &lt;dbl&gt; | Depth_7_mean &lt;dbl&gt; |\n",
       "|---|---|---|---|---|---|---|---|\n",
       "| Anti-Correlation | 0.09940096 | 0.06844116 | 0.02929967 | 0.013500659 | 0.006791058 | 0.004010136 | 0.002000134 |\n",
       "| Consensus        | 0.99993000 | 0.99955032 | 0.99992230 | 0.999961021 | 0.999964303 | 0.999986354 | 0.999999998 |\n",
       "| Mean Inf         | 0.09940096 | 0.03485119 | 0.02631151 | 0.022779845 | 0.019636236 | 0.017965069 | 0.010082454 |\n",
       "| Mean Inf0        | 0.09520859 | 0.02518964 | 0.01103742 | 0.006958612 | 0.004819988 | 0.003715719 | 0.001796846 |\n",
       "\n"
      ],
      "text/plain": [
       "  Type             Depth_1_mean Depth_2_mean Depth_3_mean Depth_4_mean\n",
       "1 Anti-Correlation 0.09940096   0.06844116   0.02929967   0.013500659 \n",
       "2 Consensus        0.99993000   0.99955032   0.99992230   0.999961021 \n",
       "3 Mean Inf         0.09940096   0.03485119   0.02631151   0.022779845 \n",
       "4 Mean Inf0        0.09520859   0.02518964   0.01103742   0.006958612 \n",
       "  Depth_5_mean Depth_6_mean Depth_7_mean\n",
       "1 0.006791058  0.004010136  0.002000134 \n",
       "2 0.999964303  0.999986354  0.999999998 \n",
       "3 0.019636236  0.017965069  0.010082454 \n",
       "4 0.004819988  0.003715719  0.001796846 "
      ]
     },
     "metadata": {},
     "output_type": "display_data"
    }
   ],
   "source": [
    "dfCor %>% group_by(Type) %>% select(starts_with(\"Depth\")) %>% summarise_all(.funs = c(mean=\"mean\"))\n",
    "dfMard %>% group_by(Type) %>% select(starts_with(\"Depth\")) %>% summarise_all(.funs = c(mean=\"mean\"))\n"
   ]
  },
  {
   "cell_type": "code",
   "execution_count": null,
   "id": "e01b3b2a",
   "metadata": {},
   "outputs": [],
   "source": []
  }
 ],
 "metadata": {
  "kernelspec": {
   "display_name": "R",
   "language": "R",
   "name": "ir"
  },
  "language_info": {
   "codemirror_mode": "r",
   "file_extension": ".r",
   "mimetype": "text/x-r-source",
   "name": "R",
   "pygments_lexer": "r",
   "version": "4.1.1"
  }
 },
 "nbformat": 4,
 "nbformat_minor": 5
}
