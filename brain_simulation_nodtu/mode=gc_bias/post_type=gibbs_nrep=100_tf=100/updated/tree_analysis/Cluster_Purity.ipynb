{
 "cells": [
  {
   "cell_type": "markdown",
   "id": "bef99f58",
   "metadata": {},
   "source": [
    "##### min InfRV - $\\lambda$ cp\n",
    "##### cp is cluster purity\n",
    "\n",
    "The main idea is to maximize cluster purity and minimize infRV. Ideally a node high up in the tree will have low infRV but also a high cp. Lowest cp should be root. \n",
    "\n",
    "Whats a good $\\lambda$ <br>\n",
    "$\\lambda$ of $1$ wont necessarily punish root that badly\n",
    "I should not be worried about higher $\\lambda$ since the concern with leaf (that its objective might become smaller), will also propgate upwards to its parent.\n",
    "\n",
    "It might not work that well though since cluster purity for a majority of nodes will be 1 which in turn implies many higher level nodes will have cp 1 thus we end up picking them\n",
    "\n",
    "Argument about addi=ng #nodes to the objective function.\n",
    "Rob said that it wont be good since the nodes in cut cant be fixed"
   ]
  },
  {
   "cell_type": "code",
   "execution_count": 10,
   "id": "612f4a11",
   "metadata": {},
   "outputs": [],
   "source": [
    "setwd('/fs/cbcb-lab/rob/students/noor/Uncertainity/treeTerminusScripts')\n",
    "load(\"environment/brain_sim_nodtu/mode=gc_bias/mapDf.RData\")\n",
    "load(\"environment/brain_sim_nodtu/mode=gc_bias/post_type=gibbs_nrep=100_tf=100/mean_cons/treeCons.RData\")\n",
    "load(\"environment/brain_sim_nodtu/mode=gc_bias/post_type=gibbs_nrep=100_tf=100/mean_cons/treeCons0.RData\")\n",
    "load(\"environment/brain_sim_nodtu/mode=gc_bias/post_type=gibbs_nrep=100_tf=100/mean_cons/treeMC0.RData\")\n",
    "load(\"environment/brain_sim_nodtu/mode=gc_bias/post_type=gibbs_nrep=100_tf=100/mean_cons/treeMC.RData\")\n",
    "load(\"environment/brain_sim_nodtu/mode=gc_bias/post_type=gibbs_nrep=100_tf=100/mean_cons/treeCor.RData\")\n",
    "suppressPackageStartupMessages(source(\"tree_helper_function.R\"))\n",
    "suppressPackageStartupMessages(source(\"brain_simulation_nodtu/mode=gc_bias/post_type=gibbs_nrep=100_tf=100/tree_analysis/tree_filter.R\"))"
   ]
  },
  {
   "cell_type": "code",
   "execution_count": 9,
   "id": "d7c885ed",
   "metadata": {},
   "outputs": [],
   "source": [
    "load(\"environment/brain_sim_nodtu/mode=gc_bias/post_type=gibbs_nrep=100_tf=100/mean_cons/yAggMeanInfNS.RData\")\n",
    "load(\"environment/brain_sim_nodtu/mode=gc_bias/post_type=gibbs_nrep=100_tf=100/mean_cons/yAggConsNS0.RData\")\n",
    "load(\"environment/brain_sim_nodtu/mode=gc_bias/post_type=gibbs_nrep=100_tf=100/mean_cons/yAggConsNS.RData\")\n",
    "load(\"environment/brain_sim_nodtu/mode=gc_bias/post_type=gibbs_nrep=100_tf=100/mean_cons/yAggCorNS.RData\")\n",
    "load(\"environment/brain_sim_nodtu/mode=gc_bias/post_type=gibbs_nrep=100_tf=100/mean_cons/yAggMeanInfNS0.RData\")"
   ]
  },
  {
   "cell_type": "code",
   "execution_count": 2,
   "id": "40785344",
   "metadata": {},
   "outputs": [],
   "source": [
    "iNodes <- length(treeCons$tip)+1:treeCons$Nnode\n",
    "desc <- Descendants(treeCons, iNodes)\n",
    "cpCons <- sapply(desc, function(n) computeClusterPurity(treeCons, mapDf, n))\n",
    "save(cpCons, file=\"environment/brain_sim_nodtu/mode=gc_bias/post_type=gibbs_nrep=100_tf=100/updated/comp_trees/cpCons.RData\")"
   ]
  },
  {
   "cell_type": "code",
   "execution_count": 3,
   "id": "e2260158",
   "metadata": {},
   "outputs": [],
   "source": [
    "iNodes <- length(treeCons0$tip)+1:treeCons0$Nnode\n",
    "desc <- Descendants(treeCons0, iNodes)\n",
    "cpCons0 <- sapply(desc, function(n) computeClusterPurity(treeCons0, mapDf, n))\n",
    "save(cpCons0, file=\"environment/brain_sim_nodtu/mode=gc_bias/post_type=gibbs_nrep=100_tf=100/updated/comp_trees/cpCons0.RData\")"
   ]
  },
  {
   "cell_type": "code",
   "execution_count": 10,
   "id": "200698dc",
   "metadata": {},
   "outputs": [],
   "source": [
    "iNodes <- length(treeCor$tip)+1:treeCor$Nnode\n",
    "desc <- Descendants(treeCor, iNodes)\n",
    "cpCor <- sapply(desc, function(n) computeClusterPurity(treeCor, mapDf, n))\n",
    "save(cpCor, file=\"environment/brain_sim_nodtu/mode=gc_bias/post_type=gibbs_nrep=100_tf=100/updated/comp_trees/cpCor.RData\")"
   ]
  },
  {
   "cell_type": "code",
   "execution_count": 11,
   "id": "60200f6e",
   "metadata": {},
   "outputs": [],
   "source": [
    "iNodes <- length(treeMeanInf$tip)+1:treeMeanInf$Nnode\n",
    "desc <- Descendants(treeMeanInf, iNodes)\n",
    "cpMeanInf <- sapply(desc, function(n) computeClusterPurity(treeMeanInf, mapDf, n))\n",
    "save(cpMeanInf, file=\"environment/brain_sim_nodtu/mode=gc_bias/post_type=gibbs_nrep=100_tf=100/updated/comp_trees/cpMeanInf.RData\")"
   ]
  },
  {
   "cell_type": "code",
   "execution_count": 12,
   "id": "d86409fc",
   "metadata": {},
   "outputs": [],
   "source": [
    "iNodes <- length(treeMeanInf0$tip)+1:treeMeanInf0$Nnode\n",
    "desc <- Descendants(treeMeanInf0, iNodes)\n",
    "cpMeanInf0 <- sapply(desc, function(n) computeClusterPurity(treeMeanInf0, mapDf, n))\n",
    "save(cpMeanInf0, file=\"environment/brain_sim_nodtu/mode=gc_bias/post_type=gibbs_nrep=100_tf=100/updated/comp_trees/cpMeanInf0.RData\")"
   ]
  },
  {
   "cell_type": "code",
   "execution_count": 13,
   "id": "13b50b53",
   "metadata": {},
   "outputs": [
    {
     "data": {
      "text/plain": [
       "    Min.  1st Qu.   Median     Mean  3rd Qu.     Max. \n",
       "0.001156 1.000000 1.000000 0.947058 1.000000 1.000000 "
      ]
     },
     "metadata": {},
     "output_type": "display_data"
    }
   ],
   "source": [
    "summary(cpMeanInf0)"
   ]
  },
  {
   "cell_type": "code",
   "execution_count": 26,
   "id": "7bfbc596",
   "metadata": {},
   "outputs": [
    {
     "data": {
      "text/plain": [
       "\n",
       "ENSG00000214046.8 \n",
       "                2 "
      ]
     },
     "metadata": {},
     "output_type": "display_data"
    },
    {
     "data": {
      "text/html": [
       "1"
      ],
      "text/latex": [
       "1"
      ],
      "text/markdown": [
       "1"
      ],
      "text/plain": [
       "[1] 1"
      ]
     },
     "metadata": {},
     "output_type": "display_data"
    }
   ],
   "source": [
    "i <- 20\n",
    "table(mapDf[treeMeanInf0$tip[desc[[i]]],1])\n",
    "cpMeanInf0[i]"
   ]
  },
  {
   "cell_type": "code",
   "execution_count": 33,
   "id": "fd33fb61",
   "metadata": {},
   "outputs": [
    {
     "data": {
      "text/html": [
       "0.883355379567436"
      ],
      "text/latex": [
       "0.883355379567436"
      ],
      "text/markdown": [
       "0.883355379567436"
      ],
      "text/plain": [
       "[1] 0.8833554"
      ]
     },
     "metadata": {},
     "output_type": "display_data"
    },
    {
     "data": {
      "text/html": [
       "0.919179616559914"
      ],
      "text/latex": [
       "0.919179616559914"
      ],
      "text/markdown": [
       "0.919179616559914"
      ],
      "text/plain": [
       "[1] 0.9191796"
      ]
     },
     "metadata": {},
     "output_type": "display_data"
    },
    {
     "data": {
      "text/html": [
       "0.87192029529154"
      ],
      "text/latex": [
       "0.87192029529154"
      ],
      "text/markdown": [
       "0.87192029529154"
      ],
      "text/plain": [
       "[1] 0.8719203"
      ]
     },
     "metadata": {},
     "output_type": "display_data"
    },
    {
     "data": {
      "text/html": [
       "0.851362907979841"
      ],
      "text/latex": [
       "0.851362907979841"
      ],
      "text/markdown": [
       "0.851362907979841"
      ],
      "text/plain": [
       "[1] 0.8513629"
      ]
     },
     "metadata": {},
     "output_type": "display_data"
    },
    {
     "data": {
      "text/html": [
       "0.342891889277373"
      ],
      "text/latex": [
       "0.342891889277373"
      ],
      "text/markdown": [
       "0.342891889277373"
      ],
      "text/plain": [
       "[1] 0.3428919"
      ]
     },
     "metadata": {},
     "output_type": "display_data"
    },
    {
     "data": {
      "text/html": [
       "0.862809434642937"
      ],
      "text/latex": [
       "0.862809434642937"
      ],
      "text/markdown": [
       "0.862809434642937"
      ],
      "text/plain": [
       "[1] 0.8628094"
      ]
     },
     "metadata": {},
     "output_type": "display_data"
    },
    {
     "data": {
      "text/html": [
       "0.913807540480877"
      ],
      "text/latex": [
       "0.913807540480877"
      ],
      "text/markdown": [
       "0.913807540480877"
      ],
      "text/plain": [
       "[1] 0.9138075"
      ]
     },
     "metadata": {},
     "output_type": "display_data"
    },
    {
     "data": {
      "text/html": [
       "0.861337014474487"
      ],
      "text/latex": [
       "0.861337014474487"
      ],
      "text/markdown": [
       "0.861337014474487"
      ],
      "text/plain": [
       "[1] 0.861337"
      ]
     },
     "metadata": {},
     "output_type": "display_data"
    },
    {
     "data": {
      "text/html": [
       "0.825673981451499"
      ],
      "text/latex": [
       "0.825673981451499"
      ],
      "text/markdown": [
       "0.825673981451499"
      ],
      "text/plain": [
       "[1] 0.825674"
      ]
     },
     "metadata": {},
     "output_type": "display_data"
    },
    {
     "data": {
      "text/html": [
       "0.342864250079463"
      ],
      "text/latex": [
       "0.342864250079463"
      ],
      "text/markdown": [
       "0.342864250079463"
      ],
      "text/plain": [
       "[1] 0.3428643"
      ]
     },
     "metadata": {},
     "output_type": "display_data"
    }
   ],
   "source": [
    "mean(cpCons0 > 0.90)\n",
    "mean(cpCons > 0.90)\n",
    "mean(cpMeanInf > 0.90)\n",
    "mean(cpMeanInf0 > 0.90)\n",
    "mean(cpCor > 0.90)\n",
    "\n",
    "mean(cpCons0 == 1)\n",
    "mean(cpCons == 1)\n",
    "mean(cpMeanInf == 1)\n",
    "mean(cpMeanInf0 == 1)\n",
    "mean(cpCor == 1)"
   ]
  },
  {
   "cell_type": "code",
   "execution_count": 12,
   "id": "02af46af",
   "metadata": {},
   "outputs": [],
   "source": [
    "load(\"environment/brain_sim_nodtu/mode=gc_bias/post_type=gibbs_nrep=100_tf=100/updated/comp_trees/cpMeanInf0.RData\")\n",
    "load(\"environment/brain_sim_nodtu/mode=gc_bias/post_type=gibbs_nrep=100_tf=100/updated/comp_trees/cpMeanInf.RData\")\n",
    "load(\"environment/brain_sim_nodtu/mode=gc_bias/post_type=gibbs_nrep=100_tf=100/updated/comp_trees/cpCons0.RData\")\n",
    "load(\"environment/brain_sim_nodtu/mode=gc_bias/post_type=gibbs_nrep=100_tf=100/updated/comp_trees/cpCons.RData\")\n",
    "load(\"environment/brain_sim_nodtu/mode=gc_bias/post_type=gibbs_nrep=100_tf=100/updated/comp_trees/cpCor.RData\")"
   ]
  },
  {
   "cell_type": "code",
   "execution_count": 5,
   "id": "61a8500c",
   "metadata": {},
   "outputs": [
    {
     "data": {
      "text/html": [
       "-4841.0537756633"
      ],
      "text/latex": [
       "-4841.0537756633"
      ],
      "text/markdown": [
       "-4841.0537756633"
      ],
      "text/plain": [
       "[1] -4841.054"
      ]
     },
     "metadata": {},
     "output_type": "display_data"
    },
    {
     "data": {
      "text/html": [
       "35740"
      ],
      "text/latex": [
       "35740"
      ],
      "text/markdown": [
       "35740"
      ],
      "text/plain": [
       "[1] 35740"
      ]
     },
     "metadata": {},
     "output_type": "display_data"
    },
    {
     "data": {
      "text/html": [
       "<table class=\"dataframe\">\n",
       "<caption>A matrix: 2 × 6 of type dbl</caption>\n",
       "<thead>\n",
       "\t<tr><th></th><th scope=col>used</th><th scope=col>(Mb)</th><th scope=col>gc trigger</th><th scope=col>(Mb)</th><th scope=col>max used</th><th scope=col>(Mb)</th></tr>\n",
       "</thead>\n",
       "<tbody>\n",
       "\t<tr><th scope=row>Ncells</th><td> 10331548</td><td> 551.8</td><td> 20127250</td><td>1075.0</td><td> 12438882</td><td> 664.4</td></tr>\n",
       "\t<tr><th scope=row>Vcells</th><td>377936601</td><td>2883.5</td><td>565999877</td><td>4318.3</td><td>565968956</td><td>4318.1</td></tr>\n",
       "</tbody>\n",
       "</table>\n"
      ],
      "text/latex": [
       "A matrix: 2 × 6 of type dbl\n",
       "\\begin{tabular}{r|llllll}\n",
       "  & used & (Mb) & gc trigger & (Mb) & max used & (Mb)\\\\\n",
       "\\hline\n",
       "\tNcells &  10331548 &  551.8 &  20127250 & 1075.0 &  12438882 &  664.4\\\\\n",
       "\tVcells & 377936601 & 2883.5 & 565999877 & 4318.3 & 565968956 & 4318.1\\\\\n",
       "\\end{tabular}\n"
      ],
      "text/markdown": [
       "\n",
       "A matrix: 2 × 6 of type dbl\n",
       "\n",
       "| <!--/--> | used | (Mb) | gc trigger | (Mb) | max used | (Mb) |\n",
       "|---|---|---|---|---|---|---|\n",
       "| Ncells |  10331548 |  551.8 |  20127250 | 1075.0 |  12438882 |  664.4 |\n",
       "| Vcells | 377936601 | 2883.5 | 565999877 | 4318.3 | 565968956 | 4318.1 |\n",
       "\n"
      ],
      "text/plain": [
       "       used      (Mb)   gc trigger (Mb)   max used  (Mb)  \n",
       "Ncells  10331548  551.8  20127250  1075.0  12438882  664.4\n",
       "Vcells 377936601 2883.5 565999877  4318.3 565968956 4318.1"
      ]
     },
     "metadata": {},
     "output_type": "display_data"
    },
    {
     "data": {
      "text/html": [
       "-126525.118332738"
      ],
      "text/latex": [
       "-126525.118332738"
      ],
      "text/markdown": [
       "-126525.118332738"
      ],
      "text/plain": [
       "[1] -126525.1"
      ]
     },
     "metadata": {},
     "output_type": "display_data"
    },
    {
     "data": {
      "text/html": [
       "41692"
      ],
      "text/latex": [
       "41692"
      ],
      "text/markdown": [
       "41692"
      ],
      "text/plain": [
       "[1] 41692"
      ]
     },
     "metadata": {},
     "output_type": "display_data"
    },
    {
     "data": {
      "text/html": [
       "<table class=\"dataframe\">\n",
       "<caption>A matrix: 2 × 6 of type dbl</caption>\n",
       "<thead>\n",
       "\t<tr><th></th><th scope=col>used</th><th scope=col>(Mb)</th><th scope=col>gc trigger</th><th scope=col>(Mb)</th><th scope=col>max used</th><th scope=col>(Mb)</th></tr>\n",
       "</thead>\n",
       "<tbody>\n",
       "\t<tr><th scope=row>Ncells</th><td> 10338102</td><td> 552.2</td><td> 20127250</td><td>1075.0</td><td> 12438882</td><td> 664.4</td></tr>\n",
       "\t<tr><th scope=row>Vcells</th><td>377972147</td><td>2883.7</td><td>565999877</td><td>4318.3</td><td>565999868</td><td>4318.3</td></tr>\n",
       "</tbody>\n",
       "</table>\n"
      ],
      "text/latex": [
       "A matrix: 2 × 6 of type dbl\n",
       "\\begin{tabular}{r|llllll}\n",
       "  & used & (Mb) & gc trigger & (Mb) & max used & (Mb)\\\\\n",
       "\\hline\n",
       "\tNcells &  10338102 &  552.2 &  20127250 & 1075.0 &  12438882 &  664.4\\\\\n",
       "\tVcells & 377972147 & 2883.7 & 565999877 & 4318.3 & 565999868 & 4318.3\\\\\n",
       "\\end{tabular}\n"
      ],
      "text/markdown": [
       "\n",
       "A matrix: 2 × 6 of type dbl\n",
       "\n",
       "| <!--/--> | used | (Mb) | gc trigger | (Mb) | max used | (Mb) |\n",
       "|---|---|---|---|---|---|---|\n",
       "| Ncells |  10338102 |  552.2 |  20127250 | 1075.0 |  12438882 |  664.4 |\n",
       "| Vcells | 377972147 | 2883.7 | 565999877 | 4318.3 | 565999868 | 4318.3 |\n",
       "\n"
      ],
      "text/plain": [
       "       used      (Mb)   gc trigger (Mb)   max used  (Mb)  \n",
       "Ncells  10338102  552.2  20127250  1075.0  12438882  664.4\n",
       "Vcells 377972147 2883.7 565999877  4318.3 565999868 4318.3"
      ]
     },
     "metadata": {},
     "output_type": "display_data"
    },
    {
     "data": {
      "text/html": [
       "-1371932.38680638"
      ],
      "text/latex": [
       "-1371932.38680638"
      ],
      "text/markdown": [
       "-1371932.38680638"
      ],
      "text/plain": [
       "[1] -1371932"
      ]
     },
     "metadata": {},
     "output_type": "display_data"
    },
    {
     "data": {
      "text/html": [
       "47823"
      ],
      "text/latex": [
       "47823"
      ],
      "text/markdown": [
       "47823"
      ],
      "text/plain": [
       "[1] 47823"
      ]
     },
     "metadata": {},
     "output_type": "display_data"
    },
    {
     "data": {
      "text/html": [
       "<table class=\"dataframe\">\n",
       "<caption>A matrix: 2 × 6 of type dbl</caption>\n",
       "<thead>\n",
       "\t<tr><th></th><th scope=col>used</th><th scope=col>(Mb)</th><th scope=col>gc trigger</th><th scope=col>(Mb)</th><th scope=col>max used</th><th scope=col>(Mb)</th></tr>\n",
       "</thead>\n",
       "<tbody>\n",
       "\t<tr><th scope=row>Ncells</th><td> 10338151</td><td> 552.2</td><td> 20127250</td><td>1075.0</td><td> 12438882</td><td> 664.4</td></tr>\n",
       "\t<tr><th scope=row>Vcells</th><td>377996097</td><td>2883.9</td><td>565999877</td><td>4318.3</td><td>565999868</td><td>4318.3</td></tr>\n",
       "</tbody>\n",
       "</table>\n"
      ],
      "text/latex": [
       "A matrix: 2 × 6 of type dbl\n",
       "\\begin{tabular}{r|llllll}\n",
       "  & used & (Mb) & gc trigger & (Mb) & max used & (Mb)\\\\\n",
       "\\hline\n",
       "\tNcells &  10338151 &  552.2 &  20127250 & 1075.0 &  12438882 &  664.4\\\\\n",
       "\tVcells & 377996097 & 2883.9 & 565999877 & 4318.3 & 565999868 & 4318.3\\\\\n",
       "\\end{tabular}\n"
      ],
      "text/markdown": [
       "\n",
       "A matrix: 2 × 6 of type dbl\n",
       "\n",
       "| <!--/--> | used | (Mb) | gc trigger | (Mb) | max used | (Mb) |\n",
       "|---|---|---|---|---|---|---|\n",
       "| Ncells |  10338151 |  552.2 |  20127250 | 1075.0 |  12438882 |  664.4 |\n",
       "| Vcells | 377996097 | 2883.9 | 565999877 | 4318.3 | 565999868 | 4318.3 |\n",
       "\n"
      ],
      "text/plain": [
       "       used      (Mb)   gc trigger (Mb)   max used  (Mb)  \n",
       "Ncells  10338151  552.2  20127250  1075.0  12438882  664.4\n",
       "Vcells 377996097 2883.9 565999877  4318.3 565999868 4318.3"
      ]
     },
     "metadata": {},
     "output_type": "display_data"
    }
   ],
   "source": [
    "cuts <- list()\n",
    "globArr <- rep(-100, l+treeMeanInf0$Nnode)\n",
    "lambda <- 0.1\n",
    "obj <- irvMeanInf0 - lambda*c(rep(1,l),cpMeanInf0, descL)\n",
    "findOptSum(treeMeanInf0, obj, l+1, descL)\n",
    "cuts[[1]] <- findCuts(treeMeanInf0, globArr, obj, l+1, descL)\n",
    "length(cuts[[1]])\n",
    "gc()\n",
    "\n",
    "globArr <- rep(-100, l+treeMeanInf0$Nnode)\n",
    "lambda <- 1\n",
    "obj <- irvMeanInf0 - lambda*c(rep(1,l),cpMeanInf0, descL)\n",
    "findOptSum(treeMeanInf0, obj, l+1, descL)\n",
    "cuts[[2]] <- findCuts(treeMeanInf0, globArr, obj, l+1, descL)\n",
    "length(cuts[[2]])\n",
    "gc()\n",
    "\n",
    "globArr <- rep(-100, l+treeMeanInf0$Nnode)\n",
    "lambda <- 10\n",
    "obj <- irvMeanInf0 - lambda*c(rep(1,l),cpMeanInf0, descL)\n",
    "findOptSum(treeMeanInf0, obj, l+1, descL)\n",
    "cuts[[3]] <- findCuts(treeMeanInf0, globArr, obj, l+1, descL)\n",
    "length(cuts[[3]])\n",
    "gc()\n"
   ]
  },
  {
   "cell_type": "code",
   "execution_count": 5,
   "id": "3535567b",
   "metadata": {},
   "outputs": [
    {
     "data": {
      "text/html": [
       "6"
      ],
      "text/latex": [
       "6"
      ],
      "text/markdown": [
       "6"
      ],
      "text/plain": [
       "[1] 6"
      ]
     },
     "metadata": {},
     "output_type": "display_data"
    }
   ],
   "source": [
    "length(cuts)\n",
    "load(\"environment/brain_sim_nodtu/mode=gc_bias/post_type=gibbs_nrep=100_tf=100/mean_cons/treeCons0.RData\")"
   ]
  },
  {
   "cell_type": "code",
   "execution_count": 10,
   "id": "f2d92de9",
   "metadata": {},
   "outputs": [
    {
     "data": {
      "text/html": [
       "-4737.23734015236"
      ],
      "text/latex": [
       "-4737.23734015236"
      ],
      "text/markdown": [
       "-4737.23734015236"
      ],
      "text/plain": [
       "[1] -4737.237"
      ]
     },
     "metadata": {},
     "output_type": "display_data"
    },
    {
     "data": {
      "text/html": [
       "35209"
      ],
      "text/latex": [
       "35209"
      ],
      "text/markdown": [
       "35209"
      ],
      "text/plain": [
       "[1] 35209"
      ]
     },
     "metadata": {},
     "output_type": "display_data"
    },
    {
     "data": {
      "text/html": [
       "<table class=\"dataframe\">\n",
       "<caption>A matrix: 2 × 6 of type dbl</caption>\n",
       "<thead>\n",
       "\t<tr><th></th><th scope=col>used</th><th scope=col>(Mb)</th><th scope=col>gc trigger</th><th scope=col>(Mb)</th><th scope=col>max used</th><th scope=col>(Mb)</th></tr>\n",
       "</thead>\n",
       "<tbody>\n",
       "\t<tr><th scope=row>Ncells</th><td> 10360324</td><td> 553.4</td><td>  20127250</td><td>1075.0</td><td>  13959913</td><td> 745.6</td></tr>\n",
       "\t<tr><th scope=row>Vcells</th><td>727933111</td><td>5553.7</td><td>1195078706</td><td>9117.8</td><td>1195031398</td><td>9117.4</td></tr>\n",
       "</tbody>\n",
       "</table>\n"
      ],
      "text/latex": [
       "A matrix: 2 × 6 of type dbl\n",
       "\\begin{tabular}{r|llllll}\n",
       "  & used & (Mb) & gc trigger & (Mb) & max used & (Mb)\\\\\n",
       "\\hline\n",
       "\tNcells &  10360324 &  553.4 &   20127250 & 1075.0 &   13959913 &  745.6\\\\\n",
       "\tVcells & 727933111 & 5553.7 & 1195078706 & 9117.8 & 1195031398 & 9117.4\\\\\n",
       "\\end{tabular}\n"
      ],
      "text/markdown": [
       "\n",
       "A matrix: 2 × 6 of type dbl\n",
       "\n",
       "| <!--/--> | used | (Mb) | gc trigger | (Mb) | max used | (Mb) |\n",
       "|---|---|---|---|---|---|---|\n",
       "| Ncells |  10360324 |  553.4 |   20127250 | 1075.0 |   13959913 |  745.6 |\n",
       "| Vcells | 727933111 | 5553.7 | 1195078706 | 9117.8 | 1195031398 | 9117.4 |\n",
       "\n"
      ],
      "text/plain": [
       "       used      (Mb)   gc trigger (Mb)   max used   (Mb)  \n",
       "Ncells  10360324  553.4   20127250 1075.0   13959913  745.6\n",
       "Vcells 727933111 5553.7 1195078706 9117.8 1195031398 9117.4"
      ]
     },
     "metadata": {},
     "output_type": "display_data"
    },
    {
     "data": {
      "text/html": [
       "-126877.501767481"
      ],
      "text/latex": [
       "-126877.501767481"
      ],
      "text/markdown": [
       "-126877.501767481"
      ],
      "text/plain": [
       "[1] -126877.5"
      ]
     },
     "metadata": {},
     "output_type": "display_data"
    },
    {
     "data": {
      "text/html": [
       "40869"
      ],
      "text/latex": [
       "40869"
      ],
      "text/markdown": [
       "40869"
      ],
      "text/plain": [
       "[1] 40869"
      ]
     },
     "metadata": {},
     "output_type": "display_data"
    },
    {
     "data": {
      "text/html": [
       "<table class=\"dataframe\">\n",
       "<caption>A matrix: 2 × 6 of type dbl</caption>\n",
       "<thead>\n",
       "\t<tr><th></th><th scope=col>used</th><th scope=col>(Mb)</th><th scope=col>gc trigger</th><th scope=col>(Mb)</th><th scope=col>max used</th><th scope=col>(Mb)</th></tr>\n",
       "</thead>\n",
       "<tbody>\n",
       "\t<tr><th scope=row>Ncells</th><td> 10360373</td><td> 553.4</td><td>  20127250</td><td>1075.0</td><td>  13959913</td><td> 745.6</td></tr>\n",
       "\t<tr><th scope=row>Vcells</th><td>727953586</td><td>5553.9</td><td>1195078706</td><td>9117.8</td><td>1195052125</td><td>9117.6</td></tr>\n",
       "</tbody>\n",
       "</table>\n"
      ],
      "text/latex": [
       "A matrix: 2 × 6 of type dbl\n",
       "\\begin{tabular}{r|llllll}\n",
       "  & used & (Mb) & gc trigger & (Mb) & max used & (Mb)\\\\\n",
       "\\hline\n",
       "\tNcells &  10360373 &  553.4 &   20127250 & 1075.0 &   13959913 &  745.6\\\\\n",
       "\tVcells & 727953586 & 5553.9 & 1195078706 & 9117.8 & 1195052125 & 9117.6\\\\\n",
       "\\end{tabular}\n"
      ],
      "text/markdown": [
       "\n",
       "A matrix: 2 × 6 of type dbl\n",
       "\n",
       "| <!--/--> | used | (Mb) | gc trigger | (Mb) | max used | (Mb) |\n",
       "|---|---|---|---|---|---|---|\n",
       "| Ncells |  10360373 |  553.4 |   20127250 | 1075.0 |   13959913 |  745.6 |\n",
       "| Vcells | 727953586 | 5553.9 | 1195078706 | 9117.8 | 1195052125 | 9117.6 |\n",
       "\n"
      ],
      "text/plain": [
       "       used      (Mb)   gc trigger (Mb)   max used   (Mb)  \n",
       "Ncells  10360373  553.4   20127250 1075.0   13959913  745.6\n",
       "Vcells 727953586 5553.9 1195078706 9117.8 1195052125 9117.6"
      ]
     },
     "metadata": {},
     "output_type": "display_data"
    },
    {
     "data": {
      "text/html": [
       "-1373057.28360082"
      ],
      "text/latex": [
       "-1373057.28360082"
      ],
      "text/markdown": [
       "-1373057.28360082"
      ],
      "text/plain": [
       "[1] -1373057"
      ]
     },
     "metadata": {},
     "output_type": "display_data"
    },
    {
     "data": {
      "text/html": [
       "46048"
      ],
      "text/latex": [
       "46048"
      ],
      "text/markdown": [
       "46048"
      ],
      "text/plain": [
       "[1] 46048"
      ]
     },
     "metadata": {},
     "output_type": "display_data"
    },
    {
     "data": {
      "text/html": [
       "<table class=\"dataframe\">\n",
       "<caption>A matrix: 2 × 6 of type dbl</caption>\n",
       "<thead>\n",
       "\t<tr><th></th><th scope=col>used</th><th scope=col>(Mb)</th><th scope=col>gc trigger</th><th scope=col>(Mb)</th><th scope=col>max used</th><th scope=col>(Mb)</th></tr>\n",
       "</thead>\n",
       "<tbody>\n",
       "\t<tr><th scope=row>Ncells</th><td> 10360419</td><td> 553.4</td><td>  20127250</td><td>1075.0</td><td>  13959913</td><td> 745.6</td></tr>\n",
       "\t<tr><th scope=row>Vcells</th><td>727976641</td><td>5554.1</td><td>1195078706</td><td>9117.8</td><td>1195067180</td><td>9117.7</td></tr>\n",
       "</tbody>\n",
       "</table>\n"
      ],
      "text/latex": [
       "A matrix: 2 × 6 of type dbl\n",
       "\\begin{tabular}{r|llllll}\n",
       "  & used & (Mb) & gc trigger & (Mb) & max used & (Mb)\\\\\n",
       "\\hline\n",
       "\tNcells &  10360419 &  553.4 &   20127250 & 1075.0 &   13959913 &  745.6\\\\\n",
       "\tVcells & 727976641 & 5554.1 & 1195078706 & 9117.8 & 1195067180 & 9117.7\\\\\n",
       "\\end{tabular}\n"
      ],
      "text/markdown": [
       "\n",
       "A matrix: 2 × 6 of type dbl\n",
       "\n",
       "| <!--/--> | used | (Mb) | gc trigger | (Mb) | max used | (Mb) |\n",
       "|---|---|---|---|---|---|---|\n",
       "| Ncells |  10360419 |  553.4 |   20127250 | 1075.0 |   13959913 |  745.6 |\n",
       "| Vcells | 727976641 | 5554.1 | 1195078706 | 9117.8 | 1195067180 | 9117.7 |\n",
       "\n"
      ],
      "text/plain": [
       "       used      (Mb)   gc trigger (Mb)   max used   (Mb)  \n",
       "Ncells  10360419  553.4   20127250 1075.0   13959913  745.6\n",
       "Vcells 727976641 5554.1 1195078706 9117.8 1195067180 9117.7"
      ]
     },
     "metadata": {},
     "output_type": "display_data"
    }
   ],
   "source": [
    "descL <- sapply(Descendants(treeCons0, seq(l+treeCons0$Nnode)), length)\n",
    "\n",
    "globArr <- rep(-100, l+treeCons0$Nnode)\n",
    "lambda <- 0.1\n",
    "obj <- irvCons0 - lambda*c(rep(1,l),cpCons0, descL)\n",
    "findOptSum(treeCons0, obj, l+1, descL)\n",
    "cuts[[4]] <- findCuts(treeCons0, globArr, obj, l+1, descL)\n",
    "length(cuts[[4]])\n",
    "gc()\n",
    "\n",
    "globArr <- rep(-100, l+treeCons0$Nnode)\n",
    "lambda <- 1\n",
    "obj <- irvCons0 - lambda*c(rep(1,l),cpCons0, descL)\n",
    "findOptSum(treeCons0, obj, l+1, descL)\n",
    "cuts[[5]] <- findCuts(treeCons0, globArr, obj, l+1, descL)\n",
    "length(cuts[[5]])\n",
    "gc()\n",
    "\n",
    "globArr <- rep(-100, l+treeCons0$Nnode)\n",
    "lambda <- 10\n",
    "obj <- irvCons0 - lambda*c(rep(1,l),cpCons0, descL)\n",
    "findOptSum(treeCons0, obj, l+1, descL)\n",
    "cuts[[6]] <- findCuts(treeCons0, globArr, obj, l+1, descL)\n",
    "length(cuts[[6]])\n",
    "gc()"
   ]
  },
  {
   "cell_type": "markdown",
   "id": "2967aa91",
   "metadata": {},
   "source": [
    "#### Lambda 1"
   ]
  },
  {
   "cell_type": "code",
   "execution_count": 19,
   "id": "0cd5c32e",
   "metadata": {},
   "outputs": [
    {
     "data": {
      "text/html": [
       "40869"
      ],
      "text/latex": [
       "40869"
      ],
      "text/markdown": [
       "40869"
      ],
      "text/plain": [
       "[1] 40869"
      ]
     },
     "metadata": {},
     "output_type": "display_data"
    },
    {
     "data": {
      "text/html": [
       "<table class=\"dataframe\">\n",
       "<caption>A matrix: 2 × 6 of type dbl</caption>\n",
       "<thead>\n",
       "\t<tr><th></th><th scope=col>used</th><th scope=col>(Mb)</th><th scope=col>gc trigger</th><th scope=col>(Mb)</th><th scope=col>max used</th><th scope=col>(Mb)</th></tr>\n",
       "</thead>\n",
       "<tbody>\n",
       "\t<tr><th scope=row>Ncells</th><td>  10351658</td><td>  552.9</td><td>  20581405</td><td> 1099.2</td><td>  13972518</td><td>  746.3</td></tr>\n",
       "\t<tr><th scope=row>Vcells</th><td>1661223861</td><td>12674.2</td><td>2783560904</td><td>21236.9</td><td>2319532495</td><td>17696.7</td></tr>\n",
       "</tbody>\n",
       "</table>\n"
      ],
      "text/latex": [
       "A matrix: 2 × 6 of type dbl\n",
       "\\begin{tabular}{r|llllll}\n",
       "  & used & (Mb) & gc trigger & (Mb) & max used & (Mb)\\\\\n",
       "\\hline\n",
       "\tNcells &   10351658 &   552.9 &   20581405 &  1099.2 &   13972518 &   746.3\\\\\n",
       "\tVcells & 1661223861 & 12674.2 & 2783560904 & 21236.9 & 2319532495 & 17696.7\\\\\n",
       "\\end{tabular}\n"
      ],
      "text/markdown": [
       "\n",
       "A matrix: 2 × 6 of type dbl\n",
       "\n",
       "| <!--/--> | used | (Mb) | gc trigger | (Mb) | max used | (Mb) |\n",
       "|---|---|---|---|---|---|---|\n",
       "| Ncells |   10351658 |   552.9 |   20581405 |  1099.2 |   13972518 |   746.3 |\n",
       "| Vcells | 1661223861 | 12674.2 | 2783560904 | 21236.9 | 2319532495 | 17696.7 |\n",
       "\n"
      ],
      "text/plain": [
       "       used       (Mb)    gc trigger (Mb)    max used   (Mb)   \n",
       "Ncells   10351658   552.9   20581405  1099.2   13972518   746.3\n",
       "Vcells 1661223861 12674.2 2783560904 21236.9 2319532495 17696.7"
      ]
     },
     "metadata": {},
     "output_type": "display_data"
    }
   ],
   "source": [
    "lambda <- 1\n",
    "dfPurity <- data.frame(matrix(nrow=0, ncol=4))\n",
    "dCuts <- list()\n",
    "dCuts[[\"lambda=1\"]] <- list()\n",
    "colnames(dfPurity) <- c(\"Type\", \"Value\", \"nCuts\", \"lambda\")\n",
    "l <- length(treeCons$tip)\n",
    "\n",
    "globArr <- rep(-100, l+treeCons0$Nnode)\n",
    "descL <- sapply(Descendants(treeCons0, seq(l+treeCons0$Nnode)), length)\n",
    "obj <- mcols(yAggConsNS0)[[\"meanInfRV\"]] - lambda*c(rep(1,l),cpCons0)\n",
    "val <- findOptSum(treeCons0, obj, l+1, descL)\n",
    "dCuts[[\"lambda=1\"]][[\"Cons0\"]] <- findCuts(treeCons0, globArr, obj, l+1, descL)\n",
    "length(dCuts[[\"lambda=1\"]][[\"Cons0\"]])\n",
    "dfPurity <- rbind(dfPurity, data.frame(Type = \"Cons0\", Value = val, \n",
    "                                       nCuts = length(dCuts[[\"lambda=1\"]][[\"Cons0\"]]), lambda=lambda))\n",
    "gc()"
   ]
  },
  {
   "cell_type": "code",
   "execution_count": 36,
   "id": "d064c128",
   "metadata": {},
   "outputs": [
    {
     "data": {
      "text/html": [
       "101244"
      ],
      "text/latex": [
       "101244"
      ],
      "text/markdown": [
       "101244"
      ],
      "text/plain": [
       "[1] 101244"
      ]
     },
     "metadata": {},
     "output_type": "display_data"
    },
    {
     "data": {
      "text/html": [
       "<table class=\"dataframe\">\n",
       "<caption>A matrix: 2 × 6 of type dbl</caption>\n",
       "<thead>\n",
       "\t<tr><th></th><th scope=col>used</th><th scope=col>(Mb)</th><th scope=col>gc trigger</th><th scope=col>(Mb)</th><th scope=col>max used</th><th scope=col>(Mb)</th></tr>\n",
       "</thead>\n",
       "<tbody>\n",
       "\t<tr><th scope=row>Ncells</th><td>  10358547</td><td>  553.3</td><td>  20581405</td><td> 1099.2</td><td>  16403238</td><td>  876.1</td></tr>\n",
       "\t<tr><th scope=row>Vcells</th><td>1661469478</td><td>12676.1</td><td>2783560904</td><td>21236.9</td><td>2783560791</td><td>21236.9</td></tr>\n",
       "</tbody>\n",
       "</table>\n"
      ],
      "text/latex": [
       "A matrix: 2 × 6 of type dbl\n",
       "\\begin{tabular}{r|llllll}\n",
       "  & used & (Mb) & gc trigger & (Mb) & max used & (Mb)\\\\\n",
       "\\hline\n",
       "\tNcells &   10358547 &   553.3 &   20581405 &  1099.2 &   16403238 &   876.1\\\\\n",
       "\tVcells & 1661469478 & 12676.1 & 2783560904 & 21236.9 & 2783560791 & 21236.9\\\\\n",
       "\\end{tabular}\n"
      ],
      "text/markdown": [
       "\n",
       "A matrix: 2 × 6 of type dbl\n",
       "\n",
       "| <!--/--> | used | (Mb) | gc trigger | (Mb) | max used | (Mb) |\n",
       "|---|---|---|---|---|---|---|\n",
       "| Ncells |   10358547 |   553.3 |   20581405 |  1099.2 |   16403238 |   876.1 |\n",
       "| Vcells | 1661469478 | 12676.1 | 2783560904 | 21236.9 | 2783560791 | 21236.9 |\n",
       "\n"
      ],
      "text/plain": [
       "       used       (Mb)    gc trigger (Mb)    max used   (Mb)   \n",
       "Ncells   10358547   553.3   20581405  1099.2   16403238   876.1\n",
       "Vcells 1661469478 12676.1 2783560904 21236.9 2783560791 21236.9"
      ]
     },
     "metadata": {},
     "output_type": "display_data"
    }
   ],
   "source": [
    "# globArr <- rep(-100, l+treeCons$Nnode)\n",
    "# descL <- sapply(Descendants(treeCons, seq(l+treeCons$Nnode)), length)\n",
    "# obj <- mcols(yAggConsNS)[[\"meanInfRV\"]] - lambda*c(rep(1,l),cpCons)\n",
    "# val <- findOptSum(treeCons, obj, l+1, descL)\n",
    "# dCuts[[\"lambda=1\"]][[\"Cons\"]] <- findCuts(treeCons, globArr, obj, l+1, descL)\n",
    "# length(dCuts[[\"lambda=1\"]][[\"Cons\"]])\n",
    "# dfPurity <- rbind(dfPurity, data.frame(Type = \"Cons\", Value = val, \n",
    "#                                        nCuts = length(dCuts[[\"lambda=1\"]][[\"Cons\"]]), lambda=lambda))\n",
    "# gc()\n",
    "\n",
    "# globArr <- rep(-100, l+treeMeanInf0$Nnode)\n",
    "# descL <- sapply(Descendants(treeMeanInf0, seq(l+treeMeanInf0$Nnode)), length)\n",
    "# obj <- mcols(yAggMeanInfNS0)[[\"meanInfRV\"]] - lambda*c(rep(1,l),cpMeanInf0, descL)\n",
    "# val <- findOptSum(treeMeanInf0, obj, l+1, descL)\n",
    "# dCuts[[\"lambda=1\"]][[\"MeanInf0\"]] <- findCuts(treeMeanInf0, globArr, obj, l+1, descL)\n",
    "# length(dCuts[[\"lambda=1\"]][[\"MeanInf0\"]])\n",
    "# dfPurity <- rbind(dfPurity, data.frame(Type = \"MeanInf0\", Value = val, \n",
    "#                                        nCuts = length(dCuts[[\"lambda=1\"]][[\"MeanInf0\"]]), lambda=lambda))\n",
    "# gc()\n",
    "\n",
    "# globArr <- rep(-100, l+treeMeanInf$Nnode)\n",
    "# descL <- sapply(Descendants(treeMeanInf, seq(l+treeMeanInf$Nnode)), length)\n",
    "# obj <- mcols(yAggMeanInfNS)[[\"meanInfRV\"]] - lambda*c(rep(1,l),cpMeanInf, descL)\n",
    "# val <- findOptSum(treeMeanInf, obj, l+1, descL)\n",
    "# dCuts[[\"lambda=1\"]][[\"MeanInf\"]] <- findCuts(treeMeanInf, globArr, obj, l+1, descL)\n",
    "# length(dCuts[[\"lambda=1\"]][[\"MeanInf\"]])\n",
    "# dfPurity <- rbind(dfPurity, data.frame(Type = \"MeanInf\", Value = val, \n",
    "#                                        nCuts = length(dCuts[[\"lambda=1\"]][[\"MeanInf\"]]), lambda=lambda))\n",
    "# gc()\n",
    "\n",
    "globArr <- rep(-100, l+treeCor$Nnode)\n",
    "descL <- sapply(Descendants(treeCor, seq(l+treeCor$Nnode)), length)\n",
    "obj <- mcols(yAggCorNS)[[\"meanInfRV\"]] - lambda*c(rep(1,l),cpCor, descL)\n",
    "val <- findOptSum(treeCor, obj, l+1, descL)\n",
    "dCuts[[\"lambda=1\"]][[\"Cor\"]] <- findCuts(treeCor, globArr, obj, l+1, descL)\n",
    "length(dCuts[[\"lambda=1\"]][[\"Cor\"]])\n",
    "dfPurity <- rbind(dfPurity, data.frame(Type = \"Cor\", Value = val, \n",
    "                                       nCuts = length(dCuts[[\"lambda=1\"]][[\"Cor\"]]), lambda=lambda))\n",
    "gc()\n",
    "save(dCuts, file=\"environment/brain_sim_nodtu/mode=gc_bias/post_type=gibbs_nrep=100_tf=100/mean_cons/cutsPur.RData\")"
   ]
  },
  {
   "cell_type": "code",
   "execution_count": 61,
   "id": "90cafeaa",
   "metadata": {},
   "outputs": [
    {
     "data": {
      "text/html": [
       "<table class=\"dataframe\">\n",
       "<caption>A data.frame: 25 × 4</caption>\n",
       "<thead>\n",
       "\t<tr><th scope=col>Type</th><th scope=col>Value</th><th scope=col>nCuts</th><th scope=col>lambda</th></tr>\n",
       "\t<tr><th scope=col>&lt;chr&gt;</th><th scope=col>&lt;dbl&gt;</th><th scope=col>&lt;int&gt;</th><th scope=col>&lt;dbl&gt;</th></tr>\n",
       "</thead>\n",
       "<tbody>\n",
       "\t<tr><td>Cons0   </td><td> -126877.502</td><td> 40869</td><td> 1.0</td></tr>\n",
       "\t<tr><td>Cons    </td><td> -119771.056</td><td> 44618</td><td> 1.0</td></tr>\n",
       "\t<tr><td>MeanInf0</td><td> -126525.118</td><td> 41692</td><td> 1.0</td></tr>\n",
       "\t<tr><td>MeanInf </td><td> -112882.570</td><td> 68197</td><td> 1.0</td></tr>\n",
       "\t<tr><td>Cor     </td><td>  -23387.207</td><td>101244</td><td> 1.0</td></tr>\n",
       "\t<tr><td>Cons0   </td><td>   -4737.237</td><td> 35209</td><td> 0.1</td></tr>\n",
       "\t<tr><td>Cons    </td><td>    -840.506</td><td> 37074</td><td> 0.1</td></tr>\n",
       "\t<tr><td>MeanInf0</td><td>   -4841.054</td><td> 35740</td><td> 0.1</td></tr>\n",
       "\t<tr><td>MeanInf </td><td>    1376.890</td><td>     1</td><td> 0.1</td></tr>\n",
       "\t<tr><td>Cor     </td><td>    1376.890</td><td>     1</td><td> 0.1</td></tr>\n",
       "\t<tr><td>Cons0   </td><td> -679137.972</td><td> 44621</td><td> 5.0</td></tr>\n",
       "\t<tr><td>Cons    </td><td> -670181.824</td><td> 52481</td><td> 5.0</td></tr>\n",
       "\t<tr><td>MeanInf0</td><td> -678081.081</td><td> 46299</td><td> 5.0</td></tr>\n",
       "\t<tr><td>MeanInf </td><td> -664938.748</td><td> 71398</td><td> 5.0</td></tr>\n",
       "\t<tr><td>Cor     </td><td> -566727.483</td><td>113646</td><td> 5.0</td></tr>\n",
       "\t<tr><td>Cons0   </td><td>  -58639.143</td><td> 38908</td><td> 0.5</td></tr>\n",
       "\t<tr><td>Cons    </td><td>  -53042.099</td><td> 40391</td><td> 0.5</td></tr>\n",
       "\t<tr><td>MeanInf0</td><td>  -58547.829</td><td> 39469</td><td> 0.5</td></tr>\n",
       "\t<tr><td>MeanInf </td><td>  -44665.637</td><td> 66919</td><td> 0.5</td></tr>\n",
       "\t<tr><td>Cor     </td><td>    1312.490</td><td>     1</td><td> 0.5</td></tr>\n",
       "\t<tr><td>Cons0   </td><td>-1373057.284</td><td> 46048</td><td>10.0</td></tr>\n",
       "\t<tr><td>Cons    </td><td>-1363686.510</td><td> 54564</td><td>10.0</td></tr>\n",
       "\t<tr><td>MeanInf0</td><td>-1371932.387</td><td> 47823</td><td>10.0</td></tr>\n",
       "\t<tr><td>MeanInf </td><td>-1358883.363</td><td> 72531</td><td>10.0</td></tr>\n",
       "\t<tr><td>Cor     </td><td>-1260624.532</td><td>114462</td><td>10.0</td></tr>\n",
       "</tbody>\n",
       "</table>\n"
      ],
      "text/latex": [
       "A data.frame: 25 × 4\n",
       "\\begin{tabular}{llll}\n",
       " Type & Value & nCuts & lambda\\\\\n",
       " <chr> & <dbl> & <int> & <dbl>\\\\\n",
       "\\hline\n",
       "\t Cons0    &  -126877.502 &  40869 &  1.0\\\\\n",
       "\t Cons     &  -119771.056 &  44618 &  1.0\\\\\n",
       "\t MeanInf0 &  -126525.118 &  41692 &  1.0\\\\\n",
       "\t MeanInf  &  -112882.570 &  68197 &  1.0\\\\\n",
       "\t Cor      &   -23387.207 & 101244 &  1.0\\\\\n",
       "\t Cons0    &    -4737.237 &  35209 &  0.1\\\\\n",
       "\t Cons     &     -840.506 &  37074 &  0.1\\\\\n",
       "\t MeanInf0 &    -4841.054 &  35740 &  0.1\\\\\n",
       "\t MeanInf  &     1376.890 &      1 &  0.1\\\\\n",
       "\t Cor      &     1376.890 &      1 &  0.1\\\\\n",
       "\t Cons0    &  -679137.972 &  44621 &  5.0\\\\\n",
       "\t Cons     &  -670181.824 &  52481 &  5.0\\\\\n",
       "\t MeanInf0 &  -678081.081 &  46299 &  5.0\\\\\n",
       "\t MeanInf  &  -664938.748 &  71398 &  5.0\\\\\n",
       "\t Cor      &  -566727.483 & 113646 &  5.0\\\\\n",
       "\t Cons0    &   -58639.143 &  38908 &  0.5\\\\\n",
       "\t Cons     &   -53042.099 &  40391 &  0.5\\\\\n",
       "\t MeanInf0 &   -58547.829 &  39469 &  0.5\\\\\n",
       "\t MeanInf  &   -44665.637 &  66919 &  0.5\\\\\n",
       "\t Cor      &     1312.490 &      1 &  0.5\\\\\n",
       "\t Cons0    & -1373057.284 &  46048 & 10.0\\\\\n",
       "\t Cons     & -1363686.510 &  54564 & 10.0\\\\\n",
       "\t MeanInf0 & -1371932.387 &  47823 & 10.0\\\\\n",
       "\t MeanInf  & -1358883.363 &  72531 & 10.0\\\\\n",
       "\t Cor      & -1260624.532 & 114462 & 10.0\\\\\n",
       "\\end{tabular}\n"
      ],
      "text/markdown": [
       "\n",
       "A data.frame: 25 × 4\n",
       "\n",
       "| Type &lt;chr&gt; | Value &lt;dbl&gt; | nCuts &lt;int&gt; | lambda &lt;dbl&gt; |\n",
       "|---|---|---|---|\n",
       "| Cons0    |  -126877.502 |  40869 |  1.0 |\n",
       "| Cons     |  -119771.056 |  44618 |  1.0 |\n",
       "| MeanInf0 |  -126525.118 |  41692 |  1.0 |\n",
       "| MeanInf  |  -112882.570 |  68197 |  1.0 |\n",
       "| Cor      |   -23387.207 | 101244 |  1.0 |\n",
       "| Cons0    |    -4737.237 |  35209 |  0.1 |\n",
       "| Cons     |     -840.506 |  37074 |  0.1 |\n",
       "| MeanInf0 |    -4841.054 |  35740 |  0.1 |\n",
       "| MeanInf  |     1376.890 |      1 |  0.1 |\n",
       "| Cor      |     1376.890 |      1 |  0.1 |\n",
       "| Cons0    |  -679137.972 |  44621 |  5.0 |\n",
       "| Cons     |  -670181.824 |  52481 |  5.0 |\n",
       "| MeanInf0 |  -678081.081 |  46299 |  5.0 |\n",
       "| MeanInf  |  -664938.748 |  71398 |  5.0 |\n",
       "| Cor      |  -566727.483 | 113646 |  5.0 |\n",
       "| Cons0    |   -58639.143 |  38908 |  0.5 |\n",
       "| Cons     |   -53042.099 |  40391 |  0.5 |\n",
       "| MeanInf0 |   -58547.829 |  39469 |  0.5 |\n",
       "| MeanInf  |   -44665.637 |  66919 |  0.5 |\n",
       "| Cor      |     1312.490 |      1 |  0.5 |\n",
       "| Cons0    | -1373057.284 |  46048 | 10.0 |\n",
       "| Cons     | -1363686.510 |  54564 | 10.0 |\n",
       "| MeanInf0 | -1371932.387 |  47823 | 10.0 |\n",
       "| MeanInf  | -1358883.363 |  72531 | 10.0 |\n",
       "| Cor      | -1260624.532 | 114462 | 10.0 |\n",
       "\n"
      ],
      "text/plain": [
       "   Type     Value        nCuts  lambda\n",
       "1  Cons0     -126877.502  40869  1.0  \n",
       "2  Cons      -119771.056  44618  1.0  \n",
       "3  MeanInf0  -126525.118  41692  1.0  \n",
       "4  MeanInf   -112882.570  68197  1.0  \n",
       "5  Cor        -23387.207 101244  1.0  \n",
       "6  Cons0       -4737.237  35209  0.1  \n",
       "7  Cons         -840.506  37074  0.1  \n",
       "8  MeanInf0    -4841.054  35740  0.1  \n",
       "9  MeanInf      1376.890      1  0.1  \n",
       "10 Cor          1376.890      1  0.1  \n",
       "11 Cons0     -679137.972  44621  5.0  \n",
       "12 Cons      -670181.824  52481  5.0  \n",
       "13 MeanInf0  -678081.081  46299  5.0  \n",
       "14 MeanInf   -664938.748  71398  5.0  \n",
       "15 Cor       -566727.483 113646  5.0  \n",
       "16 Cons0      -58639.143  38908  0.5  \n",
       "17 Cons       -53042.099  40391  0.5  \n",
       "18 MeanInf0   -58547.829  39469  0.5  \n",
       "19 MeanInf    -44665.637  66919  0.5  \n",
       "20 Cor          1312.490      1  0.5  \n",
       "21 Cons0    -1373057.284  46048 10.0  \n",
       "22 Cons     -1363686.510  54564 10.0  \n",
       "23 MeanInf0 -1371932.387  47823 10.0  \n",
       "24 MeanInf  -1358883.363  72531 10.0  \n",
       "25 Cor      -1260624.532 114462 10.0  "
      ]
     },
     "metadata": {},
     "output_type": "display_data"
    }
   ],
   "source": [
    "dfPurity"
   ]
  },
  {
   "cell_type": "code",
   "execution_count": 54,
   "id": "332336ba",
   "metadata": {},
   "outputs": [],
   "source": [
    "lambda <- 0.1\n",
    "\n",
    "globArr <- rep(-100, l+treeCons0$Nnode)\n",
    "descL <- sapply(Descendants(treeCons0, seq(l+treeCons0$Nnode)), length)\n",
    "obj <- mcols(yAggConsNS0)[[\"meanInfRV\"]] - lambda*c(rep(1,l),cpCons0)\n",
    "val <- findOptSum(treeCons0, obj, l+1, descL)\n",
    "dCuts[[\"lambda=0.1\"]][[\"Cons0\"]] <- findCuts(treeCons0, globArr, obj, l+1, descL)\n",
    "length(dCuts[[\"lambda=0.1\"]][[\"Cons0\"]])\n",
    "dfPurity <- rbind(dfPurity, data.frame(Type = \"Cons0\", Value = val, \n",
    "                                       nCuts = length(dCuts[[\"lambda=0.1\"]][[\"Cons0\"]]), lambda=lambda))\n",
    "gc()\n",
    "\n",
    "globArr <- rep(-100, l+treeCons$Nnode)\n",
    "descL <- sapply(Descendants(treeCons, seq(l+treeCons$Nnode)), length)\n",
    "obj <- mcols(yAggConsNS)[[\"meanInfRV\"]] - lambda*c(rep(1,l),cpCons)\n",
    "val <- findOptSum(treeCons, obj, l+1, descL)\n",
    "dCuts[[\"lambda=0.1\"]][[\"Cons\"]] <- findCuts(treeCons, globArr, obj, l+1, descL)\n",
    "length(dCuts[[\"lambda=0.1\"]][[\"Cons\"]])\n",
    "dfPurity <- rbind(dfPurity, data.frame(Type = \"Cons\", Value = val, \n",
    "                                       nCuts = length(dCuts[[\"lambda=0.1\"]][[\"Cons\"]]), lambda=lambda))\n",
    "gc()\n",
    "\n",
    "globArr <- rep(-100, l+treeMeanInf0$Nnode)\n",
    "descL <- sapply(Descendants(treeMeanInf0, seq(l+treeMeanInf0$Nnode)), length)\n",
    "obj <- mcols(yAggMeanInfNS0)[[\"meanInfRV\"]] - lambda*c(rep(1,l),cpMeanInf0, descL)\n",
    "val <- findOptSum(treeMeanInf0, obj, l+1, descL)\n",
    "dCuts[[\"lambda=0.1\"]][[\"MeanInf0\"]] <- findCuts(treeMeanInf0, globArr, obj, l+1, descL)\n",
    "length(dCuts[[\"lambda=0.1\"]][[\"MeanInf0\"]])\n",
    "dfPurity <- rbind(dfPurity, data.frame(Type = \"MeanInf0\", Value = val, \n",
    "                                       nCuts = length(dCuts[[\"lambda=0.1\"]][[\"MeanInf0\"]]), lambda=lambda))\n",
    "gc()\n",
    "\n",
    "globArr <- rep(-100, l+treeMeanInf$Nnode)\n",
    "descL <- sapply(Descendants(treeMeanInf, seq(l+treeMeanInf$Nnode)), length)\n",
    "obj <- mcols(yAggMeanInfNS)[[\"meanInfRV\"]] - lambda*c(rep(1,l),cpMeanInf, descL)\n",
    "val <- findOptSum(treeMeanInf, obj, l+1, descL)\n",
    "dCuts[[\"lambda=0.1\"]][[\"MeanInf\"]] <- findCuts(treeMeanInf, globArr, obj, l+1, descL)\n",
    "length(dCuts[[\"lambda=0.1\"]][[\"MeanInf\"]])\n",
    "dfPurity <- rbind(dfPurity, data.frame(Type = \"MeanInf\", Value = val, \n",
    "                                       nCuts = length(dCuts[[\"lambda=0.1\"]][[\"MeanInf\"]]), lambda=lambda))\n",
    "gc()\n",
    "\n",
    "globArr <- rep(-100, l+treeCor$Nnode)\n",
    "descL <- sapply(Descendants(treeCor, seq(l+treeCor$Nnode)), length)\n",
    "obj <- mcols(yAggCorNS)[[\"meanInfRV\"]] - lambda*c(rep(1,l),cpCor, descL)\n",
    "val <- findOptSum(treeCor, obj, l+1, descL)\n",
    "dCuts[[\"lambda=0.1\"]][[\"Cor\"]] <- findCuts(treeCor, globArr, obj, l+1, descL)\n",
    "length(dCuts[[\"lambda=0.1\"]][[\"Cor\"]])\n",
    "dfPurity <- rbind(dfPurity, data.frame(Type = \"Cor\", Value = val, \n",
    "                                       nCuts = length(dCuts[[\"lambda=0.1\"]][[\"Cor\"]]), lambda=lambda))\n",
    "gc()\n",
    "save(dCuts, file=\"environment/brain_sim_nodtu/mode=gc_bias/post_type=gibbs_nrep=100_tf=100/mean_cons/cutsPur.RData\")"
   ]
  },
  {
   "cell_type": "code",
   "execution_count": 55,
   "id": "b82384c1",
   "metadata": {},
   "outputs": [
    {
     "data": {
      "text/html": [
       "46299"
      ],
      "text/latex": [
       "46299"
      ],
      "text/markdown": [
       "46299"
      ],
      "text/plain": [
       "[1] 46299"
      ]
     },
     "metadata": {},
     "output_type": "display_data"
    },
    {
     "data": {
      "text/html": [
       "<table class=\"dataframe\">\n",
       "<caption>A matrix: 2 × 6 of type dbl</caption>\n",
       "<thead>\n",
       "\t<tr><th></th><th scope=col>used</th><th scope=col>(Mb)</th><th scope=col>gc trigger</th><th scope=col>(Mb)</th><th scope=col>max used</th><th scope=col>(Mb)</th></tr>\n",
       "</thead>\n",
       "<tbody>\n",
       "\t<tr><th scope=row>Ncells</th><td>  10359575</td><td>  553.3</td><td>  20581405</td><td> 1099.2</td><td>  16557378</td><td>  884.3</td></tr>\n",
       "\t<tr><th scope=row>Vcells</th><td>1661768523</td><td>12678.3</td><td>2783560904</td><td>21236.9</td><td>2783560904</td><td>21236.9</td></tr>\n",
       "</tbody>\n",
       "</table>\n"
      ],
      "text/latex": [
       "A matrix: 2 × 6 of type dbl\n",
       "\\begin{tabular}{r|llllll}\n",
       "  & used & (Mb) & gc trigger & (Mb) & max used & (Mb)\\\\\n",
       "\\hline\n",
       "\tNcells &   10359575 &   553.3 &   20581405 &  1099.2 &   16557378 &   884.3\\\\\n",
       "\tVcells & 1661768523 & 12678.3 & 2783560904 & 21236.9 & 2783560904 & 21236.9\\\\\n",
       "\\end{tabular}\n"
      ],
      "text/markdown": [
       "\n",
       "A matrix: 2 × 6 of type dbl\n",
       "\n",
       "| <!--/--> | used | (Mb) | gc trigger | (Mb) | max used | (Mb) |\n",
       "|---|---|---|---|---|---|---|\n",
       "| Ncells |   10359575 |   553.3 |   20581405 |  1099.2 |   16557378 |   884.3 |\n",
       "| Vcells | 1661768523 | 12678.3 | 2783560904 | 21236.9 | 2783560904 | 21236.9 |\n",
       "\n"
      ],
      "text/plain": [
       "       used       (Mb)    gc trigger (Mb)    max used   (Mb)   \n",
       "Ncells   10359575   553.3   20581405  1099.2   16557378   884.3\n",
       "Vcells 1661768523 12678.3 2783560904 21236.9 2783560904 21236.9"
      ]
     },
     "metadata": {},
     "output_type": "display_data"
    },
    {
     "data": {
      "text/html": [
       "71398"
      ],
      "text/latex": [
       "71398"
      ],
      "text/markdown": [
       "71398"
      ],
      "text/plain": [
       "[1] 71398"
      ]
     },
     "metadata": {},
     "output_type": "display_data"
    },
    {
     "data": {
      "text/html": [
       "<table class=\"dataframe\">\n",
       "<caption>A matrix: 2 × 6 of type dbl</caption>\n",
       "<thead>\n",
       "\t<tr><th></th><th scope=col>used</th><th scope=col>(Mb)</th><th scope=col>gc trigger</th><th scope=col>(Mb)</th><th scope=col>max used</th><th scope=col>(Mb)</th></tr>\n",
       "</thead>\n",
       "<tbody>\n",
       "\t<tr><th scope=row>Ncells</th><td>  10359627</td><td>  553.3</td><td>  20581405</td><td> 1099.2</td><td>  16557378</td><td>  884.3</td></tr>\n",
       "\t<tr><th scope=row>Vcells</th><td>1661732607</td><td>12678.1</td><td>2783560904</td><td>21236.9</td><td>2783560904</td><td>21236.9</td></tr>\n",
       "</tbody>\n",
       "</table>\n"
      ],
      "text/latex": [
       "A matrix: 2 × 6 of type dbl\n",
       "\\begin{tabular}{r|llllll}\n",
       "  & used & (Mb) & gc trigger & (Mb) & max used & (Mb)\\\\\n",
       "\\hline\n",
       "\tNcells &   10359627 &   553.3 &   20581405 &  1099.2 &   16557378 &   884.3\\\\\n",
       "\tVcells & 1661732607 & 12678.1 & 2783560904 & 21236.9 & 2783560904 & 21236.9\\\\\n",
       "\\end{tabular}\n"
      ],
      "text/markdown": [
       "\n",
       "A matrix: 2 × 6 of type dbl\n",
       "\n",
       "| <!--/--> | used | (Mb) | gc trigger | (Mb) | max used | (Mb) |\n",
       "|---|---|---|---|---|---|---|\n",
       "| Ncells |   10359627 |   553.3 |   20581405 |  1099.2 |   16557378 |   884.3 |\n",
       "| Vcells | 1661732607 | 12678.1 | 2783560904 | 21236.9 | 2783560904 | 21236.9 |\n",
       "\n"
      ],
      "text/plain": [
       "       used       (Mb)    gc trigger (Mb)    max used   (Mb)   \n",
       "Ncells   10359627   553.3   20581405  1099.2   16557378   884.3\n",
       "Vcells 1661732607 12678.1 2783560904 21236.9 2783560904 21236.9"
      ]
     },
     "metadata": {},
     "output_type": "display_data"
    },
    {
     "data": {
      "text/html": [
       "113646"
      ],
      "text/latex": [
       "113646"
      ],
      "text/markdown": [
       "113646"
      ],
      "text/plain": [
       "[1] 113646"
      ]
     },
     "metadata": {},
     "output_type": "display_data"
    },
    {
     "data": {
      "text/html": [
       "<table class=\"dataframe\">\n",
       "<caption>A matrix: 2 × 6 of type dbl</caption>\n",
       "<thead>\n",
       "\t<tr><th></th><th scope=col>used</th><th scope=col>(Mb)</th><th scope=col>gc trigger</th><th scope=col>(Mb)</th><th scope=col>max used</th><th scope=col>(Mb)</th></tr>\n",
       "</thead>\n",
       "<tbody>\n",
       "\t<tr><th scope=row>Ncells</th><td>  10359685</td><td>  553.3</td><td>  20581405</td><td> 1099.2</td><td>  16557378</td><td>  884.3</td></tr>\n",
       "\t<tr><th scope=row>Vcells</th><td>1661692857</td><td>12677.8</td><td>2783560904</td><td>21236.9</td><td>2783560904</td><td>21236.9</td></tr>\n",
       "</tbody>\n",
       "</table>\n"
      ],
      "text/latex": [
       "A matrix: 2 × 6 of type dbl\n",
       "\\begin{tabular}{r|llllll}\n",
       "  & used & (Mb) & gc trigger & (Mb) & max used & (Mb)\\\\\n",
       "\\hline\n",
       "\tNcells &   10359685 &   553.3 &   20581405 &  1099.2 &   16557378 &   884.3\\\\\n",
       "\tVcells & 1661692857 & 12677.8 & 2783560904 & 21236.9 & 2783560904 & 21236.9\\\\\n",
       "\\end{tabular}\n"
      ],
      "text/markdown": [
       "\n",
       "A matrix: 2 × 6 of type dbl\n",
       "\n",
       "| <!--/--> | used | (Mb) | gc trigger | (Mb) | max used | (Mb) |\n",
       "|---|---|---|---|---|---|---|\n",
       "| Ncells |   10359685 |   553.3 |   20581405 |  1099.2 |   16557378 |   884.3 |\n",
       "| Vcells | 1661692857 | 12677.8 | 2783560904 | 21236.9 | 2783560904 | 21236.9 |\n",
       "\n"
      ],
      "text/plain": [
       "       used       (Mb)    gc trigger (Mb)    max used   (Mb)   \n",
       "Ncells   10359685   553.3   20581405  1099.2   16557378   884.3\n",
       "Vcells 1661692857 12677.8 2783560904 21236.9 2783560904 21236.9"
      ]
     },
     "metadata": {},
     "output_type": "display_data"
    }
   ],
   "source": [
    "lambda <- 5\n",
    "\n",
    "# globArr <- rep(-100, l+treeCons0$Nnode)\n",
    "# descL <- sapply(Descendants(treeCons0, seq(l+treeCons0$Nnode)), length)\n",
    "# obj <- mcols(yAggConsNS0)[[\"meanInfRV\"]] - lambda*c(rep(1,l),cpCons0)\n",
    "# val <- findOptSum(treeCons0, obj, l+1, descL)\n",
    "# dCuts[[\"lambda=5\"]][[\"Cons0\"]] <- findCuts(treeCons0, globArr, obj, l+1, descL)\n",
    "# length(dCuts[[\"lambda=5\"]][[\"Cons0\"]])\n",
    "# dfPurity <- rbind(dfPurity, data.frame(Type = \"Cons0\", Value = val, \n",
    "#                                        nCuts = length(dCuts[[\"lambda=5\"]][[\"Cons0\"]]), lambda=lambda))\n",
    "# gc()\n",
    "\n",
    "# globArr <- rep(-100, l+treeCons$Nnode)\n",
    "# descL <- sapply(Descendants(treeCons, seq(l+treeCons$Nnode)), length)\n",
    "# obj <- mcols(yAggConsNS)[[\"meanInfRV\"]] - lambda*c(rep(1,l),cpCons)\n",
    "# val <- findOptSum(treeCons, obj, l+1, descL)\n",
    "# dCuts[[\"lambda=5\"]][[\"Cons\"]] <- findCuts(treeCons, globArr, obj, l+1, descL)\n",
    "# length(dCuts[[\"lambda=5\"]][[\"Cons\"]])\n",
    "# dfPurity <- rbind(dfPurity, data.frame(Type = \"Cons\", Value = val, \n",
    "#                                        nCuts = length(dCuts[[\"lambda=5\"]][[\"Cons\"]]), lambda=lambda))\n",
    "# gc()\n",
    "\n",
    "globArr <- rep(-100, l+treeMeanInf0$Nnode)\n",
    "descL <- sapply(Descendants(treeMeanInf0, seq(l+treeMeanInf0$Nnode)), length)\n",
    "obj <- mcols(yAggMeanInfNS0)[[\"meanInfRV\"]] - lambda*c(rep(1,l),cpMeanInf0, descL)\n",
    "val <- findOptSum(treeMeanInf0, obj, l+1, descL)\n",
    "dCuts[[\"lambda=5\"]][[\"MeanInf0\"]] <- findCuts(treeMeanInf0, globArr, obj, l+1, descL)\n",
    "length(dCuts[[\"lambda=5\"]][[\"MeanInf0\"]])\n",
    "dfPurity <- rbind(dfPurity, data.frame(Type = \"MeanInf0\", Value = val, \n",
    "                                       nCuts = length(dCuts[[\"lambda=5\"]][[\"MeanInf0\"]]), lambda=lambda))\n",
    "gc()\n",
    "\n",
    "globArr <- rep(-100, l+treeMeanInf$Nnode)\n",
    "descL <- sapply(Descendants(treeMeanInf, seq(l+treeMeanInf$Nnode)), length)\n",
    "obj <- mcols(yAggMeanInfNS)[[\"meanInfRV\"]] - lambda*c(rep(1,l),cpMeanInf, descL)\n",
    "val <- findOptSum(treeMeanInf, obj, l+1, descL)\n",
    "dCuts[[\"lambda=5\"]][[\"MeanInf\"]] <- findCuts(treeMeanInf, globArr, obj, l+1, descL)\n",
    "length(dCuts[[\"lambda=5\"]][[\"MeanInf\"]])\n",
    "dfPurity <- rbind(dfPurity, data.frame(Type = \"MeanInf\", Value = val, \n",
    "                            nCuts = length(dCuts[[\"lambda=5\"]][[\"MeanInf\"]]), lambda=lambda))\n",
    "gc()\n",
    "\n",
    "globArr <- rep(-100, l+treeCor$Nnode)\n",
    "descL <- sapply(Descendants(treeCor, seq(l+treeCor$Nnode)), length)\n",
    "obj <- mcols(yAggCorNS)[[\"meanInfRV\"]] - lambda*c(rep(1,l),cpCor, descL)\n",
    "val <- findOptSum(treeCor, obj, l+1, descL)\n",
    "dCuts[[\"lambda=5\"]][[\"Cor\"]] <- findCuts(treeCor, globArr, obj, l+1, descL)\n",
    "length(dCuts[[\"lambda=5\"]][[\"Cor\"]])\n",
    "dfPurity <- rbind(dfPurity, data.frame(Type = \"Cor\", Value = val, \n",
    "                          nCuts = length(dCuts[[\"lambda=5\"]][[\"Cor\"]]), lambda=lambda))\n",
    "gc()\n",
    "save(dCuts, file=\"environment/brain_sim_nodtu/mode=gc_bias/post_type=gibbs_nrep=100_tf=100/mean_cons/cutsPur.RData\")"
   ]
  },
  {
   "cell_type": "code",
   "execution_count": 57,
   "id": "24f72700",
   "metadata": {},
   "outputs": [
    {
     "data": {
      "text/html": [
       "38908"
      ],
      "text/latex": [
       "38908"
      ],
      "text/markdown": [
       "38908"
      ],
      "text/plain": [
       "[1] 38908"
      ]
     },
     "metadata": {},
     "output_type": "display_data"
    },
    {
     "data": {
      "text/html": [
       "<table class=\"dataframe\">\n",
       "<caption>A matrix: 2 × 6 of type dbl</caption>\n",
       "<thead>\n",
       "\t<tr><th></th><th scope=col>used</th><th scope=col>(Mb)</th><th scope=col>gc trigger</th><th scope=col>(Mb)</th><th scope=col>max used</th><th scope=col>(Mb)</th></tr>\n",
       "</thead>\n",
       "<tbody>\n",
       "\t<tr><th scope=row>Ncells</th><td>  10359810</td><td>  553.3</td><td>  20581405</td><td> 1099.2</td><td>  16557378</td><td>  884.3</td></tr>\n",
       "\t<tr><th scope=row>Vcells</th><td>1661613489</td><td>12677.2</td><td>2783560904</td><td>21236.9</td><td>2783560904</td><td>21236.9</td></tr>\n",
       "</tbody>\n",
       "</table>\n"
      ],
      "text/latex": [
       "A matrix: 2 × 6 of type dbl\n",
       "\\begin{tabular}{r|llllll}\n",
       "  & used & (Mb) & gc trigger & (Mb) & max used & (Mb)\\\\\n",
       "\\hline\n",
       "\tNcells &   10359810 &   553.3 &   20581405 &  1099.2 &   16557378 &   884.3\\\\\n",
       "\tVcells & 1661613489 & 12677.2 & 2783560904 & 21236.9 & 2783560904 & 21236.9\\\\\n",
       "\\end{tabular}\n"
      ],
      "text/markdown": [
       "\n",
       "A matrix: 2 × 6 of type dbl\n",
       "\n",
       "| <!--/--> | used | (Mb) | gc trigger | (Mb) | max used | (Mb) |\n",
       "|---|---|---|---|---|---|---|\n",
       "| Ncells |   10359810 |   553.3 |   20581405 |  1099.2 |   16557378 |   884.3 |\n",
       "| Vcells | 1661613489 | 12677.2 | 2783560904 | 21236.9 | 2783560904 | 21236.9 |\n",
       "\n"
      ],
      "text/plain": [
       "       used       (Mb)    gc trigger (Mb)    max used   (Mb)   \n",
       "Ncells   10359810   553.3   20581405  1099.2   16557378   884.3\n",
       "Vcells 1661613489 12677.2 2783560904 21236.9 2783560904 21236.9"
      ]
     },
     "metadata": {},
     "output_type": "display_data"
    },
    {
     "data": {
      "text/html": [
       "40391"
      ],
      "text/latex": [
       "40391"
      ],
      "text/markdown": [
       "40391"
      ],
      "text/plain": [
       "[1] 40391"
      ]
     },
     "metadata": {},
     "output_type": "display_data"
    },
    {
     "data": {
      "text/html": [
       "<table class=\"dataframe\">\n",
       "<caption>A matrix: 2 × 6 of type dbl</caption>\n",
       "<thead>\n",
       "\t<tr><th></th><th scope=col>used</th><th scope=col>(Mb)</th><th scope=col>gc trigger</th><th scope=col>(Mb)</th><th scope=col>max used</th><th scope=col>(Mb)</th></tr>\n",
       "</thead>\n",
       "<tbody>\n",
       "\t<tr><th scope=row>Ncells</th><td>  10359868</td><td>  553.3</td><td>  20581405</td><td> 1099.2</td><td>  16557378</td><td>  884.3</td></tr>\n",
       "\t<tr><th scope=row>Vcells</th><td>1661572582</td><td>12676.8</td><td>2783560904</td><td>21236.9</td><td>2783560904</td><td>21236.9</td></tr>\n",
       "</tbody>\n",
       "</table>\n"
      ],
      "text/latex": [
       "A matrix: 2 × 6 of type dbl\n",
       "\\begin{tabular}{r|llllll}\n",
       "  & used & (Mb) & gc trigger & (Mb) & max used & (Mb)\\\\\n",
       "\\hline\n",
       "\tNcells &   10359868 &   553.3 &   20581405 &  1099.2 &   16557378 &   884.3\\\\\n",
       "\tVcells & 1661572582 & 12676.8 & 2783560904 & 21236.9 & 2783560904 & 21236.9\\\\\n",
       "\\end{tabular}\n"
      ],
      "text/markdown": [
       "\n",
       "A matrix: 2 × 6 of type dbl\n",
       "\n",
       "| <!--/--> | used | (Mb) | gc trigger | (Mb) | max used | (Mb) |\n",
       "|---|---|---|---|---|---|---|\n",
       "| Ncells |   10359868 |   553.3 |   20581405 |  1099.2 |   16557378 |   884.3 |\n",
       "| Vcells | 1661572582 | 12676.8 | 2783560904 | 21236.9 | 2783560904 | 21236.9 |\n",
       "\n"
      ],
      "text/plain": [
       "       used       (Mb)    gc trigger (Mb)    max used   (Mb)   \n",
       "Ncells   10359868   553.3   20581405  1099.2   16557378   884.3\n",
       "Vcells 1661572582 12676.8 2783560904 21236.9 2783560904 21236.9"
      ]
     },
     "metadata": {},
     "output_type": "display_data"
    },
    {
     "data": {
      "text/html": [
       "39469"
      ],
      "text/latex": [
       "39469"
      ],
      "text/markdown": [
       "39469"
      ],
      "text/plain": [
       "[1] 39469"
      ]
     },
     "metadata": {},
     "output_type": "display_data"
    },
    {
     "data": {
      "text/html": [
       "<table class=\"dataframe\">\n",
       "<caption>A matrix: 2 × 6 of type dbl</caption>\n",
       "<thead>\n",
       "\t<tr><th></th><th scope=col>used</th><th scope=col>(Mb)</th><th scope=col>gc trigger</th><th scope=col>(Mb)</th><th scope=col>max used</th><th scope=col>(Mb)</th></tr>\n",
       "</thead>\n",
       "<tbody>\n",
       "\t<tr><th scope=row>Ncells</th><td>  10359919</td><td>  553.3</td><td>  20581405</td><td> 1099.2</td><td>  16557378</td><td>  884.3</td></tr>\n",
       "\t<tr><th scope=row>Vcells</th><td>1661923311</td><td>12679.5</td><td>2783560904</td><td>21236.9</td><td>2783560904</td><td>21236.9</td></tr>\n",
       "</tbody>\n",
       "</table>\n"
      ],
      "text/latex": [
       "A matrix: 2 × 6 of type dbl\n",
       "\\begin{tabular}{r|llllll}\n",
       "  & used & (Mb) & gc trigger & (Mb) & max used & (Mb)\\\\\n",
       "\\hline\n",
       "\tNcells &   10359919 &   553.3 &   20581405 &  1099.2 &   16557378 &   884.3\\\\\n",
       "\tVcells & 1661923311 & 12679.5 & 2783560904 & 21236.9 & 2783560904 & 21236.9\\\\\n",
       "\\end{tabular}\n"
      ],
      "text/markdown": [
       "\n",
       "A matrix: 2 × 6 of type dbl\n",
       "\n",
       "| <!--/--> | used | (Mb) | gc trigger | (Mb) | max used | (Mb) |\n",
       "|---|---|---|---|---|---|---|\n",
       "| Ncells |   10359919 |   553.3 |   20581405 |  1099.2 |   16557378 |   884.3 |\n",
       "| Vcells | 1661923311 | 12679.5 | 2783560904 | 21236.9 | 2783560904 | 21236.9 |\n",
       "\n"
      ],
      "text/plain": [
       "       used       (Mb)    gc trigger (Mb)    max used   (Mb)   \n",
       "Ncells   10359919   553.3   20581405  1099.2   16557378   884.3\n",
       "Vcells 1661923311 12679.5 2783560904 21236.9 2783560904 21236.9"
      ]
     },
     "metadata": {},
     "output_type": "display_data"
    },
    {
     "data": {
      "text/html": [
       "66919"
      ],
      "text/latex": [
       "66919"
      ],
      "text/markdown": [
       "66919"
      ],
      "text/plain": [
       "[1] 66919"
      ]
     },
     "metadata": {},
     "output_type": "display_data"
    },
    {
     "data": {
      "text/html": [
       "<table class=\"dataframe\">\n",
       "<caption>A matrix: 2 × 6 of type dbl</caption>\n",
       "<thead>\n",
       "\t<tr><th></th><th scope=col>used</th><th scope=col>(Mb)</th><th scope=col>gc trigger</th><th scope=col>(Mb)</th><th scope=col>max used</th><th scope=col>(Mb)</th></tr>\n",
       "</thead>\n",
       "<tbody>\n",
       "\t<tr><th scope=row>Ncells</th><td>  10359977</td><td>  553.3</td><td>  20581405</td><td> 1099.2</td><td>  16557378</td><td>  884.3</td></tr>\n",
       "\t<tr><th scope=row>Vcells</th><td>1661885169</td><td>12679.2</td><td>2783560904</td><td>21236.9</td><td>2783560904</td><td>21236.9</td></tr>\n",
       "</tbody>\n",
       "</table>\n"
      ],
      "text/latex": [
       "A matrix: 2 × 6 of type dbl\n",
       "\\begin{tabular}{r|llllll}\n",
       "  & used & (Mb) & gc trigger & (Mb) & max used & (Mb)\\\\\n",
       "\\hline\n",
       "\tNcells &   10359977 &   553.3 &   20581405 &  1099.2 &   16557378 &   884.3\\\\\n",
       "\tVcells & 1661885169 & 12679.2 & 2783560904 & 21236.9 & 2783560904 & 21236.9\\\\\n",
       "\\end{tabular}\n"
      ],
      "text/markdown": [
       "\n",
       "A matrix: 2 × 6 of type dbl\n",
       "\n",
       "| <!--/--> | used | (Mb) | gc trigger | (Mb) | max used | (Mb) |\n",
       "|---|---|---|---|---|---|---|\n",
       "| Ncells |   10359977 |   553.3 |   20581405 |  1099.2 |   16557378 |   884.3 |\n",
       "| Vcells | 1661885169 | 12679.2 | 2783560904 | 21236.9 | 2783560904 | 21236.9 |\n",
       "\n"
      ],
      "text/plain": [
       "       used       (Mb)    gc trigger (Mb)    max used   (Mb)   \n",
       "Ncells   10359977   553.3   20581405  1099.2   16557378   884.3\n",
       "Vcells 1661885169 12679.2 2783560904 21236.9 2783560904 21236.9"
      ]
     },
     "metadata": {},
     "output_type": "display_data"
    },
    {
     "data": {
      "text/html": [
       "1"
      ],
      "text/latex": [
       "1"
      ],
      "text/markdown": [
       "1"
      ],
      "text/plain": [
       "[1] 1"
      ]
     },
     "metadata": {},
     "output_type": "display_data"
    },
    {
     "data": {
      "text/html": [
       "<table class=\"dataframe\">\n",
       "<caption>A matrix: 2 × 6 of type dbl</caption>\n",
       "<thead>\n",
       "\t<tr><th></th><th scope=col>used</th><th scope=col>(Mb)</th><th scope=col>gc trigger</th><th scope=col>(Mb)</th><th scope=col>max used</th><th scope=col>(Mb)</th></tr>\n",
       "</thead>\n",
       "<tbody>\n",
       "\t<tr><th scope=row>Ncells</th><td>  10360032</td><td>  553.3</td><td>  20581405</td><td> 1099.2</td><td>  16557378</td><td>  884.3</td></tr>\n",
       "\t<tr><th scope=row>Vcells</th><td>1661788598</td><td>12678.5</td><td>2783560904</td><td>21236.9</td><td>2783560904</td><td>21236.9</td></tr>\n",
       "</tbody>\n",
       "</table>\n"
      ],
      "text/latex": [
       "A matrix: 2 × 6 of type dbl\n",
       "\\begin{tabular}{r|llllll}\n",
       "  & used & (Mb) & gc trigger & (Mb) & max used & (Mb)\\\\\n",
       "\\hline\n",
       "\tNcells &   10360032 &   553.3 &   20581405 &  1099.2 &   16557378 &   884.3\\\\\n",
       "\tVcells & 1661788598 & 12678.5 & 2783560904 & 21236.9 & 2783560904 & 21236.9\\\\\n",
       "\\end{tabular}\n"
      ],
      "text/markdown": [
       "\n",
       "A matrix: 2 × 6 of type dbl\n",
       "\n",
       "| <!--/--> | used | (Mb) | gc trigger | (Mb) | max used | (Mb) |\n",
       "|---|---|---|---|---|---|---|\n",
       "| Ncells |   10360032 |   553.3 |   20581405 |  1099.2 |   16557378 |   884.3 |\n",
       "| Vcells | 1661788598 | 12678.5 | 2783560904 | 21236.9 | 2783560904 | 21236.9 |\n",
       "\n"
      ],
      "text/plain": [
       "       used       (Mb)    gc trigger (Mb)    max used   (Mb)   \n",
       "Ncells   10360032   553.3   20581405  1099.2   16557378   884.3\n",
       "Vcells 1661788598 12678.5 2783560904 21236.9 2783560904 21236.9"
      ]
     },
     "metadata": {},
     "output_type": "display_data"
    }
   ],
   "source": [
    "lambda <- 0.5\n",
    "\n",
    "globArr <- rep(-100, l+treeCons0$Nnode)\n",
    "descL <- sapply(Descendants(treeCons0, seq(l+treeCons0$Nnode)), length)\n",
    "obj <- mcols(yAggConsNS0)[[\"meanInfRV\"]] - lambda*c(rep(1,l),cpCons0)\n",
    "val <- findOptSum(treeCons0, obj, l+1, descL)\n",
    "dCuts[[\"lambda=0.5\"]][[\"Cons0\"]] <- findCuts(treeCons0, globArr, obj, l+1, descL)\n",
    "length(dCuts[[\"lambda=0.5\"]][[\"Cons0\"]])\n",
    "dfPurity <- rbind(dfPurity, data.frame(Type = \"Cons0\", Value = val, \n",
    "                                       nCuts = length(dCuts[[\"lambda=0.5\"]][[\"Cons0\"]]), lambda=lambda))\n",
    "gc()\n",
    "\n",
    "globArr <- rep(-100, l+treeCons$Nnode)\n",
    "descL <- sapply(Descendants(treeCons, seq(l+treeCons$Nnode)), length)\n",
    "obj <- mcols(yAggConsNS)[[\"meanInfRV\"]] - lambda*c(rep(1,l),cpCons)\n",
    "val <- findOptSum(treeCons, obj, l+1, descL)\n",
    "dCuts[[\"lambda=0.5\"]][[\"Cons\"]] <- findCuts(treeCons, globArr, obj, l+1, descL)\n",
    "length(dCuts[[\"lambda=0.5\"]][[\"Cons\"]])\n",
    "dfPurity <- rbind(dfPurity, data.frame(Type = \"Cons\", Value = val, \n",
    "                      nCuts = length(dCuts[[\"lambda=0.5\"]][[\"Cons\"]]), lambda=lambda))\n",
    "gc()\n",
    "\n",
    "globArr <- rep(-100, l+treeMeanInf0$Nnode)\n",
    "descL <- sapply(Descendants(treeMeanInf0, seq(l+treeMeanInf0$Nnode)), length)\n",
    "obj <- mcols(yAggMeanInfNS0)[[\"meanInfRV\"]] - lambda*c(rep(1,l),cpMeanInf0, descL)\n",
    "val <- findOptSum(treeMeanInf0, obj, l+1, descL)\n",
    "dCuts[[\"lambda=0.5\"]][[\"MeanInf0\"]] <- findCuts(treeMeanInf0, globArr, obj, l+1, descL)\n",
    "length(dCuts[[\"lambda=0.5\"]][[\"MeanInf0\"]])\n",
    "dfPurity <- rbind(dfPurity, data.frame(Type = \"MeanInf0\", Value = val, \n",
    "                                       nCuts = length(dCuts[[\"lambda=0.5\"]][[\"MeanInf0\"]]), lambda=lambda))\n",
    "gc()\n",
    "\n",
    "globArr <- rep(-100, l+treeMeanInf$Nnode)\n",
    "descL <- sapply(Descendants(treeMeanInf, seq(l+treeMeanInf$Nnode)), length)\n",
    "obj <- mcols(yAggMeanInfNS)[[\"meanInfRV\"]] - lambda*c(rep(1,l),cpMeanInf, descL)\n",
    "val <- findOptSum(treeMeanInf, obj, l+1, descL)\n",
    "dCuts[[\"lambda=0.5\"]][[\"MeanInf\"]] <- findCuts(treeMeanInf, globArr, obj, l+1, descL)\n",
    "length(dCuts[[\"lambda=0.5\"]][[\"MeanInf\"]])\n",
    "dfPurity <- rbind(dfPurity, data.frame(Type = \"MeanInf\", Value = val, \n",
    "                            nCuts = length(dCuts[[\"lambda=0.5\"]][[\"MeanInf\"]]), lambda=lambda))\n",
    "gc()\n",
    "\n",
    "globArr <- rep(-100, l+treeCor$Nnode)\n",
    "descL <- sapply(Descendants(treeCor, seq(l+treeCor$Nnode)), length)\n",
    "obj <- mcols(yAggCorNS)[[\"meanInfRV\"]] - lambda*c(rep(1,l),cpCor, descL)\n",
    "val <- findOptSum(treeCor, obj, l+1, descL)\n",
    "dCuts[[\"lambda=0.5\"]][[\"Cor\"]] <- findCuts(treeCor, globArr, obj, l+1, descL)\n",
    "length(dCuts[[\"lambda=0.5\"]][[\"Cor\"]])\n",
    "dfPurity <- rbind(dfPurity, data.frame(Type = \"Cor\", Value = val, \n",
    "                          nCuts = length(dCuts[[\"lambda=0.5\"]][[\"Cor\"]]), lambda=lambda))\n",
    "gc()\n",
    "save(dCuts, file=\"environment/brain_sim_nodtu/mode=gc_bias/post_type=gibbs_nrep=100_tf=100/mean_cons/cutsPur.RData\")\n",
    "save(dfPurity, file=\"environment/brain_sim_nodtu/mode=gc_bias/post_type=gibbs_nrep=100_tf=100/mean_cons/dfPur.RData\")"
   ]
  },
  {
   "cell_type": "code",
   "execution_count": 60,
   "id": "5970835e",
   "metadata": {},
   "outputs": [
    {
     "data": {
      "text/html": [
       "46048"
      ],
      "text/latex": [
       "46048"
      ],
      "text/markdown": [
       "46048"
      ],
      "text/plain": [
       "[1] 46048"
      ]
     },
     "metadata": {},
     "output_type": "display_data"
    },
    {
     "data": {
      "text/html": [
       "<table class=\"dataframe\">\n",
       "<caption>A matrix: 2 × 6 of type dbl</caption>\n",
       "<thead>\n",
       "\t<tr><th></th><th scope=col>used</th><th scope=col>(Mb)</th><th scope=col>gc trigger</th><th scope=col>(Mb)</th><th scope=col>max used</th><th scope=col>(Mb)</th></tr>\n",
       "</thead>\n",
       "<tbody>\n",
       "\t<tr><th scope=row>Ncells</th><td>  10359835</td><td>  553.3</td><td>  20581405</td><td> 1099.2</td><td>  16557378</td><td>  884.3</td></tr>\n",
       "\t<tr><th scope=row>Vcells</th><td>1661710144</td><td>12677.9</td><td>2783560904</td><td>21236.9</td><td>2783560904</td><td>21236.9</td></tr>\n",
       "</tbody>\n",
       "</table>\n"
      ],
      "text/latex": [
       "A matrix: 2 × 6 of type dbl\n",
       "\\begin{tabular}{r|llllll}\n",
       "  & used & (Mb) & gc trigger & (Mb) & max used & (Mb)\\\\\n",
       "\\hline\n",
       "\tNcells &   10359835 &   553.3 &   20581405 &  1099.2 &   16557378 &   884.3\\\\\n",
       "\tVcells & 1661710144 & 12677.9 & 2783560904 & 21236.9 & 2783560904 & 21236.9\\\\\n",
       "\\end{tabular}\n"
      ],
      "text/markdown": [
       "\n",
       "A matrix: 2 × 6 of type dbl\n",
       "\n",
       "| <!--/--> | used | (Mb) | gc trigger | (Mb) | max used | (Mb) |\n",
       "|---|---|---|---|---|---|---|\n",
       "| Ncells |   10359835 |   553.3 |   20581405 |  1099.2 |   16557378 |   884.3 |\n",
       "| Vcells | 1661710144 | 12677.9 | 2783560904 | 21236.9 | 2783560904 | 21236.9 |\n",
       "\n"
      ],
      "text/plain": [
       "       used       (Mb)    gc trigger (Mb)    max used   (Mb)   \n",
       "Ncells   10359835   553.3   20581405  1099.2   16557378   884.3\n",
       "Vcells 1661710144 12677.9 2783560904 21236.9 2783560904 21236.9"
      ]
     },
     "metadata": {},
     "output_type": "display_data"
    },
    {
     "data": {
      "text/html": [
       "54564"
      ],
      "text/latex": [
       "54564"
      ],
      "text/markdown": [
       "54564"
      ],
      "text/plain": [
       "[1] 54564"
      ]
     },
     "metadata": {},
     "output_type": "display_data"
    },
    {
     "data": {
      "text/html": [
       "<table class=\"dataframe\">\n",
       "<caption>A matrix: 2 × 6 of type dbl</caption>\n",
       "<thead>\n",
       "\t<tr><th></th><th scope=col>used</th><th scope=col>(Mb)</th><th scope=col>gc trigger</th><th scope=col>(Mb)</th><th scope=col>max used</th><th scope=col>(Mb)</th></tr>\n",
       "</thead>\n",
       "<tbody>\n",
       "\t<tr><th scope=row>Ncells</th><td>  10359893</td><td>  553.3</td><td>  20581405</td><td> 1099.2</td><td>  16557378</td><td>  884.3</td></tr>\n",
       "\t<tr><th scope=row>Vcells</th><td>1661676315</td><td>12677.6</td><td>2783560904</td><td>21236.9</td><td>2783560904</td><td>21236.9</td></tr>\n",
       "</tbody>\n",
       "</table>\n"
      ],
      "text/latex": [
       "A matrix: 2 × 6 of type dbl\n",
       "\\begin{tabular}{r|llllll}\n",
       "  & used & (Mb) & gc trigger & (Mb) & max used & (Mb)\\\\\n",
       "\\hline\n",
       "\tNcells &   10359893 &   553.3 &   20581405 &  1099.2 &   16557378 &   884.3\\\\\n",
       "\tVcells & 1661676315 & 12677.6 & 2783560904 & 21236.9 & 2783560904 & 21236.9\\\\\n",
       "\\end{tabular}\n"
      ],
      "text/markdown": [
       "\n",
       "A matrix: 2 × 6 of type dbl\n",
       "\n",
       "| <!--/--> | used | (Mb) | gc trigger | (Mb) | max used | (Mb) |\n",
       "|---|---|---|---|---|---|---|\n",
       "| Ncells |   10359893 |   553.3 |   20581405 |  1099.2 |   16557378 |   884.3 |\n",
       "| Vcells | 1661676315 | 12677.6 | 2783560904 | 21236.9 | 2783560904 | 21236.9 |\n",
       "\n"
      ],
      "text/plain": [
       "       used       (Mb)    gc trigger (Mb)    max used   (Mb)   \n",
       "Ncells   10359893   553.3   20581405  1099.2   16557378   884.3\n",
       "Vcells 1661676315 12677.6 2783560904 21236.9 2783560904 21236.9"
      ]
     },
     "metadata": {},
     "output_type": "display_data"
    },
    {
     "data": {
      "text/html": [
       "47823"
      ],
      "text/latex": [
       "47823"
      ],
      "text/markdown": [
       "47823"
      ],
      "text/plain": [
       "[1] 47823"
      ]
     },
     "metadata": {},
     "output_type": "display_data"
    },
    {
     "data": {
      "text/html": [
       "<table class=\"dataframe\">\n",
       "<caption>A matrix: 2 × 6 of type dbl</caption>\n",
       "<thead>\n",
       "\t<tr><th></th><th scope=col>used</th><th scope=col>(Mb)</th><th scope=col>gc trigger</th><th scope=col>(Mb)</th><th scope=col>max used</th><th scope=col>(Mb)</th></tr>\n",
       "</thead>\n",
       "<tbody>\n",
       "\t<tr><th scope=row>Ncells</th><td>  10359944</td><td>  553.3</td><td>  20581405</td><td> 1099.2</td><td>  16557378</td><td>  884.3</td></tr>\n",
       "\t<tr><th scope=row>Vcells</th><td>1662031221</td><td>12680.3</td><td>2783560904</td><td>21236.9</td><td>2783560904</td><td>21236.9</td></tr>\n",
       "</tbody>\n",
       "</table>\n"
      ],
      "text/latex": [
       "A matrix: 2 × 6 of type dbl\n",
       "\\begin{tabular}{r|llllll}\n",
       "  & used & (Mb) & gc trigger & (Mb) & max used & (Mb)\\\\\n",
       "\\hline\n",
       "\tNcells &   10359944 &   553.3 &   20581405 &  1099.2 &   16557378 &   884.3\\\\\n",
       "\tVcells & 1662031221 & 12680.3 & 2783560904 & 21236.9 & 2783560904 & 21236.9\\\\\n",
       "\\end{tabular}\n"
      ],
      "text/markdown": [
       "\n",
       "A matrix: 2 × 6 of type dbl\n",
       "\n",
       "| <!--/--> | used | (Mb) | gc trigger | (Mb) | max used | (Mb) |\n",
       "|---|---|---|---|---|---|---|\n",
       "| Ncells |   10359944 |   553.3 |   20581405 |  1099.2 |   16557378 |   884.3 |\n",
       "| Vcells | 1662031221 | 12680.3 | 2783560904 | 21236.9 | 2783560904 | 21236.9 |\n",
       "\n"
      ],
      "text/plain": [
       "       used       (Mb)    gc trigger (Mb)    max used   (Mb)   \n",
       "Ncells   10359944   553.3   20581405  1099.2   16557378   884.3\n",
       "Vcells 1662031221 12680.3 2783560904 21236.9 2783560904 21236.9"
      ]
     },
     "metadata": {},
     "output_type": "display_data"
    },
    {
     "data": {
      "text/html": [
       "72531"
      ],
      "text/latex": [
       "72531"
      ],
      "text/markdown": [
       "72531"
      ],
      "text/plain": [
       "[1] 72531"
      ]
     },
     "metadata": {},
     "output_type": "display_data"
    },
    {
     "data": {
      "text/html": [
       "<table class=\"dataframe\">\n",
       "<caption>A matrix: 2 × 6 of type dbl</caption>\n",
       "<thead>\n",
       "\t<tr><th></th><th scope=col>used</th><th scope=col>(Mb)</th><th scope=col>gc trigger</th><th scope=col>(Mb)</th><th scope=col>max used</th><th scope=col>(Mb)</th></tr>\n",
       "</thead>\n",
       "<tbody>\n",
       "\t<tr><th scope=row>Ncells</th><td>  10360002</td><td>  553.3</td><td>  20581405</td><td> 1099.2</td><td>  16557378</td><td>  884.3</td></tr>\n",
       "\t<tr><th scope=row>Vcells</th><td>1661995885</td><td>12680.1</td><td>2783560904</td><td>21236.9</td><td>2783560904</td><td>21236.9</td></tr>\n",
       "</tbody>\n",
       "</table>\n"
      ],
      "text/latex": [
       "A matrix: 2 × 6 of type dbl\n",
       "\\begin{tabular}{r|llllll}\n",
       "  & used & (Mb) & gc trigger & (Mb) & max used & (Mb)\\\\\n",
       "\\hline\n",
       "\tNcells &   10360002 &   553.3 &   20581405 &  1099.2 &   16557378 &   884.3\\\\\n",
       "\tVcells & 1661995885 & 12680.1 & 2783560904 & 21236.9 & 2783560904 & 21236.9\\\\\n",
       "\\end{tabular}\n"
      ],
      "text/markdown": [
       "\n",
       "A matrix: 2 × 6 of type dbl\n",
       "\n",
       "| <!--/--> | used | (Mb) | gc trigger | (Mb) | max used | (Mb) |\n",
       "|---|---|---|---|---|---|---|\n",
       "| Ncells |   10360002 |   553.3 |   20581405 |  1099.2 |   16557378 |   884.3 |\n",
       "| Vcells | 1661995885 | 12680.1 | 2783560904 | 21236.9 | 2783560904 | 21236.9 |\n",
       "\n"
      ],
      "text/plain": [
       "       used       (Mb)    gc trigger (Mb)    max used   (Mb)   \n",
       "Ncells   10360002   553.3   20581405  1099.2   16557378   884.3\n",
       "Vcells 1661995885 12680.1 2783560904 21236.9 2783560904 21236.9"
      ]
     },
     "metadata": {},
     "output_type": "display_data"
    },
    {
     "data": {
      "text/html": [
       "114462"
      ],
      "text/latex": [
       "114462"
      ],
      "text/markdown": [
       "114462"
      ],
      "text/plain": [
       "[1] 114462"
      ]
     },
     "metadata": {},
     "output_type": "display_data"
    },
    {
     "data": {
      "text/html": [
       "<table class=\"dataframe\">\n",
       "<caption>A matrix: 2 × 6 of type dbl</caption>\n",
       "<thead>\n",
       "\t<tr><th></th><th scope=col>used</th><th scope=col>(Mb)</th><th scope=col>gc trigger</th><th scope=col>(Mb)</th><th scope=col>max used</th><th scope=col>(Mb)</th></tr>\n",
       "</thead>\n",
       "<tbody>\n",
       "\t<tr><th scope=row>Ncells</th><td>  10360057</td><td>  553.3</td><td>  20581405</td><td> 1099.2</td><td>  16557378</td><td>  884.3</td></tr>\n",
       "\t<tr><th scope=row>Vcells</th><td>1661956541</td><td>12679.8</td><td>2783560904</td><td>21236.9</td><td>2783560904</td><td>21236.9</td></tr>\n",
       "</tbody>\n",
       "</table>\n"
      ],
      "text/latex": [
       "A matrix: 2 × 6 of type dbl\n",
       "\\begin{tabular}{r|llllll}\n",
       "  & used & (Mb) & gc trigger & (Mb) & max used & (Mb)\\\\\n",
       "\\hline\n",
       "\tNcells &   10360057 &   553.3 &   20581405 &  1099.2 &   16557378 &   884.3\\\\\n",
       "\tVcells & 1661956541 & 12679.8 & 2783560904 & 21236.9 & 2783560904 & 21236.9\\\\\n",
       "\\end{tabular}\n"
      ],
      "text/markdown": [
       "\n",
       "A matrix: 2 × 6 of type dbl\n",
       "\n",
       "| <!--/--> | used | (Mb) | gc trigger | (Mb) | max used | (Mb) |\n",
       "|---|---|---|---|---|---|---|\n",
       "| Ncells |   10360057 |   553.3 |   20581405 |  1099.2 |   16557378 |   884.3 |\n",
       "| Vcells | 1661956541 | 12679.8 | 2783560904 | 21236.9 | 2783560904 | 21236.9 |\n",
       "\n"
      ],
      "text/plain": [
       "       used       (Mb)    gc trigger (Mb)    max used   (Mb)   \n",
       "Ncells   10360057   553.3   20581405  1099.2   16557378   884.3\n",
       "Vcells 1661956541 12679.8 2783560904 21236.9 2783560904 21236.9"
      ]
     },
     "metadata": {},
     "output_type": "display_data"
    }
   ],
   "source": [
    "lambda <- 10\n",
    "\n",
    "globArr <- rep(-100, l+treeCons0$Nnode)\n",
    "descL <- sapply(Descendants(treeCons0, seq(l+treeCons0$Nnode)), length)\n",
    "obj <- mcols(yAggConsNS0)[[\"meanInfRV\"]] - lambda*c(rep(1,l),cpCons0)\n",
    "val <- findOptSum(treeCons0, obj, l+1, descL)\n",
    "dCuts[[\"lambda=10\"]][[\"Cons0\"]] <- findCuts(treeCons0, globArr, obj, l+1, descL)\n",
    "length(dCuts[[\"lambda=10\"]][[\"Cons0\"]])\n",
    "dfPurity <- rbind(dfPurity, data.frame(Type = \"Cons0\", Value = val, \n",
    "                                       nCuts = length(dCuts[[\"lambda=10\"]][[\"Cons0\"]]), lambda=lambda))\n",
    "gc()\n",
    "\n",
    "globArr <- rep(-100, l+treeCons$Nnode)\n",
    "descL <- sapply(Descendants(treeCons, seq(l+treeCons$Nnode)), length)\n",
    "obj <- mcols(yAggConsNS)[[\"meanInfRV\"]] - lambda*c(rep(1,l),cpCons)\n",
    "val <- findOptSum(treeCons, obj, l+1, descL)\n",
    "dCuts[[\"lambda=10\"]][[\"Cons\"]] <- findCuts(treeCons, globArr, obj, l+1, descL)\n",
    "length(dCuts[[\"lambda=10\"]][[\"Cons\"]])\n",
    "dfPurity <- rbind(dfPurity, data.frame(Type = \"Cons\", Value = val, \n",
    "                      nCuts = length(dCuts[[\"lambda=10\"]][[\"Cons\"]]), lambda=lambda))\n",
    "gc()\n",
    "\n",
    "globArr <- rep(-100, l+treeMeanInf0$Nnode)\n",
    "descL <- sapply(Descendants(treeMeanInf0, seq(l+treeMeanInf0$Nnode)), length)\n",
    "obj <- mcols(yAggMeanInfNS0)[[\"meanInfRV\"]] - lambda*c(rep(1,l),cpMeanInf0, descL)\n",
    "val <- findOptSum(treeMeanInf0, obj, l+1, descL)\n",
    "dCuts[[\"lambda=10\"]][[\"MeanInf0\"]] <- findCuts(treeMeanInf0, globArr, obj, l+1, descL)\n",
    "length(dCuts[[\"lambda=10\"]][[\"MeanInf0\"]])\n",
    "dfPurity <- rbind(dfPurity, data.frame(Type = \"MeanInf0\", Value = val, \n",
    "                                       nCuts = length(dCuts[[\"lambda=10\"]][[\"MeanInf0\"]]), lambda=lambda))\n",
    "gc()\n",
    "\n",
    "globArr <- rep(-100, l+treeMeanInf$Nnode)\n",
    "descL <- sapply(Descendants(treeMeanInf, seq(l+treeMeanInf$Nnode)), length)\n",
    "obj <- mcols(yAggMeanInfNS)[[\"meanInfRV\"]] - lambda*c(rep(1,l),cpMeanInf, descL)\n",
    "val <- findOptSum(treeMeanInf, obj, l+1, descL)\n",
    "dCuts[[\"lambda=10\"]][[\"MeanInf\"]] <- findCuts(treeMeanInf, globArr, obj, l+1, descL)\n",
    "length(dCuts[[\"lambda=10\"]][[\"MeanInf\"]])\n",
    "dfPurity <- rbind(dfPurity, data.frame(Type = \"MeanInf\", Value = val, \n",
    "                            nCuts = length(dCuts[[\"lambda=10\"]][[\"MeanInf\"]]), lambda=lambda))\n",
    "gc()\n",
    "\n",
    "globArr <- rep(-100, l+treeCor$Nnode)\n",
    "descL <- sapply(Descendants(treeCor, seq(l+treeCor$Nnode)), length)\n",
    "obj <- mcols(yAggCorNS)[[\"meanInfRV\"]] - lambda*c(rep(1,l),cpCor, descL)\n",
    "val <- findOptSum(treeCor, obj, l+1, descL)\n",
    "dCuts[[\"lambda=10\"]][[\"Cor\"]] <- findCuts(treeCor, globArr, obj, l+1, descL)\n",
    "length(dCuts[[\"lambda=10\"]][[\"Cor\"]])\n",
    "dfPurity <- rbind(dfPurity, data.frame(Type = \"Cor\", Value = val, \n",
    "                          nCuts = length(dCuts[[\"lambda=10\"]][[\"Cor\"]]), lambda=lambda))\n",
    "gc()\n",
    "save(dCuts, file=\"environment/brain_sim_nodtu/mode=gc_bias/post_type=gibbs_nrep=100_tf=100/mean_cons/cutsPur.RData\")\n",
    "save(dfPurity, file=\"environment/brain_sim_nodtu/mode=gc_bias/post_type=gibbs_nrep=100_tf=100/mean_cons/dfPur.RData\")"
   ]
  },
  {
   "cell_type": "code",
   "execution_count": 8,
   "id": "b4e97031",
   "metadata": {},
   "outputs": [
    {
     "data": {
      "text/html": [
       "4654"
      ],
      "text/latex": [
       "4654"
      ],
      "text/markdown": [
       "4654"
      ],
      "text/plain": [
       "[1] 4654"
      ]
     },
     "metadata": {},
     "output_type": "display_data"
    },
    {
     "data": {
      "text/html": [
       "19961"
      ],
      "text/latex": [
       "19961"
      ],
      "text/markdown": [
       "19961"
      ],
      "text/plain": [
       "[1] 19961"
      ]
     },
     "metadata": {},
     "output_type": "display_data"
    },
    {
     "data": {
      "text/html": [
       "25220"
      ],
      "text/latex": [
       "25220"
      ],
      "text/markdown": [
       "25220"
      ],
      "text/plain": [
       "[1] 25220"
      ]
     },
     "metadata": {},
     "output_type": "display_data"
    },
    {
     "data": {
      "text/html": [
       "30385"
      ],
      "text/latex": [
       "30385"
      ],
      "text/markdown": [
       "30385"
      ],
      "text/plain": [
       "[1] 30385"
      ]
     },
     "metadata": {},
     "output_type": "display_data"
    }
   ],
   "source": [
    "child <- Descendants(treeCons0,l+1,\"children\")\n",
    "sum(child < l)\n",
    "sum(cuts[[4]] < l)\n",
    "sum(cuts[[5]] < l)\n",
    "sum(cuts[[6]] < l)"
   ]
  },
  {
   "cell_type": "markdown",
   "id": "acaa14b2",
   "metadata": {},
   "source": [
    "With high $\\lambda$ things will become negative which in turn will end up benefiting more nodes so multiplying with length is imperative"
   ]
  }
 ],
 "metadata": {
  "kernelspec": {
   "display_name": "R",
   "language": "R",
   "name": "ir"
  },
  "language_info": {
   "codemirror_mode": "r",
   "file_extension": ".r",
   "mimetype": "text/x-r-source",
   "name": "R",
   "pygments_lexer": "r",
   "version": "4.1.1"
  }
 },
 "nbformat": 4,
 "nbformat_minor": 5
}
