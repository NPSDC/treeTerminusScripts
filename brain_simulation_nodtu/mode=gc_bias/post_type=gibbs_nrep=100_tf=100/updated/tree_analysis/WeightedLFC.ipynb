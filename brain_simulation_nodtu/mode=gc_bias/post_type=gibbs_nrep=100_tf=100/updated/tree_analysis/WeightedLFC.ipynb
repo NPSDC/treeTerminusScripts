{
 "cells": [
  {
   "cell_type": "code",
   "execution_count": 1,
   "id": "0b30f262",
   "metadata": {},
   "outputs": [],
   "source": [
    "setwd('/fs/cbcb-lab/rob/students/noor/Uncertainity/treeTerminusScripts')\n",
    "load(\"environment/brain_sim_nodtu/mode=gc_bias/mapDf.RData\")\n",
    "load(\"environment/brain_sim_nodtu/mode=gc_bias/post_type=gibbs_nrep=100_tf=100/mean_cons/yAggConsNS.RData\")\n",
    "load(\"environment/brain_sim_nodtu/mode=gc_bias/post_type=gibbs_nrep=100_tf=100/mean_cons/yAggCorNS.RData\")\n",
    "load(\"environment/brain_sim_nodtu/mode=gc_bias/post_type=gibbs_nrep=100_tf=100/mean_cons/yAggMeanInfNS.RData\")\n",
    "load(\"environment/brain_sim_nodtu/mode=gc_bias/post_type=gibbs_nrep=100_tf=100/mean_cons/treeCons.RData\")\n",
    "load(\"environment/brain_sim_nodtu/mode=gc_bias/post_type=gibbs_nrep=100_tf=100/mean_cons/treeCor.RData\")\n",
    "load(\"environment/brain_sim_nodtu/mode=gc_bias/post_type=gibbs_nrep=100_tf=100/mean_cons/treeMC.RData\")\n",
    "load(\"environment/brain_sim_nodtu/mode=gc_bias/post_type=gibbs_nrep=100_tf=100/mean_cons/yAggThrNS.RData\")\n",
    "load(\"environment/brain_sim_nodtu/mode=gc_bias/post_type=gibbs_nrep=100_tf=100/mean_cons/treeThr.RData\")\n",
    "suppressPackageStartupMessages(source(\"tree_helper_function.R\"))\n",
    "suppressPackageStartupMessages(source(\"brain_simulation_nodtu/mode=gc_bias/post_type=gibbs_nrep=100_tf=100/tree_analysis/tree_filter.R\"))"
   ]
  },
  {
   "cell_type": "markdown",
   "id": "f02e3ff1",
   "metadata": {},
   "source": [
    "### Consensus Tree"
   ]
  },
  {
   "cell_type": "code",
   "execution_count": 8,
   "id": "823c1057",
   "metadata": {},
   "outputs": [],
   "source": [
    "dfLFC <- data.frame(matrix(nrow=0, ncol=3))\n",
    "dCuts <- list()\n",
    "colnames(dfLFC) <- c(\"Type\", \"Value\", \"nCuts\")\n",
    "l <- length(treeCons$tip)\n",
    "infReps <- assays(yAggConsNS)[grep(\"infRep\", assayNames(yAggConsNS))]\n",
    "infReps <- abind::abind(as.list(infReps), along = 3)\n",
    "lfc <- getLog2FC(infReps, colData(yAggConsNS)[[\"condition\"]])\n",
    "\n",
    "lfcMet <- abs(lfc/mcols(yAggConsNS)[[\"meanInfRV\"]])\n",
    "globArr <- rep(-100, nrow(yAggConsNS))\n",
    "val <- findMaxSum(treeCons, lfcMet, l+1)\n",
    "optLfcMet <- globArr\n",
    "cuts <- findCuts(treeCons, optLfcMet, lfcMet, l+1)\n",
    "dfLFC <- rbind(dfLFC, data.frame(Type=\"Consensus\", Value=val, nCuts = length(cuts)))\n",
    "dCuts[[\"Consensus\"]] <- cuts"
   ]
  },
  {
   "cell_type": "markdown",
   "id": "b3377011",
   "metadata": {},
   "source": [
    "### Correlation Tree"
   ]
  },
  {
   "cell_type": "code",
   "execution_count": 10,
   "id": "7f8fa779",
   "metadata": {},
   "outputs": [
    {
     "data": {
      "text/html": [
       "TRUE"
      ],
      "text/latex": [
       "TRUE"
      ],
      "text/markdown": [
       "TRUE"
      ],
      "text/plain": [
       "[1] TRUE"
      ]
     },
     "metadata": {},
     "output_type": "display_data"
    }
   ],
   "source": [
    "l==length(treeCor$tip)\n",
    "infReps <- assays(yAggCorNS)[grep(\"infRep\", assayNames(yAggCorNS))]\n",
    "infReps <- abind::abind(as.list(infReps), along = 3)\n",
    "lfc <- getLog2FC(infReps, colData(yAggCorNS)[[\"condition\"]])\n",
    "\n",
    "lfcMet <- abs(lfc/mcols(yAggCorNS)[[\"meanInfRV\"]])\n",
    "globArr <- rep(-100, nrow(yAggCorNS))\n",
    "val <- findMaxSum(treeCor, lfcMet, l+1)\n",
    "optLfcMet <- globArr\n",
    "cuts <- findCuts(treeCor, optLfcMet, lfcMet, l+1)\n",
    "dfLFC <- rbind(dfLFC, data.frame(Type=\"Anti-Correlation\", Value=val, nCuts = length(cuts)))\n",
    "dCuts[[\"Anti-Correlation\"]] <- cuts"
   ]
  },
  {
   "cell_type": "markdown",
   "id": "63717452",
   "metadata": {},
   "source": [
    "### Mean Inf"
   ]
  },
  {
   "cell_type": "code",
   "execution_count": 12,
   "id": "5c8c22ee",
   "metadata": {},
   "outputs": [
    {
     "data": {
      "text/html": [
       "TRUE"
      ],
      "text/latex": [
       "TRUE"
      ],
      "text/markdown": [
       "TRUE"
      ],
      "text/plain": [
       "[1] TRUE"
      ]
     },
     "metadata": {},
     "output_type": "display_data"
    }
   ],
   "source": [
    "l==length(treeMC$tip)\n",
    "infReps <- assays(yAggMeanInfNS)[grep(\"infRep\", assayNames(yAggMeanInfNS))]\n",
    "infReps <- abind::abind(as.list(infReps), along = 3)\n",
    "lfc <- getLog2FC(infReps, colData(yAggMeanInfNS)[[\"condition\"]])\n",
    "\n",
    "lfcMet <- abs(lfc/mcols(yAggMeanInfNS)[[\"meanInfRV\"]])\n",
    "globArr <- rep(-100, nrow(yAggMeanInfNS))\n",
    "val <- findMaxSum(treeMC, lfcMet, l+1)\n",
    "optLfcMet <- globArr\n",
    "cuts <- findCuts(treeMC, optLfcMet, lfcMet, l+1)\n",
    "dfLFC <- rbind(dfLFC, data.frame(Type=\"MeanInf\", Value=val, nCuts = length(cuts)))\n",
    "dCuts[[\"MeanInf\"]] <- cuts"
   ]
  },
  {
   "cell_type": "markdown",
   "id": "243abc46",
   "metadata": {},
   "source": [
    "### Consensus Thr"
   ]
  },
  {
   "cell_type": "code",
   "execution_count": 16,
   "id": "1d27d1df",
   "metadata": {},
   "outputs": [
    {
     "data": {
      "text/html": [
       "TRUE"
      ],
      "text/latex": [
       "TRUE"
      ],
      "text/markdown": [
       "TRUE"
      ],
      "text/plain": [
       "[1] TRUE"
      ]
     },
     "metadata": {},
     "output_type": "display_data"
    }
   ],
   "source": [
    "l==length(treeThr$tip)\n",
    "infReps <- assays(yAggThrNS)[grep(\"infRep\", assayNames(yAggThrNS))]\n",
    "infReps <- abind::abind(as.list(infReps), along = 3)\n",
    "lfc <- getLog2FC(infReps, colData(yAggThrNS)[[\"condition\"]])\n",
    "\n",
    "lfcMet <- abs(lfc/mcols(yAggThrNS)[[\"meanInfRV\"]])\n",
    "globArr <- rep(-100, nrow(yAggThrNS))\n",
    "val <- findMaxSum(treeThr, lfcMet, l+1)\n",
    "optLfcMet <- globArr\n",
    "cuts <- findCuts(treeThr, optLfcMet, lfcMet, l+1)\n",
    "dfLFC <- rbind(dfLFC, data.frame(Type=\"Cons_Thr\", Value=val, nCuts = length(cuts)))\n",
    "dCuts[[\"Cons_Thr\"]] <- cuts"
   ]
  },
  {
   "cell_type": "code",
   "execution_count": 17,
   "id": "fbf185aa",
   "metadata": {},
   "outputs": [
    {
     "data": {
      "text/html": [
       "<table class=\"dataframe\">\n",
       "<caption>A data.frame: 4 × 3</caption>\n",
       "<thead>\n",
       "\t<tr><th scope=col>Type</th><th scope=col>Value</th><th scope=col>nCuts</th></tr>\n",
       "\t<tr><th scope=col>&lt;chr&gt;</th><th scope=col>&lt;dbl&gt;</th><th scope=col>&lt;int&gt;</th></tr>\n",
       "</thead>\n",
       "<tbody>\n",
       "\t<tr><td>Consensus       </td><td>191202.9</td><td> 84437</td></tr>\n",
       "\t<tr><td>Anti-Correlation</td><td>169953.9</td><td>108833</td></tr>\n",
       "\t<tr><td>MeanInf         </td><td>157415.6</td><td>111386</td></tr>\n",
       "\t<tr><td>Cons_Thr        </td><td>149251.5</td><td>117171</td></tr>\n",
       "</tbody>\n",
       "</table>\n"
      ],
      "text/latex": [
       "A data.frame: 4 × 3\n",
       "\\begin{tabular}{lll}\n",
       " Type & Value & nCuts\\\\\n",
       " <chr> & <dbl> & <int>\\\\\n",
       "\\hline\n",
       "\t Consensus        & 191202.9 &  84437\\\\\n",
       "\t Anti-Correlation & 169953.9 & 108833\\\\\n",
       "\t MeanInf          & 157415.6 & 111386\\\\\n",
       "\t Cons\\_Thr         & 149251.5 & 117171\\\\\n",
       "\\end{tabular}\n"
      ],
      "text/markdown": [
       "\n",
       "A data.frame: 4 × 3\n",
       "\n",
       "| Type &lt;chr&gt; | Value &lt;dbl&gt; | nCuts &lt;int&gt; |\n",
       "|---|---|---|\n",
       "| Consensus        | 191202.9 |  84437 |\n",
       "| Anti-Correlation | 169953.9 | 108833 |\n",
       "| MeanInf          | 157415.6 | 111386 |\n",
       "| Cons_Thr         | 149251.5 | 117171 |\n",
       "\n"
      ],
      "text/plain": [
       "  Type             Value    nCuts \n",
       "1 Consensus        191202.9  84437\n",
       "2 Anti-Correlation 169953.9 108833\n",
       "3 MeanInf          157415.6 111386\n",
       "4 Cons_Thr         149251.5 117171"
      ]
     },
     "metadata": {},
     "output_type": "display_data"
    }
   ],
   "source": [
    "dfLFC"
   ]
  }
 ],
 "metadata": {
  "kernelspec": {
   "display_name": "R",
   "language": "R",
   "name": "ir"
  },
  "language_info": {
   "codemirror_mode": "r",
   "file_extension": ".r",
   "mimetype": "text/x-r-source",
   "name": "R",
   "pygments_lexer": "r",
   "version": "4.1.1"
  }
 },
 "nbformat": 4,
 "nbformat_minor": 5
}
