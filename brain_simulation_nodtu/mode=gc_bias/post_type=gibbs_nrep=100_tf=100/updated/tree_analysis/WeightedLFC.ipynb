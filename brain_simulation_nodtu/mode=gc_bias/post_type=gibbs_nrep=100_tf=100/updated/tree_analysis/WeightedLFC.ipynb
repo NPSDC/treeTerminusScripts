{
 "cells": [
  {
   "cell_type": "code",
   "execution_count": 1,
   "id": "0b30f262",
   "metadata": {},
   "outputs": [],
   "source": [
    "setwd('/fs/cbcb-lab/rob/students/noor/Uncertainity/treeTerminusScripts')\n",
    "load(\"environment/brain_sim_nodtu/mode=gc_bias/mapDf.RData\")\n",
    "load(\"environment/brain_sim_nodtu/mode=gc_bias/post_type=gibbs_nrep=100_tf=100/mean_cons/yAggCons.RData\")\n",
    "load(\"environment/brain_sim_nodtu/mode=gc_bias/post_type=gibbs_nrep=100_tf=100/mean_cons/yAggCor.RData\")\n",
    "load(\"environment/brain_sim_nodtu/mode=gc_bias/post_type=gibbs_nrep=100_tf=100/mean_cons/yAggMeanInf.RData\")\n",
    "load(\"environment/brain_sim_nodtu/mode=gc_bias/post_type=gibbs_nrep=100_tf=100/mean_cons/yAggMeanInf0.RData\")\n",
    "load(\"environment/brain_sim_nodtu/mode=gc_bias/post_type=gibbs_nrep=100_tf=100/mean_cons/yAggCons0.RData\")\n",
    "load(\"environment/brain_sim_nodtu/mode=gc_bias/post_type=gibbs_nrep=100_tf=100/mean_cons/yAggThr.RData\")\n",
    "\n",
    "load(\"environment/brain_sim_nodtu/mode=gc_bias/post_type=gibbs_nrep=100_tf=100/mean_cons/treeCons.RData\")\n",
    "load(\"environment/brain_sim_nodtu/mode=gc_bias/post_type=gibbs_nrep=100_tf=100/mean_cons/treeCor.RData\")\n",
    "load(\"environment/brain_sim_nodtu/mode=gc_bias/post_type=gibbs_nrep=100_tf=100/mean_cons/treeMC.RData\")\n",
    "load(\"environment/brain_sim_nodtu/mode=gc_bias/post_type=gibbs_nrep=100_tf=100/mean_cons/treeMC0.RData\")\n",
    "load(\"environment/brain_sim_nodtu/mode=gc_bias/post_type=gibbs_nrep=100_tf=100/mean_cons/treeThr.RData\")\n",
    "load(\"environment/brain_sim_nodtu/mode=gc_bias/post_type=gibbs_nrep=100_tf=100/mean_cons/treeCons0.RData\")\n",
    "\n",
    "suppressPackageStartupMessages(source(\"tree_helper_function.R\"))\n",
    "suppressPackageStartupMessages(source(\"brain_simulation_nodtu/mode=gc_bias/post_type=gibbs_nrep=100_tf=100/tree_analysis/tree_filter.R\"))"
   ]
  },
  {
   "cell_type": "code",
   "execution_count": 6,
   "id": "f93c181d",
   "metadata": {},
   "outputs": [
    {
     "data": {
      "text/html": [
       "6547"
      ],
      "text/latex": [
       "6547"
      ],
      "text/markdown": [
       "6547"
      ],
      "text/plain": [
       "[1] 6547"
      ]
     },
     "metadata": {},
     "output_type": "display_data"
    }
   ],
   "source": [
    "txpDiff <- setdiff(treeMC0$tip.label,treeMC$tip.label)\n",
    "length(txpDiff)"
   ]
  },
  {
   "cell_type": "code",
   "execution_count": 5,
   "id": "28c032ff",
   "metadata": {},
   "outputs": [
    {
     "data": {
      "text/html": [
       "0"
      ],
      "text/latex": [
       "0"
      ],
      "text/markdown": [
       "0"
      ],
      "text/plain": [
       "[1] 0"
      ]
     },
     "metadata": {},
     "output_type": "display_data"
    }
   ],
   "source": [
    "# infReps <- assays(yAggMeanInf0)[grep(\"infRep\", assayNames(yAggMeanInf0))]\n",
    "# infReps <- abind::abind(as.list(infReps), along = 3)\n",
    "# lfc <- getLog2FC(infReps, colData(yAggMeanInf0)[[\"condition\"]])\n",
    "# lfcMet <- abs(lfc/mcols(yAggMeanInf0)[[\"meanInfRV\"]])\n",
    "\n",
    "# wlfcDiff <- sum(lfcMet[txpDiff])\n",
    "# wlfcDiff\n",
    "# l <- length(treeCons$tip)\n",
    "wlfcDiff <- 0\n",
    "txpDiff <- NULL\n",
    "length(txpDiff)"
   ]
  },
  {
   "cell_type": "markdown",
   "id": "f02e3ff1",
   "metadata": {},
   "source": [
    "### Consensus Tree"
   ]
  },
  {
   "cell_type": "code",
   "execution_count": 6,
   "id": "823c1057",
   "metadata": {},
   "outputs": [],
   "source": [
    "dfLFC <- data.frame(matrix(nrow=0, ncol=3))\n",
    "dCuts <- list()\n",
    "colnames(dfLFC) <- c(\"Type\", \"Value\", \"nCuts\")\n",
    "l <- length(treeCons$tip)\n",
    "lengths <- sapply(Descendants(treeCons, seq(length(treeCons$tip)+treeCons$Nnode)), length)\n",
    "infReps <- assays(yAggCons)[grep(\"infRep\", assayNames(yAggCons))]\n",
    "infReps <- abind::abind(as.list(infReps), along = 3)\n",
    "lfc <- getLog2FC(infReps, colData(yAggCons)[[\"condition\"]])\n",
    "\n",
    "lfcMet <- abs(lfc/mcols(yAggCons)[[\"meanInfRV\"]])\n",
    "globArr <- rep(-100, nrow(yAggCons))\n",
    "val <- findMaxSum(treeCons, lfcMet, l+1, lengths)\n",
    "optLfcMet <- globArr\n",
    "cuts <- findCuts(treeCons, optLfcMet, lfcMet, l+1, lengths)\n",
    "dfLFC <- rbind(dfLFC, data.frame(Type=\"Consensus\", Value=val+wlfcDiff, nCuts = length(cuts)+length(txpDiff)))\n",
    "dCuts[[\"Consensus\"]] <- cuts"
   ]
  },
  {
   "cell_type": "markdown",
   "id": "b3377011",
   "metadata": {},
   "source": [
    "### Correlation Tree"
   ]
  },
  {
   "cell_type": "code",
   "execution_count": 8,
   "id": "7f8fa779",
   "metadata": {},
   "outputs": [
    {
     "data": {
      "text/html": [
       "TRUE"
      ],
      "text/latex": [
       "TRUE"
      ],
      "text/markdown": [
       "TRUE"
      ],
      "text/plain": [
       "[1] TRUE"
      ]
     },
     "metadata": {},
     "output_type": "display_data"
    }
   ],
   "source": [
    "l==length(treeCor$tip)\n",
    "infReps <- assays(yAggCor)[grep(\"infRep\", assayNames(yAggCor))]\n",
    "infReps <- abind::abind(as.list(infReps), along = 3)\n",
    "lfc <- getLog2FC(infReps, colData(yAggCor)[[\"condition\"]])\n",
    "lengths <- sapply(Descendants(treeCor, seq(length(treeCor$tip)+treeCor$Nnode)), length)\n",
    "lfcMet <- abs(lfc/mcols(yAggCor)[[\"meanInfRV\"]])\n",
    "globArr <- rep(-100, nrow(yAggCor))\n",
    "val <- findMaxSum(treeCor, lfcMet, l+1, lengths)\n",
    "optLfcMet <- globArr\n",
    "cuts <- findCuts(treeCor, optLfcMet, lfcMet, l+1, lengths)\n",
    "dfLFC <- rbind(dfLFC, data.frame(Type=\"Anti-Correlation\", Value=val + wlfcDiff, nCuts = length(cuts) + length(txpDiff)))\n",
    "dCuts[[\"Anti-Correlation\"]] <- cuts"
   ]
  },
  {
   "cell_type": "markdown",
   "id": "63717452",
   "metadata": {},
   "source": [
    "### Mean Inf"
   ]
  },
  {
   "cell_type": "code",
   "execution_count": 12,
   "id": "5c8c22ee",
   "metadata": {},
   "outputs": [
    {
     "data": {
      "text/html": [
       "TRUE"
      ],
      "text/latex": [
       "TRUE"
      ],
      "text/markdown": [
       "TRUE"
      ],
      "text/plain": [
       "[1] TRUE"
      ]
     },
     "metadata": {},
     "output_type": "display_data"
    }
   ],
   "source": [
    "l==length(treeMeanInf$tip)\n",
    "infReps <- assays(yAggMeanInf)[grep(\"infRep\", assayNames(yAggMeanInf))]\n",
    "infReps <- abind::abind(as.list(infReps), along = 3)\n",
    "lfc <- getLog2FC(infReps, colData(yAggMeanInf)[[\"condition\"]])\n",
    "lfcMet <- abs(lfc/mcols(yAggMeanInf)[[\"meanInfRV\"]])\n",
    "globArr <- rep(-100, nrow(yAggMeanInf))\n",
    "lengths <- sapply(Descendants(treeMeanInf, seq(length(treeMeanInf$tip)+treeMeanInf$Nnode)), length)\n",
    "val <- findMaxSum(treeMeanInf, lfcMet, l+1, lengths)\n",
    "optLfcMet <- globArr\n",
    "cuts <- findCuts(treeMeanInf, optLfcMet, lfcMet, l+1,lengths)\n",
    "dfLFC <- rbind(dfLFC, data.frame(Type=\"MeanInf\", Value=val+wlfcDiff, nCuts = length(cuts)+length(txpDiff)))\n",
    "dCuts[[\"MeanInf\"]] <- cuts"
   ]
  },
  {
   "cell_type": "code",
   "execution_count": 13,
   "id": "f41c03f9",
   "metadata": {
    "scrolled": true
   },
   "outputs": [
    {
     "data": {
      "text/html": [
       "<table class=\"dataframe\">\n",
       "<caption>A data.frame: 3 × 3</caption>\n",
       "<thead>\n",
       "\t<tr><th scope=col>Type</th><th scope=col>Value</th><th scope=col>nCuts</th></tr>\n",
       "\t<tr><th scope=col>&lt;chr&gt;</th><th scope=col>&lt;dbl&gt;</th><th scope=col>&lt;int&gt;</th></tr>\n",
       "</thead>\n",
       "<tbody>\n",
       "\t<tr><td>Consensus       </td><td>850717.1</td><td>41246</td></tr>\n",
       "\t<tr><td>Anti-Correlation</td><td>708478.1</td><td>84082</td></tr>\n",
       "\t<tr><td>MeanInf         </td><td>615488.0</td><td>58263</td></tr>\n",
       "</tbody>\n",
       "</table>\n"
      ],
      "text/latex": [
       "A data.frame: 3 × 3\n",
       "\\begin{tabular}{lll}\n",
       " Type & Value & nCuts\\\\\n",
       " <chr> & <dbl> & <int>\\\\\n",
       "\\hline\n",
       "\t Consensus        & 850717.1 & 41246\\\\\n",
       "\t Anti-Correlation & 708478.1 & 84082\\\\\n",
       "\t MeanInf          & 615488.0 & 58263\\\\\n",
       "\\end{tabular}\n"
      ],
      "text/markdown": [
       "\n",
       "A data.frame: 3 × 3\n",
       "\n",
       "| Type &lt;chr&gt; | Value &lt;dbl&gt; | nCuts &lt;int&gt; |\n",
       "|---|---|---|\n",
       "| Consensus        | 850717.1 | 41246 |\n",
       "| Anti-Correlation | 708478.1 | 84082 |\n",
       "| MeanInf          | 615488.0 | 58263 |\n",
       "\n"
      ],
      "text/plain": [
       "  Type             Value    nCuts\n",
       "1 Consensus        850717.1 41246\n",
       "2 Anti-Correlation 708478.1 84082\n",
       "3 MeanInf          615488.0 58263"
      ]
     },
     "metadata": {},
     "output_type": "display_data"
    }
   ],
   "source": [
    "dfLFC"
   ]
  },
  {
   "cell_type": "markdown",
   "id": "2beffd1f",
   "metadata": {},
   "source": [
    "### Mean Inf Thr0"
   ]
  },
  {
   "cell_type": "code",
   "execution_count": 14,
   "id": "a5406d48",
   "metadata": {},
   "outputs": [
    {
     "data": {
      "text/html": [
       "TRUE"
      ],
      "text/latex": [
       "TRUE"
      ],
      "text/markdown": [
       "TRUE"
      ],
      "text/plain": [
       "[1] TRUE"
      ]
     },
     "metadata": {},
     "output_type": "display_data"
    },
    {
     "name": "stdout",
     "output_type": "stream",
     "text": [
      "[1] 1018883\n"
     ]
    }
   ],
   "source": [
    "l==length(treeMeanInf0$tip)\n",
    "infReps <- assays(yAggMeanInf0)[grep(\"infRep\", assayNames(yAggMeanInf0))]\n",
    "infReps <- abind::abind(as.list(infReps), along = 3)\n",
    "lfc <- getLog2FC(infReps, colData(yAggMeanInf0)[[\"condition\"]])\n",
    "\n",
    "lfcMet <- abs(lfc/mcols(yAggMeanInf0)[[\"meanInfRV\"]])\n",
    "lengths <- sapply(Descendants(treeMeanInf0, seq(length(treeMeanInf0$tip)+treeMeanInf0$Nnode)), length)\n",
    "globArr <- rep(-100, nrow(yAggMeanInf0))\n",
    "val <- findMaxSum(treeMeanInf0, lfcMet, length(treeMeanInf0$tip)+1, lengths)\n",
    "optLfcMet <- globArr\n",
    "print(val)\n",
    "cuts <- findCuts(treeMeanInf0, optLfcMet, lfcMet, length(treeMeanInf0$tip)+1, lengths)\n",
    "dfLFC <- rbind(dfLFC, data.frame(Type=\"MeanInf0\", Value=val, nCuts = length(cuts)))\n",
    "dCuts[[\"MeanInf0\"]] <- cuts"
   ]
  },
  {
   "cell_type": "code",
   "execution_count": 15,
   "id": "52bae027",
   "metadata": {},
   "outputs": [
    {
     "name": "stdout",
     "output_type": "stream",
     "text": [
      "[1] 1018883   30792\n"
     ]
    }
   ],
   "source": [
    "print(c(val, length(cuts)))"
   ]
  },
  {
   "cell_type": "markdown",
   "id": "243abc46",
   "metadata": {},
   "source": [
    "### Consensus Thr"
   ]
  },
  {
   "cell_type": "code",
   "execution_count": 18,
   "id": "1d27d1df",
   "metadata": {},
   "outputs": [
    {
     "data": {
      "text/html": [
       "TRUE"
      ],
      "text/latex": [
       "TRUE"
      ],
      "text/markdown": [
       "TRUE"
      ],
      "text/plain": [
       "[1] TRUE"
      ]
     },
     "metadata": {},
     "output_type": "display_data"
    }
   ],
   "source": [
    "l==length(treeThr$tip)\n",
    "infReps <- assays(yAggThr)[grep(\"infRep\", assayNames(yAggThr))]\n",
    "infReps <- abind::abind(as.list(infReps), along = 3)\n",
    "lfc <- getLog2FC(infReps, colData(yAggThr)[[\"condition\"]])\n",
    "\n",
    "lfcMet <- abs(lfc/mcols(yAggThr)[[\"meanInfRV\"]])\n",
    "globArr <- rep(-100, nrow(yAggThr))\n",
    "lengths <- sapply(Descendants(treeThr, seq(length(treeThr$tip)+treeThr$Nnode)), length)\n",
    "val <- findMaxSum(treeThr, lfcMet, l+1,lengths)\n",
    "optLfcMet <- globArr\n",
    "cuts <- findCuts(treeThr, optLfcMet, lfcMet, l+1, lengths)\n",
    "dfLFC <- rbind(dfLFC, data.frame(Type=\"Cons_Thr\", Value=val+wlfcDiff, nCuts = length(cuts) + length(txpDiff)))\n",
    "dCuts[[\"Cons_Thr\"]] <- cuts"
   ]
  },
  {
   "cell_type": "code",
   "execution_count": 19,
   "id": "fbf185aa",
   "metadata": {},
   "outputs": [
    {
     "data": {
      "text/html": [
       "<table class=\"dataframe\">\n",
       "<caption>A data.frame: 5 × 3</caption>\n",
       "<thead>\n",
       "\t<tr><th scope=col>Type</th><th scope=col>Value</th><th scope=col>nCuts</th></tr>\n",
       "\t<tr><th scope=col>&lt;chr&gt;</th><th scope=col>&lt;dbl&gt;</th><th scope=col>&lt;int&gt;</th></tr>\n",
       "</thead>\n",
       "<tbody>\n",
       "\t<tr><td>Consensus       </td><td> 850717.1</td><td>41246</td></tr>\n",
       "\t<tr><td>Anti-Correlation</td><td> 708478.1</td><td>84082</td></tr>\n",
       "\t<tr><td>MeanInf         </td><td> 615488.0</td><td>58263</td></tr>\n",
       "\t<tr><td>MeanInf0        </td><td>1018883.0</td><td>30792</td></tr>\n",
       "\t<tr><td>Cons_Thr        </td><td> 330390.6</td><td>    1</td></tr>\n",
       "</tbody>\n",
       "</table>\n"
      ],
      "text/latex": [
       "A data.frame: 5 × 3\n",
       "\\begin{tabular}{lll}\n",
       " Type & Value & nCuts\\\\\n",
       " <chr> & <dbl> & <int>\\\\\n",
       "\\hline\n",
       "\t Consensus        &  850717.1 & 41246\\\\\n",
       "\t Anti-Correlation &  708478.1 & 84082\\\\\n",
       "\t MeanInf          &  615488.0 & 58263\\\\\n",
       "\t MeanInf0         & 1018883.0 & 30792\\\\\n",
       "\t Cons\\_Thr         &  330390.6 &     1\\\\\n",
       "\\end{tabular}\n"
      ],
      "text/markdown": [
       "\n",
       "A data.frame: 5 × 3\n",
       "\n",
       "| Type &lt;chr&gt; | Value &lt;dbl&gt; | nCuts &lt;int&gt; |\n",
       "|---|---|---|\n",
       "| Consensus        |  850717.1 | 41246 |\n",
       "| Anti-Correlation |  708478.1 | 84082 |\n",
       "| MeanInf          |  615488.0 | 58263 |\n",
       "| MeanInf0         | 1018883.0 | 30792 |\n",
       "| Cons_Thr         |  330390.6 |     1 |\n",
       "\n"
      ],
      "text/plain": [
       "  Type             Value     nCuts\n",
       "1 Consensus         850717.1 41246\n",
       "2 Anti-Correlation  708478.1 84082\n",
       "3 MeanInf           615488.0 58263\n",
       "4 MeanInf0         1018883.0 30792\n",
       "5 Cons_Thr          330390.6     1"
      ]
     },
     "metadata": {},
     "output_type": "display_data"
    }
   ],
   "source": [
    "dfLFC"
   ]
  },
  {
   "cell_type": "code",
   "execution_count": 24,
   "id": "8a00658a",
   "metadata": {},
   "outputs": [
    {
     "data": {
      "text/html": [
       "TRUE"
      ],
      "text/latex": [
       "TRUE"
      ],
      "text/markdown": [
       "TRUE"
      ],
      "text/plain": [
       "[1] TRUE"
      ]
     },
     "metadata": {},
     "output_type": "display_data"
    }
   ],
   "source": [
    "l==length(treeCons0$tip)\n",
    "infReps <- assays(yAggCons0)[grep(\"infRep\", assayNames(yAggCons0))]\n",
    "infReps <- abind::abind(as.list(infReps), along = 3)\n",
    "lfc <- getLog2FC(infReps, colData(yAggCons0)[[\"condition\"]])\n",
    "\n",
    "lfcMet <- abs(lfc/mcols(yAggCons0)[[\"meanInfRV\"]])\n",
    "globArr <- rep(-100, nrow(yAggCons0))\n",
    "lengths <- sapply(Descendants(treeCons0, seq(length(treeCons0$tip)+treeCons0$Nnode)), length)\n",
    "val <- findMaxSum(treeCons0, lfcMet, l+1,lengths)\n",
    "optLfcMet <- globArr\n",
    "cuts <- findCuts(treeCons0, optLfcMet, lfcMet, l+1, lengths)\n",
    "dfLFC <- rbind(dfLFC, data.frame(Type=\"Consensus0\", Value=val+wlfcDiff, nCuts = length(cuts) + length(txpDiff)))\n",
    "dCuts[[\"Consensus0\"]] <- cuts"
   ]
  },
  {
   "cell_type": "code",
   "execution_count": 25,
   "id": "c1ee6d72",
   "metadata": {},
   "outputs": [
    {
     "data": {
      "text/html": [
       "<table class=\"dataframe\">\n",
       "<caption>A data.frame: 6 × 3</caption>\n",
       "<thead>\n",
       "\t<tr><th scope=col>Type</th><th scope=col>Value</th><th scope=col>nCuts</th></tr>\n",
       "\t<tr><th scope=col>&lt;chr&gt;</th><th scope=col>&lt;dbl&gt;</th><th scope=col>&lt;int&gt;</th></tr>\n",
       "</thead>\n",
       "<tbody>\n",
       "\t<tr><td>Consensus       </td><td> 850717.1</td><td>41246</td></tr>\n",
       "\t<tr><td>Anti-Correlation</td><td> 708478.1</td><td>84082</td></tr>\n",
       "\t<tr><td>MeanInf         </td><td> 615488.0</td><td>58263</td></tr>\n",
       "\t<tr><td>MeanInf0        </td><td>1018883.0</td><td>30792</td></tr>\n",
       "\t<tr><td>Cons_Thr        </td><td> 330390.6</td><td>    1</td></tr>\n",
       "\t<tr><td>Consensus0      </td><td>1010767.3</td><td>31331</td></tr>\n",
       "</tbody>\n",
       "</table>\n"
      ],
      "text/latex": [
       "A data.frame: 6 × 3\n",
       "\\begin{tabular}{lll}\n",
       " Type & Value & nCuts\\\\\n",
       " <chr> & <dbl> & <int>\\\\\n",
       "\\hline\n",
       "\t Consensus        &  850717.1 & 41246\\\\\n",
       "\t Anti-Correlation &  708478.1 & 84082\\\\\n",
       "\t MeanInf          &  615488.0 & 58263\\\\\n",
       "\t MeanInf0         & 1018883.0 & 30792\\\\\n",
       "\t Cons\\_Thr         &  330390.6 &     1\\\\\n",
       "\t Consensus0       & 1010767.3 & 31331\\\\\n",
       "\\end{tabular}\n"
      ],
      "text/markdown": [
       "\n",
       "A data.frame: 6 × 3\n",
       "\n",
       "| Type &lt;chr&gt; | Value &lt;dbl&gt; | nCuts &lt;int&gt; |\n",
       "|---|---|---|\n",
       "| Consensus        |  850717.1 | 41246 |\n",
       "| Anti-Correlation |  708478.1 | 84082 |\n",
       "| MeanInf          |  615488.0 | 58263 |\n",
       "| MeanInf0         | 1018883.0 | 30792 |\n",
       "| Cons_Thr         |  330390.6 |     1 |\n",
       "| Consensus0       | 1010767.3 | 31331 |\n",
       "\n"
      ],
      "text/plain": [
       "  Type             Value     nCuts\n",
       "1 Consensus         850717.1 41246\n",
       "2 Anti-Correlation  708478.1 84082\n",
       "3 MeanInf           615488.0 58263\n",
       "4 MeanInf0         1018883.0 30792\n",
       "5 Cons_Thr          330390.6     1\n",
       "6 Consensus0       1010767.3 31331"
      ]
     },
     "metadata": {},
     "output_type": "display_data"
    }
   ],
   "source": [
    "dfLFC"
   ]
  },
  {
   "cell_type": "code",
   "execution_count": 26,
   "id": "f484feb1",
   "metadata": {},
   "outputs": [],
   "source": [
    "save(dCuts, file=\"environment/brain_sim_nodtu/mode=gc_bias/post_type=gibbs_nrep=100_tf=100/updated/comp_trees/lfcCuts_len.RData\")"
   ]
  },
  {
   "cell_type": "markdown",
   "id": "e584b7f2",
   "metadata": {},
   "source": [
    "#### Consensus Tree"
   ]
  },
  {
   "cell_type": "code",
   "execution_count": 21,
   "id": "166e322e",
   "metadata": {},
   "outputs": [],
   "source": [
    "dfLFC <- data.frame(matrix(nrow=0, ncol=3))\n",
    "dCutsNL <- list()\n",
    "colnames(dfLFC) <- c(\"Type\", \"Value\", \"nCuts\")\n",
    "l <- length(treeCons$tip)\n",
    "infReps <- assays(yAggCons)[grep(\"infRep\", assayNames(yAggCons))]\n",
    "infReps <- abind::abind(as.list(infReps), along = 3)\n",
    "lfc <- getLog2FC(infReps, colData(yAggCons)[[\"condition\"]])\n",
    "\n",
    "lfcMet <- abs(lfc/mcols(yAggCons)[[\"meanInfRV\"]])\n",
    "globArr <- rep(-100, nrow(yAggCons))\n",
    "val <- findMaxSum(treeCons, lfcMet, l+1)\n",
    "optLfcMet <- globArr\n",
    "cuts <- findCuts(treeCons, optLfcMet, lfcMet, l+1)\n",
    "dfLFC <- rbind(dfLFC, data.frame(Type=\"Consensus\", Value=val+wlfcDiff, nCuts = length(cuts)+length(txpDiff)))\n",
    "dCutsNL[[\"Consensus\"]] <- cuts"
   ]
  },
  {
   "cell_type": "markdown",
   "id": "d27f2fc2",
   "metadata": {},
   "source": [
    "#### Correlation"
   ]
  },
  {
   "cell_type": "code",
   "execution_count": 28,
   "id": "dc346d00",
   "metadata": {},
   "outputs": [
    {
     "data": {
      "text/html": [
       "TRUE"
      ],
      "text/latex": [
       "TRUE"
      ],
      "text/markdown": [
       "TRUE"
      ],
      "text/plain": [
       "[1] TRUE"
      ]
     },
     "metadata": {},
     "output_type": "display_data"
    }
   ],
   "source": [
    "l==length(treeCor$tip)\n",
    "infReps <- assays(yAggCor)[grep(\"infRep\", assayNames(yAggCor))]\n",
    "infReps <- abind::abind(as.list(infReps), along = 3)\n",
    "lfc <- getLog2FC(infReps, colData(yAggCor)[[\"condition\"]])\n",
    "lfcMet <- abs(lfc/mcols(yAggCor)[[\"meanInfRV\"]])\n",
    "globArr <- rep(-100, nrow(yAggCor))\n",
    "val <- findMaxSum(treeCor, lfcMet, l+1)\n",
    "optLfcMet <- globArr\n",
    "cuts <- findCuts(treeCor, optLfcMet, lfcMet, l+1)\n",
    "dfLFC <- rbind(dfLFC, data.frame(Type=\"Anti-Correlation\", Value=val + wlfcDiff, nCuts = length(cuts) + length(txpDiff)))\n",
    "dCutsNL[[\"Anti-Correlation\"]] <- cuts"
   ]
  },
  {
   "cell_type": "markdown",
   "id": "2919df32",
   "metadata": {},
   "source": [
    "#### MeanInf"
   ]
  },
  {
   "cell_type": "code",
   "execution_count": 32,
   "id": "60cf71a0",
   "metadata": {},
   "outputs": [
    {
     "data": {
      "text/html": [
       "TRUE"
      ],
      "text/latex": [
       "TRUE"
      ],
      "text/markdown": [
       "TRUE"
      ],
      "text/plain": [
       "[1] TRUE"
      ]
     },
     "metadata": {},
     "output_type": "display_data"
    }
   ],
   "source": [
    "l==length(treeMC$tip)\n",
    "infReps <- assays(yAggMeanInf)[grep(\"infRep\", assayNames(yAggMeanInf))]\n",
    "infReps <- abind::abind(as.list(infReps), along = 3)\n",
    "lfc <- getLog2FC(infReps, colData(yAggMeanInf)[[\"condition\"]])\n",
    "lfcMet <- abs(lfc/mcols(yAggMeanInf)[[\"meanInfRV\"]])\n",
    "globArr <- rep(-100, nrow(yAggMeanInf))\n",
    "val <- findMaxSum(treeMC, lfcMet, l+1)\n",
    "optLfcMet <- globArr\n",
    "cuts <- findCuts(treeMC, optLfcMet, lfcMet, l+1)\n",
    "dfLFC <- rbind(dfLFC, data.frame(Type=\"MeanInf\", Value=val+wlfcDiff, nCuts = length(cuts)+length(txpDiff)))\n",
    "dCutsNL[[\"MeanInf\"]] <- cuts"
   ]
  },
  {
   "cell_type": "markdown",
   "id": "ff15c741",
   "metadata": {},
   "source": [
    "#### MeanInf0"
   ]
  },
  {
   "cell_type": "code",
   "execution_count": 39,
   "id": "e5c4a00e",
   "metadata": {},
   "outputs": [
    {
     "name": "stdout",
     "output_type": "stream",
     "text": [
      "[1] 224250.6\n"
     ]
    }
   ],
   "source": [
    "# l==length(treeMC0$tip)\n",
    "infReps <- assays(yAggMeanInf0)[grep(\"infRep\", assayNames(yAggMeanInf0))]\n",
    "infReps <- abind::abind(as.list(infReps), along = 3)\n",
    "lfc <- getLog2FC(infReps, colData(yAggMeanInf0)[[\"condition\"]])\n",
    "\n",
    "lfcMet <- abs(lfc/mcols(yAggMeanInf0)[[\"meanInfRV\"]])\n",
    "globArr <- rep(-100, nrow(yAggMeanInf0))\n",
    "val <- findMaxSum(treeMC0, lfcMet, length(treeMC0$tip)+1)\n",
    "optLfcMet <- globArr\n",
    "print(val)\n",
    "cuts <- findCuts(treeMC0, optLfcMet, lfcMet, length(treeMC0$tip)+1)\n",
    "dfLFC <- rbind(dfLFC, data.frame(Type=\"MeanInf0\", Value=val, nCuts = length(cuts)))\n",
    "dCutsNL[[\"MeanInf0\"]] <- cuts\n"
   ]
  },
  {
   "cell_type": "code",
   "execution_count": 40,
   "id": "def62024",
   "metadata": {},
   "outputs": [
    {
     "data": {
      "text/html": [
       "<table class=\"dataframe\">\n",
       "<caption>A data.frame: 4 × 3</caption>\n",
       "<thead>\n",
       "\t<tr><th scope=col>Type</th><th scope=col>Value</th><th scope=col>nCuts</th></tr>\n",
       "\t<tr><th scope=col>&lt;chr&gt;</th><th scope=col>&lt;dbl&gt;</th><th scope=col>&lt;int&gt;</th></tr>\n",
       "</thead>\n",
       "<tbody>\n",
       "\t<tr><td>Consensus       </td><td>210766.7</td><td> 93762</td></tr>\n",
       "\t<tr><td>Anti-Correlation</td><td>189507.6</td><td>118417</td></tr>\n",
       "\t<tr><td>MeanInf         </td><td>210347.4</td><td> 96183</td></tr>\n",
       "\t<tr><td>MeanInf0        </td><td>224250.6</td><td> 86958</td></tr>\n",
       "</tbody>\n",
       "</table>\n"
      ],
      "text/latex": [
       "A data.frame: 4 × 3\n",
       "\\begin{tabular}{lll}\n",
       " Type & Value & nCuts\\\\\n",
       " <chr> & <dbl> & <int>\\\\\n",
       "\\hline\n",
       "\t Consensus        & 210766.7 &  93762\\\\\n",
       "\t Anti-Correlation & 189507.6 & 118417\\\\\n",
       "\t MeanInf          & 210347.4 &  96183\\\\\n",
       "\t MeanInf0         & 224250.6 &  86958\\\\\n",
       "\\end{tabular}\n"
      ],
      "text/markdown": [
       "\n",
       "A data.frame: 4 × 3\n",
       "\n",
       "| Type &lt;chr&gt; | Value &lt;dbl&gt; | nCuts &lt;int&gt; |\n",
       "|---|---|---|\n",
       "| Consensus        | 210766.7 |  93762 |\n",
       "| Anti-Correlation | 189507.6 | 118417 |\n",
       "| MeanInf          | 210347.4 |  96183 |\n",
       "| MeanInf0         | 224250.6 |  86958 |\n",
       "\n"
      ],
      "text/plain": [
       "  Type             Value    nCuts \n",
       "1 Consensus        210766.7  93762\n",
       "2 Anti-Correlation 189507.6 118417\n",
       "3 MeanInf          210347.4  96183\n",
       "4 MeanInf0         224250.6  86958"
      ]
     },
     "metadata": {},
     "output_type": "display_data"
    }
   ],
   "source": [
    "dfLFC"
   ]
  },
  {
   "cell_type": "markdown",
   "id": "366486dc",
   "metadata": {},
   "source": [
    "#### Thr"
   ]
  },
  {
   "cell_type": "code",
   "execution_count": 47,
   "id": "a0564fc5",
   "metadata": {},
   "outputs": [
    {
     "data": {
      "text/html": [
       "TRUE"
      ],
      "text/latex": [
       "TRUE"
      ],
      "text/markdown": [
       "TRUE"
      ],
      "text/plain": [
       "[1] TRUE"
      ]
     },
     "metadata": {},
     "output_type": "display_data"
    }
   ],
   "source": [
    "l==length(treeThr$tip)\n",
    "infReps <- assays(yAggThrNS)[grep(\"infRep\", assayNames(yAggThrNS))]\n",
    "infReps <- abind::abind(as.list(infReps), along = 3)\n",
    "lfc <- getLog2FC(infReps, colData(yAggThrNS)[[\"condition\"]])\n",
    "\n",
    "lfcMet <- abs(lfc/mcols(yAggThrNS)[[\"meanInfRV\"]])\n",
    "globArr <- rep(-100, nrow(yAggThrNS))\n",
    "val <- findMaxSum(treeThr, lfcMet, l+1)\n",
    "optLfcMet <- globArr\n",
    "cuts <- findCuts(treeThr, optLfcMet, lfcMet, l+1)\n",
    "dfLFC <- rbind(dfLFC, data.frame(Type=\"Cons_Thr\", Value=val+wlfcDiff, nCuts = length(cuts) + length(txpDiff)))\n",
    "dCutsNL[[\"Cons_Thr\"]] <- cuts"
   ]
  },
  {
   "cell_type": "code",
   "execution_count": 49,
   "id": "64d727a2",
   "metadata": {},
   "outputs": [],
   "source": [
    "save(dCutsNL, file=\"environment/brain_sim_nodtu/mode=gc_bias/post_type=gibbs_nrep=100_tf=100/updated/comp_trees/lfcCuts_nolen.RData\")"
   ]
  },
  {
   "cell_type": "code",
   "execution_count": 48,
   "id": "26e8c457",
   "metadata": {},
   "outputs": [
    {
     "data": {
      "text/html": [
       "5"
      ],
      "text/latex": [
       "5"
      ],
      "text/markdown": [
       "5"
      ],
      "text/plain": [
       "[1] 5"
      ]
     },
     "metadata": {},
     "output_type": "display_data"
    }
   ],
   "source": [
    "length(dCutsNL)"
   ]
  },
  {
   "cell_type": "code",
   "execution_count": null,
   "id": "38707b76",
   "metadata": {},
   "outputs": [],
   "source": []
  }
 ],
 "metadata": {
  "kernelspec": {
   "display_name": "R",
   "language": "R",
   "name": "ir"
  },
  "language_info": {
   "codemirror_mode": "r",
   "file_extension": ".r",
   "mimetype": "text/x-r-source",
   "name": "R",
   "pygments_lexer": "r",
   "version": "4.1.1"
  }
 },
 "nbformat": 4,
 "nbformat_minor": 5
}
