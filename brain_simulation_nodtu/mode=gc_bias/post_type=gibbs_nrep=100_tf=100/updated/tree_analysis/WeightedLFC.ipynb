{
 "cells": [
  {
   "cell_type": "code",
   "execution_count": 1,
   "id": "0b30f262",
   "metadata": {},
   "outputs": [],
   "source": [
    "setwd('/fs/cbcb-lab/rob/students/noor/Uncertainity/treeTerminusScripts')\n",
    "# load(\"environment/brain_sim_nodtu/mode=gc_bias/mapDf.RData\")\n",
    "# load(\"environment/brain_sim_nodtu/mode=gc_bias/post_type=gibbs_nrep=100_tf=100/mean_cons/yAggCons.RData\")\n",
    "# load(\"environment/brain_sim_nodtu/mode=gc_bias/post_type=gibbs_nrep=100_tf=100/mean_cons/yAggCor.RData\")\n",
    "# load(\"environment/brain_sim_nodtu/mode=gc_bias/post_type=gibbs_nrep=100_tf=100/mean_cons/yAggMeanInf.RData\")\n",
    "load(\"environment/brain_sim_nodtu/mode=gc_bias/post_type=gibbs_nrep=100_tf=100/mean_cons/yAggMeanInf0.RData\")\n",
    "load(\"environment/brain_sim_nodtu/mode=gc_bias/post_type=gibbs_nrep=100_tf=100/mean_cons/treeCons.RData\")\n",
    "load(\"environment/brain_sim_nodtu/mode=gc_bias/post_type=gibbs_nrep=100_tf=100/mean_cons/treeCor.RData\")\n",
    "load(\"environment/brain_sim_nodtu/mode=gc_bias/post_type=gibbs_nrep=100_tf=100/mean_cons/treeMC.RData\")\n",
    "load(\"environment/brain_sim_nodtu/mode=gc_bias/post_type=gibbs_nrep=100_tf=100/mean_cons/treeMC0.RData\")\n",
    "\n",
    "suppressPackageStartupMessages(source(\"tree_helper_function.R\"))\n",
    "suppressPackageStartupMessages(source(\"brain_simulation_nodtu/mode=gc_bias/post_type=gibbs_nrep=100_tf=100/tree_analysis/tree_filter.R\"))"
   ]
  },
  {
   "cell_type": "markdown",
   "id": "f02e3ff1",
   "metadata": {},
   "source": [
    "### Consensus Tree"
   ]
  },
  {
   "cell_type": "code",
   "execution_count": 3,
   "id": "823c1057",
   "metadata": {},
   "outputs": [],
   "source": [
    "dfLFC <- data.frame(matrix(nrow=0, ncol=3))\n",
    "dCuts <- list()\n",
    "colnames(dfLFC) <- c(\"Type\", \"Value\", \"nCuts\")\n",
    "l <- length(treeCons$tip)\n",
    "infReps <- assays(yAggCons)[grep(\"infRep\", assayNames(yAggCons))]\n",
    "infReps <- abind::abind(as.list(infReps), along = 3)\n",
    "lfc <- getLog2FC(infReps, colData(yAggCons)[[\"condition\"]])\n",
    "\n",
    "lfcMet <- abs(lfc/mcols(yAggCons)[[\"meanInfRV\"]])\n",
    "globArr <- rep(-100, nrow(yAggCons))\n",
    "val <- findMaxSum(treeCons, lfcMet, l+1)\n",
    "optLfcMet <- globArr\n",
    "cuts <- findCuts(treeCons, optLfcMet, lfcMet, l+1)\n",
    "dfLFC <- rbind(dfLFC, data.frame(Type=\"Consensus\", Value=val, nCuts = length(cuts)))\n",
    "dCuts[[\"Consensus\"]] <- cuts"
   ]
  },
  {
   "cell_type": "markdown",
   "id": "b3377011",
   "metadata": {},
   "source": [
    "### Correlation Tree"
   ]
  },
  {
   "cell_type": "code",
   "execution_count": 4,
   "id": "7f8fa779",
   "metadata": {},
   "outputs": [
    {
     "data": {
      "text/html": [
       "TRUE"
      ],
      "text/latex": [
       "TRUE"
      ],
      "text/markdown": [
       "TRUE"
      ],
      "text/plain": [
       "[1] TRUE"
      ]
     },
     "metadata": {},
     "output_type": "display_data"
    }
   ],
   "source": [
    "l==length(treeCor$tip)\n",
    "infReps <- assays(yAggCor)[grep(\"infRep\", assayNames(yAggCor))]\n",
    "infReps <- abind::abind(as.list(infReps), along = 3)\n",
    "lfc <- getLog2FC(infReps, colData(yAggCor)[[\"condition\"]])\n",
    "\n",
    "lfcMet <- abs(lfc/mcols(yAggCor)[[\"meanInfRV\"]])\n",
    "globArr <- rep(-100, nrow(yAggCor))\n",
    "val <- findMaxSum(treeCor, lfcMet, l+1)\n",
    "optLfcMet <- globArr\n",
    "cuts <- findCuts(treeCor, optLfcMet, lfcMet, l+1)\n",
    "dfLFC <- rbind(dfLFC, data.frame(Type=\"Anti-Correlation\", Value=val, nCuts = length(cuts)))\n",
    "dCuts[[\"Anti-Correlation\"]] <- cuts"
   ]
  },
  {
   "cell_type": "markdown",
   "id": "63717452",
   "metadata": {},
   "source": [
    "### Mean Inf"
   ]
  },
  {
   "cell_type": "code",
   "execution_count": 5,
   "id": "5c8c22ee",
   "metadata": {},
   "outputs": [
    {
     "data": {
      "text/html": [
       "TRUE"
      ],
      "text/latex": [
       "TRUE"
      ],
      "text/markdown": [
       "TRUE"
      ],
      "text/plain": [
       "[1] TRUE"
      ]
     },
     "metadata": {},
     "output_type": "display_data"
    }
   ],
   "source": [
    "l==length(treeMC$tip)\n",
    "infReps <- assays(yAggMeanInf)[grep(\"infRep\", assayNames(yAggMeanInf))]\n",
    "infReps <- abind::abind(as.list(infReps), along = 3)\n",
    "lfc <- getLog2FC(infReps, colData(yAggMeanInf)[[\"condition\"]])\n",
    "lfcMet <- abs(lfc/mcols(yAggMeanInf)[[\"meanInfRV\"]])\n",
    "globArr <- rep(-100, nrow(yAggMeanInf))\n",
    "val <- findMaxSum(treeMC, lfcMet, l+1)\n",
    "optLfcMet <- globArr\n",
    "cuts <- findCuts(treeMC, optLfcMet, lfcMet, l+1)\n",
    "dfLFC <- rbind(dfLFC, data.frame(Type=\"MeanInf\", Value=val, nCuts = length(cuts)))\n",
    "dCuts[[\"MeanInf\"]] <- cuts"
   ]
  },
  {
   "cell_type": "code",
   "execution_count": 6,
   "id": "f41c03f9",
   "metadata": {},
   "outputs": [
    {
     "data": {
      "text/html": [
       "<table class=\"dataframe\">\n",
       "<caption>A data.frame: 3 × 3</caption>\n",
       "<thead>\n",
       "\t<tr><th scope=col>Type</th><th scope=col>Value</th><th scope=col>nCuts</th></tr>\n",
       "\t<tr><th scope=col>&lt;chr&gt;</th><th scope=col>&lt;dbl&gt;</th><th scope=col>&lt;int&gt;</th></tr>\n",
       "</thead>\n",
       "<tbody>\n",
       "\t<tr><td>Consensus       </td><td>194783.2</td><td> 87215</td></tr>\n",
       "\t<tr><td>Anti-Correlation</td><td>173524.0</td><td>111870</td></tr>\n",
       "\t<tr><td>MeanInf         </td><td>194363.9</td><td> 89636</td></tr>\n",
       "</tbody>\n",
       "</table>\n"
      ],
      "text/latex": [
       "A data.frame: 3 × 3\n",
       "\\begin{tabular}{lll}\n",
       " Type & Value & nCuts\\\\\n",
       " <chr> & <dbl> & <int>\\\\\n",
       "\\hline\n",
       "\t Consensus        & 194783.2 &  87215\\\\\n",
       "\t Anti-Correlation & 173524.0 & 111870\\\\\n",
       "\t MeanInf          & 194363.9 &  89636\\\\\n",
       "\\end{tabular}\n"
      ],
      "text/markdown": [
       "\n",
       "A data.frame: 3 × 3\n",
       "\n",
       "| Type &lt;chr&gt; | Value &lt;dbl&gt; | nCuts &lt;int&gt; |\n",
       "|---|---|---|\n",
       "| Consensus        | 194783.2 |  87215 |\n",
       "| Anti-Correlation | 173524.0 | 111870 |\n",
       "| MeanInf          | 194363.9 |  89636 |\n",
       "\n"
      ],
      "text/plain": [
       "  Type             Value    nCuts \n",
       "1 Consensus        194783.2  87215\n",
       "2 Anti-Correlation 173524.0 111870\n",
       "3 MeanInf          194363.9  89636"
      ]
     },
     "metadata": {},
     "output_type": "display_data"
    }
   ],
   "source": [
    "dfLFC"
   ]
  },
  {
   "cell_type": "code",
   "execution_count": 7,
   "id": "8cdf4bc5",
   "metadata": {},
   "outputs": [
    {
     "data": {
      "text/plain": [
       "class: SummarizedExperiment \n",
       "dim: 259705 12 \n",
       "metadata(8): tximetaInfo quantInfo ... infRepsScaled preprocessed\n",
       "assays(103): counts abundance ... infRep99 infRep100\n",
       "rownames(259705): ENST00000419160.3 ENST00000416931.1 ... 259704 259705\n",
       "rowData names(1): meanInfRV\n",
       "colnames(12): 1_1 2_1 ... 5_2 6_2\n",
       "colData names(2): names condition"
      ]
     },
     "metadata": {},
     "output_type": "display_data"
    }
   ],
   "source": [
    "yAggMeanInf0"
   ]
  },
  {
   "cell_type": "markdown",
   "id": "2beffd1f",
   "metadata": {},
   "source": [
    "### Mean Inf Thr0"
   ]
  },
  {
   "cell_type": "code",
   "execution_count": 3,
   "id": "a5406d48",
   "metadata": {},
   "outputs": [
    {
     "name": "stdout",
     "output_type": "stream",
     "text": [
      "[1] 224250.6\n"
     ]
    }
   ],
   "source": [
    "# l==length(treeMC0$tip)\n",
    "infReps <- assays(yAggMeanInf0)[grep(\"infRep\", assayNames(yAggMeanInf0))]\n",
    "infReps <- abind::abind(as.list(infReps), along = 3)\n",
    "lfc <- getLog2FC(infReps, colData(yAggMeanInf0)[[\"condition\"]])\n",
    "\n",
    "lfcMet <- abs(lfc/mcols(yAggMeanInf0)[[\"meanInfRV\"]])\n",
    "globArr <- rep(-100, nrow(yAggMeanInf0))\n",
    "val <- findMaxSum(treeMC0, lfcMet, length(treeMC0$tip)+1)\n",
    "optLfcMet <- globArr\n",
    "print(val)\n",
    "cuts <- findCuts(treeMC0, optLfcMet, lfcMet, length(treeMC0$tip)+1)\n",
    "dfLFC <- rbind(dfLFC, data.frame(Type=\"MeanInf0\", Value=val, nCuts = length(cuts)))\n",
    "dCuts[[\"MeanInf0\"]] <- cuts"
   ]
  },
  {
   "cell_type": "code",
   "execution_count": 17,
   "id": "52bae027",
   "metadata": {},
   "outputs": [
    {
     "name": "stdout",
     "output_type": "stream",
     "text": [
      "[1] 224250.6  86958.0\n"
     ]
    }
   ],
   "source": [
    "print(c(val, length(cuts)))"
   ]
  },
  {
   "cell_type": "markdown",
   "id": "243abc46",
   "metadata": {},
   "source": [
    "### Consensus Thr"
   ]
  },
  {
   "cell_type": "code",
   "execution_count": null,
   "id": "1d27d1df",
   "metadata": {},
   "outputs": [],
   "source": [
    "l==length(treeThr$tip)\n",
    "infReps <- assays(yAggThrNS)[grep(\"infRep\", assayNames(yAggThrNS))]\n",
    "infReps <- abind::abind(as.list(infReps), along = 3)\n",
    "lfc <- getLog2FC(infReps, colData(yAggThrNS)[[\"condition\"]])\n",
    "\n",
    "lfcMet <- abs(lfc/mcols(yAggThrNS)[[\"meanInfRV\"]])\n",
    "globArr <- rep(-100, nrow(yAggThrNS))\n",
    "val <- findMaxSum(treeThr, lfcMet, l+1)\n",
    "optLfcMet <- globArr\n",
    "cuts <- findCuts(treeThr, optLfcMet, lfcMet, l+1)\n",
    "dfLFC <- rbind(dfLFC, data.frame(Type=\"Cons_Thr\", Value=val, nCuts = length(cuts)))\n",
    "dCuts[[\"Cons_Thr\"]] <- cuts"
   ]
  },
  {
   "cell_type": "code",
   "execution_count": null,
   "id": "fbf185aa",
   "metadata": {},
   "outputs": [],
   "source": [
    "dfLFC"
   ]
  },
  {
   "cell_type": "code",
   "execution_count": null,
   "id": "f484feb1",
   "metadata": {},
   "outputs": [],
   "source": [
    "length(cuts)"
   ]
  },
  {
   "cell_type": "code",
   "execution_count": null,
   "id": "82b3dd34",
   "metadata": {},
   "outputs": [],
   "source": []
  }
 ],
 "metadata": {
  "kernelspec": {
   "display_name": "R",
   "language": "R",
   "name": "ir"
  },
  "language_info": {
   "codemirror_mode": "r",
   "file_extension": ".r",
   "mimetype": "text/x-r-source",
   "name": "R",
   "pygments_lexer": "r",
   "version": "4.1.1"
  }
 },
 "nbformat": 4,
 "nbformat_minor": 5
}
