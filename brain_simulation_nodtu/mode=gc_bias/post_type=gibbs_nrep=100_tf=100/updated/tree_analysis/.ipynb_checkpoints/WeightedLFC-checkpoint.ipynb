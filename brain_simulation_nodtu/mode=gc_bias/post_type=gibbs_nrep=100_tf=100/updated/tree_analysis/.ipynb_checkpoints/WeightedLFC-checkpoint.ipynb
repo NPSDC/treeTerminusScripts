{
 "cells": [
  {
   "cell_type": "code",
   "execution_count": 31,
   "id": "0b30f262",
   "metadata": {},
   "outputs": [],
   "source": [
    "setwd('/fs/cbcb-lab/rob/students/noor/Uncertainity/treeTerminusScripts')\n",
    "load(\"environment/brain_sim_nodtu/mode=gc_bias/mapDf.RData\")\n",
    "# load(\"environment/brain_sim_nodtu/mode=gc_bias/post_type=gibbs_nrep=100_tf=100/mean_cons/yAggCons.RData\")\n",
    "# load(\"environment/brain_sim_nodtu/mode=gc_bias/post_type=gibbs_nrep=100_tf=100/mean_cons/yAggCor.RData\")\n",
    "# load(\"environment/brain_sim_nodtu/mode=gc_bias/post_type=gibbs_nrep=100_tf=100/mean_cons/yAggMeanInf.RData\")\n",
    "load(\"environment/brain_sim_nodtu/mode=gc_bias/post_type=gibbs_nrep=100_tf=100/mean_cons/yAggMeanInf0.RData\")\n",
    "# load(\"environment/brain_sim_nodtu/mode=gc_bias/post_type=gibbs_nrep=100_tf=100/mean_cons/yAggThrNS.RData\")\n",
    "# load(\"environment/brain_sim_nodtu/mode=gc_bias/post_type=gibbs_nrep=100_tf=100/mean_cons/treeCons.RData\")\n",
    "# load(\"environment/brain_sim_nodtu/mode=gc_bias/post_type=gibbs_nrep=100_tf=100/mean_cons/treeCor.RData\")\n",
    "# load(\"environment/brain_sim_nodtu/mode=gc_bias/post_type=gibbs_nrep=100_tf=100/mean_cons/treeMC.RData\")\n",
    "# load(\"environment/brain_sim_nodtu/mode=gc_bias/post_type=gibbs_nrep=100_tf=100/mean_cons/treeMC0.RData\")\n",
    "# load(\"environment/brain_sim_nodtu/mode=gc_bias/post_type=gibbs_nrep=100_tf=100/mean_cons/treeThr.RData\")\n",
    "\n",
    "suppressPackageStartupMessages(source(\"tree_helper_function.R\"))\n",
    "suppressPackageStartupMessages(source(\"brain_simulation_nodtu/mode=gc_bias/post_type=gibbs_nrep=100_tf=100/tree_analysis/tree_filter.R\"))"
   ]
  },
  {
   "cell_type": "code",
   "execution_count": 6,
   "id": "f93c181d",
   "metadata": {},
   "outputs": [
    {
     "data": {
      "text/html": [
       "6547"
      ],
      "text/latex": [
       "6547"
      ],
      "text/markdown": [
       "6547"
      ],
      "text/plain": [
       "[1] 6547"
      ]
     },
     "metadata": {},
     "output_type": "display_data"
    }
   ],
   "source": [
    "txpDiff <- setdiff(treeMC0$tip.label,treeMC$tip.label)\n",
    "length(txpDiff)"
   ]
  },
  {
   "cell_type": "code",
   "execution_count": 7,
   "id": "28c032ff",
   "metadata": {},
   "outputs": [
    {
     "data": {
      "text/html": [
       "15983.5089343857"
      ],
      "text/latex": [
       "15983.5089343857"
      ],
      "text/markdown": [
       "15983.5089343857"
      ],
      "text/plain": [
       "[1] 15983.51"
      ]
     },
     "metadata": {},
     "output_type": "display_data"
    }
   ],
   "source": [
    "infReps <- assays(yAggMeanInf0)[grep(\"infRep\", assayNames(yAggMeanInf0))]\n",
    "infReps <- abind::abind(as.list(infReps), along = 3)\n",
    "lfc <- getLog2FC(infReps, colData(yAggMeanInf0)[[\"condition\"]])\n",
    "lfcMet <- abs(lfc/mcols(yAggMeanInf0)[[\"meanInfRV\"]])\n",
    "\n",
    "wlfcDiff <- sum(lfcMet[txpDiff])\n",
    "wlfcDiff\n",
    "l <- length(treeCons$tip)"
   ]
  },
  {
   "cell_type": "markdown",
   "id": "f02e3ff1",
   "metadata": {},
   "source": [
    "### Consensus Tree"
   ]
  },
  {
   "cell_type": "code",
   "execution_count": 4,
   "id": "823c1057",
   "metadata": {},
   "outputs": [],
   "source": [
    "dfLFC <- data.frame(matrix(nrow=0, ncol=3))\n",
    "dCuts <- list()\n",
    "colnames(dfLFC) <- c(\"Type\", \"Value\", \"nCuts\")\n",
    "l <- length(treeCons$tip)\n",
    "lengths <- sapply(Descendants(treeCons, seq(length(treeCons$tip)+treeCons$Nnode)), length)\n",
    "infReps <- assays(yAggCons)[grep(\"infRep\", assayNames(yAggCons))]\n",
    "infReps <- abind::abind(as.list(infReps), along = 3)\n",
    "lfc <- getLog2FC(infReps, colData(yAggCons)[[\"condition\"]])\n",
    "\n",
    "lfcMet <- abs(lfc/mcols(yAggCons)[[\"meanInfRV\"]])\n",
    "globArr <- rep(-100, nrow(yAggCons))\n",
    "val <- findMaxSum(treeCons, lfcMet, l+1, lengths)\n",
    "optLfcMet <- globArr\n",
    "cuts <- findCuts(treeCons, optLfcMet, lfcMet, l+1, lengths)\n",
    "dfLFC <- rbind(dfLFC, data.frame(Type=\"Consensus\", Value=val+wlfcDiff, nCuts = length(cuts)+length(txpDiff)))\n",
    "dCuts[[\"Consensus\"]] <- cuts"
   ]
  },
  {
   "cell_type": "markdown",
   "id": "b3377011",
   "metadata": {},
   "source": [
    "### Correlation Tree"
   ]
  },
  {
   "cell_type": "code",
   "execution_count": 5,
   "id": "7f8fa779",
   "metadata": {},
   "outputs": [
    {
     "data": {
      "text/html": [
       "TRUE"
      ],
      "text/latex": [
       "TRUE"
      ],
      "text/markdown": [
       "TRUE"
      ],
      "text/plain": [
       "[1] TRUE"
      ]
     },
     "metadata": {},
     "output_type": "display_data"
    }
   ],
   "source": [
    "l==length(treeCor$tip)\n",
    "infReps <- assays(yAggCor)[grep(\"infRep\", assayNames(yAggCor))]\n",
    "infReps <- abind::abind(as.list(infReps), along = 3)\n",
    "lfc <- getLog2FC(infReps, colData(yAggCor)[[\"condition\"]])\n",
    "lengths <- sapply(Descendants(treeCor, seq(length(treeCor$tip)+treeCor$Nnode)), length)\n",
    "lfcMet <- abs(lfc/mcols(yAggCor)[[\"meanInfRV\"]])\n",
    "globArr <- rep(-100, nrow(yAggCor))\n",
    "val <- findMaxSum(treeCor, lfcMet, l+1, lengths)\n",
    "optLfcMet <- globArr\n",
    "cuts <- findCuts(treeCor, optLfcMet, lfcMet, l+1, lengths)\n",
    "dfLFC <- rbind(dfLFC, data.frame(Type=\"Anti-Correlation\", Value=val + wlfcDiff, nCuts = length(cuts) + length(txpDiff)))\n",
    "dCuts[[\"Anti-Correlation\"]] <- cuts"
   ]
  },
  {
   "cell_type": "markdown",
   "id": "63717452",
   "metadata": {},
   "source": [
    "### Mean Inf"
   ]
  },
  {
   "cell_type": "code",
   "execution_count": 10,
   "id": "5c8c22ee",
   "metadata": {},
   "outputs": [
    {
     "data": {
      "text/html": [
       "TRUE"
      ],
      "text/latex": [
       "TRUE"
      ],
      "text/markdown": [
       "TRUE"
      ],
      "text/plain": [
       "[1] TRUE"
      ]
     },
     "metadata": {},
     "output_type": "display_data"
    }
   ],
   "source": [
    "l==length(treeMC$tip)\n",
    "infReps <- assays(yAggMeanInf)[grep(\"infRep\", assayNames(yAggMeanInf))]\n",
    "infReps <- abind::abind(as.list(infReps), along = 3)\n",
    "lfc <- getLog2FC(infReps, colData(yAggMeanInf)[[\"condition\"]])\n",
    "lfcMet <- abs(lfc/mcols(yAggMeanInf)[[\"meanInfRV\"]])\n",
    "globArr <- rep(-100, nrow(yAggMeanInf))\n",
    "lengths <- sapply(Descendants(treeMC, seq(length(treeMC$tip)+treeMC$Nnode)), length)\n",
    "val <- findMaxSum(treeMC, lfcMet, l+1, lengths)\n",
    "optLfcMet <- globArr\n",
    "cuts <- findCuts(treeMC, optLfcMet, lfcMet, l+1,lengths)\n",
    "dfLFC <- rbind(dfLFC, data.frame(Type=\"MeanInf\", Value=val+wlfcDiff, nCuts = length(cuts)+length(txpDiff)))\n",
    "dCuts[[\"MeanInf\"]] <- cuts"
   ]
  },
  {
   "cell_type": "code",
   "execution_count": 14,
   "id": "f41c03f9",
   "metadata": {
    "scrolled": true
   },
   "outputs": [
    {
     "data": {
      "text/html": [
       "51685"
      ],
      "text/latex": [
       "51685"
      ],
      "text/markdown": [
       "51685"
      ],
      "text/plain": [
       "[1] 51685"
      ]
     },
     "metadata": {},
     "output_type": "display_data"
    },
    {
     "data": {
      "text/html": [
       "<table class=\"dataframe\">\n",
       "<caption>A data.frame: 3 × 3</caption>\n",
       "<thead>\n",
       "\t<tr><th scope=col>Type</th><th scope=col>Value</th><th scope=col>nCuts</th></tr>\n",
       "\t<tr><th scope=col>&lt;chr&gt;</th><th scope=col>&lt;dbl&gt;</th><th scope=col>&lt;int&gt;</th></tr>\n",
       "</thead>\n",
       "<tbody>\n",
       "\t<tr><td>Consensus       </td><td>852574.3</td><td>41215</td></tr>\n",
       "\t<tr><td>Anti-Correlation</td><td>710335.2</td><td>84051</td></tr>\n",
       "\t<tr><td>MeanInf         </td><td>617345.1</td><td>58232</td></tr>\n",
       "</tbody>\n",
       "</table>\n"
      ],
      "text/latex": [
       "A data.frame: 3 × 3\n",
       "\\begin{tabular}{lll}\n",
       " Type & Value & nCuts\\\\\n",
       " <chr> & <dbl> & <int>\\\\\n",
       "\\hline\n",
       "\t Consensus        & 852574.3 & 41215\\\\\n",
       "\t Anti-Correlation & 710335.2 & 84051\\\\\n",
       "\t MeanInf          & 617345.1 & 58232\\\\\n",
       "\\end{tabular}\n"
      ],
      "text/markdown": [
       "\n",
       "A data.frame: 3 × 3\n",
       "\n",
       "| Type &lt;chr&gt; | Value &lt;dbl&gt; | nCuts &lt;int&gt; |\n",
       "|---|---|---|\n",
       "| Consensus        | 852574.3 | 41215 |\n",
       "| Anti-Correlation | 710335.2 | 84051 |\n",
       "| MeanInf          | 617345.1 | 58232 |\n",
       "\n"
      ],
      "text/plain": [
       "  Type             Value    nCuts\n",
       "1 Consensus        852574.3 41215\n",
       "2 Anti-Correlation 710335.2 84051\n",
       "3 MeanInf          617345.1 58232"
      ]
     },
     "metadata": {},
     "output_type": "display_data"
    }
   ],
   "source": [
    "dfLFC"
   ]
  },
  {
   "cell_type": "markdown",
   "id": "2beffd1f",
   "metadata": {},
   "source": [
    "### Mean Inf Thr0"
   ]
  },
  {
   "cell_type": "code",
   "execution_count": 15,
   "id": "a5406d48",
   "metadata": {},
   "outputs": [
    {
     "name": "stdout",
     "output_type": "stream",
     "text": [
      "[1] 1020723\n"
     ]
    }
   ],
   "source": [
    "# l==length(treeMC0$tip)\n",
    "infReps <- assays(yAggMeanInf0)[grep(\"infRep\", assayNames(yAggMeanInf0))]\n",
    "infReps <- abind::abind(as.list(infReps), along = 3)\n",
    "lfc <- getLog2FC(infReps, colData(yAggMeanInf0)[[\"condition\"]])\n",
    "\n",
    "lfcMet <- abs(lfc/mcols(yAggMeanInf0)[[\"meanInfRV\"]])\n",
    "lengths <- sapply(Descendants(treeMC0, seq(length(treeMC0$tip)+treeMC0$Nnode)), length)\n",
    "globArr <- rep(-100, nrow(yAggMeanInf0))\n",
    "val <- findMaxSum(treeMC0, lfcMet, length(treeMC0$tip)+1, lengths)\n",
    "optLfcMet <- globArr\n",
    "print(val)\n",
    "cuts <- findCuts(treeMC0, optLfcMet, lfcMet, length(treeMC0$tip)+1, lengths)\n",
    "dfLFC <- rbind(dfLFC, data.frame(Type=\"MeanInf0\", Value=val, nCuts = length(cuts)))\n",
    "dCuts[[\"MeanInf0\"]] <- cuts"
   ]
  },
  {
   "cell_type": "code",
   "execution_count": 16,
   "id": "52bae027",
   "metadata": {},
   "outputs": [
    {
     "name": "stdout",
     "output_type": "stream",
     "text": [
      "[1] 1020723   30757\n"
     ]
    }
   ],
   "source": [
    "print(c(val, length(cuts)))"
   ]
  },
  {
   "cell_type": "markdown",
   "id": "243abc46",
   "metadata": {},
   "source": [
    "### Consensus Thr"
   ]
  },
  {
   "cell_type": "code",
   "execution_count": 31,
   "id": "1d27d1df",
   "metadata": {},
   "outputs": [
    {
     "data": {
      "text/html": [
       "TRUE"
      ],
      "text/latex": [
       "TRUE"
      ],
      "text/markdown": [
       "TRUE"
      ],
      "text/plain": [
       "[1] TRUE"
      ]
     },
     "metadata": {},
     "output_type": "display_data"
    }
   ],
   "source": [
    "l==length(treeThr$tip)\n",
    "infReps <- assays(yAggThrNS)[grep(\"infRep\", assayNames(yAggThrNS))]\n",
    "infReps <- abind::abind(as.list(infReps), along = 3)\n",
    "lfc <- getLog2FC(infReps, colData(yAggThrNS)[[\"condition\"]])\n",
    "\n",
    "lfcMet <- abs(lfc/mcols(yAggThrNS)[[\"meanInfRV\"]])\n",
    "globArr <- rep(-100, nrow(yAggThrNS))\n",
    "lengths <- sapply(Descendants(treeThr, seq(length(treeThr$tip)+treeThr$Nnode)), length)\n",
    "val <- findMaxSum(treeThr, lfcMet, l+1,lengths)\n",
    "optLfcMet <- globArr\n",
    "cuts <- findCuts(treeThr, optLfcMet, lfcMet, l+1, lengths)\n",
    "dfLFC <- rbind(dfLFC, data.frame(Type=\"Cons_Thr\", Value=val+wlfcDiff, nCuts = length(cuts) + length(txpDiff)))\n",
    "dCuts[[\"Cons_Thr\"]] <- cuts"
   ]
  },
  {
   "cell_type": "code",
   "execution_count": 59,
   "id": "fbf185aa",
   "metadata": {},
   "outputs": [
    {
     "data": {
      "text/html": [
       "<table class=\"dataframe\">\n",
       "<caption>A data.frame: 5 × 3</caption>\n",
       "<thead>\n",
       "\t<tr><th scope=col>Type</th><th scope=col>Value</th><th scope=col>nCuts</th></tr>\n",
       "\t<tr><th scope=col>&lt;chr&gt;</th><th scope=col>&lt;dbl&gt;</th><th scope=col>&lt;int&gt;</th></tr>\n",
       "</thead>\n",
       "<tbody>\n",
       "\t<tr><td>Consensus       </td><td> 852574.3</td><td>41215</td></tr>\n",
       "\t<tr><td>Anti-Correlation</td><td> 710335.2</td><td>84051</td></tr>\n",
       "\t<tr><td>MeanInf         </td><td> 617345.1</td><td>58232</td></tr>\n",
       "\t<tr><td>MeanInf0        </td><td>1020723.0</td><td>30757</td></tr>\n",
       "\t<tr><td>Cons_Thr        </td><td> 425170.4</td><td> 6548</td></tr>\n",
       "</tbody>\n",
       "</table>\n"
      ],
      "text/latex": [
       "A data.frame: 5 × 3\n",
       "\\begin{tabular}{lll}\n",
       " Type & Value & nCuts\\\\\n",
       " <chr> & <dbl> & <int>\\\\\n",
       "\\hline\n",
       "\t Consensus        &  852574.3 & 41215\\\\\n",
       "\t Anti-Correlation &  710335.2 & 84051\\\\\n",
       "\t MeanInf          &  617345.1 & 58232\\\\\n",
       "\t MeanInf0         & 1020723.0 & 30757\\\\\n",
       "\t Cons\\_Thr         &  425170.4 &  6548\\\\\n",
       "\\end{tabular}\n"
      ],
      "text/markdown": [
       "\n",
       "A data.frame: 5 × 3\n",
       "\n",
       "| Type &lt;chr&gt; | Value &lt;dbl&gt; | nCuts &lt;int&gt; |\n",
       "|---|---|---|\n",
       "| Consensus        |  852574.3 | 41215 |\n",
       "| Anti-Correlation |  710335.2 | 84051 |\n",
       "| MeanInf          |  617345.1 | 58232 |\n",
       "| MeanInf0         | 1020723.0 | 30757 |\n",
       "| Cons_Thr         |  425170.4 |  6548 |\n",
       "\n"
      ],
      "text/plain": [
       "  Type             Value     nCuts\n",
       "1 Consensus         852574.3 41215\n",
       "2 Anti-Correlation  710335.2 84051\n",
       "3 MeanInf           617345.1 58232\n",
       "4 MeanInf0         1020723.0 30757\n",
       "5 Cons_Thr          425170.4  6548"
      ]
     },
     "metadata": {},
     "output_type": "display_data"
    }
   ],
   "source": [
    "dfLFC"
   ]
  },
  {
   "cell_type": "code",
   "execution_count": 60,
   "id": "f484feb1",
   "metadata": {},
   "outputs": [],
   "source": [
    "save(dCuts, file=\"environment/brain_sim_nodtu/mode=gc_bias/post_type=gibbs_nrep=100_tf=100/updated/comp_trees/lfcCuts_len.RData\")"
   ]
  },
  {
   "cell_type": "markdown",
   "id": "e584b7f2",
   "metadata": {},
   "source": [
    "#### Consensus Tree"
   ]
  },
  {
   "cell_type": "code",
   "execution_count": 21,
   "id": "166e322e",
   "metadata": {},
   "outputs": [],
   "source": [
    "dfLFC <- data.frame(matrix(nrow=0, ncol=3))\n",
    "dCutsNL <- list()\n",
    "colnames(dfLFC) <- c(\"Type\", \"Value\", \"nCuts\")\n",
    "l <- length(treeCons$tip)\n",
    "infReps <- assays(yAggCons)[grep(\"infRep\", assayNames(yAggCons))]\n",
    "infReps <- abind::abind(as.list(infReps), along = 3)\n",
    "lfc <- getLog2FC(infReps, colData(yAggCons)[[\"condition\"]])\n",
    "\n",
    "lfcMet <- abs(lfc/mcols(yAggCons)[[\"meanInfRV\"]])\n",
    "globArr <- rep(-100, nrow(yAggCons))\n",
    "val <- findMaxSum(treeCons, lfcMet, l+1)\n",
    "optLfcMet <- globArr\n",
    "cuts <- findCuts(treeCons, optLfcMet, lfcMet, l+1)\n",
    "dfLFC <- rbind(dfLFC, data.frame(Type=\"Consensus\", Value=val+wlfcDiff, nCuts = length(cuts)+length(txpDiff)))\n",
    "dCutsNL[[\"Consensus\"]] <- cuts"
   ]
  },
  {
   "cell_type": "markdown",
   "id": "d27f2fc2",
   "metadata": {},
   "source": [
    "#### Correlation"
   ]
  },
  {
   "cell_type": "code",
   "execution_count": 28,
   "id": "dc346d00",
   "metadata": {},
   "outputs": [
    {
     "data": {
      "text/html": [
       "TRUE"
      ],
      "text/latex": [
       "TRUE"
      ],
      "text/markdown": [
       "TRUE"
      ],
      "text/plain": [
       "[1] TRUE"
      ]
     },
     "metadata": {},
     "output_type": "display_data"
    }
   ],
   "source": [
    "l==length(treeCor$tip)\n",
    "infReps <- assays(yAggCor)[grep(\"infRep\", assayNames(yAggCor))]\n",
    "infReps <- abind::abind(as.list(infReps), along = 3)\n",
    "lfc <- getLog2FC(infReps, colData(yAggCor)[[\"condition\"]])\n",
    "lfcMet <- abs(lfc/mcols(yAggCor)[[\"meanInfRV\"]])\n",
    "globArr <- rep(-100, nrow(yAggCor))\n",
    "val <- findMaxSum(treeCor, lfcMet, l+1)\n",
    "optLfcMet <- globArr\n",
    "cuts <- findCuts(treeCor, optLfcMet, lfcMet, l+1)\n",
    "dfLFC <- rbind(dfLFC, data.frame(Type=\"Anti-Correlation\", Value=val + wlfcDiff, nCuts = length(cuts) + length(txpDiff)))\n",
    "dCutsNL[[\"Anti-Correlation\"]] <- cuts"
   ]
  },
  {
   "cell_type": "markdown",
   "id": "3e8c164a",
   "metadata": {},
   "source": [
    "#### MeanInf"
   ]
  },
  {
   "cell_type": "code",
   "execution_count": 32,
   "id": "60cf71a0",
   "metadata": {},
   "outputs": [
    {
     "data": {
      "text/html": [
       "TRUE"
      ],
      "text/latex": [
       "TRUE"
      ],
      "text/markdown": [
       "TRUE"
      ],
      "text/plain": [
       "[1] TRUE"
      ]
     },
     "metadata": {},
     "output_type": "display_data"
    }
   ],
   "source": [
    "l==length(treeMC$tip)\n",
    "infReps <- assays(yAggMeanInf)[grep(\"infRep\", assayNames(yAggMeanInf))]\n",
    "infReps <- abind::abind(as.list(infReps), along = 3)\n",
    "lfc <- getLog2FC(infReps, colData(yAggMeanInf)[[\"condition\"]])\n",
    "lfcMet <- abs(lfc/mcols(yAggMeanInf)[[\"meanInfRV\"]])\n",
    "globArr <- rep(-100, nrow(yAggMeanInf))\n",
    "val <- findMaxSum(treeMC, lfcMet, l+1)\n",
    "optLfcMet <- globArr\n",
    "cuts <- findCuts(treeMC, optLfcMet, lfcMet, l+1)\n",
    "dfLFC <- rbind(dfLFC, data.frame(Type=\"MeanInf\", Value=val+wlfcDiff, nCuts = length(cuts)+length(txpDiff)))\n",
    "dCutsNL[[\"MeanInf\"]] <- cuts"
   ]
  },
  {
   "cell_type": "code",
   "execution_count": 34,
   "id": "fc95b138",
   "metadata": {},
   "outputs": [
    {
     "data": {
      "text/html": [
       "<table class=\"dataframe\">\n",
       "<caption>A data.frame: 3 × 3</caption>\n",
       "<thead>\n",
       "\t<tr><th scope=col>Type</th><th scope=col>Value</th><th scope=col>nCuts</th></tr>\n",
       "\t<tr><th scope=col>&lt;chr&gt;</th><th scope=col>&lt;dbl&gt;</th><th scope=col>&lt;int&gt;</th></tr>\n",
       "</thead>\n",
       "<tbody>\n",
       "\t<tr><td>Consensus       </td><td>210766.7</td><td> 93762</td></tr>\n",
       "\t<tr><td>Anti-Correlation</td><td>189507.6</td><td>118417</td></tr>\n",
       "\t<tr><td>MeanInf         </td><td>210347.4</td><td> 96183</td></tr>\n",
       "</tbody>\n",
       "</table>\n"
      ],
      "text/latex": [
       "A data.frame: 3 × 3\n",
       "\\begin{tabular}{lll}\n",
       " Type & Value & nCuts\\\\\n",
       " <chr> & <dbl> & <int>\\\\\n",
       "\\hline\n",
       "\t Consensus        & 210766.7 &  93762\\\\\n",
       "\t Anti-Correlation & 189507.6 & 118417\\\\\n",
       "\t MeanInf          & 210347.4 &  96183\\\\\n",
       "\\end{tabular}\n"
      ],
      "text/markdown": [
       "\n",
       "A data.frame: 3 × 3\n",
       "\n",
       "| Type &lt;chr&gt; | Value &lt;dbl&gt; | nCuts &lt;int&gt; |\n",
       "|---|---|---|\n",
       "| Consensus        | 210766.7 |  93762 |\n",
       "| Anti-Correlation | 189507.6 | 118417 |\n",
       "| MeanInf          | 210347.4 |  96183 |\n",
       "\n"
      ],
      "text/plain": [
       "  Type             Value    nCuts \n",
       "1 Consensus        210766.7  93762\n",
       "2 Anti-Correlation 189507.6 118417\n",
       "3 MeanInf          210347.4  96183"
      ]
     },
     "metadata": {},
     "output_type": "display_data"
    },
    {
     "data": {
      "text/html": [
       "<table class=\"dataframe\">\n",
       "<caption>A matrix: 2 × 6 of type dbl</caption>\n",
       "<thead>\n",
       "\t<tr><th></th><th scope=col>used</th><th scope=col>(Mb)</th><th scope=col>gc trigger</th><th scope=col>(Mb)</th><th scope=col>max used</th><th scope=col>(Mb)</th></tr>\n",
       "</thead>\n",
       "<tbody>\n",
       "\t<tr><th scope=row>Ncells</th><td> 10338566</td><td> 552.2</td><td>  20803022</td><td> 1111.1</td><td>  14262033</td><td>  761.7</td></tr>\n",
       "\t<tr><th scope=row>Vcells</th><td>506374693</td><td>3863.4</td><td>1542073985</td><td>11765.1</td><td>3011860421</td><td>22978.7</td></tr>\n",
       "</tbody>\n",
       "</table>\n"
      ],
      "text/latex": [
       "A matrix: 2 × 6 of type dbl\n",
       "\\begin{tabular}{r|llllll}\n",
       "  & used & (Mb) & gc trigger & (Mb) & max used & (Mb)\\\\\n",
       "\\hline\n",
       "\tNcells &  10338566 &  552.2 &   20803022 &  1111.1 &   14262033 &   761.7\\\\\n",
       "\tVcells & 506374693 & 3863.4 & 1542073985 & 11765.1 & 3011860421 & 22978.7\\\\\n",
       "\\end{tabular}\n"
      ],
      "text/markdown": [
       "\n",
       "A matrix: 2 × 6 of type dbl\n",
       "\n",
       "| <!--/--> | used | (Mb) | gc trigger | (Mb) | max used | (Mb) |\n",
       "|---|---|---|---|---|---|---|\n",
       "| Ncells |  10338566 |  552.2 |   20803022 |  1111.1 |   14262033 |   761.7 |\n",
       "| Vcells | 506374693 | 3863.4 | 1542073985 | 11765.1 | 3011860421 | 22978.7 |\n",
       "\n"
      ],
      "text/plain": [
       "       used      (Mb)   gc trigger (Mb)    max used   (Mb)   \n",
       "Ncells  10338566  552.2   20803022  1111.1   14262033   761.7\n",
       "Vcells 506374693 3863.4 1542073985 11765.1 3011860421 22978.7"
      ]
     },
     "metadata": {},
     "output_type": "display_data"
    }
   ],
   "source": []
  },
  {
   "cell_type": "markdown",
   "id": "ff15c741",
   "metadata": {},
   "source": [
    "#### MeanInf0"
   ]
  },
  {
   "cell_type": "code",
   "execution_count": 12,
   "id": "e5c4a00e",
   "metadata": {},
   "outputs": [],
   "source": [
    "# l==length(treeMC0$tip)\n",
    "infReps <- assays(yAggMeanInf0)[grep(\"infRep\", assayNames(yAggMeanInf0))]\n",
    "infReps <- abind::abind(as.list(infReps), along = 3)\n",
    "lfc <- getLog2FC(infReps, colData(yAggMeanInf0)[[\"condition\"]])\n",
    "\n",
    "lfcMet <- abs(lfc/mcols(yAggMeanInf0)[[\"meanInfRV\"]])\n",
    "globArr <- rep(-100, nrow(yAggMeanInf0))\n",
    "val <- findMaxSum(treeMC0, lfcMet, length(treeMC0$tip)+1)\n",
    "optLfcMet <- globArr\n",
    "print(val)\n",
    "cuts <- findCuts(treeMC0, optLfcMet, lfcMet, length(treeMC0$tip)+1)\n",
    "dfLFC <- rbind(dfLFC, data.frame(Type=\"MeanInf0\", Value=val, nCuts = length(cuts)))\n",
    "dCutsNL[[\"MeanInf0\"]] <- cuts\n"
   ]
  },
  {
   "cell_type": "markdown",
   "id": "366486dc",
   "metadata": {},
   "source": [
    "#### Thr"
   ]
  },
  {
   "cell_type": "code",
   "execution_count": null,
   "id": "a0564fc5",
   "metadata": {},
   "outputs": [],
   "source": [
    "l==length(treeThr$tip)\n",
    "infReps <- assays(yAggThrNS)[grep(\"infRep\", assayNames(yAggThrNS))]\n",
    "infReps <- abind::abind(as.list(infReps), along = 3)\n",
    "lfc <- getLog2FC(infReps, colData(yAggThrNS)[[\"condition\"]])\n",
    "\n",
    "lfcMet <- abs(lfc/mcols(yAggThrNS)[[\"meanInfRV\"]])\n",
    "globArr <- rep(-100, nrow(yAggThrNS))\n",
    "val <- findMaxSum(treeThr, lfcMet, l+1,lengths)\n",
    "optLfcMet <- globArr\n",
    "cuts <- findCuts(treeThr, optLfcMet, lfcMet, l+1)\n",
    "dfLFC <- rbind(dfLFC, data.frame(Type=\"Cons_Thr\", Value=val+wlfcDiff, nCuts = length(cuts) + length(txpDiff)))\n",
    "dCutsNL[[\"Cons_Thr\"]] <- cuts"
   ]
  },
  {
   "cell_type": "code",
   "execution_count": 35,
   "id": "64d727a2",
   "metadata": {},
   "outputs": [],
   "source": [
    "save(dCutsNL, file=\"environment/brain_sim_nodtu/mode=gc_bias/post_type=gibbs_nrep=100_tf=100/updated/comp_trees/lfcCuts_nolen.RData\")"
   ]
  },
  {
   "cell_type": "code",
   "execution_count": 36,
   "id": "137bef0f",
   "metadata": {},
   "outputs": [
    {
     "data": {
      "text/html": [
       "3"
      ],
      "text/latex": [
       "3"
      ],
      "text/markdown": [
       "3"
      ],
      "text/plain": [
       "[1] 3"
      ]
     },
     "metadata": {},
     "output_type": "display_data"
    }
   ],
   "source": [
    "length(dCutsNL)"
   ]
  },
  {
   "cell_type": "code",
   "execution_count": null,
   "id": "48435d92",
   "metadata": {},
   "outputs": [],
   "source": []
  }
 ],
 "metadata": {
  "kernelspec": {
   "display_name": "R",
   "language": "R",
   "name": "ir"
  },
  "language_info": {
   "codemirror_mode": "r",
   "file_extension": ".r",
   "mimetype": "text/x-r-source",
   "name": "R",
   "pygments_lexer": "r",
   "version": "4.1.1"
  }
 },
 "nbformat": 4,
 "nbformat_minor": 5
}
