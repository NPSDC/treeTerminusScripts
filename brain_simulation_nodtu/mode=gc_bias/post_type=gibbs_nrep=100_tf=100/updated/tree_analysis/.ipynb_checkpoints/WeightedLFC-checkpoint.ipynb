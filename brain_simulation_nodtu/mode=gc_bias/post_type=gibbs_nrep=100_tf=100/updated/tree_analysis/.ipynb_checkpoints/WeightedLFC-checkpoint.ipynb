{
 "cells": [
  {
   "cell_type": "code",
   "execution_count": 3,
   "id": "5bab6546",
   "metadata": {},
   "outputs": [],
   "source": [
    "setwd('/fs/cbcb-lab/rob/students/noor/Uncertainity/treeTerminusScripts')\n",
    "load(\"environment/brain_sim_nodtu/mode=gc_bias/mapDf.RData\")\n",
    "load(\"environment/brain_sim_nodtu/mode=gc_bias/post_type=gibbs_nrep=100_tf=100/mean_cons/yAggConsNS.RData\")\n",
    "load(\"environment/brain_sim_nodtu/mode=gc_bias/post_type=gibbs_nrep=100_tf=100/mean_cons/yAggCorNS.RData\")\n",
    "load(\"environment/brain_sim_nodtu/mode=gc_bias/post_type=gibbs_nrep=100_tf=100/mean_cons/yAggMeanInfNS.RData\")\n",
    "load(\"environment/brain_sim_nodtu/mode=gc_bias/post_type=gibbs_nrep=100_tf=100/mean_cons/treeCons.RData\")\n",
    "load(\"environment/brain_sim_nodtu/mode=gc_bias/post_type=gibbs_nrep=100_tf=100/mean_cons/treeCor.RData\")\n",
    "load(\"environment/brain_sim_nodtu/mode=gc_bias/post_type=gibbs_nrep=100_tf=100/mean_cons/treeMC.RData\")\n",
    "suppressPackageStartupMessages(source(\"tree_helper_function.R\"))\n",
    "suppressPackageStartupMessages(source(\"brain_simulation_nodtu/mode=gc_bias/post_type=gibbs_nrep=100_tf=100/tree_analysis/tree_filter.R\"))"
   ]
  },
  {
   "cell_type": "markdown",
   "id": "d4cebcb5",
   "metadata": {},
   "source": [
    "### Consensus Tree"
   ]
  },
  {
   "cell_type": "code",
   "execution_count": 19,
   "id": "aa78f718",
   "metadata": {},
   "outputs": [
    {
     "data": {
      "text/html": [
       "191202.949216856"
      ],
      "text/latex": [
       "191202.949216856"
      ],
      "text/markdown": [
       "191202.949216856"
      ],
      "text/plain": [
       "[1] 191202.9"
      ]
     },
     "metadata": {},
     "output_type": "display_data"
    }
   ],
   "source": [
    "l <- length(treeCons$tip)\n",
    "infReps <- assays(yAggConsNS)[grep(\"infRep\", assayNames(yAggConsNS))]\n",
    "infReps <- abind::abind(as.list(infReps), along = 3)\n",
    "lfc <- getLog2FC(infReps, colData(yAggConsNS)[[\"condition\"]])\n",
    "\n",
    "lfcMet <- abs(lfc/mcols(yAggConsNS)[[\"meanInfRV\"]])\n",
    "globArr <- rep(-100, nrow(yAggConsNS))\n",
    "findMaxSum(treeCons, lfcMet, l+1)\n",
    "optLfcMet <- globArr"
   ]
  },
  {
   "cell_type": "code",
   "execution_count": 18,
   "id": "793e3e3c",
   "metadata": {},
   "outputs": [
    {
     "data": {
      "text/html": [
       "129698"
      ],
      "text/latex": [
       "129698"
      ],
      "text/markdown": [
       "129698"
      ],
      "text/plain": [
       "[1] 129698"
      ]
     },
     "metadata": {},
     "output_type": "display_data"
    }
   ],
   "source": [
    "dfLFC <- "
   ]
  },
  {
   "cell_type": "markdown",
   "id": "287ae9e7",
   "metadata": {},
   "source": [
    "### Correlation Tree"
   ]
  },
  {
   "cell_type": "code",
   "execution_count": null,
   "id": "6ea6a449",
   "metadata": {},
   "outputs": [],
   "source": [
    "infReps <- assays(yAggCorNS)[grep(\"infRep\", assayNames(yAggCorNS))]\n",
    "infReps <- abind::abind(as.list(infReps), along = 3)\n",
    "lfc <- getLog2FC(infReps, colData(yAggConsNS)[[\"condition\"]])\n",
    "\n",
    "lfcMet <- abs(lfc/mcols(yAggConsNS)[[\"meanInfRV\"]])\n",
    "globArr <- rep(-100, nrow(yAggConsNS))\n",
    "findMaxSum(treeCons, lfcMet, length(treeCons)+1)\n",
    "optLfcMet <- globArr"
   ]
  }
 ],
 "metadata": {
  "kernelspec": {
   "display_name": "R",
   "language": "R",
   "name": "ir"
  },
  "language_info": {
   "codemirror_mode": "r",
   "file_extension": ".r",
   "mimetype": "text/x-r-source",
   "name": "R",
   "pygments_lexer": "r",
   "version": "4.1.1"
  }
 },
 "nbformat": 4,
 "nbformat_minor": 5
}
