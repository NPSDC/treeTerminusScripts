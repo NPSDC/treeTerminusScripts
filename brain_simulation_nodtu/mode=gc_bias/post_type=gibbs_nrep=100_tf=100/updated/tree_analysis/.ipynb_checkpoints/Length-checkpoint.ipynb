{
 "cells": [
  {
   "cell_type": "code",
   "execution_count": 1,
   "id": "81b77b62",
   "metadata": {},
   "outputs": [],
   "source": [
    "setwd('/fs/cbcb-lab/rob/students/noor/Uncertainity/treeTerminusScripts')\n",
    "load(\"environment/brain_sim_nodtu/mode=gc_bias/mapDf.RData\")\n",
    "load(\"environment/brain_sim_nodtu/mode=gc_bias/post_type=gibbs_nrep=100_tf=100/mean_cons/treeCons.RData\")\n",
    "load(\"environment/brain_sim_nodtu/mode=gc_bias/post_type=gibbs_nrep=100_tf=100/mean_cons/treeCons0.RData\")\n",
    "load(\"environment/brain_sim_nodtu/mode=gc_bias/post_type=gibbs_nrep=100_tf=100/mean_cons/treeMC0.RData\")\n",
    "load(\"environment/brain_sim_nodtu/mode=gc_bias/post_type=gibbs_nrep=100_tf=100/mean_cons/treeMC.RData\")\n",
    "load(\"environment/brain_sim_nodtu/mode=gc_bias/post_type=gibbs_nrep=100_tf=100/mean_cons/treeCor.RData\")\n",
    "suppressPackageStartupMessages(source(\"tree_helper_function.R\"))\n",
    "suppressPackageStartupMessages(source(\"brain_simulation_nodtu/mode=gc_bias/post_type=gibbs_nrep=100_tf=100/tree_analysis/tree_filter.R\"))"
   ]
  },
  {
   "cell_type": "code",
   "execution_count": 2,
   "id": "bce5ad0c",
   "metadata": {},
   "outputs": [],
   "source": [
    "load(\"environment/brain_sim_nodtu/mode=gc_bias/post_type=gibbs_nrep=100_tf=100/mean_cons/yAggMeanInfNS0.RData\")\n",
    "load(\"environment/brain_sim_nodtu/mode=gc_bias/post_type=gibbs_nrep=100_tf=100/mean_cons/yAggConsNS0.RData\")\n",
    "load(\"environment/brain_sim_nodtu/mode=gc_bias/post_type=gibbs_nrep=100_tf=100/mean_cons/yAggMeanInfNS.RData\")\n",
    "load(\"environment/brain_sim_nodtu/mode=gc_bias/post_type=gibbs_nrep=100_tf=100/mean_cons/yAggConsNS.RData\")\n",
    "load(\"environment/brain_sim_nodtu/mode=gc_bias/post_type=gibbs_nrep=100_tf=100/mean_cons/yAggCor.RData\")"
   ]
  },
  {
   "cell_type": "code",
   "execution_count": 3,
   "id": "c19928ca",
   "metadata": {},
   "outputs": [
    {
     "data": {
      "text/html": [
       "255721"
      ],
      "text/latex": [
       "255721"
      ],
      "text/markdown": [
       "255721"
      ],
      "text/plain": [
       "[1] 255721"
      ]
     },
     "metadata": {},
     "output_type": "display_data"
    }
   ],
   "source": [
    "descL <- sapply(Descendants(treeCons0, seq(length(treeCons0$tip) + treeCons0$Nnode)),length)\n",
    "gamma <- 1\n",
    "l <- length(treeCons0$tip)\n",
    "length(descL)"
   ]
  },
  {
   "cell_type": "markdown",
   "id": "8f2cafd6",
   "metadata": {},
   "source": [
    "#### Gamma 0.1"
   ]
  },
  {
   "cell_type": "code",
   "execution_count": null,
   "id": "79550bef",
   "metadata": {},
   "outputs": [],
   "source": [
    "gamma <- 0.1\n",
    "dfDepth <- data.frame(matrix(nrow=0, ncol=4))\n",
    "dCutsD <- list()\n",
    "dCutsD[[\"gamma=0.1\"]] <- list()\n",
    "colnames(dfDepth) <- c(\"Type\", \"Value\", \"nCuts\", \"gamma\")\n",
    "l <- length(treeCons0$tip)\n",
    "\n",
    "globArr <- rep(-100, l+treeCons0$Nnode)\n",
    "descL <- sapply(Descendants(treeCons0, seq(l+treeCons0$Nnode)), length)\n",
    "obj <- mcols(yAggConsNS0)[[\"meanInfRV\"]] + gamma*node.depth(treeCons0,2)\n",
    "val <- findOptSum(treeCons0, obj, l+1, descL)\n",
    "dCutsD[[\"gamma=0.1\"]][[\"Cons0\"]] <- findCuts(treeCons0, globArr, obj, l+1, descL)\n",
    "length(dCutsD[[\"gamma=0.1\"]][[\"Cons0\"]])\n",
    "dfDepth <- rbind(dfDepth, data.frame(Type = \"Cons0\", Value = val, \n",
    "       nCuts = length(dCutsD[[\"gamma=0.1\"]][[\"Cons0\"]]), gamma=gamma))\n",
    "save(dCutsD, file=\"environment/brain_sim_nodtu/mode=gc_bias/post_type=gibbs_nrep=100_tf=100/mean_cons/cutsDepth.RData\")\n",
    "gc()\n",
    "\n",
    "globArr <- rep(-100, l+treeCons$Nnode)\n",
    "descL <- sapply(Descendants(treeCons, seq(l+treeCons$Nnode)), length)\n",
    "obj <- mcols(yAggConsNS)[[\"meanInfRV\"]] + gamma*node.depth(treeCons,2)\n",
    "val <- findOptSum(treeCons, obj, l+1, descL)\n",
    "dCutsD[[\"gamma=0.1\"]][[\"Cons\"]] <- findCuts(treeCons, globArr, obj, l+1, descL)\n",
    "length(dCutsD[[\"gamma=0.1\"]][[\"Cons\"]])\n",
    "dfDepth <- rbind(dfDepth, data.frame(Type = \"Cons\", Value = val, \n",
    "                  nCuts = length(dCutsD[[\"gamma=0.1\"]][[\"Cons\"]]), gamma=gamma))\n",
    "save(dCutsD, file=\"environment/brain_sim_nodtu/mode=gc_bias/post_type=gibbs_nrep=100_tf=100/mean_cons/cutsDepth.RData\")\n",
    "gc()\n",
    "\n",
    "globArr <- rep(-100, l+treeMeanInf0$Nnode)\n",
    "descL <- sapply(Descendants(treeMeanInf0, seq(l+treeMeanInf0$Nnode)), length)\n",
    "obj <- mcols(yAggMeanInfNS0)[[\"meanInfRV\"]] + gamma*node.depth(treeMeanInf0,2)\n",
    "val <- findOptSum(treeMeanInf0, obj, l+1, descL)\n",
    "dCutsD[[\"gamma=0.1\"]][[\"MeanInf0\"]] <- findCuts(treeMeanInf0, globArr, obj, l+1, descL)\n",
    "length(dCutsD[[\"gamma=0.1\"]][[\"MeanInf0\"]])\n",
    "dfDepth <- rbind(dfDepth, data.frame(Type = \"MeanInf0\", Value = val, \n",
    "                 nCuts = length(dCutsD[[\"gamma=0.1\"]][[\"MeanInf0\"]]), gamma=gamma))\n",
    "save(dCutsD, file=\"environment/brain_sim_nodtu/mode=gc_bias/post_type=gibbs_nrep=100_tf=100/mean_cons/cutsDepth.RData\")\n",
    "gc()\n",
    "\n",
    "globArr <- rep(-100, l+treeMeanInf$Nnode)\n",
    "descL <- sapply(Descendants(treeMeanInf, seq(l+treeMeanInf$Nnode)), length)\n",
    "obj <- mcols(yAggMeanInfNS)[[\"meanInfRV\"]]  + gamma*node.depth(treeMeanInf0,2)\n",
    "val <- findOptSum(treeMeanInf, obj, l+1, descL)\n",
    "dCutsD[[\"gamma=0.1\"]][[\"MeanInf\"]] <- findCuts(treeMeanInf, globArr, obj, l+1, descL)\n",
    "length(dCutsD[[\"gamma=0.1\"]][[\"MeanInf\"]])\n",
    "dfDepth <- rbind(dfDepth, data.frame(Type = \"MeanInf\", Value = val, \n",
    "           nCuts = length(dCutsD[[\"gamma=0.1\"]][[\"MeanInf\"]]), gamma=gamma))\n",
    "save(dCutsD, file=\"environment/brain_sim_nodtu/mode=gc_bias/post_type=gibbs_nrep=100_tf=100/mean_cons/cutsDepth.RData\")\n",
    "gc()\n",
    "\n",
    "globArr <- rep(-100, l+treeCor$Nnode)\n",
    "descL <- sapply(Descendants(treeCor, seq(l+treeCor$Nnode)), length)\n",
    "obj <- mcols(yAggCorNS)[[\"meanInfRV\"]]  + gamma*node.depth(treeCor,2)\n",
    "val <- findOptSum(treeCor, obj, l+1, descL)\n",
    "dCutsD[[\"gamma=0.1\"]][[\"Cor\"]] <- findCuts(treeCor, globArr, obj, l+1, descL)\n",
    "length(dCutsD[[\"gamma=0.1\"]][[\"Cor\"]])\n",
    "dfDepth <- rbind(dfDepth, data.frame(Type = \"Cor\", Value = val, \n",
    "                 nCuts = length(dCutsD[[\"gamma=0.1\"]][[\"Cor\"]]), gamma=gamma))\n",
    "gc()\n",
    "save(dCutsD, file=\"environment/brain_sim_nodtu/mode=gc_bias/post_type=gibbs_nrep=100_tf=100/mean_cons/cutsDepth.RData\")"
   ]
  },
  {
   "cell_type": "code",
   "execution_count": null,
   "id": "8f573a63",
   "metadata": {},
   "outputs": [],
   "source": [
    "dfDepth"
   ]
  },
  {
   "cell_type": "markdown",
   "id": "7f6d15b9",
   "metadata": {},
   "source": [
    "#### Gamma 0.5"
   ]
  },
  {
   "cell_type": "code",
   "execution_count": null,
   "id": "d06ca71c",
   "metadata": {},
   "outputs": [],
   "source": [
    "gamma <- 0.5\n",
    "dCutsD[[\"gamma=0.5\"]] <- list()\n",
    "\n",
    "globArr <- rep(-100, l+treeCons0$Nnode)\n",
    "descL <- sapply(Descendants(treeCons0, seq(l+treeCons0$Nnode)), length)\n",
    "obj <- mcols(yAggConsNS0)[[\"meanInfRV\"]] + gamma*node.depth(treeCons0,2)\n",
    "val <- findOptSum(treeCons0, obj, l+1, descL)\n",
    "dCutsD[[\"gamma=0.5\"]][[\"Cons0\"]] <- findCuts(treeCons0, globArr, obj, l+1, descL)\n",
    "length(dCutsD[[\"gamma=0.5\"]][[\"Cons0\"]])\n",
    "dfDepth <- rbind(dfDepth, data.frame(Type = \"Cons0\", Value = val, \n",
    "       nCuts = length(dCutsD[[\"gamma=0.5\"]][[\"Cons0\"]]), gamma=gamma))\n",
    "save(dCutsD, file=\"environment/brain_sim_nodtu/mode=gc_bias/post_type=gibbs_nrep=100_tf=100/mean_cons/cutsDepth.RData\")\n",
    "gc()\n",
    "\n",
    "globArr <- rep(-100, l+treeCons$Nnode)\n",
    "descL <- sapply(Descendants(treeCons, seq(l+treeCons$Nnode)), length)\n",
    "obj <- mcols(yAggConsNS)[[\"meanInfRV\"]] + gamma*node.depth(treeCons,2)\n",
    "val <- findOptSum(treeCons, obj, l+1, descL)\n",
    "dCutsD[[\"gamma=0.5\"]][[\"Cons\"]] <- findCuts(treeCons, globArr, obj, l+1, descL)\n",
    "length(dCutsD[[\"gamma=0.5\"]][[\"Cons\"]])\n",
    "dfDepth <- rbind(dfDepth, data.frame(Type = \"Cons\", Value = val, \n",
    "                  nCuts = length(dCutsD[[\"gamma=0.5\"]][[\"Cons\"]]), gamma=gamma))\n",
    "save(dCutsD, file=\"environment/brain_sim_nodtu/mode=gc_bias/post_type=gibbs_nrep=100_tf=100/mean_cons/cutsDepth.RData\")\n",
    "gc()\n",
    "\n",
    "globArr <- rep(-100, l+treeMeanInf0$Nnode)\n",
    "descL <- sapply(Descendants(treeMeanInf0, seq(l+treeMeanInf0$Nnode)), length)\n",
    "obj <- mcols(yAggMeanInfNS0)[[\"meanInfRV\"]] + gamma*node.depth(treeMeanInf0,2)\n",
    "val <- findOptSum(treeMeanInf0, obj, l+1, descL)\n",
    "dCutsD[[\"gamma=0.5\"]][[\"MeanInf0\"]] <- findCuts(treeMeanInf0, globArr, obj, l+1, descL)\n",
    "length(dCutsD[[\"gamma=0.5\"]][[\"MeanInf0\"]])\n",
    "dfDepth <- rbind(dfDepth, data.frame(Type = \"MeanInf0\", Value = val, \n",
    "                 nCuts = length(dCutsD[[\"gamma=0.5\"]][[\"MeanInf0\"]]), gamma=gamma))\n",
    "save(dCutsD, file=\"environment/brain_sim_nodtu/mode=gc_bias/post_type=gibbs_nrep=100_tf=100/mean_cons/cutsDepth.RData\")\n",
    "gc()\n",
    "\n",
    "globArr <- rep(-100, l+treeMeanInf$Nnode)\n",
    "descL <- sapply(Descendants(treeMeanInf, seq(l+treeMeanInf$Nnode)), length)\n",
    "obj <- mcols(yAggMeanInfNS)[[\"meanInfRV\"]]  + gamma*node.depth(treeMeanInf,2)\n",
    "val <- findOptSum(treeMeanInf, obj, l+1, descL)\n",
    "dCutsD[[\"gamma=0.5\"]][[\"MeanInf\"]] <- findCuts(treeMeanInf, globArr, obj, l+1, descL)\n",
    "length(dCutsD[[\"gamma=0.5\"]][[\"MeanInf\"]])\n",
    "dfDepth <- rbind(dfDepth, data.frame(Type = \"MeanInf\", Value = val, \n",
    "           nCuts = length(dCutsD[[\"gamma=0.5\"]][[\"MeanInf\"]]), gamma=gamma))\n",
    "save(dCutsD, file=\"environment/brain_sim_nodtu/mode=gc_bias/post_type=gibbs_nrep=100_tf=100/mean_cons/cutsDepth.RData\")\n",
    "gc()\n",
    "\n",
    "globArr <- rep(-100, l+treeCor$Nnode)\n",
    "descL <- sapply(Descendants(treeCor, seq(l+treeCor$Nnode)), length)\n",
    "obj <- mcols(yAggCorNS)[[\"meanInfRV\"]]  + gamma*node.depth(treeCor,2)\n",
    "val <- findOptSum(treeCor, obj, l+1, descL)\n",
    "dCutsD[[\"gamma=0.5\"]][[\"Cor\"]] <- findCuts(treeCor, globArr, obj, l+1, descL)\n",
    "length(dCutsD[[\"gamma=0.5\"]][[\"Cor\"]])\n",
    "dfDepth <- rbind(dfDepth, data.frame(Type = \"Cor\", Value = val, \n",
    "                 nCuts = length(dCutsD[[\"gamma=0.5\"]][[\"Cor\"]]), gamma=gamma))\n",
    "gc()\n",
    "save(dCutsD, file=\"environment/brain_sim_nodtu/mode=gc_bias/post_type=gibbs_nrep=100_tf=100/mean_cons/cutsDepth.RData\")"
   ]
  },
  {
   "cell_type": "markdown",
   "id": "f2754746",
   "metadata": {},
   "source": [
    "#### Gamma 1"
   ]
  },
  {
   "cell_type": "code",
   "execution_count": null,
   "id": "39d8b2af",
   "metadata": {},
   "outputs": [],
   "source": [
    "gamma <- 1\n",
    "dCutsD[[\"gamma=1\"]] <- list()\n",
    "\n",
    "globArr <- rep(-100, l+treeCons0$Nnode)\n",
    "descL <- sapply(Descendants(treeCons0, seq(l+treeCons0$Nnode)), length)\n",
    "obj <- mcols(yAggConsNS0)[[\"meanInfRV\"]] + gamma*node.depth(treeCons0,2)\n",
    "val <- findOptSum(treeCons0, obj, l+1, descL)\n",
    "dCutsD[[\"gamma=1\"]][[\"Cons0\"]] <- findCuts(treeCons0, globArr, obj, l+1, descL)\n",
    "length(dCutsD[[\"gamma\"]][[\"Cons0\"]])\n",
    "dfDepth <- rbind(dfDepth, data.frame(Type = \"Cons0\", Value = val, \n",
    "       nCuts = length(dCutsD[[\"gamma=1\"]][[\"Cons0\"]]), gamma=gamma))\n",
    "save(dCutsD, file=\"environment/brain_sim_nodtu/mode=gc_bias/post_type=gibbs_nrep=100_tf=100/mean_cons/cutsDepth.RData\")\n",
    "gc()\n",
    "\n",
    "globArr <- rep(-100, l+treeCons$Nnode)\n",
    "descL <- sapply(Descendants(treeCons, seq(l+treeCons$Nnode)), length)\n",
    "obj <- mcols(yAggConsNS)[[\"meanInfRV\"]] + gamma*node.depth(treeCons,2)\n",
    "val <- findOptSum(treeCons, obj, l+1, descL)\n",
    "dCutsD[[\"gamma=1\"]][[\"Cons\"]] <- findCuts(treeCons, globArr, obj, l+1, descL)\n",
    "length(dCutsD[[\"gamma=1\"]][[\"Cons\"]])\n",
    "dfDepth <- rbind(dfDepth, data.frame(Type = \"Cons\", Value = val, \n",
    "                  nCuts = length(dCutsD[[\"gamma=1\"]][[\"Cons\"]]), gamma=gamma))\n",
    "save(dCutsD, file=\"environment/brain_sim_nodtu/mode=gc_bias/post_type=gibbs_nrep=100_tf=100/mean_cons/cutsDepth.RData\")\n",
    "gc()\n",
    "\n",
    "globArr <- rep(-100, l+treeMeanInf0$Nnode)\n",
    "descL <- sapply(Descendants(treeMeanInf0, seq(l+treeMeanInf0$Nnode)), length)\n",
    "obj <- mcols(yAggMeanInfNS0)[[\"meanInfRV\"]] + gamma*node.depth(treeMeanInf0,2)\n",
    "val <- findOptSum(treeMeanInf0, obj, l+1, descL)\n",
    "dCutsD[[\"gamma=1\"]][[\"MeanInf0\"]] <- findCuts(treeMeanInf0, globArr, obj, l+1, descL)\n",
    "length(dCutsD[[\"gamma=1\"]][[\"MeanInf0\"]])\n",
    "dfDepth <- rbind(dfDepth, data.frame(Type = \"MeanInf0\", Value = val, \n",
    "                 nCuts = length(dCutsD[[\"gamma=1\"]][[\"MeanInf0\"]]), gamma=gamma))\n",
    "save(dCutsD, file=\"environment/brain_sim_nodtu/mode=gc_bias/post_type=gibbs_nrep=100_tf=100/mean_cons/cutsDepth.RData\")\n",
    "gc()\n",
    "\n",
    "globArr <- rep(-100, l+treeMeanInf$Nnode)\n",
    "descL <- sapply(Descendants(treeMeanInf, seq(l+treeMeanInf$Nnode)), length)\n",
    "obj <- mcols(yAggMeanInfNS)[[\"meanInfRV\"]]  + gamma*node.depth(treeMeanInf,2)\n",
    "val <- findOptSum(treeMeanInf, obj, l+1, descL)\n",
    "dCutsD[[\"gamma=1\"]][[\"MeanInf\"]] <- findCuts(treeMeanInf, globArr, obj, l+1, descL)\n",
    "length(dCutsD[[\"gamma=1\"]][[\"MeanInf\"]])\n",
    "dfDepth <- rbind(dfDepth, data.frame(Type = \"MeanInf\", Value = val, \n",
    "           nCuts = length(dCutsD[[\"gamma=1\"]][[\"MeanInf\"]]), gamma=gamma))\n",
    "save(dCutsD, file=\"environment/brain_sim_nodtu/mode=gc_bias/post_type=gibbs_nrep=100_tf=100/mean_cons/cutsDepth.RData\")\n",
    "gc()\n",
    "\n",
    "globArr <- rep(-100, l+treeCor$Nnode)\n",
    "descL <- sapply(Descendants(treeCor, seq(l+treeCor$Nnode)), length)\n",
    "obj <- mcols(yAggCorNS)[[\"meanInfRV\"]]  + gamma*node.depth(treeCor,2)\n",
    "val <- findOptSum(treeCor, obj, l+1, descL)\n",
    "dCutsD[[\"gamma=1\"]][[\"Cor\"]] <- findCuts(treeCor, globArr, obj, l+1, descL)\n",
    "length(dCutsD[[\"gamma=1\"]][[\"Cor\"]])\n",
    "dfDepth <- rbind(dfDepth, data.frame(Type = \"Cor\", Value = val, \n",
    "                 nCuts = length(dCutsD[[\"gamma=1\"]][[\"Cor\"]]), gamma=gamma))\n",
    "gc()\n",
    "save(dCutsD, file=\"environment/brain_sim_nodtu/mode=gc_bias/post_type=gibbs_nrep=100_tf=100/mean_cons/cutsDepth.RData\")"
   ]
  },
  {
   "cell_type": "markdown",
   "id": "917aa49e",
   "metadata": {},
   "source": [
    "#### Gamma 5"
   ]
  },
  {
   "cell_type": "code",
   "execution_count": null,
   "id": "8b5f8663",
   "metadata": {},
   "outputs": [],
   "source": [
    "gamma <- 5\n",
    "dCutsD[[\"gamma=5\"]] <- list()\n",
    "\n",
    "globArr <- rep(-100, l+treeCons0$Nnode)\n",
    "descL <- sapply(Descendants(treeCons0, seq(l+treeCons0$Nnode)), length)\n",
    "obj <- mcols(yAggConsNS0)[[\"meanInfRV\"]] + gamma*node.depth(treeCons0,2)\n",
    "val <- findOptSum(treeCons0, obj, l+1, descL)\n",
    "dCutsD[[\"gamma=5\"]][[\"Cons0\"]] <- findCuts(treeCons0, globArr, obj, l+1, descL)\n",
    "length(dCutsD[[\"gamma=5\"]][[\"Cons0\"]])\n",
    "dfDepth <- rbind(dfDepth, data.frame(Type = \"Cons0\", Value = val, \n",
    "       nCuts = length(dCutsD[\"gamma=5\"]][[\"Cons0\"]]), gamma=gamma))\n",
    "save(dCutsD, file=\"environment/brain_sim_nodtu/mode=gc_bias/post_type=gibbs_nrep=100_tf=100/mean_cons/cutsDepth.RData\")\n",
    "gc()\n",
    "\n",
    "globArr <- rep(-100, l+treeCons$Nnode)\n",
    "descL <- sapply(Descendants(treeCons, seq(l+treeCons$Nnode)), length)\n",
    "obj <- mcols(yAggConsNS)[[\"meanInfRV\"]] + gamma*node.depth(treeCons,2)\n",
    "val <- findOptSum(treeCons, obj, l+1, descL)\n",
    "dCutsD[[\"gamma=5\"]][[\"Cons\"]] <- findCuts(treeCons, globArr, obj, l+1, descL)\n",
    "length(dCutsD[[\"gamma=5\"]][[\"Cons\"]])\n",
    "dfDepth <- rbind(dfDepth, data.frame(Type = \"Cons\", Value = val, \n",
    "                  nCuts = length(dCutsD[\"gamma=5\"]][[\"Cons\"]]), gamma=gamma))\n",
    "save(dCutsD, file=\"environment/brain_sim_nodtu/mode=gc_bias/post_type=gibbs_nrep=100_tf=100/mean_cons/cutsDepth.RData\")\n",
    "gc()\n",
    "\n",
    "globArr <- rep(-100, l+treeMeanInf0$Nnode)\n",
    "descL <- sapply(Descendants(treeMeanInf0, seq(l+treeMeanInf0$Nnode)), length)\n",
    "obj <- mcols(yAggMeanInfNS0)[[\"meanInfRV\"]] + gamma*node.depth(treeMeanInf0,2)\n",
    "val <- findOptSum(treeMeanInf0, obj, l+1, descL)\n",
    "dCutsD[[\"gamma=5\"]][[\"MeanInf0\"]] <- findCuts(treeMeanInf0, globArr, obj, l+1, descL)\n",
    "length(dCutsD[[\"gamma=5\"]][[\"MeanInf0\"]])\n",
    "dfDepth <- rbind(dfDepth, data.frame(Type = \"MeanInf0\", Value = val, \n",
    "                 nCuts = length(dCutsD[\"gamma=5\"]][[\"MeanInf0\"]]), gamma=gamma))\n",
    "save(dCutsD, file=\"environment/brain_sim_nodtu/mode=gc_bias/post_type=gibbs_nrep=100_tf=100/mean_cons/cutsDepth.RData\")\n",
    "gc()\n",
    "\n",
    "globArr <- rep(-100, l+treeMeanInf$Nnode)\n",
    "descL <- sapply(Descendants(treeMeanInf, seq(l+treeMeanInf$Nnode)), length)\n",
    "obj <- mcols(yAggMeanInfNS)[[\"meanInfRV\"]]  + gamma*node.depth(treeMeanInf,2)\n",
    "val <- findOptSum(treeMeanInf, obj, l+1, descL)\n",
    "dCutsD[[\"gamma=5\"]][[\"MeanInf\"]] <- findCuts(treeMeanInf, globArr, obj, l+1, descL)\n",
    "length(dCutsD[[\"gamma=5\"]][[\"MeanInf\"]])\n",
    "dfDepth <- rbind(dfDepth, data.frame(Type = \"MeanInf\", Value = val, \n",
    "           nCuts = length(dCutsD[\"gamma=5\"]][[\"MeanInf\"]]), gamma=gamma))\n",
    "save(dCutsD, file=\"environment/brain_sim_nodtu/mode=gc_bias/post_type=gibbs_nrep=100_tf=100/mean_cons/cutsDepth.RData\")\n",
    "gc()\n",
    "\n",
    "globArr <- rep(-100, l+treeCor$Nnode)\n",
    "descL <- sapply(Descendants(treeCor, seq(l+treeCor$Nnode)), length)\n",
    "obj <- mcols(yAggCorNS)[[\"meanInfRV\"]]  + gamma*node.depth(treeCor,2)\n",
    "val <- findOptSum(treeCor, obj, l+1, descL)\n",
    "dCutsD[[\"gamma=5\"]][[\"Cor\"]] <- findCuts(treeCor, globArr, obj, l+1, descL)\n",
    "length(dCutsD[[\"gamma=5\"]][[\"Cor\"]])\n",
    "dfDepth <- rbind(dfDepth, data.frame(Type = \"Cor\", Value = val, \n",
    "                 nCuts = length(dCutsD[\"gamma=5\"]][[\"Cor\"]]), gamma=gamma))\n",
    "gc()\n",
    "save(dCutsD, file=\"environment/brain_sim_nodtu/mode=gc_bias/post_type=gibbs_nrep=100_tf=100/mean_cons/cutsDepth.RData\")"
   ]
  },
  {
   "cell_type": "code",
   "execution_count": 4,
   "id": "b123e4ab",
   "metadata": {},
   "outputs": [
    {
     "ename": "ERROR",
     "evalue": "Error in eval(expr, envir, enclos): object 'globArr' not found\n",
     "output_type": "error",
     "traceback": [
      "Error in eval(expr, envir, enclos): object 'globArr' not found\nTraceback:\n"
     ]
    }
   ],
   "source": []
  },
  {
   "cell_type": "code",
   "execution_count": 46,
   "id": "d2629aba",
   "metadata": {},
   "outputs": [
    {
     "name": "stdout",
     "output_type": "stream",
     "text": [
      "[1] 439849.8\n"
     ]
    },
    {
     "data": {
      "text/html": [
       "120544"
      ],
      "text/latex": [
       "120544"
      ],
      "text/markdown": [
       "120544"
      ],
      "text/plain": [
       "[1] 120544"
      ]
     },
     "metadata": {},
     "output_type": "display_data"
    },
    {
     "data": {
      "text/html": [
       "<table class=\"dataframe\">\n",
       "<caption>A matrix: 2 × 6 of type dbl</caption>\n",
       "<thead>\n",
       "\t<tr><th></th><th scope=col>used</th><th scope=col>(Mb)</th><th scope=col>gc trigger</th><th scope=col>(Mb)</th><th scope=col>max used</th><th scope=col>(Mb)</th></tr>\n",
       "</thead>\n",
       "<tbody>\n",
       "\t<tr><th scope=row>Ncells</th><td> 10358714</td><td> 553.3</td><td>  20127115</td><td>1075.0</td><td>  20127115</td><td>1075.0</td></tr>\n",
       "\t<tr><th scope=row>Vcells</th><td>728674687</td><td>5559.4</td><td>1206340466</td><td>9203.7</td><td>1206340414</td><td>9203.7</td></tr>\n",
       "</tbody>\n",
       "</table>\n"
      ],
      "text/latex": [
       "A matrix: 2 × 6 of type dbl\n",
       "\\begin{tabular}{r|llllll}\n",
       "  & used & (Mb) & gc trigger & (Mb) & max used & (Mb)\\\\\n",
       "\\hline\n",
       "\tNcells &  10358714 &  553.3 &   20127115 & 1075.0 &   20127115 & 1075.0\\\\\n",
       "\tVcells & 728674687 & 5559.4 & 1206340466 & 9203.7 & 1206340414 & 9203.7\\\\\n",
       "\\end{tabular}\n"
      ],
      "text/markdown": [
       "\n",
       "A matrix: 2 × 6 of type dbl\n",
       "\n",
       "| <!--/--> | used | (Mb) | gc trigger | (Mb) | max used | (Mb) |\n",
       "|---|---|---|---|---|---|---|\n",
       "| Ncells |  10358714 |  553.3 |   20127115 | 1075.0 |   20127115 | 1075.0 |\n",
       "| Vcells | 728674687 | 5559.4 | 1206340466 | 9203.7 | 1206340414 | 9203.7 |\n",
       "\n"
      ],
      "text/plain": [
       "       used      (Mb)   gc trigger (Mb)   max used   (Mb)  \n",
       "Ncells  10358714  553.3   20127115 1075.0   20127115 1075.0\n",
       "Vcells 728674687 5559.4 1206340466 9203.7 1206340414 9203.7"
      ]
     },
     "metadata": {},
     "output_type": "display_data"
    }
   ],
   "source": [
    "globArr <- rep(-100, l+treeCons0$Nnode)\n",
    "gamma <- 1\n",
    "lambda <- 1\n",
    "obj <- mcols(yAggConsNS0)[[\"meanInfRV\"]] + gamma*node.depth(treeCons0, 2) + lambda*c(rep(1,l),cpCons0)\n",
    "print(findOptSum(treeCons0, obj, l+1, descL))\n",
    "cuts[[3]] <- findCuts(treeCons0, globArr, obj, l+1, descL)\n",
    "length(cuts[[3]])\n",
    "gc()"
   ]
  },
  {
   "cell_type": "code",
   "execution_count": 31,
   "id": "de642259",
   "metadata": {},
   "outputs": [],
   "source": [
    "compRedInfRV <- function(yAgg, tree, nodes) {\n",
    "    leaf <- nodes[nodes <= length(tree$tip)]\n",
    "    iNodes <- nodes[nodes > length(tree$tip)]\n",
    "    chNodes <- Descendants(tree, iNodes, \"children\")\n",
    "    redIRV <- sapply(seq_along(iNodes), function(i) mcols(yAgg)[iNodes[i], \"meanInfRV\"] - mean(mcols(yAgg)[chNodes[[i]], \"meanInfRV\"]))\n",
    "    redIRV\n",
    "}"
   ]
  },
  {
   "cell_type": "code",
   "execution_count": null,
   "id": "ae96e643",
   "metadata": {},
   "outputs": [],
   "source": []
  },
  {
   "cell_type": "code",
   "execution_count": 35,
   "id": "426f9c7a",
   "metadata": {},
   "outputs": [],
   "source": [
    "# r1 <- compRedInfRV(yAggConsNS0, treeCons0, cuts[[1]])\n",
    "r2 <- compRedInfRV(yAggConsNS0, treeCons0, cuts[[2]])\n",
    "r3 <- compRedInfRV(yAggConsNS0, treeCons0, dCuts[[\"lambda=1\"]][[\"Cons0\"]])"
   ]
  },
  {
   "cell_type": "code",
   "execution_count": 41,
   "id": "4772361c",
   "metadata": {},
   "outputs": [
    {
     "data": {
      "text/plain": [
       "     Min.   1st Qu.    Median      Mean   3rd Qu.      Max. \n",
       "-1200.281    -4.433    -2.790    -4.454    -1.851    -1.000 "
      ]
     },
     "metadata": {},
     "output_type": "display_data"
    },
    {
     "data": {
      "text/plain": [
       "      Min.    1st Qu.     Median       Mean    3rd Qu.       Max. \n",
       "-161.98940   -0.20458   -0.06469   -0.35084   -0.02012    0.03663 "
      ]
     },
     "metadata": {},
     "output_type": "display_data"
    }
   ],
   "source": [
    "summary(r2)\n",
    "summary(r3)\n",
    "r4 <- compRedInfRV(yAggConsNS0, treeCons0, dCuts[[\"lambda=0.5\"]][[\"Cons0\"]])"
   ]
  },
  {
   "cell_type": "code",
   "execution_count": 44,
   "id": "326feb2f",
   "metadata": {},
   "outputs": [],
   "source": [
    "load(\"environment/brain_sim_nodtu/mode=gc_bias/post_type=gibbs_nrep=100_tf=100/updated/comp_trees/cpCons0.RData\")"
   ]
  },
  {
   "cell_type": "code",
   "execution_count": 47,
   "id": "b35a15e1",
   "metadata": {},
   "outputs": [
    {
     "data": {
      "text/html": [
       "<style>\n",
       ".list-inline {list-style: none; margin:0; padding: 0}\n",
       ".list-inline>li {display: inline-block}\n",
       ".list-inline>li:not(:last-child)::after {content: \"\\00b7\"; padding: 0 .5ex}\n",
       "</style>\n",
       "<ol class=list-inline><li>88849</li><li>120717</li><li>120544</li></ol>\n"
      ],
      "text/latex": [
       "\\begin{enumerate*}\n",
       "\\item 88849\n",
       "\\item 120717\n",
       "\\item 120544\n",
       "\\end{enumerate*}\n"
      ],
      "text/markdown": [
       "1. 88849\n",
       "2. 120717\n",
       "3. 120544\n",
       "\n",
       "\n"
      ],
      "text/plain": [
       "[1]  88849 120717 120544"
      ]
     },
     "metadata": {},
     "output_type": "display_data"
    },
    {
     "data": {
      "text/html": [
       "0.827899019685084"
      ],
      "text/latex": [
       "0.827899019685084"
      ],
      "text/markdown": [
       "0.827899019685084"
      ],
      "text/plain": [
       "[1] 0.827899"
      ]
     },
     "metadata": {},
     "output_type": "display_data"
    },
    {
     "data": {
      "text/html": [
       "0.908886072384171"
      ],
      "text/latex": [
       "0.908886072384171"
      ],
      "text/markdown": [
       "0.908886072384171"
      ],
      "text/plain": [
       "[1] 0.9088861"
      ]
     },
     "metadata": {},
     "output_type": "display_data"
    },
    {
     "data": {
      "text/html": [
       "0.907668569153172"
      ],
      "text/latex": [
       "0.907668569153172"
      ],
      "text/markdown": [
       "0.907668569153172"
      ],
      "text/plain": [
       "[1] 0.9076686"
      ]
     },
     "metadata": {},
     "output_type": "display_data"
    },
    {
     "data": {
      "text/plain": [
       "   Min. 1st Qu.  Median    Mean 3rd Qu.    Max. \n",
       "    2.0     2.0     4.0     4.1     5.0    28.0 "
      ]
     },
     "metadata": {},
     "output_type": "display_data"
    },
    {
     "data": {
      "text/plain": [
       "   Min. 1st Qu.  Median    Mean 3rd Qu.    Max. \n",
       "  2.000   2.000   2.000   2.635   3.000  11.000 "
      ]
     },
     "metadata": {},
     "output_type": "display_data"
    },
    {
     "data": {
      "text/plain": [
       "   Min. 1st Qu.  Median    Mean 3rd Qu.    Max. \n",
       "  2.000   2.000   2.000   2.631   3.000  11.000 "
      ]
     },
     "metadata": {},
     "output_type": "display_data"
    }
   ],
   "source": [
    "dd <- node.depth(treeCons0, 2)\n",
    "sapply(cuts, length)\n",
    "mean(cuts[[1]] < l)\n",
    "mean(cuts[[2]] < l)\n",
    "mean(cuts[[3]] < l)\n",
    "summary(dd[cuts[[1]]][dd[cuts[[1]]] > 1])\n",
    "summary(dd[cuts[[2]]][dd[cuts[[2]]] > 1])\n",
    "summary(dd[cuts[[3]]][dd[cuts[[3]]] > 1])"
   ]
  },
  {
   "cell_type": "code",
   "execution_count": 37,
   "id": "b3ea309d",
   "metadata": {},
   "outputs": [],
   "source": [
    "load(\"environment/brain_sim_nodtu/mode=gc_bias/post_type=gibbs_nrep=100_tf=100/mean_cons/cutsPur.RData\")"
   ]
  },
  {
   "cell_type": "code",
   "execution_count": 27,
   "id": "8a2834e3",
   "metadata": {},
   "outputs": [
    {
     "data": {
      "text/plain": [
       "   Min. 1st Qu.  Median    Mean 3rd Qu.    Max. \n",
       "  1.000   1.000   1.000   3.253   4.000  83.000 "
      ]
     },
     "metadata": {},
     "output_type": "display_data"
    },
    {
     "data": {
      "text/plain": [
       "   Min. 1st Qu.  Median    Mean 3rd Qu.    Max. \n",
       "  2.000   3.000   5.000   7.103   9.000  83.000 "
      ]
     },
     "metadata": {},
     "output_type": "display_data"
    }
   ],
   "source": [
    "cuts <- dCuts[[\"lambda=1\"]][[\"MeanInf0\"]]\n",
    "dd <- node.depth(treeMeanInf0,2)\n",
    "summary(dd[cuts])\n",
    "summary(dd[cuts][dd[cuts] > 1])"
   ]
  },
  {
   "cell_type": "code",
   "execution_count": 29,
   "id": "d10fce2c",
   "metadata": {},
   "outputs": [
    {
     "data": {
      "text/plain": [
       "   Min. 1st Qu.  Median    Mean 3rd Qu.    Max. \n",
       "  1.000   1.000   1.000   3.679   5.000  78.000 "
      ]
     },
     "metadata": {},
     "output_type": "display_data"
    }
   ],
   "source": [
    "summary(node.depth(treeCons0,2))"
   ]
  },
  {
   "cell_type": "code",
   "execution_count": null,
   "id": "e0c100da",
   "metadata": {},
   "outputs": [],
   "source": []
  }
 ],
 "metadata": {
  "kernelspec": {
   "display_name": "R",
   "language": "R",
   "name": "ir"
  },
  "language_info": {
   "codemirror_mode": "r",
   "file_extension": ".r",
   "mimetype": "text/x-r-source",
   "name": "R",
   "pygments_lexer": "r",
   "version": "4.1.1"
  }
 },
 "nbformat": 4,
 "nbformat_minor": 5
}
