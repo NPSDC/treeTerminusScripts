{
 "cells": [
  {
   "cell_type": "code",
   "execution_count": 1,
   "id": "0728de49",
   "metadata": {},
   "outputs": [],
   "source": [
    "setwd('/fs/cbcb-lab/rob/students/noor/Uncertainity/treeTerminusScripts')\n",
    "suppressPackageStartupMessages(source(\"tree_helper_function.R\"))\n",
    "suppressPackageStartupMessages(library(ggplot2))\n",
    "suppressPackageStartupMessages(library(ggpubr))\n",
    "suppressPackageStartupMessages(library(dplyr))\n",
    "load(\"environment/brain_sim_nodtu/mode=gc_bias/mapDf.RData\")\n",
    "\n",
    "load(\"environment/brain_sim_nodtu/mode=gc_bias/post_type=gibbs_nrep=100_tf=100/mean_cons/treeMC.RData\")\n",
    "load(\"environment/brain_sim_nodtu/mode=gc_bias/post_type=gibbs_nrep=100_tf=100/mean_cons/treeCons.RData\")\n",
    "load(\"environment/brain_sim_nodtu/mode=gc_bias/post_type=gibbs_nrep=100_tf=100/mean_cons/treeCor.RData\")\n",
    "load(\"environment/brain_sim_nodtu/mode=gc_bias/post_type=gibbs_nrep=100_tf=100/mean_cons/treeThr.RData\")\n",
    "load(\"environment/brain_sim_nodtu/mode=gc_bias/post_type=gibbs_nrep=100_tf=100/mean_cons/treeMC0.RData\")"
   ]
  },
  {
   "cell_type": "markdown",
   "id": "374c0113",
   "metadata": {},
   "source": [
    "#### infRV of descendant nodes"
   ]
  },
  {
   "cell_type": "code",
   "execution_count": 2,
   "id": "2377494e",
   "metadata": {},
   "outputs": [],
   "source": [
    "load(\"environment/brain_sim_nodtu/mode=gc_bias/post_type=gibbs_nrep=100_tf=100/mean_cons/dfInfRV.RData\")\n",
    "dfChild <- data.frame(matrix(nrow=0, ncol=5))\n",
    "colnames(dfChild) <- c(\"node\", \"type\", \"depth\", \"le0\", \"infRV\")\n",
    "for(l in levels(factor(dfInfRV$type))) {\n",
    "        tr <- treeCor\n",
    "        if(l==\"Anti-Correlation\")\n",
    "            tr <- treeCor\n",
    "        else if(l == \"Consensus\")\n",
    "            tr <- treeCons\n",
    "        else if(l == \"Cons_Thr\")\n",
    "            tr <- treeThr\n",
    "        else if(l == \"MeanInf\")\n",
    "            tr <- treeMC\n",
    "        else if(l == \"MeanInf0\")\n",
    "            tr <- treeMC0\n",
    "            \n",
    "        df <- dfInfRV %>% filter(type==l)\n",
    "        for(d in levels(as.factor(dfInfRV$modDep))) {\n",
    "            if(d==1)\n",
    "                next()\n",
    "           dfD <- df %>% filter(modDep==d)\n",
    "           desc <- Descendants(tr, dfD[[\"node\"]], \"child\")\n",
    "           signs <- rep(-1, length(unlist(desc)))\n",
    "           j <- 1\n",
    "           for(i in seq_along(dfD[[\"node\"]])) {\n",
    "               k <- length(desc[[i]])\n",
    "               if(dfD[i,\"redInfRV\"] > 0)\n",
    "                   signs[j:(j+k-1)] <- 1\n",
    "               j <- j+k\n",
    "           } \n",
    "           dfChild <- rbind(dfChild, data.frame(node = unlist(desc), type = l, \n",
    "               depth = d, le0 = signs, infRV = df[unlist(desc),\"infRV\"]))\n",
    "        }\n",
    " \n",
    "}"
   ]
  },
  {
   "cell_type": "code",
   "execution_count": 3,
   "id": "5816fa9e",
   "metadata": {
    "scrolled": true
   },
   "outputs": [
    {
     "data": {
      "text/html": [
       "<table class=\"dataframe\">\n",
       "<caption>A cast_df: 5 × 7</caption>\n",
       "<thead>\n",
       "\t<tr><th></th><th scope=col>type</th><th scope=col>2</th><th scope=col>3</th><th scope=col>4</th><th scope=col>5</th><th scope=col>6</th><th scope=col>7</th></tr>\n",
       "\t<tr><th></th><th scope=col>&lt;chr&gt;</th><th scope=col>&lt;dbl&gt;</th><th scope=col>&lt;dbl&gt;</th><th scope=col>&lt;dbl&gt;</th><th scope=col>&lt;dbl&gt;</th><th scope=col>&lt;dbl&gt;</th><th scope=col>&lt;dbl&gt;</th></tr>\n",
       "</thead>\n",
       "<tbody>\n",
       "\t<tr><th scope=row>1</th><td>Anti-Correlation</td><td>1.1009621</td><td>0.7376181</td><td>0.3886440</td><td>0.2122146</td><td>0.1585408</td><td>0.2278854</td></tr>\n",
       "\t<tr><th scope=row>2</th><td>Cons_Thr        </td><td>5.5892939</td><td>4.1039087</td><td>2.9286760</td><td>2.7766275</td><td>2.4762528</td><td>0.3826212</td></tr>\n",
       "\t<tr><th scope=row>3</th><td>Consensus       </td><td>0.7683024</td><td>0.7701985</td><td>0.7190940</td><td>0.6180059</td><td>0.5078259</td><td>0.0977238</td></tr>\n",
       "\t<tr><th scope=row>4</th><td>MeanInf         </td><td>0.7239882</td><td>0.5581663</td><td>0.4755810</td><td>0.4186167</td><td>0.3586208</td><td>0.1277388</td></tr>\n",
       "\t<tr><th scope=row>5</th><td>MeanInf0        </td><td>1.4858189</td><td>0.6301234</td><td>0.3590663</td><td>0.2346209</td><td>0.1785757</td><td>0.0853944</td></tr>\n",
       "</tbody>\n",
       "</table>\n"
      ],
      "text/latex": [
       "A cast\\_df: 5 × 7\n",
       "\\begin{tabular}{r|lllllll}\n",
       "  & type & 2 & 3 & 4 & 5 & 6 & 7\\\\\n",
       "  & <chr> & <dbl> & <dbl> & <dbl> & <dbl> & <dbl> & <dbl>\\\\\n",
       "\\hline\n",
       "\t1 & Anti-Correlation & 1.1009621 & 0.7376181 & 0.3886440 & 0.2122146 & 0.1585408 & 0.2278854\\\\\n",
       "\t2 & Cons\\_Thr         & 5.5892939 & 4.1039087 & 2.9286760 & 2.7766275 & 2.4762528 & 0.3826212\\\\\n",
       "\t3 & Consensus        & 0.7683024 & 0.7701985 & 0.7190940 & 0.6180059 & 0.5078259 & 0.0977238\\\\\n",
       "\t4 & MeanInf          & 0.7239882 & 0.5581663 & 0.4755810 & 0.4186167 & 0.3586208 & 0.1277388\\\\\n",
       "\t5 & MeanInf0         & 1.4858189 & 0.6301234 & 0.3590663 & 0.2346209 & 0.1785757 & 0.0853944\\\\\n",
       "\\end{tabular}\n"
      ],
      "text/markdown": [
       "\n",
       "A cast_df: 5 × 7\n",
       "\n",
       "| <!--/--> | type &lt;chr&gt; | 2 &lt;dbl&gt; | 3 &lt;dbl&gt; | 4 &lt;dbl&gt; | 5 &lt;dbl&gt; | 6 &lt;dbl&gt; | 7 &lt;dbl&gt; |\n",
       "|---|---|---|---|---|---|---|---|\n",
       "| 1 | Anti-Correlation | 1.1009621 | 0.7376181 | 0.3886440 | 0.2122146 | 0.1585408 | 0.2278854 |\n",
       "| 2 | Cons_Thr         | 5.5892939 | 4.1039087 | 2.9286760 | 2.7766275 | 2.4762528 | 0.3826212 |\n",
       "| 3 | Consensus        | 0.7683024 | 0.7701985 | 0.7190940 | 0.6180059 | 0.5078259 | 0.0977238 |\n",
       "| 4 | MeanInf          | 0.7239882 | 0.5581663 | 0.4755810 | 0.4186167 | 0.3586208 | 0.1277388 |\n",
       "| 5 | MeanInf0         | 1.4858189 | 0.6301234 | 0.3590663 | 0.2346209 | 0.1785757 | 0.0853944 |\n",
       "\n"
      ],
      "text/plain": [
       "  type             2         3         4         5         6         7        \n",
       "1 Anti-Correlation 1.1009621 0.7376181 0.3886440 0.2122146 0.1585408 0.2278854\n",
       "2 Cons_Thr         5.5892939 4.1039087 2.9286760 2.7766275 2.4762528 0.3826212\n",
       "3 Consensus        0.7683024 0.7701985 0.7190940 0.6180059 0.5078259 0.0977238\n",
       "4 MeanInf          0.7239882 0.5581663 0.4755810 0.4186167 0.3586208 0.1277388\n",
       "5 MeanInf0         1.4858189 0.6301234 0.3590663 0.2346209 0.1785757 0.0853944"
      ]
     },
     "metadata": {},
     "output_type": "display_data"
    },
    {
     "data": {
      "text/html": [
       "<table class=\"dataframe\">\n",
       "<caption>A cast_df: 5 × 7</caption>\n",
       "<thead>\n",
       "\t<tr><th></th><th scope=col>type</th><th scope=col>2</th><th scope=col>3</th><th scope=col>4</th><th scope=col>5</th><th scope=col>6</th><th scope=col>7</th></tr>\n",
       "\t<tr><th></th><th scope=col>&lt;chr&gt;</th><th scope=col>&lt;dbl&gt;</th><th scope=col>&lt;dbl&gt;</th><th scope=col>&lt;dbl&gt;</th><th scope=col>&lt;dbl&gt;</th><th scope=col>&lt;dbl&gt;</th><th scope=col>&lt;dbl&gt;</th></tr>\n",
       "</thead>\n",
       "<tbody>\n",
       "\t<tr><th scope=row>1</th><td>Anti-Correlation</td><td>0.81990090</td><td>0.75408807</td><td>0.39797401</td><td>0.25359699</td><td>0.18559107</td><td>0.11722128</td></tr>\n",
       "\t<tr><th scope=row>2</th><td>Cons_Thr        </td><td>0.06437651</td><td>0.04139635</td><td>0.02933455</td><td>0.04333849</td><td>0.03520107</td><td>0.03269999</td></tr>\n",
       "\t<tr><th scope=row>3</th><td>Consensus       </td><td>0.33978195</td><td>0.52717608</td><td>0.67047250</td><td>0.73361771</td><td>0.63257667</td><td>0.40088851</td></tr>\n",
       "\t<tr><th scope=row>4</th><td>MeanInf         </td><td>0.13761668</td><td>0.20379717</td><td>0.25911317</td><td>0.27889680</td><td>0.26141513</td><td>0.09646919</td></tr>\n",
       "\t<tr><th scope=row>5</th><td>MeanInf0        </td><td>0.05133361</td><td>0.04712960</td><td>0.04976129</td><td>0.04956418</td><td>0.05056437</td><td>0.05145179</td></tr>\n",
       "</tbody>\n",
       "</table>\n"
      ],
      "text/latex": [
       "A cast\\_df: 5 × 7\n",
       "\\begin{tabular}{r|lllllll}\n",
       "  & type & 2 & 3 & 4 & 5 & 6 & 7\\\\\n",
       "  & <chr> & <dbl> & <dbl> & <dbl> & <dbl> & <dbl> & <dbl>\\\\\n",
       "\\hline\n",
       "\t1 & Anti-Correlation & 0.81990090 & 0.75408807 & 0.39797401 & 0.25359699 & 0.18559107 & 0.11722128\\\\\n",
       "\t2 & Cons\\_Thr         & 0.06437651 & 0.04139635 & 0.02933455 & 0.04333849 & 0.03520107 & 0.03269999\\\\\n",
       "\t3 & Consensus        & 0.33978195 & 0.52717608 & 0.67047250 & 0.73361771 & 0.63257667 & 0.40088851\\\\\n",
       "\t4 & MeanInf          & 0.13761668 & 0.20379717 & 0.25911317 & 0.27889680 & 0.26141513 & 0.09646919\\\\\n",
       "\t5 & MeanInf0         & 0.05133361 & 0.04712960 & 0.04976129 & 0.04956418 & 0.05056437 & 0.05145179\\\\\n",
       "\\end{tabular}\n"
      ],
      "text/markdown": [
       "\n",
       "A cast_df: 5 × 7\n",
       "\n",
       "| <!--/--> | type &lt;chr&gt; | 2 &lt;dbl&gt; | 3 &lt;dbl&gt; | 4 &lt;dbl&gt; | 5 &lt;dbl&gt; | 6 &lt;dbl&gt; | 7 &lt;dbl&gt; |\n",
       "|---|---|---|---|---|---|---|---|\n",
       "| 1 | Anti-Correlation | 0.81990090 | 0.75408807 | 0.39797401 | 0.25359699 | 0.18559107 | 0.11722128 |\n",
       "| 2 | Cons_Thr         | 0.06437651 | 0.04139635 | 0.02933455 | 0.04333849 | 0.03520107 | 0.03269999 |\n",
       "| 3 | Consensus        | 0.33978195 | 0.52717608 | 0.67047250 | 0.73361771 | 0.63257667 | 0.40088851 |\n",
       "| 4 | MeanInf          | 0.13761668 | 0.20379717 | 0.25911317 | 0.27889680 | 0.26141513 | 0.09646919 |\n",
       "| 5 | MeanInf0         | 0.05133361 | 0.04712960 | 0.04976129 | 0.04956418 | 0.05056437 | 0.05145179 |\n",
       "\n"
      ],
      "text/plain": [
       "  type             2          3          4          5          6         \n",
       "1 Anti-Correlation 0.81990090 0.75408807 0.39797401 0.25359699 0.18559107\n",
       "2 Cons_Thr         0.06437651 0.04139635 0.02933455 0.04333849 0.03520107\n",
       "3 Consensus        0.33978195 0.52717608 0.67047250 0.73361771 0.63257667\n",
       "4 MeanInf          0.13761668 0.20379717 0.25911317 0.27889680 0.26141513\n",
       "5 MeanInf0         0.05133361 0.04712960 0.04976129 0.04956418 0.05056437\n",
       "  7         \n",
       "1 0.11722128\n",
       "2 0.03269999\n",
       "3 0.40088851\n",
       "4 0.09646919\n",
       "5 0.05145179"
      ]
     },
     "metadata": {},
     "output_type": "display_data"
    },
    {
     "data": {
      "text/html": [
       "<table class=\"dataframe\">\n",
       "<caption>A cast_df: 5 × 7</caption>\n",
       "<thead>\n",
       "\t<tr><th></th><th scope=col>type</th><th scope=col>2</th><th scope=col>3</th><th scope=col>4</th><th scope=col>5</th><th scope=col>6</th><th scope=col>7</th></tr>\n",
       "\t<tr><th></th><th scope=col>&lt;chr&gt;</th><th scope=col>&lt;dbl&gt;</th><th scope=col>&lt;dbl&gt;</th><th scope=col>&lt;dbl&gt;</th><th scope=col>&lt;dbl&gt;</th><th scope=col>&lt;dbl&gt;</th><th scope=col>&lt;dbl&gt;</th></tr>\n",
       "</thead>\n",
       "<tbody>\n",
       "\t<tr><th scope=row>1</th><td>Anti-Correlation</td><td>1.195784</td><td>0.7347634</td><td>0.3867849</td><td>0.2087373</td><td>0.1546110</td><td>0.23226802</td></tr>\n",
       "\t<tr><th scope=row>2</th><td>Cons_Thr        </td><td>6.136252</td><td>4.3458001</td><td>3.1042970</td><td>3.0096167</td><td>2.6058112</td><td>0.38284302</td></tr>\n",
       "\t<tr><th scope=row>3</th><td>Consensus       </td><td>1.850865</td><td>1.1564265</td><td>0.7659418</td><td>0.5630038</td><td>0.4679548</td><td>0.09205667</td></tr>\n",
       "\t<tr><th scope=row>4</th><td>MeanInf         </td><td>1.612241</td><td>0.9052228</td><td>0.6462205</td><td>0.4993624</td><td>0.3998120</td><td>0.13706859</td></tr>\n",
       "\t<tr><th scope=row>5</th><td>MeanInf0        </td><td>1.663708</td><td>0.7448687</td><td>0.4482829</td><td>0.3086748</td><td>0.2431946</td><td>0.10107780</td></tr>\n",
       "</tbody>\n",
       "</table>\n"
      ],
      "text/latex": [
       "A cast\\_df: 5 × 7\n",
       "\\begin{tabular}{r|lllllll}\n",
       "  & type & 2 & 3 & 4 & 5 & 6 & 7\\\\\n",
       "  & <chr> & <dbl> & <dbl> & <dbl> & <dbl> & <dbl> & <dbl>\\\\\n",
       "\\hline\n",
       "\t1 & Anti-Correlation & 1.195784 & 0.7347634 & 0.3867849 & 0.2087373 & 0.1546110 & 0.23226802\\\\\n",
       "\t2 & Cons\\_Thr         & 6.136252 & 4.3458001 & 3.1042970 & 3.0096167 & 2.6058112 & 0.38284302\\\\\n",
       "\t3 & Consensus        & 1.850865 & 1.1564265 & 0.7659418 & 0.5630038 & 0.4679548 & 0.09205667\\\\\n",
       "\t4 & MeanInf          & 1.612241 & 0.9052228 & 0.6462205 & 0.4993624 & 0.3998120 & 0.13706859\\\\\n",
       "\t5 & MeanInf0         & 1.663708 & 0.7448687 & 0.4482829 & 0.3086748 & 0.2431946 & 0.10107780\\\\\n",
       "\\end{tabular}\n"
      ],
      "text/markdown": [
       "\n",
       "A cast_df: 5 × 7\n",
       "\n",
       "| <!--/--> | type &lt;chr&gt; | 2 &lt;dbl&gt; | 3 &lt;dbl&gt; | 4 &lt;dbl&gt; | 5 &lt;dbl&gt; | 6 &lt;dbl&gt; | 7 &lt;dbl&gt; |\n",
       "|---|---|---|---|---|---|---|---|\n",
       "| 1 | Anti-Correlation | 1.195784 | 0.7347634 | 0.3867849 | 0.2087373 | 0.1546110 | 0.23226802 |\n",
       "| 2 | Cons_Thr         | 6.136252 | 4.3458001 | 3.1042970 | 3.0096167 | 2.6058112 | 0.38284302 |\n",
       "| 3 | Consensus        | 1.850865 | 1.1564265 | 0.7659418 | 0.5630038 | 0.4679548 | 0.09205667 |\n",
       "| 4 | MeanInf          | 1.612241 | 0.9052228 | 0.6462205 | 0.4993624 | 0.3998120 | 0.13706859 |\n",
       "| 5 | MeanInf0         | 1.663708 | 0.7448687 | 0.4482829 | 0.3086748 | 0.2431946 | 0.10107780 |\n",
       "\n"
      ],
      "text/plain": [
       "  type             2        3         4         5         6         7         \n",
       "1 Anti-Correlation 1.195784 0.7347634 0.3867849 0.2087373 0.1546110 0.23226802\n",
       "2 Cons_Thr         6.136252 4.3458001 3.1042970 3.0096167 2.6058112 0.38284302\n",
       "3 Consensus        1.850865 1.1564265 0.7659418 0.5630038 0.4679548 0.09205667\n",
       "4 MeanInf          1.612241 0.9052228 0.6462205 0.4993624 0.3998120 0.13706859\n",
       "5 MeanInf0         1.663708 0.7448687 0.4482829 0.3086748 0.2431946 0.10107780"
      ]
     },
     "metadata": {},
     "output_type": "display_data"
    }
   ],
   "source": [
    "reshape::cast(dfChild %>% filter(depth!=1) %>% group_by(type, depth), type~depth, value=\"infRV\", median)\n",
    "reshape::cast(dfChild %>% filter(depth!=1, le0 > 0) %>% group_by(type, depth), type~depth, value=\"infRV\", median)\n",
    "reshape::cast(dfChild %>% filter(depth!=1, le0 < 0) %>% group_by(type, depth), type~depth, value=\"infRV\", median)"
   ]
  },
  {
   "cell_type": "markdown",
   "id": "75fd9a12",
   "metadata": {},
   "source": [
    "The whole point of this analysis is to see why anti-correlation does good especially compared to consensus in terms of absoulte infRV but does not do well in reduction. A hypothesis was that the infRV will be lower if the children have low infRV in the first place. Looking at the global picture (all nodes) it seems that is not the case especially at smaller levels. However, after looking at the children of only those nodes that have a reduction in infRV we see that this is the case barring level 7. MeanInf0 is only doing slightly better than anti-correlation later down the tree.\n",
    "sss\n",
    "We know for sure since we are merging everything many collapses will/should be bad. However, this is reflected only in consensus and meanInf to some extent. How should we say that **meanInf0** is actually better. It thus well at level 2 but not sure up above. Consensus sucks for nodes where there is no reductions.\n",
    "\n",
    "We need to understand at the end if the end goal is some tree climbing algorithm then it should navigate the hitbacks."
   ]
  },
  {
   "cell_type": "markdown",
   "id": "f57d2ab4",
   "metadata": {},
   "source": [
    "#### Proportion of nodes at different levels that have net reduction in infRV > 0"
   ]
  },
  {
   "cell_type": "code",
   "execution_count": 4,
   "id": "727db468",
   "metadata": {},
   "outputs": [
    {
     "data": {
      "text/html": [
       "<table class=\"dataframe\">\n",
       "<caption>A cast_df: 5 × 7</caption>\n",
       "<thead>\n",
       "\t<tr><th></th><th scope=col>type</th><th scope=col>2</th><th scope=col>3</th><th scope=col>4</th><th scope=col>5</th><th scope=col>6</th><th scope=col>7</th></tr>\n",
       "\t<tr><th></th><th scope=col>&lt;chr&gt;</th><th scope=col>&lt;dbl&gt;</th><th scope=col>&lt;dbl&gt;</th><th scope=col>&lt;dbl&gt;</th><th scope=col>&lt;dbl&gt;</th><th scope=col>&lt;dbl&gt;</th><th scope=col>&lt;dbl&gt;</th></tr>\n",
       "</thead>\n",
       "<tbody>\n",
       "\t<tr><th scope=row>1</th><td>Anti-Correlation</td><td>0.18715117</td><td>0.14131197</td><td>0.12537218</td><td>0.13811543</td><td>0.15560567</td><td>0.18700000</td></tr>\n",
       "\t<tr><th scope=row>2</th><td>Cons_Thr        </td><td>0.07812343</td><td>0.03778536</td><td>0.03607333</td><td>0.03938115</td><td>0.03915663</td><td>0.05902778</td></tr>\n",
       "\t<tr><th scope=row>3</th><td>Consensus       </td><td>0.45788896</td><td>0.43020685</td><td>0.38065155</td><td>0.34331452</td><td>0.30037017</td><td>0.21427738</td></tr>\n",
       "\t<tr><th scope=row>4</th><td>MeanInf         </td><td>0.28041577</td><td>0.26202008</td><td>0.25211984</td><td>0.24001292</td><td>0.23099872</td><td>0.22623682</td></tr>\n",
       "\t<tr><th scope=row>5</th><td>MeanInf0        </td><td>0.04449868</td><td>0.05847387</td><td>0.07712418</td><td>0.09404537</td><td>0.11754967</td><td>0.21032571</td></tr>\n",
       "</tbody>\n",
       "</table>\n"
      ],
      "text/latex": [
       "A cast\\_df: 5 × 7\n",
       "\\begin{tabular}{r|lllllll}\n",
       "  & type & 2 & 3 & 4 & 5 & 6 & 7\\\\\n",
       "  & <chr> & <dbl> & <dbl> & <dbl> & <dbl> & <dbl> & <dbl>\\\\\n",
       "\\hline\n",
       "\t1 & Anti-Correlation & 0.18715117 & 0.14131197 & 0.12537218 & 0.13811543 & 0.15560567 & 0.18700000\\\\\n",
       "\t2 & Cons\\_Thr         & 0.07812343 & 0.03778536 & 0.03607333 & 0.03938115 & 0.03915663 & 0.05902778\\\\\n",
       "\t3 & Consensus        & 0.45788896 & 0.43020685 & 0.38065155 & 0.34331452 & 0.30037017 & 0.21427738\\\\\n",
       "\t4 & MeanInf          & 0.28041577 & 0.26202008 & 0.25211984 & 0.24001292 & 0.23099872 & 0.22623682\\\\\n",
       "\t5 & MeanInf0         & 0.04449868 & 0.05847387 & 0.07712418 & 0.09404537 & 0.11754967 & 0.21032571\\\\\n",
       "\\end{tabular}\n"
      ],
      "text/markdown": [
       "\n",
       "A cast_df: 5 × 7\n",
       "\n",
       "| <!--/--> | type &lt;chr&gt; | 2 &lt;dbl&gt; | 3 &lt;dbl&gt; | 4 &lt;dbl&gt; | 5 &lt;dbl&gt; | 6 &lt;dbl&gt; | 7 &lt;dbl&gt; |\n",
       "|---|---|---|---|---|---|---|---|\n",
       "| 1 | Anti-Correlation | 0.18715117 | 0.14131197 | 0.12537218 | 0.13811543 | 0.15560567 | 0.18700000 |\n",
       "| 2 | Cons_Thr         | 0.07812343 | 0.03778536 | 0.03607333 | 0.03938115 | 0.03915663 | 0.05902778 |\n",
       "| 3 | Consensus        | 0.45788896 | 0.43020685 | 0.38065155 | 0.34331452 | 0.30037017 | 0.21427738 |\n",
       "| 4 | MeanInf          | 0.28041577 | 0.26202008 | 0.25211984 | 0.24001292 | 0.23099872 | 0.22623682 |\n",
       "| 5 | MeanInf0         | 0.04449868 | 0.05847387 | 0.07712418 | 0.09404537 | 0.11754967 | 0.21032571 |\n",
       "\n"
      ],
      "text/plain": [
       "  type             2          3          4          5          6         \n",
       "1 Anti-Correlation 0.18715117 0.14131197 0.12537218 0.13811543 0.15560567\n",
       "2 Cons_Thr         0.07812343 0.03778536 0.03607333 0.03938115 0.03915663\n",
       "3 Consensus        0.45788896 0.43020685 0.38065155 0.34331452 0.30037017\n",
       "4 MeanInf          0.28041577 0.26202008 0.25211984 0.24001292 0.23099872\n",
       "5 MeanInf0         0.04449868 0.05847387 0.07712418 0.09404537 0.11754967\n",
       "  7         \n",
       "1 0.18700000\n",
       "2 0.05902778\n",
       "3 0.21427738\n",
       "4 0.22623682\n",
       "5 0.21032571"
      ]
     },
     "metadata": {},
     "output_type": "display_data"
    }
   ],
   "source": [
    "f <- function(m) {\n",
    "    mean(m>0)\n",
    "}\n",
    "reshape::cast(dfInfRV %>% filter(depth!=1) %>% group_by(type, modDep), type~modDep, value=\"redInfRV\", fun.aggregate = f)"
   ]
  },
  {
   "cell_type": "code",
   "execution_count": null,
   "id": "c1714a1f",
   "metadata": {},
   "outputs": [],
   "source": []
  }
 ],
 "metadata": {
  "kernelspec": {
   "display_name": "R",
   "language": "R",
   "name": "ir"
  },
  "language_info": {
   "codemirror_mode": "r",
   "file_extension": ".r",
   "mimetype": "text/x-r-source",
   "name": "R",
   "pygments_lexer": "r",
   "version": "4.1.1"
  }
 },
 "nbformat": 4,
 "nbformat_minor": 5
}
