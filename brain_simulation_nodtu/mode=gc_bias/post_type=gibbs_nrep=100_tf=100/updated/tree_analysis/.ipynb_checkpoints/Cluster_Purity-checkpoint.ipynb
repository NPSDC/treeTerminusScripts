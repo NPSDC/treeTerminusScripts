{
 "cells": [
  {
   "cell_type": "code",
   "execution_count": 2,
   "id": "5d2f6165",
   "metadata": {},
   "outputs": [],
   "source": [
    "load(\"environment/brain_sim_nodtu/mode=gc_bias/mapDf.RData\")\n",
    "load(\"environment/brain_sim_nodtu/mode=gc_bias/post_type=gibbs_nrep=100_tf=100/tree.RData\")"
   ]
  },
  {
   "cell_type": "code",
   "execution_count": 3,
   "id": "c81dcbe0",
   "metadata": {},
   "outputs": [],
   "source": [
    "node <- length(tree$tip)+1\n",
    "genes <- mapDf[Descendants(tree, node)[[1]],1]"
   ]
  },
  {
   "cell_type": "code",
   "execution_count": 4,
   "id": "3e640b8f",
   "metadata": {},
   "outputs": [
    {
     "data": {
      "text/html": [
       "129605"
      ],
      "text/latex": [
       "129605"
      ],
      "text/markdown": [
       "129605"
      ],
      "text/plain": [
       "[1] 129605"
      ]
     },
     "metadata": {},
     "output_type": "display_data"
    }
   ],
   "source": [
    "tt <- table)"
   ]
  },
  {
   "cell_type": "code",
   "execution_count": null,
   "id": "b126a175",
   "metadata": {},
   "outputs": [],
   "source": []
  }
 ],
 "metadata": {
  "kernelspec": {
   "display_name": "R",
   "language": "R",
   "name": "ir"
  },
  "language_info": {
   "codemirror_mode": "r",
   "file_extension": ".r",
   "mimetype": "text/x-r-source",
   "name": "R",
   "pygments_lexer": "r",
   "version": "4.1.1"
  }
 },
 "nbformat": 4,
 "nbformat_minor": 5
}
