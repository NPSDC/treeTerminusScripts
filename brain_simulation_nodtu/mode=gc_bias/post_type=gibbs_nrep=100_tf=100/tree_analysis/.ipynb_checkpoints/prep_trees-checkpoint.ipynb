{
 "cells": [
  {
   "cell_type": "markdown",
   "id": "27ba1dc9",
   "metadata": {},
   "source": [
    "#### Loading Data"
   ]
  },
  {
   "cell_type": "code",
   "execution_count": 1,
   "id": "14cb5599",
   "metadata": {},
   "outputs": [],
   "source": [
    "setwd('/fs/cbcb-lab/rob/students/noor/Uncertainity/treeTerminusScripts')\n",
    "suppressPackageStartupMessages(source(\"brain_simulation_nodtu/mode=gc_bias/post_type=gibbs_nrep=100_tf=100/tree_analysis/tree_filter.R\"))\n",
    "suppressPackageStartupMessages(source(\"tree_helper_function.R\"))\n",
    "suppressPackageStartupMessages(library(ggplot2))\n",
    "suppressPackageStartupMessages(library(ggpubr))\n",
    "suppressPackageStartupMessages(library(dplyr))\n",
    "# load(\"environment/brain_sim_nodtu_lowfc/mode=gc_bias/post_type=gibbs_nrep=100_tf=100/seBrainSim.RData\")\n",
    "load(\"environment/brain_sim_nodtu/mode=gc_bias/mapDf.RData\")\n",
    "# load(\"environment/brain_sim_nodtu_lowfc/mode=gc_bias/post_type=gibbs_nrep=100_tf=100/comp_trees/trMeanCorUPGMANorm.RData\")"
   ]
  },
  {
   "cell_type": "markdown",
   "id": "51dc865a",
   "metadata": {},
   "source": [
    "#### Reading all the nwk files for the trees"
   ]
  },
  {
   "cell_type": "code",
   "execution_count": 2,
   "id": "339d7974",
   "metadata": {},
   "outputs": [],
   "source": [
    "dir <- \"/fs/cbcb-lab/rob/students/noor/Uncertainity/brain_sim_nodtu_lowfc/mode=gc_bias/post_type=gibbs_nrep=100_tf=100/terminus/\"\n",
    "save_dir <- \"environment/brain_sim_nodtu_lowfc/mode=gc_bias/post_type=gibbs_nrep=100_tf=100/comp_trees\"\n",
    "treesCons0 <- read.tree(file.path(dir, \"no_threshold0\", \"cluster_nwk.txt\"))\n",
    "txpsCons0 <- rownames(seBrainSim)[as.numeric(unlist(lapply(treesCons0, function(tr) tr$tip)))+1]\n",
    "\n",
    "treesCons <- read.tree(file.path(dir, \"no_threshold\", \"cluster_nwk.txt\"))\n",
    "txpsCons <- rownames(seBrainSim)[as.numeric(unlist(lapply(treesCons, function(tr) tr$tip)))+1]\n",
    "\n",
    "treesMeanInf0 <- read.tree(file.path(dir, \"no_threshold_meaninf_0\", \"group_nwk.txt\"))\n",
    "txpsMeanInf0 <- rownames(seBrainSim)[as.numeric(unlist(lapply(treesMeanInf0, function(tr) tr$tip)))+1]\n",
    "\n",
    "treesThr <- read.tree(file.path(dir, \"threshold\", \"cluster_nwk.txt\"))\n",
    "txpsThr <- rownames(seBrainSim)[as.numeric(unlist(lapply(treesThr, function(tr) tr$tip)))+1]\n",
    "                                                       \n",
    "groupsThr <- read.delim(file.path(dir, \"old\", \"1_1\", \"clusters.txt\"), header = F)\n",
    "txpsOld <- unlist(sapply(strsplit(groupsThr$V1, split=\",\", fixed=T), function(x) x[2:length(x)]))\n",
    "# txpsOld <- gsub(\"\\\\.[0-9]+\", \"\", txpsOld)\n",
    "txpsCor <- trMeanCorUPGMANorm$tip"
   ]
  },
  {
   "cell_type": "code",
   "execution_count": 4,
   "id": "d12ffe25",
   "metadata": {},
   "outputs": [],
   "source": [
    "se <- labelKeep(seBrainSim)"
   ]
  },
  {
   "cell_type": "code",
   "execution_count": 5,
   "id": "f326c962",
   "metadata": {},
   "outputs": [
    {
     "data": {
      "text/html": [
       "26891"
      ],
      "text/latex": [
       "26891"
      ],
      "text/markdown": [
       "26891"
      ],
      "text/plain": [
       "[1] 26891"
      ]
     },
     "metadata": {},
     "output_type": "display_data"
    },
    {
     "data": {
      "text/html": [
       "13730"
      ],
      "text/latex": [
       "13730"
      ],
      "text/markdown": [
       "13730"
      ],
      "text/plain": [
       "[1] 13730"
      ]
     },
     "metadata": {},
     "output_type": "display_data"
    },
    {
     "data": {
      "text/html": [
       "135208"
      ],
      "text/latex": [
       "135208"
      ],
      "text/markdown": [
       "135208"
      ],
      "text/plain": [
       "[1] 135208"
      ]
     },
     "metadata": {},
     "output_type": "display_data"
    },
    {
     "data": {
      "text/html": [
       "134371"
      ],
      "text/latex": [
       "134371"
      ],
      "text/markdown": [
       "134371"
      ],
      "text/plain": [
       "[1] 134371"
      ]
     },
     "metadata": {},
     "output_type": "display_data"
    },
    {
     "data": {
      "text/html": [
       "121657"
      ],
      "text/latex": [
       "121657"
      ],
      "text/markdown": [
       "121657"
      ],
      "text/plain": [
       "[1] 121657"
      ]
     },
     "metadata": {},
     "output_type": "display_data"
    },
    {
     "data": {
      "text/html": [
       "73493"
      ],
      "text/latex": [
       "73493"
      ],
      "text/markdown": [
       "73493"
      ],
      "text/plain": [
       "[1] 73493"
      ]
     },
     "metadata": {},
     "output_type": "display_data"
    },
    {
     "data": {
      "text/html": [
       "62767"
      ],
      "text/latex": [
       "62767"
      ],
      "text/markdown": [
       "62767"
      ],
      "text/plain": [
       "[1] 62767"
      ]
     },
     "metadata": {},
     "output_type": "display_data"
    }
   ],
   "source": [
    "length(txpsThr)\n",
    "length(txpsOld)\n",
    "length(txpsMeanInf0)\n",
    "length(txpsCons0)\n",
    "length(txpsCons)\n",
    "length(txpsCor)\n",
    "length(rownames(se)[mcols(se)[[\"keep\"]]])"
   ]
  },
  {
   "cell_type": "code",
   "execution_count": 6,
   "id": "fe0fe1db",
   "metadata": {},
   "outputs": [
    {
     "data": {
      "text/html": [
       "139620"
      ],
      "text/latex": [
       "139620"
      ],
      "text/markdown": [
       "139620"
      ],
      "text/plain": [
       "[1] 139620"
      ]
     },
     "metadata": {},
     "output_type": "display_data"
    }
   ],
   "source": [
    "txpsAll <- Reduce(union,list(txpsCons0, txpsCons, txpsThr, txpsMeanInf0, txpsOld, txpsCor, rownames(se)[mcols(se)[[\"keep\"]]]))\n",
    "length(txpsAll)\n",
    "seBrainSimScaled <- scaleInfReps(seBrainSim)"
   ]
  },
  {
   "cell_type": "code",
   "execution_count": null,
   "id": "953d5794",
   "metadata": {},
   "outputs": [],
   "source": [
    "trMeanCorUPGMANorm"
   ]
  },
  {
   "cell_type": "code",
   "execution_count": null,
   "id": "1d69e07e",
   "metadata": {},
   "outputs": [],
   "source": [
    "seBrainSimScaled <- seBrainSimNorm\n",
    "rm(seBrainSimNorm)\n",
    "gc()"
   ]
  },
  {
   "cell_type": "code",
   "execution_count": 21,
   "id": "3e95de06",
   "metadata": {},
   "outputs": [
    {
     "name": "stdout",
     "output_type": "stream",
     "text": [
      "[1] \"Missing txps 17963\"\n"
     ]
    },
    {
     "data": {
      "text/html": [
       "<table class=\"dataframe\">\n",
       "<caption>A matrix: 2 × 6 of type dbl</caption>\n",
       "<thead>\n",
       "\t<tr><th></th><th scope=col>used</th><th scope=col>(Mb)</th><th scope=col>gc trigger</th><th scope=col>(Mb)</th><th scope=col>max used</th><th scope=col>(Mb)</th></tr>\n",
       "</thead>\n",
       "<tbody>\n",
       "\t<tr><th scope=row>Ncells</th><td> 10990065</td><td> 587.0</td><td>  17712615</td><td> 946.0</td><td> 17712615</td><td> 946.0</td></tr>\n",
       "\t<tr><th scope=row>Vcells</th><td>716092344</td><td>5463.4</td><td>1182596601</td><td>9022.5</td><td>913972397</td><td>6973.1</td></tr>\n",
       "</tbody>\n",
       "</table>\n"
      ],
      "text/latex": [
       "A matrix: 2 × 6 of type dbl\n",
       "\\begin{tabular}{r|llllll}\n",
       "  & used & (Mb) & gc trigger & (Mb) & max used & (Mb)\\\\\n",
       "\\hline\n",
       "\tNcells &  10990065 &  587.0 &   17712615 &  946.0 &  17712615 &  946.0\\\\\n",
       "\tVcells & 716092344 & 5463.4 & 1182596601 & 9022.5 & 913972397 & 6973.1\\\\\n",
       "\\end{tabular}\n"
      ],
      "text/markdown": [
       "\n",
       "A matrix: 2 × 6 of type dbl\n",
       "\n",
       "| <!--/--> | used | (Mb) | gc trigger | (Mb) | max used | (Mb) |\n",
       "|---|---|---|---|---|---|---|\n",
       "| Ncells |  10990065 |  587.0 |   17712615 |  946.0 |  17712615 |  946.0 |\n",
       "| Vcells | 716092344 | 5463.4 | 1182596601 | 9022.5 | 913972397 | 6973.1 |\n",
       "\n"
      ],
      "text/plain": [
       "       used      (Mb)   gc trigger (Mb)   max used  (Mb)  \n",
       "Ncells  10990065  587.0   17712615  946.0  17712615  946.0\n",
       "Vcells 716092344 5463.4 1182596601 9022.5 913972397 6973.1"
      ]
     },
     "metadata": {},
     "output_type": "display_data"
    },
    {
     "data": {
      "text/html": [
       "0"
      ],
      "text/latex": [
       "0"
      ],
      "text/markdown": [
       "0"
      ],
      "text/plain": [
       "[1] 0"
      ]
     },
     "metadata": {},
     "output_type": "display_data"
    },
    {
     "data": {
      "text/html": [
       "<table class=\"dataframe\">\n",
       "<caption>A matrix: 2 × 6 of type dbl</caption>\n",
       "<thead>\n",
       "\t<tr><th></th><th scope=col>used</th><th scope=col>(Mb)</th><th scope=col>gc trigger</th><th scope=col>(Mb)</th><th scope=col>max used</th><th scope=col>(Mb)</th></tr>\n",
       "</thead>\n",
       "<tbody>\n",
       "\t<tr><th scope=row>Ncells</th><td>  11051491</td><td>  590.3</td><td>  25567365</td><td> 1365.5</td><td>  25567365</td><td> 1365.5</td></tr>\n",
       "\t<tr><th scope=row>Vcells</th><td>1319388368</td><td>10066.2</td><td>2452661751</td><td>18712.4</td><td>2452643059</td><td>18712.2</td></tr>\n",
       "</tbody>\n",
       "</table>\n"
      ],
      "text/latex": [
       "A matrix: 2 × 6 of type dbl\n",
       "\\begin{tabular}{r|llllll}\n",
       "  & used & (Mb) & gc trigger & (Mb) & max used & (Mb)\\\\\n",
       "\\hline\n",
       "\tNcells &   11051491 &   590.3 &   25567365 &  1365.5 &   25567365 &  1365.5\\\\\n",
       "\tVcells & 1319388368 & 10066.2 & 2452661751 & 18712.4 & 2452643059 & 18712.2\\\\\n",
       "\\end{tabular}\n"
      ],
      "text/markdown": [
       "\n",
       "A matrix: 2 × 6 of type dbl\n",
       "\n",
       "| <!--/--> | used | (Mb) | gc trigger | (Mb) | max used | (Mb) |\n",
       "|---|---|---|---|---|---|---|\n",
       "| Ncells |   11051491 |   590.3 |   25567365 |  1365.5 |   25567365 |  1365.5 |\n",
       "| Vcells | 1319388368 | 10066.2 | 2452661751 | 18712.4 | 2452643059 | 18712.2 |\n",
       "\n"
      ],
      "text/plain": [
       "       used       (Mb)    gc trigger (Mb)    max used   (Mb)   \n",
       "Ncells   11051491   590.3   25567365  1365.5   25567365  1365.5\n",
       "Vcells 1319388368 10066.2 2452661751 18712.4 2452643059 18712.2"
      ]
     },
     "metadata": {},
     "output_type": "display_data"
    }
   ],
   "source": [
    "treeCons <- mergeTree(treesCons, se = mapDf)\n",
    "mb <- mergeLeaves(treeCons, seBrainSim[txpsAll,])\n",
    "treeCons <- mb[[\"tree\"]]\n",
    "yConsNS <- mb[[\"ySwish\"]]\n",
    "rm(mb)\n",
    "gc()\n",
    "sum(rownames(yConsNS) != treeCons$tip)\n",
    "yAggConsNS <- prepSwish(treeCons, seBrainSim[treeCons$tip,])\n",
    "yAggConsNS <- fishpond::computeInfRV(yAggConsNS, meanVariance=F)\n",
    "yAggCons <- prepSwish(treeCons, seBrainSimScaled[treeCons$tip,])\n",
    "infReps <- assays(yAggCons)[grep(\"infRep\", assayNames(yAggCons))]\n",
    "infReps <- abind::abind(as.list(infReps), along = 3)\n",
    "mcols(yAggConsNS)[[\"LFC\"]] <- getLog2FC(infReps, colData(yAggCons)[[\"condition\"]])\n",
    "rm(yAggCons)\n",
    "gc()\n",
    "save(yAggConsNS, file=file.path(save_dir, \"yAggConsNS.RData\"))\n",
    "save(treeCons, file=file.path(save_dir, \"treeCons.RData\"))"
   ]
  },
  {
   "cell_type": "markdown",
   "id": "173d541e",
   "metadata": {},
   "source": [
    "#### Consensus Tree 0"
   ]
  },
  {
   "cell_type": "code",
   "execution_count": 22,
   "id": "1dc970eb",
   "metadata": {},
   "outputs": [
    {
     "name": "stdout",
     "output_type": "stream",
     "text": [
      "[1] \"Missing txps 5249\"\n"
     ]
    },
    {
     "data": {
      "text/html": [
       "<table class=\"dataframe\">\n",
       "<caption>A matrix: 2 × 6 of type dbl</caption>\n",
       "<thead>\n",
       "\t<tr><th></th><th scope=col>used</th><th scope=col>(Mb)</th><th scope=col>gc trigger</th><th scope=col>(Mb)</th><th scope=col>max used</th><th scope=col>(Mb)</th></tr>\n",
       "</thead>\n",
       "<tbody>\n",
       "\t<tr><th scope=row>Ncells</th><td>  11052943</td><td>  590.3</td><td>  25567365</td><td> 1365.5</td><td>  25567365</td><td> 1365.5</td></tr>\n",
       "\t<tr><th scope=row>Vcells</th><td>1507585214</td><td>11502.0</td><td>2452661751</td><td>18712.4</td><td>2452643059</td><td>18712.2</td></tr>\n",
       "</tbody>\n",
       "</table>\n"
      ],
      "text/latex": [
       "A matrix: 2 × 6 of type dbl\n",
       "\\begin{tabular}{r|llllll}\n",
       "  & used & (Mb) & gc trigger & (Mb) & max used & (Mb)\\\\\n",
       "\\hline\n",
       "\tNcells &   11052943 &   590.3 &   25567365 &  1365.5 &   25567365 &  1365.5\\\\\n",
       "\tVcells & 1507585214 & 11502.0 & 2452661751 & 18712.4 & 2452643059 & 18712.2\\\\\n",
       "\\end{tabular}\n"
      ],
      "text/markdown": [
       "\n",
       "A matrix: 2 × 6 of type dbl\n",
       "\n",
       "| <!--/--> | used | (Mb) | gc trigger | (Mb) | max used | (Mb) |\n",
       "|---|---|---|---|---|---|---|\n",
       "| Ncells |   11052943 |   590.3 |   25567365 |  1365.5 |   25567365 |  1365.5 |\n",
       "| Vcells | 1507585214 | 11502.0 | 2452661751 | 18712.4 | 2452643059 | 18712.2 |\n",
       "\n"
      ],
      "text/plain": [
       "       used       (Mb)    gc trigger (Mb)    max used   (Mb)   \n",
       "Ncells   11052943   590.3   25567365  1365.5   25567365  1365.5\n",
       "Vcells 1507585214 11502.0 2452661751 18712.4 2452643059 18712.2"
      ]
     },
     "metadata": {},
     "output_type": "display_data"
    },
    {
     "data": {
      "text/html": [
       "0"
      ],
      "text/latex": [
       "0"
      ],
      "text/markdown": [
       "0"
      ],
      "text/plain": [
       "[1] 0"
      ]
     },
     "metadata": {},
     "output_type": "display_data"
    },
    {
     "data": {
      "text/html": [
       "<table class=\"dataframe\">\n",
       "<caption>A matrix: 2 × 6 of type dbl</caption>\n",
       "<thead>\n",
       "\t<tr><th></th><th scope=col>used</th><th scope=col>(Mb)</th><th scope=col>gc trigger</th><th scope=col>(Mb)</th><th scope=col>max used</th><th scope=col>(Mb)</th></tr>\n",
       "</thead>\n",
       "<tbody>\n",
       "\t<tr><th scope=row>Ncells</th><td>  11074596</td><td>  591.5</td><td>  25567365</td><td> 1365.5</td><td>  25567365</td><td> 1365.5</td></tr>\n",
       "\t<tr><th scope=row>Vcells</th><td>1881895019</td><td>14357.8</td><td>4238490705</td><td>32337.2</td><td>3898448600</td><td>29742.9</td></tr>\n",
       "</tbody>\n",
       "</table>\n"
      ],
      "text/latex": [
       "A matrix: 2 × 6 of type dbl\n",
       "\\begin{tabular}{r|llllll}\n",
       "  & used & (Mb) & gc trigger & (Mb) & max used & (Mb)\\\\\n",
       "\\hline\n",
       "\tNcells &   11074596 &   591.5 &   25567365 &  1365.5 &   25567365 &  1365.5\\\\\n",
       "\tVcells & 1881895019 & 14357.8 & 4238490705 & 32337.2 & 3898448600 & 29742.9\\\\\n",
       "\\end{tabular}\n"
      ],
      "text/markdown": [
       "\n",
       "A matrix: 2 × 6 of type dbl\n",
       "\n",
       "| <!--/--> | used | (Mb) | gc trigger | (Mb) | max used | (Mb) |\n",
       "|---|---|---|---|---|---|---|\n",
       "| Ncells |   11074596 |   591.5 |   25567365 |  1365.5 |   25567365 |  1365.5 |\n",
       "| Vcells | 1881895019 | 14357.8 | 4238490705 | 32337.2 | 3898448600 | 29742.9 |\n",
       "\n"
      ],
      "text/plain": [
       "       used       (Mb)    gc trigger (Mb)    max used   (Mb)   \n",
       "Ncells   11074596   591.5   25567365  1365.5   25567365  1365.5\n",
       "Vcells 1881895019 14357.8 4238490705 32337.2 3898448600 29742.9"
      ]
     },
     "metadata": {},
     "output_type": "display_data"
    }
   ],
   "source": [
    "treeCons0 <- mergeTree(treesCons0, se = mapDf)\n",
    "mb <- mergeLeaves(treeCons0, seBrainSim[txpsAll,])\n",
    "treeCons0 <- mb[[\"tree\"]]\n",
    "yConsNS0 <- mb[[\"ySwish\"]]\n",
    "rm(mb)\n",
    "gc()\n",
    "sum(rownames(yConsNS0) != treeCons0$tip)\n",
    "yAggConsNS0 <- prepSwish(treeCons0, seBrainSim[treeCons0$tip,])\n",
    "yAggConsNS0 <- fishpond::computeInfRV(yAggConsNS0, meanVariance=F)\n",
    "yAggCons0 <- prepSwish(treeCons0, seBrainSimScaled[treeCons0$tip,])\n",
    "\n",
    "infReps <- assays(yAggCons0)[grep(\"infRep\", assayNames(yAggCons0))]\n",
    "infReps <- abind::abind(as.list(infReps), along = 3)\n",
    "mcols(yAggConsNS0)[[\"LFC\"]] <- getLog2FC(infReps, colData(yAggCons0)[[\"condition\"]])\n",
    "rm(yAggCons0)\n",
    "gc()\n",
    "\n",
    "save(yAggConsNS0, file=file.path(save_dir, \"yAggConsNS0.RData\"))\n",
    "save(treeCons0, file=file.path(save_dir, \"treeCons0.RData\"))"
   ]
  },
  {
   "cell_type": "markdown",
   "id": "be968a9d",
   "metadata": {},
   "source": [
    "#### Mean Inf Tree 0"
   ]
  },
  {
   "cell_type": "code",
   "execution_count": 23,
   "id": "3f5afc7e",
   "metadata": {},
   "outputs": [
    {
     "name": "stdout",
     "output_type": "stream",
     "text": [
      "[1] \"Missing txps 4412\"\n"
     ]
    },
    {
     "data": {
      "text/html": [
       "<table class=\"dataframe\">\n",
       "<caption>A matrix: 2 × 6 of type dbl</caption>\n",
       "<thead>\n",
       "\t<tr><th></th><th scope=col>used</th><th scope=col>(Mb)</th><th scope=col>gc trigger</th><th scope=col>(Mb)</th><th scope=col>max used</th><th scope=col>(Mb)</th></tr>\n",
       "</thead>\n",
       "<tbody>\n",
       "\t<tr><th scope=row>Ncells</th><td>  11075376</td><td>  591.5</td><td>  25567365</td><td> 1365.5</td><td>  25567365</td><td> 1365.5</td></tr>\n",
       "\t<tr><th scope=row>Vcells</th><td>2069838573</td><td>15791.7</td><td>4238490705</td><td>32337.2</td><td>3898448600</td><td>29742.9</td></tr>\n",
       "</tbody>\n",
       "</table>\n"
      ],
      "text/latex": [
       "A matrix: 2 × 6 of type dbl\n",
       "\\begin{tabular}{r|llllll}\n",
       "  & used & (Mb) & gc trigger & (Mb) & max used & (Mb)\\\\\n",
       "\\hline\n",
       "\tNcells &   11075376 &   591.5 &   25567365 &  1365.5 &   25567365 &  1365.5\\\\\n",
       "\tVcells & 2069838573 & 15791.7 & 4238490705 & 32337.2 & 3898448600 & 29742.9\\\\\n",
       "\\end{tabular}\n"
      ],
      "text/markdown": [
       "\n",
       "A matrix: 2 × 6 of type dbl\n",
       "\n",
       "| <!--/--> | used | (Mb) | gc trigger | (Mb) | max used | (Mb) |\n",
       "|---|---|---|---|---|---|---|\n",
       "| Ncells |   11075376 |   591.5 |   25567365 |  1365.5 |   25567365 |  1365.5 |\n",
       "| Vcells | 2069838573 | 15791.7 | 4238490705 | 32337.2 | 3898448600 | 29742.9 |\n",
       "\n"
      ],
      "text/plain": [
       "       used       (Mb)    gc trigger (Mb)    max used   (Mb)   \n",
       "Ncells   11075376   591.5   25567365  1365.5   25567365  1365.5\n",
       "Vcells 2069838573 15791.7 4238490705 32337.2 3898448600 29742.9"
      ]
     },
     "metadata": {},
     "output_type": "display_data"
    },
    {
     "data": {
      "text/html": [
       "0"
      ],
      "text/latex": [
       "0"
      ],
      "text/markdown": [
       "0"
      ],
      "text/plain": [
       "[1] 0"
      ]
     },
     "metadata": {},
     "output_type": "display_data"
    },
    {
     "data": {
      "text/html": [
       "<table class=\"dataframe\">\n",
       "<caption>A matrix: 2 × 6 of type dbl</caption>\n",
       "<thead>\n",
       "\t<tr><th></th><th scope=col>used</th><th scope=col>(Mb)</th><th scope=col>gc trigger</th><th scope=col>(Mb)</th><th scope=col>max used</th><th scope=col>(Mb)</th></tr>\n",
       "</thead>\n",
       "<tbody>\n",
       "\t<tr><th scope=row>Ncells</th><td>  11079994</td><td>  591.8</td><td>  25567365</td><td> 1365.5</td><td>  25567365</td><td> 1365.5</td></tr>\n",
       "\t<tr><th scope=row>Vcells</th><td>2428779000</td><td>18530.2</td><td>5086268846</td><td>38805.2</td><td>4475837794</td><td>34148.0</td></tr>\n",
       "</tbody>\n",
       "</table>\n"
      ],
      "text/latex": [
       "A matrix: 2 × 6 of type dbl\n",
       "\\begin{tabular}{r|llllll}\n",
       "  & used & (Mb) & gc trigger & (Mb) & max used & (Mb)\\\\\n",
       "\\hline\n",
       "\tNcells &   11079994 &   591.8 &   25567365 &  1365.5 &   25567365 &  1365.5\\\\\n",
       "\tVcells & 2428779000 & 18530.2 & 5086268846 & 38805.2 & 4475837794 & 34148.0\\\\\n",
       "\\end{tabular}\n"
      ],
      "text/markdown": [
       "\n",
       "A matrix: 2 × 6 of type dbl\n",
       "\n",
       "| <!--/--> | used | (Mb) | gc trigger | (Mb) | max used | (Mb) |\n",
       "|---|---|---|---|---|---|---|\n",
       "| Ncells |   11079994 |   591.8 |   25567365 |  1365.5 |   25567365 |  1365.5 |\n",
       "| Vcells | 2428779000 | 18530.2 | 5086268846 | 38805.2 | 4475837794 | 34148.0 |\n",
       "\n"
      ],
      "text/plain": [
       "       used       (Mb)    gc trigger (Mb)    max used   (Mb)   \n",
       "Ncells   11079994   591.8   25567365  1365.5   25567365  1365.5\n",
       "Vcells 2428779000 18530.2 5086268846 38805.2 4475837794 34148.0"
      ]
     },
     "metadata": {},
     "output_type": "display_data"
    }
   ],
   "source": [
    "treeMeanInf0 <- mergeTree(treesMeanInf0, se = mapDf)\n",
    "mb <- mergeLeaves(treeMeanInf0, seBrainSim[txpsAll,])\n",
    "treeMeanInf0 <- mb[[\"tree\"]]\n",
    "yMeanInfNS0 <- mb[[\"ySwish\"]]\n",
    "rm(mb)\n",
    "gc()\n",
    "sum(rownames(yMeanInfNS0) != treeMeanInf0$tip)\n",
    "\n",
    "yAggMeanInfNS0 <- prepSwish(treeMeanInf0, seBrainSim[treeMeanInf0$tip,])\n",
    "yAggMeanInfNS0 <- fishpond::computeInfRV(yAggMeanInfNS0, meanVariance=F)\n",
    "\n",
    "yAggMeanInf0 <- prepSwish(treeMeanInf0, seBrainSimScaled[treeMeanInf0$tip,])\n",
    "\n",
    "infReps <- assays(yAggMeanInf0)[grep(\"infRep\", assayNames(yAggMeanInf0))]\n",
    "infReps <- abind::abind(as.list(infReps), along = 3)\n",
    "mcols(yAggMeanInfNS0)[[\"LFC\"]] <- getLog2FC(infReps, colData(yAggMeanInf0)[[\"condition\"]])\n",
    "\n",
    "rm(yAggMeanInf0)\n",
    "gc()\n",
    "\n",
    "save(yAggMeanInfNS0, file=file.path(save_dir, \"yAggMeanInfNS0.RData\"))\n",
    "save(treeMeanInf0, file=file.path(save_dir, \"treeMeanInf0.RData\"))"
   ]
  },
  {
   "cell_type": "markdown",
   "id": "af42c0f4",
   "metadata": {},
   "source": [
    "#### Correlation"
   ]
  },
  {
   "cell_type": "code",
   "execution_count": 9,
   "id": "efa8f0db",
   "metadata": {},
   "outputs": [
    {
     "name": "stdout",
     "output_type": "stream",
     "text": [
      "[1] \"Missing txps 66127\"\n"
     ]
    },
    {
     "data": {
      "text/html": [
       "<table class=\"dataframe\">\n",
       "<caption>A matrix: 2 × 6 of type dbl</caption>\n",
       "<thead>\n",
       "\t<tr><th></th><th scope=col>used</th><th scope=col>(Mb)</th><th scope=col>gc trigger</th><th scope=col>(Mb)</th><th scope=col>max used</th><th scope=col>(Mb)</th></tr>\n",
       "</thead>\n",
       "<tbody>\n",
       "\t<tr><th scope=row>Ncells</th><td> 10977069</td><td> 586.3</td><td> 17712615</td><td> 946.0</td><td> 17712615</td><td> 946.0</td></tr>\n",
       "\t<tr><th scope=row>Vcells</th><td>528464632</td><td>4031.9</td><td>985324564</td><td>7517.5</td><td>914602962</td><td>6977.9</td></tr>\n",
       "</tbody>\n",
       "</table>\n"
      ],
      "text/latex": [
       "A matrix: 2 × 6 of type dbl\n",
       "\\begin{tabular}{r|llllll}\n",
       "  & used & (Mb) & gc trigger & (Mb) & max used & (Mb)\\\\\n",
       "\\hline\n",
       "\tNcells &  10977069 &  586.3 &  17712615 &  946.0 &  17712615 &  946.0\\\\\n",
       "\tVcells & 528464632 & 4031.9 & 985324564 & 7517.5 & 914602962 & 6977.9\\\\\n",
       "\\end{tabular}\n"
      ],
      "text/markdown": [
       "\n",
       "A matrix: 2 × 6 of type dbl\n",
       "\n",
       "| <!--/--> | used | (Mb) | gc trigger | (Mb) | max used | (Mb) |\n",
       "|---|---|---|---|---|---|---|\n",
       "| Ncells |  10977069 |  586.3 |  17712615 |  946.0 |  17712615 |  946.0 |\n",
       "| Vcells | 528464632 | 4031.9 | 985324564 | 7517.5 | 914602962 | 6977.9 |\n",
       "\n"
      ],
      "text/plain": [
       "       used      (Mb)   gc trigger (Mb)   max used  (Mb)  \n",
       "Ncells  10977069  586.3  17712615   946.0  17712615  946.0\n",
       "Vcells 528464632 4031.9 985324564  7517.5 914602962 6977.9"
      ]
     },
     "metadata": {},
     "output_type": "display_data"
    },
    {
     "data": {
      "text/html": [
       "<table class=\"dataframe\">\n",
       "<caption>A matrix: 2 × 6 of type dbl</caption>\n",
       "<thead>\n",
       "\t<tr><th></th><th scope=col>used</th><th scope=col>(Mb)</th><th scope=col>gc trigger</th><th scope=col>(Mb)</th><th scope=col>max used</th><th scope=col>(Mb)</th></tr>\n",
       "</thead>\n",
       "<tbody>\n",
       "\t<tr><th scope=row>Ncells</th><td>  11020621</td><td> 588.6</td><td>  24020388</td><td> 1282.9</td><td>  24020388</td><td> 1282.9</td></tr>\n",
       "\t<tr><th scope=row>Vcells</th><td>1075370145</td><td>8204.5</td><td>2043598454</td><td>15591.5</td><td>2043220380</td><td>15588.6</td></tr>\n",
       "</tbody>\n",
       "</table>\n"
      ],
      "text/latex": [
       "A matrix: 2 × 6 of type dbl\n",
       "\\begin{tabular}{r|llllll}\n",
       "  & used & (Mb) & gc trigger & (Mb) & max used & (Mb)\\\\\n",
       "\\hline\n",
       "\tNcells &   11020621 &  588.6 &   24020388 &  1282.9 &   24020388 &  1282.9\\\\\n",
       "\tVcells & 1075370145 & 8204.5 & 2043598454 & 15591.5 & 2043220380 & 15588.6\\\\\n",
       "\\end{tabular}\n"
      ],
      "text/markdown": [
       "\n",
       "A matrix: 2 × 6 of type dbl\n",
       "\n",
       "| <!--/--> | used | (Mb) | gc trigger | (Mb) | max used | (Mb) |\n",
       "|---|---|---|---|---|---|---|\n",
       "| Ncells |   11020621 |  588.6 |   24020388 |  1282.9 |   24020388 |  1282.9 |\n",
       "| Vcells | 1075370145 | 8204.5 | 2043598454 | 15591.5 | 2043220380 | 15588.6 |\n",
       "\n"
      ],
      "text/plain": [
       "       used       (Mb)   gc trigger (Mb)    max used   (Mb)   \n",
       "Ncells   11020621  588.6   24020388  1282.9   24020388  1282.9\n",
       "Vcells 1075370145 8204.5 2043598454 15591.5 2043220380 15588.6"
      ]
     },
     "metadata": {},
     "output_type": "display_data"
    }
   ],
   "source": [
    "mb <- mergeLeaves(trMeanCorUPGMANorm, seBrainSim[txpsAll,])\n",
    "treeCor <- mb[[\"tree\"]]\n",
    "rm(mb)\n",
    "gc()\n",
    "\n",
    "yAggCorNS <- prepSwish(treeCor, seBrainSim[treeCor$tip,])\n",
    "yAggCorNS <- fishpond::computeInfRV(yAggCorNS, meanVariance=F)\n",
    "\n",
    "yAggCor <- prepSwish(treeCor, seBrainSimScaled[treeCor$tip,])\n",
    "\n",
    "infReps <- assays(yAggCor)[grep(\"infRep\", assayNames(yAggCor))]\n",
    "infReps <- abind::abind(as.list(infReps), along = 3)\n",
    "\n",
    "mcols(yAggCorNS)[[\"LFC\"]] <- getLog2FC(infReps, colData(yAggCor)[[\"condition\"]])\n",
    "rm(yAggCor)\n",
    "gc()\n",
    "\n",
    "save(yAggCorNS, file=file.path(save_dir, \"yAggCorNS.RData\"))\n",
    "save(treeCor, file=file.path(save_dir, \"treeCor.RData\"))"
   ]
  },
  {
   "cell_type": "markdown",
   "id": "6f6d5d26",
   "metadata": {},
   "source": [
    "#### Threshold"
   ]
  },
  {
   "cell_type": "code",
   "execution_count": 10,
   "id": "bac7e09f",
   "metadata": {},
   "outputs": [
    {
     "name": "stdout",
     "output_type": "stream",
     "text": [
      "[1] \"Missing txps 112729\"\n"
     ]
    },
    {
     "data": {
      "text/html": [
       "<table class=\"dataframe\">\n",
       "<caption>A matrix: 2 × 6 of type dbl</caption>\n",
       "<thead>\n",
       "\t<tr><th></th><th scope=col>used</th><th scope=col>(Mb)</th><th scope=col>gc trigger</th><th scope=col>(Mb)</th><th scope=col>max used</th><th scope=col>(Mb)</th></tr>\n",
       "</thead>\n",
       "<tbody>\n",
       "\t<tr><th scope=row>Ncells</th><td>  11022224</td><td> 588.7</td><td>  24020388</td><td> 1282.9</td><td>  24020388</td><td> 1282.9</td></tr>\n",
       "\t<tr><th scope=row>Vcells</th><td>1263381387</td><td>9638.9</td><td>2043598454</td><td>15591.5</td><td>2043220380</td><td>15588.6</td></tr>\n",
       "</tbody>\n",
       "</table>\n"
      ],
      "text/latex": [
       "A matrix: 2 × 6 of type dbl\n",
       "\\begin{tabular}{r|llllll}\n",
       "  & used & (Mb) & gc trigger & (Mb) & max used & (Mb)\\\\\n",
       "\\hline\n",
       "\tNcells &   11022224 &  588.7 &   24020388 &  1282.9 &   24020388 &  1282.9\\\\\n",
       "\tVcells & 1263381387 & 9638.9 & 2043598454 & 15591.5 & 2043220380 & 15588.6\\\\\n",
       "\\end{tabular}\n"
      ],
      "text/markdown": [
       "\n",
       "A matrix: 2 × 6 of type dbl\n",
       "\n",
       "| <!--/--> | used | (Mb) | gc trigger | (Mb) | max used | (Mb) |\n",
       "|---|---|---|---|---|---|---|\n",
       "| Ncells |   11022224 |  588.7 |   24020388 |  1282.9 |   24020388 |  1282.9 |\n",
       "| Vcells | 1263381387 | 9638.9 | 2043598454 | 15591.5 | 2043220380 | 15588.6 |\n",
       "\n"
      ],
      "text/plain": [
       "       used       (Mb)   gc trigger (Mb)    max used   (Mb)   \n",
       "Ncells   11022224  588.7   24020388  1282.9   24020388  1282.9\n",
       "Vcells 1263381387 9638.9 2043598454 15591.5 2043220380 15588.6"
      ]
     },
     "metadata": {},
     "output_type": "display_data"
    },
    {
     "data": {
      "text/html": [
       "0"
      ],
      "text/latex": [
       "0"
      ],
      "text/markdown": [
       "0"
      ],
      "text/plain": [
       "[1] 0"
      ]
     },
     "metadata": {},
     "output_type": "display_data"
    },
    {
     "data": {
      "text/html": [
       "<table class=\"dataframe\">\n",
       "<caption>A matrix: 2 × 6 of type dbl</caption>\n",
       "<thead>\n",
       "\t<tr><th></th><th scope=col>used</th><th scope=col>(Mb)</th><th scope=col>gc trigger</th><th scope=col>(Mb)</th><th scope=col>max used</th><th scope=col>(Mb)</th></tr>\n",
       "</thead>\n",
       "<tbody>\n",
       "\t<tr><th scope=row>Ncells</th><td>  11023087</td><td>  588.7</td><td>  24020388</td><td> 1282.9</td><td>  24020388</td><td> 1282.9</td></tr>\n",
       "\t<tr><th scope=row>Vcells</th><td>1409864473</td><td>10756.5</td><td>2942957772</td><td>22453.0</td><td>2942044861</td><td>22446.1</td></tr>\n",
       "</tbody>\n",
       "</table>\n"
      ],
      "text/latex": [
       "A matrix: 2 × 6 of type dbl\n",
       "\\begin{tabular}{r|llllll}\n",
       "  & used & (Mb) & gc trigger & (Mb) & max used & (Mb)\\\\\n",
       "\\hline\n",
       "\tNcells &   11023087 &   588.7 &   24020388 &  1282.9 &   24020388 &  1282.9\\\\\n",
       "\tVcells & 1409864473 & 10756.5 & 2942957772 & 22453.0 & 2942044861 & 22446.1\\\\\n",
       "\\end{tabular}\n"
      ],
      "text/markdown": [
       "\n",
       "A matrix: 2 × 6 of type dbl\n",
       "\n",
       "| <!--/--> | used | (Mb) | gc trigger | (Mb) | max used | (Mb) |\n",
       "|---|---|---|---|---|---|---|\n",
       "| Ncells |   11023087 |   588.7 |   24020388 |  1282.9 |   24020388 |  1282.9 |\n",
       "| Vcells | 1409864473 | 10756.5 | 2942957772 | 22453.0 | 2942044861 | 22446.1 |\n",
       "\n"
      ],
      "text/plain": [
       "       used       (Mb)    gc trigger (Mb)    max used   (Mb)   \n",
       "Ncells   11023087   588.7   24020388  1282.9   24020388  1282.9\n",
       "Vcells 1409864473 10756.5 2942957772 22453.0 2942044861 22446.1"
      ]
     },
     "metadata": {},
     "output_type": "display_data"
    }
   ],
   "source": [
    "treeThr <- mergeTree(treesThr, se = mapDf)\n",
    "mb <- mergeLeaves(treeThr, seBrainSim[txpsAll,])\n",
    "treeThr<- mb[[\"tree\"]]\n",
    "yThrNS <- mb[[\"ySwish\"]]\n",
    "rm(mb)\n",
    "gc()\n",
    "sum(rownames(yThrNS) != treeThr$tip)\n",
    "\n",
    "yAggThrNS <- prepSwish(treeThr, seBrainSim[treeThr$tip,])\n",
    "yAggThrNS <- fishpond::computeInfRV(yAggThrNS, meanVariance=F)\n",
    "\n",
    "yAggThr <- prepSwish(treeThr, seBrainSimScaled[treeThr$tip,])\n",
    "\n",
    "infReps <- assays(yAggThr)[grep(\"infRep\", assayNames(yAggThr))]\n",
    "infReps <- abind::abind(as.list(infReps), along = 3)\n",
    "mcols(yAggThrNS)[[\"LFC\"]] <- getLog2FC(infReps, colData(yAggThrNS)[[\"condition\"]])\n",
    "\n",
    "rm(yAggThr)\n",
    "gc()\n",
    "\n",
    "save(yAggThrNS, file=file.path(save_dir, \"yAggThrNS.RData\"))\n",
    "save(treeThr, file=file.path(save_dir, \"treeThr.RData\"))"
   ]
  },
  {
   "cell_type": "code",
   "execution_count": 11,
   "id": "5fe81f20",
   "metadata": {},
   "outputs": [
    {
     "ename": "ERROR",
     "evalue": "Error in node.depth(treeCons0, 2): object 'treeCons0' not found\n",
     "output_type": "error",
     "traceback": [
      "Error in node.depth(treeCons0, 2): object 'treeCons0' not found\nTraceback:\n",
      "1. node.depth(treeCons0, 2)"
     ]
    }
   ],
   "source": [
    "depth <- node.depth(treeCons0,2)\n",
    "modDep <- depth\n",
    "modDep[modDep > 6] = 7\n",
    "dfInfRV <- data.frame(infRV = mcols(yAggConsNS0)[[\"meanInfRV\"]], depth = depth, modDep = modDep, type=\"Consensus0\")"
   ]
  },
  {
   "cell_type": "code",
   "execution_count": null,
   "id": "427d5282",
   "metadata": {},
   "outputs": [],
   "source": [
    "depth <- node.depth(treeCons,2)\n",
    "modDep <- depth\n",
    "modDep[modDep > 6] = 7\n",
    "dfInfRV <- rbind(dfInfRV,data.frame(infRV = mcols(yAggConsNS)[[\"meanInfRV\"]], depth = depth, modDep = modDep, type=\"Consensus\"))"
   ]
  },
  {
   "cell_type": "code",
   "execution_count": null,
   "id": "779dfaa2",
   "metadata": {},
   "outputs": [],
   "source": [
    "depth <- node.depth(treeMeanInf0,2)\n",
    "modDep <- depth\n",
    "modDep[modDep > 6] = 7\n",
    "dfInfRV <- rbind(dfInfRV,data.frame(infRV = mcols(yAggMeanInfNS0)[[\"meanInfRV\"]], depth = depth, modDep = modDep, type=\"MeanInf0\"))"
   ]
  },
  {
   "cell_type": "code",
   "execution_count": null,
   "id": "20be2e9c",
   "metadata": {},
   "outputs": [],
   "source": [
    "depth <- node.depth(treeCor,2)\n",
    "modDep <- depth\n",
    "modDep[modDep > 6] = 7\n",
    "dfInfRV <- rbind(dfInfRV,data.frame(infRV = mcols(yAggCorNS)[[\"meanInfRV\"]], depth = depth, modDep = modDep, type=\"Anti-Correlation\"))"
   ]
  },
  {
   "cell_type": "code",
   "execution_count": null,
   "id": "c4ca3af1",
   "metadata": {},
   "outputs": [],
   "source": [
    "options(repr.plot.width=12, repr.plot.height=12)\n",
    "dfInfRV %>% filter(depth!=1) %>% ggplot(aes(x=factor(type), y=log2(infRV))) + geom_violin() + facet_wrap(vars(modDep))"
   ]
  },
  {
   "cell_type": "code",
   "execution_count": null,
   "id": "665f649a",
   "metadata": {},
   "outputs": [],
   "source": [
    "reshape::cast(dfInfRV %>% filter(depth!=1) %>% group_by(type,modDep), type~modDep, max, value=\"infRV\")"
   ]
  },
  {
   "cell_type": "code",
   "execution_count": null,
   "id": "05e24721",
   "metadata": {},
   "outputs": [],
   "source": [
    "### Threshold"
   ]
  },
  {
   "cell_type": "code",
   "execution_count": 22,
   "id": "e099e6a5",
   "metadata": {},
   "outputs": [],
   "source": [
    "#### NGenes\n",
    "nNodes <- length(treeCons$tip)+1:treeCons$Nnode\n",
    "desc <- Descendants(treeCons, nNodes)\n",
    "genesCons <- mclapply(desc, function(txps) unique(mapDf[treeCons$tip.label[txps],\"GENEID\"]), mc.cores=1)\n",
    "save(genesCons, file=file.path(save_dir,\"genesCons.RData\"))"
   ]
  },
  {
   "cell_type": "code",
   "execution_count": 21,
   "id": "e74e1f89",
   "metadata": {},
   "outputs": [],
   "source": [
    "#### NGenes\n",
    "nNodes <- length(treeCons0$tip)+1:treeCons0$Nnode\n",
    "desc <- Descendants(treeCons0, nNodes)\n",
    "genesCons0 <- mclapply(desc, function(txps) unique(mapDf[treeCons0$tip.label[txps],\"GENEID\"]), mc.cores=1)\n",
    "save(genesCons0, file=file.path(save_dir,\"genesCons0.RData\"))"
   ]
  },
  {
   "cell_type": "code",
   "execution_count": null,
   "id": "aaf10c26",
   "metadata": {},
   "outputs": [],
   "source": [
    "#### NGenes\n",
    "nNodes <- length(treeMeanInf0$tip)+1:treeMeanInf0$Nnode\n",
    "desc <- Descendants(treeMeanInf0, nNodes)\n",
    "genesMeanInf0 <- mclapply(desc, function(txps) unique(mapDf[treeMeanInf0$tip.label[txps],\"GENEID\"]), mc.cores=1)\n",
    "save(genesMeanInf0, file=file.path(save_dir,\"genesMeanInf0.RData\"))"
   ]
  },
  {
   "cell_type": "code",
   "execution_count": null,
   "id": "eecf9fe1",
   "metadata": {},
   "outputs": [],
   "source": [
    "#### NGenes\n",
    "nNodes <- length(treeCor$tip)+1:treeCor$Nnode\n",
    "desc <- Descendants(treeCor, nNodes)\n",
    "genesCor <- mclapply(desc, function(txps) unique(mapDf[treeCor$tip.label[txps],\"GENEID\"]), mc.cores=1)\n",
    "save(genesCor, file=file.path(save_dir,\"genesCor.RData\"))"
   ]
  },
  {
   "cell_type": "code",
   "execution_count": null,
   "id": "c6cea851",
   "metadata": {},
   "outputs": [],
   "source": [
    "#### NGenes\n",
    "nNodes <- length(treeThr$tip)+1:treeThr$Nnode\n",
    "desc <- Descendants(treeThr, nNodes)\n",
    "genesThr <- mclapply(desc, function(txps) unique(mapDf[treeThr$tip.label[txps],\"GENEID\"]), mc.cores=1)\n",
    "save(genesThr, file=file.path(save_dir,\"genesThr.RData\"))"
   ]
  }
 ],
 "metadata": {
  "kernelspec": {
   "display_name": "R",
   "language": "R",
   "name": "ir"
  },
  "language_info": {
   "codemirror_mode": "r",
   "file_extension": ".r",
   "mimetype": "text/x-r-source",
   "name": "R",
   "pygments_lexer": "r",
   "version": "4.1.1"
  }
 },
 "nbformat": 4,
 "nbformat_minor": 5
}
