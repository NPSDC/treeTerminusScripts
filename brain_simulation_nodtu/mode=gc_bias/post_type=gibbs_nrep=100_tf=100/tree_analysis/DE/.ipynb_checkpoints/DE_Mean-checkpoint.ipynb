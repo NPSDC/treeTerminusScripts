{
 "cells": [
  {
   "cell_type": "code",
   "execution_count": 1,
   "id": "662a6df6",
   "metadata": {
    "scrolled": false
   },
   "outputs": [
    {
     "name": "stderr",
     "output_type": "stream",
     "text": [
      "Skipping install of 'beaveR' from a github remote, the SHA1 (55f74bc0) has not changed since last install.\n",
      "  Use `force = TRUE` to force installation\n",
      "\n",
      "reading tree\n",
      "\n",
      "importing quantifications\n",
      "\n",
      "reading in files with read_tsv\n",
      "\n",
      "1 \n",
      "2 \n",
      "3 \n",
      "4 \n",
      "5 \n",
      "6 \n",
      "7 \n",
      "8 \n",
      "9 \n",
      "10 \n",
      "11 \n",
      "12 \n",
      "\n",
      "\n",
      "found matching transcriptome:\n",
      "[ GENCODE - Homo sapiens - release 26 ]\n",
      "\n",
      "loading existing TxDb created: 2022-08-19 22:12:59\n",
      "\n",
      "Loading required package: GenomicFeatures\n",
      "\n",
      "Loading required package: AnnotationDbi\n",
      "\n",
      "loading existing transcript ranges created: 2022-08-19 22:13:01\n",
      "\n",
      "Missing txps 3823\n",
      "\n",
      "Aggregation Started\n",
      "\n",
      "Aggregation Ended\n",
      "\n"
     ]
    }
   ],
   "source": [
    "devtools::install_github(\"NPSDC/beaveR\", ref = \"dev\")\n",
    "setwd('/fs/cbcb-lab/rob/students/noor/Uncertainity/treeTerminusScripts')\n",
    "suppressPackageStartupMessages(source(\"tree_helper_function.R\"))\n",
    "suppressPackageStartupMessages(library(beaveR))\n",
    "clustFile <- \"../brain_sim_nodtu/mode=gc_bias/post_type=gibbs_nrep=100_tf=100/terminus/no_threshold0/cluster_nwk.txt\"\n",
    "quantDir <- file.path(\"../brain_sim_nodtu/mode=gc_bias/post_type=gibbs_nrep=100_tf=100/out_sal\") \n",
    "samples <- as.vector(outer(c(1:6), c(1,2), function(x,y) paste(x,y,sep='_')))\n",
    "quantFiles <- file.path(quantDir, samples, 'quant.sf')\n",
    "coldata <- data.frame(files=quantFiles, names=samples, condition=factor(rep(1:2, each=6)))\n",
    "tse <- buildTSE(treeTermFile = clustFile, coldata = coldata)"
   ]
  },
  {
   "cell_type": "code",
   "execution_count": 2,
   "id": "8d0c02f0",
   "metadata": {},
   "outputs": [],
   "source": [
    "temp <- tse"
   ]
  },
  {
   "cell_type": "code",
   "execution_count": 3,
   "id": "7f963549",
   "metadata": {},
   "outputs": [],
   "source": [
    "load(\"environment/brain_sim_nodtu/mode=gc_bias/simulate.rda\")\n",
    "suppressPackageStartupMessages(library(TreeSummarizedExperiment))\n",
    "suppressPackageStartupMessages(library(ape))\n",
    "tree <- rowTree(tse)\n",
    "l <- length(tree$tip)\n",
    "missingTxps <- setdiff(rownames(tse)[1:l], rownames(sim.counts.mat))\n",
    "dts <- Reduce(union, c(names(iso.dge)[iso.dge], names(iso.dte)[iso.dte], names(iso.dte.only)[iso.dte.only], \n",
    "                       names(iso.dtu)[iso.dtu]))\n",
    "dts <- intersect(dts, rownames(sim.counts.mat))\n",
    "sim.counts.mat <- rbind(sim.counts.mat, matrix(0, nrow = length(missingTxps), ncol = ncol(sim.counts.mat),\n",
    "                                               dimnames = list(missingTxps, colnames(sim.counts.mat))))\n",
    "sim.counts.mat <- sim.counts.mat[rownames(tse)[1:l],]\n",
    "dts <- intersect(dts, rownames(sim.counts.mat))\n",
    "\n",
    "innNodes <- l+1:tree$Nnode\n",
    "aggCountsNodes <- computeAggNodesU(tree, c(1:length(tree$tip),innNodes), sim.counts.mat)\n",
    "logFCNodes <- ifelse(rowSums(aggCountsNodes)==0, 0, log2(aggCountsNodes[,2]+1)-log2(aggCountsNodes[,1]+1))\n",
    "names(logFCNodes)[(l+1):length(logFCNodes)] <- paste(\"Node\", names(logFCNodes)[(l+1):length(logFCNodes)], sep=\"\")\n",
    "rootFC <- abs(logFCNodes[l+1])\n"
   ]
  },
  {
   "cell_type": "code",
   "execution_count": 52,
   "id": "768c609c",
   "metadata": {},
   "outputs": [
    {
     "data": {
      "text/html": [
       "<style>\n",
       ".list-inline {list-style: none; margin:0; padding: 0}\n",
       ".list-inline>li {display: inline-block}\n",
       ".list-inline>li:not(:last-child)::after {content: \"\\00b7\"; padding: 0 .5ex}\n",
       "</style>\n",
       "<ol class=list-inline><li>'Node138201'</li><li>'Node138202'</li><li>'Node138203'</li><li>'Node138204'</li><li>'Node138205'</li><li>'Node138206'</li></ol>\n"
      ],
      "text/latex": [
       "\\begin{enumerate*}\n",
       "\\item 'Node138201'\n",
       "\\item 'Node138202'\n",
       "\\item 'Node138203'\n",
       "\\item 'Node138204'\n",
       "\\item 'Node138205'\n",
       "\\item 'Node138206'\n",
       "\\end{enumerate*}\n"
      ],
      "text/markdown": [
       "1. 'Node138201'\n",
       "2. 'Node138202'\n",
       "3. 'Node138203'\n",
       "4. 'Node138204'\n",
       "5. 'Node138205'\n",
       "6. 'Node138206'\n",
       "\n",
       "\n"
      ],
      "text/plain": [
       "[1] \"Node138201\" \"Node138202\" \"Node138203\" \"Node138204\" \"Node138205\"\n",
       "[6] \"Node138206\""
      ]
     },
     "metadata": {},
     "output_type": "display_data"
    }
   ],
   "source": [
    "names(logFCNodes)[(l+1):length(logFCNodes)] <- paste(\"Node\", names(logFCNodes)[(l+1):length(logFCNodes)], sep=\"\")\n",
    "head(names(logFCNodes)[(l+1):length(logFCNodes)])"
   ]
  },
  {
   "cell_type": "code",
   "execution_count": 4,
   "id": "0ab1e57f",
   "metadata": {},
   "outputs": [
    {
     "data": {
      "text/html": [
       "8798"
      ],
      "text/latex": [
       "8798"
      ],
      "text/markdown": [
       "8798"
      ],
      "text/plain": [
       "[1] 8798"
      ]
     },
     "metadata": {},
     "output_type": "display_data"
    },
    {
     "data": {
      "text/plain": [
       "   Min. 1st Qu.  Median    Mean 3rd Qu.    Max. \n",
       " 0.8858  1.5388  1.9330  1.8818  2.2746  2.5824 "
      ]
     },
     "metadata": {},
     "output_type": "display_data"
    },
    {
     "name": "stdout",
     "output_type": "stream",
     "text": [
      "[1] 1\n"
     ]
    },
    {
     "data": {
      "text/html": [
       "<strong>138201:</strong> 0.0326437105480544"
      ],
      "text/latex": [
       "\\textbf{138201:} 0.0326437105480544"
      ],
      "text/markdown": [
       "**138201:** 0.0326437105480544"
      ],
      "text/plain": [
       "    138201 \n",
       "0.03264371 "
      ]
     },
     "metadata": {},
     "output_type": "display_data"
    },
    {
     "data": {
      "text/html": [
       "<strong>Node138201:</strong> 0.01"
      ],
      "text/latex": [
       "\\textbf{Node138201:} 0.01"
      ],
      "text/markdown": [
       "**Node138201:** 0.01"
      ],
      "text/plain": [
       "Node138201 \n",
       "      0.01 "
      ]
     },
     "metadata": {},
     "output_type": "display_data"
    }
   ],
   "source": [
    "length(dts)\n",
    "summary(abs(logFCNodes[dts]))\n",
    "print(mean(abs(logFCNodes[dts]) >= rootFC))\n",
    "rootFC\n",
    "mcols(tse)[[\"meanInfRV\"]][l+1]"
   ]
  },
  {
   "cell_type": "code",
   "execution_count": 4,
   "id": "71ae002c",
   "metadata": {},
   "outputs": [
    {
     "name": "stderr",
     "output_type": "stream",
     "text": [
      "Setting inf rep depth to mean depth\n",
      "\n"
     ]
    },
    {
     "name": "stdout",
     "output_type": "stream",
     "text": [
      "Progress:   1 on 100Progress:   2 on 100Progress:   3 on 100Progress:   4 on 100Progress:   5 on 100Progress:   6 on 100Progress:   7 on 100Progress:   8 on 100Progress:   9 on 100Progress:  10 on 100Progress:  11 on 100Progress:  12 on 100Progress:  13 on 100Progress:  14 on 100Progress:  15 on 100Progress:  16 on 100Progress:  17 on 100Progress:  18 on 100Progress:  19 on 100Progress:  20 on 100Progress:  21 on 100Progress:  22 on 100Progress:  23 on 100Progress:  24 on 100Progress:  25 on 100Progress:  26 on 100Progress:  27 on 100Progress:  28 on 100Progress:  29 on 100Progress:  30 on 100Progress:  31 on 100Progress:  32 on 100Progress:  33 on 100Progress:  34 on 100Progress:  35 on 100Progress:  36 on 100Progress:  37 on 100Progress:  38 on 100Progress:  39 on 100Progress:  40 on 100Progress:  41 on 100Progress:  42 on 100Progress:  43 on 100Progress:  44 on 100Progress:  45 on 100Progress:  46 on 100Progress:  47 on 100Progress:  48 on 100Progress:  49 on 100Progress:  50 on 100Progress:  51 on 100Progress:  52 on 100Progress:  53 on 100Progress:  54 on 100Progress:  55 on 100Progress:  56 on 100Progress:  57 on 100Progress:  58 on 100Progress:  59 on 100Progress:  60 on 100Progress:  61 on 100Progress:  62 on 100Progress:  63 on 100Progress:  64 on 100Progress:  65 on 100Progress:  66 on 100Progress:  67 on 100Progress:  68 on 100Progress:  69 on 100Progress:  70 on 100Progress:  71 on 100Progress:  72 on 100Progress:  73 on 100Progress:  74 on 100Progress:  75 on 100Progress:  76 on 100Progress:  77 on 100Progress:  78 on 100Progress:  79 on 100Progress:  80 on 100Progress:  81 on 100Progress:  82 on 100Progress:  83 on 100Progress:  84 on 100Progress:  85 on 100Progress:  86 on 100Progress:  87 on 100Progress:  88 on 100Progress:  89 on 100Progress:  90 on 100Progress:  91 on 100Progress:  92 on 100Progress:  93 on 100Progress:  94 on 100Progress:  95 on 100Progress:  96 on 100Progress:  97 on 100Progress:  98 on 100Progress:  99 on 100Progress: 100 on 100  "
     ]
    },
    {
     "name": "stderr",
     "output_type": "stream",
     "text": [
      "\n",
      "\n"
     ]
    }
   ],
   "source": [
    "tse <- computeSizeFactors(tse, type = \"txp\")\n",
    "tse <- scaleInfReps(tse)\n",
    "sf <- metadata(tse)[[\"sf\"]]\n",
    "tree <- rowTree(tse)\n",
    "l <- length(tree$tip)"
   ]
  },
  {
   "cell_type": "markdown",
   "id": "c7986b04",
   "metadata": {},
   "source": [
    "#### Run Swish"
   ]
  },
  {
   "cell_type": "code",
   "execution_count": 51,
   "id": "f527e0e6",
   "metadata": {},
   "outputs": [],
   "source": [
    "y <- fishpond::scaleInfReps(temp[1:l,])\n",
    "y <- labelKeep(y)\n",
    "y <- swish(y, x=\"condition\")"
   ]
  },
  {
   "cell_type": "code",
   "execution_count": 52,
   "id": "a7642929",
   "metadata": {},
   "outputs": [],
   "source": [
    "detNodes <- list()\n",
    "detNodes[[\"Swish\"]] <- lapply(c(0.01, 0.05, 0.1), function(x) which(mcols(y)[,\"qvalue\"] <= x ))\n",
    "\n",
    "negNodes <- list()\n",
    "negNodes[[\"Swish\"]] <- lapply(detNodes[[\"Swish\"]], function(nodes) setdiff(seq(l), \n",
    "                                                          unlist(Descendants(tree, nodes))))"
   ]
  },
  {
   "cell_type": "markdown",
   "id": "98f35cb9",
   "metadata": {},
   "source": [
    "#### Min meanInfRV and Height"
   ]
  },
  {
   "cell_type": "code",
   "execution_count": 35,
   "id": "029dbea1",
   "metadata": {},
   "outputs": [],
   "source": [
    "lambda <- c(0.05, 0.1, 1)"
   ]
  },
  {
   "cell_type": "code",
   "execution_count": 38,
   "id": "86fa911d",
   "metadata": {},
   "outputs": [
    {
     "data": {
      "text/html": [
       "<style>\n",
       ".dl-inline {width: auto; margin:0; padding: 0}\n",
       ".dl-inline>dt, .dl-inline>dd {float: none; width: auto; display: inline-block}\n",
       ".dl-inline>dt::after {content: \":\\0020\"; padding-right: .5ex}\n",
       ".dl-inline>dt:not(:first-of-type) {padding-left: .5ex}\n",
       "</style><dl class=dl-inline><dt>irv_height_0.05</dt><dd>76883</dd><dt>irv_height_0.1</dt><dd>87912</dd><dt>irv_height_1</dt><dd>119765</dd></dl>\n"
      ],
      "text/latex": [
       "\\begin{description*}\n",
       "\\item[irv\\textbackslash{}\\_height\\textbackslash{}\\_0.05] 76883\n",
       "\\item[irv\\textbackslash{}\\_height\\textbackslash{}\\_0.1] 87912\n",
       "\\item[irv\\textbackslash{}\\_height\\textbackslash{}\\_1] 119765\n",
       "\\end{description*}\n"
      ],
      "text/markdown": [
       "irv_height_0.05\n",
       ":   76883irv_height_0.1\n",
       ":   87912irv_height_1\n",
       ":   119765\n",
       "\n"
      ],
      "text/plain": [
       "irv_height_0.05  irv_height_0.1    irv_height_1 \n",
       "          76883           87912          119765 "
      ]
     },
     "metadata": {},
     "output_type": "display_data"
    }
   ],
   "source": [
    "cuts <- list()\n",
    "for(i in lambda) {\n",
    "    descSize <- sapply(Descendants(tree, seq(nrow(tse))), length)\n",
    "    metric <- (mcols(tse)[['meanInfRV']] + node.depth(tree, 2)*i) *descSize\n",
    "    objS <- solveForOptimalCut(tse, metVec = metric, type = 'min')\n",
    "    gammaN <- paste(\"gamma\",i,sep=\"=\")\n",
    "    cuts[[gammaN]] <- objS[[\"cut\"]]\n",
    "}\n",
    "names(cuts) <- paste(\"irv\", \"height\", lambda, sep = \"_\") \n",
    "sapply(cuts,length)"
   ]
  },
  {
   "cell_type": "code",
   "execution_count": 71,
   "id": "1a01b878",
   "metadata": {},
   "outputs": [],
   "source": [
    "for(i in seq_along(lambda)) {\n",
    "     ihname <- paste(\"irv\", \"height\", lambda[i], sep = \"_\") \n",
    "     y <- temp[sort(cuts[[ihname]]),]\n",
    "     y <- fishpond::scaleInfReps(y)\n",
    "     y <- labelKeep(y)\n",
    "     set.seed(1)\n",
    "     y <- swish(y, x=\"condition\")\n",
    "#      dim(y)\n",
    "     detNodes[[ihname]] <- lapply(c(0.01, 0.05, 0.1), function(x) {\n",
    "        nodes <- rownames(y)[which(mcols(y)[,\"qvalue\"] <= x)]\n",
    "#         txps <- match(nodes[grep(\"ENST\", nodes)], rownames(tse))\n",
    "#         iNodes <- match(nodes[grep(\"Node\", nodes)], rownames(tse))\n",
    "         match(nodes, names(logFCNodes))\n",
    "        \n",
    "#         c(txps,iNodes)\n",
    "    })\n",
    "    negNodes[[ihname]] <- lapply(c(0.01, 0.05, 0.1), function(x) {\n",
    "        nodes <- rownames(y)[setdiff(seq(nrow(y)), which(mcols(y)[,\"qvalue\"] <= x))]\n",
    "        match(nodes, names(logFCNodes))\n",
    "    })\n",
    "}"
   ]
  },
  {
   "cell_type": "markdown",
   "id": "828169d1",
   "metadata": {},
   "source": [
    "#### Max Weighted Log Fold Change"
   ]
  },
  {
   "cell_type": "code",
   "execution_count": 43,
   "id": "65fbd7f2",
   "metadata": {},
   "outputs": [],
   "source": [
    "getLog2FC <- function(tse, condition, pc=5, array=FALSE) {\n",
    "  infRepIdx <- grep(\"infRep\", assayNames(tse))\n",
    "  infReps <- assays(tse)[infRepIdx]\n",
    "  infRepsArray <- abind::abind(as.list(infReps), along=3)\n",
    "  dims <- dim(infRepsArray)\n",
    "    \n",
    "  cond1 <- condition == levels(condition)[1]\n",
    "  cond2 <- condition == levels(condition)[2]\n",
    "\n",
    "  diffs <- matrix(nrow=dims[1],ncol=dims[3])\n",
    "  for (k in seq_len(dims[3])) {\n",
    "    diffs[,k] <- log2(rowMeans(infRepsArray[,cond2,k]) + pc) -\n",
    "                 log2(rowMeans(infRepsArray[,cond1,k]) + pc)\n",
    "  }\n",
    "  if (array) {\n",
    "    return(diffs)\n",
    "  }\n",
    "  # median over inferential replicates\n",
    "  rowMedians(diffs)\n",
    "}"
   ]
  },
  {
   "cell_type": "code",
   "execution_count": 44,
   "id": "459c5328",
   "metadata": {},
   "outputs": [
    {
     "name": "stderr",
     "output_type": "stream",
     "text": [
      "loading existing TxDb created: 2022-08-19 22:12:59\n",
      "\n",
      "obtaining transcript-to-gene mapping from database\n",
      "\n",
      "loading existing gene ranges created: 2022-08-26 02:08:58\n",
      "\n",
      "summarizing abundance\n",
      "\n",
      "summarizing counts\n",
      "\n",
      "summarizing length\n",
      "\n",
      "summarizing inferential replicates\n",
      "\n",
      "Setting inf rep depth to mean depth\n",
      "\n"
     ]
    },
    {
     "name": "stdout",
     "output_type": "stream",
     "text": [
      "Progress:   1 on 100Progress:   2 on 100Progress:   3 on 100Progress:   4 on 100Progress:   5 on 100Progress:   6 on 100Progress:   7 on 100Progress:   8 on 100Progress:   9 on 100Progress:  10 on 100Progress:  11 on 100Progress:  12 on 100Progress:  13 on 100Progress:  14 on 100Progress:  15 on 100Progress:  16 on 100Progress:  17 on 100Progress:  18 on 100Progress:  19 on 100Progress:  20 on 100Progress:  21 on 100Progress:  22 on 100Progress:  23 on 100Progress:  24 on 100Progress:  25 on 100Progress:  26 on 100Progress:  27 on 100Progress:  28 on 100Progress:  29 on 100Progress:  30 on 100Progress:  31 on 100Progress:  32 on 100Progress:  33 on 100Progress:  34 on 100Progress:  35 on 100Progress:  36 on 100Progress:  37 on 100Progress:  38 on 100Progress:  39 on 100Progress:  40 on 100Progress:  41 on 100Progress:  42 on 100Progress:  43 on 100Progress:  44 on 100Progress:  45 on 100Progress:  46 on 100Progress:  47 on 100Progress:  48 on 100Progress:  49 on 100Progress:  50 on 100Progress:  51 on 100Progress:  52 on 100Progress:  53 on 100Progress:  54 on 100Progress:  55 on 100Progress:  56 on 100Progress:  57 on 100Progress:  58 on 100Progress:  59 on 100Progress:  60 on 100Progress:  61 on 100Progress:  62 on 100Progress:  63 on 100Progress:  64 on 100Progress:  65 on 100Progress:  66 on 100Progress:  67 on 100Progress:  68 on 100Progress:  69 on 100Progress:  70 on 100Progress:  71 on 100Progress:  72 on 100Progress:  73 on 100Progress:  74 on 100Progress:  75 on 100Progress:  76 on 100Progress:  77 on 100Progress:  78 on 100Progress:  79 on 100Progress:  80 on 100Progress:  81 on 100Progress:  82 on 100Progress:  83 on 100Progress:  84 on 100Progress:  85 on 100Progress:  86 on 100Progress:  87 on 100Progress:  88 on 100Progress:  89 on 100Progress:  90 on 100Progress:  91 on 100Progress:  92 on 100Progress:  93 on 100Progress:  94 on 100Progress:  95 on 100Progress:  96 on 100Progress:  97 on 100Progress:  98 on 100Progress:  99 on 100Progress: 100 on 100  "
     ]
    },
    {
     "name": "stderr",
     "output_type": "stream",
     "text": [
      "\n",
      "\n"
     ]
    }
   ],
   "source": [
    "tse <- computeSizeFactors(tse, type=\"gene\")\n",
    "tse <- scaleInfReps(tse)\n",
    "lfc <- getLog2FC(tse, colData(tse)[[\"condition\"]])\n",
    "descSize <- sapply(phangorn::Descendants(tree, seq(nrow(tse))), length)\n",
    "metric <- abs(lfc)/mcols(tse)[['meanInfRV']]\n",
    "objS <- solveForOptimalCut(tse, metVec = metric, type = 'max')\n",
    "cuts[[\"LFC\"]] <- objS[[\"cut\"]]"
   ]
  },
  {
   "cell_type": "code",
   "execution_count": 53,
   "id": "ae76f07e",
   "metadata": {},
   "outputs": [],
   "source": [
    "y <- temp[sort(cuts[[\"LFC\"]]),]\n",
    "y <- labelKeep(y)\n",
    "set.seed(1)\n",
    "y <- swish(y, x=\"condition\")\n",
    "\n",
    "detNodes[[\"LFC\"]] <- lapply(c(0.01, 0.05, 0.1), function(x) {\n",
    "    nodes <- rownames(y)[which(mcols(y)[,\"qvalue\"] <= x)]\n",
    "    match(nodes, names(logFCNodes))\n",
    "})\n",
    "negNodes[[\"LFC\"]] <- lapply(c(0.01, 0.05, 0.1), function(x) {\n",
    "        nodes <- rownames(y)[setdiff(seq(nrow(y)), which(mcols(y)[,\"qvalue\"] <= x))]\n",
    "        match(nodes, names(logFCNodes))\n",
    "})"
   ]
  },
  {
   "cell_type": "markdown",
   "id": "d2603245",
   "metadata": {},
   "source": [
    "#### TPM LFC Desc"
   ]
  },
  {
   "cell_type": "code",
   "execution_count": 55,
   "id": "cd32f5a7",
   "metadata": {},
   "outputs": [],
   "source": [
    "lfcTPM <- getScaledLFC(temp, \"condition\")\n",
    "metric <- abs(lfcTPM)/mcols(tse)[['meanInfRV']]*descSize\n",
    "objS <- solveForOptimalCut(tse, metVec = metric, type = 'max')\n",
    "cuts[[\"lfcTPMDesc\"]] <- objS[[\"cut\"]]\n",
    "y <- temp[sort(cuts[[\"lfcTPMDesc\"]]),]\n",
    "y <- labelKeep(y)\n",
    "set.seed(1)\n",
    "y <- swish(y, x=\"condition\")\n",
    "\n",
    "detNodes[[\"lfcTPMDesc\"]] <- lapply(c(0.01, 0.05, 0.1), function(x) {\n",
    "    nodes <- rownames(y)[which(mcols(y)[,\"qvalue\"] <= x)]\n",
    "    match(nodes, names(logFCNodes))\n",
    "})\n",
    "negNodes[[\"lfcTPMDesc\"]] <- lapply(c(0.01, 0.05, 0.1), function(x) {\n",
    "        nodes <- rownames(y)[setdiff(seq(nrow(y)), which(mcols(y)[,\"qvalue\"] <= x))]\n",
    "        match(nodes, names(logFCNodes))\n",
    "    })"
   ]
  },
  {
   "cell_type": "markdown",
   "id": "05f85c53",
   "metadata": {},
   "source": [
    "#### TPM LFC"
   ]
  },
  {
   "cell_type": "code",
   "execution_count": 61,
   "id": "a90240b4",
   "metadata": {},
   "outputs": [],
   "source": [
    "lfcTPM <- getScaledLFC(temp, \"condition\")\n",
    "metric <- abs(lfcTPM)/mcols(tse)[['meanInfRV']]\n",
    "objS <- solveForOptimalCut(tse, metVec = metric, type = 'max')\n",
    "cuts[[\"lfcTPM\"]] <- objS[[\"cut\"]]\n",
    "y <- temp[sort(cuts[[\"lfcTPM\"]]),]\n",
    "y <- labelKeep(y)\n",
    "set.seed(1)\n",
    "y <- swish(y, x=\"condition\")\n",
    "\n",
    "detNodes[[\"lfcTPM\"]] <- lapply(c(0.01, 0.05, 0.1), function(x) {\n",
    "    nodes <- rownames(y)[which(mcols(y)[,\"qvalue\"] <= x)]\n",
    "    match(nodes, names(logFCNodes))\n",
    "})\n",
    "negNodes[[\"lfcTPM\"]] <- lapply(c(0.01, 0.05, 0.1), function(x) {\n",
    "        nodes <- rownames(y)[setdiff(seq(nrow(y)), which(mcols(y)[,\"qvalue\"] <= x))]\n",
    "        match(nodes, names(logFCNodes))\n",
    "    })"
   ]
  },
  {
   "cell_type": "code",
   "execution_count": 72,
   "id": "a49f476f",
   "metadata": {},
   "outputs": [
    {
     "name": "stdout",
     "output_type": "stream",
     "text": [
      "[1] \"Swish\"\n",
      "[1] \"tp 0.989603388525221\"\n",
      "[1] \"tp 0.954741379310345\"\n",
      "[1] \"tp 0.918302897157765\"\n",
      "[1] \"LFC\"\n",
      "[1] \"tp 0.993131439275679\"\n",
      "[1] \"tp 0.974171667101487\"\n",
      "[1] \"tp 0.939256788947118\"\n",
      "[1] \"lfcTPMDesc\"\n",
      "[1] \"tp 0.998930862437634\"\n",
      "[1] \"tp 0.97330325249107\"\n",
      "[1] \"tp 0.937\"\n",
      "[1] \"term\"\n",
      "[1] \"tp 0.862373997119934\"\n",
      "[1] \"tp 0.852202826267664\"\n",
      "[1] \"tp 0.823014105419451\"\n",
      "[1] \"lfcTPM\"\n",
      "[1] \"tp 0.99179580674567\"\n",
      "[1] \"tp 0.966758310422394\"\n",
      "[1] \"tp 0.931144550843593\"\n",
      "[1] \"irv_height_0.05\"\n",
      "[1] \"tp 0.989345032905045\"\n",
      "[1] \"tp 0.958007303077726\"\n",
      "[1] \"tp 0.915940663998116\"\n",
      "[1] \"irv_height_0.1\"\n",
      "[1] \"tp 0.989531840651352\"\n",
      "[1] \"tp 0.962882096069869\"\n",
      "[1] \"tp 0.925461741424802\"\n",
      "[1] \"irv_height_1\"\n",
      "[1] \"tp 0.998256624825662\"\n",
      "[1] \"tp 0.964686407945558\"\n",
      "[1] \"tp 0.923314378554021\"\n",
      "              Method Metric    FDR_0.01   FDR_0.05   FDR_0.10\n",
      "fdr            Swish    FDR  0.01039661 0.04525862  0.0816971\n",
      "tpr            Swish    TPR   0.5842237  0.7049329  0.7601728\n",
      "fdr1             LFC    FDR 0.006868561 0.02582833 0.06074321\n",
      "tpr1             LFC    TPR   0.6109084  0.7171116  0.7572499\n",
      "fdr2      lfcTPMDesc    FDR 0.001069138 0.02669675      0.063\n",
      "tpr2      lfcTPMDesc    TPR   0.3833949  0.7081111  0.7689783\n",
      "fdr3            term    FDR    0.137626  0.1477972  0.1769859\n",
      "tpr3            term    TPR   0.5204221  0.6363749   0.688144\n",
      "fdr4          lfcTPM    FDR 0.008204193 0.03324169 0.06885545\n",
      "tpr4          lfcTPM    TPR   0.6236148  0.7390141  0.7802828\n",
      "fdr5 irv_height_0.05    FDR  0.01065497  0.0419927 0.08405934\n",
      "tpr5 irv_height_0.05    TPR   0.6280088  0.7306545  0.7738214\n",
      "fdr6  irv_height_0.1    FDR  0.01046816  0.0371179 0.07453826\n",
      "tpr6  irv_height_0.1    TPR   0.6233742  0.7270562  0.7710203\n",
      "fdr7    irv_height_1    FDR 0.001743375 0.03531359 0.07668562\n",
      "tpr7    irv_height_1    TPR   0.3916017  0.7174121  0.7773218\n"
     ]
    }
   ],
   "source": [
    "df <- data.frame(Method=character(), Metric=character(), FDR_0.01 = numeric(), FDR_0.05 = numeric(), FDR_0.10 = numeric())\n",
    "for(n in names(detNodes))\n",
    "{\n",
    "    print(n)\n",
    "    stats <-  sapply(seq_along(detNodes[[n]]), function(i) computeMetOut(detNodes[[n]][[i]], logFCNodes, tree = tree, negNodes = negNodes[[n]][[i]], lfcThresh = rootFC))\n",
    "    colnames(stats) <- colnames(df)[c(3:5)]\n",
    "    stats <- cbind(Method=rep(n,2), Metric = c(\"FDR\", \"TPR\"), stats)\n",
    "    df <- rbind(df, stats)\n",
    "}\n",
    "print(df)"
   ]
  },
  {
   "cell_type": "markdown",
   "id": "cbe3bdd2",
   "metadata": {},
   "source": [
    "#### Parse Terminus"
   ]
  },
  {
   "cell_type": "code",
   "execution_count": 6,
   "id": "efa77bf7",
   "metadata": {},
   "outputs": [
    {
     "name": "stderr",
     "output_type": "stream",
     "text": [
      "importing quantifications\n",
      "\n",
      "reading in files with read_tsv\n",
      "\n",
      "1 \n",
      "2 \n",
      "3 \n",
      "4 \n",
      "5 \n",
      "6 \n",
      "7 \n",
      "8 \n",
      "9 \n",
      "10 \n",
      "11 \n",
      "12 \n",
      "\n",
      "\n",
      "found matching transcriptome:\n",
      "[ GENCODE - Homo sapiens - release 26 ]\n",
      "\n",
      "loading existing TxDb created: 2022-08-19 22:12:59\n",
      "\n",
      "loading existing transcript ranges created: 2022-08-19 22:13:01\n",
      "\n"
     ]
    },
    {
     "data": {
      "text/html": [
       "<style>\n",
       ".list-inline {list-style: none; margin:0; padding: 0}\n",
       ".list-inline>li {display: inline-block}\n",
       ".list-inline>li:not(:last-child)::after {content: \"\\00b7\"; padding: 0 .5ex}\n",
       "</style>\n",
       "<ol class=list-inline><li>129988</li><li>12</li></ol>\n"
      ],
      "text/latex": [
       "\\begin{enumerate*}\n",
       "\\item 129988\n",
       "\\item 12\n",
       "\\end{enumerate*}\n"
      ],
      "text/markdown": [
       "1. 129988\n",
       "2. 12\n",
       "\n",
       "\n"
      ],
      "text/plain": [
       "[1] 129988     12"
      ]
     },
     "metadata": {},
     "output_type": "display_data"
    }
   ],
   "source": [
    "suppressPackageStartupMessages(source(\"old_terminus_helper.R\"))\n",
    "dir <- \"/fs/cbcb-lab/rob/students/noor/Uncertainity/brain_sim_nodtu/mode=gc_bias/post_type=gibbs_nrep=100_tf=100/terminus/\"\n",
    "seBrainSim <- tximeta(coldata)\n",
    "yTermThrNS <- seBrainSim[rownames(tse)[1:l],]\n",
    "groupsClust <- parseClustFile(file.path(dir, \"old\", \"1_1\", \"clusters.txt\"), yTermThrNS)\n",
    "mInds <- seq(nrow(yTermThrNS) + length(groupsClust))\n",
    "yAggTermThrNS <- prepOSwish(yTermThrNS, mInds, groupsClust)\n",
    "\n",
    "rownames(yAggTermThrNS)[l+1:length(groupsClust)] <- paste(\"Node\", as.character(l+1:length(groupsClust)),sep=\"\")\n",
    "metadata(yAggTermThrNS)[[\"txpsAnn\"]] <- rowData(yTermThrNS)\n",
    "yAggTermThrNS <- yAggTermThrNS[-unlist(groupsClust),]\n",
    "dim(yAggTermThrNS)"
   ]
  },
  {
   "cell_type": "code",
   "execution_count": 7,
   "id": "466494f9",
   "metadata": {},
   "outputs": [],
   "source": [
    "aggCountsNodes <- computeOAggNodesU(groupsClust, mInds, sim.counts.mat)\n",
    "logFCNodesTerm <- ifelse(rowSums(aggCountsNodes)==0, 0, log2(aggCountsNodes[,2]+1)-log2(aggCountsNodes[,1]+1))\n",
    "names(logFCNodesTerm)[(l+1):length(logFCNodesTerm)] <- paste(\"Node\", names(logFCNodesTerm)[(l+1):length(logFCNodesTerm)], sep=\"\")\n"
   ]
  },
  {
   "cell_type": "code",
   "execution_count": 8,
   "id": "98b6cd7f",
   "metadata": {},
   "outputs": [],
   "source": [
    "yAggTermThrNS <- fishpond::scaleInfReps(yAggTermThrNS)\n",
    "yAggTermThrNS <- labelKeep(yAggTermThrNS)\n",
    "set.seed(1)\n",
    "yAggTermThrNS <- swish(yAggTermThrNS, x=\"condition\")"
   ]
  },
  {
   "cell_type": "code",
   "execution_count": 73,
   "id": "2981b281",
   "metadata": {},
   "outputs": [
    {
     "name": "stdout",
     "output_type": "stream",
     "text": [
      "[1] \"tp 0.991154083521909\"\n",
      "[1] \"tp 0.962261014131338\"\n",
      "[1] \"tp 0.924127691165553\"\n"
     ]
    }
   ],
   "source": [
    "detNodes[[\"term\"]] <- lapply(c(0.01, 0.05, 0.1), function(x) {\n",
    "        nodes <- rownames(yAggTermThrNS)[which(mcols(yAggTermThrNS)[,\"qvalue\"] <= x)]\n",
    "        match(nodes, names(logFCNodesTerm))\n",
    "    })\n",
    "negNodes[[\"term\"]] <- lapply(c(0.01, 0.05, 0.1), function(x) {\n",
    "        nodes <- rownames(yAggTermThrNS)[setdiff(seq(nrow(yAggTermThrNS)),\n",
    "                                                 which(mcols(yAggTermThrNS)[,\"qvalue\"] <= x))]\n",
    "        match(nodes, names(logFCNodesTerm))\n",
    "    })\n",
    "stats <-  sapply(seq_along(detNodes[[\"term\"]]), function(i) computeMetOut(detNodes[[\"term\"]][[i]], \n",
    "                                                                          logFCNodesTerm, tree = NULL, \n",
    "                                                                          negNodes = negNodes[[\"term\"]][[i]],\n",
    "                                                                          lfcThresh = rootFC))\n",
    "colnames(stats) <- colnames(df)[c(3:5)]\n",
    "stats <- cbind(Method=rep(\"term\",2), Metric = c(\"FDR\", \"TPR\"), stats)\n",
    "df <- rbind(df, stats)\n",
    "# detNodes[[\"term\"]] <- lapply(c(0.01, 0.05, 0.1), function(x) {\n",
    "#     nodes <- which(mcols(yAggTermThrNS)[,\"qvalue\"] <= x)\n",
    "#     tgroups <- nodes[nodes > l]\n",
    "#     groupTxps <- unlist(groupsClust) ## Transcripts covered by the groups\n",
    "#     txps <- intersect(nodes, setdiff(seq(l), groupTxps))\n",
    "#     c(txps, tgroups)\n",
    "# })\n",
    "# negNodes[[\"term\"]] <- lapply(detNodes[[\"term\"]], function(nodes) {\n",
    "#     groupTxps <- unlist(groupsClust)\n",
    "#     ndnodes <- setdiff(l+(1:length(groupsClust)), nodes)\n",
    "#     ndtxps <- setdiff(seq(l), c(nodes, groupTxps))\n",
    "#     c(ndtxps, ndnodes)\n",
    "# })"
   ]
  },
  {
   "cell_type": "code",
   "execution_count": 76,
   "id": "7f165ca6",
   "metadata": {},
   "outputs": [
    {
     "data": {
      "text/html": [
       "<table class=\"dataframe\">\n",
       "<caption>A data.frame: 16 × 5</caption>\n",
       "<thead>\n",
       "\t<tr><th></th><th scope=col>Method</th><th scope=col>Metric</th><th scope=col>FDR_0.01</th><th scope=col>FDR_0.05</th><th scope=col>FDR_0.10</th></tr>\n",
       "\t<tr><th></th><th scope=col>&lt;named list&gt;</th><th scope=col>&lt;named list&gt;</th><th scope=col>&lt;named list&gt;</th><th scope=col>&lt;named list&gt;</th><th scope=col>&lt;named list&gt;</th></tr>\n",
       "</thead>\n",
       "<tbody>\n",
       "\t<tr><th scope=row>fdr</th><td>Swish</td><td>FDR</td><td>0.01039661</td><td>0.04525862</td><td>0.0816971</td></tr>\n",
       "\t<tr><th scope=row>tpr</th><td>Swish</td><td>TPR</td><td>0.5842237</td><td>0.7049329</td><td>0.7601728</td></tr>\n",
       "\t<tr><th scope=row>fdr1</th><td>LFC</td><td>FDR</td><td>0.006868561</td><td>0.02582833</td><td>0.06074321</td></tr>\n",
       "\t<tr><th scope=row>tpr1</th><td>LFC</td><td>TPR</td><td>0.6109084</td><td>0.7171116</td><td>0.7572499</td></tr>\n",
       "\t<tr><th scope=row>fdr2</th><td>lfcTPMDesc</td><td>FDR</td><td>0.001069138</td><td>0.02669675</td><td>0.063</td></tr>\n",
       "\t<tr><th scope=row>tpr2</th><td>lfcTPMDesc</td><td>TPR</td><td>0.3833949</td><td>0.7081111</td><td>0.7689783</td></tr>\n",
       "\t<tr><th scope=row>fdr4</th><td>lfcTPM</td><td>FDR</td><td>0.008204193</td><td>0.03324169</td><td>0.06885545</td></tr>\n",
       "\t<tr><th scope=row>tpr4</th><td>lfcTPM</td><td>TPR</td><td>0.6236148</td><td>0.7390141</td><td>0.7802828</td></tr>\n",
       "\t<tr><th scope=row>fdr5</th><td>irv_height_0.05</td><td>FDR</td><td>0.01065497</td><td>0.0419927</td><td>0.08405934</td></tr>\n",
       "\t<tr><th scope=row>tpr5</th><td>irv_height_0.05</td><td>TPR</td><td>0.6280088</td><td>0.7306545</td><td>0.7738214</td></tr>\n",
       "\t<tr><th scope=row>fdr6</th><td>irv_height_0.1</td><td>FDR</td><td>0.01046816</td><td>0.0371179</td><td>0.07453826</td></tr>\n",
       "\t<tr><th scope=row>tpr6</th><td>irv_height_0.1</td><td>TPR</td><td>0.6233742</td><td>0.7270562</td><td>0.7710203</td></tr>\n",
       "\t<tr><th scope=row>fdr7</th><td>irv_height_1</td><td>FDR</td><td>0.001743375</td><td>0.03531359</td><td>0.07668562</td></tr>\n",
       "\t<tr><th scope=row>tpr7</th><td>irv_height_1</td><td>TPR</td><td>0.3916017</td><td>0.7174121</td><td>0.7773218</td></tr>\n",
       "\t<tr><th scope=row>fdr8</th><td>term</td><td>FDR</td><td>0.008845916</td><td>0.03773899</td><td>0.07587231</td></tr>\n",
       "\t<tr><th scope=row>tpr8</th><td>term</td><td>TPR</td><td>0.5930576</td><td>0.7124569</td><td>0.7661251</td></tr>\n",
       "</tbody>\n",
       "</table>\n"
      ],
      "text/latex": [
       "A data.frame: 16 × 5\n",
       "\\begin{tabular}{r|lllll}\n",
       "  & Method & Metric & FDR\\_0.01 & FDR\\_0.05 & FDR\\_0.10\\\\\n",
       "  & <named list> & <named list> & <named list> & <named list> & <named list>\\\\\n",
       "\\hline\n",
       "\tfdr & Swish & FDR & 0.01039661 & 0.04525862 & 0.0816971\\\\\n",
       "\ttpr & Swish & TPR & 0.5842237 & 0.7049329 & 0.7601728\\\\\n",
       "\tfdr1 & LFC & FDR & 0.006868561 & 0.02582833 & 0.06074321\\\\\n",
       "\ttpr1 & LFC & TPR & 0.6109084 & 0.7171116 & 0.7572499\\\\\n",
       "\tfdr2 & lfcTPMDesc & FDR & 0.001069138 & 0.02669675 & 0.063\\\\\n",
       "\ttpr2 & lfcTPMDesc & TPR & 0.3833949 & 0.7081111 & 0.7689783\\\\\n",
       "\tfdr4 & lfcTPM & FDR & 0.008204193 & 0.03324169 & 0.06885545\\\\\n",
       "\ttpr4 & lfcTPM & TPR & 0.6236148 & 0.7390141 & 0.7802828\\\\\n",
       "\tfdr5 & irv\\_height\\_0.05 & FDR & 0.01065497 & 0.0419927 & 0.08405934\\\\\n",
       "\ttpr5 & irv\\_height\\_0.05 & TPR & 0.6280088 & 0.7306545 & 0.7738214\\\\\n",
       "\tfdr6 & irv\\_height\\_0.1 & FDR & 0.01046816 & 0.0371179 & 0.07453826\\\\\n",
       "\ttpr6 & irv\\_height\\_0.1 & TPR & 0.6233742 & 0.7270562 & 0.7710203\\\\\n",
       "\tfdr7 & irv\\_height\\_1 & FDR & 0.001743375 & 0.03531359 & 0.07668562\\\\\n",
       "\ttpr7 & irv\\_height\\_1 & TPR & 0.3916017 & 0.7174121 & 0.7773218\\\\\n",
       "\tfdr8 & term & FDR & 0.008845916 & 0.03773899 & 0.07587231\\\\\n",
       "\ttpr8 & term & TPR & 0.5930576 & 0.7124569 & 0.7661251\\\\\n",
       "\\end{tabular}\n"
      ],
      "text/markdown": [
       "\n",
       "A data.frame: 16 × 5\n",
       "\n",
       "| <!--/--> | Method &lt;named list&gt; | Metric &lt;named list&gt; | FDR_0.01 &lt;named list&gt; | FDR_0.05 &lt;named list&gt; | FDR_0.10 &lt;named list&gt; |\n",
       "|---|---|---|---|---|---|\n",
       "| fdr | Swish | FDR | 0.01039661 | 0.04525862 | 0.0816971 |\n",
       "| tpr | Swish | TPR | 0.5842237 | 0.7049329 | 0.7601728 |\n",
       "| fdr1 | LFC | FDR | 0.006868561 | 0.02582833 | 0.06074321 |\n",
       "| tpr1 | LFC | TPR | 0.6109084 | 0.7171116 | 0.7572499 |\n",
       "| fdr2 | lfcTPMDesc | FDR | 0.001069138 | 0.02669675 | 0.063 |\n",
       "| tpr2 | lfcTPMDesc | TPR | 0.3833949 | 0.7081111 | 0.7689783 |\n",
       "| fdr4 | lfcTPM | FDR | 0.008204193 | 0.03324169 | 0.06885545 |\n",
       "| tpr4 | lfcTPM | TPR | 0.6236148 | 0.7390141 | 0.7802828 |\n",
       "| fdr5 | irv_height_0.05 | FDR | 0.01065497 | 0.0419927 | 0.08405934 |\n",
       "| tpr5 | irv_height_0.05 | TPR | 0.6280088 | 0.7306545 | 0.7738214 |\n",
       "| fdr6 | irv_height_0.1 | FDR | 0.01046816 | 0.0371179 | 0.07453826 |\n",
       "| tpr6 | irv_height_0.1 | TPR | 0.6233742 | 0.7270562 | 0.7710203 |\n",
       "| fdr7 | irv_height_1 | FDR | 0.001743375 | 0.03531359 | 0.07668562 |\n",
       "| tpr7 | irv_height_1 | TPR | 0.3916017 | 0.7174121 | 0.7773218 |\n",
       "| fdr8 | term | FDR | 0.008845916 | 0.03773899 | 0.07587231 |\n",
       "| tpr8 | term | TPR | 0.5930576 | 0.7124569 | 0.7661251 |\n",
       "\n"
      ],
      "text/plain": [
       "     Method          Metric FDR_0.01    FDR_0.05   FDR_0.10  \n",
       "fdr  Swish           FDR    0.01039661  0.04525862 0.0816971 \n",
       "tpr  Swish           TPR    0.5842237   0.7049329  0.7601728 \n",
       "fdr1 LFC             FDR    0.006868561 0.02582833 0.06074321\n",
       "tpr1 LFC             TPR    0.6109084   0.7171116  0.7572499 \n",
       "fdr2 lfcTPMDesc      FDR    0.001069138 0.02669675 0.063     \n",
       "tpr2 lfcTPMDesc      TPR    0.3833949   0.7081111  0.7689783 \n",
       "fdr4 lfcTPM          FDR    0.008204193 0.03324169 0.06885545\n",
       "tpr4 lfcTPM          TPR    0.6236148   0.7390141  0.7802828 \n",
       "fdr5 irv_height_0.05 FDR    0.01065497  0.0419927  0.08405934\n",
       "tpr5 irv_height_0.05 TPR    0.6280088   0.7306545  0.7738214 \n",
       "fdr6 irv_height_0.1  FDR    0.01046816  0.0371179  0.07453826\n",
       "tpr6 irv_height_0.1  TPR    0.6233742   0.7270562  0.7710203 \n",
       "fdr7 irv_height_1    FDR    0.001743375 0.03531359 0.07668562\n",
       "tpr7 irv_height_1    TPR    0.3916017   0.7174121  0.7773218 \n",
       "fdr8 term            FDR    0.008845916 0.03773899 0.07587231\n",
       "tpr8 term            TPR    0.5930576   0.7124569  0.7661251 "
      ]
     },
     "metadata": {},
     "output_type": "display_data"
    }
   ],
   "source": [
    "df"
   ]
  },
  {
   "cell_type": "code",
   "execution_count": 70,
   "id": "d70270f9",
   "metadata": {},
   "outputs": [],
   "source": [
    "saveDir <- \"environment/brain_sim_nodtu/mode=gc_bias/post_type=gibbs_nrep=100_tf=100/comp_trees/DE\"\n",
    "save(cuts, file=file.path(saveDir, \"cutsCons.RData\"))\n",
    "save(tse, file=file.path(saveDir, \"tseCons.RData\"))"
   ]
  },
  {
   "cell_type": "code",
   "execution_count": 114,
   "id": "8fc41e53",
   "metadata": {},
   "outputs": [],
   "source": [
    "negNodesDesc <- list()\n",
    "for(n in names(negNodes)) {\n",
    "    if(n == \"Swish\")\n",
    "        negNodesDesc[[n]] <- negNodes[[n]]\n",
    "    if(n != \"term\")\n",
    "        negNodesDesc[[n]] <- lapply(negNodes[[n]], function(x) unlist(Descendants(tree, x)))\n",
    "}\n",
    "negNodesDesc[[\"term\"]] <- lapply(negNodes[[\"term\"]], function(x) {\n",
    "    dd <- x[x>l]\n",
    "    r <- setdiff(x, dd)\n",
    "    dd <- dd - l\n",
    "    c(unlist(groupsClust[dd]), r) \n",
    "})"
   ]
  },
  {
   "cell_type": "code",
   "execution_count": 123,
   "id": "ad3b1362",
   "metadata": {},
   "outputs": [
    {
     "data": {
      "text/html": [
       "<style>\n",
       ".list-inline {list-style: none; margin:0; padding: 0}\n",
       ".list-inline>li {display: inline-block}\n",
       ".list-inline>li:not(:last-child)::after {content: \"\\00b7\"; padding: 0 .5ex}\n",
       "</style>\n",
       "<ol class=list-inline><li>83114</li><li>82404</li><li>82019</li></ol>\n"
      ],
      "text/latex": [
       "\\begin{enumerate*}\n",
       "\\item 83114\n",
       "\\item 82404\n",
       "\\item 82019\n",
       "\\end{enumerate*}\n"
      ],
      "text/markdown": [
       "1. 83114\n",
       "2. 82404\n",
       "3. 82019\n",
       "\n",
       "\n"
      ],
      "text/plain": [
       "[1] 83114 82404 82019"
      ]
     },
     "metadata": {},
     "output_type": "display_data"
    },
    {
     "data": {
      "text/html": [
       "<style>\n",
       ".list-inline {list-style: none; margin:0; padding: 0}\n",
       ".list-inline>li {display: inline-block}\n",
       ".list-inline>li:not(:last-child)::after {content: \"\\00b7\"; padding: 0 .5ex}\n",
       "</style>\n",
       "<ol class=list-inline><li>125098</li><li>123297</li><li>122281</li></ol>\n"
      ],
      "text/latex": [
       "\\begin{enumerate*}\n",
       "\\item 125098\n",
       "\\item 123297\n",
       "\\item 122281\n",
       "\\end{enumerate*}\n"
      ],
      "text/markdown": [
       "1. 125098\n",
       "2. 123297\n",
       "3. 122281\n",
       "\n",
       "\n"
      ],
      "text/plain": [
       "[1] 125098 123297 122281"
      ]
     },
     "metadata": {},
     "output_type": "display_data"
    }
   ],
   "source": [
    "sapply(negNodes[[\"lfcTPM\"]],length)\n",
    "sapply(negNodesDesc[[\"lfcTPM\"]],length)\n"
   ]
  },
  {
   "cell_type": "code",
   "execution_count": 118,
   "id": "391dd6c0",
   "metadata": {},
   "outputs": [
    {
     "name": "stdout",
     "output_type": "stream",
     "text": [
      "[1] \"Swish\"\n",
      "[1] \"tp 0.989603388525221\"\n",
      "[1] \"tp 0.954741379310345\"\n",
      "[1] \"tp 0.918302897157765\"\n",
      "[1] \"LFC\"\n",
      "[1] \"tp 0.993131439275679\"\n",
      "[1] \"tp 0.974171667101487\"\n",
      "[1] \"tp 0.939256788947118\"\n",
      "[1] \"lfcTPMDesc\"\n",
      "[1] \"tp 0.998930862437634\"\n",
      "[1] \"tp 0.97330325249107\"\n",
      "[1] \"tp 0.937\"\n",
      "[1] \"term\"\n",
      "[1] \"lfcTPM\"\n",
      "[1] \"tp 0.99179580674567\"\n",
      "[1] \"tp 0.966758310422394\"\n",
      "[1] \"tp 0.931144550843593\"\n",
      "[1] \"irv_height_0.05\"\n",
      "[1] \"tp 0.989345032905045\"\n",
      "[1] \"tp 0.958007303077726\"\n",
      "[1] \"tp 0.915940663998116\"\n",
      "[1] \"irv_height_0.1\"\n",
      "[1] \"tp 0.989531840651352\"\n",
      "[1] \"tp 0.962882096069869\"\n",
      "[1] \"tp 0.925461741424802\"\n",
      "[1] \"irv_height_1\"\n",
      "[1] \"tp 0.998256624825662\"\n",
      "[1] \"tp 0.964686407945558\"\n",
      "[1] \"tp 0.923314378554021\"\n",
      "[1] \"tp 0.991154083521909\"\n",
      "[1] \"tp 0.962261014131338\"\n",
      "[1] \"tp 0.924127691165553\"\n",
      "              Method Metric    FDR_0.01   FDR_0.05   FDR_0.10\n",
      "fdr            Swish    FDR  0.01039661 0.04525862  0.0816971\n",
      "tpr            Swish    TPR   0.5842237  0.7049329  0.7601728\n",
      "fdr1             LFC    FDR 0.006868561 0.02582833 0.06074321\n",
      "tpr1             LFC    TPR   0.5822808  0.6961223   0.737285\n",
      "fdr2      lfcTPMDesc    FDR 0.001069138 0.02669675      0.063\n",
      "tpr2      lfcTPMDesc    TPR   0.3697889  0.7010156  0.7631329\n",
      "fdr3          lfcTPM    FDR 0.008204193 0.03324169 0.06885545\n",
      "tpr3          lfcTPM    TPR   0.5974739  0.7200298  0.7622247\n",
      "fdr4 irv_height_0.05    FDR  0.01065497  0.0419927 0.08405934\n",
      "tpr4 irv_height_0.05    TPR   0.5848462  0.6959075  0.7426499\n",
      "fdr5  irv_height_0.1    FDR  0.01046816  0.0371179 0.07453826\n",
      "tpr5  irv_height_0.1    TPR   0.5889581  0.6995065  0.7456156\n",
      "fdr6    irv_height_1    FDR 0.001743375 0.03531359 0.07668562\n",
      "tpr6    irv_height_1    TPR   0.3795572  0.7098389  0.7718321\n",
      "fdr7            term    FDR 0.008845916 0.03773899 0.07587231\n",
      "tpr7            term    TPR   0.5897907  0.7103584  0.7644313\n"
     ]
    }
   ],
   "source": [
    "dfO <- data.frame(Method=character(), Metric=character(), FDR_0.01 = numeric(), FDR_0.05 = numeric(), FDR_0.10 = numeric())\n",
    "for(n in names(detNodes))\n",
    "{\n",
    "    print(n)\n",
    "    if(n != \"term\") {\n",
    "        stats <-  sapply(seq_along(detNodes[[n]]), function(i) computeMetOut(detNodes[[n]][[i]], \n",
    "                                                                             logFCNodes, tree = tree, \n",
    "                                                                             negNodes = negNodesDesc[[n]][[i]], \n",
    "                                                                             lfcThresh = rootFC))\n",
    "        colnames(stats) <- colnames(df)[c(3:5)]\n",
    "        stats <- cbind(Method=rep(n,2), Metric = c(\"FDR\", \"TPR\"), stats)\n",
    "        dfO <- rbind(dfO, stats)\n",
    "    }\n",
    "    \n",
    "}\n",
    "stats <-  sapply(seq_along(detNodes[[\"term\"]]), function(i) computeMetOut(detNodes[[\"term\"]][[i]], \n",
    "                                              logFCNodesTerm, tree = NULL, \n",
    "                                              negNodes = negNodesDesc[[\"term\"]][[i]],\n",
    "                                              lfcThresh = rootFC))\n",
    "colnames(stats) <- colnames(df)[c(3:5)]\n",
    "stats <- cbind(Method=rep(\"term\",2), Metric = c(\"FDR\", \"TPR\"), stats)\n",
    "dfO <- rbind(dfO, stats)\n",
    "\n",
    "print(dfO)"
   ]
  },
  {
   "cell_type": "code",
   "execution_count": 125,
   "id": "2cf90c64",
   "metadata": {},
   "outputs": [],
   "source": [
    "computeMetOut <- function (detNodes, logFCTrue, negNodes = NULL, nodesLooked = NULL, \n",
    "    tree = NULL, onlyDet = F, lfcThresh = 0.067, res = T) \n",
    "{\n",
    "    if (onlyDet) {\n",
    "        if (is.null(tree)) \n",
    "            stop(\"Tree cannot be null\")\n",
    "        if (!is.null(negNodes)) \n",
    "            stop(\"neg nodes should be null\")\n",
    "        descLeaves <- unlist(Descendants(tree, detNodes, \"tips\"))\n",
    "        nodesLooked <- sort(c(setdiff(seq_along(tree$tip.label), \n",
    "            descLeaves), detNodes))\n",
    "    }\n",
    "    if (!is.null(negNodes)) \n",
    "        nodesLooked <- sort(c(negNodes, detNodes))\n",
    "    logFCTrue <- logFCTrue[nodesLooked]\n",
    "    print(length(logFCTrue))\n",
    "    allNodes <- seq_along(nodesLooked)\n",
    "    names(allNodes) <- as.character(nodesLooked)\n",
    "    sNodes <- allNodes[as.character(detNodes)]\n",
    "    tpNodes <- which(abs(logFCTrue) >= lfcThresh)\n",
    "    tp = length(intersect(sNodes, tpNodes))/length(sNodes)\n",
    "    fp = length(setdiff(sNodes, tpNodes))/length(sNodes)\n",
    "    print(paste(\"tp\", tp))\n",
    "    met <- computeTPFP(tpNodes, sNodes, y = NULL, logFC = logFCTrue, \n",
    "        type = \"all\")\n",
    "    if (res) \n",
    "        return(met)\n",
    "    fps <- as.numeric(names(allNodes)[setdiff(sNodes, tpNodes)])\n",
    "    fns <- as.numeric(names(allNodes)[setdiff(tpNodes, sNodes)])\n",
    "    tps <- as.numeric(names(allNodes)[tpNodes])\n",
    "    tns <- as.numeric(names(allNodes)[setdiff(allNodes, tpNodes)])\n",
    "    return(list(fps = fps, fns = fns, tps = tps, tns = tns))\n",
    "}"
   ]
  },
  {
   "cell_type": "code",
   "execution_count": 130,
   "id": "05b60abf",
   "metadata": {},
   "outputs": [
    {
     "name": "stdout",
     "output_type": "stream",
     "text": [
      "[1] 129988\n",
      "[1] \"tp 0.991154083521909\"\n",
      "[1] 129988\n",
      "[1] \"tp 0.962261014131338\"\n",
      "[1] 129988\n",
      "[1] \"tp 0.924127691165553\"\n"
     ]
    },
    {
     "data": {
      "text/html": [
       "<table class=\"dataframe\">\n",
       "<caption>A matrix: 2 × 3</caption>\n",
       "<tbody>\n",
       "\t<tr><th scope=row>fdr</th><td>0.008845916</td><td>0.03773899</td><td>0.07587231</td></tr>\n",
       "\t<tr><th scope=row>tpr</th><td>0.5930576</td><td>0.7124569</td><td>0.7661251</td></tr>\n",
       "</tbody>\n",
       "</table>\n"
      ],
      "text/latex": [
       "A matrix: 2 × 3\n",
       "\\begin{tabular}{r|lll}\n",
       "\tfdr & 0.008845916 & 0.03773899 & 0.07587231\\\\\n",
       "\ttpr & 0.5930576 & 0.7124569 & 0.7661251\\\\\n",
       "\\end{tabular}\n"
      ],
      "text/markdown": [
       "\n",
       "A matrix: 2 × 3\n",
       "\n",
       "| fdr | 0.008845916 | 0.03773899 | 0.07587231 |\n",
       "| tpr | 0.5930576 | 0.7124569 | 0.7661251 |\n",
       "\n"
      ],
      "text/plain": [
       "    [,1]        [,2]       [,3]      \n",
       "fdr 0.008845916 0.03773899 0.07587231\n",
       "tpr 0.5930576   0.7124569  0.7661251 "
      ]
     },
     "metadata": {},
     "output_type": "display_data"
    },
    {
     "name": "stdout",
     "output_type": "stream",
     "text": [
      "[1] 137079\n",
      "[1] \"tp 0.991154083521909\"\n",
      "[1] 136978\n",
      "[1] \"tp 0.962261014131338\"\n",
      "[1] 136868\n",
      "[1] \"tp 0.924127691165553\"\n"
     ]
    },
    {
     "data": {
      "text/html": [
       "<table class=\"dataframe\">\n",
       "<caption>A matrix: 2 × 3</caption>\n",
       "<tbody>\n",
       "\t<tr><th scope=row>fdr</th><td>0.008845916</td><td>0.03773899</td><td>0.07587231</td></tr>\n",
       "\t<tr><th scope=row>tpr</th><td>0.5897907</td><td>0.7103584</td><td>0.7644313</td></tr>\n",
       "</tbody>\n",
       "</table>\n"
      ],
      "text/latex": [
       "A matrix: 2 × 3\n",
       "\\begin{tabular}{r|lll}\n",
       "\tfdr & 0.008845916 & 0.03773899 & 0.07587231\\\\\n",
       "\ttpr & 0.5897907 & 0.7103584 & 0.7644313\\\\\n",
       "\\end{tabular}\n"
      ],
      "text/markdown": [
       "\n",
       "A matrix: 2 × 3\n",
       "\n",
       "| fdr | 0.008845916 | 0.03773899 | 0.07587231 |\n",
       "| tpr | 0.5897907 | 0.7103584 | 0.7644313 |\n",
       "\n"
      ],
      "text/plain": [
       "    [,1]        [,2]       [,3]      \n",
       "fdr 0.008845916 0.03773899 0.07587231\n",
       "tpr 0.5897907   0.7103584  0.7644313 "
      ]
     },
     "metadata": {},
     "output_type": "display_data"
    }
   ],
   "source": [
    "n <- \"term\"\n",
    "sapply(seq_along(detNodes[[n]]), function(i) computeMetOut(detNodes[[n]][[i]], \n",
    "                                                                             logFCNodesTerm, tree = tree, \n",
    "                                                                             negNodes = negNodes[[n]][[i]], \n",
    "                                                                             lfcThresh = rootFC))\n",
    "sapply(seq_along(detNodes[[n]]), function(i) computeMetOut(detNodes[[n]][[i]], \n",
    "                                                                             logFCNodesTerm, tree = tree, \n",
    "                                                                             negNodes = negNodesDesc[[n]][[i]], \n",
    "                                                                             lfcThresh = rootFC))"
   ]
  },
  {
   "cell_type": "markdown",
   "id": "e495b961",
   "metadata": {},
   "source": [
    "### Using Mean Tree"
   ]
  },
  {
   "cell_type": "markdown",
   "id": "48ae1fdb",
   "metadata": {},
   "source": [
    "clustFile <- \"../brain_sim_nodtu/mode=gc_bias/post_type=gibbs_nrep=100_tf=100/terminus/no_threshold_meaninf_0/group_nwk.txt\"\n",
    "tseMean <- buildTSE(treeTermFile = clustFile, coldata = coldata)\n",
    "tempMean <- tseMean"
   ]
  },
  {
   "cell_type": "code",
   "execution_count": 44,
   "id": "d38f7520",
   "metadata": {},
   "outputs": [
    {
     "name": "stderr",
     "output_type": "stream",
     "text": [
      "loading existing TxDb created: 2022-08-19 22:12:59\n",
      "\n",
      "obtaining transcript-to-gene mapping from database\n",
      "\n",
      "loading existing gene ranges created: 2022-08-26 02:08:58\n",
      "\n",
      "summarizing abundance\n",
      "\n",
      "summarizing counts\n",
      "\n",
      "summarizing length\n",
      "\n",
      "summarizing inferential replicates\n",
      "\n"
     ]
    }
   ],
   "source": [
    "tseMean <- computeSizeFactors(tseMean, type = \"gene\", force=T)"
   ]
  },
  {
   "cell_type": "code",
   "execution_count": 43,
   "id": "4c07d003",
   "metadata": {},
   "outputs": [
    {
     "data": {
      "text/html": [
       "<table class=\"dataframe\">\n",
       "<caption>A matrix: 6 × 12 of type dbl</caption>\n",
       "<tbody>\n",
       "\t<tr><td>1.061418</td><td>1.058779</td><td>1.089524</td><td>1.068092</td><td>1.081549</td><td>1.079944</td><td>1.081859</td><td>1.069239</td><td>1.068200</td><td>1.055906</td><td>1.035646</td><td>1.058276</td></tr>\n",
       "\t<tr><td>1.061022</td><td>1.060795</td><td>1.090320</td><td>1.071405</td><td>1.076605</td><td>1.074789</td><td>1.086452</td><td>1.069255</td><td>1.070530</td><td>1.060016</td><td>1.035798</td><td>1.056609</td></tr>\n",
       "\t<tr><td>1.061221</td><td>1.055825</td><td>1.093494</td><td>1.068392</td><td>1.081146</td><td>1.078655</td><td>1.083503</td><td>1.071057</td><td>1.067624</td><td>1.058296</td><td>1.035503</td><td>1.057139</td></tr>\n",
       "\t<tr><td>1.064240</td><td>1.056472</td><td>1.089070</td><td>1.070239</td><td>1.079451</td><td>1.077497</td><td>1.080748</td><td>1.069646</td><td>1.066085</td><td>1.059320</td><td>1.037925</td><td>1.058386</td></tr>\n",
       "\t<tr><td>1.060226</td><td>1.061972</td><td>1.088154</td><td>1.070815</td><td>1.079221</td><td>1.076508</td><td>1.082657</td><td>1.065983</td><td>1.071539</td><td>1.057004</td><td>1.037118</td><td>1.058489</td></tr>\n",
       "\t<tr><td>1.061679</td><td>1.061188</td><td>1.090690</td><td>1.068920</td><td>1.081331</td><td>1.078904</td><td>1.079540</td><td>1.067962</td><td>1.068549</td><td>1.056514</td><td>1.038436</td><td>1.059085</td></tr>\n",
       "</tbody>\n",
       "</table>\n"
      ],
      "text/latex": [
       "A matrix: 6 × 12 of type dbl\n",
       "\\begin{tabular}{llllllllllll}\n",
       "\t 1.061418 & 1.058779 & 1.089524 & 1.068092 & 1.081549 & 1.079944 & 1.081859 & 1.069239 & 1.068200 & 1.055906 & 1.035646 & 1.058276\\\\\n",
       "\t 1.061022 & 1.060795 & 1.090320 & 1.071405 & 1.076605 & 1.074789 & 1.086452 & 1.069255 & 1.070530 & 1.060016 & 1.035798 & 1.056609\\\\\n",
       "\t 1.061221 & 1.055825 & 1.093494 & 1.068392 & 1.081146 & 1.078655 & 1.083503 & 1.071057 & 1.067624 & 1.058296 & 1.035503 & 1.057139\\\\\n",
       "\t 1.064240 & 1.056472 & 1.089070 & 1.070239 & 1.079451 & 1.077497 & 1.080748 & 1.069646 & 1.066085 & 1.059320 & 1.037925 & 1.058386\\\\\n",
       "\t 1.060226 & 1.061972 & 1.088154 & 1.070815 & 1.079221 & 1.076508 & 1.082657 & 1.065983 & 1.071539 & 1.057004 & 1.037118 & 1.058489\\\\\n",
       "\t 1.061679 & 1.061188 & 1.090690 & 1.068920 & 1.081331 & 1.078904 & 1.079540 & 1.067962 & 1.068549 & 1.056514 & 1.038436 & 1.059085\\\\\n",
       "\\end{tabular}\n"
      ],
      "text/markdown": [
       "\n",
       "A matrix: 6 × 12 of type dbl\n",
       "\n",
       "| 1.061418 | 1.058779 | 1.089524 | 1.068092 | 1.081549 | 1.079944 | 1.081859 | 1.069239 | 1.068200 | 1.055906 | 1.035646 | 1.058276 |\n",
       "| 1.061022 | 1.060795 | 1.090320 | 1.071405 | 1.076605 | 1.074789 | 1.086452 | 1.069255 | 1.070530 | 1.060016 | 1.035798 | 1.056609 |\n",
       "| 1.061221 | 1.055825 | 1.093494 | 1.068392 | 1.081146 | 1.078655 | 1.083503 | 1.071057 | 1.067624 | 1.058296 | 1.035503 | 1.057139 |\n",
       "| 1.064240 | 1.056472 | 1.089070 | 1.070239 | 1.079451 | 1.077497 | 1.080748 | 1.069646 | 1.066085 | 1.059320 | 1.037925 | 1.058386 |\n",
       "| 1.060226 | 1.061972 | 1.088154 | 1.070815 | 1.079221 | 1.076508 | 1.082657 | 1.065983 | 1.071539 | 1.057004 | 1.037118 | 1.058489 |\n",
       "| 1.061679 | 1.061188 | 1.090690 | 1.068920 | 1.081331 | 1.078904 | 1.079540 | 1.067962 | 1.068549 | 1.056514 | 1.038436 | 1.059085 |\n",
       "\n"
      ],
      "text/plain": [
       "     [,1]     [,2]     [,3]     [,4]     [,5]     [,6]     [,7]     [,8]    \n",
       "[1,] 1.061418 1.058779 1.089524 1.068092 1.081549 1.079944 1.081859 1.069239\n",
       "[2,] 1.061022 1.060795 1.090320 1.071405 1.076605 1.074789 1.086452 1.069255\n",
       "[3,] 1.061221 1.055825 1.093494 1.068392 1.081146 1.078655 1.083503 1.071057\n",
       "[4,] 1.064240 1.056472 1.089070 1.070239 1.079451 1.077497 1.080748 1.069646\n",
       "[5,] 1.060226 1.061972 1.088154 1.070815 1.079221 1.076508 1.082657 1.065983\n",
       "[6,] 1.061679 1.061188 1.090690 1.068920 1.081331 1.078904 1.079540 1.067962\n",
       "     [,9]     [,10]    [,11]    [,12]   \n",
       "[1,] 1.068200 1.055906 1.035646 1.058276\n",
       "[2,] 1.070530 1.060016 1.035798 1.056609\n",
       "[3,] 1.067624 1.058296 1.035503 1.057139\n",
       "[4,] 1.066085 1.059320 1.037925 1.058386\n",
       "[5,] 1.071539 1.057004 1.037118 1.058489\n",
       "[6,] 1.068549 1.056514 1.038436 1.059085"
      ]
     },
     "metadata": {},
     "output_type": "display_data"
    }
   ],
   "source": [
    "sf <- metadata(tseMean)[[\"sf\"]]\n",
    "head(sf)"
   ]
  },
  {
   "cell_type": "code",
   "execution_count": 45,
   "id": "52e3a871",
   "metadata": {},
   "outputs": [
    {
     "data": {
      "text/html": [
       "<table class=\"dataframe\">\n",
       "<caption>A matrix: 6 × 12 of type dbl</caption>\n",
       "<tbody>\n",
       "\t<tr><td>1.0001943</td><td>0.9973298</td><td>1.028310</td><td>1.006719</td><td>1.030823</td><td>1.022191</td><td>1.022520</td><td>1.008900</td><td>1.009351</td><td>0.9981079</td><td>0.9815198</td><td>1.003305</td></tr>\n",
       "\t<tr><td>0.9998815</td><td>0.9996654</td><td>1.030461</td><td>1.007552</td><td>1.027919</td><td>1.022491</td><td>1.024612</td><td>1.010876</td><td>1.009580</td><td>0.9982391</td><td>0.9816553</td><td>1.003059</td></tr>\n",
       "\t<tr><td>0.9998093</td><td>0.9964782</td><td>1.028831</td><td>1.006117</td><td>1.028682</td><td>1.022965</td><td>1.023911</td><td>1.010577</td><td>1.008631</td><td>0.9977485</td><td>0.9801210</td><td>1.001996</td></tr>\n",
       "\t<tr><td>1.0003642</td><td>0.9981799</td><td>1.028679</td><td>1.007000</td><td>1.029750</td><td>1.019127</td><td>1.022167</td><td>1.009895</td><td>1.008996</td><td>0.9978374</td><td>0.9834319</td><td>1.002546</td></tr>\n",
       "\t<tr><td>0.9984975</td><td>0.9980182</td><td>1.027780</td><td>1.007357</td><td>1.030085</td><td>1.022416</td><td>1.025625</td><td>1.010189</td><td>1.010372</td><td>0.9984101</td><td>0.9817664</td><td>1.002547</td></tr>\n",
       "\t<tr><td>1.0018956</td><td>1.0000742</td><td>1.027852</td><td>1.007917</td><td>1.032456</td><td>1.022814</td><td>1.023980</td><td>1.011067</td><td>1.010251</td><td>0.9957233</td><td>0.9824462</td><td>1.001895</td></tr>\n",
       "</tbody>\n",
       "</table>\n"
      ],
      "text/latex": [
       "A matrix: 6 × 12 of type dbl\n",
       "\\begin{tabular}{llllllllllll}\n",
       "\t 1.0001943 & 0.9973298 & 1.028310 & 1.006719 & 1.030823 & 1.022191 & 1.022520 & 1.008900 & 1.009351 & 0.9981079 & 0.9815198 & 1.003305\\\\\n",
       "\t 0.9998815 & 0.9996654 & 1.030461 & 1.007552 & 1.027919 & 1.022491 & 1.024612 & 1.010876 & 1.009580 & 0.9982391 & 0.9816553 & 1.003059\\\\\n",
       "\t 0.9998093 & 0.9964782 & 1.028831 & 1.006117 & 1.028682 & 1.022965 & 1.023911 & 1.010577 & 1.008631 & 0.9977485 & 0.9801210 & 1.001996\\\\\n",
       "\t 1.0003642 & 0.9981799 & 1.028679 & 1.007000 & 1.029750 & 1.019127 & 1.022167 & 1.009895 & 1.008996 & 0.9978374 & 0.9834319 & 1.002546\\\\\n",
       "\t 0.9984975 & 0.9980182 & 1.027780 & 1.007357 & 1.030085 & 1.022416 & 1.025625 & 1.010189 & 1.010372 & 0.9984101 & 0.9817664 & 1.002547\\\\\n",
       "\t 1.0018956 & 1.0000742 & 1.027852 & 1.007917 & 1.032456 & 1.022814 & 1.023980 & 1.011067 & 1.010251 & 0.9957233 & 0.9824462 & 1.001895\\\\\n",
       "\\end{tabular}\n"
      ],
      "text/markdown": [
       "\n",
       "A matrix: 6 × 12 of type dbl\n",
       "\n",
       "| 1.0001943 | 0.9973298 | 1.028310 | 1.006719 | 1.030823 | 1.022191 | 1.022520 | 1.008900 | 1.009351 | 0.9981079 | 0.9815198 | 1.003305 |\n",
       "| 0.9998815 | 0.9996654 | 1.030461 | 1.007552 | 1.027919 | 1.022491 | 1.024612 | 1.010876 | 1.009580 | 0.9982391 | 0.9816553 | 1.003059 |\n",
       "| 0.9998093 | 0.9964782 | 1.028831 | 1.006117 | 1.028682 | 1.022965 | 1.023911 | 1.010577 | 1.008631 | 0.9977485 | 0.9801210 | 1.001996 |\n",
       "| 1.0003642 | 0.9981799 | 1.028679 | 1.007000 | 1.029750 | 1.019127 | 1.022167 | 1.009895 | 1.008996 | 0.9978374 | 0.9834319 | 1.002546 |\n",
       "| 0.9984975 | 0.9980182 | 1.027780 | 1.007357 | 1.030085 | 1.022416 | 1.025625 | 1.010189 | 1.010372 | 0.9984101 | 0.9817664 | 1.002547 |\n",
       "| 1.0018956 | 1.0000742 | 1.027852 | 1.007917 | 1.032456 | 1.022814 | 1.023980 | 1.011067 | 1.010251 | 0.9957233 | 0.9824462 | 1.001895 |\n",
       "\n"
      ],
      "text/plain": [
       "     [,1]      [,2]      [,3]     [,4]     [,5]     [,6]     [,7]     [,8]    \n",
       "[1,] 1.0001943 0.9973298 1.028310 1.006719 1.030823 1.022191 1.022520 1.008900\n",
       "[2,] 0.9998815 0.9996654 1.030461 1.007552 1.027919 1.022491 1.024612 1.010876\n",
       "[3,] 0.9998093 0.9964782 1.028831 1.006117 1.028682 1.022965 1.023911 1.010577\n",
       "[4,] 1.0003642 0.9981799 1.028679 1.007000 1.029750 1.019127 1.022167 1.009895\n",
       "[5,] 0.9984975 0.9980182 1.027780 1.007357 1.030085 1.022416 1.025625 1.010189\n",
       "[6,] 1.0018956 1.0000742 1.027852 1.007917 1.032456 1.022814 1.023980 1.011067\n",
       "     [,9]     [,10]     [,11]     [,12]   \n",
       "[1,] 1.009351 0.9981079 0.9815198 1.003305\n",
       "[2,] 1.009580 0.9982391 0.9816553 1.003059\n",
       "[3,] 1.008631 0.9977485 0.9801210 1.001996\n",
       "[4,] 1.008996 0.9978374 0.9834319 1.002546\n",
       "[5,] 1.010372 0.9984101 0.9817664 1.002547\n",
       "[6,] 1.010251 0.9957233 0.9824462 1.001895"
      ]
     },
     "metadata": {},
     "output_type": "display_data"
    }
   ],
   "source": [
    "head(metadata(tseMean)[[\"sf\"]])"
   ]
  },
  {
   "cell_type": "markdown",
   "id": "0ec33521",
   "metadata": {},
   "source": [
    "#### Loading true counts"
   ]
  },
  {
   "cell_type": "code",
   "execution_count": 18,
   "id": "0f9c908e",
   "metadata": {},
   "outputs": [],
   "source": [
    "load(\"environment/brain_sim_nodtu/mode=gc_bias/simulate.rda\")\n",
    "treeMean <- rowTree(tseMean)\n",
    "lMean <- length(treeMean$tip)\n",
    "missingTxps <- setdiff(rownames(tseMean)[1:lMean], rownames(sim.counts.mat))\n",
    "dts <- Reduce(union, c(names(iso.dge)[iso.dge], names(iso.dte)[iso.dte], names(iso.dte.only)[iso.dte.only], \n",
    "                       names(iso.dtu)[iso.dtu]))\n",
    "dts <- intersect(dts, rownames(sim.counts.mat))\n",
    "sim.counts.mat <- rbind(sim.counts.mat, matrix(0, nrow = length(missingTxps), ncol = ncol(sim.counts.mat),\n",
    "                                               dimnames = list(missingTxps, colnames(sim.counts.mat))))\n",
    "sim.counts.mat <- sim.counts.mat[rownames(tseMean)[1:lMean],]\n",
    "dts <- intersect(dts, rownames(sim.counts.mat))\n",
    "\n",
    "innNodes <- lMean+1:treeMean$Nnode\n",
    "aggCountsNodes <- computeAggNodesU(treeMean, c(1:length(treeMean$tip),innNodes), sim.counts.mat)\n",
    "logFCNodes <- ifelse(rowSums(aggCountsNodes)==0, 0, log2(aggCountsNodes[,2]+1)-log2(aggCountsNodes[,1]+1))\n",
    "rootFC <- abs(logFCNodes[lMean+1])"
   ]
  },
  {
   "cell_type": "markdown",
   "id": "24e63b2e",
   "metadata": {},
   "source": [
    "#### Run Swish"
   ]
  },
  {
   "cell_type": "code",
   "execution_count": 46,
   "id": "728c1b60",
   "metadata": {},
   "outputs": [],
   "source": [
    "y <- fishpond::scaleInfReps(tempMean[1:lMean,])\n",
    "y <- labelKeep(y)\n",
    "y <- swish(y, x=\"condition\")\n",
    "detNodes <- list()\n",
    "detNodes[[\"Swish\"]] <- lapply(c(0.01, 0.05, 0.1), function(x) which(mcols(y)[,\"qvalue\"] <= x ))\n",
    "\n",
    "negNodes <- list()\n",
    "negNodes[[\"Swish\"]] <- lapply(detNodes[[\"Swish\"]], function(nodes) setdiff(seq(lMean), \n",
    "                                                          unlist(Descendants(treeMean, nodes))))"
   ]
  },
  {
   "cell_type": "markdown",
   "id": "ec60c935",
   "metadata": {},
   "source": [
    "#### Find cuts for MIRV and Height"
   ]
  },
  {
   "cell_type": "code",
   "execution_count": 21,
   "id": "f628d575",
   "metadata": {},
   "outputs": [],
   "source": [
    "cutsMean <- list()\n",
    "descSize <- sapply(Descendants(treeMean, seq(nrow(tseMean))), length)\n",
    "for(i in lambda) {\n",
    "    metric <- (mcols(tseMean)[['meanInfRV']] + node.depth(treeMean, 2)*i) *descSize\n",
    "    objS <- solveForOptimalCut(tempMean, metVec = metric, type = 'min')\n",
    "    gammaN <- paste(\"gamma\",i,sep=\"=\")\n",
    "    cutsMean[[gammaN]] <- objS[[\"cut\"]]\n",
    "}\n"
   ]
  },
  {
   "cell_type": "code",
   "execution_count": 59,
   "id": "9a83e0be",
   "metadata": {},
   "outputs": [
    {
     "name": "stdout",
     "output_type": "stream",
     "text": [
      "gamma=0.05  gamma=0.1    gamma=1 \n",
      "     78507      89433     120525 \n"
     ]
    }
   ],
   "source": [
    "print(sapply(cutsMean, length))"
   ]
  },
  {
   "cell_type": "code",
   "execution_count": 47,
   "id": "9a43eaff",
   "metadata": {},
   "outputs": [],
   "source": [
    "for(i in seq_along(lambda)) {\n",
    "     y <- tempMean[sort(cutsMean[[i]]),]\n",
    "     y <- labelKeep(y)\n",
    "     set.seed(1)\n",
    "     y <- swish(y, x=\"condition\")\n",
    "     dim(y)\n",
    "     ihname <- paste(\"irv\", \"height\", lambda[i], sep = \"_\") \n",
    "     detNodes[[ihname]] <- lapply(c(0.01, 0.05, 0.1), function(x) {\n",
    "        nodes <- rownames(y)[which(mcols(y)[,\"qvalue\"] <= x)]\n",
    "        txps <- match(nodes[grep(\"ENST\", nodes)], rownames(tseMean))\n",
    "        iNodes <- match(nodes[grep(\"Node\", nodes)], rownames(tseMean))\n",
    "        \n",
    "        c(txps,iNodes)\n",
    "    })\n",
    "    negNodes[[ihname]] <- lapply(detNodes[[ihname]], function(nodes) setdiff(seq(lMean), \n",
    "                                                          unlist(Descendants(treeMean, nodes))))\n",
    "}"
   ]
  },
  {
   "cell_type": "markdown",
   "id": "29effe73",
   "metadata": {},
   "source": [
    "#### Find Cuts for TPM LFC"
   ]
  },
  {
   "cell_type": "code",
   "execution_count": 60,
   "id": "a8a40001",
   "metadata": {},
   "outputs": [],
   "source": [
    "# lfcMeanTPM <- getScaledLFC(tempMean, \"condition\")\n",
    "# metric <- abs(lfcMeanTPM)/mcols(tseMean)[['meanInfRV']]*descSize\n",
    "# objS <- solveForOptimalCut(tseMean, metVec = metric, type = 'max')\n",
    "lfCuts <- objS[[\"cut\"]]\n",
    "y <- tempMean[sort(lfCuts),]\n",
    "y <- fishpond::scaleInfReps(y)\n",
    "y <- labelKeep(y)\n",
    "set.seed(1)\n",
    "y <- swish(y, x=\"condition\")\n",
    "detNodes[[\"lfTPM\"]] <- lapply(c(0.01, 0.05, 0.1), function(x) {\n",
    "        nodes <- rownames(y)[which(mcols(y)[,\"qvalue\"] <= x)]\n",
    "        txps <- match(nodes[grep(\"ENST\", nodes)], rownames(tseMean))\n",
    "        iNodes <- match(nodes[grep(\"Node\", nodes)], rownames(tseMean))\n",
    "        \n",
    "        c(txps,iNodes)\n",
    "    })\n",
    "negNodes[[\"lfTPM\"]] <- lapply(detNodes[[\"lfTPM\"]], function(nodes) setdiff(seq(lMean), \n",
    "                                                          unlist(Descendants(treeMean, nodes))))\n",
    "print(length(lfCuts))"
   ]
  },
  {
   "cell_type": "markdown",
   "id": "fb80bd1a",
   "metadata": {},
   "source": [
    "#### TPM LFC without desc"
   ]
  },
  {
   "cell_type": "code",
   "execution_count": 61,
   "id": "e8375525",
   "metadata": {},
   "outputs": [
    {
     "name": "stdout",
     "output_type": "stream",
     "text": [
      "[1] 86775\n"
     ]
    }
   ],
   "source": [
    "metric <- abs(lfcMeanTPM)/mcols(tseMean)[['meanInfRV']]\n",
    "objS <- solveForOptimalCut(tempMean, metVec = metric, type = 'max')\n",
    "lfCuts <- objS[[\"cut\"]]\n",
    "y <- tempMean[sort(lfCuts),]\n",
    "y <- fishpond::scaleInfReps(y)\n",
    "y <- labelKeep(y)\n",
    "set.seed(1)\n",
    "y <- swish(y, x=\"condition\")\n",
    "detNodes[[\"lfTPMWDesc\"]] <- lapply(c(0.01, 0.05, 0.1), function(x) {\n",
    "        nodes <- rownames(y)[which(mcols(y)[,\"qvalue\"] <= x)]\n",
    "        txps <- match(nodes[grep(\"ENST\", nodes)], rownames(tseMean))\n",
    "        iNodes <- match(nodes[grep(\"Node\", nodes)], rownames(tseMean))\n",
    "        \n",
    "        c(txps,iNodes)\n",
    "    })\n",
    "negNodes[[\"lfTPMWDesc\"]] <- lapply(detNodes[[\"lfTPMWDesc\"]], function(nodes) setdiff(seq(lMean), \n",
    "                                                          unlist(Descendants(treeMean, nodes))))\n",
    "print(length(lfCuts))"
   ]
  },
  {
   "cell_type": "markdown",
   "id": "2289289e",
   "metadata": {},
   "source": [
    "#### Find Cuts for LFC"
   ]
  },
  {
   "cell_type": "code",
   "execution_count": null,
   "id": "c34de515",
   "metadata": {},
   "outputs": [],
   "source": [
    "lfcMean <- getLog2FC(tseMean, \"condition\")\n",
    "metric <- abs(lfcMean)/mcols(tseMean)[['meanInfRV']]*descSize\n",
    "objS <- solveForOptimalCut(tseMean, metVec = metric, type = 'max')\n",
    "lfCuts <- objS[[\"cut\"]]\n",
    "y <- tse[sort(lfCuts),]\n",
    "y <- labelKeep(y)\n",
    "set.seed(1)\n",
    "# y <- swish(y, x=\"condition\")\n",
    "# detNodes[[\"lfTPM\"]] <- lapply(c(0.01, 0.05, 0.1), function(x) {\n",
    "#         nodes <- rownames(y)[which(mcols(y)[,\"qvalue\"] <= x)]\n",
    "#         txps <- match(nodes[grep(\"ENST\", nodes)], rownames(tseMean))\n",
    "#         iNodes <- match(nodes[grep(\"Node\", nodes)], rownames(tseMean))\n",
    "        \n",
    "#         c(txps,iNodes)\n",
    "#     })\n",
    "# negNodes[[\"lfTPM\"]] <- lapply(detNodes[[\"lfTPM\"]], function(nodes) setdiff(seq(lMean), \n",
    "#                                                           unlist(Descendants(treeMean, nodes))))"
   ]
  },
  {
   "cell_type": "markdown",
   "id": "415ff624",
   "metadata": {},
   "source": [
    "#### Terminus"
   ]
  },
  {
   "cell_type": "code",
   "execution_count": 93,
   "id": "ade0fedb",
   "metadata": {},
   "outputs": [],
   "source": [
    "suppressPackageStartupMessages(source(\"old_terminus_helper.R\"))\n",
    "dir <- \"/fs/cbcb-lab/rob/students/noor/Uncertainity/brain_sim_nodtu/mode=gc_bias/post_type=gibbs_nrep=100_tf=100/terminus/\"\n",
    "seBrainSim <- tximeta(coldata)\n",
    "yTermThrNS <- seBrainSim[c(rownames(tempMean)[1:lMean], setdiff(rownames(seBrainSim), rownames(tempMean)[1:lMean])),]\n",
    "groupsClust <- parseClustFile(file.path(dir, \"old\", \"1_1\", \"clusters.txt\"), yTermThrNS)\n",
    "yTermThrNS <- seBrainSim[c(rownames(tempMean)[1:lMean],rownames(yTermThrNS)[unlist(groupsClust)[unlist(groupsClust)>lMean]]),]\n",
    "groupsClust <- parseClustFile(file.path(dir, \"old\", \"1_1\", \"clusters.txt\"), yTermThrNS)\n",
    "\n",
    "mInds <- seq(nrow(yTermThrNS) + length(groupsClust))\n",
    "yAggTermThrNS <- prepOSwish(yTermThrNS, mInds, groupsClust)\n",
    "rownames(yAggTermThrNS)[lMean+1:length(groupsClust)] <- paste(\"Node\", as.character(lMean+1:length(groupsClust)),sep=\"\")\n",
    "metadata(yAggTermThrNS)[[\"txpsAnn\"]] <- rowData(yTermThrNS)"
   ]
  },
  {
   "cell_type": "code",
   "execution_count": null,
   "id": "cd1e2b1e",
   "metadata": {},
   "outputs": [],
   "source": [
    "load(\"environment/brain_sim_nodtu/mode=gc_bias/simulate.rda\")\n",
    "missingTxps <- setdiff(rownames(yTermThrNS), rownames(sim.counts.mat))\n",
    "# dts <- Reduce(union, c(names(iso.dge)[iso.dge], names(iso.dte)[iso.dte], names(iso.dte.only)[iso.dte.only], \n",
    "#                        names(iso.dtu)[iso.dtu]))\n",
    "# dts <- intersect(dts, rownames(sim.counts.mat))\n",
    "sim.counts.mat <- rbind(sim.counts.mat, matrix(0, nrow = length(missingTxps), ncol = ncol(sim.counts.mat),\n",
    "                                               dimnames = list(missingTxps, colnames(sim.counts.mat))))\n",
    "sim.counts.mat <- sim.counts.mat[rownames(tseMean)[1:lMean],]\n",
    "dts <- intersect(dts, rownames(sim.counts.mat))\n",
    "\n",
    "innNodes <- lMean+1:treeMean$Nnode\n",
    "aggCountsNodes <- computeAggNodesU(treeMean, c(1:length(treeMean$tip),innNodes), sim.counts.mat)\n",
    "logFCNodes <- ifelse(rowSums(aggCountsNodes)==0, 0, log2(aggCountsNodes[,2]+1)-log2(aggCountsNodes[,1]+1))\n",
    "rootFC <- abs(logFCNodes[lMean+1])"
   ]
  },
  {
   "cell_type": "code",
   "execution_count": 95,
   "id": "ff153dbf",
   "metadata": {},
   "outputs": [
    {
     "ename": "ERROR",
     "evalue": "Error in h(simpleError(msg, call)): error in evaluating the argument 'x' in selecting a method for function 'which': subscript contains invalid names\n",
     "output_type": "error",
     "traceback": [
      "Error in h(simpleError(msg, call)): error in evaluating the argument 'x' in selecting a method for function 'which': subscript contains invalid names\nTraceback:\n",
      "1. lapply(c(0.01, 0.05, 0.1), function(x) {\n .     nodes <- which(mcols(yAggTermThrNS)[, \"qvalue\"] <= x)\n .     tgroups <- nodes[nodes > lMean]\n .     groupTxps <- unlist(groupsClust)\n .     txps <- intersect(nodes, setdiff(seq(lMean), groupTxps))\n .     c(txps, tgroups)\n . })",
      "2. lapply(c(0.01, 0.05, 0.1), function(x) {\n .     nodes <- which(mcols(yAggTermThrNS)[, \"qvalue\"] <= x)\n .     tgroups <- nodes[nodes > lMean]\n .     groupTxps <- unlist(groupsClust)\n .     txps <- intersect(nodes, setdiff(seq(lMean), groupTxps))\n .     c(txps, tgroups)\n . })",
      "3. FUN(X[[i]], ...)",
      "4. which(mcols(yAggTermThrNS)[, \"qvalue\"] <= x)   # at line 2 of file <text>",
      "5. mcols(yAggTermThrNS)[, \"qvalue\"]",
      "6. mcols(yAggTermThrNS)[, \"qvalue\"]",
      "7. extractCOLS(x, j)",
      "8. extractCOLS(x, j)",
      "9. normalizeSingleBracketSubscript(i, xstub)",
      "10. NSBS(i, x, exact = exact, strict.upper.bound = !allow.append, \n  .     allow.NAs = allow.NAs)",
      "11. NSBS(i, x, exact = exact, strict.upper.bound = !allow.append, \n  .     allow.NAs = allow.NAs)",
      "12. .subscript_error(\"subscript contains invalid \", what)",
      "13. stop(wmsg(...), call. = FALSE)",
      "14. .handleSimpleError(function (cond) \n  . .Internal(C_tryCatchHelper(addr, 1L, cond)), \"subscript contains invalid names\", \n  .     base::quote(NULL))",
      "15. h(simpleError(msg, call))"
     ]
    }
   ],
   "source": [
    "detNodes[[\"term\"]] <- lapply(c(0.01, 0.05, 0.1), function(x) {\n",
    "    nodes <- which(mcols(yAggTermThrNS)[,\"qvalue\"] <= x)\n",
    "    tgroups <- nodes[nodes > lMean] ##Replace lMean with nrow, recompute the statistics not replacing groups with txps\n",
    "    groupTxps <- unlist(groupsClust) ## Transcripts covered by the groups\n",
    "    txps <- intersect(nodes, setdiff(seq(lMean), groupTxps))\n",
    "    c(txps, tgroups)\n",
    "})\n",
    "negNodes[[\"term\"]] <- lapply(detNodes[[\"term\"]], function(nodes) {\n",
    "    groupTxps <- unlist(groupsClust)\n",
    "    ndnodes <- setdiff(l+(1:length(groupsClust)), nodes)\n",
    "    ndtxps <- setdiff(seq(l), c(nodes, groupTxps))\n",
    "    c(ndtxps, ndnodes)\n",
    "})"
   ]
  },
  {
   "cell_type": "code",
   "execution_count": 50,
   "id": "40c05eb5",
   "metadata": {},
   "outputs": [
    {
     "name": "stdout",
     "output_type": "stream",
     "text": [
      "[1] \"Swish\"\n",
      "[1] \"tp 0.990811339198436\"\n",
      "[1] \"tp 0.963547419914786\"\n",
      "[1] \"tp 0.929410100438534\"\n",
      "[1] \"irv_height_0.05\"\n",
      "[1] \"tp 0.992315081652257\"\n",
      "[1] \"tp 0.96884154460719\"\n",
      "[1] \"tp 0.93958742632613\"\n",
      "[1] \"irv_height_0.1\"\n",
      "[1] \"tp 0.992592592592593\"\n",
      "[1] \"tp 0.968530622125393\"\n",
      "[1] \"tp 0.937998228520815\"\n",
      "[1] \"irv_height_1\"\n",
      "[1] \"tp 0.99893730074389\"\n",
      "[1] \"tp 0.974113674732696\"\n",
      "[1] \"tp 0.940704860531151\"\n",
      "[1] \"lfTPM\"\n",
      "[1] \"tp 0.990505127231295\"\n",
      "[1] \"tp 0.962415676196595\"\n",
      "[1] \"tp 0.923525977816696\"\n",
      "              Method Metric    FDR_0.01   FDR_0.05   FDR_0.10\n",
      "fdr            Swish    FDR 0.009188661 0.03645258  0.0705899\n",
      "tpr            Swish    TPR   0.5759745  0.6939425  0.7466758\n",
      "fdr1 irv_height_0.05    FDR 0.007684918 0.03115846 0.06041257\n",
      "tpr1 irv_height_0.05    TPR   0.5715603  0.6844779   0.722432\n",
      "fdr2  irv_height_0.1    FDR 0.007407407 0.03146938 0.06200177\n",
      "tpr2  irv_height_0.1    TPR   0.5734338  0.6980112   0.740948\n",
      "fdr3    irv_height_1    FDR 0.001062699 0.02588633 0.05929514\n",
      "tpr3    irv_height_1    TPR    0.370565  0.6992998   0.760054\n",
      "fdr4           lfTPM    FDR 0.009494873 0.03758432 0.07647402\n",
      "tpr4           lfTPM    TPR   0.5730609  0.6827712  0.7300415\n"
     ]
    }
   ],
   "source": [
    "df <- data.frame(Method=character(), Metric=character(), FDR_0.01 = numeric(), FDR_0.05 = numeric(), FDR_0.10 = numeric())\n",
    "for(n in names(detNodes))\n",
    "{\n",
    "    print(n)\n",
    "    stats <-  sapply(seq_along(detNodes[[n]]), function(i) computeMetOut(detNodes[[n]][[i]], logFCNodes, tree = treeMean, negNodes = negNodes[[n]][[i]], lfcThresh = rootFC-0.001))\n",
    "    colnames(stats) <- colnames(df)[c(3:5)]\n",
    "    stats <- cbind(Method=rep(n,2), Metric = c(\"FDR\", \"TPR\"), stats)\n",
    "    df <- rbind(df, stats)\n",
    "}\n",
    "print(df)"
   ]
  },
  {
   "cell_type": "code",
   "execution_count": 15,
   "id": "0b5e9e11",
   "metadata": {},
   "outputs": [
    {
     "data": {
      "text/html": [
       "'Swish'"
      ],
      "text/latex": [
       "'Swish'"
      ],
      "text/markdown": [
       "'Swish'"
      ],
      "text/plain": [
       "[1] \"Swish\""
      ]
     },
     "metadata": {},
     "output_type": "display_data"
    }
   ],
   "source": [
    "names(negNodes)"
   ]
  },
  {
   "cell_type": "code",
   "execution_count": null,
   "id": "44dcaf35",
   "metadata": {},
   "outputs": [],
   "source": []
  }
 ],
 "metadata": {
  "kernelspec": {
   "display_name": "R",
   "language": "R",
   "name": "ir"
  },
  "language_info": {
   "codemirror_mode": "r",
   "file_extension": ".r",
   "mimetype": "text/x-r-source",
   "name": "R",
   "pygments_lexer": "r",
   "version": "4.1.1"
  }
 },
 "nbformat": 4,
 "nbformat_minor": 5
}
