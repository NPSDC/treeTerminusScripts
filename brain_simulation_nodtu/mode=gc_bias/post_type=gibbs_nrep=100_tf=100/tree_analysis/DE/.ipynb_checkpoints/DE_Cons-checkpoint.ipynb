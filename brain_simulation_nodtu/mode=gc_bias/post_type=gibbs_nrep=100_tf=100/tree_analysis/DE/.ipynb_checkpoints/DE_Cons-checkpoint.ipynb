{
 "cells": [
  {
   "cell_type": "code",
   "execution_count": 1,
   "id": "662a6df6",
   "metadata": {
    "scrolled": false
   },
   "outputs": [
    {
     "name": "stderr",
     "output_type": "stream",
     "text": [
      "Skipping install of 'beaveR' from a github remote, the SHA1 (55f74bc0) has not changed since last install.\n",
      "  Use `force = TRUE` to force installation\n",
      "\n"
     ]
    }
   ],
   "source": [
    "devtools::install_github(\"NPSDC/beaveR\", ref = \"dev\")\n",
    "setwd('/fs/cbcb-lab/rob/students/noor/Uncertainity/treeTerminusScripts')\n",
    "suppressPackageStartupMessages(source(\"tree_helper_function.R\"))\n",
    "suppressPackageStartupMessages(library(beaveR))\n",
    "clustFile <- \"../brain_sim_nodtu/mode=gc_bias/post_type=gibbs_nrep=100_tf=100/terminus/no_threshold0/cluster_nwk.txt\"\n",
    "quantDir <- file.path(\"../brain_sim_nodtu/mode=gc_bias/post_type=gibbs_nrep=100_tf=100/out_sal\") \n",
    "samples <- as.vector(outer(c(1:6), c(1,2), function(x,y) paste(x,y,sep='_')))\n",
    "quantFiles <- file.path(quantDir, samples, 'quant.sf')\n",
    "coldata <- data.frame(files=quantFiles, names=samples, condition=factor(rep(1:2, each=6)))\n",
    "# tse <- buildTSE(treeTermFile = clustFile, coldata = coldata)"
   ]
  },
  {
   "cell_type": "code",
   "execution_count": 2,
   "id": "ab5aeff8",
   "metadata": {},
   "outputs": [],
   "source": [
    "saveDir <- \"environment/brain_sim_nodtu/mode=gc_bias/post_type=gibbs_nrep=100_tf=100/comp_trees/DE\"\n",
    "load(file=file.path(saveDir, \"tseCons.RData\"))"
   ]
  },
  {
   "cell_type": "code",
   "execution_count": 3,
   "id": "8d0c02f0",
   "metadata": {},
   "outputs": [],
   "source": [
    "temp <- tse"
   ]
  },
  {
   "cell_type": "code",
   "execution_count": 4,
   "id": "7f963549",
   "metadata": {},
   "outputs": [],
   "source": [
    "load(\"environment/brain_sim_nodtu/mode=gc_bias/simulate.rda\")\n",
    "suppressPackageStartupMessages(library(TreeSummarizedExperiment))\n",
    "suppressPackageStartupMessages(library(ape))\n",
    "tree <- rowTree(tse)\n",
    "l <- length(tree$tip)\n",
    "missingTxps <- setdiff(rownames(tse)[1:l], rownames(sim.counts.mat))\n",
    "dts <- Reduce(union, c(names(iso.dge)[iso.dge], names(iso.dte)[iso.dte], names(iso.dte.only)[iso.dte.only], \n",
    "                       names(iso.dtu)[iso.dtu]))\n",
    "dts <- intersect(dts, rownames(sim.counts.mat))\n",
    "sim.counts.mat <- rbind(sim.counts.mat, matrix(0, nrow = length(missingTxps), ncol = ncol(sim.counts.mat),\n",
    "                                               dimnames = list(missingTxps, colnames(sim.counts.mat))))\n",
    "sim.counts.mat <- sim.counts.mat[rownames(tse)[1:l],]\n",
    "dts <- intersect(dts, rownames(sim.counts.mat))\n",
    "\n",
    "innNodes <- l+1:tree$Nnode\n",
    "aggCountsNodes <- computeAggNodesU(tree, c(1:length(tree$tip),innNodes), sim.counts.mat)\n",
    "logFCNodes <- ifelse(rowSums(aggCountsNodes)==0, 0, log2(aggCountsNodes[,2]+1)-log2(aggCountsNodes[,1]+1))\n",
    "names(logFCNodes)[(l+1):length(logFCNodes)] <- paste(\"Node\", names(logFCNodes)[(l+1):length(logFCNodes)], sep=\"\")\n",
    "rootFC <- abs(logFCNodes[l+1])\n"
   ]
  },
  {
   "cell_type": "code",
   "execution_count": 9,
   "id": "0ab1e57f",
   "metadata": {},
   "outputs": [
    {
     "data": {
      "text/html": [
       "8798"
      ],
      "text/latex": [
       "8798"
      ],
      "text/markdown": [
       "8798"
      ],
      "text/plain": [
       "[1] 8798"
      ]
     },
     "metadata": {},
     "output_type": "display_data"
    },
    {
     "data": {
      "text/plain": [
       "   Min. 1st Qu.  Median    Mean 3rd Qu.    Max. \n",
       " 0.8858  1.5388  1.9330  1.8818  2.2746  2.5824 "
      ]
     },
     "metadata": {},
     "output_type": "display_data"
    },
    {
     "name": "stdout",
     "output_type": "stream",
     "text": [
      "[1] 1\n"
     ]
    },
    {
     "data": {
      "text/html": [
       "<strong>Node138201:</strong> 0.0326437105480544"
      ],
      "text/latex": [
       "\\textbf{Node138201:} 0.0326437105480544"
      ],
      "text/markdown": [
       "**Node138201:** 0.0326437105480544"
      ],
      "text/plain": [
       "Node138201 \n",
       "0.03264371 "
      ]
     },
     "metadata": {},
     "output_type": "display_data"
    },
    {
     "data": {
      "text/html": [
       "<strong>Node138201:</strong> 0.01"
      ],
      "text/latex": [
       "\\textbf{Node138201:} 0.01"
      ],
      "text/markdown": [
       "**Node138201:** 0.01"
      ],
      "text/plain": [
       "Node138201 \n",
       "      0.01 "
      ]
     },
     "metadata": {},
     "output_type": "display_data"
    }
   ],
   "source": [
    "length(dts)\n",
    "summary(abs(logFCNodes[dts]))\n",
    "print(mean(abs(logFCNodes[dts]) >= rootFC))\n",
    "rootFC\n",
    "mcols(tse)[[\"meanInfRV\"]][l+1]"
   ]
  },
  {
   "cell_type": "code",
   "execution_count": 15,
   "id": "cd00347f",
   "metadata": {},
   "outputs": [],
   "source": [
    "load(file.path(saveDir, \"cutsCons.RData\"))"
   ]
  },
  {
   "cell_type": "markdown",
   "id": "c7986b04",
   "metadata": {},
   "source": [
    "#### Run Swish"
   ]
  },
  {
   "cell_type": "code",
   "execution_count": 10,
   "id": "f527e0e6",
   "metadata": {},
   "outputs": [],
   "source": [
    "set.seed(1)\n",
    "y <- fishpond::scaleInfReps(temp[1:l,])\n",
    "y <- labelKeep(y)\n",
    "y <- swish(y, x=\"condition\")"
   ]
  },
  {
   "cell_type": "code",
   "execution_count": 12,
   "id": "a7642929",
   "metadata": {},
   "outputs": [],
   "source": [
    "detNodes <- list()\n",
    "detNodes[[\"Swish\"]] <- lapply(c(0.01, 0.05, 0.1), function(x) which(mcols(y)[,\"qvalue\"] <= x ))\n",
    "\n",
    "negNodes <- list()\n",
    "negNodes[[\"Swish\"]] <- lapply(detNodes[[\"Swish\"]], function(nodes) setdiff(seq(l), \n",
    "                                                          unlist(Descendants(tree, nodes))))"
   ]
  },
  {
   "cell_type": "markdown",
   "id": "98f35cb9",
   "metadata": {},
   "source": [
    "#### Min meanInfRV and Height"
   ]
  },
  {
   "cell_type": "code",
   "execution_count": 18,
   "id": "029dbea1",
   "metadata": {},
   "outputs": [
    {
     "data": {
      "text/html": [
       "<style>\n",
       ".list-inline {list-style: none; margin:0; padding: 0}\n",
       ".list-inline>li {display: inline-block}\n",
       ".list-inline>li:not(:last-child)::after {content: \"\\00b7\"; padding: 0 .5ex}\n",
       "</style>\n",
       "<ol class=list-inline><li>'irv_height_0.05'</li><li>'irv_height_0.1'</li><li>'irv_height_1'</li><li>'lfcTPMDesc'</li><li>'LFC'</li><li>'lfcTPM'</li></ol>\n"
      ],
      "text/latex": [
       "\\begin{enumerate*}\n",
       "\\item 'irv\\_height\\_0.05'\n",
       "\\item 'irv\\_height\\_0.1'\n",
       "\\item 'irv\\_height\\_1'\n",
       "\\item 'lfcTPMDesc'\n",
       "\\item 'LFC'\n",
       "\\item 'lfcTPM'\n",
       "\\end{enumerate*}\n"
      ],
      "text/markdown": [
       "1. 'irv_height_0.05'\n",
       "2. 'irv_height_0.1'\n",
       "3. 'irv_height_1'\n",
       "4. 'lfcTPMDesc'\n",
       "5. 'LFC'\n",
       "6. 'lfcTPM'\n",
       "\n",
       "\n"
      ],
      "text/plain": [
       "[1] \"irv_height_0.05\" \"irv_height_0.1\"  \"irv_height_1\"    \"lfcTPMDesc\"     \n",
       "[5] \"LFC\"             \"lfcTPM\"         "
      ]
     },
     "metadata": {},
     "output_type": "display_data"
    }
   ],
   "source": [
    "lambda <- c(0.05, 0.1, 1, 5, 10)\n"
   ]
  },
  {
   "cell_type": "code",
   "execution_count": 16,
   "id": "86fa911d",
   "metadata": {},
   "outputs": [
    {
     "data": {
      "text/html": [
       "<style>\n",
       ".dl-inline {width: auto; margin:0; padding: 0}\n",
       ".dl-inline>dt, .dl-inline>dd {float: none; width: auto; display: inline-block}\n",
       ".dl-inline>dt::after {content: \":\\0020\"; padding-right: .5ex}\n",
       ".dl-inline>dt:not(:first-of-type) {padding-left: .5ex}\n",
       "</style><dl class=dl-inline><dt>irv_height_0.05</dt><dd>76883</dd><dt>irv_height_0.1</dt><dd>87912</dd><dt>irv_height_1</dt><dd>119765</dd><dt>irv_height_5</dt><dd>133437</dd><dt>irv_height_10</dt><dd>136186</dd></dl>\n"
      ],
      "text/latex": [
       "\\begin{description*}\n",
       "\\item[irv\\textbackslash{}\\_height\\textbackslash{}\\_0.05] 76883\n",
       "\\item[irv\\textbackslash{}\\_height\\textbackslash{}\\_0.1] 87912\n",
       "\\item[irv\\textbackslash{}\\_height\\textbackslash{}\\_1] 119765\n",
       "\\item[irv\\textbackslash{}\\_height\\textbackslash{}\\_5] 133437\n",
       "\\item[irv\\textbackslash{}\\_height\\textbackslash{}\\_10] 136186\n",
       "\\end{description*}\n"
      ],
      "text/markdown": [
       "irv_height_0.05\n",
       ":   76883irv_height_0.1\n",
       ":   87912irv_height_1\n",
       ":   119765irv_height_5\n",
       ":   133437irv_height_10\n",
       ":   136186\n",
       "\n"
      ],
      "text/plain": [
       "irv_height_0.05  irv_height_0.1    irv_height_1    irv_height_5   irv_height_10 \n",
       "          76883           87912          119765          133437          136186 "
      ]
     },
     "metadata": {},
     "output_type": "display_data"
    }
   ],
   "source": [
    "cuts <- list()\n",
    "for(i in lambda) {\n",
    "    descSize <- sapply(Descendants(tree, seq(nrow(tse))), length)\n",
    "    metric <- (mcols(temp)[['meanInfRV']] + node.depth(tree, 2)*i) *descSize\n",
    "    objS <- solveForOptimalCut(tse, metVec = metric, type = 'min')\n",
    "    gammaN <- paste(\"gamma\",i,sep=\"=\")\n",
    "    cuts[[gammaN]] <- objS[[\"cut\"]]\n",
    "}\n",
    "names(cuts) <- paste(\"irv\", \"height\", lambda, sep = \"_\") \n",
    "sapply(cuts,length)"
   ]
  },
  {
   "cell_type": "code",
   "execution_count": 46,
   "id": "1a01b878",
   "metadata": {},
   "outputs": [],
   "source": [
    "for(i in seq_along(lambda)) {\n",
    "     ihname <- paste(\"irv\", \"height\", lambda[i], sep = \"_\") \n",
    "     y <- temp[sort(cuts[[ihname]]),]\n",
    "     y <- fishpond::scaleInfReps(y)\n",
    "     y <- labelKeep(y)\n",
    "     set.seed(1)\n",
    "     y <- swish(y, x=\"condition\")\n",
    "#      dim(y)\n",
    "     detNodes[[ihname]] <- lapply(c(0.01, 0.05, 0.1), function(x) {\n",
    "        nodes <- rownames(y)[which(mcols(y)[,\"qvalue\"] <= x)]\n",
    "#         txps <- match(nodes[grep(\"ENST\", nodes)], rownames(tse))\n",
    "#         iNodes <- match(nodes[grep(\"Node\", nodes)], rownames(tse))\n",
    "         match(nodes, names(logFCNodes))\n",
    "        \n",
    "#         c(txps,iNodes)\n",
    "    })\n",
    "    negNodes[[ihname]] <- lapply(c(0.01, 0.05, 0.1), function(x) {\n",
    "        nodes <- rownames(y)[setdiff(seq(nrow(y)), which(mcols(y)[,\"qvalue\"] <= x))]\n",
    "        match(nodes, names(logFCNodes))\n",
    "    })\n",
    "}"
   ]
  },
  {
   "cell_type": "markdown",
   "id": "828169d1",
   "metadata": {},
   "source": [
    "#### Max Weighted Log Fold Change"
   ]
  },
  {
   "cell_type": "code",
   "execution_count": 23,
   "id": "65fbd7f2",
   "metadata": {},
   "outputs": [],
   "source": [
    "getLog2FC <- function(tse, condition, pc=5, array=FALSE) {\n",
    "  infRepIdx <- grep(\"infRep\", assayNames(tse))\n",
    "  infReps <- assays(tse)[infRepIdx]\n",
    "  infRepsArray <- abind::abind(as.list(infReps), along=3)\n",
    "  dims <- dim(infRepsArray)\n",
    "    \n",
    "  cond1 <- condition == levels(condition)[1]\n",
    "  cond2 <- condition == levels(condition)[2]\n",
    "\n",
    "  diffs <- matrix(nrow=dims[1],ncol=dims[3])\n",
    "  for (k in seq_len(dims[3])) {\n",
    "    diffs[,k] <- log2(rowMeans(infRepsArray[,cond2,k]) + pc) -\n",
    "                 log2(rowMeans(infRepsArray[,cond1,k]) + pc)\n",
    "  }\n",
    "  if (array) {\n",
    "    return(diffs)\n",
    "  }\n",
    "  # median over inferential replicates\n",
    "  rowMedians(diffs)\n",
    "}"
   ]
  },
  {
   "cell_type": "code",
   "execution_count": 24,
   "id": "459c5328",
   "metadata": {},
   "outputs": [
    {
     "name": "stderr",
     "output_type": "stream",
     "text": [
      "Setting inf rep depth to mean depth\n",
      "\n"
     ]
    },
    {
     "name": "stdout",
     "output_type": "stream",
     "text": [
      "Progress:   1 on 100Progress:   2 on 100Progress:   3 on 100Progress:   4 on 100Progress:   5 on 100Progress:   6 on 100Progress:   7 on 100Progress:   8 on 100Progress:   9 on 100Progress:  10 on 100Progress:  11 on 100Progress:  12 on 100Progress:  13 on 100Progress:  14 on 100Progress:  15 on 100Progress:  16 on 100Progress:  17 on 100Progress:  18 on 100Progress:  19 on 100Progress:  20 on 100Progress:  21 on 100Progress:  22 on 100Progress:  23 on 100Progress:  24 on 100Progress:  25 on 100Progress:  26 on 100Progress:  27 on 100Progress:  28 on 100Progress:  29 on 100Progress:  30 on 100Progress:  31 on 100Progress:  32 on 100Progress:  33 on 100Progress:  34 on 100Progress:  35 on 100Progress:  36 on 100Progress:  37 on 100Progress:  38 on 100Progress:  39 on 100Progress:  40 on 100Progress:  41 on 100Progress:  42 on 100Progress:  43 on 100Progress:  44 on 100Progress:  45 on 100Progress:  46 on 100Progress:  47 on 100Progress:  48 on 100Progress:  49 on 100Progress:  50 on 100Progress:  51 on 100Progress:  52 on 100Progress:  53 on 100Progress:  54 on 100Progress:  55 on 100Progress:  56 on 100Progress:  57 on 100Progress:  58 on 100Progress:  59 on 100Progress:  60 on 100Progress:  61 on 100Progress:  62 on 100Progress:  63 on 100Progress:  64 on 100Progress:  65 on 100Progress:  66 on 100Progress:  67 on 100Progress:  68 on 100Progress:  69 on 100Progress:  70 on 100Progress:  71 on 100Progress:  72 on 100Progress:  73 on 100Progress:  74 on 100Progress:  75 on 100Progress:  76 on 100Progress:  77 on 100Progress:  78 on 100Progress:  79 on 100Progress:  80 on 100Progress:  81 on 100Progress:  82 on 100Progress:  83 on 100Progress:  84 on 100Progress:  85 on 100Progress:  86 on 100Progress:  87 on 100Progress:  88 on 100Progress:  89 on 100Progress:  90 on 100Progress:  91 on 100Progress:  92 on 100Progress:  93 on 100Progress:  94 on 100Progress:  95 on 100Progress:  96 on 100Progress:  97 on 100Progress:  98 on 100Progress:  99 on 100Progress: 100 on 100  "
     ]
    },
    {
     "name": "stderr",
     "output_type": "stream",
     "text": [
      "\n",
      "\n"
     ]
    }
   ],
   "source": [
    "tse <- computeSizeFactors(tse, type=\"txp\")\n",
    "tse <- scaleInfReps(tse)\n",
    "lfc <- getLog2FC(tse, colData(tse)[[\"condition\"]])\n",
    "descSize <- sapply(phangorn::Descendants(tree, seq(nrow(tse))), length)\n",
    "metric <- abs(lfc)/mcols(tse)[['meanInfRV']]\n",
    "objS <- solveForOptimalCut(tse, metVec = metric, type = 'max')\n",
    "cuts[[\"LFC\"]] <- objS[[\"cut\"]]"
   ]
  },
  {
   "cell_type": "code",
   "execution_count": 63,
   "id": "ae76f07e",
   "metadata": {},
   "outputs": [],
   "source": [
    "y <- temp[sort(cuts[[\"LFC\"]]),]\n",
    "y <- fishpond::scaleInfReps(y)\n",
    "y <- labelKeep(y)\n",
    "set.seed(1)\n",
    "y <- swish(y, x=\"condition\")\n",
    "\n",
    "detNodes[[\"LFC\"]] <- lapply(c(0.01, 0.05, 0.1), function(x) {\n",
    "    nodes <- rownames(y)[which(mcols(y)[,\"qvalue\"] <= x)]\n",
    "    match(nodes, names(logFCNodes))\n",
    "})\n",
    "negNodes[[\"LFC\"]] <- lapply(c(0.01, 0.05, 0.1), function(x) {\n",
    "        nodes <- rownames(y)[setdiff(seq(nrow(y)), which(mcols(y)[,\"qvalue\"] <= x))]\n",
    "        match(nodes, names(logFCNodes))\n",
    "})"
   ]
  },
  {
   "cell_type": "markdown",
   "id": "d2603245",
   "metadata": {},
   "source": [
    "#### TPM LFC Desc"
   ]
  },
  {
   "cell_type": "code",
   "execution_count": 64,
   "id": "cd32f5a7",
   "metadata": {},
   "outputs": [],
   "source": [
    "lfcTPM <- getScaledLFC(temp, \"condition\")\n",
    "metric <- abs(lfcTPM)/mcols(tse)[['meanInfRV']]*descSize\n",
    "objS <- solveForOptimalCut(tse, metVec = metric, type = 'max')\n",
    "cuts[[\"lfcTPMDesc\"]] <- objS[[\"cut\"]]\n",
    "y <- temp[sort(cuts[[\"lfcTPMDesc\"]]),]\n",
    "y <- fishpond::scaleInfReps(y)\n",
    "y <- labelKeep(y)\n",
    "set.seed(1)\n",
    "y <- swish(y, x=\"condition\")\n",
    "\n",
    "detNodes[[\"lfcTPMDesc\"]] <- lapply(c(0.01, 0.05, 0.1), function(x) {\n",
    "    nodes <- rownames(y)[which(mcols(y)[,\"qvalue\"] <= x)]\n",
    "    match(nodes, names(logFCNodes))\n",
    "})\n",
    "negNodes[[\"lfcTPMDesc\"]] <- lapply(c(0.01, 0.05, 0.1), function(x) {\n",
    "        nodes <- rownames(y)[setdiff(seq(nrow(y)), which(mcols(y)[,\"qvalue\"] <= x))]\n",
    "        match(nodes, names(logFCNodes))\n",
    "    })"
   ]
  },
  {
   "cell_type": "markdown",
   "id": "05f85c53",
   "metadata": {},
   "source": [
    "#### TPM LFC"
   ]
  },
  {
   "cell_type": "code",
   "execution_count": 65,
   "id": "a90240b4",
   "metadata": {},
   "outputs": [],
   "source": [
    "lfcTPM <- getScaledLFC(temp, \"condition\")\n",
    "metric <- abs(lfcTPM)/mcols(tse)[['meanInfRV']]\n",
    "objS <- solveForOptimalCut(tse, metVec = metric, type = 'max')\n",
    "cuts[[\"lfcTPM\"]] <- objS[[\"cut\"]]\n",
    "y <- temp[sort(cuts[[\"lfcTPM\"]]),]\n",
    "y <- fishpond::scaleInfReps(y)\n",
    "y <- labelKeep(y)\n",
    "set.seed(1)\n",
    "y <- swish(y, x=\"condition\")\n",
    "\n",
    "detNodes[[\"lfcTPM\"]] <- lapply(c(0.01, 0.05, 0.1), function(x) {\n",
    "    nodes <- rownames(y)[which(mcols(y)[,\"qvalue\"] <= x)]\n",
    "    match(nodes, names(logFCNodes))\n",
    "})\n",
    "negNodes[[\"lfcTPM\"]] <- lapply(c(0.01, 0.05, 0.1), function(x) {\n",
    "        nodes <- rownames(y)[setdiff(seq(nrow(y)), which(mcols(y)[,\"qvalue\"] <= x))]\n",
    "        match(nodes, names(logFCNodes))\n",
    "    })"
   ]
  },
  {
   "cell_type": "code",
   "execution_count": 73,
   "id": "a49f476f",
   "metadata": {},
   "outputs": [
    {
     "name": "stdout",
     "output_type": "stream",
     "text": [
      "[1] \"Swish\"\n",
      "[1] \"tp 0.990278047832005\"\n",
      "[1] \"tp 0.962566844919786\"\n",
      "[1] \"tp 0.9264664608476\"\n",
      "[1] \"irv_height_0.05\"\n",
      "[1] \"tp 0.989345032905045\"\n",
      "[1] \"tp 0.958007303077726\"\n",
      "[1] \"tp 0.915940663998116\"\n",
      "[1] \"irv_height_0.1\"\n",
      "[1] \"tp 0.989531840651352\"\n",
      "[1] \"tp 0.962882096069869\"\n",
      "[1] \"tp 0.925461741424802\"\n",
      "[1] \"irv_height_1\"\n",
      "[1] \"tp 0.998256624825662\"\n",
      "[1] \"tp 0.964686407945558\"\n",
      "[1] \"tp 0.923314378554021\"\n",
      "[1] \"irv_height_5\"\n",
      "[1] \"tp 0.997685950413223\"\n",
      "[1] \"tp 0.963011031797534\"\n",
      "[1] \"tp 0.920902341519132\"\n",
      "[1] \"irv_height_10\"\n",
      "[1] \"tp 0.990298797050834\"\n",
      "[1] \"tp 0.956297799282035\"\n",
      "[1] \"tp 0.919503348214286\"\n",
      "[1] \"LFC\"\n",
      "[1] \"tp 0.990543014032947\"\n",
      "[1] \"tp 0.962216624685139\"\n",
      "[1] \"tp 0.92042620720925\"\n",
      "[1] \"lfcTPMDesc\"\n",
      "[1] \"tp 0.998256624825662\"\n",
      "[1] \"tp 0.964686407945558\"\n",
      "[1] \"tp 0.923314378554021\"\n",
      "[1] \"lfcTPM\"\n",
      "[1] \"tp 0.989514679448772\"\n",
      "[1] \"tp 0.962062980411604\"\n",
      "[1] \"tp 0.920517972761777\"\n",
      "              Method Metric    FDR_0.01   FDR_0.05   FDR_0.10\n",
      "fdr            Swish    FDR 0.009721952 0.03743316 0.07353354\n",
      "tpr            Swish    TPR   0.5788816  0.6956126  0.7503978\n",
      "fdr1 irv_height_0.05    FDR  0.01065497  0.0419927 0.08405934\n",
      "tpr1 irv_height_0.05    TPR   0.6280088  0.7306545  0.7738214\n",
      "fdr2  irv_height_0.1    FDR  0.01046816  0.0371179 0.07453826\n",
      "tpr2  irv_height_0.1    TPR   0.6233742  0.7270562  0.7710203\n",
      "fdr3    irv_height_1    FDR 0.001743375 0.03531359 0.07668562\n",
      "tpr3    irv_height_1    TPR   0.3916017  0.7174121  0.7773218\n",
      "fdr4    irv_height_5    FDR  0.00231405 0.03698897 0.07909766\n",
      "tpr4    irv_height_5    TPR   0.3602722  0.7086069  0.7699654\n",
      "fdr5   irv_height_10    FDR 0.009701203  0.0437022 0.08049665\n",
      "tpr5   irv_height_10    TPR   0.5930057  0.7118624   0.765772\n",
      "fdr6             LFC    FDR 0.009456986 0.03778338 0.07957379\n",
      "tpr6             LFC    TPR   0.6235836  0.7336278  0.7797196\n",
      "fdr7      lfcTPMDesc    FDR 0.001743375 0.03531359 0.07668562\n",
      "tpr7      lfcTPMDesc    TPR   0.3916017  0.7174121  0.7773218\n",
      "fdr8          lfcTPM    FDR  0.01048532 0.03793702 0.07948203\n",
      "tpr8          lfcTPM    TPR   0.6310661  0.7413068   0.787734\n"
     ]
    }
   ],
   "source": [
    "df <- data.frame(Method=character(), Metric=character(), FDR_0.01 = numeric(), FDR_0.05 = numeric(), FDR_0.10 = numeric())\n",
    "for(n in names(detNodes))\n",
    "{\n",
    "    if(n!=\"term\") {\n",
    "        print(n)\n",
    "        stats <-  sapply(seq_along(detNodes[[n]]), function(i) computeMetOut(detNodes[[n]][[i]], logFCNodes, tree = tree, negNodes = negNodes[[n]][[i]], lfcThresh = rootFC))\n",
    "        colnames(stats) <- colnames(df)[c(3:5)]\n",
    "        stats <- cbind(Method=rep(n,2), Metric = c(\"FDR\", \"TPR\"), stats)\n",
    "        df <- rbind(df, stats)\n",
    "        \n",
    "    }\n",
    "    \n",
    "}\n",
    "print(df)"
   ]
  },
  {
   "cell_type": "markdown",
   "id": "cbe3bdd2",
   "metadata": {},
   "source": [
    "#### Parse Terminus"
   ]
  },
  {
   "cell_type": "code",
   "execution_count": 57,
   "id": "efa77bf7",
   "metadata": {},
   "outputs": [
    {
     "name": "stderr",
     "output_type": "stream",
     "text": [
      "importing quantifications\n",
      "\n",
      "reading in files with read_tsv\n",
      "\n",
      "1 \n",
      "2 \n",
      "3 \n",
      "4 \n",
      "5 \n",
      "6 \n",
      "7 \n",
      "8 \n",
      "9 \n",
      "10 \n",
      "11 \n",
      "12 \n",
      "\n",
      "\n",
      "found matching transcriptome:\n",
      "[ GENCODE - Homo sapiens - release 26 ]\n",
      "\n",
      "loading existing TxDb created: 2022-08-19 22:12:59\n",
      "\n",
      "loading existing transcript ranges created: 2022-08-19 22:13:01\n",
      "\n"
     ]
    },
    {
     "data": {
      "text/html": [
       "<style>\n",
       ".list-inline {list-style: none; margin:0; padding: 0}\n",
       ".list-inline>li {display: inline-block}\n",
       ".list-inline>li:not(:last-child)::after {content: \"\\00b7\"; padding: 0 .5ex}\n",
       "</style>\n",
       "<ol class=list-inline><li>129988</li><li>12</li></ol>\n"
      ],
      "text/latex": [
       "\\begin{enumerate*}\n",
       "\\item 129988\n",
       "\\item 12\n",
       "\\end{enumerate*}\n"
      ],
      "text/markdown": [
       "1. 129988\n",
       "2. 12\n",
       "\n",
       "\n"
      ],
      "text/plain": [
       "[1] 129988     12"
      ]
     },
     "metadata": {},
     "output_type": "display_data"
    }
   ],
   "source": [
    "suppressPackageStartupMessages(source(\"old_terminus_helper.R\"))\n",
    "dir <- \"/fs/cbcb-lab/rob/students/noor/Uncertainity/brain_sim_nodtu/mode=gc_bias/post_type=gibbs_nrep=100_tf=100/terminus/\"\n",
    "seBrainSim <- tximeta(coldata)\n",
    "yTermThrNS <- seBrainSim[rownames(tse)[1:l],]\n",
    "groupsClust <- parseClustFile(file.path(dir, \"old\", \"1_1\", \"clusters.txt\"), yTermThrNS)\n",
    "mInds <- seq(nrow(yTermThrNS) + length(groupsClust))\n",
    "yAggTermThrNS <- prepOSwish(yTermThrNS, mInds, groupsClust)\n",
    "\n",
    "rownames(yAggTermThrNS)[l+1:length(groupsClust)] <- paste(\"Node\", as.character(l+1:length(groupsClust)),sep=\"\")\n",
    "metadata(yAggTermThrNS)[[\"txpsAnn\"]] <- rowData(yTermThrNS)\n",
    "yAggTermThrNS <- yAggTermThrNS[-unlist(groupsClust),]\n",
    "dim(yAggTermThrNS)"
   ]
  },
  {
   "cell_type": "code",
   "execution_count": 55,
   "id": "466494f9",
   "metadata": {},
   "outputs": [],
   "source": [
    "aggCountsNodes <- computeOAggNodesU(groupsClust, mInds, sim.counts.mat)\n",
    "logFCNodesTerm <- ifelse(rowSums(aggCountsNodes)==0, 0, log2(aggCountsNodes[,2]+1)-log2(aggCountsNodes[,1]+1))\n",
    "names(logFCNodesTerm)[(l+1):length(logFCNodesTerm)] <- paste(\"Node\", names(logFCNodesTerm)[(l+1):length(logFCNodesTerm)], sep=\"\")\n"
   ]
  },
  {
   "cell_type": "code",
   "execution_count": 58,
   "id": "98b6cd7f",
   "metadata": {},
   "outputs": [],
   "source": [
    "yAggTermThrNS <- fishpond::scaleInfReps(yAggTermThrNS)\n",
    "yAggTermThrNS <- labelKeep(yAggTermThrNS)\n",
    "set.seed(1)\n",
    "yAggTermThrNS <- swish(yAggTermThrNS, x=\"condition\")"
   ]
  },
  {
   "cell_type": "code",
   "execution_count": 74,
   "id": "2981b281",
   "metadata": {},
   "outputs": [
    {
     "name": "stdout",
     "output_type": "stream",
     "text": [
      "[1] \"tp 0.990955806783145\"\n",
      "[1] \"tp 0.962254738942468\"\n",
      "[1] \"tp 0.924368499257058\"\n"
     ]
    }
   ],
   "source": [
    "detNodes[[\"term\"]] <- lapply(c(0.01, 0.05, 0.1), function(x) {\n",
    "        nodes <- rownames(yAggTermThrNS)[which(mcols(yAggTermThrNS)[,\"qvalue\"] <= x)]\n",
    "        match(nodes, names(logFCNodesTerm))\n",
    "    })\n",
    "negNodes[[\"term\"]] <- lapply(c(0.01, 0.05, 0.1), function(x) {\n",
    "        nodes <- rownames(yAggTermThrNS)[setdiff(seq(nrow(yAggTermThrNS)),\n",
    "                                                 which(mcols(yAggTermThrNS)[,\"qvalue\"] <= x))]\n",
    "        match(nodes, names(logFCNodesTerm))\n",
    "    })\n",
    "stats <-  sapply(seq_along(detNodes[[\"term\"]]), function(i) computeMetOut(detNodes[[\"term\"]][[i]], \n",
    "                                                                          logFCNodesTerm, tree = NULL, \n",
    "                                                                          negNodes = negNodes[[\"term\"]][[i]],\n",
    "                                                                          lfcThresh = rootFC))\n",
    "colnames(stats) <- colnames(df)[c(3:5)]\n",
    "stats <- cbind(Method=rep(\"term\",2), Metric = c(\"FDR\", \"TPR\"), stats)\n",
    "df <- rbind(df, stats)\n",
    "# detNodes[[\"term\"]] <- lapply(c(0.01, 0.05, 0.1), function(x) {\n",
    "#     nodes <- which(mcols(yAggTermThrNS)[,\"qvalue\"] <= x)\n",
    "#     tgroups <- nodes[nodes > l]\n",
    "#     groupTxps <- unlist(groupsClust) ## Transcripts covered by the groups\n",
    "#     txps <- intersect(nodes, setdiff(seq(l), groupTxps))\n",
    "#     c(txps, tgroups)\n",
    "# })\n",
    "# negNodes[[\"term\"]] <- lapply(detNodes[[\"term\"]], function(nodes) {\n",
    "#     groupTxps <- unlist(groupsClust)\n",
    "#     ndnodes <- setdiff(l+(1:length(groupsClust)), nodes)\n",
    "#     ndtxps <- setdiff(seq(l), c(nodes, groupTxps))\n",
    "#     c(ndtxps, ndnodes)\n",
    "# })"
   ]
  },
  {
   "cell_type": "code",
   "execution_count": 75,
   "id": "7f165ca6",
   "metadata": {},
   "outputs": [
    {
     "data": {
      "text/html": [
       "<table class=\"dataframe\">\n",
       "<caption>A data.frame: 20 × 5</caption>\n",
       "<thead>\n",
       "\t<tr><th></th><th scope=col>Method</th><th scope=col>Metric</th><th scope=col>FDR_0.01</th><th scope=col>FDR_0.05</th><th scope=col>FDR_0.10</th></tr>\n",
       "\t<tr><th></th><th scope=col>&lt;named list&gt;</th><th scope=col>&lt;named list&gt;</th><th scope=col>&lt;named list&gt;</th><th scope=col>&lt;named list&gt;</th><th scope=col>&lt;named list&gt;</th></tr>\n",
       "</thead>\n",
       "<tbody>\n",
       "\t<tr><th scope=row>fdr</th><td>Swish</td><td>FDR</td><td>0.009721952</td><td>0.03743316</td><td>0.07353354</td></tr>\n",
       "\t<tr><th scope=row>tpr</th><td>Swish</td><td>TPR</td><td>0.5788816</td><td>0.6956126</td><td>0.7503978</td></tr>\n",
       "\t<tr><th scope=row>fdr1</th><td>irv_height_0.05</td><td>FDR</td><td>0.01065497</td><td>0.0419927</td><td>0.08405934</td></tr>\n",
       "\t<tr><th scope=row>tpr1</th><td>irv_height_0.05</td><td>TPR</td><td>0.6280088</td><td>0.7306545</td><td>0.7738214</td></tr>\n",
       "\t<tr><th scope=row>fdr2</th><td>irv_height_0.1</td><td>FDR</td><td>0.01046816</td><td>0.0371179</td><td>0.07453826</td></tr>\n",
       "\t<tr><th scope=row>tpr2</th><td>irv_height_0.1</td><td>TPR</td><td>0.6233742</td><td>0.7270562</td><td>0.7710203</td></tr>\n",
       "\t<tr><th scope=row>fdr3</th><td>irv_height_1</td><td>FDR</td><td>0.001743375</td><td>0.03531359</td><td>0.07668562</td></tr>\n",
       "\t<tr><th scope=row>tpr3</th><td>irv_height_1</td><td>TPR</td><td>0.3916017</td><td>0.7174121</td><td>0.7773218</td></tr>\n",
       "\t<tr><th scope=row>fdr4</th><td>irv_height_5</td><td>FDR</td><td>0.00231405</td><td>0.03698897</td><td>0.07909766</td></tr>\n",
       "\t<tr><th scope=row>tpr4</th><td>irv_height_5</td><td>TPR</td><td>0.3602722</td><td>0.7086069</td><td>0.7699654</td></tr>\n",
       "\t<tr><th scope=row>fdr5</th><td>irv_height_10</td><td>FDR</td><td>0.009701203</td><td>0.0437022</td><td>0.08049665</td></tr>\n",
       "\t<tr><th scope=row>tpr5</th><td>irv_height_10</td><td>TPR</td><td>0.5930057</td><td>0.7118624</td><td>0.765772</td></tr>\n",
       "\t<tr><th scope=row>fdr6</th><td>LFC</td><td>FDR</td><td>0.009456986</td><td>0.03778338</td><td>0.07957379</td></tr>\n",
       "\t<tr><th scope=row>tpr6</th><td>LFC</td><td>TPR</td><td>0.6235836</td><td>0.7336278</td><td>0.7797196</td></tr>\n",
       "\t<tr><th scope=row>fdr7</th><td>lfcTPMDesc</td><td>FDR</td><td>0.001743375</td><td>0.03531359</td><td>0.07668562</td></tr>\n",
       "\t<tr><th scope=row>tpr7</th><td>lfcTPMDesc</td><td>TPR</td><td>0.3916017</td><td>0.7174121</td><td>0.7773218</td></tr>\n",
       "\t<tr><th scope=row>fdr8</th><td>lfcTPM</td><td>FDR</td><td>0.01048532</td><td>0.03793702</td><td>0.07948203</td></tr>\n",
       "\t<tr><th scope=row>tpr8</th><td>lfcTPM</td><td>TPR</td><td>0.6310661</td><td>0.7413068</td><td>0.787734</td></tr>\n",
       "\t<tr><th scope=row>fdr9</th><td>term</td><td>FDR</td><td>0.009044193</td><td>0.03774526</td><td>0.0756315</td></tr>\n",
       "\t<tr><th scope=row>tpr9</th><td>term</td><td>TPR</td><td>0.5934269</td><td>0.7123338</td><td>0.7657558</td></tr>\n",
       "</tbody>\n",
       "</table>\n"
      ],
      "text/latex": [
       "A data.frame: 20 × 5\n",
       "\\begin{tabular}{r|lllll}\n",
       "  & Method & Metric & FDR\\_0.01 & FDR\\_0.05 & FDR\\_0.10\\\\\n",
       "  & <named list> & <named list> & <named list> & <named list> & <named list>\\\\\n",
       "\\hline\n",
       "\tfdr & Swish & FDR & 0.009721952 & 0.03743316 & 0.07353354\\\\\n",
       "\ttpr & Swish & TPR & 0.5788816 & 0.6956126 & 0.7503978\\\\\n",
       "\tfdr1 & irv\\_height\\_0.05 & FDR & 0.01065497 & 0.0419927 & 0.08405934\\\\\n",
       "\ttpr1 & irv\\_height\\_0.05 & TPR & 0.6280088 & 0.7306545 & 0.7738214\\\\\n",
       "\tfdr2 & irv\\_height\\_0.1 & FDR & 0.01046816 & 0.0371179 & 0.07453826\\\\\n",
       "\ttpr2 & irv\\_height\\_0.1 & TPR & 0.6233742 & 0.7270562 & 0.7710203\\\\\n",
       "\tfdr3 & irv\\_height\\_1 & FDR & 0.001743375 & 0.03531359 & 0.07668562\\\\\n",
       "\ttpr3 & irv\\_height\\_1 & TPR & 0.3916017 & 0.7174121 & 0.7773218\\\\\n",
       "\tfdr4 & irv\\_height\\_5 & FDR & 0.00231405 & 0.03698897 & 0.07909766\\\\\n",
       "\ttpr4 & irv\\_height\\_5 & TPR & 0.3602722 & 0.7086069 & 0.7699654\\\\\n",
       "\tfdr5 & irv\\_height\\_10 & FDR & 0.009701203 & 0.0437022 & 0.08049665\\\\\n",
       "\ttpr5 & irv\\_height\\_10 & TPR & 0.5930057 & 0.7118624 & 0.765772\\\\\n",
       "\tfdr6 & LFC & FDR & 0.009456986 & 0.03778338 & 0.07957379\\\\\n",
       "\ttpr6 & LFC & TPR & 0.6235836 & 0.7336278 & 0.7797196\\\\\n",
       "\tfdr7 & lfcTPMDesc & FDR & 0.001743375 & 0.03531359 & 0.07668562\\\\\n",
       "\ttpr7 & lfcTPMDesc & TPR & 0.3916017 & 0.7174121 & 0.7773218\\\\\n",
       "\tfdr8 & lfcTPM & FDR & 0.01048532 & 0.03793702 & 0.07948203\\\\\n",
       "\ttpr8 & lfcTPM & TPR & 0.6310661 & 0.7413068 & 0.787734\\\\\n",
       "\tfdr9 & term & FDR & 0.009044193 & 0.03774526 & 0.0756315\\\\\n",
       "\ttpr9 & term & TPR & 0.5934269 & 0.7123338 & 0.7657558\\\\\n",
       "\\end{tabular}\n"
      ],
      "text/markdown": [
       "\n",
       "A data.frame: 20 × 5\n",
       "\n",
       "| <!--/--> | Method &lt;named list&gt; | Metric &lt;named list&gt; | FDR_0.01 &lt;named list&gt; | FDR_0.05 &lt;named list&gt; | FDR_0.10 &lt;named list&gt; |\n",
       "|---|---|---|---|---|---|\n",
       "| fdr | Swish | FDR | 0.009721952 | 0.03743316 | 0.07353354 |\n",
       "| tpr | Swish | TPR | 0.5788816 | 0.6956126 | 0.7503978 |\n",
       "| fdr1 | irv_height_0.05 | FDR | 0.01065497 | 0.0419927 | 0.08405934 |\n",
       "| tpr1 | irv_height_0.05 | TPR | 0.6280088 | 0.7306545 | 0.7738214 |\n",
       "| fdr2 | irv_height_0.1 | FDR | 0.01046816 | 0.0371179 | 0.07453826 |\n",
       "| tpr2 | irv_height_0.1 | TPR | 0.6233742 | 0.7270562 | 0.7710203 |\n",
       "| fdr3 | irv_height_1 | FDR | 0.001743375 | 0.03531359 | 0.07668562 |\n",
       "| tpr3 | irv_height_1 | TPR | 0.3916017 | 0.7174121 | 0.7773218 |\n",
       "| fdr4 | irv_height_5 | FDR | 0.00231405 | 0.03698897 | 0.07909766 |\n",
       "| tpr4 | irv_height_5 | TPR | 0.3602722 | 0.7086069 | 0.7699654 |\n",
       "| fdr5 | irv_height_10 | FDR | 0.009701203 | 0.0437022 | 0.08049665 |\n",
       "| tpr5 | irv_height_10 | TPR | 0.5930057 | 0.7118624 | 0.765772 |\n",
       "| fdr6 | LFC | FDR | 0.009456986 | 0.03778338 | 0.07957379 |\n",
       "| tpr6 | LFC | TPR | 0.6235836 | 0.7336278 | 0.7797196 |\n",
       "| fdr7 | lfcTPMDesc | FDR | 0.001743375 | 0.03531359 | 0.07668562 |\n",
       "| tpr7 | lfcTPMDesc | TPR | 0.3916017 | 0.7174121 | 0.7773218 |\n",
       "| fdr8 | lfcTPM | FDR | 0.01048532 | 0.03793702 | 0.07948203 |\n",
       "| tpr8 | lfcTPM | TPR | 0.6310661 | 0.7413068 | 0.787734 |\n",
       "| fdr9 | term | FDR | 0.009044193 | 0.03774526 | 0.0756315 |\n",
       "| tpr9 | term | TPR | 0.5934269 | 0.7123338 | 0.7657558 |\n",
       "\n"
      ],
      "text/plain": [
       "     Method          Metric FDR_0.01    FDR_0.05   FDR_0.10  \n",
       "fdr  Swish           FDR    0.009721952 0.03743316 0.07353354\n",
       "tpr  Swish           TPR    0.5788816   0.6956126  0.7503978 \n",
       "fdr1 irv_height_0.05 FDR    0.01065497  0.0419927  0.08405934\n",
       "tpr1 irv_height_0.05 TPR    0.6280088   0.7306545  0.7738214 \n",
       "fdr2 irv_height_0.1  FDR    0.01046816  0.0371179  0.07453826\n",
       "tpr2 irv_height_0.1  TPR    0.6233742   0.7270562  0.7710203 \n",
       "fdr3 irv_height_1    FDR    0.001743375 0.03531359 0.07668562\n",
       "tpr3 irv_height_1    TPR    0.3916017   0.7174121  0.7773218 \n",
       "fdr4 irv_height_5    FDR    0.00231405  0.03698897 0.07909766\n",
       "tpr4 irv_height_5    TPR    0.3602722   0.7086069  0.7699654 \n",
       "fdr5 irv_height_10   FDR    0.009701203 0.0437022  0.08049665\n",
       "tpr5 irv_height_10   TPR    0.5930057   0.7118624  0.765772  \n",
       "fdr6 LFC             FDR    0.009456986 0.03778338 0.07957379\n",
       "tpr6 LFC             TPR    0.6235836   0.7336278  0.7797196 \n",
       "fdr7 lfcTPMDesc      FDR    0.001743375 0.03531359 0.07668562\n",
       "tpr7 lfcTPMDesc      TPR    0.3916017   0.7174121  0.7773218 \n",
       "fdr8 lfcTPM          FDR    0.01048532  0.03793702 0.07948203\n",
       "tpr8 lfcTPM          TPR    0.6310661   0.7413068  0.787734  \n",
       "fdr9 term            FDR    0.009044193 0.03774526 0.0756315 \n",
       "tpr9 term            TPR    0.5934269   0.7123338  0.7657558 "
      ]
     },
     "metadata": {},
     "output_type": "display_data"
    }
   ],
   "source": [
    "df"
   ]
  },
  {
   "cell_type": "code",
   "execution_count": 76,
   "id": "d70270f9",
   "metadata": {},
   "outputs": [],
   "source": [
    "saveDir <- \"environment/brain_sim_nodtu/mode=gc_bias/post_type=gibbs_nrep=100_tf=100/comp_trees/DE\"\n",
    "save(cuts, file=file.path(saveDir, \"cutsCons.RData\"))\n",
    "save(df, file=file.path(saveDir, \"dfCons.RData\"))"
   ]
  },
  {
   "cell_type": "code",
   "execution_count": 77,
   "id": "8fc41e53",
   "metadata": {},
   "outputs": [],
   "source": [
    "negNodesDesc <- list()\n",
    "for(n in names(negNodes)) {\n",
    "    if(n == \"Swish\")\n",
    "        negNodesDesc[[n]] <- negNodes[[n]]\n",
    "    if(n != \"term\")\n",
    "        negNodesDesc[[n]] <- lapply(negNodes[[n]], function(x) unlist(Descendants(tree, x)))\n",
    "}\n",
    "negNodesDesc[[\"term\"]] <- lapply(negNodes[[\"term\"]], function(x) {\n",
    "    dd <- x[x>l]\n",
    "    r <- setdiff(x, dd)\n",
    "    dd <- dd - l\n",
    "    c(unlist(groupsClust[dd]), r) \n",
    "})"
   ]
  },
  {
   "cell_type": "code",
   "execution_count": 26,
   "id": "ad3b1362",
   "metadata": {},
   "outputs": [
    {
     "data": {
      "text/html": [
       "<style>\n",
       ".list-inline {list-style: none; margin:0; padding: 0}\n",
       ".list-inline>li {display: inline-block}\n",
       ".list-inline>li:not(:last-child)::after {content: \"\\00b7\"; padding: 0 .5ex}\n",
       "</style>\n",
       "<ol class=list-inline><li>83067</li><li>82372</li><li>81926</li></ol>\n"
      ],
      "text/latex": [
       "\\begin{enumerate*}\n",
       "\\item 83067\n",
       "\\item 82372\n",
       "\\item 81926\n",
       "\\end{enumerate*}\n"
      ],
      "text/markdown": [
       "1. 83067\n",
       "2. 82372\n",
       "3. 81926\n",
       "\n",
       "\n"
      ],
      "text/plain": [
       "[1] 83067 82372 81926"
      ]
     },
     "metadata": {},
     "output_type": "display_data"
    },
    {
     "data": {
      "text/html": [
       "<style>\n",
       ".list-inline {list-style: none; margin:0; padding: 0}\n",
       ".list-inline>li {display: inline-block}\n",
       ".list-inline>li:not(:last-child)::after {content: \"\\00b7\"; padding: 0 .5ex}\n",
       "</style>\n",
       "<ol class=list-inline><li>70733</li><li>70332</li><li>70089</li></ol>\n"
      ],
      "text/latex": [
       "\\begin{enumerate*}\n",
       "\\item 70733\n",
       "\\item 70332\n",
       "\\item 70089\n",
       "\\end{enumerate*}\n"
      ],
      "text/markdown": [
       "1. 70733\n",
       "2. 70332\n",
       "3. 70089\n",
       "\n",
       "\n"
      ],
      "text/plain": [
       "[1] 70733 70332 70089"
      ]
     },
     "metadata": {},
     "output_type": "display_data"
    }
   ],
   "source": [
    "sapply(negNodes[[\"lfcTPM\"]],length)\n",
    "sapply(negNodesDesc[[\"lfcTPM\"]],length)\n"
   ]
  },
  {
   "cell_type": "code",
   "execution_count": 78,
   "id": "391dd6c0",
   "metadata": {},
   "outputs": [
    {
     "name": "stdout",
     "output_type": "stream",
     "text": [
      "[1] \"Swish\"\n",
      "[1] \"tp 0.990278047832005\"\n",
      "[1] \"tp 0.962566844919786\"\n",
      "[1] \"tp 0.9264664608476\"\n",
      "[1] \"irv_height_0.05\"\n",
      "[1] \"tp 0.989345032905045\"\n",
      "[1] \"tp 0.958007303077726\"\n",
      "[1] \"tp 0.915940663998116\"\n",
      "[1] \"irv_height_0.1\"\n",
      "[1] \"tp 0.989531840651352\"\n",
      "[1] \"tp 0.962882096069869\"\n",
      "[1] \"tp 0.925461741424802\"\n",
      "[1] \"irv_height_1\"\n",
      "[1] \"tp 0.998256624825662\"\n",
      "[1] \"tp 0.964686407945558\"\n",
      "[1] \"tp 0.923314378554021\"\n",
      "[1] \"irv_height_5\"\n",
      "[1] \"tp 0.997685950413223\"\n",
      "[1] \"tp 0.963011031797534\"\n",
      "[1] \"tp 0.920902341519132\"\n",
      "[1] \"irv_height_10\"\n",
      "[1] \"tp 0.990298797050834\"\n",
      "[1] \"tp 0.956297799282035\"\n",
      "[1] \"tp 0.919503348214286\"\n",
      "[1] \"LFC\"\n",
      "[1] \"tp 0.990543014032947\"\n",
      "[1] \"tp 0.962216624685139\"\n",
      "[1] \"tp 0.92042620720925\"\n",
      "[1] \"lfcTPMDesc\"\n",
      "[1] \"tp 0.998256624825662\"\n",
      "[1] \"tp 0.964686407945558\"\n",
      "[1] \"tp 0.923314378554021\"\n",
      "[1] \"term\"\n",
      "[1] \"lfcTPM\"\n",
      "[1] \"tp 0.989514679448772\"\n",
      "[1] \"tp 0.962062980411604\"\n",
      "[1] \"tp 0.920517972761777\"\n",
      "[1] \"tp 0.990955806783145\"\n",
      "[1] \"tp 0.962254738942468\"\n",
      "[1] \"tp 0.924368499257058\"\n",
      "              Method Metric    FDR_0.01   FDR_0.05   FDR_0.10\n",
      "fdr            Swish    FDR 0.009721952 0.03743316 0.07353354\n",
      "tpr            Swish    TPR   0.5788816  0.6956126  0.7503978\n",
      "fdr1 irv_height_0.05    FDR  0.01065497  0.0419927 0.08405934\n",
      "tpr1 irv_height_0.05    TPR   0.5848462  0.6959075  0.7426499\n",
      "fdr2  irv_height_0.1    FDR  0.01046816  0.0371179 0.07453826\n",
      "tpr2  irv_height_0.1    TPR   0.5889581  0.6995065  0.7456156\n",
      "fdr3    irv_height_1    FDR 0.001743375 0.03531359 0.07668562\n",
      "tpr3    irv_height_1    TPR   0.3795572  0.7098389  0.7718321\n",
      "fdr4    irv_height_5    FDR  0.00231405 0.03698897 0.07909766\n",
      "tpr4    irv_height_5    TPR   0.3571598  0.7071718  0.7687723\n",
      "fdr5   irv_height_10    FDR 0.009701203  0.0437022 0.08049665\n",
      "tpr5   irv_height_10    TPR   0.5921801  0.7112014  0.7651498\n",
      "fdr6             LFC    FDR 0.009456986 0.03778338 0.07957379\n",
      "tpr6             LFC    TPR   0.5933845  0.7128196  0.7631579\n",
      "fdr7      lfcTPMDesc    FDR 0.001743375 0.03531359 0.07668562\n",
      "tpr7      lfcTPMDesc    TPR   0.3795572  0.7098389  0.7718321\n",
      "fdr8          lfcTPM    FDR  0.01048532 0.03793702 0.07948203\n",
      "tpr8          lfcTPM    TPR   0.6028472  0.7217262  0.7718083\n",
      "fdr9            term    FDR 0.009044193 0.03774526  0.0756315\n",
      "tpr9            term    TPR   0.5902302  0.7101485  0.7639691\n"
     ]
    }
   ],
   "source": [
    "dfO <- data.frame(Method=character(), Metric=character(), FDR_0.01 = numeric(), FDR_0.05 = numeric(), FDR_0.10 = numeric())\n",
    "for(n in names(detNodes))\n",
    "{\n",
    "    print(n)\n",
    "    if(n != \"term\") {\n",
    "        stats <-  sapply(seq_along(detNodes[[n]]), function(i) computeMetOut(detNodes[[n]][[i]], \n",
    "                                                                             logFCNodes, tree = tree, \n",
    "                                                                             negNodes = negNodesDesc[[n]][[i]], \n",
    "                                                                             lfcThresh = rootFC))\n",
    "        colnames(stats) <- colnames(df)[c(3:5)]\n",
    "        stats <- cbind(Method=rep(n,2), Metric = c(\"FDR\", \"TPR\"), stats)\n",
    "        dfO <- rbind(dfO, stats)\n",
    "    }\n",
    "    \n",
    "}\n",
    "stats <-  sapply(seq_along(detNodes[[\"term\"]]), function(i) computeMetOut(detNodes[[\"term\"]][[i]], \n",
    "                                              logFCNodesTerm, tree = NULL, \n",
    "                                              negNodes = negNodesDesc[[\"term\"]][[i]],\n",
    "                                              lfcThresh = rootFC))\n",
    "colnames(stats) <- colnames(df)[c(3:5)]\n",
    "stats <- cbind(Method=rep(\"term\",2), Metric = c(\"FDR\", \"TPR\"), stats)\n",
    "dfO <- rbind(dfO, stats)\n",
    "\n",
    "print(dfO)"
   ]
  },
  {
   "cell_type": "code",
   "execution_count": 79,
   "id": "78cb5127",
   "metadata": {},
   "outputs": [],
   "source": [
    "save(dfO, file=file.path(saveDir, \"dfConsO.RData\"))"
   ]
  }
 ],
 "metadata": {
  "kernelspec": {
   "display_name": "R",
   "language": "R",
   "name": "ir"
  },
  "language_info": {
   "codemirror_mode": "r",
   "file_extension": ".r",
   "mimetype": "text/x-r-source",
   "name": "R",
   "pygments_lexer": "r",
   "version": "4.1.1"
  }
 },
 "nbformat": 4,
 "nbformat_minor": 5
}
