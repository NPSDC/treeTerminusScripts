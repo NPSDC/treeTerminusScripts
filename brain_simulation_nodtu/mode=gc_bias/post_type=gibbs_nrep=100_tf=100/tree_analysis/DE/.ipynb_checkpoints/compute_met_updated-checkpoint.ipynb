{
 "cells": [
  {
   "cell_type": "markdown",
   "id": "6d08f864",
   "metadata": {},
   "source": [
    "### Consensus"
   ]
  },
  {
   "cell_type": "code",
   "execution_count": 1,
   "id": "87c6101a",
   "metadata": {},
   "outputs": [],
   "source": [
    "setwd('/fs/cbcb-lab/rob/students/noor/Uncertainity/treeTerminusScripts')\n",
    "saveDir <- \"environment/brain_sim_nodtu/mode=gc_bias/post_type=gibbs_nrep=100_tf=100/comp_trees/DE\"\n",
    "load(file=file.path(saveDir, \"tseCons.RData\"))\n",
    "suppressPackageStartupMessages(source(\"tree_helper_function.R\"))"
   ]
  },
  {
   "cell_type": "code",
   "execution_count": 2,
   "id": "2633124f",
   "metadata": {},
   "outputs": [],
   "source": [
    "load(file.path(saveDir, \"tAfterBHMoreClimbMIRV.RData\"))\n",
    "load(file.path(saveDir, \"tAfter.RData\"))\n",
    "load(file.path(saveDir, \"tAfterNoSign.RData\"))\n",
    "load(file.path(saveDir, \"tAfterNoStop.RData\"))\n",
    "load(file.path(saveDir, \"bouthBrain.RData\"))\n",
    "load(file.path(saveDir, \"bSwishCons.RData\"))"
   ]
  },
  {
   "cell_type": "code",
   "execution_count": 3,
   "id": "c367f9b0",
   "metadata": {},
   "outputs": [
    {
     "data": {
      "text/html": [
       "1"
      ],
      "text/latex": [
       "1"
      ],
      "text/markdown": [
       "1"
      ],
      "text/plain": [
       "[1] 1"
      ]
     },
     "metadata": {},
     "output_type": "display_data"
    },
    {
     "data": {
      "text/html": [
       "1"
      ],
      "text/latex": [
       "1"
      ],
      "text/markdown": [
       "1"
      ],
      "text/plain": [
       "[1] 1"
      ]
     },
     "metadata": {},
     "output_type": "display_data"
    },
    {
     "data": {
      "text/html": [
       "1"
      ],
      "text/latex": [
       "1"
      ],
      "text/markdown": [
       "1"
      ],
      "text/plain": [
       "[1] 1"
      ]
     },
     "metadata": {},
     "output_type": "display_data"
    }
   ],
   "source": [
    "which(bouthBrain[[1]][[\"results.by.node\"]][[\"is.driver\"]])\n",
    "which(bouthBrain[[2]][[\"results.by.node\"]][[\"is.driver\"]])\n",
    "which(bouthBrain[[3]][[\"results.by.node\"]][[\"is.driver\"]])"
   ]
  },
  {
   "cell_type": "code",
   "execution_count": 4,
   "id": "89f405ec",
   "metadata": {},
   "outputs": [],
   "source": [
    "load(\"environment/brain_sim_nodtu/mode=gc_bias/simulate.rda\")\n",
    "suppressPackageStartupMessages(library(TreeSummarizedExperiment))\n",
    "suppressPackageStartupMessages(library(ape))\n",
    "tree <- rowTree(tse)\n",
    "l <- length(tree$tip)\n",
    "missingTxps <- setdiff(rownames(tse)[1:l], rownames(sim.counts.mat))\n",
    "dts <- Reduce(union, c(names(iso.dge)[iso.dge], names(iso.dte)[iso.dte], names(iso.dte.only)[iso.dte.only], \n",
    "                       names(iso.dtu)[iso.dtu]))\n",
    "dts <- intersect(dts, rownames(sim.counts.mat))\n",
    "sim.counts.mat <- rbind(sim.counts.mat, matrix(0, nrow = length(missingTxps), ncol = ncol(sim.counts.mat),\n",
    "                                               dimnames = list(missingTxps, colnames(sim.counts.mat))))\n",
    "sim.counts.mat <- sim.counts.mat[rownames(tse)[1:l],]\n",
    "dts <- intersect(dts, rownames(sim.counts.mat))\n",
    "\n",
    "innNodes <- l+1:tree$Nnode\n",
    "aggCountsNodes <- computeAggNodesU(tree, c(1:length(tree$tip),innNodes), sim.counts.mat)\n",
    "logFCNodes <- ifelse(rowSums(aggCountsNodes)==0, 0, log2(aggCountsNodes[,2]+1)-log2(aggCountsNodes[,1]+1))\n",
    "names(logFCNodes)[(l+1):length(logFCNodes)] <- paste(\"Node\", names(logFCNodes)[(l+1):length(logFCNodes)], sep=\"\")\n",
    "rootFC <- abs(logFCNodes[l+1])"
   ]
  },
  {
   "cell_type": "code",
   "execution_count": 5,
   "id": "d8f7cc39",
   "metadata": {},
   "outputs": [],
   "source": [
    "y <- tse[1:l,]\n",
    "y <- fishpond::scaleInfReps(y)\n",
    "y <- labelKeep(y)\n",
    "set.seed(1)\n",
    "y <- swish(y, x=\"condition\")\n",
    "detNodes <- list()\n",
    "detNodes[[\"Txps\"]] <- lapply(c(0.01, 0.05, 0.1), function(x) which(mcols(y)[,\"qvalue\"] <= x ))\n",
    "detNodes[[\"tAfterBHMoreClimbMIRV=0\"]] <- lapply(tAfterBHMoreClimbMIRV[[1]], function(ta) ta)\n",
    "detNodes[[\"tAfterBHMoreClimbMIRV=0.4\"]] <- lapply(tAfterBHMoreClimbMIRV[[2]], function(ta) ta)\n",
    "detNodes[[\"tAfterBHMoreClimbMIRV=1\"]] <- lapply(tAfterBHMoreClimbMIRV[[3]], function(ta) ta)\n",
    "detNodes[[\"tAfter\"]] <- lapply(tAfter, function(ta) ta[[\"candNodeO\"]])\n",
    "detNodes[[\"tAfterNoSign\"]] <- lapply(tAfterNoSign, function(ta) ta[[\"candNodeO\"]])\n",
    "detNodes[[\"tAfterNoStop\"]] <- lapply(tAfterNoStop, function(ta) \n",
    "    \n",
    "    \n",
    "    \n",
    "    )\n",
    "detNodes[[\"treeClimbR\"]] <- lapply(bSwish, function(sw) sw$output[sw$output$signal.node,][[\"node\"]])\n",
    "detNodes[[\"treeClimbRO\"]] <- lapply(bSwish, function(sw) unlist(Descendants(tree,sw$output[sw$output$signal.node,][[\"node\"]])))\n",
    "\n",
    "negNodes <- list()\n",
    "negNodes[[\"Txps\"]] <- lapply(detNodes[[\"Txps\"]], function(nodes) setdiff(seq(l), nodes))\n",
    "negNodes[[\"tAfterBHMoreClimbMIRV=0\"]] <- lapply(detNodes[[\"tAfterBHMoreClimbMIRV=0\"]], function(nodes) setdiff(seq(nrow(y)), unlist(Descendants(tree, nodes)))) \n",
    "negNodes[[\"tAfterBHMoreClimbMIRV=0.4\"]] <- lapply(detNodes[[\"tAfterBHMoreClimbMIRV=0.4\"]], function(nodes) setdiff(seq(nrow(y)), unlist(Descendants(tree, nodes)))) \n",
    "negNodes[[\"tAfterBHMoreClimbMIRV=1\"]] <- lapply(detNodes[[\"tAfterBHMoreClimbMIRV=1\"]], function(nodes) setdiff(seq(nrow(y)), unlist(Descendants(tree, nodes)))) \n",
    "negNodes[[\"tAfter\"]] <- lapply(tAfter, function(ta) unlist(Descendants(tree,c(ta[[\"naNodeO\"]],ta[[\"negNodeO\"]]))))\n",
    "negNodes[[\"tAfterNoSign\"]] <- lapply(tAfterNoSign, function(ta) unlist(Descendants(tree,c(ta[[\"naNodeO\"]],ta[[\"negNodeO\"]]))))\n",
    "negNodes[[\"tAfterNoStop\"]] <- lapply(tAfterNoStop, function(ta) unlist(Descendants(tree,c(ta[[\"naNodeO\"]],ta[[\"negNodeO\"]]))))\n",
    "negNodes[[\"treeClimbR\"]] <- lapply(detNodes[[\"treeClimbR\"]], function(det) setdiff(seq(nrow(y)), unlist(Descendants(tree, det))))\n",
    "negNodes[[\"treeClimbRO\"]] <- lapply(detNodes[[\"treeClimbRO\"]], function(det) setdiff(seq(nrow(y)), det))"
   ]
  },
  {
   "cell_type": "code",
   "execution_count": 14,
   "id": "82564ead",
   "metadata": {},
   "outputs": [
    {
     "data": {
      "text/html": [
       "<style>\n",
       ".list-inline {list-style: none; margin:0; padding: 0}\n",
       ".list-inline>li {display: inline-block}\n",
       ".list-inline>li:not(:last-child)::after {content: \"\\00b7\"; padding: 0 .5ex}\n",
       "</style>\n",
       "<ol class=list-inline><li>253823</li><li>253978</li><li>254002</li><li>254113</li><li>254122</li><li>254351</li></ol>\n"
      ],
      "text/latex": [
       "\\begin{enumerate*}\n",
       "\\item 253823\n",
       "\\item 253978\n",
       "\\item 254002\n",
       "\\item 254113\n",
       "\\item 254122\n",
       "\\item 254351\n",
       "\\end{enumerate*}\n"
      ],
      "text/markdown": [
       "1. 253823\n",
       "2. 253978\n",
       "3. 254002\n",
       "4. 254113\n",
       "5. 254122\n",
       "6. 254351\n",
       "\n",
       "\n"
      ],
      "text/plain": [
       "[1] 253823 253978 254002 254113 254122 254351"
      ]
     },
     "metadata": {},
     "output_type": "display_data"
    }
   ],
   "source": [
    "sw <- bSwish[[1]]\n",
    "tail(sw$output[sw$output$signal.node,][[\"node\"]])\n",
    "tail(detNodes)"
   ]
  },
  {
   "cell_type": "code",
   "execution_count": 6,
   "id": "3cce875c",
   "metadata": {},
   "outputs": [
    {
     "name": "stdout",
     "output_type": "stream",
     "text": [
      "[1] \"Txps\"\n",
      "[1] \"tp 0.990278047832005\"\n",
      "[1] \"tp 0.962566844919786\"\n",
      "[1] \"tp 0.9264664608476\"\n",
      "[1] \"tAfterBHMoreClimbMIRV=0\"\n",
      "[1] \"tp 0.998019801980198\"\n",
      "[1] \"tp 0.951475249939039\"\n",
      "[1] \"tp 0.894804361770366\"\n",
      "[1] \"tAfterBHMoreClimbMIRV=0.4\"\n",
      "[1] \"tp 0.997775659358119\"\n",
      "[1] \"tp 0.969461697722567\"\n",
      "[1] \"tp 0.93188713592233\"\n",
      "[1] \"tAfterBHMoreClimbMIRV=1\"\n",
      "[1] \"tp 0.997797356828194\"\n",
      "[1] \"tp 0.971213389121339\"\n",
      "[1] \"tp 0.936755405206648\"\n",
      "[1] \"tAfter\"\n",
      "[1] \"tp 0.997830802603037\"\n",
      "[1] \"tp 0.984014532243415\"\n",
      "[1] \"tp 0.963486267661534\"\n",
      "[1] \"tAfterNoSign\"\n",
      "[1] \"tp 0.997832146175286\"\n",
      "[1] \"tp 0.988188226328825\"\n",
      "[1] \"tp 0.96950319724545\"\n",
      "[1] \"tAfterNoStop\"\n",
      "[1] \"tp 0.997539975399754\"\n",
      "[1] \"tp 0.99725802029065\"\n",
      "[1] \"tp 0.983891634632986\"\n",
      "[1] \"treeClimbR\"\n",
      "[1] \"tp 0.997648902821317\"\n",
      "[1] \"tp 0.984057174271578\"\n",
      "[1] \"tp 0.957791345898593\"\n",
      "[1] \"treeClimbRO\"\n",
      "[1] \"tp 0.84087332808812\"\n",
      "[1] \"tp 0.799852107468573\"\n",
      "[1] \"tp 0.745443311708372\"\n",
      "                        Method Metric    FDR_0.01   FDR_0.05   FDR_0.10\n",
      "fdr                       Txps    FDR 0.009721952 0.03743316 0.07353354\n",
      "tpr                       Txps    TPR   0.5788816  0.6956126  0.7503978\n",
      "fdr1   tAfterBHMoreClimbMIRV=0    FDR 0.001980198 0.04852475  0.1051956\n",
      "tpr1   tAfterBHMoreClimbMIRV=0    TPR   0.4985163  0.7760541  0.8278932\n",
      "fdr2 tAfterBHMoreClimbMIRV=0.4    FDR 0.002224341  0.0305383 0.06811286\n",
      "tpr2 tAfterBHMoreClimbMIRV=0.4    TPR   0.4235802  0.7286993  0.7872613\n",
      "fdr3   tAfterBHMoreClimbMIRV=1    FDR 0.002202643 0.02878661 0.06324459\n",
      "tpr3   tAfterBHMoreClimbMIRV=1    TPR   0.3957319  0.7072517  0.7702261\n",
      "fdr4                    tAfter    FDR 0.002169197 0.01598547 0.03651373\n",
      "tpr4                    tAfter    TPR   0.3758609  0.6206462  0.6935207\n",
      "fdr5              tAfterNoSign    FDR 0.002167854 0.01181177  0.0304968\n",
      "tpr5              tAfterNoSign    TPR   0.3760943    0.59409  0.6753084\n",
      "fdr6              tAfterNoStop    FDR 0.002460025 0.00274198 0.01610837\n",
      "tpr6              tAfterNoStop    TPR   0.3802157  0.4145202  0.6128848\n",
      "fdr7                treeClimbR    FDR 0.002351097 0.01594283 0.04220865\n",
      "tpr7                treeClimbR    TPR   0.3601641  0.6080163  0.6982775\n",
      "fdr8               treeClimbRO    FDR   0.1591267  0.2001479  0.2545567\n",
      "tpr8               treeClimbRO    TPR   0.4859059  0.7376677  0.8228006\n"
     ]
    }
   ],
   "source": [
    "df <- data.frame(Method=character(), Metric=character(), FDR_0.01 = numeric(), FDR_0.05 = numeric(), FDR_0.10 = numeric())\n",
    "for(n in names(detNodes))\n",
    "{    \n",
    "    print(n)\n",
    "    stats <-  sapply(seq_along(detNodes[[n]]), function(i) computeMetOut(detNodes[[n]][[i]], logFCNodes, tree = tree, negNodes = negNodes[[n]][[i]], lfcThresh = rootFC))\n",
    "    colnames(stats) <- colnames(df)[c(3:5)]\n",
    "    stats <- cbind(Method=rep(n,2), Metric = c(\"FDR\", \"TPR\"), stats)\n",
    "    df <- rbind(df, stats)\n",
    "}\n",
    "print(df)"
   ]
  },
  {
   "cell_type": "code",
   "execution_count": 7,
   "id": "140b44d2",
   "metadata": {},
   "outputs": [],
   "source": [
    "suppressPackageStartupMessages(library(tidyr))\n",
    "dfA <- df %>% pivot_wider(names_from = Metric, values_from = c(3:5))\n",
    "dfA <- dfA[,c(1,seq(2,7,2),seq(3,7,2))]"
   ]
  },
  {
   "cell_type": "code",
   "execution_count": 8,
   "id": "b4da7e18",
   "metadata": {},
   "outputs": [
    {
     "data": {
      "text/html": [
       "<table class=\"dataframe\">\n",
       "<caption>A tibble: 9 × 7</caption>\n",
       "<thead>\n",
       "\t<tr><th scope=col>Method</th><th scope=col>FDR_0.01_FDR</th><th scope=col>FDR_0.05_FDR</th><th scope=col>FDR_0.10_FDR</th><th scope=col>FDR_0.01_TPR</th><th scope=col>FDR_0.05_TPR</th><th scope=col>FDR_0.10_TPR</th></tr>\n",
       "\t<tr><th scope=col>&lt;named list&gt;</th><th scope=col>&lt;named list&gt;</th><th scope=col>&lt;named list&gt;</th><th scope=col>&lt;named list&gt;</th><th scope=col>&lt;named list&gt;</th><th scope=col>&lt;named list&gt;</th><th scope=col>&lt;named list&gt;</th></tr>\n",
       "</thead>\n",
       "<tbody>\n",
       "\t<tr><td>Txps</td><td>0.009721952</td><td>0.03743316</td><td>0.07353354</td><td>0.5788816</td><td>0.6956126</td><td>0.7503978</td></tr>\n",
       "\t<tr><td>tAfterBHMoreClimbMIRV=0</td><td>0.001980198</td><td>0.04852475</td><td>0.1051956</td><td>0.4985163</td><td>0.7760541</td><td>0.8278932</td></tr>\n",
       "\t<tr><td>tAfterBHMoreClimbMIRV=0.4</td><td>0.002224341</td><td>0.0305383</td><td>0.06811286</td><td>0.4235802</td><td>0.7286993</td><td>0.7872613</td></tr>\n",
       "\t<tr><td>tAfterBHMoreClimbMIRV=1</td><td>0.002202643</td><td>0.02878661</td><td>0.06324459</td><td>0.3957319</td><td>0.7072517</td><td>0.7702261</td></tr>\n",
       "\t<tr><td>tAfter</td><td>0.002169197</td><td>0.01598547</td><td>0.03651373</td><td>0.3758609</td><td>0.6206462</td><td>0.6935207</td></tr>\n",
       "\t<tr><td>tAfterNoSign</td><td>0.002167854</td><td>0.01181177</td><td>0.0304968</td><td>0.3760943</td><td>0.59409</td><td>0.6753084</td></tr>\n",
       "\t<tr><td>tAfterNoStop</td><td>0.002460025</td><td>0.00274198</td><td>0.01610837</td><td>0.3802157</td><td>0.4145202</td><td>0.6128848</td></tr>\n",
       "\t<tr><td>treeClimbR</td><td>0.002351097</td><td>0.01594283</td><td>0.04220865</td><td>0.3601641</td><td>0.6080163</td><td>0.6982775</td></tr>\n",
       "\t<tr><td>treeClimbRO</td><td>0.1591267</td><td>0.2001479</td><td>0.2545567</td><td>0.4859059</td><td>0.7376677</td><td>0.8228006</td></tr>\n",
       "</tbody>\n",
       "</table>\n"
      ],
      "text/latex": [
       "A tibble: 9 × 7\n",
       "\\begin{tabular}{lllllll}\n",
       " Method & FDR\\_0.01\\_FDR & FDR\\_0.05\\_FDR & FDR\\_0.10\\_FDR & FDR\\_0.01\\_TPR & FDR\\_0.05\\_TPR & FDR\\_0.10\\_TPR\\\\\n",
       " <named list> & <named list> & <named list> & <named list> & <named list> & <named list> & <named list>\\\\\n",
       "\\hline\n",
       "\t Txps & 0.009721952 & 0.03743316 & 0.07353354 & 0.5788816 & 0.6956126 & 0.7503978\\\\\n",
       "\t tAfterBHMoreClimbMIRV=0 & 0.001980198 & 0.04852475 & 0.1051956 & 0.4985163 & 0.7760541 & 0.8278932\\\\\n",
       "\t tAfterBHMoreClimbMIRV=0.4 & 0.002224341 & 0.0305383 & 0.06811286 & 0.4235802 & 0.7286993 & 0.7872613\\\\\n",
       "\t tAfterBHMoreClimbMIRV=1 & 0.002202643 & 0.02878661 & 0.06324459 & 0.3957319 & 0.7072517 & 0.7702261\\\\\n",
       "\t tAfter & 0.002169197 & 0.01598547 & 0.03651373 & 0.3758609 & 0.6206462 & 0.6935207\\\\\n",
       "\t tAfterNoSign & 0.002167854 & 0.01181177 & 0.0304968 & 0.3760943 & 0.59409 & 0.6753084\\\\\n",
       "\t tAfterNoStop & 0.002460025 & 0.00274198 & 0.01610837 & 0.3802157 & 0.4145202 & 0.6128848\\\\\n",
       "\t treeClimbR & 0.002351097 & 0.01594283 & 0.04220865 & 0.3601641 & 0.6080163 & 0.6982775\\\\\n",
       "\t treeClimbRO & 0.1591267 & 0.2001479 & 0.2545567 & 0.4859059 & 0.7376677 & 0.8228006\\\\\n",
       "\\end{tabular}\n"
      ],
      "text/markdown": [
       "\n",
       "A tibble: 9 × 7\n",
       "\n",
       "| Method &lt;named list&gt; | FDR_0.01_FDR &lt;named list&gt; | FDR_0.05_FDR &lt;named list&gt; | FDR_0.10_FDR &lt;named list&gt; | FDR_0.01_TPR &lt;named list&gt; | FDR_0.05_TPR &lt;named list&gt; | FDR_0.10_TPR &lt;named list&gt; |\n",
       "|---|---|---|---|---|---|---|\n",
       "| Txps | 0.009721952 | 0.03743316 | 0.07353354 | 0.5788816 | 0.6956126 | 0.7503978 |\n",
       "| tAfterBHMoreClimbMIRV=0 | 0.001980198 | 0.04852475 | 0.1051956 | 0.4985163 | 0.7760541 | 0.8278932 |\n",
       "| tAfterBHMoreClimbMIRV=0.4 | 0.002224341 | 0.0305383 | 0.06811286 | 0.4235802 | 0.7286993 | 0.7872613 |\n",
       "| tAfterBHMoreClimbMIRV=1 | 0.002202643 | 0.02878661 | 0.06324459 | 0.3957319 | 0.7072517 | 0.7702261 |\n",
       "| tAfter | 0.002169197 | 0.01598547 | 0.03651373 | 0.3758609 | 0.6206462 | 0.6935207 |\n",
       "| tAfterNoSign | 0.002167854 | 0.01181177 | 0.0304968 | 0.3760943 | 0.59409 | 0.6753084 |\n",
       "| tAfterNoStop | 0.002460025 | 0.00274198 | 0.01610837 | 0.3802157 | 0.4145202 | 0.6128848 |\n",
       "| treeClimbR | 0.002351097 | 0.01594283 | 0.04220865 | 0.3601641 | 0.6080163 | 0.6982775 |\n",
       "| treeClimbRO | 0.1591267 | 0.2001479 | 0.2545567 | 0.4859059 | 0.7376677 | 0.8228006 |\n",
       "\n"
      ],
      "text/plain": [
       "  Method                    FDR_0.01_FDR FDR_0.05_FDR FDR_0.10_FDR FDR_0.01_TPR\n",
       "1 Txps                      0.009721952  0.03743316   0.07353354   0.5788816   \n",
       "2 tAfterBHMoreClimbMIRV=0   0.001980198  0.04852475   0.1051956    0.4985163   \n",
       "3 tAfterBHMoreClimbMIRV=0.4 0.002224341  0.0305383    0.06811286   0.4235802   \n",
       "4 tAfterBHMoreClimbMIRV=1   0.002202643  0.02878661   0.06324459   0.3957319   \n",
       "5 tAfter                    0.002169197  0.01598547   0.03651373   0.3758609   \n",
       "6 tAfterNoSign              0.002167854  0.01181177   0.0304968    0.3760943   \n",
       "7 tAfterNoStop              0.002460025  0.00274198   0.01610837   0.3802157   \n",
       "8 treeClimbR                0.002351097  0.01594283   0.04220865   0.3601641   \n",
       "9 treeClimbRO               0.1591267    0.2001479    0.2545567    0.4859059   \n",
       "  FDR_0.05_TPR FDR_0.10_TPR\n",
       "1 0.6956126    0.7503978   \n",
       "2 0.7760541    0.8278932   \n",
       "3 0.7286993    0.7872613   \n",
       "4 0.7072517    0.7702261   \n",
       "5 0.6206462    0.6935207   \n",
       "6 0.59409      0.6753084   \n",
       "7 0.4145202    0.6128848   \n",
       "8 0.6080163    0.6982775   \n",
       "9 0.7376677    0.8228006   "
      ]
     },
     "metadata": {},
     "output_type": "display_data"
    }
   ],
   "source": [
    "dfA"
   ]
  },
  {
   "cell_type": "code",
   "execution_count": 11,
   "id": "0dae7691",
   "metadata": {},
   "outputs": [
    {
     "data": {
      "text/html": [
       "<style>\n",
       ".list-inline {list-style: none; margin:0; padding: 0}\n",
       ".list-inline>li {display: inline-block}\n",
       ".list-inline>li:not(:last-child)::after {content: \"\\00b7\"; padding: 0 .5ex}\n",
       "</style>\n",
       "<ol class=list-inline><li>1030</li><li>1228</li><li>1292</li></ol>\n"
      ],
      "text/latex": [
       "\\begin{enumerate*}\n",
       "\\item 1030\n",
       "\\item 1228\n",
       "\\item 1292\n",
       "\\end{enumerate*}\n"
      ],
      "text/markdown": [
       "1. 1030\n",
       "2. 1228\n",
       "3. 1292\n",
       "\n",
       "\n"
      ],
      "text/plain": [
       "[1] 1030 1228 1292"
      ]
     },
     "metadata": {},
     "output_type": "display_data"
    },
    {
     "data": {
      "text/html": [
       "<style>\n",
       ".list-inline {list-style: none; margin:0; padding: 0}\n",
       ".list-inline>li {display: inline-block}\n",
       ".list-inline>li:not(:last-child)::after {content: \"\\00b7\"; padding: 0 .5ex}\n",
       "</style>\n",
       "<ol class=list-inline><li>0</li><li>0.0456026058631922</li><li>0.0990712074303406</li></ol>\n"
      ],
      "text/latex": [
       "\\begin{enumerate*}\n",
       "\\item 0\n",
       "\\item 0.0456026058631922\n",
       "\\item 0.0990712074303406\n",
       "\\end{enumerate*}\n"
      ],
      "text/markdown": [
       "1. 0\n",
       "2. 0.0456026058631922\n",
       "3. 0.0990712074303406\n",
       "\n",
       "\n"
      ],
      "text/plain": [
       "[1] 0.00000000 0.04560261 0.09907121"
      ]
     },
     "metadata": {},
     "output_type": "display_data"
    }
   ],
   "source": [
    "detInnerNodes <- sapply(detNodes[[\"tAfterBHMoreClimbMIRV=0.4\"]], function(nodes) nodes[nodes > l])\n",
    "sapply(detInnerNodes, length)\n",
    "sapply(seq_along(detInnerNodes), function(i) mean(abs(logFCNodes[detInnerNodes[[i]]]) < rootFC))"
   ]
  },
  {
   "cell_type": "code",
   "execution_count": 13,
   "id": "303876d0",
   "metadata": {},
   "outputs": [
    {
     "data": {
      "text/html": [
       "555"
      ],
      "text/latex": [
       "555"
      ],
      "text/markdown": [
       "555"
      ],
      "text/plain": [
       "[1] 555"
      ]
     },
     "metadata": {},
     "output_type": "display_data"
    }
   ],
   "source": [
    "missP <- setdiff(unlist(Descendants(tree,detNodes[[3]][[2]])), detNodes[[1]][[2]])\n",
    "missTP <- missP[abs(logFCNodes[missP]) > rootFC] ##True positive transcripts that have an internal node\n",
    "\n",
    "missInTreeDE <- setdiff(detNodes[[1]][[2]], unlist(Descendants(tree,detNodes[[3]][[2]])))\n",
    "missTPInTreeDE <- missInTreeDE[abs(logFCNodes[missInTreeDE]) > rootFC] ##True positive transcripts that have an internal node\n",
    "sum(unique(unlist(Ancestors(tree, missTP))) %in% detNodes[[3]][[2]]) ### Nodes of these additional ancestors "
   ]
  },
  {
   "cell_type": "code",
   "execution_count": 14,
   "id": "5a047c7a",
   "metadata": {},
   "outputs": [],
   "source": [
    "missP <- setdiff(unlist(Descendants(tree,detNodes[[3]][[2]])), detNodes[[1]][[2]])"
   ]
  },
  {
   "cell_type": "code",
   "execution_count": 15,
   "id": "c93844d7",
   "metadata": {},
   "outputs": [
    {
     "data": {
      "text/html": [
       "2219"
      ],
      "text/latex": [
       "2219"
      ],
      "text/markdown": [
       "2219"
      ],
      "text/plain": [
       "[1] 2219"
      ]
     },
     "metadata": {},
     "output_type": "display_data"
    },
    {
     "data": {
      "text/html": [
       "790"
      ],
      "text/latex": [
       "790"
      ],
      "text/markdown": [
       "790"
      ],
      "text/plain": [
       "[1] 790"
      ]
     },
     "metadata": {},
     "output_type": "display_data"
    },
    {
     "data": {
      "text/html": [
       "284"
      ],
      "text/latex": [
       "284"
      ],
      "text/markdown": [
       "284"
      ],
      "text/plain": [
       "[1] 284"
      ]
     },
     "metadata": {},
     "output_type": "display_data"
    },
    {
     "data": {
      "text/html": [
       "204"
      ],
      "text/latex": [
       "204"
      ],
      "text/markdown": [
       "204"
      ],
      "text/plain": [
       "[1] 204"
      ]
     },
     "metadata": {},
     "output_type": "display_data"
    }
   ],
   "source": [
    "length(missP)\n",
    "length(missTP)\n",
    "length(missInTreeDE)\n",
    "length(missTPInTreeDE)"
   ]
  },
  {
   "cell_type": "code",
   "execution_count": 16,
   "id": "5305bd68",
   "metadata": {},
   "outputs": [],
   "source": [
    "dd <- sapply(Descendants(tree, detInnerNodes[[2]]), function(nodes) {\n",
    "    if(length(nodes) > 1) {\n",
    "        all(abs(logFCNodes)[nodes] > rootFC) & (sum(nodes %in% detNodes[[1]][[2]])==0)\n",
    "    }\n",
    "})"
   ]
  },
  {
   "cell_type": "code",
   "execution_count": 26,
   "id": "641eb935",
   "metadata": {},
   "outputs": [
    {
     "data": {
      "text/plain": [
       "DataFrame with 2 rows and 8 columns\n",
       "                  meanInfRV log10mean      keep      stat    log2FC     pvalue\n",
       "                  <numeric> <numeric> <logical> <numeric> <numeric>  <numeric>\n",
       "ENST00000508457.1   3.14153   1.63351      TRUE    -13.90  -1.00361 0.00815617\n",
       "ENST00000379205.4   3.06227   1.65498      TRUE    -13.01  -0.90171 0.01409578\n",
       "                     locfdr    qvalue\n",
       "                  <numeric> <numeric>\n",
       "ENST00000508457.1  0.517371 0.0744448\n",
       "ENST00000379205.4  0.686017 0.1185206"
      ]
     },
     "metadata": {},
     "output_type": "display_data"
    }
   ],
   "source": [
    "mcols(y)[Descendants(tree, detInnerNodes[[2]])[[146]],]"
   ]
  },
  {
   "cell_type": "code",
   "execution_count": 24,
   "id": "bde8cfab",
   "metadata": {},
   "outputs": [
    {
     "data": {
      "text/html": [
       "25"
      ],
      "text/latex": [
       "25"
      ],
      "text/markdown": [
       "25"
      ],
      "text/plain": [
       "[1] 25"
      ]
     },
     "metadata": {},
     "output_type": "display_data"
    },
    {
     "data": {
      "text/html": [
       "<style>\n",
       ".list-inline {list-style: none; margin:0; padding: 0}\n",
       ".list-inline>li {display: inline-block}\n",
       ".list-inline>li:not(:last-child)::after {content: \"\\00b7\"; padding: 0 .5ex}\n",
       "</style>\n",
       "<ol class=list-inline><li>146</li><li>189</li><li>229</li><li>246</li><li>250</li><li>293</li><li>315</li><li>364</li><li>388</li><li>450</li></ol>\n"
      ],
      "text/latex": [
       "\\begin{enumerate*}\n",
       "\\item 146\n",
       "\\item 189\n",
       "\\item 229\n",
       "\\item 246\n",
       "\\item 250\n",
       "\\item 293\n",
       "\\item 315\n",
       "\\item 364\n",
       "\\item 388\n",
       "\\item 450\n",
       "\\end{enumerate*}\n"
      ],
      "text/markdown": [
       "1. 146\n",
       "2. 189\n",
       "3. 229\n",
       "4. 246\n",
       "5. 250\n",
       "6. 293\n",
       "7. 315\n",
       "8. 364\n",
       "9. 388\n",
       "10. 450\n",
       "\n",
       "\n"
      ],
      "text/plain": [
       " [1] 146 189 229 246 250 293 315 364 388 450"
      ]
     },
     "metadata": {},
     "output_type": "display_data"
    },
    {
     "data": {
      "text/html": [
       "<style>\n",
       ".dl-inline {width: auto; margin:0; padding: 0}\n",
       ".dl-inline>dt, .dl-inline>dd {float: none; width: auto; display: inline-block}\n",
       ".dl-inline>dt::after {content: \":\\0020\"; padding-right: .5ex}\n",
       ".dl-inline>dt:not(:first-of-type) {padding-left: .5ex}\n",
       "</style><dl class=dl-inline><dt>ENST00000508457.1</dt><dd>-1.16259560120232</dd><dt>ENST00000379205.4</dt><dd>-1.15743245083503</dd></dl>\n"
      ],
      "text/latex": [
       "\\begin{description*}\n",
       "\\item[ENST00000508457.1] -1.16259560120232\n",
       "\\item[ENST00000379205.4] -1.15743245083503\n",
       "\\end{description*}\n"
      ],
      "text/markdown": [
       "ENST00000508457.1\n",
       ":   -1.16259560120232ENST00000379205.4\n",
       ":   -1.15743245083503\n",
       "\n"
      ],
      "text/plain": [
       "ENST00000508457.1 ENST00000379205.4 \n",
       "        -1.162596         -1.157432 "
      ]
     },
     "metadata": {},
     "output_type": "display_data"
    }
   ],
   "source": [
    "sum(dd)\n",
    "which(dd)[1:10]\n",
    "logFCNodes[Descendants(tree, detInnerNodes[[2]])[[146]]]\n",
    "which(assays(tse))"
   ]
  },
  {
   "cell_type": "code",
   "execution_count": 31,
   "id": "b872af1b",
   "metadata": {},
   "outputs": [],
   "source": [
    "load(file=file.path(saveDir, \"tseMean.RData\"))\n",
    "load(file.path(saveDir, \"tAfterBHMoreClimbMIRVMean.RData\"))"
   ]
  },
  {
   "cell_type": "code",
   "execution_count": 43,
   "id": "3f1e6e0c",
   "metadata": {},
   "outputs": [],
   "source": [
    "load(\"environment/brain_sim_nodtu/mode=gc_bias/simulate.rda\")\n",
    "suppressPackageStartupMessages(library(TreeSummarizedExperiment))\n",
    "suppressPackageStartupMessages(library(ape))\n",
    "tree <- rowTree(tse)\n",
    "l <- length(tree$tip)\n",
    "missingTxps <- setdiff(rownames(tse)[1:l], rownames(sim.counts.mat))\n",
    "dts <- Reduce(union, c(names(iso.dge)[iso.dge], names(iso.dte)[iso.dte], names(iso.dte.only)[iso.dte.only], \n",
    "                       names(iso.dtu)[iso.dtu]))\n",
    "dts <- intersect(dts, rownames(sim.counts.mat))\n",
    "sim.counts.mat <- rbind(sim.counts.mat, matrix(0, nrow = length(missingTxps), ncol = ncol(sim.counts.mat),\n",
    "                                               dimnames = list(missingTxps, colnames(sim.counts.mat))))\n",
    "sim.counts.mat <- sim.counts.mat[rownames(tse)[1:l],]\n",
    "dts <- intersect(dts, rownames(sim.counts.mat))\n",
    "\n",
    "innNodes <- l+1:tree$Nnode\n",
    "aggCountsNodes <- computeAggNodesU(tree, c(1:length(tree$tip),innNodes), sim.counts.mat)\n",
    "logFCNodes <- ifelse(rowSums(aggCountsNodes)==0, 0, log2(aggCountsNodes[,2]+1)-log2(aggCountsNodes[,1]+1))\n",
    "names(logFCNodes)[(l+1):length(logFCNodes)] <- paste(\"Node\", names(logFCNodes)[(l+1):length(logFCNodes)], sep=\"\")\n",
    "rootFC <- abs(logFCNodes[l+1])"
   ]
  },
  {
   "cell_type": "code",
   "execution_count": 44,
   "id": "c8240afb",
   "metadata": {},
   "outputs": [
    {
     "data": {
      "text/html": [
       "<strong>Node138765:</strong> 0.0326437483922248"
      ],
      "text/latex": [
       "\\textbf{Node138765:} 0.0326437483922248"
      ],
      "text/markdown": [
       "**Node138765:** 0.0326437483922248"
      ],
      "text/plain": [
       "Node138765 \n",
       "0.03264375 "
      ]
     },
     "metadata": {},
     "output_type": "display_data"
    }
   ],
   "source": [
    "rootFC"
   ]
  },
  {
   "cell_type": "code",
   "execution_count": 34,
   "id": "0f0a6f26",
   "metadata": {},
   "outputs": [],
   "source": [
    "y <- tse[1:l,]\n",
    "y <- fishpond::scaleInfReps(y)\n",
    "y <- labelKeep(y)\n",
    "set.seed(1)\n",
    "y <- swish(y, x=\"condition\")"
   ]
  },
  {
   "cell_type": "code",
   "execution_count": 35,
   "id": "9fef0b1a",
   "metadata": {},
   "outputs": [
    {
     "data": {
      "text/plain": [
       "class: TreeSummarizedExperiment \n",
       "dim: 258730 12 \n",
       "metadata(8): tximetaInfo quantInfo ... txpsAnn infRepsScaled\n",
       "assays(105): counts abundance ... mean variance\n",
       "rownames(258730): ENST00000419160.3 ENST00000416931.1 ... Node258729\n",
       "  Node258730\n",
       "rowData names(1): meanInfRV\n",
       "colnames(12): 1_1 2_1 ... 5_2 6_2\n",
       "colData names(2): names condition\n",
       "reducedDimNames(0):\n",
       "mainExpName: NULL\n",
       "altExpNames(0):\n",
       "rowLinks: a LinkDataFrame (258730 rows)\n",
       "rowTree: 1 phylo tree(s) (138764 leaves)\n",
       "colLinks: NULL\n",
       "colTree: NULL"
      ]
     },
     "metadata": {},
     "output_type": "display_data"
    }
   ],
   "source": [
    "tAft"
   ]
  },
  {
   "cell_type": "code",
   "execution_count": 79,
   "id": "19de7816",
   "metadata": {},
   "outputs": [],
   "source": [
    "detNodes <- list()\n",
    "detNodes[[\"Txps\"]] <- lapply(c(0.01, 0.05, 0.1), function(x) which(mcols(y)[,\"qvalue\"] <= x ))\n",
    "detNodes[[\"tAfterBHMoreClimbMIRV=0\"]] <- lapply(tAfterBHMoreClimbMIRV[[1]], function(ta) ta)\n",
    "detNodes[[\"tAfterBHMoreClimbMIRV=0.4\"]] <- lapply(tAfterBHMoreClimbMIRV[[2]], function(ta) ta)\n",
    "detNodes[[\"tAfterBHMoreClimbMIRV=1\"]] <- lapply(tAfterBHMoreClimbMIRV[[3]], function(ta) ta)\n",
    "\n",
    "negNodes <- list()\n",
    "negNodes[[\"Txps\"]] <- lapply(detNodes[[\"Txps\"]], function(nodes) setdiff(seq(l), nodes))\n",
    "negNodes[[\"tAfterBHMoreClimbMIRV=0\"]] <- lapply(detNodes[[\"tAfterBHMoreClimbMIRV=0\"]], function(nodes) setdiff(seq(nrow(y)), unlist(Descendants(tree, nodes))))\n",
    "negNodes[[\"tAfterBHMoreClimbMIRV=0.4\"]] <- lapply(detNodes[[\"tAfterBHMoreClimbMIRV=0.4\"]], function(nodes) setdiff(seq(nrow(y)), unlist(Descendants(tree, nodes)))) \n",
    "negNodes[[\"tAfterBHMoreClimbMIRV=1\"]] <- lapply(detNodes[[\"tAfterBHMoreClimbMIRV=1\"]], function(nodes) setdiff(seq(nrow(y)), unlist(Descendants(tree, nodes)))) \n"
   ]
  },
  {
   "cell_type": "code",
   "execution_count": 80,
   "id": "79309e33",
   "metadata": {},
   "outputs": [
    {
     "name": "stdout",
     "output_type": "stream",
     "text": [
      "[1] \"Txps\"\n",
      "[1] \"tp 0.990465071025491\"\n",
      "[1] \"tp 0.962445003142678\"\n",
      "[1] \"tp 0.926497404965633\"\n",
      "[1] \"tAfterBHMoreClimbMIRV=0\"\n",
      "[1] \"tp 0.985894798707023\"\n",
      "[1] \"tp 0.943812061031727\"\n",
      "[1] \"tp 0.892118863049096\"\n",
      "[1] \"tAfterBHMoreClimbMIRV=0.4\"\n",
      "[1] \"tp 0.990968283973955\"\n",
      "[1] \"tp 0.964466150218929\"\n",
      "[1] \"tp 0.930474040632054\"\n",
      "[1] \"tAfterBHMoreClimbMIRV=1\"\n",
      "[1] \"tp 0.991990141712877\"\n",
      "[1] \"tp 0.967318114632945\"\n",
      "[1] \"tp 0.935857918684867\"\n"
     ]
    },
    {
     "data": {
      "text/html": [
       "<table class=\"dataframe\">\n",
       "<caption>A tibble: 4 × 7</caption>\n",
       "<thead>\n",
       "\t<tr><th scope=col>Method</th><th scope=col>FDR_0.01_FDR</th><th scope=col>FDR_0.05_FDR</th><th scope=col>FDR_0.10_FDR</th><th scope=col>FDR_0.01_TPR</th><th scope=col>FDR_0.05_TPR</th><th scope=col>FDR_0.10_TPR</th></tr>\n",
       "\t<tr><th scope=col>&lt;named list&gt;</th><th scope=col>&lt;named list&gt;</th><th scope=col>&lt;named list&gt;</th><th scope=col>&lt;named list&gt;</th><th scope=col>&lt;named list&gt;</th><th scope=col>&lt;named list&gt;</th><th scope=col>&lt;named list&gt;</th></tr>\n",
       "</thead>\n",
       "<tbody>\n",
       "\t<tr><td>Txps</td><td>0.009534929</td><td>0.037555</td><td>0.0735026</td><td>0.5784748</td><td>0.6961018</td><td>0.7506535</td></tr>\n",
       "\t<tr><td>tAfterBHMoreClimbMIRV=0</td><td>0.0141052</td><td>0.05618794</td><td>0.1078811</td><td>0.6718062</td><td>0.7786214</td><td>0.8239857</td></tr>\n",
       "\t<tr><td>tAfterBHMoreClimbMIRV=0.4</td><td>0.009031716</td><td>0.03553385</td><td>0.06952596</td><td>0.6215255</td><td>0.7392539</td><td>0.7893527</td></tr>\n",
       "\t<tr><td>tAfterBHMoreClimbMIRV=1</td><td>0.008009858</td><td>0.03268189</td><td>0.06414208</td><td>0.595561</td><td>0.71803</td><td>0.7720063</td></tr>\n",
       "</tbody>\n",
       "</table>\n"
      ],
      "text/latex": [
       "A tibble: 4 × 7\n",
       "\\begin{tabular}{lllllll}\n",
       " Method & FDR\\_0.01\\_FDR & FDR\\_0.05\\_FDR & FDR\\_0.10\\_FDR & FDR\\_0.01\\_TPR & FDR\\_0.05\\_TPR & FDR\\_0.10\\_TPR\\\\\n",
       " <named list> & <named list> & <named list> & <named list> & <named list> & <named list> & <named list>\\\\\n",
       "\\hline\n",
       "\t Txps & 0.009534929 & 0.037555 & 0.0735026 & 0.5784748 & 0.6961018 & 0.7506535\\\\\n",
       "\t tAfterBHMoreClimbMIRV=0 & 0.0141052 & 0.05618794 & 0.1078811 & 0.6718062 & 0.7786214 & 0.8239857\\\\\n",
       "\t tAfterBHMoreClimbMIRV=0.4 & 0.009031716 & 0.03553385 & 0.06952596 & 0.6215255 & 0.7392539 & 0.7893527\\\\\n",
       "\t tAfterBHMoreClimbMIRV=1 & 0.008009858 & 0.03268189 & 0.06414208 & 0.595561 & 0.71803 & 0.7720063\\\\\n",
       "\\end{tabular}\n"
      ],
      "text/markdown": [
       "\n",
       "A tibble: 4 × 7\n",
       "\n",
       "| Method &lt;named list&gt; | FDR_0.01_FDR &lt;named list&gt; | FDR_0.05_FDR &lt;named list&gt; | FDR_0.10_FDR &lt;named list&gt; | FDR_0.01_TPR &lt;named list&gt; | FDR_0.05_TPR &lt;named list&gt; | FDR_0.10_TPR &lt;named list&gt; |\n",
       "|---|---|---|---|---|---|---|\n",
       "| Txps | 0.009534929 | 0.037555 | 0.0735026 | 0.5784748 | 0.6961018 | 0.7506535 |\n",
       "| tAfterBHMoreClimbMIRV=0 | 0.0141052 | 0.05618794 | 0.1078811 | 0.6718062 | 0.7786214 | 0.8239857 |\n",
       "| tAfterBHMoreClimbMIRV=0.4 | 0.009031716 | 0.03553385 | 0.06952596 | 0.6215255 | 0.7392539 | 0.7893527 |\n",
       "| tAfterBHMoreClimbMIRV=1 | 0.008009858 | 0.03268189 | 0.06414208 | 0.595561 | 0.71803 | 0.7720063 |\n",
       "\n"
      ],
      "text/plain": [
       "  Method                    FDR_0.01_FDR FDR_0.05_FDR FDR_0.10_FDR FDR_0.01_TPR\n",
       "1 Txps                      0.009534929  0.037555     0.0735026    0.5784748   \n",
       "2 tAfterBHMoreClimbMIRV=0   0.0141052    0.05618794   0.1078811    0.6718062   \n",
       "3 tAfterBHMoreClimbMIRV=0.4 0.009031716  0.03553385   0.06952596   0.6215255   \n",
       "4 tAfterBHMoreClimbMIRV=1   0.008009858  0.03268189   0.06414208   0.595561    \n",
       "  FDR_0.05_TPR FDR_0.10_TPR\n",
       "1 0.6961018    0.7506535   \n",
       "2 0.7786214    0.8239857   \n",
       "3 0.7392539    0.7893527   \n",
       "4 0.71803      0.7720063   "
      ]
     },
     "metadata": {},
     "output_type": "display_data"
    }
   ],
   "source": [
    "df <- data.frame(Method=character(), Metric=character(), FDR_0.01 = numeric(), FDR_0.05 = numeric(), FDR_0.10 = numeric())\n",
    "for(n in names(detNodes))\n",
    "{    \n",
    "    print(n)\n",
    "    stats <-  sapply(seq_along(detNodes[[n]]), function(i) computeMetOut(detNodes[[n]][[i]], logFCNodes, tree = tree, negNodes = negNodes[[n]][[i]], lfcThresh = rootFC))\n",
    "    colnames(stats) <- colnames(df)[c(3:5)]\n",
    "    stats <- cbind(Method=rep(n,2), Metric = c(\"FDR\", \"TPR\"), stats)\n",
    "    df <- rbind(df, stats)\n",
    "}\n",
    "dfA <- df %>% pivot_wider(names_from = Metric, values_from = c(3:5))\n",
    "dfA <- dfA[,c(1,seq(2,7,2),seq(3,7,2))]\n",
    "dfA                     "
   ]
  },
  {
   "cell_type": "code",
   "execution_count": 81,
   "id": "81efbd17",
   "metadata": {},
   "outputs": [
    {
     "data": {
      "text/html": [
       "<style>\n",
       ".list-inline {list-style: none; margin:0; padding: 0}\n",
       ".list-inline>li {display: inline-block}\n",
       ".list-inline>li:not(:last-child)::after {content: \"\\00b7\"; padding: 0 .5ex}\n",
       "</style>\n",
       "<ol class=list-inline><li>1122</li><li>1200</li><li>1251</li></ol>\n"
      ],
      "text/latex": [
       "\\begin{enumerate*}\n",
       "\\item 1122\n",
       "\\item 1200\n",
       "\\item 1251\n",
       "\\end{enumerate*}\n"
      ],
      "text/markdown": [
       "1. 1122\n",
       "2. 1200\n",
       "3. 1251\n",
       "\n",
       "\n"
      ],
      "text/plain": [
       "[1] 1122 1200 1251"
      ]
     },
     "metadata": {},
     "output_type": "display_data"
    },
    {
     "data": {
      "text/html": [
       "<style>\n",
       ".list-inline {list-style: none; margin:0; padding: 0}\n",
       ".list-inline>li {display: inline-block}\n",
       ".list-inline>li:not(:last-child)::after {content: \"\\00b7\"; padding: 0 .5ex}\n",
       "</style>\n",
       "<ol class=list-inline><li>0.0115864527629234</li><li>0.0591666666666667</li><li>0.104716227018385</li></ol>\n"
      ],
      "text/latex": [
       "\\begin{enumerate*}\n",
       "\\item 0.0115864527629234\n",
       "\\item 0.0591666666666667\n",
       "\\item 0.104716227018385\n",
       "\\end{enumerate*}\n"
      ],
      "text/markdown": [
       "1. 0.0115864527629234\n",
       "2. 0.0591666666666667\n",
       "3. 0.104716227018385\n",
       "\n",
       "\n"
      ],
      "text/plain": [
       "[1] 0.01158645 0.05916667 0.10471623"
      ]
     },
     "metadata": {},
     "output_type": "display_data"
    }
   ],
   "source": [
    "detInnerNodes <- sapply(detNodes[[\"tAfterBHMoreClimbMIRV=0.4\"]], function(nodes) nodes[nodes > l])\n",
    "sapply(detInnerNodes, length)\n",
    "sapply(seq_along(detInnerNodes), function(i) mean(abs(logFCNodes[detInnerNodes[[i]]]) < rootFC))"
   ]
  },
  {
   "cell_type": "code",
   "execution_count": 78,
   "id": "d5be9dab",
   "metadata": {},
   "outputs": [],
   "source": [
    "tAfterBHMoreClimbMIRV[[1]] <- lapply(tAfterBHMoreClimbMIRV[[1]], function(nodes) nodes[!is.na(nodes)])\n",
    "tAfterBHMoreClimbMIRV[[2]] <- lapply(tAfterBHMoreClimbMIRV[[2]], function(nodes) nodes[!is.na(nodes)])\n",
    "tAfterBHMoreClimbMIRV[[3]] <- lapply(tAfterBHMoreClimbMIRV[[3]], function(nodes) nodes[!is.na(nodes)])"
   ]
  },
  {
   "cell_type": "code",
   "execution_count": 82,
   "id": "ce9c0761",
   "metadata": {},
   "outputs": [
    {
     "data": {
      "text/html": [
       "548"
      ],
      "text/latex": [
       "548"
      ],
      "text/markdown": [
       "548"
      ],
      "text/plain": [
       "[1] 548"
      ]
     },
     "metadata": {},
     "output_type": "display_data"
    },
    {
     "data": {
      "text/html": [
       "2204"
      ],
      "text/latex": [
       "2204"
      ],
      "text/markdown": [
       "2204"
      ],
      "text/plain": [
       "[1] 2204"
      ]
     },
     "metadata": {},
     "output_type": "display_data"
    },
    {
     "data": {
      "text/html": [
       "789"
      ],
      "text/latex": [
       "789"
      ],
      "text/markdown": [
       "789"
      ],
      "text/plain": [
       "[1] 789"
      ]
     },
     "metadata": {},
     "output_type": "display_data"
    },
    {
     "data": {
      "text/html": [
       "194"
      ],
      "text/latex": [
       "194"
      ],
      "text/markdown": [
       "194"
      ],
      "text/plain": [
       "[1] 194"
      ]
     },
     "metadata": {},
     "output_type": "display_data"
    },
    {
     "data": {
      "text/html": [
       "135"
      ],
      "text/latex": [
       "135"
      ],
      "text/markdown": [
       "135"
      ],
      "text/plain": [
       "[1] 135"
      ]
     },
     "metadata": {},
     "output_type": "display_data"
    }
   ],
   "source": [
    "missP <- setdiff(unlist(Descendants(tree,detNodes[[3]][[2]])), detNodes[[1]][[2]])\n",
    "missTP <- missP[abs(logFCNodes[missP]) > rootFC] ##True positive transcripts that have an internal node\n",
    "\n",
    "missInTreeDE <- setdiff(detNodes[[1]][[2]], unlist(Descendants(tree,detNodes[[3]][[2]])))\n",
    "missTPInTreeDE <- missInTreeDE[abs(logFCNodes[missInTreeDE]) > rootFC] ##True positive transcripts that have an internal node\n",
    "\n",
    "sum(unique(unlist(Ancestors(tree, missTP))) %in% detNodes[[3]][[2]]) ### Nodes of these additional ancestors \n",
    "length(missP)\n",
    "length(missTP)\n",
    "length(missInTreeDE)\n",
    "length(missTPInTreeDE)"
   ]
  },
  {
   "cell_type": "code",
   "execution_count": null,
   "id": "9e3df04e",
   "metadata": {},
   "outputs": [],
   "source": []
  }
 ],
 "metadata": {
  "kernelspec": {
   "display_name": "R",
   "language": "R",
   "name": "ir"
  },
  "language_info": {
   "codemirror_mode": "r",
   "file_extension": ".r",
   "mimetype": "text/x-r-source",
   "name": "R",
   "pygments_lexer": "r",
   "version": "4.1.1"
  }
 },
 "nbformat": 4,
 "nbformat_minor": 5
}
