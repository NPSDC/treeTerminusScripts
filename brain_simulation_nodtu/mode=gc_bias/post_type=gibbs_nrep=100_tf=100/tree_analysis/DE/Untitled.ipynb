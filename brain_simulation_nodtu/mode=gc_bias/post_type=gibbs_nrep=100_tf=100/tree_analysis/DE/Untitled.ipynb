{
 "cells": [
  {
   "cell_type": "code",
   "execution_count": 1,
   "id": "ba3acd0f",
   "metadata": {},
   "outputs": [],
   "source": [
    "setwd('/fs/cbcb-lab/rob/students/noor/Uncertainity/treeTerminusScripts')\n",
    "suppressPackageStartupMessages(source(\"tree_helper_function.R\"))\n",
    "suppressPackageStartupMessages(library(beaveR))\n",
    "clustFile <- \"../brain_sim_nodtu/mode=gc_bias/post_type=gibbs_nrep=100_tf=100/terminus/no_threshold0/cluster_nwk.txt\"\n",
    "quantDir <- file.path(\"../brain_sim_nodtu/mode=gc_bias/post_type=gibbs_nrep=100_tf=100/out_sal\") \n",
    "samples <- as.vector(outer(c(1:6), c(1,2), function(x,y) paste(x,y,sep='_')))\n",
    "quantFiles <- file.path(quantDir, samples, 'quant.sf')\n",
    "coldata <- data.frame(files=quantFiles, names=samples, condition=factor(rep(1:2, each=6)))\n",
    "# tse <- buildTSE(treeTermFile = clustFile, coldata = coldata)"
   ]
  },
  {
   "cell_type": "code",
   "execution_count": 17,
   "id": "51a60861",
   "metadata": {},
   "outputs": [
    {
     "data": {
      "text/plain": [
       "class: TreeSummarizedExperiment \n",
       "dim: 254395 12 \n",
       "metadata(8): tximetaInfo quantInfo ... txpsAnn infRepsScaled\n",
       "assays(105): counts abundance ... mean variance\n",
       "rownames(254395): ENST00000601814.5 ENST00000419160.3 ... Node254394\n",
       "  Node254395\n",
       "rowData names(1): meanInfRV\n",
       "colnames(12): 1_1 2_1 ... 5_2 6_2\n",
       "colData names(2): names condition\n",
       "reducedDimNames(0):\n",
       "mainExpName: NULL\n",
       "altExpNames(0):\n",
       "rowLinks: a LinkDataFrame (254395 rows)\n",
       "rowTree: 1 phylo tree(s) (138200 leaves)\n",
       "colLinks: NULL\n",
       "colTree: NULL"
      ]
     },
     "metadata": {},
     "output_type": "display_data"
    }
   ],
   "source": [
    "tse"
   ]
  },
  {
   "cell_type": "code",
   "execution_count": 3,
   "id": "1c6c14c6",
   "metadata": {},
   "outputs": [],
   "source": [
    "saveDir <- \"environment/brain_sim_nodtu/mode=gc_bias/post_type=gibbs_nrep=100_tf=100/comp_trees/DE\"\n",
    "load(file=file.path(saveDir, \"cutsCons.RData\"))\n",
    "load(file=file.path(saveDir, \"tseCons.RData\"))"
   ]
  },
  {
   "cell_type": "code",
   "execution_count": 2,
   "id": "63f0da4f",
   "metadata": {},
   "outputs": [],
   "source": [
    "saveDir <- \"environment/brain_sim_nodtu/mode=gc_bias/post_type=gibbs_nrep=100_tf=100/comp_trees/DE\"\n",
    "load(file=file.path(saveDir, \"tseCons.RData\"))"
   ]
  },
  {
   "cell_type": "code",
   "execution_count": 4,
   "id": "37bb0615",
   "metadata": {},
   "outputs": [],
   "source": [
    "temp <- tse\n",
    "tree <- rowTree(temp)"
   ]
  },
  {
   "cell_type": "code",
   "execution_count": 5,
   "id": "d9c90297",
   "metadata": {},
   "outputs": [
    {
     "data": {
      "text/html": [
       "<style>\n",
       ".dl-inline {width: auto; margin:0; padding: 0}\n",
       ".dl-inline>dt, .dl-inline>dd {float: none; width: auto; display: inline-block}\n",
       ".dl-inline>dt::after {content: \":\\0020\"; padding-right: .5ex}\n",
       ".dl-inline>dt:not(:first-of-type) {padding-left: .5ex}\n",
       "</style><dl class=dl-inline><dt>irv_height_0.05</dt><dd>76883</dd><dt>irv_height_0.1</dt><dd>87912</dd><dt>irv_height_1</dt><dd>119765</dd><dt>lfcTPMDesc</dt><dd>119765</dd><dt>LFC</dt><dd>84785</dd><dt>lfcTPM</dt><dd>86405</dd></dl>\n"
      ],
      "text/latex": [
       "\\begin{description*}\n",
       "\\item[irv\\textbackslash{}\\_height\\textbackslash{}\\_0.05] 76883\n",
       "\\item[irv\\textbackslash{}\\_height\\textbackslash{}\\_0.1] 87912\n",
       "\\item[irv\\textbackslash{}\\_height\\textbackslash{}\\_1] 119765\n",
       "\\item[lfcTPMDesc] 119765\n",
       "\\item[LFC] 84785\n",
       "\\item[lfcTPM] 86405\n",
       "\\end{description*}\n"
      ],
      "text/markdown": [
       "irv_height_0.05\n",
       ":   76883irv_height_0.1\n",
       ":   87912irv_height_1\n",
       ":   119765lfcTPMDesc\n",
       ":   119765LFC\n",
       ":   84785lfcTPM\n",
       ":   86405\n",
       "\n"
      ],
      "text/plain": [
       "irv_height_0.05  irv_height_0.1    irv_height_1      lfcTPMDesc             LFC \n",
       "          76883           87912          119765          119765           84785 \n",
       "         lfcTPM \n",
       "          86405 "
      ]
     },
     "metadata": {},
     "output_type": "display_data"
    }
   ],
   "source": [
    "sapply(cuts,length)"
   ]
  },
  {
   "cell_type": "code",
   "execution_count": 24,
   "id": "90417129",
   "metadata": {},
   "outputs": [],
   "source": [
    "lambda <- c(0.05, 0.1, 1, 5, 10)\n",
    "# for(i in lambda[4:5]) {\n",
    "#     descSize <- sapply(Descendants(tree, seq(nrow(tse))), length)\n",
    "#     metric <- (mcols(temp)[['meanInfRV']] + node.depth(tree, 2)*i) *descSize\n",
    "#     objS <- solveForOptimalCut(tse, metVec = metric, type = 'min')\n",
    "#     gammaN <- paste(\"gamma\",i,sep=\"=\")\n",
    "#     cuts[[gammaN]] <- objS[[\"cut\"]]\n",
    "# }\n",
    "names(cuts)[7:8] <- paste(\"irv\", \"height\", lambda[4:5], sep = \"_\") "
   ]
  },
  {
   "cell_type": "code",
   "execution_count": 16,
   "id": "2b5a94fe",
   "metadata": {},
   "outputs": [
    {
     "data": {
      "text/html": [
       "8"
      ],
      "text/latex": [
       "8"
      ],
      "text/markdown": [
       "8"
      ],
      "text/plain": [
       "[1] 8"
      ]
     },
     "metadata": {},
     "output_type": "display_data"
    }
   ],
   "source": [
    "length(cuts)"
   ]
  },
  {
   "cell_type": "code",
   "execution_count": 6,
   "id": "77d994f9",
   "metadata": {},
   "outputs": [],
   "source": [
    "load(\"environment/brain_sim_nodtu/mode=gc_bias/simulate.rda\")\n",
    "suppressPackageStartupMessages(library(TreeSummarizedExperiment))\n",
    "suppressPackageStartupMessages(library(ape))\n",
    "tree <- rowTree(tse)\n",
    "l <- length(tree$tip)\n",
    "missingTxps <- setdiff(rownames(tse)[1:l], rownames(sim.counts.mat))\n",
    "dts <- Reduce(union, c(names(iso.dge)[iso.dge], names(iso.dte)[iso.dte], names(iso.dte.only)[iso.dte.only], \n",
    "                       names(iso.dtu)[iso.dtu]))\n",
    "dts <- intersect(dts, rownames(sim.counts.mat))\n",
    "sim.counts.mat <- rbind(sim.counts.mat, matrix(0, nrow = length(missingTxps), ncol = ncol(sim.counts.mat),\n",
    "                                               dimnames = list(missingTxps, colnames(sim.counts.mat))))\n",
    "sim.counts.mat <- sim.counts.mat[rownames(tse)[1:l],]\n",
    "dts <- intersect(dts, rownames(sim.counts.mat))\n",
    "\n",
    "innNodes <- l+1:tree$Nnode\n",
    "aggCountsNodes <- computeAggNodesU(tree, c(1:length(tree$tip),innNodes), sim.counts.mat)\n",
    "logFCNodes <- ifelse(rowSums(aggCountsNodes)==0, 0, log2(aggCountsNodes[,2]+1)-log2(aggCountsNodes[,1]+1))\n",
    "names(logFCNodes)[(l+1):length(logFCNodes)] <- paste(\"Node\", names(logFCNodes)[(l+1):length(logFCNodes)], sep=\"\")\n",
    "rootFC <- abs(logFCNodes[l+1])\n"
   ]
  },
  {
   "cell_type": "code",
   "execution_count": 7,
   "id": "71db4b88",
   "metadata": {},
   "outputs": [],
   "source": [
    "detNodes <- list()\n",
    "negNodes <- list()"
   ]
  },
  {
   "cell_type": "code",
   "execution_count": 8,
   "id": "454af4d3",
   "metadata": {},
   "outputs": [],
   "source": [
    "lambda <- c(0.05, 0.1, 1, 5, 10)"
   ]
  },
  {
   "cell_type": "code",
   "execution_count": 11,
   "id": "2fe99f71",
   "metadata": {},
   "outputs": [
    {
     "data": {
      "text/html": [
       "<style>\n",
       ".list-inline {list-style: none; margin:0; padding: 0}\n",
       ".list-inline>li {display: inline-block}\n",
       ".list-inline>li:not(:last-child)::after {content: \"\\00b7\"; padding: 0 .5ex}\n",
       "</style>\n",
       "<ol class=list-inline><li>'irv_height_0.05'</li><li>'irv_height_0.1'</li><li>'irv_height_1'</li><li>'lfcTPMDesc'</li><li>'LFC'</li><li>'lfcTPM'</li></ol>\n"
      ],
      "text/latex": [
       "\\begin{enumerate*}\n",
       "\\item 'irv\\_height\\_0.05'\n",
       "\\item 'irv\\_height\\_0.1'\n",
       "\\item 'irv\\_height\\_1'\n",
       "\\item 'lfcTPMDesc'\n",
       "\\item 'LFC'\n",
       "\\item 'lfcTPM'\n",
       "\\end{enumerate*}\n"
      ],
      "text/markdown": [
       "1. 'irv_height_0.05'\n",
       "2. 'irv_height_0.1'\n",
       "3. 'irv_height_1'\n",
       "4. 'lfcTPMDesc'\n",
       "5. 'LFC'\n",
       "6. 'lfcTPM'\n",
       "\n",
       "\n"
      ],
      "text/plain": [
       "[1] \"irv_height_0.05\" \"irv_height_0.1\"  \"irv_height_1\"    \"lfcTPMDesc\"     \n",
       "[5] \"LFC\"             \"lfcTPM\"         "
      ]
     },
     "metadata": {},
     "output_type": "display_data"
    }
   ],
   "source": [
    "names(cuts)"
   ]
  },
  {
   "cell_type": "code",
   "execution_count": 25,
   "id": "892256f4",
   "metadata": {},
   "outputs": [],
   "source": [
    "for(i in lambda[4:5]) {\n",
    "     ihname <- paste(\"irv\", \"height\", i, sep = \"_\") \n",
    "     y <- temp[sort(cuts[[ihname]]),]\n",
    "     y <- fishpond::scaleInfReps(y)\n",
    "     y <- labelKeep(y)\n",
    "     set.seed(1)\n",
    "     y <- swish(y, x=\"condition\")\n",
    "#      dim(y)\n",
    "     detNodes[[ihname]] <- lapply(c(0.01, 0.05, 0.1), function(x) {\n",
    "        nodes <- rownames(y)[which(mcols(y)[,\"qvalue\"] <= x)]\n",
    "#         txps <- match(nodes[grep(\"ENST\", nodes)], rownames(tse))\n",
    "#         iNodes <- match(nodes[grep(\"Node\", nodes)], rownames(tse))\n",
    "         match(nodes, names(logFCNodes))\n",
    "        \n",
    "#         c(txps,iNodes)\n",
    "    })\n",
    "    negNodes[[ihname]] <- lapply(c(0.01, 0.05, 0.1), function(x) {\n",
    "        nodes <- rownames(y)[setdiff(seq(nrow(y)), which(mcols(y)[,\"qvalue\"] <= x))]\n",
    "        match(nodes, names(logFCNodes))\n",
    "    })\n",
    "}"
   ]
  },
  {
   "cell_type": "code",
   "execution_count": 23,
   "id": "4149a24e",
   "metadata": {},
   "outputs": [
    {
     "data": {
      "text/html": [
       "'irv_height_5'"
      ],
      "text/latex": [
       "'irv\\_height\\_5'"
      ],
      "text/markdown": [
       "'irv_height_5'"
      ],
      "text/plain": [
       "[1] \"irv_height_5\""
      ]
     },
     "metadata": {},
     "output_type": "display_data"
    },
    {
     "data": {
      "text/html": [
       "<style>\n",
       ".list-inline {list-style: none; margin:0; padding: 0}\n",
       ".list-inline>li {display: inline-block}\n",
       ".list-inline>li:not(:last-child)::after {content: \"\\00b7\"; padding: 0 .5ex}\n",
       "</style>\n",
       "<ol class=list-inline><li>'irv_height_0.05'</li><li>'irv_height_0.1'</li><li>'irv_height_1'</li><li>'lfcTPMDesc'</li><li>'LFC'</li><li>'lfcTPM'</li><li>'gamma=5'</li><li>'gamma=10'</li></ol>\n"
      ],
      "text/latex": [
       "\\begin{enumerate*}\n",
       "\\item 'irv\\_height\\_0.05'\n",
       "\\item 'irv\\_height\\_0.1'\n",
       "\\item 'irv\\_height\\_1'\n",
       "\\item 'lfcTPMDesc'\n",
       "\\item 'LFC'\n",
       "\\item 'lfcTPM'\n",
       "\\item 'gamma=5'\n",
       "\\item 'gamma=10'\n",
       "\\end{enumerate*}\n"
      ],
      "text/markdown": [
       "1. 'irv_height_0.05'\n",
       "2. 'irv_height_0.1'\n",
       "3. 'irv_height_1'\n",
       "4. 'lfcTPMDesc'\n",
       "5. 'LFC'\n",
       "6. 'lfcTPM'\n",
       "7. 'gamma=5'\n",
       "8. 'gamma=10'\n",
       "\n",
       "\n"
      ],
      "text/plain": [
       "[1] \"irv_height_0.05\" \"irv_height_0.1\"  \"irv_height_1\"    \"lfcTPMDesc\"     \n",
       "[5] \"LFC\"             \"lfcTPM\"          \"gamma=5\"         \"gamma=10\"       "
      ]
     },
     "metadata": {},
     "output_type": "display_data"
    }
   ],
   "source": [
    "ihname\n",
    "names(cuts)"
   ]
  },
  {
   "cell_type": "code",
   "execution_count": 12,
   "id": "c860b0d0",
   "metadata": {},
   "outputs": [
    {
     "data": {
      "text/plain": [
       "NULL"
      ]
     },
     "metadata": {},
     "output_type": "display_data"
    }
   ],
   "source": [
    "metadata(temp)[[\"type\"]]"
   ]
  },
  {
   "cell_type": "code",
   "execution_count": 26,
   "id": "b2f1614b",
   "metadata": {},
   "outputs": [
    {
     "name": "stdout",
     "output_type": "stream",
     "text": [
      "[1] \"irv_height_0.05\"\n",
      "[1] \"tp 0.989345032905045\"\n",
      "[1] \"tp 0.958007303077726\"\n",
      "[1] \"tp 0.915940663998116\"\n",
      "[1] \"irv_height_0.1\"\n",
      "[1] \"tp 0.989531840651352\"\n",
      "[1] \"tp 0.962882096069869\"\n",
      "[1] \"tp 0.925461741424802\"\n",
      "[1] \"irv_height_5\"\n",
      "[1] \"tp 0.997685950413223\"\n",
      "[1] \"tp 0.963011031797534\"\n",
      "[1] \"tp 0.920902341519132\"\n",
      "[1] \"irv_height_10\"\n",
      "[1] \"tp 0.990298797050834\"\n",
      "[1] \"tp 0.956297799282035\"\n",
      "[1] \"tp 0.919503348214286\"\n",
      "              Method Metric    FDR_0.01   FDR_0.05   FDR_0.10\n",
      "fdr  irv_height_0.05    FDR  0.01065497  0.0419927 0.08405934\n",
      "tpr  irv_height_0.05    TPR   0.6280088  0.7306545  0.7738214\n",
      "fdr1  irv_height_0.1    FDR  0.01046816  0.0371179 0.07453826\n",
      "tpr1  irv_height_0.1    TPR   0.6233742  0.7270562  0.7710203\n",
      "fdr2    irv_height_5    FDR  0.00231405 0.03698897 0.07909766\n",
      "tpr2    irv_height_5    TPR   0.3602722  0.7086069  0.7699654\n",
      "fdr3   irv_height_10    FDR 0.009701203  0.0437022 0.08049665\n",
      "tpr3   irv_height_10    TPR   0.5930057  0.7118624   0.765772\n"
     ]
    }
   ],
   "source": [
    "df <- data.frame(Method=character(), Metric=character(), FDR_0.01 = numeric(), FDR_0.05 = numeric(), FDR_0.10 = numeric())\n",
    "for(n in names(detNodes))\n",
    "{\n",
    "    print(n)\n",
    "    stats <-  sapply(seq_along(detNodes[[n]]), function(i) computeMetOut(detNodes[[n]][[i]], logFCNodes, tree = tree, negNodes = negNodes[[n]][[i]], lfcThresh = rootFC))\n",
    "    colnames(stats) <- colnames(df)[c(3:5)]\n",
    "    stats <- cbind(Method=rep(n,2), Metric = c(\"FDR\", \"TPR\"), stats)\n",
    "    df <- rbind(df, stats)\n",
    "}\n",
    "print(df)"
   ]
  },
  {
   "cell_type": "code",
   "execution_count": 29,
   "id": "9112020c",
   "metadata": {},
   "outputs": [
    {
     "data": {
      "text/plain": [
       "List of length 105\n",
       "names(105): counts abundance length infRep1 ... infRep100 mean variance"
      ]
     },
     "metadata": {},
     "output_type": "display_data"
    }
   ],
   "source": [
    "assays(tse)"
   ]
  },
  {
   "cell_type": "code",
   "execution_count": 27,
   "id": "6deed24e",
   "metadata": {},
   "outputs": [
    {
     "name": "stderr",
     "output_type": "stream",
     "text": [
      "importing quantifications\n",
      "\n",
      "reading in files with read_tsv\n",
      "\n",
      "1 \n",
      "2 \n",
      "3 \n",
      "4 \n",
      "5 \n",
      "6 \n",
      "7 \n",
      "8 \n",
      "9 \n",
      "10 \n",
      "11 \n",
      "12 \n",
      "\n",
      "\n",
      "found matching transcriptome:\n",
      "[ GENCODE - Homo sapiens - release 26 ]\n",
      "\n",
      "loading existing TxDb created: 2022-08-19 22:12:59\n",
      "\n",
      "Loading required package: GenomicFeatures\n",
      "\n",
      "Loading required package: AnnotationDbi\n",
      "\n",
      "loading existing transcript ranges created: 2022-08-19 22:13:01\n",
      "\n"
     ]
    },
    {
     "data": {
      "text/html": [
       "<style>\n",
       ".list-inline {list-style: none; margin:0; padding: 0}\n",
       ".list-inline>li {display: inline-block}\n",
       ".list-inline>li:not(:last-child)::after {content: \"\\00b7\"; padding: 0 .5ex}\n",
       "</style>\n",
       "<ol class=list-inline><li>129988</li><li>12</li></ol>\n"
      ],
      "text/latex": [
       "\\begin{enumerate*}\n",
       "\\item 129988\n",
       "\\item 12\n",
       "\\end{enumerate*}\n"
      ],
      "text/markdown": [
       "1. 129988\n",
       "2. 12\n",
       "\n",
       "\n"
      ],
      "text/plain": [
       "[1] 129988     12"
      ]
     },
     "metadata": {},
     "output_type": "display_data"
    }
   ],
   "source": [
    "suppressPackageStartupMessages(source(\"old_terminus_helper.R\"))\n",
    "dir <- \"/fs/cbcb-lab/rob/students/noor/Uncertainity/brain_sim_nodtu/mode=gc_bias/post_type=gibbs_nrep=100_tf=100/terminus/\"\n",
    "seBrainSim <- tximeta(coldata)\n",
    "yTermThrNS <- seBrainSim[rownames(tse)[1:l],]\n",
    "groupsClust <- parseClustFile(file.path(dir, \"old\", \"1_1\", \"clusters.txt\"), yTermThrNS)\n",
    "mInds <- seq(nrow(yTermThrNS) + length(groupsClust))\n",
    "yAggTermThrNS <- prepOSwish(yTermThrNS, mInds, groupsClust)\n",
    "\n",
    "rownames(yAggTermThrNS)[l+1:length(groupsClust)] <- paste(\"Node\", as.character(l+1:length(groupsClust)),sep=\"\")\n",
    "metadata(yAggTermThrNS)[[\"txpsAnn\"]] <- rowData(yTermThrNS)\n",
    "yAggTermThrNS <- yAggTermThrNS[-unlist(groupsClust),]\n",
    "dim(yAggTermThrNS)"
   ]
  },
  {
   "cell_type": "code",
   "execution_count": 31,
   "id": "ca4b563f",
   "metadata": {},
   "outputs": [
    {
     "data": {
      "text/html": [
       "<table class=\"dataframe\">\n",
       "<caption>A matrix: 6 × 12 of type dbl</caption>\n",
       "<thead>\n",
       "\t<tr><th></th><th scope=col>1_1</th><th scope=col>2_1</th><th scope=col>3_1</th><th scope=col>4_1</th><th scope=col>5_1</th><th scope=col>6_1</th><th scope=col>1_2</th><th scope=col>2_2</th><th scope=col>3_2</th><th scope=col>4_2</th><th scope=col>5_2</th><th scope=col>6_2</th></tr>\n",
       "</thead>\n",
       "<tbody>\n",
       "\t<tr><th scope=row>ENST00000601814.5</th><td> 452.528</td><td> 452.896</td><td> 447.910</td><td> 447.290</td><td> 449.833</td><td> 452.545</td><td> 453.011</td><td> 452.652</td><td> 448.118</td><td> 447.572</td><td> 450.137</td><td> 453.316</td></tr>\n",
       "\t<tr><th scope=row>ENST00000419160.3</th><td> 425.819</td><td> 424.925</td><td> 418.175</td><td> 421.895</td><td> 416.115</td><td> 417.960</td><td> 426.296</td><td> 424.830</td><td> 418.442</td><td> 421.851</td><td> 416.367</td><td> 418.479</td></tr>\n",
       "\t<tr><th scope=row>ENST00000416931.1</th><td> 171.000</td><td> 171.018</td><td> 171.523</td><td> 171.000</td><td> 171.653</td><td> 174.336</td><td> 171.557</td><td> 171.525</td><td> 171.646</td><td> 171.000</td><td> 171.891</td><td> 174.675</td></tr>\n",
       "\t<tr><th scope=row>ENST00000457540.1</th><td> 847.944</td><td> 849.914</td><td> 851.183</td><td> 843.994</td><td> 856.503</td><td> 867.309</td><td> 849.478</td><td> 850.894</td><td> 851.341</td><td> 843.980</td><td> 857.007</td><td> 868.483</td></tr>\n",
       "\t<tr><th scope=row>ENST00000414273.1</th><td>1362.011</td><td>1358.358</td><td>1350.463</td><td>1361.697</td><td>1337.770</td><td>1355.478</td><td>1364.644</td><td>1360.710</td><td>1350.887</td><td>1359.909</td><td>1337.996</td><td>1356.260</td></tr>\n",
       "\t<tr><th scope=row>ENST00000514057.1</th><td> 482.604</td><td> 482.231</td><td> 482.289</td><td> 482.576</td><td> 480.867</td><td> 488.015</td><td> 483.840</td><td> 483.360</td><td> 482.505</td><td> 482.193</td><td> 481.241</td><td> 488.598</td></tr>\n",
       "</tbody>\n",
       "</table>\n"
      ],
      "text/latex": [
       "A matrix: 6 × 12 of type dbl\n",
       "\\begin{tabular}{r|llllllllllll}\n",
       "  & 1\\_1 & 2\\_1 & 3\\_1 & 4\\_1 & 5\\_1 & 6\\_1 & 1\\_2 & 2\\_2 & 3\\_2 & 4\\_2 & 5\\_2 & 6\\_2\\\\\n",
       "\\hline\n",
       "\tENST00000601814.5 &  452.528 &  452.896 &  447.910 &  447.290 &  449.833 &  452.545 &  453.011 &  452.652 &  448.118 &  447.572 &  450.137 &  453.316\\\\\n",
       "\tENST00000419160.3 &  425.819 &  424.925 &  418.175 &  421.895 &  416.115 &  417.960 &  426.296 &  424.830 &  418.442 &  421.851 &  416.367 &  418.479\\\\\n",
       "\tENST00000416931.1 &  171.000 &  171.018 &  171.523 &  171.000 &  171.653 &  174.336 &  171.557 &  171.525 &  171.646 &  171.000 &  171.891 &  174.675\\\\\n",
       "\tENST00000457540.1 &  847.944 &  849.914 &  851.183 &  843.994 &  856.503 &  867.309 &  849.478 &  850.894 &  851.341 &  843.980 &  857.007 &  868.483\\\\\n",
       "\tENST00000414273.1 & 1362.011 & 1358.358 & 1350.463 & 1361.697 & 1337.770 & 1355.478 & 1364.644 & 1360.710 & 1350.887 & 1359.909 & 1337.996 & 1356.260\\\\\n",
       "\tENST00000514057.1 &  482.604 &  482.231 &  482.289 &  482.576 &  480.867 &  488.015 &  483.840 &  483.360 &  482.505 &  482.193 &  481.241 &  488.598\\\\\n",
       "\\end{tabular}\n"
      ],
      "text/markdown": [
       "\n",
       "A matrix: 6 × 12 of type dbl\n",
       "\n",
       "| <!--/--> | 1_1 | 2_1 | 3_1 | 4_1 | 5_1 | 6_1 | 1_2 | 2_2 | 3_2 | 4_2 | 5_2 | 6_2 |\n",
       "|---|---|---|---|---|---|---|---|---|---|---|---|---|\n",
       "| ENST00000601814.5 |  452.528 |  452.896 |  447.910 |  447.290 |  449.833 |  452.545 |  453.011 |  452.652 |  448.118 |  447.572 |  450.137 |  453.316 |\n",
       "| ENST00000419160.3 |  425.819 |  424.925 |  418.175 |  421.895 |  416.115 |  417.960 |  426.296 |  424.830 |  418.442 |  421.851 |  416.367 |  418.479 |\n",
       "| ENST00000416931.1 |  171.000 |  171.018 |  171.523 |  171.000 |  171.653 |  174.336 |  171.557 |  171.525 |  171.646 |  171.000 |  171.891 |  174.675 |\n",
       "| ENST00000457540.1 |  847.944 |  849.914 |  851.183 |  843.994 |  856.503 |  867.309 |  849.478 |  850.894 |  851.341 |  843.980 |  857.007 |  868.483 |\n",
       "| ENST00000414273.1 | 1362.011 | 1358.358 | 1350.463 | 1361.697 | 1337.770 | 1355.478 | 1364.644 | 1360.710 | 1350.887 | 1359.909 | 1337.996 | 1356.260 |\n",
       "| ENST00000514057.1 |  482.604 |  482.231 |  482.289 |  482.576 |  480.867 |  488.015 |  483.840 |  483.360 |  482.505 |  482.193 |  481.241 |  488.598 |\n",
       "\n"
      ],
      "text/plain": [
       "                  1_1      2_1      3_1      4_1      5_1      6_1     \n",
       "ENST00000601814.5  452.528  452.896  447.910  447.290  449.833  452.545\n",
       "ENST00000419160.3  425.819  424.925  418.175  421.895  416.115  417.960\n",
       "ENST00000416931.1  171.000  171.018  171.523  171.000  171.653  174.336\n",
       "ENST00000457540.1  847.944  849.914  851.183  843.994  856.503  867.309\n",
       "ENST00000414273.1 1362.011 1358.358 1350.463 1361.697 1337.770 1355.478\n",
       "ENST00000514057.1  482.604  482.231  482.289  482.576  480.867  488.015\n",
       "                  1_2      2_2      3_2      4_2      5_2      6_2     \n",
       "ENST00000601814.5  453.011  452.652  448.118  447.572  450.137  453.316\n",
       "ENST00000419160.3  426.296  424.830  418.442  421.851  416.367  418.479\n",
       "ENST00000416931.1  171.557  171.525  171.646  171.000  171.891  174.675\n",
       "ENST00000457540.1  849.478  850.894  851.341  843.980  857.007  868.483\n",
       "ENST00000414273.1 1364.644 1360.710 1350.887 1359.909 1337.996 1356.260\n",
       "ENST00000514057.1  483.840  483.360  482.505  482.193  481.241  488.598"
      ]
     },
     "metadata": {},
     "output_type": "display_data"
    }
   ],
   "source": [
    "head(assays(yAggTermThrNS)[[\"length\"]])"
   ]
  },
  {
   "cell_type": "code",
   "execution_count": 38,
   "id": "3bc1f7ca",
   "metadata": {},
   "outputs": [
    {
     "data": {
      "text/html": [
       "2"
      ],
      "text/latex": [
       "2"
      ],
      "text/markdown": [
       "2"
      ],
      "text/plain": [
       "[1] 2"
      ]
     },
     "metadata": {},
     "output_type": "display_data"
    },
    {
     "data": {
      "text/html": [
       "<style>\n",
       ".list-inline {list-style: none; margin:0; padding: 0}\n",
       ".list-inline>li {display: inline-block}\n",
       ".list-inline>li:not(:last-child)::after {content: \"\\00b7\"; padding: 0 .5ex}\n",
       "</style>\n",
       "<ol class=list-inline><li>4653</li><li>4652</li></ol>\n"
      ],
      "text/latex": [
       "\\begin{enumerate*}\n",
       "\\item 4653\n",
       "\\item 4652\n",
       "\\end{enumerate*}\n"
      ],
      "text/markdown": [
       "1. 4653\n",
       "2. 4652\n",
       "\n",
       "\n"
      ],
      "text/plain": [
       "[1] 4653 4652"
      ]
     },
     "metadata": {},
     "output_type": "display_data"
    }
   ],
   "source": [
    "length(groupsClust[[1]])\n",
    "groupsClust[[2]]"
   ]
  },
  {
   "cell_type": "code",
   "execution_count": 149,
   "id": "3c563c72",
   "metadata": {},
   "outputs": [
    {
     "data": {
      "text/html": [
       "<style>\n",
       ".list-inline {list-style: none; margin:0; padding: 0}\n",
       ".list-inline>li {display: inline-block}\n",
       ".list-inline>li:not(:last-child)::after {content: \"\\00b7\"; padding: 0 .5ex}\n",
       "</style>\n",
       "<ol class=list-inline><li>97036</li><li>97035</li></ol>\n"
      ],
      "text/latex": [
       "\\begin{enumerate*}\n",
       "\\item 97036\n",
       "\\item 97035\n",
       "\\end{enumerate*}\n"
      ],
      "text/markdown": [
       "1. 97036\n",
       "2. 97035\n",
       "\n",
       "\n"
      ],
      "text/plain": [
       "[1] 97036 97035"
      ]
     },
     "metadata": {},
     "output_type": "display_data"
    }
   ],
   "source": [
    "groupsClust[[3]]"
   ]
  },
  {
   "cell_type": "code",
   "execution_count": 150,
   "id": "7800fd4b",
   "metadata": {},
   "outputs": [
    {
     "data": {
      "text/html": [
       "<style>\n",
       ".list-inline {list-style: none; margin:0; padding: 0}\n",
       ".list-inline>li {display: inline-block}\n",
       ".list-inline>li:not(:last-child)::after {content: \"\\00b7\"; padding: 0 .5ex}\n",
       "</style>\n",
       "<ol class=list-inline><li>218826</li><li>218825</li><li>218824</li><li>218823</li><li>218822</li><li>218821</li><li>218820</li><li>218819</li><li>218818</li><li>218817</li><li>218816</li><li>218815</li><li>218814</li><li>218813</li><li>218812</li><li>218811</li><li>218810</li><li>218809</li><li>138201</li></ol>\n"
      ],
      "text/latex": [
       "\\begin{enumerate*}\n",
       "\\item 218826\n",
       "\\item 218825\n",
       "\\item 218824\n",
       "\\item 218823\n",
       "\\item 218822\n",
       "\\item 218821\n",
       "\\item 218820\n",
       "\\item 218819\n",
       "\\item 218818\n",
       "\\item 218817\n",
       "\\item 218816\n",
       "\\item 218815\n",
       "\\item 218814\n",
       "\\item 218813\n",
       "\\item 218812\n",
       "\\item 218811\n",
       "\\item 218810\n",
       "\\item 218809\n",
       "\\item 138201\n",
       "\\end{enumerate*}\n"
      ],
      "text/markdown": [
       "1. 218826\n",
       "2. 218825\n",
       "3. 218824\n",
       "4. 218823\n",
       "5. 218822\n",
       "6. 218821\n",
       "7. 218820\n",
       "8. 218819\n",
       "9. 218818\n",
       "10. 218817\n",
       "11. 218816\n",
       "12. 218815\n",
       "13. 218814\n",
       "14. 218813\n",
       "15. 218812\n",
       "16. 218811\n",
       "17. 218810\n",
       "18. 218809\n",
       "19. 138201\n",
       "\n",
       "\n"
      ],
      "text/plain": [
       " [1] 218826 218825 218824 218823 218822 218821 218820 218819 218818 218817\n",
       "[11] 218816 218815 218814 218813 218812 218811 218810 218809 138201"
      ]
     },
     "metadata": {},
     "output_type": "display_data"
    }
   ],
   "source": [
    "Ancestors(tree, groupsClust[[3]][1])"
   ]
  },
  {
   "cell_type": "code",
   "execution_count": 243,
   "id": "edeac456",
   "metadata": {},
   "outputs": [
    {
     "data": {
      "text/html": [
       "<ol>\n",
       "\t<li><style>\n",
       ".list-inline {list-style: none; margin:0; padding: 0}\n",
       ".list-inline>li {display: inline-block}\n",
       ".list-inline>li:not(:last-child)::after {content: \"\\00b7\"; padding: 0 .5ex}\n",
       "</style>\n",
       "<ol class=list-inline><li>97035</li><li>97036</li></ol>\n",
       "</li>\n",
       "</ol>\n"
      ],
      "text/latex": [
       "\\begin{enumerate}\n",
       "\\item \\begin{enumerate*}\n",
       "\\item 97035\n",
       "\\item 97036\n",
       "\\end{enumerate*}\n",
       "\n",
       "\\end{enumerate}\n"
      ],
      "text/markdown": [
       "1. 1. 97035\n",
       "2. 97036\n",
       "\n",
       "\n",
       "\n",
       "\n",
       "\n"
      ],
      "text/plain": [
       "[[1]]\n",
       "[1] 97035 97036\n"
      ]
     },
     "metadata": {},
     "output_type": "display_data"
    }
   ],
   "source": [
    "i <- 218826\n",
    "Descendants(tree, i)"
   ]
  },
  {
   "cell_type": "code",
   "execution_count": 244,
   "id": "08f99fa6",
   "metadata": {},
   "outputs": [
    {
     "data": {
      "text/html": [
       "<style>\n",
       ".dl-inline {width: auto; margin:0; padding: 0}\n",
       ".dl-inline>dt, .dl-inline>dd {float: none; width: auto; display: inline-block}\n",
       ".dl-inline>dt::after {content: \":\\0020\"; padding-right: .5ex}\n",
       ".dl-inline>dt:not(:first-of-type) {padding-left: .5ex}\n",
       "</style><dl class=dl-inline><dt>1_1</dt><dd>1382.811</dd><dt>2_1</dt><dd>1185.555</dd><dt>3_1</dt><dd>1295.675</dd><dt>4_1</dt><dd>1364.115</dd><dt>5_1</dt><dd>1272.772</dd><dt>6_1</dt><dd>1638.383</dd><dt>1_2</dt><dd>393.31</dd><dt>2_2</dt><dd>317.713</dd><dt>3_2</dt><dd>308.338</dd><dt>4_2</dt><dd>389.385</dd><dt>5_2</dt><dd>412.74</dd><dt>6_2</dt><dd>711.706</dd></dl>\n"
      ],
      "text/latex": [
       "\\begin{description*}\n",
       "\\item[1\\textbackslash{}\\_1] 1382.811\n",
       "\\item[2\\textbackslash{}\\_1] 1185.555\n",
       "\\item[3\\textbackslash{}\\_1] 1295.675\n",
       "\\item[4\\textbackslash{}\\_1] 1364.115\n",
       "\\item[5\\textbackslash{}\\_1] 1272.772\n",
       "\\item[6\\textbackslash{}\\_1] 1638.383\n",
       "\\item[1\\textbackslash{}\\_2] 393.31\n",
       "\\item[2\\textbackslash{}\\_2] 317.713\n",
       "\\item[3\\textbackslash{}\\_2] 308.338\n",
       "\\item[4\\textbackslash{}\\_2] 389.385\n",
       "\\item[5\\textbackslash{}\\_2] 412.74\n",
       "\\item[6\\textbackslash{}\\_2] 711.706\n",
       "\\end{description*}\n"
      ],
      "text/markdown": [
       "1_1\n",
       ":   1382.8112_1\n",
       ":   1185.5553_1\n",
       ":   1295.6754_1\n",
       ":   1364.1155_1\n",
       ":   1272.7726_1\n",
       ":   1638.3831_2\n",
       ":   393.312_2\n",
       ":   317.7133_2\n",
       ":   308.3384_2\n",
       ":   389.3855_2\n",
       ":   412.746_2\n",
       ":   711.706\n",
       "\n"
      ],
      "text/plain": [
       "     1_1      2_1      3_1      4_1      5_1      6_1      1_2      2_2 \n",
       "1382.811 1185.555 1295.675 1364.115 1272.772 1638.383  393.310  317.713 \n",
       "     3_2      4_2      5_2      6_2 \n",
       " 308.338  389.385  412.740  711.706 "
      ]
     },
     "metadata": {},
     "output_type": "display_data"
    },
    {
     "data": {
      "text/html": [
       "<style>\n",
       ".dl-inline {width: auto; margin:0; padding: 0}\n",
       ".dl-inline>dt, .dl-inline>dd {float: none; width: auto; display: inline-block}\n",
       ".dl-inline>dt::after {content: \":\\0020\"; padding-right: .5ex}\n",
       ".dl-inline>dt:not(:first-of-type) {padding-left: .5ex}\n",
       "</style><dl class=dl-inline><dt>1_1</dt><dd>1875.895</dd><dt>2_1</dt><dd>1806.60304480524</dd><dt>3_1</dt><dd>2026.748</dd><dt>4_1</dt><dd>1864.60978130213</dd><dt>5_1</dt><dd>1828.36648296478</dd><dt>6_1</dt><dd>1902.0305277132</dd><dt>1_2</dt><dd>1876.803</dd><dt>2_2</dt><dd>1897.461</dd><dt>3_2</dt><dd>2030.948</dd><dt>4_2</dt><dd>1956.667</dd><dt>5_2</dt><dd>1860.87805502412</dd><dt>6_2</dt><dd>1907.93720679536</dd></dl>\n"
      ],
      "text/latex": [
       "\\begin{description*}\n",
       "\\item[1\\textbackslash{}\\_1] 1875.895\n",
       "\\item[2\\textbackslash{}\\_1] 1806.60304480524\n",
       "\\item[3\\textbackslash{}\\_1] 2026.748\n",
       "\\item[4\\textbackslash{}\\_1] 1864.60978130213\n",
       "\\item[5\\textbackslash{}\\_1] 1828.36648296478\n",
       "\\item[6\\textbackslash{}\\_1] 1902.0305277132\n",
       "\\item[1\\textbackslash{}\\_2] 1876.803\n",
       "\\item[2\\textbackslash{}\\_2] 1897.461\n",
       "\\item[3\\textbackslash{}\\_2] 2030.948\n",
       "\\item[4\\textbackslash{}\\_2] 1956.667\n",
       "\\item[5\\textbackslash{}\\_2] 1860.87805502412\n",
       "\\item[6\\textbackslash{}\\_2] 1907.93720679536\n",
       "\\end{description*}\n"
      ],
      "text/markdown": [
       "1_1\n",
       ":   1875.8952_1\n",
       ":   1806.603044805243_1\n",
       ":   2026.7484_1\n",
       ":   1864.609781302135_1\n",
       ":   1828.366482964786_1\n",
       ":   1902.03052771321_2\n",
       ":   1876.8032_2\n",
       ":   1897.4613_2\n",
       ":   2030.9484_2\n",
       ":   1956.6675_2\n",
       ":   1860.878055024126_2\n",
       ":   1907.93720679536\n",
       "\n"
      ],
      "text/plain": [
       "     1_1      2_1      3_1      4_1      5_1      6_1      1_2      2_2 \n",
       "1875.895 1806.603 2026.748 1864.610 1828.366 1902.031 1876.803 1897.461 \n",
       "     3_2      4_2      5_2      6_2 \n",
       "2030.948 1956.667 1860.878 1907.937 "
      ]
     },
     "metadata": {},
     "output_type": "display_data"
    }
   ],
   "source": [
    "assays(tse)[[\"counts\"]][i,]\n",
    "assays(tse)[[\"length\"]][i,]"
   ]
  },
  {
   "cell_type": "code",
   "execution_count": 245,
   "id": "4b0c2aa4",
   "metadata": {},
   "outputs": [
    {
     "data": {
      "text/html": [
       "<style>\n",
       ".dl-inline {width: auto; margin:0; padding: 0}\n",
       ".dl-inline>dt, .dl-inline>dd {float: none; width: auto; display: inline-block}\n",
       ".dl-inline>dt::after {content: \":\\0020\"; padding-right: .5ex}\n",
       ".dl-inline>dt:not(:first-of-type) {padding-left: .5ex}\n",
       "</style><dl class=dl-inline><dt>1_1</dt><dd>1382.811</dd><dt>2_1</dt><dd>1185.555</dd><dt>3_1</dt><dd>1295.675</dd><dt>4_1</dt><dd>1364.115</dd><dt>5_1</dt><dd>1272.772</dd><dt>6_1</dt><dd>1638.383</dd><dt>1_2</dt><dd>393.31</dd><dt>2_2</dt><dd>317.713</dd><dt>3_2</dt><dd>308.338</dd><dt>4_2</dt><dd>389.385</dd><dt>5_2</dt><dd>412.74</dd><dt>6_2</dt><dd>711.706</dd></dl>\n"
      ],
      "text/latex": [
       "\\begin{description*}\n",
       "\\item[1\\textbackslash{}\\_1] 1382.811\n",
       "\\item[2\\textbackslash{}\\_1] 1185.555\n",
       "\\item[3\\textbackslash{}\\_1] 1295.675\n",
       "\\item[4\\textbackslash{}\\_1] 1364.115\n",
       "\\item[5\\textbackslash{}\\_1] 1272.772\n",
       "\\item[6\\textbackslash{}\\_1] 1638.383\n",
       "\\item[1\\textbackslash{}\\_2] 393.31\n",
       "\\item[2\\textbackslash{}\\_2] 317.713\n",
       "\\item[3\\textbackslash{}\\_2] 308.338\n",
       "\\item[4\\textbackslash{}\\_2] 389.385\n",
       "\\item[5\\textbackslash{}\\_2] 412.74\n",
       "\\item[6\\textbackslash{}\\_2] 711.706\n",
       "\\end{description*}\n"
      ],
      "text/markdown": [
       "1_1\n",
       ":   1382.8112_1\n",
       ":   1185.5553_1\n",
       ":   1295.6754_1\n",
       ":   1364.1155_1\n",
       ":   1272.7726_1\n",
       ":   1638.3831_2\n",
       ":   393.312_2\n",
       ":   317.7133_2\n",
       ":   308.3384_2\n",
       ":   389.3855_2\n",
       ":   412.746_2\n",
       ":   711.706\n",
       "\n"
      ],
      "text/plain": [
       "     1_1      2_1      3_1      4_1      5_1      6_1      1_2      2_2 \n",
       "1382.811 1185.555 1295.675 1364.115 1272.772 1638.383  393.310  317.713 \n",
       "     3_2      4_2      5_2      6_2 \n",
       " 308.338  389.385  412.740  711.706 "
      ]
     },
     "metadata": {},
     "output_type": "display_data"
    },
    {
     "data": {
      "text/html": [
       "<style>\n",
       ".dl-inline {width: auto; margin:0; padding: 0}\n",
       ".dl-inline>dt, .dl-inline>dd {float: none; width: auto; display: inline-block}\n",
       ".dl-inline>dt::after {content: \":\\0020\"; padding-right: .5ex}\n",
       ".dl-inline>dt:not(:first-of-type) {padding-left: .5ex}\n",
       "</style><dl class=dl-inline><dt>1_1</dt><dd>1875.895</dd><dt>2_1</dt><dd>1806.60304480524</dd><dt>3_1</dt><dd>2026.748</dd><dt>4_1</dt><dd>1864.60978130213</dd><dt>5_1</dt><dd>1828.36648296478</dd><dt>6_1</dt><dd>1902.0305277132</dd><dt>1_2</dt><dd>1876.803</dd><dt>2_2</dt><dd>1897.461</dd><dt>3_2</dt><dd>2030.948</dd><dt>4_2</dt><dd>1956.667</dd><dt>5_2</dt><dd>1860.87805502412</dd><dt>6_2</dt><dd>1907.93720679536</dd></dl>\n"
      ],
      "text/latex": [
       "\\begin{description*}\n",
       "\\item[1\\textbackslash{}\\_1] 1875.895\n",
       "\\item[2\\textbackslash{}\\_1] 1806.60304480524\n",
       "\\item[3\\textbackslash{}\\_1] 2026.748\n",
       "\\item[4\\textbackslash{}\\_1] 1864.60978130213\n",
       "\\item[5\\textbackslash{}\\_1] 1828.36648296478\n",
       "\\item[6\\textbackslash{}\\_1] 1902.0305277132\n",
       "\\item[1\\textbackslash{}\\_2] 1876.803\n",
       "\\item[2\\textbackslash{}\\_2] 1897.461\n",
       "\\item[3\\textbackslash{}\\_2] 2030.948\n",
       "\\item[4\\textbackslash{}\\_2] 1956.667\n",
       "\\item[5\\textbackslash{}\\_2] 1860.87805502412\n",
       "\\item[6\\textbackslash{}\\_2] 1907.93720679536\n",
       "\\end{description*}\n"
      ],
      "text/markdown": [
       "1_1\n",
       ":   1875.8952_1\n",
       ":   1806.603044805243_1\n",
       ":   2026.7484_1\n",
       ":   1864.609781302135_1\n",
       ":   1828.366482964786_1\n",
       ":   1902.03052771321_2\n",
       ":   1876.8032_2\n",
       ":   1897.4613_2\n",
       ":   2030.9484_2\n",
       ":   1956.6675_2\n",
       ":   1860.878055024126_2\n",
       ":   1907.93720679536\n",
       "\n"
      ],
      "text/plain": [
       "     1_1      2_1      3_1      4_1      5_1      6_1      1_2      2_2 \n",
       "1875.895 1806.603 2026.748 1864.610 1828.366 1902.031 1876.803 1897.461 \n",
       "     3_2      4_2      5_2      6_2 \n",
       "2030.948 1956.667 1860.878 1907.937 "
      ]
     },
     "metadata": {},
     "output_type": "display_data"
    }
   ],
   "source": [
    "assays(yAggTermThrNS)[[\"counts\"]][\"Node138203\",]\n",
    "assays(yAggTermThrNS)[[\"length\"]][\"Node138203\",]"
   ]
  },
  {
   "cell_type": "code",
   "execution_count": 96,
   "id": "31b24d04",
   "metadata": {},
   "outputs": [
    {
     "data": {
      "text/html": [
       "116375"
      ],
      "text/latex": [
       "116375"
      ],
      "text/markdown": [
       "116375"
      ],
      "text/plain": [
       "[1] 116375"
      ]
     },
     "metadata": {},
     "output_type": "display_data"
    }
   ],
   "source": [
    "dim(yAggTermThrNS)[1] - length(unlist(groupsClust))-1"
   ]
  },
  {
   "cell_type": "code",
   "execution_count": 126,
   "id": "59b36626",
   "metadata": {},
   "outputs": [
    {
     "data": {
      "text/html": [
       "TRUE"
      ],
      "text/latex": [
       "TRUE"
      ],
      "text/markdown": [
       "TRUE"
      ],
      "text/plain": [
       "[1] TRUE"
      ]
     },
     "metadata": {},
     "output_type": "display_data"
    }
   ],
   "source": [
    "\"Node138212\" %in% rownames(assays(yAggTermThrNS)[[\"length\"]])"
   ]
  },
  {
   "cell_type": "code",
   "execution_count": 118,
   "id": "5948447e",
   "metadata": {},
   "outputs": [
    {
     "data": {
      "text/html": [
       "138200"
      ],
      "text/latex": [
       "138200"
      ],
      "text/markdown": [
       "138200"
      ],
      "text/plain": [
       "[1] 138200"
      ]
     },
     "metadata": {},
     "output_type": "display_data"
    }
   ],
   "source": [
    "suppressPackageStartupMessages(source(\"old_terminus_helper.R\"))\n",
    "dir <- \"/fs/cbcb-lab/rob/students/noor/Uncertainity/brain_sim_nodtu/mode=gc_bias/post_type=gibbs_nrep=100_tf=100/terminus/\"\n",
    "seBrainSim <- tximeta(coldata)\n",
    "yTermThrNS <- seBrainSim[rownames(tse)[1:l],]\n",
    "groupsClust <- parseClustFile(file.path(dir, \"old\", \"1_1\", \"clusters.txt\"), yTermThrNS)\n",
    "mInds <- seq(nrow(yTermThrNS) + length(groupsClust))\n",
    "yAggTermThrNS <- prepOSwish(yTermThrNS, mInds, groupsClust)"
   ]
  },
  {
   "cell_type": "code",
   "execution_count": 242,
   "id": "e3b99f08",
   "metadata": {},
   "outputs": [
    {
     "data": {
      "text/html": [
       "<style>\n",
       ".list-inline {list-style: none; margin:0; padding: 0}\n",
       ".list-inline>li {display: inline-block}\n",
       ".list-inline>li:not(:last-child)::after {content: \"\\00b7\"; padding: 0 .5ex}\n",
       "</style>\n",
       "<ol class=list-inline><li>129988</li><li>12</li></ol>\n"
      ],
      "text/latex": [
       "\\begin{enumerate*}\n",
       "\\item 129988\n",
       "\\item 12\n",
       "\\end{enumerate*}\n"
      ],
      "text/markdown": [
       "1. 129988\n",
       "2. 12\n",
       "\n",
       "\n"
      ],
      "text/plain": [
       "[1] 129988     12"
      ]
     },
     "metadata": {},
     "output_type": "display_data"
    }
   ],
   "source": [
    "rownames(yAggTermThrNS)[l+1:length(groupsClust)] <- paste(\"Node\", as.character(l+1:length(groupsClust)),sep=\"\")\n",
    "metadata(yAggTermThrNS)[[\"txpsAnn\"]] <- rowData(yTermThrNS)\n",
    "yAggTermThrNS <- yAggTermThrNS[-unlist(groupsClust),]\n",
    "dim(yAggTermThrNS)"
   ]
  },
  {
   "cell_type": "code",
   "execution_count": 249,
   "id": "2b88727d",
   "metadata": {},
   "outputs": [
    {
     "ename": "ERROR",
     "evalue": "Error in fishpond::scaleInfReps(yAggTermThrNS): inferential replicates already scaled\n",
     "output_type": "error",
     "traceback": [
      "Error in fishpond::scaleInfReps(yAggTermThrNS): inferential replicates already scaled\nTraceback:\n",
      "1. fishpond::scaleInfReps(yAggTermThrNS)",
      "2. stop(\"inferential replicates already scaled\")"
     ]
    }
   ],
   "source": [
    "# aggCountsNodes <- computeOAggNodesU(groupsClust, mInds, sim.counts.mat)\n",
    "# logFCNodesTerm <- ifelse(rowSums(aggCountsNodes)==0, 0, log2(aggCountsNodes[,2]+1)-log2(aggCountsNodes[,1]+1))\n",
    "# names(logFCNodesTerm)[(l+1):length(logFCNodesTerm)] <- paste(\"Node\", names(logFCNodesTerm)[(l+1):length(logFCNodesTerm)], sep=\"\")\n",
    "\n",
    "yAggTermThrNS <- fishpond::scaleInfReps(yAggTermThrNS)\n",
    "yAggTermThrNS <- labelKeep(yAggTermThrNS)\n",
    "set.seed(1)\n",
    "yAggTermThrNS <- swish(yAggTermThrNS, x=\"condition\")"
   ]
  },
  {
   "cell_type": "code",
   "execution_count": 250,
   "id": "0c6b4616",
   "metadata": {},
   "outputs": [],
   "source": [
    "set.seed(1)\n",
    "yAggTermThrNS <- swish(yAggTermThrNS, x=\"condition\")"
   ]
  },
  {
   "cell_type": "code",
   "execution_count": 214,
   "id": "6188a6a5",
   "metadata": {},
   "outputs": [],
   "source": [
    "rownames(yAggTermThrNS)[l+1:length(groupsClust)] <- paste(\"Node\", as.character(l+1:length(groupsClust)),sep=\"\")\n",
    "metadata(yAggTermThrNS)[[\"txpsAnn\"]] <- rowData(yTermThrNS)\n",
    "yAggTermThrNS <- yAggTermThrNS[-unlist(groupsClust),]"
   ]
  },
  {
   "cell_type": "markdown",
   "id": "c0ab2d78",
   "metadata": {},
   "source": []
  },
  {
   "cell_type": "code",
   "execution_count": 246,
   "id": "ef235c48",
   "metadata": {},
   "outputs": [
    {
     "data": {
      "text/html": [
       "1"
      ],
      "text/latex": [
       "1"
      ],
      "text/markdown": [
       "1"
      ],
      "text/plain": [
       "[1] 1"
      ]
     },
     "metadata": {},
     "output_type": "display_data"
    }
   ],
   "source": [
    "1"
   ]
  },
  {
   "cell_type": "code",
   "execution_count": 248,
   "id": "5e9a27bd",
   "metadata": {},
   "outputs": [
    {
     "data": {
      "text/html": [
       "<table class=\"dataframe\">\n",
       "<caption>A matrix: 6 × 12 of type dbl</caption>\n",
       "<thead>\n",
       "\t<tr><th></th><th scope=col>1_1</th><th scope=col>2_1</th><th scope=col>3_1</th><th scope=col>4_1</th><th scope=col>5_1</th><th scope=col>6_1</th><th scope=col>1_2</th><th scope=col>2_2</th><th scope=col>3_2</th><th scope=col>4_2</th><th scope=col>5_2</th><th scope=col>6_2</th></tr>\n",
       "</thead>\n",
       "<tbody>\n",
       "\t<tr><th scope=row>Node143595</th><td> 1897.348</td><td> 1842.470</td><td> 2090.076</td><td> 1703.232</td><td> 2309.254</td><td> 2423.907</td><td>2431.316</td><td>2260.820</td><td>1459.841</td><td>1986.137</td><td>2064.201</td><td>2340.857</td></tr>\n",
       "\t<tr><th scope=row>Node143596</th><td> 2862.412</td><td> 2778.919</td><td> 2374.364</td><td> 2963.617</td><td> 3140.346</td><td> 2931.553</td><td>2511.615</td><td>2864.257</td><td>3054.326</td><td>2924.688</td><td>3288.171</td><td>2478.713</td></tr>\n",
       "\t<tr><th scope=row>Node143597</th><td> 3485.009</td><td> 3146.092</td><td> 3984.090</td><td> 4313.931</td><td> 3304.299</td><td> 3960.503</td><td>4815.902</td><td>4533.252</td><td>4067.127</td><td>4657.007</td><td>4100.220</td><td>3614.558</td></tr>\n",
       "\t<tr><th scope=row>Node143598</th><td>16319.709</td><td>16329.522</td><td>16742.793</td><td>15440.213</td><td>20586.165</td><td>18217.234</td><td>3601.249</td><td>4559.657</td><td>3799.783</td><td>4417.311</td><td>3954.467</td><td>4285.702</td></tr>\n",
       "\t<tr><th scope=row>Node143599</th><td> 4754.903</td><td> 4574.026</td><td> 4262.188</td><td> 4962.590</td><td> 4793.641</td><td> 4214.605</td><td>4678.849</td><td>3863.630</td><td>3692.468</td><td>4516.303</td><td>4195.454</td><td>5154.811</td></tr>\n",
       "\t<tr><th scope=row>Node143600</th><td> 1252.032</td><td> 1575.908</td><td> 1642.468</td><td> 1633.856</td><td> 1369.179</td><td> 1339.731</td><td>1632.108</td><td>1578.187</td><td>1850.237</td><td>1869.456</td><td>1343.913</td><td>1255.110</td></tr>\n",
       "</tbody>\n",
       "</table>\n"
      ],
      "text/latex": [
       "A matrix: 6 × 12 of type dbl\n",
       "\\begin{tabular}{r|llllllllllll}\n",
       "  & 1\\_1 & 2\\_1 & 3\\_1 & 4\\_1 & 5\\_1 & 6\\_1 & 1\\_2 & 2\\_2 & 3\\_2 & 4\\_2 & 5\\_2 & 6\\_2\\\\\n",
       "\\hline\n",
       "\tNode143595 &  1897.348 &  1842.470 &  2090.076 &  1703.232 &  2309.254 &  2423.907 & 2431.316 & 2260.820 & 1459.841 & 1986.137 & 2064.201 & 2340.857\\\\\n",
       "\tNode143596 &  2862.412 &  2778.919 &  2374.364 &  2963.617 &  3140.346 &  2931.553 & 2511.615 & 2864.257 & 3054.326 & 2924.688 & 3288.171 & 2478.713\\\\\n",
       "\tNode143597 &  3485.009 &  3146.092 &  3984.090 &  4313.931 &  3304.299 &  3960.503 & 4815.902 & 4533.252 & 4067.127 & 4657.007 & 4100.220 & 3614.558\\\\\n",
       "\tNode143598 & 16319.709 & 16329.522 & 16742.793 & 15440.213 & 20586.165 & 18217.234 & 3601.249 & 4559.657 & 3799.783 & 4417.311 & 3954.467 & 4285.702\\\\\n",
       "\tNode143599 &  4754.903 &  4574.026 &  4262.188 &  4962.590 &  4793.641 &  4214.605 & 4678.849 & 3863.630 & 3692.468 & 4516.303 & 4195.454 & 5154.811\\\\\n",
       "\tNode143600 &  1252.032 &  1575.908 &  1642.468 &  1633.856 &  1369.179 &  1339.731 & 1632.108 & 1578.187 & 1850.237 & 1869.456 & 1343.913 & 1255.110\\\\\n",
       "\\end{tabular}\n"
      ],
      "text/markdown": [
       "\n",
       "A matrix: 6 × 12 of type dbl\n",
       "\n",
       "| <!--/--> | 1_1 | 2_1 | 3_1 | 4_1 | 5_1 | 6_1 | 1_2 | 2_2 | 3_2 | 4_2 | 5_2 | 6_2 |\n",
       "|---|---|---|---|---|---|---|---|---|---|---|---|---|\n",
       "| Node143595 |  1897.348 |  1842.470 |  2090.076 |  1703.232 |  2309.254 |  2423.907 | 2431.316 | 2260.820 | 1459.841 | 1986.137 | 2064.201 | 2340.857 |\n",
       "| Node143596 |  2862.412 |  2778.919 |  2374.364 |  2963.617 |  3140.346 |  2931.553 | 2511.615 | 2864.257 | 3054.326 | 2924.688 | 3288.171 | 2478.713 |\n",
       "| Node143597 |  3485.009 |  3146.092 |  3984.090 |  4313.931 |  3304.299 |  3960.503 | 4815.902 | 4533.252 | 4067.127 | 4657.007 | 4100.220 | 3614.558 |\n",
       "| Node143598 | 16319.709 | 16329.522 | 16742.793 | 15440.213 | 20586.165 | 18217.234 | 3601.249 | 4559.657 | 3799.783 | 4417.311 | 3954.467 | 4285.702 |\n",
       "| Node143599 |  4754.903 |  4574.026 |  4262.188 |  4962.590 |  4793.641 |  4214.605 | 4678.849 | 3863.630 | 3692.468 | 4516.303 | 4195.454 | 5154.811 |\n",
       "| Node143600 |  1252.032 |  1575.908 |  1642.468 |  1633.856 |  1369.179 |  1339.731 | 1632.108 | 1578.187 | 1850.237 | 1869.456 | 1343.913 | 1255.110 |\n",
       "\n"
      ],
      "text/plain": [
       "           1_1       2_1       3_1       4_1       5_1       6_1       1_2     \n",
       "Node143595  1897.348  1842.470  2090.076  1703.232  2309.254  2423.907 2431.316\n",
       "Node143596  2862.412  2778.919  2374.364  2963.617  3140.346  2931.553 2511.615\n",
       "Node143597  3485.009  3146.092  3984.090  4313.931  3304.299  3960.503 4815.902\n",
       "Node143598 16319.709 16329.522 16742.793 15440.213 20586.165 18217.234 3601.249\n",
       "Node143599  4754.903  4574.026  4262.188  4962.590  4793.641  4214.605 4678.849\n",
       "Node143600  1252.032  1575.908  1642.468  1633.856  1369.179  1339.731 1632.108\n",
       "           2_2      3_2      4_2      5_2      6_2     \n",
       "Node143595 2260.820 1459.841 1986.137 2064.201 2340.857\n",
       "Node143596 2864.257 3054.326 2924.688 3288.171 2478.713\n",
       "Node143597 4533.252 4067.127 4657.007 4100.220 3614.558\n",
       "Node143598 4559.657 3799.783 4417.311 3954.467 4285.702\n",
       "Node143599 3863.630 3692.468 4516.303 4195.454 5154.811\n",
       "Node143600 1578.187 1850.237 1869.456 1343.913 1255.110"
      ]
     },
     "metadata": {},
     "output_type": "display_data"
    }
   ],
   "source": [
    "tail(assays(yAggTermThrNS)[[\"infRep1\"]])"
   ]
  },
  {
   "cell_type": "code",
   "execution_count": 237,
   "id": "62f76a7d",
   "metadata": {},
   "outputs": [],
   "source": [
    "yAggTermThrNS <- prepOSwish(yTermThrNS, mInds, groupsClust)"
   ]
  },
  {
   "cell_type": "code",
   "execution_count": 230,
   "id": "3d964579",
   "metadata": {},
   "outputs": [],
   "source": [
    "scaleInfReps <- function (y, lengthCorrect = TRUE, meanDepth = NULL, sfFun = NULL, \n",
    "    minCount = 10, minN = 3, saveMeanScaled = FALSE, quiet = FALSE) \n",
    "{\n",
    "    if (!interactive()) {\n",
    "        quiet <- TRUE\n",
    "    }\n",
    "    if (!is.null(metadata(y)$infRepsScaled)) {\n",
    "        if (metadata(y)$infRepsScaled) \n",
    "            stop(\"inferential replicates already scaled\")\n",
    "    }\n",
    "    infRepIdx <- grep(\"infRep\", assayNames(y))\n",
    "    infReps <- assays(y)[infRepIdx]\n",
    "    counts <- assays(y)[[\"counts\"]]\n",
    "    length <- assays(y)[[\"length\"]]\n",
    "    nreps <- length(infReps)\n",
    "    if (is.null(meanDepth) & !is(sfFun, \"numeric\")) {\n",
    "        meanDepth <- exp(mean(log(colSums(counts))))\n",
    "    }\n",
    "    means <- matrix(nrow = nrow(y), ncol = nreps)\n",
    "    if (is.null(length)) {\n",
    "        if (lengthCorrect) {\n",
    "            if (!quiet) \n",
    "                message(\"not correcting for feature length (lengthCorrect=FALSE)\")\n",
    "        }\n",
    "        lengthCorrect <- FALSE\n",
    "    }\n",
    "#     for (k in seq_len(nreps)) {\n",
    "    for (k in seq(5)) {    \n",
    "        if (!quiet) \n",
    "            svMisc::progress(k, max.value = nreps, init = (k == \n",
    "                1), gui = FALSE)\n",
    "        if (lengthCorrect) {\n",
    "            length <- length/exp(rowMeans(log(length)))\n",
    "            cts <- infReps[[k]]/length\n",
    "        }\n",
    "        else {\n",
    "            cts <- infReps[[k]]\n",
    "        }\n",
    "        if (!is(sfFun, \"numeric\")) {\n",
    "            cts <- t(t(cts)/colSums(cts)) * meanDepth\n",
    "            use <- rowSums(infReps[[k]] >= minCount) >= minN\n",
    "            if (is.null(sfFun)) {\n",
    "                loggeomeans <- rowMeans(log(cts[use, ]))\n",
    "                sf <- apply(cts[use, ], 2, function(s) {\n",
    "                  exp(median((log(s) - loggeomeans)[is.finite(loggeomeans)]))\n",
    "                })\n",
    "            }\n",
    "            else if (is(sfFun, \"function\")) {\n",
    "                sf <- sfFun(cts)\n",
    "            }\n",
    "        }\n",
    "        else {\n",
    "            sf <- sfFun\n",
    "        }\n",
    "        print(sf)\n",
    "        infReps[[k]] <- t(t(cts)/sf)\n",
    "#         print(head(infReps[[k]]))\n",
    "        means[, k] <- rowMeans(infReps[[k]])\n",
    "    }\n",
    "    if (!quiet) \n",
    "        message(\"\")\n",
    "    assays(y)[grep(\"infRep\", assayNames(y))] <- infReps\n",
    "    mcols(y)$log10mean <- log10(rowMeans(means) + 1)\n",
    "    metadata(y)$infRepsScaled <- TRUE\n",
    "    if (saveMeanScaled) {\n",
    "        infRepsArray <- abind::abind(as.list(infReps), along = 3)\n",
    "        meanScaled <- apply(infRepsArray, 1:2, mean)\n",
    "        assays(y)[[\"meanScaled\"]] <- meanScaled\n",
    "    }\n",
    "    y\n",
    "}"
   ]
  },
  {
   "cell_type": "code",
   "execution_count": 239,
   "id": "43dbfe50",
   "metadata": {},
   "outputs": [],
   "source": [
    "yAggTermThrNS <- dd"
   ]
  },
  {
   "cell_type": "code",
   "execution_count": 240,
   "id": "48527d63",
   "metadata": {},
   "outputs": [
    {
     "data": {
      "text/html": [
       "0"
      ],
      "text/latex": [
       "0"
      ],
      "text/markdown": [
       "0"
      ],
      "text/plain": [
       "[1] 0"
      ]
     },
     "metadata": {},
     "output_type": "display_data"
    }
   ],
   "source": [
    "sum(is.na(assays(dd)[[\"length\"]]))"
   ]
  },
  {
   "cell_type": "code",
   "execution_count": 251,
   "id": "79a78af4",
   "metadata": {},
   "outputs": [],
   "source": [
    "load(file.path(saveDir, \"cutsMean.RData\"))"
   ]
  },
  {
   "cell_type": "code",
   "execution_count": null,
   "id": "a5c1ec9b",
   "metadata": {},
   "outputs": [],
   "source": []
  }
 ],
 "metadata": {
  "kernelspec": {
   "display_name": "R",
   "language": "R",
   "name": "ir"
  },
  "language_info": {
   "codemirror_mode": "r",
   "file_extension": ".r",
   "mimetype": "text/x-r-source",
   "name": "R",
   "pygments_lexer": "r",
   "version": "4.1.1"
  }
 },
 "nbformat": 4,
 "nbformat_minor": 5
}
