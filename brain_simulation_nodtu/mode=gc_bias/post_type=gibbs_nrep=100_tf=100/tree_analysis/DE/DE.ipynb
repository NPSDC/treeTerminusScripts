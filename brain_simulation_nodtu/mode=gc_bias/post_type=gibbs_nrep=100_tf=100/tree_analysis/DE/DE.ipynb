{
 "cells": [
  {
   "cell_type": "code",
   "execution_count": 1,
   "id": "610e3411",
   "metadata": {},
   "outputs": [],
   "source": [
    "setwd('/fs/cbcb-lab/rob/students/noor/Uncertainity/treeTerminusScripts')\n",
    "library(beaveR)\n",
    "clustFile <- \"../brain_sim_nodtu/mode=gc_bias/post_type=gibbs_nrep=100_tf=100/terminus/no_threshold0/cluster_nwk.txt\"\n",
    "quantDir <- file.path(\"../brain_sim_nodtu/mode=gc_bias/post_type=gibbs_nrep=100_tf=100/out_sal\") \n",
    "samples <- as.vector(outer(c(1:6), c(1,2), function(x,y) paste(x,y,sep='_')))\n",
    "quantFiles <- file.path(quantDir, samples, 'quant.sf')\n",
    "coldata <- data.frame(files=quantFiles, names=samples, condition=factor(rep(1:2, each=6)))\n",
    "tse <- buildTSE(treeTermFile = clustFile, coldata = coldata)"
   ]
  },
  {
   "cell_type": "code",
   "execution_count": 4,
   "id": "51595119",
   "metadata": {},
   "outputs": [
    {
     "name": "stderr",
     "output_type": "stream",
     "text": [
      "Downloading GitHub repo NPSDC/beaveR@dev\n",
      "\n"
     ]
    },
    {
     "name": "stdout",
     "output_type": "stream",
     "text": [
      "rlang    (1.0.4        -> 1.0.6       ) [CRAN]\n",
      "igraph   (1.3.1        -> 1.3.5       ) [CRAN]\n",
      "digest   (0.6.30       -> 0.6.31      ) [CRAN]\n",
      "fishpond (bd0f06193... -> 2c057253d...) [GitHub]\n"
     ]
    },
    {
     "name": "stderr",
     "output_type": "stream",
     "text": [
      "Skipping 5 packages not available: S4Vectors, tximeta, TreeSummarizedExperiment, SingleCellExperiment, SummarizedExperiment\n",
      "\n",
      "Installing 3 packages: rlang, igraph, digest\n",
      "\n",
      "Warning message in i.p(...):\n",
      "“installation of package ‘rlang’ had non-zero exit status”\n",
      "Warning message in i.p(...):\n",
      "“installation of package ‘digest’ had non-zero exit status”\n",
      "Warning message in i.p(...):\n",
      "“installation of package ‘igraph’ had non-zero exit status”\n",
      "Updating HTML index of packages in '.Library'\n",
      "\n",
      "Making 'packages.html' ...\n",
      " done\n",
      "\n",
      "Downloading GitHub repo mikelove/fishpond@HEAD\n",
      "\n"
     ]
    },
    {
     "name": "stdout",
     "output_type": "stream",
     "text": [
      "RCurl     (1.98-1.8 -> 1.98-1.9) [CRAN]\n",
      "vctrs     (0.4.2    -> 0.5.1   ) [CRAN]\n",
      "rlang     (1.0.4    -> 1.0.6   ) [CRAN]\n",
      "lifecycle (1.0.1    -> 1.0.3   ) [CRAN]\n",
      "stringr   (1.4.1    -> 1.5.0   ) [CRAN]\n",
      "tibble    (3.1.7    -> 3.1.8   ) [CRAN]\n",
      "ggplot2   (3.3.6    -> 3.4.0   ) [CRAN]\n",
      "jsonlite  (1.8.3    -> 1.8.4   ) [CRAN]\n"
     ]
    },
    {
     "name": "stderr",
     "output_type": "stream",
     "text": [
      "Installing 8 packages: RCurl, vctrs, rlang, lifecycle, stringr, tibble, ggplot2, jsonlite\n",
      "\n",
      "Warning message in i.p(...):\n",
      "“installation of package ‘RCurl’ had non-zero exit status”\n",
      "Warning message in i.p(...):\n",
      "“installation of package ‘rlang’ had non-zero exit status”\n",
      "Warning message in i.p(...):\n",
      "“installation of package ‘jsonlite’ had non-zero exit status”\n",
      "Warning message in i.p(...):\n",
      "“installation of package ‘lifecycle’ had non-zero exit status”\n",
      "Warning message in i.p(...):\n",
      "“installation of package ‘vctrs’ had non-zero exit status”\n",
      "Warning message in i.p(...):\n",
      "“installation of package ‘stringr’ had non-zero exit status”\n",
      "Warning message in i.p(...):\n",
      "“installation of package ‘tibble’ had non-zero exit status”\n",
      "Warning message in i.p(...):\n",
      "“installation of package ‘ggplot2’ had non-zero exit status”\n",
      "Updating HTML index of packages in '.Library'\n",
      "\n",
      "Making 'packages.html' ...\n",
      " done\n",
      "\n"
     ]
    },
    {
     "name": "stdout",
     "output_type": "stream",
     "text": [
      "\u001b[32m✔\u001b[39m  \u001b[90mchecking for file ‘/cbcbhomes/npsingh/.tmp/RtmpCL7GxB/remotesa8fb37e64497/mikelove-fishpond-2c05725/DESCRIPTION’\u001b[39m\u001b[36m\u001b[39m\n",
      "\u001b[90m─\u001b[39m\u001b[90m  \u001b[39m\u001b[90mpreparing ‘fishpond’:\u001b[39m\u001b[36m\u001b[36m (567ms)\u001b[36m\u001b[39m\n",
      "\u001b[32m✔\u001b[39m  \u001b[90mchecking DESCRIPTION meta-information\u001b[39m\u001b[36m\u001b[39m\n",
      "\u001b[90m─\u001b[39m\u001b[90m  \u001b[39m\u001b[90mchecking for LF line-endings in source and make files and shell scripts\u001b[39m\u001b[36m\u001b[36m (336ms)\u001b[36m\u001b[39m\n",
      "\u001b[90m─\u001b[39m\u001b[90m  \u001b[39m\u001b[90mchecking for empty or unneeded directories\u001b[39m\u001b[36m\u001b[39m\n",
      "   Omitted ‘LazyData’ from DESCRIPTION\n",
      "\u001b[90m─\u001b[39m\u001b[90m  \u001b[39m\u001b[90mbuilding ‘fishpond_2.5.1.tar.gz’\u001b[39m\u001b[36m\u001b[39m\n",
      "   \n",
      "\r"
     ]
    },
    {
     "name": "stderr",
     "output_type": "stream",
     "text": [
      "Warning message in i.p(...):\n",
      "“installation of package ‘/cbcbhomes/npsingh/.tmp/RtmpCL7GxB/filea8fb1da6d71d/fishpond_2.5.1.tar.gz’ had non-zero exit status”\n"
     ]
    },
    {
     "name": "stdout",
     "output_type": "stream",
     "text": [
      "\u001b[32m✔\u001b[39m  \u001b[90mchecking for file ‘/cbcbhomes/npsingh/.tmp/RtmpCL7GxB/remotesa8fb2438b677/NPSDC-beaveR-2679aba/DESCRIPTION’\u001b[39m\u001b[36m\u001b[36m (409ms)\u001b[36m\u001b[39m\n",
      "\u001b[90m─\u001b[39m\u001b[90m  \u001b[39m\u001b[90mpreparing ‘beaveR’:\u001b[39m\u001b[36m\u001b[39m\n",
      "\u001b[32m✔\u001b[39m  \u001b[90mchecking DESCRIPTION meta-information\u001b[39m\u001b[36m\u001b[39m\n",
      "\u001b[90m─\u001b[39m\u001b[90m  \u001b[39m\u001b[90mchecking for LF line-endings in source and make files and shell scripts\u001b[39m\u001b[36m\u001b[39m\n",
      "\u001b[90m─\u001b[39m\u001b[90m  \u001b[39m\u001b[90mchecking for empty or unneeded directories\u001b[39m\u001b[36m\u001b[39m\n",
      "\u001b[90m─\u001b[39m\u001b[90m  \u001b[39m\u001b[90mbuilding ‘beaveR_0.99.0.tar.gz’\u001b[39m\u001b[36m\u001b[39m\n",
      "   \n",
      "\r"
     ]
    }
   ],
   "source": [
    "devtools::install_github(\"NPSDC/beaveR\", ref = \"dev\", force=T)"
   ]
  },
  {
   "cell_type": "code",
   "execution_count": 5,
   "id": "ef0ceb2d",
   "metadata": {},
   "outputs": [],
   "source": [
    "aggAssay <- function(tree, nodeIDs, seMat, groupInds = NULL) {\n",
    "    if (!is(tree, \"phylo\"))\n",
    "        stop(\"tree does not belong to class phylo\")\n",
    "    if (!is.numeric(nodeIDs)) {\n",
    "        nodeIDs <- suppressWarnings(as.numeric(nodeIDs))\n",
    "        if (any(is.na(nodeIDs)))\n",
    "            stop(\"Node ids contain a non numeric\")\n",
    "    }\n",
    "    if (any(nodeIDs > (length(tree$tip) + tree$Nnode)))\n",
    "        stop(\"some nodeIDs are invalid\")\n",
    "    performMatCheck(seMat)\n",
    "    mat <- createMat(seMat, list(), type = \"row\")\n",
    "\n",
    "    leaves <- which(nodeIDs <= nrow(seMat))\n",
    "    innNodesInds <- which(nodeIDs > nrow(seMat))\n",
    "\n",
    "    if (length(leaves) > 0) {\n",
    "        mat <- rbind(mat, seMat[nodeIDs[leaves], ])\n",
    "        rownames(mat) <- rownames(seMat)[nodeIDs[leaves]]\n",
    "    }\n",
    "\n",
    "    if (length(innNodesInds) > 0) {\n",
    "        lInds <- phangorn::Descendants(tree, nodeIDs[innNodesInds], type = \"tips\")\n",
    "        names(lInds) <- paste(\"Node\", as.character(nodeIDs[innNodesInds]), sep = \"\")\n",
    "        mat <- rbind(mat, performRowSumAgg(seMat, lInds))\n",
    "    }\n",
    "    mat <- performColMeanAgg(mat, groupInds)\n",
    "    mat\n",
    "}\n",
    "\n",
    "#' @importFrom methods is\n",
    "performColMeanAgg <- function(seM, colInds = NULL) {\n",
    "    performMatCheck(seM)\n",
    "    if (is.null(colInds)) {\n",
    "        return(seM)\n",
    "    }\n",
    "    performIndCheck(seM, colInds, type = \"col\")\n",
    "    mat <- createMat(seM, colInds, type = \"col\")\n",
    "    FUN <- rowMeans\n",
    "    if (is(seM, \"dgCMatrix\")) {\n",
    "        FUN <- Matrix::rowMeans\n",
    "    }\n",
    "    for (i in seq_along(colInds)) {\n",
    "        if (length(colInds[[i]]) != 1) {\n",
    "            mat[, i] <- FUN(seM[, colInds[[i]]])\n",
    "        } else {\n",
    "            mat[, i] <- seM[, colInds[[i]]]\n",
    "        }\n",
    "    }\n",
    "    dimnames(mat) <- getDimNames(seM, colInds, type = \"col\")\n",
    "    mat\n",
    "}\n",
    "\n",
    "performRowSumAgg <- function(seM, rowInds = NULL) {\n",
    "    performMatCheck(seM)\n",
    "    if (is.null(rowInds)) {\n",
    "        return(seM)\n",
    "    }\n",
    "    performIndCheck(seM, rowInds, type = \"row\")\n",
    "    mat <- createMat(seM, rowInds, type = \"row\")\n",
    "    FUN <- colSums\n",
    "    if (is(seM, \"dgCMatrix\")) {\n",
    "        FUN <- Matrix::colSums\n",
    "    }\n",
    "    for (i in seq_along(rowInds)) {\n",
    "        if (length(rowInds[[i]]) != 1) {\n",
    "            mat[i, ] <- FUN(seM[rowInds[[i]], ])\n",
    "        } else {\n",
    "            mat[i, ] <- seM[rowInds[[i]], ]\n",
    "        }\n",
    "    }\n",
    "    dimnames(mat) <- getDimNames(seM, rowInds, type = \"row\")\n",
    "    mat\n",
    "}\n",
    "\n",
    "#' @importFrom methods is\n",
    "performMatCheck <- function(seM) {\n",
    "    if (!(is(seM, \"matrix\") | is(seM, \"dgCMatrix\"))) {\n",
    "        stop(\"input matrix should be of class dgCMatrix or matrix\")\n",
    "    }\n",
    "    if (is(seM, \"matrix\")) {\n",
    "        if (!is.numeric(seM)) {\n",
    "            stop(\"input matrix should be numeric\")\n",
    "        }\n",
    "    }\n",
    "}\n",
    "\n",
    "#' @importFrom methods is\n",
    "performIndCheck <- function(seM, inds, type = \"row\") {\n",
    "    if (!is(inds, \"list\")) {\n",
    "        stop(\"colInds has to be list\")\n",
    "    }\n",
    "    if (type == \"row\") {\n",
    "        if (any(unlist(inds) > nrow(seM))) {\n",
    "            stop(\"Atleast 1 index in rowInds is greater than the total number of rows\")\n",
    "        }\n",
    "    } else {\n",
    "        if (any(unlist(inds) > ncol(seM))) {\n",
    "            stop(\"Atleast 1 index in colInds is greater than the total number of columns\")\n",
    "        }\n",
    "    }\n",
    "\n",
    "}\n",
    "\n",
    "getDimNames <- function(seM, inds, type = \"row\") {\n",
    "    d2name <- names(inds)\n",
    "    if (is.null(names(inds))) {\n",
    "        d2name <- paste(\"Group\", seq_along(inds), sep = \"\")\n",
    "    }\n",
    "    dnames <- list(d2name, colnames(seM))\n",
    "    if (type != \"row\")\n",
    "        dnames <- list(rownames(seM), d2name)\n",
    "    dnames\n",
    "}\n",
    "\n",
    "#' @importFrom methods is\n",
    "createMat <- function(seM, inds, type = \"row\") {\n",
    "    nrows <- ifelse(type == \"row\", length(inds), nrow(seM))\n",
    "    ncols <- ifelse(type == \"col\", length(inds), ncol(seM))\n",
    "\n",
    "    mat <- matrix(0, nrow = nrows, ncol = ncols)\n",
    "    if (is(seM, \"dgCMatrix\")) {\n",
    "        mat <- Matrix::Matrix(0, nrow = nrows, ncol = ncols, sparse = T)\n",
    "    }\n",
    "    mat\n",
    "}\n"
   ]
  },
  {
   "cell_type": "code",
   "execution_count": 7,
   "id": "f434eb15",
   "metadata": {},
   "outputs": [],
   "source": [
    "suppressPackageStartupMessages(library(TreeSummarizedExperiment))\n",
    "suppressPackageStartupMessages(library(SummarizedExperiment))\n",
    "suppressPackageStartupMessages(library(tximport))\n",
    "suppressPackageStartupMessages(library(phangorn))"
   ]
  },
  {
   "cell_type": "code",
   "execution_count": 39,
   "id": "53601275",
   "metadata": {},
   "outputs": [],
   "source": [
    "tree <- rowTree(tse)\n",
    "ntxps <- length(tree$tip.label)\n",
    "desc <- phangorn::Descendants(tree, 1:nrow(tse))\n",
    "# txDf <- data.frame(tx = rownames(tse)[unlist(desc)],\n",
    "#                        groups = rep(paste(\"Node\", seq(length(desc))+1, sep=\"\"), sapply(desc, length)))\n",
    "innNodes <- ntxps + 1:tree$Nnode"
   ]
  },
  {
   "cell_type": "code",
   "execution_count": 61,
   "id": "094c9ab1",
   "metadata": {},
   "outputs": [],
   "source": [
    "weightedLength <- aggAssay(tree, c(1:ntxps, innNodes), assays(tse)[[\"abundance\"]][1:ntxps,] * assays(tse)[[\"length\"]][1:ntxps,], groupInds = NULL)"
   ]
  },
  {
   "cell_type": "code",
   "execution_count": 68,
   "id": "17de8ee8",
   "metadata": {},
   "outputs": [
    {
     "data": {
      "text/html": [
       "<pre class=language-r><code>new(\"standardGeneric\", .Data = function (x, withDimnames = TRUE, \n",
       "<span style=white-space:pre-wrap>    ...) </span>\n",
       "standardGeneric(\"assays\"), generic = structure(\"assays\", package = \"SummarizedExperiment\"), \n",
       "<span style=white-space:pre-wrap>    package = \"SummarizedExperiment\", group = list(), valueClass = character(0), </span>\n",
       "<span style=white-space:pre-wrap>    signature = \"x\", default = NULL, skeleton = (function (x, </span>\n",
       "<span style=white-space:pre-wrap>        withDimnames = TRUE, ...) </span>\n",
       "<span style=white-space:pre-wrap>    stop(\"invalid call in method dispatch to 'assays' (no default method)\", </span>\n",
       "<span style=white-space:pre-wrap>        domain = NA))(x, withDimnames, ...))</span></code></pre>"
      ],
      "text/latex": [
       "\\begin{minted}{r}\n",
       "new(\"standardGeneric\", .Data = function (x, withDimnames = TRUE, \n",
       "    ...) \n",
       "standardGeneric(\"assays\"), generic = structure(\"assays\", package = \"SummarizedExperiment\"), \n",
       "    package = \"SummarizedExperiment\", group = list(), valueClass = character(0), \n",
       "    signature = \"x\", default = NULL, skeleton = (function (x, \n",
       "        withDimnames = TRUE, ...) \n",
       "    stop(\"invalid call in method dispatch to 'assays' (no default method)\", \n",
       "        domain = NA))(x, withDimnames, ...))\n",
       "\\end{minted}"
      ],
      "text/markdown": [
       "```r\n",
       "new(\"standardGeneric\", .Data = function (x, withDimnames = TRUE, \n",
       "    ...) \n",
       "standardGeneric(\"assays\"), generic = structure(\"assays\", package = \"SummarizedExperiment\"), \n",
       "    package = \"SummarizedExperiment\", group = list(), valueClass = character(0), \n",
       "    signature = \"x\", default = NULL, skeleton = (function (x, \n",
       "        withDimnames = TRUE, ...) \n",
       "    stop(\"invalid call in method dispatch to 'assays' (no default method)\", \n",
       "        domain = NA))(x, withDimnames, ...))\n",
       "```"
      ],
      "text/plain": [
       "new(\"standardGeneric\", .Data = function (x, withDimnames = TRUE, \n",
       "    ...) \n",
       "standardGeneric(\"assays\"), generic = \"assays\", package = \"SummarizedExperiment\", \n",
       "    group = list(), valueClass = character(0), signature = \"x\", \n",
       "    default = NULL, skeleton = (function (x, withDimnames = TRUE, \n",
       "        ...) \n",
       "    stop(\"invalid call in method dispatch to 'assays' (no default method)\", \n",
       "        domain = NA))(x, withDimnames, ...))\n",
       "<bytecode: 0x557255e2ca80>\n",
       "<environment: 0x557255e33820>\n",
       "attr(,\"generic\")\n",
       "[1] \"assays\"\n",
       "attr(,\"generic\")attr(,\"package\")\n",
       "[1] \"SummarizedExperiment\"\n",
       "attr(,\"package\")\n",
       "[1] \"SummarizedExperiment\"\n",
       "attr(,\"group\")\n",
       "list()\n",
       "attr(,\"valueClass\")\n",
       "character(0)\n",
       "attr(,\"signature\")\n",
       "[1] \"x\"\n",
       "attr(,\"default\")\n",
       "`\\001NULL\\001`\n",
       "attr(,\"skeleton\")\n",
       "(function (x, withDimnames = TRUE, ...) \n",
       "stop(\"invalid call in method dispatch to 'assays' (no default method)\", \n",
       "    domain = NA))(x, withDimnames, ...)\n",
       "attr(,\"class\")\n",
       "[1] \"standardGeneric\"\n",
       "attr(,\"class\")attr(,\"package\")\n",
       "[1] \"methods\""
      ]
     },
     "metadata": {},
     "output_type": "display_data"
    }
   ],
   "source": [
    "assays"
   ]
  },
  {
   "cell_type": "code",
   "execution_count": 65,
   "id": "2806d86c",
   "metadata": {},
   "outputs": [
    {
     "data": {
      "text/html": [
       "<table class=\"dataframe\">\n",
       "<caption>A matrix: 6 × 12 of type dbl</caption>\n",
       "<thead>\n",
       "\t<tr><th></th><th scope=col>1_1</th><th scope=col>2_1</th><th scope=col>3_1</th><th scope=col>4_1</th><th scope=col>5_1</th><th scope=col>6_1</th><th scope=col>1_2</th><th scope=col>2_2</th><th scope=col>3_2</th><th scope=col>4_2</th><th scope=col>5_2</th><th scope=col>6_2</th></tr>\n",
       "</thead>\n",
       "<tbody>\n",
       "\t<tr><th scope=row>Node254390</th><td>6693.633</td><td>6242.552</td><td>6265.287</td><td>6569.219</td><td>6198.635</td><td>6088.444</td><td>6874.087</td><td>6504.084</td><td>5968.100</td><td>6402.313</td><td>5967.446</td><td>6576.715</td></tr>\n",
       "\t<tr><th scope=row>Node254391</th><td>6693.633</td><td>6242.552</td><td>6265.287</td><td>6569.219</td><td>6198.635</td><td>6088.444</td><td>6874.087</td><td>6504.084</td><td>5968.100</td><td>6402.313</td><td>5967.446</td><td>6576.715</td></tr>\n",
       "\t<tr><th scope=row>Node254392</th><td>6880.322</td><td>6287.013</td><td>6286.709</td><td>6629.085</td><td>6400.754</td><td>6125.581</td><td>6919.126</td><td>6565.311</td><td>6141.039</td><td>6463.191</td><td>6026.083</td><td>6813.699</td></tr>\n",
       "\t<tr><th scope=row>Node254393</th><td>6880.322</td><td>6287.013</td><td>6286.709</td><td>6629.085</td><td>6400.754</td><td>6125.581</td><td>6919.126</td><td>6565.311</td><td>6141.039</td><td>6463.191</td><td>6026.083</td><td>6813.699</td></tr>\n",
       "\t<tr><th scope=row>Node254394</th><td>6808.979</td><td>6179.682</td><td>6188.297</td><td>6590.828</td><td>6344.191</td><td>6049.349</td><td>6875.091</td><td>6502.895</td><td>6067.875</td><td>6423.958</td><td>5955.415</td><td>6745.714</td></tr>\n",
       "\t<tr><th scope=row>Node254395</th><td>7417.328</td><td>7405.501</td><td>7406.089</td><td>7465.426</td><td>7347.743</td><td>7290.692</td><td>7423.373</td><td>7403.641</td><td>7423.288</td><td>7462.822</td><td>7364.343</td><td>7294.859</td></tr>\n",
       "</tbody>\n",
       "</table>\n"
      ],
      "text/latex": [
       "A matrix: 6 × 12 of type dbl\n",
       "\\begin{tabular}{r|llllllllllll}\n",
       "  & 1\\_1 & 2\\_1 & 3\\_1 & 4\\_1 & 5\\_1 & 6\\_1 & 1\\_2 & 2\\_2 & 3\\_2 & 4\\_2 & 5\\_2 & 6\\_2\\\\\n",
       "\\hline\n",
       "\tNode254390 & 6693.633 & 6242.552 & 6265.287 & 6569.219 & 6198.635 & 6088.444 & 6874.087 & 6504.084 & 5968.100 & 6402.313 & 5967.446 & 6576.715\\\\\n",
       "\tNode254391 & 6693.633 & 6242.552 & 6265.287 & 6569.219 & 6198.635 & 6088.444 & 6874.087 & 6504.084 & 5968.100 & 6402.313 & 5967.446 & 6576.715\\\\\n",
       "\tNode254392 & 6880.322 & 6287.013 & 6286.709 & 6629.085 & 6400.754 & 6125.581 & 6919.126 & 6565.311 & 6141.039 & 6463.191 & 6026.083 & 6813.699\\\\\n",
       "\tNode254393 & 6880.322 & 6287.013 & 6286.709 & 6629.085 & 6400.754 & 6125.581 & 6919.126 & 6565.311 & 6141.039 & 6463.191 & 6026.083 & 6813.699\\\\\n",
       "\tNode254394 & 6808.979 & 6179.682 & 6188.297 & 6590.828 & 6344.191 & 6049.349 & 6875.091 & 6502.895 & 6067.875 & 6423.958 & 5955.415 & 6745.714\\\\\n",
       "\tNode254395 & 7417.328 & 7405.501 & 7406.089 & 7465.426 & 7347.743 & 7290.692 & 7423.373 & 7403.641 & 7423.288 & 7462.822 & 7364.343 & 7294.859\\\\\n",
       "\\end{tabular}\n"
      ],
      "text/markdown": [
       "\n",
       "A matrix: 6 × 12 of type dbl\n",
       "\n",
       "| <!--/--> | 1_1 | 2_1 | 3_1 | 4_1 | 5_1 | 6_1 | 1_2 | 2_2 | 3_2 | 4_2 | 5_2 | 6_2 |\n",
       "|---|---|---|---|---|---|---|---|---|---|---|---|---|\n",
       "| Node254390 | 6693.633 | 6242.552 | 6265.287 | 6569.219 | 6198.635 | 6088.444 | 6874.087 | 6504.084 | 5968.100 | 6402.313 | 5967.446 | 6576.715 |\n",
       "| Node254391 | 6693.633 | 6242.552 | 6265.287 | 6569.219 | 6198.635 | 6088.444 | 6874.087 | 6504.084 | 5968.100 | 6402.313 | 5967.446 | 6576.715 |\n",
       "| Node254392 | 6880.322 | 6287.013 | 6286.709 | 6629.085 | 6400.754 | 6125.581 | 6919.126 | 6565.311 | 6141.039 | 6463.191 | 6026.083 | 6813.699 |\n",
       "| Node254393 | 6880.322 | 6287.013 | 6286.709 | 6629.085 | 6400.754 | 6125.581 | 6919.126 | 6565.311 | 6141.039 | 6463.191 | 6026.083 | 6813.699 |\n",
       "| Node254394 | 6808.979 | 6179.682 | 6188.297 | 6590.828 | 6344.191 | 6049.349 | 6875.091 | 6502.895 | 6067.875 | 6423.958 | 5955.415 | 6745.714 |\n",
       "| Node254395 | 7417.328 | 7405.501 | 7406.089 | 7465.426 | 7347.743 | 7290.692 | 7423.373 | 7403.641 | 7423.288 | 7462.822 | 7364.343 | 7294.859 |\n",
       "\n"
      ],
      "text/plain": [
       "           1_1      2_1      3_1      4_1      5_1      6_1      1_2     \n",
       "Node254390 6693.633 6242.552 6265.287 6569.219 6198.635 6088.444 6874.087\n",
       "Node254391 6693.633 6242.552 6265.287 6569.219 6198.635 6088.444 6874.087\n",
       "Node254392 6880.322 6287.013 6286.709 6629.085 6400.754 6125.581 6919.126\n",
       "Node254393 6880.322 6287.013 6286.709 6629.085 6400.754 6125.581 6919.126\n",
       "Node254394 6808.979 6179.682 6188.297 6590.828 6344.191 6049.349 6875.091\n",
       "Node254395 7417.328 7405.501 7406.089 7465.426 7347.743 7290.692 7423.373\n",
       "           2_2      3_2      4_2      5_2      6_2     \n",
       "Node254390 6504.084 5968.100 6402.313 5967.446 6576.715\n",
       "Node254391 6504.084 5968.100 6402.313 5967.446 6576.715\n",
       "Node254392 6565.311 6141.039 6463.191 6026.083 6813.699\n",
       "Node254393 6565.311 6141.039 6463.191 6026.083 6813.699\n",
       "Node254394 6502.895 6067.875 6423.958 5955.415 6745.714\n",
       "Node254395 7403.641 7423.288 7462.822 7364.343 7294.859"
      ]
     },
     "metadata": {},
     "output_type": "display_data"
    },
    {
     "data": {
      "text/html": [
       "<table class=\"dataframe\">\n",
       "<caption>A matrix: 6 × 12 of type dbl</caption>\n",
       "<thead>\n",
       "\t<tr><th></th><th scope=col>1_1</th><th scope=col>2_1</th><th scope=col>3_1</th><th scope=col>4_1</th><th scope=col>5_1</th><th scope=col>6_1</th><th scope=col>1_2</th><th scope=col>2_2</th><th scope=col>3_2</th><th scope=col>4_2</th><th scope=col>5_2</th><th scope=col>6_2</th></tr>\n",
       "</thead>\n",
       "<tbody>\n",
       "\t<tr><th scope=row>Node254390</th><td>NA</td><td>NA</td><td>NA</td><td>NA</td><td>NA</td><td>NA</td><td>NA</td><td>NA</td><td>NA</td><td>NA</td><td>NA</td><td>NA</td></tr>\n",
       "\t<tr><th scope=row>Node254391</th><td>NA</td><td>NA</td><td>NA</td><td>NA</td><td>NA</td><td>NA</td><td>NA</td><td>NA</td><td>NA</td><td>NA</td><td>NA</td><td>NA</td></tr>\n",
       "\t<tr><th scope=row>Node254392</th><td>NA</td><td>NA</td><td>NA</td><td>NA</td><td>NA</td><td>NA</td><td>NA</td><td>NA</td><td>NA</td><td>NA</td><td>NA</td><td>NA</td></tr>\n",
       "\t<tr><th scope=row>Node254393</th><td>NA</td><td>NA</td><td>NA</td><td>NA</td><td>NA</td><td>NA</td><td>NA</td><td>NA</td><td>NA</td><td>NA</td><td>NA</td><td>NA</td></tr>\n",
       "\t<tr><th scope=row>Node254394</th><td>NA</td><td>NA</td><td>NA</td><td>NA</td><td>NA</td><td>NA</td><td>NA</td><td>NA</td><td>NA</td><td>NA</td><td>NA</td><td>NA</td></tr>\n",
       "\t<tr><th scope=row>Node254395</th><td>NA</td><td>NA</td><td>NA</td><td>NA</td><td>NA</td><td>NA</td><td>NA</td><td>NA</td><td>NA</td><td>NA</td><td>NA</td><td>NA</td></tr>\n",
       "</tbody>\n",
       "</table>\n"
      ],
      "text/latex": [
       "A matrix: 6 × 12 of type dbl\n",
       "\\begin{tabular}{r|llllllllllll}\n",
       "  & 1\\_1 & 2\\_1 & 3\\_1 & 4\\_1 & 5\\_1 & 6\\_1 & 1\\_2 & 2\\_2 & 3\\_2 & 4\\_2 & 5\\_2 & 6\\_2\\\\\n",
       "\\hline\n",
       "\tNode254390 & NA & NA & NA & NA & NA & NA & NA & NA & NA & NA & NA & NA\\\\\n",
       "\tNode254391 & NA & NA & NA & NA & NA & NA & NA & NA & NA & NA & NA & NA\\\\\n",
       "\tNode254392 & NA & NA & NA & NA & NA & NA & NA & NA & NA & NA & NA & NA\\\\\n",
       "\tNode254393 & NA & NA & NA & NA & NA & NA & NA & NA & NA & NA & NA & NA\\\\\n",
       "\tNode254394 & NA & NA & NA & NA & NA & NA & NA & NA & NA & NA & NA & NA\\\\\n",
       "\tNode254395 & NA & NA & NA & NA & NA & NA & NA & NA & NA & NA & NA & NA\\\\\n",
       "\\end{tabular}\n"
      ],
      "text/markdown": [
       "\n",
       "A matrix: 6 × 12 of type dbl\n",
       "\n",
       "| <!--/--> | 1_1 | 2_1 | 3_1 | 4_1 | 5_1 | 6_1 | 1_2 | 2_2 | 3_2 | 4_2 | 5_2 | 6_2 |\n",
       "|---|---|---|---|---|---|---|---|---|---|---|---|---|\n",
       "| Node254390 | NA | NA | NA | NA | NA | NA | NA | NA | NA | NA | NA | NA |\n",
       "| Node254391 | NA | NA | NA | NA | NA | NA | NA | NA | NA | NA | NA | NA |\n",
       "| Node254392 | NA | NA | NA | NA | NA | NA | NA | NA | NA | NA | NA | NA |\n",
       "| Node254393 | NA | NA | NA | NA | NA | NA | NA | NA | NA | NA | NA | NA |\n",
       "| Node254394 | NA | NA | NA | NA | NA | NA | NA | NA | NA | NA | NA | NA |\n",
       "| Node254395 | NA | NA | NA | NA | NA | NA | NA | NA | NA | NA | NA | NA |\n",
       "\n"
      ],
      "text/plain": [
       "           1_1 2_1 3_1 4_1 5_1 6_1 1_2 2_2 3_2 4_2 5_2 6_2\n",
       "Node254390 NA  NA  NA  NA  NA  NA  NA  NA  NA  NA  NA  NA \n",
       "Node254391 NA  NA  NA  NA  NA  NA  NA  NA  NA  NA  NA  NA \n",
       "Node254392 NA  NA  NA  NA  NA  NA  NA  NA  NA  NA  NA  NA \n",
       "Node254393 NA  NA  NA  NA  NA  NA  NA  NA  NA  NA  NA  NA \n",
       "Node254394 NA  NA  NA  NA  NA  NA  NA  NA  NA  NA  NA  NA \n",
       "Node254395 NA  NA  NA  NA  NA  NA  NA  NA  NA  NA  NA  NA "
      ]
     },
     "metadata": {},
     "output_type": "display_data"
    }
   ],
   "source": [
    "lengthMat <- weightedLength / assays(tse)[[\"abundance\"]]\n",
    "tail(lengthMat)\n",
    "tail(assays(tse)[[\"length\"]])"
   ]
  },
  {
   "cell_type": "code",
   "execution_count": 40,
   "id": "8182f5d3",
   "metadata": {},
   "outputs": [
    {
     "ename": "ERROR",
     "evalue": "Error in tapply(aveLengthSamp, desc, mean): arguments must have same length\n",
     "output_type": "error",
     "traceback": [
      "Error in tapply(aveLengthSamp, desc, mean): arguments must have same length\nTraceback:\n",
      "1. tapply(aveLengthSamp, desc, mean)",
      "2. tapply(aveLengthSamp, desc, mean)",
      "3. stop(\"arguments must have same length\")"
     ]
    }
   ],
   "source": [
    "aveLengthSampGroup <- tapply(aveLengthSamp, desc, mean)"
   ]
  },
  {
   "cell_type": "code",
   "execution_count": 59,
   "id": "2005f094",
   "metadata": {},
   "outputs": [],
   "source": [
    "head(lengthMat)\n"
   ]
  },
  {
   "cell_type": "code",
   "execution_count": 56,
   "id": "35025cd0",
   "metadata": {},
   "outputs": [
    {
     "data": {
      "text/html": [
       "TRUE"
      ],
      "text/latex": [
       "TRUE"
      ],
      "text/markdown": [
       "TRUE"
      ],
      "text/plain": [
       "[1] TRUE"
      ]
     },
     "metadata": {},
     "output_type": "display_data"
    }
   ],
   "source": [
    "tail(aveLengthSampGroup)[4]==mean(aveLengthSamp[tail(desc)[[4]]])"
   ]
  },
  {
   "cell_type": "code",
   "execution_count": 11,
   "id": "91ddc18b",
   "metadata": {},
   "outputs": [],
   "source": [
    "txDf <- data.frame(tx = rownames(tse)[unlist(desc)], gene = rep(NA, length(unlist(desc))))\n",
    "j <- 1\n",
    "for(i in seq_along(desc)) {\n",
    "    ll <- length(desc[[i]])\n",
    "    txDf[j:(j+ll-1),2]=paste(\"Group\", i, sep=\"_\")\n",
    "    j <- j + ll\n",
    "}"
   ]
  },
  {
   "cell_type": "code",
   "execution_count": 39,
   "id": "f3bfd843",
   "metadata": {},
   "outputs": [
    {
     "name": "stderr",
     "output_type": "stream",
     "text": [
      "loading existing TxDb created: 2022-08-19 22:12:59\n",
      "\n",
      "obtaining transcript-to-gene mapping from database\n",
      "\n",
      "loading existing gene ranges created: 2022-08-26 02:08:58\n",
      "\n"
     ]
    },
    {
     "ename": "ERROR",
     "evalue": "Error in .local(object, ...): formal argument \"tx2gene\" matched by multiple actual arguments\n",
     "output_type": "error",
     "traceback": [
      "Error in .local(object, ...): formal argument \"tx2gene\" matched by multiple actual arguments\nTraceback:\n",
      "1. summarizeToGene(tse, tx2gene = txDf, ignoreTxVersion = TRUE)",
      "2. summarizeToGene(tse, tx2gene = txDf, ignoreTxVersion = TRUE)",
      "3. .local(object, ...)",
      "4. summarizeToGene(object = txi, tx2gene = tx2gene, varReduce = varReduce, \n .     ...)",
      "5. summarizeToGene(object = txi, tx2gene = tx2gene, varReduce = varReduce, \n .     ...)"
     ]
    }
   ],
   "source": [
    "groupCount <- summarizeToGene(tse, tx2gene = txDf, ignoreTxVersion = TRUE)"
   ]
  },
  {
   "cell_type": "code",
   "execution_count": 4,
   "id": "76fa97c7",
   "metadata": {},
   "outputs": [
    {
     "name": "stderr",
     "output_type": "stream",
     "text": [
      "importing quantifications\n",
      "\n",
      "reading in files with read_tsv\n",
      "\n",
      "1 \n",
      "2 \n",
      "3 \n",
      "4 \n",
      "5 \n",
      "6 \n",
      "7 \n",
      "8 \n",
      "9 \n",
      "10 \n",
      "11 \n",
      "12 \n",
      "\n",
      "\n",
      "found matching transcriptome:\n",
      "[ GENCODE - Homo sapiens - release 26 ]\n",
      "\n",
      "loading existing TxDb created: 2022-08-19 22:12:59\n",
      "\n",
      "Loading required package: GenomicFeatures\n",
      "\n",
      "Loading required package: BiocGenerics\n",
      "\n",
      "\n",
      "Attaching package: 'BiocGenerics'\n",
      "\n",
      "\n",
      "The following objects are masked from 'package:stats':\n",
      "\n",
      "    IQR, mad, sd, var, xtabs\n",
      "\n",
      "\n",
      "The following objects are masked from 'package:base':\n",
      "\n",
      "    anyDuplicated, append, as.data.frame, basename, cbind, colnames,\n",
      "    dirname, do.call, duplicated, eval, evalq, Filter, Find, get, grep,\n",
      "    grepl, intersect, is.unsorted, lapply, Map, mapply, match, mget,\n",
      "    order, paste, pmax, pmax.int, pmin, pmin.int, Position, rank,\n",
      "    rbind, Reduce, rownames, sapply, setdiff, sort, table, tapply,\n",
      "    union, unique, unsplit, which.max, which.min\n",
      "\n",
      "\n",
      "Loading required package: S4Vectors\n",
      "\n",
      "Loading required package: stats4\n",
      "\n",
      "\n",
      "Attaching package: 'S4Vectors'\n",
      "\n",
      "\n",
      "The following objects are masked from 'package:base':\n",
      "\n",
      "    expand.grid, I, unname\n",
      "\n",
      "\n",
      "Loading required package: IRanges\n",
      "\n",
      "Loading required package: GenomeInfoDb\n",
      "\n",
      "Loading required package: GenomicRanges\n",
      "\n",
      "Loading required package: AnnotationDbi\n",
      "\n",
      "Loading required package: Biobase\n",
      "\n",
      "Welcome to Bioconductor\n",
      "\n",
      "    Vignettes contain introductory material; view with\n",
      "    'browseVignettes()'. To cite Bioconductor, see\n",
      "    'citation(\"Biobase\")', and for packages 'citation(\"pkgname\")'.\n",
      "\n",
      "\n",
      "loading existing transcript ranges created: 2022-08-19 22:13:01\n",
      "\n"
     ]
    }
   ],
   "source": [
    "txi <- tximeta::tximeta(coldata$files, type = \"salmon\", countsFromAbundance=\"lengthScaledTPM\")"
   ]
  },
  {
   "cell_type": "code",
   "execution_count": 41,
   "id": "1ffbf616",
   "metadata": {},
   "outputs": [
    {
     "name": "stderr",
     "output_type": "stream",
     "text": [
      "loading existing TxDb created: 2022-08-19 22:12:59\n",
      "\n",
      "obtaining transcript-to-gene mapping from database\n",
      "\n",
      "loading existing gene ranges created: 2022-08-26 02:08:58\n",
      "\n",
      "summarizing abundance\n",
      "\n",
      "summarizing counts\n",
      "\n",
      "summarizing length\n",
      "\n",
      "summarizing inferential replicates\n",
      "\n"
     ]
    },
    {
     "data": {
      "text/html": [
       "'lengthScaledTPM'"
      ],
      "text/latex": [
       "'lengthScaledTPM'"
      ],
      "text/markdown": [
       "'lengthScaledTPM'"
      ],
      "text/plain": [
       "[1] \"lengthScaledTPM\""
      ]
     },
     "metadata": {},
     "output_type": "display_data"
    }
   ],
   "source": [
    "gse <- tximeta::summarizeToGene(txi, countsFromAbundance=\"lengthScaledTPM\")\n",
    "gse@metadata$countsFromAbundance"
   ]
  },
  {
   "cell_type": "code",
   "execution_count": 43,
   "id": "055134da",
   "metadata": {},
   "outputs": [
    {
     "data": {
      "text/plain": [
       "DataFrame with 6 rows and 3 columns\n",
       "                      tx_id            gene_id           tx_name\n",
       "                  <integer>    <CharacterList>       <character>\n",
       "ENST00000371588.9    184942 ENSG00000000419.12 ENST00000371588.9\n",
       "ENST00000466152.5    184943 ENSG00000000419.12 ENST00000466152.5\n",
       "ENST00000371582.8    184944 ENSG00000000419.12 ENST00000371582.8\n",
       "ENST00000494752.1    184945 ENSG00000000419.12 ENST00000494752.1\n",
       "ENST00000371584.8    184946 ENSG00000000419.12 ENST00000371584.8\n",
       "ENST00000413082.1    184947 ENSG00000000419.12 ENST00000413082.1"
      ]
     },
     "metadata": {},
     "output_type": "display_data"
    },
    {
     "data": {
      "text/html": [
       "<style>\n",
       ".dl-inline {width: auto; margin:0; padding: 0}\n",
       ".dl-inline>dt, .dl-inline>dd {float: none; width: auto; display: inline-block}\n",
       ".dl-inline>dt::after {content: \":\\0020\"; padding-right: .5ex}\n",
       ".dl-inline>dt:not(:first-of-type) {padding-left: .5ex}\n",
       "</style><dl class=dl-inline><dt>1</dt><dd>347.004156237713</dd><dt>2</dt><dd>359.547952459419</dd><dt>3</dt><dd>509.293781755916</dd><dt>4</dt><dd>422.148624912188</dd><dt>5</dt><dd>477.353629448285</dd><dt>6</dt><dd>377.604773040544</dd><dt>7</dt><dd>280.9477215585</dd><dt>8</dt><dd>482.279134114129</dd><dt>9</dt><dd>425.729427612444</dd><dt>10</dt><dd>512.336840071169</dd><dt>11</dt><dd>460.29994463333</dd><dt>12</dt><dd>431.453206962702</dd></dl>\n"
      ],
      "text/latex": [
       "\\begin{description*}\n",
       "\\item[1] 347.004156237713\n",
       "\\item[2] 359.547952459419\n",
       "\\item[3] 509.293781755916\n",
       "\\item[4] 422.148624912188\n",
       "\\item[5] 477.353629448285\n",
       "\\item[6] 377.604773040544\n",
       "\\item[7] 280.9477215585\n",
       "\\item[8] 482.279134114129\n",
       "\\item[9] 425.729427612444\n",
       "\\item[10] 512.336840071169\n",
       "\\item[11] 460.29994463333\n",
       "\\item[12] 431.453206962702\n",
       "\\end{description*}\n"
      ],
      "text/markdown": [
       "1\n",
       ":   347.0041562377132\n",
       ":   359.5479524594193\n",
       ":   509.2937817559164\n",
       ":   422.1486249121885\n",
       ":   477.3536294482856\n",
       ":   377.6047730405447\n",
       ":   280.94772155858\n",
       ":   482.2791341141299\n",
       ":   425.72942761244410\n",
       ":   512.33684007116911\n",
       ":   460.2999446333312\n",
       ":   431.453206962702\n",
       "\n"
      ],
      "text/plain": [
       "       1        2        3        4        5        6        7        8 \n",
       "347.0042 359.5480 509.2938 422.1486 477.3536 377.6048 280.9477 482.2791 \n",
       "       9       10       11       12 \n",
       "425.7294 512.3368 460.2999 431.4532 "
      ]
     },
     "metadata": {},
     "output_type": "display_data"
    },
    {
     "data": {
      "text/html": [
       "<style>\n",
       ".dl-inline {width: auto; margin:0; padding: 0}\n",
       ".dl-inline>dt, .dl-inline>dd {float: none; width: auto; display: inline-block}\n",
       ".dl-inline>dt::after {content: \":\\0020\"; padding-right: .5ex}\n",
       ".dl-inline>dt:not(:first-of-type) {padding-left: .5ex}\n",
       "</style><dl class=dl-inline><dt>1</dt><dd>333.173978450004</dd><dt>2</dt><dd>394.134345352125</dd><dt>3</dt><dd>497.439193313082</dd><dt>4</dt><dd>405.438747041833</dd><dt>5</dt><dd>486.3309218939</dd><dt>6</dt><dd>371.427408923815</dd><dt>7</dt><dd>256.087104722772</dd><dt>8</dt><dd>505.021260474748</dd><dt>9</dt><dd>416.21602843389</dd><dt>10</dt><dd>522.792590909669</dd><dt>11</dt><dd>413.653544448206</dd><dt>12</dt><dd>458.014008778558</dd></dl>\n"
      ],
      "text/latex": [
       "\\begin{description*}\n",
       "\\item[1] 333.173978450004\n",
       "\\item[2] 394.134345352125\n",
       "\\item[3] 497.439193313082\n",
       "\\item[4] 405.438747041833\n",
       "\\item[5] 486.3309218939\n",
       "\\item[6] 371.427408923815\n",
       "\\item[7] 256.087104722772\n",
       "\\item[8] 505.021260474748\n",
       "\\item[9] 416.21602843389\n",
       "\\item[10] 522.792590909669\n",
       "\\item[11] 413.653544448206\n",
       "\\item[12] 458.014008778558\n",
       "\\end{description*}\n"
      ],
      "text/markdown": [
       "1\n",
       ":   333.1739784500042\n",
       ":   394.1343453521253\n",
       ":   497.4391933130824\n",
       ":   405.4387470418335\n",
       ":   486.33092189396\n",
       ":   371.4274089238157\n",
       ":   256.0871047227728\n",
       ":   505.0212604747489\n",
       ":   416.2160284338910\n",
       ":   522.79259090966911\n",
       ":   413.65354444820612\n",
       ":   458.014008778558\n",
       "\n"
      ],
      "text/plain": [
       "       1        2        3        4        5        6        7        8 \n",
       "333.1740 394.1343 497.4392 405.4387 486.3309 371.4274 256.0871 505.0213 \n",
       "       9       10       11       12 \n",
       "416.2160 522.7926 413.6535 458.0140 "
      ]
     },
     "metadata": {},
     "output_type": "display_data"
    },
    {
     "data": {
      "text/html": [
       "<table class=\"dataframe\">\n",
       "<caption>A matrix: 6 × 12 of type dbl</caption>\n",
       "<thead>\n",
       "\t<tr><th></th><th scope=col>1</th><th scope=col>2</th><th scope=col>3</th><th scope=col>4</th><th scope=col>5</th><th scope=col>6</th><th scope=col>7</th><th scope=col>8</th><th scope=col>9</th><th scope=col>10</th><th scope=col>11</th><th scope=col>12</th></tr>\n",
       "</thead>\n",
       "<tbody>\n",
       "\t<tr><th scope=row>ENST00000371588.9</th><td>810.605</td><td>823.192</td><td>828.929</td><td>798.110</td><td>857.396</td><td>844.392</td><td>811.468</td><td>822.563</td><td>828.853</td><td>800.025</td><td>856.969</td><td>845.507</td></tr>\n",
       "\t<tr><th scope=row>ENST00000466152.5</th><td>830.850</td><td>843.832</td><td>849.883</td><td>817.910</td><td>879.364</td><td>865.996</td><td>831.749</td><td>843.222</td><td>849.781</td><td>819.866</td><td>878.974</td><td>867.145</td></tr>\n",
       "\t<tr><th scope=row>ENST00000371582.8</th><td>900.568</td><td>910.844</td><td>915.574</td><td>890.470</td><td>938.476</td><td>928.410</td><td>902.076</td><td>911.293</td><td>915.835</td><td>891.752</td><td>938.583</td><td>929.721</td></tr>\n",
       "\t<tr><th scope=row>ENST00000494752.1</th><td>535.976</td><td>588.000</td><td>588.000</td><td>588.000</td><td>588.000</td><td>588.000</td><td>588.000</td><td>588.000</td><td>588.000</td><td>588.000</td><td>588.000</td><td>588.000</td></tr>\n",
       "\t<tr><th scope=row>ENST00000371584.8</th><td>840.123</td><td>847.041</td><td>849.508</td><td>832.057</td><td>864.827</td><td>862.387</td><td>841.396</td><td>847.268</td><td>849.375</td><td>832.737</td><td>864.774</td><td>863.251</td></tr>\n",
       "\t<tr><th scope=row>ENST00000413082.1</th><td>471.000</td><td>471.000</td><td>471.000</td><td>471.000</td><td>471.000</td><td>471.000</td><td>471.000</td><td>471.000</td><td>471.000</td><td>473.613</td><td>471.000</td><td>471.000</td></tr>\n",
       "</tbody>\n",
       "</table>\n"
      ],
      "text/latex": [
       "A matrix: 6 × 12 of type dbl\n",
       "\\begin{tabular}{r|llllllllllll}\n",
       "  & 1 & 2 & 3 & 4 & 5 & 6 & 7 & 8 & 9 & 10 & 11 & 12\\\\\n",
       "\\hline\n",
       "\tENST00000371588.9 & 810.605 & 823.192 & 828.929 & 798.110 & 857.396 & 844.392 & 811.468 & 822.563 & 828.853 & 800.025 & 856.969 & 845.507\\\\\n",
       "\tENST00000466152.5 & 830.850 & 843.832 & 849.883 & 817.910 & 879.364 & 865.996 & 831.749 & 843.222 & 849.781 & 819.866 & 878.974 & 867.145\\\\\n",
       "\tENST00000371582.8 & 900.568 & 910.844 & 915.574 & 890.470 & 938.476 & 928.410 & 902.076 & 911.293 & 915.835 & 891.752 & 938.583 & 929.721\\\\\n",
       "\tENST00000494752.1 & 535.976 & 588.000 & 588.000 & 588.000 & 588.000 & 588.000 & 588.000 & 588.000 & 588.000 & 588.000 & 588.000 & 588.000\\\\\n",
       "\tENST00000371584.8 & 840.123 & 847.041 & 849.508 & 832.057 & 864.827 & 862.387 & 841.396 & 847.268 & 849.375 & 832.737 & 864.774 & 863.251\\\\\n",
       "\tENST00000413082.1 & 471.000 & 471.000 & 471.000 & 471.000 & 471.000 & 471.000 & 471.000 & 471.000 & 471.000 & 473.613 & 471.000 & 471.000\\\\\n",
       "\\end{tabular}\n"
      ],
      "text/markdown": [
       "\n",
       "A matrix: 6 × 12 of type dbl\n",
       "\n",
       "| <!--/--> | 1 | 2 | 3 | 4 | 5 | 6 | 7 | 8 | 9 | 10 | 11 | 12 |\n",
       "|---|---|---|---|---|---|---|---|---|---|---|---|---|\n",
       "| ENST00000371588.9 | 810.605 | 823.192 | 828.929 | 798.110 | 857.396 | 844.392 | 811.468 | 822.563 | 828.853 | 800.025 | 856.969 | 845.507 |\n",
       "| ENST00000466152.5 | 830.850 | 843.832 | 849.883 | 817.910 | 879.364 | 865.996 | 831.749 | 843.222 | 849.781 | 819.866 | 878.974 | 867.145 |\n",
       "| ENST00000371582.8 | 900.568 | 910.844 | 915.574 | 890.470 | 938.476 | 928.410 | 902.076 | 911.293 | 915.835 | 891.752 | 938.583 | 929.721 |\n",
       "| ENST00000494752.1 | 535.976 | 588.000 | 588.000 | 588.000 | 588.000 | 588.000 | 588.000 | 588.000 | 588.000 | 588.000 | 588.000 | 588.000 |\n",
       "| ENST00000371584.8 | 840.123 | 847.041 | 849.508 | 832.057 | 864.827 | 862.387 | 841.396 | 847.268 | 849.375 | 832.737 | 864.774 | 863.251 |\n",
       "| ENST00000413082.1 | 471.000 | 471.000 | 471.000 | 471.000 | 471.000 | 471.000 | 471.000 | 471.000 | 471.000 | 473.613 | 471.000 | 471.000 |\n",
       "\n"
      ],
      "text/plain": [
       "                  1       2       3       4       5       6       7      \n",
       "ENST00000371588.9 810.605 823.192 828.929 798.110 857.396 844.392 811.468\n",
       "ENST00000466152.5 830.850 843.832 849.883 817.910 879.364 865.996 831.749\n",
       "ENST00000371582.8 900.568 910.844 915.574 890.470 938.476 928.410 902.076\n",
       "ENST00000494752.1 535.976 588.000 588.000 588.000 588.000 588.000 588.000\n",
       "ENST00000371584.8 840.123 847.041 849.508 832.057 864.827 862.387 841.396\n",
       "ENST00000413082.1 471.000 471.000 471.000 471.000 471.000 471.000 471.000\n",
       "                  8       9       10      11      12     \n",
       "ENST00000371588.9 822.563 828.853 800.025 856.969 845.507\n",
       "ENST00000466152.5 843.222 849.781 819.866 878.974 867.145\n",
       "ENST00000371582.8 911.293 915.835 891.752 938.583 929.721\n",
       "ENST00000494752.1 588.000 588.000 588.000 588.000 588.000\n",
       "ENST00000371584.8 847.268 849.375 832.737 864.774 863.251\n",
       "ENST00000413082.1 471.000 471.000 473.613 471.000 471.000"
      ]
     },
     "metadata": {},
     "output_type": "display_data"
    }
   ],
   "source": [
    "rDf <- rowData(txi)\n",
    "ids <- which(unlist(rDf$gene_id)==\"ENSG00000000419.12\")\n",
    "# table(unlist(rDf$gene_id))\n",
    "rDf[ids, ]\n",
    "colSums(assays(txi)[[\"counts\"]][ids,])\n",
    "colSums(assays(txi)[[\"infRep1\"]][ids,])\n",
    "assays(txi)[[\"length\"]][ids,]"
   ]
  },
  {
   "cell_type": "code",
   "execution_count": 45,
   "id": "f3549d0d",
   "metadata": {},
   "outputs": [
    {
     "data": {
      "text/html": [
       "<style>\n",
       ".dl-inline {width: auto; margin:0; padding: 0}\n",
       ".dl-inline>dt, .dl-inline>dd {float: none; width: auto; display: inline-block}\n",
       ".dl-inline>dt::after {content: \":\\0020\"; padding-right: .5ex}\n",
       ".dl-inline>dt:not(:first-of-type) {padding-left: .5ex}\n",
       "</style><dl class=dl-inline><dt>1</dt><dd>347.197037865198</dd><dt>2</dt><dd>360.246905791556</dd><dt>3</dt><dd>509.229540978149</dd><dt>4</dt><dd>418.774759871228</dd><dt>5</dt><dd>477.768565059675</dd><dt>6</dt><dd>379.467225283185</dd><dt>7</dt><dd>280.4394869887</dd><dt>8</dt><dd>483.356929309228</dd><dt>9</dt><dd>426.841417335548</dd><dt>10</dt><dd>511.275996058861</dd><dt>11</dt><dd>460.350182725344</dd><dt>12</dt><dd>429.922836312959</dd></dl>\n"
      ],
      "text/latex": [
       "\\begin{description*}\n",
       "\\item[1] 347.197037865198\n",
       "\\item[2] 360.246905791556\n",
       "\\item[3] 509.229540978149\n",
       "\\item[4] 418.774759871228\n",
       "\\item[5] 477.768565059675\n",
       "\\item[6] 379.467225283185\n",
       "\\item[7] 280.4394869887\n",
       "\\item[8] 483.356929309228\n",
       "\\item[9] 426.841417335548\n",
       "\\item[10] 511.275996058861\n",
       "\\item[11] 460.350182725344\n",
       "\\item[12] 429.922836312959\n",
       "\\end{description*}\n"
      ],
      "text/markdown": [
       "1\n",
       ":   347.1970378651982\n",
       ":   360.2469057915563\n",
       ":   509.2295409781494\n",
       ":   418.7747598712285\n",
       ":   477.7685650596756\n",
       ":   379.4672252831857\n",
       ":   280.43948698878\n",
       ":   483.3569293092289\n",
       ":   426.84141733554810\n",
       ":   511.27599605886111\n",
       ":   460.35018272534412\n",
       ":   429.922836312959\n",
       "\n"
      ],
      "text/plain": [
       "       1        2        3        4        5        6        7        8 \n",
       "347.1970 360.2469 509.2295 418.7748 477.7686 379.4672 280.4395 483.3569 \n",
       "       9       10       11       12 \n",
       "426.8414 511.2760 460.3502 429.9228 "
      ]
     },
     "metadata": {},
     "output_type": "display_data"
    },
    {
     "data": {
      "text/html": [
       "<style>\n",
       ".dl-inline {width: auto; margin:0; padding: 0}\n",
       ".dl-inline>dt, .dl-inline>dd {float: none; width: auto; display: inline-block}\n",
       ".dl-inline>dt::after {content: \":\\0020\"; padding-right: .5ex}\n",
       ".dl-inline>dt:not(:first-of-type) {padding-left: .5ex}\n",
       "</style><dl class=dl-inline><dt>1</dt><dd>333.173978450004</dd><dt>2</dt><dd>394.134345352125</dd><dt>3</dt><dd>497.439193313082</dd><dt>4</dt><dd>405.438747041833</dd><dt>5</dt><dd>486.3309218939</dd><dt>6</dt><dd>371.427408923815</dd><dt>7</dt><dd>256.087104722772</dd><dt>8</dt><dd>505.021260474748</dd><dt>9</dt><dd>416.21602843389</dd><dt>10</dt><dd>522.792590909669</dd><dt>11</dt><dd>413.653544448206</dd><dt>12</dt><dd>458.014008778558</dd></dl>\n"
      ],
      "text/latex": [
       "\\begin{description*}\n",
       "\\item[1] 333.173978450004\n",
       "\\item[2] 394.134345352125\n",
       "\\item[3] 497.439193313082\n",
       "\\item[4] 405.438747041833\n",
       "\\item[5] 486.3309218939\n",
       "\\item[6] 371.427408923815\n",
       "\\item[7] 256.087104722772\n",
       "\\item[8] 505.021260474748\n",
       "\\item[9] 416.21602843389\n",
       "\\item[10] 522.792590909669\n",
       "\\item[11] 413.653544448206\n",
       "\\item[12] 458.014008778558\n",
       "\\end{description*}\n"
      ],
      "text/markdown": [
       "1\n",
       ":   333.1739784500042\n",
       ":   394.1343453521253\n",
       ":   497.4391933130824\n",
       ":   405.4387470418335\n",
       ":   486.33092189396\n",
       ":   371.4274089238157\n",
       ":   256.0871047227728\n",
       ":   505.0212604747489\n",
       ":   416.2160284338910\n",
       ":   522.79259090966911\n",
       ":   413.65354444820612\n",
       ":   458.014008778558\n",
       "\n"
      ],
      "text/plain": [
       "       1        2        3        4        5        6        7        8 \n",
       "333.1740 394.1343 497.4392 405.4387 486.3309 371.4274 256.0871 505.0213 \n",
       "       9       10       11       12 \n",
       "416.2160 522.7926 413.6535 458.0140 "
      ]
     },
     "metadata": {},
     "output_type": "display_data"
    }
   ],
   "source": [
    "# txi\n",
    "# assays(txi)[[\"infRep1\"]]\n",
    "assays(gse)[[\"counts\"]][3,]\n",
    "assays(gse)[[\"infRep1\"]][3,]"
   ]
  },
  {
   "cell_type": "code",
   "execution_count": 48,
   "id": "0160c875",
   "metadata": {},
   "outputs": [
    {
     "data": {
      "text/html": [
       "<style>\n",
       ".list-inline {list-style: none; margin:0; padding: 0}\n",
       ".list-inline>li {display: inline-block}\n",
       ".list-inline>li:not(:last-child)::after {content: \"\\00b7\"; padding: 0 .5ex}\n",
       "</style>\n",
       "<ol class=list-inline><li>14609</li><li>12</li></ol>\n"
      ],
      "text/latex": [
       "\\begin{enumerate*}\n",
       "\\item 14609\n",
       "\\item 12\n",
       "\\end{enumerate*}\n"
      ],
      "text/markdown": [
       "1. 14609\n",
       "2. 12\n",
       "\n",
       "\n"
      ],
      "text/plain": [
       "[1] 14609    12"
      ]
     },
     "metadata": {},
     "output_type": "display_data"
    },
    {
     "data": {
      "text/html": [
       "116194"
      ],
      "text/latex": [
       "116194"
      ],
      "text/markdown": [
       "116194"
      ],
      "text/plain": [
       "[1] 116194"
      ]
     },
     "metadata": {},
     "output_type": "display_data"
    }
   ],
   "source": [
    "dim(txi[[\"counts\"]])\n",
    "length(unique(txDf$gene))"
   ]
  },
  {
   "cell_type": "code",
   "execution_count": 35,
   "id": "5e9dda48",
   "metadata": {},
   "outputs": [],
   "source": [
    "summarizeToGene.list <- function(object,\n",
    "                                 tx2gene,\n",
    "                                 varReduce=FALSE,\n",
    "                                 ignoreTxVersion=FALSE,\n",
    "                                 ignoreAfterBar=FALSE,\n",
    "                                 countsFromAbundance=c(\"no\",\"scaledTPM\",\"lengthScaledTPM\")\n",
    "                                 ) {\n",
    "\n",
    "  countsFromAbundance <- match.arg(countsFromAbundance, c(\"no\",\"scaledTPM\",\"lengthScaledTPM\"))\n",
    "\n",
    "  if (!is.null(object$countsFromAbundance)) {\n",
    "    if (countsFromAbundance == \"no\" & object$countsFromAbundance != \"no\") {\n",
    "      warning(paste0(\"the incoming counts have countsFromAbundance = '\",\n",
    "                     object$countsFromAbundance,\"',\n",
    "  and so the original counts are no longer accessible.\n",
    "  to use countsFromAbundance='no', re-run objectmport() with this setting.\n",
    "  over-riding 'countsFromAbundance' to set it to: \",\n",
    "  object$countsFromAbundance))\n",
    "      countsFromAbundance <- object$countsFromAbundance\n",
    "    }\n",
    "  }\n",
    "  \n",
    "  # unpack matrices from list for cleaner code\n",
    "  abundanceMatTx <- object$abundance\n",
    "  countsMatTx <- object$counts\n",
    "  lengthMatTx <- object$length\n",
    "  \n",
    "  txId <- rownames(abundanceMatTx)\n",
    "  stopifnot(all(txId == rownames(countsMatTx)))\n",
    "  stopifnot(all(txId == rownames(lengthMatTx)))\n",
    "  \n",
    "  # need to associate tx to genes\n",
    "  # potentially remove unassociated transcript rows and warn user\n",
    "  if (!is.null(tx2gene)) {\n",
    "\n",
    "    # code to strip dots or bars and all remaining chars from the rownames of matrices\n",
    "    if (ignoreTxVersion) {\n",
    "      txId <- sub(\"\\\\..*\", \"\", txId)\n",
    "    } else if (ignoreAfterBar) {\n",
    "      txId <- sub(\"\\\\|.*\", \"\", txId)\n",
    "    }\n",
    "    \n",
    "    tx2gene <- cleanTx2Gene(tx2gene)    \n",
    "    \n",
    "    # if none of the rownames of the matrices (txId) are\n",
    "    # in the tx2gene table something is wrong\n",
    "    if (!any(txId %in% tx2gene$tx)) {\n",
    "      txFromFile <- paste0(\"Example IDs (file): [\", paste(head(txId,3),collapse=\", \"),\", ...]\")\n",
    "      txFromTable <- paste0(\"Example IDs (tx2gene): [\", paste(head(tx2gene$tx,3),collapse=\", \"),\", ...]\")\n",
    "      stop(paste0(\"\n",
    "  None of the transcripts in the quantification files are present\n",
    "  in the first column of tx2gene. Check to see that you are using\n",
    "  the same annotation for both.\\n\\n\",txFromFile,\"\\n\\n\",txFromTable,\n",
    "  \"\\n\\n  This can sometimes (not always) be fixed using 'ignoreTxVersion' or 'ignoreAfterBar'.\\n\\n\"))\n",
    "    }\n",
    "\n",
    "    # remove transcripts (and genes) not in the rownames of matrices\n",
    "    tx2gene <- tx2gene[tx2gene$tx %in% txId,]\n",
    "    tx2gene$gene <- droplevels(tx2gene$gene)\n",
    "    ntxmissing <- sum(!txId %in% tx2gene$tx)\n",
    "    if (ntxmissing > 0) message(\"transcripts missing from tx2gene: \", ntxmissing)\n",
    "\n",
    "    # subset to transcripts in the tx2gene table\n",
    "    sub.idx <- txId %in% tx2gene$tx\n",
    "    abundanceMatTx <- abundanceMatTx[sub.idx,,drop=FALSE]\n",
    "    countsMatTx <- countsMatTx[sub.idx,,drop=FALSE]\n",
    "    lengthMatTx <- lengthMatTx[sub.idx,,drop=FALSE]\n",
    "    txId <- txId[sub.idx]\n",
    "\n",
    "    # now create a vector of geneId which aligns to the matrices\n",
    "    geneId <- tx2gene$gene[match(txId, tx2gene$tx)]\n",
    "  }\n",
    "  \n",
    "  # summarize abundance and counts\n",
    "  message(\"summarizing abundance\")\n",
    "  abundanceMat <- rowsum(abundanceMatTx, geneId)\n",
    "  message(\"summarizing counts\")\n",
    "  countsMat <- rowsum(countsMatTx, geneId)\n",
    "  message(\"summarizing length\")\n",
    "\n",
    "  if (\"infReps\" %in% names(object)) {\n",
    "    infReps <- lapply(object$infReps, function(x) rowsum(x[sub.idx,,drop=FALSE], geneId))\n",
    "    message(\"summarizing inferential replicates\")\n",
    "  }\n",
    "  \n",
    "  # the next lines calculate a weighted average of transcript length, \n",
    "  # weighting by transcript abundance.\n",
    "  # this can be used as an offset / normalization factor which removes length bias\n",
    "  # for the differential analysis of estimated counts summarized at the gene level.\n",
    "  weightedLength <- rowsum(abundanceMatTx * lengthMatTx, geneId)\n",
    "  lengthMat <- weightedLength / abundanceMat   \n",
    "\n",
    "  # pre-calculate a simple average transcript length\n",
    "  # for the case the abundances are all zero for all samples.\n",
    "  # first, average the tx lengths over samples\n",
    "  aveLengthSamp <- rowMeans(lengthMatTx)\n",
    "  # then simple average of lengths within genes (not weighted by abundance)\n",
    "  aveLengthSampGene <- tapply(aveLengthSamp, geneId, mean)\n",
    "\n",
    "  stopifnot(all(names(aveLengthSampGene) == rownames(lengthMat)))\n",
    "  \n",
    "  # check for NaN and if possible replace these values with geometric mean of other samples.\n",
    "  # (the geometic mean here implies an offset of 0 on the log scale)\n",
    "  # NaN come from samples which have abundance of 0 for all isoforms of a gene, and \n",
    "  # so we cannot calculate the weighted average. our best guess is to use the average\n",
    "  # transcript length from the other samples.\n",
    "  lengthMat <- replaceMissingLength(lengthMat, aveLengthSampGene)\n",
    "\n",
    "  if (countsFromAbundance != \"no\") {\n",
    "    countsMat <- makeCountsFromAbundance(countsMat,\n",
    "                                         abundanceMat,\n",
    "                                         lengthMat,\n",
    "                                         countsFromAbundance)\n",
    "  }\n",
    "\n",
    "\n",
    "  if (\"infReps\" %in% names(object)) {\n",
    "    if (varReduce) {\n",
    "      vars <- sapply(infReps, rowVars)\n",
    "      out <- list(abundance=abundanceMat,\n",
    "                  counts=countsMat, variance=vars,\n",
    "                  length=lengthMat,\n",
    "                  countsFromAbundance=countsFromAbundance)\n",
    "    } else {\n",
    "      out <- list(abundance=abundanceMat,\n",
    "                  counts=countsMat, infReps=infReps,\n",
    "                  length=lengthMat,\n",
    "                  countsFromAbundance=countsFromAbundance)\n",
    "    }\n",
    "  } else {\n",
    "    out <- list(abundance=abundanceMat,\n",
    "                counts=countsMat,\n",
    "                length=lengthMat,\n",
    "                countsFromAbundance=countsFromAbundance)\n",
    "  }\n",
    "  \n",
    "  return(out)\n",
    "}\n",
    "\n",
    "                      cleanTx2Gene <- function(tx2gene) {\n",
    "  colnames(tx2gene) <- c(\"tx\",\"gene\")\n",
    "  if (any(duplicated(tx2gene$tx))) {\n",
    "    message(\"removing duplicated transcript rows from tx2gene\")\n",
    "    tx2gene <- tx2gene[!duplicated(tx2gene$tx),]\n",
    "  }\n",
    "  tx2gene$gene <- factor(tx2gene$gene)\n",
    "  tx2gene$tx <- factor(tx2gene$tx)\n",
    "  tx2gene\n",
    "}\n",
    "\n",
    "cleanTx2Gene <- function(tx2gene) {\n",
    "  colnames(tx2gene) <- c(\"tx\",\"gene\")\n",
    "  if (any(duplicated(tx2gene$tx))) {\n",
    "    message(\"removing duplicated transcript rows from tx2gene\")\n",
    "    tx2gene <- tx2gene[!duplicated(tx2gene$tx),]\n",
    "  }\n",
    "  tx2gene$gene <- factor(tx2gene$gene)\n",
    "  tx2gene$tx <- factor(tx2gene$tx)\n",
    "  tx2gene\n",
    "}\n"
   ]
  },
  {
   "cell_type": "code",
   "execution_count": 1,
   "id": "4e711654",
   "metadata": {},
   "outputs": [
    {
     "data": {
      "text/html": [
       "<table class=\"dataframe\">\n",
       "<caption>A matrix: 7 × 5 of type dbl</caption>\n",
       "<tbody>\n",
       "\t<tr><th scope=row>1</th><td>0.87552600</td><td>0.9778310</td><td>0.4960399</td><td>0.1004989</td><td>0.4016248</td></tr>\n",
       "\t<tr><th scope=row>3</th><td>1.36963795</td><td>1.2628045</td><td>1.9822154</td><td>1.1277403</td><td>1.4480252</td></tr>\n",
       "\t<tr><th scope=row>4</th><td>0.61070889</td><td>0.2080311</td><td>1.3444102</td><td>0.8371511</td><td>0.9096345</td></tr>\n",
       "\t<tr><th scope=row>5</th><td>1.30829859</td><td>2.1519975</td><td>1.4206122</td><td>0.5605291</td><td>2.1411940</td></tr>\n",
       "\t<tr><th scope=row>6</th><td>4.04359137</td><td>2.3784320</td><td>2.4863981</td><td>3.1901702</td><td>3.3124241</td></tr>\n",
       "\t<tr><th scope=row>7</th><td>1.40315625</td><td>1.3764747</td><td>0.9432995</td><td>0.9401372</td><td>1.5625952</td></tr>\n",
       "\t<tr><th scope=row>8</th><td>0.06906135</td><td>1.4107848</td><td>0.8286996</td><td>0.7271932</td><td>1.7707161</td></tr>\n",
       "</tbody>\n",
       "</table>\n"
      ],
      "text/latex": [
       "A matrix: 7 × 5 of type dbl\n",
       "\\begin{tabular}{r|lllll}\n",
       "\t1 & 0.87552600 & 0.9778310 & 0.4960399 & 0.1004989 & 0.4016248\\\\\n",
       "\t3 & 1.36963795 & 1.2628045 & 1.9822154 & 1.1277403 & 1.4480252\\\\\n",
       "\t4 & 0.61070889 & 0.2080311 & 1.3444102 & 0.8371511 & 0.9096345\\\\\n",
       "\t5 & 1.30829859 & 2.1519975 & 1.4206122 & 0.5605291 & 2.1411940\\\\\n",
       "\t6 & 4.04359137 & 2.3784320 & 2.4863981 & 3.1901702 & 3.3124241\\\\\n",
       "\t7 & 1.40315625 & 1.3764747 & 0.9432995 & 0.9401372 & 1.5625952\\\\\n",
       "\t8 & 0.06906135 & 1.4107848 & 0.8286996 & 0.7271932 & 1.7707161\\\\\n",
       "\\end{tabular}\n"
      ],
      "text/markdown": [
       "\n",
       "A matrix: 7 × 5 of type dbl\n",
       "\n",
       "| 1 | 0.87552600 | 0.9778310 | 0.4960399 | 0.1004989 | 0.4016248 |\n",
       "| 3 | 1.36963795 | 1.2628045 | 1.9822154 | 1.1277403 | 1.4480252 |\n",
       "| 4 | 0.61070889 | 0.2080311 | 1.3444102 | 0.8371511 | 0.9096345 |\n",
       "| 5 | 1.30829859 | 2.1519975 | 1.4206122 | 0.5605291 | 2.1411940 |\n",
       "| 6 | 4.04359137 | 2.3784320 | 2.4863981 | 3.1901702 | 3.3124241 |\n",
       "| 7 | 1.40315625 | 1.3764747 | 0.9432995 | 0.9401372 | 1.5625952 |\n",
       "| 8 | 0.06906135 | 1.4107848 | 0.8286996 | 0.7271932 | 1.7707161 |\n",
       "\n"
      ],
      "text/plain": [
       "  [,1]       [,2]      [,3]      [,4]      [,5]     \n",
       "1 0.87552600 0.9778310 0.4960399 0.1004989 0.4016248\n",
       "3 1.36963795 1.2628045 1.9822154 1.1277403 1.4480252\n",
       "4 0.61070889 0.2080311 1.3444102 0.8371511 0.9096345\n",
       "5 1.30829859 2.1519975 1.4206122 0.5605291 2.1411940\n",
       "6 4.04359137 2.3784320 2.4863981 3.1901702 3.3124241\n",
       "7 1.40315625 1.3764747 0.9432995 0.9401372 1.5625952\n",
       "8 0.06906135 1.4107848 0.8286996 0.7271932 1.7707161"
      ]
     },
     "metadata": {},
     "output_type": "display_data"
    }
   ],
   "source": [
    "x <- matrix(runif(100), ncol = 5)\n",
    "group <- sample(1:8, 20, TRUE)\n",
    "(xsum <- rowsum(x, group))\n"
   ]
  },
  {
   "cell_type": "code",
   "execution_count": 15,
   "id": "772b7323",
   "metadata": {},
   "outputs": [
    {
     "data": {
      "text/html": [
       "<style>\n",
       ".list-inline {list-style: none; margin:0; padding: 0}\n",
       ".list-inline>li {display: inline-block}\n",
       ".list-inline>li:not(:last-child)::after {content: \"\\00b7\"; padding: 0 .5ex}\n",
       "</style>\n",
       "<ol class=list-inline><li>1</li><li>14</li><li>19</li><li>20</li></ol>\n"
      ],
      "text/latex": [
       "\\begin{enumerate*}\n",
       "\\item 1\n",
       "\\item 14\n",
       "\\item 19\n",
       "\\item 20\n",
       "\\end{enumerate*}\n"
      ],
      "text/markdown": [
       "1. 1\n",
       "2. 14\n",
       "3. 19\n",
       "4. 20\n",
       "\n",
       "\n"
      ],
      "text/plain": [
       "[1]  1 14 19 20"
      ]
     },
     "metadata": {},
     "output_type": "display_data"
    }
   ],
   "source": [
    "which(group==5)"
   ]
  },
  {
   "cell_type": "code",
   "execution_count": 16,
   "id": "beb2cb1d",
   "metadata": {},
   "outputs": [
    {
     "data": {
      "text/html": [
       "<style>\n",
       ".list-inline {list-style: none; margin:0; padding: 0}\n",
       ".list-inline>li {display: inline-block}\n",
       ".list-inline>li:not(:last-child)::after {content: \"\\00b7\"; padding: 0 .5ex}\n",
       "</style>\n",
       "<ol class=list-inline><li>1.30829859245569</li><li>2.15199753036723</li><li>1.42061220738105</li><li>0.560529147740453</li><li>2.14119395636953</li></ol>\n"
      ],
      "text/latex": [
       "\\begin{enumerate*}\n",
       "\\item 1.30829859245569\n",
       "\\item 2.15199753036723\n",
       "\\item 1.42061220738105\n",
       "\\item 0.560529147740453\n",
       "\\item 2.14119395636953\n",
       "\\end{enumerate*}\n"
      ],
      "text/markdown": [
       "1. 1.30829859245569\n",
       "2. 2.15199753036723\n",
       "3. 1.42061220738105\n",
       "4. 0.560529147740453\n",
       "5. 2.14119395636953\n",
       "\n",
       "\n"
      ],
      "text/plain": [
       "[1] 1.3082986 2.1519975 1.4206122 0.5605291 2.1411940"
      ]
     },
     "metadata": {},
     "output_type": "display_data"
    }
   ],
   "source": [
    "colSums(x[c(1,14,19,20),])"
   ]
  },
  {
   "cell_type": "code",
   "execution_count": 12,
   "id": "fc4e7fbe",
   "metadata": {},
   "outputs": [
    {
     "data": {
      "text/html": [
       "<table class=\"dataframe\">\n",
       "<caption>A matrix: 7 × 5 of type dbl</caption>\n",
       "<tbody>\n",
       "\t<tr><th scope=row>1</th><td>0.87552600</td><td>0.9778310</td><td>0.4960399</td><td>0.1004989</td><td>0.4016248</td></tr>\n",
       "\t<tr><th scope=row>3</th><td>1.36963795</td><td>1.2628045</td><td>1.9822154</td><td>1.1277403</td><td>1.4480252</td></tr>\n",
       "\t<tr><th scope=row>4</th><td>0.61070889</td><td>0.2080311</td><td>1.3444102</td><td>0.8371511</td><td>0.9096345</td></tr>\n",
       "\t<tr><th scope=row>5</th><td>1.30829859</td><td>2.1519975</td><td>1.4206122</td><td>0.5605291</td><td>2.1411940</td></tr>\n",
       "\t<tr><th scope=row>6</th><td>4.04359137</td><td>2.3784320</td><td>2.4863981</td><td>3.1901702</td><td>3.3124241</td></tr>\n",
       "\t<tr><th scope=row>7</th><td>1.40315625</td><td>1.3764747</td><td>0.9432995</td><td>0.9401372</td><td>1.5625952</td></tr>\n",
       "\t<tr><th scope=row>8</th><td>0.06906135</td><td>1.4107848</td><td>0.8286996</td><td>0.7271932</td><td>1.7707161</td></tr>\n",
       "</tbody>\n",
       "</table>\n"
      ],
      "text/latex": [
       "A matrix: 7 × 5 of type dbl\n",
       "\\begin{tabular}{r|lllll}\n",
       "\t1 & 0.87552600 & 0.9778310 & 0.4960399 & 0.1004989 & 0.4016248\\\\\n",
       "\t3 & 1.36963795 & 1.2628045 & 1.9822154 & 1.1277403 & 1.4480252\\\\\n",
       "\t4 & 0.61070889 & 0.2080311 & 1.3444102 & 0.8371511 & 0.9096345\\\\\n",
       "\t5 & 1.30829859 & 2.1519975 & 1.4206122 & 0.5605291 & 2.1411940\\\\\n",
       "\t6 & 4.04359137 & 2.3784320 & 2.4863981 & 3.1901702 & 3.3124241\\\\\n",
       "\t7 & 1.40315625 & 1.3764747 & 0.9432995 & 0.9401372 & 1.5625952\\\\\n",
       "\t8 & 0.06906135 & 1.4107848 & 0.8286996 & 0.7271932 & 1.7707161\\\\\n",
       "\\end{tabular}\n"
      ],
      "text/markdown": [
       "\n",
       "A matrix: 7 × 5 of type dbl\n",
       "\n",
       "| 1 | 0.87552600 | 0.9778310 | 0.4960399 | 0.1004989 | 0.4016248 |\n",
       "| 3 | 1.36963795 | 1.2628045 | 1.9822154 | 1.1277403 | 1.4480252 |\n",
       "| 4 | 0.61070889 | 0.2080311 | 1.3444102 | 0.8371511 | 0.9096345 |\n",
       "| 5 | 1.30829859 | 2.1519975 | 1.4206122 | 0.5605291 | 2.1411940 |\n",
       "| 6 | 4.04359137 | 2.3784320 | 2.4863981 | 3.1901702 | 3.3124241 |\n",
       "| 7 | 1.40315625 | 1.3764747 | 0.9432995 | 0.9401372 | 1.5625952 |\n",
       "| 8 | 0.06906135 | 1.4107848 | 0.8286996 | 0.7271932 | 1.7707161 |\n",
       "\n"
      ],
      "text/plain": [
       "  [,1]       [,2]      [,3]      [,4]      [,5]     \n",
       "1 0.87552600 0.9778310 0.4960399 0.1004989 0.4016248\n",
       "3 1.36963795 1.2628045 1.9822154 1.1277403 1.4480252\n",
       "4 0.61070889 0.2080311 1.3444102 0.8371511 0.9096345\n",
       "5 1.30829859 2.1519975 1.4206122 0.5605291 2.1411940\n",
       "6 4.04359137 2.3784320 2.4863981 3.1901702 3.3124241\n",
       "7 1.40315625 1.3764747 0.9432995 0.9401372 1.5625952\n",
       "8 0.06906135 1.4107848 0.8286996 0.7271932 1.7707161"
      ]
     },
     "metadata": {},
     "output_type": "display_data"
    }
   ],
   "source": [
    "rowsum(x, group)"
   ]
  },
  {
   "cell_type": "code",
   "execution_count": null,
   "id": "868741f0",
   "metadata": {},
   "outputs": [],
   "source": []
  }
 ],
 "metadata": {
  "kernelspec": {
   "display_name": "R",
   "language": "R",
   "name": "ir"
  },
  "language_info": {
   "codemirror_mode": "r",
   "file_extension": ".r",
   "mimetype": "text/x-r-source",
   "name": "R",
   "pygments_lexer": "r",
   "version": "4.3.0"
  }
 },
 "nbformat": 4,
 "nbformat_minor": 5
}
