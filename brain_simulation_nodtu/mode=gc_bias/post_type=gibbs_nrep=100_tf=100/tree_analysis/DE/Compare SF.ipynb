{
 "cells": [
  {
   "cell_type": "code",
   "execution_count": 1,
   "id": "ec702108",
   "metadata": {},
   "outputs": [],
   "source": [
    "setwd('/fs/cbcb-lab/rob/students/noor/Uncertainity/treeTerminusScripts')\n",
    "saveDir <- \"environment/brain_sim_nodtu/mode=gc_bias/post_type=gibbs_nrep=100_tf=100/comp_trees/DE\"\n",
    "load(file=file.path(saveDir, \"tseCons.RData\"))\n",
    "suppressPackageStartupMessages(source(\"tree_helper_function.R\"))\n",
    "suppressPackageStartupMessages(library(beaveR))"
   ]
  },
  {
   "cell_type": "code",
   "execution_count": 2,
   "id": "10fa7087",
   "metadata": {},
   "outputs": [],
   "source": [
    "tree <- rowTree(tse)\n",
    "l <- length(tree$tip)"
   ]
  },
  {
   "cell_type": "code",
   "execution_count": 3,
   "id": "198f7e73",
   "metadata": {},
   "outputs": [
    {
     "name": "stderr",
     "output_type": "stream",
     "text": [
      "useHub=TRUE: checking for TxDb via 'AnnotationHub'\n",
      "\n",
      "snapshotDate(): 2021-05-18\n",
      "\n",
      "found matching TxDb via 'AnnotationHub'\n",
      "\n",
      "loading from cache\n",
      "\n",
      "Loading required package: GenomicFeatures\n",
      "\n",
      "Loading required package: AnnotationDbi\n",
      "\n",
      "obtaining transcript-to-gene mapping from database\n",
      "\n",
      "generating gene ranges\n",
      "\n",
      "summarizing abundance\n",
      "\n",
      "summarizing counts\n",
      "\n",
      "summarizing length\n",
      "\n",
      "summarizing inferential replicates\n",
      "\n"
     ]
    }
   ],
   "source": [
    "txpSf <- computeSizeFactors(tse)\n",
    "txpSf <- metadata(txpSf)[[\"sf\"]]\n",
    "geneSf <- computeSizeFactors(tse, type = \"gene\")\n",
    "geneSf <- metadata(geneSf)[[\"sf\"]]"
   ]
  },
  {
   "cell_type": "code",
   "execution_count": 26,
   "id": "09652f72",
   "metadata": {},
   "outputs": [
    {
     "name": "stderr",
     "output_type": "stream",
     "text": [
      "loading existing TxDb created: 2023-02-03 16:37:13\n",
      "\n",
      "obtaining transcript-to-gene mapping from database\n",
      "\n",
      "loading existing gene ranges created: 2023-02-03 16:37:21\n",
      "\n",
      "summarizing abundance\n",
      "\n",
      "summarizing counts\n",
      "\n",
      "summarizing length\n",
      "\n",
      "summarizing inferential replicates\n",
      "\n"
     ]
    }
   ],
   "source": [
    "gse <- summarizeToGene(tse[1:l,])"
   ]
  },
  {
   "cell_type": "code",
   "execution_count": 4,
   "id": "15591ce2",
   "metadata": {},
   "outputs": [
    {
     "data": {
      "text/html": [
       "<table class=\"dataframe\">\n",
       "<caption>A matrix: 6 × 12 of type dbl</caption>\n",
       "<tbody>\n",
       "\t<tr><td>1.061357</td><td>1.058792</td><td>1.089445</td><td>1.068088</td><td>1.081509</td><td>1.079970</td><td>1.081856</td><td>1.069232</td><td>1.068193</td><td>1.055898</td><td>1.035655</td><td>1.058276</td></tr>\n",
       "\t<tr><td>1.061038</td><td>1.060825</td><td>1.090349</td><td>1.071358</td><td>1.076601</td><td>1.074738</td><td>1.086419</td><td>1.069260</td><td>1.070558</td><td>1.060018</td><td>1.035796</td><td>1.056605</td></tr>\n",
       "\t<tr><td>1.061215</td><td>1.055809</td><td>1.093435</td><td>1.068338</td><td>1.081280</td><td>1.078589</td><td>1.083503</td><td>1.071053</td><td>1.067617</td><td>1.058252</td><td>1.035619</td><td>1.057153</td></tr>\n",
       "\t<tr><td>1.064243</td><td>1.056570</td><td>1.089089</td><td>1.070159</td><td>1.079450</td><td>1.077500</td><td>1.080737</td><td>1.069639</td><td>1.066094</td><td>1.059219</td><td>1.037925</td><td>1.058461</td></tr>\n",
       "\t<tr><td>1.060263</td><td>1.062008</td><td>1.088108</td><td>1.070858</td><td>1.079198</td><td>1.076538</td><td>1.082660</td><td>1.065982</td><td>1.071550</td><td>1.057016</td><td>1.037113</td><td>1.058506</td></tr>\n",
       "\t<tr><td>1.061683</td><td>1.061159</td><td>1.090614</td><td>1.068914</td><td>1.081328</td><td>1.078889</td><td>1.079531</td><td>1.068017</td><td>1.068549</td><td>1.056580</td><td>1.038294</td><td>1.059078</td></tr>\n",
       "</tbody>\n",
       "</table>\n"
      ],
      "text/latex": [
       "A matrix: 6 × 12 of type dbl\n",
       "\\begin{tabular}{llllllllllll}\n",
       "\t 1.061357 & 1.058792 & 1.089445 & 1.068088 & 1.081509 & 1.079970 & 1.081856 & 1.069232 & 1.068193 & 1.055898 & 1.035655 & 1.058276\\\\\n",
       "\t 1.061038 & 1.060825 & 1.090349 & 1.071358 & 1.076601 & 1.074738 & 1.086419 & 1.069260 & 1.070558 & 1.060018 & 1.035796 & 1.056605\\\\\n",
       "\t 1.061215 & 1.055809 & 1.093435 & 1.068338 & 1.081280 & 1.078589 & 1.083503 & 1.071053 & 1.067617 & 1.058252 & 1.035619 & 1.057153\\\\\n",
       "\t 1.064243 & 1.056570 & 1.089089 & 1.070159 & 1.079450 & 1.077500 & 1.080737 & 1.069639 & 1.066094 & 1.059219 & 1.037925 & 1.058461\\\\\n",
       "\t 1.060263 & 1.062008 & 1.088108 & 1.070858 & 1.079198 & 1.076538 & 1.082660 & 1.065982 & 1.071550 & 1.057016 & 1.037113 & 1.058506\\\\\n",
       "\t 1.061683 & 1.061159 & 1.090614 & 1.068914 & 1.081328 & 1.078889 & 1.079531 & 1.068017 & 1.068549 & 1.056580 & 1.038294 & 1.059078\\\\\n",
       "\\end{tabular}\n"
      ],
      "text/markdown": [
       "\n",
       "A matrix: 6 × 12 of type dbl\n",
       "\n",
       "| 1.061357 | 1.058792 | 1.089445 | 1.068088 | 1.081509 | 1.079970 | 1.081856 | 1.069232 | 1.068193 | 1.055898 | 1.035655 | 1.058276 |\n",
       "| 1.061038 | 1.060825 | 1.090349 | 1.071358 | 1.076601 | 1.074738 | 1.086419 | 1.069260 | 1.070558 | 1.060018 | 1.035796 | 1.056605 |\n",
       "| 1.061215 | 1.055809 | 1.093435 | 1.068338 | 1.081280 | 1.078589 | 1.083503 | 1.071053 | 1.067617 | 1.058252 | 1.035619 | 1.057153 |\n",
       "| 1.064243 | 1.056570 | 1.089089 | 1.070159 | 1.079450 | 1.077500 | 1.080737 | 1.069639 | 1.066094 | 1.059219 | 1.037925 | 1.058461 |\n",
       "| 1.060263 | 1.062008 | 1.088108 | 1.070858 | 1.079198 | 1.076538 | 1.082660 | 1.065982 | 1.071550 | 1.057016 | 1.037113 | 1.058506 |\n",
       "| 1.061683 | 1.061159 | 1.090614 | 1.068914 | 1.081328 | 1.078889 | 1.079531 | 1.068017 | 1.068549 | 1.056580 | 1.038294 | 1.059078 |\n",
       "\n"
      ],
      "text/plain": [
       "     [,1]     [,2]     [,3]     [,4]     [,5]     [,6]     [,7]     [,8]    \n",
       "[1,] 1.061357 1.058792 1.089445 1.068088 1.081509 1.079970 1.081856 1.069232\n",
       "[2,] 1.061038 1.060825 1.090349 1.071358 1.076601 1.074738 1.086419 1.069260\n",
       "[3,] 1.061215 1.055809 1.093435 1.068338 1.081280 1.078589 1.083503 1.071053\n",
       "[4,] 1.064243 1.056570 1.089089 1.070159 1.079450 1.077500 1.080737 1.069639\n",
       "[5,] 1.060263 1.062008 1.088108 1.070858 1.079198 1.076538 1.082660 1.065982\n",
       "[6,] 1.061683 1.061159 1.090614 1.068914 1.081328 1.078889 1.079531 1.068017\n",
       "     [,9]     [,10]    [,11]    [,12]   \n",
       "[1,] 1.068193 1.055898 1.035655 1.058276\n",
       "[2,] 1.070558 1.060018 1.035796 1.056605\n",
       "[3,] 1.067617 1.058252 1.035619 1.057153\n",
       "[4,] 1.066094 1.059219 1.037925 1.058461\n",
       "[5,] 1.071550 1.057016 1.037113 1.058506\n",
       "[6,] 1.068549 1.056580 1.038294 1.059078"
      ]
     },
     "metadata": {},
     "output_type": "display_data"
    },
    {
     "data": {
      "text/html": [
       "<style>\n",
       ".list-inline {list-style: none; margin:0; padding: 0}\n",
       ".list-inline>li {display: inline-block}\n",
       ".list-inline>li:not(:last-child)::after {content: \"\\00b7\"; padding: 0 .5ex}\n",
       "</style>\n",
       "<ol class=list-inline><li>0.002</li><li>0.002</li><li>0.002</li><li>0.002</li><li>0.002</li><li>0.002</li><li>0.002</li><li>0.002</li><li>0.002</li><li>0.002</li><li>0.002</li><li>0.002</li></ol>\n"
      ],
      "text/latex": [
       "\\begin{enumerate*}\n",
       "\\item 0.002\n",
       "\\item 0.002\n",
       "\\item 0.002\n",
       "\\item 0.002\n",
       "\\item 0.002\n",
       "\\item 0.002\n",
       "\\item 0.002\n",
       "\\item 0.002\n",
       "\\item 0.002\n",
       "\\item 0.002\n",
       "\\item 0.002\n",
       "\\item 0.002\n",
       "\\end{enumerate*}\n"
      ],
      "text/markdown": [
       "1. 0.002\n",
       "2. 0.002\n",
       "3. 0.002\n",
       "4. 0.002\n",
       "5. 0.002\n",
       "6. 0.002\n",
       "7. 0.002\n",
       "8. 0.002\n",
       "9. 0.002\n",
       "10. 0.002\n",
       "11. 0.002\n",
       "12. 0.002\n",
       "\n",
       "\n"
      ],
      "text/plain": [
       " [1] 0.002 0.002 0.002 0.002 0.002 0.002 0.002 0.002 0.002 0.002 0.002 0.002"
      ]
     },
     "metadata": {},
     "output_type": "display_data"
    },
    {
     "data": {
      "text/html": [
       "<style>\n",
       ".list-inline {list-style: none; margin:0; padding: 0}\n",
       ".list-inline>li {display: inline-block}\n",
       ".list-inline>li:not(:last-child)::after {content: \"\\00b7\"; padding: 0 .5ex}\n",
       "</style>\n",
       "<ol class=list-inline><li>1.062</li><li>1.059</li><li>1.089</li><li>1.069</li><li>1.08</li><li>1.079</li><li>1.083</li><li>1.069</li><li>1.069</li><li>1.058</li><li>1.036</li><li>1.057</li></ol>\n"
      ],
      "text/latex": [
       "\\begin{enumerate*}\n",
       "\\item 1.062\n",
       "\\item 1.059\n",
       "\\item 1.089\n",
       "\\item 1.069\n",
       "\\item 1.08\n",
       "\\item 1.079\n",
       "\\item 1.083\n",
       "\\item 1.069\n",
       "\\item 1.069\n",
       "\\item 1.058\n",
       "\\item 1.036\n",
       "\\item 1.057\n",
       "\\end{enumerate*}\n"
      ],
      "text/markdown": [
       "1. 1.062\n",
       "2. 1.059\n",
       "3. 1.089\n",
       "4. 1.069\n",
       "5. 1.08\n",
       "6. 1.079\n",
       "7. 1.083\n",
       "8. 1.069\n",
       "9. 1.069\n",
       "10. 1.058\n",
       "11. 1.036\n",
       "12. 1.057\n",
       "\n",
       "\n"
      ],
      "text/plain": [
       " [1] 1.062 1.059 1.089 1.069 1.080 1.079 1.083 1.069 1.069 1.058 1.036 1.057"
      ]
     },
     "metadata": {},
     "output_type": "display_data"
    }
   ],
   "source": [
    "head(txpSf)\n",
    "round(matrixStats::colSds(txpSf),3)\n",
    "round(colMeans(txpSf),3)"
   ]
  },
  {
   "cell_type": "code",
   "execution_count": 5,
   "id": "b7f34937",
   "metadata": {},
   "outputs": [
    {
     "data": {
      "text/html": [
       "<table class=\"dataframe\">\n",
       "<caption>A matrix: 6 × 12 of type dbl</caption>\n",
       "<tbody>\n",
       "\t<tr><td>1.0002974</td><td>0.9974998</td><td>1.028293</td><td>1.006715</td><td>1.030797</td><td>1.021908</td><td>1.022671</td><td>1.008912</td><td>1.009508</td><td>0.9980879</td><td>0.9815208</td><td>1.003293</td></tr>\n",
       "\t<tr><td>0.9998755</td><td>1.0001648</td><td>1.030503</td><td>1.007665</td><td>1.027995</td><td>1.022486</td><td>1.024837</td><td>1.010945</td><td>1.009608</td><td>0.9982530</td><td>0.9816668</td><td>1.003027</td></tr>\n",
       "\t<tr><td>0.9995685</td><td>0.9968015</td><td>1.029075</td><td>1.006174</td><td>1.028791</td><td>1.022906</td><td>1.024271</td><td>1.010946</td><td>1.008738</td><td>0.9976935</td><td>0.9801276</td><td>1.001972</td></tr>\n",
       "\t<tr><td>1.0003836</td><td>0.9982278</td><td>1.028722</td><td>1.007049</td><td>1.029870</td><td>1.019133</td><td>1.021961</td><td>1.009640</td><td>1.009008</td><td>0.9978210</td><td>0.9833754</td><td>1.002528</td></tr>\n",
       "\t<tr><td>0.9984739</td><td>0.9984468</td><td>1.028058</td><td>1.007541</td><td>1.030257</td><td>1.022527</td><td>1.025599</td><td>1.010558</td><td>1.010368</td><td>0.9983992</td><td>0.9816788</td><td>1.002531</td></tr>\n",
       "\t<tr><td>1.0015917</td><td>1.0003767</td><td>1.027845</td><td>1.007971</td><td>1.032246</td><td>1.022804</td><td>1.023844</td><td>1.011168</td><td>1.010127</td><td>0.9955624</td><td>0.9825007</td><td>1.001840</td></tr>\n",
       "</tbody>\n",
       "</table>\n"
      ],
      "text/latex": [
       "A matrix: 6 × 12 of type dbl\n",
       "\\begin{tabular}{llllllllllll}\n",
       "\t 1.0002974 & 0.9974998 & 1.028293 & 1.006715 & 1.030797 & 1.021908 & 1.022671 & 1.008912 & 1.009508 & 0.9980879 & 0.9815208 & 1.003293\\\\\n",
       "\t 0.9998755 & 1.0001648 & 1.030503 & 1.007665 & 1.027995 & 1.022486 & 1.024837 & 1.010945 & 1.009608 & 0.9982530 & 0.9816668 & 1.003027\\\\\n",
       "\t 0.9995685 & 0.9968015 & 1.029075 & 1.006174 & 1.028791 & 1.022906 & 1.024271 & 1.010946 & 1.008738 & 0.9976935 & 0.9801276 & 1.001972\\\\\n",
       "\t 1.0003836 & 0.9982278 & 1.028722 & 1.007049 & 1.029870 & 1.019133 & 1.021961 & 1.009640 & 1.009008 & 0.9978210 & 0.9833754 & 1.002528\\\\\n",
       "\t 0.9984739 & 0.9984468 & 1.028058 & 1.007541 & 1.030257 & 1.022527 & 1.025599 & 1.010558 & 1.010368 & 0.9983992 & 0.9816788 & 1.002531\\\\\n",
       "\t 1.0015917 & 1.0003767 & 1.027845 & 1.007971 & 1.032246 & 1.022804 & 1.023844 & 1.011168 & 1.010127 & 0.9955624 & 0.9825007 & 1.001840\\\\\n",
       "\\end{tabular}\n"
      ],
      "text/markdown": [
       "\n",
       "A matrix: 6 × 12 of type dbl\n",
       "\n",
       "| 1.0002974 | 0.9974998 | 1.028293 | 1.006715 | 1.030797 | 1.021908 | 1.022671 | 1.008912 | 1.009508 | 0.9980879 | 0.9815208 | 1.003293 |\n",
       "| 0.9998755 | 1.0001648 | 1.030503 | 1.007665 | 1.027995 | 1.022486 | 1.024837 | 1.010945 | 1.009608 | 0.9982530 | 0.9816668 | 1.003027 |\n",
       "| 0.9995685 | 0.9968015 | 1.029075 | 1.006174 | 1.028791 | 1.022906 | 1.024271 | 1.010946 | 1.008738 | 0.9976935 | 0.9801276 | 1.001972 |\n",
       "| 1.0003836 | 0.9982278 | 1.028722 | 1.007049 | 1.029870 | 1.019133 | 1.021961 | 1.009640 | 1.009008 | 0.9978210 | 0.9833754 | 1.002528 |\n",
       "| 0.9984739 | 0.9984468 | 1.028058 | 1.007541 | 1.030257 | 1.022527 | 1.025599 | 1.010558 | 1.010368 | 0.9983992 | 0.9816788 | 1.002531 |\n",
       "| 1.0015917 | 1.0003767 | 1.027845 | 1.007971 | 1.032246 | 1.022804 | 1.023844 | 1.011168 | 1.010127 | 0.9955624 | 0.9825007 | 1.001840 |\n",
       "\n"
      ],
      "text/plain": [
       "     [,1]      [,2]      [,3]     [,4]     [,5]     [,6]     [,7]     [,8]    \n",
       "[1,] 1.0002974 0.9974998 1.028293 1.006715 1.030797 1.021908 1.022671 1.008912\n",
       "[2,] 0.9998755 1.0001648 1.030503 1.007665 1.027995 1.022486 1.024837 1.010945\n",
       "[3,] 0.9995685 0.9968015 1.029075 1.006174 1.028791 1.022906 1.024271 1.010946\n",
       "[4,] 1.0003836 0.9982278 1.028722 1.007049 1.029870 1.019133 1.021961 1.009640\n",
       "[5,] 0.9984739 0.9984468 1.028058 1.007541 1.030257 1.022527 1.025599 1.010558\n",
       "[6,] 1.0015917 1.0003767 1.027845 1.007971 1.032246 1.022804 1.023844 1.011168\n",
       "     [,9]     [,10]     [,11]     [,12]   \n",
       "[1,] 1.009508 0.9980879 0.9815208 1.003293\n",
       "[2,] 1.009608 0.9982530 0.9816668 1.003027\n",
       "[3,] 1.008738 0.9976935 0.9801276 1.001972\n",
       "[4,] 1.009008 0.9978210 0.9833754 1.002528\n",
       "[5,] 1.010368 0.9983992 0.9816788 1.002531\n",
       "[6,] 1.010127 0.9955624 0.9825007 1.001840"
      ]
     },
     "metadata": {},
     "output_type": "display_data"
    },
    {
     "data": {
      "text/html": [
       "<style>\n",
       ".list-inline {list-style: none; margin:0; padding: 0}\n",
       ".list-inline>li {display: inline-block}\n",
       ".list-inline>li:not(:last-child)::after {content: \"\\00b7\"; padding: 0 .5ex}\n",
       "</style>\n",
       "<ol class=list-inline><li>0.001</li><li>0.001</li><li>0.001</li><li>0.001</li><li>0.001</li><li>0.001</li><li>0.001</li><li>0.001</li><li>0.001</li><li>0.001</li><li>0.001</li><li>0.001</li></ol>\n"
      ],
      "text/latex": [
       "\\begin{enumerate*}\n",
       "\\item 0.001\n",
       "\\item 0.001\n",
       "\\item 0.001\n",
       "\\item 0.001\n",
       "\\item 0.001\n",
       "\\item 0.001\n",
       "\\item 0.001\n",
       "\\item 0.001\n",
       "\\item 0.001\n",
       "\\item 0.001\n",
       "\\item 0.001\n",
       "\\item 0.001\n",
       "\\end{enumerate*}\n"
      ],
      "text/markdown": [
       "1. 0.001\n",
       "2. 0.001\n",
       "3. 0.001\n",
       "4. 0.001\n",
       "5. 0.001\n",
       "6. 0.001\n",
       "7. 0.001\n",
       "8. 0.001\n",
       "9. 0.001\n",
       "10. 0.001\n",
       "11. 0.001\n",
       "12. 0.001\n",
       "\n",
       "\n"
      ],
      "text/plain": [
       " [1] 0.001 0.001 0.001 0.001 0.001 0.001 0.001 0.001 0.001 0.001 0.001 0.001"
      ]
     },
     "metadata": {},
     "output_type": "display_data"
    },
    {
     "data": {
      "text/html": [
       "<style>\n",
       ".list-inline {list-style: none; margin:0; padding: 0}\n",
       ".list-inline>li {display: inline-block}\n",
       ".list-inline>li:not(:last-child)::after {content: \"\\00b7\"; padding: 0 .5ex}\n",
       "</style>\n",
       "<ol class=list-inline><li>1.001</li><li>0.998</li><li>1.029</li><li>1.008</li><li>1.03</li><li>1.022</li><li>1.023</li><li>1.01</li><li>1.01</li><li>0.998</li><li>0.981</li><li>1.003</li></ol>\n"
      ],
      "text/latex": [
       "\\begin{enumerate*}\n",
       "\\item 1.001\n",
       "\\item 0.998\n",
       "\\item 1.029\n",
       "\\item 1.008\n",
       "\\item 1.03\n",
       "\\item 1.022\n",
       "\\item 1.023\n",
       "\\item 1.01\n",
       "\\item 1.01\n",
       "\\item 0.998\n",
       "\\item 0.981\n",
       "\\item 1.003\n",
       "\\end{enumerate*}\n"
      ],
      "text/markdown": [
       "1. 1.001\n",
       "2. 0.998\n",
       "3. 1.029\n",
       "4. 1.008\n",
       "5. 1.03\n",
       "6. 1.022\n",
       "7. 1.023\n",
       "8. 1.01\n",
       "9. 1.01\n",
       "10. 0.998\n",
       "11. 0.981\n",
       "12. 1.003\n",
       "\n",
       "\n"
      ],
      "text/plain": [
       " [1] 1.001 0.998 1.029 1.008 1.030 1.022 1.023 1.010 1.010 0.998 0.981 1.003"
      ]
     },
     "metadata": {},
     "output_type": "display_data"
    }
   ],
   "source": [
    "head(geneSf)\n",
    "round(matrixStats::colSds(geneSf),3)\n",
    "round(colMeans(geneSf),3)"
   ]
  },
  {
   "cell_type": "code",
   "execution_count": 9,
   "id": "8748c119",
   "metadata": {},
   "outputs": [
    {
     "name": "stderr",
     "output_type": "stream",
     "text": [
      "using counts and average transcript lengths from tximeta\n",
      "\n"
     ]
    }
   ],
   "source": [
    "suppressPackageStartupMessages(library(DESeq2))\n",
    "suppressWarnings(dds <- DESeqDataSet(tse[1:l,], ~1))"
   ]
  },
  {
   "cell_type": "code",
   "execution_count": 19,
   "id": "c48beb05",
   "metadata": {},
   "outputs": [],
   "source": [
    "sfTxpDes <- matrix(0, 100, 12)\n",
    "for(i in seq(100)) {\n",
    "    ir <- paste(\"infRep\",i, sep=\"\")\n",
    "    sfTxpDes[i,] <- estimateSizeFactorsForMatrix(assays(dds)[[ir]])\n",
    "}\n"
   ]
  },
  {
   "cell_type": "code",
   "execution_count": 23,
   "id": "0a601ab8",
   "metadata": {},
   "outputs": [
    {
     "data": {
      "text/html": [
       "<style>\n",
       ".list-inline {list-style: none; margin:0; padding: 0}\n",
       ".list-inline>li {display: inline-block}\n",
       ".list-inline>li:not(:last-child)::after {content: \"\\00b7\"; padding: 0 .5ex}\n",
       "</style>\n",
       "<ol class=list-inline><li>0.002</li><li>0.002</li><li>0.002</li><li>0.002</li><li>0.002</li><li>0.002</li><li>0.002</li><li>0.002</li><li>0.002</li><li>0.002</li><li>0.002</li><li>0.002</li></ol>\n"
      ],
      "text/latex": [
       "\\begin{enumerate*}\n",
       "\\item 0.002\n",
       "\\item 0.002\n",
       "\\item 0.002\n",
       "\\item 0.002\n",
       "\\item 0.002\n",
       "\\item 0.002\n",
       "\\item 0.002\n",
       "\\item 0.002\n",
       "\\item 0.002\n",
       "\\item 0.002\n",
       "\\item 0.002\n",
       "\\item 0.002\n",
       "\\end{enumerate*}\n"
      ],
      "text/markdown": [
       "1. 0.002\n",
       "2. 0.002\n",
       "3. 0.002\n",
       "4. 0.002\n",
       "5. 0.002\n",
       "6. 0.002\n",
       "7. 0.002\n",
       "8. 0.002\n",
       "9. 0.002\n",
       "10. 0.002\n",
       "11. 0.002\n",
       "12. 0.002\n",
       "\n",
       "\n"
      ],
      "text/plain": [
       " [1] 0.002 0.002 0.002 0.002 0.002 0.002 0.002 0.002 0.002 0.002 0.002 0.002"
      ]
     },
     "metadata": {},
     "output_type": "display_data"
    },
    {
     "data": {
      "text/html": [
       "<style>\n",
       ".list-inline {list-style: none; margin:0; padding: 0}\n",
       ".list-inline>li {display: inline-block}\n",
       ".list-inline>li:not(:last-child)::after {content: \"\\00b7\"; padding: 0 .5ex}\n",
       "</style>\n",
       "<ol class=list-inline><li>1.043</li><li>1.066</li><li>1.125</li><li>1.06</li><li>1.167</li><li>1.152</li><li>1.039</li><li>1.063</li><li>1.12</li><li>1.054</li><li>1.16</li><li>1.145</li></ol>\n"
      ],
      "text/latex": [
       "\\begin{enumerate*}\n",
       "\\item 1.043\n",
       "\\item 1.066\n",
       "\\item 1.125\n",
       "\\item 1.06\n",
       "\\item 1.167\n",
       "\\item 1.152\n",
       "\\item 1.039\n",
       "\\item 1.063\n",
       "\\item 1.12\n",
       "\\item 1.054\n",
       "\\item 1.16\n",
       "\\item 1.145\n",
       "\\end{enumerate*}\n"
      ],
      "text/markdown": [
       "1. 1.043\n",
       "2. 1.066\n",
       "3. 1.125\n",
       "4. 1.06\n",
       "5. 1.167\n",
       "6. 1.152\n",
       "7. 1.039\n",
       "8. 1.063\n",
       "9. 1.12\n",
       "10. 1.054\n",
       "11. 1.16\n",
       "12. 1.145\n",
       "\n",
       "\n"
      ],
      "text/plain": [
       " [1] 1.043 1.066 1.125 1.060 1.167 1.152 1.039 1.063 1.120 1.054 1.160 1.145"
      ]
     },
     "metadata": {},
     "output_type": "display_data"
    }
   ],
   "source": [
    "round(matrixStats::colSds(sfTxpDes),3)\n",
    "round(colMeans(sfTxpDes),3)"
   ]
  },
  {
   "cell_type": "code",
   "execution_count": 31,
   "id": "61090750",
   "metadata": {},
   "outputs": [
    {
     "name": "stderr",
     "output_type": "stream",
     "text": [
      "using counts and average transcript lengths from tximeta\n",
      "\n"
     ]
    }
   ],
   "source": [
    "ddsGene <- DESeqDataSet(gse, ~1)\n",
    "sfGeneDes <- matrix(0, 100, 12)\n",
    "for(i in seq(100)) {\n",
    "    ir <- paste(\"infRep\",i, sep=\"\")\n",
    "    sfGeneDes[i,] <- estimateSizeFactorsForMatrix(assays(ddsGene)[[ir]])\n",
    "}\n"
   ]
  },
  {
   "cell_type": "code",
   "execution_count": 32,
   "id": "09e03ec1",
   "metadata": {},
   "outputs": [
    {
     "data": {
      "text/html": [
       "<style>\n",
       ".list-inline {list-style: none; margin:0; padding: 0}\n",
       ".list-inline>li {display: inline-block}\n",
       ".list-inline>li:not(:last-child)::after {content: \"\\00b7\"; padding: 0 .5ex}\n",
       "</style>\n",
       "<ol class=list-inline><li>0.001</li><li>0.001</li><li>0.001</li><li>0.001</li><li>0.001</li><li>0.001</li><li>0.001</li><li>0.001</li><li>0.001</li><li>0.001</li><li>0.001</li><li>0.001</li></ol>\n"
      ],
      "text/latex": [
       "\\begin{enumerate*}\n",
       "\\item 0.001\n",
       "\\item 0.001\n",
       "\\item 0.001\n",
       "\\item 0.001\n",
       "\\item 0.001\n",
       "\\item 0.001\n",
       "\\item 0.001\n",
       "\\item 0.001\n",
       "\\item 0.001\n",
       "\\item 0.001\n",
       "\\item 0.001\n",
       "\\item 0.001\n",
       "\\end{enumerate*}\n"
      ],
      "text/markdown": [
       "1. 0.001\n",
       "2. 0.001\n",
       "3. 0.001\n",
       "4. 0.001\n",
       "5. 0.001\n",
       "6. 0.001\n",
       "7. 0.001\n",
       "8. 0.001\n",
       "9. 0.001\n",
       "10. 0.001\n",
       "11. 0.001\n",
       "12. 0.001\n",
       "\n",
       "\n"
      ],
      "text/plain": [
       " [1] 0.001 0.001 0.001 0.001 0.001 0.001 0.001 0.001 0.001 0.001 0.001 0.001"
      ]
     },
     "metadata": {},
     "output_type": "display_data"
    },
    {
     "data": {
      "text/html": [
       "<style>\n",
       ".list-inline {list-style: none; margin:0; padding: 0}\n",
       ".list-inline>li {display: inline-block}\n",
       ".list-inline>li:not(:last-child)::after {content: \"\\00b7\"; padding: 0 .5ex}\n",
       "</style>\n",
       "<ol class=list-inline><li>0.943</li><li>0.973</li><li>1.041</li><li>0.961</li><li>1.104</li><li>1.08</li><li>0.939</li><li>0.971</li><li>1.041</li><li>0.954</li><li>1.094</li><li>1.075</li></ol>\n"
      ],
      "text/latex": [
       "\\begin{enumerate*}\n",
       "\\item 0.943\n",
       "\\item 0.973\n",
       "\\item 1.041\n",
       "\\item 0.961\n",
       "\\item 1.104\n",
       "\\item 1.08\n",
       "\\item 0.939\n",
       "\\item 0.971\n",
       "\\item 1.041\n",
       "\\item 0.954\n",
       "\\item 1.094\n",
       "\\item 1.075\n",
       "\\end{enumerate*}\n"
      ],
      "text/markdown": [
       "1. 0.943\n",
       "2. 0.973\n",
       "3. 1.041\n",
       "4. 0.961\n",
       "5. 1.104\n",
       "6. 1.08\n",
       "7. 0.939\n",
       "8. 0.971\n",
       "9. 1.041\n",
       "10. 0.954\n",
       "11. 1.094\n",
       "12. 1.075\n",
       "\n",
       "\n"
      ],
      "text/plain": [
       " [1] 0.943 0.973 1.041 0.961 1.104 1.080 0.939 0.971 1.041 0.954 1.094 1.075"
      ]
     },
     "metadata": {},
     "output_type": "display_data"
    }
   ],
   "source": [
    "round(matrixStats::colSds(sfGeneDes),3)\n",
    "round(colMeans(sfGeneDes),3)"
   ]
  },
  {
   "cell_type": "code",
   "execution_count": null,
   "id": "b3edfc97",
   "metadata": {},
   "outputs": [],
   "source": []
  }
 ],
 "metadata": {
  "kernelspec": {
   "display_name": "R",
   "language": "R",
   "name": "ir"
  },
  "language_info": {
   "codemirror_mode": "r",
   "file_extension": ".r",
   "mimetype": "text/x-r-source",
   "name": "R",
   "pygments_lexer": "r",
   "version": "4.1.1"
  }
 },
 "nbformat": 4,
 "nbformat_minor": 5
}
