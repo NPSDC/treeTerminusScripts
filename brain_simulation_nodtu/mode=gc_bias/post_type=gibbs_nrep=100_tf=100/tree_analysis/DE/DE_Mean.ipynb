{
 "cells": [
  {
   "cell_type": "code",
   "execution_count": 7,
   "id": "662a6df6",
   "metadata": {
    "scrolled": false
   },
   "outputs": [
    {
     "name": "stderr",
     "output_type": "stream",
     "text": [
      "Skipping install of 'beaveR' from a github remote, the SHA1 (55f74bc0) has not changed since last install.\n",
      "  Use `force = TRUE` to force installation\n",
      "\n",
      "reading tree\n",
      "\n",
      "importing quantifications\n",
      "\n",
      "reading in files with read_tsv\n",
      "\n",
      "1 \n",
      "2 \n",
      "3 \n",
      "4 \n",
      "5 \n",
      "6 \n",
      "7 \n",
      "8 \n",
      "9 \n",
      "10 \n",
      "11 \n",
      "12 \n",
      "\n",
      "\n",
      "found matching transcriptome:\n",
      "[ GENCODE - Homo sapiens - release 26 ]\n",
      "\n",
      "loading existing TxDb created: 2022-08-19 22:12:59\n",
      "\n",
      "Loading required package: GenomicFeatures\n",
      "\n",
      "Loading required package: AnnotationDbi\n",
      "\n",
      "loading existing transcript ranges created: 2022-08-19 22:13:01\n",
      "\n",
      "Missing txps 3621\n",
      "\n",
      "Aggregation Started\n",
      "\n",
      "Aggregation Ended\n",
      "\n"
     ]
    }
   ],
   "source": [
    "devtools::install_github(\"NPSDC/beaveR\", ref = \"dev\")\n",
    "setwd('/fs/cbcb-lab/rob/students/noor/Uncertainity/treeTerminusScripts')\n",
    "suppressPackageStartupMessages(source(\"tree_helper_function.R\"))\n",
    "suppressPackageStartupMessages(library(beaveR))\n",
    "clustFile <- \"../brain_sim_nodtu/mode=gc_bias/post_type=gibbs_nrep=100_tf=100/terminus/no_threshold_meaninf_0/group_nwk.txt\"\n",
    "quantDir <- file.path(\"../brain_sim_nodtu/mode=gc_bias/post_type=gibbs_nrep=100_tf=100/out_sal\") \n",
    "samples <- as.vector(outer(c(1:6), c(1,2), function(x,y) paste(x,y,sep='_')))\n",
    "quantFiles <- file.path(quantDir, samples, 'quant.sf')\n",
    "coldata <- data.frame(files=quantFiles, names=samples, condition=factor(rep(1:2, each=6)))\n",
    "# tse <- buildTSE(treeTermFile = clustFile, coldata = coldata)"
   ]
  },
  {
   "cell_type": "code",
   "execution_count": 2,
   "id": "85c7c3f5",
   "metadata": {},
   "outputs": [],
   "source": [
    "setwd('/fs/cbcb-lab/rob/students/noor/Uncertainity/treeTerminusScripts')\n",
    "saveDir <- \"environment/brain_sim_nodtu/mode=gc_bias/post_type=gibbs_nrep=100_tf=100/comp_trees/DE\"\n",
    "# save(tse, file=file.path(saveDir, \"tseMean.RData\"))\n",
    "load(file.path(saveDir, \"tseMean.RData\"))"
   ]
  },
  {
   "cell_type": "code",
   "execution_count": 9,
   "id": "8d0c02f0",
   "metadata": {},
   "outputs": [],
   "source": [
    "temp <- tse\n",
    "tree <- rowTree(tse)\n",
    "l <- length(tree$tip)"
   ]
  },
  {
   "cell_type": "code",
   "execution_count": 4,
   "id": "7f963549",
   "metadata": {},
   "outputs": [],
   "source": [
    "load(\"environment/brain_sim_nodtu/mode=gc_bias/simulate.rda\")\n",
    "suppressPackageStartupMessages(library(TreeSummarizedExperiment))\n",
    "suppressPackageStartupMessages(library(ape))\n",
    "tree <- rowTree(tse)\n",
    "l <- length(tree$tip)\n",
    "missingTxps <- setdiff(rownames(tse)[1:l], rownames(sim.counts.mat))\n",
    "dts <- Reduce(union, c(names(iso.dge)[iso.dge], names(iso.dte)[iso.dte], names(iso.dte.only)[iso.dte.only], \n",
    "                       names(iso.dtu)[iso.dtu]))\n",
    "dts <- intersect(dts, rownames(sim.counts.mat))\n",
    "sim.counts.mat <- rbind(sim.counts.mat, matrix(0, nrow = length(missingTxps), ncol = ncol(sim.counts.mat),\n",
    "                                               dimnames = list(missingTxps, colnames(sim.counts.mat))))\n",
    "sim.counts.mat <- sim.counts.mat[rownames(tse)[1:l],]\n",
    "dts <- intersect(dts, rownames(sim.counts.mat))\n",
    "\n",
    "innNodes <- l+1:tree$Nnode\n",
    "aggCountsNodes <- computeAggNodesU(tree, c(1:length(tree$tip),innNodes), sim.counts.mat)\n",
    "logFCNodes <- ifelse(rowSums(aggCountsNodes)==0, 0, log2(aggCountsNodes[,2]+1)-log2(aggCountsNodes[,1]+1))\n",
    "names(logFCNodes)[(l+1):length(logFCNodes)] <- paste(\"Node\", names(logFCNodes)[(l+1):length(logFCNodes)], sep=\"\")\n",
    "rootFC <- abs(logFCNodes[l+1])\n"
   ]
  },
  {
   "cell_type": "code",
   "execution_count": 14,
   "id": "0ab1e57f",
   "metadata": {},
   "outputs": [
    {
     "data": {
      "text/html": [
       "8799"
      ],
      "text/latex": [
       "8799"
      ],
      "text/markdown": [
       "8799"
      ],
      "text/plain": [
       "[1] 8799"
      ]
     },
     "metadata": {},
     "output_type": "display_data"
    },
    {
     "data": {
      "text/plain": [
       "   Min. 1st Qu.  Median    Mean 3rd Qu.    Max. \n",
       " 0.8858  1.5380  1.9329  1.8816  2.2746  2.5824 "
      ]
     },
     "metadata": {},
     "output_type": "display_data"
    },
    {
     "name": "stdout",
     "output_type": "stream",
     "text": [
      "[1] 1\n"
     ]
    },
    {
     "data": {
      "text/html": [
       "<strong>Node138760:</strong> 0.0326437483922248"
      ],
      "text/latex": [
       "\\textbf{Node138760:} 0.0326437483922248"
      ],
      "text/markdown": [
       "**Node138760:** 0.0326437483922248"
      ],
      "text/plain": [
       "Node138760 \n",
       "0.03264375 "
      ]
     },
     "metadata": {},
     "output_type": "display_data"
    },
    {
     "data": {
      "text/html": [
       "<strong>Node138760:</strong> 0.01"
      ],
      "text/latex": [
       "\\textbf{Node138760:} 0.01"
      ],
      "text/markdown": [
       "**Node138760:** 0.01"
      ],
      "text/plain": [
       "Node138760 \n",
       "      0.01 "
      ]
     },
     "metadata": {},
     "output_type": "display_data"
    }
   ],
   "source": [
    "length(dts)\n",
    "summary(abs(logFCNodes[dts]))\n",
    "print(mean(abs(logFCNodes[dts]) >= rootFC))\n",
    "rootFC\n",
    "mcols(tse)[[\"meanInfRV\"]][l+1]"
   ]
  },
  {
   "cell_type": "code",
   "execution_count": 10,
   "id": "3dd65f13",
   "metadata": {},
   "outputs": [
    {
     "data": {
      "text/plain": [
       "NULL"
      ]
     },
     "metadata": {},
     "output_type": "display_data"
    }
   ],
   "source": [
    "metadata(tse)[[\"sf\"]]"
   ]
  },
  {
   "cell_type": "markdown",
   "id": "c7986b04",
   "metadata": {},
   "source": [
    "#### Run Swish"
   ]
  },
  {
   "cell_type": "code",
   "execution_count": 11,
   "id": "f527e0e6",
   "metadata": {},
   "outputs": [],
   "source": [
    "set.seed(1)\n",
    "y <- fishpond::scaleInfReps(temp[1:l,])\n",
    "y <- labelKeep(y)\n",
    "y <- swish(y, x=\"condition\")"
   ]
  },
  {
   "cell_type": "code",
   "execution_count": 13,
   "id": "a7642929",
   "metadata": {},
   "outputs": [],
   "source": [
    "detNodes <- list()\n",
    "detNodes[[\"Swish\"]] <- lapply(c(0.01, 0.05, 0.1), function(x) which(mcols(y)[,\"qvalue\"] <= x ))\n",
    "\n",
    "negNodes <- list()\n",
    "negNodes[[\"Swish\"]] <- lapply(detNodes[[\"Swish\"]], function(nodes) setdiff(seq(l), \n",
    "                                                          unlist(Descendants(tree, nodes))))"
   ]
  },
  {
   "cell_type": "markdown",
   "id": "98f35cb9",
   "metadata": {},
   "source": [
    "#### Min meanInfRV and Height"
   ]
  },
  {
   "cell_type": "code",
   "execution_count": 15,
   "id": "029dbea1",
   "metadata": {},
   "outputs": [],
   "source": [
    "lambda <- c(0.05, 0.1, 1, 5, 10)"
   ]
  },
  {
   "cell_type": "code",
   "execution_count": 16,
   "id": "86fa911d",
   "metadata": {},
   "outputs": [
    {
     "data": {
      "text/html": [
       "<style>\n",
       ".dl-inline {width: auto; margin:0; padding: 0}\n",
       ".dl-inline>dt, .dl-inline>dd {float: none; width: auto; display: inline-block}\n",
       ".dl-inline>dt::after {content: \":\\0020\"; padding-right: .5ex}\n",
       ".dl-inline>dt:not(:first-of-type) {padding-left: .5ex}\n",
       "</style><dl class=dl-inline><dt>irv_height_0.05</dt><dd>78507</dd><dt>irv_height_0.1</dt><dd>89433</dd><dt>irv_height_1</dt><dd>120525</dd><dt>irv_height_5</dt><dd>133990</dd><dt>irv_height_10</dt><dd>136746</dd></dl>\n"
      ],
      "text/latex": [
       "\\begin{description*}\n",
       "\\item[irv\\textbackslash{}\\_height\\textbackslash{}\\_0.05] 78507\n",
       "\\item[irv\\textbackslash{}\\_height\\textbackslash{}\\_0.1] 89433\n",
       "\\item[irv\\textbackslash{}\\_height\\textbackslash{}\\_1] 120525\n",
       "\\item[irv\\textbackslash{}\\_height\\textbackslash{}\\_5] 133990\n",
       "\\item[irv\\textbackslash{}\\_height\\textbackslash{}\\_10] 136746\n",
       "\\end{description*}\n"
      ],
      "text/markdown": [
       "irv_height_0.05\n",
       ":   78507irv_height_0.1\n",
       ":   89433irv_height_1\n",
       ":   120525irv_height_5\n",
       ":   133990irv_height_10\n",
       ":   136746\n",
       "\n"
      ],
      "text/plain": [
       "irv_height_0.05  irv_height_0.1    irv_height_1    irv_height_5   irv_height_10 \n",
       "          78507           89433          120525          133990          136746 "
      ]
     },
     "metadata": {},
     "output_type": "display_data"
    }
   ],
   "source": [
    "cuts <- list()\n",
    "for(i in lambda) {\n",
    "    descSize <- sapply(Descendants(tree, seq(nrow(tse))), length)\n",
    "    metric <- (mcols(tse)[['meanInfRV']] + node.depth(tree, 2)*i) *descSize\n",
    "    objS <- solveForOptimalCut(tse, metVec = metric, type = 'min')\n",
    "    gammaN <- paste(\"gamma\",i,sep=\"=\")\n",
    "    cuts[[gammaN]] <- objS[[\"cut\"]]\n",
    "}\n",
    "names(cuts) <- paste(\"irv\", \"height\", lambda, sep = \"_\") \n",
    "sapply(cuts,length)"
   ]
  },
  {
   "cell_type": "code",
   "execution_count": 17,
   "id": "1a01b878",
   "metadata": {},
   "outputs": [],
   "source": [
    "for(i in seq_along(lambda)) {\n",
    "     ihname <- paste(\"irv\", \"height\", lambda[i], sep = \"_\") \n",
    "     y <- temp[sort(cuts[[ihname]]),]\n",
    "     y <- fishpond::scaleInfReps(y)\n",
    "     y <- labelKeep(y)\n",
    "     set.seed(1)\n",
    "     y <- swish(y, x=\"condition\")\n",
    "#      dim(y)\n",
    "     detNodes[[ihname]] <- lapply(c(0.01, 0.05, 0.1), function(x) {\n",
    "        nodes <- rownames(y)[which(mcols(y)[,\"qvalue\"] <= x)]\n",
    "#         txps <- match(nodes[grep(\"ENST\", nodes)], rownames(tse))\n",
    "#         iNodes <- match(nodes[grep(\"Node\", nodes)], rownames(tse))\n",
    "         match(nodes, names(logFCNodes))\n",
    "        \n",
    "#         c(txps,iNodes)\n",
    "    })\n",
    "    negNodes[[ihname]] <- lapply(c(0.01, 0.05, 0.1), function(x) {\n",
    "        nodes <- rownames(y)[setdiff(seq(nrow(y)), which(mcols(y)[,\"qvalue\"] <= x))]\n",
    "        match(nodes, names(logFCNodes))\n",
    "    })\n",
    "}"
   ]
  },
  {
   "cell_type": "code",
   "execution_count": 26,
   "id": "62730e82",
   "metadata": {},
   "outputs": [
    {
     "data": {
      "text/html": [
       "10"
      ],
      "text/latex": [
       "10"
      ],
      "text/markdown": [
       "10"
      ],
      "text/plain": [
       "[1] 10"
      ]
     },
     "metadata": {},
     "output_type": "display_data"
    }
   ],
   "source": [
    "lambda[i]"
   ]
  },
  {
   "cell_type": "markdown",
   "id": "828169d1",
   "metadata": {},
   "source": [
    "#### Max Weighted Log Fold Change"
   ]
  },
  {
   "cell_type": "code",
   "execution_count": 19,
   "id": "65fbd7f2",
   "metadata": {},
   "outputs": [],
   "source": [
    "getLog2FC <- function(tse, condition, pc=5, array=FALSE) {\n",
    "  infRepIdx <- grep(\"infRep\", assayNames(tse))\n",
    "  infReps <- assays(tse)[infRepIdx]\n",
    "  infRepsArray <- abind::abind(as.list(infReps), along=3)\n",
    "  dims <- dim(infRepsArray)\n",
    "    \n",
    "  cond1 <- condition == levels(condition)[1]\n",
    "  cond2 <- condition == levels(condition)[2]\n",
    "\n",
    "  diffs <- matrix(nrow=dims[1],ncol=dims[3])\n",
    "  for (k in seq_len(dims[3])) {\n",
    "    diffs[,k] <- log2(rowMeans(infRepsArray[,cond2,k]) + pc) -\n",
    "                 log2(rowMeans(infRepsArray[,cond1,k]) + pc)\n",
    "  }\n",
    "  if (array) {\n",
    "    return(diffs)\n",
    "  }\n",
    "  # median over inferential replicates\n",
    "  rowMedians(diffs)\n",
    "}"
   ]
  },
  {
   "cell_type": "code",
   "execution_count": 20,
   "id": "459c5328",
   "metadata": {},
   "outputs": [
    {
     "name": "stderr",
     "output_type": "stream",
     "text": [
      "Setting inf rep depth to mean depth\n",
      "\n"
     ]
    },
    {
     "name": "stdout",
     "output_type": "stream",
     "text": [
      "Progress:   1 on 100Progress:   2 on 100Progress:   3 on 100Progress:   4 on 100Progress:   5 on 100Progress:   6 on 100Progress:   7 on 100Progress:   8 on 100Progress:   9 on 100Progress:  10 on 100Progress:  11 on 100Progress:  12 on 100Progress:  13 on 100Progress:  14 on 100Progress:  15 on 100Progress:  16 on 100Progress:  17 on 100Progress:  18 on 100Progress:  19 on 100Progress:  20 on 100Progress:  21 on 100Progress:  22 on 100Progress:  23 on 100Progress:  24 on 100Progress:  25 on 100Progress:  26 on 100Progress:  27 on 100Progress:  28 on 100Progress:  29 on 100Progress:  30 on 100Progress:  31 on 100Progress:  32 on 100Progress:  33 on 100Progress:  34 on 100Progress:  35 on 100Progress:  36 on 100Progress:  37 on 100Progress:  38 on 100Progress:  39 on 100Progress:  40 on 100Progress:  41 on 100Progress:  42 on 100Progress:  43 on 100Progress:  44 on 100Progress:  45 on 100Progress:  46 on 100Progress:  47 on 100Progress:  48 on 100Progress:  49 on 100Progress:  50 on 100Progress:  51 on 100Progress:  52 on 100Progress:  53 on 100Progress:  54 on 100Progress:  55 on 100Progress:  56 on 100Progress:  57 on 100Progress:  58 on 100Progress:  59 on 100Progress:  60 on 100Progress:  61 on 100Progress:  62 on 100Progress:  63 on 100Progress:  64 on 100Progress:  65 on 100Progress:  66 on 100Progress:  67 on 100Progress:  68 on 100Progress:  69 on 100Progress:  70 on 100Progress:  71 on 100Progress:  72 on 100Progress:  73 on 100Progress:  74 on 100Progress:  75 on 100Progress:  76 on 100Progress:  77 on 100Progress:  78 on 100Progress:  79 on 100Progress:  80 on 100Progress:  81 on 100Progress:  82 on 100Progress:  83 on 100Progress:  84 on 100Progress:  85 on 100Progress:  86 on 100Progress:  87 on 100Progress:  88 on 100Progress:  89 on 100Progress:  90 on 100Progress:  91 on 100Progress:  92 on 100Progress:  93 on 100Progress:  94 on 100Progress:  95 on 100Progress:  96 on 100Progress:  97 on 100Progress:  98 on 100Progress:  99 on 100Progress: 100 on 100  "
     ]
    },
    {
     "name": "stderr",
     "output_type": "stream",
     "text": [
      "\n",
      "\n"
     ]
    }
   ],
   "source": [
    "tse <- computeSizeFactors(tse, type=\"txp\")\n",
    "tse <- scaleInfReps(tse)\n",
    "lfc <- getLog2FC(tse, colData(tse)[[\"condition\"]])\n",
    "descSize <- sapply(phangorn::Descendants(tree, seq(nrow(tse))), length)\n",
    "metric <- abs(lfc)/mcols(tse)[['meanInfRV']]\n",
    "objS <- solveForOptimalCut(tse, metVec = metric, type = 'max')\n",
    "cuts[[\"LFC\"]] <- objS[[\"cut\"]]"
   ]
  },
  {
   "cell_type": "code",
   "execution_count": 21,
   "id": "ae76f07e",
   "metadata": {},
   "outputs": [],
   "source": [
    "y <- temp[sort(cuts[[\"LFC\"]]),]\n",
    "y <- fishpond::scaleInfReps(y)\n",
    "y <- labelKeep(y)\n",
    "set.seed(1)\n",
    "y <- swish(y, x=\"condition\")\n",
    "\n",
    "detNodes[[\"LFC\"]] <- lapply(c(0.01, 0.05, 0.1), function(x) {\n",
    "    nodes <- rownames(y)[which(mcols(y)[,\"qvalue\"] <= x)]\n",
    "    match(nodes, names(logFCNodes))\n",
    "})\n",
    "negNodes[[\"LFC\"]] <- lapply(c(0.01, 0.05, 0.1), function(x) {\n",
    "        nodes <- rownames(y)[setdiff(seq(nrow(y)), which(mcols(y)[,\"qvalue\"] <= x))]\n",
    "        match(nodes, names(logFCNodes))\n",
    "})"
   ]
  },
  {
   "cell_type": "markdown",
   "id": "d2603245",
   "metadata": {},
   "source": [
    "#### TPM LFC Desc"
   ]
  },
  {
   "cell_type": "code",
   "execution_count": 27,
   "id": "cd32f5a7",
   "metadata": {},
   "outputs": [],
   "source": [
    "lfcTPM <- getScaledLFC(temp, \"condition\")\n",
    "metric <- abs(lfcTPM)/mcols(tse)[['meanInfRV']]*descSize\n",
    "objS <- solveForOptimalCut(tse, metVec = metric, type = 'max')\n",
    "cuts[[\"lfcTPMDesc\"]] <- objS[[\"cut\"]]\n",
    "y <- temp[sort(cuts[[\"lfcTPMDesc\"]]),]\n",
    "y <- fishpond::scaleInfReps(y)\n",
    "y <- labelKeep(y)\n",
    "set.seed(1)\n",
    "y <- swish(y, x=\"condition\")\n",
    "\n",
    "detNodes[[\"lfcTPMDesc\"]] <- lapply(c(0.01, 0.05, 0.1), function(x) {\n",
    "    nodes <- rownames(y)[which(mcols(y)[,\"qvalue\"] <= x)]\n",
    "    match(nodes, names(logFCNodes))\n",
    "})\n",
    "negNodes[[\"lfcTPMDesc\"]] <- lapply(c(0.01, 0.05, 0.1), function(x) {\n",
    "        nodes <- rownames(y)[setdiff(seq(nrow(y)), which(mcols(y)[,\"qvalue\"] <= x))]\n",
    "        match(nodes, names(logFCNodes))\n",
    "    })"
   ]
  },
  {
   "cell_type": "markdown",
   "id": "05f85c53",
   "metadata": {},
   "source": [
    "#### TPM LFC"
   ]
  },
  {
   "cell_type": "code",
   "execution_count": 30,
   "id": "a90240b4",
   "metadata": {},
   "outputs": [],
   "source": [
    "lfcTPM <- getScaledLFC(temp, \"condition\")\n",
    "metric <- abs(lfcTPM)/mcols(tse)[['meanInfRV']]\n",
    "objS <- solveForOptimalCut(tse, metVec = metric, type = 'max')\n",
    "cuts[[\"lfcTPM\"]] <- objS[[\"cut\"]]\n",
    "y <- temp[sort(cuts[[\"lfcTPM\"]]),]\n",
    "y <- fishpond::scaleInfReps(y)\n",
    "y <- labelKeep(y)\n",
    "set.seed(1)\n",
    "y <- swish(y, x=\"condition\")\n",
    "\n",
    "detNodes[[\"lfcTPM\"]] <- lapply(c(0.01, 0.05, 0.1), function(x) {\n",
    "    nodes <- rownames(y)[which(mcols(y)[,\"qvalue\"] <= x)]\n",
    "    match(nodes, names(logFCNodes))\n",
    "})\n",
    "negNodes[[\"lfcTPM\"]] <- lapply(c(0.01, 0.05, 0.1), function(x) {\n",
    "        nodes <- rownames(y)[setdiff(seq(nrow(y)), which(mcols(y)[,\"qvalue\"] <= x))]\n",
    "        match(nodes, names(logFCNodes))\n",
    "    })"
   ]
  },
  {
   "cell_type": "code",
   "execution_count": 20,
   "id": "a49f476f",
   "metadata": {},
   "outputs": [
    {
     "name": "stdout",
     "output_type": "stream",
     "text": [
      "[1] \"Swish\"\n",
      "[1] \"tp 0.989603388525221\"\n",
      "[1] \"tp 0.954755309325946\"\n",
      "[1] \"tp 0.917580910586945\"\n",
      "[1] \"irv_height_0.05\"\n",
      "[1] \"tp 0.990189873417721\"\n",
      "[1] \"tp 0.962002096436059\"\n",
      "[1] \"tp 0.924371740161214\"\n",
      "[1] \"irv_height_0.1\"\n",
      "[1] \"tp 0.988809182209469\"\n",
      "[1] \"tp 0.959091983920549\"\n",
      "[1] \"tp 0.92020592020592\"\n",
      "[1] \"irv_height_1\"\n",
      "[1] \"tp 0.998265093684941\"\n",
      "[1] \"tp 0.965827668565129\"\n",
      "[1] \"tp 0.926988265971317\"\n",
      "[1] \"LFC\"\n",
      "[1] \"tp 0.988722950320024\"\n",
      "[1] \"tp 0.959214501510574\"\n",
      "[1] \"tp 0.914936823104693\"\n",
      "[1] \"lfcTPMDesc\"\n",
      "[1] \"tp 0.990125332320547\"\n",
      "[1] \"tp 0.962094442659814\"\n",
      "[1] \"tp 0.923234092235844\"\n",
      "[1] \"lfcTPM\"\n",
      "[1] \"tp 0.988598859885989\"\n",
      "[1] \"tp 0.961711711711712\"\n",
      "[1] \"tp 0.919837874352623\"\n",
      "              Method Metric    FDR_0.01   FDR_0.05   FDR_0.10\n",
      "fdr            Swish    FDR  0.01039661 0.04524469 0.08241909\n",
      "tpr            Swish    TPR   0.5841573  0.7050801  0.7604273\n",
      "fdr1 irv_height_0.05    FDR 0.009810127  0.0379979 0.07562826\n",
      "tpr1 irv_height_0.05    TPR   0.6166732  0.7234923  0.7684273\n",
      "fdr2  irv_height_0.1    FDR  0.01119082 0.04090802 0.07979408\n",
      "tpr2  irv_height_0.1    TPR   0.6228086  0.7330562  0.7753479\n",
      "fdr3    irv_height_1    FDR 0.001734906 0.03417233 0.07301173\n",
      "tpr3    irv_height_1    TPR   0.3911093  0.7146547  0.7732463\n",
      "fdr4             LFC    FDR  0.01127705  0.0407855 0.08506318\n",
      "tpr4             LFC    TPR   0.6273448  0.7368014   0.784181\n",
      "fdr5      lfcTPMDesc    FDR 0.009874668 0.03790556 0.07676591\n",
      "tpr5      lfcTPMDesc    TPR   0.6440217  0.7398715  0.7813735\n",
      "fdr6          lfcTPM    FDR  0.01140114 0.03828829 0.08016213\n",
      "tpr6          lfcTPM    TPR   0.6349971  0.7406051  0.7872422\n"
     ]
    }
   ],
   "source": [
    "df <- data.frame(Method=character(), Metric=character(), FDR_0.01 = numeric(), FDR_0.05 = numeric(), FDR_0.10 = numeric())\n",
    "for(n in names(detNodes))\n",
    "{\n",
    "    print(n)\n",
    "    stats <-  sapply(seq_along(detNodes[[n]]), function(i) computeMetOut(detNodes[[n]][[i]], logFCNodes, tree = tree, negNodes = negNodes[[n]][[i]], lfcThresh = rootFC))\n",
    "    colnames(stats) <- colnames(df)[c(3:5)]\n",
    "    stats <- cbind(Method=rep(n,2), Metric = c(\"FDR\", \"TPR\"), stats)\n",
    "    df <- rbind(df, stats)\n",
    "}\n",
    "print(df)"
   ]
  },
  {
   "cell_type": "code",
   "execution_count": 33,
   "id": "d70270f9",
   "metadata": {},
   "outputs": [],
   "source": [
    "saveDir <- \"environment/brain_sim_nodtu/mode=gc_bias/post_type=gibbs_nrep=100_tf=100/comp_trees/DE\"\n",
    "save(cuts, file=file.path(saveDir, \"cutsMean.RData\"))\n",
    "save(df, file=file.path(saveDir, \"dfMean.RData\"))"
   ]
  },
  {
   "cell_type": "code",
   "execution_count": 34,
   "id": "8fc41e53",
   "metadata": {},
   "outputs": [],
   "source": [
    "negNodesDesc <- list()\n",
    "for(n in names(negNodes)) {\n",
    "    if(n == \"Swish\")\n",
    "        negNodesDesc[[n]] <- negNodes[[n]]\n",
    "    if(n != \"term\")\n",
    "        negNodesDesc[[n]] <- lapply(negNodes[[n]], function(x) unlist(Descendants(tree, x)))\n",
    "}\n",
    "negNodesDesc[[\"term\"]] <- lapply(negNodes[[\"term\"]], function(x) {\n",
    "    dd <- x[x>l]\n",
    "    r <- setdiff(x, dd)\n",
    "    dd <- dd - l\n",
    "    c(unlist(groupsClust[dd]), r) \n",
    "})"
   ]
  },
  {
   "cell_type": "code",
   "execution_count": 24,
   "id": "ad3b1362",
   "metadata": {},
   "outputs": [
    {
     "data": {
      "text/html": [
       "<style>\n",
       ".list-inline {list-style: none; margin:0; padding: 0}\n",
       ".list-inline>li {display: inline-block}\n",
       ".list-inline>li:not(:last-child)::after {content: \"\\00b7\"; padding: 0 .5ex}\n",
       "</style>\n",
       "<ol class=list-inline><li>83442</li><li>82779</li><li>82334</li></ol>\n"
      ],
      "text/latex": [
       "\\begin{enumerate*}\n",
       "\\item 83442\n",
       "\\item 82779\n",
       "\\item 82334\n",
       "\\end{enumerate*}\n"
      ],
      "text/markdown": [
       "1. 83442\n",
       "2. 82779\n",
       "3. 82334\n",
       "\n",
       "\n"
      ],
      "text/plain": [
       "[1] 83442 82779 82334"
      ]
     },
     "metadata": {},
     "output_type": "display_data"
    },
    {
     "data": {
      "text/html": [
       "<style>\n",
       ".list-inline {list-style: none; margin:0; padding: 0}\n",
       ".list-inline>li {display: inline-block}\n",
       ".list-inline>li:not(:last-child)::after {content: \"\\00b7\"; padding: 0 .5ex}\n",
       "</style>\n",
       "<ol class=list-inline><li>125497</li><li>123646</li><li>122411</li></ol>\n"
      ],
      "text/latex": [
       "\\begin{enumerate*}\n",
       "\\item 125497\n",
       "\\item 123646\n",
       "\\item 122411\n",
       "\\end{enumerate*}\n"
      ],
      "text/markdown": [
       "1. 125497\n",
       "2. 123646\n",
       "3. 122411\n",
       "\n",
       "\n"
      ],
      "text/plain": [
       "[1] 125497 123646 122411"
      ]
     },
     "metadata": {},
     "output_type": "display_data"
    }
   ],
   "source": [
    "sapply(negNodes[[\"lfcTPM\"]],length)\n",
    "sapply(negNodesDesc[[\"lfcTPM\"]],length)\n"
   ]
  },
  {
   "cell_type": "code",
   "execution_count": 37,
   "id": "391dd6c0",
   "metadata": {},
   "outputs": [
    {
     "name": "stdout",
     "output_type": "stream",
     "text": [
      "[1] \"Swish\"\n",
      "[1] \"tp 0.990465071025491\"\n",
      "[1] \"tp 0.962445003142678\"\n",
      "[1] \"tp 0.926497404965633\"\n",
      "[1] \"irv_height_0.05\"\n",
      "[1] \"tp 0.990189873417721\"\n",
      "[1] \"tp 0.962002096436059\"\n",
      "[1] \"tp 0.924371740161214\"\n",
      "[1] \"irv_height_0.1\"\n",
      "[1] \"tp 0.988809182209469\"\n",
      "[1] \"tp 0.959091983920549\"\n",
      "[1] \"tp 0.92020592020592\"\n",
      "[1] \"irv_height_1\"\n",
      "[1] \"tp 0.998265093684941\"\n",
      "[1] \"tp 0.965827668565129\"\n",
      "[1] \"tp 0.926988265971317\"\n",
      "[1] \"irv_height_5\"\n",
      "[1] \"tp 0.990663488279698\"\n",
      "[1] \"tp 0.957460418998881\"\n",
      "[1] \"tp 0.922096520120292\"\n",
      "[1] \"irv_height_10\"\n",
      "[1] \"tp 0.990274265707061\"\n",
      "[1] \"tp 0.955559020739124\"\n",
      "[1] \"tp 0.919341334077589\"\n",
      "[1] \"LFC\"\n",
      "[1] \"tp 0.988722950320024\"\n",
      "[1] \"tp 0.959214501510574\"\n",
      "[1] \"tp 0.914936823104693\"\n",
      "[1] \"lfcTPMDesc\"\n",
      "[1] \"tp 0.990125332320547\"\n",
      "[1] \"tp 0.962094442659814\"\n",
      "[1] \"tp 0.923234092235844\"\n",
      "[1] \"lfcTPM\"\n",
      "[1] \"tp 0.988598859885989\"\n",
      "[1] \"tp 0.961711711711712\"\n",
      "[1] \"tp 0.919837874352623\"\n",
      "              Method Metric    FDR_0.01   FDR_0.05   FDR_0.10\n",
      "fdr            Swish    FDR 0.009534929   0.037555  0.0735026\n",
      "tpr            Swish    TPR   0.5784748  0.6961018  0.7506535\n",
      "fdr1 irv_height_0.05    FDR 0.009810127  0.0379979 0.07562826\n",
      "tpr1 irv_height_0.05    TPR   0.5721338  0.6900376  0.7383071\n",
      "fdr2  irv_height_0.1    FDR  0.01119082 0.04090802 0.07979408\n",
      "tpr2  irv_height_0.1    TPR   0.5893621  0.7068665  0.7502623\n",
      "fdr3    irv_height_1    FDR 0.001734906 0.03417233 0.07301173\n",
      "tpr3    irv_height_1    TPR   0.3799023  0.7076323  0.7679222\n",
      "fdr4    irv_height_5    FDR 0.009336512 0.04253958 0.07790348\n",
      "tpr4    irv_height_5    TPR   0.5927731  0.7127381  0.7669128\n",
      "fdr5   irv_height_10    FDR 0.009725734 0.04444098 0.08065867\n",
      "tpr5   irv_height_10    TPR   0.5906718  0.7113175  0.7648015\n",
      "fdr6             LFC    FDR  0.01127705  0.0407855 0.08506318\n",
      "tpr6             LFC    TPR   0.5966526  0.7148218  0.7665406\n",
      "fdr7      lfcTPMDesc    FDR 0.009874668 0.03790556 0.07676591\n",
      "tpr7      lfcTPMDesc    TPR    0.572967  0.6826989  0.7299792\n",
      "fdr8          lfcTPM    FDR  0.01140114 0.03828829 0.08016213\n",
      "tpr8          lfcTPM    TPR   0.6062557  0.7211484  0.7713369\n"
     ]
    }
   ],
   "source": [
    "dfO <- data.frame(Method=character(), Metric=character(), FDR_0.01 = numeric(), FDR_0.05 = numeric(), FDR_0.10 = numeric())\n",
    "for(n in names(detNodes))\n",
    "{\n",
    "    print(n)\n",
    "    if(n != \"term\") {\n",
    "        stats <-  sapply(seq_along(detNodes[[n]]), function(i) computeMetOut(detNodes[[n]][[i]], \n",
    "                                                                             logFCNodes, tree = tree, \n",
    "                                                                             negNodes = negNodesDesc[[n]][[i]], \n",
    "                                                                             lfcThresh = rootFC))\n",
    "        colnames(stats) <- colnames(df)[c(3:5)]\n",
    "        stats <- cbind(Method=rep(n,2), Metric = c(\"FDR\", \"TPR\"), stats)\n",
    "        dfO <- rbind(dfO, stats)\n",
    "    }\n",
    "    \n",
    "}\n",
    "print(dfO)"
   ]
  },
  {
   "cell_type": "code",
   "execution_count": 38,
   "id": "2d962864",
   "metadata": {},
   "outputs": [],
   "source": [
    "save(dfO, file=file.path(saveDir, \"dfMeanO.RData\"))"
   ]
  },
  {
   "cell_type": "code",
   "execution_count": null,
   "id": "56107d00",
   "metadata": {},
   "outputs": [],
   "source": []
  }
 ],
 "metadata": {
  "kernelspec": {
   "display_name": "R",
   "language": "R",
   "name": "ir"
  },
  "language_info": {
   "codemirror_mode": "r",
   "file_extension": ".r",
   "mimetype": "text/x-r-source",
   "name": "R",
   "pygments_lexer": "r",
   "version": "4.1.1"
  }
 },
 "nbformat": 4,
 "nbformat_minor": 5
}
