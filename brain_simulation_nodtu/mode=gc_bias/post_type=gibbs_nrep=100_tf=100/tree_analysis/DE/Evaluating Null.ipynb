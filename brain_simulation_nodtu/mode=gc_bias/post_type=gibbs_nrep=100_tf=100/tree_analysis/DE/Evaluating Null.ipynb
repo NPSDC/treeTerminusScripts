{
 "cells": [
  {
   "cell_type": "code",
   "execution_count": 17,
   "id": "a209f43f",
   "metadata": {},
   "outputs": [],
   "source": [
    "setwd('/fs/cbcb-lab/rob/students/noor/Uncertainity/treeTerminusScripts')\n",
    "suppressPackageStartupMessages(source(\"tree_helper_function.R\"))\n",
    "suppressPackageStartupMessages(source(\"tree_term_climb.R\"))\n",
    "suppressPackageStartupMessages(library(beaveR))\n",
    "saveDir <- \"environment/brain_sim_nodtu/mode=gc_bias/post_type=gibbs_nrep=100_tf=100/comp_trees/DE\"\n",
    "# load(file=file.path(saveDir, \"tseConsUp.RData\"))"
   ]
  },
  {
   "cell_type": "code",
   "execution_count": 15,
   "id": "9847b6d2",
   "metadata": {},
   "outputs": [],
   "source": [
    "load(\"environment/brain_sim_nodtu/mode=gc_bias/simulate.rda\")\n",
    "suppressPackageStartupMessages(library(TreeSummarizedExperiment))\n",
    "suppressPackageStartupMessages(library(ape))\n",
    "tree <- rowTree(tseConsUp)\n",
    "l <- length(tree$tip)\n",
    "missingTxps <- setdiff(tree$tip.label, rownames(sim.counts.mat))\n",
    "dts <- Reduce(union, c(names(iso.dge)[iso.dge], names(iso.dte)[iso.dte], names(iso.dte.only)[iso.dte.only], \n",
    "                       names(iso.dtu)[iso.dtu]))\n",
    "dts <- intersect(dts, rownames(sim.counts.mat))\n",
    "sim.counts.mat <- rbind(sim.counts.mat, matrix(0, nrow = length(missingTxps), ncol = ncol(sim.counts.mat),\n",
    "                                               dimnames = list(missingTxps, colnames(sim.counts.mat))))\n",
    "sim.counts.mat <- sim.counts.mat[tree$tip.label,]\n",
    "dts <- intersect(dts, rownames(sim.counts.mat))\n",
    "\n",
    "innNodes <- l+1:tree$Nnode\n",
    "aggCountsNodes <- computeAggNodesU(tree, c(1:length(tree$tip),innNodes), sim.counts.mat)\n",
    "logFCNodes <- ifelse(rowSums(aggCountsNodes)==0, 0, log2(aggCountsNodes[,2]+1)-log2(aggCountsNodes[,1]+1))\n",
    "names(logFCNodes)[(l+1):length(logFCNodes)] <- paste(\"Node\", names(logFCNodes)[(l+1):length(logFCNodes)], sep=\"\")\n",
    "rootFC <- abs(logFCNodes[l+1])"
   ]
  },
  {
   "cell_type": "code",
   "execution_count": 19,
   "id": "e4cbffd2",
   "metadata": {},
   "outputs": [
    {
     "name": "stderr",
     "output_type": "stream",
     "text": [
      "Setting inf rep depth to mean depth\n",
      "\n"
     ]
    },
    {
     "name": "stdout",
     "output_type": "stream",
     "text": [
      "Progress:   1 on 100Progress:   2 on 100Progress:   3 on 100Progress:   4 on 100Progress:   5 on 100Progress:   6 on 100Progress:   7 on 100Progress:   8 on 100Progress:   9 on 100Progress:  10 on 100Progress:  11 on 100Progress:  12 on 100Progress:  13 on 100Progress:  14 on 100Progress:  15 on 100Progress:  16 on 100Progress:  17 on 100Progress:  18 on 100Progress:  19 on 100Progress:  20 on 100Progress:  21 on 100Progress:  22 on 100Progress:  23 on 100Progress:  24 on 100Progress:  25 on 100Progress:  26 on 100Progress:  27 on 100Progress:  28 on 100Progress:  29 on 100Progress:  30 on 100Progress:  31 on 100Progress:  32 on 100Progress:  33 on 100Progress:  34 on 100Progress:  35 on 100Progress:  36 on 100Progress:  37 on 100Progress:  38 on 100Progress:  39 on 100Progress:  40 on 100Progress:  41 on 100Progress:  42 on 100Progress:  43 on 100Progress:  44 on 100Progress:  45 on 100Progress:  46 on 100Progress:  47 on 100Progress:  48 on 100Progress:  49 on 100Progress:  50 on 100Progress:  51 on 100Progress:  52 on 100Progress:  53 on 100Progress:  54 on 100Progress:  55 on 100Progress:  56 on 100Progress:  57 on 100Progress:  58 on 100Progress:  59 on 100Progress:  60 on 100Progress:  61 on 100Progress:  62 on 100Progress:  63 on 100Progress:  64 on 100Progress:  65 on 100Progress:  66 on 100Progress:  67 on 100Progress:  68 on 100Progress:  69 on 100Progress:  70 on 100Progress:  71 on 100Progress:  72 on 100Progress:  73 on 100Progress:  74 on 100Progress:  75 on 100Progress:  76 on 100Progress:  77 on 100Progress:  78 on 100Progress:  79 on 100Progress:  80 on 100Progress:  81 on 100Progress:  82 on 100Progress:  83 on 100Progress:  84 on 100Progress:  85 on 100Progress:  86 on 100Progress:  87 on 100Progress:  88 on 100Progress:  89 on 100Progress:  90 on 100Progress:  91 on 100Progress:  92 on 100Progress:  93 on 100Progress:  94 on 100Progress:  95 on 100Progress:  96 on 100Progress:  97 on 100Progress:  98 on 100Progress:  99 on 100Progress: 100 on 100  "
     ]
    },
    {
     "name": "stderr",
     "output_type": "stream",
     "text": [
      "\n",
      "\n"
     ]
    }
   ],
   "source": [
    "yAll <- computeSizeFactors(tseConsUp)\n",
    "yAll <- scaleInfReps(yAll)\n",
    "yAll <- labelKeep(yAll)\n",
    "set.seed(1)\n",
    "yAll <- swish(yAll, x = \"condition\")"
   ]
  },
  {
   "cell_type": "code",
   "execution_count": 11,
   "id": "8e787902",
   "metadata": {},
   "outputs": [
    {
     "data": {
      "text/html": [
       "224737"
      ],
      "text/latex": [
       "224737"
      ],
      "text/markdown": [
       "224737"
      ],
      "text/plain": [
       "[1] 224737"
      ]
     },
     "metadata": {},
     "output_type": "display_data"
    },
    {
     "ename": "ERROR",
     "evalue": "Error in h(simpleError(msg, call)): error in evaluating the argument 'x' in selecting a method for function 'rownames': object 'yAll' not found\n",
     "output_type": "error",
     "traceback": [
      "Error in h(simpleError(msg, call)): error in evaluating the argument 'x' in selecting a method for function 'rownames': object 'yAll' not found\nTraceback:\n",
      "1. rownames(yAll)",
      "2. .handleSimpleError(function (cond) \n . .Internal(C_tryCatchHelper(addr, 1L, cond)), \"object 'yAll' not found\", \n .     base::quote(rownames(yAll)))",
      "3. h(simpleError(msg, call))"
     ]
    }
   ],
   "source": [
    "nonDiffLFC <- which(abs(logFCNodes) < rootFC)\n",
    "length(nonDiffLFC)\n",
    "all(rownames(yAll) == names(logFCNodes))\n",
    "hist(mcols(yAll)[[\"pvalue\"]])\n",
    "hist(mcols(yAll)[[\"pvalue\"]][nonDiffLFC])"
   ]
  },
  {
   "cell_type": "code",
   "execution_count": 12,
   "id": "db4bdad9",
   "metadata": {},
   "outputs": [
    {
     "ename": "ERROR",
     "evalue": "Error in eval(expr, envir, enclos): object 'yAll' not found\n",
     "output_type": "error",
     "traceback": [
      "Error in eval(expr, envir, enclos): object 'yAll' not found\nTraceback:\n"
     ]
    }
   ],
   "source": [
    "yAll"
   ]
  },
  {
   "cell_type": "code",
   "execution_count": null,
   "id": "d198cd59",
   "metadata": {},
   "outputs": [],
   "source": []
  }
 ],
 "metadata": {
  "kernelspec": {
   "display_name": "R",
   "language": "R",
   "name": "ir"
  },
  "language_info": {
   "codemirror_mode": "r",
   "file_extension": ".r",
   "mimetype": "text/x-r-source",
   "name": "R",
   "pygments_lexer": "r",
   "version": "4.1.1"
  }
 },
 "nbformat": 4,
 "nbformat_minor": 5
}
