{
 "cells": [
  {
   "cell_type": "code",
   "execution_count": 1,
   "id": "07e29ec3",
   "metadata": {},
   "outputs": [],
   "source": [
    "# devtools::install_github(\"NPSDC/beaveR\", ref = \"dev\")\n",
    "library(beaveR)\n",
    "setwd('/fs/cbcb-lab/rob/students/noor/Uncertainity/treeTerminusScripts')\n",
    "suppressPackageStartupMessages(source(\"tree_helper_function.R\"))\n",
    "suppressPackageStartupMessages(library(beaveR))\n",
    "clustFile <- \"../brain_sim_nodtu/mode=gc_bias/post_type=gibbs_nrep=100_tf=100/terminus/no_threshold0/cluster_nwk.txt\"\n",
    "quantDir <- file.path(\"../brain_sim_nodtu/mode=gc_bias/post_type=gibbs_nrep=100_tf=100/out_sal\") \n",
    "samples <- as.vector(outer(c(1:6), c(1,2), function(x,y) paste(x,y,sep='_')))\n",
    "quantFiles <- file.path(quantDir, samples, 'quant.sf')\n",
    "coldata <- data.frame(files=quantFiles, names=samples, condition=factor(rep(1:2, each=6)))\n",
    "# tseCons <- buildTSE(treeTermFile = clustFile, coldata = coldata)"
   ]
  },
  {
   "cell_type": "code",
   "execution_count": 2,
   "id": "27d3855b",
   "metadata": {},
   "outputs": [],
   "source": [
    "saveDir <- \"environment/brain_sim_nodtu/mode=gc_bias/post_type=gibbs_nrep=100_tf=100/comp_trees/DE\"\n",
    "load(file.path(saveDir, \"cutsCons.RData\"))\n",
    "load(file.path(saveDir, \"tseConsUp.RData\"))\n",
    "# save(tse, file=file.path(saveDir, \"tseCons.RData\"))"
   ]
  },
  {
   "cell_type": "code",
   "execution_count": 9,
   "id": "a9af8750",
   "metadata": {
    "scrolled": false
   },
   "outputs": [
    {
     "data": {
      "text/html": [
       "<style>\n",
       ".list-inline {list-style: none; margin:0; padding: 0}\n",
       ".list-inline>li {display: inline-block}\n",
       ".list-inline>li:not(:last-child)::after {content: \"\\00b7\"; padding: 0 .5ex}\n",
       "</style>\n",
       "<ol class=list-inline><li>'irv_height_0.05'</li><li>'irv_height_0.1'</li><li>'irv_height_1'</li><li>'irv_height_5'</li><li>'irv_height_10'</li><li>'lfcTPMDesc'</li><li>'LFC'</li><li>'lfcTPM'</li><li>'lfcTPMDescNoMIRV'</li><li>'lfcTPMNoMIRV'</li></ol>\n"
      ],
      "text/latex": [
       "\\begin{enumerate*}\n",
       "\\item 'irv\\_height\\_0.05'\n",
       "\\item 'irv\\_height\\_0.1'\n",
       "\\item 'irv\\_height\\_1'\n",
       "\\item 'irv\\_height\\_5'\n",
       "\\item 'irv\\_height\\_10'\n",
       "\\item 'lfcTPMDesc'\n",
       "\\item 'LFC'\n",
       "\\item 'lfcTPM'\n",
       "\\item 'lfcTPMDescNoMIRV'\n",
       "\\item 'lfcTPMNoMIRV'\n",
       "\\end{enumerate*}\n"
      ],
      "text/markdown": [
       "1. 'irv_height_0.05'\n",
       "2. 'irv_height_0.1'\n",
       "3. 'irv_height_1'\n",
       "4. 'irv_height_5'\n",
       "5. 'irv_height_10'\n",
       "6. 'lfcTPMDesc'\n",
       "7. 'LFC'\n",
       "8. 'lfcTPM'\n",
       "9. 'lfcTPMDescNoMIRV'\n",
       "10. 'lfcTPMNoMIRV'\n",
       "\n",
       "\n"
      ],
      "text/plain": [
       " [1] \"irv_height_0.05\"  \"irv_height_0.1\"   \"irv_height_1\"     \"irv_height_5\"    \n",
       " [5] \"irv_height_10\"    \"lfcTPMDesc\"       \"LFC\"              \"lfcTPM\"          \n",
       " [9] \"lfcTPMDescNoMIRV\" \"lfcTPMNoMIRV\"    "
      ]
     },
     "metadata": {},
     "output_type": "display_data"
    },
    {
     "data": {
      "text/html": [
       "8798"
      ],
      "text/latex": [
       "8798"
      ],
      "text/markdown": [
       "8798"
      ],
      "text/plain": [
       "[1] 8798"
      ]
     },
     "metadata": {},
     "output_type": "display_data"
    },
    {
     "data": {
      "text/plain": [
       "   Min. 1st Qu.  Median    Mean 3rd Qu.    Max. \n",
       " 0.4257  0.7799  1.0270  1.0093  1.2605  1.4836 "
      ]
     },
     "metadata": {},
     "output_type": "display_data"
    },
    {
     "name": "stdout",
     "output_type": "stream",
     "text": [
      "[1] 1\n"
     ]
    },
    {
     "data": {
      "text/html": [
       "<strong>Node138201:</strong> 0.012704739330669"
      ],
      "text/latex": [
       "\\textbf{Node138201:} 0.012704739330669"
      ],
      "text/markdown": [
       "**Node138201:** 0.012704739330669"
      ],
      "text/plain": [
       "Node138201 \n",
       "0.01270474 "
      ]
     },
     "metadata": {},
     "output_type": "display_data"
    },
    {
     "data": {
      "text/html": [
       "<strong>Node138201:</strong> 0.01"
      ],
      "text/latex": [
       "\\textbf{Node138201:} 0.01"
      ],
      "text/markdown": [
       "**Node138201:** 0.01"
      ],
      "text/plain": [
       "Node138201 \n",
       "      0.01 "
      ]
     },
     "metadata": {},
     "output_type": "display_data"
    }
   ],
   "source": [
    "names(cuts)\n",
    "nn <- c(\"lfcTPMDescNoMIRV\", 'irv_height_1','irv_height_5','irv_height_10')\n",
    "reqCuts <- cuts[nn]\n",
    "load(\"environment/brain_sim_nodtu_lowfc/simulate.rda\")\n",
    "suppressPackageStartupMessages(library(TreeSummarizedExperiment))\n",
    "suppressPackageStartupMessages(library(ape))\n",
    "tree <- rowTree(tseCons)\n",
    "l <- length(tree$tip)\n",
    "missingTxps <- setdiff(rownames(tseCons)[1:l], rownames(sim.counts.mat))\n",
    "dts <- Reduce(union, c(names(iso.dge)[iso.dge], names(iso.dte)[iso.dte], names(iso.dte.only)[iso.dte.only], \n",
    "                       names(iso.dtu)[iso.dtu]))\n",
    "dts <- intersect(dts, rownames(sim.counts.mat))\n",
    "sim.counts.mat <- rbind(sim.counts.mat, matrix(0, nrow = length(missingTxps), ncol = ncol(sim.counts.mat),\n",
    "                                               dimnames = list(missingTxps, colnames(sim.counts.mat))))\n",
    "sim.counts.mat <- sim.counts.mat[rownames(tseCons)[1:l],]\n",
    "dts <- intersect(dts, rownames(sim.counts.mat))\n",
    "\n",
    "innNodes <- l+1:tree$Nnode\n",
    "aggCountsNodes <- computeAggNodesU(tree, c(1:length(tree$tip),innNodes), sim.counts.mat)\n",
    "logFCNodes <- ifelse(rowSums(aggCountsNodes)==0, 0, log2(aggCountsNodes[,2]+1)-log2(aggCountsNodes[,1]+1))\n",
    "names(logFCNodes)[(l+1):length(logFCNodes)] <- paste(\"Node\", names(logFCNodes)[(l+1):length(logFCNodes)], sep=\"\")\n",
    "rootFC <- abs(logFCNodes[l+1])\n",
    "\n",
    "temp <- tseCons\n",
    "length(dts)\n",
    "summary(abs(logFCNodes[dts]))\n",
    "print(mean(abs(logFCNodes[dts]) >= rootFC))\n",
    "rootFC\n",
    "mcols(tseCons)[[\"meanInfRV\"]][l+1]"
   ]
  },
  {
   "cell_type": "code",
   "execution_count": 7,
   "id": "36e1733c",
   "metadata": {},
   "outputs": [
    {
     "data": {
      "text/html": [
       "<style>\n",
       ".list-inline {list-style: none; margin:0; padding: 0}\n",
       ".list-inline>li {display: inline-block}\n",
       ".list-inline>li:not(:last-child)::after {content: \"\\00b7\"; padding: 0 .5ex}\n",
       "</style>\n",
       "<ol class=list-inline><li>'lfcTPMDescNoMIRV'</li><li>'irv_height_1'</li><li>'irv_height_5'</li><li>'irv_height_10'</li></ol>\n"
      ],
      "text/latex": [
       "\\begin{enumerate*}\n",
       "\\item 'lfcTPMDescNoMIRV'\n",
       "\\item 'irv\\_height\\_1'\n",
       "\\item 'irv\\_height\\_5'\n",
       "\\item 'irv\\_height\\_10'\n",
       "\\end{enumerate*}\n"
      ],
      "text/markdown": [
       "1. 'lfcTPMDescNoMIRV'\n",
       "2. 'irv_height_1'\n",
       "3. 'irv_height_5'\n",
       "4. 'irv_height_10'\n",
       "\n",
       "\n"
      ],
      "text/plain": [
       "[1] \"lfcTPMDescNoMIRV\" \"irv_height_1\"     \"irv_height_5\"     \"irv_height_10\"   "
      ]
     },
     "metadata": {},
     "output_type": "display_data"
    }
   ],
   "source": [
    "names(reqCuts)"
   ]
  },
  {
   "cell_type": "code",
   "execution_count": 9,
   "id": "068ecfe3",
   "metadata": {},
   "outputs": [
    {
     "name": "stderr",
     "output_type": "stream",
     "text": [
      "loading existing TxDb created: 2023-03-02 17:08:07\n",
      "\n",
      "obtaining transcript-to-gene mapping from database\n",
      "\n",
      "loading existing gene ranges created: 2023-03-02 17:08:18\n",
      "\n",
      "summarizing abundance\n",
      "\n",
      "summarizing counts\n",
      "\n",
      "summarizing length\n",
      "\n",
      "summarizing inferential replicates\n",
      "\n"
     ]
    },
    {
     "data": {
      "text/html": [
       "4150"
      ],
      "text/latex": [
       "4150"
      ],
      "text/markdown": [
       "4150"
      ],
      "text/plain": [
       "[1] 4150"
      ]
     },
     "metadata": {},
     "output_type": "display_data"
    },
    {
     "data": {
      "text/html": [
       "4108"
      ],
      "text/latex": [
       "4108"
      ],
      "text/markdown": [
       "4108"
      ],
      "text/plain": [
       "[1] 4108"
      ]
     },
     "metadata": {},
     "output_type": "display_data"
    }
   ],
   "source": [
    "set.seed(1)\n",
    "y <- fishpond::scaleInfReps(temp[1:l,])\n",
    "y <- labelKeep(y)\n",
    "y <- swish(y, x=\"condition\")\n",
    "detNodes <- list()\n",
    "detNodes[[\"Txps\"]] <- lapply(c(0.01, 0.05, 0.1), function(x) which(mcols(y)[,\"qvalue\"] <= x ))\n",
    "\n",
    "negNodes <- list()\n",
    "negNodes[[\"Txps\"]] <- lapply(detNodes[[\"Txps\"]], function(nodes) setdiff(seq(l), \n",
    "                                                          unlist(Descendants(tree, nodes))))\n",
    "gse <- summarizeToGene(tseCons[1:l,])\n",
    "dg <- union(dge.genes, dte.genes)\n",
    "length(dg)\n",
    "sum(dg %in% rownames(gse))\n",
    "dg <- intersect(dge.genes, rownames(gse))\n",
    "\n",
    "gse <- fishpond::scaleInfReps(gse)\n",
    "gse <- labelKeep(gse)\n",
    "set.seed(1)\n",
    "gse <- swish(gse, x=\"condition\")\n",
    "detNodes[[\"Genes\"]] <- lapply(c(0.01, 0.05, 0.1), function(x) which(mcols(gse)[,\"qvalue\"] <= x ))\n",
    "negNodes[[\"Genes\"]] <- lapply(detNodes[[\"Genes\"]], function(nodes) setdiff(seq(nrow(gse)), nodes))"
   ]
  },
  {
   "cell_type": "code",
   "execution_count": 10,
   "id": "9b578325",
   "metadata": {},
   "outputs": [],
   "source": [
    "for(cuName in nn) {\n",
    "    y <- temp[sort(cuts[[cuName]]),]\n",
    "    y <- fishpond::scaleInfReps(y)\n",
    "    y <- labelKeep(y)\n",
    "    set.seed(1)\n",
    "    y <- swish(y, x=\"condition\")\n",
    "    detNodes[[cuName]] <- lapply(c(0.01, 0.05, 0.1), function(x) {\n",
    "        nodes <- rownames(y)[which(mcols(y)[,\"qvalue\"] <= x)]\n",
    "         match(nodes, names(logFCNodes))\n",
    "\n",
    "    })\n",
    "    negNodes[[cuName]] <- lapply(c(0.01, 0.05, 0.1), function(x) {\n",
    "        nodes <- rownames(y)[setdiff(seq(nrow(y)), which(mcols(y)[,\"qvalue\"] <= x))]\n",
    "        match(nodes, names(logFCNodes))\n",
    "    })\n",
    "}"
   ]
  },
  {
   "cell_type": "code",
   "execution_count": 10,
   "id": "55dd5cfb",
   "metadata": {},
   "outputs": [],
   "source": [
    "detNodes <- list()\n",
    "negNodes <- list()\n",
    "nn <- c('irv_height_0.05', 'irv_height_0.1')\n",
    "temp <- tseCons\n",
    "for(cuName in nn) {\n",
    "    y <- temp[sort(cuts[[cuName]]),]\n",
    "    y <- fishpond::scaleInfReps(y)\n",
    "    y <- labelKeep(y)\n",
    "    set.seed(1)\n",
    "    y <- swish(y, x=\"condition\")\n",
    "    detNodes[[cuName]] <- lapply(c(0.01, 0.05, 0.1), function(x) {\n",
    "        nodes <- rownames(y)[which(mcols(y)[,\"qvalue\"] <= x)]\n",
    "         match(nodes, names(logFCNodes))\n",
    "\n",
    "    })\n",
    "    negNodes[[cuName]] <- lapply(c(0.01, 0.05, 0.1), function(x) {\n",
    "        nodes <- rownames(y)[setdiff(seq(nrow(y)), which(mcols(y)[,\"qvalue\"] <= x))]\n",
    "        match(nodes, names(logFCNodes))\n",
    "    })\n",
    "}"
   ]
  },
  {
   "cell_type": "code",
   "execution_count": 11,
   "id": "e1db122b",
   "metadata": {},
   "outputs": [
    {
     "data": {
      "text/html": [
       "1"
      ],
      "text/latex": [
       "1"
      ],
      "text/markdown": [
       "1"
      ],
      "text/plain": [
       "[1] 1"
      ]
     },
     "metadata": {},
     "output_type": "display_data"
    }
   ],
   "source": [
    "1"
   ]
  },
  {
   "cell_type": "code",
   "execution_count": 11,
   "id": "a0c82f73",
   "metadata": {},
   "outputs": [
    {
     "name": "stdout",
     "output_type": "stream",
     "text": [
      "[1] \"Txps\"\n",
      "[1] \"tp 0.990276157137301\"\n",
      "[1] \"tp 0.962688916876574\"\n",
      "[1] \"tp 0.92637778712663\"\n",
      "[1] \"lfcTPMDescNoMIRV\"\n",
      "[1] \"tp 0.999080882352941\"\n",
      "[1] \"tp 0.962388059701493\"\n",
      "[1] \"tp 0.919754732071448\"\n",
      "[1] \"irv_height_1\"\n",
      "[1] \"tp 0.998256624825662\"\n",
      "[1] \"tp 0.964522058823529\"\n",
      "[1] \"tp 0.9230644375913\"\n",
      "[1] \"irv_height_5\"\n",
      "[1] \"tp 0.997685950413223\"\n",
      "[1] \"tp 0.963011031797534\"\n",
      "[1] \"tp 0.920444824636441\"\n",
      "[1] \"irv_height_10\"\n",
      "[1] \"tp 0.990300678952473\"\n",
      "[1] \"tp 0.956148564294632\"\n",
      "[1] \"tp 0.919431279620853\"\n",
      "               Method Metric     FDR_0.01   FDR_0.05   FDR_0.10\n",
      "fdr              Txps    FDR  0.009723843 0.03731108 0.07362221\n",
      "tpr              Txps    TPR    0.5787679  0.6950443  0.7508525\n",
      "fdr1 lfcTPMDescNoMIRV    FDR 0.0009191176 0.03761194 0.08024527\n",
      "tpr1 lfcTPMDescNoMIRV    TPR    0.5014994   0.743714  0.7958478\n",
      "fdr2     irv_height_1    FDR  0.001743375 0.03547794 0.07693556\n",
      "tpr2     irv_height_1    TPR    0.3916017  0.7176857   0.777869\n",
      "fdr3     irv_height_5    FDR   0.00231405 0.03698897 0.07955518\n",
      "tpr3     irv_height_5    TPR    0.3602722  0.7086069  0.7706816\n",
      "fdr4    irv_height_10    FDR  0.009699321 0.04385144 0.08056872\n",
      "tpr4    irv_height_10    TPR    0.5931219  0.7118624   0.766353\n"
     ]
    }
   ],
   "source": [
    "df <- data.frame(Method=character(), Metric=character(), FDR_0.01 = numeric(), FDR_0.05 = numeric(), FDR_0.10 = numeric())\n",
    "for(n in names(detNodes))\n",
    "{\n",
    "    if(!n%in%c(\"term\", \"Genes\")) {\n",
    "        print(n)\n",
    "        stats <-  sapply(seq_along(detNodes[[n]]), function(i) computeMetOut(detNodes[[n]][[i]], logFCNodes, tree = tree, negNodes = negNodes[[n]][[i]], lfcThresh = rootFC))\n",
    "        colnames(stats) <- colnames(df)[c(3:5)]\n",
    "        stats <- cbind(Method=rep(n,2), Metric = c(\"FDR\", \"TPR\"), stats)\n",
    "        df <- rbind(df, stats)\n",
    "        \n",
    "    }\n",
    "    \n",
    "}\n",
    "print(df)"
   ]
  },
  {
   "cell_type": "code",
   "execution_count": 12,
   "id": "d5605ad0",
   "metadata": {},
   "outputs": [
    {
     "data": {
      "text/html": [
       "<table class=\"dataframe\">\n",
       "<caption>A tibble: 5 × 7</caption>\n",
       "<thead>\n",
       "\t<tr><th scope=col>Method</th><th scope=col>0.01_FDR</th><th scope=col>0.05_FDR</th><th scope=col>0.1_FDR</th><th scope=col>0.01_TPR</th><th scope=col>0.05_TPR</th><th scope=col>0.1_TPR</th></tr>\n",
       "\t<tr><th scope=col>&lt;named list&gt;</th><th scope=col>&lt;dbl&gt;</th><th scope=col>&lt;dbl&gt;</th><th scope=col>&lt;dbl&gt;</th><th scope=col>&lt;dbl&gt;</th><th scope=col>&lt;dbl&gt;</th><th scope=col>&lt;dbl&gt;</th></tr>\n",
       "</thead>\n",
       "<tbody>\n",
       "\t<tr><td>Txps</td><td>0.010</td><td>0.037</td><td>0.074</td><td>0.579</td><td>0.695</td><td>0.751</td></tr>\n",
       "\t<tr><td>lfcTPMDescNoMIRV</td><td>0.001</td><td>0.038</td><td>0.080</td><td>0.501</td><td>0.744</td><td>0.796</td></tr>\n",
       "\t<tr><td>irv_height_1</td><td>0.002</td><td>0.035</td><td>0.077</td><td>0.392</td><td>0.718</td><td>0.778</td></tr>\n",
       "\t<tr><td>irv_height_5</td><td>0.002</td><td>0.037</td><td>0.080</td><td>0.360</td><td>0.709</td><td>0.771</td></tr>\n",
       "\t<tr><td>irv_height_10</td><td>0.010</td><td>0.044</td><td>0.081</td><td>0.593</td><td>0.712</td><td>0.766</td></tr>\n",
       "</tbody>\n",
       "</table>\n"
      ],
      "text/latex": [
       "A tibble: 5 × 7\n",
       "\\begin{tabular}{lllllll}\n",
       " Method & 0.01\\_FDR & 0.05\\_FDR & 0.1\\_FDR & 0.01\\_TPR & 0.05\\_TPR & 0.1\\_TPR\\\\\n",
       " <named list> & <dbl> & <dbl> & <dbl> & <dbl> & <dbl> & <dbl>\\\\\n",
       "\\hline\n",
       "\t Txps & 0.010 & 0.037 & 0.074 & 0.579 & 0.695 & 0.751\\\\\n",
       "\t lfcTPMDescNoMIRV & 0.001 & 0.038 & 0.080 & 0.501 & 0.744 & 0.796\\\\\n",
       "\t irv\\_height\\_1 & 0.002 & 0.035 & 0.077 & 0.392 & 0.718 & 0.778\\\\\n",
       "\t irv\\_height\\_5 & 0.002 & 0.037 & 0.080 & 0.360 & 0.709 & 0.771\\\\\n",
       "\t irv\\_height\\_10 & 0.010 & 0.044 & 0.081 & 0.593 & 0.712 & 0.766\\\\\n",
       "\\end{tabular}\n"
      ],
      "text/markdown": [
       "\n",
       "A tibble: 5 × 7\n",
       "\n",
       "| Method &lt;named list&gt; | 0.01_FDR &lt;dbl&gt; | 0.05_FDR &lt;dbl&gt; | 0.1_FDR &lt;dbl&gt; | 0.01_TPR &lt;dbl&gt; | 0.05_TPR &lt;dbl&gt; | 0.1_TPR &lt;dbl&gt; |\n",
       "|---|---|---|---|---|---|---|\n",
       "| Txps | 0.010 | 0.037 | 0.074 | 0.579 | 0.695 | 0.751 |\n",
       "| lfcTPMDescNoMIRV | 0.001 | 0.038 | 0.080 | 0.501 | 0.744 | 0.796 |\n",
       "| irv_height_1 | 0.002 | 0.035 | 0.077 | 0.392 | 0.718 | 0.778 |\n",
       "| irv_height_5 | 0.002 | 0.037 | 0.080 | 0.360 | 0.709 | 0.771 |\n",
       "| irv_height_10 | 0.010 | 0.044 | 0.081 | 0.593 | 0.712 | 0.766 |\n",
       "\n"
      ],
      "text/plain": [
       "  Method           0.01_FDR 0.05_FDR 0.1_FDR 0.01_TPR 0.05_TPR 0.1_TPR\n",
       "1 Txps             0.010    0.037    0.074   0.579    0.695    0.751  \n",
       "2 lfcTPMDescNoMIRV 0.001    0.038    0.080   0.501    0.744    0.796  \n",
       "3 irv_height_1     0.002    0.035    0.077   0.392    0.718    0.778  \n",
       "4 irv_height_5     0.002    0.037    0.080   0.360    0.709    0.771  \n",
       "5 irv_height_10    0.010    0.044    0.081   0.593    0.712    0.766  "
      ]
     },
     "metadata": {},
     "output_type": "display_data"
    }
   ],
   "source": [
    "suppressPackageStartupMessages(library(tidyr))\n",
    "dfA <- df %>% pivot_wider(names_from = Metric, values_from = c(3:5))\n",
    "dfA <- dfA[,c(1,seq(2,7,2),seq(3,7,2))]\n",
    "colnames(dfA)[c(2:7)] <- as.vector(outer(c(0.01,0.05,0.1), c(\"FDR\",\"TPR\"), function(x,y) paste(x,y,sep=\"_\")))\n",
    "for(i in seq(ncol(dfA)-1))\n",
    "    dfA[,i+1] <- round(as.numeric(unlist(dfA[,i+1])),3)\n",
    "dfA"
   ]
  },
  {
   "cell_type": "code",
   "execution_count": 12,
   "id": "15b19e2d",
   "metadata": {},
   "outputs": [
    {
     "name": "stdout",
     "output_type": "stream",
     "text": [
      "[1] \"irv_height_0.05\"\n",
      "[1] \"tp 0.989348370927318\"\n",
      "[1] \"tp 0.958007303077726\"\n",
      "[1] \"tp 0.915744881148505\"\n",
      "[1] \"irv_height_0.1\"\n",
      "[1] \"tp 0.989531840651352\"\n",
      "[1] \"tp 0.962891098714528\"\n",
      "[1] \"tp 0.925258298527149\"\n",
      "              Method Metric   FDR_0.01  FDR_0.05   FDR_0.10\n",
      "fdr  irv_height_0.05    FDR 0.01065163 0.0419927 0.08425512\n",
      "tpr  irv_height_0.05    TPR  0.6288331 0.7313819  0.7747909\n",
      "fdr1  irv_height_0.1    FDR 0.01046816 0.0371089  0.0747417\n",
      "tpr1  irv_height_0.1    TPR  0.6239457 0.7279061  0.7717272\n"
     ]
    },
    {
     "data": {
      "text/html": [
       "<table class=\"dataframe\">\n",
       "<caption>A tibble: 2 × 7</caption>\n",
       "<thead>\n",
       "\t<tr><th scope=col>Method</th><th scope=col>0.01_FDR</th><th scope=col>0.05_FDR</th><th scope=col>0.1_FDR</th><th scope=col>0.01_TPR</th><th scope=col>0.05_TPR</th><th scope=col>0.1_TPR</th></tr>\n",
       "\t<tr><th scope=col>&lt;named list&gt;</th><th scope=col>&lt;dbl&gt;</th><th scope=col>&lt;dbl&gt;</th><th scope=col>&lt;dbl&gt;</th><th scope=col>&lt;dbl&gt;</th><th scope=col>&lt;dbl&gt;</th><th scope=col>&lt;dbl&gt;</th></tr>\n",
       "</thead>\n",
       "<tbody>\n",
       "\t<tr><td>irv_height_0.05</td><td>0.011</td><td>0.042</td><td>0.084</td><td>0.629</td><td>0.731</td><td>0.775</td></tr>\n",
       "\t<tr><td>irv_height_0.1</td><td>0.010</td><td>0.037</td><td>0.075</td><td>0.624</td><td>0.728</td><td>0.772</td></tr>\n",
       "</tbody>\n",
       "</table>\n"
      ],
      "text/latex": [
       "A tibble: 2 × 7\n",
       "\\begin{tabular}{lllllll}\n",
       " Method & 0.01\\_FDR & 0.05\\_FDR & 0.1\\_FDR & 0.01\\_TPR & 0.05\\_TPR & 0.1\\_TPR\\\\\n",
       " <named list> & <dbl> & <dbl> & <dbl> & <dbl> & <dbl> & <dbl>\\\\\n",
       "\\hline\n",
       "\t irv\\_height\\_0.05 & 0.011 & 0.042 & 0.084 & 0.629 & 0.731 & 0.775\\\\\n",
       "\t irv\\_height\\_0.1 & 0.010 & 0.037 & 0.075 & 0.624 & 0.728 & 0.772\\\\\n",
       "\\end{tabular}\n"
      ],
      "text/markdown": [
       "\n",
       "A tibble: 2 × 7\n",
       "\n",
       "| Method &lt;named list&gt; | 0.01_FDR &lt;dbl&gt; | 0.05_FDR &lt;dbl&gt; | 0.1_FDR &lt;dbl&gt; | 0.01_TPR &lt;dbl&gt; | 0.05_TPR &lt;dbl&gt; | 0.1_TPR &lt;dbl&gt; |\n",
       "|---|---|---|---|---|---|---|\n",
       "| irv_height_0.05 | 0.011 | 0.042 | 0.084 | 0.629 | 0.731 | 0.775 |\n",
       "| irv_height_0.1 | 0.010 | 0.037 | 0.075 | 0.624 | 0.728 | 0.772 |\n",
       "\n"
      ],
      "text/plain": [
       "  Method          0.01_FDR 0.05_FDR 0.1_FDR 0.01_TPR 0.05_TPR 0.1_TPR\n",
       "1 irv_height_0.05 0.011    0.042    0.084   0.629    0.731    0.775  \n",
       "2 irv_height_0.1  0.010    0.037    0.075   0.624    0.728    0.772  "
      ]
     },
     "metadata": {},
     "output_type": "display_data"
    }
   ],
   "source": [
    "df <- data.frame(Method=character(), Metric=character(), FDR_0.01 = numeric(), FDR_0.05 = numeric(), FDR_0.10 = numeric())\n",
    "for(n in names(detNodes))\n",
    "{\n",
    "    if(!n%in%c(\"term\", \"Genes\")) {\n",
    "        print(n)\n",
    "        stats <-  sapply(seq_along(detNodes[[n]]), function(i) computeMetOut(detNodes[[n]][[i]], logFCNodes, tree = tree, negNodes = negNodes[[n]][[i]], lfcThresh = rootFC))\n",
    "        colnames(stats) <- colnames(df)[c(3:5)]\n",
    "        stats <- cbind(Method=rep(n,2), Metric = c(\"FDR\", \"TPR\"), stats)\n",
    "        df <- rbind(df, stats)\n",
    "        \n",
    "    }\n",
    "    \n",
    "}\n",
    "print(df)\n",
    "suppressPackageStartupMessages(library(tidyr))\n",
    "dfA <- df %>% pivot_wider(names_from = Metric, values_from = c(3:5))\n",
    "dfA <- dfA[,c(1,seq(2,7,2),seq(3,7,2))]\n",
    "colnames(dfA)[c(2:7)] <- as.vector(outer(c(0.01,0.05,0.1), c(\"FDR\",\"TPR\"), function(x,y) paste(x,y,sep=\"_\")))\n",
    "for(i in seq(ncol(dfA)-1))\n",
    "    dfA[,i+1] <- round(as.numeric(unlist(dfA[,i+1])),3)\n",
    "dfA"
   ]
  },
  {
   "cell_type": "code",
   "execution_count": null,
   "id": "63d0c324",
   "metadata": {},
   "outputs": [],
   "source": []
  }
 ],
 "metadata": {
  "kernelspec": {
   "display_name": "R",
   "language": "R",
   "name": "ir"
  },
  "language_info": {
   "codemirror_mode": "r",
   "file_extension": ".r",
   "mimetype": "text/x-r-source",
   "name": "R",
   "pygments_lexer": "r",
   "version": "4.1.1"
  }
 },
 "nbformat": 4,
 "nbformat_minor": 5
}
