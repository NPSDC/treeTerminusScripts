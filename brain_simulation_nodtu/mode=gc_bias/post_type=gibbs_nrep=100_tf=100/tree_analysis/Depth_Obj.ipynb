{
 "cells": [
  {
   "cell_type": "code",
   "execution_count": 4,
   "id": "a8f5dcb8",
   "metadata": {},
   "outputs": [],
   "source": [
    "setwd('/fs/cbcb-lab/rob/students/noor/Uncertainity/treeTerminusScripts')\n",
    "dir <- \"environment/brain_sim_nodtu/mode=gc_bias/post_type=gibbs_nrep=100_tf=100/comp_trees\"\n",
    "suppressPackageStartupMessages(source(\"tree_helper_function.R\"))\n",
    "load(\"environment/brain_sim_nodtu/mode=gc_bias/mapDf.RData\")\n",
    "load(file.path(dir, \"treeCons.RData\"))\n",
    "load(file.path(dir, \"yAggConsNS.RData\"))\n",
    "load(file.path(dir, \"treeCor.RData\"))\n",
    "load(file.path(dir, \"yAggCorNS.RData\"))\n",
    "load(file.path(dir, \"treeCons0.RData\"))\n",
    "load(file.path(dir, \"yAggConsNS0.RData\"))\n",
    "load(file.path(dir, \"treeMeanInf0.RData\"))\n",
    "load(file.path(dir, \"yAggMeanInfNS0.RData\"))\n",
    "load(file.path(dir, \"treeThr.RData\"))\n",
    "load(file.path(dir, \"yAggThrNS.RData\"))\n",
    "suppressPackageStartupMessages(source(\"brain_simulation_nodtu/mode=gc_bias/post_type=gibbs_nrep=100_tf=100/tree_analysis/tree_filter.R\"))"
   ]
  },
  {
   "cell_type": "code",
   "execution_count": 6,
   "id": "33e1245a",
   "metadata": {},
   "outputs": [],
   "source": [
    "dfInf <- data.frame(matrix(nrow=0, ncol=4))\n",
    "colnames(dfInf) <- c(\"Type\", \"Value\", \"nCuts\", \"gamma\")\n",
    "\n",
    "l <- length(treeCons$tip)\n",
    "trees <- list(treeCons, treeCons0, treeMeanInf0, treeCor, treeThr)\n",
    "names(trees) <- c(\"ConsFilt\", \"Cons\", \"Mean\", \"AC\", \"ConsFiltES\")\n",
    "yAgg <- list(yAggConsNS, yAggConsNS0, yAggMeanInfNS0, yAggCorNS, yAggThrNS)\n",
    "names(yAgg) <- c(\"ConsFilt\", \"Cons\", \"Mean\", \"AC\", \"ConsFiltES\")\n",
    "\n",
    "gammas <- c(0.05,0.1,0.5,1,5)\n",
    "dCutsDInf <- vector(mode = \"list\", length=length(gammas))\n",
    "names(dCutsDInf) <- paste(\"gamma=\", gammas, sep=\"\")\n",
    "for(j in seq_along(dCutsDInf)) {\n",
    "    gamma <- gammas[j]\n",
    "    dCutsDInf[[j]] <- vector(mode=\"list\", length(trees))\n",
    "    names(dCutsDInf[[j]]) <- names(trees)\n",
    "    for(i in seq(trees)) {\n",
    "        globArr <- rep(-100, l+trees[[i]]$Nnode)\n",
    "        descL <- sapply(Descendants(trees[[i]], seq(l+trees[[i]]$Nnode)), length)\n",
    "        infReps <- assays(yAgg[[i]])[grep(\"infRep\", assayNames(yAgg[[i]]))]\n",
    "        infReps <- abind::abind(as.list(infReps), along = 3)\n",
    "        obj <- mcols(yAgg[[i]])[[\"meanInfRV\"]] + gamma*node.depth(trees[[i]],2)\n",
    "        val <- findOptSum(trees[[i]], obj, l+1, descL)\n",
    "\n",
    "        gc()\n",
    "        dCutsDInf[[j]][[i]] <- findCuts(trees[[i]], globArr, obj, l+1, descL)\n",
    "        gc()\n",
    "        dfInf <- rbind(dfInf, data.frame(Type = names(trees)[i], Value = val,\n",
    "               nCuts = length(dCutsDInf[[j]][[i]]), gamma=gamma))\n",
    "    }\n",
    "}\n",
    "print(dfInf)\n",
    "# save(dfInf, file=file.path(dir, \"dfInf.RData\"))\n",
    "# save(dCutsDInf, file=file.path(dir, \"dCutsDInf.RData\"))"
   ]
  },
  {
   "cell_type": "code",
   "execution_count": 7,
   "id": "23ea8f9e",
   "metadata": {},
   "outputs": [],
   "source": [
    "load(file.path(dir, \"dfInf.RData\"))\n",
    "load(file.path(dir, \"dCutsDInf.RData\"))"
   ]
  },
  {
   "cell_type": "code",
   "execution_count": 11,
   "id": "fa67de24",
   "metadata": {},
   "outputs": [],
   "source": [
    "dCutsDInf[[6]] <- vector(mode=\"list\", length(trees))\n",
    "names(dCutsDInf[[6]]) <- names(trees)\n",
    "for(j in seq(2,6))\n",
    "    dCutsDInf[[j]] <- dCutsDInf[[j-1]]"
   ]
  },
  {
   "cell_type": "code",
   "execution_count": 19,
   "id": "d71ac56d",
   "metadata": {},
   "outputs": [
    {
     "data": {
      "text/html": [
       "83114"
      ],
      "text/latex": [
       "83114"
      ],
      "text/markdown": [
       "83114"
      ],
      "text/plain": [
       "[1] 83114"
      ]
     },
     "metadata": {},
     "output_type": "display_data"
    },
    {
     "data": {
      "text/html": [
       "83114"
      ],
      "text/latex": [
       "83114"
      ],
      "text/markdown": [
       "83114"
      ],
      "text/plain": [
       "[1] 83114"
      ]
     },
     "metadata": {},
     "output_type": "display_data"
    }
   ],
   "source": [
    "length(dCutsDInf[[1]][[\"ConsInd\"]])\n",
    "length(dCutsDInf[[2]][[\"ConsInd\"]])"
   ]
  },
  {
   "cell_type": "code",
   "execution_count": 3,
   "id": "baa22e65",
   "metadata": {},
   "outputs": [
    {
     "data": {
      "text/html": [
       "<table class=\"dataframe\">\n",
       "<caption>A data.frame: 6 × 4</caption>\n",
       "<thead>\n",
       "\t<tr><th></th><th scope=col>Type</th><th scope=col>Value</th><th scope=col>nCuts</th><th scope=col>gamma</th></tr>\n",
       "\t<tr><th></th><th scope=col>&lt;chr&gt;</th><th scope=col>&lt;dbl&gt;</th><th scope=col>&lt;int&gt;</th><th scope=col>&lt;dbl&gt;</th></tr>\n",
       "</thead>\n",
       "<tbody>\n",
       "\t<tr><th scope=row>1</th><td>ConsInd   </td><td> 71432.19</td><td> 83114</td><td>0.1</td></tr>\n",
       "\t<tr><th scope=row>2</th><td>Cons      </td><td> 71612.51</td><td> 89247</td><td>0.1</td></tr>\n",
       "\t<tr><th scope=row>3</th><td>Mean      </td><td> 72945.97</td><td> 90209</td><td>0.1</td></tr>\n",
       "\t<tr><th scope=row>4</th><td>AC        </td><td>124265.98</td><td> 86551</td><td>0.1</td></tr>\n",
       "\t<tr><th scope=row>5</th><td>ConsRedInd</td><td>124014.10</td><td>122235</td><td>0.1</td></tr>\n",
       "\t<tr><th scope=row>6</th><td>ConsInd   </td><td>193261.57</td><td>112795</td><td>0.5</td></tr>\n",
       "</tbody>\n",
       "</table>\n"
      ],
      "text/latex": [
       "A data.frame: 6 × 4\n",
       "\\begin{tabular}{r|llll}\n",
       "  & Type & Value & nCuts & gamma\\\\\n",
       "  & <chr> & <dbl> & <int> & <dbl>\\\\\n",
       "\\hline\n",
       "\t1 & ConsInd    &  71432.19 &  83114 & 0.1\\\\\n",
       "\t2 & Cons       &  71612.51 &  89247 & 0.1\\\\\n",
       "\t3 & Mean       &  72945.97 &  90209 & 0.1\\\\\n",
       "\t4 & AC         & 124265.98 &  86551 & 0.1\\\\\n",
       "\t5 & ConsRedInd & 124014.10 & 122235 & 0.1\\\\\n",
       "\t6 & ConsInd    & 193261.57 & 112795 & 0.5\\\\\n",
       "\\end{tabular}\n"
      ],
      "text/markdown": [
       "\n",
       "A data.frame: 6 × 4\n",
       "\n",
       "| <!--/--> | Type &lt;chr&gt; | Value &lt;dbl&gt; | nCuts &lt;int&gt; | gamma &lt;dbl&gt; |\n",
       "|---|---|---|---|---|\n",
       "| 1 | ConsInd    |  71432.19 |  83114 | 0.1 |\n",
       "| 2 | Cons       |  71612.51 |  89247 | 0.1 |\n",
       "| 3 | Mean       |  72945.97 |  90209 | 0.1 |\n",
       "| 4 | AC         | 124265.98 |  86551 | 0.1 |\n",
       "| 5 | ConsRedInd | 124014.10 | 122235 | 0.1 |\n",
       "| 6 | ConsInd    | 193261.57 | 112795 | 0.5 |\n",
       "\n"
      ],
      "text/plain": [
       "  Type       Value     nCuts  gamma\n",
       "1 ConsInd     71432.19  83114 0.1  \n",
       "2 Cons        71612.51  89247 0.1  \n",
       "3 Mean        72945.97  90209 0.1  \n",
       "4 AC         124265.98  86551 0.1  \n",
       "5 ConsRedInd 124014.10 122235 0.1  \n",
       "6 ConsInd    193261.57 112795 0.5  "
      ]
     },
     "metadata": {},
     "output_type": "display_data"
    }
   ],
   "source": [
    "gamma <- 0.05\n",
    "j <- 1\n",
    "for(i in seq(trees)) {\n",
    "    globArr <- rep(-100, l+trees[[i]]$Nnode)\n",
    "    descL <- sapply(Descendants(trees[[i]], seq(l+trees[[i]]$Nnode)), length)\n",
    "    infReps <- assays(yAgg[[i]])[grep(\"infRep\", assayNames(yAgg[[i]]))]\n",
    "    infReps <- abind::abind(as.list(infReps), along = 3)\n",
    "    obj <- mcols(yAgg[[i]])[[\"meanInfRV\"]] + gamma*node.depth(trees[[i]],2)\n",
    "    val <- findOptSum(trees[[i]], obj, l+1, descL)\n",
    "\n",
    "    gc()\n",
    "    dCutsDInf[[j]][[i]] <- findCuts(trees[[i]], globArr, obj, l+1, descL)\n",
    "    gc()\n",
    "    dfInf <- rbind(dfInf, data.frame(Type = names(trees)[i], Value = val,\n",
    "           nCuts = length(dCutsDInf[[j]][[i]]), gamma=gamma))\n",
    "}\n",
    "\n"
   ]
  },
  {
   "cell_type": "code",
   "execution_count": null,
   "id": "99fe4460",
   "metadata": {},
   "outputs": [],
   "source": []
  }
 ],
 "metadata": {
  "kernelspec": {
   "display_name": "R",
   "language": "R",
   "name": "ir"
  },
  "language_info": {
   "codemirror_mode": "r",
   "file_extension": ".r",
   "mimetype": "text/x-r-source",
   "name": "R",
   "pygments_lexer": "r",
   "version": "4.1.1"
  }
 },
 "nbformat": 4,
 "nbformat_minor": 5
}
