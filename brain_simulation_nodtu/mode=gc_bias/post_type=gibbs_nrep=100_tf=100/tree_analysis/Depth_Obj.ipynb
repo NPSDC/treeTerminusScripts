{
 "cells": [
  {
   "cell_type": "code",
   "execution_count": 1,
   "id": "a8f5dcb8",
   "metadata": {},
   "outputs": [],
   "source": [
    "setwd('/fs/cbcb-lab/rob/students/noor/Uncertainity/treeTerminusScripts')\n",
    "dir <- \"environment/brain_sim_nodtu/mode=gc_bias/post_type=gibbs_nrep=100_tf=100/comp_trees\"\n",
    "suppressPackageStartupMessages(source(\"tree_helper_function.R\"))\n",
    "load(\"environment/brain_sim_nodtu/mode=gc_bias/mapDf.RData\")\n",
    "load(file.path(dir, \"treeCons.RData\"))\n",
    "load(file.path(dir, \"yAggConsNS.RData\"))\n",
    "load(file.path(dir, \"treeCor.RData\"))\n",
    "load(file.path(dir, \"yAggCorNS.RData\"))\n",
    "load(file.path(dir, \"treeCons0.RData\"))\n",
    "load(file.path(dir, \"yAggConsNS0.RData\"))\n",
    "load(file.path(dir, \"treeMeanInf0.RData\"))\n",
    "load(file.path(dir, \"yAggMeanInfNS0.RData\"))\n",
    "load(file.path(dir, \"treeThr.RData\"))\n",
    "load(file.path(dir, \"yAggThrNS.RData\"))\n",
    "suppressPackageStartupMessages(source(\"brain_simulation_nodtu/mode=gc_bias/post_type=gibbs_nrep=100_tf=100/tree_analysis/tree_filter.R\"))"
   ]
  },
  {
   "cell_type": "code",
   "execution_count": 3,
   "id": "33e1245a",
   "metadata": {},
   "outputs": [
    {
     "name": "stdout",
     "output_type": "stream",
     "text": [
      "         Type     Value nCuts gamma\n",
      "1   Consensus  15637.91 25470   0.1\n",
      "2  Consensus0  15828.01 25800   0.1\n",
      "3    MeanInf0  15890.42 25836   0.1\n",
      "4         Cor  29087.02 26488   0.1\n",
      "5         Thr  40503.04 36799   0.1\n",
      "6   Consensus  57785.52 31097   0.5\n",
      "7  Consensus0  57892.72 31195   0.5\n",
      "8    MeanInf0  57988.46 31219   0.5\n",
      "9         Cor  66824.81 31385   0.5\n",
      "10        Thr  69159.26 37044   0.5\n",
      "11  Consensus 100365.37 34445   1.0\n",
      "12 Consensus0 100417.33 34440   1.0\n",
      "13   MeanInf0 100525.01 34461   1.0\n",
      "14        Cor 107280.27 34485   1.0\n",
      "15        Thr 104401.29 37341   1.0\n",
      "16  Consensus 348009.88 41520   5.0\n",
      "17 Consensus0 348055.30 41521   5.0\n",
      "18   MeanInf0 348058.35 41529   5.0\n",
      "19        Cor 351919.53 41608   5.0\n",
      "20        Thr 347650.82 41459   5.0\n",
      "21  Consensus 606276.83 43412  10.0\n",
      "22 Consensus0 606280.77 43414  10.0\n",
      "23   MeanInf0 606290.92 43407  10.0\n",
      "24        Cor 609011.68 43499  10.0\n",
      "25        Thr 606207.02 43400  10.0\n"
     ]
    }
   ],
   "source": [
    "dfInf <- data.frame(matrix(nrow=0, ncol=4))\n",
    "colnames(dfInf) <- c(\"Type\", \"Value\", \"nCuts\", \"gamma\")\n",
    "\n",
    "l <- length(treeCons$tip)\n",
    "trees <- list(treeCons, treeCons0, treeMeanInf0, treeCor, treeThr)\n",
    "names(trees) <- c(\"Consensus\", \"Consensus0\", \"MeanInf0\", \"Cor\", \"Thr\")\n",
    "yAgg <- list(yAggConsNS, yAggConsNS0, yAggMeanInfNS0, yAggCorNS, yAggThrNS)\n",
    "names(yAgg) <- c(\"Consensus\", \"Consensus0\", \"MeanInf0\", \"Cor\", \"Thr\")\n",
    "\n",
    "dCutsDInf <- vector(mode = \"list\", length=length(yAgg))\n",
    "gammas <- c(0.1,0.5,1,5,10)\n",
    "names(dCutsDInf) <- paste(\"gamma=\", gammas, sep=\"\")\n",
    "for(j in seq_along(dCutsDInf)) {\n",
    "    gamma <- gammas[j]\n",
    "    dCutsDInf[[j]] <- vector(mode=\"list\", length(trees))\n",
    "    names(dCutsDInf[[j]]) <- names(trees)\n",
    "    for(i in seq(trees)) {\n",
    "        globArr <- rep(-100, l+trees[[i]]$Nnode)\n",
    "        descL <- sapply(Descendants(trees[[i]], seq(l+trees[[i]]$Nnode)), length)\n",
    "        infReps <- assays(yAgg[[i]])[grep(\"infRep\", assayNames(yAgg[[i]]))]\n",
    "        infReps <- abind::abind(as.list(infReps), along = 3)\n",
    "        obj <- mcols(yAgg[[i]])[[\"meanInfRV\"]] + gamma*node.depth(trees[[i]],2)\n",
    "        val <- findOptSum(trees[[i]], obj, l+1, descL)\n",
    "\n",
    "        gc()\n",
    "        dCutsDInf[[j]][[i]] <- findCuts(trees[[i]], globArr, obj, l+1, descL)\n",
    "        gc()\n",
    "        dfInf <- rbind(dfInf, data.frame(Type = names(trees)[i], Value = val,\n",
    "               nCuts = length(dCutsDInf[[j]][[i]]), gamma=gamma))\n",
    "    }\n",
    "}\n",
    "print(dfInf)\n",
    "save(dfInf, file=file.path(dir, \"dfInf.RData\"))\n",
    "save(dCutsDInf, file=file.path(dir, \"dCutsDInf.RData\"))"
   ]
  },
  {
   "cell_type": "code",
   "execution_count": 2,
   "id": "23ea8f9e",
   "metadata": {},
   "outputs": [
    {
     "ename": "ERROR",
     "evalue": "Error in eval(expr, envir, enclos): object 'dCutsDInf' not found\n",
     "output_type": "error",
     "traceback": [
      "Error in eval(expr, envir, enclos): object 'dCutsDInf' not found\nTraceback:\n"
     ]
    }
   ],
   "source": [
    "dCutsDInf"
   ]
  },
  {
   "cell_type": "code",
   "execution_count": null,
   "id": "baa22e65",
   "metadata": {},
   "outputs": [],
   "source": []
  }
 ],
 "metadata": {
  "kernelspec": {
   "display_name": "R",
   "language": "R",
   "name": "ir"
  },
  "language_info": {
   "codemirror_mode": "r",
   "file_extension": ".r",
   "mimetype": "text/x-r-source",
   "name": "R",
   "pygments_lexer": "r",
   "version": "4.1.1"
  }
 },
 "nbformat": 4,
 "nbformat_minor": 5
}
