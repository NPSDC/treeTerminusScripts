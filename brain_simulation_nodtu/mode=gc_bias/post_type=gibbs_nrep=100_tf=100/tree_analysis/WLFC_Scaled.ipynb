{
 "cells": [
  {
   "cell_type": "code",
   "execution_count": 1,
   "id": "19c74342",
   "metadata": {},
   "outputs": [],
   "source": [
    "setwd('/fs/cbcb-lab/rob/students/noor/Uncertainity/treeTerminusScripts')\n",
    "dir <- \"environment/brain_sim_nodtu/mode=gc_bias/post_type=gibbs_nrep=100_tf=100/comp_trees\"\n",
    "term_dir <- \"/fs/cbcb-lab/rob/students/noor/Uncertainity/brain_sim_nodtu/mode=gc_bias/post_type=gibbs_nrep=100_tf=100/terminus/\"\n",
    "suppressPackageStartupMessages(source(\"tree_helper_function.R\"))\n",
    "suppressPackageStartupMessages(source(\"old_terminus_helper.R\"))\n",
    "suppressPackageStartupMessages(library(ggplot2))\n",
    "suppressPackageStartupMessages(library(latex2exp))\n",
    "load(file.path(dir, \"treeCons.RData\"))\n",
    "load(file.path(dir, \"yAggConsNS.RData\"))\n",
    "load(file.path(dir, \"treeCor.RData\"))\n",
    "load(file.path(dir, \"yAggCorNS.RData\"))\n",
    "load(file.path(dir, \"treeCons0.RData\"))\n",
    "load(file.path(dir, \"yAggConsNS0.RData\"))\n",
    "load(file.path(dir, \"treeMeanInf0.RData\"))\n",
    "load(file.path(dir, \"yAggMeanInfNS0.RData\"))\n",
    "load(file.path(dir, \"treeThr.RData\"))\n",
    "load(file.path(dir, \"yAggThrNS.RData\"))\n",
    "load(file.path(dir, \"yAggTermThrNS.RData\"))\n",
    "suppressPackageStartupMessages(source(\"brain_simulation_nodtu/mode=gc_bias/post_type=gibbs_nrep=100_tf=100/tree_analysis/tree_filter.R\"))\n",
    "suppressPackageStartupMessages(library(beaveR))"
   ]
  },
  {
   "cell_type": "code",
   "execution_count": 5,
   "id": "b2bbe747",
   "metadata": {},
   "outputs": [
    {
     "name": "stdout",
     "output_type": "stream",
     "text": [
      "        Type    Value  nCuts\n",
      "1   ConsFilt 62106.10  80855\n",
      "2       Cons 64997.15  78155\n",
      "3       Mean 64292.77  79414\n",
      "4         AC 57893.55 101103\n",
      "5 ConsFiltES 40107.36 132182\n",
      "6       Txps 37442.28 139535\n",
      "7       Term 36956.71 131323\n"
     ]
    }
   ],
   "source": [
    "dfTPMLFC <- data.frame(matrix(nrow=0, ncol=3))\n",
    "colnames(dfTPMLFC) <- c(\"Type\", \"Value\", \"nCuts\")\n",
    "\n",
    "l <- length(treeCons$tip)\n",
    "trees <- list(treeCons, treeCons0, treeMeanInf0, treeCor, treeThr)\n",
    "names(trees) <- c(\"ConsFilt\", \"Cons\", \"Mean\", \"AC\", \"ConsFiltES\")\n",
    "yAgg <- list(yAggConsNS, yAggConsNS0, yAggMeanInfNS0, yAggCorNS, yAggThrNS, yAggTermThrNS)\n",
    "names(yAgg) <- c(\"ConsFilt\", \"Cons\", \"Mean\", \"AC\", \"ConsFiltES\", \"Term\")\n",
    "\n",
    "dCutsTPM <- vector(mode = \"list\", length=7)\n",
    "names(dCutsTPM) <- c(names(yAgg), \"Txps\")\n",
    "\n",
    "cutsTPM <- list()\n",
    "for(n in names(yAgg)) {\n",
    "    if(n != \"Term\") {\n",
    "        trees[[n]]$node.label <- as.character(length(trees[[n]]$tip) + 1:trees[[n]]$Nnode)\n",
    "        tse <- TreeSummarizedExperiment(assays = assays(yAgg[[n]]), colData = colData(yAgg[[n]]),\n",
    "            metadata = metadata(yAgg[[n]]), rowTree = trees[[n]])\n",
    "        descL <- sapply(Descendants(trees[[n]], seq(l+trees[[n]]$Nnode)), length)\n",
    "        sLFC <- getTPMLFC(tse, \"condition\")\n",
    "        met <- abs(sLFC)*descL\n",
    "        objS <- solveForOptimalCut(tse, metVec = met, type = 'max')\n",
    "        dCutsTPM[[n]] <- objS[[\"cut\"]]\n",
    "        df <- data.frame(Type = n, Value = objS[[\"optVal\"]], \n",
    "                         nCuts = length(dCutsTPM[[n]]))\n",
    "        dfTPMLFC <- rbind(dfTPMLFC, df)\n",
    "        if(n == \"ConsFiltES\") {\n",
    "            df <- data.frame(Type = \"Txps\", Value = sum(abs(met[1:l])), \n",
    "                         nCuts = l)\n",
    "            dfTPMLFC <- rbind(dfTPMLFC, df)\n",
    "        }\n",
    "    }\n",
    "        \n",
    "    else {\n",
    "        groupsClust <- parseClustFile(file.path(term_dir, \"old\", \"1_1\", \"clusters.txt\"), yAggTermThrNS, gsub=F)\n",
    "        mtxps <- setdiff(seq(l), unlist(groupsClust))\n",
    "        dCutsTPM[[n]] <- c(mtxps, l+1:length(groupsClust))\n",
    "        descL <- c(rep(1, length(mtxps)), sapply(groupsClust, length))\n",
    "        infReps <- assays(yAgg[[n]])[grep(\"infRep\", assayNames(yAgg[[n]]))]\n",
    "        infReps <- abind::abind(as.list(infReps), along = 3)\n",
    "        mSf <- 0\n",
    "        for(j in seq(dim(infReps)[3])) {\n",
    "                sf <- colSums(infReps[1:l,,j])\n",
    "                mSf <- mean(sf) + mSf\n",
    "                infReps[,,j] <- t(t(infReps[,,j])/sf)\n",
    "        }\n",
    "        mSf <- mSf/dim(infReps)[3]\n",
    "        \n",
    "        lfc <- getLog2FC(infReps, colData(yAgg[[n]])[[\"condition\"]], pc = 5/mSf)\n",
    "        \n",
    "        df <- data.frame(Type = n, Value = sum(abs(lfc[dCutsTPM[[n]]])*descL), \n",
    "                         nCuts = length(dCutsTPM[[n]]))\n",
    "        dfTPMLFC <- rbind(dfTPMLFC, df)\n",
    "    }\n",
    "}\n",
    "print(dfTPMLFC)\n",
    "saveDir <- \"environment/brain_sim_nodtu/mode=gc_bias/post_type=gibbs_nrep=100_tf=100/comp_trees/\"\n",
    "save(dfTPMLFC, file=file.path(saveDir, \"dfTPMLFC.RData\"))\n",
    "save(dCutsTPM, file=file.path(saveDir, \"dCutsTPM.RData\"))"
   ]
  },
  {
   "cell_type": "code",
   "execution_count": 2,
   "id": "bcde68f9",
   "metadata": {},
   "outputs": [],
   "source": [
    "saveDir <- \"environment/brain_sim_nodtu/mode=gc_bias/post_type=gibbs_nrep=100_tf=100/comp_trees/\"\n",
    "load(file=file.path(saveDir, \"dCutsTPM.RData\"))"
   ]
  },
  {
   "cell_type": "code",
   "execution_count": 3,
   "id": "1e9625d7",
   "metadata": {},
   "outputs": [],
   "source": [
    "l <- length(treeCons$tip)\n",
    "trees <- list(treeCons, treeCons0, treeMeanInf0, treeCor, treeThr)\n",
    "names(trees) <- c(\"ConsFilt\", \"Cons\", \"Mean\", \"AC\", \"ConsFiltES\")\n",
    "yAgg <- list(yAggConsNS, yAggConsNS0, yAggMeanInfNS0, yAggCorNS, yAggThrNS, yAggTermThrNS)\n",
    "names(yAgg) <- c(\"ConsFilt\", \"Cons\", \"Mean\", \"AC\", \"ConsFiltES\", \"Term\")\n",
    "\n",
    "\n",
    "dfTPMLFCDist <- data.frame(matrix(nrow=0, ncol=2))\n",
    "colnames(dfTPMLFCDist) <- c(\"Value\", \"Type\")\n",
    "for(i in seq_along(trees)) {\n",
    "    trees[[i]]$node.label <- as.character(length(trees[[i]]$tip) + 1:trees[[i]]$Nnode)\n",
    "    tse <- TreeSummarizedExperiment(assays = assays(yAgg[[i]]), colData = colData(yAgg[[i]]),\n",
    "            metadata = metadata(yAgg[[i]]), rowTree = trees[[i]])\n",
    "    descL <- sapply(Descendants(trees[[i]], seq(l+trees[[i]]$Nnode)), length)\n",
    "    sLFC <- getTPMLFC(tse, \"condition\")\n",
    "    optVal <- abs(sLFC)*descL\n",
    "    dfTPMLFCDist <- rbind(dfTPMLFCDist, data.frame(Value = optVal[dCutsTPM[[i]]], Type = names(trees)[i]))\n",
    "}"
   ]
  },
  {
   "cell_type": "code",
   "execution_count": 4,
   "id": "3cdda1fc",
   "metadata": {},
   "outputs": [],
   "source": [
    "term_dir <- \"/fs/cbcb-lab/rob/students/noor/Uncertainity/brain_sim_nodtu/mode=gc_bias/post_type=gibbs_nrep=100_tf=100/terminus/\"\n",
    "groupsClust <- parseClustFile(file.path(term_dir, \"old\", \"1_1\", \"clusters.txt\"), yAggTermThrNS, gsub=F)\n",
    "mtxps <- setdiff(seq(l), unlist(groupsClust))\n",
    "mInds <- seq(l + length(groupsClust))\n",
    "descL <- c(rep(1, length(mtxps)), sapply(groupsClust, length))\n",
    "n <- \"Term\"\n",
    "infReps <- assays(yAgg[[n]])[grep(\"infRep\", assayNames(yAgg[[n]]))]\n",
    "infReps <- abind::abind(as.list(infReps), along = 3)\n",
    "mSf <- 0\n",
    "for(j in seq(dim(infReps)[3])) {\n",
    "        sf <- colSums(infReps[1:l,,j])\n",
    "        mSf <- mean(sf) + mSf\n",
    "        infReps[,,j] <- t(t(infReps[,,j])/sf)\n",
    "}\n",
    "mSf <- mSf/dim(infReps)[3]\n",
    "\n",
    "tpmLFC <- getLog2FC(infReps, colData(yAgg[[n]])[[\"condition\"]], pc = 5/mSf)\n",
    "dfTPMLFCDist <- rbind(dfTPMLFCDist, data.frame(Value = abs(tpmLFC[dCutsTPM[[n]]])*descL, Type = n))\n",
    "dfTPMLFCDist <- rbind(dfTPMLFCDist, data.frame(Value = abs(tpmLFC[1:l]), Type = \"Txps\"))\n",
    "save(dfTPMLFCDist, file = file.path(saveDir, \"dfLLTPM.RData\"))"
   ]
  },
  {
   "cell_type": "code",
   "execution_count": 5,
   "id": "1485b1ed",
   "metadata": {},
   "outputs": [
    {
     "name": "stderr",
     "output_type": "stream",
     "text": [
      "Warning message:\n",
      "\"\u001b[1m\u001b[22mWidth not defined\n",
      "\u001b[36mℹ\u001b[39m Set with `position_dodge(width = ...)`\"\n"
     ]
    },
    {
     "data": {
      "image/png": "[encoded data removed]",
      "text/plain": [
       "plot without title"
      ]
     },
     "metadata": {
      "image/png": {
       "height": 420,
       "width": 420
      }
     },
     "output_type": "display_data"
    }
   ],
   "source": [
    "size <- 20\n",
    "ggplot(dfTPMLFCDist, aes(x=log2(Value), fill = Type, colour = Type)) + \n",
    "    geom_density(position = \"dodge\", alpha=0.1) +\n",
    "    theme_bw() +\n",
    "    labs(fill=\"Type\", color=\"Type\") +\n",
    "    xlab(TeX(\"$log_{2}$(Value of Metric)\")) +\n",
    "    ggtitle(\"BrSimNorm Dataset\") +\n",
    "    theme(axis.title = element_text(size = size),\n",
    "    plot.title = element_text(size = size + 1, hjust=0.5),\n",
    "    axis.text = element_text(size = size),\n",
    "    legend.text = element_text(size = size),\n",
    "    legend.title = element_text(size = size))"
   ]
  },
  {
   "cell_type": "code",
   "execution_count": 2,
   "id": "9f54767d",
   "metadata": {},
   "outputs": [
    {
     "name": "stdout",
     "output_type": "stream",
     "text": [
      "[1] 33699064\n",
      "[1] 33699064\n",
      "[1] 33699064\n",
      "[1] 33699064\n",
      "[1] 33699064\n",
      "[1] 33699064\n",
      "        Type     Value  nCuts\n",
      "1    ConsInd  963525.8  40796\n",
      "2       Cons 1082263.7  32339\n",
      "3       Mean 1086449.7  32607\n",
      "4         AC  901094.1  85499\n",
      "5 ConsRedInd  248532.3 122637\n",
      "6       Term  189945.4 131323\n",
      "7        Txp  167140.5 139535\n"
     ]
    }
   ],
   "source": [
    "dfScaledLFC <- data.frame(matrix(nrow=0, ncol=3))\n",
    "colnames(dfScaledLFC) <- c(\"Type\", \"Value\", \"nCuts\")\n",
    "\n",
    "l <- length(treeCons$tip)\n",
    "trees <- list(treeCons, treeCons0, treeMeanInf0, treeCor, treeThr)\n",
    "names(trees) <- c(\"ConsInd\", \"Cons\", \"Mean\", \"AC\", \"ConsRedInd\")\n",
    "yAgg <- list(yAggConsNS, yAggConsNS0, yAggMeanInfNS0, yAggCorNS, yAggThrNS, yAggTermThrNS)\n",
    "names(yAgg) <- c(\"ConsInd\", \"Cons\", \"Mean\", \"AC\", \"ConsRedInd\", \"Term\")\n",
    "\n",
    "dCutsSLFC <- vector(mode = \"list\", length=7)\n",
    "names(dCutsSLFC) <- c(names(yAgg), \"Txps\")\n",
    "for(i in seq_along(yAgg)) {\n",
    "    \n",
    "    if(i <= 5) {\n",
    "        globArr <- rep(-100, l+trees[[i]]$Nnode)\n",
    "        descL <- sapply(Descendants(trees[[i]], seq(l+trees[[i]]$Nnode)), length)\n",
    "    }\n",
    "        \n",
    "    else {\n",
    "        groupsClust <- parseClustFile(file.path(term_dir, \"old\", \"1_1\", \"clusters.txt\"), yAggTermThrNS, gsub=F)\n",
    "        mtxps <- setdiff(seq(l), unlist(groupsClust))\n",
    "        dCutsSLFC[[i]] <- c(mtxps, l+1:length(groupsClust))\n",
    "        descL <- c(rep(1, length(mtxps)), sapply(groupsClust, length))\n",
    "        globArr <- rep(-100, l+length(groupsClust))\n",
    "    }\n",
    "        \n",
    "    infReps <- assays(yAgg[[i]])[grep(\"infRep\", assayNames(yAgg[[i]]))]\n",
    "    infReps <- abind::abind(as.list(infReps), along = 3)\n",
    "    mSf <- 0\n",
    "    for(j in seq(dim(infReps)[3])) {\n",
    "            sf <- colSums(infReps[1:l,,j])\n",
    "            mSf <- mean(sf) + mSf\n",
    "            infReps[,,j] <- t(t(infReps[,,j])/sf)\n",
    "    }\n",
    "    mSf <- mSf/dim(infReps)[3]\n",
    "    print(mSf)\n",
    "    lfc <- getLog2FC(infReps, colData(yAgg[[i]])[[\"condition\"]], pc = 5/mSf)\n",
    "    obj <- abs(lfc)/mcols(yAgg[[i]])[[\"meanInfRV\"]]\n",
    "    if (i==6)         \n",
    "        val <- sum(obj[dCutsSLFC[[i]]]*descL)\n",
    "\n",
    "    else {\n",
    "            val <- findMaxSum(trees[[i]], obj, l+1, descL)\n",
    "            gc()\n",
    "            dCutsSLFC[[i]] <- findCuts(trees[[i]], globArr, obj, l+1, descL)\n",
    "            gc()\n",
    "    }\n",
    "    \n",
    "    dfScaledLFC <- rbind(dfScaledLFC, data.frame(Type = names(yAgg)[i], Value = val,\n",
    "           nCuts = length(dCutsSLFC[[i]])))\n",
    "\n",
    "}\n",
    "i <- 7\n",
    "dCutsSLFC[[i]] <- 1:l\n",
    "val <- sum(obj[dCutsSLFC[[i]]])\n",
    "dfScaledLFC <- rbind(dfScaledLFC, data.frame(Type = \"Txp\", Value = val,\n",
    "           nCuts = length(dCutsSLFC[[i]])))\n",
    "print(dfScaledLFC)\n",
    "save(dfScaledLFC, file=file.path(dir, \"dfScaledLFC.RData\"))\n",
    "save(dCutsSLFC, file=file.path(dir, \"dCutsSLFC.RData\"))"
   ]
  },
  {
   "cell_type": "code",
   "execution_count": 2,
   "id": "611a1157",
   "metadata": {},
   "outputs": [],
   "source": [
    "load(file.path(dir, \"dfInf.RData\"))\n",
    "load(file.path(dir, \"dCutsDInf.RData\"))\n",
    "load(file.path(dir, \"dCutsSLFC.RData\"))"
   ]
  },
  {
   "cell_type": "code",
   "execution_count": 5,
   "id": "c0b891f2",
   "metadata": {},
   "outputs": [
    {
     "ename": "ERROR",
     "evalue": "Error in names(yAgg) <- c(\"ConsFilt\", \"Cons\", \"Mean\", \"AC\", \"ConsFiltES\", : 'names' attribute [6] must be the same length as the vector [5]\n",
     "output_type": "error",
     "traceback": [
      "Error in names(yAgg) <- c(\"ConsFilt\", \"Cons\", \"Mean\", \"AC\", \"ConsFiltES\", : 'names' attribute [6] must be the same length as the vector [5]\nTraceback:\n"
     ]
    }
   ],
   "source": [
    "l <- length(treeCons$tip)\n",
    "trees <- list(treeCons, treeCons0, treeMeanInf0, treeCor, treeThr)\n",
    "names(trees) <- c(\"ConsFilt\", \"Cons\", \"Mean\", \"AC\", \"ConsFiltES\")\n",
    "yAgg <- list(yAggConsNS, yAggConsNS0, yAggMeanInfNS0, yAggCorNS, yAggThrNS)\n",
    "names(yAgg) <- c(\"ConsFilt\", \"Cons\", \"Mean\", \"AC\", \"ConsFiltES\", \"Term\")"
   ]
  },
  {
   "cell_type": "code",
   "execution_count": 6,
   "id": "2cbc4179",
   "metadata": {},
   "outputs": [],
   "source": [
    "l <- length(treeCons$tip)\n",
    "gammas <- c(0.1,0.5,1,5,10)\n",
    "objsLFC <- vector(mode=\"list\", length(yAgg))\n",
    "names(objsLFC) <- names(yAgg)\n",
    "objsDepth <- vector(mode=\"list\", length(yAgg))\n",
    "names(objsDepth) <- names(yAgg)\n",
    "for(i in seq_along(yAgg)) {\n",
    "    descL <- sapply(Descendants(trees[[i]],seq(l+trees[[i]]$Nnode)),length)\n",
    "    objsDepth[[i]] <- (mcols(yAgg[[i]])[[\"meanInfRV\"]] + 0.1*node.depth(trees[[i]],2))*descL\n",
    "    infReps <- assays(yAgg[[i]])[grep(\"infRep\", assayNames(yAgg[[i]]))]\n",
    "    infReps <- abind::abind(as.list(infReps), along = 3)\n",
    "    mSf <- 0\n",
    "    for(j in seq(dim(infReps)[3])) {\n",
    "            sf <- colSums(infReps[1:l,,j])\n",
    "            mSf <- mean(sf) + mSf\n",
    "            infReps[,,j] <- t(t(infReps[,,j])/sf)\n",
    "    }\n",
    "    mSf <- mSf/dim(infReps)[3]\n",
    "    print(mSf)\n",
    "    lfc <- getLog2FC(infReps, colData(yAgg[[i]])[[\"condition\"]], pc = 5/mSf)\n",
    "    objsLFC[[i]] <- descL*abs(lfc)/mcols(yAgg[[i]])[[\"meanInfRV\"]]\n",
    "}"
   ]
  },
  {
   "cell_type": "code",
   "execution_count": 7,
   "id": "f3bcd0fb",
   "metadata": {},
   "outputs": [],
   "source": [
    "suppressPackageStartupMessages(source(\"old_terminus_helper.R\"))\n",
    "i <- 6\n",
    "infReps <- assays(yAggTermThrNS)[grep(\"infRep\", assayNames(yAggTermThrNS))]\n",
    "infReps <- abind::abind(as.list(infReps), along = 3)\n",
    "term_dir <- \"/fs/cbcb-lab/rob/students/noor/Uncertainity/brain_sim_nodtu/mode=gc_bias/post_type=gibbs_nrep=100_tf=100/terminus/\"\n",
    "groupsClust <- parseClustFile(file.path(term_dir, \"old\", \"1_1\", \"clusters.txt\"), yAggTermThrNS, gsub=F)\n",
    "mtxps <- setdiff(seq(l), unlist(groupsClust))\n",
    "\n",
    "mSf <- 0\n",
    "for(j in seq(dim(infReps)[3])) {\n",
    "            sf <- colSums(infReps[1:l,,j])\n",
    "            mSf <- mean(sf) + mSf\n",
    "            infReps[,,j] <- t(t(infReps[,,j])/sf)\n",
    "    }\n",
    "mSf <- mSf/dim(infReps)[3]\n",
    "descL <- c(rep(1, l), sapply(groupsClust, length))\n",
    "\n",
    "\n",
    "lfc <- getLog2FC(infReps, colData(yAggTermThrNS)[[\"condition\"]], pc = 5/mSf)\n",
    "objsLFC[[i]] <- descL*abs(lfc)/mcols(yAggTermThrNS)[[\"meanInfRV\"]]\n",
    "names(objsLFC)[i] <- \"Term\""
   ]
  },
  {
   "cell_type": "markdown",
   "id": "38275221",
   "metadata": {},
   "source": [
    "#### Depth"
   ]
  },
  {
   "cell_type": "code",
   "execution_count": 8,
   "id": "8a1f9fc9",
   "metadata": {},
   "outputs": [
    {
     "name": "stdout",
     "output_type": "stream",
     "text": [
      "[1] \"ConsFilt\"\n",
      "\n",
      "           1            2            3            4            5            6 \n",
      "8.134610e-01 5.758356e-02 3.842915e-02 3.122218e-02 2.231874e-02 1.489520e-02 \n",
      "           7            8            9           10           11           12 \n",
      "9.095941e-03 5.558630e-03 3.344804e-03 1.828813e-03 9.505017e-04 4.812667e-04 \n",
      "          13           14           15           16           17           18 \n",
      "3.007917e-04 2.767283e-04 1.082850e-04 2.406333e-05 2.406333e-05 1.203167e-05 \n",
      "          19           21           29           30 \n",
      "4.812667e-05 1.203167e-05 1.203167e-05 1.203167e-05 \n",
      "[1] \"Cons\"\n",
      "\n",
      "           1            2            3            4            5            6 \n",
      "8.298766e-01 4.929017e-02 3.497036e-02 2.894215e-02 2.010152e-02 1.393884e-02 \n",
      "           7            8            9           10           11           12 \n",
      "8.907862e-03 5.748092e-03 3.339048e-03 2.005670e-03 1.187715e-03 6.386769e-04 \n",
      "          13           14           15           16           17           18 \n",
      "4.257846e-04 2.465069e-04 8.963887e-05 6.722915e-05 7.843401e-05 5.602429e-05 \n",
      "          19           20           22           26           27           29 \n",
      "3.361458e-05 1.120486e-05 1.120486e-05 1.120486e-05 1.120486e-05 1.120486e-05 \n",
      "[1] \"Mean\"\n",
      "\n",
      "           1            2            3            4            5            6 \n",
      "8.342294e-01 4.744538e-02 3.357758e-02 2.792404e-02 1.978738e-02 1.364609e-02 \n",
      "           7            8            9           10           11           12 \n",
      "8.934807e-03 5.354233e-03 3.735769e-03 1.995366e-03 1.341330e-03 8.203173e-04 \n",
      "          13           14           15           16           17           18 \n",
      "3.658172e-04 2.993049e-04 1.219391e-04 9.976832e-05 9.976832e-05 5.542684e-05 \n",
      "          19           20           21           22           25           28 \n",
      "3.325611e-05 3.325611e-05 1.108537e-05 2.217074e-05 1.108537e-05 3.325611e-05 \n",
      "          30 \n",
      "2.217074e-05 \n",
      "[1] \"AC\"\n",
      "\n",
      "           1            2            3            4            5            6 \n",
      "8.511398e-01 5.191159e-02 4.651593e-02 3.045603e-02 1.404952e-02 4.794861e-03 \n",
      "           7            8            9 \n",
      "1.028295e-03 9.243105e-05 1.155388e-05 \n",
      "[1] \"ConsFiltES\"\n",
      "\n",
      "           1            2            3            4            5            6 \n",
      "9.339714e-01 3.621712e-02 1.579744e-02 7.731010e-03 3.337833e-03 1.611650e-03 \n",
      "           7            8            9           10           11           12 \n",
      "7.526486e-04 2.863337e-04 1.554383e-04 4.908578e-05 4.908578e-05 1.636193e-05 \n",
      "          13           14           17 \n",
      "8.180963e-06 8.180963e-06 8.180963e-06 \n"
     ]
    }
   ],
   "source": [
    "for(i in seq(trees)){\n",
    "    print(names(trees)[i])\n",
    "    print(table(node.depth(trees[[i]],2)[dCutsDInf[[1]][[i]]])/length(dCutsDInf[[1]][[i]]))\n",
    "}"
   ]
  },
  {
   "cell_type": "code",
   "execution_count": 34,
   "id": "d7509100",
   "metadata": {},
   "outputs": [
    {
     "data": {
      "text/html": [
       "<style>\n",
       ".list-inline {list-style: none; margin:0; padding: 0}\n",
       ".list-inline>li {display: inline-block}\n",
       ".list-inline>li:not(:last-child)::after {content: \"\\00b7\"; padding: 0 .5ex}\n",
       "</style>\n",
       "<ol class=list-inline><li>'ConsInd'</li><li>'Cons'</li><li>'Mean'</li><li>'AC'</li><li>'ConsRedInd'</li><li>'Txps'</li></ol>\n"
      ],
      "text/latex": [
       "\\begin{enumerate*}\n",
       "\\item 'ConsInd'\n",
       "\\item 'Cons'\n",
       "\\item 'Mean'\n",
       "\\item 'AC'\n",
       "\\item 'ConsRedInd'\n",
       "\\item 'Txps'\n",
       "\\end{enumerate*}\n"
      ],
      "text/markdown": [
       "1. 'ConsInd'\n",
       "2. 'Cons'\n",
       "3. 'Mean'\n",
       "4. 'AC'\n",
       "5. 'ConsRedInd'\n",
       "6. 'Txps'\n",
       "\n",
       "\n"
      ],
      "text/plain": [
       "[1] \"ConsInd\"    \"Cons\"       \"Mean\"       \"AC\"         \"ConsRedInd\"\n",
       "[6] \"Txps\"      "
      ]
     },
     "metadata": {},
     "output_type": "display_data"
    },
    {
     "data": {
      "text/html": [
       "<style>\n",
       ".list-inline {list-style: none; margin:0; padding: 0}\n",
       ".list-inline>li {display: inline-block}\n",
       ".list-inline>li:not(:last-child)::after {content: \"\\00b7\"; padding: 0 .5ex}\n",
       "</style>\n",
       "<ol class=list-inline><li>'ConsInd'</li><li>'Cons'</li><li>'Mean'</li><li>'AC'</li><li>'ConsRedInd'</li><li>'Term'</li><li>'Txps'</li></ol>\n"
      ],
      "text/latex": [
       "\\begin{enumerate*}\n",
       "\\item 'ConsInd'\n",
       "\\item 'Cons'\n",
       "\\item 'Mean'\n",
       "\\item 'AC'\n",
       "\\item 'ConsRedInd'\n",
       "\\item 'Term'\n",
       "\\item 'Txps'\n",
       "\\end{enumerate*}\n"
      ],
      "text/markdown": [
       "1. 'ConsInd'\n",
       "2. 'Cons'\n",
       "3. 'Mean'\n",
       "4. 'AC'\n",
       "5. 'ConsRedInd'\n",
       "6. 'Term'\n",
       "7. 'Txps'\n",
       "\n",
       "\n"
      ],
      "text/plain": [
       "[1] \"ConsInd\"    \"Cons\"       \"Mean\"       \"AC\"         \"ConsRedInd\"\n",
       "[6] \"Term\"       \"Txps\"      "
      ]
     },
     "metadata": {},
     "output_type": "display_data"
    },
    {
     "data": {
      "text/html": [
       "<style>\n",
       ".list-inline {list-style: none; margin:0; padding: 0}\n",
       ".list-inline>li {display: inline-block}\n",
       ".list-inline>li:not(:last-child)::after {content: \"\\00b7\"; padding: 0 .5ex}\n",
       "</style>\n",
       "<ol class=list-inline><li>'ConsInd'</li><li>'Cons'</li><li>'Mean'</li><li>'AC'</li><li>'ConsRedInd'</li></ol>\n"
      ],
      "text/latex": [
       "\\begin{enumerate*}\n",
       "\\item 'ConsInd'\n",
       "\\item 'Cons'\n",
       "\\item 'Mean'\n",
       "\\item 'AC'\n",
       "\\item 'ConsRedInd'\n",
       "\\end{enumerate*}\n"
      ],
      "text/markdown": [
       "1. 'ConsInd'\n",
       "2. 'Cons'\n",
       "3. 'Mean'\n",
       "4. 'AC'\n",
       "5. 'ConsRedInd'\n",
       "\n",
       "\n"
      ],
      "text/plain": [
       "[1] \"ConsInd\"    \"Cons\"       \"Mean\"       \"AC\"         \"ConsRedInd\""
      ]
     },
     "metadata": {},
     "output_type": "display_data"
    }
   ],
   "source": [
    "names(dCutsDInf[[1]])\n",
    "names(dCutsSLFC)\n",
    "names(trees)"
   ]
  },
  {
   "cell_type": "code",
   "execution_count": 9,
   "id": "4d7c6bca",
   "metadata": {},
   "outputs": [],
   "source": [
    "i <- 1\n",
    "dfDepth <- data.frame(depthObj = objsDepth[[i]][dCutsDInf[[1]][[i]]], type=names(objsDepth)[i])\n",
    "for(i in seq(2,5)) {\n",
    "    dfDepth <- rbind(dfDepth, data.frame(depthObj = objsDepth[[i]][dCutsDInf[[1]][[i]]], type=names(objsDepth)[i]))\n",
    "}\n",
    "size <- 20\n",
    "dfDepth <- rbind(dfDepth, data.frame(depthObj = objsDepth[[i]][1:l], type=\"Txps\"))\n",
    "pBr <- ggplot(dfDepth, aes(x=depthObj, fill = type, colour = type)) + \n",
    "    geom_density(position = \"dodge\", alpha=0.1) +\n",
    "    theme_bw() +\n",
    "    scale_x_continuous(trans=\"log2\") +\n",
    "    labs(fill=\"Type\", color=\"Type\") +\n",
    "    xlab(\"Value of Metric\") +\n",
    "    theme(axis.title = element_text(size = size),\n",
    "    plot.title = element_text(size = size + 1, hjust=0.5),\n",
    "    axis.text = element_text(size = size),\n",
    "    legend.text = element_text(size = size),\n",
    "    legend.title = element_text(size = size))"
   ]
  },
  {
   "cell_type": "markdown",
   "id": "0ef9b369",
   "metadata": {},
   "source": [
    "#### LFC"
   ]
  },
  {
   "cell_type": "code",
   "execution_count": 10,
   "id": "ab664b65",
   "metadata": {},
   "outputs": [
    {
     "name": "stdout",
     "output_type": "stream",
     "text": [
      "[1] \"ConsFilt\"\n",
      "\n",
      "           1            2            3            4            5            6 \n",
      "6.117266e-01 8.647907e-02 5.929503e-02 5.338759e-02 4.902441e-02 4.017551e-02 \n",
      "           7            8            9           10           11           12 \n",
      "2.794392e-02 2.169330e-02 1.524659e-02 1.073635e-02 7.843906e-03 5.294637e-03 \n",
      "          13           14           15           16           17           18 \n",
      "3.701343e-03 2.034513e-03 1.593293e-03 1.176586e-03 7.108540e-04 6.128052e-04 \n",
      "          19           20           21           22           23           24 \n",
      "3.676831e-04 3.676831e-04 1.960977e-04 1.715854e-04 2.451221e-05 7.353662e-05 \n",
      "          25           26           29           41 \n",
      "4.902441e-05 2.451221e-05 2.451221e-05 2.451221e-05 \n",
      "[1] \"Cons\"\n",
      "\n",
      "           1            2            3            4            5            6 \n",
      "5.055506e-01 9.378769e-02 6.215406e-02 5.046538e-02 4.579610e-02 3.744705e-02 \n",
      "           7            8            9           10           11           12 \n",
      "3.376728e-02 2.646959e-02 2.510900e-02 2.124370e-02 1.737840e-02 1.295649e-02 \n",
      "          13           14           15           16           17           18 \n",
      "1.184329e-02 1.073008e-02 8.163518e-03 7.019388e-03 4.854819e-03 4.700207e-03 \n",
      "          19           20           21           22           23           24 \n",
      "3.741612e-03 3.432388e-03 2.504716e-03 2.164569e-03 1.546121e-03 1.607966e-03 \n",
      "          25           26           27           28           29           30 \n",
      "8.967501e-04 8.967501e-04 8.349052e-04 5.875259e-04 3.710690e-04 2.164569e-04 \n",
      "          31           32           33           34           35           36 \n",
      "3.710690e-04 1.546121e-04 2.164569e-04 1.855345e-04 1.855345e-04 3.092242e-05 \n",
      "          37           38           40           41           44           45 \n",
      "9.276725e-05 1.546121e-04 6.184483e-05 6.184483e-05 3.092242e-05 6.184483e-05 \n",
      "          46           48           49           59 \n",
      "3.092242e-05 6.184483e-05 3.092242e-05 3.092242e-05 \n",
      "[1] \"Mean\"\n",
      "\n",
      "           1            2            3            4            5            6 \n",
      "5.094918e-01 9.071672e-02 6.090717e-02 4.977459e-02 4.517435e-02 3.707793e-02 \n",
      "           7            8            9           10           11           12 \n",
      "3.223234e-02 2.523998e-02 2.425859e-02 2.226516e-02 1.554881e-02 1.386205e-02 \n",
      "          13           14           15           16           17           18 \n",
      "1.174594e-02 9.936517e-03 8.341767e-03 7.268378e-03 5.397614e-03 4.998927e-03 \n",
      "          19           20           21           22           23           24 \n",
      "3.772196e-03 3.710860e-03 2.116110e-03 2.606802e-03 1.870764e-03 1.840096e-03 \n",
      "          25           26           27           28           29           30 \n",
      "1.410740e-03 1.288067e-03 9.200478e-04 9.813844e-04 5.826970e-04 6.133652e-04 \n",
      "          31           32           33           34           35           36 \n",
      "3.986874e-04 5.826970e-04 3.373509e-04 1.840096e-04 3.373509e-04 1.533413e-04 \n",
      "          37           38           39           40           41           42 \n",
      "2.453461e-04 3.680191e-04 1.226730e-04 6.133652e-05 1.226730e-04 1.226730e-04 \n",
      "          43           44           45           46           49           50 \n",
      "1.840096e-04 3.066826e-05 6.133652e-05 9.200478e-05 6.133652e-05 3.066826e-05 \n",
      "          52           53           54           60           62           64 \n",
      "6.133652e-05 3.066826e-05 9.200478e-05 3.066826e-05 3.066826e-05 6.133652e-05 \n",
      "          67           73           74           78           88           93 \n",
      "3.066826e-05 3.066826e-05 3.066826e-05 6.133652e-05 3.066826e-05 3.066826e-05 \n",
      "         114 \n",
      "3.066826e-05 \n",
      "[1] \"AC\"\n",
      "\n",
      "           1            2            3            4            5            6 \n",
      "8.878817e-01 5.198891e-02 2.898280e-02 1.636276e-02 7.625820e-03 4.070223e-03 \n",
      "           7            8            9           10           11           12 \n",
      "1.672534e-03 6.783705e-04 4.912338e-04 1.403525e-04 3.508813e-05 4.678417e-05 \n",
      "          14           18 \n",
      "1.169604e-05 1.169604e-05 \n",
      "[1] \"ConsFiltES\"\n",
      "\n",
      "           1            2            3            4            5            6 \n",
      "9.329158e-01 3.838972e-02 1.541949e-02 7.200111e-03 3.229042e-03 1.622675e-03 \n",
      "           7            8            9           10           11           12 \n",
      "6.849483e-04 2.527785e-04 1.549288e-04 4.077073e-05 3.261658e-05 3.261658e-05 \n",
      "          13           14           17 \n",
      "8.154146e-06 8.154146e-06 8.154146e-06 \n"
     ]
    }
   ],
   "source": [
    "for(i in seq(trees)){\n",
    "    print(names(trees)[i])\n",
    "    print(table(node.depth(trees[[i]],2)[dCutsSLFC[[i]]])/length(dCutsSLFC[[i]]))\n",
    "}\n",
    "i <- 1\n",
    "dfLFC <- data.frame(LFC = objsLFC[[i]][dCutsSLFC[[i]]], type=names(objsLFC)[i])\n",
    "for(i in seq(2,6)) {\n",
    "    dfLFC <- rbind(dfLFC, data.frame(LFC = objsLFC[[i]][dCutsSLFC[[i]]], type=names(objsLFC)[i]))\n",
    "}\n",
    "i <- 7\n",
    "dfLFC <- rbind(dfLFC, data.frame(LFC = objsLFC[[i-1]][1:l], type=\"Txps\"))\n",
    "pBr <- ggplot(dfLFC, aes(x=log2(LFC), fill = type, colour = type)) + \n",
    "    geom_density(position = \"dodge\", alpha=0.1) +\n",
    "    labs(fill=\"Type\", color=\"Type\") +\n",
    "    xlab(TeX(\"$log_{2}(Value of Metric)$\")) +\n",
    "    theme_bw() +\n",
    "    theme(axis.title = element_text(size = size),\n",
    "    plot.title = element_text(size = size + 1, hjust=0.5),\n",
    "    axis.text = element_text(size = size),\n",
    "    legend.text = element_text(size = size),\n",
    "    legend.title = element_text(size = size))"
   ]
  },
  {
   "cell_type": "code",
   "execution_count": 12,
   "id": "12cee979",
   "metadata": {},
   "outputs": [],
   "source": [
    "save(dfDepth, file=file.path(dir, \"dfDe.RData\"))\n",
    "save(dfLFC, file=file.path(dir, \"dfLL.RData\"))"
   ]
  }
 ],
 "metadata": {
  "kernelspec": {
   "display_name": "R",
   "language": "R",
   "name": "ir"
  },
  "language_info": {
   "codemirror_mode": "r",
   "file_extension": ".r",
   "mimetype": "text/x-r-source",
   "name": "R",
   "pygments_lexer": "r",
   "version": "4.1.1"
  }
 },
 "nbformat": 4,
 "nbformat_minor": 5
}
