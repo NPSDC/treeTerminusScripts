{
 "cells": [
  {
   "cell_type": "markdown",
   "id": "27ba1dc9",
   "metadata": {},
   "source": [
    "#### Loading Data"
   ]
  },
  {
   "cell_type": "code",
   "execution_count": 1,
   "id": "14cb5599",
   "metadata": {},
   "outputs": [],
   "source": [
    "setwd('/fs/cbcb-lab/rob/students/noor/Uncertainity/treeTerminusScripts')\n",
    "suppressPackageStartupMessages(source(\"brain_simulation_nodtu/mode=gc_bias/post_type=gibbs_nrep=100_tf=100/tree_analysis/tree_filter.R\"))\n",
    "suppressPackageStartupMessages(source(\"tree_helper_function.R\"))\n",
    "suppressPackageStartupMessages(library(ggplot2))\n",
    "suppressPackageStartupMessages(library(ggpubr))\n",
    "suppressPackageStartupMessages(library(dplyr))\n",
    "load(\"environment/brain_sim_nodtu/mode=gc_bias/post_type=gibbs_nrep=100_tf=100/seBrainSim.RData\")\n",
    "load(\"environment/brain_sim_nodtu/mode=gc_bias/mapDf.RData\")\n",
    "load(\"environment/brain_sim_nodtu/mode=gc_bias/post_type=gibbs_nrep=100_tf=100/comp_trees/trMeanCorUPGMANorm.RData\")"
   ]
  },
  {
   "cell_type": "markdown",
   "id": "51dc865a",
   "metadata": {},
   "source": [
    "#### Reading all the nwk files for the trees"
   ]
  },
  {
   "cell_type": "code",
   "execution_count": 2,
   "id": "339d7974",
   "metadata": {},
   "outputs": [],
   "source": [
    "dir <- \"/fs/cbcb-lab/rob/students/noor/Uncertainity/brain_sim_nodtu/mode=gc_bias/post_type=gibbs_nrep=100_tf=100/terminus/\"\n",
    "save_dir <- \"environment/brain_sim_nodtu/mode=gc_bias/post_type=gibbs_nrep=100_tf=100/comp_trees\"\n",
    "treesCons0 <- read.tree(file.path(dir, \"no_threshold0\", \"cluster_nwk.txt\"))\n",
    "txpsCons0 <- rownames(seBrainSim)[as.numeric(unlist(lapply(treesCons0, function(tr) tr$tip)))+1]\n",
    "\n",
    "treesCons <- read.tree(file.path(dir, \"no_threshold\", \"cluster_nwk.txt\"))\n",
    "txpsCons <- rownames(seBrainSim)[as.numeric(unlist(lapply(treesCons, function(tr) tr$tip)))+1]\n",
    "\n",
    "treesMeanInf0 <- read.tree(file.path(dir, \"no_threshold_meaninf_0\", \"group_nwk.txt\"))\n",
    "txpsMeanInf0 <- rownames(seBrainSim)[as.numeric(unlist(lapply(treesMeanInf0, function(tr) tr$tip)))+1]\n",
    "\n",
    "treesThr <- read.tree(file.path(dir, \"threshold\", \"cluster_nwk.txt\"))\n",
    "txpsThr <- rownames(seBrainSim)[as.numeric(unlist(lapply(treesThr, function(tr) tr$tip)))+1]\n",
    "                                                       \n",
    "groupsThr <- read.delim(file.path(dir, \"old\", \"1_1\", \"clusters.txt\"), header = F)\n",
    "txpsOld <- unlist(sapply(strsplit(groupsThr$V1, split=\",\", fixed=T), function(x) x[2:length(x)]))\n",
    "# txpsOld <- gsub(\"\\\\.[0-9]+\", \"\", txpsOld)\n",
    "txpsCor <- trMeanCorUPGMANorm$tip"
   ]
  },
  {
   "cell_type": "code",
   "execution_count": 3,
   "id": "d12ffe25",
   "metadata": {},
   "outputs": [],
   "source": [
    "se <- labelKeep(seBrainSim)"
   ]
  },
  {
   "cell_type": "code",
   "execution_count": 4,
   "id": "f326c962",
   "metadata": {},
   "outputs": [
    {
     "data": {
      "text/html": [
       "27156"
      ],
      "text/latex": [
       "27156"
      ],
      "text/markdown": [
       "27156"
      ],
      "text/plain": [
       "[1] 27156"
      ]
     },
     "metadata": {},
     "output_type": "display_data"
    },
    {
     "data": {
      "text/html": [
       "13612"
      ],
      "text/latex": [
       "13612"
      ],
      "text/markdown": [
       "13612"
      ],
      "text/plain": [
       "[1] 13612"
      ]
     },
     "metadata": {},
     "output_type": "display_data"
    },
    {
     "data": {
      "text/html": [
       "135138"
      ],
      "text/latex": [
       "135138"
      ],
      "text/markdown": [
       "135138"
      ],
      "text/plain": [
       "[1] 135138"
      ]
     },
     "metadata": {},
     "output_type": "display_data"
    },
    {
     "data": {
      "text/html": [
       "134377"
      ],
      "text/latex": [
       "134377"
      ],
      "text/markdown": [
       "134377"
      ],
      "text/plain": [
       "[1] 134377"
      ]
     },
     "metadata": {},
     "output_type": "display_data"
    },
    {
     "data": {
      "text/html": [
       "121784"
      ],
      "text/latex": [
       "121784"
      ],
      "text/markdown": [
       "121784"
      ],
      "text/plain": [
       "[1] 121784"
      ]
     },
     "metadata": {},
     "output_type": "display_data"
    },
    {
     "data": {
      "text/html": [
       "73205"
      ],
      "text/latex": [
       "73205"
      ],
      "text/markdown": [
       "73205"
      ],
      "text/plain": [
       "[1] 73205"
      ]
     },
     "metadata": {},
     "output_type": "display_data"
    },
    {
     "data": {
      "text/html": [
       "61893"
      ],
      "text/latex": [
       "61893"
      ],
      "text/markdown": [
       "61893"
      ],
      "text/plain": [
       "[1] 61893"
      ]
     },
     "metadata": {},
     "output_type": "display_data"
    }
   ],
   "source": [
    "length(txpsThr)\n",
    "length(txpsOld)\n",
    "length(txpsMeanInf0)\n",
    "length(txpsCons0)\n",
    "length(txpsCons)\n",
    "length(txpsCor)\n",
    "length(rownames(se)[mcols(se)[[\"keep\"]]])"
   ]
  },
  {
   "cell_type": "code",
   "execution_count": 5,
   "id": "fe0fe1db",
   "metadata": {},
   "outputs": [
    {
     "data": {
      "text/html": [
       "139535"
      ],
      "text/latex": [
       "139535"
      ],
      "text/markdown": [
       "139535"
      ],
      "text/plain": [
       "[1] 139535"
      ]
     },
     "metadata": {},
     "output_type": "display_data"
    }
   ],
   "source": [
    "txpsAll <- Reduce(union,list(txpsCons0, txpsCons, txpsThr, txpsMeanInf0, txpsOld, txpsCor, rownames(se)[mcols(se)[[\"keep\"]]]))\n",
    "length(txpsAll)\n",
    "seBrainSimScaled <- scaleInfReps(seBrainSim)"
   ]
  },
  {
   "cell_type": "code",
   "execution_count": 6,
   "id": "3e95de06",
   "metadata": {},
   "outputs": [
    {
     "name": "stdout",
     "output_type": "stream",
     "text": [
      "[1] \"Missing txps 17751\"\n"
     ]
    },
    {
     "data": {
      "text/html": [
       "<table class=\"dataframe\">\n",
       "<caption>A matrix: 2 × 6 of type dbl</caption>\n",
       "<thead>\n",
       "\t<tr><th></th><th scope=col>used</th><th scope=col>(Mb)</th><th scope=col>gc trigger</th><th scope=col>(Mb)</th><th scope=col>max used</th><th scope=col>(Mb)</th></tr>\n",
       "</thead>\n",
       "<tbody>\n",
       "\t<tr><th scope=row>Ncells</th><td> 10970110</td><td> 585.9</td><td>  17712615</td><td> 946.0</td><td> 17712615</td><td> 946</td></tr>\n",
       "\t<tr><th scope=row>Vcells</th><td>715928664</td><td>5462.2</td><td>1177331421</td><td>8982.4</td><td>913559978</td><td>6970</td></tr>\n",
       "</tbody>\n",
       "</table>\n"
      ],
      "text/latex": [
       "A matrix: 2 × 6 of type dbl\n",
       "\\begin{tabular}{r|llllll}\n",
       "  & used & (Mb) & gc trigger & (Mb) & max used & (Mb)\\\\\n",
       "\\hline\n",
       "\tNcells &  10970110 &  585.9 &   17712615 &  946.0 &  17712615 &  946\\\\\n",
       "\tVcells & 715928664 & 5462.2 & 1177331421 & 8982.4 & 913559978 & 6970\\\\\n",
       "\\end{tabular}\n"
      ],
      "text/markdown": [
       "\n",
       "A matrix: 2 × 6 of type dbl\n",
       "\n",
       "| <!--/--> | used | (Mb) | gc trigger | (Mb) | max used | (Mb) |\n",
       "|---|---|---|---|---|---|---|\n",
       "| Ncells |  10970110 |  585.9 |   17712615 |  946.0 |  17712615 |  946 |\n",
       "| Vcells | 715928664 | 5462.2 | 1177331421 | 8982.4 | 913559978 | 6970 |\n",
       "\n"
      ],
      "text/plain": [
       "       used      (Mb)   gc trigger (Mb)   max used  (Mb)\n",
       "Ncells  10970110  585.9   17712615  946.0  17712615  946\n",
       "Vcells 715928664 5462.2 1177331421 8982.4 913559978 6970"
      ]
     },
     "metadata": {},
     "output_type": "display_data"
    },
    {
     "data": {
      "text/html": [
       "0"
      ],
      "text/latex": [
       "0"
      ],
      "text/markdown": [
       "0"
      ],
      "text/plain": [
       "[1] 0"
      ]
     },
     "metadata": {},
     "output_type": "display_data"
    },
    {
     "data": {
      "text/html": [
       "<table class=\"dataframe\">\n",
       "<caption>A matrix: 2 × 6 of type dbl</caption>\n",
       "<thead>\n",
       "\t<tr><th></th><th scope=col>used</th><th scope=col>(Mb)</th><th scope=col>gc trigger</th><th scope=col>(Mb)</th><th scope=col>max used</th><th scope=col>(Mb)</th></tr>\n",
       "</thead>\n",
       "<tbody>\n",
       "\t<tr><th scope=row>Ncells</th><td>  11037959</td><td>  589.5</td><td>  25029222</td><td> 1336.8</td><td>  25029222</td><td> 1336.8</td></tr>\n",
       "\t<tr><th scope=row>Vcells</th><td>1318892864</td><td>10062.4</td><td>2441743874</td><td>18629.1</td><td>2440748719</td><td>18621.5</td></tr>\n",
       "</tbody>\n",
       "</table>\n"
      ],
      "text/latex": [
       "A matrix: 2 × 6 of type dbl\n",
       "\\begin{tabular}{r|llllll}\n",
       "  & used & (Mb) & gc trigger & (Mb) & max used & (Mb)\\\\\n",
       "\\hline\n",
       "\tNcells &   11037959 &   589.5 &   25029222 &  1336.8 &   25029222 &  1336.8\\\\\n",
       "\tVcells & 1318892864 & 10062.4 & 2441743874 & 18629.1 & 2440748719 & 18621.5\\\\\n",
       "\\end{tabular}\n"
      ],
      "text/markdown": [
       "\n",
       "A matrix: 2 × 6 of type dbl\n",
       "\n",
       "| <!--/--> | used | (Mb) | gc trigger | (Mb) | max used | (Mb) |\n",
       "|---|---|---|---|---|---|---|\n",
       "| Ncells |   11037959 |   589.5 |   25029222 |  1336.8 |   25029222 |  1336.8 |\n",
       "| Vcells | 1318892864 | 10062.4 | 2441743874 | 18629.1 | 2440748719 | 18621.5 |\n",
       "\n"
      ],
      "text/plain": [
       "       used       (Mb)    gc trigger (Mb)    max used   (Mb)   \n",
       "Ncells   11037959   589.5   25029222  1336.8   25029222  1336.8\n",
       "Vcells 1318892864 10062.4 2441743874 18629.1 2440748719 18621.5"
      ]
     },
     "metadata": {},
     "output_type": "display_data"
    }
   ],
   "source": [
    "treeCons <- mergeTree(treesCons, se = mapDf)\n",
    "mb <- mergeLeaves(treeCons, seBrainSim[txpsAll,])\n",
    "treeCons <- mb[[\"tree\"]]\n",
    "yConsNS <- mb[[\"ySwish\"]]\n",
    "rm(mb)\n",
    "gc()\n",
    "sum(rownames(yConsNS) != treeCons$tip)\n",
    "yAggConsNS <- prepSwish(treeCons, seBrainSim[treeCons$tip,])\n",
    "yAggConsNS <- fishpond::computeInfRV(yAggConsNS, meanVariance=F)\n",
    "yAggCons <- prepSwish(treeCons, seBrainSimScaled[treeCons$tip,])\n",
    "infReps <- assays(yAggCons)[grep(\"infRep\", assayNames(yAggCons))]\n",
    "infReps <- abind::abind(as.list(infReps), along = 3)\n",
    "mcols(yAggConsNS)[[\"LFC\"]] <- getLog2FC(infReps, colData(yAggCons)[[\"condition\"]])\n",
    "rm(yAggCons)\n",
    "gc()\n",
    "save(yAggConsNS, file=file.path(save_dir, \"yAggConsNS.RData\"))\n",
    "save(treeCons, file=file.path(save_dir, \"treeCons.RData\"))"
   ]
  },
  {
   "cell_type": "markdown",
   "id": "173d541e",
   "metadata": {},
   "source": [
    "#### Consensus Tree 0"
   ]
  },
  {
   "cell_type": "code",
   "execution_count": 7,
   "id": "1dc970eb",
   "metadata": {},
   "outputs": [
    {
     "name": "stdout",
     "output_type": "stream",
     "text": [
      "[1] \"Missing txps 5158\"\n"
     ]
    },
    {
     "data": {
      "text/html": [
       "<table class=\"dataframe\">\n",
       "<caption>A matrix: 2 × 6 of type dbl</caption>\n",
       "<thead>\n",
       "\t<tr><th></th><th scope=col>used</th><th scope=col>(Mb)</th><th scope=col>gc trigger</th><th scope=col>(Mb)</th><th scope=col>max used</th><th scope=col>(Mb)</th></tr>\n",
       "</thead>\n",
       "<tbody>\n",
       "\t<tr><th scope=row>Ncells</th><td>  11039412</td><td>  589.6</td><td>  25029222</td><td> 1336.8</td><td>  25029222</td><td> 1336.8</td></tr>\n",
       "\t<tr><th scope=row>Vcells</th><td>1506975097</td><td>11497.4</td><td>2441743874</td><td>18629.1</td><td>2440748719</td><td>18621.5</td></tr>\n",
       "</tbody>\n",
       "</table>\n"
      ],
      "text/latex": [
       "A matrix: 2 × 6 of type dbl\n",
       "\\begin{tabular}{r|llllll}\n",
       "  & used & (Mb) & gc trigger & (Mb) & max used & (Mb)\\\\\n",
       "\\hline\n",
       "\tNcells &   11039412 &   589.6 &   25029222 &  1336.8 &   25029222 &  1336.8\\\\\n",
       "\tVcells & 1506975097 & 11497.4 & 2441743874 & 18629.1 & 2440748719 & 18621.5\\\\\n",
       "\\end{tabular}\n"
      ],
      "text/markdown": [
       "\n",
       "A matrix: 2 × 6 of type dbl\n",
       "\n",
       "| <!--/--> | used | (Mb) | gc trigger | (Mb) | max used | (Mb) |\n",
       "|---|---|---|---|---|---|---|\n",
       "| Ncells |   11039412 |   589.6 |   25029222 |  1336.8 |   25029222 |  1336.8 |\n",
       "| Vcells | 1506975097 | 11497.4 | 2441743874 | 18629.1 | 2440748719 | 18621.5 |\n",
       "\n"
      ],
      "text/plain": [
       "       used       (Mb)    gc trigger (Mb)    max used   (Mb)   \n",
       "Ncells   11039412   589.6   25029222  1336.8   25029222  1336.8\n",
       "Vcells 1506975097 11497.4 2441743874 18629.1 2440748719 18621.5"
      ]
     },
     "metadata": {},
     "output_type": "display_data"
    },
    {
     "data": {
      "text/html": [
       "0"
      ],
      "text/latex": [
       "0"
      ],
      "text/markdown": [
       "0"
      ],
      "text/plain": [
       "[1] 0"
      ]
     },
     "metadata": {},
     "output_type": "display_data"
    },
    {
     "data": {
      "text/html": [
       "<table class=\"dataframe\">\n",
       "<caption>A matrix: 2 × 6 of type dbl</caption>\n",
       "<thead>\n",
       "\t<tr><th></th><th scope=col>used</th><th scope=col>(Mb)</th><th scope=col>gc trigger</th><th scope=col>(Mb)</th><th scope=col>max used</th><th scope=col>(Mb)</th></tr>\n",
       "</thead>\n",
       "<tbody>\n",
       "\t<tr><th scope=row>Ncells</th><td>  11061037</td><td>  590.8</td><td>  25029222</td><td> 1336.8</td><td>  25029222</td><td> 1336.8</td></tr>\n",
       "\t<tr><th scope=row>Vcells</th><td>1881028751</td><td>14351.2</td><td>4219624612</td><td>32193.2</td><td>3919046791</td><td>29900.0</td></tr>\n",
       "</tbody>\n",
       "</table>\n"
      ],
      "text/latex": [
       "A matrix: 2 × 6 of type dbl\n",
       "\\begin{tabular}{r|llllll}\n",
       "  & used & (Mb) & gc trigger & (Mb) & max used & (Mb)\\\\\n",
       "\\hline\n",
       "\tNcells &   11061037 &   590.8 &   25029222 &  1336.8 &   25029222 &  1336.8\\\\\n",
       "\tVcells & 1881028751 & 14351.2 & 4219624612 & 32193.2 & 3919046791 & 29900.0\\\\\n",
       "\\end{tabular}\n"
      ],
      "text/markdown": [
       "\n",
       "A matrix: 2 × 6 of type dbl\n",
       "\n",
       "| <!--/--> | used | (Mb) | gc trigger | (Mb) | max used | (Mb) |\n",
       "|---|---|---|---|---|---|---|\n",
       "| Ncells |   11061037 |   590.8 |   25029222 |  1336.8 |   25029222 |  1336.8 |\n",
       "| Vcells | 1881028751 | 14351.2 | 4219624612 | 32193.2 | 3919046791 | 29900.0 |\n",
       "\n"
      ],
      "text/plain": [
       "       used       (Mb)    gc trigger (Mb)    max used   (Mb)   \n",
       "Ncells   11061037   590.8   25029222  1336.8   25029222  1336.8\n",
       "Vcells 1881028751 14351.2 4219624612 32193.2 3919046791 29900.0"
      ]
     },
     "metadata": {},
     "output_type": "display_data"
    }
   ],
   "source": [
    "treeCons0 <- mergeTree(treesCons0, se = mapDf)\n",
    "mb <- mergeLeaves(treeCons0, seBrainSim[txpsAll,])\n",
    "treeCons0 <- mb[[\"tree\"]]\n",
    "yConsNS0 <- mb[[\"ySwish\"]]\n",
    "rm(mb)\n",
    "gc()\n",
    "sum(rownames(yConsNS0) != treeCons0$tip)\n",
    "yAggConsNS0 <- prepSwish(treeCons0, seBrainSim[treeCons0$tip,])\n",
    "yAggConsNS0 <- fishpond::computeInfRV(yAggConsNS0, meanVariance=F)\n",
    "yAggCons0 <- prepSwish(treeCons0, seBrainSimScaled[treeCons0$tip,])\n",
    "\n",
    "infReps <- assays(yAggCons0)[grep(\"infRep\", assayNames(yAggCons0))]\n",
    "infReps <- abind::abind(as.list(infReps), along = 3)\n",
    "mcols(yAggConsNS0)[[\"LFC\"]] <- getLog2FC(infReps, colData(yAggCons0)[[\"condition\"]])\n",
    "rm(yAggCons0)\n",
    "gc()\n",
    "\n",
    "save(yAggConsNS0, file=file.path(save_dir, \"yAggConsNS0.RData\"))\n",
    "save(treeCons0, file=file.path(save_dir, \"treeCons0.RData\"))"
   ]
  },
  {
   "cell_type": "markdown",
   "id": "be968a9d",
   "metadata": {},
   "source": [
    "#### Mean Inf Tree 0"
   ]
  },
  {
   "cell_type": "code",
   "execution_count": 8,
   "id": "3f5afc7e",
   "metadata": {},
   "outputs": [
    {
     "name": "stdout",
     "output_type": "stream",
     "text": [
      "[1] \"Missing txps 4397\"\n"
     ]
    },
    {
     "data": {
      "text/html": [
       "<table class=\"dataframe\">\n",
       "<caption>A matrix: 2 × 6 of type dbl</caption>\n",
       "<thead>\n",
       "\t<tr><th></th><th scope=col>used</th><th scope=col>(Mb)</th><th scope=col>gc trigger</th><th scope=col>(Mb)</th><th scope=col>max used</th><th scope=col>(Mb)</th></tr>\n",
       "</thead>\n",
       "<tbody>\n",
       "\t<tr><th scope=row>Ncells</th><td>  11061817</td><td>  590.8</td><td>  25029222</td><td> 1336.8</td><td>  25029222</td><td> 1336.8</td></tr>\n",
       "\t<tr><th scope=row>Vcells</th><td>2068857757</td><td>15784.2</td><td>4219624612</td><td>32193.2</td><td>3919046791</td><td>29900.0</td></tr>\n",
       "</tbody>\n",
       "</table>\n"
      ],
      "text/latex": [
       "A matrix: 2 × 6 of type dbl\n",
       "\\begin{tabular}{r|llllll}\n",
       "  & used & (Mb) & gc trigger & (Mb) & max used & (Mb)\\\\\n",
       "\\hline\n",
       "\tNcells &   11061817 &   590.8 &   25029222 &  1336.8 &   25029222 &  1336.8\\\\\n",
       "\tVcells & 2068857757 & 15784.2 & 4219624612 & 32193.2 & 3919046791 & 29900.0\\\\\n",
       "\\end{tabular}\n"
      ],
      "text/markdown": [
       "\n",
       "A matrix: 2 × 6 of type dbl\n",
       "\n",
       "| <!--/--> | used | (Mb) | gc trigger | (Mb) | max used | (Mb) |\n",
       "|---|---|---|---|---|---|---|\n",
       "| Ncells |   11061817 |   590.8 |   25029222 |  1336.8 |   25029222 |  1336.8 |\n",
       "| Vcells | 2068857757 | 15784.2 | 4219624612 | 32193.2 | 3919046791 | 29900.0 |\n",
       "\n"
      ],
      "text/plain": [
       "       used       (Mb)    gc trigger (Mb)    max used   (Mb)   \n",
       "Ncells   11061817   590.8   25029222  1336.8   25029222  1336.8\n",
       "Vcells 2068857757 15784.2 4219624612 32193.2 3919046791 29900.0"
      ]
     },
     "metadata": {},
     "output_type": "display_data"
    },
    {
     "data": {
      "text/html": [
       "0"
      ],
      "text/latex": [
       "0"
      ],
      "text/markdown": [
       "0"
      ],
      "text/plain": [
       "[1] 0"
      ]
     },
     "metadata": {},
     "output_type": "display_data"
    },
    {
     "data": {
      "text/html": [
       "<table class=\"dataframe\">\n",
       "<caption>A matrix: 2 × 6 of type dbl</caption>\n",
       "<thead>\n",
       "\t<tr><th></th><th scope=col>used</th><th scope=col>(Mb)</th><th scope=col>gc trigger</th><th scope=col>(Mb)</th><th scope=col>max used</th><th scope=col>(Mb)</th></tr>\n",
       "</thead>\n",
       "<tbody>\n",
       "\t<tr><th scope=row>Ncells</th><td>  11066449</td><td>  591.1</td><td>  25029222</td><td> 1336.8</td><td>  25029222</td><td> 1336.8</td></tr>\n",
       "\t<tr><th scope=row>Vcells</th><td>2427611627</td><td>18521.3</td><td>5063629534</td><td>38632.5</td><td>4534170726</td><td>34593.0</td></tr>\n",
       "</tbody>\n",
       "</table>\n"
      ],
      "text/latex": [
       "A matrix: 2 × 6 of type dbl\n",
       "\\begin{tabular}{r|llllll}\n",
       "  & used & (Mb) & gc trigger & (Mb) & max used & (Mb)\\\\\n",
       "\\hline\n",
       "\tNcells &   11066449 &   591.1 &   25029222 &  1336.8 &   25029222 &  1336.8\\\\\n",
       "\tVcells & 2427611627 & 18521.3 & 5063629534 & 38632.5 & 4534170726 & 34593.0\\\\\n",
       "\\end{tabular}\n"
      ],
      "text/markdown": [
       "\n",
       "A matrix: 2 × 6 of type dbl\n",
       "\n",
       "| <!--/--> | used | (Mb) | gc trigger | (Mb) | max used | (Mb) |\n",
       "|---|---|---|---|---|---|---|\n",
       "| Ncells |   11066449 |   591.1 |   25029222 |  1336.8 |   25029222 |  1336.8 |\n",
       "| Vcells | 2427611627 | 18521.3 | 5063629534 | 38632.5 | 4534170726 | 34593.0 |\n",
       "\n"
      ],
      "text/plain": [
       "       used       (Mb)    gc trigger (Mb)    max used   (Mb)   \n",
       "Ncells   11066449   591.1   25029222  1336.8   25029222  1336.8\n",
       "Vcells 2427611627 18521.3 5063629534 38632.5 4534170726 34593.0"
      ]
     },
     "metadata": {},
     "output_type": "display_data"
    }
   ],
   "source": [
    "treeMeanInf0 <- mergeTree(treesMeanInf0, se = mapDf)\n",
    "mb <- mergeLeaves(treeMeanInf0, seBrainSim[txpsAll,])\n",
    "treeMeanInf0 <- mb[[\"tree\"]]\n",
    "yMeanInfNS0 <- mb[[\"ySwish\"]]\n",
    "rm(mb)\n",
    "gc()\n",
    "sum(rownames(yMeanInfNS0) != treeMeanInf0$tip)\n",
    "\n",
    "yAggMeanInfNS0 <- prepSwish(treeMeanInf0, seBrainSim[treeMeanInf0$tip,])\n",
    "yAggMeanInfNS0 <- fishpond::computeInfRV(yAggMeanInfNS0, meanVariance=F)\n",
    "\n",
    "yAggMeanInf0 <- prepSwish(treeMeanInf0, seBrainSimScaled[treeMeanInf0$tip,])\n",
    "\n",
    "infReps <- assays(yAggMeanInf0)[grep(\"infRep\", assayNames(yAggMeanInf0))]\n",
    "infReps <- abind::abind(as.list(infReps), along = 3)\n",
    "mcols(yAggMeanInfNS0)[[\"LFC\"]] <- getLog2FC(infReps, colData(yAggMeanInf0)[[\"condition\"]])\n",
    "\n",
    "rm(yAggMeanInf0)\n",
    "gc()\n",
    "\n",
    "save(yAggMeanInfNS0, file=file.path(save_dir, \"yAggMeanInfNS0.RData\"))\n",
    "save(treeMeanInf0, file=file.path(save_dir, \"treeMeanInf0.RData\"))"
   ]
  },
  {
   "cell_type": "markdown",
   "id": "af42c0f4",
   "metadata": {},
   "source": [
    "#### Correlation"
   ]
  },
  {
   "cell_type": "code",
   "execution_count": 9,
   "id": "efa8f0db",
   "metadata": {},
   "outputs": [
    {
     "name": "stdout",
     "output_type": "stream",
     "text": [
      "[1] \"Missing txps 66330\"\n"
     ]
    },
    {
     "data": {
      "text/html": [
       "<table class=\"dataframe\">\n",
       "<caption>A matrix: 2 × 6 of type dbl</caption>\n",
       "<thead>\n",
       "\t<tr><th></th><th scope=col>used</th><th scope=col>(Mb)</th><th scope=col>gc trigger</th><th scope=col>(Mb)</th><th scope=col>max used</th><th scope=col>(Mb)</th></tr>\n",
       "</thead>\n",
       "<tbody>\n",
       "\t<tr><th scope=row>Ncells</th><td>  11066343</td><td>  591.1</td><td>  25029222</td><td> 1336.8</td><td>  25029222</td><td> 1336.8</td></tr>\n",
       "\t<tr><th scope=row>Vcells</th><td>2428176105</td><td>18525.6</td><td>5063629534</td><td>38632.5</td><td>4534170726</td><td>34593.0</td></tr>\n",
       "</tbody>\n",
       "</table>\n"
      ],
      "text/latex": [
       "A matrix: 2 × 6 of type dbl\n",
       "\\begin{tabular}{r|llllll}\n",
       "  & used & (Mb) & gc trigger & (Mb) & max used & (Mb)\\\\\n",
       "\\hline\n",
       "\tNcells &   11066343 &   591.1 &   25029222 &  1336.8 &   25029222 &  1336.8\\\\\n",
       "\tVcells & 2428176105 & 18525.6 & 5063629534 & 38632.5 & 4534170726 & 34593.0\\\\\n",
       "\\end{tabular}\n"
      ],
      "text/markdown": [
       "\n",
       "A matrix: 2 × 6 of type dbl\n",
       "\n",
       "| <!--/--> | used | (Mb) | gc trigger | (Mb) | max used | (Mb) |\n",
       "|---|---|---|---|---|---|---|\n",
       "| Ncells |   11066343 |   591.1 |   25029222 |  1336.8 |   25029222 |  1336.8 |\n",
       "| Vcells | 2428176105 | 18525.6 | 5063629534 | 38632.5 | 4534170726 | 34593.0 |\n",
       "\n"
      ],
      "text/plain": [
       "       used       (Mb)    gc trigger (Mb)    max used   (Mb)   \n",
       "Ncells   11066343   591.1   25029222  1336.8   25029222  1336.8\n",
       "Vcells 2428176105 18525.6 5063629534 38632.5 4534170726 34593.0"
      ]
     },
     "metadata": {},
     "output_type": "display_data"
    },
    {
     "data": {
      "text/html": [
       "<table class=\"dataframe\">\n",
       "<caption>A matrix: 2 × 6 of type dbl</caption>\n",
       "<thead>\n",
       "\t<tr><th></th><th scope=col>used</th><th scope=col>(Mb)</th><th scope=col>gc trigger</th><th scope=col>(Mb)</th><th scope=col>max used</th><th scope=col>(Mb)</th></tr>\n",
       "</thead>\n",
       "<tbody>\n",
       "\t<tr><th scope=row>Ncells</th><td>  11067186</td><td>  591.1</td><td>  25029222</td><td> 1336.8</td><td>  25029222</td><td> 1336.8</td></tr>\n",
       "\t<tr><th scope=row>Vcells</th><td>2662405906</td><td>20312.6</td><td>5063629534</td><td>38632.5</td><td>4534170726</td><td>34593.0</td></tr>\n",
       "</tbody>\n",
       "</table>\n"
      ],
      "text/latex": [
       "A matrix: 2 × 6 of type dbl\n",
       "\\begin{tabular}{r|llllll}\n",
       "  & used & (Mb) & gc trigger & (Mb) & max used & (Mb)\\\\\n",
       "\\hline\n",
       "\tNcells &   11067186 &   591.1 &   25029222 &  1336.8 &   25029222 &  1336.8\\\\\n",
       "\tVcells & 2662405906 & 20312.6 & 5063629534 & 38632.5 & 4534170726 & 34593.0\\\\\n",
       "\\end{tabular}\n"
      ],
      "text/markdown": [
       "\n",
       "A matrix: 2 × 6 of type dbl\n",
       "\n",
       "| <!--/--> | used | (Mb) | gc trigger | (Mb) | max used | (Mb) |\n",
       "|---|---|---|---|---|---|---|\n",
       "| Ncells |   11067186 |   591.1 |   25029222 |  1336.8 |   25029222 |  1336.8 |\n",
       "| Vcells | 2662405906 | 20312.6 | 5063629534 | 38632.5 | 4534170726 | 34593.0 |\n",
       "\n"
      ],
      "text/plain": [
       "       used       (Mb)    gc trigger (Mb)    max used   (Mb)   \n",
       "Ncells   11067186   591.1   25029222  1336.8   25029222  1336.8\n",
       "Vcells 2662405906 20312.6 5063629534 38632.5 4534170726 34593.0"
      ]
     },
     "metadata": {},
     "output_type": "display_data"
    }
   ],
   "source": [
    "mb <- mergeLeaves(trMeanCorUPGMANorm, seBrainSim[txpsAll,])\n",
    "treeCor <- mb[[\"tree\"]]\n",
    "rm(mb)\n",
    "gc()\n",
    "\n",
    "yAggCorNS <- prepSwish(treeCor, seBrainSim[treeCor$tip,])\n",
    "yAggCorNS <- fishpond::computeInfRV(yAggCorNS, meanVariance=F)\n",
    "\n",
    "yAggCor <- prepSwish(treeCor, seBrainSimScaled[treeCor$tip,])\n",
    "\n",
    "infReps <- assays(yAggCor)[grep(\"infRep\", assayNames(yAggCor))]\n",
    "infReps <- abind::abind(as.list(infReps), along = 3)\n",
    "\n",
    "mcols(yAggCorNS)[[\"LFC\"]] <- getLog2FC(infReps, colData(yAggCor)[[\"condition\"]])\n",
    "rm(yAggCor)\n",
    "gc()\n",
    "\n",
    "save(yAggCorNS, file=file.path(save_dir, \"yAggCorNS.RData\"))\n",
    "save(treeCor, file=file.path(save_dir, \"treeCor.RData\"))"
   ]
  },
  {
   "cell_type": "markdown",
   "id": "6f6d5d26",
   "metadata": {},
   "source": [
    "#### Threshold"
   ]
  },
  {
   "cell_type": "code",
   "execution_count": 10,
   "id": "bac7e09f",
   "metadata": {},
   "outputs": [
    {
     "name": "stdout",
     "output_type": "stream",
     "text": [
      "[1] \"Missing txps 112379\"\n"
     ]
    },
    {
     "data": {
      "text/html": [
       "<table class=\"dataframe\">\n",
       "<caption>A matrix: 2 × 6 of type dbl</caption>\n",
       "<thead>\n",
       "\t<tr><th></th><th scope=col>used</th><th scope=col>(Mb)</th><th scope=col>gc trigger</th><th scope=col>(Mb)</th><th scope=col>max used</th><th scope=col>(Mb)</th></tr>\n",
       "</thead>\n",
       "<tbody>\n",
       "\t<tr><th scope=row>Ncells</th><td>  11068016</td><td>  591.1</td><td>  25029222</td><td> 1336.8</td><td>  25029222</td><td> 1336.8</td></tr>\n",
       "\t<tr><th scope=row>Vcells</th><td>2850301068</td><td>21746.1</td><td>5063629534</td><td>38632.5</td><td>4534170726</td><td>34593.0</td></tr>\n",
       "</tbody>\n",
       "</table>\n"
      ],
      "text/latex": [
       "A matrix: 2 × 6 of type dbl\n",
       "\\begin{tabular}{r|llllll}\n",
       "  & used & (Mb) & gc trigger & (Mb) & max used & (Mb)\\\\\n",
       "\\hline\n",
       "\tNcells &   11068016 &   591.1 &   25029222 &  1336.8 &   25029222 &  1336.8\\\\\n",
       "\tVcells & 2850301068 & 21746.1 & 5063629534 & 38632.5 & 4534170726 & 34593.0\\\\\n",
       "\\end{tabular}\n"
      ],
      "text/markdown": [
       "\n",
       "A matrix: 2 × 6 of type dbl\n",
       "\n",
       "| <!--/--> | used | (Mb) | gc trigger | (Mb) | max used | (Mb) |\n",
       "|---|---|---|---|---|---|---|\n",
       "| Ncells |   11068016 |   591.1 |   25029222 |  1336.8 |   25029222 |  1336.8 |\n",
       "| Vcells | 2850301068 | 21746.1 | 5063629534 | 38632.5 | 4534170726 | 34593.0 |\n",
       "\n"
      ],
      "text/plain": [
       "       used       (Mb)    gc trigger (Mb)    max used   (Mb)   \n",
       "Ncells   11068016   591.1   25029222  1336.8   25029222  1336.8\n",
       "Vcells 2850301068 21746.1 5063629534 38632.5 4534170726 34593.0"
      ]
     },
     "metadata": {},
     "output_type": "display_data"
    },
    {
     "data": {
      "text/html": [
       "0"
      ],
      "text/latex": [
       "0"
      ],
      "text/markdown": [
       "0"
      ],
      "text/plain": [
       "[1] 0"
      ]
     },
     "metadata": {},
     "output_type": "display_data"
    },
    {
     "data": {
      "text/html": [
       "<table class=\"dataframe\">\n",
       "<caption>A matrix: 2 × 6 of type dbl</caption>\n",
       "<thead>\n",
       "\t<tr><th></th><th scope=col>used</th><th scope=col>(Mb)</th><th scope=col>gc trigger</th><th scope=col>(Mb)</th><th scope=col>max used</th><th scope=col>(Mb)</th></tr>\n",
       "</thead>\n",
       "<tbody>\n",
       "\t<tr><th scope=row>Ncells</th><td>  11068886</td><td>  591.2</td><td>  25029222</td><td> 1336.8</td><td>  25029222</td><td> 1336.8</td></tr>\n",
       "\t<tr><th scope=row>Vcells</th><td>2997542628</td><td>22869.5</td><td>5063629534</td><td>38632.5</td><td>4996044166</td><td>38116.8</td></tr>\n",
       "</tbody>\n",
       "</table>\n"
      ],
      "text/latex": [
       "A matrix: 2 × 6 of type dbl\n",
       "\\begin{tabular}{r|llllll}\n",
       "  & used & (Mb) & gc trigger & (Mb) & max used & (Mb)\\\\\n",
       "\\hline\n",
       "\tNcells &   11068886 &   591.2 &   25029222 &  1336.8 &   25029222 &  1336.8\\\\\n",
       "\tVcells & 2997542628 & 22869.5 & 5063629534 & 38632.5 & 4996044166 & 38116.8\\\\\n",
       "\\end{tabular}\n"
      ],
      "text/markdown": [
       "\n",
       "A matrix: 2 × 6 of type dbl\n",
       "\n",
       "| <!--/--> | used | (Mb) | gc trigger | (Mb) | max used | (Mb) |\n",
       "|---|---|---|---|---|---|---|\n",
       "| Ncells |   11068886 |   591.2 |   25029222 |  1336.8 |   25029222 |  1336.8 |\n",
       "| Vcells | 2997542628 | 22869.5 | 5063629534 | 38632.5 | 4996044166 | 38116.8 |\n",
       "\n"
      ],
      "text/plain": [
       "       used       (Mb)    gc trigger (Mb)    max used   (Mb)   \n",
       "Ncells   11068886   591.2   25029222  1336.8   25029222  1336.8\n",
       "Vcells 2997542628 22869.5 5063629534 38632.5 4996044166 38116.8"
      ]
     },
     "metadata": {},
     "output_type": "display_data"
    }
   ],
   "source": [
    "treeThr <- mergeTree(treesThr, se = mapDf)\n",
    "mb <- mergeLeaves(treeThr, seBrainSim[txpsAll,])\n",
    "treeThr<- mb[[\"tree\"]]\n",
    "yThrNS <- mb[[\"ySwish\"]]\n",
    "rm(mb)\n",
    "gc()\n",
    "sum(rownames(yThrNS) != treeThr$tip)\n",
    "\n",
    "yAggThrNS <- prepSwish(treeThr, seBrainSim[treeThr$tip,])\n",
    "yAggThrNS <- fishpond::computeInfRV(yAggThrNS, meanVariance=F)\n",
    "\n",
    "yAggThr <- prepSwish(treeThr, seBrainSimScaled[treeThr$tip,])\n",
    "\n",
    "infReps <- assays(yAggThr)[grep(\"infRep\", assayNames(yAggThr))]\n",
    "infReps <- abind::abind(as.list(infReps), along = 3)\n",
    "mcols(yAggThrNS)[[\"LFC\"]] <- getLog2FC(infReps, colData(yAggThrNS)[[\"condition\"]])\n",
    "\n",
    "rm(yAggThr)\n",
    "gc()\n",
    "\n",
    "save(yAggThrNS, file=file.path(save_dir, \"yAggThrNS.RData\"))\n",
    "save(treeThr, file=file.path(save_dir, \"treeThr.RData\"))"
   ]
  },
  {
   "cell_type": "code",
   "execution_count": 31,
   "id": "e099e6a5",
   "metadata": {},
   "outputs": [],
   "source": [
    "### NGenes\n",
    "nNodes <- length(treeCons$tip)+1:treeCons$Nnode\n",
    "desc <- Descendants(treeCons, nNodes)\n",
    "genesCons <- mclapply(desc, function(txps) unique(mapDf[treeCons$tip.label[txps],\"GENEID\"]), mc.cores=1)\n",
    "save(genesCons, file=file.path(save_dir,\"genesCons.RData\"))"
   ]
  },
  {
   "cell_type": "code",
   "execution_count": 32,
   "id": "e74e1f89",
   "metadata": {},
   "outputs": [],
   "source": [
    "### NGenes\n",
    "nNodes <- length(treeCons0$tip)+1:treeCons0$Nnode\n",
    "desc <- Descendants(treeCons0, nNodes)\n",
    "genesCons0 <- mclapply(desc, function(txps) unique(mapDf[treeCons0$tip.label[txps],\"GENEID\"]), mc.cores=1)\n",
    "save(genesCons0, file=file.path(save_dir,\"genesCons0.RData\"))"
   ]
  },
  {
   "cell_type": "code",
   "execution_count": 33,
   "id": "aaf10c26",
   "metadata": {},
   "outputs": [],
   "source": [
    "### NGenes\n",
    "nNodes <- length(treeMeanInf0$tip)+1:treeMeanInf0$Nnode\n",
    "desc <- Descendants(treeMeanInf0, nNodes)\n",
    "genesMeanInf0 <- mclapply(desc, function(txps) unique(mapDf[treeMeanInf0$tip.label[txps],\"GENEID\"]), mc.cores=1)\n",
    "save(genesMeanInf0, file=file.path(save_dir,\"genesMeanInf0.RData\"))"
   ]
  },
  {
   "cell_type": "code",
   "execution_count": 34,
   "id": "eecf9fe1",
   "metadata": {},
   "outputs": [],
   "source": [
    "### NGenes\n",
    "nNodes <- length(treeCor$tip)+1:treeCor$Nnode\n",
    "desc <- Descendants(treeCor, nNodes)\n",
    "genesCor <- mclapply(desc, function(txps) unique(mapDf[treeCor$tip.label[txps],\"GENEID\"]), mc.cores=1)\n",
    "save(genesCor, file=file.path(save_dir,\"genesCor.RData\"))"
   ]
  },
  {
   "cell_type": "code",
   "execution_count": 35,
   "id": "c6cea851",
   "metadata": {},
   "outputs": [],
   "source": [
    "### NGenes\n",
    "nNodes <- length(treeThr$tip)+1:treeThr$Nnode\n",
    "desc <- Descendants(treeThr, nNodes)\n",
    "genesThr <- mclapply(desc, function(txps) unique(mapDf[treeThr$tip.label[txps],\"GENEID\"]), mc.cores=1)\n",
    "save(genesThr, file=file.path(save_dir,\"genesThr.RData\"))"
   ]
  }
 ],
 "metadata": {
  "kernelspec": {
   "display_name": "R",
   "language": "R",
   "name": "ir"
  },
  "language_info": {
   "codemirror_mode": "r",
   "file_extension": ".r",
   "mimetype": "text/x-r-source",
   "name": "R",
   "pygments_lexer": "r",
   "version": "4.1.1"
  }
 },
 "nbformat": 4,
 "nbformat_minor": 5
}
