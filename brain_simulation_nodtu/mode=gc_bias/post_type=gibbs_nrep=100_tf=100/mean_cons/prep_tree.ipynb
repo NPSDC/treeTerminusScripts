{
 "cells": [
  {
   "cell_type": "markdown",
   "id": "ba4033d9",
   "metadata": {},
   "source": [
    "#### Loading data"
   ]
  },
  {
   "cell_type": "code",
   "execution_count": 1,
   "id": "e84a156c",
   "metadata": {},
   "outputs": [],
   "source": [
    "setwd('/fs/cbcb-lab/rob/students/noor/Uncertainity/treeTerminusScripts')\n",
    "load(\"environment/brain_sim_nodtu/mode=gc_bias/post_type=gibbs_nrep=100_tf=100/seBrainSim.RData\")\n",
    "load(\"environment/brain_sim_nodtu/mode=gc_bias/post_type=gibbs_nrep=100_tf=100/updated/comp_trees/trMCorUPGMA.RData\")\n",
    "load(\"environment/brain_sim_nodtu/mode=gc_bias/mapDf.RData\")\n",
    "suppressPackageStartupMessages(source(\"tree_helper_function.R\"))\n",
    "suppressPackageStartupMessages(library(ggpubr))\n",
    "suppressPackageStartupMessages(library(dplyr))"
   ]
  },
  {
   "cell_type": "markdown",
   "id": "ba0f2815",
   "metadata": {},
   "source": [
    "#### Reading all the nwk files for the trees"
   ]
  },
  {
   "cell_type": "code",
   "execution_count": 31,
   "id": "7371604f",
   "metadata": {},
   "outputs": [
    {
     "data": {
      "text/html": [
       "57245"
      ],
      "text/latex": [
       "57245"
      ],
      "text/markdown": [
       "57245"
      ],
      "text/plain": [
       "[1] 57245"
      ]
     },
     "metadata": {},
     "output_type": "display_data"
    },
    {
     "data": {
      "text/html": [
       "<style>\n",
       ".list-inline {list-style: none; margin:0; padding: 0}\n",
       ".list-inline>li {display: inline-block}\n",
       ".list-inline>li:not(:last-child)::after {content: \"\\00b7\"; padding: 0 .5ex}\n",
       "</style>\n",
       "<ol class=list-inline><li>1</li><li>2</li><li>3</li><li>4</li><li>5</li><li>6</li></ol>\n"
      ],
      "text/latex": [
       "\\begin{enumerate*}\n",
       "\\item 1\n",
       "\\item 2\n",
       "\\item 3\n",
       "\\item 4\n",
       "\\item 5\n",
       "\\item 6\n",
       "\\end{enumerate*}\n"
      ],
      "text/markdown": [
       "1. 1\n",
       "2. 2\n",
       "3. 3\n",
       "4. 4\n",
       "5. 5\n",
       "6. 6\n",
       "\n",
       "\n"
      ],
      "text/plain": [
       "[1] 1 2 3 4 5 6"
      ]
     },
     "metadata": {},
     "output_type": "display_data"
    },
    {
     "data": {
      "text/html": [
       "2"
      ],
      "text/latex": [
       "2"
      ],
      "text/markdown": [
       "2"
      ],
      "text/plain": [
       "[1] 2"
      ]
     },
     "metadata": {},
     "output_type": "display_data"
    }
   ],
   "source": [
    "treesCons0 <- read.tree(\"/fs/cbcb-lab/rob/students/noor/Uncertainity/terminus/test/cluster_nwk.txt\")\n",
    "txpsCons0 <- rownames(seBrainSim)[as.numeric(unlist(lapply(treesCons0, function(tr) tr$tip)))+1]\n",
    "treesCons <- read.tree(\"/fs/cbcb-lab/rob/students/noor/Uncertainity/brain_sim_nodtu/mode=gc_bias/post_type=gibbs_nrep=100_tf=100/out_term/cluster_nwk.txt\")\n",
    "txpsCons <- rownames(seBrainSim)[as.numeric(unlist(lapply(treesCons, function(tr) tr$tip)))+1]\n",
    "treesMeanInf <- read.tree(\"/fs/cbcb-lab/rob/students/noor/Uncertainity/terminus/1_2/group_nwk.txt\")\n",
    "txpsMeanInf <- rownames(seBrainSim)[as.numeric(unlist(lapply(treesMeanInf, function(tr) tr$tip)))+1]\n",
    "treesMeanInf0 <- read.tree(\"/fs/cbcb-lab/rob/students/noor/Uncertainity/terminus/2_1/group_nwk.txt\")\n",
    "txpsMeanInf0 <- rownames(seBrainSim)[as.numeric(unlist(lapply(treesMeanInf0, function(tr) tr$tip)))+1]\n",
    "treesMeanInf0 <- read.tree(\"/fs/cbcb-lab/rob/students/noor/Uncertainity/terminus/2_1/group_nwk.txt\")\n",
    "txpsMeanInf0 <- rownames(seBrainSim)[as.numeric(unlist(lapply(treesMeanInf0, function(tr) tr$tip)))+1]\n",
    "treesThr <- read.tree(\"../brain_sim_nodtu/mode=gc_bias/post_type=gibbs_nrep=100_tf=100/out_term_hirak/cluster_nwk.txt\")\n",
    "txpsThr <- rownames(seBrainSim)[as.numeric(unlist(lapply(treesThr, function(tr) tr$tip)))+1]\n",
    "                                                              \n",
    "childTxps <- Descendants(trMeanCorUPGMA, length(trMeanCorUPGMA$tip)+1, \"child\")\n",
    "length(childTxps)\n",
    "head(childTxps)\n",
    "childTxps <- childTxps[childTxps > length(trMeanCorUPGMA$tip)]\n",
    "length(childTxps)\n",
    "txpsCor <- trMeanCorUPGMA$tip[unlist(Descendants(trMeanCorUPGMA, childTxps))]\n",
    "rm(childTxps)"
   ]
  },
  {
   "cell_type": "code",
   "execution_count": 32,
   "id": "f8199f78",
   "metadata": {},
   "outputs": [
    {
     "data": {
      "text/html": [
       "134645"
      ],
      "text/latex": [
       "134645"
      ],
      "text/markdown": [
       "134645"
      ],
      "text/plain": [
       "[1] 134645"
      ]
     },
     "metadata": {},
     "output_type": "display_data"
    },
    {
     "data": {
      "text/html": [
       "122177"
      ],
      "text/latex": [
       "122177"
      ],
      "text/markdown": [
       "122177"
      ],
      "text/plain": [
       "[1] 122177"
      ]
     },
     "metadata": {},
     "output_type": "display_data"
    },
    {
     "data": {
      "text/html": [
       "121237"
      ],
      "text/latex": [
       "121237"
      ],
      "text/markdown": [
       "121237"
      ],
      "text/plain": [
       "[1] 121237"
      ]
     },
     "metadata": {},
     "output_type": "display_data"
    },
    {
     "data": {
      "text/html": [
       "135493"
      ],
      "text/latex": [
       "135493"
      ],
      "text/markdown": [
       "135493"
      ],
      "text/plain": [
       "[1] 135493"
      ]
     },
     "metadata": {},
     "output_type": "display_data"
    },
    {
     "data": {
      "text/html": [
       "72362"
      ],
      "text/latex": [
       "72362"
      ],
      "text/markdown": [
       "72362"
      ],
      "text/plain": [
       "[1] 72362"
      ]
     },
     "metadata": {},
     "output_type": "display_data"
    },
    {
     "data": {
      "text/html": [
       "26421"
      ],
      "text/latex": [
       "26421"
      ],
      "text/markdown": [
       "26421"
      ],
      "text/plain": [
       "[1] 26421"
      ]
     },
     "metadata": {},
     "output_type": "display_data"
    }
   ],
   "source": [
    "length(txpsCons0)\n",
    "length(txpsCons)\n",
    "length(txpsMeanInf)\n",
    "length(txpsMeanInf0)\n",
    "length(txpsCor)\n",
    "length(txpsThr)"
   ]
  },
  {
   "cell_type": "code",
   "execution_count": 3,
   "id": "3bfad9a0",
   "metadata": {},
   "outputs": [
    {
     "data": {
      "text/html": [
       "139299"
      ],
      "text/latex": [
       "139299"
      ],
      "text/markdown": [
       "139299"
      ],
      "text/plain": [
       "[1] 139299"
      ]
     },
     "metadata": {},
     "output_type": "display_data"
    }
   ],
   "source": [
    "txpsAll <- Reduce(union,list(txpsCons0, txpsCons, txpsMeanInf, txpsMeanInf0, txpsCor))\n",
    "length(txpsAll)\n",
    "se <- scaleInfReps(seBrainSim)\n",
    "se <- labelKeep(se)"
   ]
  },
  {
   "cell_type": "markdown",
   "id": "4e4e86a9",
   "metadata": {},
   "source": [
    "### Testing infRV reduction"
   ]
  },
  {
   "cell_type": "markdown",
   "id": "5968b8d6",
   "metadata": {},
   "source": [
    "#### Consensus Tree"
   ]
  },
  {
   "cell_type": "code",
   "execution_count": 91,
   "id": "b0f2d9e3",
   "metadata": {},
   "outputs": [
    {
     "name": "stdout",
     "output_type": "stream",
     "text": [
      "[1] \"Missing txps 17122\"\n"
     ]
    },
    {
     "data": {
      "text/html": [
       "<table class=\"dataframe\">\n",
       "<caption>A matrix: 2 × 6 of type dbl</caption>\n",
       "<thead>\n",
       "\t<tr><th></th><th scope=col>used</th><th scope=col>(Mb)</th><th scope=col>gc trigger</th><th scope=col>(Mb)</th><th scope=col>max used</th><th scope=col>(Mb)</th></tr>\n",
       "</thead>\n",
       "<tbody>\n",
       "\t<tr><th scope=row>Ncells</th><td>  11431863</td><td>  610.6</td><td>  21307774</td><td> 1138.0</td><td>  21307774</td><td> 1138.0</td></tr>\n",
       "\t<tr><th scope=row>Vcells</th><td>2864407073</td><td>21853.7</td><td>5085817767</td><td>38801.8</td><td>5085498002</td><td>38799.3</td></tr>\n",
       "</tbody>\n",
       "</table>\n"
      ],
      "text/latex": [
       "A matrix: 2 × 6 of type dbl\n",
       "\\begin{tabular}{r|llllll}\n",
       "  & used & (Mb) & gc trigger & (Mb) & max used & (Mb)\\\\\n",
       "\\hline\n",
       "\tNcells &   11431863 &   610.6 &   21307774 &  1138.0 &   21307774 &  1138.0\\\\\n",
       "\tVcells & 2864407073 & 21853.7 & 5085817767 & 38801.8 & 5085498002 & 38799.3\\\\\n",
       "\\end{tabular}\n"
      ],
      "text/markdown": [
       "\n",
       "A matrix: 2 × 6 of type dbl\n",
       "\n",
       "| <!--/--> | used | (Mb) | gc trigger | (Mb) | max used | (Mb) |\n",
       "|---|---|---|---|---|---|---|\n",
       "| Ncells |   11431863 |   610.6 |   21307774 |  1138.0 |   21307774 |  1138.0 |\n",
       "| Vcells | 2864407073 | 21853.7 | 5085817767 | 38801.8 | 5085498002 | 38799.3 |\n",
       "\n"
      ],
      "text/plain": [
       "       used       (Mb)    gc trigger (Mb)    max used   (Mb)   \n",
       "Ncells   11431863   610.6   21307774  1138.0   21307774  1138.0\n",
       "Vcells 2864407073 21853.7 5085817767 38801.8 5085498002 38799.3"
      ]
     },
     "metadata": {},
     "output_type": "display_data"
    }
   ],
   "source": [
    "treeCons <- mergeTree(treesCons, se = mapDf)\n",
    "mb <- mergeLeaves(treeCons, se[txpsAll,])\n",
    "treeCons <- mb[[\"tree\"]]\n",
    "# yCons <- mb[[\"ySwish\"]]\n",
    "rm(mb)\n",
    "gc()\n",
    "# yMeanInf <- runSwishTree(treeMC, yMeanInf, type = \"union\")\n",
    "# sum(rownames(yMeanInf) != treeMC$tip)\n",
    "\n",
    "# yAggMeanInf <- prepSwish(treeMC, yMeanInf)\n",
    "\n",
    "yConsNS <- seBrainSim[treeCons$tip,]\n",
    "yConsNS <- computeInfRV(yConsNS, meanVariance=F)\n",
    "# mcols(yConsNS)[[\"meanInfRV\"]] <- mcols(yConsNS)[[\"meanInfRV\"]]\n",
    "\n",
    "yAggConsNS <- prepSwish(treeCons, yConsNS)\n",
    "yAggConsNS <- computeInfRV(yAggConsNS, meanVariance=F)\n",
    "# mcols(yAggMeanInf)[[\"meanInfRV\"]] <- mcols(yAggMeanInfNS)[[\"meanInfRV\"]]"
   ]
  },
  {
   "cell_type": "code",
   "execution_count": 6,
   "id": "bdfbf6dd",
   "metadata": {},
   "outputs": [],
   "source": [
    "yCons <- se[treeCons$tip,]\n",
    "yAggCons <- prepSwish(treeCons, yCons)"
   ]
  },
  {
   "cell_type": "code",
   "execution_count": 9,
   "id": "3a969d71",
   "metadata": {},
   "outputs": [
    {
     "data": {
      "text/html": [
       "<table class=\"dataframe\">\n",
       "<caption>A matrix: 2 × 6 of type dbl</caption>\n",
       "<thead>\n",
       "\t<tr><th></th><th scope=col>used</th><th scope=col>(Mb)</th><th scope=col>gc trigger</th><th scope=col>(Mb)</th><th scope=col>max used</th><th scope=col>(Mb)</th></tr>\n",
       "</thead>\n",
       "<tbody>\n",
       "\t<tr><th scope=row>Ncells</th><td> 11093505</td><td> 592.5</td><td>  21728112</td><td> 1160.5</td><td>  21728112</td><td> 1160.5</td></tr>\n",
       "\t<tr><th scope=row>Vcells</th><td>718632927</td><td>5482.8</td><td>1902171417</td><td>14512.5</td><td>1428803254</td><td>10901.0</td></tr>\n",
       "</tbody>\n",
       "</table>\n"
      ],
      "text/latex": [
       "A matrix: 2 × 6 of type dbl\n",
       "\\begin{tabular}{r|llllll}\n",
       "  & used & (Mb) & gc trigger & (Mb) & max used & (Mb)\\\\\n",
       "\\hline\n",
       "\tNcells &  11093505 &  592.5 &   21728112 &  1160.5 &   21728112 &  1160.5\\\\\n",
       "\tVcells & 718632927 & 5482.8 & 1902171417 & 14512.5 & 1428803254 & 10901.0\\\\\n",
       "\\end{tabular}\n"
      ],
      "text/markdown": [
       "\n",
       "A matrix: 2 × 6 of type dbl\n",
       "\n",
       "| <!--/--> | used | (Mb) | gc trigger | (Mb) | max used | (Mb) |\n",
       "|---|---|---|---|---|---|---|\n",
       "| Ncells |  11093505 |  592.5 |   21728112 |  1160.5 |   21728112 |  1160.5 |\n",
       "| Vcells | 718632927 | 5482.8 | 1902171417 | 14512.5 | 1428803254 | 10901.0 |\n",
       "\n"
      ],
      "text/plain": [
       "       used      (Mb)   gc trigger (Mb)    max used   (Mb)   \n",
       "Ncells  11093505  592.5   21728112  1160.5   21728112  1160.5\n",
       "Vcells 718632927 5482.8 1902171417 14512.5 1428803254 10901.0"
      ]
     },
     "metadata": {},
     "output_type": "display_data"
    }
   ],
   "source": [
    "rm(yAggCons, yAggConsNS)\n",
    "gc()"
   ]
  },
  {
   "cell_type": "code",
   "execution_count": 92,
   "id": "f8e9429c",
   "metadata": {},
   "outputs": [],
   "source": [
    "save(treeCons, file=\"environment/brain_sim_nodtu/mode=gc_bias/post_type=gibbs_nrep=100_tf=100/mean_cons/treeCons.RData\")\n",
    "save(yAggConsNS, file=\"environment/brain_sim_nodtu/mode=gc_bias/post_type=gibbs_nrep=100_tf=100/mean_cons/yAggConsNS.RData\")\n",
    "save(yAggCons, file=\"environment/brain_sim_nodtu/mode=gc_bias/post_type=gibbs_nrep=100_tf=100/mean_cons/yAggCons.RData\")"
   ]
  },
  {
   "cell_type": "markdown",
   "id": "d39165b5",
   "metadata": {},
   "source": [
    "#### Consensus Tree with 0 thr"
   ]
  },
  {
   "cell_type": "code",
   "execution_count": 93,
   "id": "77f4554d",
   "metadata": {
    "scrolled": true
   },
   "outputs": [
    {
     "name": "stdout",
     "output_type": "stream",
     "text": [
      "[1] \"Missing txps 4654\"\n"
     ]
    },
    {
     "data": {
      "text/html": [
       "<table class=\"dataframe\">\n",
       "<caption>A matrix: 2 × 6 of type dbl</caption>\n",
       "<thead>\n",
       "\t<tr><th></th><th scope=col>used</th><th scope=col>(Mb)</th><th scope=col>gc trigger</th><th scope=col>(Mb)</th><th scope=col>max used</th><th scope=col>(Mb)</th></tr>\n",
       "</thead>\n",
       "<tbody>\n",
       "\t<tr><th scope=row>Ncells</th><td>  11437145</td><td>  610.9</td><td>  21307774</td><td> 1138.0</td><td>  21307774</td><td> 1138.0</td></tr>\n",
       "\t<tr><th scope=row>Vcells</th><td>2808800910</td><td>21429.5</td><td>5085817767</td><td>38801.8</td><td>5085498002</td><td>38799.3</td></tr>\n",
       "</tbody>\n",
       "</table>\n"
      ],
      "text/latex": [
       "A matrix: 2 × 6 of type dbl\n",
       "\\begin{tabular}{r|llllll}\n",
       "  & used & (Mb) & gc trigger & (Mb) & max used & (Mb)\\\\\n",
       "\\hline\n",
       "\tNcells &   11437145 &   610.9 &   21307774 &  1138.0 &   21307774 &  1138.0\\\\\n",
       "\tVcells & 2808800910 & 21429.5 & 5085817767 & 38801.8 & 5085498002 & 38799.3\\\\\n",
       "\\end{tabular}\n"
      ],
      "text/markdown": [
       "\n",
       "A matrix: 2 × 6 of type dbl\n",
       "\n",
       "| <!--/--> | used | (Mb) | gc trigger | (Mb) | max used | (Mb) |\n",
       "|---|---|---|---|---|---|---|\n",
       "| Ncells |   11437145 |   610.9 |   21307774 |  1138.0 |   21307774 |  1138.0 |\n",
       "| Vcells | 2808800910 | 21429.5 | 5085817767 | 38801.8 | 5085498002 | 38799.3 |\n",
       "\n"
      ],
      "text/plain": [
       "       used       (Mb)    gc trigger (Mb)    max used   (Mb)   \n",
       "Ncells   11437145   610.9   21307774  1138.0   21307774  1138.0\n",
       "Vcells 2808800910 21429.5 5085817767 38801.8 5085498002 38799.3"
      ]
     },
     "metadata": {},
     "output_type": "display_data"
    }
   ],
   "source": [
    "treeCons0 <- mergeTree(treesCons0, se = mapDf)\n",
    "mb <- mergeLeaves(treeCons0, se[txpsAll,])\n",
    "treeCons0 <- mb[[\"tree\"]]\n",
    "rm(mb)\n",
    "gc()\n",
    "\n",
    "yConsNS0 <- seBrainSim[treeCons0$tip,]\n",
    "yConsNS0 <- computeInfRV(yConsNS0, meanVariance=F)\n",
    "\n",
    "yAggConsNS0 <- prepSwish(treeCons0, yConsNS0)\n",
    "yAggConsNS0 <- computeInfRV(yAggConsNS0, meanVariance=F)"
   ]
  },
  {
   "cell_type": "code",
   "execution_count": 12,
   "id": "99b19de9",
   "metadata": {},
   "outputs": [],
   "source": [
    "yCons0 <- se[treeCons0$tip,]\n",
    "yAggCons0 <- prepSwish(treeCons0, yCons0)"
   ]
  },
  {
   "cell_type": "code",
   "execution_count": 94,
   "id": "0435527e",
   "metadata": {},
   "outputs": [],
   "source": [
    "save(treeCons0, file=\"environment/brain_sim_nodtu/mode=gc_bias/post_type=gibbs_nrep=100_tf=100/mean_cons/treeCons0.RData\")\n",
    "save(yAggConsNS0, file=\"environment/brain_sim_nodtu/mode=gc_bias/post_type=gibbs_nrep=100_tf=100/mean_cons/yAggConsNS0.RData\")\n",
    "save(yAggCons0, file=\"environment/brain_sim_nodtu/mode=gc_bias/post_type=gibbs_nrep=100_tf=100/mean_cons/yAggCons0.RData\")"
   ]
  },
  {
   "cell_type": "markdown",
   "id": "7c9b5ea1",
   "metadata": {},
   "source": [
    "### MeanInf Tree with 0 threshold"
   ]
  },
  {
   "cell_type": "code",
   "execution_count": 109,
   "id": "89cce55b",
   "metadata": {},
   "outputs": [
    {
     "name": "stdout",
     "output_type": "stream",
     "text": [
      "[1] \"Missing txps 3806\"\n"
     ]
    },
    {
     "data": {
      "text/html": [
       "<table class=\"dataframe\">\n",
       "<caption>A matrix: 2 × 6 of type dbl</caption>\n",
       "<thead>\n",
       "\t<tr><th></th><th scope=col>used</th><th scope=col>(Mb)</th><th scope=col>gc trigger</th><th scope=col>(Mb)</th><th scope=col>max used</th><th scope=col>(Mb)</th></tr>\n",
       "</thead>\n",
       "<tbody>\n",
       "\t<tr><th scope=row>Ncells</th><td>  11438758</td><td>  610.9</td><td>  21307774</td><td> 1138.0</td><td>  21307774</td><td> 1138.0</td></tr>\n",
       "\t<tr><th scope=row>Vcells</th><td>3228809434</td><td>24633.9</td><td>5085817767</td><td>38801.8</td><td>5085498002</td><td>38799.3</td></tr>\n",
       "</tbody>\n",
       "</table>\n"
      ],
      "text/latex": [
       "A matrix: 2 × 6 of type dbl\n",
       "\\begin{tabular}{r|llllll}\n",
       "  & used & (Mb) & gc trigger & (Mb) & max used & (Mb)\\\\\n",
       "\\hline\n",
       "\tNcells &   11438758 &   610.9 &   21307774 &  1138.0 &   21307774 &  1138.0\\\\\n",
       "\tVcells & 3228809434 & 24633.9 & 5085817767 & 38801.8 & 5085498002 & 38799.3\\\\\n",
       "\\end{tabular}\n"
      ],
      "text/markdown": [
       "\n",
       "A matrix: 2 × 6 of type dbl\n",
       "\n",
       "| <!--/--> | used | (Mb) | gc trigger | (Mb) | max used | (Mb) |\n",
       "|---|---|---|---|---|---|---|\n",
       "| Ncells |   11438758 |   610.9 |   21307774 |  1138.0 |   21307774 |  1138.0 |\n",
       "| Vcells | 3228809434 | 24633.9 | 5085817767 | 38801.8 | 5085498002 | 38799.3 |\n",
       "\n"
      ],
      "text/plain": [
       "       used       (Mb)    gc trigger (Mb)    max used   (Mb)   \n",
       "Ncells   11438758   610.9   21307774  1138.0   21307774  1138.0\n",
       "Vcells 3228809434 24633.9 5085817767 38801.8 5085498002 38799.3"
      ]
     },
     "metadata": {},
     "output_type": "display_data"
    }
   ],
   "source": [
    "treeMeanInf0 <- mergeTree(treesMeanInf0, se = mapDf)\n",
    "mb <- mergeLeaves(treeMeanInf0, se[txpsAll,])\n",
    "treeMeanInf0 <- mb[[\"tree\"]]\n",
    "rm(mb)\n",
    "gc()\n",
    "\n",
    "yMeanInfNS0 <- seBrainSim[treeMeanInf0$tip,]\n",
    "yMeanInfNS0 <- computeInfRV(yMeanInfNS0, meanVariance=F)\n",
    "\n",
    "yAggMeanInfNS0 <- prepSwish(treeMeanInf0, yMeanInfNS0)\n",
    "yAggMeanInfNS0 <- computeInfRV(yAggMeanInfNS0, meanVariance=F)"
   ]
  },
  {
   "cell_type": "code",
   "execution_count": 21,
   "id": "4ec45f9b",
   "metadata": {},
   "outputs": [
    {
     "data": {
      "text/plain": [
       "DataFrame with 259740 rows and 1 column\n",
       "                  meanInfRV\n",
       "                  <numeric>\n",
       "ENST00000587871.1 0.0130545\n",
       "ENST00000593183.2 0.0169483\n",
       "ENST00000605775.5 0.0100000\n",
       "ENST00000477964.1 0.0301305\n",
       "ENST00000527570.1 0.0576235\n",
       "...                     ...\n",
       "259736            0.0670297\n",
       "259737            0.0904288\n",
       "259738            0.1053322\n",
       "259739            0.1232157\n",
       "259740            0.0988934"
      ]
     },
     "metadata": {},
     "output_type": "display_data"
    },
    {
     "data": {
      "text/plain": [
       "DataFrame with 259740 rows and 1 column\n",
       "                  meanInfRV\n",
       "                  <numeric>\n",
       "ENST00000587871.1 0.0130545\n",
       "ENST00000593183.2 0.0169483\n",
       "ENST00000605775.5 0.0100000\n",
       "ENST00000477964.1 0.0301305\n",
       "ENST00000527570.1 0.0576235\n",
       "...                     ...\n",
       "259736            0.0670297\n",
       "259737            0.0904288\n",
       "259738            0.1053322\n",
       "259739            0.1232157\n",
       "259740            0.0988934"
      ]
     },
     "metadata": {},
     "output_type": "display_data"
    },
    {
     "data": {
      "text/html": [
       "<table class=\"dataframe\">\n",
       "<caption>A matrix: 2 × 6 of type dbl</caption>\n",
       "<thead>\n",
       "\t<tr><th></th><th scope=col>used</th><th scope=col>(Mb)</th><th scope=col>gc trigger</th><th scope=col>(Mb)</th><th scope=col>max used</th><th scope=col>(Mb)</th></tr>\n",
       "</thead>\n",
       "<tbody>\n",
       "\t<tr><th scope=row>Ncells</th><td> 11113441</td><td> 593.6</td><td>  21728112</td><td> 1160.5</td><td>  21728112</td><td> 1160.5</td></tr>\n",
       "\t<tr><th scope=row>Vcells</th><td>907190313</td><td>6921.4</td><td>2629794727</td><td>20063.8</td><td>2434120969</td><td>18570.9</td></tr>\n",
       "</tbody>\n",
       "</table>\n"
      ],
      "text/latex": [
       "A matrix: 2 × 6 of type dbl\n",
       "\\begin{tabular}{r|llllll}\n",
       "  & used & (Mb) & gc trigger & (Mb) & max used & (Mb)\\\\\n",
       "\\hline\n",
       "\tNcells &  11113441 &  593.6 &   21728112 &  1160.5 &   21728112 &  1160.5\\\\\n",
       "\tVcells & 907190313 & 6921.4 & 2629794727 & 20063.8 & 2434120969 & 18570.9\\\\\n",
       "\\end{tabular}\n"
      ],
      "text/markdown": [
       "\n",
       "A matrix: 2 × 6 of type dbl\n",
       "\n",
       "| <!--/--> | used | (Mb) | gc trigger | (Mb) | max used | (Mb) |\n",
       "|---|---|---|---|---|---|---|\n",
       "| Ncells |  11113441 |  593.6 |   21728112 |  1160.5 |   21728112 |  1160.5 |\n",
       "| Vcells | 907190313 | 6921.4 | 2629794727 | 20063.8 | 2434120969 | 18570.9 |\n",
       "\n"
      ],
      "text/plain": [
       "       used      (Mb)   gc trigger (Mb)    max used   (Mb)   \n",
       "Ncells  11113441  593.6   21728112  1160.5   21728112  1160.5\n",
       "Vcells 907190313 6921.4 2629794727 20063.8 2434120969 18570.9"
      ]
     },
     "metadata": {},
     "output_type": "display_data"
    }
   ],
   "source": [
    "# load(\"environment/brain_sim_nodtu/mode=gc_bias/post_type=gibbs_nrep=100_tf=100/mean_cons/treeMC0.RData\")\n",
    "# load(\"environment/brain_sim_nodtu/mode=gc_bias/post_type=gibbs_nrep=100_tf=100/mean_cons/yAggMeanInfNS0.RData\")\n",
    "# yMeanInf0 <- se[treeMeanInf0$tip,]\n",
    "yAggMeanInf0 <- prepSwish(treeMeanInf0, yMeanInf0)\n",
    "mcols(yAggMeanInf0)[[\"meanInfRV\"]] <- mcols(yAggMeanInfNS0)[[\"meanInfRV\"]]\n",
    "mcols(yAggMeanInf0)\n",
    "mcols(yAggMeanInfNS0)\n",
    "save(yAggMeanInf0, file=\"environment/brain_sim_nodtu/mode=gc_bias/post_type=gibbs_nrep=100_tf=100/mean_cons/yAggMeanInf0.RData\")\n",
    "rm(yAggMeanInf0, yAggMeanInfNS0, yMeanInf0)\n",
    "gc()"
   ]
  },
  {
   "cell_type": "code",
   "execution_count": 110,
   "id": "f34c2d4f",
   "metadata": {},
   "outputs": [
    {
     "data": {
      "text/plain": [
       "\n",
       "Phylogenetic tree with 139299 tips and 120441 internal nodes.\n",
       "\n",
       "Tip labels:\n",
       "  ENST00000587871.1, ENST00000593183.2, ENST00000605775.5, ENST00000477964.1, ENST00000527570.1, ENST00000502939.2, ...\n",
       "\n",
       "Unrooted; no branch lengths."
      ]
     },
     "metadata": {},
     "output_type": "display_data"
    },
    {
     "data": {
      "text/plain": [
       "class: SummarizedExperiment \n",
       "dim: 259740 12 \n",
       "metadata(7): tximetaInfo quantInfo ... txdbInfo infRepsScaled\n",
       "assays(105): counts abundance ... mean variance\n",
       "rownames(259740): ENST00000587871.1 ENST00000593183.2 ... 259739 259740\n",
       "rowData names(1): meanInfRV\n",
       "colnames(12): 1_1 2_1 ... 5_2 6_2\n",
       "colData names(2): names condition"
      ]
     },
     "metadata": {},
     "output_type": "display_data"
    }
   ],
   "source": [
    "treeMeanInf0\n",
    "yAggMeanInfNS0\n",
    "save(treeMeanInf0, file=\"environment/brain_sim_nodtu/mode=gc_bias/post_type=gibbs_nrep=100_tf=100/mean_cons/treeMC0.RData\")\n",
    "save(yAggMeanInfNS0, file=\"environment/brain_sim_nodtu/mode=gc_bias/post_type=gibbs_nrep=100_tf=100/mean_cons/yAggMeanInfNS0.RData\")\n",
    "save(yAggMeanInf0, file=\"environment/brain_sim_nodtu/mode=gc_bias/post_type=gibbs_nrep=100_tf=100/mean_cons/yAggMeanInf0.RData\")"
   ]
  },
  {
   "cell_type": "markdown",
   "id": "a5a56554",
   "metadata": {},
   "source": [
    "### MeanInf Tree"
   ]
  },
  {
   "cell_type": "code",
   "execution_count": 111,
   "id": "2906475b",
   "metadata": {},
   "outputs": [
    {
     "name": "stdout",
     "output_type": "stream",
     "text": [
      "[1] \"Missing txps 18062\"\n"
     ]
    },
    {
     "data": {
      "text/html": [
       "<table class=\"dataframe\">\n",
       "<caption>A matrix: 2 × 6 of type dbl</caption>\n",
       "<thead>\n",
       "\t<tr><th></th><th scope=col>used</th><th scope=col>(Mb)</th><th scope=col>gc trigger</th><th scope=col>(Mb)</th><th scope=col>max used</th><th scope=col>(Mb)</th></tr>\n",
       "</thead>\n",
       "<tbody>\n",
       "\t<tr><th scope=row>Ncells</th><td>  11418439</td><td>  609.9</td><td>  21307774</td><td> 1138.0</td><td>  21307774</td><td> 1138.0</td></tr>\n",
       "\t<tr><th scope=row>Vcells</th><td>3177188986</td><td>24240.1</td><td>6103061320</td><td>46562.7</td><td>5085498002</td><td>38799.3</td></tr>\n",
       "</tbody>\n",
       "</table>\n"
      ],
      "text/latex": [
       "A matrix: 2 × 6 of type dbl\n",
       "\\begin{tabular}{r|llllll}\n",
       "  & used & (Mb) & gc trigger & (Mb) & max used & (Mb)\\\\\n",
       "\\hline\n",
       "\tNcells &   11418439 &   609.9 &   21307774 &  1138.0 &   21307774 &  1138.0\\\\\n",
       "\tVcells & 3177188986 & 24240.1 & 6103061320 & 46562.7 & 5085498002 & 38799.3\\\\\n",
       "\\end{tabular}\n"
      ],
      "text/markdown": [
       "\n",
       "A matrix: 2 × 6 of type dbl\n",
       "\n",
       "| <!--/--> | used | (Mb) | gc trigger | (Mb) | max used | (Mb) |\n",
       "|---|---|---|---|---|---|---|\n",
       "| Ncells |   11418439 |   609.9 |   21307774 |  1138.0 |   21307774 |  1138.0 |\n",
       "| Vcells | 3177188986 | 24240.1 | 6103061320 | 46562.7 | 5085498002 | 38799.3 |\n",
       "\n"
      ],
      "text/plain": [
       "       used       (Mb)    gc trigger (Mb)    max used   (Mb)   \n",
       "Ncells   11418439   609.9   21307774  1138.0   21307774  1138.0\n",
       "Vcells 3177188986 24240.1 6103061320 46562.7 5085498002 38799.3"
      ]
     },
     "metadata": {},
     "output_type": "display_data"
    }
   ],
   "source": [
    "treeMeanInf <- mergeTree(treesMeanInf, se = mapDf)\n",
    "mb <- mergeLeaves(treeMeanInf, se[txpsAll,])\n",
    "treeMeanInf <- mb[[\"tree\"]]\n",
    "rm(mb)\n",
    "gc()\n",
    "\n",
    "yMeanInfNS <- seBrainSim[treeMeanInf$tip,]\n",
    "yMeanInfNS <- computeInfRV(yMeanInfNS, meanVariance=F)\n",
    "\n",
    "yAggMeanInfNS <- prepSwish(treeMeanInf, yMeanInfNS)\n",
    "yAggMeanInfNS <- computeInfRV(yAggMeanInfNS, meanVariance=F)"
   ]
  },
  {
   "cell_type": "code",
   "execution_count": 22,
   "id": "9a2df75e",
   "metadata": {},
   "outputs": [
    {
     "data": {
      "text/html": [
       "<table class=\"dataframe\">\n",
       "<caption>A matrix: 2 × 6 of type dbl</caption>\n",
       "<thead>\n",
       "\t<tr><th></th><th scope=col>used</th><th scope=col>(Mb)</th><th scope=col>gc trigger</th><th scope=col>(Mb)</th><th scope=col>max used</th><th scope=col>(Mb)</th></tr>\n",
       "</thead>\n",
       "<tbody>\n",
       "\t<tr><th scope=row>Ncells</th><td> 11113464</td><td> 593.6</td><td>  21728112</td><td> 1160.5</td><td>  21728112</td><td> 1160.5</td></tr>\n",
       "\t<tr><th scope=row>Vcells</th><td>907568952</td><td>6924.3</td><td>2629794727</td><td>20063.8</td><td>2434120969</td><td>18570.9</td></tr>\n",
       "</tbody>\n",
       "</table>\n"
      ],
      "text/latex": [
       "A matrix: 2 × 6 of type dbl\n",
       "\\begin{tabular}{r|llllll}\n",
       "  & used & (Mb) & gc trigger & (Mb) & max used & (Mb)\\\\\n",
       "\\hline\n",
       "\tNcells &  11113464 &  593.6 &   21728112 &  1160.5 &   21728112 &  1160.5\\\\\n",
       "\tVcells & 907568952 & 6924.3 & 2629794727 & 20063.8 & 2434120969 & 18570.9\\\\\n",
       "\\end{tabular}\n"
      ],
      "text/markdown": [
       "\n",
       "A matrix: 2 × 6 of type dbl\n",
       "\n",
       "| <!--/--> | used | (Mb) | gc trigger | (Mb) | max used | (Mb) |\n",
       "|---|---|---|---|---|---|---|\n",
       "| Ncells |  11113464 |  593.6 |   21728112 |  1160.5 |   21728112 |  1160.5 |\n",
       "| Vcells | 907568952 | 6924.3 | 2629794727 | 20063.8 | 2434120969 | 18570.9 |\n",
       "\n"
      ],
      "text/plain": [
       "       used      (Mb)   gc trigger (Mb)    max used   (Mb)   \n",
       "Ncells  11113464  593.6   21728112  1160.5   21728112  1160.5\n",
       "Vcells 907568952 6924.3 2629794727 20063.8 2434120969 18570.9"
      ]
     },
     "metadata": {},
     "output_type": "display_data"
    }
   ],
   "source": [
    "load(\"environment/brain_sim_nodtu/mode=gc_bias/post_type=gibbs_nrep=100_tf=100/mean_cons/treeMC.RData\")\n",
    "load(\"environment/brain_sim_nodtu/mode=gc_bias/post_type=gibbs_nrep=100_tf=100/mean_cons/yAggMeanInfNS.RData\")\n",
    "yMeanInf <- se[treeMeanInf$tip,]\n",
    "yAggMeanInf <- prepSwish(treeMeanInf, yMeanInf)\n",
    "mcols(yAggMeanInf)[[\"meanInfRV\"]] <- mcols(yAggMeanInfNS)[[\"meanInfRV\"]]\n",
    "save(yAggMeanInf, file=\"environment/brain_sim_nodtu/mode=gc_bias/post_type=gibbs_nrep=100_tf=100/mean_cons/yAggMeanInf.RData\")\n",
    "rm(yAggMeanInf, yAggMeanInfNS, yMeanInf)\n",
    "gc()"
   ]
  },
  {
   "cell_type": "code",
   "execution_count": 112,
   "id": "5bcd9899",
   "metadata": {},
   "outputs": [
    {
     "data": {
      "text/plain": [
       "\n",
       "Phylogenetic tree with 139299 tips and 99969 internal nodes.\n",
       "\n",
       "Tip labels:\n",
       "  ENST00000430817.5, ENST00000597352.1, ENST00000448693.2, ENST00000496822.1, ENST00000487068.1, ENST00000493199.1, ...\n",
       "\n",
       "Unrooted; no branch lengths."
      ]
     },
     "metadata": {},
     "output_type": "display_data"
    },
    {
     "data": {
      "text/plain": [
       "class: SummarizedExperiment \n",
       "dim: 239268 12 \n",
       "metadata(7): tximetaInfo quantInfo ... txdbInfo infRepsScaled\n",
       "assays(105): counts abundance ... mean variance\n",
       "rownames(239268): ENST00000430817.5 ENST00000597352.1 ... 239267 239268\n",
       "rowData names(1): meanInfRV\n",
       "colnames(12): 1_1 2_1 ... 5_2 6_2\n",
       "colData names(2): names condition"
      ]
     },
     "metadata": {},
     "output_type": "display_data"
    }
   ],
   "source": [
    "treeMeanInf\n",
    "yAggMeanInfNS\n",
    "save(treeMeanInf, file=\"environment/brain_sim_nodtu/mode=gc_bias/post_type=gibbs_nrep=100_tf=100/mean_cons/treeMC.RData\")\n",
    "save(yAggMeanInfNS, file=\"environment/brain_sim_nodtu/mode=gc_bias/post_type=gibbs_nrep=100_tf=100/mean_cons/yAggMeanInfNS.RData\")\n",
    "save(yAggMeanInf, file=\"environment/brain_sim_nodtu/mode=gc_bias/post_type=gibbs_nrep=100_tf=100/mean_cons/yAggMeanInf.RData\")"
   ]
  },
  {
   "cell_type": "markdown",
   "id": "615de8e0",
   "metadata": {},
   "source": [
    "###  Correlation tree"
   ]
  },
  {
   "cell_type": "code",
   "execution_count": 107,
   "id": "d2a03147",
   "metadata": {},
   "outputs": [
    {
     "name": "stdout",
     "output_type": "stream",
     "text": [
      "[1] \"Missing txps 66937\"\n"
     ]
    },
    {
     "data": {
      "text/html": [
       "<table class=\"dataframe\">\n",
       "<caption>A matrix: 2 × 6 of type dbl</caption>\n",
       "<thead>\n",
       "\t<tr><th></th><th scope=col>used</th><th scope=col>(Mb)</th><th scope=col>gc trigger</th><th scope=col>(Mb)</th><th scope=col>max used</th><th scope=col>(Mb)</th></tr>\n",
       "</thead>\n",
       "<tbody>\n",
       "\t<tr><th scope=row>Ncells</th><td>  11460489</td><td>  612.1</td><td>  21307774</td><td> 1138.0</td><td>  21307774</td><td> 1138.0</td></tr>\n",
       "\t<tr><th scope=row>Vcells</th><td>3137570184</td><td>23937.8</td><td>5085817767</td><td>38801.8</td><td>5085498002</td><td>38799.3</td></tr>\n",
       "</tbody>\n",
       "</table>\n"
      ],
      "text/latex": [
       "A matrix: 2 × 6 of type dbl\n",
       "\\begin{tabular}{r|llllll}\n",
       "  & used & (Mb) & gc trigger & (Mb) & max used & (Mb)\\\\\n",
       "\\hline\n",
       "\tNcells &   11460489 &   612.1 &   21307774 &  1138.0 &   21307774 &  1138.0\\\\\n",
       "\tVcells & 3137570184 & 23937.8 & 5085817767 & 38801.8 & 5085498002 & 38799.3\\\\\n",
       "\\end{tabular}\n"
      ],
      "text/markdown": [
       "\n",
       "A matrix: 2 × 6 of type dbl\n",
       "\n",
       "| <!--/--> | used | (Mb) | gc trigger | (Mb) | max used | (Mb) |\n",
       "|---|---|---|---|---|---|---|\n",
       "| Ncells |   11460489 |   612.1 |   21307774 |  1138.0 |   21307774 |  1138.0 |\n",
       "| Vcells | 3137570184 | 23937.8 | 5085817767 | 38801.8 | 5085498002 | 38799.3 |\n",
       "\n"
      ],
      "text/plain": [
       "       used       (Mb)    gc trigger (Mb)    max used   (Mb)   \n",
       "Ncells   11460489   612.1   21307774  1138.0   21307774  1138.0\n",
       "Vcells 3137570184 23937.8 5085817767 38801.8 5085498002 38799.3"
      ]
     },
     "metadata": {},
     "output_type": "display_data"
    }
   ],
   "source": [
    "childTxps <- Descendants(trMeanCorUPGMA, length(trMeanCorUPGMA$tip)+1, \"child\")\n",
    "dropTxps <- childTxps[childTxps <= length(trMeanCorUPGMA$tip)]\n",
    "treeCor <- drop.tip(trMeanCorUPGMA,dropTxps)\n",
    "mb <- mergeLeaves(treeCor, se[txpsAll,])\n",
    "treeCor <- mb[[\"tree\"]]\n",
    "rm(mb)\n",
    "gc()\n",
    "\n",
    "yCorNS <- seBrainSim[treeCor$tip,]\n",
    "yCorNS <- computeInfRV(yCorNS, meanVariance=F)\n",
    "\n",
    "yAggCorNS <- prepSwish(treeCor, yCorNS)\n",
    "yAggCorNS <- computeInfRV(yAggCorNS, meanVariance=F)"
   ]
  },
  {
   "cell_type": "code",
   "execution_count": 23,
   "id": "f67750aa",
   "metadata": {},
   "outputs": [
    {
     "data": {
      "text/html": [
       "<table class=\"dataframe\">\n",
       "<caption>A matrix: 2 × 6 of type dbl</caption>\n",
       "<thead>\n",
       "\t<tr><th></th><th scope=col>used</th><th scope=col>(Mb)</th><th scope=col>gc trigger</th><th scope=col>(Mb)</th><th scope=col>max used</th><th scope=col>(Mb)</th></tr>\n",
       "</thead>\n",
       "<tbody>\n",
       "\t<tr><th scope=row>Ncells</th><td> 11113494</td><td> 593.6</td><td>  21728112</td><td> 1160.5</td><td>  21728112</td><td> 1160.5</td></tr>\n",
       "\t<tr><th scope=row>Vcells</th><td>908131567</td><td>6928.5</td><td>2629794727</td><td>20063.8</td><td>2434120969</td><td>18570.9</td></tr>\n",
       "</tbody>\n",
       "</table>\n"
      ],
      "text/latex": [
       "A matrix: 2 × 6 of type dbl\n",
       "\\begin{tabular}{r|llllll}\n",
       "  & used & (Mb) & gc trigger & (Mb) & max used & (Mb)\\\\\n",
       "\\hline\n",
       "\tNcells &  11113494 &  593.6 &   21728112 &  1160.5 &   21728112 &  1160.5\\\\\n",
       "\tVcells & 908131567 & 6928.5 & 2629794727 & 20063.8 & 2434120969 & 18570.9\\\\\n",
       "\\end{tabular}\n"
      ],
      "text/markdown": [
       "\n",
       "A matrix: 2 × 6 of type dbl\n",
       "\n",
       "| <!--/--> | used | (Mb) | gc trigger | (Mb) | max used | (Mb) |\n",
       "|---|---|---|---|---|---|---|\n",
       "| Ncells |  11113494 |  593.6 |   21728112 |  1160.5 |   21728112 |  1160.5 |\n",
       "| Vcells | 908131567 | 6928.5 | 2629794727 | 20063.8 | 2434120969 | 18570.9 |\n",
       "\n"
      ],
      "text/plain": [
       "       used      (Mb)   gc trigger (Mb)    max used   (Mb)   \n",
       "Ncells  11113494  593.6   21728112  1160.5   21728112  1160.5\n",
       "Vcells 908131567 6928.5 2629794727 20063.8 2434120969 18570.9"
      ]
     },
     "metadata": {},
     "output_type": "display_data"
    }
   ],
   "source": [
    "load(\"environment/brain_sim_nodtu/mode=gc_bias/post_type=gibbs_nrep=100_tf=100/mean_cons/treeCor.RData\")\n",
    "load(\"environment/brain_sim_nodtu/mode=gc_bias/post_type=gibbs_nrep=100_tf=100/mean_cons/yAggCorNS.RData\")\n",
    "yCor <- se[treeCor$tip,]\n",
    "yAggCor <- prepSwish(treeCor, yCor)\n",
    "mcols(yAggCor)[[\"meanInfRV\"]] <- mcols(yAggCorNS)[[\"meanInfRV\"]]\n",
    "save(yAggCor, file=\"environment/brain_sim_nodtu/mode=gc_bias/post_type=gibbs_nrep=100_tf=100/mean_cons/yAggCor.RData\")\n",
    "rm(yAggCor, yAggCorNS, yCor)\n",
    "gc()"
   ]
  },
  {
   "cell_type": "code",
   "execution_count": 108,
   "id": "5f54252b",
   "metadata": {},
   "outputs": [
    {
     "data": {
      "text/plain": [
       "\n",
       "Phylogenetic tree with 139299 tips and 72361 internal nodes.\n",
       "\n",
       "Tip labels:\n",
       "  ENST00000430817.5, ENST00000597352.1, ENST00000497436.5, ENST00000463827.1, ENST00000479553.5, ENST00000463762.1, ...\n",
       "\n",
       "Unrooted; includes branch lengths."
      ]
     },
     "metadata": {},
     "output_type": "display_data"
    },
    {
     "data": {
      "text/plain": [
       "class: SummarizedExperiment \n",
       "dim: 211660 12 \n",
       "metadata(7): tximetaInfo quantInfo ... txdbInfo infRepsScaled\n",
       "assays(105): counts abundance ... mean variance\n",
       "rownames(211660): ENST00000430817.5 ENST00000597352.1 ... 211659 211660\n",
       "rowData names(1): meanInfRV\n",
       "colnames(12): 1_1 2_1 ... 5_2 6_2\n",
       "colData names(2): names condition"
      ]
     },
     "metadata": {},
     "output_type": "display_data"
    }
   ],
   "source": [
    "treeCor\n",
    "yAggCorNS\n",
    "save(treeCor, file=\"environment/brain_sim_nodtu/mode=gc_bias/post_type=gibbs_nrep=100_tf=100/mean_cons/treeCor.RData\")\n",
    "save(yAggCorNS, file=\"environment/brain_sim_nodtu/mode=gc_bias/post_type=gibbs_nrep=100_tf=100/mean_cons/yAggCorNS.RData\")\n",
    "save(yAggCor, file=\"environment/brain_sim_nodtu/mode=gc_bias/post_type=gibbs_nrep=100_tf=100/mean_cons/yAggCor.RData\")"
   ]
  },
  {
   "cell_type": "code",
   "execution_count": 34,
   "id": "01de9fdc",
   "metadata": {},
   "outputs": [
    {
     "name": "stdout",
     "output_type": "stream",
     "text": [
      "[1] \"Missing txps 112878\"\n"
     ]
    },
    {
     "data": {
      "text/html": [
       "<table class=\"dataframe\">\n",
       "<caption>A matrix: 2 × 6 of type dbl</caption>\n",
       "<thead>\n",
       "\t<tr><th></th><th scope=col>used</th><th scope=col>(Mb)</th><th scope=col>gc trigger</th><th scope=col>(Mb)</th><th scope=col>max used</th><th scope=col>(Mb)</th></tr>\n",
       "</thead>\n",
       "<tbody>\n",
       "\t<tr><th scope=row>Ncells</th><td>  11286455</td><td>  602.8</td><td>  21728112</td><td> 1160.5</td><td>  21728112</td><td> 1160.5</td></tr>\n",
       "\t<tr><th scope=row>Vcells</th><td>1601905527</td><td>12221.6</td><td>2629794727</td><td>20063.8</td><td>2506875416</td><td>19126.0</td></tr>\n",
       "</tbody>\n",
       "</table>\n"
      ],
      "text/latex": [
       "A matrix: 2 × 6 of type dbl\n",
       "\\begin{tabular}{r|llllll}\n",
       "  & used & (Mb) & gc trigger & (Mb) & max used & (Mb)\\\\\n",
       "\\hline\n",
       "\tNcells &   11286455 &   602.8 &   21728112 &  1160.5 &   21728112 &  1160.5\\\\\n",
       "\tVcells & 1601905527 & 12221.6 & 2629794727 & 20063.8 & 2506875416 & 19126.0\\\\\n",
       "\\end{tabular}\n"
      ],
      "text/markdown": [
       "\n",
       "A matrix: 2 × 6 of type dbl\n",
       "\n",
       "| <!--/--> | used | (Mb) | gc trigger | (Mb) | max used | (Mb) |\n",
       "|---|---|---|---|---|---|---|\n",
       "| Ncells |   11286455 |   602.8 |   21728112 |  1160.5 |   21728112 |  1160.5 |\n",
       "| Vcells | 1601905527 | 12221.6 | 2629794727 | 20063.8 | 2506875416 | 19126.0 |\n",
       "\n"
      ],
      "text/plain": [
       "       used       (Mb)    gc trigger (Mb)    max used   (Mb)   \n",
       "Ncells   11286455   602.8   21728112  1160.5   21728112  1160.5\n",
       "Vcells 1601905527 12221.6 2629794727 20063.8 2506875416 19126.0"
      ]
     },
     "metadata": {},
     "output_type": "display_data"
    }
   ],
   "source": [
    "treeThr <- mergeTree(treesThr, se = mapDf)\n",
    "mb <- mergeLeaves(treeThr, se[txpsAll,])\n",
    "treeThr <- mb[[\"tree\"]]\n",
    "rm(mb)\n",
    "gc()\n",
    "\n",
    "yThrNS <- seBrainSim[treeThr$tip,]\n",
    "\n",
    "yAggThrNS <- prepSwish(treeThr, yThrNS)\n",
    "yAggThrNS <- computeInfRV(yAggThrNS, meanVariance=F)"
   ]
  },
  {
   "cell_type": "code",
   "execution_count": 35,
   "id": "faa8e37f",
   "metadata": {},
   "outputs": [],
   "source": [
    "yThr <- se[treeThr$tip,]\n",
    "yAggThr <- prepSwish(treeThr, yThr)\n",
    "mcols(yAggThr)[[\"meanInfRV\"]] <- mcols(yAggThrNS)[[\"meanInfRV\"]]"
   ]
  },
  {
   "cell_type": "code",
   "execution_count": 36,
   "id": "12c7fb42",
   "metadata": {},
   "outputs": [
    {
     "data": {
      "text/plain": [
       "\n",
       "Phylogenetic tree with 139299 tips and 16766 internal nodes.\n",
       "\n",
       "Tip labels:\n",
       "  ENST00000340550.5, ENST00000321424.7, ENST00000430817.5, ENST00000597352.1, ENST00000497436.5, ENST00000463827.1, ...\n",
       "\n",
       "Unrooted; includes branch lengths."
      ]
     },
     "metadata": {},
     "output_type": "display_data"
    },
    {
     "data": {
      "text/plain": [
       "class: SummarizedExperiment \n",
       "dim: 156065 12 \n",
       "metadata(7): tximetaInfo quantInfo ... txdbInfo infRepsScaled\n",
       "assays(105): counts abundance ... mean variance\n",
       "rownames(156065): ENST00000340550.5 ENST00000321424.7 ... 156064 156065\n",
       "rowData names(1): meanInfRV\n",
       "colnames(12): 1_1 2_1 ... 5_2 6_2\n",
       "colData names(2): names condition"
      ]
     },
     "metadata": {},
     "output_type": "display_data"
    },
    {
     "data": {
      "text/plain": [
       "class: SummarizedExperiment \n",
       "dim: 156065 12 \n",
       "metadata(8): tximetaInfo quantInfo ... infRepsScaled preprocessed\n",
       "assays(103): counts abundance ... infRep99 infRep100\n",
       "rownames(156065): ENST00000340550.5 ENST00000321424.7 ... 156064 156065\n",
       "rowData names(1): meanInfRV\n",
       "colnames(12): 1_1 2_1 ... 5_2 6_2\n",
       "colData names(2): names condition"
      ]
     },
     "metadata": {},
     "output_type": "display_data"
    }
   ],
   "source": [
    "treeThr\n",
    "yAggThrNS\n",
    "yAggThr\n",
    "save(treeThr, file=\"environment/brain_sim_nodtu/mode=gc_bias/post_type=gibbs_nrep=100_tf=100/mean_cons/treeThr.RData\")\n",
    "save(yAggThrNS, file=\"environment/brain_sim_nodtu/mode=gc_bias/post_type=gibbs_nrep=100_tf=100/mean_cons/yAggThrNS.RData\")\n",
    "save(yAggThr, file=\"environment/brain_sim_nodtu/mode=gc_bias/post_type=gibbs_nrep=100_tf=100/mean_cons/yAggThr.RData\")"
   ]
  },
  {
   "cell_type": "code",
   "execution_count": 21,
   "id": "3cc68e73",
   "metadata": {},
   "outputs": [],
   "source": [
    "depth <- node.depth(treeMC, 2)\n",
    "modDep <- depth\n",
    "modDep[depth > 6]=7\n",
    "dfInf <- data.frame(infRV = mcols(yAggMeanInfNS)[[\"meanInfRV\"]], depth = modDep)"
   ]
  },
  {
   "cell_type": "code",
   "execution_count": 22,
   "id": "d7f114ea",
   "metadata": {},
   "outputs": [
    {
     "data": {
      "image/png": "[encoded data removed]",
      "text/plain": [
       "plot without title"
      ]
     },
     "metadata": {
      "image/png": {
       "height": 420,
       "width": 420
      }
     },
     "output_type": "display_data"
    }
   ],
   "source": [
    "dfInf %>% filter(depth!=1) %>% ggplot(aes(x=log2(infRV))) + geom_histogram(bins=50) + facet_wrap(vars(depth))"
   ]
  },
  {
   "cell_type": "code",
   "execution_count": 23,
   "id": "8a6190b8",
   "metadata": {},
   "outputs": [
    {
     "data": {
      "image/png": "[encoded data removed]",
      "text/plain": [
       "plot without title"
      ]
     },
     "metadata": {
      "image/png": {
       "height": 420,
       "width": 420
      }
     },
     "output_type": "display_data"
    }
   ],
   "source": [
    "dfInf %>% filter(depth!=1) %>% ggplot(aes(y=log2(infRV), x=factor(depth))) + geom_violin()"
   ]
  },
  {
   "cell_type": "code",
   "execution_count": 23,
   "id": "67aac3fc",
   "metadata": {},
   "outputs": [],
   "source": [
    "nNodes <- length(treeMC$tip)+treeMC$Nnode\n",
    "desc <- Descendants(treeMC, seq(nNodes))\n",
    "genesMeanInf <- mclapply(desc[length(treeMC$tip)+1:treeMC$Nnode], function(txps) unique(mapDf[treeMC$tip[txps],1]), mc.cores=1)\n",
    "save(genesMeanInf, file=\"environment/brain_sim_nodtu/mode=gc_bias/post_type=gibbs_nrep=100_tf=100/mean_cons/genesMeanInf.RData\")"
   ]
  },
  {
   "cell_type": "code",
   "execution_count": 9,
   "id": "8b8374b7",
   "metadata": {},
   "outputs": [],
   "source": [
    "nNodes <- length(treeMC0$tip)+treeMC0$Nnode\n",
    "desc <- Descendants(treeMC0, seq(nNodes))\n",
    "genesMeanInf0 <- mclapply(desc[length(treeMC0$tip)+1:treeMC0$Nnode], function(txps) unique(mapDf[treeMC0$tip[txps],1]), mc.cores=1)\n",
    "save(genesMeanInf0, file=\"environment/brain_sim_nodtu/mode=gc_bias/post_type=gibbs_nrep=100_tf=100/mean_cons/genesMeanInf0.RData\")"
   ]
  },
  {
   "cell_type": "code",
   "execution_count": 113,
   "id": "e6e61027",
   "metadata": {},
   "outputs": [],
   "source": [
    "nNodes <- length(treeCons0$tip)+treeCons0$Nnode\n",
    "desc <- Descendants(treeCons0, seq(nNodes))\n",
    "genesCons0 <- mclapply(desc[length(treeCons0$tip)+1:treeCons0$Nnode], function(txps) unique(mapDf[treeCons0$tip[txps],1]), mc.cores=1)\n",
    "save(genesCons0, file=\"environment/brain_sim_nodtu/mode=gc_bias/post_type=gibbs_nrep=100_tf=100/mean_cons/genesCons0.RData\")"
   ]
  },
  {
   "cell_type": "code",
   "execution_count": null,
   "id": "3a340a06",
   "metadata": {},
   "outputs": [],
   "source": []
  }
 ],
 "metadata": {
  "kernelspec": {
   "display_name": "R",
   "language": "R",
   "name": "ir"
  },
  "language_info": {
   "codemirror_mode": "r",
   "file_extension": ".r",
   "mimetype": "text/x-r-source",
   "name": "R",
   "pygments_lexer": "r",
   "version": "4.1.1"
  }
 },
 "nbformat": 4,
 "nbformat_minor": 5
}
