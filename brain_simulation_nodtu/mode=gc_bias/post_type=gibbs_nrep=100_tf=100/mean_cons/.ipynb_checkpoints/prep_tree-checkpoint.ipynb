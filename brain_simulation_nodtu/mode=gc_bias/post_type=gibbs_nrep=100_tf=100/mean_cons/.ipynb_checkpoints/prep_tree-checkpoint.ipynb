{
 "cells": [
  {
   "cell_type": "markdown",
   "id": "ba4033d9",
   "metadata": {},
   "source": [
    "#### Loading data"
   ]
  },
  {
   "cell_type": "code",
   "execution_count": 4,
   "id": "e84a156c",
   "metadata": {},
   "outputs": [],
   "source": [
    "setwd('/fs/cbcb-lab/rob/students/noor/Uncertainity/treeTerminusScripts')\n",
    "load(\"environment/brain_sim_nodtu/mode=gc_bias/post_type=gibbs_nrep=100_tf=100/seBrainSim.RData\")\n",
    "load(\"environment/brain_sim_nodtu/mode=gc_bias/post_type=gibbs_nrep=100_tf=100/tree.RData\")\n",
    "load(\"environment/brain_sim_nodtu/mode=gc_bias/post_type=gibbs_nrep=100_tf=100/updated/comp_trees/trMCorUPGMA.RData\")\n",
    "load(\"environment/brain_sim_nodtu/mode=gc_bias/mapDf.RData\")"
   ]
  },
  {
   "cell_type": "code",
   "execution_count": 5,
   "id": "8a2070e4",
   "metadata": {},
   "outputs": [],
   "source": [
    "suppressPackageStartupMessages(source(\"tree_helper_function.R\"))\n",
    "suppressPackageStartupMessages(library(ggpubr))\n",
    "suppressPackageStartupMessages(library(dplyr))\n",
    "trees <- read.tree(\"/fs/cbcb-lab/rob/students/noor/Uncertainity/terminus/1_1/group_nwk.txt\")"
   ]
  },
  {
   "cell_type": "code",
   "execution_count": 6,
   "id": "5fe369b7",
   "metadata": {},
   "outputs": [
    {
     "data": {
      "text/html": [
       "21820"
      ],
      "text/latex": [
       "21820"
      ],
      "text/markdown": [
       "21820"
      ],
      "text/plain": [
       "[1] 21820"
      ]
     },
     "metadata": {},
     "output_type": "display_data"
    },
    {
     "data": {
      "text/plain": [
       "\n",
       "    2     3     4     5     6     7     8     9    10    11    12    13    14 \n",
       "11531  4098  2250  1298   774   597   382   216   168   130    93    61    45 \n",
       "   15    16    17    18    19    20    21    22    23    24    25    26    27 \n",
       "   31    33    21    16     8    13     8     9     4     6     5     1     5 \n",
       "   28    31    32    34    36    37    39    42    47    58    60    61 \n",
       "    3     2     2     1     1     1     1     1     1     2     1     1 "
      ]
     },
     "metadata": {},
     "output_type": "display_data"
    },
    {
     "data": {
      "text/html": [
       "73938"
      ],
      "text/latex": [
       "73938"
      ],
      "text/markdown": [
       "73938"
      ],
      "text/plain": [
       "[1] 73938"
      ]
     },
     "metadata": {},
     "output_type": "display_data"
    }
   ],
   "source": [
    "length(trees)\n",
    "table(sapply(trees, function(tree) length(tree$tip)))\n",
    "sum(sapply(trees, function(tree) length(tree$tip)))"
   ]
  },
  {
   "cell_type": "markdown",
   "id": "85f0e0f3",
   "metadata": {},
   "source": [
    "The number of transcripts covered by mean inf reduction is 73938 compared to 122K covered by consensus. For consensus tree after correcting for other transcripts that would have been missed we 129K txps"
   ]
  },
  {
   "cell_type": "code",
   "execution_count": 3,
   "id": "11d31024",
   "metadata": {},
   "outputs": [],
   "source": [
    "gold_col <- read.delim(\"/fs/cbcb-lab/rob/students/noor/Uncertainity/terminus/1_1/golden_collapses.log\", header = F)\n",
    "oth_col <- read.delim(\"/fs/cbcb-lab/rob/students/noor/Uncertainity/terminus/1_1/collapsed.log\",header = F)"
   ]
  },
  {
   "cell_type": "code",
   "execution_count": 13,
   "id": "5e501e3b",
   "metadata": {},
   "outputs": [
    {
     "data": {
      "text/html": [
       "<table class=\"dataframe\">\n",
       "<caption>A data.frame: 6 × 5</caption>\n",
       "<thead>\n",
       "\t<tr><th></th><th scope=col>V1</th><th scope=col>V2</th><th scope=col>V3</th><th scope=col>V4</th><th scope=col>V5</th></tr>\n",
       "\t<tr><th></th><th scope=col>&lt;int&gt;</th><th scope=col>&lt;int&gt;</th><th scope=col>&lt;dbl&gt;</th><th scope=col>&lt;dbl&gt;</th><th scope=col>&lt;dbl&gt;</th></tr>\n",
       "</thead>\n",
       "<tbody>\n",
       "\t<tr><th scope=row>1</th><td> 64100</td><td> 64101</td><td>695.2826</td><td>454.40789</td><td>-518.8135</td></tr>\n",
       "\t<tr><th scope=row>2</th><td>190627</td><td>190628</td><td>359.8111</td><td>367.75871</td><td>-363.7059</td></tr>\n",
       "\t<tr><th scope=row>3</th><td>103850</td><td>103851</td><td>349.5727</td><td>319.27274</td><td>-334.2395</td></tr>\n",
       "\t<tr><th scope=row>4</th><td>124062</td><td>124063</td><td>189.5785</td><td>384.64022</td><td>-258.6980</td></tr>\n",
       "\t<tr><th scope=row>5</th><td> 32115</td><td> 32116</td><td>329.6591</td><td> 58.07966</td><td>-193.7927</td></tr>\n",
       "\t<tr><th scope=row>6</th><td>126071</td><td>126072</td><td>105.0655</td><td>281.00099</td><td>-192.5627</td></tr>\n",
       "</tbody>\n",
       "</table>\n"
      ],
      "text/latex": [
       "A data.frame: 6 × 5\n",
       "\\begin{tabular}{r|lllll}\n",
       "  & V1 & V2 & V3 & V4 & V5\\\\\n",
       "  & <int> & <int> & <dbl> & <dbl> & <dbl>\\\\\n",
       "\\hline\n",
       "\t1 &  64100 &  64101 & 695.2826 & 454.40789 & -518.8135\\\\\n",
       "\t2 & 190627 & 190628 & 359.8111 & 367.75871 & -363.7059\\\\\n",
       "\t3 & 103850 & 103851 & 349.5727 & 319.27274 & -334.2395\\\\\n",
       "\t4 & 124062 & 124063 & 189.5785 & 384.64022 & -258.6980\\\\\n",
       "\t5 &  32115 &  32116 & 329.6591 &  58.07966 & -193.7927\\\\\n",
       "\t6 & 126071 & 126072 & 105.0655 & 281.00099 & -192.5627\\\\\n",
       "\\end{tabular}\n"
      ],
      "text/markdown": [
       "\n",
       "A data.frame: 6 × 5\n",
       "\n",
       "| <!--/--> | V1 &lt;int&gt; | V2 &lt;int&gt; | V3 &lt;dbl&gt; | V4 &lt;dbl&gt; | V5 &lt;dbl&gt; |\n",
       "|---|---|---|---|---|---|\n",
       "| 1 |  64100 |  64101 | 695.2826 | 454.40789 | -518.8135 |\n",
       "| 2 | 190627 | 190628 | 359.8111 | 367.75871 | -363.7059 |\n",
       "| 3 | 103850 | 103851 | 349.5727 | 319.27274 | -334.2395 |\n",
       "| 4 | 124062 | 124063 | 189.5785 | 384.64022 | -258.6980 |\n",
       "| 5 |  32115 |  32116 | 329.6591 |  58.07966 | -193.7927 |\n",
       "| 6 | 126071 | 126072 | 105.0655 | 281.00099 | -192.5627 |\n",
       "\n"
      ],
      "text/plain": [
       "  V1     V2     V3       V4        V5       \n",
       "1  64100  64101 695.2826 454.40789 -518.8135\n",
       "2 190627 190628 359.8111 367.75871 -363.7059\n",
       "3 103850 103851 349.5727 319.27274 -334.2395\n",
       "4 124062 124063 189.5785 384.64022 -258.6980\n",
       "5  32115  32116 329.6591  58.07966 -193.7927\n",
       "6 126071 126072 105.0655 281.00099 -192.5627"
      ]
     },
     "metadata": {},
     "output_type": "display_data"
    }
   ],
   "source": [
    "head(oth_col)"
   ]
  },
  {
   "cell_type": "code",
   "execution_count": 14,
   "id": "f97cfbff",
   "metadata": {},
   "outputs": [
    {
     "data": {
      "text/html": [
       "<table class=\"dataframe\">\n",
       "<caption>A data.frame: 6 × 4</caption>\n",
       "<thead>\n",
       "\t<tr><th></th><th scope=col>V1</th><th scope=col>V2</th><th scope=col>V3</th><th scope=col>V4</th></tr>\n",
       "\t<tr><th></th><th scope=col>&lt;int&gt;</th><th scope=col>&lt;int&gt;</th><th scope=col>&lt;dbl&gt;</th><th scope=col>&lt;dbl&gt;</th></tr>\n",
       "</thead>\n",
       "<tbody>\n",
       "\t<tr><th scope=row>1</th><td>135347</td><td>135348</td><td> 0.2092018</td><td> 0.1950577</td></tr>\n",
       "\t<tr><th scope=row>2</th><td>198385</td><td>199278</td><td>79.7003465</td><td>73.0272890</td></tr>\n",
       "\t<tr><th scope=row>3</th><td>198383</td><td>199276</td><td>27.7232060</td><td>27.5037076</td></tr>\n",
       "\t<tr><th scope=row>4</th><td>198379</td><td>199272</td><td>27.6885216</td><td>27.7430379</td></tr>\n",
       "\t<tr><th scope=row>5</th><td>144668</td><td>144673</td><td>17.0534941</td><td>17.1025386</td></tr>\n",
       "\t<tr><th scope=row>6</th><td>145377</td><td>145440</td><td> 0.5584797</td><td> 0.6442223</td></tr>\n",
       "</tbody>\n",
       "</table>\n"
      ],
      "text/latex": [
       "A data.frame: 6 × 4\n",
       "\\begin{tabular}{r|llll}\n",
       "  & V1 & V2 & V3 & V4\\\\\n",
       "  & <int> & <int> & <dbl> & <dbl>\\\\\n",
       "\\hline\n",
       "\t1 & 135347 & 135348 &  0.2092018 &  0.1950577\\\\\n",
       "\t2 & 198385 & 199278 & 79.7003465 & 73.0272890\\\\\n",
       "\t3 & 198383 & 199276 & 27.7232060 & 27.5037076\\\\\n",
       "\t4 & 198379 & 199272 & 27.6885216 & 27.7430379\\\\\n",
       "\t5 & 144668 & 144673 & 17.0534941 & 17.1025386\\\\\n",
       "\t6 & 145377 & 145440 &  0.5584797 &  0.6442223\\\\\n",
       "\\end{tabular}\n"
      ],
      "text/markdown": [
       "\n",
       "A data.frame: 6 × 4\n",
       "\n",
       "| <!--/--> | V1 &lt;int&gt; | V2 &lt;int&gt; | V3 &lt;dbl&gt; | V4 &lt;dbl&gt; |\n",
       "|---|---|---|---|---|\n",
       "| 1 | 135347 | 135348 |  0.2092018 |  0.1950577 |\n",
       "| 2 | 198385 | 199278 | 79.7003465 | 73.0272890 |\n",
       "| 3 | 198383 | 199276 | 27.7232060 | 27.5037076 |\n",
       "| 4 | 198379 | 199272 | 27.6885216 | 27.7430379 |\n",
       "| 5 | 144668 | 144673 | 17.0534941 | 17.1025386 |\n",
       "| 6 | 145377 | 145440 |  0.5584797 |  0.6442223 |\n",
       "\n"
      ],
      "text/plain": [
       "  V1     V2     V3         V4        \n",
       "1 135347 135348  0.2092018  0.1950577\n",
       "2 198385 199278 79.7003465 73.0272890\n",
       "3 198383 199276 27.7232060 27.5037076\n",
       "4 198379 199272 27.6885216 27.7430379\n",
       "5 144668 144673 17.0534941 17.1025386\n",
       "6 145377 145440  0.5584797  0.6442223"
      ]
     },
     "metadata": {},
     "output_type": "display_data"
    }
   ],
   "source": [
    "head(gold_col)"
   ]
  },
  {
   "cell_type": "markdown",
   "id": "4e4e86a9",
   "metadata": {},
   "source": [
    "### Testing infRV reduction"
   ]
  },
  {
   "cell_type": "code",
   "execution_count": 28,
   "id": "c307818d",
   "metadata": {},
   "outputs": [
    {
     "data": {
      "text/html": [
       "FALSE"
      ],
      "text/latex": [
       "FALSE"
      ],
      "text/markdown": [
       "FALSE"
      ],
      "text/plain": [
       "[1] FALSE"
      ]
     },
     "metadata": {},
     "output_type": "display_data"
    }
   ],
   "source": [
    "i <- 1\n",
    "oth_col$V1[i] %in% union(gold_col$V1, gold_col$V1) | oth_col$V2[i] %in% union(gold_col$V1, gold_col$V1)"
   ]
  },
  {
   "cell_type": "code",
   "execution_count": 22,
   "id": "00af0390",
   "metadata": {},
   "outputs": [],
   "source": [
    "source(\"brain_simulation_nodtu/mode=gc_bias/post_type=gibbs_nrep=100_tf=100/tree_analysis/tree_filter.R\")"
   ]
  },
  {
   "cell_type": "code",
   "execution_count": 23,
   "id": "5a9a3b71",
   "metadata": {},
   "outputs": [],
   "source": [
    "infRV <- computeInfRV(yNS, subOne = T)"
   ]
  },
  {
   "cell_type": "code",
   "execution_count": 34,
   "id": "d97fe79c",
   "metadata": {},
   "outputs": [
    {
     "data": {
      "text/html": [
       "<style>\n",
       ".list-inline {list-style: none; margin:0; padding: 0}\n",
       ".list-inline>li {display: inline-block}\n",
       ".list-inline>li:not(:last-child)::after {content: \"\\00b7\"; padding: 0 .5ex}\n",
       "</style>\n",
       "<ol class=list-inline><li>&lt;NA&gt;</li><li>&lt;NA&gt;</li></ol>\n"
      ],
      "text/latex": [
       "\\begin{enumerate*}\n",
       "\\item <NA>\n",
       "\\item <NA>\n",
       "\\end{enumerate*}\n"
      ],
      "text/markdown": [
       "1. &lt;NA&gt;\n",
       "2. &lt;NA&gt;\n",
       "\n",
       "\n"
      ],
      "text/plain": [
       "[1] NA NA"
      ]
     },
     "metadata": {},
     "output_type": "display_data"
    }
   ],
   "source": [
    "infReps <- assays(yNS)[grep(\"infRep\", assayNames(yNS))]\n",
    "infReps <- abind::abind(as.list(infReps), along = 3)\n"
   ]
  },
  {
   "cell_type": "code",
   "execution_count": 50,
   "id": "21d4dc6b",
   "metadata": {},
   "outputs": [
    {
     "name": "stdout",
     "output_type": "stream",
     "text": [
      "[1] -518.8135\n",
      "[1] -363.7059\n",
      "[1] -334.2395\n",
      "[1] -258.698\n",
      "[1] -193.7927\n",
      "[1] -192.5627\n"
     ]
    }
   ],
   "source": [
    "for(i in seq(6)) {\n",
    "        m <- colSums(infReps[c(mapDf[oth_col$V1[i]+1,2], mapDf[oth_col$V2[i]+1,2]),,])\n",
    "        means <- rowMeans(m)-1\n",
    "        vars <- rowVars(m)\n",
    "        print(mean(pmax(vars-means,0)/(means+5)+0.01 - rowMeans(cbind(infRV$infRV[mapDf[oth_col$V1[i]+1,2],],infRV$infRV[mapDf[oth_col$V2[i]+1,2],]))))\n",
    "}\n"
   ]
  },
  {
   "cell_type": "markdown",
   "id": "7b43830e",
   "metadata": {},
   "source": [
    "### Extracting tree and conversion"
   ]
  },
  {
   "cell_type": "markdown",
   "id": "a291af1a",
   "metadata": {},
   "source": [
    "#### ToDo\n",
    "~~Create a new yNS, which is union of all transcripts ~~<br>\n",
    "~~Accordingly adjust trees and genes for the remaining transcripts~~<br>\n",
    "Find the overlap between consensus and mean inf reduction trees<br>\n",
    "~~Weighted logFC~~<br>\n",
    "nGenes<br>\n",
    "~~Net reduction in infRV where there is reduction ~~<br>\n",
    "Understand the impact of code in main branch (act_source and target)"
   ]
  },
  {
   "cell_type": "code",
   "execution_count": 41,
   "id": "b0f2d9e3",
   "metadata": {},
   "outputs": [
    {
     "name": "stdout",
     "output_type": "stream",
     "text": [
      "[1] \"Missing txps 55760\"\n"
     ]
    },
    {
     "data": {
      "text/html": [
       "<table class=\"dataframe\">\n",
       "<caption>A matrix: 2 × 6 of type dbl</caption>\n",
       "<thead>\n",
       "\t<tr><th></th><th scope=col>used</th><th scope=col>(Mb)</th><th scope=col>gc trigger</th><th scope=col>(Mb)</th><th scope=col>max used</th><th scope=col>(Mb)</th></tr>\n",
       "</thead>\n",
       "<tbody>\n",
       "\t<tr><th scope=row>Ncells</th><td>  10640865</td><td>  568.3</td><td>  20779724</td><td> 1109.8</td><td>  20779724</td><td> 1109.8</td></tr>\n",
       "\t<tr><th scope=row>Vcells</th><td>1558210100</td><td>11888.2</td><td>2590550024</td><td>19764.4</td><td>2590549550</td><td>19764.4</td></tr>\n",
       "</tbody>\n",
       "</table>\n"
      ],
      "text/latex": [
       "A matrix: 2 × 6 of type dbl\n",
       "\\begin{tabular}{r|llllll}\n",
       "  & used & (Mb) & gc trigger & (Mb) & max used & (Mb)\\\\\n",
       "\\hline\n",
       "\tNcells &   10640865 &   568.3 &   20779724 &  1109.8 &   20779724 &  1109.8\\\\\n",
       "\tVcells & 1558210100 & 11888.2 & 2590550024 & 19764.4 & 2590549550 & 19764.4\\\\\n",
       "\\end{tabular}\n"
      ],
      "text/markdown": [
       "\n",
       "A matrix: 2 × 6 of type dbl\n",
       "\n",
       "| <!--/--> | used | (Mb) | gc trigger | (Mb) | max used | (Mb) |\n",
       "|---|---|---|---|---|---|---|\n",
       "| Ncells |   10640865 |   568.3 |   20779724 |  1109.8 |   20779724 |  1109.8 |\n",
       "| Vcells | 1558210100 | 11888.2 | 2590550024 | 19764.4 | 2590549550 | 19764.4 |\n",
       "\n"
      ],
      "text/plain": [
       "       used       (Mb)    gc trigger (Mb)    max used   (Mb)   \n",
       "Ncells   10640865   568.3   20779724  1109.8   20779724  1109.8\n",
       "Vcells 1558210100 11888.2 2590550024 19764.4 2590549550 19764.4"
      ]
     },
     "metadata": {},
     "output_type": "display_data"
    },
    {
     "data": {
      "text/html": [
       "0"
      ],
      "text/latex": [
       "0"
      ],
      "text/markdown": [
       "0"
      ],
      "text/plain": [
       "[1] 0"
      ]
     },
     "metadata": {},
     "output_type": "display_data"
    }
   ],
   "source": [
    "treeMC <- mergeTree(trees, se = mapDf)\n",
    "se <- scaleInfReps(seBrainSim)\n",
    "se <- labelKeep(se)\n",
    "totalTxps <- union(treeMC$tip, tree$tip)\n",
    "mb <- mergeLeaves(treeMC, se[totalTxps,])\n",
    "treeMC <- mb[[\"tree\"]]\n",
    "yMeanInf <- mb[[\"ySwish\"]]\n",
    "rm(mb)\n",
    "gc()\n",
    "yMeanInf <- runSwishtree(treeMC, yMeanInf, type = \"union\")\n",
    "sum(rownames(yMeanInf) != treeMC$tip)\n",
    "\n",
    "yAggMeanInf <- prepSwish(treeMC, yMeanInf)\n",
    "\n",
    "yMeanInfNS <- seBrainSim[treeMC$tip,]\n",
    "yMeanInfNS <- computeInfRV(yMeanInfNS, meanVariance=F)\n",
    "mcols(yMeanInf)[[\"meanInfRV\"]] <- mcols(yMeanInfNS)[[\"meanInfRV\"]]\n",
    "\n",
    "yAggMeanInfNS <- prepSwish(treeMC, yMeanInfNS)\n",
    "yAggMeanInfNS <- computeInfRV(yAggMeanInfNS, meanVariance=F)\n",
    "mcols(yAggMeanInf)[[\"meanInfRV\"]] <- mcols(yAggMeanInfNS)[[\"meanInfRV\"]]"
   ]
  },
  {
   "cell_type": "code",
   "execution_count": 40,
   "id": "0435527e",
   "metadata": {},
   "outputs": [],
   "source": [
    "save(treeMC, file=\"environment/brain_sim_nodtu/mode=gc_bias/post_type=gibbs_nrep=100_tf=100/mean_cons/treeMC.RData\")\n",
    "save(yMeanInf, file=\"environment/brain_sim_nodtu/mode=gc_bias/post_type=gibbs_nrep=100_tf=100/mean_cons/yMeanInf.RData\")\n",
    "save(yMeanInfNS, file=\"environment/brain_sim_nodtu/mode=gc_bias/post_type=gibbs_nrep=100_tf=100/mean_cons/yMeanInfNS.RData\")\n",
    "save(yAggMeanInf, file=\"environment/brain_sim_nodtu/mode=gc_bias/post_type=gibbs_nrep=100_tf=100/mean_cons/yAggMeanInf.RData\")\n",
    "save(yAggMeanInfNS, file=\"environment/brain_sim_nodtu/mode=gc_bias/post_type=gibbs_nrep=100_tf=100/mean_cons/yAggMeanInfNS.RData\")"
   ]
  },
  {
   "cell_type": "markdown",
   "id": "a5a56554",
   "metadata": {},
   "source": [
    "### Consensus tree"
   ]
  },
  {
   "cell_type": "code",
   "execution_count": 50,
   "id": "2906475b",
   "metadata": {},
   "outputs": [
    {
     "name": "stdout",
     "output_type": "stream",
     "text": [
      "[1] \"Missing txps 93\"\n"
     ]
    },
    {
     "data": {
      "text/html": [
       "<table class=\"dataframe\">\n",
       "<caption>A matrix: 2 × 6 of type dbl</caption>\n",
       "<thead>\n",
       "\t<tr><th></th><th scope=col>used</th><th scope=col>(Mb)</th><th scope=col>gc trigger</th><th scope=col>(Mb)</th><th scope=col>max used</th><th scope=col>(Mb)</th></tr>\n",
       "</thead>\n",
       "<tbody>\n",
       "\t<tr><th scope=row>Ncells</th><td>  10644444</td><td>  568.5</td><td>  20779724</td><td> 1109.8</td><td>  20779724</td><td> 1109.8</td></tr>\n",
       "\t<tr><th scope=row>Vcells</th><td>2159837503</td><td>16478.3</td><td>3730568033</td><td>28462.0</td><td>3730561657</td><td>28462.0</td></tr>\n",
       "</tbody>\n",
       "</table>\n"
      ],
      "text/latex": [
       "A matrix: 2 × 6 of type dbl\n",
       "\\begin{tabular}{r|llllll}\n",
       "  & used & (Mb) & gc trigger & (Mb) & max used & (Mb)\\\\\n",
       "\\hline\n",
       "\tNcells &   10644444 &   568.5 &   20779724 &  1109.8 &   20779724 &  1109.8\\\\\n",
       "\tVcells & 2159837503 & 16478.3 & 3730568033 & 28462.0 & 3730561657 & 28462.0\\\\\n",
       "\\end{tabular}\n"
      ],
      "text/markdown": [
       "\n",
       "A matrix: 2 × 6 of type dbl\n",
       "\n",
       "| <!--/--> | used | (Mb) | gc trigger | (Mb) | max used | (Mb) |\n",
       "|---|---|---|---|---|---|---|\n",
       "| Ncells |   10644444 |   568.5 |   20779724 |  1109.8 |   20779724 |  1109.8 |\n",
       "| Vcells | 2159837503 | 16478.3 | 3730568033 | 28462.0 | 3730561657 | 28462.0 |\n",
       "\n"
      ],
      "text/plain": [
       "       used       (Mb)    gc trigger (Mb)    max used   (Mb)   \n",
       "Ncells   10644444   568.5   20779724  1109.8   20779724  1109.8\n",
       "Vcells 2159837503 16478.3 3730568033 28462.0 3730561657 28462.0"
      ]
     },
     "metadata": {},
     "output_type": "display_data"
    },
    {
     "data": {
      "text/html": [
       "0"
      ],
      "text/latex": [
       "0"
      ],
      "text/markdown": [
       "0"
      ],
      "text/plain": [
       "[1] 0"
      ]
     },
     "metadata": {},
     "output_type": "display_data"
    }
   ],
   "source": [
    "mb <- mergeLeaves(tree, se[totalTxps,])\n",
    "treeCons <- mb[[\"tree\"]]\n",
    "yCons <- mb[[\"ySwish\"]]\n",
    "rm(mb)\n",
    "gc()\n",
    "sum(treeCons$tip != rownames(yCons))\n",
    "yCons <- runSwishTree(treeCons, yCons, type = \"union\")\n",
    "yAggCons <- prepSwish(treeCons, yCons)\n",
    "\n",
    "yConsNS <- seBrainSim[treeCons$tip,]\n",
    "yConsNS <- computeInfRV(yConsNS, meanVariance=F)\n",
    "mcols(yCons)[[\"meanInfRV\"]] <- mcols(yConsNS)[[\"meanInfRV\"]]\n",
    "\n",
    "yAggConsNS <- prepSwish(treeCons, yConsNS)\n",
    "yAggConsNS <- computeInfRV(yAggConsNS, meanVariance=F)\n",
    "mcols(yAggCons)[[\"meanInfRV\"]] <- mcols(yAggConsNS)[[\"meanInfRV\"]]"
   ]
  },
  {
   "cell_type": "code",
   "execution_count": null,
   "id": "5bcd9899",
   "metadata": {},
   "outputs": [],
   "source": [
    "save(treeCons, file=\"environment/brain_sim_nodtu/mode=gc_bias/post_type=gibbs_nrep=100_tf=100/mean_cons/treeCons.RData\")\n",
    "save(yCons, file=\"environment/brain_sim_nodtu/mode=gc_bias/post_type=gibbs_nrep=100_tf=100/mean_cons/yCons.RData\")\n",
    "save(yConsNS, file=\"environment/brain_sim_nodtu/mode=gc_bias/post_type=gibbs_nrep=100_tf=100/mean_cons/yConsNS.RData\")\n",
    "save(yAggCons, file=\"environment/brain_sim_nodtu/mode=gc_bias/post_type=gibbs_nrep=100_tf=100/mean_cons/yAggCons.RData\")\n",
    "save(yAggConsNS, file=\"environment/brain_sim_nodtu/mode=gc_bias/post_type=gibbs_nrep=100_tf=100/mean_cons/yAggConsNS.RData\")"
   ]
  },
  {
   "cell_type": "markdown",
   "id": "615de8e0",
   "metadata": {},
   "source": [
    "###  Correlation tree"
   ]
  },
  {
   "cell_type": "code",
   "execution_count": 14,
   "id": "e10a252b",
   "metadata": {},
   "outputs": [
    {
     "data": {
      "text/html": [
       "TRUE"
      ],
      "text/latex": [
       "TRUE"
      ],
      "text/markdown": [
       "TRUE"
      ],
      "text/plain": [
       "[1] TRUE"
      ]
     },
     "metadata": {},
     "output_type": "display_data"
    },
    {
     "name": "stdout",
     "output_type": "stream",
     "text": [
      "[1] \"Missing txps 93\"\n"
     ]
    },
    {
     "data": {
      "text/html": [
       "<table class=\"dataframe\">\n",
       "<caption>A matrix: 2 × 6 of type dbl</caption>\n",
       "<thead>\n",
       "\t<tr><th></th><th scope=col>used</th><th scope=col>(Mb)</th><th scope=col>gc trigger</th><th scope=col>(Mb)</th><th scope=col>max used</th><th scope=col>(Mb)</th></tr>\n",
       "</thead>\n",
       "<tbody>\n",
       "\t<tr><th scope=row>Ncells</th><td> 10566497</td><td> 564.4</td><td>  20688381</td><td>1104.9</td><td>  20688381</td><td>1104.9</td></tr>\n",
       "\t<tr><th scope=row>Vcells</th><td>703508666</td><td>5367.4</td><td>1090415710</td><td>8319.3</td><td>1090413035</td><td>8319.2</td></tr>\n",
       "</tbody>\n",
       "</table>\n"
      ],
      "text/latex": [
       "A matrix: 2 × 6 of type dbl\n",
       "\\begin{tabular}{r|llllll}\n",
       "  & used & (Mb) & gc trigger & (Mb) & max used & (Mb)\\\\\n",
       "\\hline\n",
       "\tNcells &  10566497 &  564.4 &   20688381 & 1104.9 &   20688381 & 1104.9\\\\\n",
       "\tVcells & 703508666 & 5367.4 & 1090415710 & 8319.3 & 1090413035 & 8319.2\\\\\n",
       "\\end{tabular}\n"
      ],
      "text/markdown": [
       "\n",
       "A matrix: 2 × 6 of type dbl\n",
       "\n",
       "| <!--/--> | used | (Mb) | gc trigger | (Mb) | max used | (Mb) |\n",
       "|---|---|---|---|---|---|---|\n",
       "| Ncells |  10566497 |  564.4 |   20688381 | 1104.9 |   20688381 | 1104.9 |\n",
       "| Vcells | 703508666 | 5367.4 | 1090415710 | 8319.3 | 1090413035 | 8319.2 |\n",
       "\n"
      ],
      "text/plain": [
       "       used      (Mb)   gc trigger (Mb)   max used   (Mb)  \n",
       "Ncells  10566497  564.4   20688381 1104.9   20688381 1104.9\n",
       "Vcells 703508666 5367.4 1090415710 8319.3 1090413035 8319.2"
      ]
     },
     "metadata": {},
     "output_type": "display_data"
    },
    {
     "data": {
      "text/html": [
       "TRUE"
      ],
      "text/latex": [
       "TRUE"
      ],
      "text/markdown": [
       "TRUE"
      ],
      "text/plain": [
       "[1] TRUE"
      ]
     },
     "metadata": {},
     "output_type": "display_data"
    }
   ],
   "source": [
    "sum(!trMeanCorUPGMA$tip %in% totalTxps)==0\n",
    "mb <- mergeLeaves(trMeanCorUPGMA, se[totalTxps,])\n",
    "treeCor <- mb[[\"tree\"]]\n",
    "yCor <- mb[[\"ySwish\"]]\n",
    "rm(mb)\n",
    "gc()\n",
    "sum(treeCor$tip != rownames(yCor)) == 0\n",
    "yCor <- runSwishTree(treeCor, yCor, type = \"union\")\n",
    "yAggCor <- prepSwish(treeCor, yCor)\n",
    "\n",
    "yCorNS <- seBrainSim[treeCor$tip,]\n",
    "yCorNS <- computeInfRV(yCorNS, meanVariance=F)\n",
    "mcols(yCor)[[\"meanInfRV\"]] <- mcols(yCorNS)[[\"meanInfRV\"]]\n",
    "\n",
    "yAggCorNS <- prepSwish(treeCor, yCorNS)\n",
    "yAggCorNS <- computeInfRV(yConsNS, meanVariance=F)\n",
    "mcols(yAggCor)[[\"meanInfRV\"]] <- mcols(yAggCorNS)[[\"meanInfRV\"]]"
   ]
  },
  {
   "cell_type": "code",
   "execution_count": 23,
   "id": "5a8df413",
   "metadata": {},
   "outputs": [],
   "source": [
    "yAggCorNS <- prepSwish(treeCor, yCorNS)\n",
    "yAggCorNS <- computeInfRV(yAggCorNS, meanVariance=F)\n",
    "mcols(yAggCor)[[\"meanInfRV\"]] <- mcols(yAggCorNS)[[\"meanInfRV\"]]"
   ]
  },
  {
   "cell_type": "code",
   "execution_count": 20,
   "id": "3c135082",
   "metadata": {},
   "outputs": [],
   "source": [
    "yAggCorNS <- computeInfRV(yAggCorNS, meanVariance=F)\n",
    "mcols(yAggCor)[[\"meanInfRV\"]] <- mcols(yAggCorNS)[[\"meanInfRV\"]]"
   ]
  },
  {
   "cell_type": "code",
   "execution_count": 22,
   "id": "5f54252b",
   "metadata": {},
   "outputs": [],
   "source": [
    "save(treeCor, file=\"environment/brain_sim_nodtu/mode=gc_bias/post_type=gibbs_nrep=100_tf=100/mean_cons/treeCor.RData\")\n",
    "save(yCor, file=\"environment/brain_sim_nodtu/mode=gc_bias/post_type=gibbs_nrep=100_tf=100/mean_cons/yCor.RData\")\n",
    "save(yCorNS, file=\"environment/brain_sim_nodtu/mode=gc_bias/post_type=gibbs_nrep=100_tf=100/mean_cons/yCorNS.RData\")\n",
    "save(yAggCor, file=\"environment/brain_sim_nodtu/mode=gc_bias/post_type=gibbs_nrep=100_tf=100/mean_cons/yAggCor.RData\")\n",
    "save(yAggCorNS, file=\"environment/brain_sim_nodtu/mode=gc_bias/post_type=gibbs_nrep=100_tf=100/mean_cons/yAggCorNS.RData\")"
   ]
  },
  {
   "cell_type": "code",
   "execution_count": 56,
   "id": "3cc68e73",
   "metadata": {},
   "outputs": [],
   "source": [
    "depth <- node.depth(treeMC, 2)\n",
    "modDep <- depth\n",
    "modDep[depth > 6]=7\n",
    "dfInf <- data.frame(infRV = mcols(yAggSMeanCons)[[\"meanInfRV\"]], depth = modDep)"
   ]
  },
  {
   "cell_type": "code",
   "execution_count": 63,
   "id": "d7f114ea",
   "metadata": {},
   "outputs": [
    {
     "data": {
      "image/png": "[encoded data removed]",
      "text/plain": [
       "plot without title"
      ]
     },
     "metadata": {
      "image/png": {
       "height": 420,
       "width": 420
      }
     },
     "output_type": "display_data"
    }
   ],
   "source": [
    "dfInf %>% filter(depth!=1) %>% ggplot(aes(x=log2(infRV))) + geom_histogram(bins=50) + facet_wrap(vars(depth))"
   ]
  },
  {
   "cell_type": "code",
   "execution_count": 68,
   "id": "8a6190b8",
   "metadata": {},
   "outputs": [
    {
     "data": {
      "image/png": "[encoded data removed]",
      "text/plain": [
       "plot without title"
      ]
     },
     "metadata": {
      "image/png": {
       "height": 420,
       "width": 420
      }
     },
     "output_type": "display_data"
    }
   ],
   "source": [
    "dfInf %>% filter(depth!=1) %>% ggplot(aes(y=log2(infRV), x=factor(depth))) + geom_violin()"
   ]
  },
  {
   "cell_type": "code",
   "execution_count": 3,
   "id": "f3ea4a4f",
   "metadata": {},
   "outputs": [],
   "source": [
    "load(\"environment/brain_sim_nodtu/mode=gc_bias/mapDf.RData\")"
   ]
  },
  {
   "cell_type": "code",
   "execution_count": 24,
   "id": "67aac3fc",
   "metadata": {},
   "outputs": [
    {
     "name": "stderr",
     "output_type": "stream",
     "text": [
      "Warning message in mclapply(desc[length(treeMC$tip) + 1:treeMC$Nnode], function(txps) unique(mapDf[treeMC$tip[txps], :\n",
      "\"scheduled cores 1, 3 did not deliver results, all values of the jobs will be affected\"\n"
     ]
    }
   ],
   "source": [
    "nNodes <- length(treeMC$tip)+treeMC$Nnode\n",
    "desc <- Descendants(treeMC, seq(nNodes))\n",
    "genesMeanCons <- mclapply(desc[length(treeMC$tip)+1:treeMC$Nnode], function(txps) unique(mapDf[treeMC$tip[txps],1]), mc.cores=4)\n",
    "save(genesMeanCons, file=\"environment/brain_sim_nodtu/mode=gc_bias/post_type=gibbs_nrep=100_tf=100/mean_cons/genesMC.RData\")"
   ]
  },
  {
   "cell_type": "code",
   "execution_count": 8,
   "id": "1db0bfed",
   "metadata": {},
   "outputs": [],
   "source": [
    "nGenes <- rep(0, nNodes)\n",
    "nGenes[1:length(treeMC$tip)] <- 1\n",
    "nGenes[length(treeMC$tip)+1:treeMC$Nnode] <- sapply(genesMeanCons, length)"
   ]
  },
  {
   "cell_type": "code",
   "execution_count": 2,
   "id": "838cd58e",
   "metadata": {},
   "outputs": [],
   "source": [
    "setwd('/fs/cbcb-lab/rob/students/noor/Uncertainity/treeTerminusScripts')\n",
    "suppressPackageStartupMessages(source(\"tree_helper_function.R\"))\n",
    "suppressPackageStartupMessages(library(ggpubr))\n",
    "suppressPackageStartupMessages(library(dplyr))\n"
   ]
  },
  {
   "cell_type": "code",
   "execution_count": 2,
   "id": "769e8e21",
   "metadata": {},
   "outputs": [],
   "source": [
    "genesMeanInf <- mclapply(desc[length(treeMC$tip)+1:treeMC$Nnode], function(txps) unique(mapDf[treeMC$tip[txps],1]), mc.cores=4)"
   ]
  },
  {
   "cell_type": "code",
   "execution_count": 18,
   "id": "5b7c0b38",
   "metadata": {},
   "outputs": [],
   "source": [
    "save(genesMeanInf, file=\"environment/brain_sim_nodtu/mode=gc_bias/post_type=gibbs_nrep=100_tf=100/mean_cons/genesMeanInf.RData\")"
   ]
  }
 ],
 "metadata": {
  "kernelspec": {
   "display_name": "R",
   "language": "R",
   "name": "ir"
  },
  "language_info": {
   "codemirror_mode": "r",
   "file_extension": ".r",
   "mimetype": "text/x-r-source",
   "name": "R",
   "pygments_lexer": "r",
   "version": "4.1.1"
  }
 },
 "nbformat": 4,
 "nbformat_minor": 5
}
