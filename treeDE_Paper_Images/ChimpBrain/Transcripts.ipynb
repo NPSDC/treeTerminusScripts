{
 "cells": [
  {
   "cell_type": "markdown",
   "id": "c7b3dfd9",
   "metadata": {},
   "source": [
    "### Loading Dataset"
   ]
  },
  {
   "cell_type": "code",
   "execution_count": 1,
   "id": "3b7f6825",
   "metadata": {},
   "outputs": [],
   "source": [
    "setwd('/fs/cbcb-lab/rob/students/noor/Uncertainity/treeTerminusScripts')\n",
    "suppressPackageStartupMessages(source(\"tree_helper_function.R\"))\n",
    "suppressPackageStartupMessages(source(\"tree_term_climb.R\"))\n",
    "suppressPackageStartupMessages(library(beaveR))\n",
    "suppressPackageStartupMessages(library(TreeSummarizedExperiment))\n",
    "\n",
    "saveDir <- \"environment/Chimp/DE\"\n",
    "load(file.path(saveDir, \"tseChimp.RData\"))\n",
    "load(file.path(saveDir, \"yAll.RData\"))\n",
    "load(file.path(saveDir, \"y.RData\"))\n",
    "load(file.path(saveDir, \"yg.RData\"))\n",
    "load(file.path(saveDir, \"bSwishConsFDR_OL.RData\"))\n",
    "treeCons <- rowTree(tseChimp)\n",
    "nleaves <- length(treeCons$tip)"
   ]
  },
  {
   "cell_type": "markdown",
   "id": "1d7ba02d",
   "metadata": {},
   "source": [
    "#### Transcript level analysis"
   ]
  },
  {
   "cell_type": "code",
   "execution_count": 4,
   "id": "502afa9b",
   "metadata": {},
   "outputs": [
    {
     "data": {
      "text/html": [
       "25236"
      ],
      "text/latex": [
       "25236"
      ],
      "text/markdown": [
       "25236"
      ],
      "text/plain": [
       "[1] 25236"
      ]
     },
     "metadata": {},
     "output_type": "display_data"
    },
    {
     "data": {
      "text/html": [
       "49951"
      ],
      "text/latex": [
       "49951"
      ],
      "text/markdown": [
       "49951"
      ],
      "text/plain": [
       "[1] 49951"
      ]
     },
     "metadata": {},
     "output_type": "display_data"
    },
    {
     "data": {
      "text/html": [
       "13831"
      ],
      "text/latex": [
       "13831"
      ],
      "text/markdown": [
       "13831"
      ],
      "text/plain": [
       "[1] 13831"
      ]
     },
     "metadata": {},
     "output_type": "display_data"
    },
    {
     "data": {
      "text/html": [
       "13496"
      ],
      "text/latex": [
       "13496"
      ],
      "text/markdown": [
       "13496"
      ],
      "text/plain": [
       "[1] 13496"
      ]
     },
     "metadata": {},
     "output_type": "display_data"
    },
    {
     "data": {
      "text/html": [
       "11886"
      ],
      "text/latex": [
       "11886"
      ],
      "text/markdown": [
       "11886"
      ],
      "text/plain": [
       "[1] 11886"
      ]
     },
     "metadata": {},
     "output_type": "display_data"
    },
    {
     "data": {
      "text/html": [
       "11813"
      ],
      "text/latex": [
       "11813"
      ],
      "text/markdown": [
       "11813"
      ],
      "text/plain": [
       "[1] 11813"
      ]
     },
     "metadata": {},
     "output_type": "display_data"
    }
   ],
   "source": [
    "sum(mcols(y)[[\"keep\"]])\n",
    "sum(mcols(yAll)[[\"keep\"]])\n",
    "sum(mcols(y)[[\"pvalue\"]] < 0.1, na.rm=T)\n",
    "sum(mcols(yAll)[treeCons$tip.label,\"pvalue\"] < 0.1, na.rm=T)\n",
    "\n",
    "sum(mcols(y)[[\"qvalue\"]] < 0.1, na.rm=T)\n",
    "sum(mcols(yAll)[treeCons$tip.label,\"qvalue\"] < 0.1, na.rm=T)"
   ]
  },
  {
   "cell_type": "markdown",
   "id": "dffdf328",
   "metadata": {},
   "source": [
    "##### Differentially Expressed Transcripts"
   ]
  },
  {
   "cell_type": "code",
   "execution_count": 5,
   "id": "73585db6",
   "metadata": {},
   "outputs": [
    {
     "data": {
      "text/html": [
       "<style>\n",
       ".list-inline {list-style: none; margin:0; padding: 0}\n",
       ".list-inline>li {display: inline-block}\n",
       ".list-inline>li:not(:last-child)::after {content: \"\\00b7\"; padding: 0 .5ex}\n",
       "</style>\n",
       "<ol class=list-inline><li>3539</li><li>10133</li><li>11886</li></ol>\n"
      ],
      "text/latex": [
       "\\begin{enumerate*}\n",
       "\\item 3539\n",
       "\\item 10133\n",
       "\\item 11886\n",
       "\\end{enumerate*}\n"
      ],
      "text/markdown": [
       "1. 3539\n",
       "2. 10133\n",
       "3. 11886\n",
       "\n",
       "\n"
      ],
      "text/plain": [
       "[1]  3539 10133 11886"
      ]
     },
     "metadata": {},
     "output_type": "display_data"
    }
   ],
   "source": [
    "sapply(c(0.01,0.05,0.1), function(x) sum(mcols(y)[[\"qvalue\"]] <= x, na.rm=T))\n",
    "dTxps <- lapply(c(0.01,0.05,0.1), function(x) rownames(y)[which(mcols(y)[[\"qvalue\"]] <= x)])"
   ]
  },
  {
   "cell_type": "markdown",
   "id": "6d418fa0",
   "metadata": {},
   "source": [
    "##### Genes Mapping to those transcripts"
   ]
  },
  {
   "cell_type": "code",
   "execution_count": 6,
   "id": "289e48ec",
   "metadata": {},
   "outputs": [
    {
     "data": {
      "text/html": [
       "<style>\n",
       ".list-inline {list-style: none; margin:0; padding: 0}\n",
       ".list-inline>li {display: inline-block}\n",
       ".list-inline>li:not(:last-child)::after {content: \"\\00b7\"; padding: 0 .5ex}\n",
       "</style>\n",
       "<ol class=list-inline><li>3236</li><li>8304</li><li>9492</li></ol>\n"
      ],
      "text/latex": [
       "\\begin{enumerate*}\n",
       "\\item 3236\n",
       "\\item 8304\n",
       "\\item 9492\n",
       "\\end{enumerate*}\n"
      ],
      "text/markdown": [
       "1. 3236\n",
       "2. 8304\n",
       "3. 9492\n",
       "\n",
       "\n"
      ],
      "text/plain": [
       "[1] 3236 8304 9492"
      ]
     },
     "metadata": {},
     "output_type": "display_data"
    }
   ],
   "source": [
    "mapDf <- rowData(tseChimp)\n",
    "txpGenes <- lapply(dTxps, function(txps) unique(unlist(mapDf[txps, \"GENEID\"])))##Genes that map to transcripts\n",
    "sapply(txpGenes, length)"
   ]
  },
  {
   "cell_type": "markdown",
   "id": "0dafc6aa",
   "metadata": {},
   "source": [
    "#### Gene Level"
   ]
  },
  {
   "cell_type": "markdown",
   "id": "f85f136a",
   "metadata": {},
   "source": [
    "##### Differentially expressed genes"
   ]
  },
  {
   "cell_type": "code",
   "execution_count": 7,
   "id": "aaf36c52",
   "metadata": {},
   "outputs": [
    {
     "data": {
      "text/html": [
       "<style>\n",
       ".list-inline {list-style: none; margin:0; padding: 0}\n",
       ".list-inline>li {display: inline-block}\n",
       ".list-inline>li:not(:last-child)::after {content: \"\\00b7\"; padding: 0 .5ex}\n",
       "</style>\n",
       "<ol class=list-inline><li>6090</li><li>8256</li><li>9354</li></ol>\n"
      ],
      "text/latex": [
       "\\begin{enumerate*}\n",
       "\\item 6090\n",
       "\\item 8256\n",
       "\\item 9354\n",
       "\\end{enumerate*}\n"
      ],
      "text/markdown": [
       "1. 6090\n",
       "2. 8256\n",
       "3. 9354\n",
       "\n",
       "\n"
      ],
      "text/plain": [
       "[1] 6090 8256 9354"
      ]
     },
     "metadata": {},
     "output_type": "display_data"
    }
   ],
   "source": [
    "dges <- lapply(c(0.01,0.05,0.1), function(x) rownames(yg)[which(mcols(yg)[[\"qvalue\"]] <= x)])\n",
    "sapply(dges, length)"
   ]
  },
  {
   "cell_type": "markdown",
   "id": "bb734693",
   "metadata": {},
   "source": [
    "### Genes that are considered differentially expressed in gene level analysis but don't contain a single differentially expressed transcript"
   ]
  },
  {
   "cell_type": "code",
   "execution_count": 8,
   "id": "6033fad2",
   "metadata": {},
   "outputs": [
    {
     "data": {
      "text/html": [
       "<style>\n",
       ".list-inline {list-style: none; margin:0; padding: 0}\n",
       ".list-inline>li {display: inline-block}\n",
       ".list-inline>li:not(:last-child)::after {content: \"\\00b7\"; padding: 0 .5ex}\n",
       "</style>\n",
       "<ol class=list-inline><li>2984</li><li>787</li><li>716</li></ol>\n"
      ],
      "text/latex": [
       "\\begin{enumerate*}\n",
       "\\item 2984\n",
       "\\item 787\n",
       "\\item 716\n",
       "\\end{enumerate*}\n"
      ],
      "text/markdown": [
       "1. 2984\n",
       "2. 787\n",
       "3. 716\n",
       "\n",
       "\n"
      ],
      "text/plain": [
       "[1] 2984  787  716"
      ]
     },
     "metadata": {},
     "output_type": "display_data"
    },
    {
     "data": {
      "text/html": [
       "<style>\n",
       ".list-inline {list-style: none; margin:0; padding: 0}\n",
       ".list-inline>li {display: inline-block}\n",
       ".list-inline>li:not(:last-child)::after {content: \"\\00b7\"; padding: 0 .5ex}\n",
       "</style>\n",
       "<ol class=list-inline><li>130</li><li>835</li><li>854</li></ol>\n"
      ],
      "text/latex": [
       "\\begin{enumerate*}\n",
       "\\item 130\n",
       "\\item 835\n",
       "\\item 854\n",
       "\\end{enumerate*}\n"
      ],
      "text/markdown": [
       "1. 130\n",
       "2. 835\n",
       "3. 854\n",
       "\n",
       "\n"
      ],
      "text/plain": [
       "[1] 130 835 854"
      ]
     },
     "metadata": {},
     "output_type": "display_data"
    }
   ],
   "source": [
    "diffGenes <- lapply(seq_along(dges), function(i) setdiff(dges[[i]], txpGenes[[i]])) ## dges that are mapped by genes but not by differential transcripts\n",
    "sapply(diffGenes, length)\n",
    "diffGenes2 <- lapply(seq_along(dges), function(i) setdiff(txpGenes[[i]], dges[[i]])) ## Genes that are mapped to differential transcripts but not mapped by genes\n",
    "sapply(diffGenes2, length)\n",
    "# sum(mcols(y)[unlist(mcols(yg)[diffGenes[[2]],\"tx_ids\"]), \"qvalue\"] < 0.05, na.rm=T)==0 ## None of the diffGenes should contain a differential transcript"
   ]
  },
  {
   "cell_type": "markdown",
   "id": "2a62afd4",
   "metadata": {},
   "source": [
    "#### TreeDE, with the total number of nodes, inner nodes and their height distribution"
   ]
  },
  {
   "cell_type": "code",
   "execution_count": 10,
   "id": "c6645904",
   "metadata": {},
   "outputs": [
    {
     "data": {
      "text/html": [
       "<style>\n",
       ".list-inline {list-style: none; margin:0; padding: 0}\n",
       ".list-inline>li {display: inline-block}\n",
       ".list-inline>li:not(:last-child)::after {content: \"\\00b7\"; padding: 0 .5ex}\n",
       "</style>\n",
       "<ol class=list-inline><li>4001</li><li>10247</li><li>12017</li></ol>\n"
      ],
      "text/latex": [
       "\\begin{enumerate*}\n",
       "\\item 4001\n",
       "\\item 10247\n",
       "\\item 12017\n",
       "\\end{enumerate*}\n"
      ],
      "text/markdown": [
       "1. 4001\n",
       "2. 10247\n",
       "3. 12017\n",
       "\n",
       "\n"
      ],
      "text/plain": [
       "[1]  4001 10247 12017"
      ]
     },
     "metadata": {},
     "output_type": "display_data"
    },
    {
     "data": {
      "text/html": [
       "<style>\n",
       ".list-inline {list-style: none; margin:0; padding: 0}\n",
       ".list-inline>li {display: inline-block}\n",
       ".list-inline>li:not(:last-child)::after {content: \"\\00b7\"; padding: 0 .5ex}\n",
       "</style>\n",
       "<ol class=list-inline><li>1280</li><li>2268</li><li>2745</li></ol>\n"
      ],
      "text/latex": [
       "\\begin{enumerate*}\n",
       "\\item 1280\n",
       "\\item 2268\n",
       "\\item 2745\n",
       "\\end{enumerate*}\n"
      ],
      "text/markdown": [
       "1. 1280\n",
       "2. 2268\n",
       "3. 2745\n",
       "\n",
       "\n"
      ],
      "text/plain": [
       "[1] 1280 2268 2745"
      ]
     },
     "metadata": {},
     "output_type": "display_data"
    },
    {
     "data": {
      "text/plain": [
       "[[1]]\n",
       "\n",
       "   1    2    3    4    5    6    7    8    9   10 \n",
       "2721  705  342  126   70   18   10    5    3    1 \n",
       "\n",
       "[[2]]\n",
       "\n",
       "   1    2    3    4    5    6    7    8    9 \n",
       "7979 1387  554  196   73   33   15    6    4 \n",
       "\n",
       "[[3]]\n",
       "\n",
       "   1    2    3    4    5    6    7    8    9 \n",
       "9272 1731  643  229   78   36   18    6    4 \n"
      ]
     },
     "metadata": {},
     "output_type": "display_data"
    }
   ],
   "source": [
    "load(file.path(saveDir, \"treeDEFDR_OL.RData\"))\n",
    "treeDE <- treeDEFDR_OL[[\"mIRV=0.4\"]] ## renaming the treeDE variable\n",
    "sapply(treeDE, length) ## number of differentially expressed nodes\n",
    "sapply(treeDE, function(nodes) sum(nodes > nleaves)) ## number of inner nodes\n",
    "lapply(treeDE, function(nodes) table(node.depth(treeCons,2)[nodes])) ## Distribution of node heights"
   ]
  },
  {
   "cell_type": "markdown",
   "id": "34c59525",
   "metadata": {},
   "source": [
    "##### Genes mapping to the treeDE nodes and their number"
   ]
  },
  {
   "cell_type": "code",
   "execution_count": 15,
   "id": "e34b615d",
   "metadata": {},
   "outputs": [
    {
     "data": {
      "text/html": [
       "<style>\n",
       ".list-inline {list-style: none; margin:0; padding: 0}\n",
       ".list-inline>li {display: inline-block}\n",
       ".list-inline>li:not(:last-child)::after {content: \"\\00b7\"; padding: 0 .5ex}\n",
       "</style>\n",
       "<ol class=list-inline><li>3714</li><li>8661</li><li>9904</li></ol>\n"
      ],
      "text/latex": [
       "\\begin{enumerate*}\n",
       "\\item 3714\n",
       "\\item 8661\n",
       "\\item 9904\n",
       "\\end{enumerate*}\n"
      ],
      "text/markdown": [
       "1. 3714\n",
       "2. 8661\n",
       "3. 9904\n",
       "\n",
       "\n"
      ],
      "text/plain": [
       "[1] 3714 8661 9904"
      ]
     },
     "metadata": {},
     "output_type": "display_data"
    },
    {
     "data": {
      "text/plain": [
       "[[1]]\n",
       "\n",
       "   1    2 \n",
       "3943   58 \n",
       "\n",
       "[[2]]\n",
       "\n",
       "    1     2     3 \n",
       "10106   140     1 \n",
       "\n",
       "[[3]]\n",
       "\n",
       "    1     2     3 \n",
       "11842   174     1 \n"
      ]
     },
     "metadata": {},
     "output_type": "display_data"
    }
   ],
   "source": [
    "genesTreeDE <- lapply(treeDE, function(nodes) {\n",
    "    lapply(Descendants(treeCons,nodes), function(desc) unique(unlist(mapDf[treeCons$tip[desc],\"GENEID\"])))})\n",
    "sapply(genesTreeDE, function(genes) length(unique(unlist(genes)))) ## Number of genes mapping to treeDE nodes\n",
    "sapply(genesTreeDE, function(nodes) table(sapply(nodes,length))) ## Distribution of number of genes and nodes"
   ]
  },
  {
   "cell_type": "markdown",
   "id": "354d02e1",
   "metadata": {},
   "source": [
    "#### Terminus"
   ]
  },
  {
   "cell_type": "code",
   "execution_count": 11,
   "id": "5235ae4a",
   "metadata": {},
   "outputs": [],
   "source": [
    "termFile <- \"/fs/cbcb-lab/rob/students/noor/Uncertainity/ChimpData/term_out/mode_gcbias=True/posttype=gibbs_npost=100_tf=100/old/PTB162LA1C/clusters.txt\"\n",
    "suppressPackageStartupMessages(source(\"old_terminus_helper.R\"))\n",
    "yTermThrNS <- tseChimp[1:nleaves,]\n",
    "groupsClust <- parseClustFile(termFile, yTermThrNS)\n",
    "mInds <- seq(nrow(yTermThrNS) + length(groupsClust))\n",
    "yAggTermThrNS <- prepOSwish(yTermThrNS, mInds, groupsClust)\n",
    "yTerm <- yAggTermThrNS[-unlist(groupsClust),]\n",
    "yTerm <- fishpond::scaleInfReps(yTerm)\n",
    "yTerm <- labelKeep(yTerm)\n",
    "set.seed(10)\n",
    "yTerm <- swish(yTerm, x=\"tissue\")"
   ]
  },
  {
   "cell_type": "code",
   "execution_count": 16,
   "id": "6473863d",
   "metadata": {},
   "outputs": [],
   "source": [
    "detNodes <- list()\n",
    "detNodes[[\"Txps\"]] <- lapply(c(0.01, 0.05, 0.1), function(x) which(mcols(y)[,\"qvalue\"] <= x ))\n",
    "detNodes[[\"treeDEFDR_OL\"]] <- lapply(treeDEFDR_OL[[\"mIRV=0.4\"]], function(ta) ta)\n",
    "detNodes[[\"treeClimbR\"]] <- lapply(bSwish, function(sw) sw$output[sw$output$signal.node,][[\"node\"]])\n",
    "detNodes[[\"treeClimbRO\"]] <- lapply(bSwish, function(sw) unlist(Descendants(treeCons,sw$output[sw$output$signal.node,][[\"node\"]])))\n",
    "detNodes[[\"term\"]] <- lapply(c(0.01, 0.05, 0.1), function(x) {\n",
    "        nodes <- rownames(yTerm)[which(mcols(yTerm)[,\"qvalue\"] <= x)]\n",
    "        match(nodes, names(yAggTermThrNS))\n",
    "    })\n",
    "detNodes[[\"genes\"]] <- dges\n",
    "save(detNodes, file=\"treeDE_Paper_Images/ChimpBrain/detNodes.RData\")"
   ]
  },
  {
   "cell_type": "code",
   "execution_count": 17,
   "id": "6d3d71dd",
   "metadata": {},
   "outputs": [],
   "source": [
    "treeDETxps <- rownames(tseChimp)[unlist(Descendants(treeCons, detNodes[[\"treeDEFDR_OL\"]][[3]]))]\n",
    "treeClimbTxps <- rownames(tseChimp)[unlist(Descendants(treeCons, detNodes[[\"treeClimbR\"]][[3]]))]\n",
    "\n",
    "dN <- detNodes[[\"term\"]][[3]]\n",
    "\n",
    "termTxps <- c(rownames(yAggTermThrNS)[dN][startsWith(rownames(yAggTermThrNS)[dN], \"ENS\")],\n",
    "  rownames(yAggTermThrNS)[as.numeric(unlist(groupsClust[rownames(yAggTermThrNS)[dN][!startsWith(rownames(yAggTermThrNS)[dN], \"ENS\")]]))])"
   ]
  },
  {
   "cell_type": "code",
   "execution_count": 20,
   "id": "96074bf9",
   "metadata": {},
   "outputs": [
    {
     "data": {
      "text/html": [
       "9519"
      ],
      "text/latex": [
       "9519"
      ],
      "text/markdown": [
       "9519"
      ],
      "text/plain": [
       "[1] 9519"
      ]
     },
     "metadata": {},
     "output_type": "display_data"
    }
   ],
   "source": [
    "length(termTxps)"
   ]
  },
  {
   "cell_type": "code",
   "execution_count": 18,
   "id": "a4d6eb46",
   "metadata": {},
   "outputs": [
    {
     "data": {
      "image/png": "[encoded data removed]",
      "text/plain": [
       "plot without title"
      ]
     },
     "metadata": {
      "image/png": {
       "height": 600,
       "width": 1200
      }
     },
     "output_type": "display_data"
    }
   ],
   "source": [
    "options(repr.plot.width=20, repr.plot.height=10)\n",
    "suppressPackageStartupMessages(library(UpSetR))\n",
    "txpMethods = list(txps = dTxps[[3]], \n",
    "                 treeDE = treeDETxps, \n",
    "                 treeClimbR = treeClimbTxps, \n",
    "                 term = termTxps)\n",
    "upsetData <- fromList(txpMethods)\n",
    "size <- 2\n",
    "upset(upsetData, order.by = \"freq\",\n",
    "     main.bar.color = \"#377eb8\", \n",
    "     matrix.color = \"#e41a1c\",\n",
    "     sets.bar.color = c(\"#ff7f00\"),\n",
    "     sets.x.label = \"Transcripts covered by the different methods\",\n",
    "     shade.alpha = 0.7, \n",
    "     text.scale = c(size, size, 1.8, 1.8, size, size)\n",
    ")"
   ]
  },
  {
   "cell_type": "markdown",
   "id": "31648cb4",
   "metadata": {},
   "source": [
    "#### Genes that map only to treeDE but are neither DE or covered by differential transcripts"
   ]
  },
  {
   "cell_type": "code",
   "execution_count": 17,
   "id": "5ca143b9",
   "metadata": {},
   "outputs": [
    {
     "data": {
      "text/html": [
       "<style>\n",
       ".list-inline {list-style: none; margin:0; padding: 0}\n",
       ".list-inline>li {display: inline-block}\n",
       ".list-inline>li:not(:last-child)::after {content: \"\\00b7\"; padding: 0 .5ex}\n",
       "</style>\n",
       "<ol class=list-inline><li>485</li><li>318</li><li>365</li></ol>\n"
      ],
      "text/latex": [
       "\\begin{enumerate*}\n",
       "\\item 485\n",
       "\\item 318\n",
       "\\item 365\n",
       "\\end{enumerate*}\n"
      ],
      "text/markdown": [
       "1. 485\n",
       "2. 318\n",
       "3. 365\n",
       "\n",
       "\n"
      ],
      "text/plain": [
       "[1] 485 318 365"
      ]
     },
     "metadata": {},
     "output_type": "display_data"
    },
    {
     "data": {
      "text/html": [
       "<style>\n",
       ".list-inline {list-style: none; margin:0; padding: 0}\n",
       ".list-inline>li {display: inline-block}\n",
       ".list-inline>li:not(:last-child)::after {content: \"\\00b7\"; padding: 0 .5ex}\n",
       "</style>\n",
       "<ol class=list-inline><li>31</li><li>59</li><li>76</li></ol>\n"
      ],
      "text/latex": [
       "\\begin{enumerate*}\n",
       "\\item 31\n",
       "\\item 59\n",
       "\\item 76\n",
       "\\end{enumerate*}\n"
      ],
      "text/markdown": [
       "1. 31\n",
       "2. 59\n",
       "3. 76\n",
       "\n",
       "\n"
      ],
      "text/plain": [
       "[1] 31 59 76"
      ]
     },
     "metadata": {},
     "output_type": "display_data"
    }
   ],
   "source": [
    "### Nodes that dont cotain a DET\n",
    "ll <- lapply(seq_along(treeDE), function(i) {\n",
    "    desc <- Descendants(treeCons, treeDE[[i]])\n",
    "    which(sapply(desc, function(txps) sum(txps %in% detNodes[[\"Txps\"]][[i]]) == 0))\n",
    "})\n",
    "\n",
    "### Nodes that dont contain a single DE gene\n",
    "sapply(ll, length)\n",
    "nodesNotDE <- lapply(seq_along(ll), function(i) {\n",
    "    genesL <- genesTreeDE[[i]][ll[[i]]]\n",
    "    ll[[i]][sapply(genesL, function(genes) sum(genes %in% dges[[i]]) == 0)]\n",
    "})\n",
    "sapply(nodesNotDE, length)"
   ]
  },
  {
   "cell_type": "markdown",
   "id": "bf1b1316",
   "metadata": {},
   "source": [
    "Such inner nodes can be possible DTUs. We thus extract the treeDE nodes to which these genes map to and try to see if there are multiple such tree DE nodes that map to same gene.Looking at the 0.05 threshold change, we find only 0 gene for which a dtu on the inner nodes is observed.\n",
    "\n",
    "For the remaining that have map to inner node, infRV decreases compared to their children though the logFC is lower compared to children. logFC though definitely decreases at gene."
   ]
  },
  {
   "cell_type": "code",
   "execution_count": 31,
   "id": "6bfe25cd",
   "metadata": {},
   "outputs": [
    {
     "data": {
      "text/html": [
       "38"
      ],
      "text/latex": [
       "38"
      ],
      "text/markdown": [
       "38"
      ],
      "text/plain": [
       "[1] 38"
      ]
     },
     "metadata": {},
     "output_type": "display_data"
    },
    {
     "data": {
      "text/html": [
       "2"
      ],
      "text/latex": [
       "2"
      ],
      "text/markdown": [
       "2"
      ],
      "text/plain": [
       "[1] 2"
      ]
     },
     "metadata": {},
     "output_type": "display_data"
    },
    {
     "data": {
      "text/html": [
       "36"
      ],
      "text/latex": [
       "36"
      ],
      "text/markdown": [
       "36"
      ],
      "text/plain": [
       "[1] 36"
      ]
     },
     "metadata": {},
     "output_type": "display_data"
    }
   ],
   "source": [
    "qval <- 0.01\n",
    "i <- 1\n",
    "gg <- unlist(genesTreeDE[[i]][nodesNotDE[[i]]])\n",
    "gN <- gg[which(mcols(yg)[gg,\"qvalue\"] > qval)]\n",
    "length(gN) ## genes belonging to the unique treeDE nodes that have qvalue > 0.15 when doing gene level DE analysis\n",
    "\n",
    "# extracting genes unique to treeDE and have logFC > 0.2 or have atleast two sig nodes\n",
    "twoNodes <- list() \n",
    "lfcNodes <- c()\n",
    "j <- 1\n",
    "for(g in gN) {\n",
    "    iid <- which(sapply(genesTreeDE[[i]], function(genes) sum(g %in%  genes) > 0))\n",
    "    if(length(iid) > 1) {\n",
    "        twoNodes[[j]] <- iid\n",
    "        j <- j + 1\n",
    "    }\n",
    "    else if(length(which(abs(mcols(yAll)[treeDE[[i]][iid],\"log2FC\"]) > 0.2)) > 0) {\n",
    "        lfcNodes <- c(lfcNodes, iid)\n",
    "    }\n",
    "}\n",
    "length(twoNodes)\n",
    "length(lfcNodes)"
   ]
  },
  {
   "cell_type": "code",
   "execution_count": 48,
   "id": "f109527f",
   "metadata": {},
   "outputs": [
    {
     "data": {
      "text/plain": [
       "DataFrame with 1 row and 14 columns\n",
       "                              gene_id   gene_name  entrezid   gene_biotype\n",
       "                          <character> <character> <integer>    <character>\n",
       "ENSPTRG00000049937 ENSPTRG00000049937      GABBR1        NA protein_coding\n",
       "                   seq_coord_system      symbol\n",
       "                          <integer> <character>\n",
       "ENSPTRG00000049937               NA      GABBR1\n",
       "                                                                         tx_ids\n",
       "                                                                <CharacterList>\n",
       "ENSPTRG00000049937 ENSPTRT00000091363,ENSPTRT00000095505,ENSPTRT00000100639,...\n",
       "                   log10mean      keep      stat    log2FC     pvalue    locfdr\n",
       "                   <numeric> <logical> <numeric> <numeric>  <numeric> <numeric>\n",
       "ENSPTRG00000049937   4.17833      TRUE     11.41  0.392785 0.00495595 0.0688578\n",
       "                      qvalue\n",
       "                   <numeric>\n",
       "ENSPTRG00000049937 0.0123066"
      ]
     },
     "metadata": {},
     "output_type": "display_data"
    },
    {
     "data": {
      "text/plain": [
       "DataFrame with 2 rows and 10 columns\n",
       "                                 TXNAME             GENEID log10mean      keep\n",
       "                            <character>        <character> <numeric> <logical>\n",
       "Node55814                     Node55814                  2   3.47261      TRUE\n",
       "ENSPTRT00000100639.1 ENSPTRT00000100639 ENSPTRG00000049937   4.05322      TRUE\n",
       "                          stat    log2FC      pvalue      locfdr      qvalue\n",
       "                     <numeric> <numeric>   <numeric>   <numeric>   <numeric>\n",
       "Node55814                -12.5 -1.368861 2.00196e-07 4.33513e-06 1.09745e-06\n",
       "ENSPTRT00000100639.1      12.5  0.836188 2.00196e-07 4.33513e-06 1.09745e-06\n",
       "                     meanInfRV\n",
       "                     <numeric>\n",
       "Node55814             23.23067\n",
       "ENSPTRT00000100639.1   8.34426"
      ]
     },
     "metadata": {},
     "output_type": "display_data"
    },
    {
     "data": {
      "text/plain": [
       "DataFrame with 1 row and 14 columns\n",
       "                              gene_id   gene_name  entrezid   gene_biotype\n",
       "                          <character> <character> <integer>    <character>\n",
       "ENSPTRG00000012914 ENSPTRG00000012914        PNKD        NA protein_coding\n",
       "                   seq_coord_system      symbol\n",
       "                          <integer> <character>\n",
       "ENSPTRG00000012914               NA        PNKD\n",
       "                                                                         tx_ids\n",
       "                                                                <CharacterList>\n",
       "ENSPTRG00000012914 ENSPTRT00000023940,ENSPTRT00000078659,ENSPTRT00000087802,...\n",
       "                   log10mean      keep      stat    log2FC    pvalue    locfdr\n",
       "                   <numeric> <logical> <numeric> <numeric> <numeric> <numeric>\n",
       "ENSPTRG00000012914    3.2519      TRUE    -10.66 -0.515557 0.0100797  0.132595\n",
       "                      qvalue\n",
       "                   <numeric>\n",
       "ENSPTRG00000012914 0.0220411"
      ]
     },
     "metadata": {},
     "output_type": "display_data"
    },
    {
     "data": {
      "text/plain": [
       "DataFrame with 2 rows and 10 columns\n",
       "                                 TXNAME             GENEID log10mean      keep\n",
       "                            <character>        <character> <numeric> <logical>\n",
       "Node51244                     Node51244                  2   3.01807      TRUE\n",
       "ENSPTRT00000078659.1 ENSPTRT00000078659 ENSPTRG00000012914   2.79964      TRUE\n",
       "                          stat    log2FC      pvalue      locfdr      qvalue\n",
       "                     <numeric> <numeric>   <numeric>   <numeric>   <numeric>\n",
       "Node51244                 12.5  0.638385 2.00196e-07 4.33513e-06 1.09745e-06\n",
       "ENSPTRT00000078659.1     -12.5 -0.911412 2.00196e-07 4.33513e-06 1.09745e-06\n",
       "                     meanInfRV\n",
       "                     <numeric>\n",
       "Node51244            0.0635942\n",
       "ENSPTRT00000078659.1 0.1494380"
      ]
     },
     "metadata": {},
     "output_type": "display_data"
    }
   ],
   "source": [
    "mcols(yg)[unlist(mapDf[treeCons$tip[treeDE[[i]][twoNodes[[2]]][2]],\"GENEID\"]),]\n",
    "mcols(yAll)[treeDE[[i]][twoNodes[[2]]],]\n",
    "mcols(yg)[unlist(mapDf[treeCons$tip[treeDE[[i]][twoNodes[[1]]][2]],\"GENEID\"]),]\n",
    "mcols(yAll)[treeDE[[i]][twoNodes[[1]]],]"
   ]
  },
  {
   "cell_type": "markdown",
   "id": "507ca5b4",
   "metadata": {},
   "source": [
    "#### Genes belonging to treeDE nodes that intersect with differentially expressed genes but are not covered by transcripts.'\n",
    "We see many such genes that contain differential nodes but no differentially expressed transcripts. The magnitude of logFC in most cases though decreases from trancript to gene."
   ]
  },
  {
   "cell_type": "code",
   "execution_count": 50,
   "id": "3fef563e",
   "metadata": {},
   "outputs": [
    {
     "data": {
      "text/html": [
       "<style>\n",
       ".list-inline {list-style: none; margin:0; padding: 0}\n",
       ".list-inline>li {display: inline-block}\n",
       ".list-inline>li:not(:last-child)::after {content: \"\\00b7\"; padding: 0 .5ex}\n",
       "</style>\n",
       "<ol class=list-inline><li>407</li><li>194</li><li>213</li></ol>\n"
      ],
      "text/latex": [
       "\\begin{enumerate*}\n",
       "\\item 407\n",
       "\\item 194\n",
       "\\item 213\n",
       "\\end{enumerate*}\n"
      ],
      "text/markdown": [
       "1. 407\n",
       "2. 194\n",
       "3. 213\n",
       "\n",
       "\n"
      ],
      "text/plain": [
       "[1] 407 194 213"
      ]
     },
     "metadata": {},
     "output_type": "display_data"
    }
   ],
   "source": [
    "treeDECommonInds <- lapply(seq_along(genesTreeDE), function(i) {\n",
    "    which(sapply(genesTreeDE[[i]], function(gs) sum(gs %in% diffGenes[[i]]) > 0))\n",
    "})\n",
    "sapply(treeDECommonInds,length)\n",
    "save(treeDECommonInds, file=\"treeDE_Paper_Images/ChimpBrain/treeDECommonInds.RData\")"
   ]
  },
  {
   "cell_type": "markdown",
   "id": "50d1b15f",
   "metadata": {},
   "source": [
    "https://useast.ensembl.org/Pan_troglodytes/Gene/Summary?db=core;g=ENSPTRG00000017182;r=5:123343707-123449338 (missing exons)\n",
    "https://useast.ensembl.org/Pan_troglodytes/Gene/Summary?db=core;g=ENSPTRG00000008167;r=16:48444105-48488981 (different exons)\n",
    "https://useast.ensembl.org/Pan_troglodytes/Gene/Summary?db=core;g=ENSPTRG00000011776;r=2A:28200362-28222512 (skipped exons)\n",
    "https://useast.ensembl.org/Pan_troglodytes/Gene/Summary?db=core;g=ENSPTRG00000008182;r=16:49204939-49210491\n",
    "(Different exons)\n",
    "https://useast.ensembl.org/Pan_troglodytes/Gene/Summary?db=core;g=ENSPTRG00000008182;r=16:49204939-49210491\n",
    "(Skipped exons)"
   ]
  },
  {
   "cell_type": "code",
   "execution_count": null,
   "id": "0ac5f540",
   "metadata": {},
   "outputs": [],
   "source": []
  },
  {
   "cell_type": "code",
   "execution_count": 197,
   "id": "3b252c7e",
   "metadata": {},
   "outputs": [
    {
     "data": {
      "text/html": [
       "<style>\n",
       ".list-inline {list-style: none; margin:0; padding: 0}\n",
       ".list-inline>li {display: inline-block}\n",
       ".list-inline>li:not(:last-child)::after {content: \"\\00b7\"; padding: 0 .5ex}\n",
       "</style>\n",
       "<ol class=list-inline><li>'ENSPTRT00000059341'</li><li>'ENSPTRT00000081251'</li><li>'ENSPTRT00000080057'</li><li>'ENSPTRT00000101507'</li></ol>\n"
      ],
      "text/latex": [
       "\\begin{enumerate*}\n",
       "\\item 'ENSPTRT00000059341'\n",
       "\\item 'ENSPTRT00000081251'\n",
       "\\item 'ENSPTRT00000080057'\n",
       "\\item 'ENSPTRT00000101507'\n",
       "\\end{enumerate*}\n"
      ],
      "text/markdown": [
       "1. 'ENSPTRT00000059341'\n",
       "2. 'ENSPTRT00000081251'\n",
       "3. 'ENSPTRT00000080057'\n",
       "4. 'ENSPTRT00000101507'\n",
       "\n",
       "\n"
      ],
      "text/plain": [
       "[1] \"ENSPTRT00000059341\" \"ENSPTRT00000081251\" \"ENSPTRT00000080057\"\n",
       "[4] \"ENSPTRT00000101507\""
      ]
     },
     "metadata": {},
     "output_type": "display_data"
    },
    {
     "data": {
      "text/html": [
       "TRUE"
      ],
      "text/latex": [
       "TRUE"
      ],
      "text/markdown": [
       "TRUE"
      ],
      "text/plain": [
       "[1] TRUE"
      ]
     },
     "metadata": {},
     "output_type": "display_data"
    },
    {
     "data": {
      "text/html": [
       "TRUE"
      ],
      "text/latex": [
       "TRUE"
      ],
      "text/markdown": [
       "TRUE"
      ],
      "text/plain": [
       "[1] TRUE"
      ]
     },
     "metadata": {},
     "output_type": "display_data"
    },
    {
     "data": {
      "text/html": [
       "TRUE"
      ],
      "text/latex": [
       "TRUE"
      ],
      "text/markdown": [
       "TRUE"
      ],
      "text/plain": [
       "[1] TRUE"
      ]
     },
     "metadata": {},
     "output_type": "display_data"
    },
    {
     "data": {
      "text/html": [
       "TRUE"
      ],
      "text/latex": [
       "TRUE"
      ],
      "text/markdown": [
       "TRUE"
      ],
      "text/plain": [
       "[1] TRUE"
      ]
     },
     "metadata": {},
     "output_type": "display_data"
    },
    {
     "data": {
      "text/html": [
       "'ENSPTRG00000013164'"
      ],
      "text/latex": [
       "'ENSPTRG00000013164'"
      ],
      "text/markdown": [
       "'ENSPTRG00000013164'"
      ],
      "text/plain": [
       "[1] \"ENSPTRG00000013164\""
      ]
     },
     "metadata": {},
     "output_type": "display_data"
    },
    {
     "data": {
      "text/html": [
       "<table class=\"dataframe\">\n",
       "<caption>A tibble: 1 × 6</caption>\n",
       "<thead>\n",
       "\t<tr><th scope=col>seqnames</th><th scope=col>start</th><th scope=col>end</th><th scope=col>width</th><th scope=col>strand</th><th scope=col>gene_id</th></tr>\n",
       "\t<tr><th scope=col>&lt;fct&gt;</th><th scope=col>&lt;int&gt;</th><th scope=col>&lt;int&gt;</th><th scope=col>&lt;int&gt;</th><th scope=col>&lt;fct&gt;</th><th scope=col>&lt;chr&gt;</th></tr>\n",
       "</thead>\n",
       "<tbody>\n",
       "\t<tr><td>20</td><td>1343414</td><td>1369108</td><td>25695</td><td>-</td><td>ENSPTRG00000013164</td></tr>\n",
       "</tbody>\n",
       "</table>\n"
      ],
      "text/latex": [
       "A tibble: 1 × 6\n",
       "\\begin{tabular}{llllll}\n",
       " seqnames & start & end & width & strand & gene\\_id\\\\\n",
       " <fct> & <int> & <int> & <int> & <fct> & <chr>\\\\\n",
       "\\hline\n",
       "\t 20 & 1343414 & 1369108 & 25695 & - & ENSPTRG00000013164\\\\\n",
       "\\end{tabular}\n"
      ],
      "text/markdown": [
       "\n",
       "A tibble: 1 × 6\n",
       "\n",
       "| seqnames &lt;fct&gt; | start &lt;int&gt; | end &lt;int&gt; | width &lt;int&gt; | strand &lt;fct&gt; | gene_id &lt;chr&gt; |\n",
       "|---|---|---|---|---|---|\n",
       "| 20 | 1343414 | 1369108 | 25695 | - | ENSPTRG00000013164 |\n",
       "\n"
      ],
      "text/plain": [
       "  seqnames start   end     width strand gene_id           \n",
       "1 20       1343414 1369108 25695 -      ENSPTRG00000013164"
      ]
     },
     "metadata": {},
     "output_type": "display_data"
    },
    {
     "data": {
      "text/html": [
       "<style>\n",
       ".dl-inline {width: auto; margin:0; padding: 0}\n",
       ".dl-inline>dt, .dl-inline>dd {float: none; width: auto; display: inline-block}\n",
       ".dl-inline>dt::after {content: \":\\0020\"; padding-right: .5ex}\n",
       ".dl-inline>dt:not(:first-of-type) {padding-left: .5ex}\n",
       "</style><dl class=dl-inline><dt>ENSPTRG00000013164</dt><dd>'ENSPTRT00000059341'</dd><dt>ENSPTRG00000013164</dt><dd>'ENSPTRT00000079289'</dd><dt>ENSPTRG00000013164</dt><dd>'ENSPTRT00000080057'</dd><dt>ENSPTRG00000013164</dt><dd>'ENSPTRT00000081251'</dd><dt>ENSPTRG00000013164</dt><dd>'ENSPTRT00000091581'</dd><dt>ENSPTRG00000013164</dt><dd>'ENSPTRT00000101507'</dd></dl>\n"
      ],
      "text/latex": [
       "\\begin{description*}\n",
       "\\item[ENSPTRG00000013164] 'ENSPTRT00000059341'\n",
       "\\item[ENSPTRG00000013164] 'ENSPTRT00000079289'\n",
       "\\item[ENSPTRG00000013164] 'ENSPTRT00000080057'\n",
       "\\item[ENSPTRG00000013164] 'ENSPTRT00000081251'\n",
       "\\item[ENSPTRG00000013164] 'ENSPTRT00000091581'\n",
       "\\item[ENSPTRG00000013164] 'ENSPTRT00000101507'\n",
       "\\end{description*}\n"
      ],
      "text/markdown": [
       "ENSPTRG00000013164\n",
       ":   'ENSPTRT00000059341'ENSPTRG00000013164\n",
       ":   'ENSPTRT00000079289'ENSPTRG00000013164\n",
       ":   'ENSPTRT00000080057'ENSPTRG00000013164\n",
       ":   'ENSPTRT00000081251'ENSPTRG00000013164\n",
       ":   'ENSPTRT00000091581'ENSPTRG00000013164\n",
       ":   'ENSPTRT00000101507'\n",
       "\n"
      ],
      "text/plain": [
       "  ENSPTRG00000013164   ENSPTRG00000013164   ENSPTRG00000013164 \n",
       "\"ENSPTRT00000059341\" \"ENSPTRT00000079289\" \"ENSPTRT00000080057\" \n",
       "  ENSPTRG00000013164   ENSPTRG00000013164   ENSPTRG00000013164 \n",
       "\"ENSPTRT00000081251\" \"ENSPTRT00000091581\" \"ENSPTRT00000101507\" "
      ]
     },
     "metadata": {},
     "output_type": "display_data"
    },
    {
     "data": {
      "text/html": [
       "5"
      ],
      "text/latex": [
       "5"
      ],
      "text/markdown": [
       "5"
      ],
      "text/plain": [
       "[1] 5"
      ]
     },
     "metadata": {},
     "output_type": "display_data"
    },
    {
     "data": {
      "text/html": [
       "TRUE"
      ],
      "text/latex": [
       "TRUE"
      ],
      "text/markdown": [
       "TRUE"
      ],
      "text/plain": [
       "[1] TRUE"
      ]
     },
     "metadata": {},
     "output_type": "display_data"
    },
    {
     "data": {
      "text/plain": [
       "DataFrame with 6 rows and 10 columns\n",
       "                               TXNAME             GENEID log10mean      keep\n",
       "                          <character>        <character> <numeric> <logical>\n",
       "ENSPTRT00000059341 ENSPTRT00000059341 ENSPTRG00000013164  3.034188      TRUE\n",
       "ENSPTRT00000079289 ENSPTRT00000079289 ENSPTRG00000013164  0.546729     FALSE\n",
       "ENSPTRT00000080057 ENSPTRT00000080057 ENSPTRG00000013164  1.214385     FALSE\n",
       "ENSPTRT00000081251 ENSPTRT00000081251 ENSPTRG00000013164  0.890355     FALSE\n",
       "ENSPTRT00000091581 ENSPTRT00000091581 ENSPTRG00000013164  0.880421     FALSE\n",
       "ENSPTRT00000101507 ENSPTRT00000101507 ENSPTRG00000013164  2.691943      TRUE\n",
       "                        stat    log2FC    pvalue    locfdr    qvalue meanInfRV\n",
       "                   <numeric> <numeric> <numeric> <numeric> <numeric> <numeric>\n",
       "ENSPTRT00000059341       1.6 0.0257536 0.7087736  1.000000  0.796873  0.451108\n",
       "ENSPTRT00000079289        NA        NA        NA        NA        NA  0.308557\n",
       "ENSPTRT00000080057        NA        NA        NA        NA        NA  8.922880\n",
       "ENSPTRT00000081251        NA        NA        NA        NA        NA  3.004169\n",
       "ENSPTRT00000091581        NA        NA        NA        NA        NA  1.557834\n",
       "ENSPTRT00000101507       8.3 0.2033599 0.0481637  0.518074  0.101738  1.221954"
      ]
     },
     "metadata": {},
     "output_type": "display_data"
    },
    {
     "data": {
      "text/plain": [
       "DataFrame with 1 row and 10 columns\n",
       "               TXNAME      GENEID log10mean      keep      stat    log2FC\n",
       "          <character> <character> <numeric> <logical> <numeric> <numeric>\n",
       "Node50491   Node50491           4   3.20306      TRUE      9.78  0.126111\n",
       "             pvalue    locfdr    qvalue meanInfRV\n",
       "          <numeric> <numeric> <numeric> <numeric>\n",
       "Node50491 0.0203353  0.264801 0.0447456  0.070077"
      ]
     },
     "metadata": {},
     "output_type": "display_data"
    }
   ],
   "source": [
    "j <- 56\n",
    "i <- 3\n",
    "iNode <- treeDE[[i]][treeDECommonInds[[i]][[j]]]\n",
    "tx_to_show <- gsub(\"\\\\.+\\\\d+\",\"\",rownames(tseChimp)[Descendants(treeCons,iNode)[[1]]])\n",
    "tx_to_show\n",
    "\n",
    "anc <- Ancestors(treeCons, iNode)\n",
    "anc <- ifelse(length(anc)==1, iNode, anc[length(anc)-1])\n",
    "treeSub <- treeio::tree_subset(treeCons, anc, levels_back = 0)\n",
    "\n",
    "gs <- unique(unlist(mapDf[treeSub$tip, \"GENEID\"]))\n",
    "treeSub$tip.label <- gsub(\"\\\\.+\\\\d+\", \"\", treeSub$tip.label)\n",
    "length(unique(gs))==1\n",
    "gTxps <- unlist(rowData(yg)[gs[1],\"tx_ids\"])\n",
    "\n",
    "all(treeSub$tip %in% gTxps)\n",
    "all(gTxps %in% treeSub$tip)\n",
    "all(gTxps %in% gsub(\"\\\\.+\\\\d+\", \"\", treeCons$tip.label))\n",
    "\n",
    "unique(gs)\n",
    "g <- genesChimp %>% \n",
    "    filter(gene_id == gs[1]) %>%\n",
    "    as_tibble()\n",
    "g\n",
    "\n",
    "gTxps\n",
    "txp_min <- tx_to_show[which.min(mcols(y)[tx_to_show, \"pvalue\"])]\n",
    "match(txp_min, treeSub$tip.label)\n",
    "txp_min %in% tx_to_show\n",
    "mcols(y)[gTxps,]\n",
    "mcols(yAll)[iNode,]"
   ]
  },
  {
   "cell_type": "code",
   "execution_count": 192,
   "id": "7133b2cc",
   "metadata": {},
   "outputs": [
    {
     "name": "stderr",
     "output_type": "stream",
     "text": [
      "legend[legend1]\n",
      "\n",
      "text[text1]\n",
      "\n",
      "transcripts[transcripts1]\n",
      "\n",
      "genomeLabel[genomeLabel1]\n",
      "\n",
      "text[text2]\n",
      "\n",
      "gg[gg1]\n",
      "\n",
      "text[text2]\n",
      "\n",
      "gg[gg2]\n",
      "\n",
      "text[text2]\n",
      "\n",
      "gg[gg3]\n",
      "\n"
     ]
    },
    {
     "data": {
      "image/png": "[encoded data removed]",
      "text/plain": [
       "plot without title"
      ]
     },
     "metadata": {
      "image/png": {
       "height": 720,
       "width": 900
      }
     },
     "output_type": "display_data"
    }
   ],
   "source": [
    "options(repr.plot.width=15, repr.plot.height=12)\n",
    "\n",
    "library(plotgardener)\n",
    "pageCreate(width = 15, height = 12, showGuides = FALSE, default.units = \"inches\")\n",
    "par <- pgParams(\n",
    "  chrom = as.character(g[[\"seqnames\"]]), \n",
    "  chromstart = g[[\"start\"]], chromend = g[[\"end\"]],\n",
    "  assembly = assemb, just = c(\"left\", \"bottom\"), fontsize = 8,\n",
    "default.units = \"inches\", fontsize=14\n",
    ")\n",
    "\n",
    "parText <- pgParams(\n",
    "    just = c(\"left\", \"top\"), fontsize = 18\n",
    ")#, fontface = \"bold\")\n",
    "hilite <- data.frame(transcript=c(tx_to_show, setdiff(treeSub$tip, tx_to_show), \n",
    "                                  \"ENSPTRT00000071023\"), \n",
    "                     color=c(rep(\"red\", length(tx_to_show)),\n",
    "                             rep(\"blue\", length(setdiff(treeSub$tip, tx_to_show))),\n",
    "                                \"white\"))\n",
    "plotLegend(\n",
    "    legend = c(\"Transcripts covered by the candidate node\", \"Remaining transcripts\"),\n",
    "    fill = c(\"red\", \"blue\"), border = FALSE,\n",
    "    x = 0.5, y = 0.6, width = 1, height = 0.5,\n",
    "    just = c(\"left\", \"top\"), fontsize=16,\n",
    ")\n",
    "plotText(label=\"A) Transcripts mapping to gene Ubap1\", x = 0.5, y = 0.2,\n",
    "        params = parText)\n",
    "\n",
    "plotTranscripts(\n",
    "    params = par, x = 0.5, y = 4.4, width = 5, height = 5.5, \n",
    "    spaceHeight=2, boxHeight=0.15,\n",
    "    labels = \"transcript\", fill=\"blue\", \n",
    "    transcriptHighlights = hilite\n",
    ")\n",
    "\n",
    "plotGenomeLabel(\n",
    "  params = par, x = 0.5, y = 4.7, length=5,\n",
    "  just = c(\"left\", \"top\")\n",
    ")\n",
    "\n",
    "plotText(label=\"B) Tree representing the transcripts covered by gene Ubap1\", \n",
    "         x = 7.2, y = 0.2, params = parText)\n",
    "plotGG(\n",
    "    plot = pTree,\n",
    "    x = 6.8, y = 1, width = 8, height=4\n",
    ")\n",
    "\n",
    "plotText(label=paste(\"C) Scaled inferential replicates for the transcript \\n\", txp_min, sep=\"\"), \n",
    "         x = 0.5, y = 5.8, params = parText)\n",
    "\n",
    "plotGG(\n",
    "    plot = pTxp,\n",
    "    x = 0.5, y = 6.8, width = 6, height=5\n",
    ")\n",
    "\n",
    "plotText(label=\"D) Scaled inferential replicates for the candidate node\", \n",
    "         x = 7.2, y = 5.8, params = parText)\n",
    "\n",
    "plotGG(\n",
    "    plot = pInn,\n",
    "    x = 7.2, y = 6.8, width = 6, height=5\n",
    ")"
   ]
  }
 ],
 "metadata": {
  "kernelspec": {
   "display_name": "R",
   "language": "R",
   "name": "ir"
  },
  "language_info": {
   "codemirror_mode": "r",
   "file_extension": ".r",
   "mimetype": "text/x-r-source",
   "name": "R",
   "pygments_lexer": "r",
   "version": "4.3.0"
  }
 },
 "nbformat": 4,
 "nbformat_minor": 5
}
