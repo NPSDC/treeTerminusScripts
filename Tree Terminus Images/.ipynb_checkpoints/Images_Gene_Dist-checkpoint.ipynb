{
 "cells": [
  {
   "cell_type": "code",
   "execution_count": 1,
   "id": "c9323612",
   "metadata": {},
   "outputs": [],
   "source": [
    "setwd('/fs/cbcb-lab/rob/students/noor/Uncertainity/treeTerminusScripts')\n",
    "suppressPackageStartupMessages(source(\"tree_helper_function.R\"))\n",
    "suppressPackageStartupMessages(library(ggplot2))\n",
    "suppressPackageStartupMessages(library(ggpubr))\n",
    "suppressPackageStartupMessages(library(dplyr))\n",
    "load(\"environment/brain_sim_nodtu/mode=gc_bias/mapDf.RData\")\n",
    "dir <- \"environment/brain_sim_nodtu/mode=gc_bias/post_type=gibbs_nrep=100_tf=100/comp_trees\"\n",
    "load(file.path(dir, \"treeCons.RData\"))\n",
    "load(file.path(dir, \"treeCons0.RData\"))\n",
    "load(file.path(dir, \"treeCor.RData\"))\n",
    "load(file.path(dir, \"treeMeanInf0.RData\"))\n",
    "load(file.path(dir, \"treeThr.RData\"))\n",
    "\n",
    "load(file.path(dir, \"genesCons0.RData\"))\n",
    "load(file.path(dir, \"genesCons.RData\"))\n",
    "load(file.path(dir, \"genesCor.RData\"))\n",
    "load(file.path(dir, \"genesMeanInf0.RData\"))\n",
    "load(file.path(dir, \"genesThr.RData\"))"
   ]
  },
  {
   "cell_type": "code",
   "execution_count": null,
   "id": "2b57d3b7",
   "metadata": {},
   "outputs": [],
   "source": [
    "dfNGenes <- data.frame(matrix(nrow=0, ncol=3))\n",
    "colnames(dfNGenes) <- c(\"Type\", \"nGenes\", \"depth\")\n",
    "dfNGenes <- rbind(dfNGenes, data.frame(Type=\"ConsFilt\", nGenes = sapply(genesCons[2:length(genesCons)], length), \n",
    "                                       depth = node.depth(treeCons,2)[length(treeCons$tip)+2:treeCons$Nnode]))\n",
    "dfNGenes <- rbind(dfNGenes, data.frame(Type=\"Cons\", nGenes = sapply(genesCons0[2:length(genesCons0)], length), \n",
    "                                       depth = node.depth(treeCons0,2)[length(treeCons0$tip)+2:treeCons0$Nnode]))\n",
    "dfNGenes <- rbind(dfNGenes, data.frame(Type=\"AC\", nGenes = sapply(genesCor[2:length(genesCor)], length), \n",
    "                                       depth = node.depth(treeCor,2)[length(treeCor$tip)+2:treeCor$Nnode]))\n",
    "dfNGenes <- rbind(dfNGenes, data.frame(Type=\"Mean\", nGenes = sapply(genesMeanInf0[2:length(genesMeanInf0)], length), \n",
    "                                       depth = node.depth(treeMeanInf0,2)[length(treeMeanInf0$tip)+2:treeMeanInf0$Nnode]))\n",
    "dfNGenes <- rbind(dfNGenes, data.frame(Type=\"ConsFiltES\", nGenes = sapply(genesThr[2:length(genesThr)], length), \n",
    "                                       depth = node.depth(treeThr,2)[length(treeThr$tip)+2:treeThr$Nnode]))\n",
    "\n",
    "dfNGenes[dfNGenes$depth > 5,\"depth\"]=5"
   ]
  },
  {
   "cell_type": "code",
   "execution_count": null,
   "id": "09332b9c",
   "metadata": {},
   "outputs": [],
   "source": []
  }
 ],
 "metadata": {
  "kernelspec": {
   "display_name": "R",
   "language": "R",
   "name": "ir"
  },
  "language_info": {
   "codemirror_mode": "r",
   "file_extension": ".r",
   "mimetype": "text/x-r-source",
   "name": "R",
   "pygments_lexer": "r",
   "version": "4.1.1"
  }
 },
 "nbformat": 4,
 "nbformat_minor": 5
}
