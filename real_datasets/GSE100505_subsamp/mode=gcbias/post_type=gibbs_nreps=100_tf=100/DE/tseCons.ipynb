{
 "cells": [
  {
   "cell_type": "code",
   "execution_count": 1,
   "id": "c10105c1",
   "metadata": {},
   "outputs": [],
   "source": [
    "setwd('/fs/cbcb-lab/rob/students/noor/Uncertainity/treeTerminusScripts')\n",
    "suppressPackageStartupMessages(source(\"tree_helper_function.R\"))\n",
    "suppressPackageStartupMessages(source(\"tree_term_climb.R\"))\n",
    "suppressPackageStartupMessages(library(beaveR))\n",
    "quantDir <- \"/fs/cbcb-lab/rob/students/noor/Uncertainity/real_datasets/GSE100505_subsamp/sal_out/mode_gcbias=True/posttype=gibbs_npost=100_tf=100\"\n",
    "metaData <- read.delim(\"/fs/cbcb-lab/rob/students/noor/Uncertainity/real_datasets/GSE100505/SRR_Acc_List.txt\")\n",
    "samples <- metaData$RUN\n",
    "files <- file.path(quantDir, samples, \"quant.sf\")\n",
    "colData <- cbind(data.frame(files = files, names = samples), condition = as.factor(metaData$TissueName))\n",
    "clustFile <- \"/fs/cbcb-lab/rob/students/noor/Uncertainity/real_datasets/GSE100505_subsamp/term_out/mode_gcbias=True/posttype=gibbs_npost=100_tf=100/no_threshold0/cluster_nwk.txt\"\n",
    "saveDir <- \"/fs/cbcb-lab/rob/students/noor/Uncertainity/treeTerminusScripts/environment/real_datasets/GSE100505_subsamp/mode_gcbias=True/posttype=gibbs_npost=100_tf=100/comp_trees/DE\"\n",
    "\n",
    "# load(\"/fs/cbcb-lab/rob/students/noor/Uncertainity/treeTerminusScripts/environment/real_datasets/GSE100505/mode_gcbias=True/posttype=gibbs_npost=100_tf=100/comp_trees/DE/tseCons.RData\")\n",
    "# tseCons <- rowTree(tseCons)\n",
    "# txps <- length(treeOrig$tip)\n",
    "# txps <- treeOrig$tip.label\n",
    "# tseCons <- buildTSE(treeTermFile = clustFile, coldata = colData, txps = txps)\n",
    "# save(tseCons, file=file.path(saveDir, \"tseCons.RData\"))\n",
    "load(file.path(saveDir, \"tseCons.RData\"))"
   ]
  },
  {
   "cell_type": "code",
   "execution_count": 16,
   "id": "ebecae79",
   "metadata": {},
   "outputs": [],
   "source": [
    "treeCons <- rowTree(tseCons)\n",
    "l <- length(treeCons$tip)\n",
    "y <- tseCons[1:l,]\n",
    "y <- fishpond::scaleInfReps(y)\n",
    "y <- labelKeep(y)\n",
    "set.seed(1)\n",
    "y <- swish(y, x = \"condition\")"
   ]
  },
  {
   "cell_type": "code",
   "execution_count": 17,
   "id": "ed210fd2",
   "metadata": {},
   "outputs": [
    {
     "data": {
      "text/html": [
       "14522"
      ],
      "text/latex": [
       "14522"
      ],
      "text/markdown": [
       "14522"
      ],
      "text/plain": [
       "[1] 14522"
      ]
     },
     "metadata": {},
     "output_type": "display_data"
    },
    {
     "data": {
      "text/html": [
       "18770"
      ],
      "text/latex": [
       "18770"
      ],
      "text/markdown": [
       "18770"
      ],
      "text/plain": [
       "[1] 18770"
      ]
     },
     "metadata": {},
     "output_type": "display_data"
    },
    {
     "data": {
      "text/html": [
       "21539"
      ],
      "text/latex": [
       "21539"
      ],
      "text/markdown": [
       "21539"
      ],
      "text/plain": [
       "[1] 21539"
      ]
     },
     "metadata": {},
     "output_type": "display_data"
    }
   ],
   "source": [
    "sum(mcols(y)[[\"qvalue\"]] < 0.01, na.rm=T)\n",
    "sum(mcols(y)[[\"qvalue\"]] < 0.05, na.rm=T)\n",
    "sum(mcols(y)[[\"qvalue\"]] < 0.1, na.rm=T)"
   ]
  },
  {
   "cell_type": "code",
   "execution_count": 19,
   "id": "b81c4071",
   "metadata": {},
   "outputs": [
    {
     "name": "stderr",
     "output_type": "stream",
     "text": [
      "Setting inf rep depth to mean depth\n",
      "\n"
     ]
    },
    {
     "name": "stdout",
     "output_type": "stream",
     "text": [
      "Progress:   1 on 100Progress:   2 on 100Progress:   3 on 100Progress:   4 on 100Progress:   5 on 100Progress:   6 on 100Progress:   7 on 100Progress:   8 on 100Progress:   9 on 100Progress:  10 on 100Progress:  11 on 100Progress:  12 on 100Progress:  13 on 100Progress:  14 on 100Progress:  15 on 100Progress:  16 on 100Progress:  17 on 100Progress:  18 on 100Progress:  19 on 100Progress:  20 on 100Progress:  21 on 100Progress:  22 on 100Progress:  23 on 100Progress:  24 on 100Progress:  25 on 100Progress:  26 on 100Progress:  27 on 100Progress:  28 on 100Progress:  29 on 100Progress:  30 on 100Progress:  31 on 100Progress:  32 on 100Progress:  33 on 100Progress:  34 on 100Progress:  35 on 100Progress:  36 on 100Progress:  37 on 100Progress:  38 on 100Progress:  39 on 100Progress:  40 on 100Progress:  41 on 100Progress:  42 on 100Progress:  43 on 100Progress:  44 on 100Progress:  45 on 100Progress:  46 on 100Progress:  47 on 100Progress:  48 on 100Progress:  49 on 100Progress:  50 on 100Progress:  51 on 100Progress:  52 on 100Progress:  53 on 100Progress:  54 on 100Progress:  55 on 100Progress:  56 on 100Progress:  57 on 100Progress:  58 on 100Progress:  59 on 100Progress:  60 on 100Progress:  61 on 100Progress:  62 on 100Progress:  63 on 100Progress:  64 on 100Progress:  65 on 100Progress:  66 on 100Progress:  67 on 100Progress:  68 on 100Progress:  69 on 100Progress:  70 on 100Progress:  71 on 100Progress:  72 on 100Progress:  73 on 100Progress:  74 on 100Progress:  75 on 100Progress:  76 on 100Progress:  77 on 100Progress:  78 on 100Progress:  79 on 100Progress:  80 on 100Progress:  81 on 100Progress:  82 on 100Progress:  83 on 100Progress:  84 on 100Progress:  85 on 100Progress:  86 on 100Progress:  87 on 100Progress:  88 on 100Progress:  89 on 100Progress:  90 on 100Progress:  91 on 100Progress:  92 on 100Progress:  93 on 100Progress:  94 on 100Progress:  95 on 100Progress:  96 on 100Progress:  97 on 100Progress:  98 on 100Progress:  99 on 100Progress: 100 on 100  "
     ]
    },
    {
     "name": "stderr",
     "output_type": "stream",
     "text": [
      "\n",
      "\n"
     ]
    }
   ],
   "source": [
    "yAll <- computeSizeFactors(tseCons)\n",
    "yAll <- scaleInfReps(yAll)\n",
    "yAll <- labelKeep(yAll)\n",
    "set.seed(1)\n",
    "yAll <- swish(yAll, x = \"condition\")"
   ]
  },
  {
   "cell_type": "code",
   "execution_count": 2,
   "id": "5df7a7f5",
   "metadata": {},
   "outputs": [],
   "source": [
    "load(file = file.path(saveDir, \"tAfterBHMoreClimbMIRV.RData\"))"
   ]
  },
  {
   "cell_type": "code",
   "execution_count": 9,
   "id": "cb0e0e0b",
   "metadata": {},
   "outputs": [
    {
     "data": {
      "text/html": [
       "<style>\n",
       ".list-inline {list-style: none; margin:0; padding: 0}\n",
       ".list-inline>li {display: inline-block}\n",
       ".list-inline>li:not(:last-child)::after {content: \"\\00b7\"; padding: 0 .5ex}\n",
       "</style>\n",
       "<ol class=list-inline><li>14053</li><li>15176</li><li>15789</li></ol>\n"
      ],
      "text/latex": [
       "\\begin{enumerate*}\n",
       "\\item 14053\n",
       "\\item 15176\n",
       "\\item 15789\n",
       "\\end{enumerate*}\n"
      ],
      "text/markdown": [
       "1. 14053\n",
       "2. 15176\n",
       "3. 15789\n",
       "\n",
       "\n"
      ],
      "text/plain": [
       "[1] 14053 15176 15789"
      ]
     },
     "metadata": {},
     "output_type": "display_data"
    },
    {
     "data": {
      "text/html": [
       "<style>\n",
       ".list-inline {list-style: none; margin:0; padding: 0}\n",
       ".list-inline>li {display: inline-block}\n",
       ".list-inline>li:not(:last-child)::after {content: \"\\00b7\"; padding: 0 .5ex}\n",
       "</style>\n",
       "<ol class=list-inline><li>14053</li><li>15176</li><li>15789</li></ol>\n"
      ],
      "text/latex": [
       "\\begin{enumerate*}\n",
       "\\item 14053\n",
       "\\item 15176\n",
       "\\item 15789\n",
       "\\end{enumerate*}\n"
      ],
      "text/markdown": [
       "1. 14053\n",
       "2. 15176\n",
       "3. 15789\n",
       "\n",
       "\n"
      ],
      "text/plain": [
       "[1] 14053 15176 15789"
      ]
     },
     "metadata": {},
     "output_type": "display_data"
    }
   ],
   "source": [
    "sapply(tAfterBHMoreClimbMIRV[[1]], length)\n",
    "sapply(tAfterBHMoreClimbMIRV[[2]], length)"
   ]
  },
  {
   "cell_type": "code",
   "execution_count": 13,
   "id": "c1327aa1",
   "metadata": {},
   "outputs": [],
   "source": [
    "load(file.path(saveDir, \"tseCons.RData\"))"
   ]
  },
  {
   "cell_type": "code",
   "execution_count": 14,
   "id": "a1c23a7b",
   "metadata": {},
   "outputs": [
    {
     "data": {
      "text/plain": [
       "class: TreeSummarizedExperiment \n",
       "dim: 176963 12 \n",
       "metadata(8): tximetaInfo quantInfo ... txpsAnn infRepsScaled\n",
       "assays(105): counts abundance ... mean variance\n",
       "rownames(176963): ENSMUST00000195445.1 ENSMUST00000148585.7 ...\n",
       "  Node176962 Node176963\n",
       "rowData names(1): meanInfRV\n",
       "colnames(12): SRR5758624 SRR5758625 ... SRR5758703 SRR5758702\n",
       "colData names(2): names condition\n",
       "reducedDimNames(0):\n",
       "mainExpName: NULL\n",
       "altExpNames(0):\n",
       "rowLinks: a LinkDataFrame (176963 rows)\n",
       "rowTree: 1 phylo tree(s) (100696 leaves)\n",
       "colLinks: NULL\n",
       "colTree: NULL"
      ]
     },
     "metadata": {},
     "output_type": "display_data"
    }
   ],
   "source": [
    "tseCons"
   ]
  },
  {
   "cell_type": "code",
   "execution_count": null,
   "id": "242236b6",
   "metadata": {},
   "outputs": [],
   "source": []
  }
 ],
 "metadata": {
  "kernelspec": {
   "display_name": "R",
   "language": "R",
   "name": "ir"
  },
  "language_info": {
   "codemirror_mode": "r",
   "file_extension": ".r",
   "mimetype": "text/x-r-source",
   "name": "R",
   "pygments_lexer": "r",
   "version": "4.1.1"
  }
 },
 "nbformat": 4,
 "nbformat_minor": 5
}
