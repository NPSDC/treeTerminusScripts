{
 "cells": [
  {
   "cell_type": "markdown",
   "id": "ddaf313f",
   "metadata": {},
   "source": [
    "### Loading Dataset"
   ]
  },
  {
   "cell_type": "code",
   "execution_count": 1,
   "id": "7a0ba1f3",
   "metadata": {},
   "outputs": [],
   "source": [
    "setwd('/fs/cbcb-lab/rob/students/noor/Uncertainity/treeTerminusScripts')\n",
    "suppressPackageStartupMessages(source(\"tree_helper_function.R\"))\n",
    "suppressPackageStartupMessages(source(\"tree_term_climb.R\"))\n",
    "suppressPackageStartupMessages(library(beaveR))\n",
    "\n",
    "saveDir <- \"/fs/cbcb-lab/rob/students/noor/Uncertainity/treeTerminusScripts/environment/real_datasets/GSE100505_EDL_MAST_subsamp/mode=gcbias/post_type=gibbs_nreps=100_tf=100/DE\"\n",
    "load(file.path(saveDir, \"tseConsUp.RData\"))"
   ]
  },
  {
   "cell_type": "code",
   "execution_count": 8,
   "id": "4f29e810",
   "metadata": {},
   "outputs": [],
   "source": [
    "load(file.path(saveDir, \"tAfterBHMoreClimbMIRVUp.RData\"))"
   ]
  },
  {
   "cell_type": "code",
   "execution_count": 3,
   "id": "ce1a28b7",
   "metadata": {},
   "outputs": [
    {
     "name": "stderr",
     "output_type": "stream",
     "text": [
      "importing quantifications\n",
      "\n",
      "reading in files with read_tsv\n",
      "\n",
      "1 \n",
      "2 \n",
      "3 \n",
      "4 \n",
      "5 \n",
      "6 \n",
      "7 \n",
      "8 \n",
      "9 \n",
      "10 \n",
      "11 \n",
      "12 \n",
      "\n",
      "\n",
      "found matching transcriptome:\n",
      "[ GENCODE - Mus musculus - release M25 ]\n",
      "\n",
      "loading existing TxDb created: 2023-02-17 18:26:37\n",
      "\n",
      "Loading required package: GenomicFeatures\n",
      "\n",
      "Loading required package: AnnotationDbi\n",
      "\n",
      "loading existing transcript ranges created: 2023-02-17 18:26:39\n",
      "\n",
      "fetching genome info for GENCODE\n",
      "\n"
     ]
    }
   ],
   "source": [
    "treeCons <- rowTree(tseConsUp)\n",
    "l <- length(treeCons$tip)\n",
    "\n",
    "quantDir <- \"/fs/cbcb-lab/rob/students/noor/Uncertainity/real_datasets/GSE100505_EDL_MAST_subsamp/sal_out/mode_gcbias=True/posttype=gibbs_npost=100_tf=100\"\n",
    "metaData <- read.delim(\"/fs/cbcb-lab/rob/students/noor/Uncertainity/real_datasets/GSE100505_EDL_MAST/SRR_Acc_List.txt\")\n",
    "samples <- metaData$RUN\n",
    "files <- file.path(quantDir, samples, \"quant.sf\")\n",
    "colData <- cbind(data.frame(files = files, names = samples), condition = as.factor(metaData$TissueName))\n",
    "seMuscle <- tximeta::tximeta(colData)"
   ]
  },
  {
   "cell_type": "code",
   "execution_count": 7,
   "id": "9ea6bcda",
   "metadata": {},
   "outputs": [],
   "source": [
    "treeCons <- rowTree(tseConsUp)\n",
    "l <- length(treeCons$tip)\n",
    "y <- fishpond::scaleInfReps(tseConsUp[1:l,])\n",
    "y <- labelKeep(y)\n",
    "set.seed(1)\n",
    "y <- swish(y, x=\"condition\")"
   ]
  },
  {
   "cell_type": "code",
   "execution_count": 15,
   "id": "5851b376",
   "metadata": {},
   "outputs": [
    {
     "data": {
      "text/html": [
       "<style>\n",
       ".list-inline {list-style: none; margin:0; padding: 0}\n",
       ".list-inline>li {display: inline-block}\n",
       ".list-inline>li:not(:last-child)::after {content: \"\\00b7\"; padding: 0 .5ex}\n",
       "</style>\n",
       "<ol class=list-inline><li>2751</li><li>5539</li><li>7692</li></ol>\n"
      ],
      "text/latex": [
       "\\begin{enumerate*}\n",
       "\\item 2751\n",
       "\\item 5539\n",
       "\\item 7692\n",
       "\\end{enumerate*}\n"
      ],
      "text/markdown": [
       "1. 2751\n",
       "2. 5539\n",
       "3. 7692\n",
       "\n",
       "\n"
      ],
      "text/plain": [
       "[1] 2751 5539 7692"
      ]
     },
     "metadata": {},
     "output_type": "display_data"
    },
    {
     "data": {
      "text/html": [
       "<style>\n",
       ".list-inline {list-style: none; margin:0; padding: 0}\n",
       ".list-inline>li {display: inline-block}\n",
       ".list-inline>li:not(:last-child)::after {content: \"\\00b7\"; padding: 0 .5ex}\n",
       "</style>\n",
       "<ol class=list-inline><li>1465</li><li>9109</li><li>12935</li></ol>\n"
      ],
      "text/latex": [
       "\\begin{enumerate*}\n",
       "\\item 1465\n",
       "\\item 9109\n",
       "\\item 12935\n",
       "\\end{enumerate*}\n"
      ],
      "text/markdown": [
       "1. 1465\n",
       "2. 9109\n",
       "3. 12935\n",
       "\n",
       "\n"
      ],
      "text/plain": [
       "[1]  1465  9109 12935"
      ]
     },
     "metadata": {},
     "output_type": "display_data"
    }
   ],
   "source": [
    "txpsSubSamp <- lapply(c(0.01, 0.05, 0.1), function(alpha) rownames(y)[which(mcols(y)[[\"qvalue\"]] < alpha)])\n",
    "txpsSubDesc <- lapply(tAfterBHMoreClimbMIRVUp[[\"mIRV=0.4\"]], function(nodes) treeCons$tip[unlist(Descendants(treeCons, nodes))])\n",
    "sapply(txpsSubSamp, length)\n",
    "sapply(txpsSubDesc, length)"
   ]
  },
  {
   "cell_type": "code",
   "execution_count": 7,
   "id": "6892f532",
   "metadata": {},
   "outputs": [
    {
     "name": "stderr",
     "output_type": "stream",
     "text": [
      "Setting inf rep depth to mean depth\n",
      "\n"
     ]
    },
    {
     "name": "stdout",
     "output_type": "stream",
     "text": [
      "Progress:   1 on 100Progress:   2 on 100Progress:   3 on 100Progress:   4 on 100Progress:   5 on 100Progress:   6 on 100Progress:   7 on 100Progress:   8 on 100Progress:   9 on 100Progress:  10 on 100Progress:  11 on 100Progress:  12 on 100Progress:  13 on 100Progress:  14 on 100Progress:  15 on 100Progress:  16 on 100Progress:  17 on 100Progress:  18 on 100Progress:  19 on 100Progress:  20 on 100Progress:  21 on 100Progress:  22 on 100Progress:  23 on 100Progress:  24 on 100Progress:  25 on 100Progress:  26 on 100Progress:  27 on 100Progress:  28 on 100Progress:  29 on 100Progress:  30 on 100Progress:  31 on 100Progress:  32 on 100Progress:  33 on 100Progress:  34 on 100Progress:  35 on 100Progress:  36 on 100Progress:  37 on 100Progress:  38 on 100Progress:  39 on 100Progress:  40 on 100Progress:  41 on 100Progress:  42 on 100Progress:  43 on 100Progress:  44 on 100Progress:  45 on 100Progress:  46 on 100Progress:  47 on 100Progress:  48 on 100Progress:  49 on 100Progress:  50 on 100Progress:  51 on 100Progress:  52 on 100Progress:  53 on 100Progress:  54 on 100Progress:  55 on 100Progress:  56 on 100Progress:  57 on 100Progress:  58 on 100Progress:  59 on 100Progress:  60 on 100Progress:  61 on 100Progress:  62 on 100Progress:  63 on 100Progress:  64 on 100Progress:  65 on 100Progress:  66 on 100Progress:  67 on 100Progress:  68 on 100Progress:  69 on 100Progress:  70 on 100Progress:  71 on 100Progress:  72 on 100Progress:  73 on 100Progress:  74 on 100Progress:  75 on 100Progress:  76 on 100Progress:  77 on 100Progress:  78 on 100Progress:  79 on 100Progress:  80 on 100Progress:  81 on 100Progress:  82 on 100Progress:  83 on 100Progress:  84 on 100Progress:  85 on 100Progress:  86 on 100Progress:  87 on 100Progress:  88 on 100Progress:  89 on 100Progress:  90 on 100Progress:  91 on 100Progress:  92 on 100Progress:  93 on 100Progress:  94 on 100Progress:  95 on 100Progress:  96 on 100Progress:  97 on 100Progress:  98 on 100Progress:  99 on 100Progress: 100 on 100  "
     ]
    },
    {
     "name": "stderr",
     "output_type": "stream",
     "text": [
      "\n",
      "\n"
     ]
    },
    {
     "data": {
      "text/html": [
       "95860"
      ],
      "text/latex": [
       "95860"
      ],
      "text/markdown": [
       "95860"
      ],
      "text/plain": [
       "[1] 95860"
      ]
     },
     "metadata": {},
     "output_type": "display_data"
    }
   ],
   "source": [
    "yAll <- computeSizeFactors(tseConsUp)\n",
    "yAll <- scaleInfReps(yAll)\n",
    "yAll <- labelKeep(yAll)\n",
    "set.seed(1)\n",
    "yAll <- swish(yAll, x=\"condition\")\n",
    "sum(mcols(yAll)[[\"keep\"]])"
   ]
  },
  {
   "cell_type": "markdown",
   "id": "c7d1d885",
   "metadata": {},
   "source": [
    "#### Finding differentially expressed transcripts on the subsampled dataset"
   ]
  },
  {
   "cell_type": "code",
   "execution_count": 15,
   "id": "d35dc578",
   "metadata": {},
   "outputs": [
    {
     "data": {
      "text/html": [
       "<style>\n",
       ".list-inline {list-style: none; margin:0; padding: 0}\n",
       ".list-inline>li {display: inline-block}\n",
       ".list-inline>li:not(:last-child)::after {content: \"\\00b7\"; padding: 0 .5ex}\n",
       "</style>\n",
       "<ol class=list-inline><li>2753</li><li>5540</li><li>7696</li></ol>\n"
      ],
      "text/latex": [
       "\\begin{enumerate*}\n",
       "\\item 2753\n",
       "\\item 5540\n",
       "\\item 7696\n",
       "\\end{enumerate*}\n"
      ],
      "text/markdown": [
       "1. 2753\n",
       "2. 5540\n",
       "3. 7696\n",
       "\n",
       "\n"
      ],
      "text/plain": [
       "[1] 2753 5540 7696"
      ]
     },
     "metadata": {},
     "output_type": "display_data"
    }
   ],
   "source": [
    "dTxpsSub <- lapply(c(0.01,0.05,0.1), function(x) rownames(y)[which(mcols(y)[[\"qvalue\"]] <= x)])\n",
    "sapply(dTxpsSub, length)"
   ]
  },
  {
   "cell_type": "code",
   "execution_count": 16,
   "id": "8449f533",
   "metadata": {},
   "outputs": [
    {
     "data": {
      "text/html": [
       "<style>\n",
       ".list-inline {list-style: none; margin:0; padding: 0}\n",
       ".list-inline>li {display: inline-block}\n",
       ".list-inline>li:not(:last-child)::after {content: \"\\00b7\"; padding: 0 .5ex}\n",
       "</style>\n",
       "<ol class=list-inline><li>2398</li><li>4529</li><li>5961</li></ol>\n"
      ],
      "text/latex": [
       "\\begin{enumerate*}\n",
       "\\item 2398\n",
       "\\item 4529\n",
       "\\item 5961\n",
       "\\end{enumerate*}\n"
      ],
      "text/markdown": [
       "1. 2398\n",
       "2. 4529\n",
       "3. 5961\n",
       "\n",
       "\n"
      ],
      "text/plain": [
       "[1] 2398 4529 5961"
      ]
     },
     "metadata": {},
     "output_type": "display_data"
    }
   ],
   "source": [
    "mapDf <- rowData(seMuscle)\n",
    "txpGenes <- lapply(dTxpsSub, function(txps) unique(unlist(mapDf[txps, \"gene_id\"])))##Genes that map to transcripts\n",
    "sapply(txpGenes, length)"
   ]
  },
  {
   "cell_type": "markdown",
   "id": "cf27d2c2",
   "metadata": {},
   "source": [
    "#### Finding differentially expressed genes on the subsampled dataset"
   ]
  },
  {
   "cell_type": "code",
   "execution_count": 19,
   "id": "20ad0052",
   "metadata": {},
   "outputs": [
    {
     "name": "stderr",
     "output_type": "stream",
     "text": [
      "loading existing TxDb created: 2023-02-17 18:26:37\n",
      "\n",
      "obtaining transcript-to-gene mapping from database\n",
      "\n",
      "loading existing gene ranges created: 2023-02-21 05:37:24\n",
      "\n",
      "summarizing abundance\n",
      "\n",
      "summarizing counts\n",
      "\n",
      "summarizing length\n",
      "\n",
      "summarizing inferential replicates\n",
      "\n"
     ]
    }
   ],
   "source": [
    "gse <- summarizeToGene(seMuscle)\n",
    "yg <- fishpond::scaleInfReps(gse)\n",
    "yg <- labelKeep(yg)\n",
    "set.seed(1)\n",
    "yg <- swish(yg, x=\"condition\")"
   ]
  },
  {
   "cell_type": "code",
   "execution_count": 20,
   "id": "7f382271",
   "metadata": {},
   "outputs": [
    {
     "data": {
      "text/html": [
       "<style>\n",
       ".list-inline {list-style: none; margin:0; padding: 0}\n",
       ".list-inline>li {display: inline-block}\n",
       ".list-inline>li:not(:last-child)::after {content: \"\\00b7\"; padding: 0 .5ex}\n",
       "</style>\n",
       "<ol class=list-inline><li>1933</li><li>3553</li><li>4890</li></ol>\n"
      ],
      "text/latex": [
       "\\begin{enumerate*}\n",
       "\\item 1933\n",
       "\\item 3553\n",
       "\\item 4890\n",
       "\\end{enumerate*}\n"
      ],
      "text/markdown": [
       "1. 1933\n",
       "2. 3553\n",
       "3. 4890\n",
       "\n",
       "\n"
      ],
      "text/plain": [
       "[1] 1933 3553 4890"
      ]
     },
     "metadata": {},
     "output_type": "display_data"
    }
   ],
   "source": [
    "dgesSub <- lapply(c(0.01,0.05,0.1), function(x) rownames(yg)[which(mcols(yg)[[\"qvalue\"]] <= x)])\n",
    "sapply(dgesSub, length)"
   ]
  },
  {
   "cell_type": "code",
   "execution_count": 16,
   "id": "8e5e4082",
   "metadata": {},
   "outputs": [],
   "source": [
    "envMain <- \"environment/real_datasets/GSE100505_EDL_MAST/mode_gcbias=True/posttype=gibbs_npost=100_tf=100/DE\"\n",
    "load(file.path(envMain, \"dTxps.RData\"))\n",
    "load(file.path(envMain, \"dges.RData\"))\n",
    "load(file.path(envMain, \"tseConsUp.RData\"))\n",
    "load(file.path(envMain, \"tAfterBHMoreClimbMIRVUp.RData\"))\n",
    "treeConsO <- rowTree(tseConsUp)\n",
    "txpsDesc <- lapply(tAfterBHMoreClimbMIRVUp[[\"mIRV=0.4\"]], function(nodes) treeConsO$tip[unlist(Descendants(treeConsO, nodes))])"
   ]
  },
  {
   "cell_type": "code",
   "execution_count": 29,
   "id": "5b55c699",
   "metadata": {},
   "outputs": [
    {
     "data": {
      "text/html": [
       "<style>\n",
       ".list-inline {list-style: none; margin:0; padding: 0}\n",
       ".list-inline>li {display: inline-block}\n",
       ".list-inline>li:not(:last-child)::after {content: \"\\00b7\"; padding: 0 .5ex}\n",
       "</style>\n",
       "<ol class=list-inline><li>1465</li><li>9109</li><li>12935</li></ol>\n"
      ],
      "text/latex": [
       "\\begin{enumerate*}\n",
       "\\item 1465\n",
       "\\item 9109\n",
       "\\item 12935\n",
       "\\end{enumerate*}\n"
      ],
      "text/markdown": [
       "1. 1465\n",
       "2. 9109\n",
       "3. 12935\n",
       "\n",
       "\n"
      ],
      "text/plain": [
       "[1]  1465  9109 12935"
      ]
     },
     "metadata": {},
     "output_type": "display_data"
    },
    {
     "data": {
      "text/html": [
       "<style>\n",
       ".list-inline {list-style: none; margin:0; padding: 0}\n",
       ".list-inline>li {display: inline-block}\n",
       ".list-inline>li:not(:last-child)::after {content: \"\\00b7\"; padding: 0 .5ex}\n",
       "</style>\n",
       "<ol class=list-inline><li>1333</li><li>7952</li><li>11292</li></ol>\n"
      ],
      "text/latex": [
       "\\begin{enumerate*}\n",
       "\\item 1333\n",
       "\\item 7952\n",
       "\\item 11292\n",
       "\\end{enumerate*}\n"
      ],
      "text/markdown": [
       "1. 1333\n",
       "2. 7952\n",
       "3. 11292\n",
       "\n",
       "\n"
      ],
      "text/plain": [
       "[1]  1333  7952 11292"
      ]
     },
     "metadata": {},
     "output_type": "display_data"
    },
    {
     "data": {
      "text/html": [
       "<style>\n",
       ".list-inline {list-style: none; margin:0; padding: 0}\n",
       ".list-inline>li {display: inline-block}\n",
       ".list-inline>li:not(:last-child)::after {content: \"\\00b7\"; padding: 0 .5ex}\n",
       "</style>\n",
       "<ol class=list-inline><li>997</li><li>4761</li><li>6787</li></ol>\n"
      ],
      "text/latex": [
       "\\begin{enumerate*}\n",
       "\\item 997\n",
       "\\item 4761\n",
       "\\item 6787\n",
       "\\end{enumerate*}\n"
      ],
      "text/markdown": [
       "1. 997\n",
       "2. 4761\n",
       "3. 6787\n",
       "\n",
       "\n"
      ],
      "text/plain": [
       "[1]  997 4761 6787"
      ]
     },
     "metadata": {},
     "output_type": "display_data"
    },
    {
     "data": {
      "text/html": [
       "<style>\n",
       ".list-inline {list-style: none; margin:0; padding: 0}\n",
       ".list-inline>li {display: inline-block}\n",
       ".list-inline>li:not(:last-child)::after {content: \"\\00b7\"; padding: 0 .5ex}\n",
       "</style>\n",
       "<ol class=list-inline><li>854</li><li>4685</li><li>7068</li></ol>\n"
      ],
      "text/latex": [
       "\\begin{enumerate*}\n",
       "\\item 854\n",
       "\\item 4685\n",
       "\\item 7068\n",
       "\\end{enumerate*}\n"
      ],
      "text/markdown": [
       "1. 854\n",
       "2. 4685\n",
       "3. 7068\n",
       "\n",
       "\n"
      ],
      "text/plain": [
       "[1]  854 4685 7068"
      ]
     },
     "metadata": {},
     "output_type": "display_data"
    },
    {
     "data": {
      "text/html": [
       "<style>\n",
       ".list-inline {list-style: none; margin:0; padding: 0}\n",
       ".list-inline>li {display: inline-block}\n",
       ".list-inline>li:not(:last-child)::after {content: \"\\00b7\"; padding: 0 .5ex}\n",
       "</style>\n",
       "<ol class=list-inline><li>2486</li><li>4986</li><li>7007</li></ol>\n"
      ],
      "text/latex": [
       "\\begin{enumerate*}\n",
       "\\item 2486\n",
       "\\item 4986\n",
       "\\item 7007\n",
       "\\end{enumerate*}\n"
      ],
      "text/markdown": [
       "1. 2486\n",
       "2. 4986\n",
       "3. 7007\n",
       "\n",
       "\n"
      ],
      "text/plain": [
       "[1] 2486 4986 7007"
      ]
     },
     "metadata": {},
     "output_type": "display_data"
    }
   ],
   "source": [
    "sapply(txpsSubDesc, length)\n",
    "sapply(mapply(function(x,y) intersect(x,y), txpsDesc, txpsSubDesc), length) ##Original Sample treeDE, susample treeDE\n",
    "sapply(mapply(function(x,y) intersect(x,y), txpsDesc, txpsSubSamp), length) ##Original Sample treeDE, susample DTE\n",
    "sapply(mapply(function(x,y) intersect(x,y), dTxps, txpsSubDesc), length) ##Original Sample DTE, susample treeDE\n",
    "sapply(mapply(function(x,y) intersect(x,y), dTxps, txpsSubSamp), length) ##Original Sample DTE, susample DTE"
   ]
  },
  {
   "cell_type": "markdown",
   "id": "d18c66cd",
   "metadata": {},
   "source": [
    "#### TreeDE, with the total number of nodes, inner nodes and their height distribution"
   ]
  },
  {
   "cell_type": "code",
   "execution_count": 25,
   "id": "c3ca2e97",
   "metadata": {},
   "outputs": [
    {
     "data": {
      "text/html": [
       "<style>\n",
       ".list-inline {list-style: none; margin:0; padding: 0}\n",
       ".list-inline>li {display: inline-block}\n",
       ".list-inline>li:not(:last-child)::after {content: \"\\00b7\"; padding: 0 .5ex}\n",
       "</style>\n",
       "<ol class=list-inline><li>807</li><li>5277</li><li>7814</li></ol>\n"
      ],
      "text/latex": [
       "\\begin{enumerate*}\n",
       "\\item 807\n",
       "\\item 5277\n",
       "\\item 7814\n",
       "\\end{enumerate*}\n"
      ],
      "text/markdown": [
       "1. 807\n",
       "2. 5277\n",
       "3. 7814\n",
       "\n",
       "\n"
      ],
      "text/plain": [
       "[1]  807 5277 7814"
      ]
     },
     "metadata": {},
     "output_type": "display_data"
    },
    {
     "data": {
      "text/html": [
       "<style>\n",
       ".list-inline {list-style: none; margin:0; padding: 0}\n",
       ".list-inline>li {display: inline-block}\n",
       ".list-inline>li:not(:last-child)::after {content: \"\\00b7\"; padding: 0 .5ex}\n",
       "</style>\n",
       "<ol class=list-inline><li>333</li><li>2020</li><li>2750</li></ol>\n"
      ],
      "text/latex": [
       "\\begin{enumerate*}\n",
       "\\item 333\n",
       "\\item 2020\n",
       "\\item 2750\n",
       "\\end{enumerate*}\n"
      ],
      "text/markdown": [
       "1. 333\n",
       "2. 2020\n",
       "3. 2750\n",
       "\n",
       "\n"
      ],
      "text/plain": [
       "[1]  333 2020 2750"
      ]
     },
     "metadata": {},
     "output_type": "display_data"
    },
    {
     "data": {
      "text/plain": [
       "[[1]]\n",
       "\n",
       "  1   2   3   4   5   6   7   8   9 \n",
       "474 174  86  36  18  11   2   3   3 \n",
       "\n",
       "[[2]]\n",
       "\n",
       "   1    2    3    4    5    6    7    8    9   10   11   12 \n",
       "3257 1091  530  196  105   55   21   11    7    1    2    1 \n",
       "\n",
       "[[3]]\n",
       "\n",
       "   1    2    3    4    5    6    7    8    9   10   11   12   15 \n",
       "5064 1545  674  267  140   68   24   13   11    2    4    1    1 \n"
      ]
     },
     "metadata": {},
     "output_type": "display_data"
    }
   ],
   "source": [
    "load(file.path(saveDir, \"tAfterBHMoreClimbMIRVUp.RData\"))\n",
    "treeDESub <- tAfterBHMoreClimbMIRVUp[[\"mIRV=0.4\"]]\n",
    "sapply(treeDESub, length) ## number of differentially expressed nodes\n",
    "sapply(treeDESub, function(nodes) sum(nodes > l)) ## number of inner nodes\n",
    "lapply(treeDESub, function(nodes) table(node.depth(treeCons,2)[nodes])) ## Distribution of node heights"
   ]
  },
  {
   "cell_type": "code",
   "execution_count": 21,
   "id": "1eea3200",
   "metadata": {},
   "outputs": [
    {
     "data": {
      "text/html": [
       "<style>\n",
       ".list-inline {list-style: none; margin:0; padding: 0}\n",
       ".list-inline>li {display: inline-block}\n",
       ".list-inline>li:not(:last-child)::after {content: \"\\00b7\"; padding: 0 .5ex}\n",
       "</style>\n",
       "<ol class=list-inline><li>2486</li><li>4990</li><li>7007</li></ol>\n"
      ],
      "text/latex": [
       "\\begin{enumerate*}\n",
       "\\item 2486\n",
       "\\item 4990\n",
       "\\item 7007\n",
       "\\end{enumerate*}\n"
      ],
      "text/markdown": [
       "1. 2486\n",
       "2. 4990\n",
       "3. 7007\n",
       "\n",
       "\n"
      ],
      "text/plain": [
       "[1] 2486 4990 7007"
      ]
     },
     "metadata": {},
     "output_type": "display_data"
    },
    {
     "data": {
      "text/html": [
       "<style>\n",
       ".list-inline {list-style: none; margin:0; padding: 0}\n",
       ".list-inline>li {display: inline-block}\n",
       ".list-inline>li:not(:last-child)::after {content: \"\\00b7\"; padding: 0 .5ex}\n",
       "</style>\n",
       "<ol class=list-inline><li>898</li><li>1794</li><li>2634</li></ol>\n"
      ],
      "text/latex": [
       "\\begin{enumerate*}\n",
       "\\item 898\n",
       "\\item 1794\n",
       "\\item 2634\n",
       "\\end{enumerate*}\n"
      ],
      "text/markdown": [
       "1. 898\n",
       "2. 1794\n",
       "3. 2634\n",
       "\n",
       "\n"
      ],
      "text/plain": [
       "[1]  898 1794 2634"
      ]
     },
     "metadata": {},
     "output_type": "display_data"
    },
    {
     "data": {
      "text/html": [
       "<style>\n",
       ".list-inline {list-style: none; margin:0; padding: 0}\n",
       ".list-inline>li {display: inline-block}\n",
       ".list-inline>li:not(:last-child)::after {content: \"\\00b7\"; padding: 0 .5ex}\n",
       "</style>\n",
       "<ol class=list-inline><li>949</li><li>3314</li><li>4580</li></ol>\n"
      ],
      "text/latex": [
       "\\begin{enumerate*}\n",
       "\\item 949\n",
       "\\item 3314\n",
       "\\item 4580\n",
       "\\end{enumerate*}\n"
      ],
      "text/markdown": [
       "1. 949\n",
       "2. 3314\n",
       "3. 4580\n",
       "\n",
       "\n"
      ],
      "text/plain": [
       "[1]  949 3314 4580"
      ]
     },
     "metadata": {},
     "output_type": "display_data"
    },
    {
     "data": {
      "text/html": [
       "<style>\n",
       ".list-inline {list-style: none; margin:0; padding: 0}\n",
       ".list-inline>li {display: inline-block}\n",
       ".list-inline>li:not(:last-child)::after {content: \"\\00b7\"; padding: 0 .5ex}\n",
       "</style>\n",
       "<ol class=list-inline><li>55</li><li>1362</li><li>1629</li></ol>\n"
      ],
      "text/latex": [
       "\\begin{enumerate*}\n",
       "\\item 55\n",
       "\\item 1362\n",
       "\\item 1629\n",
       "\\end{enumerate*}\n"
      ],
      "text/markdown": [
       "1. 55\n",
       "2. 1362\n",
       "3. 1629\n",
       "\n",
       "\n"
      ],
      "text/plain": [
       "[1]   55 1362 1629"
      ]
     },
     "metadata": {},
     "output_type": "display_data"
    }
   ],
   "source": [
    "### Intersection for transcripts and genes between subsampled and original dataset\n",
    "commTxps <- sapply(seq_along(dTxps), function(i) intersect(dTxps[[i]], dTxpsSub[[i]]))\n",
    "sapply(commTxps, length)\n",
    "diffTxps <- sapply(seq_along(dTxps), function(i) setdiff(dTxps[[i]], dTxpsSub[[i]]))\n",
    "sapply(diffTxps, length)\n",
    "                   \n",
    "commGenes <- sapply(seq_along(dges), function(i) intersect(dges[[i]], dgesSub[[i]]))\n",
    "sapply(commGenes, length)\n",
    "diffGenes <- sapply(seq_along(dges), function(i) setdiff(dges[[i]], dgesSub[[i]]))\n",
    "sapply(diffGenes, length)"
   ]
  },
  {
   "cell_type": "markdown",
   "id": "325383dc",
   "metadata": {},
   "source": [
    "#### Number of differential transcripts in the original data mapped by the treeDE on the subsampled data"
   ]
  },
  {
   "cell_type": "code",
   "execution_count": 27,
   "id": "c58d5a09",
   "metadata": {},
   "outputs": [
    {
     "data": {
      "text/html": [
       "<style>\n",
       ".list-inline {list-style: none; margin:0; padding: 0}\n",
       ".list-inline>li {display: inline-block}\n",
       ".list-inline>li:not(:last-child)::after {content: \"\\00b7\"; padding: 0 .5ex}\n",
       "</style>\n",
       "<ol class=list-inline><li>1465</li><li>9109</li><li>12935</li></ol>\n"
      ],
      "text/latex": [
       "\\begin{enumerate*}\n",
       "\\item 1465\n",
       "\\item 9109\n",
       "\\item 12935\n",
       "\\end{enumerate*}\n"
      ],
      "text/markdown": [
       "1. 1465\n",
       "2. 9109\n",
       "3. 12935\n",
       "\n",
       "\n"
      ],
      "text/plain": [
       "[1]  1465  9109 12935"
      ]
     },
     "metadata": {},
     "output_type": "display_data"
    },
    {
     "data": {
      "text/html": [
       "<style>\n",
       ".list-inline {list-style: none; margin:0; padding: 0}\n",
       ".list-inline>li {display: inline-block}\n",
       ".list-inline>li:not(:last-child)::after {content: \"\\00b7\"; padding: 0 .5ex}\n",
       "</style>\n",
       "<ol class=list-inline><li>854</li><li>4685</li><li>7068</li></ol>\n"
      ],
      "text/latex": [
       "\\begin{enumerate*}\n",
       "\\item 854\n",
       "\\item 4685\n",
       "\\item 7068\n",
       "\\end{enumerate*}\n"
      ],
      "text/markdown": [
       "1. 854\n",
       "2. 4685\n",
       "3. 7068\n",
       "\n",
       "\n"
      ],
      "text/plain": [
       "[1]  854 4685 7068"
      ]
     },
     "metadata": {},
     "output_type": "display_data"
    }
   ],
   "source": [
    "txpsTreeDE <- lapply(treeDESub, function(nodes) treeCons$tip[unlist(Descendants(treeCons, nodes))])\n",
    "sapply(txpsTreeDE, length)\n",
    "mapply(function(x,y) sum(x %in% y), txpsTreeDE, dTxps)"
   ]
  },
  {
   "cell_type": "markdown",
   "id": "269cd4ec",
   "metadata": {},
   "source": [
    "#### Number of differentially expressed transcripts for both"
   ]
  },
  {
   "cell_type": "code",
   "execution_count": 8,
   "id": "8b8b1de2",
   "metadata": {},
   "outputs": [
    {
     "data": {
      "text/html": [
       "5800"
      ],
      "text/latex": [
       "5800"
      ],
      "text/markdown": [
       "5800"
      ],
      "text/plain": [
       "[1] 5800"
      ]
     },
     "metadata": {},
     "output_type": "display_data"
    },
    {
     "data": {
      "text/html": [
       "9747"
      ],
      "text/latex": [
       "9747"
      ],
      "text/markdown": [
       "9747"
      ],
      "text/plain": [
       "[1] 9747"
      ]
     },
     "metadata": {},
     "output_type": "display_data"
    },
    {
     "data": {
      "text/html": [
       "12368"
      ],
      "text/latex": [
       "12368"
      ],
      "text/markdown": [
       "12368"
      ],
      "text/plain": [
       "[1] 12368"
      ]
     },
     "metadata": {},
     "output_type": "display_data"
    },
    {
     "data": {
      "text/html": [
       "4087"
      ],
      "text/latex": [
       "4087"
      ],
      "text/markdown": [
       "4087"
      ],
      "text/plain": [
       "[1] 4087"
      ]
     },
     "metadata": {},
     "output_type": "display_data"
    },
    {
     "data": {
      "text/html": [
       "7976"
      ],
      "text/latex": [
       "7976"
      ],
      "text/markdown": [
       "7976"
      ],
      "text/plain": [
       "[1] 7976"
      ]
     },
     "metadata": {},
     "output_type": "display_data"
    },
    {
     "data": {
      "text/html": [
       "10603"
      ],
      "text/latex": [
       "10603"
      ],
      "text/markdown": [
       "10603"
      ],
      "text/plain": [
       "[1] 10603"
      ]
     },
     "metadata": {},
     "output_type": "display_data"
    }
   ],
   "source": [
    "sum(mcols(y)[treeCons$tip,\"pvalue\"] < 0.01, na.rm=T)\n",
    "sum(mcols(y)[treeCons$tip,\"pvalue\"] < 0.05, na.rm=T)\n",
    "sum(mcols(y)[treeCons$tip,\"pvalue\"] < 0.1, na.rm=T)\n",
    "\n",
    "sum(mcols(yAll)[treeCons$tip,\"pvalue\"] < 0.01, na.rm=T)\n",
    "sum(mcols(yAll)[treeCons$tip,\"pvalue\"] < 0.05, na.rm=T)\n",
    "sum(mcols(yAll)[treeCons$tip,\"pvalue\"] < 0.1, na.rm=T)"
   ]
  },
  {
   "cell_type": "code",
   "execution_count": 9,
   "id": "eeee948b",
   "metadata": {},
   "outputs": [
    {
     "data": {
      "text/html": [
       "32333"
      ],
      "text/latex": [
       "32333"
      ],
      "text/markdown": [
       "32333"
      ],
      "text/plain": [
       "[1] 32333"
      ]
     },
     "metadata": {},
     "output_type": "display_data"
    },
    {
     "data": {
      "text/html": [
       "95860"
      ],
      "text/latex": [
       "95860"
      ],
      "text/markdown": [
       "95860"
      ],
      "text/plain": [
       "[1] 95860"
      ]
     },
     "metadata": {},
     "output_type": "display_data"
    }
   ],
   "source": [
    "sum(mcols(y)[[\"keep\"]])\n",
    "sum(mcols(yAll)[[\"keep\"]])"
   ]
  }
 ],
 "metadata": {
  "kernelspec": {
   "display_name": "R",
   "language": "R",
   "name": "ir"
  },
  "language_info": {
   "codemirror_mode": "r",
   "file_extension": ".r",
   "mimetype": "text/x-r-source",
   "name": "R",
   "pygments_lexer": "r",
   "version": "4.1.1"
  }
 },
 "nbformat": 4,
 "nbformat_minor": 5
}
