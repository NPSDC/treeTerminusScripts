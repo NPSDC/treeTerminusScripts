{
 "cells": [
  {
   "cell_type": "code",
   "execution_count": null,
   "id": "74de3abf",
   "metadata": {},
   "outputs": [],
   "source": [
    "setwd('/fs/cbcb-lab/rob/students/noor/Uncertainity/treeTerminusScripts')\n",
    "suppressPackageStartupMessages(source(\"tree_helper_function.R\"))\n",
    "suppressPackageStartupMessages(source(\"tree_term_climb.R\"))\n",
    "suppressPackageStartupMessages(library(beaveR))\n",
    "\n",
    "saveDir <- \"/fs/cbcb-lab/rob/students/noor/Uncertainity/treeTerminusScripts/environment/real_datasets/GSE100505_EDL_MAST_subsamp/mode=gcbias/post_type=gibbs_nreps=100_tf=100/DE\"\n",
    "load(file.path(saveDir, \"tseCons.RData\"))"
   ]
  },
  {
   "cell_type": "code",
   "execution_count": null,
   "id": "41ab3d35",
   "metadata": {},
   "outputs": [],
   "source": [
    "system.file('extdata/brain_sim_nodtu_small_example', package='beaveR')"
   ]
  },
  {
   "cell_type": "code",
   "execution_count": null,
   "id": "84fbe165",
   "metadata": {},
   "outputs": [],
   "source": [
    "yAll <- computeSizeFactors(tseCons)\n",
    "yAll <- scaleInfReps(yAll)\n",
    "yAll <- labelKeep(yAll)\n",
    "set.seed(1)\n",
    "yAll <- swish(yAll, x = \"condition\")"
   ]
  },
  {
   "cell_type": "code",
   "execution_count": null,
   "id": "e9613147",
   "metadata": {},
   "outputs": [],
   "source": [
    "treeCons <- rowTree(tseCons)\n",
    "signs <- computeSign(yAll, \"condition\")\n",
    "print(table(signs))\n",
    "levels <- node.depth(treeCons, 2)\n",
    "levels <- ifelse(levels > 4, 5, levels)\n",
    "print(table(levels))\n",
    "print(table(signs, levels))"
   ]
  },
  {
   "cell_type": "code",
   "execution_count": 6,
   "id": "459736aa",
   "metadata": {},
   "outputs": [
    {
     "data": {
      "text/plain": [
       "DataFrame with 1 row and 8 columns\n",
       "                     meanInfRV log10mean      keep      stat    log2FC\n",
       "                     <numeric> <numeric> <logical> <numeric> <numeric>\n",
       "ENSMUST00000057438.6 0.0744576   2.53817      TRUE      17.7  0.748388\n",
       "                          pvalue    locfdr    qvalue\n",
       "                       <numeric> <numeric> <numeric>\n",
       "ENSMUST00000057438.6 0.000702587 0.0186326 0.0117192"
      ]
     },
     "metadata": {},
     "output_type": "display_data"
    }
   ],
   "source": [
    "mcols(yAll)[2,]"
   ]
  },
  {
   "cell_type": "code",
   "execution_count": 2,
   "id": "74d9f366",
   "metadata": {},
   "outputs": [],
   "source": [
    "setwd('/fs/cbcb-lab/rob/students/noor/Uncertainity/treeTerminusScripts')\n",
    "suppressPackageStartupMessages(source(\"tree_helper_function.R\"))\n",
    "suppressPackageStartupMessages(source(\"tree_term_climb.R\"))\n",
    "suppressPackageStartupMessages(library(beaveR))"
   ]
  },
  {
   "cell_type": "code",
   "execution_count": 5,
   "id": "4911c556",
   "metadata": {},
   "outputs": [],
   "source": [
    "sI <- function (y, lengthCorrect = TRUE, meanDepth = NULL, sfFun = NULL, \n",
    "    minCount = 10, minN = 3, saveMeanScaled = FALSE, quiet = FALSE) \n",
    "{\n",
    "    if (!interactive()) {\n",
    "        quiet <- TRUE\n",
    "    }\n",
    "    if (!is.null(metadata(y)$infRepsScaled)) {\n",
    "        if (metadata(y)$infRepsScaled) \n",
    "            stop(\"inferential replicates already scaled\")\n",
    "    }\n",
    "    infRepIdx <- grep(\"infRep\", assayNames(y))\n",
    "    infReps <- assays(y)[infRepIdx]\n",
    "    sfs <- matrix(0, ncol=ncol(y), nrow=length(infReps))\n",
    "    counts <- assays(y)[[\"counts\"]]\n",
    "    length <- assays(y)[[\"length\"]]\n",
    "    nreps <- length(infReps)\n",
    "    if (is.null(meanDepth) & !is(sfFun, \"numeric\")) {\n",
    "        meanDepth <- exp(mean(log(colSums(counts))))\n",
    "    }\n",
    "    \n",
    "    means <- matrix(nrow = nrow(y), ncol = nreps)\n",
    "    if (is.null(length)) {\n",
    "        if (lengthCorrect) {\n",
    "            if (!quiet) \n",
    "                message(\"not correcting for feature length (lengthCorrect=FALSE)\")\n",
    "        }\n",
    "        lengthCorrect <- FALSE\n",
    "    }\n",
    "#     for (k in seq_len(nreps)) {\n",
    "    for (k in seq(5)) {\n",
    "        if (!quiet) \n",
    "            svMisc::progress(k, max.value = nreps, init = (k == \n",
    "                1), gui = FALSE)\n",
    "        if (lengthCorrect) {\n",
    "            length <- length/exp(rowMeans(log(length)))\n",
    "            cts <- infReps[[k]]/length\n",
    "        }\n",
    "        else {\n",
    "            cts <- infReps[[k]]\n",
    "        }\n",
    "        if (!is(sfFun, \"numeric\")) {\n",
    "#             print(cts[1,1:5])\n",
    "            print(dim(cts))\n",
    "            print(paste(colSums(cts), meanDepth))\n",
    "            cts <- t(t(cts)/colSums(cts)) * meanDepth\n",
    "            use <- rowSums(infReps[[k]] >= minCount) >= minN\n",
    "            print(cts[1,1:5])\n",
    "#             print(sum(use))\n",
    "            \n",
    "            if (is.null(sfFun)) {\n",
    "                loggeomeans <- rowMeans(log(cts[use, ]))\n",
    "                sf <- apply(cts[use, ], 2, function(s) {\n",
    "                  exp(median((log(s) - loggeomeans)[is.finite(loggeomeans)]))\n",
    "                })\n",
    "            }\n",
    "            else if (is(sfFun, \"function\")) {\n",
    "                sf <- sfFun(cts)\n",
    "            }\n",
    "        }\n",
    "        else {\n",
    "            sf <- sfFun\n",
    "        }\n",
    "        sfs[k,] <- sf\n",
    "        infReps[[k]] <- t(t(cts)/sf)\n",
    "        means[, k] <- rowMeans(infReps[[k]])\n",
    "    }\n",
    "    if (!quiet) \n",
    "        message(\"\")\n",
    "    assays(y)[grep(\"infRep\", assayNames(y))] <- infReps\n",
    "    mcols(y)$log10mean <- log10(rowMeans(means) + 1)\n",
    "    metadata(y)$infRepsScaled <- TRUE\n",
    "    if (saveMeanScaled) {\n",
    "        infRepsArray <- abind::abind(as.list(infReps), along = 3)\n",
    "        meanScaled <- apply(infRepsArray, 1:2, mean)\n",
    "        assays(y)[[\"meanScaled\"]] <- meanScaled\n",
    "    }\n",
    "    sfs\n",
    "}\n"
   ]
  },
  {
   "cell_type": "code",
   "execution_count": 6,
   "id": "c723eec5",
   "metadata": {},
   "outputs": [
    {
     "ename": "ERROR",
     "evalue": "Error in h(simpleError(msg, call)): error in evaluating the argument 'x' in selecting a method for function 'metadata': object 'tse' not found\n",
     "output_type": "error",
     "traceback": [
      "Error in h(simpleError(msg, call)): error in evaluating the argument 'x' in selecting a method for function 'metadata': object 'tse' not found\nTraceback:\n",
      "1. sI(tse[1:l, ])",
      "2. metadata(y)   # at line 7-10 of file <text>",
      "3. .handleSimpleError(function (cond) \n . .Internal(C_tryCatchHelper(addr, 1L, cond)), \"object 'tse' not found\", \n .     base::quote(metadata(y)))   # at line 7-10 of file <text>",
      "4. h(simpleError(msg, call))"
     ]
    }
   ],
   "source": [
    "ss <- sI(y)"
   ]
  },
  {
   "cell_type": "code",
   "execution_count": null,
   "id": "737b4c58",
   "metadata": {},
   "outputs": [],
   "source": []
  }
 ],
 "metadata": {
  "kernelspec": {
   "display_name": "R",
   "language": "R",
   "name": "ir"
  },
  "language_info": {
   "codemirror_mode": "r",
   "file_extension": ".r",
   "mimetype": "text/x-r-source",
   "name": "R",
   "pygments_lexer": "r",
   "version": "4.1.1"
  }
 },
 "nbformat": 4,
 "nbformat_minor": 5
}
