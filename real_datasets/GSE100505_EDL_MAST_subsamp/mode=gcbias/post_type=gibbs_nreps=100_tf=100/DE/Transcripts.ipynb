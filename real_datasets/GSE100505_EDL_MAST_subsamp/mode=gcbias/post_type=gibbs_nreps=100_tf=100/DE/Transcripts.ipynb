{
 "cells": [
  {
   "cell_type": "markdown",
   "id": "ddaf313f",
   "metadata": {},
   "source": [
    "### Loading Dataset"
   ]
  },
  {
   "cell_type": "code",
   "execution_count": 2,
   "id": "7a0ba1f3",
   "metadata": {},
   "outputs": [],
   "source": [
    "setwd('/fs/cbcb-lab/rob/students/noor/Uncertainity/treeTerminusScripts')\n",
    "suppressPackageStartupMessages(source(\"tree_helper_function.R\"))\n",
    "suppressPackageStartupMessages(source(\"tree_term_climb.R\"))\n",
    "suppressPackageStartupMessages(library(beaveR))\n",
    "\n",
    "saveDir <- \"/fs/cbcb-lab/rob/students/noor/Uncertainity/treeTerminusScripts/environment/real_datasets/GSE100505_EDL_MAST_subsamp/mode=gcbias/post_type=gibbs_nreps=100_tf=100/DE\"\n",
    "load(file.path(saveDir, \"tseCons.RData\"))"
   ]
  },
  {
   "cell_type": "code",
   "execution_count": 3,
   "id": "ce1a28b7",
   "metadata": {},
   "outputs": [
    {
     "name": "stderr",
     "output_type": "stream",
     "text": [
      "importing quantifications\n",
      "\n",
      "reading in files with read_tsv\n",
      "\n",
      "1 \n",
      "2 \n",
      "3 \n",
      "4 \n",
      "5 \n",
      "6 \n",
      "7 \n",
      "8 \n",
      "9 \n",
      "10 \n",
      "11 \n",
      "12 \n",
      "\n",
      "\n",
      "found matching transcriptome:\n",
      "[ GENCODE - Mus musculus - release M25 ]\n",
      "\n",
      "loading existing TxDb created: 2023-02-17 18:26:37\n",
      "\n",
      "Loading required package: GenomicFeatures\n",
      "\n",
      "Loading required package: AnnotationDbi\n",
      "\n",
      "loading existing transcript ranges created: 2023-02-17 18:26:39\n",
      "\n",
      "fetching genome info for GENCODE\n",
      "\n"
     ]
    }
   ],
   "source": [
    "treeCons <- rowTree(tseCons)\n",
    "l <- length(treeCons$tip)\n",
    "\n",
    "quantDir <- \"/fs/cbcb-lab/rob/students/noor/Uncertainity/real_datasets/GSE100505_EDL_MAST_subsamp/sal_out/mode_gcbias=True/posttype=gibbs_npost=100_tf=100\"\n",
    "metaData <- read.delim(\"/fs/cbcb-lab/rob/students/noor/Uncertainity/real_datasets/GSE100505_EDL_MAST/SRR_Acc_List.txt\")\n",
    "samples <- metaData$RUN\n",
    "files <- file.path(quantDir, samples, \"quant.sf\")\n",
    "colData <- cbind(data.frame(files = files, names = samples), condition = as.factor(metaData$TissueName))\n",
    "seMuscle <- tximeta::tximeta(colData)"
   ]
  },
  {
   "cell_type": "code",
   "execution_count": 4,
   "id": "9ea6bcda",
   "metadata": {},
   "outputs": [],
   "source": [
    "y <- fishpond::scaleInfReps(seMuscle)\n",
    "y <- labelKeep(y)\n",
    "set.seed(1)\n",
    "y <- swish(y, x=\"condition\")"
   ]
  },
  {
   "cell_type": "code",
   "execution_count": 5,
   "id": "6892f532",
   "metadata": {},
   "outputs": [
    {
     "name": "stderr",
     "output_type": "stream",
     "text": [
      "Setting inf rep depth to mean depth\n",
      "\n"
     ]
    },
    {
     "name": "stdout",
     "output_type": "stream",
     "text": [
      "Progress:   1 on 100Progress:   2 on 100Progress:   3 on 100Progress:   4 on 100Progress:   5 on 100Progress:   6 on 100Progress:   7 on 100Progress:   8 on 100Progress:   9 on 100Progress:  10 on 100Progress:  11 on 100Progress:  12 on 100Progress:  13 on 100Progress:  14 on 100Progress:  15 on 100Progress:  16 on 100Progress:  17 on 100Progress:  18 on 100Progress:  19 on 100Progress:  20 on 100Progress:  21 on 100Progress:  22 on 100Progress:  23 on 100Progress:  24 on 100Progress:  25 on 100Progress:  26 on 100Progress:  27 on 100Progress:  28 on 100Progress:  29 on 100Progress:  30 on 100Progress:  31 on 100Progress:  32 on 100Progress:  33 on 100Progress:  34 on 100Progress:  35 on 100Progress:  36 on 100Progress:  37 on 100Progress:  38 on 100Progress:  39 on 100Progress:  40 on 100Progress:  41 on 100Progress:  42 on 100Progress:  43 on 100Progress:  44 on 100Progress:  45 on 100Progress:  46 on 100Progress:  47 on 100Progress:  48 on 100Progress:  49 on 100Progress:  50 on 100Progress:  51 on 100Progress:  52 on 100Progress:  53 on 100Progress:  54 on 100Progress:  55 on 100Progress:  56 on 100Progress:  57 on 100Progress:  58 on 100Progress:  59 on 100Progress:  60 on 100Progress:  61 on 100Progress:  62 on 100Progress:  63 on 100Progress:  64 on 100Progress:  65 on 100Progress:  66 on 100Progress:  67 on 100Progress:  68 on 100Progress:  69 on 100Progress:  70 on 100Progress:  71 on 100Progress:  72 on 100Progress:  73 on 100Progress:  74 on 100Progress:  75 on 100Progress:  76 on 100Progress:  77 on 100Progress:  78 on 100Progress:  79 on 100Progress:  80 on 100Progress:  81 on 100Progress:  82 on 100Progress:  83 on 100Progress:  84 on 100Progress:  85 on 100Progress:  86 on 100Progress:  87 on 100Progress:  88 on 100Progress:  89 on 100Progress:  90 on 100Progress:  91 on 100Progress:  92 on 100Progress:  93 on 100Progress:  94 on 100Progress:  95 on 100Progress:  96 on 100Progress:  97 on 100Progress:  98 on 100Progress:  99 on 100Progress: 100 on 100  "
     ]
    },
    {
     "name": "stderr",
     "output_type": "stream",
     "text": [
      "\n",
      "\n"
     ]
    },
    {
     "data": {
      "text/html": [
       "95860"
      ],
      "text/latex": [
       "95860"
      ],
      "text/markdown": [
       "95860"
      ],
      "text/plain": [
       "[1] 95860"
      ]
     },
     "metadata": {},
     "output_type": "display_data"
    }
   ],
   "source": [
    "yAll <- computeSizeFactors(tseCons)\n",
    "yAll <- scaleInfReps(yAll)\n",
    "yAll <- labelKeep(yAll)\n",
    "set.seed(1)\n",
    "yAll <- swish(yAll, x=\"condition\")\n",
    "sum(mcols(yAll)[[\"keep\"]])"
   ]
  },
  {
   "cell_type": "markdown",
   "id": "c7d1d885",
   "metadata": {},
   "source": [
    "#### Finding differentially expressed transcripts on the subsampled dataset"
   ]
  },
  {
   "cell_type": "code",
   "execution_count": 9,
   "id": "d35dc578",
   "metadata": {},
   "outputs": [
    {
     "data": {
      "text/html": [
       "<style>\n",
       ".list-inline {list-style: none; margin:0; padding: 0}\n",
       ".list-inline>li {display: inline-block}\n",
       ".list-inline>li:not(:last-child)::after {content: \"\\00b7\"; padding: 0 .5ex}\n",
       "</style>\n",
       "<ol class=list-inline><li>2753</li><li>5540</li><li>7696</li></ol>\n"
      ],
      "text/latex": [
       "\\begin{enumerate*}\n",
       "\\item 2753\n",
       "\\item 5540\n",
       "\\item 7696\n",
       "\\end{enumerate*}\n"
      ],
      "text/markdown": [
       "1. 2753\n",
       "2. 5540\n",
       "3. 7696\n",
       "\n",
       "\n"
      ],
      "text/plain": [
       "[1] 2753 5540 7696"
      ]
     },
     "metadata": {},
     "output_type": "display_data"
    }
   ],
   "source": [
    "dTxpsSub <- lapply(c(0.01,0.05,0.1), function(x) rownames(y)[which(mcols(y)[[\"qvalue\"]] <= x)])\n",
    "sapply(dTxpsSub, length)"
   ]
  },
  {
   "cell_type": "code",
   "execution_count": 10,
   "id": "8449f533",
   "metadata": {},
   "outputs": [
    {
     "data": {
      "text/html": [
       "<style>\n",
       ".list-inline {list-style: none; margin:0; padding: 0}\n",
       ".list-inline>li {display: inline-block}\n",
       ".list-inline>li:not(:last-child)::after {content: \"\\00b7\"; padding: 0 .5ex}\n",
       "</style>\n",
       "<ol class=list-inline><li>2398</li><li>4529</li><li>5961</li></ol>\n"
      ],
      "text/latex": [
       "\\begin{enumerate*}\n",
       "\\item 2398\n",
       "\\item 4529\n",
       "\\item 5961\n",
       "\\end{enumerate*}\n"
      ],
      "text/markdown": [
       "1. 2398\n",
       "2. 4529\n",
       "3. 5961\n",
       "\n",
       "\n"
      ],
      "text/plain": [
       "[1] 2398 4529 5961"
      ]
     },
     "metadata": {},
     "output_type": "display_data"
    }
   ],
   "source": [
    "mapDf <- rowData(seMuscle)\n",
    "txpGenes <- lapply(dTxpsSub, function(txps) unique(unlist(mapDf[txps, \"gene_id\"])))##Genes that map to transcripts\n",
    "sapply(txpGenes, length)"
   ]
  },
  {
   "cell_type": "markdown",
   "id": "cf27d2c2",
   "metadata": {},
   "source": [
    "#### Finding differentially expressed genes on the subsampled dataset"
   ]
  },
  {
   "cell_type": "code",
   "execution_count": 13,
   "id": "20ad0052",
   "metadata": {},
   "outputs": [
    {
     "name": "stderr",
     "output_type": "stream",
     "text": [
      "loading existing TxDb created: 2023-02-17 18:26:37\n",
      "\n",
      "obtaining transcript-to-gene mapping from database\n",
      "\n"
     ]
    },
    {
     "ename": "ERROR",
     "evalue": "Error: database or disk is full\n",
     "output_type": "error",
     "traceback": [
      "Error: database or disk is full\nTraceback:\n",
      "1. summarizeToGene(seMuscle)",
      "2. summarizeToGene(seMuscle)",
      "3. .local(object, ...)",
      "4. suppressMessages({\n .     tx2gene <- select(txdb, keys(txdb, \"TXNAME\"), \"GENEID\", \"TXNAME\")\n . })",
      "5. withCallingHandlers(expr, message = function(c) if (inherits(c, \n .     classes)) tryInvokeRestart(\"muffleMessage\"))",
      "6. select(txdb, keys(txdb, \"TXNAME\"), \"GENEID\", \"TXNAME\")",
      "7. select(txdb, keys(txdb, \"TXNAME\"), \"GENEID\", \"TXNAME\")",
      "8. .select(x, keys, columns, keytype, ...)",
      "9. testSelectArgs(x, keys = keys, cols = columns, keytype = keytype, \n .     skipValidKeysTest = skipValidKeysTest)",
      "10. .testForValidKeys(x, keys, keytype, fks)",
      "11. keys(txdb, \"TXNAME\")",
      "12. keys(txdb, \"TXNAME\")",
      "13. AnnotationDbi:::smartKeys(x = x, keytype = keytype, ..., FUN = .keys)",
      "14. .keys(x, keytype)",
      "15. AnnotationDbi:::dbQuery(dbconn(x), \"SELECT DISTINCT tx_name FROM transcript\", \n  .     1L)",
      "16. dbGetQuery(conn, SQL)",
      "17. dbGetQuery(conn, SQL)",
      "18. .local(conn, statement, ...)",
      "19. dbFetch(rs, n = n, ...)",
      "20. dbFetch(rs, n = n, ...)",
      "21. .local(res, n, ...)",
      "22. result_fetch(res@ptr, n = n)"
     ]
    }
   ],
   "source": [
    "gse <- summarizeToGene(seMuscle)\n",
    "yg <- fishpond::scaleInfReps(gse)\n",
    "yg <- labelKeep(yg)\n",
    "set.seed(1)\n",
    "yg <- swish(yg, x=\"condition\")"
   ]
  },
  {
   "cell_type": "code",
   "execution_count": 9,
   "id": "7f382271",
   "metadata": {},
   "outputs": [
    {
     "data": {
      "text/html": [
       "<style>\n",
       ".list-inline {list-style: none; margin:0; padding: 0}\n",
       ".list-inline>li {display: inline-block}\n",
       ".list-inline>li:not(:last-child)::after {content: \"\\00b7\"; padding: 0 .5ex}\n",
       "</style>\n",
       "<ol class=list-inline><li>1933</li><li>3553</li><li>4890</li></ol>\n"
      ],
      "text/latex": [
       "\\begin{enumerate*}\n",
       "\\item 1933\n",
       "\\item 3553\n",
       "\\item 4890\n",
       "\\end{enumerate*}\n"
      ],
      "text/markdown": [
       "1. 1933\n",
       "2. 3553\n",
       "3. 4890\n",
       "\n",
       "\n"
      ],
      "text/plain": [
       "[1] 1933 3553 4890"
      ]
     },
     "metadata": {},
     "output_type": "display_data"
    }
   ],
   "source": [
    "dgesSub <- lapply(c(0.01,0.05,0.1), function(x) rownames(yg)[which(mcols(yg)[[\"qvalue\"]] <= x)])\n",
    "sapply(dgesSub, length)"
   ]
  },
  {
   "cell_type": "code",
   "execution_count": 16,
   "id": "8e5e4082",
   "metadata": {},
   "outputs": [],
   "source": [
    "envMain <- \"environment/real_datasets/GSE100505_EDL_MAST/mode_gcbias=True/posttype=gibbs_npost=100_tf=100/DE\"\n",
    "load(file.path(envMain, \"dTxps.RData\"))\n",
    "load(file.path(envMain, \"dges.RData\"))"
   ]
  },
  {
   "cell_type": "markdown",
   "id": "d18c66cd",
   "metadata": {},
   "source": [
    "#### TreeDE, with the total number of nodes, inner nodes and their height distribution"
   ]
  },
  {
   "cell_type": "code",
   "execution_count": 14,
   "id": "c3ca2e97",
   "metadata": {},
   "outputs": [
    {
     "data": {
      "text/html": [
       "<style>\n",
       ".list-inline {list-style: none; margin:0; padding: 0}\n",
       ".list-inline>li {display: inline-block}\n",
       ".list-inline>li:not(:last-child)::after {content: \"\\00b7\"; padding: 0 .5ex}\n",
       "</style>\n",
       "<ol class=list-inline><li>804</li><li>5269</li><li>7787</li></ol>\n"
      ],
      "text/latex": [
       "\\begin{enumerate*}\n",
       "\\item 804\n",
       "\\item 5269\n",
       "\\item 7787\n",
       "\\end{enumerate*}\n"
      ],
      "text/markdown": [
       "1. 804\n",
       "2. 5269\n",
       "3. 7787\n",
       "\n",
       "\n"
      ],
      "text/plain": [
       "[1]  804 5269 7787"
      ]
     },
     "metadata": {},
     "output_type": "display_data"
    },
    {
     "data": {
      "text/html": [
       "<style>\n",
       ".list-inline {list-style: none; margin:0; padding: 0}\n",
       ".list-inline>li {display: inline-block}\n",
       ".list-inline>li:not(:last-child)::after {content: \"\\00b7\"; padding: 0 .5ex}\n",
       "</style>\n",
       "<ol class=list-inline><li>333</li><li>2018</li><li>2749</li></ol>\n"
      ],
      "text/latex": [
       "\\begin{enumerate*}\n",
       "\\item 333\n",
       "\\item 2018\n",
       "\\item 2749\n",
       "\\end{enumerate*}\n"
      ],
      "text/markdown": [
       "1. 333\n",
       "2. 2018\n",
       "3. 2749\n",
       "\n",
       "\n"
      ],
      "text/plain": [
       "[1]  333 2018 2749"
      ]
     },
     "metadata": {},
     "output_type": "display_data"
    },
    {
     "data": {
      "text/plain": [
       "[[1]]\n",
       "\n",
       "  1   2   3   4   5   6   7   8   9 \n",
       "471 174  87  35  18  11   2   3   3 \n",
       "\n",
       "[[2]]\n",
       "\n",
       "   1    2    3    4    5    6    7    8    9   10   11   12 \n",
       "3251 1087  531  195  106   54   22   12    7    1    2    1 \n",
       "\n",
       "[[3]]\n",
       "\n",
       "   1    2    3    4    5    6    7    8    9   10   11   12   15 \n",
       "5038 1535  678  268  144   67   24   15   10    2    4    1    1 \n"
      ]
     },
     "metadata": {},
     "output_type": "display_data"
    }
   ],
   "source": [
    "load(file.path(saveDir, \"tAfterBHMoreClimbMIRV.RData\"))\n",
    "treeDESub <- tAfterBHMoreClimbMIRV[[1]]\n",
    "sapply(treeDESub, length) ## number of differentially expressed nodes\n",
    "sapply(treeDESub, function(nodes) sum(nodes > l)) ## number of inner nodes\n",
    "lapply(treeDESub, function(nodes) table(node.depth(treeCons,2)[nodes])) ## Distribution of node heights"
   ]
  },
  {
   "cell_type": "code",
   "execution_count": 17,
   "id": "1eea3200",
   "metadata": {},
   "outputs": [
    {
     "data": {
      "text/html": [
       "<style>\n",
       ".list-inline {list-style: none; margin:0; padding: 0}\n",
       ".list-inline>li {display: inline-block}\n",
       ".list-inline>li:not(:last-child)::after {content: \"\\00b7\"; padding: 0 .5ex}\n",
       "</style>\n",
       "<ol class=list-inline><li>2486</li><li>4990</li><li>7007</li></ol>\n"
      ],
      "text/latex": [
       "\\begin{enumerate*}\n",
       "\\item 2486\n",
       "\\item 4990\n",
       "\\item 7007\n",
       "\\end{enumerate*}\n"
      ],
      "text/markdown": [
       "1. 2486\n",
       "2. 4990\n",
       "3. 7007\n",
       "\n",
       "\n"
      ],
      "text/plain": [
       "[1] 2486 4990 7007"
      ]
     },
     "metadata": {},
     "output_type": "display_data"
    },
    {
     "data": {
      "text/html": [
       "<style>\n",
       ".list-inline {list-style: none; margin:0; padding: 0}\n",
       ".list-inline>li {display: inline-block}\n",
       ".list-inline>li:not(:last-child)::after {content: \"\\00b7\"; padding: 0 .5ex}\n",
       "</style>\n",
       "<ol class=list-inline><li>898</li><li>1794</li><li>2634</li></ol>\n"
      ],
      "text/latex": [
       "\\begin{enumerate*}\n",
       "\\item 898\n",
       "\\item 1794\n",
       "\\item 2634\n",
       "\\end{enumerate*}\n"
      ],
      "text/markdown": [
       "1. 898\n",
       "2. 1794\n",
       "3. 2634\n",
       "\n",
       "\n"
      ],
      "text/plain": [
       "[1]  898 1794 2634"
      ]
     },
     "metadata": {},
     "output_type": "display_data"
    },
    {
     "data": {
      "text/html": [
       "<style>\n",
       ".list-inline {list-style: none; margin:0; padding: 0}\n",
       ".list-inline>li {display: inline-block}\n",
       ".list-inline>li:not(:last-child)::after {content: \"\\00b7\"; padding: 0 .5ex}\n",
       "</style>\n",
       "<ol class=list-inline><li>949</li><li>3314</li><li>4580</li></ol>\n"
      ],
      "text/latex": [
       "\\begin{enumerate*}\n",
       "\\item 949\n",
       "\\item 3314\n",
       "\\item 4580\n",
       "\\end{enumerate*}\n"
      ],
      "text/markdown": [
       "1. 949\n",
       "2. 3314\n",
       "3. 4580\n",
       "\n",
       "\n"
      ],
      "text/plain": [
       "[1]  949 3314 4580"
      ]
     },
     "metadata": {},
     "output_type": "display_data"
    },
    {
     "data": {
      "text/html": [
       "<style>\n",
       ".list-inline {list-style: none; margin:0; padding: 0}\n",
       ".list-inline>li {display: inline-block}\n",
       ".list-inline>li:not(:last-child)::after {content: \"\\00b7\"; padding: 0 .5ex}\n",
       "</style>\n",
       "<ol class=list-inline><li>55</li><li>1362</li><li>1629</li></ol>\n"
      ],
      "text/latex": [
       "\\begin{enumerate*}\n",
       "\\item 55\n",
       "\\item 1362\n",
       "\\item 1629\n",
       "\\end{enumerate*}\n"
      ],
      "text/markdown": [
       "1. 55\n",
       "2. 1362\n",
       "3. 1629\n",
       "\n",
       "\n"
      ],
      "text/plain": [
       "[1]   55 1362 1629"
      ]
     },
     "metadata": {},
     "output_type": "display_data"
    }
   ],
   "source": [
    "### Intersection for transcripts and genes between subsampled and original dataset\n",
    "commTxps <- sapply(seq_along(dTxps), function(i) intersect(dTxps[[i]], dTxpsSub[[i]]))\n",
    "sapply(commTxps, length)\n",
    "diffTxps <- sapply(seq_along(dTxps), function(i) setdiff(dTxps[[i]], dTxpsSub[[i]]))\n",
    "sapply(diffTxps, length)\n",
    "                   \n",
    "commGenes <- sapply(seq_along(dges), function(i) intersect(dges[[i]], dgesSub[[i]]))\n",
    "sapply(commGenes, length)\n",
    "diffGenes <- sapply(seq_along(dges), function(i) setdiff(dges[[i]], dgesSub[[i]]))\n",
    "sapply(diffGenes, length)"
   ]
  },
  {
   "cell_type": "code",
   "execution_count": 18,
   "id": "63110779",
   "metadata": {},
   "outputs": [
    {
     "data": {
      "text/html": [
       "<style>\n",
       ".list-inline {list-style: none; margin:0; padding: 0}\n",
       ".list-inline>li {display: inline-block}\n",
       ".list-inline>li:not(:last-child)::after {content: \"\\00b7\"; padding: 0 .5ex}\n",
       "</style>\n",
       "<ol class=list-inline><li>2486</li><li>4990</li><li>7007</li></ol>\n"
      ],
      "text/latex": [
       "\\begin{enumerate*}\n",
       "\\item 2486\n",
       "\\item 4990\n",
       "\\item 7007\n",
       "\\end{enumerate*}\n"
      ],
      "text/markdown": [
       "1. 2486\n",
       "2. 4990\n",
       "3. 7007\n",
       "\n",
       "\n"
      ],
      "text/plain": [
       "[1] 2486 4990 7007"
      ]
     },
     "metadata": {},
     "output_type": "display_data"
    },
    {
     "data": {
      "text/html": [
       "<style>\n",
       ".list-inline {list-style: none; margin:0; padding: 0}\n",
       ".list-inline>li {display: inline-block}\n",
       ".list-inline>li:not(:last-child)::after {content: \"\\00b7\"; padding: 0 .5ex}\n",
       "</style>\n",
       "<ol class=list-inline><li>898</li><li>1794</li><li>2634</li></ol>\n"
      ],
      "text/latex": [
       "\\begin{enumerate*}\n",
       "\\item 898\n",
       "\\item 1794\n",
       "\\item 2634\n",
       "\\end{enumerate*}\n"
      ],
      "text/markdown": [
       "1. 898\n",
       "2. 1794\n",
       "3. 2634\n",
       "\n",
       "\n"
      ],
      "text/plain": [
       "[1]  898 1794 2634"
      ]
     },
     "metadata": {},
     "output_type": "display_data"
    }
   ],
   "source": [
    "commTxps <- sapply(seq_along(dTxps), function(i) intersect(dTxps[[i]], dTxpsSub[[i]]))\n",
    "sapply(commTxps, length)\n",
    "diffTxps <- sapply(seq_along(dTxps), function(i) setdiff(dTxps[[i]], dTxpsSub[[i]]))\n",
    "sapply(diffTxps, length)"
   ]
  },
  {
   "cell_type": "markdown",
   "id": "325383dc",
   "metadata": {},
   "source": [
    "#### Number of differential transcripts in the original data mapped by the treeDE on the subsampled data"
   ]
  },
  {
   "cell_type": "code",
   "execution_count": 41,
   "id": "c58d5a09",
   "metadata": {},
   "outputs": [
    {
     "data": {
      "text/html": [
       "<style>\n",
       ".list-inline {list-style: none; margin:0; padding: 0}\n",
       ".list-inline>li {display: inline-block}\n",
       ".list-inline>li:not(:last-child)::after {content: \"\\00b7\"; padding: 0 .5ex}\n",
       "</style>\n",
       "<ol class=list-inline><li>1462</li><li>9115</li><li>12929</li></ol>\n"
      ],
      "text/latex": [
       "\\begin{enumerate*}\n",
       "\\item 1462\n",
       "\\item 9115\n",
       "\\item 12929\n",
       "\\end{enumerate*}\n"
      ],
      "text/markdown": [
       "1. 1462\n",
       "2. 9115\n",
       "3. 12929\n",
       "\n",
       "\n"
      ],
      "text/plain": [
       "[1]  1462  9115 12929"
      ]
     },
     "metadata": {},
     "output_type": "display_data"
    },
    {
     "data": {
      "text/html": [
       "<style>\n",
       ".list-inline {list-style: none; margin:0; padding: 0}\n",
       ".list-inline>li {display: inline-block}\n",
       ".list-inline>li:not(:last-child)::after {content: \"\\00b7\"; padding: 0 .5ex}\n",
       "</style>\n",
       "<ol class=list-inline><li>850</li><li>4687</li><li>7053</li></ol>\n"
      ],
      "text/latex": [
       "\\begin{enumerate*}\n",
       "\\item 850\n",
       "\\item 4687\n",
       "\\item 7053\n",
       "\\end{enumerate*}\n"
      ],
      "text/markdown": [
       "1. 850\n",
       "2. 4687\n",
       "3. 7053\n",
       "\n",
       "\n"
      ],
      "text/plain": [
       "[1]  850 4687 7053"
      ]
     },
     "metadata": {},
     "output_type": "display_data"
    }
   ],
   "source": [
    "txpsTreeDE <- lapply(treeDESub, function(nodes) treeCons$tip[unlist(Descendants(treeCons, nodes))])\n",
    "sapply(txpsTreeDE, length)\n",
    "mapply(function(x,y) sum(x %in% y), txpsTreeDE, dTxps)"
   ]
  },
  {
   "cell_type": "code",
   "execution_count": null,
   "id": "2e6be1a7",
   "metadata": {},
   "outputs": [],
   "source": []
  },
  {
   "cell_type": "code",
   "execution_count": 22,
   "id": "31301aed",
   "metadata": {},
   "outputs": [
    {
     "data": {
      "text/html": [
       "463"
      ],
      "text/latex": [
       "463"
      ],
      "text/markdown": [
       "463"
      ],
      "text/plain": [
       "[1] 463"
      ]
     },
     "metadata": {},
     "output_type": "display_data"
    }
   ],
   "source": [
    "children <- Descendants(treeCons, l+1, \"children\")\n",
    "length(intersect(treeCons$tip[children[children < l]], dTxps[[1]]))"
   ]
  },
  {
   "cell_type": "markdown",
   "id": "987b2f51",
   "metadata": {},
   "source": [
    "We get less intersection between treeDE nodes and original txps compared to DE between txps and "
   ]
  },
  {
   "cell_type": "markdown",
   "id": "c844cc2f",
   "metadata": {},
   "source": [
    "#### Genes mapping to the differentially expressed inner nodes for the subsampled dataset"
   ]
  },
  {
   "cell_type": "code",
   "execution_count": 20,
   "id": "e4c7f600",
   "metadata": {},
   "outputs": [
    {
     "data": {
      "text/html": [
       "<style>\n",
       ".list-inline {list-style: none; margin:0; padding: 0}\n",
       ".list-inline>li {display: inline-block}\n",
       ".list-inline>li:not(:last-child)::after {content: \"\\00b7\"; padding: 0 .5ex}\n",
       "</style>\n",
       "<ol class=list-inline><li>752</li><li>4602</li><li>6444</li></ol>\n"
      ],
      "text/latex": [
       "\\begin{enumerate*}\n",
       "\\item 752\n",
       "\\item 4602\n",
       "\\item 6444\n",
       "\\end{enumerate*}\n"
      ],
      "text/markdown": [
       "1. 752\n",
       "2. 4602\n",
       "3. 6444\n",
       "\n",
       "\n"
      ],
      "text/plain": [
       "[1]  752 4602 6444"
      ]
     },
     "metadata": {},
     "output_type": "display_data"
    },
    {
     "data": {
      "text/html": [
       "<style>\n",
       ".list-inline {list-style: none; margin:0; padding: 0}\n",
       ".list-inline>li {display: inline-block}\n",
       ".list-inline>li:not(:last-child)::after {content: \"\\00b7\"; padding: 0 .5ex}\n",
       "</style>\n",
       "<ol class=list-inline><li>603</li><li>3346</li><li>4730</li></ol>\n"
      ],
      "text/latex": [
       "\\begin{enumerate*}\n",
       "\\item 603\n",
       "\\item 3346\n",
       "\\item 4730\n",
       "\\end{enumerate*}\n"
      ],
      "text/markdown": [
       "1. 603\n",
       "2. 3346\n",
       "3. 4730\n",
       "\n",
       "\n"
      ],
      "text/plain": [
       "[1]  603 3346 4730"
      ]
     },
     "metadata": {},
     "output_type": "display_data"
    }
   ],
   "source": [
    "genesInnerNodesSub <- lapply(treeDESub, function(nodes) unique(unlist(mapDf[treeCons$tip[unique(unlist(Descendants(treeCons, nodes)))], \"gene_id\"])))\n",
    "sapply(genesInnerNodesSub, length) ## Number of genes mapping to inner nodes\n",
    "                             \n",
    "sapply(mapply(function(x,y) intersect(unlist(x), y), genesInnerNodesSub, dges), length)"
   ]
  },
  {
   "cell_type": "code",
   "execution_count": null,
   "id": "68aca477",
   "metadata": {},
   "outputs": [],
   "source": [
    "genesInnerNodesSub <- lapply(treeDESub, function(nodes) unique(unlist(mapDf[treeCons$tip[unique(unlist(Descendants(treeCons, nodes)))], \"gene_id\"])))\n",
    "sapply(genesInnerNodesSub, length) ## Number of genes mapping to inner nodes"
   ]
  },
  {
   "cell_type": "code",
   "execution_count": 42,
   "id": "3fff6e5a",
   "metadata": {},
   "outputs": [
    {
     "data": {
      "text/html": [
       "32333"
      ],
      "text/latex": [
       "32333"
      ],
      "text/markdown": [
       "32333"
      ],
      "text/plain": [
       "[1] 32333"
      ]
     },
     "metadata": {},
     "output_type": "display_data"
    },
    {
     "data": {
      "text/html": [
       "95860"
      ],
      "text/latex": [
       "95860"
      ],
      "text/markdown": [
       "95860"
      ],
      "text/plain": [
       "[1] 95860"
      ]
     },
     "metadata": {},
     "output_type": "display_data"
    },
    {
     "data": {
      "text/html": [
       "12368"
      ],
      "text/latex": [
       "12368"
      ],
      "text/markdown": [
       "12368"
      ],
      "text/plain": [
       "[1] 12368"
      ]
     },
     "metadata": {},
     "output_type": "display_data"
    },
    {
     "data": {
      "text/html": [
       "10627"
      ],
      "text/latex": [
       "10627"
      ],
      "text/markdown": [
       "10627"
      ],
      "text/plain": [
       "[1] 10627"
      ]
     },
     "metadata": {},
     "output_type": "display_data"
    },
    {
     "data": {
      "text/html": [
       "5800"
      ],
      "text/latex": [
       "5800"
      ],
      "text/markdown": [
       "5800"
      ],
      "text/plain": [
       "[1] 5800"
      ]
     },
     "metadata": {},
     "output_type": "display_data"
    },
    {
     "data": {
      "text/html": [
       "4069"
      ],
      "text/latex": [
       "4069"
      ],
      "text/markdown": [
       "4069"
      ],
      "text/plain": [
       "[1] 4069"
      ]
     },
     "metadata": {},
     "output_type": "display_data"
    },
    {
     "data": {
      "text/plain": [
       "DataFrame with 6 rows and 3 columns\n",
       "                     log10mean      pvalue      qvalue\n",
       "                     <numeric>   <numeric>   <numeric>\n",
       "ENSMUST00000057438.6   2.53752 2.35054e-05 0.000731473\n",
       "ENSMUST00000027286.6   3.38736 4.76139e-03 0.033358613\n",
       "ENSMUST00000192078.1   1.41808 7.69152e-03 0.046466741\n",
       "ENSMUST00000027217.8   1.32043 4.16138e-03 0.030454957\n",
       "ENSMUST00000061334.9   2.27079 1.27053e-03 0.013277311\n",
       "ENSMUST00000114246.3   2.82043 6.33996e-03 0.040745379"
      ]
     },
     "metadata": {},
     "output_type": "display_data"
    },
    {
     "data": {
      "text/plain": [
       "DataFrame with 6 rows and 3 columns\n",
       "                     log10mean      pvalue    qvalue\n",
       "                     <numeric>   <numeric> <numeric>\n",
       "ENSMUST00000057438.6   2.53817 0.000702587 0.0117192\n",
       "ENSMUST00000027286.6   3.38761 0.021966305 0.0786204\n",
       "ENSMUST00000192078.1   1.41817 0.019888170 0.0735326\n",
       "ENSMUST00000027217.8   1.32216 0.011665137 0.0522215\n",
       "ENSMUST00000061334.9   2.27115 0.004781243 0.0296002\n",
       "ENSMUST00000114246.3   2.82119 0.016164093 0.0642036"
      ]
     },
     "metadata": {},
     "output_type": "display_data"
    }
   ],
   "source": [
    "sum(mcols(y)[[\"keep\"]])\n",
    "sum(mcols(yAll)[[\"keep\"]])\n",
    "\n",
    "sum(mcols(y)[treeCons$tip,\"pvalue\"] < 0.1, na.rm=T)\n",
    "sum(mcols(yAll)[treeCons$tip,\"pvalue\"] < 0.1, na.rm=T)\n",
    "\n",
    "sum(mcols(y)[treeCons$tip,\"pvalue\"] < 0.01, na.rm=T)\n",
    "sum(mcols(yAll)[treeCons$tip,\"pvalue\"] < 0.01, na.rm=T)\n",
    "\n",
    "txps <- treeCons$tip[which(mcols(y)[treeCons$tip,\"pvalue\"] < 0.01)]\n",
    "\n",
    "head(mcols(y)[txps,c(\"log10mean\", \"pvalue\", \"qvalue\")])\n",
    "head(mcols(yAll)[txps,c(\"log10mean\", \"pvalue\", \"qvalue\")])"
   ]
  },
  {
   "cell_type": "markdown",
   "id": "269cd4ec",
   "metadata": {},
   "source": [
    "#### Number of differentially expressed transcripts for both"
   ]
  },
  {
   "cell_type": "code",
   "execution_count": 7,
   "id": "8b8b1de2",
   "metadata": {},
   "outputs": [
    {
     "data": {
      "text/html": [
       "2753"
      ],
      "text/latex": [
       "2753"
      ],
      "text/markdown": [
       "2753"
      ],
      "text/plain": [
       "[1] 2753"
      ]
     },
     "metadata": {},
     "output_type": "display_data"
    },
    {
     "data": {
      "text/html": [
       "5540"
      ],
      "text/latex": [
       "5540"
      ],
      "text/markdown": [
       "5540"
      ],
      "text/plain": [
       "[1] 5540"
      ]
     },
     "metadata": {},
     "output_type": "display_data"
    },
    {
     "data": {
      "text/html": [
       "7696"
      ],
      "text/latex": [
       "7696"
      ],
      "text/markdown": [
       "7696"
      ],
      "text/plain": [
       "[1] 7696"
      ]
     },
     "metadata": {},
     "output_type": "display_data"
    },
    {
     "data": {
      "text/html": [
       "574"
      ],
      "text/latex": [
       "574"
      ],
      "text/markdown": [
       "574"
      ],
      "text/plain": [
       "[1] 574"
      ]
     },
     "metadata": {},
     "output_type": "display_data"
    },
    {
     "data": {
      "text/html": [
       "4253"
      ],
      "text/latex": [
       "4253"
      ],
      "text/markdown": [
       "4253"
      ],
      "text/plain": [
       "[1] 4253"
      ]
     },
     "metadata": {},
     "output_type": "display_data"
    },
    {
     "data": {
      "text/html": [
       "6624"
      ],
      "text/latex": [
       "6624"
      ],
      "text/markdown": [
       "6624"
      ],
      "text/plain": [
       "[1] 6624"
      ]
     },
     "metadata": {},
     "output_type": "display_data"
    }
   ],
   "source": [
    "sum(mcols(y)[treeCons$tip,\"qvalue\"] < 0.01, na.rm=T)\n",
    "sum(mcols(y)[treeCons$tip,\"qvalue\"] < 0.05, na.rm=T)\n",
    "sum(mcols(y)[treeCons$tip,\"qvalue\"] < 0.1, na.rm=T)\n",
    "\n",
    "sum(mcols(yAll)[treeCons$tip,\"qvalue\"] < 0.01, na.rm=T)\n",
    "sum(mcols(yAll)[treeCons$tip,\"qvalue\"] < 0.05, na.rm=T)\n",
    "sum(mcols(yAll)[treeCons$tip,\"qvalue\"] < 0.1, na.rm=T)"
   ]
  },
  {
   "cell_type": "code",
   "execution_count": 40,
   "id": "036617c5",
   "metadata": {},
   "outputs": [
    {
     "data": {
      "text/plain": [
       "   SRR5758666         SRR5758667         SRR5758668          SRR5758669      \n",
       " Min.   :0.000000   Min.   :0.000000   Min.   :0.0000000   Min.   :0.000000  \n",
       " 1st Qu.:0.004203   1st Qu.:0.000795   1st Qu.:0.0004425   1st Qu.:0.001296  \n",
       " Median :0.012433   Median :0.002128   Median :0.0007103   Median :0.002461  \n",
       " Mean   :0.020492   Mean   :0.007345   Mean   :0.0063597   Mean   :0.008242  \n",
       " 3rd Qu.:0.015787   3rd Qu.:0.006040   3rd Qu.:0.0060081   3rd Qu.:0.007663  \n",
       " Max.   :0.451266   Max.   :0.422306   Max.   :0.4181227   Max.   :0.472239  \n",
       "   SRR5758670          SRR5758671         SRR5758630         SRR5758631      \n",
       " Min.   :0.0000000   Min.   :0.000000   Min.   :0.000000   Min.   :0.000000  \n",
       " 1st Qu.:0.0004418   1st Qu.:0.001007   1st Qu.:0.001183   1st Qu.:0.001259  \n",
       " Median :0.0006874   Median :0.002151   Median :0.002622   Median :0.002825  \n",
       " Mean   :0.0070543   Mean   :0.009488   Mean   :0.009055   Mean   :0.009354  \n",
       " 3rd Qu.:0.0067835   3rd Qu.:0.008163   3rd Qu.:0.007672   3rd Qu.:0.007550  \n",
       " Max.   :0.4631261   Max.   :0.516221   Max.   :0.747913   Max.   :0.443470  \n",
       "   SRR5758632          SRR5758633          SRR5758634       \n",
       " Min.   :0.0000000   Min.   :0.0000000   Min.   :0.0000000  \n",
       " 1st Qu.:0.0006619   1st Qu.:0.0008461   1st Qu.:0.0007265  \n",
       " Median :0.0013362   Median :0.0017337   Median :0.0016646  \n",
       " Mean   :0.0062100   Mean   :0.0077141   Mean   :0.0062281  \n",
       " 3rd Qu.:0.0054429   3rd Qu.:0.0080894   3rd Qu.:0.0049159  \n",
       " Max.   :0.4273474   Max.   :0.5093338   Max.   :0.5459080  \n",
       "   SRR5758635       \n",
       " Min.   :0.0000000  \n",
       " 1st Qu.:0.0002424  \n",
       " Median :0.0004173  \n",
       " Mean   :0.0055391  \n",
       " 3rd Qu.:0.0053383  \n",
       " Max.   :0.5300779  "
      ]
     },
     "metadata": {},
     "output_type": "display_data"
    },
    {
     "data": {
      "text/plain": [
       "   SRR5758666          SRR5758667         SRR5758668         SRR5758669       \n",
       " Min.   :    0.000   Min.   :   0.000   Min.   :  0.0000   Min.   :   0.0000  \n",
       " 1st Qu.:    0.007   1st Qu.:   0.002   1st Qu.:  0.0011   1st Qu.:   0.0032  \n",
       " Median :    0.051   Median :   0.017   Median :  0.0127   Median :   0.0249  \n",
       " Mean   :    2.697   Mean   :   0.460   Mean   :  0.2110   Mean   :   0.4226  \n",
       " 3rd Qu.:    0.387   3rd Qu.:   0.106   3rd Qu.:  0.0764   3rd Qu.:   0.1469  \n",
       " Max.   :23472.319   Max.   :3523.453   Max.   :885.7109   Max.   :1930.9262  \n",
       "   SRR5758670         SRR5758671          SRR5758630          SRR5758631       \n",
       " Min.   :  0.0000   Min.   :   0.0000   Min.   :   0.0000   Min.   :   0.0000  \n",
       " 1st Qu.:  0.0012   1st Qu.:   0.0023   1st Qu.:   0.0025   1st Qu.:   0.0027  \n",
       " Median :  0.0140   Median :   0.0232   Median :   0.0219   Median :   0.0221  \n",
       " Mean   :  0.1964   Mean   :   0.4080   Mean   :   0.5110   Mean   :   0.5351  \n",
       " 3rd Qu.:  0.0870   3rd Qu.:   0.1373   3rd Qu.:   0.1488   3rd Qu.:   0.1549  \n",
       " Max.   :657.8569   Max.   :2440.3112   Max.   :2061.3862   Max.   :2192.8297  \n",
       "   SRR5758632          SRR5758633          SRR5758634          SRR5758635      \n",
       " Min.   :   0.0000   Min.   :   0.0000   Min.   :   0.0000   Min.   :  0.0000  \n",
       " 1st Qu.:   0.0015   1st Qu.:   0.0020   1st Qu.:   0.0016   1st Qu.:  0.0007  \n",
       " Median :   0.0141   Median :   0.0201   Median :   0.0140   Median :  0.0098  \n",
       " Mean   :   0.2843   Mean   :   0.3551   Mean   :   0.3270   Mean   :  0.1337  \n",
       " 3rd Qu.:   0.0880   3rd Qu.:   0.1318   3rd Qu.:   0.0892   3rd Qu.:  0.0573  \n",
       " Max.   :1276.0716   Max.   :1572.9146   Max.   :1446.8607   Max.   :362.7796  "
      ]
     },
     "metadata": {},
     "output_type": "display_data"
    },
    {
     "data": {
      "text/html": [
       "496"
      ],
      "text/latex": [
       "496"
      ],
      "text/markdown": [
       "496"
      ],
      "text/plain": [
       "[1] 496"
      ]
     },
     "metadata": {},
     "output_type": "display_data"
    }
   ],
   "source": [
    "summary(abs(assays(yAll)[[\"infRep1\"]][treeCons$tip,] - assays(y)[[\"infRep1\"]][treeCons$tip,])/(assays(y)[[\"infRep1\"]][treeCons$tip,]+1))\n",
    "summary(abs(assays(yAll)[[\"infRep1\"]][treeCons$tip,] - assays(y)[[\"infRep1\"]][treeCons$tip,]))\n",
    "sum(abs(assays(yAll)[[\"infRep1\"]][treeCons$tip,] - assays(y)[[\"infRep1\"]][treeCons$tip,]) > 100)"
   ]
  },
  {
   "cell_type": "code",
   "execution_count": 36,
   "id": "999f6d81",
   "metadata": {},
   "outputs": [
    {
     "data": {
      "text/html": [
       "144097"
      ],
      "text/latex": [
       "144097"
      ],
      "text/markdown": [
       "144097"
      ],
      "text/plain": [
       "[1] 144097"
      ]
     },
     "metadata": {},
     "output_type": "display_data"
    }
   ],
   "source": [
    "sum((assays(y)[[\"infRep1\"]][treeCons$tip,])==0)"
   ]
  },
  {
   "cell_type": "code",
   "execution_count": null,
   "id": "77242a5a",
   "metadata": {},
   "outputs": [],
   "source": []
  }
 ],
 "metadata": {
  "kernelspec": {
   "display_name": "R",
   "language": "R",
   "name": "ir"
  },
  "language_info": {
   "codemirror_mode": "r",
   "file_extension": ".r",
   "mimetype": "text/x-r-source",
   "name": "R",
   "pygments_lexer": "r",
   "version": "4.1.1"
  }
 },
 "nbformat": 4,
 "nbformat_minor": 5
}
