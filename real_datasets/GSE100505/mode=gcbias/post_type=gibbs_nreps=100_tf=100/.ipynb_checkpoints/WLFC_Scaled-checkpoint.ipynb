{
 "cells": [
  {
   "cell_type": "code",
   "execution_count": 1,
   "id": "19c74342",
   "metadata": {},
   "outputs": [],
   "source": [
    "setwd('/fs/cbcb-lab/rob/students/noor/Uncertainity/treeTerminusScripts')\n",
    "dir <- \"environment/real_datasets/GSE100505/mode_gcbias=True/posttype=gibbs_npost=100_tf=100/comp_trees\"\n",
    "term_dir <- \"/fs/cbcb-lab/rob/students/noor/Uncertainity/real_datasets/GSE100505/term_out/mode_gcbias=True/posttype=gibbs_npost=100_tf=100\"\n",
    "suppressPackageStartupMessages(source(\"old_terminus_helper.R\"))\n",
    "suppressPackageStartupMessages(source(\"tree_helper_function.R\"))\n",
    "load(file.path(dir, \"treeCons.RData\"))\n",
    "load(file.path(dir, \"yAggConsNS.RData\"))\n",
    "load(file.path(dir, \"treeCor.RData\"))\n",
    "load(file.path(dir, \"yAggCorNS.RData\"))\n",
    "load(file.path(dir, \"treeCons0.RData\"))\n",
    "load(file.path(dir, \"yAggConsNS0.RData\"))\n",
    "load(file.path(dir, \"treeMeanInf0.RData\"))\n",
    "load(file.path(dir, \"yAggMeanInfNS0.RData\"))\n",
    "load(file.path(dir, \"treeThr.RData\"))\n",
    "load(file.path(dir, \"yAggThrNS.RData\"))\n",
    "load(file.path(dir, \"yAggTermThrNS.RData\"))\n",
    "suppressPackageStartupMessages(source(\"brain_simulation_nodtu/mode=gc_bias/post_type=gibbs_nrep=100_tf=100/tree_analysis/tree_filter.R\"))"
   ]
  },
  {
   "cell_type": "code",
   "execution_count": 8,
   "id": "9f54767d",
   "metadata": {},
   "outputs": [
    {
     "name": "stdout",
     "output_type": "stream",
     "text": [
      "        Type     Value  nCuts\n",
      "1    ConsInd 2697330.9  31482\n",
      "2       Cons 2942672.0  26103\n",
      "3       Mean 3089558.1  24737\n",
      "4         AC 1579921.4  55695\n",
      "5 ConsRedInd  686372.2  91106\n",
      "6       Term  511725.3  97690\n",
      "7        Txp  459809.7 102091\n"
     ]
    }
   ],
   "source": [
    "dfScaledLFC <- data.frame(matrix(nrow=0, ncol=3))\n",
    "colnames(dfScaledLFC) <- c(\"Type\", \"Value\", \"nCuts\")\n",
    "\n",
    "l <- length(treeCons$tip)\n",
    "trees <- list(treeCons, treeCons0, treeMeanInf0, treeCor, treeThr)\n",
    "names(trees) <- c(\"ConsInd\", \"Cons\", \"Mean\", \"AC\", \"ConsRedInd\", \"Term\")\n",
    "yAgg <- list(yAggConsNS, yAggConsNS0, yAggMeanInfNS0, yAggCorNS, yAggThrNS, yAggTermThrNS)\n",
    "names(yAgg) <- c(\"ConsInd\", \"Cons\", \"Mean\", \"AC\", \"ConsRedInd\", \"Term\")\n",
    "\n",
    "dCutsSLFC <- vector(mode = \"list\", length=7)\n",
    "names(dCutsSLFC) <- c(names(yAgg), \"Txps\")\n",
    "\n",
    "for(i in seq_along(yAgg)) {\n",
    "    globArr <- rep(-100, l+trees[[i]]$Nnode)\n",
    "    if(i <= 5)\n",
    "        descL <- sapply(Descendants(trees[[i]], seq(l+trees[[i]]$Nnode)), length)\n",
    "    else {\n",
    "        groupsClust <- parseClustFile(file.path(term_dir, \"old\", \"SRR5758702\", \"clusters.txt\"), yAggTermThrNS, gsub=F)\n",
    "        mtxps <- setdiff(seq(l), unlist(groupsClust))\n",
    "        dCutsSLFC[[i]] <- c(mtxps, l+1:length(groupsClust))\n",
    "        descL <- c(rep(1, length(mtxps)), sapply(groupsClust, length))\n",
    "    }\n",
    "    infReps <- assays(yAgg[[i]])[grep(\"infRep\", assayNames(yAgg[[i]]))]\n",
    "    infReps <- abind::abind(as.list(infReps), along = 3)\n",
    "    mSf <- 0\n",
    "    for(j in seq(dim(infReps)[3])) {\n",
    "            sf <- colSums(infReps[1:l,,j])\n",
    "            mSf <- mean(sf) + mSf\n",
    "            infReps[,,j] <- t(t(infReps[,,j])/sf)\n",
    "    }\n",
    "    mSf <- mSf/dim(infReps)[3]\n",
    "    print(mSf)\n",
    "    lfc <- getLog2FC(infReps, colData(yAgg[[i]])[[\"condition\"]], pc = 5/mSf)\n",
    "    obj <- abs(lfc)/mcols(yAgg[[i]])[[\"meanInfRV\"]]\n",
    "    if (i==6)         \n",
    "        val <- sum(obj[dCutsSLFC[[i]]]*descL)\n",
    "\n",
    "    else {\n",
    "            val <- findMaxSum(trees[[i]], obj, l+1, descL)\n",
    "            gc()\n",
    "            dCutsSLFC[[i]] <- findCuts(trees[[i]], globArr, obj, l+1, descL)\n",
    "            gc()\n",
    "    }\n",
    "    dfScaledLFC <- rbind(dfScaledLFC, data.frame(Type = names(yAgg)[i], Value = val,\n",
    "           nCuts = length(dCutsSLFC[[i]])))\n",
    "\n",
    "}\n",
    "i <- 7\n",
    "dCutsSLFC[[i]] <- 1:l\n",
    "val <- sum(obj[dCutsSLFC[[i]]])\n",
    "dfScaledLFC <- rbind(dfScaledLFC, data.frame(Type = \"Txp\", Value = val,\n",
    "           nCuts = length(dCutsSLFC[[i]])))\n",
    "print(dfScaledLFC)\n",
    "save(dfScaledLFC, file=file.path(dir, \"dfScaledLFC.RData\"))\n",
    "save(dCutsSLFC, file=file.path(dir, \"dCutsSLFC.RData\"))"
   ]
  },
  {
   "cell_type": "code",
   "execution_count": 2,
   "id": "9c33bce1",
   "metadata": {},
   "outputs": [
    {
     "name": "stdout",
     "output_type": "stream",
     "text": [
      "[1] 34098477\n",
      "[1] 34098477\n",
      "[1] 34098477\n",
      "[1] 34098477\n",
      "[1] 34098477\n"
     ]
    }
   ],
   "source": [
    "l <- length(treeCons$tip)\n",
    "trees <- list(treeCons, treeCons0, treeMeanInf0, treeCor, treeThr)\n",
    "names(trees) <- c(\"ConsInd\", \"Cons\", \"Mean\", \"AC\", \"ConsRedInd\")\n",
    "yAgg <- list(yAggConsNS, yAggConsNS0, yAggMeanInfNS0, yAggCorNS, yAggThrNS)\n",
    "names(yAgg) <- c(\"ConsInd\", \"Cons\", \"Mean\", \"AC\", \"ConsRedInd\")\n",
    "gammas <- c(0.1,0.5,1,5,10)\n",
    "objsLFC <- vector(mode=\"list\", length(yAgg))\n",
    "names(objsLFC) <- names(yAgg)\n",
    "objsDepth <- vector(mode=\"list\", length(yAgg))\n",
    "names(objsDepth) <- names(yAgg)\n",
    "for(i in seq_along(yAgg)) {\n",
    "    descL <- sapply(Descendants(trees[[i]],seq(l+trees[[i]]$Nnode)),length)\n",
    "    objsDepth[[i]] <- (mcols(yAgg[[i]])[[\"meanInfRV\"]] + 0.1*node.depth(trees[[i]],2))*descL\n",
    "    infReps <- assays(yAgg[[i]])[grep(\"infRep\", assayNames(yAgg[[i]]))]\n",
    "    infReps <- abind::abind(as.list(infReps), along = 3)\n",
    "    mSf <- 0\n",
    "    for(j in seq(dim(infReps)[3])) {\n",
    "            sf <- colSums(infReps[1:l,,j])\n",
    "            mSf <- mean(sf) + mSf\n",
    "            infReps[,,j] <- t(t(infReps[,,j])/sf)\n",
    "    }\n",
    "    mSf <- mSf/dim(infReps)[3]\n",
    "    print(mSf)\n",
    "    lfc <- getLog2FC(infReps, colData(yAgg[[i]])[[\"condition\"]], pc = 5/mSf)\n",
    "    objsLFC[[i]] <- descL*abs(lfc)/mcols(yAgg[[i]])[[\"meanInfRV\"]]\n",
    "}"
   ]
  },
  {
   "cell_type": "code",
   "execution_count": 3,
   "id": "7c470a3e",
   "metadata": {},
   "outputs": [
    {
     "ename": "ERROR",
     "evalue": "Error in FUN(X[[i]], ...): error \n",
     "output_type": "error",
     "traceback": [
      "Error in FUN(X[[i]], ...): error \nTraceback:\n",
      "1. parseClustFile(file.path(term_dir, \"old\", \"SRR5758702\", \"clusters.txt\"), \n .     yAggTermThrNS, gsub = T)",
      "2. lapply(strsplit(df$V1, split = \",\", fixed = T), function(x) {\n .     if (gsub) \n .         inds <- match(unlist(gsub(\"\\\\.[0-9]+\", \"\", x[2:length(x)])), \n .             rownames(y))\n .     else inds <- match(unlist(x[2:length(x)]), rownames(y))\n .     if (sum(is.na(inds) > 0)) \n .         stop(\"error \")\n .     inds\n . })",
      "3. lapply(strsplit(df$V1, split = \",\", fixed = T), function(x) {\n .     if (gsub) \n .         inds <- match(unlist(gsub(\"\\\\.[0-9]+\", \"\", x[2:length(x)])), \n .             rownames(y))\n .     else inds <- match(unlist(x[2:length(x)]), rownames(y))\n .     if (sum(is.na(inds) > 0)) \n .         stop(\"error \")\n .     inds\n . })",
      "4. FUN(X[[i]], ...)",
      "5. stop(\"error \")"
     ]
    }
   ],
   "source": [
    "suppressPackageStartupMessages(source(\"old_terminus_helper.R\"))\n",
    "i <- 6\n",
    "infReps <- assays(yAggTermThrNS)[grep(\"infRep\", assayNames(yAggTermThrNS))]\n",
    "infReps <- abind::abind(as.list(infReps), along = 3)\n",
    "groupsClust <- parseClustFile(file.path(term_dir, \"old\", \"SRR5758702\", \"clusters.txt\"), yAggTermThrNS, gsub=F)\n",
    "mtxps <- setdiff(seq(l), unlist(groupsClust))\n",
    "\n",
    "mSf <- 0\n",
    "for(j in seq(dim(infReps)[3])) {\n",
    "            sf <- colSums(infReps[1:l,,j])\n",
    "            mSf <- mean(sf) + mSf\n",
    "            infReps[,,j] <- t(t(infReps[,,j])/sf)\n",
    "    }\n",
    "mSf <- mSf/dim(infReps)[3]\n",
    "descL <- c(rep(1, l), sapply(groupsClust, length))\n",
    "\n",
    "\n",
    "lfc <- getLog2FC(infReps, colData(yAggTermThrNS)[[\"condition\"]], pc = 5/mSf)\n",
    "objsLFC[[i]] <- descL*abs(lfc)/mcols(yAggTermThrNS)[[\"meanInfRV\"]]\n",
    "names(objsLFC)[i] <- \"Term\""
   ]
  },
  {
   "cell_type": "code",
   "execution_count": null,
   "id": "b8189639",
   "metadata": {},
   "outputs": [],
   "source": []
  }
 ],
 "metadata": {
  "kernelspec": {
   "display_name": "R",
   "language": "R",
   "name": "ir"
  },
  "language_info": {
   "codemirror_mode": "r",
   "file_extension": ".r",
   "mimetype": "text/x-r-source",
   "name": "R",
   "pygments_lexer": "r",
   "version": "4.1.1"
  }
 },
 "nbformat": 4,
 "nbformat_minor": 5
}
