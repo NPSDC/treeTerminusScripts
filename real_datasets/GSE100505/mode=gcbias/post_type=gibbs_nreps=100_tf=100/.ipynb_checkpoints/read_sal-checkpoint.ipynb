{
 "cells": [
  {
   "cell_type": "code",
   "execution_count": 2,
   "id": "49f00f85",
   "metadata": {},
   "outputs": [],
   "source": [
    "setwd(\"/fs/cbcb-lab/rob/students/noor/Uncertainity/treeTerminusScripts\")\n",
    "suppressPackageStartupMessages(library(tximeta))\n",
    "suppressPackageStartupMessages(library(SummarizedExperiment))\n",
    "suppressPackageStartupMessages(library(DESeq2))\n",
    "suppressPackageStartupMessages(source(\"tree_helper_function.R\"))\n",
    "# metaData <- read.delim(\"/fs/cbcb-lab/rob/students/noor/Uncertainity/real_datasets/GSE100505/SRR_Acc_List.txt\")\n",
    "# quantDir <- \"/fs/cbcb-lab/rob/students/noor/Uncertainity/real_datasets/GSE100505/sal_out/mode_gcbias=True/posttype=gibbs_npost=100_tf=100\"\n",
    "# samples <- metaData$RUN\n",
    "# files <- file.path(quantDir, samples, \"quant.sf\")\n",
    "# colData <- cbind(data.frame(files = files, names = samples), condition = as.factor(metaData$TissueName))\n",
    "# seMuscle <- tximeta::tximeta(colData)\n",
    "# save(seMuscle, file=\"environment/real_datasets/GSE100505/mode_gcbias=True/posttype=gibbs_npost=100_tf=100/seMuscle.RData\")\n",
    "mapDf <- data.frame(gene = unlist(rowData(seMuscle)[[\"gene_id\"]]), txp=rownames(seMuscle), ind=seq(nrow(seMuscle)))\n",
    "rownames(mapDf) <- mapDf[[\"txp\"]]\n",
    "save(mapDf, file = \"environment/real_datasets/GSE100505/mapDf.RData\")"
   ]
  },
  {
   "cell_type": "code",
   "execution_count": 3,
   "id": "3a144dbf",
   "metadata": {},
   "outputs": [],
   "source": [
    "load(\"environment/real_datasets/GSE100505/mode_gcbias=True/posttype=gibbs_npost=100_tf=100/seMuscle.RData\")\n",
    "load(\"environment/real_datasets/GSE100505/mapDf.RData\")"
   ]
  },
  {
   "cell_type": "code",
   "execution_count": 27,
   "id": "dddc85b7",
   "metadata": {},
   "outputs": [
    {
     "name": "stderr",
     "output_type": "stream",
     "text": [
      "using counts and average transcript lengths from tximeta\n",
      "\n",
      "Warning message in DESeqDataSet(seMuscle, design = ~condition):\n",
      "\"some variables in design formula are characters, converting to factors\"\n",
      "using 'avgTxLength' from assays(dds), correcting for library size\n",
      "\n"
     ]
    }
   ],
   "source": [
    "dds <- DESeqDataSet(seMuscle, design=~condition)\n",
    "dds <- estimateSizeFactors(dds)\n",
    "dds <- dds[rowSums(assays(seMuscle)[[\"counts\"]]) > 10,]\n",
    "vsd <- vst(dds)\n"
   ]
  },
  {
   "cell_type": "code",
   "execution_count": 28,
   "id": "206163c5",
   "metadata": {},
   "outputs": [
    {
     "data": {
      "image/png": "[encoded data removed]",
      "text/plain": [
       "plot without title"
      ]
     },
     "metadata": {
      "image/png": {
       "height": 420,
       "width": 420
      }
     },
     "output_type": "display_data"
    }
   ],
   "source": [
    "plotPCA(vsd, intgroup=c(\"condition\"), ntop=1000)"
   ]
  },
  {
   "cell_type": "code",
   "execution_count": 7,
   "id": "79b393a7",
   "metadata": {},
   "outputs": [
    {
     "data": {
      "text/html": [
       "14639"
      ],
      "text/latex": [
       "14639"
      ],
      "text/markdown": [
       "14639"
      ],
      "text/plain": [
       "[1] 14639"
      ]
     },
     "metadata": {},
     "output_type": "display_data"
    },
    {
     "data": {
      "text/plain": [
       "\n",
       "   2    3    4    5    6    7    8    9   10   11   12   13   14   15   16   17 \n",
       "3863 2155 1671 1444 1168  937  698  538  455  343  293  214  157  118   83   82 \n",
       "  18   19   20   21   22   23   24   25   26   27   28   29   30   31   32   33 \n",
       "  69   58   40   24   22   32   19   19   19    7    8    9    7    7    5    5 \n",
       "  34   35   36   37   38   39   40   41   42   43   44   45   46   47   49   51 \n",
       "   4    4    3    1    3    2    3    3    1    2    1    2    3    2    2    1 \n",
       "  53   55   56   57   60   64   66   68   69   73   76   77   78   83   85   90 \n",
       "   1    3    1    2    2    1    1    2    1    1    1    1    1    1    1    1 \n",
       "  97  107  130  136  138  174  237  292  392 2542 \n",
       "   2    1    2    1    1    1    1    1    1    1 "
      ]
     },
     "metadata": {},
     "output_type": "display_data"
    },
    {
     "data": {
      "text/html": [
       "88494"
      ],
      "text/latex": [
       "88494"
      ],
      "text/markdown": [
       "88494"
      ],
      "text/plain": [
       "[1] 88494"
      ]
     },
     "metadata": {},
     "output_type": "display_data"
    }
   ],
   "source": [
    "trees <- read.tree(\"/fs/cbcb-lab/rob/students/noor/Uncertainity/real_datasets/GSE100505/term_out/mode_gcbias=True/posttype=gibbs_npost=100_tf=100/no_threshold/cluster_nwk.txt\")\n",
    "length(trees)\n",
    "table(sapply(trees, function(tr) length(tr$tip)))\n",
    "sum(sapply(trees, function(tr) length(tr$tip)))"
   ]
  },
  {
   "cell_type": "code",
   "execution_count": 8,
   "id": "a995d743",
   "metadata": {},
   "outputs": [
    {
     "name": "stdout",
     "output_type": "stream",
     "text": [
      "[1] \"Missing txps 4911\"\n"
     ]
    }
   ],
   "source": [
    "tree <- mergeTree(trees, se = seMuscle)\n",
    "y <- scaleInfReps(seMuscle)\n",
    "y <- labelKeep(y)\n",
    "y <- runSwishTree(tree, y, type = \"union\")\n",
    "modOb <- mergeLeaves(tree, y)\n",
    "tree <- modOb[[\"tree\"]]\n",
    "y <- modOb[[\"ySwish\"]]"
   ]
  },
  {
   "cell_type": "code",
   "execution_count": 9,
   "id": "d3cd18ae",
   "metadata": {},
   "outputs": [],
   "source": [
    "yNS <- seMuscle[tree$tip,]\n",
    "yNS <- computeInfRV(yNS, meanVariance = F)\n",
    "yNSAgg <- prepSwish(tree = tree, seObLeaves = yNS)"
   ]
  },
  {
   "cell_type": "code",
   "execution_count": 10,
   "id": "8f37be74",
   "metadata": {},
   "outputs": [],
   "source": [
    "save(tree, file=\"environment/real_datasets/GSE100505/mode_gcbias=True/posttype=gibbs_npost=100_tf=100/tree.RData\")\n",
    "save(yNS, file=\"environment/real_datasets/GSE100505/mode_gcbias=True/posttype=gibbs_npost=100_tf=100/yNS.RData\")\n",
    "save(yNSAgg, file=\"environment/real_datasets/GSE100505/mode_gcbias=True/posttype=gibbs_npost=100_tf=100/yNSAgg.RData\")"
   ]
  }
 ],
 "metadata": {
  "kernelspec": {
   "display_name": "R",
   "language": "R",
   "name": "ir"
  },
  "language_info": {
   "codemirror_mode": "r",
   "file_extension": ".r",
   "mimetype": "text/x-r-source",
   "name": "R",
   "pygments_lexer": "r",
   "version": "4.1.1"
  }
 },
 "nbformat": 4,
 "nbformat_minor": 5
}
