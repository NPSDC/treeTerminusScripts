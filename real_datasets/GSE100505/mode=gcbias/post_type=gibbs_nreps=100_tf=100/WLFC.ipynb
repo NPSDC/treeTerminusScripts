{
 "cells": [
  {
   "cell_type": "code",
   "execution_count": 1,
   "id": "c9cb78a5",
   "metadata": {},
   "outputs": [],
   "source": [
    "setwd('/fs/cbcb-lab/rob/students/noor/Uncertainity/treeTerminusScripts')\n",
    "load(\"environment/real_datasets/GSE100505/mapDf.RData\")\n",
    "load(\"environment/real_datasets/GSE100505/mode_gcbias=True/posttype=gibbs_npost=100_tf=100/comp_trees/treeCons.RData\")\n",
    "load(\"environment/real_datasets/GSE100505/mode_gcbias=True/posttype=gibbs_npost=100_tf=100/comp_trees/treeCons0.RData\")\n",
    "load(\"environment/real_datasets/GSE100505/mode_gcbias=True/posttype=gibbs_npost=100_tf=100/comp_trees/treeCor.RData\")\n",
    "load(\"environment/real_datasets/GSE100505/mode_gcbias=True/posttype=gibbs_npost=100_tf=100/comp_trees/treeMeanInf0.RData\")\n",
    "load(\"environment/real_datasets/GSE100505/mode_gcbias=True/posttype=gibbs_npost=100_tf=100/comp_trees/yAggCons.RData\")\n",
    "load(\"environment/real_datasets/GSE100505/mode_gcbias=True/posttype=gibbs_npost=100_tf=100/comp_trees/yAggCons0.RData\")\n",
    "load(\"environment/real_datasets/GSE100505/mode_gcbias=True/posttype=gibbs_npost=100_tf=100/comp_trees/yAggCor.RData\")\n",
    "load(\"environment/real_datasets/GSE100505/mode_gcbias=True/posttype=gibbs_npost=100_tf=100/comp_trees/yAggMeanInf0.RData\")\n",
    "suppressPackageStartupMessages(source(\"tree_helper_function.R\"))\n",
    "suppressPackageStartupMessages(source(\"brain_simulation_nodtu/mode=gc_bias/post_type=gibbs_nrep=100_tf=100/tree_analysis/tree_filter.R\"))\n"
   ]
  },
  {
   "cell_type": "code",
   "execution_count": null,
   "id": "1fee23bc",
   "metadata": {},
   "outputs": [],
   "source": [
    "wlfcDiff <- 0\n",
    "txpDiff <- NULL"
   ]
  },
  {
   "cell_type": "code",
   "execution_count": null,
   "id": "7cd9ae1e",
   "metadata": {},
   "outputs": [],
   "source": [
    "dfDepth <- data.frame(matrix(nrow=0, ncol=4))\n",
    "colnames(dfDepth) <- c(\"Type\", \"Value\", \"nCuts\", \"gamma\")\n",
    "\n",
    "l <- length(treeCons$tip)\n",
    "trees <- list(treeCons, treeCons0, treeMeanInf0, treeCor)\n",
    "names(trees) <- c(\"Consensus\", \"Consensus0\", \"MeanInf0\", \"Cor\")\n",
    "yAgg <- list(yAggCons, yAggCons0, yAggMeanInf0, yAggCor)\n",
    "names(yAgg) <- c(\"Consensus\", \"Consensus0\", \"MeanInf0\", \"Cor\")\n",
    "\n",
    "dCutsD <- vector(mode = \"list\", length=4)\n",
    "names(dCutsD) <- paste(\"gamma=\", c(0.1,0.5,1,5), sep=\"\")\n",
    "for(j in seq_along(dCutsD)) {\n",
    "    gamma <- c(0.1,0.5,1,5)[j]\n",
    "    dCutsD[[j]] <- vector(mode=\"list\", length(trees))\n",
    "    names(dCutsD[[j]]) <- names(trees)\n",
    "    for(i in seq(trees)) {\n",
    "        globArr <- rep(-100, l+trees[[i]]$Nnode)\n",
    "        descL <- sapply(Descendants(trees[[i]], seq(l+trees[[i]]$Nnode)), length)\n",
    "        infReps <- assays(yAgg[[i]])[grep(\"infRep\", assayNames(yAgg[[i]]))]\n",
    "        infReps <- abind::abind(as.list(infReps), along = 3)\n",
    "        lfc <- getLog2FC(infReps, colData(yAgg[[i]])[[\"condition\"]])\n",
    "        obj <- abs(lfc/mcols(yAgg[[i]])[[\"meanInfRV\"]]) - gamma*node.depth(trees[[i]],2)\n",
    "        val <- findMaxSum(trees[[i]], obj, l+1, descL)\n",
    "        gc()\n",
    "        dCutsD[[j]][[i]] <- findCuts(trees[[i]], globArr, obj, l+1, descL)\n",
    "        gc()\n",
    "        dfDepth <- rbind(dfDepth, data.frame(Type = names(trees)[i], Value = val,\n",
    "               nCuts = length(dCutsD[[j]][[i]]), gamma=gamma))\n",
    "    }\n",
    "\n",
    "}\n",
    "\n"
   ]
  }
 ],
 "metadata": {
  "kernelspec": {
   "display_name": "R",
   "language": "R",
   "name": "ir"
  },
  "language_info": {
   "codemirror_mode": "r",
   "file_extension": ".r",
   "mimetype": "text/x-r-source",
   "name": "R",
   "pygments_lexer": "r",
   "version": "4.1.1"
  }
 },
 "nbformat": 4,
 "nbformat_minor": 5
}
