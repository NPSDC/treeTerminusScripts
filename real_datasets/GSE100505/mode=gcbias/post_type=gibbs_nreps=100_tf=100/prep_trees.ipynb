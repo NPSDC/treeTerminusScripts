{
 "cells": [
  {
   "cell_type": "markdown",
   "id": "27ba1dc9",
   "metadata": {},
   "source": [
    "#### Loading Data"
   ]
  },
  {
   "cell_type": "code",
   "execution_count": 24,
   "id": "14cb5599",
   "metadata": {},
   "outputs": [],
   "source": [
    "setwd('/fs/cbcb-lab/rob/students/noor/Uncertainity/treeTerminusScripts')\n",
    "suppressPackageStartupMessages(source(\"tree_helper_function.R\"))\n",
    "suppressPackageStartupMessages(library(ggplot2))\n",
    "suppressPackageStartupMessages(library(ggpubr))\n",
    "suppressPackageStartupMessages(library(dplyr))\n",
    "load(\"environment/real_datasets/GSE100505/mapDf.RData\")\n",
    "load(\"environment/real_datasets/GSE100505/mode_gcbias=True/posttype=gibbs_npost=100_tf=100/seMuscle.RData\")\n",
    "load(\"environment/real_datasets/GSE100505/mode_gcbias=True/posttype=gibbs_npost=100_tf=100/comp_trees/trMeanCorUPGMANorm.RData\")\n",
    "save_dir <- \"environment/real_datasets/GSE100505/mode_gcbias=True/posttype=gibbs_npost=100_tf=100/comp_trees\"\n",
    "suppressPackageStartupMessages(source(\"brain_simulation_nodtu/mode=gc_bias/post_type=gibbs_nrep=100_tf=100/tree_analysis/tree_filter.R\"))"
   ]
  },
  {
   "cell_type": "markdown",
   "id": "51dc865a",
   "metadata": {},
   "source": [
    "#### Reading all the nwk files for the trees"
   ]
  },
  {
   "cell_type": "code",
   "execution_count": 18,
   "id": "339d7974",
   "metadata": {},
   "outputs": [],
   "source": [
    "dir <- \"/fs/cbcb-lab/rob/students/noor/Uncertainity/real_datasets/GSE100505/term_out/mode_gcbias=True/posttype=gibbs_npost=100_tf=100\"\n",
    "\n",
    "treesCons0 <- read.tree(file.path(dir, \"no_threshold0\", \"cluster_nwk.txt\"))\n",
    "txpsCons0 <- rownames(seMuscle)[as.numeric(unlist(lapply(treesCons0, function(tr) tr$tip)))+1]\n",
    "                                                         \n",
    "treesCons <- read.tree(file.path(dir, \"no_threshold\", \"cluster_nwk.txt\"))\n",
    "txpsCons <- rownames(seMuscle)[as.numeric(unlist(lapply(treesCons, function(tr) tr$tip)))+1]\n",
    "                                                        \n",
    "treesMeanInf0 <- read.tree(file.path(dir, \"no_threshold_mean_inf_0\", \"group_nwk.txt\"))\n",
    "txpsMeanInf0 <- rownames(seMuscle)[as.numeric(unlist(lapply(treesMeanInf0, function(tr) tr$tip)))+1]\n",
    "                                                            \n",
    "treesThr <- read.tree(file.path(dir, \"threshold\", \"cluster_nwk.txt\"))\n",
    "txpsThr <- rownames(seMuscle[as.numeric(unlist(lapply(treesThr, function(tr) tr$tip)))+1])\n",
    "\n",
    "groupsThr <- read.delim(file.path(dir, \"old\", \"SRR5758702\", \"clusters.txt\"), header = F)\n",
    "txpsOld <- unlist(sapply(strsplit(groupsThr$V1, split=\",\", fixed=T), function(x) x[2:length(x)]))\n",
    "                         \n",
    "txpsCor <- trMeanCorUPGMANorm$tip"
   ]
  },
  {
   "cell_type": "code",
   "execution_count": 14,
   "id": "f28af9d5",
   "metadata": {},
   "outputs": [],
   "source": [
    "se <- labelKeep(seMuscle)"
   ]
  },
  {
   "cell_type": "code",
   "execution_count": 19,
   "id": "f326c962",
   "metadata": {},
   "outputs": [
    {
     "data": {
      "text/html": [
       "17939"
      ],
      "text/latex": [
       "17939"
      ],
      "text/markdown": [
       "17939"
      ],
      "text/plain": [
       "[1] 17939"
      ]
     },
     "metadata": {},
     "output_type": "display_data"
    },
    {
     "data": {
      "text/html": [
       "68062"
      ],
      "text/latex": [
       "68062"
      ],
      "text/markdown": [
       "68062"
      ],
      "text/plain": [
       "[1] 68062"
      ]
     },
     "metadata": {},
     "output_type": "display_data"
    },
    {
     "data": {
      "text/html": [
       "7792"
      ],
      "text/latex": [
       "7792"
      ],
      "text/markdown": [
       "7792"
      ],
      "text/plain": [
       "[1] 7792"
      ]
     },
     "metadata": {},
     "output_type": "display_data"
    },
    {
     "data": {
      "text/html": [
       "98091"
      ],
      "text/latex": [
       "98091"
      ],
      "text/markdown": [
       "98091"
      ],
      "text/plain": [
       "[1] 98091"
      ]
     },
     "metadata": {},
     "output_type": "display_data"
    },
    {
     "data": {
      "text/html": [
       "97360"
      ],
      "text/latex": [
       "97360"
      ],
      "text/markdown": [
       "97360"
      ],
      "text/plain": [
       "[1] 97360"
      ]
     },
     "metadata": {},
     "output_type": "display_data"
    },
    {
     "data": {
      "text/html": [
       "89429"
      ],
      "text/latex": [
       "89429"
      ],
      "text/markdown": [
       "89429"
      ],
      "text/plain": [
       "[1] 89429"
      ]
     },
     "metadata": {},
     "output_type": "display_data"
    },
    {
     "data": {
      "text/html": [
       "45305"
      ],
      "text/latex": [
       "45305"
      ],
      "text/markdown": [
       "45305"
      ],
      "text/plain": [
       "[1] 45305"
      ]
     },
     "metadata": {},
     "output_type": "display_data"
    }
   ],
   "source": [
    "length(txpsThr)\n",
    "length(txpsCor)\n",
    "length(txpsOld)\n",
    "length(txpsMeanInf0)\n",
    "length(txpsCons0)\n",
    "length(txpsCons)\n",
    "length(rownames(se)[mcols(se)[[\"keep\"]]])"
   ]
  },
  {
   "cell_type": "code",
   "execution_count": 21,
   "id": "fe0fe1db",
   "metadata": {},
   "outputs": [
    {
     "data": {
      "text/html": [
       "102091"
      ],
      "text/latex": [
       "102091"
      ],
      "text/markdown": [
       "102091"
      ],
      "text/plain": [
       "[1] 102091"
      ]
     },
     "metadata": {},
     "output_type": "display_data"
    }
   ],
   "source": [
    "txpsAll <- Reduce(union,list(txpsCons0, txpsCons, txpsThr, txpsOld, txpsMeanInf0, txpsCor))\n",
    "length(txpsAll)\n",
    "seMuscleScaled <- scaleInfReps(seMuscle)"
   ]
  },
  {
   "cell_type": "markdown",
   "id": "794de85a",
   "metadata": {},
   "source": [
    "#### Consensus Tree"
   ]
  },
  {
   "cell_type": "code",
   "execution_count": 25,
   "id": "3e95de06",
   "metadata": {},
   "outputs": [
    {
     "data": {
      "text/html": [
       "<table class=\"dataframe\">\n",
       "<caption>A matrix: 2 × 6 of type dbl</caption>\n",
       "<thead>\n",
       "\t<tr><th></th><th scope=col>used</th><th scope=col>(Mb)</th><th scope=col>gc trigger</th><th scope=col>(Mb)</th><th scope=col>max used</th><th scope=col>(Mb)</th></tr>\n",
       "</thead>\n",
       "<tbody>\n",
       "\t<tr><th scope=row>Ncells</th><td> 10905698</td><td> 582.5</td><td>  19639040</td><td> 1048.9</td><td>  19639040</td><td> 1048.9</td></tr>\n",
       "\t<tr><th scope=row>Vcells</th><td>958000694</td><td>7309.0</td><td>2009783006</td><td>15333.5</td><td>1674609654</td><td>12776.3</td></tr>\n",
       "</tbody>\n",
       "</table>\n"
      ],
      "text/latex": [
       "A matrix: 2 × 6 of type dbl\n",
       "\\begin{tabular}{r|llllll}\n",
       "  & used & (Mb) & gc trigger & (Mb) & max used & (Mb)\\\\\n",
       "\\hline\n",
       "\tNcells &  10905698 &  582.5 &   19639040 &  1048.9 &   19639040 &  1048.9\\\\\n",
       "\tVcells & 958000694 & 7309.0 & 2009783006 & 15333.5 & 1674609654 & 12776.3\\\\\n",
       "\\end{tabular}\n"
      ],
      "text/markdown": [
       "\n",
       "A matrix: 2 × 6 of type dbl\n",
       "\n",
       "| <!--/--> | used | (Mb) | gc trigger | (Mb) | max used | (Mb) |\n",
       "|---|---|---|---|---|---|---|\n",
       "| Ncells |  10905698 |  582.5 |   19639040 |  1048.9 |   19639040 |  1048.9 |\n",
       "| Vcells | 958000694 | 7309.0 | 2009783006 | 15333.5 | 1674609654 | 12776.3 |\n",
       "\n"
      ],
      "text/plain": [
       "       used      (Mb)   gc trigger (Mb)    max used   (Mb)   \n",
       "Ncells  10905698  582.5   19639040  1048.9   19639040  1048.9\n",
       "Vcells 958000694 7309.0 2009783006 15333.5 1674609654 12776.3"
      ]
     },
     "metadata": {},
     "output_type": "display_data"
    }
   ],
   "source": [
    "treeCons <- mergeTree(treesCons, se = mapDf)\n",
    "mb <- mergeLeaves(treeCons, seMuscle[txpsAll,])\n",
    "treeCons <- mb[[\"tree\"]]\n",
    "yConsNS <- mb[[\"ySwish\"]]\n",
    "rm(mb)\n",
    "gc()\n",
    "sum(rownames(yConsNS) != treeCons$tip)\n",
    "yAggConsNS <- prepSwish(treeCons, seMuscle[treeCons$tip,])\n",
    "yAggConsNS <- fishpond::computeInfRV(yAggConsNS, meanVariance=F)\n",
    "yAggCons <- prepSwish(treeCons, seMuscleScaled[treeCons$tip,])\n",
    "infReps <- assays(yAggCons)[grep(\"infRep\", assayNames(yAggCons))]\n",
    "infReps <- abind::abind(as.list(infReps), along = 3)\n",
    "mcols(yAggConsNS)[[\"LFC\"]] <- getLog2FC(infReps, colData(yAggCons)[[\"condition\"]])\n",
    "rm(yAggCons)\n",
    "gc()\n",
    "save(yAggConsNS, file=file.path(save_dir, \"yAggConsNS.RData\"))\n",
    "save(treeCons, file=file.path(save_dir, \"treeCons.RData\"))"
   ]
  },
  {
   "cell_type": "code",
   "execution_count": 26,
   "id": "9e4abda0",
   "metadata": {},
   "outputs": [
    {
     "data": {
      "text/plain": [
       "class: SummarizedExperiment \n",
       "dim: 171495 12 \n",
       "metadata(7): tximetaInfo quantInfo ... txdbInfo infRepsScaled\n",
       "assays(105): counts abundance ... mean variance\n",
       "rownames(171495): ENSMUST00000161745.2 ENSMUST00000066175.9 ... 171494\n",
       "  171495\n",
       "rowData names(2): meanInfRV LFC\n",
       "colnames(12): SRR5758624 SRR5758625 ... SRR5758703 SRR5758702\n",
       "colData names(2): names condition"
      ]
     },
     "metadata": {},
     "output_type": "display_data"
    },
    {
     "data": {
      "text/plain": [
       "\n",
       "Phylogenetic tree with 102091 tips and 69404 internal nodes.\n",
       "\n",
       "Tip labels:\n",
       "  ENSMUST00000161745.2, ENSMUST00000066175.9, ENSMUST00000172439.1, ENSMUST00000134708.1, ENSMUST00000223737.1, ENSMUST00000185966.1, ...\n",
       "\n",
       "Unrooted; includes branch lengths."
      ]
     },
     "metadata": {},
     "output_type": "display_data"
    }
   ],
   "source": [
    "yAggConsNS\n",
    "treeCons"
   ]
  },
  {
   "cell_type": "markdown",
   "id": "173d541e",
   "metadata": {},
   "source": [
    "#### Consensus Tree 0"
   ]
  },
  {
   "cell_type": "code",
   "execution_count": 28,
   "id": "1dc970eb",
   "metadata": {},
   "outputs": [
    {
     "data": {
      "text/html": [
       "<table class=\"dataframe\">\n",
       "<caption>A matrix: 2 × 6 of type dbl</caption>\n",
       "<thead>\n",
       "\t<tr><th></th><th scope=col>used</th><th scope=col>(Mb)</th><th scope=col>gc trigger</th><th scope=col>(Mb)</th><th scope=col>max used</th><th scope=col>(Mb)</th></tr>\n",
       "</thead>\n",
       "<tbody>\n",
       "\t<tr><th scope=row>Ncells</th><td>  10918878</td><td>  583.2</td><td>  19639040</td><td> 1048.9</td><td>  19639040</td><td> 1048.9</td></tr>\n",
       "\t<tr><th scope=row>Vcells</th><td>1354389501</td><td>10333.2</td><td>2411819607</td><td>18400.8</td><td>2411705146</td><td>18399.9</td></tr>\n",
       "</tbody>\n",
       "</table>\n"
      ],
      "text/latex": [
       "A matrix: 2 × 6 of type dbl\n",
       "\\begin{tabular}{r|llllll}\n",
       "  & used & (Mb) & gc trigger & (Mb) & max used & (Mb)\\\\\n",
       "\\hline\n",
       "\tNcells &   10918878 &   583.2 &   19639040 &  1048.9 &   19639040 &  1048.9\\\\\n",
       "\tVcells & 1354389501 & 10333.2 & 2411819607 & 18400.8 & 2411705146 & 18399.9\\\\\n",
       "\\end{tabular}\n"
      ],
      "text/markdown": [
       "\n",
       "A matrix: 2 × 6 of type dbl\n",
       "\n",
       "| <!--/--> | used | (Mb) | gc trigger | (Mb) | max used | (Mb) |\n",
       "|---|---|---|---|---|---|---|\n",
       "| Ncells |   10918878 |   583.2 |   19639040 |  1048.9 |   19639040 |  1048.9 |\n",
       "| Vcells | 1354389501 | 10333.2 | 2411819607 | 18400.8 | 2411705146 | 18399.9 |\n",
       "\n"
      ],
      "text/plain": [
       "       used       (Mb)    gc trigger (Mb)    max used   (Mb)   \n",
       "Ncells   10918878   583.2   19639040  1048.9   19639040  1048.9\n",
       "Vcells 1354389501 10333.2 2411819607 18400.8 2411705146 18399.9"
      ]
     },
     "metadata": {},
     "output_type": "display_data"
    }
   ],
   "source": [
    "treeCons0 <- mergeTree(treesCons0, se = mapDf)\n",
    "mb <- mergeLeaves(treeCons0, seMuscle[txpsAll,])\n",
    "treeCons0 <- mb[[\"tree\"]]\n",
    "yConsNS0 <- mb[[\"ySwish\"]]\n",
    "rm(mb)\n",
    "gc()\n",
    "sum(rownames(yConsNS0) != treeCons0$tip)\n",
    "yAggConsNS0 <- prepSwish(treeCons0, seMuscle[treeCons0$tip,])\n",
    "yAggConsNS0 <- fishpond::computeInfRV(yAggConsNS0, meanVariance=F)\n",
    "yAggCons0 <- prepSwish(treeCons0, seMuscleScaled[treeCons0$tip,])\n",
    "infReps <- assays(yAggCons0)[grep(\"infRep\", assayNames(yAggCons0))]\n",
    "infReps <- abind::abind(as.list(infReps), along = 3)\n",
    "mcols(yAggConsNS0)[[\"LFC\"]] <- getLog2FC(infReps, colData(yAggCons0)[[\"condition\"]])\n",
    "rm(yAggCons0)\n",
    "gc()\n",
    "save(yAggConsNS0, file=file.path(save_dir, \"yAggConsNS0.RData\"))\n",
    "save(treeCons0, file=file.path(save_dir, \"treeCons0.RData\"))"
   ]
  },
  {
   "cell_type": "markdown",
   "id": "be968a9d",
   "metadata": {},
   "source": [
    "#### Mean Inf Tree 0"
   ]
  },
  {
   "cell_type": "code",
   "execution_count": 30,
   "id": "3f5afc7e",
   "metadata": {},
   "outputs": [
    {
     "name": "stdout",
     "output_type": "stream",
     "text": [
      "[1] \"Missing txps 4000\"\n"
     ]
    },
    {
     "data": {
      "text/html": [
       "<table class=\"dataframe\">\n",
       "<caption>A matrix: 2 × 6 of type dbl</caption>\n",
       "<thead>\n",
       "\t<tr><th></th><th scope=col>used</th><th scope=col>(Mb)</th><th scope=col>gc trigger</th><th scope=col>(Mb)</th><th scope=col>max used</th><th scope=col>(Mb)</th></tr>\n",
       "</thead>\n",
       "<tbody>\n",
       "\t<tr><th scope=row>Ncells</th><td>  10919805</td><td>  583.2</td><td>  19639040</td><td> 1048.9</td><td>  19639040</td><td> 1048.9</td></tr>\n",
       "\t<tr><th scope=row>Vcells</th><td>1491927859</td><td>11382.6</td><td>2411819607</td><td>18400.8</td><td>2411705146</td><td>18399.9</td></tr>\n",
       "</tbody>\n",
       "</table>\n"
      ],
      "text/latex": [
       "A matrix: 2 × 6 of type dbl\n",
       "\\begin{tabular}{r|llllll}\n",
       "  & used & (Mb) & gc trigger & (Mb) & max used & (Mb)\\\\\n",
       "\\hline\n",
       "\tNcells &   10919805 &   583.2 &   19639040 &  1048.9 &   19639040 &  1048.9\\\\\n",
       "\tVcells & 1491927859 & 11382.6 & 2411819607 & 18400.8 & 2411705146 & 18399.9\\\\\n",
       "\\end{tabular}\n"
      ],
      "text/markdown": [
       "\n",
       "A matrix: 2 × 6 of type dbl\n",
       "\n",
       "| <!--/--> | used | (Mb) | gc trigger | (Mb) | max used | (Mb) |\n",
       "|---|---|---|---|---|---|---|\n",
       "| Ncells |   10919805 |   583.2 |   19639040 |  1048.9 |   19639040 |  1048.9 |\n",
       "| Vcells | 1491927859 | 11382.6 | 2411819607 | 18400.8 | 2411705146 | 18399.9 |\n",
       "\n"
      ],
      "text/plain": [
       "       used       (Mb)    gc trigger (Mb)    max used   (Mb)   \n",
       "Ncells   10919805   583.2   19639040  1048.9   19639040  1048.9\n",
       "Vcells 1491927859 11382.6 2411819607 18400.8 2411705146 18399.9"
      ]
     },
     "metadata": {},
     "output_type": "display_data"
    },
    {
     "data": {
      "text/html": [
       "0"
      ],
      "text/latex": [
       "0"
      ],
      "text/markdown": [
       "0"
      ],
      "text/plain": [
       "[1] 0"
      ]
     },
     "metadata": {},
     "output_type": "display_data"
    },
    {
     "name": "stderr",
     "output_type": "stream",
     "text": [
      "Warning message in rm(yAggCons0):\n",
      "\"object 'yAggCons0' not found\"\n"
     ]
    },
    {
     "data": {
      "text/html": [
       "<table class=\"dataframe\">\n",
       "<caption>A matrix: 2 × 6 of type dbl</caption>\n",
       "<thead>\n",
       "\t<tr><th></th><th scope=col>used</th><th scope=col>(Mb)</th><th scope=col>gc trigger</th><th scope=col>(Mb)</th><th scope=col>max used</th><th scope=col>(Mb)</th></tr>\n",
       "</thead>\n",
       "<tbody>\n",
       "\t<tr><th scope=row>Ncells</th><td>  10925121</td><td>  583.5</td><td>  19639040</td><td> 1048.9</td><td>  19639040</td><td> 1048.9</td></tr>\n",
       "\t<tr><th scope=row>Vcells</th><td>1995837506</td><td>15227.1</td><td>3473196233</td><td>26498.4</td><td>3213583920</td><td>24517.7</td></tr>\n",
       "</tbody>\n",
       "</table>\n"
      ],
      "text/latex": [
       "A matrix: 2 × 6 of type dbl\n",
       "\\begin{tabular}{r|llllll}\n",
       "  & used & (Mb) & gc trigger & (Mb) & max used & (Mb)\\\\\n",
       "\\hline\n",
       "\tNcells &   10925121 &   583.5 &   19639040 &  1048.9 &   19639040 &  1048.9\\\\\n",
       "\tVcells & 1995837506 & 15227.1 & 3473196233 & 26498.4 & 3213583920 & 24517.7\\\\\n",
       "\\end{tabular}\n"
      ],
      "text/markdown": [
       "\n",
       "A matrix: 2 × 6 of type dbl\n",
       "\n",
       "| <!--/--> | used | (Mb) | gc trigger | (Mb) | max used | (Mb) |\n",
       "|---|---|---|---|---|---|---|\n",
       "| Ncells |   10925121 |   583.5 |   19639040 |  1048.9 |   19639040 |  1048.9 |\n",
       "| Vcells | 1995837506 | 15227.1 | 3473196233 | 26498.4 | 3213583920 | 24517.7 |\n",
       "\n"
      ],
      "text/plain": [
       "       used       (Mb)    gc trigger (Mb)    max used   (Mb)   \n",
       "Ncells   10925121   583.5   19639040  1048.9   19639040  1048.9\n",
       "Vcells 1995837506 15227.1 3473196233 26498.4 3213583920 24517.7"
      ]
     },
     "metadata": {},
     "output_type": "display_data"
    }
   ],
   "source": [
    "treeMeanInf0 <- mergeTree(treesMeanInf0, se = mapDf)\n",
    "mb <- mergeLeaves(treeMeanInf0, seMuscle[txpsAll,])\n",
    "treeMeanInf0 <- mb[[\"tree\"]]\n",
    "yMeanInfNS0 <- mb[[\"ySwish\"]]\n",
    "rm(mb)\n",
    "gc()\n",
    "sum(rownames(yMeanInfNS0) != treeMeanInf0$tip)\n",
    "yAggMeanInfNS0 <- prepSwish(treeMeanInf0, seMuscle[treeMeanInf0$tip,])\n",
    "yAggMeanInfNS0 <- fishpond::computeInfRV(yAggMeanInfNS0, meanVariance=F)\n",
    "yAggMeanInf0 <- prepSwish(treeMeanInf0, seMuscleScaled[treeMeanInf0$tip,])\n",
    "infReps <- assays(yAggMeanInf0)[grep(\"infRep\", assayNames(yAggMeanInf0))]\n",
    "infReps <- abind::abind(as.list(infReps), along = 3)\n",
    "mcols(yAggMeanInfNS0)[[\"LFC\"]] <- getLog2FC(infReps, colData(yAggMeanInf0)[[\"condition\"]])\n",
    "rm(yAggMeanInf0)\n",
    "gc()\n",
    "save(yAggMeanInfNS0, file=file.path(save_dir, \"yAggMeanInfNS0.RData\"))\n",
    "save(treeMeanInf0, file=file.path(save_dir, \"treeMeanInf0.RData\"))"
   ]
  },
  {
   "cell_type": "markdown",
   "id": "af42c0f4",
   "metadata": {},
   "source": [
    "#### Correlation"
   ]
  },
  {
   "cell_type": "code",
   "execution_count": 32,
   "id": "efa8f0db",
   "metadata": {},
   "outputs": [
    {
     "name": "stdout",
     "output_type": "stream",
     "text": [
      "[1] \"Missing txps 34029\"\n"
     ]
    },
    {
     "data": {
      "text/html": [
       "<table class=\"dataframe\">\n",
       "<caption>A matrix: 2 × 6 of type dbl</caption>\n",
       "<thead>\n",
       "\t<tr><th></th><th scope=col>used</th><th scope=col>(Mb)</th><th scope=col>gc trigger</th><th scope=col>(Mb)</th><th scope=col>max used</th><th scope=col>(Mb)</th></tr>\n",
       "</thead>\n",
       "<tbody>\n",
       "\t<tr><th scope=row>Ncells</th><td>  10925015</td><td>  583.5</td><td>  19639040</td><td> 1048.9</td><td>  19639040</td><td> 1048.9</td></tr>\n",
       "\t<tr><th scope=row>Vcells</th><td>1996541499</td><td>15232.5</td><td>3473196233</td><td>26498.4</td><td>3213583920</td><td>24517.7</td></tr>\n",
       "</tbody>\n",
       "</table>\n"
      ],
      "text/latex": [
       "A matrix: 2 × 6 of type dbl\n",
       "\\begin{tabular}{r|llllll}\n",
       "  & used & (Mb) & gc trigger & (Mb) & max used & (Mb)\\\\\n",
       "\\hline\n",
       "\tNcells &   10925015 &   583.5 &   19639040 &  1048.9 &   19639040 &  1048.9\\\\\n",
       "\tVcells & 1996541499 & 15232.5 & 3473196233 & 26498.4 & 3213583920 & 24517.7\\\\\n",
       "\\end{tabular}\n"
      ],
      "text/markdown": [
       "\n",
       "A matrix: 2 × 6 of type dbl\n",
       "\n",
       "| <!--/--> | used | (Mb) | gc trigger | (Mb) | max used | (Mb) |\n",
       "|---|---|---|---|---|---|---|\n",
       "| Ncells |   10925015 |   583.5 |   19639040 |  1048.9 |   19639040 |  1048.9 |\n",
       "| Vcells | 1996541499 | 15232.5 | 3473196233 | 26498.4 | 3213583920 | 24517.7 |\n",
       "\n"
      ],
      "text/plain": [
       "       used       (Mb)    gc trigger (Mb)    max used   (Mb)   \n",
       "Ncells   10925015   583.5   19639040  1048.9   19639040  1048.9\n",
       "Vcells 1996541499 15232.5 3473196233 26498.4 3213583920 24517.7"
      ]
     },
     "metadata": {},
     "output_type": "display_data"
    },
    {
     "data": {
      "text/html": [
       "<table class=\"dataframe\">\n",
       "<caption>A matrix: 2 × 6 of type dbl</caption>\n",
       "<thead>\n",
       "\t<tr><th></th><th scope=col>used</th><th scope=col>(Mb)</th><th scope=col>gc trigger</th><th scope=col>(Mb)</th><th scope=col>max used</th><th scope=col>(Mb)</th></tr>\n",
       "</thead>\n",
       "<tbody>\n",
       "\t<tr><th scope=row>Ncells</th><td>  10925860</td><td>  583.6</td><td>  19639040</td><td> 1048.9</td><td>  19639040</td><td> 1048.9</td></tr>\n",
       "\t<tr><th scope=row>Vcells</th><td>2211422604</td><td>16871.9</td><td>4167915479</td><td>31798.7</td><td>3661073694</td><td>27931.8</td></tr>\n",
       "</tbody>\n",
       "</table>\n"
      ],
      "text/latex": [
       "A matrix: 2 × 6 of type dbl\n",
       "\\begin{tabular}{r|llllll}\n",
       "  & used & (Mb) & gc trigger & (Mb) & max used & (Mb)\\\\\n",
       "\\hline\n",
       "\tNcells &   10925860 &   583.6 &   19639040 &  1048.9 &   19639040 &  1048.9\\\\\n",
       "\tVcells & 2211422604 & 16871.9 & 4167915479 & 31798.7 & 3661073694 & 27931.8\\\\\n",
       "\\end{tabular}\n"
      ],
      "text/markdown": [
       "\n",
       "A matrix: 2 × 6 of type dbl\n",
       "\n",
       "| <!--/--> | used | (Mb) | gc trigger | (Mb) | max used | (Mb) |\n",
       "|---|---|---|---|---|---|---|\n",
       "| Ncells |   10925860 |   583.6 |   19639040 |  1048.9 |   19639040 |  1048.9 |\n",
       "| Vcells | 2211422604 | 16871.9 | 4167915479 | 31798.7 | 3661073694 | 27931.8 |\n",
       "\n"
      ],
      "text/plain": [
       "       used       (Mb)    gc trigger (Mb)    max used   (Mb)   \n",
       "Ncells   10925860   583.6   19639040  1048.9   19639040  1048.9\n",
       "Vcells 2211422604 16871.9 4167915479 31798.7 3661073694 27931.8"
      ]
     },
     "metadata": {},
     "output_type": "display_data"
    }
   ],
   "source": [
    "mb <- mergeLeaves(trMeanCorUPGMANorm, seMuscle[txpsAll,])\n",
    "treeCor <- mb[[\"tree\"]]\n",
    "rm(mb)\n",
    "gc()\n",
    "yAggCorNS <- prepSwish(treeCor, seMuscle[treeCor$tip,])\n",
    "yAggCorNS <- fishpond::computeInfRV(yAggCorNS, meanVariance=F)\n",
    "yAggCor <- prepSwish(treeCor, seMuscleScaled[treeCor$tip,])\n",
    "\n",
    "infReps <- assays(yAggCor)[grep(\"infRep\", assayNames(yAggCor))]\n",
    "infReps <- abind::abind(as.list(infReps), along = 3)\n",
    "mcols(yAggCorNS)[[\"LFC\"]] <- getLog2FC(infReps, colData(yAggCor)[[\"condition\"]])\n",
    "rm(yAggCor)\n",
    "gc()\n",
    "save(yAggCorNS, file=file.path(save_dir, \"yAggCorNS.RData\"))\n",
    "save(treeCor, file=file.path(save_dir, \"treeCor.RData\"))"
   ]
  },
  {
   "cell_type": "markdown",
   "id": "5ef49308",
   "metadata": {},
   "source": [
    "#### Correlation Norm"
   ]
  },
  {
   "cell_type": "markdown",
   "id": "36d5dc4e",
   "metadata": {},
   "source": [
    "#### Threshold"
   ]
  },
  {
   "cell_type": "code",
   "execution_count": 33,
   "id": "24766fa3",
   "metadata": {},
   "outputs": [
    {
     "name": "stdout",
     "output_type": "stream",
     "text": [
      "[1] \"Missing txps 84152\"\n"
     ]
    },
    {
     "data": {
      "text/html": [
       "<table class=\"dataframe\">\n",
       "<caption>A matrix: 2 × 6 of type dbl</caption>\n",
       "<thead>\n",
       "\t<tr><th></th><th scope=col>used</th><th scope=col>(Mb)</th><th scope=col>gc trigger</th><th scope=col>(Mb)</th><th scope=col>max used</th><th scope=col>(Mb)</th></tr>\n",
       "</thead>\n",
       "<tbody>\n",
       "\t<tr><th scope=row>Ncells</th><td>  10926729</td><td>  583.6</td><td>  19639040</td><td> 1048.9</td><td>  19639040</td><td> 1048.9</td></tr>\n",
       "\t<tr><th scope=row>Vcells</th><td>2349009769</td><td>17921.6</td><td>4167915479</td><td>31798.7</td><td>3661073694</td><td>27931.8</td></tr>\n",
       "</tbody>\n",
       "</table>\n"
      ],
      "text/latex": [
       "A matrix: 2 × 6 of type dbl\n",
       "\\begin{tabular}{r|llllll}\n",
       "  & used & (Mb) & gc trigger & (Mb) & max used & (Mb)\\\\\n",
       "\\hline\n",
       "\tNcells &   10926729 &   583.6 &   19639040 &  1048.9 &   19639040 &  1048.9\\\\\n",
       "\tVcells & 2349009769 & 17921.6 & 4167915479 & 31798.7 & 3661073694 & 27931.8\\\\\n",
       "\\end{tabular}\n"
      ],
      "text/markdown": [
       "\n",
       "A matrix: 2 × 6 of type dbl\n",
       "\n",
       "| <!--/--> | used | (Mb) | gc trigger | (Mb) | max used | (Mb) |\n",
       "|---|---|---|---|---|---|---|\n",
       "| Ncells |   10926729 |   583.6 |   19639040 |  1048.9 |   19639040 |  1048.9 |\n",
       "| Vcells | 2349009769 | 17921.6 | 4167915479 | 31798.7 | 3661073694 | 27931.8 |\n",
       "\n"
      ],
      "text/plain": [
       "       used       (Mb)    gc trigger (Mb)    max used   (Mb)   \n",
       "Ncells   10926729   583.6   19639040  1048.9   19639040  1048.9\n",
       "Vcells 2349009769 17921.6 4167915479 31798.7 3661073694 27931.8"
      ]
     },
     "metadata": {},
     "output_type": "display_data"
    },
    {
     "data": {
      "text/html": [
       "0"
      ],
      "text/latex": [
       "0"
      ],
      "text/markdown": [
       "0"
      ],
      "text/plain": [
       "[1] 0"
      ]
     },
     "metadata": {},
     "output_type": "display_data"
    },
    {
     "data": {
      "text/html": [
       "<table class=\"dataframe\">\n",
       "<caption>A matrix: 2 × 6 of type dbl</caption>\n",
       "<thead>\n",
       "\t<tr><th></th><th scope=col>used</th><th scope=col>(Mb)</th><th scope=col>gc trigger</th><th scope=col>(Mb)</th><th scope=col>max used</th><th scope=col>(Mb)</th></tr>\n",
       "</thead>\n",
       "<tbody>\n",
       "\t<tr><th scope=row>Ncells</th><td>  10927593</td><td>  583.6</td><td>  19639040</td><td> 1048.9</td><td>  19639040</td><td> 1048.9</td></tr>\n",
       "\t<tr><th scope=row>Vcells</th><td>2434666228</td><td>18575.1</td><td>4167915479</td><td>31798.7</td><td>3724641431</td><td>28416.8</td></tr>\n",
       "</tbody>\n",
       "</table>\n"
      ],
      "text/latex": [
       "A matrix: 2 × 6 of type dbl\n",
       "\\begin{tabular}{r|llllll}\n",
       "  & used & (Mb) & gc trigger & (Mb) & max used & (Mb)\\\\\n",
       "\\hline\n",
       "\tNcells &   10927593 &   583.6 &   19639040 &  1048.9 &   19639040 &  1048.9\\\\\n",
       "\tVcells & 2434666228 & 18575.1 & 4167915479 & 31798.7 & 3724641431 & 28416.8\\\\\n",
       "\\end{tabular}\n"
      ],
      "text/markdown": [
       "\n",
       "A matrix: 2 × 6 of type dbl\n",
       "\n",
       "| <!--/--> | used | (Mb) | gc trigger | (Mb) | max used | (Mb) |\n",
       "|---|---|---|---|---|---|---|\n",
       "| Ncells |   10927593 |   583.6 |   19639040 |  1048.9 |   19639040 |  1048.9 |\n",
       "| Vcells | 2434666228 | 18575.1 | 4167915479 | 31798.7 | 3724641431 | 28416.8 |\n",
       "\n"
      ],
      "text/plain": [
       "       used       (Mb)    gc trigger (Mb)    max used   (Mb)   \n",
       "Ncells   10927593   583.6   19639040  1048.9   19639040  1048.9\n",
       "Vcells 2434666228 18575.1 4167915479 31798.7 3724641431 28416.8"
      ]
     },
     "metadata": {},
     "output_type": "display_data"
    }
   ],
   "source": [
    "treeThr <- mergeTree(treesThr, se = mapDf)\n",
    "mb <- mergeLeaves(treeThr, seMuscle[txpsAll,])\n",
    "treeThr<- mb[[\"tree\"]]\n",
    "yThrNS <- mb[[\"ySwish\"]]\n",
    "rm(mb)\n",
    "gc()\n",
    "sum(rownames(yThrNS) != treeThr$tip)\n",
    "\n",
    "yAggThrNS <- prepSwish(treeThr, seMuscle[treeThr$tip,])\n",
    "yAggThrNS <- fishpond::computeInfRV(yAggThrNS, meanVariance=F)\n",
    "\n",
    "yAggThr <- prepSwish(treeThr, seMuscleScaled[treeThr$tip,])\n",
    "\n",
    "infReps <- assays(yAggThr)[grep(\"infRep\", assayNames(yAggThr))]\n",
    "infReps <- abind::abind(as.list(infReps), along = 3)\n",
    "mcols(yAggThrNS)[[\"LFC\"]] <- getLog2FC(infReps, colData(yAggThrNS)[[\"condition\"]])\n",
    "\n",
    "rm(yAggThr)\n",
    "gc()\n",
    "\n",
    "save(yAggThrNS, file=file.path(save_dir, \"yAggThrNS.RData\"))\n",
    "save(treeThr, file=file.path(save_dir, \"treeThr.RData\"))"
   ]
  },
  {
   "cell_type": "code",
   "execution_count": 34,
   "id": "65265a9c",
   "metadata": {},
   "outputs": [],
   "source": [
    "#### NGenes\n",
    "nNodes <- length(treeCor$tip)+1:treeCor$Nnode\n",
    "desc <- Descendants(treeCor, nNodes)\n",
    "genesCor <- mclapply(desc, function(txps) unique(mapDf[treeCor$tip.label[txps],1]), mc.cores=1)\n",
    "save(genesCor, file=file.path(save_dir, \"genesCor.RData\"))"
   ]
  },
  {
   "cell_type": "code",
   "execution_count": 8,
   "id": "154b8886",
   "metadata": {},
   "outputs": [],
   "source": [
    "# mb <- mergeLeaves(trMeanCorUPGMANorm, seMuscle[txpsAll,])\n",
    "# treeCorNorm <- mb[[\"tree\"]]\n",
    "# rm(mb)\n",
    "# gc()\n",
    "yAggCorNormNS <- prepSwish(treeCorNorm, seMuscle[treeCorNorm$tip,])\n",
    "yAggCorNormNS <- computeInfRV(yAggCorNormNS, meanVariance=F)\n",
    "# yAggCor <- prepSwish(treeCor, se[treeCor$tip,])\n",
    "# mcols(yAggCor) <- mcols(yAggCorNS)\n",
    "save(yAggCorNormNS, file=\"environment/real_datasets/GSE100505/mode_gcbias=True/posttype=gibbs_npost=100_tf=100/comp_trees/yAggCorNormNS.RData\")\n",
    "# save(yAggCor, file=\"environment/real_datasets/GSE100505/mode_gcbias=True/posttype=gibbs_npost=100_tf=100/comp_trees/yAggCor.RData\")\n",
    "save(treeCorNorm, file=\"environment/real_datasets/GSE100505/mode_gcbias=True/posttype=gibbs_npost=100_tf=100/comp_trees/treeCorNorm.RData\")"
   ]
  },
  {
   "cell_type": "code",
   "execution_count": 37,
   "id": "4473e1e0",
   "metadata": {},
   "outputs": [],
   "source": [
    "#### NGenes\n",
    "nNodes <- length(treeCons$tip)+1:treeCons$Nnode\n",
    "desc <- Descendants(treeCons, nNodes)\n",
    "genesCons <- mclapply(desc, function(txps) unique(mapDf[treeCons$tip.label[txps],1]), mc.cores=1)\n",
    "save(genesCons, file=file.path(save_dir, \"genesCons.RData\"))"
   ]
  },
  {
   "cell_type": "code",
   "execution_count": 38,
   "id": "e74e1f89",
   "metadata": {},
   "outputs": [],
   "source": [
    "#### NGenes\n",
    "nNodes <- length(treeCons0$tip)+1:treeCons0$Nnode\n",
    "desc <- Descendants(treeCons0, nNodes)\n",
    "genesCons0 <- mclapply(desc, function(txps) unique(mapDf[treeCons0$tip.label[txps],1]), mc.cores=1)\n",
    "save(genesCons0, file=file.path(save_dir, \"genesCons0.RData\"))"
   ]
  },
  {
   "cell_type": "code",
   "execution_count": 39,
   "id": "aaf10c26",
   "metadata": {},
   "outputs": [],
   "source": [
    "#### NGenes\n",
    "nNodes <- length(treeMeanInf0$tip)+1:treeMeanInf0$Nnode\n",
    "desc <- Descendants(treeMeanInf0, nNodes)\n",
    "genesMeanInf0 <- mclapply(desc, function(txps) unique(mapDf[treeMeanInf0$tip.label[txps],1]), mc.cores=1)\n",
    "save(genesMeanInf0, file=file.path(save_dir, \"genesMeanInf0.RData\"))"
   ]
  },
  {
   "cell_type": "code",
   "execution_count": 46,
   "id": "34103fee",
   "metadata": {},
   "outputs": [],
   "source": [
    "#### NGenes\n",
    "nNodes <- length(treeThr$tip)+1:treeThr$Nnode\n",
    "desc <- Descendants(treeThr, nNodes)\n",
    "genesThr <- mclapply(desc, function(txps) unique(mapDf[treeThr$tip.label[txps],1]), mc.cores=1)\n",
    "save(genesThr, file=file.path(save_dir, \"genesThr.RData\"))"
   ]
  },
  {
   "cell_type": "code",
   "execution_count": 50,
   "id": "fc724c39",
   "metadata": {},
   "outputs": [
    {
     "data": {
      "text/plain": [
       "\n",
       "    1     2     3     4     5     6     7     8     9    10    11    12    13 \n",
       " 8969   747   226   123    87    70    61    36    31    26    23    24    21 \n",
       "   14    15    16    17    18    19    20    21    22    23    24    25    26 \n",
       "   20    17    16    14    15    12    10    11    13    10    10    11     8 \n",
       "   27    28    29    30    31    32    33    34    35    36    37    38    39 \n",
       "    8     8     8     7     8     7     7     7     7     7     8     7     7 \n",
       "   40    41    42    43    44    45    46    47    48    49    50    51    52 \n",
       "    7     6     6     7     6     6     7     6     6     6     7     5     4 \n",
       "   53    54    55    56    57    58    59    60    61    62    63    64    65 \n",
       "    5     5     4     4     4     4     4     4     4     4     4     4     4 \n",
       "   66    67    68    69    70    71    72    73    74    75    76    77    78 \n",
       "    4     3     3     2     2     2     2     2     2     2     1     2     1 \n",
       "   79    80    81    82    83    84    85    86    87    88    89    90    91 \n",
       "    1     1     1     1     1     2     1     1     1     1     1     1     1 \n",
       "   92    93    94    95    96    97    98    99   100   101   102   103   104 \n",
       "    1     1     1     1     1     2     1     1     1     1     1     1     1 \n",
       "  105   106   107   108   109   110   111   112   113   114   115   116   117 \n",
       "    1     1     1     1     1     1     2     1     1     1     1     1     1 \n",
       "  118   119   120   121   122   123   124   125   126   127   128   129   130 \n",
       "    1     1     1     1     1     1     1     1     1     1     1     1     1 \n",
       "  131   132   210   257 27280 \n",
       "    1     1     1     1     1 "
      ]
     },
     "metadata": {},
     "output_type": "display_data"
    },
    {
     "data": {
      "text/plain": [
       "\n",
       "    1     2     3     4     5     6     7     8     9    10    11    12    13 \n",
       "60561  5426  1515   517   258   189   115    74    63    65    48    34    32 \n",
       "   14    15    16    17    18    19    20    21    22    23    24    25    26 \n",
       "   26    19    26    21    16    17    16    13    14    15    11    11    12 \n",
       "   27    28    29    30    31    32    33    34    35    36    37    38    39 \n",
       "   10    10    10     9     8     9     8     8    10     7     7     7     8 \n",
       "   40    41    42    43    44    45    46    47    48    49    50    51    52 \n",
       "    7     6     6     4     4     5     5     4     4     4     5     3     3 \n",
       "   53    54    55    56    57    58    59    60    61    62    63    64    65 \n",
       "    4     3     3     3     3     2     3     3     3     3     4     3     4 \n",
       "   66    67    68    69    70    71    72    73    74    75    76    77    78 \n",
       "    2     1     1     1     1     2     2     1     1     1     1     2     1 \n",
       "   79    80    81    82    83    84    85    86    87    88    89    90    91 \n",
       "    1     1     1     1     1     2     1     1     1     1     1     1     1 \n",
       "   92    93    94    95    96    97    98    99   100   101   102   103   104 \n",
       "    1     1     1     1     1     2     1     1     1     1     1     1     1 \n",
       "  105   106   107   108   109   110   111   112   113   114   115   116   117 \n",
       "    2     1     1     1     1     1     3     1     1     1     1     1     1 \n",
       "  118   119   120   121   122   123   124   125   126   127   210   242   257 \n",
       "    2     1     1     1     1     1     1     1     1     1     1     1     1 \n",
       "  359   520 27280 \n",
       "    1     1     1 "
      ]
     },
     "metadata": {},
     "output_type": "display_data"
    }
   ],
   "source": [
    "table(sapply(genesThr,length))\n",
    "table(sapply(genesCons,length))"
   ]
  },
  {
   "cell_type": "code",
   "execution_count": 48,
   "id": "35710ebd",
   "metadata": {},
   "outputs": [
    {
     "data": {
      "text/plain": [
       "\n",
       "Phylogenetic tree with 102091 tips and 10928 internal nodes.\n",
       "\n",
       "Tip labels:\n",
       "  ENSMUST00000093217.8, ENSMUST00000136822.2, ENSMUST00000161745.2, ENSMUST00000106298.9, ENSMUST00000136801.7, ENSMUST00000122860.1, ...\n",
       "\n",
       "Unrooted; includes branch lengths."
      ]
     },
     "metadata": {},
     "output_type": "display_data"
    },
    {
     "data": {
      "text/plain": [
       "\n",
       "Phylogenetic tree with 102091 tips and 69404 internal nodes.\n",
       "\n",
       "Tip labels:\n",
       "  ENSMUST00000161745.2, ENSMUST00000066175.9, ENSMUST00000172439.1, ENSMUST00000134708.1, ENSMUST00000223737.1, ENSMUST00000185966.1, ...\n",
       "\n",
       "Unrooted; includes branch lengths."
      ]
     },
     "metadata": {},
     "output_type": "display_data"
    }
   ],
   "source": [
    "treeThr\n",
    "treeCons"
   ]
  },
  {
   "cell_type": "code",
   "execution_count": null,
   "id": "dd79dcfe",
   "metadata": {},
   "outputs": [],
   "source": []
  }
 ],
 "metadata": {
  "kernelspec": {
   "display_name": "R",
   "language": "R",
   "name": "ir"
  },
  "language_info": {
   "codemirror_mode": "r",
   "file_extension": ".r",
   "mimetype": "text/x-r-source",
   "name": "R",
   "pygments_lexer": "r",
   "version": "4.1.1"
  }
 },
 "nbformat": 4,
 "nbformat_minor": 5
}
