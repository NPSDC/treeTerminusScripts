{
 "cells": [
  {
   "cell_type": "markdown",
   "id": "27ba1dc9",
   "metadata": {},
   "source": [
    "#### Loading Data"
   ]
  },
  {
   "cell_type": "code",
   "execution_count": 1,
   "id": "14cb5599",
   "metadata": {},
   "outputs": [],
   "source": [
    "setwd('/fs/cbcb-lab/rob/students/noor/Uncertainity/treeTerminusScripts')\n",
    "suppressPackageStartupMessages(source(\"tree_helper_function.R\"))\n",
    "suppressPackageStartupMessages(library(ggplot2))\n",
    "suppressPackageStartupMessages(library(ggpubr))\n",
    "suppressPackageStartupMessages(library(dplyr))\n",
    "load(\"environment/real_datasets/GSE100505/mapDf.RData\")\n",
    "load(\"environment/real_datasets/GSE100505/mode_gcbias=True/posttype=gibbs_npost=100_tf=100/seMuscle.RData\")\n",
    "load(\"environment/real_datasets/GSE100505/mode_gcbias=True/posttype=gibbs_npost=100_tf=100/comp_trees/trMeanCorUPGMA.RData\")"
   ]
  },
  {
   "cell_type": "markdown",
   "id": "51dc865a",
   "metadata": {},
   "source": [
    "#### Reading all the nwk files for the trees"
   ]
  },
  {
   "cell_type": "code",
   "execution_count": 2,
   "id": "339d7974",
   "metadata": {},
   "outputs": [],
   "source": [
    "dir <- \"/fs/cbcb-lab/rob/students/noor/Uncertainity/real_datasets/GSE100505/term_out/mode_gcbias=True/posttype=gibbs_npost=100_tf=100\"\n",
    "treesCons0 <- read.tree(file.path(dir, \"no_threshold0\", \"cluster_nwk.txt\"))\n",
    "txpsCons0 <- rownames(seMuscle)[as.numeric(unlist(lapply(treesCons0, function(tr) tr$tip)))+1]\n",
    "treesCons <- read.tree(file.path(dir, \"no_threshold\", \"cluster_nwk.txt\"))\n",
    "txpsCons <- rownames(seMuscle)[as.numeric(unlist(lapply(treesCons, function(tr) tr$tip)))+1]\n",
    "treesMeanInf0 <- read.tree(file.path(dir, \"no_threshold_mean_inf_0\", \"group_nwk.txt\"))\n",
    "txpsMeanInf0 <- rownames(seMuscle)[as.numeric(unlist(lapply(treesMeanInf0, function(tr) tr$tip)))+1]\n",
    "groupsThr <- read.delim(file.path(dir, \"threshold\", \"SRR5758624\", \"clusters.txt\"), header = F)\n",
    "txpsThr <- unlist(sapply(strsplit(groupsThr$V1, split=\",\", fixed=T), function(x) x[2:length(x)]))                                                  \n",
    "txpsCor <- trMeanCorUPGMA$tip"
   ]
  },
  {
   "cell_type": "code",
   "execution_count": 3,
   "id": "f326c962",
   "metadata": {},
   "outputs": [
    {
     "data": {
      "text/html": [
       "7792"
      ],
      "text/latex": [
       "7792"
      ],
      "text/markdown": [
       "7792"
      ],
      "text/plain": [
       "[1] 7792"
      ]
     },
     "metadata": {},
     "output_type": "display_data"
    },
    {
     "data": {
      "text/html": [
       "68062"
      ],
      "text/latex": [
       "68062"
      ],
      "text/markdown": [
       "68062"
      ],
      "text/plain": [
       "[1] 68062"
      ]
     },
     "metadata": {},
     "output_type": "display_data"
    },
    {
     "data": {
      "text/html": [
       "98091"
      ],
      "text/latex": [
       "98091"
      ],
      "text/markdown": [
       "98091"
      ],
      "text/plain": [
       "[1] 98091"
      ]
     },
     "metadata": {},
     "output_type": "display_data"
    },
    {
     "data": {
      "text/html": [
       "97360"
      ],
      "text/latex": [
       "97360"
      ],
      "text/markdown": [
       "97360"
      ],
      "text/plain": [
       "[1] 97360"
      ]
     },
     "metadata": {},
     "output_type": "display_data"
    },
    {
     "data": {
      "text/html": [
       "88494"
      ],
      "text/latex": [
       "88494"
      ],
      "text/markdown": [
       "88494"
      ],
      "text/plain": [
       "[1] 88494"
      ]
     },
     "metadata": {},
     "output_type": "display_data"
    }
   ],
   "source": [
    "length(txpsThr)\n",
    "length(txpsCor)\n",
    "length(txpsMeanInf0)\n",
    "length(txpsCons0)\n",
    "length(txpsCons)"
   ]
  },
  {
   "cell_type": "code",
   "execution_count": 4,
   "id": "fe0fe1db",
   "metadata": {},
   "outputs": [
    {
     "data": {
      "text/html": [
       "102097"
      ],
      "text/latex": [
       "102097"
      ],
      "text/markdown": [
       "102097"
      ],
      "text/plain": [
       "[1] 102097"
      ]
     },
     "metadata": {},
     "output_type": "display_data"
    }
   ],
   "source": [
    "txpsAll <- Reduce(union,list(txpsCons0, txpsCons, txpsThr, txpsMeanInf0, txpsCor))\n",
    "length(txpsAll)\n",
    "se <- scaleInfReps(seMuscle)\n",
    "se <- labelKeep(se)"
   ]
  },
  {
   "cell_type": "markdown",
   "id": "794de85a",
   "metadata": {},
   "source": [
    "#### Consensus Tree"
   ]
  },
  {
   "cell_type": "code",
   "execution_count": 12,
   "id": "3e95de06",
   "metadata": {},
   "outputs": [
    {
     "name": "stdout",
     "output_type": "stream",
     "text": [
      "[1] \"Missing txps 13603\"\n"
     ]
    },
    {
     "data": {
      "text/html": [
       "<table class=\"dataframe\">\n",
       "<caption>A matrix: 2 × 6 of type dbl</caption>\n",
       "<thead>\n",
       "\t<tr><th></th><th scope=col>used</th><th scope=col>(Mb)</th><th scope=col>gc trigger</th><th scope=col>(Mb)</th><th scope=col>max used</th><th scope=col>(Mb)</th></tr>\n",
       "</thead>\n",
       "<tbody>\n",
       "\t<tr><th scope=row>Ncells</th><td>  10865605</td><td>  580.3</td><td>  19358162</td><td> 1033.9</td><td>  19358162</td><td> 1033.9</td></tr>\n",
       "\t<tr><th scope=row>Vcells</th><td>1615337864</td><td>12324.1</td><td>2361746715</td><td>18018.7</td><td>2030392169</td><td>15490.7</td></tr>\n",
       "</tbody>\n",
       "</table>\n"
      ],
      "text/latex": [
       "A matrix: 2 × 6 of type dbl\n",
       "\\begin{tabular}{r|llllll}\n",
       "  & used & (Mb) & gc trigger & (Mb) & max used & (Mb)\\\\\n",
       "\\hline\n",
       "\tNcells &   10865605 &   580.3 &   19358162 &  1033.9 &   19358162 &  1033.9\\\\\n",
       "\tVcells & 1615337864 & 12324.1 & 2361746715 & 18018.7 & 2030392169 & 15490.7\\\\\n",
       "\\end{tabular}\n"
      ],
      "text/markdown": [
       "\n",
       "A matrix: 2 × 6 of type dbl\n",
       "\n",
       "| <!--/--> | used | (Mb) | gc trigger | (Mb) | max used | (Mb) |\n",
       "|---|---|---|---|---|---|---|\n",
       "| Ncells |   10865605 |   580.3 |   19358162 |  1033.9 |   19358162 |  1033.9 |\n",
       "| Vcells | 1615337864 | 12324.1 | 2361746715 | 18018.7 | 2030392169 | 15490.7 |\n",
       "\n"
      ],
      "text/plain": [
       "       used       (Mb)    gc trigger (Mb)    max used   (Mb)   \n",
       "Ncells   10865605   580.3   19358162  1033.9   19358162  1033.9\n",
       "Vcells 1615337864 12324.1 2361746715 18018.7 2030392169 15490.7"
      ]
     },
     "metadata": {},
     "output_type": "display_data"
    },
    {
     "data": {
      "text/html": [
       "0"
      ],
      "text/latex": [
       "0"
      ],
      "text/markdown": [
       "0"
      ],
      "text/plain": [
       "[1] 0"
      ]
     },
     "metadata": {},
     "output_type": "display_data"
    }
   ],
   "source": [
    "treeCons <- mergeTree(treesCons, se = mapDf)\n",
    "mb <- mergeLeaves(treeCons, seMuscle[txpsAll,])\n",
    "treeCons <- mb[[\"tree\"]]\n",
    "yConsNS <- mb[[\"ySwish\"]]\n",
    "rm(mb)\n",
    "gc()\n",
    "sum(rownames(yConsNS) != treeCons$tip)\n",
    "yAggConsNS <- prepSwish(treeCons, seMuscle[treeCons$tip,])\n",
    "yAggConsNS <- computeInfRV(yAggConsNS, meanVariance=F)\n",
    "yAggCons <- prepSwish(treeCons, se[treeCons$tip,])\n",
    "mcols(yAggCons) <- mcols(yAggConsNS)\n",
    "save(yAggConsNS, file=\"environment/real_datasets/GSE100505/mode_gcbias=True/posttype=gibbs_npost=100_tf=100/comp_trees/yAggConsNS.RData\")\n",
    "save(yAggCons, file=\"environment/real_datasets/GSE100505/mode_gcbias=True/posttype=gibbs_npost=100_tf=100/comp_trees/yAggCons.RData\")\n",
    "\n",
    "save(treeCons, file=\"environment/real_datasets/GSE100505/mode_gcbias=True/posttype=gibbs_npost=100_tf=100/comp_trees/treeCons.RData\")"
   ]
  },
  {
   "cell_type": "markdown",
   "id": "173d541e",
   "metadata": {},
   "source": [
    "#### Consensus Tree 0"
   ]
  },
  {
   "cell_type": "code",
   "execution_count": 13,
   "id": "1dc970eb",
   "metadata": {},
   "outputs": [
    {
     "name": "stdout",
     "output_type": "stream",
     "text": [
      "[1] \"Missing txps 4737\"\n"
     ]
    },
    {
     "data": {
      "text/html": [
       "<table class=\"dataframe\">\n",
       "<caption>A matrix: 2 × 6 of type dbl</caption>\n",
       "<thead>\n",
       "\t<tr><th></th><th scope=col>used</th><th scope=col>(Mb)</th><th scope=col>gc trigger</th><th scope=col>(Mb)</th><th scope=col>max used</th><th scope=col>(Mb)</th></tr>\n",
       "</thead>\n",
       "<tbody>\n",
       "\t<tr><th scope=row>Ncells</th><td>  10868011</td><td>  580.5</td><td>  19358162</td><td> 1033.9</td><td>  19358162</td><td> 1033.9</td></tr>\n",
       "\t<tr><th scope=row>Vcells</th><td>2207731151</td><td>16843.7</td><td>3401091269</td><td>25948.3</td><td>2647996485</td><td>20202.7</td></tr>\n",
       "</tbody>\n",
       "</table>\n"
      ],
      "text/latex": [
       "A matrix: 2 × 6 of type dbl\n",
       "\\begin{tabular}{r|llllll}\n",
       "  & used & (Mb) & gc trigger & (Mb) & max used & (Mb)\\\\\n",
       "\\hline\n",
       "\tNcells &   10868011 &   580.5 &   19358162 &  1033.9 &   19358162 &  1033.9\\\\\n",
       "\tVcells & 2207731151 & 16843.7 & 3401091269 & 25948.3 & 2647996485 & 20202.7\\\\\n",
       "\\end{tabular}\n"
      ],
      "text/markdown": [
       "\n",
       "A matrix: 2 × 6 of type dbl\n",
       "\n",
       "| <!--/--> | used | (Mb) | gc trigger | (Mb) | max used | (Mb) |\n",
       "|---|---|---|---|---|---|---|\n",
       "| Ncells |   10868011 |   580.5 |   19358162 |  1033.9 |   19358162 |  1033.9 |\n",
       "| Vcells | 2207731151 | 16843.7 | 3401091269 | 25948.3 | 2647996485 | 20202.7 |\n",
       "\n"
      ],
      "text/plain": [
       "       used       (Mb)    gc trigger (Mb)    max used   (Mb)   \n",
       "Ncells   10868011   580.5   19358162  1033.9   19358162  1033.9\n",
       "Vcells 2207731151 16843.7 3401091269 25948.3 2647996485 20202.7"
      ]
     },
     "metadata": {},
     "output_type": "display_data"
    },
    {
     "data": {
      "text/html": [
       "0"
      ],
      "text/latex": [
       "0"
      ],
      "text/markdown": [
       "0"
      ],
      "text/plain": [
       "[1] 0"
      ]
     },
     "metadata": {},
     "output_type": "display_data"
    }
   ],
   "source": [
    "treeCons0 <- mergeTree(treesCons0, se = mapDf)\n",
    "mb <- mergeLeaves(treeCons0, seMuscle[txpsAll,])\n",
    "treeCons0 <- mb[[\"tree\"]]\n",
    "yConsNS0 <- mb[[\"ySwish\"]]\n",
    "rm(mb)\n",
    "gc()\n",
    "sum(rownames(yConsNS0) != treeCons0$tip)\n",
    "yAggConsNS0 <- prepSwish(treeCons0, seMuscle[treeCons0$tip,])\n",
    "yAggConsNS0 <- computeInfRV(yAggConsNS0, meanVariance=F)\n",
    "yAggCons0 <- prepSwish(treeCons0, se[treeCons0$tip,])\n",
    "mcols(yAggCons0) <- mcols(yAggConsNS0)\n",
    "save(yAggConsNS0, file=\"environment/real_datasets/GSE100505/mode_gcbias=True/posttype=gibbs_npost=100_tf=100/comp_trees/yAggConsNS0.RData\")\n",
    "save(yAggCons0, file=\"environment/real_datasets/GSE100505/mode_gcbias=True/posttype=gibbs_npost=100_tf=100/comp_trees/yAggCons0.RData\")\n",
    "save(treeCons0, file=\"environment/real_datasets/GSE100505/mode_gcbias=True/posttype=gibbs_npost=100_tf=100/comp_trees/treeCons0.RData\")"
   ]
  },
  {
   "cell_type": "markdown",
   "id": "be968a9d",
   "metadata": {},
   "source": [
    "#### Mean Inf Tree 0"
   ]
  },
  {
   "cell_type": "code",
   "execution_count": 6,
   "id": "3f5afc7e",
   "metadata": {},
   "outputs": [],
   "source": [
    "treeMeanInf0 <- mergeTree(treesMeanInf0, se = mapDf)\n",
    "mb <- mergeLeaves(treeMeanInf0, seMuscle[txpsAll,])\n",
    "treeMeanInf0 <- mb[[\"tree\"]]\n",
    "yMeanInfNS0 <- mb[[\"ySwish\"]]\n",
    "rm(mb)\n",
    "gc()\n",
    "sum(rownames(yMeanInfNS0) != treeMeanInf0$tip)\n",
    "yAggMeanInfNS0 <- prepSwish(treeMeanInf0, seMuscle[treeMeanInf0$tip,])\n",
    "yAggMeanInfNS0 <- computeInfRV(yAggMeanInfNS0, meanVariance=F)\n",
    "yAggMeanInf0 <- prepSwish(treeMeanInf0, se[treeMeanInf0$tip,])\n",
    "mcols(yAggMeanInf0) <- mcols(yAggCorMeanInfNS0)\n",
    "save(yAggMeanInfNS0, file=\"environment/real_datasets/GSE100505/mode_gcbias=True/posttype=gibbs_npost=100_tf=100/comp_trees/yAggMeanInfNS0.RData\")\n",
    "save(yAggMeanInf0, file=\"environment/real_datasets/GSE100505/mode_gcbias=True/posttype=gibbs_npost=100_tf=100/comp_trees/yAggMeanInf0.RData\")\n",
    "save(treeMeanInf0, file=\"environment/real_datasets/GSE100505/mode_gcbias=True/posttype=gibbs_npost=100_tf=100/comp_trees/treeMeanInf0.RData\")"
   ]
  },
  {
   "cell_type": "markdown",
   "id": "af42c0f4",
   "metadata": {},
   "source": [
    "#### Correlation"
   ]
  },
  {
   "cell_type": "code",
   "execution_count": 11,
   "id": "efa8f0db",
   "metadata": {},
   "outputs": [
    {
     "name": "stdout",
     "output_type": "stream",
     "text": [
      "[1] \"Missing txps 34035\"\n"
     ]
    },
    {
     "data": {
      "text/html": [
       "<table class=\"dataframe\">\n",
       "<caption>A matrix: 2 × 6 of type dbl</caption>\n",
       "<thead>\n",
       "\t<tr><th></th><th scope=col>used</th><th scope=col>(Mb)</th><th scope=col>gc trigger</th><th scope=col>(Mb)</th><th scope=col>max used</th><th scope=col>(Mb)</th></tr>\n",
       "</thead>\n",
       "<tbody>\n",
       "\t<tr><th scope=row>Ncells</th><td>  10863126</td><td> 580.2</td><td>  19358162</td><td> 1033.9</td><td>  19358162</td><td> 1033.9</td></tr>\n",
       "\t<tr><th scope=row>Vcells</th><td>1017692240</td><td>7764.4</td><td>1968055596</td><td>15015.1</td><td>1472034418</td><td>11230.8</td></tr>\n",
       "</tbody>\n",
       "</table>\n"
      ],
      "text/latex": [
       "A matrix: 2 × 6 of type dbl\n",
       "\\begin{tabular}{r|llllll}\n",
       "  & used & (Mb) & gc trigger & (Mb) & max used & (Mb)\\\\\n",
       "\\hline\n",
       "\tNcells &   10863126 &  580.2 &   19358162 &  1033.9 &   19358162 &  1033.9\\\\\n",
       "\tVcells & 1017692240 & 7764.4 & 1968055596 & 15015.1 & 1472034418 & 11230.8\\\\\n",
       "\\end{tabular}\n"
      ],
      "text/markdown": [
       "\n",
       "A matrix: 2 × 6 of type dbl\n",
       "\n",
       "| <!--/--> | used | (Mb) | gc trigger | (Mb) | max used | (Mb) |\n",
       "|---|---|---|---|---|---|---|\n",
       "| Ncells |   10863126 |  580.2 |   19358162 |  1033.9 |   19358162 |  1033.9 |\n",
       "| Vcells | 1017692240 | 7764.4 | 1968055596 | 15015.1 | 1472034418 | 11230.8 |\n",
       "\n"
      ],
      "text/plain": [
       "       used       (Mb)   gc trigger (Mb)    max used   (Mb)   \n",
       "Ncells   10863126  580.2   19358162  1033.9   19358162  1033.9\n",
       "Vcells 1017692240 7764.4 1968055596 15015.1 1472034418 11230.8"
      ]
     },
     "metadata": {},
     "output_type": "display_data"
    }
   ],
   "source": [
    "mb <- mergeLeaves(trMeanCorUPGMA, seMuscle[txpsAll,])\n",
    "treeCor <- mb[[\"tree\"]]\n",
    "rm(mb)\n",
    "gc()\n",
    "yAggCorNS <- prepSwish(treeCor, seMuscle[treeCor$tip,])\n",
    "yAggCorNS <- computeInfRV(yAggCorNS, meanVariance=F)\n",
    "yAggCor <- prepSwish(treeCor, se[treeCor$tip,])\n",
    "mcols(yAggCor) <- mcols(yAggCorNS)\n",
    "save(yAggCorNS, file=\"environment/real_datasets/GSE100505/mode_gcbias=True/posttype=gibbs_npost=100_tf=100/comp_trees/yAggCorNS.RData\")\n",
    "save(yAggCor, file=\"environment/real_datasets/GSE100505/mode_gcbias=True/posttype=gibbs_npost=100_tf=100/comp_trees/yAggCor.RData\")\n",
    "save(treeCor, file=\"environment/real_datasets/GSE100505/mode_gcbias=True/posttype=gibbs_npost=100_tf=100/comp_trees/treeCor.RData\")"
   ]
  },
  {
   "cell_type": "code",
   "execution_count": 24,
   "id": "65265a9c",
   "metadata": {},
   "outputs": [],
   "source": [
    "#### NGenes\n",
    "nNodes <- length(treeCor$tip)+1:treeCor$Nnode\n",
    "desc <- Descendants(treeCor, nNodes)\n",
    "genesCor <- mclapply(desc, function(txps) unique(mapDf[treeCor$tip.label[txps],1]), mc.cores=4)\n",
    "save(genesCor, file=\"environment/real_datasets/GSE100505/mode_gcbias=True/posttype=gibbs_npost=100_tf=100/comp_trees/genesCor.RData\")"
   ]
  },
  {
   "cell_type": "code",
   "execution_count": 39,
   "id": "4ca174e8",
   "metadata": {},
   "outputs": [
    {
     "data": {
      "text/plain": [
       "\n",
       "    1     2     3     4     5     6     7     8     9    10    11    12    13 \n",
       "57169  5636  1476   505   241   172   104    74    72    49    46    31    26 \n",
       "   14    15    16    17    18    19    20    21    22    23    24    25    26 \n",
       "   29    20    21    21    15    15    14    11    12    11    11     8     8 \n",
       "   27    28    29    30    31    32    33    34    35    36    37    38    39 \n",
       "    8     8     9     7     8     8     8     7     7     6     7     6     7 \n",
       "   40    41    42    43    44    45    46    47    48    49    50    51    52 \n",
       "    7     5     4     4     4     5     6     5     5     6     6     5     4 \n",
       "   53    54    55    56    57    58    59    60    61    62    63    64    65 \n",
       "    7     6     4     4     4     4     4     4     4     4     4     4     3 \n",
       "   66    67    68    69    70    71    72    73    74    75    76    77    78 \n",
       "    4     3     3     2     2     2     2     3     2     2     1     2     1 \n",
       "   79    80    81    82    83    84    85    86    87    88    89    90    91 \n",
       "    2     1     1     1     1     1     2     1     1     1     1     1     1 \n",
       "   92    93    94    95    96    97    98    99   100   101   102   103   104 \n",
       "    1     1     1     1     1     2     1     2     1     1     2     1     1 \n",
       "  105   106   107   108   109   110   111   112   113   114   115   116   117 \n",
       "    1     1     1     1     1     1     2     1     1     1     1     1     1 \n",
       "  118   119   120   121   122   123   124   125   126   127   128   129   130 \n",
       "    1     1     1     1     2     1     1     1     1     2     1     1     1 \n",
       "  131   132   210   259   260   827 27284 \n",
       "    1     1     1     1     1     1     1 "
      ]
     },
     "metadata": {},
     "output_type": "display_data"
    }
   ],
   "source": [
    "table(sapply(genesCons, length))"
   ]
  },
  {
   "cell_type": "code",
   "execution_count": 36,
   "id": "4473e1e0",
   "metadata": {},
   "outputs": [],
   "source": [
    "#### NGenes\n",
    "nNodes <- length(treeCons$tip)+1:treeCons$Nnode\n",
    "desc <- Descendants(treeCons, nNodes)\n",
    "genesCons <- mclapply(desc, function(txps) unique(mapDf[treeCons$tip.label[txps],1]), mc.cores=4)\n",
    "save(genesCons, file=\"environment/real_datasets/GSE100505/mode_gcbias=True/posttype=gibbs_npost=100_tf=100/comp_trees/genesCons.RData\")"
   ]
  },
  {
   "cell_type": "code",
   "execution_count": 48,
   "id": "e74e1f89",
   "metadata": {},
   "outputs": [],
   "source": [
    "#### NGenes\n",
    "nNodes <- length(treeCons0$tip)+1:treeCons0$Nnode\n",
    "desc <- Descendants(treeCons0, nNodes)\n",
    "genesCons0 <- mclapply(desc, function(txps) unique(mapDf[treeCons0$tip.label[txps],1]), mc.cores=1)\n",
    "save(genesCons0, file=\"environment/real_datasets/GSE100505/mode_gcbias=True/posttype=gibbs_npost=100_tf=100/comp_trees/genesCons0.RData\")"
   ]
  },
  {
   "cell_type": "code",
   "execution_count": 47,
   "id": "aaf10c26",
   "metadata": {},
   "outputs": [],
   "source": [
    "#### NGenes\n",
    "nNodes <- length(treeMeanInf0$tip)+1:treeMeanInf0$Nnode\n",
    "desc <- Descendants(treeMeanInf0, nNodes)\n",
    "genesMeanInf0 <- mclapply(desc, function(txps) unique(mapDf[treeMeanInf0$tip.label[txps],1]), mc.cores=1)\n",
    "save(genesMeanInf0, file=\"environment/real_datasets/GSE100505/mode_gcbias=True/posttype=gibbs_npost=100_tf=100/comp_trees/genesMeanInf0.RData\")"
   ]
  },
  {
   "cell_type": "code",
   "execution_count": 55,
   "id": "445700ec",
   "metadata": {},
   "outputs": [
    {
     "data": {
      "text/html": [
       "174"
      ],
      "text/latex": [
       "174"
      ],
      "text/markdown": [
       "174"
      ],
      "text/plain": [
       "[1] 174"
      ]
     },
     "metadata": {},
     "output_type": "display_data"
    }
   ],
   "source": [
    "length(table(sapply(genesMeanInf0,length)))"
   ]
  },
  {
   "cell_type": "code",
   "execution_count": 56,
   "id": "17112ad6",
   "metadata": {},
   "outputs": [
    {
     "data": {
      "text/html": [
       "29319"
      ],
      "text/latex": [
       "29319"
      ],
      "text/markdown": [
       "29319"
      ],
      "text/plain": [
       "[1] 29319"
      ]
     },
     "metadata": {},
     "output_type": "display_data"
    }
   ],
   "source": [
    "which(sapply(genesCons, length)==827)"
   ]
  },
  {
   "cell_type": "code",
   "execution_count": 62,
   "id": "a7788690",
   "metadata": {},
   "outputs": [
    {
     "data": {
      "text/html": [
       "2542"
      ],
      "text/latex": [
       "2542"
      ],
      "text/markdown": [
       "2542"
      ],
      "text/plain": [
       "[1] 2542"
      ]
     },
     "metadata": {},
     "output_type": "display_data"
    }
   ],
   "source": [
    "length(unique(treeCons$tip.label[desc[[29319]]]))"
   ]
  },
  {
   "cell_type": "code",
   "execution_count": 67,
   "id": "0f06f708",
   "metadata": {},
   "outputs": [
    {
     "data": {
      "text/html": [
       "'ENSMUSG00000051721.6'"
      ],
      "text/latex": [
       "'ENSMUSG00000051721.6'"
      ],
      "text/markdown": [
       "'ENSMUSG00000051721.6'"
      ],
      "text/plain": [
       "[1] \"ENSMUSG00000051721.6\""
      ]
     },
     "metadata": {},
     "output_type": "display_data"
    }
   ],
   "source": [
    "genesCons[[29320]]"
   ]
  },
  {
   "cell_type": "code",
   "execution_count": 68,
   "id": "4f8a0feb",
   "metadata": {},
   "outputs": [
    {
     "data": {
      "text/plain": [
       "\n",
       "    1     2     3     4     5     6     7     8     9    10    11    12    13 \n",
       "20340 19672  3735  7885  2029  1333  1828  2382   869   624   479   551   595 \n",
       "   14    15    16    17    18    19    20    21    22    23    24    25    26 \n",
       "  449   494   401   216   202   179   173   184   180   161   139   132   138 \n",
       "   27    28    29    30    31    32    33    34    35    36    37    38    39 \n",
       "  104   113    81    67    78    52    52    45    57    57    59    45    68 \n",
       "   40    41    42    43    44    45    46    47    48    49    50    51    52 \n",
       "   57    59    52    40    51    43    35    35    28    22    36    25    20 \n",
       "   53    54    55    56    57    58    59    60    61    62    63    64    65 \n",
       "   19    28    23    16    13    13    15    19    13    21    21    18    16 \n",
       "   66    67    68    69    70    71    72    73    74    75    76    77    78 \n",
       "   22    13    17    16    13    22    17    10     7    16    13    14    16 \n",
       "   79    80    81    82    83    84    85    86    87    88    89    90    91 \n",
       "   16     8    14    20     6     7     9     9    12    14    12     4     5 \n",
       "   92    93    94    95    96    97    98    99   100   101   102   103   104 \n",
       "    8     7     9     5     6    10     7     1     5     4     8     7     7 \n",
       "  105   106   107   108   109   110   111   112   113   114   115   116   117 \n",
       "   10     3     9     5     4     9     4     2     5     5     5     2     5 \n",
       "  118   119   120   121   122   123   124   125   126   127   128   129   130 \n",
       "    3     6     4     7     6     3     1     7     4     4     6     6     4 \n",
       "  131   132   133   134   135   137   138   139   140   141   142   143   144 \n",
       "    4     8     4     1     2     4     2     7     5     9     4     3     4 \n",
       "  145   146   147   148   149   150   151   152   153   154   155   156   157 \n",
       "    4     2     5     4     7     4     5     3     1     1     5     2     4 \n",
       "  158   159   160   161   162   163   164   165   166   167   168   169   170 \n",
       "    1     2     4     5     2     4     3     2     4     6     1     3     5 \n",
       "  172   174   175   176   177   178   179   180   181   182   184   188   189 \n",
       "    2     3     6     2     1     1     1     2     2     1     2     1     1 \n",
       "  190   192   193   194   196   197   199   200   201   202   203   205   206 \n",
       "    1     2     1     3     1     1     3     1     2     2     2     3     1 \n",
       "  207   208   209   211   212   215   216   217   218   219   220   221   222 \n",
       "    2     3     1     1     3     2     1     2     2     1     2     4     1 \n",
       "  223   224   225   227   228   230   231   233   234   236   238   241   243 \n",
       "    3     2     2     2     1     3     1     1     3     4     1     1     1 \n",
       "  244   245   247   248   249   250   251   252   253   256   257   258   259 \n",
       "    2     1     1     2     2     2     1     1     2     1     1     1     1 \n",
       "  260   261   262   265   267   268   269   271   273   274   275   277   279 \n",
       "    1     1     3     3     2     1     5     3     2     2     2     1     1 \n",
       "  280   281   282   283   286   288   289   290   292   295   298   303   304 \n",
       "    3     2     3     1     1     1     2     2     1     2     1     2     1 \n",
       "  307   310   314   317   318   319   321   323   325   326   327   330   331 \n",
       "    1     1     1     1     2     1     2     1     1     1     1     1     2 \n",
       "  335   343   344   348   349   352   353   354   355   356   357   360   361 \n",
       "    1     1     1     2     1     2     1     1     1     1     3     1     2 \n",
       "  365   366   369   371   372   376   381   382   385   387   392   398   401 \n",
       "    1     1     1     1     1     1     1     1     1     1     1     1     2 \n",
       "  402   404   406   408   409   416   418   420   426   428   430   432   433 \n",
       "    2     1     1     1     3     1     1     1     1     1     2     1     1 \n",
       "  439   454   457   462   465   469   477   483   486   490   491   492   496 \n",
       "    1     1     1     1     1     2     1     1     2     1     1     2     1 \n",
       "  500   502   506   508   513   517   518   522   523   524   532   538   543 \n",
       "    1     2     1     1     1     1     1     1     2     1     1     1     1 \n",
       "  544   560   563   567   570   572   582   583   587   591   599   601   603 \n",
       "    2     1     1     1     1     1     1     1     2     1     1     1     1 \n",
       "  604   611   615   632   642   646   656   669   673   683   692   694   710 \n",
       "    1     1     1     1     1     1     1     1     1     1     1     1     1 \n",
       "  722   726   750   762   768   781   785   788   791   796   798   803   809 \n",
       "    1     1     1     1     1     1     1     1     1     1     1     1     1 \n",
       "  833   837   848   854   864   889   911   914   933   938   949   962   978 \n",
       "    1     1     1     1     1     1     1     1     1     1     1     1     1 \n",
       "  998   999  1002  1006  1007  1015  1047  1050  1065  1074  1124  1138  1140 \n",
       "    1     1     1     1     1     1     1     1     1     1     1     1     1 \n",
       " 1141  1189  1229  1257  1308  1323  1353  1370  1390  1401  1413  1416  1460 \n",
       "    1     1     1     1     1     1     1     1     1     1     1     1     1 \n",
       " 1506  1540  1558  1607  1621  1646  1715  1723  1766  1793  1915  2060  2180 \n",
       "    1     1     1     1     1     1     1     1     1     1     1     1     1 \n",
       " 2203  2257  2270  2376  2452  2493  2657  2767  2915  3247  3405  3519  3547 \n",
       "    1     1     1     1     1     1     1     1     1     1     1     1     1 \n",
       " 3701  3702  3744  3864  4489  5597  5678  5771  6589  8748  8917 13845 15034 \n",
       "    1     1     1     1     1     1     1     1     1     1     1     1     1 \n",
       "15724 17465 18382 27284 \n",
       "    1     1     1     1 "
      ]
     },
     "metadata": {},
     "output_type": "display_data"
    }
   ],
   "source": [
    "table(sapply(genesCor, length))"
   ]
  },
  {
   "cell_type": "code",
   "execution_count": 12,
   "id": "96d19ffc",
   "metadata": {},
   "outputs": [],
   "source": [
    "load(\"environment/real_datasets/GSE100505/mode_gcbias=True/posttype=gibbs_npost=100_tf=100/comp_trees/cutsLFC.RData\")"
   ]
  },
  {
   "cell_type": "code",
   "execution_count": 53,
   "id": "22e58862",
   "metadata": {},
   "outputs": [
    {
     "data": {
      "text/html": [
       "1.21041953701755"
      ],
      "text/latex": [
       "1.21041953701755"
      ],
      "text/markdown": [
       "1.21041953701755"
      ],
      "text/plain": [
       "[1] 1.21042"
      ]
     },
     "metadata": {},
     "output_type": "display_data"
    },
    {
     "data": {
      "text/html": [
       "0.786042117004097"
      ],
      "text/latex": [
       "0.786042117004097"
      ],
      "text/markdown": [
       "0.786042117004097"
      ],
      "text/plain": [
       "[1] 0.7860421"
      ]
     },
     "metadata": {},
     "output_type": "display_data"
    }
   ],
   "source": [
    "infReps <- assays(yAggCons0)[grep(\"infRep\", assayNames(yAggCons0))]\n",
    "infReps <- abind::abind(as.list(infReps), along = 3)\n",
    "lfc2 <- getLog2FC(infReps, colData(yAggCons0)[[\"condition\"]])\n",
    "\n",
    "infReps <- assays(yAggConsNS0)[grep(\"infRep\", assayNames(yAggConsNS0))]\n",
    "infReps <- abind::abind(as.list(infReps), along = 3)\n",
    "lfc <- getLog2FC(infReps, colData(yAggCons)[[\"condition\"]])\n",
    "\n",
    "lfc2[l+1]\n",
    "lfc[l+1]"
   ]
  },
  {
   "cell_type": "code",
   "execution_count": 54,
   "id": "6f627f82",
   "metadata": {},
   "outputs": [
    {
     "data": {
      "text/html": [
       "<style>\n",
       ".dl-inline {width: auto; margin:0; padding: 0}\n",
       ".dl-inline>dt, .dl-inline>dd {float: none; width: auto; display: inline-block}\n",
       ".dl-inline>dt::after {content: \":\\0020\"; padding-right: .5ex}\n",
       ".dl-inline>dt:not(:first-of-type) {padding-left: .5ex}\n",
       "</style><dl class=dl-inline><dt>SRR5758624</dt><dd>191710910.249</dd><dt>SRR5758625</dt><dd>220556486.704</dd><dt>SRR5758626</dt><dd>152440730.836</dd><dt>SRR5758627</dt><dd>199473127.319</dd><dt>SRR5758628</dt><dd>166201727.256</dd><dt>SRR5758629</dt><dd>159403326.62</dd><dt>SRR5758707</dt><dd>251044408.496</dd><dt>SRR5758706</dt><dd>286736455.968</dd><dt>SRR5758705</dt><dd>304362634.179</dd><dt>SRR5758704</dt><dd>293689101.935</dd><dt>SRR5758703</dt><dd>269664524.98</dd><dt>SRR5758702</dt><dd>321971614.58</dd></dl>\n"
      ],
      "text/latex": [
       "\\begin{description*}\n",
       "\\item[SRR5758624] 191710910.249\n",
       "\\item[SRR5758625] 220556486.704\n",
       "\\item[SRR5758626] 152440730.836\n",
       "\\item[SRR5758627] 199473127.319\n",
       "\\item[SRR5758628] 166201727.256\n",
       "\\item[SRR5758629] 159403326.62\n",
       "\\item[SRR5758707] 251044408.496\n",
       "\\item[SRR5758706] 286736455.968\n",
       "\\item[SRR5758705] 304362634.179\n",
       "\\item[SRR5758704] 293689101.935\n",
       "\\item[SRR5758703] 269664524.98\n",
       "\\item[SRR5758702] 321971614.58\n",
       "\\end{description*}\n"
      ],
      "text/markdown": [
       "SRR5758624\n",
       ":   191710910.249SRR5758625\n",
       ":   220556486.704SRR5758626\n",
       ":   152440730.836SRR5758627\n",
       ":   199473127.319SRR5758628\n",
       ":   166201727.256SRR5758629\n",
       ":   159403326.62SRR5758707\n",
       ":   251044408.496SRR5758706\n",
       ":   286736455.968SRR5758705\n",
       ":   304362634.179SRR5758704\n",
       ":   293689101.935SRR5758703\n",
       ":   269664524.98SRR5758702\n",
       ":   321971614.58\n",
       "\n"
      ],
      "text/plain": [
       "SRR5758624 SRR5758625 SRR5758626 SRR5758627 SRR5758628 SRR5758629 SRR5758707 \n",
       " 191710910  220556487  152440731  199473127  166201727  159403327  251044408 \n",
       "SRR5758706 SRR5758705 SRR5758704 SRR5758703 SRR5758702 \n",
       " 286736456  304362634  293689102  269664525  321971615 "
      ]
     },
     "metadata": {},
     "output_type": "display_data"
    }
   ],
   "source": [
    "colSums(assays(yAggCons0)[[\"counts\"]])"
   ]
  },
  {
   "cell_type": "code",
   "execution_count": 98,
   "id": "d7f8b9d5",
   "metadata": {},
   "outputs": [
    {
     "data": {
      "text/plain": [
       "DataFrame with 12 rows and 2 columns\n",
       "                 names condition\n",
       "           <character>  <factor>\n",
       "SRR5758624  SRR5758624     Atria\n",
       "SRR5758625  SRR5758625     Atria\n",
       "SRR5758626  SRR5758626     Atria\n",
       "SRR5758627  SRR5758627     Atria\n",
       "SRR5758628  SRR5758628     Atria\n",
       "...                ...       ...\n",
       "SRR5758706  SRR5758706        TA\n",
       "SRR5758705  SRR5758705        TA\n",
       "SRR5758704  SRR5758704        TA\n",
       "SRR5758703  SRR5758703        TA\n",
       "SRR5758702  SRR5758702        TA"
      ]
     },
     "metadata": {},
     "output_type": "display_data"
    }
   ],
   "source": [
    "colData(yAggCons0)"
   ]
  },
  {
   "cell_type": "code",
   "execution_count": 15,
   "id": "8720886d",
   "metadata": {},
   "outputs": [],
   "source": [
    "setwd('/fs/cbcb-lab/rob/students/noor/Uncertainity/treeTerminusScripts')\n",
    "load(\"environment/real_datasets/GSE100505/mode_gcbias=True/posttype=gibbs_npost=100_tf=100/comp_trees/cutsDepth.RData\")\n",
    "load(\"environment/real_datasets/GSE100505/mode_gcbias=True/posttype=gibbs_npost=100_tf=100/comp_trees/treeCons.RData\")\n",
    "load(\"environment/real_datasets/GSE100505/mode_gcbias=True/posttype=gibbs_npost=100_tf=100/comp_trees/genesCons.RData\")\n",
    "load(\"environment/real_datasets/GSE100505/mode_gcbias=True/posttype=gibbs_npost=100_tf=100/comp_trees/genesCons0.RData\")\n",
    "load(\"environment/real_datasets/GSE100505/mode_gcbias=True/posttype=gibbs_npost=100_tf=100/comp_trees/genesCor.RData\")\n",
    "load(\"environment/real_datasets/GSE100505/mode_gcbias=True/posttype=gibbs_npost=100_tf=100/comp_trees/genesMeanInf0.RData\")"
   ]
  },
  {
   "cell_type": "code",
   "execution_count": 16,
   "id": "48deed3e",
   "metadata": {},
   "outputs": [],
   "source": [
    "l <- length(treeCons$tip)\n",
    "g <- list(genesCons0, genesCons, genesMeanInf0, genesCor)"
   ]
  },
  {
   "cell_type": "code",
   "execution_count": 73,
   "id": "df25e464",
   "metadata": {},
   "outputs": [
    {
     "name": "stdout",
     "output_type": "stream",
     "text": [
      "[1] \"gamma=0.1\"\n",
      "[1] \"Cons0\"\n",
      "\n",
      "    1     2     3     4     5     6     7     8     9    10    20    23 \n",
      "12034   649   130    31    14     5     4     1     3     3     1     1 \n",
      "[1] \"Cons\"\n",
      "\n",
      "    1     2     3     4     5     6     7     8     9    10    11    12    17 \n",
      "11505   778   184    55    24    13     8     4     5     1     2     1     1 \n",
      "   20    22    24    32 \n",
      "    1     1     1     1 \n",
      "[1] \"MeanInf0\"\n",
      "\n",
      "    1     2     3     4     5     6     7     9    10    11    14 \n",
      "11930   650   136    30    18     6     3     1     3     2     1 \n",
      "[1] \"Cor\"\n",
      "\n",
      "   1    2    3    4    5    6    7    8    9   10   11   12   13   14   15   16 \n",
      "6333 1901  578  828  345  220  281  301  134   79   55   66   71   56   59   51 \n",
      "  17   18   19   20   21   22   23   24   25   26   27   28   29   30   31   32 \n",
      "  16   17   12   14   16   10    9    9   13   12    3    4    3    1    3    1 \n",
      "  33   34   35   36   37   39   42   43   45   92 \n",
      "   2    1    1    1    2    1    2    1    2    1 \n",
      "[1] \"gamma=0.5\"\n",
      "[1] \"Cons0\"\n",
      "\n",
      "    1     2     3     4     5     6     9 \n",
      "10369   394    47     6     7     1     1 \n",
      "[1] \"Cons\"\n",
      "\n",
      "    1     2     3     4     5     6     7 \n",
      "10191   381    58     9     5     1     1 \n",
      "[1] \"MeanInf0\"\n",
      "\n",
      "    1     2     3     4     5     6     7 \n",
      "10353   409    48     4     5     1     2 \n",
      "[1] \"Cor\"\n",
      "\n",
      "   1    2    3    4    5    6    7    8    9   10   12   13   14   15   16   21 \n",
      "9219 1332  231  202   49   21   21   14    5    4    1    2    1    1    1    1 \n",
      "[1] \"gamma=1\"\n",
      "[1] \"Cons0\"\n",
      "\n",
      "   1    2    3    4    5 \n",
      "9040  293   23    4    4 \n",
      "[1] \"Cons\"\n",
      "\n",
      "   1    2    3    4    5 \n",
      "8834  290   25    6    2 \n",
      "[1] \"MeanInf0\"\n",
      "\n",
      "   1    2    3    4    5 \n",
      "9028  300   25    4    3 \n",
      "[1] \"Cor\"\n",
      "\n",
      "   1    2    3    4    5    6    7    8   14 \n",
      "8331  703   85   54   11    8    5    2    1 \n",
      "[1] \"gamma=5\"\n",
      "[1] \"Cons0\"\n",
      "\n",
      "   1    2    3    4 \n",
      "4678  105    6    1 \n",
      "[1] \"Cons\"\n",
      "\n",
      "   1    2    3    4 \n",
      "4668  103    6    1 \n",
      "[1] \"MeanInf0\"\n",
      "\n",
      "   1    2    3    4 \n",
      "4707  105    6    1 \n",
      "[1] \"Cor\"\n",
      "\n",
      "   1    2    3    4 \n",
      "4297  122    7    2 \n"
     ]
    }
   ],
   "source": [
    "for(j in seq_along(dCutsD)) {\n",
    "    print(names(dCutsD)[j])\n",
    "    for(i in seq_along(dCutsD[[j]])) {\n",
    "    cInds <- dCutsD[[j]][[i]]\n",
    "    cLInds <- cInds[cInds > l]\n",
    "    print(names(dCutsD[[j]])[i])\n",
    "    print(table(sapply(g[[i]][cLInds - l], length)))\n",
    "    }\n",
    "}\n"
   ]
  },
  {
   "cell_type": "code",
   "execution_count": 4,
   "id": "1c370565",
   "metadata": {},
   "outputs": [],
   "source": [
    "library(biomaRt)\n",
    "ensembl <- useEnsembl(biomart = \"genes\", dataset = \"mmusculus_gene_ensembl\", version=\"101\")"
   ]
  },
  {
   "cell_type": "code",
   "execution_count": 19,
   "id": "d82b9fb5",
   "metadata": {},
   "outputs": [
    {
     "data": {
      "text/html": [
       "3908"
      ],
      "text/latex": [
       "3908"
      ],
      "text/markdown": [
       "3908"
      ],
      "text/plain": [
       "[1] 3908"
      ]
     },
     "metadata": {},
     "output_type": "display_data"
    },
    {
     "name": "stdout",
     "output_type": "stream",
     "text": [
      "      ensembl_gene_id    family\n",
      "1  ENSMUSG00000079410 PTHR21558\n",
      "2  ENSMUSG00000096574 PTHR21558\n",
      "3  ENSMUSG00000095195 PTHR21558\n",
      "4  ENSMUSG00000096793 PTHR21558\n",
      "5  ENSMUSG00000096775 PTHR21558\n",
      "6  ENSMUSG00000091563 PTHR21558\n",
      "7  ENSMUSG00000079391 PTHR21558\n",
      "8  ENSMUSG00000093979 PTHR21558\n",
      "9  ENSMUSG00000095681 PTHR21558\n",
      "10 ENSMUSG00000096003 PTHR21558\n",
      "11 ENSMUSG00000094825 PTHR21558\n",
      "12 ENSMUSG00000095295 PTHR21558\n",
      "13 ENSMUSG00000094370 PTHR21558\n",
      "14 ENSMUSG00000094634 PTHR21558\n",
      "15 ENSMUSG00000096904 PTHR21558\n",
      "16 ENSMUSG00000090691 PTHR21558\n",
      "17 ENSMUSG00000093898 PTHR21558\n",
      "18 ENSMUSG00000091754 PTHR21558\n",
      "19 ENSMUSG00000093985 PTHR21558\n",
      "20 ENSMUSG00000092167 PTHR21558\n",
      "21 ENSMUSG00000091472 PTHR21558\n",
      "22 ENSMUSG00000091617 PTHR21558\n",
      "23 ENSMUSG00000079364 PTHR21558\n",
      "                                                                                                   description\n",
      "1                                                      predicted gene 2897 [Source:MGI Symbol;Acc:MGI:3781075]\n",
      "2                                                      predicted gene 2956 [Source:MGI Symbol;Acc:MGI:3781134]\n",
      "3                                                      predicted gene 3005 [Source:MGI Symbol;Acc:MGI:3781183]\n",
      "4                                                      predicted gene 3002 [Source:MGI Symbol;Acc:MGI:3781180]\n",
      "5                                                      predicted gene 5796 [Source:MGI Symbol;Acc:MGI:3779522]\n",
      "6                                                      predicted gene 8108 [Source:MGI Symbol;Acc:MGI:3779783]\n",
      "7                                                      predicted gene 2974 [Source:MGI Symbol;Acc:MGI:3781152]\n",
      "8                                                      predicted gene 2237 [Source:MGI Symbol;Acc:MGI:3780407]\n",
      "9                                                     predicted gene, 8281 [Source:MGI Symbol;Acc:MGI:3647811]\n",
      "10                                                     predicted gene 3500 [Source:MGI Symbol;Acc:MGI:3781677]\n",
      "11                                                     predicted gene 3194 [Source:MGI Symbol;Acc:MGI:3781373]\n",
      "12                                                    predicted gene, 3488 [Source:MGI Symbol;Acc:MGI:3781665]\n",
      "13                                                     predicted gene 3373 [Source:MGI Symbol;Acc:MGI:3781551]\n",
      "14                                                     predicted gene 3468 [Source:MGI Symbol;Acc:MGI:3781644]\n",
      "15 late endosomal/lysosomal adaptor, MAPK and MTOR activator 3, pseudogene [Source:MGI Symbol;Acc:MGI:3781768]\n",
      "16                                                     predicted gene 3667 [Source:MGI Symbol;Acc:MGI:3781843]\n",
      "17                                                     predicted gene 3629 [Source:MGI Symbol;Acc:MGI:3781805]\n",
      "18                                                     predicted gene 3636 [Source:MGI Symbol;Acc:MGI:3781812]\n",
      "19                                                    predicted gene 10406 [Source:MGI Symbol;Acc:MGI:3711272]\n",
      "20                                                     predicted gene 3696 [Source:MGI Symbol;Acc:MGI:3781872]\n",
      "21                                                     predicted gene 3739 [Source:MGI Symbol;Acc:MGI:3781914]\n",
      "22                                                     predicted gene 3752 [Source:MGI Symbol;Acc:MGI:3781927]\n",
      "23                                                     predicted gene 3558 [Source:MGI Symbol;Acc:MGI:3781735]\n"
     ]
    },
    {
     "data": {
      "text/html": [
       "2301"
      ],
      "text/latex": [
       "2301"
      ],
      "text/markdown": [
       "2301"
      ],
      "text/plain": [
       "[1] 2301"
      ]
     },
     "metadata": {},
     "output_type": "display_data"
    },
    {
     "name": "stdout",
     "output_type": "stream",
     "text": [
      "      ensembl_gene_id          family\n",
      "1  ENSMUSG00000104063 PTHR24028_SF113\n",
      "2  ENSMUSG00000102918                \n",
      "3  ENSMUSG00000102918  PTHR24028_SF70\n",
      "4  ENSMUSG00000103567 PTHR24028_SF105\n",
      "5  ENSMUSG00000102742  PTHR24028_SF84\n",
      "6  ENSMUSG00000102543  PTHR24028_SF80\n",
      "7  ENSMUSG00000102543  PTHR24028_SF70\n",
      "8  ENSMUSG00000102543                \n",
      "9  ENSMUSG00000103793 PTHR24028_SF107\n",
      "10 ENSMUSG00000103088  PTHR24028_SF66\n",
      "11 ENSMUSG00000104346  PTHR24028_SF75\n",
      "12 ENSMUSG00000103081 PTHR24028_SF106\n",
      "13 ENSMUSG00000103472  PTHR24028_SF56\n",
      "14 ENSMUSG00000103677  PTHR24028_SF94\n",
      "15 ENSMUSG00000102440  PTHR24028_SF86\n",
      "16 ENSMUSG00000102440                \n",
      "17 ENSMUSG00000103897  PTHR24028_SF72\n",
      "18 ENSMUSG00000102828                \n",
      "19 ENSMUSG00000102222 PTHR24028_SF110\n",
      "20 ENSMUSG00000103037 PTHR24028_SF106\n",
      "21 ENSMUSG00000103037                \n",
      "22 ENSMUSG00000103332 PTHR24028_SF109\n",
      "23 ENSMUSG00000103749  PTHR24028_SF73\n",
      "24 ENSMUSG00000103749                \n",
      "25 ENSMUSG00000102748 PTHR24028_SF102\n",
      "26 ENSMUSG00000102748                \n",
      "27 ENSMUSG00000023036  PTHR24028_SF80\n",
      "28 ENSMUSG00000023036  PTHR24028_SF70\n",
      "29 ENSMUSG00000023036                \n",
      "                                                               description\n",
      "1   protocadherin gamma subfamily B, 7 [Source:MGI Symbol;Acc:MGI:1935199]\n",
      "2   protocadherin gamma subfamily C, 3 [Source:MGI Symbol;Acc:MGI:1935201]\n",
      "3   protocadherin gamma subfamily C, 3 [Source:MGI Symbol;Acc:MGI:1935201]\n",
      "4   protocadherin gamma subfamily A, 5 [Source:MGI Symbol;Acc:MGI:1935217]\n",
      "5  protocadherin gamma subfamily A, 11 [Source:MGI Symbol;Acc:MGI:1935228]\n",
      "6   protocadherin gamma subfamily C, 5 [Source:MGI Symbol;Acc:MGI:1935205]\n",
      "7   protocadherin gamma subfamily C, 5 [Source:MGI Symbol;Acc:MGI:1935205]\n",
      "8   protocadherin gamma subfamily C, 5 [Source:MGI Symbol;Acc:MGI:1935205]\n",
      "9   protocadherin gamma subfamily A, 6 [Source:MGI Symbol;Acc:MGI:1935218]\n",
      "10  protocadherin gamma subfamily B, 6 [Source:MGI Symbol;Acc:MGI:1935197]\n",
      "11  protocadherin gamma subfamily A, 3 [Source:MGI Symbol;Acc:MGI:1935215]\n",
      "12  protocadherin gamma subfamily B, 8 [Source:MGI Symbol;Acc:MGI:1935200]\n",
      "13  protocadherin gamma subfamily A, 7 [Source:MGI Symbol;Acc:MGI:1935219]\n",
      "14  protocadherin gamma subfamily A, 4 [Source:MGI Symbol;Acc:MGI:1935216]\n",
      "15  protocadherin gamma subfamily A, 9 [Source:MGI Symbol;Acc:MGI:1935226]\n",
      "16  protocadherin gamma subfamily A, 9 [Source:MGI Symbol;Acc:MGI:1935226]\n",
      "17  protocadherin gamma subfamily A, 8 [Source:MGI Symbol;Acc:MGI:1935221]\n",
      "18               predicted gene, 38182 [Source:MGI Symbol;Acc:MGI:5611410]\n",
      "19 protocadherin gamma subfamily A, 10 [Source:MGI Symbol;Acc:MGI:1935227]\n",
      "20  protocadherin gamma subfamily B, 1 [Source:MGI Symbol;Acc:MGI:1935169]\n",
      "21  protocadherin gamma subfamily B, 1 [Source:MGI Symbol;Acc:MGI:1935169]\n",
      "22  protocadherin gamma subfamily A, 2 [Source:MGI Symbol;Acc:MGI:1935214]\n",
      "23  protocadherin gamma subfamily B, 5 [Source:MGI Symbol;Acc:MGI:1935196]\n",
      "24  protocadherin gamma subfamily B, 5 [Source:MGI Symbol;Acc:MGI:1935196]\n",
      "25  protocadherin gamma subfamily B, 2 [Source:MGI Symbol;Acc:MGI:1935170]\n",
      "26  protocadherin gamma subfamily B, 2 [Source:MGI Symbol;Acc:MGI:1935170]\n",
      "27  protocadherin gamma subfamily C, 4 [Source:MGI Symbol;Acc:MGI:1935203]\n",
      "28  protocadherin gamma subfamily C, 4 [Source:MGI Symbol;Acc:MGI:1935203]\n",
      "29  protocadherin gamma subfamily C, 4 [Source:MGI Symbol;Acc:MGI:1935203]\n"
     ]
    }
   ],
   "source": [
    "j <- 1\n",
    "i <- 1\n",
    "cInds <- dCutsD[[j]][[i]]\n",
    "cLInds <- cInds[cInds > l]\n",
    "\n",
    "which(sapply(g[[i]][cLInds - l], length) == 23)\n",
    "rGenes <- g[[i]][cLInds - l][[3908]]\n",
    "rGenes <- gsub(\"\\\\.[0-9]+\", \"\", rGenes)\n",
    "dd <- getBM(attributes=c(\"ensembl_gene_id\", \"family\", \"description\"), filters=\"ensembl_gene_id\", values=rGenes, mart=ensembl)\n",
    "print(dd)\n",
    "\n",
    "which(sapply(g[[i]][cLInds - l], length) == 20)\n",
    "rGenes <- g[[i]][cLInds - l][[2301]]\n",
    "rGenes <- gsub(\"\\\\.[0-9]+\", \"\", rGenes)\n",
    "dd <- getBM(attributes=c(\"ensembl_gene_id\", \"family\", \"description\"), filters=\"ensembl_gene_id\", values=rGenes, mart=ensembl)\n",
    "print(dd)\n"
   ]
  },
  {
   "cell_type": "code",
   "execution_count": 20,
   "id": "e1f8d477",
   "metadata": {},
   "outputs": [
    {
     "data": {
      "text/html": [
       "11797"
      ],
      "text/latex": [
       "11797"
      ],
      "text/markdown": [
       "11797"
      ],
      "text/plain": [
       "[1] 11797"
      ]
     },
     "metadata": {},
     "output_type": "display_data"
    },
    {
     "name": "stdout",
     "output_type": "stream",
     "text": [
      "      ensembl_gene_id    family\n",
      "1  ENSMUSG00000064981          \n",
      "2  ENSMUSG00000074108          \n",
      "3  ENSMUSG00000082296          \n",
      "4  ENSMUSG00000101597          \n",
      "5  ENSMUSG00000115457          \n",
      "6  ENSMUSG00000113151          \n",
      "7  ENSMUSG00000008682 PTHR11726\n",
      "8  ENSMUSG00000008682          \n",
      "9  ENSMUSG00000110679          \n",
      "10 ENSMUSG00000080885          \n",
      "11 ENSMUSG00000080859          \n",
      "12 ENSMUSG00000058443 PTHR11726\n",
      "13 ENSMUSG00000082647          \n",
      "14 ENSMUSG00000112605          \n",
      "15 ENSMUSG00000082608          \n",
      "16 ENSMUSG00000060879          \n",
      "17 ENSMUSG00000113625          \n",
      "18 ENSMUSG00000082436          \n",
      "                                                               description\n",
      "1    small nucleolar RNA, H/ACA box 70 [Source:MGI Symbol;Acc:MGI:2148178]\n",
      "2  ribosomal protein L10, pseudogene 2 [Source:MGI Symbol;Acc:MGI:3648679]\n",
      "3                 predicted gene 11450 [Source:MGI Symbol;Acc:MGI:3651345]\n",
      "4                  predicted gene 5621 [Source:MGI Symbol;Acc:MGI:3646701]\n",
      "5                  predicted gene 2387 [Source:MGI Symbol;Acc:MGI:3780555]\n",
      "6                predicted gene, 48690 [Source:MGI Symbol;Acc:MGI:6098319]\n",
      "7                 ribosomal protein L10 [Source:MGI Symbol;Acc:MGI:105943]\n",
      "8                 ribosomal protein L10 [Source:MGI Symbol;Acc:MGI:105943]\n",
      "9  ribosomal protein L10, pseudogene 5 [Source:MGI Symbol;Acc:MGI:3781583]\n",
      "10 ribosomal protein L10, pseudogene 6 [Source:MGI Symbol;Acc:MGI:3782343]\n",
      "11 ribosomal protein L10, pseudogene 1 [Source:MGI Symbol;Acc:MGI:3650909]\n",
      "12 ribosomal protein L10, pseudogene 3 [Source:MGI Symbol;Acc:MGI:3704336]\n",
      "13                predicted gene 14056 [Source:MGI Symbol;Acc:MGI:3649509]\n",
      "14                 predicted gene 7476 [Source:MGI Symbol;Acc:MGI:3648574]\n",
      "15                 predicted gene 7670 [Source:MGI Symbol;Acc:MGI:3648912]\n",
      "16           predicted pseudogene 6564 [Source:MGI Symbol;Acc:MGI:3647928]\n",
      "17                 predicted gene 3379 [Source:MGI Symbol;Acc:MGI:3781557]\n",
      "18                predicted gene 11688 [Source:MGI Symbol;Acc:MGI:3650868]\n"
     ]
    },
    {
     "data": {
      "text/html": [
       "11619"
      ],
      "text/latex": [
       "11619"
      ],
      "text/markdown": [
       "11619"
      ],
      "text/plain": [
       "[1] 11619"
      ]
     },
     "metadata": {},
     "output_type": "display_data"
    },
    {
     "name": "stdout",
     "output_type": "stream",
     "text": [
      "      ensembl_gene_id        family\n",
      "1  ENSMUSG00000115387              \n",
      "2  ENSMUSG00000078289              \n",
      "3  ENSMUSG00000083573              \n",
      "4  ENSMUSG00000078291              \n",
      "5  ENSMUSG00000108873              \n",
      "6  ENSMUSG00000096216              \n",
      "7  ENSMUSG00000080998              \n",
      "8  ENSMUSG00000113469              \n",
      "9  ENSMUSG00000078126              \n",
      "10 ENSMUSG00000063556              \n",
      "11 ENSMUSG00000083723              \n",
      "12 ENSMUSG00000112001              \n",
      "13 ENSMUSG00000112061              \n",
      "14 ENSMUSG00000093747              \n",
      "15 ENSMUSG00000112740              \n",
      "16 ENSMUSG00000112697              \n",
      "17 ENSMUSG00000112196              \n",
      "18 ENSMUSG00000111985              \n",
      "19 ENSMUSG00000078180              \n",
      "20 ENSMUSG00000102220              \n",
      "21 ENSMUSG00000114507              \n",
      "22 ENSMUSG00000080851              \n",
      "23 ENSMUSG00000112673              \n",
      "24 ENSMUSG00000085442              \n",
      "25 ENSMUSG00000057499              \n",
      "26 ENSMUSG00000071532              \n",
      "27 ENSMUSG00000070896              \n",
      "28 ENSMUSG00000110443              \n",
      "29 ENSMUSG00000058546              \n",
      "30 ENSMUSG00000058546 PTHR11620_SF9\n",
      "31 ENSMUSG00000084139              \n",
      "32 ENSMUSG00000081968              \n",
      "33 ENSMUSG00000106784              \n",
      "                                                                 description\n",
      "1                  predicted gene, 49244 [Source:MGI Symbol;Acc:MGI:6118712]\n",
      "2                   predicted gene 10923 [Source:MGI Symbol;Acc:MGI:3779135]\n",
      "3                    predicted gene 7312 [Source:MGI Symbol;Acc:MGI:3646347]\n",
      "4                    predicted gene 3940 [Source:MGI Symbol;Acc:MGI:3782114]\n",
      "5                   predicted gene 44609 [Source:MGI Symbol;Acc:MGI:5753185]\n",
      "6                  predicted gene, 21959 [Source:MGI Symbol;Acc:MGI:5439428]\n",
      "7                    predicted gene 5384 [Source:MGI Symbol;Acc:MGI:3646660]\n",
      "8                    predicted gene 7065 [Source:MGI Symbol;Acc:MGI:3647309]\n",
      "9   ribosomal protein L23A, pseudogene 3 [Source:MGI Symbol;Acc:MGI:3781353]\n",
      "10                  predicted gene 10132 [Source:MGI Symbol;Acc:MGI:3704449]\n",
      "11 ribosomal protein L23A, pseudogene 14 [Source:MGI Symbol;Acc:MGI:3649865]\n",
      "12                   predicted gene 8112 [Source:MGI Symbol;Acc:MGI:3645531]\n",
      "13                   predicted gene 8249 [Source:MGI Symbol;Acc:MGI:3647617]\n",
      "14                  predicted gene 20673 [Source:MGI Symbol;Acc:MGI:5313120]\n",
      "15                   predicted gene 8264 [Source:MGI Symbol;Acc:MGI:3647363]\n",
      "16                   predicted gene 8137 [Source:MGI Symbol;Acc:MGI:3647467]\n",
      "17                   predicted gene 8274 [Source:MGI Symbol;Acc:MGI:3648016]\n",
      "18                   predicted gene 8290 [Source:MGI Symbol;Acc:MGI:3648461]\n",
      "19                 predicted gene, 20900 [Source:MGI Symbol;Acc:MGI:5434256]\n",
      "20  ribosomal protein L23A, pseudogene 5 [Source:MGI Symbol;Acc:MGI:3643228]\n",
      "21                 predicted gene, 30747 [Source:MGI Symbol;Acc:MGI:5589906]\n",
      "22                  predicted gene 12094 [Source:MGI Symbol;Acc:MGI:3650094]\n",
      "23                   predicted gene 7413 [Source:MGI Symbol;Acc:MGI:3644069]\n",
      "24             predicted pseudogene 3362 [Source:MGI Symbol;Acc:MGI:3781540]\n",
      "25                   predicted gene 6177 [Source:MGI Symbol;Acc:MGI:3643753]\n",
      "26                  predicted gene 10335 [Source:MGI Symbol;Acc:MGI:3641693]\n",
      "27   ribosomal protein 23A, pseudogene 1 [Source:MGI Symbol;Acc:MGI:3646201]\n",
      "28                 predicted gene, 39197 [Source:MGI Symbol;Acc:MGI:5622082]\n",
      "29                ribosomal protein L23A [Source:MGI Symbol;Acc:MGI:3040672]\n",
      "30                ribosomal protein L23A [Source:MGI Symbol;Acc:MGI:3040672]\n",
      "31                  predicted gene 12322 [Source:MGI Symbol;Acc:MGI:3651558]\n",
      "32  ribosomal protein L23A, pseudogene 2 [Source:MGI Symbol;Acc:MGI:3651561]\n",
      "33                  predicted gene 43309 [Source:MGI Symbol;Acc:MGI:5663446]\n"
     ]
    }
   ],
   "source": [
    "j <- 1\n",
    "i <- 2\n",
    "cInds <- dCutsD[[j]][[i]]\n",
    "cLInds <- cInds[cInds > l]\n",
    "\n",
    "which(sapply(g[[i]][cLInds - l], length) == 17)\n",
    "rGenes <- g[[i]][cLInds - l][[11797]]\n",
    "rGenes <- gsub(\"\\\\.[0-9]+\", \"\", rGenes)\n",
    "dd <- getBM(attributes=c(\"ensembl_gene_id\", \"family\", \"description\"), filters=\"ensembl_gene_id\", values=rGenes, mart=ensembl)\n",
    "print(dd)\n",
    "\n",
    "which(sapply(g[[i]][cLInds - l], length) == 32)\n",
    "rGenes <- g[[i]][cLInds - l][[11619]]\n",
    "rGenes <- gsub(\"\\\\.[0-9]+\", \"\", rGenes)\n",
    "dd <- getBM(attributes=c(\"ensembl_gene_id\", \"family\", \"description\"), filters=\"ensembl_gene_id\", values=rGenes, mart=ensembl)\n",
    "print(dd)\n"
   ]
  },
  {
   "cell_type": "code",
   "execution_count": 21,
   "id": "052cb541",
   "metadata": {},
   "outputs": [
    {
     "data": {
      "text/html": [
       "12767"
      ],
      "text/latex": [
       "12767"
      ],
      "text/markdown": [
       "12767"
      ],
      "text/plain": [
       "[1] 12767"
      ]
     },
     "metadata": {},
     "output_type": "display_data"
    },
    {
     "name": "stdout",
     "output_type": "stream",
     "text": [
      "      ensembl_gene_id         family\n",
      "1  ENSMUSG00000057666               \n",
      "2  ENSMUSG00000057666 PTHR10836_SF31\n",
      "3  ENSMUSG00000057666 PTHR10836_SF29\n",
      "4  ENSMUSG00000069939               \n",
      "5  ENSMUSG00000078162               \n",
      "6  ENSMUSG00000078300               \n",
      "7  ENSMUSG00000078636               \n",
      "8  ENSMUSG00000078965               \n",
      "9  ENSMUSG00000078967               \n",
      "10 ENSMUSG00000081221               \n",
      "11 ENSMUSG00000083773               \n",
      "12 ENSMUSG00000095042               \n",
      "13 ENSMUSG00000095937               \n",
      "14 ENSMUSG00000096438               \n",
      "15 ENSMUSG00000096810               \n",
      "16 ENSMUSG00000110469 PTHR10836_SF31\n",
      "                                                                                   description\n",
      "1                   glyceraldehyde-3-phosphate dehydrogenase [Source:MGI Symbol;Acc:MGI:95640]\n",
      "2                   glyceraldehyde-3-phosphate dehydrogenase [Source:MGI Symbol;Acc:MGI:95640]\n",
      "3                   glyceraldehyde-3-phosphate dehydrogenase [Source:MGI Symbol;Acc:MGI:95640]\n",
      "4                                     predicted gene 12070 [Source:MGI Symbol;Acc:MGI:3650751]\n",
      "5                                predicted pseudogene 2574 [Source:MGI Symbol;Acc:MGI:3780741]\n",
      "6                                predicted pseudogene 2606 [Source:MGI Symbol;Acc:MGI:3780774]\n",
      "7                                      predicted gene 7336 [Source:MGI Symbol;Acc:MGI:3644851]\n",
      "8                                     predicted gene 12033 [Source:MGI Symbol;Acc:MGI:3650772]\n",
      "9  glyceraldehyde-3-phosphate dehydrogenase, pseudogene 16 [Source:MGI Symbol;Acc:MGI:3781450]\n",
      "10                                    predicted gene 14760 [Source:MGI Symbol;Acc:MGI:3709612]\n",
      "11                                    predicted gene 13394 [Source:MGI Symbol;Acc:MGI:3651848]\n",
      "12                                    predicted gene 12537 [Source:MGI Symbol;Acc:MGI:3650720]\n",
      "13                                    predicted gene 12671 [Source:MGI Symbol;Acc:MGI:3651684]\n",
      "14 glyceraldehyde-3-phosphate dehydrogenase, pseudogene 15 [Source:MGI Symbol;Acc:MGI:5434255]\n",
      "15                                    predicted gene 10481 [Source:MGI Symbol;Acc:MGI:3708707]\n",
      "16                                    predicted gene 10358 [Source:MGI Symbol;Acc:MGI:3708786]\n"
     ]
    },
    {
     "data": {
      "text/html": [
       "<style>\n",
       ".list-inline {list-style: none; margin:0; padding: 0}\n",
       ".list-inline>li {display: inline-block}\n",
       ".list-inline>li:not(:last-child)::after {content: \"\\00b7\"; padding: 0 .5ex}\n",
       "</style>\n",
       "<ol class=list-inline><li>1781</li><li>8794</li><li>8795</li></ol>\n"
      ],
      "text/latex": [
       "\\begin{enumerate*}\n",
       "\\item 1781\n",
       "\\item 8794\n",
       "\\item 8795\n",
       "\\end{enumerate*}\n"
      ],
      "text/markdown": [
       "1. 1781\n",
       "2. 8794\n",
       "3. 8795\n",
       "\n",
       "\n"
      ],
      "text/plain": [
       "[1] 1781 8794 8795"
      ]
     },
     "metadata": {},
     "output_type": "display_data"
    },
    {
     "name": "stdout",
     "output_type": "stream",
     "text": [
      "      ensembl_gene_id family\n",
      "1  ENSMUSG00000112496     NA\n",
      "2  ENSMUSG00000112731     NA\n",
      "3  ENSMUSG00000113100     NA\n",
      "4  ENSMUSG00000113226     NA\n",
      "5  ENSMUSG00000113261     NA\n",
      "6  ENSMUSG00000113673     NA\n",
      "7  ENSMUSG00000113847     NA\n",
      "8  ENSMUSG00000118128     NA\n",
      "9  ENSMUSG00000118167     NA\n",
      "10 ENSMUSG00000118206     NA\n",
      "                                                 description\n",
      "1  predicted gene, 48764 [Source:MGI Symbol;Acc:MGI:6098449]\n",
      "2  predicted gene, 47739 [Source:MGI Symbol;Acc:MGI:6096881]\n",
      "3  predicted gene, 48754 [Source:MGI Symbol;Acc:MGI:6098432]\n",
      "4  predicted gene, 47808 [Source:MGI Symbol;Acc:MGI:6096991]\n",
      "5  predicted gene, 47404 [Source:MGI Symbol;Acc:MGI:6096334]\n",
      "6  predicted gene, 47486 [Source:MGI Symbol;Acc:MGI:6096464]\n",
      "7  predicted gene, 48799 [Source:MGI Symbol;Acc:MGI:6098505]\n",
      "8  predicted gene, 50331 [Source:MGI Symbol;Acc:MGI:6303198]\n",
      "9  predicted gene, 50216 [Source:MGI Symbol;Acc:MGI:6303008]\n",
      "10 predicted gene, 50358 [Source:MGI Symbol;Acc:MGI:6303244]\n"
     ]
    }
   ],
   "source": [
    "j <- 1\n",
    "i <- 3\n",
    "cInds <- dCutsD[[j]][[i]]\n",
    "cLInds <- cInds[cInds > l]\n",
    "\n",
    "which(sapply(g[[i]][cLInds - l], length) == 14)\n",
    "rGenes <- g[[i]][cLInds - l][[12767]]\n",
    "rGenes <- gsub(\"\\\\.[0-9]+\", \"\", rGenes)\n",
    "dd <- getBM(attributes=c(\"ensembl_gene_id\", \"family\", \"description\"), filters=\"ensembl_gene_id\", values=rGenes, mart=ensembl)\n",
    "print(dd)\n",
    "\n",
    "which(sapply(g[[i]][cLInds - l], length) == 10)\n",
    "rGenes <- g[[i]][cLInds - l][[8794]]\n",
    "rGenes <- gsub(\"\\\\.[0-9]+\", \"\", rGenes)\n",
    "dd <- getBM(attributes=c(\"ensembl_gene_id\", \"family\", \"description\"), filters=\"ensembl_gene_id\", values=rGenes, mart=ensembl)\n",
    "print(dd)\n"
   ]
  },
  {
   "cell_type": "code",
   "execution_count": 22,
   "id": "f849d4d6",
   "metadata": {},
   "outputs": [
    {
     "data": {
      "text/html": [
       "8069"
      ],
      "text/latex": [
       "8069"
      ],
      "text/markdown": [
       "8069"
      ],
      "text/plain": [
       "[1] 8069"
      ]
     },
     "metadata": {},
     "output_type": "display_data"
    },
    {
     "name": "stdout",
     "output_type": "stream",
     "text": [
      "      ensembl_gene_id          family\n",
      "1  ENSMUSG00000026228       PTHR24247\n",
      "2  ENSMUSG00000032235       PTHR14633\n",
      "3  ENSMUSG00000032235                \n",
      "4  ENSMUSG00000020307  PTHR24067_SF98\n",
      "5  ENSMUSG00000020307                \n",
      "6  ENSMUSG00000021831       PTHR12613\n",
      "7  ENSMUSG00000021831                \n",
      "8  ENSMUSG00000020849       PTHR18860\n",
      "9  ENSMUSG00000020849                \n",
      "10 ENSMUSG00000037353       PTHR14009\n",
      "11 ENSMUSG00000037353                \n",
      "12 ENSMUSG00000029250       PTHR20856\n",
      "13 ENSMUSG00000029250                \n",
      "14 ENSMUSG00000030996       PTHR10339\n",
      "15 ENSMUSG00000030996                \n",
      "16 ENSMUSG00000028277  PTHR24067_SF54\n",
      "17 ENSMUSG00000033382       PTHR12975\n",
      "18 ENSMUSG00000033382                \n",
      "19 ENSMUSG00000034460  PTHR10390_SF22\n",
      "20 ENSMUSG00000029104       PTHR10170\n",
      "21 ENSMUSG00000029104                \n",
      "22 ENSMUSG00000027284        TF601915\n",
      "23 ENSMUSG00000027284                \n",
      "24 ENSMUSG00000026664       PTHR21308\n",
      "25 ENSMUSG00000026664                \n",
      "26 ENSMUSG00000023800 PTHR22826_SF118\n",
      "27 ENSMUSG00000023800                \n",
      "28 ENSMUSG00000024798       PTHR24247\n",
      "29 ENSMUSG00000022779  PTHR11390_SF20\n",
      "30 ENSMUSG00000022779                \n",
      "31 ENSMUSG00000026083  PTHR23115_SF41\n",
      "32 ENSMUSG00000026083                \n",
      "33 ENSMUSG00000034708       PTHR12274\n",
      "34 ENSMUSG00000034708                \n",
      "35 ENSMUSG00000027660   PTHR10005_SF3\n",
      "36 ENSMUSG00000027660                \n",
      "37 ENSMUSG00000034573                \n",
      "38 ENSMUSG00000034573 PTHR19134_SF197\n",
      "39 ENSMUSG00000011256  PTHR11905_SF38\n",
      "40 ENSMUSG00000011256                \n",
      "41 ENSMUSG00000020593  PTHR12181_SF10\n",
      "42 ENSMUSG00000020593                \n",
      "43 ENSMUSG00000097719                \n",
      "44 ENSMUSG00000063659 PTHR11389_SF358\n",
      "45 ENSMUSG00000063659                \n",
      "46 ENSMUSG00000059439       PTHR13268\n",
      "47 ENSMUSG00000059439                \n",
      "48 ENSMUSG00000063888       PTHR11524\n",
      "49 ENSMUSG00000063888                \n",
      "50 ENSMUSG00000098713                \n",
      "51 ENSMUSG00000104268                \n",
      "52 ENSMUSG00000054387       PTHR10360\n",
      "53 ENSMUSG00000054387                \n",
      "54 ENSMUSG00000038429 PTHR24006_SF381\n",
      "55 ENSMUSG00000038429                \n",
      "56 ENSMUSG00000094686       PTHR12015\n",
      "57 ENSMUSG00000057497       PTHR21096\n",
      "58 ENSMUSG00000057497                \n",
      "59 ENSMUSG00000047342                \n",
      "60 ENSMUSG00000047342 PTHR24377_SF217\n",
      "61 ENSMUSG00000071359  PTHR10126_SF13\n",
      "62 ENSMUSG00000071359                \n",
      "63 ENSMUSG00000112505                \n",
      "64 ENSMUSG00000049659       PTHR16156\n",
      "65 ENSMUSG00000049659                \n",
      "66 ENSMUSG00000042606       PTHR15410\n",
      "67 ENSMUSG00000042606                \n",
      "68 ENSMUSG00000094065       PTHR12015\n",
      "69 ENSMUSG00000042350 PTHR11254_SF284\n",
      "70 ENSMUSG00000042350                \n",
      "71 ENSMUSG00000097333 PTHR24377_SF239\n",
      "72 ENSMUSG00000097333       PTHR24384\n",
      "73 ENSMUSG00000083563                \n",
      "74 ENSMUSG00000117714                \n",
      "                                                                                                                      description\n",
      "1                                                  5-hydroxytryptamine (serotonin) receptor 2B [Source:MGI Symbol;Acc:MGI:109323]\n",
      "2                                       interactor of little elongation complex ELL subunit 2 [Source:MGI Symbol;Acc:MGI:2135947]\n",
      "3                                       interactor of little elongation complex ELL subunit 2 [Source:MGI Symbol;Acc:MGI:2135947]\n",
      "4                                                                       cell division cycle 34 [Source:MGI Symbol;Acc:MGI:102657]\n",
      "5                                                                       cell division cycle 34 [Source:MGI Symbol;Acc:MGI:102657]\n",
      "6                                                                   ERO1-like (S. cerevisiae) [Source:MGI Symbol;Acc:MGI:1354385]\n",
      "7                                                                   ERO1-like (S. cerevisiae) [Source:MGI Symbol;Acc:MGI:1354385]\n",
      "8  tyrosine 3-monooxygenase/tryptophan 5-monooxygenase activation protein, epsilon polypeptide [Source:MGI Symbol;Acc:MGI:894689]\n",
      "9  tyrosine 3-monooxygenase/tryptophan 5-monooxygenase activation protein, epsilon polypeptide [Source:MGI Symbol;Acc:MGI:894689]\n",
      "10                                                                  LETM1 domain containing 1 [Source:MGI Symbol;Acc:MGI:1915864]\n",
      "11                                                                  LETM1 domain containing 1 [Source:MGI Symbol;Acc:MGI:1915864]\n",
      "12                                           polymerase (RNA) II (DNA directed) polypeptide B [Source:MGI Symbol;Acc:MGI:2388280]\n",
      "13                                           polymerase (RNA) II (DNA directed) polypeptide B [Source:MGI Symbol;Acc:MGI:2388280]\n",
      "14                                                                    ADP-ribosyltransferase 1 [Source:MGI Symbol;Acc:MGI:107511]\n",
      "15                                                                    ADP-ribosyltransferase 1 [Source:MGI Symbol;Acc:MGI:107511]\n",
      "16                                                         ubiquitin-conjugating enzyme E2J 1 [Source:MGI Symbol;Acc:MGI:1926245]\n",
      "17                                                     trafficking protein particle complex 8 [Source:MGI Symbol;Acc:MGI:2443008]\n",
      "18                                                     trafficking protein particle complex 8 [Source:MGI Symbol;Acc:MGI:2443008]\n",
      "19                                                              sine oculis-related homeobox 4 [Source:MGI Symbol;Acc:MGI:106034]\n",
      "20                                                                                   huntingtin [Source:MGI Symbol;Acc:MGI:96067]\n",
      "21                                                                                   huntingtin [Source:MGI Symbol;Acc:MGI:96067]\n",
      "22                                        congenital dyserythropoietic anemia, type I (human) [Source:MGI Symbol;Acc:MGI:1916218]\n",
      "23                                        congenital dyserythropoietic anemia, type I (human) [Source:MGI Symbol;Acc:MGI:1916218]\n",
      "24                                                                   phytanoyl-CoA hydroxylase [Source:MGI Symbol;Acc:MGI:891978]\n",
      "25                                                                   phytanoyl-CoA hydroxylase [Source:MGI Symbol;Acc:MGI:891978]\n",
      "26                                                  T cell lymphoma invasion and metastasis 2 [Source:MGI Symbol;Acc:MGI:1344338]\n",
      "27                                                  T cell lymphoma invasion and metastasis 2 [Source:MGI Symbol;Acc:MGI:1344338]\n",
      "28                                                   5-hydroxytryptamine (serotonin) receptor 7 [Source:MGI Symbol;Acc:MGI:99841]\n",
      "29                                                               topoisomerase (DNA) III beta [Source:MGI Symbol;Acc:MGI:1333803]\n",
      "30                                                               topoisomerase (DNA) III beta [Source:MGI Symbol;Acc:MGI:1333803]\n",
      "31                                                eukaryotic translation initiation factor 5B [Source:MGI Symbol;Acc:MGI:2441772]\n",
      "32                                                eukaryotic translation initiation factor 5B [Source:MGI Symbol;Acc:MGI:2441772]\n",
      "33                                                                                     granulin [Source:MGI Symbol;Acc:MGI:95832]\n",
      "34                                                                                     granulin [Source:MGI Symbol;Acc:MGI:95832]\n",
      "35                                                                                    SKI-like [Source:MGI Symbol;Acc:MGI:106203]\n",
      "36                                                                                    SKI-like [Source:MGI Symbol;Acc:MGI:106203]\n",
      "37                                          protein tyrosine phosphatase, non-receptor type 13 [Source:MGI Symbol;Acc:MGI:103293]\n",
      "38                                          protein tyrosine phosphatase, non-receptor type 13 [Source:MGI Symbol;Acc:MGI:103293]\n",
      "39                                 a disintegrin and metallopeptidase domain 19 (meltrin beta) [Source:MGI Symbol;Acc:MGI:105377]\n",
      "40                                 a disintegrin and metallopeptidase domain 19 (meltrin beta) [Source:MGI Symbol;Acc:MGI:105377]\n",
      "41                                                                                    lipin 1 [Source:MGI Symbol;Acc:MGI:1891340]\n",
      "42                                                                                    lipin 1 [Source:MGI Symbol;Acc:MGI:1891340]\n",
      "43                                                       ribosomal protein L31, pseudogene 18 [Source:MGI Symbol;Acc:MGI:3644718]\n",
      "44                                                   zinc finger and BTB domain containing 18 [Source:MGI Symbol;Acc:MGI:1353609]\n",
      "45                                                   zinc finger and BTB domain containing 18 [Source:MGI Symbol;Acc:MGI:1353609]\n",
      "46                                                      breast carcinoma amplified sequence 3 [Source:MGI Symbol;Acc:MGI:2385848]\n",
      "47                                                      breast carcinoma amplified sequence 3 [Source:MGI Symbol;Acc:MGI:2385848]\n",
      "48                                                                ribosomal protein L7-like 1 [Source:MGI Symbol;Acc:MGI:1913479]\n",
      "49                                                                ribosomal protein L7-like 1 [Source:MGI Symbol;Acc:MGI:1913479]\n",
      "50                                                         ribosomal protein S2, pseudogene 5 [Source:MGI Symbol;Acc:MGI:3647821]\n",
      "51                                                                      predicted gene, 37750 [Source:MGI Symbol;Acc:MGI:5610978]\n",
      "52                                                  transformed mouse 3T3 cell double minute 4 [Source:MGI Symbol;Acc:MGI:107934]\n",
      "53                                                  transformed mouse 3T3 cell double minute 4 [Source:MGI Symbol;Acc:MGI:107934]\n",
      "54                                            ubiquitin specific peptidase 5 (isopeptidase T) [Source:MGI Symbol;Acc:MGI:1347343]\n",
      "55                                            ubiquitin specific peptidase 5 (isopeptidase T) [Source:MGI Symbol;Acc:MGI:1347343]\n",
      "56                                                  chemokine (C-C motif) ligand 21A (serine) [Source:MGI Symbol;Acc:MGI:1349183]\n",
      "57                                              family with sequence similarity 136, member A [Source:MGI Symbol;Acc:MGI:1913738]\n",
      "58                                              family with sequence similarity 136, member A [Source:MGI Symbol;Acc:MGI:1913738]\n",
      "59                                                                    zinc finger protein 286 [Source:MGI Symbol;Acc:MGI:2384758]\n",
      "60                                                                    zinc finger protein 286 [Source:MGI Symbol;Acc:MGI:2384758]\n",
      "61                                                            TATA box binding protein-like 1 [Source:MGI Symbol;Acc:MGI:1339946]\n",
      "62                                                            TATA box binding protein-like 1 [Source:MGI Symbol;Acc:MGI:1339946]\n",
      "63                                                                      predicted gene, 48610 [Source:MGI Symbol;Acc:MGI:6098196]\n",
      "64                                                                                 aftiphilin [Source:MGI Symbol;Acc:MGI:1923012]\n",
      "65                                                                                 aftiphilin [Source:MGI Symbol;Acc:MGI:1923012]\n",
      "66                                                                 HIRA interacting protein 3 [Source:MGI Symbol;Acc:MGI:2142364]\n",
      "67                                                                 HIRA interacting protein 3 [Source:MGI Symbol;Acc:MGI:2142364]\n",
      "68                                                           chemokine (C-C motif) ligand 21D [Source:MGI Symbol;Acc:MGI:5434896]\n",
      "69                                          apoptosis resistant E3 ubiquitin protein ligase 1 [Source:MGI Symbol;Acc:MGI:1915747]\n",
      "70                                          apoptosis resistant E3 ubiquitin protein ligase 1 [Source:MGI Symbol;Acc:MGI:1915747]\n",
      "71                                                                      zinc finger protein 87 [Source:MGI Symbol;Acc:MGI:107768]\n",
      "72                                                                      zinc finger protein 87 [Source:MGI Symbol;Acc:MGI:107768]\n",
      "73                                                                       predicted gene 13340 [Source:MGI Symbol;Acc:MGI:3650227]\n",
      "74                                                                      predicted gene, 50439 [Source:MGI Symbol;Acc:MGI:6303373]\n"
     ]
    },
    {
     "data": {
      "text/html": [
       "<style>\n",
       ".list-inline {list-style: none; margin:0; padding: 0}\n",
       ".list-inline>li {display: inline-block}\n",
       ".list-inline>li:not(:last-child)::after {content: \"\\00b7\"; padding: 0 .5ex}\n",
       "</style>\n",
       "<ol class=list-inline><li>129</li><li>447</li><li>641</li><li>933</li><li>984</li><li>1445</li><li>1617</li><li>1738</li><li>1976</li><li>2355</li><li>2379</li><li>2609</li><li>2635</li><li>2639</li><li>2710</li><li>2772</li><li>2934</li><li>3068</li><li>3154</li><li>3253</li><li>3320</li><li>3981</li><li>4022</li><li>4029</li><li>4396</li><li>4446</li><li>4499</li><li>4574</li><li>4668</li><li>4784</li><li>4799</li><li>4891</li><li>4991</li><li>5451</li><li>5468</li><li>5577</li><li>5818</li><li>5942</li><li>5972</li><li>5973</li><li>5986</li><li>6091</li><li>6102</li><li>6247</li><li>6406</li><li>6727</li><li>6734</li><li>6938</li><li>7192</li><li>7408</li><li>7540</li><li>7618</li><li>7730</li><li>8141</li><li>8200</li><li>8316</li><li>8487</li><li>8833</li><li>8878</li><li>8908</li><li>8996</li><li>9135</li><li>9398</li><li>9427</li><li>9563</li><li>9584</li><li>9757</li><li>10020</li><li>10156</li><li>10252</li><li>10509</li><li>10725</li><li>10747</li><li>10925</li><li>10963</li><li>11287</li><li>11372</li><li>11393</li><li>11438</li></ol>\n"
      ],
      "text/latex": [
       "\\begin{enumerate*}\n",
       "\\item 129\n",
       "\\item 447\n",
       "\\item 641\n",
       "\\item 933\n",
       "\\item 984\n",
       "\\item 1445\n",
       "\\item 1617\n",
       "\\item 1738\n",
       "\\item 1976\n",
       "\\item 2355\n",
       "\\item 2379\n",
       "\\item 2609\n",
       "\\item 2635\n",
       "\\item 2639\n",
       "\\item 2710\n",
       "\\item 2772\n",
       "\\item 2934\n",
       "\\item 3068\n",
       "\\item 3154\n",
       "\\item 3253\n",
       "\\item 3320\n",
       "\\item 3981\n",
       "\\item 4022\n",
       "\\item 4029\n",
       "\\item 4396\n",
       "\\item 4446\n",
       "\\item 4499\n",
       "\\item 4574\n",
       "\\item 4668\n",
       "\\item 4784\n",
       "\\item 4799\n",
       "\\item 4891\n",
       "\\item 4991\n",
       "\\item 5451\n",
       "\\item 5468\n",
       "\\item 5577\n",
       "\\item 5818\n",
       "\\item 5942\n",
       "\\item 5972\n",
       "\\item 5973\n",
       "\\item 5986\n",
       "\\item 6091\n",
       "\\item 6102\n",
       "\\item 6247\n",
       "\\item 6406\n",
       "\\item 6727\n",
       "\\item 6734\n",
       "\\item 6938\n",
       "\\item 7192\n",
       "\\item 7408\n",
       "\\item 7540\n",
       "\\item 7618\n",
       "\\item 7730\n",
       "\\item 8141\n",
       "\\item 8200\n",
       "\\item 8316\n",
       "\\item 8487\n",
       "\\item 8833\n",
       "\\item 8878\n",
       "\\item 8908\n",
       "\\item 8996\n",
       "\\item 9135\n",
       "\\item 9398\n",
       "\\item 9427\n",
       "\\item 9563\n",
       "\\item 9584\n",
       "\\item 9757\n",
       "\\item 10020\n",
       "\\item 10156\n",
       "\\item 10252\n",
       "\\item 10509\n",
       "\\item 10725\n",
       "\\item 10747\n",
       "\\item 10925\n",
       "\\item 10963\n",
       "\\item 11287\n",
       "\\item 11372\n",
       "\\item 11393\n",
       "\\item 11438\n",
       "\\end{enumerate*}\n"
      ],
      "text/markdown": [
       "1. 129\n",
       "2. 447\n",
       "3. 641\n",
       "4. 933\n",
       "5. 984\n",
       "6. 1445\n",
       "7. 1617\n",
       "8. 1738\n",
       "9. 1976\n",
       "10. 2355\n",
       "11. 2379\n",
       "12. 2609\n",
       "13. 2635\n",
       "14. 2639\n",
       "15. 2710\n",
       "16. 2772\n",
       "17. 2934\n",
       "18. 3068\n",
       "19. 3154\n",
       "20. 3253\n",
       "21. 3320\n",
       "22. 3981\n",
       "23. 4022\n",
       "24. 4029\n",
       "25. 4396\n",
       "26. 4446\n",
       "27. 4499\n",
       "28. 4574\n",
       "29. 4668\n",
       "30. 4784\n",
       "31. 4799\n",
       "32. 4891\n",
       "33. 4991\n",
       "34. 5451\n",
       "35. 5468\n",
       "36. 5577\n",
       "37. 5818\n",
       "38. 5942\n",
       "39. 5972\n",
       "40. 5973\n",
       "41. 5986\n",
       "42. 6091\n",
       "43. 6102\n",
       "44. 6247\n",
       "45. 6406\n",
       "46. 6727\n",
       "47. 6734\n",
       "48. 6938\n",
       "49. 7192\n",
       "50. 7408\n",
       "51. 7540\n",
       "52. 7618\n",
       "53. 7730\n",
       "54. 8141\n",
       "55. 8200\n",
       "56. 8316\n",
       "57. 8487\n",
       "58. 8833\n",
       "59. 8878\n",
       "60. 8908\n",
       "61. 8996\n",
       "62. 9135\n",
       "63. 9398\n",
       "64. 9427\n",
       "65. 9563\n",
       "66. 9584\n",
       "67. 9757\n",
       "68. 10020\n",
       "69. 10156\n",
       "70. 10252\n",
       "71. 10509\n",
       "72. 10725\n",
       "73. 10747\n",
       "74. 10925\n",
       "75. 10963\n",
       "76. 11287\n",
       "77. 11372\n",
       "78. 11393\n",
       "79. 11438\n",
       "\n",
       "\n"
      ],
      "text/plain": [
       " [1]   129   447   641   933   984  1445  1617  1738  1976  2355  2379  2609\n",
       "[13]  2635  2639  2710  2772  2934  3068  3154  3253  3320  3981  4022  4029\n",
       "[25]  4396  4446  4499  4574  4668  4784  4799  4891  4991  5451  5468  5577\n",
       "[37]  5818  5942  5972  5973  5986  6091  6102  6247  6406  6727  6734  6938\n",
       "[49]  7192  7408  7540  7618  7730  8141  8200  8316  8487  8833  8878  8908\n",
       "[61]  8996  9135  9398  9427  9563  9584  9757 10020 10156 10252 10509 10725\n",
       "[73] 10747 10925 10963 11287 11372 11393 11438"
      ]
     },
     "metadata": {},
     "output_type": "display_data"
    },
    {
     "name": "stdout",
     "output_type": "stream",
     "text": [
      "      ensembl_gene_id          family\n",
      "1  ENSMUSG00000021340       PTHR23221\n",
      "2  ENSMUSG00000021340                \n",
      "3  ENSMUSG00000022106                \n",
      "4  ENSMUSG00000022106 PTHR22870_SF122\n",
      "5  ENSMUSG00000026875  PTHR10131_SF29\n",
      "6  ENSMUSG00000026875                \n",
      "7  ENSMUSG00000034108                \n",
      "8  ENSMUSG00000034108  PTHR10003_SF27\n",
      "9  ENSMUSG00000038323       PTHR31296\n",
      "10 ENSMUSG00000038323                \n",
      "11 ENSMUSG00000038324       PTHR31743\n",
      "12 ENSMUSG00000038324                \n",
      "13 ENSMUSG00000044646 PTHR11389_SF361\n",
      "14 ENSMUSG00000062758                \n",
      "15 ENSMUSG00000109963                \n",
      "16 ENSMUSG00000113151                \n",
      "                                                                                                                 description\n",
      "1                                  glycosylphosphatidylinositol specific phospholipase D1 [Source:MGI Symbol;Acc:MGI:106604]\n",
      "2                                  glycosylphosphatidylinositol specific phospholipase D1 [Source:MGI Symbol;Acc:MGI:106604]\n",
      "3  regulator of chromosome condensation (RCC1) and BTB (POZ) domain containing protein 2 [Source:MGI Symbol;Acc:MGI:1917200]\n",
      "4  regulator of chromosome condensation (RCC1) and BTB (POZ) domain containing protein 2 [Source:MGI Symbol;Acc:MGI:1917200]\n",
      "5                                                        TNF receptor-associated factor 1 [Source:MGI Symbol;Acc:MGI:101836]\n",
      "6                                                        TNF receptor-associated factor 1 [Source:MGI Symbol;Acc:MGI:101836]\n",
      "7                                              copper chaperone for superoxide dismutase [Source:MGI Symbol;Acc:MGI:1333783]\n",
      "8                                              copper chaperone for superoxide dismutase [Source:MGI Symbol;Acc:MGI:1333783]\n",
      "9                                                             RIKEN cDNA 1700066M21 gene [Source:MGI Symbol;Acc:MGI:1920717]\n",
      "10                                                            RIKEN cDNA 1700066M21 gene [Source:MGI Symbol;Acc:MGI:1920717]\n",
      "11 transient receptor potential cation channel, subfamily C, member 4 associated protein [Source:MGI Symbol;Acc:MGI:1930751]\n",
      "12 transient receptor potential cation channel, subfamily C, member 4 associated protein [Source:MGI Symbol;Acc:MGI:1930751]\n",
      "13                                              zinc finger and BTB domain containing 7C [Source:MGI Symbol;Acc:MGI:2443302]\n",
      "14                                                            predicted pseudogene 16477 [Source:MGI Symbol;Acc:MGI:3646779]\n",
      "15                                                                  predicted gene 45635 [Source:MGI Symbol;Acc:MGI:5791471]\n",
      "16                                                                 predicted gene, 48690 [Source:MGI Symbol;Acc:MGI:6098319]\n"
     ]
    }
   ],
   "source": [
    "j <- 1\n",
    "i <- 4\n",
    "cInds <- dCutsD[[j]][[i]]\n",
    "cLInds <- cInds[cInds > l]\n",
    "\n",
    "which(sapply(g[[i]][cLInds - l], length) == 43)\n",
    "rGenes <- g[[i]][cLInds - l][[8069]]\n",
    "rGenes <- gsub(\"\\\\.[0-9]+\", \"\", rGenes)\n",
    "dd <- getBM(attributes=c(\"ensembl_gene_id\", \"family\", \"description\"), filters=\"ensembl_gene_id\", values=rGenes, mart=ensembl)\n",
    "print(dd)\n",
    "\n",
    "which(sapply(g[[i]][cLInds - l], length) == 10)\n",
    "rGenes <- g[[i]][cLInds - l][[129]]\n",
    "rGenes <- gsub(\"\\\\.[0-9]+\", \"\", rGenes)\n",
    "dd <- getBM(attributes=c(\"ensembl_gene_id\", \"family\", \"description\"), filters=\"ensembl_gene_id\", values=rGenes, mart=ensembl)\n",
    "print(dd)\n"
   ]
  }
 ],
 "metadata": {
  "kernelspec": {
   "display_name": "R",
   "language": "R",
   "name": "ir"
  },
  "language_info": {
   "codemirror_mode": "r",
   "file_extension": ".r",
   "mimetype": "text/x-r-source",
   "name": "R",
   "pygments_lexer": "r",
   "version": "4.1.1"
  }
 },
 "nbformat": 4,
 "nbformat_minor": 5
}
