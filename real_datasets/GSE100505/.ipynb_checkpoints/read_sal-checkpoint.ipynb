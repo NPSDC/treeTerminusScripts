{
 "cells": [
  {
   "cell_type": "code",
   "execution_count": null,
   "id": "4807aae9",
   "metadata": {},
   "outputs": [
    {
     "name": "stderr",
     "output_type": "stream",
     "text": [
      "importing quantifications\n",
      "\n",
      "reading in files with read_tsv\n",
      "\n",
      "1 \n",
      "2 \n",
      "3 \n",
      "4 \n",
      "5 \n",
      "6 \n",
      "7 \n",
      "8 \n",
      "9 \n",
      "10 \n"
     ]
    }
   ],
   "source": [
    "setwd(\"/fs/cbcb-lab/rob/students/noor/Uncertainity/treeTerminusScripts\")\n",
    "suppressPackageStartupMessages(library(tximeta))\n",
    "suppressPackageStartupMessages(library(SummarizedExperiment))\n",
    "suppressPackageStartupMessages(library(DESeq2))\n",
    "\n",
    "metaData <- read.delim(\"/fs/cbcb-lab/rob/students/noor/Uncertainity/real_datasets/GSE100505/SRR_Acc_List.txt\")\n",
    "quantDir <- \"/fs/cbcb-lab/rob/students/noor/Uncertainity/real_datasets/GSE100505/sal_out/mode_gcbias=True/posttype=gibbs_npost=100_tf=100\"\n",
    "samples <- metaData$RUN\n",
    "files <- file.path(quantDir, samples, \"quant.sf\")\n",
    "colData <- cbind(data.frame(files = files, names = samples), condition = metaData$TissueName)\n",
    "seMuscle <- tximeta::tximeta(colData)"
   ]
  },
  {
   "cell_type": "code",
   "execution_count": 4,
   "id": "896e5047",
   "metadata": {},
   "outputs": [
    {
     "data": {
      "text/html": [
       "<table class=\"dataframe\">\n",
       "<caption>A data.frame: 12 × 3</caption>\n",
       "<thead>\n",
       "\t<tr><th scope=col>files</th><th scope=col>names</th><th scope=col>condition</th></tr>\n",
       "\t<tr><th scope=col>&lt;chr&gt;</th><th scope=col>&lt;chr&gt;</th><th scope=col>&lt;chr&gt;</th></tr>\n",
       "</thead>\n",
       "<tbody>\n",
       "\t<tr><td>/fs/cbcb-lab/rob/students/noor/Uncertainity/real_datasets/GSE100505/sal_out/mode_gcbias=True/posttype=gibbs_npost=100_tf=100/SRR5758624/quant.sf</td><td>SRR5758624</td><td>Atria </td></tr>\n",
       "\t<tr><td>/fs/cbcb-lab/rob/students/noor/Uncertainity/real_datasets/GSE100505/sal_out/mode_gcbias=True/posttype=gibbs_npost=100_tf=100/SRR5758625/quant.sf</td><td>SRR5758625</td><td>Atria </td></tr>\n",
       "\t<tr><td>/fs/cbcb-lab/rob/students/noor/Uncertainity/real_datasets/GSE100505/sal_out/mode_gcbias=True/posttype=gibbs_npost=100_tf=100/SRR5758626/quant.sf</td><td>SRR5758626</td><td>Atria </td></tr>\n",
       "\t<tr><td>/fs/cbcb-lab/rob/students/noor/Uncertainity/real_datasets/GSE100505/sal_out/mode_gcbias=True/posttype=gibbs_npost=100_tf=100/SRR5758627/quant.sf</td><td>SRR5758627</td><td>Atria </td></tr>\n",
       "\t<tr><td>/fs/cbcb-lab/rob/students/noor/Uncertainity/real_datasets/GSE100505/sal_out/mode_gcbias=True/posttype=gibbs_npost=100_tf=100/SRR5758628/quant.sf</td><td>SRR5758628</td><td>Atria </td></tr>\n",
       "\t<tr><td>/fs/cbcb-lab/rob/students/noor/Uncertainity/real_datasets/GSE100505/sal_out/mode_gcbias=True/posttype=gibbs_npost=100_tf=100/SRR5758629/quant.sf</td><td>SRR5758629</td><td>Atria </td></tr>\n",
       "\t<tr><td>/fs/cbcb-lab/rob/students/noor/Uncertainity/real_datasets/GSE100505/sal_out/mode_gcbias=True/posttype=gibbs_npost=100_tf=100/SRR5758707/quant.sf</td><td>SRR5758707</td><td>TA    </td></tr>\n",
       "\t<tr><td>/fs/cbcb-lab/rob/students/noor/Uncertainity/real_datasets/GSE100505/sal_out/mode_gcbias=True/posttype=gibbs_npost=100_tf=100/SRR5758706/quant.sf</td><td>SRR5758706</td><td>TA    </td></tr>\n",
       "\t<tr><td>/fs/cbcb-lab/rob/students/noor/Uncertainity/real_datasets/GSE100505/sal_out/mode_gcbias=True/posttype=gibbs_npost=100_tf=100/SRR5758705/quant.sf</td><td>SRR5758705</td><td>TA    </td></tr>\n",
       "\t<tr><td>/fs/cbcb-lab/rob/students/noor/Uncertainity/real_datasets/GSE100505/sal_out/mode_gcbias=True/posttype=gibbs_npost=100_tf=100/SRR5758704/quant.sf</td><td>SRR5758704</td><td>TA    </td></tr>\n",
       "\t<tr><td>/fs/cbcb-lab/rob/students/noor/Uncertainity/real_datasets/GSE100505/sal_out/mode_gcbias=True/posttype=gibbs_npost=100_tf=100/SRR5758703/quant.sf</td><td>SRR5758703</td><td>TA    </td></tr>\n",
       "\t<tr><td>/fs/cbcb-lab/rob/students/noor/Uncertainity/real_datasets/GSE100505/sal_out/mode_gcbias=True/posttype=gibbs_npost=100_tf=100/SRR5758702/quant.sf</td><td>SRR5758702</td><td>TA    </td></tr>\n",
       "</tbody>\n",
       "</table>\n"
      ],
      "text/latex": [
       "A data.frame: 12 × 3\n",
       "\\begin{tabular}{lll}\n",
       " files & names & condition\\\\\n",
       " <chr> & <chr> & <chr>\\\\\n",
       "\\hline\n",
       "\t /fs/cbcb-lab/rob/students/noor/Uncertainity/real\\_datasets/GSE100505/sal\\_out/mode\\_gcbias=True/posttype=gibbs\\_npost=100\\_tf=100/SRR5758624/quant.sf & SRR5758624 & Atria \\\\\n",
       "\t /fs/cbcb-lab/rob/students/noor/Uncertainity/real\\_datasets/GSE100505/sal\\_out/mode\\_gcbias=True/posttype=gibbs\\_npost=100\\_tf=100/SRR5758625/quant.sf & SRR5758625 & Atria \\\\\n",
       "\t /fs/cbcb-lab/rob/students/noor/Uncertainity/real\\_datasets/GSE100505/sal\\_out/mode\\_gcbias=True/posttype=gibbs\\_npost=100\\_tf=100/SRR5758626/quant.sf & SRR5758626 & Atria \\\\\n",
       "\t /fs/cbcb-lab/rob/students/noor/Uncertainity/real\\_datasets/GSE100505/sal\\_out/mode\\_gcbias=True/posttype=gibbs\\_npost=100\\_tf=100/SRR5758627/quant.sf & SRR5758627 & Atria \\\\\n",
       "\t /fs/cbcb-lab/rob/students/noor/Uncertainity/real\\_datasets/GSE100505/sal\\_out/mode\\_gcbias=True/posttype=gibbs\\_npost=100\\_tf=100/SRR5758628/quant.sf & SRR5758628 & Atria \\\\\n",
       "\t /fs/cbcb-lab/rob/students/noor/Uncertainity/real\\_datasets/GSE100505/sal\\_out/mode\\_gcbias=True/posttype=gibbs\\_npost=100\\_tf=100/SRR5758629/quant.sf & SRR5758629 & Atria \\\\\n",
       "\t /fs/cbcb-lab/rob/students/noor/Uncertainity/real\\_datasets/GSE100505/sal\\_out/mode\\_gcbias=True/posttype=gibbs\\_npost=100\\_tf=100/SRR5758707/quant.sf & SRR5758707 & TA    \\\\\n",
       "\t /fs/cbcb-lab/rob/students/noor/Uncertainity/real\\_datasets/GSE100505/sal\\_out/mode\\_gcbias=True/posttype=gibbs\\_npost=100\\_tf=100/SRR5758706/quant.sf & SRR5758706 & TA    \\\\\n",
       "\t /fs/cbcb-lab/rob/students/noor/Uncertainity/real\\_datasets/GSE100505/sal\\_out/mode\\_gcbias=True/posttype=gibbs\\_npost=100\\_tf=100/SRR5758705/quant.sf & SRR5758705 & TA    \\\\\n",
       "\t /fs/cbcb-lab/rob/students/noor/Uncertainity/real\\_datasets/GSE100505/sal\\_out/mode\\_gcbias=True/posttype=gibbs\\_npost=100\\_tf=100/SRR5758704/quant.sf & SRR5758704 & TA    \\\\\n",
       "\t /fs/cbcb-lab/rob/students/noor/Uncertainity/real\\_datasets/GSE100505/sal\\_out/mode\\_gcbias=True/posttype=gibbs\\_npost=100\\_tf=100/SRR5758703/quant.sf & SRR5758703 & TA    \\\\\n",
       "\t /fs/cbcb-lab/rob/students/noor/Uncertainity/real\\_datasets/GSE100505/sal\\_out/mode\\_gcbias=True/posttype=gibbs\\_npost=100\\_tf=100/SRR5758702/quant.sf & SRR5758702 & TA    \\\\\n",
       "\\end{tabular}\n"
      ],
      "text/markdown": [
       "\n",
       "A data.frame: 12 × 3\n",
       "\n",
       "| files &lt;chr&gt; | names &lt;chr&gt; | condition &lt;chr&gt; |\n",
       "|---|---|---|\n",
       "| /fs/cbcb-lab/rob/students/noor/Uncertainity/real_datasets/GSE100505/sal_out/mode_gcbias=True/posttype=gibbs_npost=100_tf=100/SRR5758624/quant.sf | SRR5758624 | Atria  |\n",
       "| /fs/cbcb-lab/rob/students/noor/Uncertainity/real_datasets/GSE100505/sal_out/mode_gcbias=True/posttype=gibbs_npost=100_tf=100/SRR5758625/quant.sf | SRR5758625 | Atria  |\n",
       "| /fs/cbcb-lab/rob/students/noor/Uncertainity/real_datasets/GSE100505/sal_out/mode_gcbias=True/posttype=gibbs_npost=100_tf=100/SRR5758626/quant.sf | SRR5758626 | Atria  |\n",
       "| /fs/cbcb-lab/rob/students/noor/Uncertainity/real_datasets/GSE100505/sal_out/mode_gcbias=True/posttype=gibbs_npost=100_tf=100/SRR5758627/quant.sf | SRR5758627 | Atria  |\n",
       "| /fs/cbcb-lab/rob/students/noor/Uncertainity/real_datasets/GSE100505/sal_out/mode_gcbias=True/posttype=gibbs_npost=100_tf=100/SRR5758628/quant.sf | SRR5758628 | Atria  |\n",
       "| /fs/cbcb-lab/rob/students/noor/Uncertainity/real_datasets/GSE100505/sal_out/mode_gcbias=True/posttype=gibbs_npost=100_tf=100/SRR5758629/quant.sf | SRR5758629 | Atria  |\n",
       "| /fs/cbcb-lab/rob/students/noor/Uncertainity/real_datasets/GSE100505/sal_out/mode_gcbias=True/posttype=gibbs_npost=100_tf=100/SRR5758707/quant.sf | SRR5758707 | TA     |\n",
       "| /fs/cbcb-lab/rob/students/noor/Uncertainity/real_datasets/GSE100505/sal_out/mode_gcbias=True/posttype=gibbs_npost=100_tf=100/SRR5758706/quant.sf | SRR5758706 | TA     |\n",
       "| /fs/cbcb-lab/rob/students/noor/Uncertainity/real_datasets/GSE100505/sal_out/mode_gcbias=True/posttype=gibbs_npost=100_tf=100/SRR5758705/quant.sf | SRR5758705 | TA     |\n",
       "| /fs/cbcb-lab/rob/students/noor/Uncertainity/real_datasets/GSE100505/sal_out/mode_gcbias=True/posttype=gibbs_npost=100_tf=100/SRR5758704/quant.sf | SRR5758704 | TA     |\n",
       "| /fs/cbcb-lab/rob/students/noor/Uncertainity/real_datasets/GSE100505/sal_out/mode_gcbias=True/posttype=gibbs_npost=100_tf=100/SRR5758703/quant.sf | SRR5758703 | TA     |\n",
       "| /fs/cbcb-lab/rob/students/noor/Uncertainity/real_datasets/GSE100505/sal_out/mode_gcbias=True/posttype=gibbs_npost=100_tf=100/SRR5758702/quant.sf | SRR5758702 | TA     |\n",
       "\n"
      ],
      "text/plain": [
       "   files                                                                                                                                           \n",
       "1  /fs/cbcb-lab/rob/students/noor/Uncertainity/real_datasets/GSE100505/sal_out/mode_gcbias=True/posttype=gibbs_npost=100_tf=100/SRR5758624/quant.sf\n",
       "2  /fs/cbcb-lab/rob/students/noor/Uncertainity/real_datasets/GSE100505/sal_out/mode_gcbias=True/posttype=gibbs_npost=100_tf=100/SRR5758625/quant.sf\n",
       "3  /fs/cbcb-lab/rob/students/noor/Uncertainity/real_datasets/GSE100505/sal_out/mode_gcbias=True/posttype=gibbs_npost=100_tf=100/SRR5758626/quant.sf\n",
       "4  /fs/cbcb-lab/rob/students/noor/Uncertainity/real_datasets/GSE100505/sal_out/mode_gcbias=True/posttype=gibbs_npost=100_tf=100/SRR5758627/quant.sf\n",
       "5  /fs/cbcb-lab/rob/students/noor/Uncertainity/real_datasets/GSE100505/sal_out/mode_gcbias=True/posttype=gibbs_npost=100_tf=100/SRR5758628/quant.sf\n",
       "6  /fs/cbcb-lab/rob/students/noor/Uncertainity/real_datasets/GSE100505/sal_out/mode_gcbias=True/posttype=gibbs_npost=100_tf=100/SRR5758629/quant.sf\n",
       "7  /fs/cbcb-lab/rob/students/noor/Uncertainity/real_datasets/GSE100505/sal_out/mode_gcbias=True/posttype=gibbs_npost=100_tf=100/SRR5758707/quant.sf\n",
       "8  /fs/cbcb-lab/rob/students/noor/Uncertainity/real_datasets/GSE100505/sal_out/mode_gcbias=True/posttype=gibbs_npost=100_tf=100/SRR5758706/quant.sf\n",
       "9  /fs/cbcb-lab/rob/students/noor/Uncertainity/real_datasets/GSE100505/sal_out/mode_gcbias=True/posttype=gibbs_npost=100_tf=100/SRR5758705/quant.sf\n",
       "10 /fs/cbcb-lab/rob/students/noor/Uncertainity/real_datasets/GSE100505/sal_out/mode_gcbias=True/posttype=gibbs_npost=100_tf=100/SRR5758704/quant.sf\n",
       "11 /fs/cbcb-lab/rob/students/noor/Uncertainity/real_datasets/GSE100505/sal_out/mode_gcbias=True/posttype=gibbs_npost=100_tf=100/SRR5758703/quant.sf\n",
       "12 /fs/cbcb-lab/rob/students/noor/Uncertainity/real_datasets/GSE100505/sal_out/mode_gcbias=True/posttype=gibbs_npost=100_tf=100/SRR5758702/quant.sf\n",
       "   names      condition\n",
       "1  SRR5758624 Atria    \n",
       "2  SRR5758625 Atria    \n",
       "3  SRR5758626 Atria    \n",
       "4  SRR5758627 Atria    \n",
       "5  SRR5758628 Atria    \n",
       "6  SRR5758629 Atria    \n",
       "7  SRR5758707 TA       \n",
       "8  SRR5758706 TA       \n",
       "9  SRR5758705 TA       \n",
       "10 SRR5758704 TA       \n",
       "11 SRR5758703 TA       \n",
       "12 SRR5758702 TA       "
      ]
     },
     "metadata": {},
     "output_type": "display_data"
    }
   ],
   "source": [
    "colData"
   ]
  },
  {
   "cell_type": "code",
   "execution_count": null,
   "id": "8c103667",
   "metadata": {},
   "outputs": [],
   "source": []
  }
 ],
 "metadata": {
  "kernelspec": {
   "display_name": "R",
   "language": "R",
   "name": "ir"
  },
  "language_info": {
   "codemirror_mode": "r",
   "file_extension": ".r",
   "mimetype": "text/x-r-source",
   "name": "R",
   "pygments_lexer": "r",
   "version": "4.1.1"
  }
 },
 "nbformat": 4,
 "nbformat_minor": 5
}
