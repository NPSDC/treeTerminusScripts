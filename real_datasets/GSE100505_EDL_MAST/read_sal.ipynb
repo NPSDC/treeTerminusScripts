{
 "cells": [
  {
   "cell_type": "code",
   "execution_count": null,
   "id": "56b20bc1",
   "metadata": {},
   "outputs": [],
   "source": [
    "setwd(\"/fs/cbcb-lab/rob/students/noor/Uncertainity/treeTerminusScripts\")\n",
    "suppressPackageStartupMessages(library(tximeta))\n",
    "suppressPackageStartupMessages(library(SummarizedExperiment))\n",
    "suppressPackageStartupMessages(library(DESeq2))\n",
    "suppressPackageStartupMessages(source(\"tree_helper_function.R\"))\n",
    "metaData <- read.delim(\"/fs/cbcb-lab/rob/students/noor/Uncertainity/real_datasets/GSE100505_EDL_MAST/SRR_Acc_List.txt\")\n",
    "quantDir <- \"/fs/cbcb-lab/rob/students/noor/Uncertainity/real_datasets/GSE100505_EDL_MAST/sal_out/mode_gcbias=True/posttype=gibbs_npost=100_tf=100\"\n",
    "samples <- metaData$RUN\n",
    "files <- file.path(quantDir, samples, \"quant.sf\")\n",
    "colData <- cbind(data.frame(files = files, names = samples), condition = as.factor(metaData$TissueName))\n",
    "\n",
    "seMuscle <- tximeta::tximeta(colData)\n",
    "saveDir <- \"environment/real_datasets/GSE100505_EDL_MAST/mode_gcbias=True/posttype=gibbs_npost=100_tf=100\"\n",
    "save(seMuscle, file=file.path(saveDir, \"seMuscle.RData\"))\n",
    "mapDf <- data.frame(gene = unlist(rowData(seMuscle)[[\"gene_id\"]]), txp=rownames(seMuscle), ind=seq(nrow(seMuscle)))\n",
    "rownames(mapDf) <- mapDf[[\"txp\"]]\n",
    "save(mapDf, file = file=file.path(mapDf, \"mapDf.RData\"))\n",
    "# load(\"environment/real_datasets/GSE100505/mode_gcbias=True/posttype=gibbs_npost=100_tf=100/seMuscle.RData\")"
   ]
  }
 ],
 "metadata": {
  "kernelspec": {
   "display_name": "R",
   "language": "R",
   "name": "ir"
  },
  "language_info": {
   "codemirror_mode": "r",
   "file_extension": ".r",
   "mimetype": "text/x-r-source",
   "name": "R",
   "pygments_lexer": "r",
   "version": "4.1.1"
  }
 },
 "nbformat": 4,
 "nbformat_minor": 5
}
