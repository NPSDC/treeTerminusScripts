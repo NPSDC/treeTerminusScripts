{
 "cells": [
  {
   "cell_type": "code",
   "execution_count": 2,
   "id": "583ceac4",
   "metadata": {},
   "outputs": [
    {
     "name": "stderr",
     "output_type": "stream",
     "text": [
      "'getOption(\"repos\")' replaces Bioconductor standard repositories, see\n",
      "'help(\"repositories\", package = \"BiocManager\")' for details.\n",
      "Replacement repositories:\n",
      "    CRAN: https://cran.r-project.org\n",
      "\n",
      "Bioconductor version 3.17 (BiocManager 1.30.20), R 4.3.0 (2023-04-21)\n",
      "\n",
      "Installing package(s) 'TxDb.Mmusculus.UCSC.mm39.knownGene'\n",
      "\n",
      "Updating HTML index of packages in '.Library'\n",
      "\n",
      "Making 'packages.html' ...\n",
      " done\n",
      "\n"
     ]
    }
   ],
   "source": [
    "BiocManager::install(\"TxDb.Mmusculus.UCSC.mm39.knownGene\")"
   ]
  },
  {
   "cell_type": "code",
   "execution_count": 3,
   "id": "9e1afe76",
   "metadata": {},
   "outputs": [
    {
     "name": "stderr",
     "output_type": "stream",
     "text": [
      "'getOption(\"repos\")' replaces Bioconductor standard repositories, see\n",
      "'help(\"repositories\", package = \"BiocManager\")' for details.\n",
      "Replacement repositories:\n",
      "    CRAN: https://cran.r-project.org\n",
      "\n",
      "Bioconductor version 3.17 (BiocManager 1.30.20), R 4.3.0 (2023-04-21)\n",
      "\n",
      "Installing package(s) 'TxDb.Ptroglodytes.UCSC.panTro4.refGene'\n",
      "\n",
      "Updating HTML index of packages in '.Library'\n",
      "\n",
      "Making 'packages.html' ...\n",
      " done\n",
      "\n"
     ]
    }
   ],
   "source": [
    "BiocManager::install(\"TxDb.Ptroglodytes.UCSC.panTro4.refGene\")\n",
    "txdb <- makeTxDbFromUCSC(\"panTro3\")"
   ]
  },
  {
   "cell_type": "code",
   "execution_count": 5,
   "id": "5587ee2c",
   "metadata": {},
   "outputs": [
    {
     "name": "stderr",
     "output_type": "stream",
     "text": [
      "Loading required package: GenomicFeatures\n",
      "\n",
      "Loading required package: BiocGenerics\n",
      "\n",
      "\n",
      "Attaching package: ‘BiocGenerics’\n",
      "\n",
      "\n",
      "The following objects are masked from ‘package:stats’:\n",
      "\n",
      "    IQR, mad, sd, var, xtabs\n",
      "\n",
      "\n",
      "The following objects are masked from ‘package:base’:\n",
      "\n",
      "    anyDuplicated, aperm, append, as.data.frame, basename, cbind,\n",
      "    colnames, dirname, do.call, duplicated, eval, evalq, Filter, Find,\n",
      "    get, grep, grepl, intersect, is.unsorted, lapply, Map, mapply,\n",
      "    match, mget, order, paste, pmax, pmax.int, pmin, pmin.int,\n",
      "    Position, rank, rbind, Reduce, rownames, sapply, setdiff, sort,\n",
      "    table, tapply, union, unique, unsplit, which.max, which.min\n",
      "\n",
      "\n",
      "Loading required package: S4Vectors\n",
      "\n",
      "Loading required package: stats4\n",
      "\n",
      "\n",
      "Attaching package: ‘S4Vectors’\n",
      "\n",
      "\n",
      "The following object is masked from ‘package:utils’:\n",
      "\n",
      "    findMatches\n",
      "\n",
      "\n",
      "The following objects are masked from ‘package:base’:\n",
      "\n",
      "    expand.grid, I, unname\n",
      "\n",
      "\n",
      "Loading required package: IRanges\n",
      "\n",
      "Loading required package: GenomeInfoDb\n",
      "\n",
      "Loading required package: GenomicRanges\n",
      "\n",
      "Loading required package: AnnotationDbi\n",
      "\n",
      "Loading required package: Biobase\n",
      "\n",
      "Welcome to Bioconductor\n",
      "\n",
      "    Vignettes contain introductory material; view with\n",
      "    'browseVignettes()'. To cite Bioconductor, see\n",
      "    'citation(\"Biobase\")', and for packages 'citation(\"pkgname\")'.\n",
      "\n",
      "\n"
     ]
    }
   ],
   "source": [
    "library(TxDb.Ptroglodytes.UCSC.panTro4.refGene)\n",
    "txdb <- TxDb.Ptroglodytes.UCSC.panTro4.refGene\n",
    "txp <- transcripts(txdb)"
   ]
  },
  {
   "cell_type": "code",
   "execution_count": 10,
   "id": "2522fcb3",
   "metadata": {},
   "outputs": [
    {
     "data": {
      "text/plain": [
       "GRanges object with 2855 ranges and 2 metadata columns:\n",
       "               seqnames            ranges strand |     tx_id      tx_name\n",
       "                  <Rle>         <IRanges>  <Rle> | <integer>  <character>\n",
       "     [1]           chr1   1088702-1088790      + |         1    NR_035706\n",
       "     [2]           chr1   1198010-1202485      + |         2 NM_001009072\n",
       "     [3]           chr1   3558085-3579434      + |         3 NM_001279930\n",
       "     [4]           chr1   7774875-7785313      + |         4 NM_001246583\n",
       "     [5]           chr1 10329196-10428159      + |         5 NM_001204891\n",
       "     ...            ...               ...    ... .       ...          ...\n",
       "  [2851] chrUn_GL393479            1-5659      - |      2851 NM_001302429\n",
       "  [2852] chrUn_GL393483         4737-4873      - |      2852    NR_049211\n",
       "  [2853] chrUn_GL393525       91980-92093      - |      2853    NR_035977\n",
       "  [2854] chrUn_GL395695         1370-1464      - |      2854    NR_035664\n",
       "  [2855] chrUn_GL396896         1007-5214      + |      2855 NM_001009049\n",
       "  -------\n",
       "  seqinfo: 24129 sequences (1 circular) from panTro4 genome"
      ]
     },
     "metadata": {},
     "output_type": "display_data"
    }
   ],
   "source": [
    "txp"
   ]
  },
  {
   "cell_type": "code",
   "execution_count": 7,
   "id": "e65b2a0f",
   "metadata": {},
   "outputs": [],
   "source": [
    "library(TxDb.Mmusculus.UCSC.mm39.knownGene)\n",
    "txdb <- TxDb.Mmusculus.UCSC.mm39.knownGene\n",
    "tM <- transcripts(txdb)"
   ]
  },
  {
   "cell_type": "code",
   "execution_count": 9,
   "id": "bc694122",
   "metadata": {},
   "outputs": [
    {
     "data": {
      "text/plain": [
       "GRanges object with 149443 ranges and 2 metadata columns:\n",
       "                   seqnames          ranges strand |     tx_id\n",
       "                      <Rle>       <IRanges>  <Rle> | <integer>\n",
       "       [1]             chr1 3143476-3144545      + |         1\n",
       "       [2]             chr1 3172239-3172348      + |         2\n",
       "       [3]             chr1 3322980-3323459      + |         3\n",
       "       [4]             chr1 3536810-3583776      + |         4\n",
       "       [5]             chr1 3602018-3602943      + |         5\n",
       "       ...              ...             ...    ... .       ...\n",
       "  [149439] chrUn_GL456381v1     16623-16721      - |    149439\n",
       "  [149440] chrUn_GL456385v1     31243-31343      + |    149440\n",
       "  [149441] chrUn_GL456385v1     32719-32818      + |    149441\n",
       "  [149442] chrUn_JH584304v1     52190-59667      - |    149442\n",
       "  [149443] chrUn_JH584304v1     52691-59690      - |    149443\n",
       "                        tx_name\n",
       "                    <character>\n",
       "       [1] ENSMUST00000193812.2\n",
       "       [2] ENSMUST00000082908.3\n",
       "       [3] ENSMUST00000192857.2\n",
       "       [4] ENSMUST00000161581.2\n",
       "       [5] ENSMUST00000192183.2\n",
       "       ...                  ...\n",
       "  [149439] ENSMUST00020183073.1\n",
       "  [149440] ENSMUST00020182238.1\n",
       "  [149441] ENSMUST00020182428.1\n",
       "  [149442] ENSMUST00000179505.8\n",
       "  [149443] ENSMUST00000178343.2\n",
       "  -------\n",
       "  seqinfo: 61 sequences (1 circular) from mm39 genome"
      ]
     },
     "metadata": {},
     "output_type": "display_data"
    }
   ],
   "source": [
    "tM"
   ]
  },
  {
   "cell_type": "code",
   "execution_count": null,
   "id": "597c76ff",
   "metadata": {},
   "outputs": [],
   "source": [
    "p <- ggtree(x2, aes(color=group)) + theme(legend.position='none') +\n",
    "  scale_color_manual(values=c(\"black\", \"firebrick\")) + geom_tiplab()\n",
    "x2 <- groupClade(x, c(19))\n",
    "\n",
    "gtree:::getSubtree\n"
   ]
  }
 ],
 "metadata": {
  "kernelspec": {
   "display_name": "R",
   "language": "R",
   "name": "ir"
  },
  "language_info": {
   "codemirror_mode": "r",
   "file_extension": ".r",
   "mimetype": "text/x-r-source",
   "name": "R",
   "pygments_lexer": "r",
   "version": "4.3.0"
  }
 },
 "nbformat": 4,
 "nbformat_minor": 5
}
